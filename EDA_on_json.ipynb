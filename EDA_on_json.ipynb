{
 "cells": [
  {
   "cell_type": "markdown",
   "metadata": {},
   "source": [
    "### EDA on .json Text Data"
   ]
  },
  {
   "cell_type": "markdown",
   "metadata": {},
   "source": [
    "#### Importing Necessary Packages"
   ]
  },
  {
   "cell_type": "code",
   "execution_count": 1,
   "metadata": {},
   "outputs": [],
   "source": [
    "import pandas as pd\n",
    "import numpy as np\n",
    "import matplotlib.pyplot as plt\n",
    "import seaborn as sns\n",
    "%matplotlib inline\n",
    "\n",
    "import plotly as py\n",
    "import cufflinks as cf\n",
    "\n",
    "from plotly.offline import iplot\n",
    "\n",
    "import textblob"
   ]
  },
  {
   "cell_type": "code",
   "execution_count": 2,
   "metadata": {},
   "outputs": [
    {
     "data": {
      "text/html": [
       "        <script type=\"text/javascript\">\n",
       "        window.PlotlyConfig = {MathJaxConfig: 'local'};\n",
       "        if (window.MathJax && window.MathJax.Hub && window.MathJax.Hub.Config) {window.MathJax.Hub.Config({SVG: {font: \"STIX-Web\"}});}\n",
       "        if (typeof require !== 'undefined') {\n",
       "        require.undef(\"plotly\");\n",
       "        requirejs.config({\n",
       "            paths: {\n",
       "                'plotly': ['https://cdn.plot.ly/plotly-2.12.1.min']\n",
       "            }\n",
       "        });\n",
       "        require(['plotly'], function(Plotly) {\n",
       "            window._Plotly = Plotly;\n",
       "        });\n",
       "        }\n",
       "        </script>\n",
       "        "
      ]
     },
     "metadata": {},
     "output_type": "display_data"
    },
    {
     "data": {
      "text/html": [
       "        <script type=\"text/javascript\">\n",
       "        window.PlotlyConfig = {MathJaxConfig: 'local'};\n",
       "        if (window.MathJax && window.MathJax.Hub && window.MathJax.Hub.Config) {window.MathJax.Hub.Config({SVG: {font: \"STIX-Web\"}});}\n",
       "        if (typeof require !== 'undefined') {\n",
       "        require.undef(\"plotly\");\n",
       "        requirejs.config({\n",
       "            paths: {\n",
       "                'plotly': ['https://cdn.plot.ly/plotly-2.12.1.min']\n",
       "            }\n",
       "        });\n",
       "        require(['plotly'], function(Plotly) {\n",
       "            window._Plotly = Plotly;\n",
       "        });\n",
       "        }\n",
       "        </script>\n",
       "        "
      ]
     },
     "metadata": {},
     "output_type": "display_data"
    }
   ],
   "source": [
    "py.offline.init_notebook_mode(connected = True)\n",
    "cf.go_offline()"
   ]
  },
  {
   "cell_type": "markdown",
   "metadata": {},
   "source": [
    "#### Data Import & Preliminary Exploration"
   ]
  },
  {
   "cell_type": "code",
   "execution_count": 3,
   "metadata": {},
   "outputs": [
    {
     "data": {
      "text/html": [
       "<div>\n",
       "<style scoped>\n",
       "    .dataframe tbody tr th:only-of-type {\n",
       "        vertical-align: middle;\n",
       "    }\n",
       "\n",
       "    .dataframe tbody tr th {\n",
       "        vertical-align: top;\n",
       "    }\n",
       "\n",
       "    .dataframe thead th {\n",
       "        text-align: right;\n",
       "    }\n",
       "</style>\n",
       "<table border=\"1\" class=\"dataframe\">\n",
       "  <thead>\n",
       "    <tr style=\"text-align: right;\">\n",
       "      <th></th>\n",
       "      <th>text</th>\n",
       "      <th>label</th>\n",
       "    </tr>\n",
       "  </thead>\n",
       "  <tbody>\n",
       "    <tr>\n",
       "      <th>0</th>\n",
       "      <td>The project will make a significant contributi...</td>\n",
       "      <td>1</td>\n",
       "    </tr>\n",
       "    <tr>\n",
       "      <th>1</th>\n",
       "      <td>So in -- first of all, the segments, we are --...</td>\n",
       "      <td>0</td>\n",
       "    </tr>\n",
       "    <tr>\n",
       "      <th>2</th>\n",
       "      <td>Building a smarter and stronger energy grid th...</td>\n",
       "      <td>0</td>\n",
       "    </tr>\n",
       "    <tr>\n",
       "      <th>3</th>\n",
       "      <td>Generally, first of all our Transmission depar...</td>\n",
       "      <td>0</td>\n",
       "    </tr>\n",
       "    <tr>\n",
       "      <th>4</th>\n",
       "      <td>But for the most part, our challenge is showin...</td>\n",
       "      <td>0</td>\n",
       "    </tr>\n",
       "  </tbody>\n",
       "</table>\n",
       "</div>"
      ],
      "text/plain": [
       "                                                text  label\n",
       "0  The project will make a significant contributi...      1\n",
       "1  So in -- first of all, the segments, we are --...      0\n",
       "2  Building a smarter and stronger energy grid th...      0\n",
       "3  Generally, first of all our Transmission depar...      0\n",
       "4  But for the most part, our challenge is showin...      0"
      ]
     },
     "execution_count": 3,
     "metadata": {},
     "output_type": "execute_result"
    }
   ],
   "source": [
    "df = pd.read_json(path_or_buf='train.jsonl', lines=True)\n",
    "df.head()"
   ]
  },
  {
   "cell_type": "code",
   "execution_count": 4,
   "metadata": {},
   "outputs": [
    {
     "name": "stdout",
     "output_type": "stream",
     "text": [
      "<class 'pandas.core.frame.DataFrame'>\n",
      "RangeIndex: 2117 entries, 0 to 2116\n",
      "Data columns (total 2 columns):\n",
      " #   Column  Non-Null Count  Dtype \n",
      "---  ------  --------------  ----- \n",
      " 0   text    2117 non-null   object\n",
      " 1   label   2117 non-null   int64 \n",
      "dtypes: int64(1), object(1)\n",
      "memory usage: 33.2+ KB\n"
     ]
    }
   ],
   "source": [
    "df.info()"
   ]
  },
  {
   "cell_type": "code",
   "execution_count": 5,
   "metadata": {},
   "outputs": [
    {
     "name": "stdout",
     "output_type": "stream",
     "text": [
      "<class 'pandas.core.frame.DataFrame'>\n",
      "RangeIndex: 2117 entries, 0 to 2116\n",
      "Data columns (total 2 columns):\n",
      " #   Column  Non-Null Count  Dtype \n",
      "---  ------  --------------  ----- \n",
      " 0   text    2117 non-null   string\n",
      " 1   label   2117 non-null   int64 \n",
      "dtypes: int64(1), string(1)\n",
      "memory usage: 33.2 KB\n"
     ]
    }
   ],
   "source": [
    "df['text'] = df['text'].astype(\"string\")\n",
    "df.info()"
   ]
  },
  {
   "cell_type": "code",
   "execution_count": 6,
   "metadata": {},
   "outputs": [
    {
     "data": {
      "text/plain": [
       "text     0\n",
       "label    0\n",
       "dtype: int64"
      ]
     },
     "execution_count": 6,
     "metadata": {},
     "output_type": "execute_result"
    }
   ],
   "source": [
    "df.isnull().sum()"
   ]
  },
  {
   "cell_type": "markdown",
   "metadata": {},
   "source": [
    "#### Preprocessing Text"
   ]
  },
  {
   "cell_type": "code",
   "execution_count": 9,
   "metadata": {},
   "outputs": [
    {
     "data": {
      "text/plain": [
       "'The project will make a significant contribution to the German and European hydrogen strategy and hence to achievement of the climate targets. So in -- first of all, the segments, we are -- we are more selective than we were in the past. Building a smarter and stronger energy grid that better serves customers is at the heart of our Advanced Grid Intelligence and Security initiative. Generally, first of all our Transmission department is very busy, both gas and electric transmission, I should say, meeting the needs of our on-network customers. But for the most part, our challenge is showing them how our funds work within the investment themes that they\\'re already seeking. Our ambition is to be the preferred energy company for all stakeholders, and we have a disciplined three-phase strategy to meet that ambition. Our Environmentally Preferable Purchasing Guidelines, which we have formulated to enforce “green” purchasing, apply not only to parts and raw materials but also to packaging materials. Well, Craig, we certainly are very much active in terms of driving the cost of our silicon carbide technology down over the time period. Dow completed expansions of its Louisiana ethylene and Seadrift, Texas, gas-phase polyethylene production facilities, delivering further integration strength to complement the Company\\'s market-focused downstream investments. • And so you want to know what\\'s going on in golf? And they were asked by a very, very large German company to develop the tooling around the concept of this gas injection. Mark, I\\'ll let Jeff give you some thoughts on that question. In this way, it offers all occupants a more comfortable and less tiring ride and enables them to respond quickly to environmental changes. As a global leader in insuring low-carbon technologies, we provide standardized and tailor-made insurance products as part of our Sustainable Solutions (see section 03.4). If you start in the year lower-for-longer and you\\'re looking to the forward curve or around the forward curve type numbers, you\\'d go with, I expect, to have less adjustments during the year. As we continue to accelerate fiber-to-the-home, we\\'ll start seeing OpEx and CapEx costs coming out of the business. Bank ventures in the municipal sector also promote more environmentally friendly services, for example by improving the energy efficiency of district heating or water treatment facilities. So we think that most customers will choose to take advantage of that saving, and we really see it more as a cost savings going forward than a unique ancillary revenue initiative. Average growth has kept pace with gross domestic product (GDP) at between two to three percent per year. Between now and 2020, we will continue to protect water, especially where it is scarce, and use this vital resource in harmony with our business ecosystems and local communities. Lloyd’s Register Quality Assurance Ltd has provided limited assurance for our Net Carbon Footprint assertion for each year from 2016 to 2019. When we look at our Howden business in terms of coal production, they -- power production, they are benefiting from environmentally-driven compliance, particularly in China. The 10 MW lithium-ion ESS captures excess solar energy produced during the day and releases the energy in late afternoon and early evening, when demand is highest. As an example, our VOC products, we\\'re starting that unit up and have very strong expectations that, that unit will fill very rapidly, as Chinese consumers are after environmental quality and health impacts that come with low VOC products. 10% to 12% is kind of where we\\'ve been for the last 3 or 4 years. In fact, we\\'re planning for them to accelerate, and we\\'re going to be implementing the Energy Bill in several steps beginning in the current quarter. As we mentioned in the prepared remarks, we\\'re running well ahead of our Structure to Win goals and now expect to be closer to the $55 million that we committed to the run rate, actually, within the calendar year. One of the ways we delivered valued and generated human capital was issuing a new publication sharing winning strategies for building a sustainable staffing ecosystem. And the cost, again, to go global are a lot less. ENVIRONMENTAL MANAGEMENT CNH Industrial is committed to continuously improving the environmental performance of its production processes, by adopting both conventional and enhanced technologies and by acting responsibly to mitigate their environmental impact. Right now, I think the one that is -- that gives us the most opportunity and the most concern is cyber. I think the important point is that if we were to maintain the production at Antelope, we would have been looking at putting in a $70 million truck shovel fleet, moving the dragline cost considerably less than that. Hydro has also started working on several initiatives to reduce direct CO2 emission in primary aluminium production. We\\'ve ordered 25, and we expect to continue to invest both through acquisition, as well as investment in hydrovacs because the oil sands is growing, and we think the capacity to transport is going to be resolved. We\\'re currently just on the ethane side at about -- recurring 20% to hit that ATEX and get our gas and pipeline spec. The initiatives combine investments with policy dialogue and technical assistance in a highly coordinated manner to increase economic resilience, foster integration and address common global and regional challenges such as climate change. So we\\'ve had a primary focus on helping the OEMs meet their fuel economy/CO2 emissions requirements. Reduce water consumption by 1% in total (128,000 m3) Reduce chemical pollutant (PRTR) release to less than the average level of FY 2012-2014. Based on past LTPS experiences, AUO has invested and constructed the Gen 6 LTPS fab at Kunshan, China, and the fab has begun mass production in 2017. Interesting side note, okay, as of today, I\\'m not saying that\\'s -- that, that we can make this comment in a year from now because I don\\'t know, but we have dropped off our carbon steel processing operations either. So we believe that we are well-positioned going forward to ensure that we have continued supply and, importantly, continued supply at cost competitive levels that support our expanding business model. In accordance with our sustainability strategy, we have already defined a number of indicators and targets relating to climate change. We will do this by setting, disclosing and implementing a strategy with targets; starting with, but not limited to, the energy and power sectors. Moreover, the NEOS company program also incorporated efficiency objectives, the achievement of which contributes to the increase in the recurring EPS. I\\'ll answer the first easy part, and Mark can answer the second harder part. Yes, I won\\'t to comment on exactly where we sell those, other than it was not concentrated only there. But just to summarize, yes, that business is continuing to grow. 1,945 m 2 of photovoltaic panels, which produce 750 MWh a year; Our goal was to get to 10% to 15%, we\\'re there. Ongoing socio-economic and environmental programs Compensation for those affected, the reconstruction of public infrastructure and the relocation of the impacted communities of Bento Rodrigues, Paracatu and Gesteira are key programs under the Framework Agreement. I think in the first half of the year in particular, we\\'re going to try to be as close to cash flow neutral with CapEx as we can. RI, because it\\'s a project-based business and quite lumpy, you\\'ll see certain metrics jump around quarter to quarter. And as I mentioned my remarks, that could put some temporary pressure on the DNI margin. The plant operated under a capacity-based PPA contract with the state-owned entity Power Holding Company of Nigeria (“PHCN”), which expired in November 2014. FINANCIAL RISK MANAGEMENT CONTINUED INTEREST RATE RISK The Company is exposed to interest rate risk from the possibility that changes in interest rates will affect future cash flows or the fair values of its financial instruments. Boy, did that cause some destruction and put some of our good customers down for some time. Greater use of renewables has the added benefit of reducing our carbon footprint, which is one of Gold Fields’ key environmental priorities. As you can see, we continue to make significant progress in deepening and advancing our HBV pipeline, in addition to completing several strategic initiatives to further focus Arbutus\\' resources and activities squarely on this mission. Trucost announced at the beginning of 2015 that the fund was 62% less carbon-intensive than its MSCI benchmark. With the exception of coal combustion residuals (\"CCR\"), the wastes are not usually physically disposed of on our property, but are shipped off site for final disposal, treatment or recycling. And so we feel very well positioned there and are focused more in the senior housing with memory care space than we are in independent living. We continue to see great success out of this product just based on the relaunch of the product, as well as our merchandising and marketing efforts with respect to our FlexFit adjustable base. Energy storage is set to play a key role, and as costs continue to decline, revenues from “load shifting”, frequency response services and capacity markets is strengthening the economic case for battery storage provision. Reduce water consumption and identify opportunities to install water efficient practices; The partnership is an example of how we work with our supply chain to reduce emissions. We advocate for national climate policies that advance the Paris Agreement on Climate Change to limit global temperature increases to well below 2°C, and ideally no more than 1.5°C above pre-industrial levels. Over the past two decades, we have worked to reduce the role coal generation plays in our system, retiring or converting to natural gas approximately 2,500 MW of coal-fueled generation between 2000 and 2018. Environmentally and socially responsible supply chains – Sustainability To meet these challenges, Kering has established a dedicated organization. The average electricity consumption per server operated by the Transformation and Operational Efficiency Department was halved between December 2013 and December 2017 from 0.427kWh/server to 0.214kWh/server. For example, they\\'ve done a fabulous lighting package that has really brought expenses down. It continued with the double-digit growth in COOLIEF, which I\\'m very happy with. The Daiwa Living Companies are also moving into the energy field as a way of expanding their sphere of operations, and hope to harness this toward the goal of providing more comfortable daily lives for rental hous- ing tenants. The first of which was an engine plant expansion, which came in onboard on Q1. These include a loss of jobs at the fossil-fueled plants and in the broader economy, tax payments that support public services, including education, and economic activity that is supported by the plant’s ecosystem. Not -- there is not a silver bullet for what the changes in gross margin will be. In September 2020, BBVA, together with other financial institutions, published a joint methodology to align its credit portfolios with the objectives of the Paris Agreement on climate change. So we are seeing a lot of opportunities there, where we have been designing to electric buses, e-bike chargers and scooters and so on. TOTAL performs sensitivity tests to assess the ability of its asset portfolio to withstand an increase in the price per ton of CO2. And that\\'s honestly most markets in the U.S. So that is a fact that we think there is opportunity for us to bring some tuck-in acquisitions that help us get to our goal of 70% and beyond. And then your second question, on the concession, the growth in the concession per cap in Q4, as has been the case throughout this year, there\\'s really three buckets to that increase. These positions are only included in the liquidity risk calculation after applying conservative discounts. We\\'re committed to making sure that our expenses are flat to last year. They have until January 21 to set new rates, if they choose to take that long. Our thermal power plants Broadly based generation portfolio forms an essential mainstay of the electricity system provide the necessary system services to compensate for the fluctuating feed-in from wind and photovoltaic systems (PV). This COP 20.4 billion investment was also a contribution to the reactivation of the textile industry in our country. Such roads would make allowance for users and their varied means of transport, and would themselves be sources of energy or information. (2) GW of green energy assets reflect 100% generating capacity of each asset, not the proportion owned/managed by Macquarie. CGD S.A. In 2018, CGD set the goal of reducing its total GHG emissions (scope 1 and 2) by 43% by 2021, compared to 2015. This evolution will have a significant impact on the reduction of the company’s carbon footprint. This process is a game changer for our industry, making carbon emissions-free aluminium production a genuine possibility. We advocated for and supported the UK Government’s ban on new petrol and diesel cars and light vehicles from 2030. Under the criteria used by the rating agencies, ratings assigned to Brazilian financial institutions, including Itaú Unibanco, are constrained by the grades assigned to the Brazilian sovereign rating. Well in a -- that\\'s somewhat somber but, nevertheless, realistic sense, something like Remodulin is a luxury good for people with pulmonary hypertension because it is an advanced therapy, it\\'s pricey therapy. Through the creation of value, the Yokogawa Group has the broader aim of benefiting society by addressing environmental and other issues in the industries that it serves. IAG is committed to mitigating the impacts of hazards which have uncertain but potentially highly negative outcomes, on the environment or people, if they occur. Awards In 2017/18, National Grid won UK Business in the Community’s Award for Environmental Leadership in recognition of our work to reduce our carbon footprint during construction. RUSAL submits regular GHG emission reports from its productions to the Russian Meteorological Office to register emissions in the National Cadastre of Anthro- pogenic Emissions from Sources and Absorption by GHG sinks. C and D batteries are performing quite well for us, we\\'re delighted with progress we\\'re making on rebuild of the A battery, and are confident in what will be a good campaign here in 2019. The way we to think about it is we are rolling out our new 65-nanometer low-density products here at the end of Q4 and right through the first half of next year. So they\\'re going to have to ultimately import probably additional soybean oil or palm oil or canola oil or something to feed the people. In terms of new business lines, EDF is aiming to have a portfolio of 1 million off-grid kits by 2030 and is pursuing the development of new markets such as microgrids, smart grids, storage, hydrogen, mobility, smart cities, etc., Strategy remains the same, really, for any of these issues that are in front of us; and that is to represent the interest of our customers, to provide the cleanest, most reliable most economically sensible product available. In 2019, a requirement for farms to allow soil regeneration was added to the Standards. Overseas, electric power, Purchased heat energy Japan, renewable energy 3 4 Annual Trend in heavy Water Usage and Discharge as Waste Japan, gas* Japan, oil, etc.* Disposals On 18 December 2020, the Group completed the sale of a 12% interest in the Grosvenor mine (Metallurgical Coal) for $0.2 billion, equalising the ownership across its integrated operations at Moranbah North and Grosvenor. There is several -- there is like 2 OFS that are basically 100% electric, and they use our pumps. Achieving this aim will provide the Group with an attractive portfolio to respond to the growing customer demand for battery-electric and plug-in hybrid vehicles. The CO2 savings achieved in recent years have proved to be much larger than expected. We may need to more actively show stakeholders the extent to which Konica Minolta was able to grow based on these initiatives. By being environmentally and socially responsible, the Group will continue on its path to achieving excellence and innovative goals. We continue to minimise the environmental impacts of our packaging following our 3 Rs principle: Indeed it is the public sector which has increased its debt. And we\\'ve said in the past, 80% to 85%, I would say we\\'re at 85% or slightly more that would burn in the next 12 months, with only a little bit of it going beyond that. Sao Paulo state does not have a good potential for wind power and also only a small remaining potential for hydro projects, directing the new increase in the state for thermal capacity. Again, offering them better energy efficiency and space savings or other functions on the board. We are developing new solutions that meet increasing customer demand for 24/7 renewable power and greater energy efficiency. So you don\\'t have -- even though there may be more inflation out in the market, the PPI is getting closer to reality at least. The cumulative CO2 emission reduction per unit of measure compared to 2010 reached 14% at the end of 2015. We saw that because restriction in cash withdrawal from banks and from ATMs were instituted as the government tried to catch up with the demand for cash with the new notes that they were printing. NIB reports on the impact of the projects that are financed by the proceeds of NIB Environmental Bonds on an annual basis. However, following on from our work with the universities, we will be testing bio-based and recycled plastic films for secondary and tertiary packaging in several markets during 2020. But truly, when you look at Justice, you\\'ve got to look at it for two years. For many years to come oil and gas features in the energy mix in the IPCC’s suite of Paris-consistent scenarios, albeit progressively decarbonized and ultimately offset; the exact trajectory for oil and for gas varies from scenario to scenario. To operate our green CHP plants even more efficiently, we are rolling out a comprehensive digitalisation programme at our power stations, allowing us to further optimise generation and reduce costs. A number of the cost reductions outside labor relate to, for example, large infrastructure plays are moved to the cloud as we move out of our owned data farms. Our featured innovations included the washing machine with a synthetic microfiber filtration system that filters microfibers which enter into the oceans and seas, at a rate above 90%; In connection with our plans to launch flights to London in 2021, we amended our purchase agreement with Airbus in April 2019 to convert 13 Airbus A321neo deliveries into A321 Long Range (“A321LR”) deliveries. Examples of how our safe and sustainable products offer alternatives to fossil materials are shown on the right. > Invest 90% of CAPEX in low carbon activities according to the European taxonomy of sustainable activities5. We\\'re adding what we said CNX Gas was going to do and then what Dominion was going to do on a prorated basis. Well, we\\'re in the market right now with America XII, so I\\'d expect that we\\'re raising capital over the course of the next 12 months plus. The exploration success is in line with Eni’s exploration strategy of focusing on near- field incremental activities, leveraging on the synergies with existing facilities, reducing the time-to-market and providing for additional gas to the local market and export. For coal combustion byproduct, which includes coal ash, we expect regulations to be final by the first quarter of next year. The aim of the acquisition is to expand the range of polycarbonate materials for major industries to include composites made from continuous fiber-reinforced thermoplastics. They can handle highly-seasonal electricity use, guarantee a secure supply and mitigate intermittent renewable energy input into electrical systems that cannot be switched to imports in case of peak demand or production issues. This, in turn, has meant that the wind power industry has become more and more competitive when compared to other energy sources and today, wind finds itself able to compete with the likes of coal and gas. No, Paul, they\\'ve continued to expand their position there and continue to acquire acreage in the second quarter. In addition, GHG emissions from material and fuel procurement totaled 6.15 million tons, of which the procurement of energy sources accounted for nearly 90%. In addition, the Company positions initiatives for Based Targets initiative, an international initiative to keep global temperature increase below 2 degrees Celsius compared to pre-industrial revolution in order to transition to the low-carbon economy, and then obtained approval. TOTO Group conducts corporate activities with the aim of continuing to contribute to society and to the earth’s environment. The site is also eligible for renewable incentives, which, when combined with the power savings and income from the exported power, are worth over £2 million. Further information on Shell’s contribution to COVID-19 relief efforts will be published in the Shell Sustainability Report in April 2021. Appendix 73 Why Climate change and the transition to a low-carbon society can have a significant impact on our business. Renamed the CSR Report in 2010, the annual publication serves as a vital medium designed to communicate Minebea’s CSR and environmental policies as well as related activities. We have already begun shipping under these contracts, and anticipate ramping up to 100,000 barrels per day through 2019. Many of Uniper’s power plants also produce heat for district-heating systems as well as process steam, compressed air, and other services for nearby industrial enterprises. India will lead China in terms of market growth because the demand for coal in India’s power production sector will rise exponentially while local coal production cannot meet the demand. In January 2012, we concluded an LNG sales and purchase agreement with the Ichthys LNG Project, in which we also acquired our first upstream equity interest. Toyota Industries works with consolidated subsidiaries in and outside Japan to promote environmental activities on a global scale. Dave spoke about some of the advantages that we\\'ve got particularly with our low VOC. We had reevaluated our growth expectations for the transportation industry in 2012, and had talked about roughly a 4% penetration of EV vehicles really of all types, EVs, HEVs, PHEVs in the transportation sector by 2020. We have taken actions to reduce our exposure to lower power prices, by exiting the majority of our merchant generation and pursuing long-term contracts for our future growth projects. We discontinued the use of a coal-fired power plant at Kennecott and are also working to reduce our environmental footprint at both of our diamonds operations. We were able to achieve this by reducing our overall water consumption needs, reutilising our pit waters and increasing the sourcing of water from our saline aquifers. I think the card industry underestimated, when it kind of rushed back into the market, underestimated how weak the demand was. ALD Automotive supports its corporate clients by providing eco-friendly fleets and mobility solutions whether it be to reduce fleet emissions, improve safety on the road or promote new mobility solutions. We promote environmental conservation worldwide and work together to reduce environmental loads by conducting eco- friendly development, design, production and logistics. With the new structure, the Group, centered on the holding company, is aggressively developing business activities and aiming to fulfill its unifying mission of safe and reliable energy supply, and contribute to society. In addition, Nikon aims that its Science Based Targets will be validated, an international initiative that encourages com- panies to set science-based targets with the aim of keeping the average global temperature increase from pre-industrial times below 2°C. As you know, we\\'re a synthetic drug, and we\\'re not metabolized, but we are renally excreted. 1,3-BAC easy to use, and its fast curing speed reduces the environmental impact of the production process. Well, I would guess that at this point, something like 75% or 80% of our revenue and backlog is industrial gas-related non-LNG. Our aim is to be a responsible corporate citizen, fully aware of the impact we have on our stakeholders, society as a whole, and environment. 8 Annual Report 2020 Business description 65 In addition to the hydropower plants, we also operate Tonstad Windfarm (208 MW/0.7 TWh), from which we purchase all volumes as produced, balancing and optimizing production against our own hydropower production. This 100% Renault motor de- signed by the engineers at the Technocentre is manufactured at the Cléon plant. For high yield, the call is for $285 billion of issuance, flat to up 10% from \\'17. But you\\'re certainly not going to see it grow above 3%, and you\\'ve seen us come in pretty flat in the last 2 years well below the 3% target we set. Prajwala- Sanitation (Madhya Pradesh) This programme is an extension of Project Prajwala in 200+ KGBVs of Madhya Pradesh. I would say we do still have a robust pipeline of energy efficiency opportunities and so I think there are -- there is a strong pipeline there that gives us confidence that we will win additional new contracts. The HealthCare divisions maintain their own active dialogue with their specific customer groups. To this end, we will continue making strategic investments in high-purity liquefied hydrogen chloride to adequately address rising demand from the semiconductor sector, mainly in East Asia. Increasingly so, farmers and producers across the globe are leveraging digital technologies to efficiently manage their operations and to harness valuable data insights in order to optimize production and output. Companies’ climate strategy such as ambitious decarbonisation targets are also outside the scope of the model. However, these efforts could not offset the substantial rise in thermal power fuel costs and other costs arising from the suspension of our nuclear plants. Under the Strategic Plan 2018-2022, the company continues to optimise the businesses through additional efciency measures, with the commitment to cut annual operating expenses by Euros 500 million in 2022. We will work to attain sustainable growth based on our Long-term Strategic Vision and our medium-term corporate strategy, which is designed to realize the vision. Since 2019, we have also piloted a waste traceabil- ity app to optimize waste management and promote the circular economy in the vicinity. It also then puts us on a transition path to getting towards our pyro-hemi shoulder, which is a few years after that. And over time, our goal is to expand the test menu and to have the potential with collaborators to reach patients in the home. The minimum requirements are de- signed to ensure that institutions always hold sufficient liabilities so that they can use the bail-in tool if there is a threat to their continued existence as a going concern. —— We will design our future assets with electric heating systems so we can move away from gas consumption and reduce our impact on London air quality. That in and of itself reduces the available clean corn to our ethanol facilities. Carbon footprint To determine greenhouse gas emissions throughout the entire value chain, including indirect emissions produced by third parties upstream and downstream of group activities. • Continual reduction of the amount of GHG emissions through steady implementation of Science Based Targets and the Environmental Action Plan. So the 600,000 tons includes a decent amount of thermal coal that the previous owner was taking out of the mines. CSR Department) The Environmental Management Committee promotes environment-friendly and balanced management which contributes to sustainable society throughout its overall corporate activities. But what I will say is over the past 12 months, we\\'ve achieved about a 50% reduction in per foot drilling costs and a 30% reduction in per stage completion costs. That may not be an indication of client demand by the way, it could be an indication of efficiencies of management and the engagement. HFCs, PFCs and SF6 are almost absent from the Group’s emissions or are considered as non-material, and are therefore no longer counted in 2018. I\\'m not going to give the specific details, but the \\'10 savings are within the $180 million to $200 million cumulative goal that we have for 2010. These power plants are to be closed by 2025, according to the decisions of the UK government. ( SDG 15 For instance, energy-saving initiatives and improvements to our buildings helped us to cut our power consumption by around 137 GWh in 2020 – enough to satisfy the annual electricity needs of over 34,000 private households. La Ruche, Guerlain’s new skincare and make-up manufac- turing facility, is supporting the brand’s expansion and showcasing its environmental and social engagement. Emirates which will have a capacity to produce 909,000 m3 of water per day. Recla- Boliden Annual Report 201548 Environment mation and soil conservation work are conducted in parallel with operations. Embedding sustainability in innovation Borealis does not just make raw materials. So as we did that analysis, it broadened the number of prospective markets for us. By optimising CO2 washing in ammonia production, Borealis Linz reduced its annual electricity consumption by 13.3 GWh, equivalent to the consumption of more than 1,000 households. It actually is about 40% less radioactive than uranium ore that comes out of the ground, because it\\'s had the U-235 or the more reactive component removed. And Catalent strategy certainly has been to remain focused on the 5,000-liter or less, where we can make some very reasonable CapEx investments and get significant growth as we\\'ve seen in our Madison facility. And we worked pretty hard getting our leverage down to a much more manageable level. 2020 Performance: 2020 production was 100.3 MMboe representing Woodside’s highest-ever annual production, exceeding the 100 MMboe internal target. The forests witness an increase in biodiversity as AC Energy and its wind farms, North Luzon Renewables and NorthWind, with the help of the locals, create an ecologically diverse landscape. Given the current trajectory of global emissions, successfully achieving the 2050 target requires interim goals and plans for meaningful action by a range of stakeholders. As part of the \"Coup de Pouce Chauffage\" (3) scheme, EDF launched in January 2019 its \"Mon chauffage durable\" offer, to finance replacing ageing heating systems by more efficient ones. In the U.S., to date, stop-start engine technology has saved GM customers 293 million gallons of fuel and 2.61 million metric tons of CO2 emissions over the lifetime operation of their vehicles. So we do like to keep that married to an extent. Our latest set of Shell scenarios was one of the many variables used in guiding the updated strategy which we announced in February 2021. The Chinese group, the world’s largest electric energy company, is our majority shareholder and is the driver behind the integration of the most advanced technologies in the electric sector, which boosts the operational efficiency of all businesses. This enables Airbus to measure its environmental impact, follow its performance and communicate information on environmental matters to internal and external stakeholders. This program notably aims at assessing opportunities to integrate low carbon footprint components into the Group’s formulations while improving the recyclability of used products. Our controllers are capable of supporting both 12-volt and 48-volt topology, and the design wins that we have are from both flavors. So we tried to take that impact out of the -- that was related to 2017 out of the margin, just to give a more normalized rate, which would have been that 3.70%. In 2017, the group ran a Green Light Card campaign, through which it distrib- uted reflective cards for kids’ backpacks to reduce the risk of car accidents. \\ue031 Diversification of Resource Suppliers Currently, Tokyo Gas has long-term procurement agreements to import LNG from 10 projects in five countries. It is quite remarkable that our “smart phones” use much more sophisticated energy efficiency algorithms than our homes or buildings, while using a very small fraction of the electricity that our real estate infrastructure consumes. So I think our view on China for \\'13 is good. Only selected upstream emissions are measured directly and hence included in our corporate target. And in the fourth quarter, we could have a fourth quarter weather pattern exactly the same way as we did last year. Our operating oil sands assets and two of our natural gas processing facilities are subject to the CCIR and are therefore exempt from the Alberta carbon levy. This is interesting because what we heard was basically this was a revenue measure more than having -- because of the -- it\\'s not extensive to all sources of CO2. Our emphasis remains on our philosophy of ‘Zero Harm, Zero Waste and Zero Discharge’. We had commented -- in the prepared remarks, I think that you\\'ll see it -- I think the comment, the characterization was that would largely be gone at this point. And quite frankly, it\\'s stronger just because market size, sales quality, new products, et cetera. But because of the type 2 diabetes program that we are co-funding, that will be -- a large portion of that cost will be incurred this year. The coal plant is one that we\\'ve been working on for a number of years and we\\'re proud of where we\\'ve come with regard to the coal plant as we try to point out. Turnarounds at the NRC and GWA offshore platforms were completed ahead of schedule and enabled additional production due to alignment with a planned KGP Train 4 turnaround. We are going ahead with our 70,000 barrel a day crude -- light crude unit at Corpus and our 90,000 barrel a day crude unit in Houston. We also increased the amount of coal we have hedged and as you saw a little bit of fuel surcharge, so frankly all three of those things would have gone into the mix. I mean, for us, it\\'s probably stepping down modestly, and part of that\\'s because we have been taken corrective action pricing to some extent, that\\'s behind us at least with a certain number of our account base. With Ubleam, which specializes in the Internet of Things, Air Liquide is co-developing in particular a tagging technology that transforms gas cylinders into connected objects. We still have work to do to get our inventory full in line with our comp expectations. Such group-wide structural reform significantly improved the profit margins of Information & Communication and Material Solutions. Subsequently, the new NPDES permit was received in 2017 and new WTP design will re-commence in 2018. Our Systems business posted impressive figures in 2014, both in terms of sales growth and profitability. With a length of 2.7 kilometres, the bridge is the second longest railway bridge in Germany, and is part of the largest railway project under the “German Unification Transportation Projects” programme. Sure, so you can see our aim is to be operating the business below our 3x debt leverage. We are working on plans to plant saplings across 20 hectares of land over the course of 10 years. And so you remember, our Northeast Wattenberg position is plus or minus 50% on oil cut, and the Hereford is plus or minus an 80% oil cut. Latin America is okay, it\\'s going to be stronger in the second half than the first half. I think we\\'ve got -- the last couple of years, we\\'ve got a really good game plan in place on Charcoal. We have been meeting those expectations each year – and even reaching our cash cost reduction target a year early. I mean, we\\'ve moved through the Easter period where there generally tends to be a softness in relation to the overall market. Repeatedly carrying out this process has resulted in our Satisfaction DI* improv- ing from 40% in the year ended March 2014 to 47% in the year ended March 2016. Yes, we still believe that we will have some year-over-year growth in land spend. As far as the inflation, the passive inflation, we\\'re able to do it mostly on regular retails. We believe in acting responsibly and sustainably in all areas of our business and work to make a difference in areas as diverse as environmental impact, diversity, affordability, mental health and wellbeing. They were designed specifically to initiate on-ground action towards conservation of environment, in line with the Green Good Deeds Campaign, spearheaded by the Ministry of Environment, Forests and Climate Change, Government of India. The baseline is an estimate, as client or asset level emissions data is currently not available in all cases and where appropriate, we have used internal and external data and proxies to fill these data gaps. The GM&T World Business Unit invests in biomethane production units and develops stations for distributing Natural bio-Gas for Vehicles and hydrogen to support clean mobility and in particular the deployment of hydrogen energy. In addition, it is also an import- ant measure against global warming because it does not emit CO2 when generating. The tax rate was 38.44% for the third quarter because we had to do a little catching up, right? Energy G4-DMA We are constantly seeking to increase the en- ergy efficiency of our production processes with- in our business and to expand the use of renew- able resources in our energy mix. In 2018, UOB was appointed the co-lead arranger for Sinar Kamiri’s Green Sustainable and Responsible Investment (SRI) Sukuk Wakalah fundraising exercise of up to RM245.0 million. And for us, the biggest impact is on our brass products for those who are curved stop and a number of smaller products. The Quantitative Strategies (IQS) team, in collaboration with the Global ESG team, designed a low-carbon portfolio that incorporated the desired carbon reduction targets, while keeping minimal distance to the UK capitalisation-weighted market benchmark. MARKET Our marketing and trading strategy is to build a diverse customer portfolio and pursue additional sales agreements, underpinned by reliable domestic gas and LNG production and supplemented by globally sourced volumes. This is the one area, Julie, that it could just dry up and we could see that drop off. By building and operating new hydrogen refueling stations, we will also promote the diffusion of fuel cell vehicles with the aim of realizing a hydrogen society. The USD 2.7 billion investment will raise our pulp production capacity by more than 50% and significantly contribute to future earnings. In addition to the main island of Okinawa, we have established independent internal combustion power-generating facilities in 10 remote islands including Ishigaki and Miyako islands. And 5% finally on the grid in U.S. in August and the ceilings was effective in August. Planning for these works includes ensuring that the cooling infrastructure meets potential future needs in a climate change impacted future. I think everybody\\'s pretty clear on trying to do coal in the U.S. without the CO2 solution. For 145 years, Rio Tinto has been pioneering the production of materials essential to human progress. By Scope category, Scope 3 carbon emissions account for twice those of Scope 1 and 2. The mix was moderately positive at about $4 million and price was $56 million for the quarter and then, of course, our fuel was up $65 million quarter-over-quarter. Yes, I don\\'t know it will be quite as strong with the second quarter, Laurence, but I think we did see some [shifting]. I mean I think one is obviously, performance, in the last couple of quarters in particular this quarter, across pretty much all the vectors, right? That\\'s something that we\\'re going to continue to optimize over the course of the year with these cost reductions as well as just obviously, optimizing in general what we tend to do. Honda had been the only previous company that allowed more of it, made production vehicles consuming natural gas, so this is, I think, a big step forward. Forward foreign exchange contracts are used purely as a hedging tool, where an active market for the relevant currency exists, to minimise the Group’s exposure to movements in exchange rates on firm commitments and specific transactions. Anyone who owns their own home does not necessarily have to feed the solar electricity generated on the roof into the grid today as they did before. Knowing this will allow us to effectively mitigate some of the risks associated with a changing climate and potentially take advantage of the opportunities, from both a pricing, business planning and capital management perspective. But I would say that with our primary focus this year being on delevering, we\\'re not really looking actively to put new cash to work hard or to acquire additional assets with debt. As we look towards 2019 with more synergies coming on and continuing to drive that business, we do expect it to be accretive in future years. Natural gas, when burned, emits carbon dioxide and is considered a greenhouse gas. We expect sales volume to reach record-high levels due to growing sales of EN-compliant batteries for new vehicles as well as new and replacement lead-acid batteries for start and stop vehicles, which are highly profitable products. But if you remember, way back in the 2000 Energy Law, when that went through, we increased the capacity coming to the state, I think, to 5,000 megawatts, as I recall. In December 2019, we signed an agreement to divest our LNG business, and we expect that the transaction will close during the summer of 2020. IAG’s input into sustainability policies continued, including the IAG Chief Executive Officer’s engagement with European Commissioners through A4E, and British Airways’ as a member of the UK’s Jet Zero Council. Our manufacturing facilities, spread across two continents, maintain the highest ecological standards while meeting business objectives, helping create a sustainable tomorrow. In this regard, we are closely involved in the National Renovation Platform (NRP) and our New Our sustainability programme, SST, specifically presents carbon emissions reduction as an important aspect of addressing climate change. En+ Group is a member of the Climate Partnership of Russia, which was created on the eve of the 21st United Nations Climate Change Conference, COP21, to consolidate Russian businesses’ efforts to reduce environmental impacts. And it will generate busi- ness throughout each building’s life cycle and upgrading to make buildings more energy efficient. An important aspect of achieving this involves taking an integrated ESG approach to addressing climate change. We have created environmental panels that summarize our aspirations and an action plan in order to raise employees’ awareness concerning the environment and communicate our approach to outside parties. We\\'re also bringing a very important production center online, so that\\'s a major focus of the management team in over the next 12 months or so. And with our 2 big hydrocrackers that get finished this year, we\\'ll be up to 39%, 40% distillate. We will continue to adjust the shape of our portfolio to match energy and commodity demand and meet society’s expectations while maximising shareholder returns. The Executive Board approves carbon-related goals as part of the Sustainability Strategy and the Health, Safety, Security, and Environment (HSSE) Strategy, which reflects climate change targets, such as zero routine flaring by 2030. Both our Decorative Paints and Performance Coatings businesses are contributing to this continued reduction of VOC content. • Increased opportunities for low emissions firming capacity including over 2 GW of utility-scale battery capacity. There\\'s not one margin that\\'s really that much different than the others. Now that, that has been resolved, what we\\'re saying is that the end market is softer than we had anticipated when we set the range upfront, and that\\'s pulled down the overall size of the market. We are on schedule, and we continue to actually run a little bit ahead of schedule in certain areas in our production build that. Overall, water usage for processing, cooling and consumption in our thermal power stations was 1,486 megalitres. “contribute to the development of our communities and help to ensure a vibrant future through creation and innovation in energy, natural resources, and materials.” But I think the basic commitment to the FinFET conversion, first wave and then the pilot investments in 10-nanometer are there. While remaining sensitive to social needs, the company makes constant efforts to en- hance efficiency at its premises and in its products in order to protect the environment. Hydro is continuously working to increase sustainability through reducing material loss and increasing internal reuse and recycling. Repsol customers can offset the CO2 emissions from their fuel consumption by supporting forestry projects. Environmentally Conscious Distribution Policies Toray’s Basic Distribution Policies emphasize environmental preservation, together with fair and equitable transactions. The department also engaged consultants to undertake a desktop analysis (based on publicly available information) examining the preparedness of local governments to adapt to climate change and the impact on their governance and operational business areas. And the other thing is in this kind of an environment, in some instances, our clients were not able to win the deals that we were advising them on just based on the climate. The IOOF Group focuses on the environmental effects of its premises, investment manager policies and business processes in order to implement ways to minimise those effects. Our expectation is we\\'re going to be primarily out of BPA by the end of \\'17. We will do so by soliciting bids for construction of thermal power supply projects to strengthen our power supply competitiveness; The Little River has experienced problems with water quality, resulting in high concentrations of total dissolved solids in the intake water and requiring the plant to curtail load or use water from back-up water supply ponds. The session on zero waste living was aimed at spreading awareness on; Minimising food waste, ditching plastic packaging, eliminating disposable paper products, avoiding plastic bags, compostable items, separating your waste and recycling everything you can. We fulfil part of the local content obligations by investing in harbour infrastructure, thereby also securing critical harbour capacity for staging and load- out of wind turbines. 2 oven that will almost deliver as good as a pizza as coming out from the white wood fire open from our Beech Over. I mean, look, selling, as I\\'ve always said, selling these lower quality assets is an adventure. So if you look at our full year -- at our full all-in share count, the result of the convert is going to reduce it by about 2.176 million shares. Furthermore, the Paris Agreement was reached in December 2015 at the twenty-first session of the Conference of the Parties to the United Nations Framework Convention on Climate Change (COP21). I mean last year, we started off with a very high cash position, so that allowed us to buy back a little more. But on your first question where you were wondering how many megawatts of CITC we would have in 2014, I\\'d say roughly between 200 and 215 megawatts and it\\'s all solar at that point. So the plant has shrunk quite a bit over the last several years, will be consolidated into, let\\'s say, hybrid automotive/industrial plant and obviously, the reduction of overhead that\\'s associated with that. We can handle two types of brass, they can only handle one, and that\\'s why they pulled out the other type in their foundry. We want to be a reference in the development of new and enhanced business operational solutions, more digital and able to increase the sustainability productivity of the projects. Another example that, of a couple of assignments in the last few months that we\\'re helping climates on, is as you think about who owns the consumer in an organization, how do you manage that? Mr. Talwar was instrumental for shifting all commercial vehicles in Delhi to CNG and was associated for unprecedented increase in port capacities in India mainly through private sector investment and ploughing back of pro ts. The downward revisions reflect an expectation that the aftermath of the COVID-19 pandemic will accelerate the pace of transition to a lower carbon economy and energy system. New Zealand’s Waiuku Wastewater Treatment Plant uses Melter Drainage Aggregate and has been demonstrated to remove 77 per cent of the total phosphorous in the wastewater. The divest- ment considerably reduces our CO2 emissions as well as our emissions of NOx and SO2. Our objective is to make sure our employees, our associates, end up with a really good compensation package and we end up with a cost structure that makes us competitive. Through various measures to reduce our raw material and energy requirements, the emission of greenhouse gases asso- ciated with producing the raw materials was decreased by a total of around 155,000 metric tons in 2016. Delta has a long-term commitment to environmental protection through its corporate mission “To provide innovative, clean and energy-efficient solutions for a better tomorrow”. And in vinyl, we went out on February 1 with a 3% to 5% vinyl siding and metal on March 15 with a 2% to 4%. We started out thinking that this -- we would do this organic and inorganic growth in the TiO2 segment and that was pretty much of our exclusive focus. To implement the strategic plan, the Company still maintains investment in power plants with high efficiency and low emissions (HELE) as well as investment in renewable energy. In 2015, we started operation of our second factory in India, located in the southern city of Sri, and plan to build a third factory in the west of the country. Our experience is now quite extensive, and I think it provides us some opportunities, perhaps, that we can talk about 90 days from today in terms of a diversification. Cost leadership is how we continue to deliver the same results in driving further value and cost reductions into our program. It will enable E.ON to acquire and leverage a comprehensive understanding of the transfor- mation of the energy system and the interplay between the individual submarkets in regional and local energy supply sys- tems. We have an energy efficiency rider and we have a renewable rider, but we don\\'t have any other mechanisms here in New Mexico. President during several years of the Renewable Energy TASK FORCE, Sustainability Energy Efficiency and Carbon Market in ARIAE (Latin American Energy Regulators Association). KLAS named us as the #1 population health, and we had sort of a -- I think KLAS said it was an 80% of our customers said they would come back to Premier for additional services. • Save 648 toe of energy by 2020 from public lighting measures including replacing luminaires with LED lamps (40% by 2023). In January 2021, the EDF group ranked first in the list of the most credible companies in terms of communication, in the utilities/energy category (1). Every vehicle is now manufactured in a 36% more environmentally friendly way than in 2010. E.SUN also strengthens its skills to combat money laundering and enhances its system surveillance. We predict large players will become larger on FinTech developments and rising costs of compliance, as it will be increasingly difficult for turnover-dependent smaller brokerages to survive. Could you tell us more about the framework of actions that contribute to the future success of Schneider Electric? The efforts there have been consistent, and frankly, I believe, we are making significant progress toward achieving that end. So the study\\'s gone from in our mind 30 plus patients to 100. (1) The assets heading includes assets certified as development related to the solar-thermal power plant that uses tower technology and concentrated solar power in South Africa, totaling €118,804 thousand, applying the shareholding that the Company holds. However, since our financing is in such good shape and we project that we\\'ll become cash flow positive soon, we don\\'t have quite the drive to go down that path. So in many respects, maybe even \\'07 isn\\'t clean, so to speak. The preferred metric for assessing the carbon footprint of an investment portfolio, as currently recommended by TCFD, is the Weighted Average Carbon Intensity (WACI). So we wanted to diversify our business risk having a second supplier. We have committed to reach net-zero greenhouse gas emissions in our proprietary investment portfolio by 2050. In China, we were sole financier for the refinancing of a waste-to- energy project (with 2,050 tonnes per day processing capacity and 36 MW power generation capacity) in Wuhu, Anhui province. And we had a relationship with the owners of Climate, and this was an opportunity. Six major climaterelated impacts were modelled: WATER STRESS SEA LEVEL RISE FLOODS WILDFIRES HURRICANES HEAT WAVES The pilot study was conducted using three climate change scenarios (extreme, moderate and low) modelled for 2020, 2030 and 2050. UPM Energy UPM Energy creates value through cost-competitive, zero-carbon electricity generation and through physical and financial electricity trading as well as energy optimisation services for industrial electricity consumers. As a member of the Green Purchasing Network, Tokio Marine & carbon operations in all business activities. It has a lot of environmental benefit and at the same time, we save about $120,000 per well in trucking cost. Well, again, at a high level, the opportunity remains for the Components business to get above-market growth in those areas where emissions requirements are increasing. We already know now that will give us a return that will more than cover our cost in the back half of the year. Then, in February, the company won a contract to build three solar power plants in the United Kingdom, expanding its existing fleet of six similar plants and increasing total installed generating capacity to 100 MW. And we may have to bring on a few more in the future, but that\\'s another thing that\\'s going to help us mitigate the problems regarding labor in the years to come. To further subsidise device prices and migrate our customers from 2G to our 4G network, we provided network-locked devices. So we’re playing a meaningful role in bringing about major regeneration and helping to bridge the north-south divide. So we\\'re sort of headed towards 120,000, and then what we\\'re saying is that by the end of the year, we anticipate to be at that production rate, of that FPSO capacity, of 120,000. Through these efforts, we continue to promote “recycle, reuse and reduce” concept and minimize our environmental impact. A hypothetical change in interest rates of 1% on our outstanding variable rate debt would increase our annual interest expense by approximately $2.7 million. And then the remainder of the CapEx, as you put it, really is around digital initiatives which all include NuMi and the investments we\\'re making in the e-commerce platform for the direct business. In terms of fnal energy consumption, electricity will expand by 58%, from total worldwide demand of 23,000 TWh in 2018 to 36,500 TWh in 2040. So either way, I think it\\'s -- as long as there\\'s movement to improve the efficiency in California in water use, we can benefit from that. Budgets are reviewed each month and updated three times per year. Enhance the management infrastructure that supports global business expansion In the fiscal year ended March 31, 2016, the operating environ- ment for the EBARA Group was uncertain. Green revenue” is defined as revenues from products and services that contribute to positive environmental outcomes, for example: There\\'s no -- a lot of the Herbalife controversy was around inventory loading and representatives buying inventory. Corbion’s biobased products are based on renewable resources and therefore contribute to the development of a circular economy. And to your point, yes, the labor costs have come down. Finland became the first European bilateral partner with IFC to establish a returnable-capital blended- finance program for climate. The -- let\\'s just say the -- we\\'re in that stage now where we\\'ve got a very strong -- at least, the last report I got was we got a very strong pipeline of candidates. (8) Cerrejón – Marketable Coal Reserves decreased due to the reduction in the nominated production rate from 33Mtpa to 29.5Mtpa and mining duration constrained to lease expiry in 2034. They measure -- they\\'ve actually added about $2.5 billion of their general sales tax and a portion of their future motor vehicle sales tax to the highway fund. And of course, the production schedule, as we know it now, is essentially consumed by our U.S. customer, the U.S. Air Force, and they are top priority to get these planes delivered in accordance with the contract. Thermoelectric natural gas plants, such as TermoAndes, are not subject to CAMMESA fuel purchases and are able to purchase gas directly from the producers. Downstream Gas operates across the gas value chain from the wellhead to the burner tip with a fully integrated gas business.1 It includes the Group’s power business activities, with one gas- fired power plant in Romania. We talked on different calls about the potential of people converting, and we don\\'t see that people converting their wet mill ethanol capacity to the corn sweeteners side. These kinds of high-quality secondary raw materials are used to manufacture certain grades of engineering thermoplastics, such as a flame-retardant plastic compound for television set hous- ings that is produced using 30% recyclate from old pet water bottles. As part of this program we are expecting to increase the seat density on our Airbus A320 fleet. We have U.S. federal consolidated net operating loss and tax credit carryforwards of approximately $17.1 billion, including $266 million of the foreign tax credit carryforward originated in tax years 2006 and 2007. We\\'ve made substantial efforts in operating efficiency and product margin expansion using lean manufacturing. Reducing the amount of energy we use is our first priority; we have undertaken a range of energy efficiency measures across our operations and plan to implement additional improvements in the coming years. In response we are embracing new initiatives and technologies to directly contribute toward the establishment of efficient, reliable, and environmentally friendly energy sources while reducing the emissions and waste created from our properties and business activities. So the contract is now finalized and we are in progress to try to possibly presell our U.S. coal too tight [ph] through our L&L reputation and relationship with the market. I’d also like to compliment the company’s Green Trip program that has been running since 2012. And through philanthropic giving, which will increase SCANA’s community giving by $1 million per year over the next five years, we expect to focus on education, environmental stewardship and community needs. The Group is also active through its 200 kt / y capacity polystyrene plant in Foshan in the Guangzhou region. And that takes into account the CapEx that we spend for recurring projects, releasing space in our existing buildings, maintenance CapEx, that sort of thing. What we can do is to have a lot of flavors of products, which we\\'ve done at Barrow Hanley, in terms of the U.S. domestic side, with 3 large cap value products. Diversifying our funding sources In 2019, we not only continued to use to public resources, through combining EFSI with structural funds. So in that sense, when you\\'re trading around, for instance, coastal United States, U.S. Gulf and in Europe, in areas where scrubbers are allowed, you\\'ll be able to burn [ 3.80 ] instead of 0.1. This petition was for approval of the Electric Vehicle Market Development Programme (EV Programme) and a tariff to recover the EV Programme’s costs and performance incentive (EV Programme Provision). And Ecofys brought strong capabilities in sustainability and in climate change, a couple of areas that we weren\\'t as strong in. 1.2 Significant Changes to Assets In February 2016, AGL created the Powering Australian Renewables Fund (PARF), of which AGL would own 20% of the equity, to develop and own approximately 1,000 MW of large-scale renewable energy generation assets. Beckjord facility — In February 2018, DPL transferred its interest in Beckjord, a coal-fired generation facility retired in 2014, including its obligations to remediate the facility and its site. Pulp Group will advance the development of a fleet of wide-beam, shallow-draft “Corona series” of vessels established as a high-quality brand in response to thermal coal shipping demand that is anticipated to expand in the future. These focus on improving water efficiency, reducing waste generation and increasing use of recycled materials in our products. It\\'s called Magnolia Blossom Chicken with a spicy orange dipping sauce. Every year Galp is entitled to free licences (EUA – Emission Unit Allowances) from the Portuguese Environment Agency to cover part of its greenhouse gas emissions. A lot of this is generated in Europe as the economy has strengthened a little bit or stabilized is maybe a better word. The GPT Energy Master Plan is designed to manage energy costs through our electricity contracting process and demand management programs. We shipped 14 engines in \\'11, we shipped 14 engines in \\'12 and that schedule calls for 22 engines in \\'13. The Daya Bay and Yangjiang nuclear plants provided stable earnings while our renewable energy assets contributed higher earnings from our diversified portfolio of hydro, wind and solar facilities. Instead of using those as excuses and coming back to you and saying, well, fuel went up or we decided to make a fleet order or whatever it is, we\\'re going to meet our numbers. The consumer change is going to continue to be more towards lower-calorie options and because of our investments in R&D, we think we\\'re advantaged to capture those consumers as they move into the healthier options. And so when we look out in the future, we\\'re still going to be a major ethanol producer in the United States, although we are going to be a major high-protein producer in the world. Furthermore, excellence initiatives under GREAT are expected to lead to savings primarily from the procurement programme and from BPO. So I think, following the trend of our targets of getting below 3x in the nearer term is the objective, and accelerating that with asset sales to get closer to the long-term target of 2x. Another outcome of climate change for which there is high confidence is increased temperature extremes, which have brought longer and/or more frequent heat waves, droughts and periods of water scarcity. Financial affairs of the Toyota Tsusho Group are managed with an eye to maintaining a sound financial position while achieving stable growth. We\\'ve also upgraded our galvanizing facility in the Spartan joint venture to be able to process higher-strength steel. As you said, from a competitive standpoint as well the cost reduction standpoint, it\\'s a huge game changer for us. But overall, from a sales perspective, I think from flat to 1% is kind of the range we\\'re going to be in for a while as long as we continue to spend the amount we are on energy efficiency. Furthermore, by collecting the water from its manufacturing processes and reusing it for tractor washing, the plant also reduced its groundwater withdrawal by over 300 cubic meters. We\\'ve got the best information we have now with some more insight into international demand. And then we reduced our footprint quite dramatically in 2018 by some 65% and walked away from almost 1 million members and had an extremely successful 2018, and are having a very good 2019. Well, clearly, what we\\'re doing is we\\'re setting ourselves up here to be able to do some -- to take advantage of the completion cost reductions. Environmental Sustainability As an institution, CIB has excelled in the area of environ- mental sustainability over the years. Ireland In 2020, EDF Renewables positioned itself in Ireland by acquiring 50% of the Codling offshore wind project, in partnership with Fred Olsen Renewables Ltd., in order to develop and build this future offshore wind project (2). JBIC supports these projects with loans, equity participation, and guarantees while mobilizing private �nancing under the Global action for Reconci l ing Economic growth and ENvironmental preservation (GREEN) operations. Among the different CSP technologies available, solar towers will dominate the market for solar thermal power plant projects thanks to the lower energy cost generated by higher efficiency and direct thermal energy storage capacity than the parabolic trough plants. We have identified and either executed or in execution close to $400 million of cost reductions that I feel -- we all feel very comfortable that are very achievable, and we\\'re making significant progress. Working together with Samsung SDI, Volvo Group aims to acceler- ate the speed of development and strengthen the long-term capabili- ties and assets within electromo- bility, to the benefit of customers in different truck segments and mar- kets. It\\'s got better netbacks for NGL and gas price, so we think that\\'s going to further support the projects that we\\'re looking at to bring gas out of Oklahoma into that area. The private sector cannot do this on its own and we look forward to policy innovations and forums to help us identify opportunities to assist the Australian Government in honouring its commitment to the United Nations. I certainly think that it has the opportunity to do if our sales pipeline is strong. The P3 will deliver renewable energy and other services to help UI meet its ambitious sustainability goals and to support the University as it builds leading edge academic programmes in energy transition. Our commitment to operational excellence has resulted in a productivity savings increase of 38 per cent year-over-year, more than offsetting higher utility and labor cost inflation rates. With the start-up of the five polyolefin plants and the compounding unit now nearly completed, the Borouge 3 complex will bring our nameplate capacity to 4.5 million tonnes per year (t/y) in Ruwais. Encouraged by this achievement, we adopted the CO2 Reduction Indicator as one of our environ- mental management indicators, and have subsequently been working to increase the Group’s contribution. The Bank is also developing a network of contacts such as consultants and photovol- taic manufacturers so as to promote its CAP ENERGIE product for energy efficient projects. Responsible Finance Responsible Finance is a set of strengthened ambitions replacing our Sustainable Transitions Financed (STF) portfolio ambition. New this year is that the percentage of reported carbon emissions has increased in relation to estimated emissions. The U.S. coal has gained market share in the Pacific in the 12 years ended 2012 in places, came to a third, I believe, of the increased our coking coal deliveries into Asia over that 12-year period. Environmental, social and governance (ESG) considerations The Committee has focused on Prudential’s commitment to being a responsible business. But right now, our focus and our intensity is on fixing the U.S., and we\\'ll address the go-forward CapEx plan as we get closer to 2018. Contacts for integrity-related questions and issues Our “Infopoint Integrity” is the central contact and advice center for all employees and managers who need advice on integrity- related questions and issues. And so Europe will basically take somewhere around half of our diesel exports, and the rest of the diesel exports are going to the Caribbean and other places. And we stated about as clearly as we can state it. YKK AP is doing its part to help create eco-friendly, comfortable living spaces through focused efforts to develop products for the home and office that block heat, insulate or promote ventilation to help users cut their energy usage. Operation and maintenance of the Sohar desalination plant for five years, with a possible 2-year extension. As we think about reinvesting the Project K savings, we are reinvesting the savings in a number of areas in our business so the money\\'s going to getting food that\\'s even more on trend with changing consumer needs. The pre- production D Wide Z.E, the first of the second generation of Renault Trucks electric trucks, was made in the manufacturer’s Blainville-SurOrne plant in Normandy. Virginia — In January 2018, the Virginia Department of Environmental Quality issued a proposed rule to adopt a carbon cap-and trade program for fossil-fueled electricity generation units, including our Hopewell facility, beginning in 2020. A 15-year gas transportation agreement and a 15-year electricity supply agreement have been entered into with the Gruyere Gold Project, a 50:50 joint venture between ASX listed Gold Road Resources Ltd and the global miner Gold Fields Limited. A key pillar of our strategy is to continue to adapt our business mix to position us for longer-term low interest rates whilst continuing to serve our customers’ needs through the provision of attractive unit-linked and capital-light products. • And as Doug said, we\\'re very early on in our capital improvements, but this has certainly been a big part of the improvements we\\'ve seen year to date, and look forward to further success throughout the year. Well, I\\'m not going to say that right now, Rob, but I would like to think that the benefit that we\\'re seeing now from Zero Now would grow in 2020. So I\\'m definitely thinking that we will be increasing, but it will be a little while before we can sustain 2 million barrels every week. The renewable component of this with our customer base is expanding quite rapidly, solar installations, and we expect other distributed generation opportunities to come up in the years ahead. With that said, I hold out the caveat that people come back and we\\'re not able to close for environmental issues or tax issues as we go through the due diligence. More than 580 million liters of water were supplied to the population, artesian wells drilled, and a new water pipeline was built to serve the municipality of Pará de Minas. It\\'s primarily low-income housing tax credit investments that we\\'ve made over the years. And on the OpEx front, in general, it\\'s going to be adjusted by a modest SG&A savings. Accordingly, the Group has made committed efforts to become a corporation whose actions are rated highly through its initiatives toward solving social challenges. In particular, global companies are intensifying efforts to become environment-friendly and reduce food wastage, meaning that there is signifi cant potential demand for our barrier fi lms. Furthermore, these products make buildings more energy efficient, thus protecting our environment. I think we\\'ll be towards the highest end of that marker, towards the high end of the 10% to 15% production increase off of the midpoint of our current guidance. And frankly, as you build a relationship with a hospital, they want to feel like they have a partner that will take everyone that they need you to take given the high quality that you\\'re creating now. I don\\'t -- we haven\\'t looked at the rate outcomes, but we\\'re going to -- I mean the growth is going to continue to be at the 8%, 8.5% for rate base by \\'16. As a result, sales for GR businesses expanded at an average annual rate of about 9%, largely in business areas focused on energy conservation and new energy, including carbon fiber composite materials and battery separator films. We\\'re going to be very fiscally responsible as we consider those options. The company is addressing the management of waste and the circular economy, is extending electric and shared mobility, revitalising urban spaces efficently and increasing green areas. The electric ISR plan encompasses a $106.86 million spending programme for capital investment and $10.9 million for operating and maintenance expenses for vegetation management and inspection and maintenance. In Colombia, we received the Icontec Forest Compensation certificate, an achievement linked to the Carvida Duratex program – a carbon bonus for life, in 2018. Well, over a 2-year period, we I think there\\'s going to be a benefit. Catherine, let me start first with growth, and then circle back to the paydowns. We are continuing to drive pretty strong synergies and, I think, we have commented that we\\'ve achieved nearly $50 million to date. We are also increasing the use of alternative fuels in the countries that were newly added after the acquisition of Italcementi. After falling in 2016, non-OPEC production recovered (+0.8mmb/d), led by the US. And some of those, as an example, would be some of our newer producers that have joined the team, new profit center leaders that are in new roles or other senior leaders inside the organization. 2019 Integrated Report 46 Our strategies for creating value Sustainability Climate change is closely tied to various economic and social issues, and we recognize that addressing climate change is an important issue over the medium to long term. So we are comp -- the contract is -- obviously, addresses the situation. We will do this through greener sourcing and greener production, that will reduce the carbon footprint of the products we deliver to our customers. In 2020, we continued the build-out of our green power generation capacity both onshore and offshore. (1) Emissions from direct energy consumption (fossil fuels), calculated based on the emission factors of the 2006 IPCC Guidelines for National Greenhouse Gas Inventories. Our build includes millions of homes in the country’s toughest-to-reach areas as we do everything we can to connect rural communities. And we were very aggressive at complying with the law, which we knew very, very well. And we\\'re going to stay committed to that and do everything we can to ensure that our drivers are drug free when we hire them and throughout their career here at Werner. The CPV, I mean, we -- like I said, we have a product portfolio, ranges from Start-Stop all the way to a full EV capability with connectivity continuing to grow within some of the smart modules within the vehicle. Announced a $250 million partnership with Smithfield Foods to capture methane from hog farming operations and convert it to natural gas for use by utilities and manufacturers. The government of Fukushima Prefecture has advanced its own vision for renewable energy, with the goal to meet 100% of the prefecture’s energy needs through renewable energy by 2040. The three-year project aims to improve sustainability in the mint supply chain and help farmers optimize their farm management in a sustainable way. And that\\'s on the order of 40,000 to 50,000 barrels per day that are coming from the Permian to be run at those 2 refineries, and the majority of that is coming from HEP\\'s systems as well. But there is a long road ahead in terms of those discussions as we’ve limited our prior products. The Group secured agreements to provide a total of 1,217MW of capacity from two existing coal units, worth a total of £10 million for the period October 2021 to September 2022. Don\\'t forget we\\'ve got predominant expenditure on the Macon bio-mass project next year comes due. We are therefore focusing at present on energy conservation, efficiency enhancements and the use of renewable energy in our data centers. Our goal remains to reduce the leverage ratio and we currently expect to achieve this reduction more through EBITDA growth in 2015 rather than through debt reductions. And I think, in the past, we had said publicly that we were targeting an efficiency ratio, over the long term, of about 60%. FY2019, with targeted first production by mid-CY2018 and progress towards ramp up to Phase I production of 250 kt in FY2020; • And this year we’ll tie together the Forbes 100 Best Banks of which we’re number 15. Developing leaders is a priority for us to keep up with the constant evolution of the financial market and its challenges. They are the levers on which we rely to achieve our ambition of becoming the responsible energy major.” Although, we\\'ve reduced capital this year, we have done nothing to impact the critical path of K3. In Scotland I had the honour in September, together with First Minister Nicola Sturgeon, to inaugurate Vattenfall’s European Offshore Wind Development Centre (97 MW), a testing and development centre in Aberdeen Bay. 492 tCO2 eq/€ million invested, were almost exclusively attributable to the electricity sector. In 2019 Centrica LNG Company Limited and the Company executed an agreement to transfer the LNG Sale and Purchase Agreement with Sabine Pass Liquefaction from the Company to Centrica LNG Company Limited. Risk 2016 Set long-term energy reduction targets for our own footprint, to reduce our climate impacts 2010 3. Catena is investing major sums to save energy, which may involve, for exam- ple, choosing the right source of heating, enabling energy recycling, installing photovoltaic cells, installing more efficient ventilation or switching to lighting with modern LED technology. The borrower takes out the mortgage, while the helper puts 10% of the purchase price into a Helpful Start Account – earning an attractive rate of interest. The majority of the assets are either unaffected by or loosely correlated with inflation, meaning that an increase in inflation will also increase the deficit. The coal moving to Bowie is going to be more of a being able to broker in or move the coal to China. This year, 12 buildings and 2 branches have received Energy Star certification in the United States under a U.S. Environmental Protection Agency program created in 1992 to promote efficient electricity use, thereby reducing greenhouse gas emissions. This was celebrated by our subsidiary ScanTogo in June 2016 as part of a tree-planting campaign with representatives from the local communities and authorities. This Directive came into effect in 2005 for an initial three-year period, followed by a second period from 2008 to 2012, with progressive reduction of the emission rights allocated. In separate legislation, “complementary measures” have been mandated, including requirements related to fuel economy indicators, gear shift indicators, tire pressure monitoring systems, low rolling resistance tires, and more- efficient low-CO2 mobile air conditioning systems. But what it does is it basically gives us a stacked play within our Eagle Ford program, which we really can push on and have a lot of efficiency. Their variety illustrates the heterogenous and dynamic character of the US electricity generation market. And then once the dose reduction was accomplished and they got a little bit more Phe in them, their Phe levels did start to come back down again. Well, I think that we\\'ve done a lot of cost reductions to date, and activities have been launched throughout the year to reflect the more muted demand environment. In April 2018, a 160-metre-long, 510-tonne tunnel-boring machine started to excavate a 3.3-mile (5.4-kilometre) tunnel under the River Humber to house the Feeder 9 replacement pipeline; Currently, issues related to the environmental licenses for these assets, including environmental remediation, are being negotiated with the responsible environmental agency. Following a mass balance of mercury at Alunorte in Brazil, which was concluded in 2017, Hydro decided to install four mercury condensers on the digestor lines. When solar power projects connect to the power grid, they immediately generate cash flow by selling electricity to the power grid based on the desulfurized coal benchmark electricity price. However, our performance is expected to be affected by a substantial increase in fuel costs due to replacement of nuclear power with thermal power. This project, which combines and supplies electric power and heat (steam and hot water) to multiple factories in different industries, is the first business in Japan to integrate power saving between factories. So we feel really good about what we\\'re doing to fund that in a fairly expense neutral kind of way. We also implemented a number of cost discipline measures in the year to help maintain our profitability. Incorporating advanced bioclimatic design, the building uses geothermal energy to heat and cool its surfaces, functions that account for nearly 60% of average energy requirements. The Iron Ore Company of Canada (IOC) is a leading producer of premium iron ore pellets and high-grade concentrate with low levels of impurities. I think in New Jersey, as you may well already know, there\\'s a look-see that\\'s going on at the Energy Master Plan. AISIN eco-spot tours AISIN eco-spot tours were held in August of fi scal 2016. Responsible sourcing on the Company’s part also creates major gains for the communities and creates employment and business opportunities and contributes locally. We’ll continue to optimize and expand our core franchises, with a focus on energy-export infrastructure with our integrated Liquids and Gas Pipeline platforms and investment in our Gas Distribution franchise to grow its customer base. We have calculated that our operations in 2015 caused emissions of 2,579 tonnes of CO2 equivalents (scope 1 and 2), compared with 3,043 tonnes the year before. To optimise our buildings, we provide detailed energy reports to some of our customers with the largest energy consumption, to help them reduce their energy use. Several metrics are applied to the climate- related issues to evaluate the progress of measures taken (see “Metrics and Targets” below). So actually there is more power outages, as a result and we’re seeing this really help our retail channel partners in particular, kind of clean out their inventory levels, down south. Location-based emissions are reported using UK Government Greenhouse gas reporting – Conversion factors 2016. We also acquired a 1 million tonne cement plant in Florida to expand our cement operations in the US. On 5 December 2019, the Federal Network Agency confirmed the framework scenario for the Network Development Plan Gas (NDP Gas) (Glossary, from p. 139) 2020 to 2030. We will produce 180 million kWh of electricity per year on an area equivalent to around 225 football pitches. And our cost position in that, we\\'ll work ourselves down the cost chain as we\\'re able to get more efficient and bring more capacity online because we\\'ve already got the fixed cost. As always, we thank you for your interest in Granite Construction. And then in the -- iTIC is an add-on feature for the G1 that does bump up the average selling price per unit up slightly. In September the results of the second round of CfD allocation were published with a total of 3.3 GW of capacity attributed by eleven projects, including three offshore wind projects. It is a roadmap on policies to achieve carbon neutrality in the EU by 2050 and includes policies to develop markets for lowcarbon and circular products, in combination with stricter targets for emission reduction. We\\'re encouraged by the strength of the company or profitability that have $13.5 billion of proposals awaiting to be awarded, of which 75% of these are new business. OPG continues to pursue innovation and technology-based improvements in its asset management and equipment maintenance strategies in order to increase reliability and further reduce costs of the hydroelectric fleet. From an environmental perspective, the lockdown measures brought in to curb the pandemic led to reductions in carbon emissions. We\\'re assuming that we\\'re going to have PDI for the full quarter at about the levels of business that we saw in January. We place the greatest importance on environmental conservation regarding our CSR management and continue the following efforts. So they did a good job considering what the environment was. So we have taken some very liberal actions at our stores we\\'re making late last year, and we\\'ve reduced that significantly, which has helped our margin. In addition to the goal of having net zero emissions by 2050, the 2020 Climate Statement commits AGL to the following five actions: 1. Well, the first part of the answer, Katherine, is that we do not comment on this kind of topics. So we\\'re very pleased with what we\\'ve seen from the next program and believe, it\\'s going to get stronger going forward. But I think, as Chris stated, that\\'s 3,621, we believe we can grow that slightly, okay. The use of tapioca, which is grown in Columbia, it\\'s gluten-free, it\\'s non-GMO, it\\'s used in cheese bread would be an example. We are continuing to work on wins and opportunities to move some of our Penn 8 coal offshore. Science for Climate “This was a great example of the 3M product innovation model,” says Strommen. In-house goals have been established based on the Fund’s environmental policy. AXA believes it has a responsibility to inform public policy on the importance of tackling and adapting to climate change. The portfolio companies’ scope 1 and 2 emissions equaled 1,482,500 tonnes in 2020, a reduction of 40 percent compared to 2016. Focused on our waste combustion technologies, the study included multiple visits to our cement plants in the U.S. and Mexico, as well as thorough analysis of operating data. For an example of GHG emissions reduction see the Zwijndrecht site spotlight. In September 2018, Havas launched “Solidarité Climat”, an innovative, unique initiative run by the agencies Havas Paris, Havas Events and BETC to offset the carbon footprint of all their audiovisual, print, digital and events production. I guess that we are in a right momentum moving from where we were to LTE Advanced today, which allows us really to unlock the benefit of our network and 5G kicking in, in H1 \\'19. We will expand our contributions to society through our products and services and further promote our sustainability activities including payment of taxes and employment creation. We aim to take that percentage to zero so that our children will inherent a healthier planet. We provide a service that\\'s essential to municipalities and to commercial customers, and we do it in a way that\\'s environmentally superior to the landfill alternatives that\\'s still predominantly used in this country. Through these efforts, we strive to improve the reliability of environmental performance data (See “External Voice” below). Stampede, if you look at, most of the costs have already been committed, but we have taken advantage of the lower price and service environment and actually got some savings from Stampede. They\\'re building a sixth facility where they\\'ll finish construction in Q4 of this year. By the end of 2020, our attributable capacity will be 4,432 MW, upon the completion and synchronization of GNPower Dinginin’s Unit 1. Rosneft refinery throughput in 2016 reached a record level of 2.028mmb/d versus 1.966mmb/d in 2015. Of these, 30 companies derive more than 30 per- cent of their profits (EBIT) from the production of coal-gener- ated electricity. In addition, the precautionary principle means that increasingly stringent requirements must be taken into account regarding downstream users of chemicals. Six offshore projects with a combined capacity of 5,466 MW secured CfD deals. And although there, over the last couple of years, there hasn\\'t been a great volatility. In addition to financial support, members of our leadership team in the US and employees in different regions serve on local United Way boards, and working committees. All those things continue a pattern that\\'s been in place for 20 years, and that is our mix of customers are continually changing. It\\'s not exact science, but it certainly lags the Energy market stabilization. So those 2 things caused a rather large drop in the fourth quarter. But I would actually say, most of the Q3 results in the U.S. were seasonality driven. We\\'re going to have closure of a relatively large number of coal-fired power plants that will then be replaced by natural gas. Moreover, in 2018, solid job creation continued, the rate of unemployment decreased to 15.3% and by the end of the year, the public deficit was at 2.5% of GDP, in line with the target set by the European Commission. So we\\'re being prudent and frugal on those other things, so making sure that we\\'re as efficient as we can and looking for opportunities to streamline our cost base. But again we were real pleased with the fact that we ran a plus 4.8% if you take out cigarettes, we were up close to 8% and we ran positive gallon traffic for the first time in many quarters. 3.3 Energy Investments APA has interests in a number of complementary energy investments across Australia, including SEA Gas Pipeline, Energy Infrastructure Investments (“EII”), Ethane Pipeline Income Fund, EII2, GDI and Diamantina and Leichhardt Power Stations (collectively “DPS”). Renewable Energies Business Model (On-site/Off-site Types) In August 2019, we executed a basic self-consigned energy service agreement with Sony that leverages Japan’s first megawatt class solar power plant. In order to achieve the objective of sustainable development, the Company has set clean production and zero incident as the promotion direction of environmental protection and safety and health. To bring us up to 800, we\\'re saying that we\\'re buying equipment to do 2,000 megawatts -- up to 2,000 megawatts beyond the 800 and 350 megawatts, at least, of repowering. I said they\\'d be low medium underlying growth rates for the year, they could surprise me because of the other businesses coming back. The Mack LR Electric model is suitable for refuse customers, whether commercial or municipal, seeking a zero-emissions truck that aligns with their own environmental goals and local emissions regulations. We will collaborate with various corporations with a view to realizing a low-carbon society, working to develop and popularize domestic renewable energy power sources by participating in investment funds and related activities. And what that is, is when we\\'ve expensed -- when starting the new rules many, many years ago expensing stock option, RSO grants and so forth, you charge the P&L for the Black-Scholes amount. Our approach to investing in public investments, which include fixed income and public equities, is to focus on high-quality investments that can generate sustainable income and growth, which we believe results in more consistent returns and lower volatility. So our view is, right now, invest in that and keep the minimal investment that we have going on in that business to maintain the flexibility that we have, generate positive EBITDAs and cash flow in that business. We do have a -- it\\'s obviously a big portfolio of brands. The Company continues to invest in state-of-the-art technology to drive innovation and performance, including asphalt plants that use more recycled products and substantially less energy. In a general sense, we always strive to reduce cost, but we\\'re really pretty close to -- pretty close to the edge right now. Similarly, in the field of renewable energies, the Group’s experience with outsized structures will stand it in good stead in the effort to capture energy in the air or on the seafloor. Environmental performance – On the Environment Agency’s latest assessment (2012/13 draft report), which covers a broad range of operational metrics, UU is an upper quartile company. And with regard to CO2 pipelines, if I understood the question correctly, like I said, clearly we are looking for new opportunities there. We\\'re not -- again, we don\\'t predict beyond the first quarter for our exact guidance. Details of our efforts in promoting sustainability in our marketplace, workplace, community and environment are set out in our 2016 CSR Report which will be available on the HKEX Group website together with this Annual Report. However, I also see a need to translate this busi- ness into concrete numbers or present it as a clear busi- ness model. I mentioned continued focus on cost savings which will clearly be a part of this. Chlor-Alkali and Vinyl The Chlor-Alkali and Vinyl business provides cost-advantaged chlorine and caustic soda supply and integration for the Polyurethanes business. Ma- naged by NEoT Capital, NEoT Offgrid Africa is a platform that invests in distributed renewable energy projects in Africa. The Lamphun Mine and Li District Municipal Office organized a volunteer activity to build check dams at Huay Khaeng Upstream Forest in Moo 17, Li Sub-district, Li District, to preserve forests. In August 2013, a two-phase separation plan was approved, which included a line speed reduction in June 2014, ahead of the final closure. Its teams’ energy management know-how also enables it to improve the energy efficiency of industrial processes and buildings, actively helping to reduce its customers’ carbon impact. RETIREMENT BENEFIT SCHEMES The Group has established various retirement benefit schemes for the benefit of its staff in Hong Kong and overseas. It also seeks to foster joint policies and actions and propose legislation to raise the quality of the installation of efficient technologies, ensure environmental benefits and dignity and, at the same time, generate savings for the public. As for “aggressive expansion in growing markets ,” international markets are becoming increasingly important to Toyoda Gosei, and we are actively investing in markets around the world. OPG makes contributions to the Nuclear Segregated Funds based on the approved ONTARIO POWER GENERATION 155 contributions to the Ontario NFWA Trust (NFWA Trust) established by OPG pursuant to the NFWA. In this Project, KEGCO will build and operate a gas-fired combined cycle power plant in southern Thailand, and sell electricity generated by the plant to the Electricity Generating Authority of Thailand. CARB has now spent over $100 million trying to develop regulations in 5 years. The Group’s 2019 EP&L results show that 19% of Kering’s environmental impacts relate to water use and pollution, and that they are mostly in Tier 4 (production of raw materials) of its supply chains. And it\\'s really on the liability side and it\\'s really related to how we\\'re managing our wholesale deposits, not necessarily core deposits with customers. Our Energy and Carbon Policy commits our operations to adopt and maintain global best practices in carbon and energy management and to minimise greenhouse gas (GHG) emissions. Strategically, obviously, it moves us in the direction where we want to be, which is more higher technology focused and reduces our conventional footprint. But we are looking at both getting to free cash flow neutral and maintaining our debt leverage, both of which we believe are important for the going-forward plans that we have. To realize the non-carbon society aimed for under the Paris Agreement, we set a CO2 emissions reduction target with FY2031/3 as the goal. — Broad Applications from Fuel Cell Components to Interior Components Toyota Motor Corporation’s MIRAI is the world’s first mass- produced fuel cell vehicle incorporating next-generation eco- car features. Specifically, by developing floors and ceil- ings designed to be dismantled and relocated, we can accommodate the need for relocation (restore & rebuild system) of temporary structures. This is essential to stimulate and accelerate further development of lower carbon fuels, technologies and innovations to provide the full range of energy needs for a growing and more prosperous global population. All guests are requested to participate in the project by contributing to a conservation fund. The gas emission of waste-to-energy projects of the Group has fully complied with Euro 2000 Standard and the leachate treatment has met the national Grade 1 emission standard. DSM aims to step-up its financial results at the same time as pursuing its ambitions in sustainability and its beneficial impact on people’s lives, creating value in terms of People, Planet and Profit. They wanted to have renewable and green power there, and they partnered with us. The permitting process requires a thorough study to determine the baseline condition of the mining site and surrounding area, an environmental impact analysis, and proposed mitigation measures to minimize and offset the environmental impact of mining operations. RUSAL pays special attention to establishing a constructive dialogue with state authorities and employees, business partners, the general public and expert organizations to jointly resolve health and safety issues. These relate principally to the activities of Neue Aargauer Bank and BANK-now, which are managed as part of Private Banking & Wealth Management, financing vehicles of the Group and hedging activities relating to share-based com- pensation awards. Since then, Orocobre Limited and Toyota Tsusho have coop- erated in setting up the business, constructing a plant for refining lithium drawn from the lake in 2013. This quarter we’re backfilling more than half of the 400,000 square foot move out that we talked in Q1 and we accomplished that through a long term expansion of one of our existing tenants. The Bank launched a new product – green mortgages – which offers discounts to stimulate more climate-efficient housing. Boosting sales of energy-efficient products and encouraging a shift to low-carbon energy sources are therefore central to the strategy. If you look at the management team of FivePoint, led by Emile Haddad, who we have been working -- he\\'s been working within the company for over 20 years. Many independent energy services companies have added direct building controls capabilities, which are increasingly viewed as essential rather than optional. Hard to put a basis points contribution over time on that, but I think that\\'s serious because that, in turn, is what sets up the project execution itself, right? With the launch of our strategy, and our People First approach, we are reinforcing our commitment to our people. On June 8, 2017, the Company concluded a Joint-Venture Agreement with TEPCO FP with the aim of integrating their fuel acceptance/storage/gas transmission businesses and the existing thermal power generation businesses, etc., Skikda The Skikda project is a water desalination plant located in Skikda, Algeria. And there were a few things that didn\\'t work quite right and a few things that were unique to our business. Our solar plans for Virginia also would give Dominion a zero-carbon-emitting boost. We have been working hard to become more efficient and to achieve sustainable cost savings. Renewable energy sources in particular are expected to generate growth because their irregular electricity production will necessitate greater storage capacity. Our customers leverage Tastesense™ to reduce up to 30% of sugar in their finished products without sacrificing taste. And so our focus is around -- basically around what we call fresh and natural, but it\\'s about just fresh and natural foods. It reflects the Group’s desire to support the global goal of reducing greenhouse gas emissions, consistent with the Paris Agreement. CLEAN COOK STOVES is a business model that enables our company and social entrepreneurs to reach new markets with cleaner, healthier cooking solu- tions through the production and commercialization of concrete cook stoves. I mean currency had an impact on our reported SG&A as well. Kokkola has installed a new converter in order to reduce SO 2 emissions has begun at Harjavalta. • Consumers are generally shopping around and switching for the best deals. We\\'re not generating right off the bat a great big savings at $8 or $9 per precert. A little tougher to do that these days, but we still would like to see, as early as possible, some ability to get to accretiveness, either through cost reductions or synergies that the divisions may bring to each other. So our 2000 lease -- our 2017 lease expiration schedule is in fantastic shape right now. Yes, I think on the NSE side, we continue to improve our operational efficiencies. And then we would also look beyond that if we continue to pay down and don\\'t do an acquisition at some stock repurchases. And then we\\'re setting that level to make sure that we reach cash flow neutrality by 2017. So I won\\'t comment on any other deal, not my place to say. And even -- that a session that Gina McCarthy was at and she even said that by 2030, she still expects 30% of the generation of this country to be coming from coal. As a part of rural Infrastructure development initiative, a total of 135 ponds & 64 farm ponds have been deepened and 66 streams have been widened resulting in increase of 32,52,882 cu.mt storage capacity. Hellmann\\'s in the US has also committed to use recycled plastic materials for all its mayonnaise and mayonnaise plastic dressing containers by 2020. It is therefore necessary to secure profits in any type of external climate to steadily conduct business. But we are again, seeing really positive signs from the new V8 Veggie Blends and the impact that\\'s having on our vegetable juice. We will integrate environmental and social principles in our businesses, ensuring that what comes from the people goes back to the people many times over. In the past three years, we have improved the nutritional profile of more than 20% of our products so we can offer the best food and beverages. And then of course we balance that with earnings as well but we do constantly look at the portfolio and when we have the opportunity to through a cash acquisition, do a Verse 1031 exchange, we definitely consider that. All right, let me start with the capital allocation and so forth. The 40 kilometre main access road was completed in December and the river terminals are expected to be operational in Q1 2017. Our strategy its current business whenever possible, and progressively reduce the carbon intensity of its activity and its customers. I have said in the past that our core portfolio is a low-cost, environmentally controlled portfolio. We are not only increasing our own renewable power capacity but also promoting wider development of renewable energy power sources. The new business division christened as “Havells Enviro” has already installed a total of 3.5 MW rooftop solar system at your Company’s Faridabad Plant and Alwar Plant. In addition, gate-to-gate is relatively new, but it increases the amount of real estate that we have to sell in advertising and sponsorship deals. One of these HCV areas encompasses 622 hectares in the Jequitinhonha Valley in the state of Minas Gerais near the Araçuaí River Environmental Preservation Area and the Acauã Ecological Station. Focusing in on viable technologies We will co-develop decarbonised fuel types together with technology developers, researchers, investors, customers and other shipping companies and logistics providers. I think that the environment has obviously been very favorable for all of the carriers. Social review continued Fairness Our commitment is to ensure everyone working on our behalf, in an environment we control, is given equal opportunities, protected from discrimination and paid at least the Foundation Living Wage. A green podium roof, highly efficient chilled water plant, heat recovery, low-loss transformers and state-of-the-art UPS systems are among the many features designed for environmental sustainability. So, again, our view is that dual fuels would be seeing the impact seen maybe 2014 beginning 2015 depends on the conversion timing and it would probably be a couple of years later before you\\'d see the Ashkelon project. The flaring down project of the M’Boundi field was completed during the year with a decrease of approximately 64 mmcf in daily volumes of gas flaring, thus achieving the zero flaring target in the area. So we\\'re expecting to be able to continue to increase our capability to generate revenue, while strengthening -- shrinking our footprints. And then finally, we\\'re really -- we\\'re benefiting from disciplined cost management, and part of that is just a maniacal focus on cost and the restructuring benefits. Providing safe and reliable power to customers is our top priority. Since the beginning of the pandemic, Reliance has supplied over 55,000 MT of medical grade liquid oxygen across the country. But they\\'re certainly interested in energy efficiency and we think down the road, it\\'ll be a plus. And basically, what we\\'re doing is getting ready for the growth that we think will start kicking off in this 3- to 5-year horizon. I mean our view is we can get better margins, obviously, than are available in the scrap environment today. Decommissioning Engineering Company, TEPCO strove to mitigate risk caused by contaminated water, putting the utmost priority on purifying heavily contaminated water by taking a multi-layered approach that consists of seven aspects, including ALPS multi-nuclide removal equip- ment. The only change to that, Chip, is if energy prices would spike and go up, we\\'re going to see benefits in terms of cost avoidance because basically, we buy no fossil fuel at Valdosta, everything\\'s self-generated. And you can see we did achieve our $25 million savings. Well, as we said in previous quarters, we have continued to evaluate and look at different things where we see if we had extraordinary value. We use derivative instruments to manage market risks related to equity market, interest rate and currency fluctuations and in replication strategies for permissible investments. According to the Fraunhofer ISE (www.energy-charts.de), the proportion of total German electricity generation accounted for by sustainable energy generation increased to just over 40% (2017: A Shifting Business Environment The effects of COVID-19 have exceeded all expectations and have had a substantial impact on our lifestyles and business environment alike. Smart sensors monitor temperature, humidity and CO2 concentration inside the home and activate a gateway to open or close roof windows to improve the indoor climate. So Amitabh, it\\'s really a combination of all of those things, I think, that led to, I\\'ll say, the year-on-year cable unit decline that we referenced in the slides. In 2020, due to the significant reduction in fuel consumption for 2020 and expected for the beginning of 2021, the Group was over‑hedged. Launched the BEST Bus (Business for Environmentally Sustainable Transformation), the first fully electric, free ride shuttle service in Mindanao, making Davao among the first pilot cities in the country. So cohorts like young moms and young dads and broader audiences, that\\'s been very important. 7.95, with an economic impact that is negligible in 2016 and then gradually increasing and particularly significant starting from 2019 and is expected to be completed in about eight years. Compressed air is an energy flow that has a high electricity component, and thus offers potential for energy savings. 66 Countries Eni is an integrated energy company looking to the long-term, aiming to play a decisive role in the energy transition to a low carbon future. So if we weren\\'t curtailing gas, we would actually be taking our gas production up for the year. In addition to polyester, the Company also supplies composite fibers such as nylon, PP, PE and eco-friendly material PLA. The reality is, I have about 18,000 tons of carbonate capacity and I\\'m adding 9,500 tonnes to it. Together with Borealis, OMV is committed to playing a leading role in driving the circular economy. The new V-Class celebrated its world premiere in January 2014 and went into production in early March 2014 at our plant in Vitoria, Spain. For the quarter, year-to-date we are 266 for the quarter it was 150. In this case, we actually had a 61% oil cut versus the prior year, had about 50% or so. We have focused relent- lessly on reducing our fixed cost base for two years now to increase the resilience of our business in unsupportive markets and gain greater leverage in constructive mar- kets. One of which is the M16 [ph] crude that we are getting from Venezuela, which used to be run exclusively in Chalmette. Due to the success of Benefited from the implementation of new global automotive safety regulations and new energy policies, the penetration rate of LED lights in vehicle sector has continued to increase. Both goals are aligned with the roadmap of the Long-Term Goal for Emissions: reduce specific emissions by 15% (Scope 1 and 2 emissions) by 2030. Well, the special dividend and the increase in the regular dividend do not significantly impact our capital position such that it would inhibit us or prohibit us from being able to make an acquisition. In terms of our uses of cash, as Scott said, we have more than $100 million on the balance sheet, but we\\'ve been majorly aggressive in terms of the pay down of debt. It will help support the increasing amount of intermittent renewables such as solar and wind. In 2019, we enhanced management, control and automation tools in our branches and replaced air conditioning equipment with more energy efficient models. What I would tell you is, I think the important point on IFDS is you\\'ve seen a significant uptick this year in the income from IFDS that\\'s flowing through our financials. In addition, we promote recycling activities woldwide and focus on the purchase of materials and furniture that have been recycled or certified as environmentally friendly. We\\'ve been trying to focus on efficiency while continuing to invest in our initiatives. We\\'ve spent much of the last 6 months setting ourselves up to have outsized rate growth, and we did that after we achieved high occupancy in 2014. In 2020, we will switch to green district heating, which will further reduce our carbon footprint. As a responsible business Adani Group is committed to conduct its CSR activities in line with the central goal of Nation Building. But obviously, the 600 million is versus third quarter last year. Western Australia APA services a range of customers in Western Australia within the resources, industrial and utility sectors. We look forward to talking to folks and reporting next quarter where we should continue to see these trends improve. I think, the study size, you can\\'t be precise about it yet. Another power plant is currently under construc- tion in Huatacondo, in northern Chile, with handover scheduled for 2018. But we believe this is the issue in the new business front. I mean, one of the data points we have -- we do have a major retailer who is really fully embrace the strategy, Safeway, and we\\'re seeing double-digit growth against our Spreads business in Safeway. At the same time, it was possible to carry out actions that lay the foundations for greater future profitability based on the growth of core revenues, mainly by promoting digitalisation and divestment in non-strategic businesses. Usage of Maximum Low Grade Goan Iron Ore in Blast Furnace. • And when palm oil starts to work into Europe and the biofuel programs at pressures cap 1, cap 2 type and even cap 3 fats there. We\\'ve got great ability to source coal from all of the major coal fields in this country, and we\\'re very optimistic about Coal for the future at Norfolk Southern. The weight of the sectors was compared with future scenarios and the tar- get of limiting global warming to 2 degrees. We plan to build sustainable supply chains, respond to food waste issues and help reduce our environmental footprint. Gladstone — Through a joint venture, NRG owns a 37.5% interest in Gladstone, a 1,613 MW coal-fueled power generation facility in Queensland, Australia. Alliance members through closer cooperation, continue to enhance effective measures of energy saving and carbon reduction, preserving sustainable development of marine environment. And in the West, we went from 49% clean stone last year to 56% clean stone this year. Going for- ward, resource recycling is expected to be promoted in society as a whole, which in turn contributes to decarbonization. Brass is being phased out in favor of steel, which has a lower environmental impact. Therefore, an in-vehicle compact absorption refrigerating machine that generates cold heat by utilizing unused thermal energy (from a vehicle’s exhaust gas heat) has been developed in this project. Steam Supply 38 percent of the steam produced by CECONY in 2019 was supplied by the company’s steam-only generating assets; We believe that this financing was one of the first asset-backed securitizations that provided details on the GHG emissions saved by the technologies that secured the financing. The Group records a liability at the year-end in the event that it does not have enough emissions allowances to cover its GHG emissions during the year. Conserving biodiversity and minimising its impacts is of prime importance not just for compliance, but for ensuring long-term co-existence within our surroundings. We continue to have some stranded costs that we\\'re working through and focused on and our plan to get to 35% operating margins that will be transpiring through the third quarter. In turn SSE has valuable skills and sites to play a full part in low-carbon industry clusters such as the Humber. Community Impact Keppel gives back to the community through financial contributions as well as volunteerism efforts. The Kubota Group upholds the slogan \"For Earth, For Life\" as its mission, and contributes to the conservation of the global environment through \"Made by Kubota\" manufacturing activities. And fortunately for us, most of our supply are coming from yet unaffected areas by and large. But at this point, as part of our strategy, we\\'re continuing to look and we\\'d like to believe that we can add some businesses, tuck-in, fold-in type business as we\\'ve done in the past. We are primarily focused on getting more coal reserves, coal mines, okay. Green Products, which meet or exceed our minimum requirements in the area of energy consumption, packaging and/or substances of concern, accounted for 55% of total sales in 2014. The majority of our production is from natural gas produced through Pluto LNG and NWS Project. Climate risk toolkit Set Clinton Global Initiative target to mobilise 2007 USD8-10 billion towards renewable energy and clean technology 2007–12 2009 2. Furthermore, the Company is advancing newly developed projects in Indonesia (total output of 2,000 MW, planned for completion in 2020) and in the United States (total output of 926 MW, planned for completion in 2018). And that\\'s actually had a good contribution in the fourth quarter from a seasonal energy savings that comes in the summer, but we record it in the fourth quarter. In addition, we continue to improve the network by executing our densification and optimization plans in a very capital-efficient manner. Daarom werd een vragenlijst opgesteld, die jaarlijks zal worden voorgelegd aan deze fondsen met aan- gestelde beheervennootschap. And we\\'re very focused on driving the right decisions to ensure that we deliver against our deleverage commitment. Compared to FY 2019-20, absolute carbon emissions in FY 2020-21 were 3,07,670 tCO2e, 9% higher as Krishnapatnam port was included in the reporting boundary. These repair shops, vendors and contractors have a demonstrated commitment to things like energy conservation, emissions reductions and/or recycling, or providing paperless service and processes that are less damaging to the environment. Non-Executive Directors are responsible for scrutinising and holding to account the performance of management and individual Executive Directors against agreed performance objectives. I think it\\'s not across the board or tremendously widespread, but I do think there\\'s some elements of aggressive pricing in the market. Construction of the Cape Lambert 80 megawatt gas-fired power station is ahead of plan – 70 per cent complete at the end of 2016 with planned completion in Q1 2018. But I am living in this century and I read the paper and I have opinions and then specifically to our business. This global commitment to addressing the issue of climate change results in rising demand of sustainable solutions in the environmental industry around the globe. By printing this publication on Cocoon Preprint, the environmental impact was reduced by: Accordingly, the “discretionary pension benefits” for such financial year, corresponding to all members of Senior Management, were determined to amount to a total of €255 thousand, following a downwards adjustment of €150 thousand. We constantly look to improve our performance through improvement of water use efficiency, using less water-intensive technologies and maximisation of water recycling opportunities to help minimise use of fresh water and maintaining Zero discharge. Sustainable development Safety ■■ Environmental performance We must maintain focus on safety and environmental performance, as this provides assurance to shareholders, employees and society of our commitment to safety and progress in the energy transition. And I think, as we look at our platform going forward, certainly, that\\'s our objective, and that\\'s our firm commitment. The Company is now positioned in the top 15 per cent of employers (European Financial Services benchmark of our analysis partners Korn Ferry). The allocation method for emissions certificates changed fundamentally when the third emissions trading period Group Management Report (2013–2020) began. A majority interest in three 1.4 ROC operational assets totalling 34MW through a Joint Venture with Big60Million Limited; They now have close to super majority in the House, and this is the first Republican governor in 20 years, and he won by over 10%. In addition, support missions for local teams by corporate environment experts are conducted to guarantee the proper roll-out of the Group’s environmental standards. As a global financial services provider, we are committed to using our expertise in infrastructure, renewable energy, clean technology and environmental markets to connect global capital to opportunities that support this transition. As far as AK Coal, they continue to do a great job there, producing coal at a very low cost and have done so extremely -- at an extreme level from a safety standpoint. During 2020, we fnanced more than 45,000 electric vehicles only in Europe, accounting for 1.2 billion euros and, and we are reaching almost the same fgures in the 1H 2021. The first production is in March of 2018, and we are able to ramp it up to about 9,000-wafer a month by December 2018. And as I said, Ian, we\\'re going to be putting additional increases through. But it is also true that there are opportunities that will come by and we are in a position to take advantage of them. We\\'ll then be pumping that brine, that potash-rich brine out of that potash mine into solar evaporation ponds, which we operate at both our Moab and our Wendover facilities. And there\\'s going to be a lot of cost that will come out as a result of Project Renewal in \\'16 into \\'17, connected to really improving the manufacturing footprint of that business and simplifying the portfolio. Normally, run rates are what we consider when we put the program together. For instance, we have expanded our total energy service, an optimal combination of electricity, gas, LNG, on-site energy and other necessary sources, developed household-related services and other new services, and commenced electricity selling and generation in 50-Hz areas. So I think for the industry, as whole, it\\'s very positive for us. We have some way to go to reach our Women in Finance target of 40% female representation in senior roles and our aspiration of gender balance at all levels, but our actions are now making a difference. Solar power, wind power and other renewable forms of energy are considered clean, as they do not emit CO2—a contributory factor to global warming—during power generation. And of course, if we\\'re in an upmarket, we\\'d like doing that because we can get their space back and lease it up at a higher rent and lease some new space at the higher rent. I guess I\\'d start off by saying this will be the first year in several years when we have not generated a net cost reduction internally based on some really strong focus on cost reduction. They include strategies, products, services and advice to support our clients in the low-carbon transition, and to capture new areas of business growth, such as sustainable finance. I think you hit it about right in terms of the sort of understanding what cost, if you will. So we\\'re certainly on our way to our goal of 2,000 for this year. AGF is exposed to a broad range of operational risk, including information technology and system failures, processing and execution errors, third-party service failures, business disruption, theft and fraud. 14 | Dealogic ranking as at end-2020 BNP PARIBAS DEVELOPS GREEN FINANCE TOOLS BNP Paribas has developed a variety of green finance tools in an effort to provide broader support for the energy and ecological transition of its customers. In March 2020, EDF committed with ARVAL to facilitating access to electric mobility for both business and residential customers, based on IZI by EDF. And I talked about our waterless steam table that also got launched with 2 major change. Within our businesses, most greenhouse gases are emitted when customers use the products we provide. An international paper manufacturer chose E.ON to install a biomass- fired combined-heat-and-power (“CHP”) plant in Hürth, a suburb of Cologne, Germany. R&D places special emphasis on the three major challenges facing Refining & Chemicals: limiting the environmental footprint; achieving excellence in processes and operations; and developing innovative products, in particular biosourced products. I mean, if we don\\'t have hydro, we just diesel -- generate diesel power. In some circumstances, non-compliance can result in costly clean-up obligations and other environmental liabilities. But we will be at full fleet with both Delta and JAL by the middle of next year, and we\\'ll be substantially there by the end of this year. In June 2018, the Group launched its indoor air quality solution and received positive client feedback. We are also forging closer contacts with our heat customers to help them actively manage their use and increase energy efficiency. Global offshore wind major The past few years have been transformational for Equinor’s offshore wind portfolio. It will also actively support the development of its investments with the completion of numerous build-ups. This very innovative concept reduces the site’s fossil fuel consumption by 80%. We wouldn\\'t be investing in it like we were if we didn\\'t think it was a stable model. Investors, both as bond holders and shareholders, are therefore helping to finance company activities that produce carbon emissions and other greenhouse gases. We project the carbon price impact on the portfolio value would be less than two per cent. Also included in 2014 were rate decreases of 0.5% as a result of the recognition of previously unrecognized tax benefits and of 0.3% as a result of the fund reimbursement expense. Representing a major milestone on the path to expanding Borealis’ global nitrogen business, the project will add ammonia capacity to the Borealis portfolio and help expand its fertilizer business in a cost-competitive way. In Trinidad, BP is upgrading its water treatment facilities to meet consent levels agreed with the regulators to apply water discharge rules arising from the Certificate of Environmental Clearance (CEC) Regulations 2001 and associated Water Pollution Rules 2007. In the case of Anglo American\\'s thermal coal operations, the intermittent release of exceptionally low concentration fugitive methane from underground thermal coal mines is a challenge for estimating emissions. Allianz joined forces with other asset owners through the U.N.-convened Net-Zero Asset Owner Alliance (AOA) to collaboratively support companies in their low-carbon transition. The mix inside there is what I would call a traditional mix for Genie as far as booms, scissors and telehandlers. The impacts of climate change could affect the execution of our strategy, the expansion of our portfolio, and the ability of our operated and non-operated assets to operate efficiently. Advanced Borealis polyolefins have a role to play in saving energy along the value chain and promoting more efficient use of natural resources. Yes, I don\\'t think we\\'re ready to comment on that yet. What could impact on our ability to become net zero carbon by 2030? • Carbon reporting Carbon intensity across our portfolio has reduced by 54% versus our 2009 baseline, through the National Grid’s decarbonisation and our own efficiency improvements. We are leading the transition to greater sustainability in a responsible way. Our crude oil refining energy consumption intensity • Technical development for biofuels installation of photovoltaic power generation systems and the 20.0 • Technical development for the manufacture, storage, transport adoption of LED lighting. Positive impact The 3DEXPERIENCE platform is composed of an applications portfolio which enables Dassault Systèmes’ customers to imagine breakthrough innovations and reduce their greenhouse gas emissions (see paragraph 2.2.2.1 “The 3DEXPERIENCE platform at the heart of breakthrough innovations”). So I guess, we were at $692 million in the first quarter, and we\\'ve got some elevated salaries expense. The committee oversees the twin demands of developing products to meet the ever-changing needs of our customers while ensuring that those products cause no harm to people or to our planet. $2 million in revenue and about $3.5 million in cost of revenue. And then we\\'ll be expanding that number as we complete organic growth in the areas we anticipate anywhere from 30,000 to 50,000 new households with fiber-to-the-home just through organic growth. The two main pillars of our strategy are to deliver 10 percent capital returns over the business cycle and to reduce our CO2 emissions by 30 percent by 2030. We are seeing the impact of climate change and profound social change. It’s fantastic that we can work with Sydney Water to help us to increase the amount of recycled water that we are using.” Diesel has -- and diesel has picked up a little in comparison to the fourth quarter across our same-store sector and our diesel exports continued to be strong as well. To this end, the company has worked hard to lower the lost time injury rate and to consistently reduce its greenhouse gas emissions and water intensity. The estimate for administrative expenses, which comprise complaint handling costs and costs arising from cases subsequently referred to the FOS, is included in the provision increase outlined above. I think that we\\'ve demonstrated very broad appeal for The Times, international appeal for The Times. It\\'s important to keep in mind that a lot of cost-reduction actions we\\'ve taken are going to start to annualize and flow into a benefit next year. All these other efforts, whether it\\'s the metallurgical coal efforts or the Marcellus or others continue. We operate three nuclear units in Minnesota — one at Monticello and two units at Prairie Island — that provide 13 percent of our energy mix. Financing of the Mont Sainte-Marguerite wind farm in the Chaudière-Appalaches region and large investments in Innergex and Boralex. Specifically, for CAF, we have -- that predominantly hits our 1,100 Fiber-to-the-Node area, and we have some long-reach versions of that product, which has really started shipping, I\\'m thinking, middle of this year. However, when you\\'re able to deliver 2/3 -- at least 2/3 of the engagement offsite, it\\'s also going to give us a chance to significantly reduce our costs. Since then, a comprehensive energy audit carried out at the Montebello site brought to light high levels of energy consumption. 20% of the backlog is all-wheel drive, and 15% of the backlog is around rotating electric components and motors. Then we also make both other anode coke, as well as fuel grade coke. AP3 has a qualitative target for green real estate and the Fund’s companies are all en- gaged in an ongoing improvement process. Mitigation A number of initiatives are in place, which are being led by the Environmental Action Team and the Corporate Responsibility Steering Group, to reduce our environmental impact and to meet our customers’ expectations in this area. Basic Policy for the Development of Environmentally Friendly Products The NSK Group minimizes the environmental impact of its products at every stage-from R&D and design, to production, usage, and disposal-by upholding the following standards: Dyno Nobel Americas In Australia, Dyno Nobel manufactures ammonium nitrate at its Moranbah ammonium nitrate plant, which is located in the Bowen Basin, the world’s premier metallurgical coal region. • Water Board: Steers our strategy and targets on water, focusing on driving water-smart innovations for business growth. And finally, our channels optimization is the foundation behind all of this. For goodwill and IT development not yet taken into use, the cash generating units are defined as the operating segments. Highlights for the UK • We have smart meters in 70% of our UK offices which help us to monitor and better manage our energy usage; HZL’s operations include five lead-zinc mines, four zinc smelters, two lead smelters, one lead-zinc smelter, seven sulphuric acid plants, a silver refinery and six captive power plants at Rajasthan, Northwest India. We work together with our business partners to establish a recycling-oriented society as well as reduce our load on the environment. We thus achieved the goal we had set of 125 g/km by 2016 ahead of time. And as the country moves more to gas, we think we\\'re very well positioned from a tankless product standpoint. In 2015, the Group made a specific commitment with UNI Global Union as part of an international agreement to respect fundamental working rights and to promote social dialogue and diversity. The original approach discussed with the GAC was based on the control enhancements proposed by management, and involved the testing of new and improved control processes. But the teams are actively working on synergies to make sure that we can continue to get the cost efficiencies across all 3 of the intended spins. So I think our plans to introduce not only the plug-in hybrid Transit but also some of the other vehicles that we\\'ve talked about will serve us well. RUSAL is fully self-sufficient in alumina capacity (with potential to supply more to third parties) and about 80% self-sufficient in bauxites and nephelines. As you put more noise, more electronic noise in a circuit with touch pads, you generally need more of the products we sell. In Revin, we deployed our low energy Luciole® technology, recognised in 2017 by the CIRR committee in France’s road innovation drive. For example, the Company could face significant financial impacts in Europe if it is unable to make the necessary investments to decarbonise and reach its 35% target by 2030 due to the design of European policy. Promoting sustainable use of water One example of how we work to protect the environment and promote sustainability is our water treatment systems, which are designed to ensure the most efficient use of water. And then the reverse logistics, as we\\'ve said in our previous presentation, we think part of our getting to our operating margin and ROIC goal is improving our gross margin discipline. We had said that we were looking for OpEx savings, on an annualized run rate, of $200 million to $250 million by the end of the program. We continue to see that about 25% of our sales are from products we\\'ve introduced in the last couple of years, which is really the track we\\'ve been on for a long period of time, so that\\'s been fine. We aim to reduce the waste we generate and dispose the same responsibly. The latter two pathways require vast amounts of electrical energy, which would all need to come from clean sources. We are moving in the right direction to make all of our packaging recyclable but there is more work to do. This reflects enhancements to our customer offers through both direct and broker channels, including our online-only British Gas Lite tariff which has been designed around the needs of the smaller SME customers. Gas is also a cleaner fuel with resultant environmental benefi ts. So we don\\'t see any big drama on the long-term FMPs as a result of this. 2100 31 of the century has enabled hydrogen to gain a foothold and develop scale. In addition, taxes paid on investment operations include property taxes and non-deductible indi- rect taxes on expenses related to ownership of real estate investments and on operating expenses of investment operations. High European CO2 prices and low LNG prices resulted in the API2 coal price index declining 34% from the January 2019 high to December. CO2 emissions from office As part of our ambition to switch to circular a decrease of 38% versus 2019, due primarily to sourcing and procurement, we collaborate with energy-saving projects and COVID-19 shut-downs. Through the MOBILITY THAT ADAPTS TO MEET NEEDS With its Renault Tech division, created in 2009, Renault is the only European manufacturer of vehicles designed specifically to serve the needs of people with reduced mobility. I mean, they -- we have some dealers who are very focused on it, and we have other dealers who would rather focus on the installation or the wiring job that comes with it. And if you look at our breakdown of rate growth day by day, on those higher occupancy nights, mid-week nights, we\\'re still able -- that\\'s where most of our RevPAR growth is still coming. We have taken decisive action to strengthen our processes and approach to cultural heritage. Our comprehensive approach to sustainable investment supports our role as a prudent fiduciary and the desire to have a positive impact on society. • And the second asset will be our Albany Green Energy facility. �e Ministry of the Environment is carrying out decontamination and demolition work in all Speci�ed Reconstruction and Revitalization Bases: We\\'re also moving full speed on our 5G Evolution, and expect to be the first U.S. carrier to introduce mobile 5G later this year. The plan includes continued efficiency programs, on-site renewable electricity generation, strengthening energy market knowledge and procurement capabilities and demand response programs to minimise electricity capacity charges. And we\\'ve seen through last year, we\\'ve set record production rates on a number of units at that refinery, and we continue to optimize it and I think it\\'s a great platform going forward. At the end of 2014 a total of 99 companies were excluded from KLP’s investment world. In addition, a five-year agreement was signed with Ericsson to deploy 5G and together with Ericsson Telia as the first operator also launched 5G in three of the country’s largest cities. Our research enabled us to target our campaign effectively so we could reach the most vulnerable consumers. That doesn\\'t mean that $4 million is the least amount of number, depending on the market conditions. So we watch carefully all currencies and try to be transparent about that. The last stage is disposal in landfill or by incineration, using authorised, licenced and secured landfills. And as I said in my prepared remarks, we are looking at moving as much volume as we can to our low-cost facilities, even if that means having to add shifts in those facilities. I know that there are people talking about making sure that we get all the nutrients replenished in the soil. We’ve also agreed to provide additional renewable energy to Amazon, helping them toward their ambition to decarbonize. Chubu Electric Power recognizes that even after the legal unbundling of transmission/distribution operations in April 2020, electric power will remain an important infrastructure that supports lifestyles and economic activity. And with growing ability to pay down debt going forward, that we can do whatever is in the best interest of the business. In April, we were awarded the concessions for the three German offshore wind farms OWP West, Borkum Riffgrund West 2 and Gode Wind 3 in competition with other developers. That\\'s where I get back to our visibility hasn\\'t been this good in a long, long time. Science-based targets • Marshalls committed to setting a science-based target with the Science Based Targets initiative (“SBTi”) in September 2018. • Core projects include the Taishet aluminium smelter and the Taishet anode plant. In Spain, business credit facilities are already being offered for the purchase of hybrid and electric vehicles, the installation of renewable energy and the improvement of energy efficiency in buildings. We think, first of all, taking a couple of quarters together gives you a better trend indication, and I\\'m really very convinced that we are on track. Furthermore, we will contribute to the prevention of global warming by reducing the CO2 emissions of our products through electrification and IoT technology. On the plus side, we\\'ve got sustaining capital expenditures coming down, about $20 million next year from what we have this year. As part of its Environment Attitude label, VIN- CI Construction France holds one-day training courses focused on protecting biodiversity on its projects. The only thing I mentioned the retailers is because that\\'s been in the press release that somebody else put out. They consume natural gas and water, mostly converted into steam and supplied to customers. To date, the Company has already replaced more than 2,600 cells with the energy-efficient design, and more than 800 cells now have the eco-friendly lining. We continue to expect commercial operations at our first pellet plant in the first quarter of 2015, with commercial operations at the second pellet plant following in the second quarter. And ultimately, for many of our customers, be they municipalities or businesses, try to find ways to get to 0 landfill. Gold Fields has not recorded any Level 4 or 5 environmental incidents in the past five years thereby achieving our target of zero Level 4 and 5 incidents. Great importance is placed during all stages of planning and implementation on executing construction work with the utmost consideration and ensuring that the effects of plant operation on the environment are minimal. In the U.S., we’ve been growing our natural and organic portfolio over the past 15 years. One of the things that we learned from the downturn is you don\\'t want to space too close together, maturities with capital raises. Following the success of this year’s initiative we have committed a further $50,000 investment in 2020 to fund a new project by a young innovator contributing to SDG 12. In terms of Asset Strategy, if you look at it, June versus July, gross sales were down about 12-ish a percent. Also, with the fuel shift from light oil to LNG at Hachinohe Thermal Power Station Unit 5 and construction of the high-efficiency combined-cycle Shin-Sendai Thermal Power Station No. At Lanjigarh and Jhasuguda, 116% of fly ash from our operations is recycled. This means accelerating progress on our two goals — ending extreme poverty by 2030, and boosting prosperity among the poorest 40 percent in low- and middle- income countries. Obviously iContact early in the year was a piece of that puzzle. For more information on our climate change position and how we consider the impacts on our portfolio, refer to section 1.9.8. The UK solar market is expected to reach 12GW of installed capacity by the time the ROC regime closes for new installation in March 2017, from the existing 11GW in Q3 2016. We cannot assure you that we will be able to achieve all of the cost savings that we expect to realize from current or future activities and initiatives. In 2015, DSM joined the UN ‘Caring for Climate’ initiative and became a so-called Carbon Pricing Champion. A dedicated Carbon Forum with representation from group businesses is working on carbon emission reduction and energy efficiency projects at a group level. It’s not going to be any different Christian than what we had seen in the past quarters. You may remember our Cornerstone project that helped us start to make investments in modernizing the grid and we\\'re going to continue to do that. That\\'s the one operating expense, Tycho, I think you should just expect will be about equal at the percentage of revenue. Together with SERIS in 2020, CDL jointly applied for a Solar Competitive Research Programme and built a PVintegrated modular pod at Central Mall to develop suitable solar modules for BIPV integration. I would add, this gas-to-liquids pilot that we\\'ll be implementing is a very interesting option. With 80% of children not eating their recommended daily recommended portions of vegetables, our campaign set out to change the narrative, moving from the worn-out ‘Eat your Greens’ message to a child- focused, exciting proposition: Our North America operations, comprising Interstate Resources (acquired in August 2017), along with Corrugated Container Corporation (acquired in May 2018), have continued to perform ahead of plan with $33 million of the target $40 million cost synergies now achieved. Because of that, we\\'ve had to take some of those costs to the income statement rather than into inventory. The Company expects to achieve run rate savings of at least $350 million. Furthermore, we are implementing the following four measures with the aim of responding rapidly to environmental changes in any circumstances and creating a system to increase corporate value in a sustainable manner. Finally, we are committed to using our global leadership in carbon dioxide management to advance a lower-carbon world. The acquisition of skin cleansing and hair care brands has increased the share of products associated with a higher greenhouse gas impact per consumer use. They want to see the vitality of the institution that\\'s there and the energy. And to the extent that it\\'s an enabler of improving, let\\'s call it, our number-one market position I think is of paramount importance. Our continued investments in clean energy is an example of this commitment to our customers. Our ultimate goal is to use clean power and waste plastics for low-emissions circular carbon steelmaking. Therefore, we strive to improve the environmental performance of each product through- out the entire product life cycle, and are producing results which will contribute to the prevention of global warming and the effective use of resources. Over time though, longer term, we\\'re expecting that R&D as a percentage of sales should come down. We are becoming increas- ingly customer-focused and are working to create enduring rela- tionships with our customers in an effort to help them reduce their climate footprint and actively participate in the emerging energy landscape. We will also boost production and effi ciency in the rod- end bearing business while sharpening our competitive edge in delivery and cost with an eye to selling more in the growing aircraft market. If you look at, I mean, what we have been able to do with our Nighthawk M1 mobile router, we\\'re the first one to demonstrate 1-gigabit download on an LTE network. And in parallel, they\\'re working hard to put the final dates and times and specifics around some of the details here to ensure that the timelines that we have can either be at least met, maybe exceeded, we\\'ll see. We did have some larger renewals that impacted commission rates last year, but they are more stable this year. The revised accounting standard for lease transactions was effective for fiscal years beginning on or after April 1, 2008. We\\'re going to take advantage of the environment and hire good bankers where we think we can do that. Implementing Energy Saving Campaigns We have implemented across-the-board energy saving campaigns, designating a summer campaign period (from July to September 2018) and a winter campaign period (December 2018 to March 2019). All of our wells have really performed at a very high level. The goal of the Group\\'s environmen- tal policy is to decrease the ecological foot print of its activities, to conserve resour ces and limit emissions. They\\'ve already poured the concrete floor, which is one of the final steps, so we feel pretty confident that we\\'ll be able to reduce our expenses there in the back half of the year. Bad debt has been higher than our expectation pretty much all year, around 13, 14 basis points higher. With concerns about grid capacity shortfalls and geopolitical tension, mitigating energy risk represents good corporate governance in the 21st century, and becoming a NZE business improves energy security. The Company does not anticipate any significant impacts to its results of operations or financial position as a result of the final resolutions of such matters. So that\\'s one example of what we did in the first half of the year, I believe that was in the second quarter. BBVA understands that integrating ethical, social and environmental factors into its supply chain is part of its responsibility. As we\\'ve said all along, we\\'re very happy that we\\'ve completed the accrual, and we are on track to deliver the reports to the agency that we\\'ve committed to. We strive to minimize the potential environmental impacts associated with Hydro\\'s operations including changes in aquatic and terrestrial habitats along the waterways and impact on recreation and tourism. Planning consents and build contracts are in place for all of our 2019 deliveries and we are finalising our plans for schemes delivering in 2020. Furthermore, it looks to set an example of good corporate citizenship by advocating the arts and sports, extending care to the underprivileged, and promoting a culture that emphasizes socially responsible behavior and practices among its staff. What we have observed that towards the end of the last year, frankly speaking, that there was an increased discounting activity by some of our competitors. Obviously, we want to complete the transition of the smaller partners as I said within six months, but that doesn’t hold us back from working with ScanSource to recruit new partners, absolutely not. Structural works on The Foundry (Building 2) are ongoing and it is due for practical completion in mid-2020. While we achieve our greatest positive impact on the climate through investment and financing, we also work 8NORDEA NORDEA IN SOCIETY to minimise the climate impact of our internal operations. Entergy New Orleans sells both electric power and natural gas to retail customers in the City of New Orleans, including Algiers. And so the buildings that we\\'re building are easily being covered with the revenues that we are generating from the student body. The Bank has taken part in a number of actions designed to focus attention on sustainable development, including the Thick Sweater Day, European Week for Waste Reduction and Bike to Work initiatives. And so, there\\'s just always opportunities in real estate, and we just happen to be seeing more of them recently. We supply power in high volumes using underground conduits and tunnels for areas where construction of pylons is difficult. It also sets non- binding targets of at least 27 percent for renewables’ share of energy used and for the increase in energy efficiency. Our projects are situated for construction and operation while simultaneously increasing in a wide range of research fields and we are continually the energy output for future wind farms. Our refuelling stations helped to keep emergency and delivery services on the roads. ENVIRONMENTAL REGULATION The Group\\'s operations are subject to environmental regulations under either Commonwealth or State legislation. The other thing, obviously, we\\'re also doing, and it\\'s reflected in our guidance, is our cost savings initiatives, and we\\'re relying on those three levers to enable us to deliver that flat outlook. So in spite of that, we were able to grow revenues there and have a positive impact on gross margins. CNH Industrial’s standards of environmental and social responsibility have been fully integrated into its supply chain management. In terms of the capital dollars spent on the program, the bulk of it is associated with the $100 million spend or so relative to the can plant, and then you\\'ve got another $25 million in the plastics plant. There is interest in what we\\'re doing in energy and certain other areas. Again, we\\'re expecting a little bit less our of those stores as we\\'re going to remodel up to 5 less of the comp stores. One production well and one water injection well have been completed and put onstream with a second production well commencing production later in 2015. We\\'re still working through our aluminum frame around resourcing of that aluminum that would bring the tariff down, so that will help drive cost out as we go into next year. And we just want to do everything we can to leverage our opportunities so that they can continue to add this sustainable above-average organic growth. GHG reduction projects implemented in our refineries between 2009 and 2020 have so far enabled a total reduction of 760,000 t CO2 equivalent. 15 MW Solar PV Power project at Singrauli, 10 MW Solar PV project at Talcher and 10 MW Solar PV Power Project at Unchahar is registered in UNFCCC CDM Programme of Activities (PoA). Equinor`s joint statement with Climate Action 100+ from April 2019, forms the starting point for our investor dialogue in support of the goals of the Paris Agreement. Climate change policies and electricity market design A long-term and sustainable climate change policy framework is critical to making long term investments in costly electricity supply infrastructure. We also continue to optimise our logistics with the “LEO” programme, which has the goal of reducing costs by a total of €150 mil- lion over a period of several years. We also made improvements to our terminals over the years in terms of biodiesel, ethanol expansion and more recently butane blending, and we continue to get more value out of those when those opportunities arise. We established our price of carbon at £80 per tCO2e based on the required investments in carbon and energy reduction to meet our science-based target. We strive to minimise impact on biodiversity in our distribu- tion operations and make best use of the areas around our assets to aid protected or threatened species. This better positions the Fund to invest in climate change-related opportunities. And I will point out, Andy, and this is an important thing, we aren\\'t looking this as I kind of spreading the concept like peanut butter, right? Our approach also incorporates the management and reduction of scope 1 and 2 emissions, in this regard Banco Santander has committed to have 100% of electricity from renewable sources by 2025. In order to discuss strategic and future issues in greater depth, the boards held their annual joint two-day seminar in June 2014. But with respect to the movement of capital items, that happens relatively quickly. And it\\'s been reflected in our lower derailment costs and more efficiency in a lot of parts of our railroad. While we are making progress towards our near term goals, and in most cases exceeding our own targets, we still have considerably more to do. And that really reflects the company\\'s good cost discipline, which is allowing us both to maintain that as well as invest even more in the second half than we plan to. In 2016 we launched Airium, a high performance mineral foam insulation, that is fully recyclable and fire resistant, with a lower CO2 impact compared to other solutions. They want to do it with people that really know how to go operate in that environment. Cathy, if you would go ahead and give the replay information. As you know, they\\'re operating on about 60% of their normal hydro capacity. At the same time, in response to today’s environmental and social challenges, the Group’s business lines are offering solutions to customers and partners to help with their own ecological transitions and increase their positive impact on society. And the majority of our delivery is done on our own trucks. What we\\'re finding is there\\'s quite a large market for waste-to-energy, and we think we can step up there a number of projects from 1 to 2 to perhaps 3 and 4 and perhaps even higher over time. We may also be exposed to transition risks related to climate change, such as the impact of changes in policy or the deployment of lower-emission technology. Investment in a heat recovery system was made at Castleblayney with annual energy savings anticipated to be in the region of 1.8 GWh. Environmental, social and governance (“ESG”) objectives The Board is committed to the promotion of strong ethical, environmental and corporate social responsibility principles. At the start of 2018, the European Commission approved the reorganisation of the EU Emissions Trading System, already signed off by the European Council and Parliament in 2017, for the fourth trading period from 2021 to 2030. The training aimed at executives is preferably provided cen- trally (Milan) in order to allow participants to discuss com- pany strategies directly with Senior Management and share them at inter-departmental and geographical level. To enable long-term and continuous observation, a compact, lightweight yet high-capacity, high-performance lithium-ion battery was needed, which would have to withstand long-term use in a harsh environment including conditions such as weightlessness and vacuum. Cyber The Group has been developing its sustainability strategy, to address more broadly the opportunities and threats related to climate change, and the need for the UK to transition to a sustainable, lower carbon economy. And the third thing impacting us kind of year-over-year is just slower growth in the core because we\\'ve got some big overlaps from last year. So I would say, all in all, across the merchant business, certainly in the U.S., we\\'ve seen very strong trends. The eXcellent delivers unsurpassed heating and cooling efficiency, and high reliability with low environmental impact. We announced a plan that we were going to close about 100 stores during the year. Quantitative indicators and targets were revised in order to clearly visualize and confi rm ongoing progress of these environmental initiatives. In addition, the Company has completed performance guidance programs for automatic greenhouse gas reduction and reduced carbon emissions by 2,77 tons and 06,891 tons for 2019 and 2018. But from our illustration, we\\'re adding 15% of our capacity, but we think it\\'s really only going to add a net 5% from a fleet perspective. Over time, we\\'ve been able to successfully both reinvest in the business and provide a meaningful cash return to our shareholders, and we believe that over the long term, we\\'ll continue to be able to do that. Symrise set itself three clear goals in late 2020:  • We will recycle more than 95 % of the plastic we use by 2025 wherever local conditions permit. With the award of these contracts, and once the LNG supply contracts are signed, the consortium will be able to go ahead with the final investment decision. We see tremendous benefit to cutting any kind of emissions that would be associated with the fracs. The program involves 30 battery modules from Volvo buses as units in an energy storage ware- house, storing solar energy for 200 apartments in Gothenburg, Sweden. And so we have been able to, with cost reductions, offset some of the price actions that we\\'ve had. We had our southern Utilities taking more coal, and our coal suppliers were mining and shipping that coal to them. The Company is committed to increase share of green energy to 34% by FY24. Properly manage solid waste which includes selec- tive garbage collection and environmentally appropri- ate waste disposal. • And then, of course, we still have the Gateway site, which has the potential of upwards of 3 million to 3.5 million square feet of space of mixed use development that\\'ll be forthcoming when Metro comes. We take responsibility for the environment throughout our value chain Climate change and greenhouse gas emissions are our key focus areas within the environment theme. In this way, Catena enables more cost-effective and environmentally efficient logistics. Our key suppliers have committed to our Sustainable Supply Chain Charter, supporting us in the delivery of wider social, economic and environmental benefits. A lot of these again we\\'re only getting 10% to 20% of the entrance fee, building up a significant receivable. We do expect savings to flow through starting 2020 that will be incremental to our Structural Simplification plan. The progress of our Group-wide efficiency programme has been tracked by the Board and Executive Committee, and the majority of our centrally driven transformation activity has now transitioned to Senior Leaders. • In February, we will give you an update on our longer-term strategy around Solar. I mean, our focus is on all the things we\\'re doing to drive that 3% to 5% as high as we can. These standards will put India at the forefront of environment-friendly regulations. With our solid capitalization, high asset quality and proactive balance sheet management, we are ready to provide uninterrupted support to our economy also in 2020. And we\\'re really well ahead of our synergy objectives, achieving $790 million in adjusted EBITDA run rate synergies through the end of the third quarter. But volumetrically, I would say that around 1% would be a good guess. We increased our data center footprint from about 200,000 square feet to about 600,000 square feet and picked up all of those operating costs. They wanted to upgrade their space and make a further long-term commitment to the area. We\\'re looking at the U.K. market with the diminution of coal contribution and seeing what we can do better throughout the business from a cost standpoint. Given the environmental challenges related to electroplating, nearly half of Atotech’s R&D projects are designed to develop ever cleaner technologies and favor conditions for the Sustainable Development of these industries. This is operationalised by identifying the most significant topics relating to environmental, social and governance (ESG) factors, setting clear targets, and integrating ESG factors into the strategy and corporate governance. Storage Battery Technology Supporting Global Transportation and Infrastructure Not only Electric vehicles (EVs), but hybrid electric vehicles (HEVs) and gasoline-powered vehicles rely on batteries for lights, air conditioning, and other components, as well as vehicle startup. The decrease in coal production was primarily due to lower production at both U.S. and Kazakhstan operations as well as the disposal of the Kuzbass coal mines in Russia during the fourth quarter of 2014. Obviously, with Marriott acquiring Gaylord and the fact that our Residence Inn is just across the parking lot, that hotel, I believe, was up about 11.5% in the third quarter. Our Obstruction business consists of lighting and safety systems for the wind market in EMEA and cell phone towers in the US. As part of efforts of Tokio Marine Group, Tokio Marine & Nichido has invested in this fund with the aim of promoting, from a financial aspect, the initiatives of Japanese companies to reduce greenhouse gas emissions. If you look around country and you see any case where there\\'s a coal plant involved, potential coal plant retirement and other coal plant still there, the environmental folks are really redoubling their efforts to get coal plants retired. The scrubber solution is only part of the strategy to ensure compliance with the new fuel regulations. (24) Clemessy employees encouraged to adopt eco- driving and low-impact modes of travel Clemessy’s vehicle fleet accounts for a full 60% of the company’s energy consumption. The first unit was commissioned in December 2015, the second in April 2016. For example, mine waste in the Mining division, urban-railroad co-existence in the Transportation division, etc. In 2020, our projected ROA targets are from 1.40% to 1.45% and in 2021, we\\'re looking at 1.45% to 1.50%. At the end of the day, we believe that we can manage through this process and reduce our capital require- ments while maintaining our core fran- chises. 25% Since 2017, all the Refining & Chemicals segment’s plastic production sites worldwide are participating in the CleanSweep® program, which aims to achieve zero loss of plastic pellets in handling operations. The Fertilisers business manufactures the following fertilisers at three locations: » Phosphate Hill: Di/mono-ammonium phosphate (DAP/MAP); » Gibson Island: Ammonia (Big N), Granulated ammonium sulphate (GranAm) and Urea; and » Geelong: Single Super Phosphate (SSP). The committee is also responsible for recommending to the Board to seek shareholder approval for the directors’ remuneration policy. EDP - Gestão da Produção de Energia, S.A. (hydro activity); • I pointed out in the map before that we\\'re looking -- Ethiopia would be one area that we\\'re looking at, very early-stage development. This project would be accompanied by sizeable investments in infrastructure projects in the Canal area, creating new eco- nomic opportunities and helping curb unemployment. One way in which governments can help accelerate the energy transition is by pricing carbon emissions, cutting subsidies for non-green energy sources, and stimulating and regulating the green finance market. We also recently hired someone named Jeff Blom to come in, with great manufacturing experience from J&J and other strong Fortune 500 companies, to come in and lead our operations team. Distinctive for its community-wide systems approach, ComSA aims to advance good health through self-care, engage community action to support positive ageing, and provide efficient and effective health and psychosocial care in the community over the life course. Climate change poses a significant risk to the Kubota Group because of the changes in agricultural format arising from the shift of arable land due to temperature increases. We\\'ve said that we expect to reduce at least $50 million of debt this year, and we said today that we expect to reduce debt, in dollar terms, next year by even more. Relative to our base year, our carbon footprint was reduced by 27% in 2016 as a result of increasing our renewable electricity consumption to 91% of total electricity consumption, which is a 14% increase since 2014. In accordance with revisions in Electric Utility Accounting Regulations, wind power and geothermal power production facilities are recorded as “Renewable Power Production Facilities” from the fiscal year ended March 31, 2010. The procurement area actively contributes to achieving the objectives of the Stra- tegic Plan for Corporate Responsibility, the 20.19 Plan, by promoting the contracting of renewable energies, the reduction of fuel consumption and by purchasing electric and hybrid vehicles. Our circular claim settlement helps to re- duce waste and cut CO2 emissions. This year saw a temporary increase in our use of coal as a proportion of our overall fuel inputs, stemming from statutory requirements as part of our provision of ancillary services to the Danish power system. Furthermore, our manufacturing subsidiaries in Japan are working to promote energy conservation efforts to cut electricity usage during times of peak demand. Total segment operating profit decreased 1 percent to In fiscal 2016, we made five of the top-selling Cheerios flavors gluten free, driving low single-digit retail sales growth on these varieties. As you know, we drove about $75 million of cost synergies last year, in fiscal year \\'18. However there remains uncertainty in the industry around the right long-term solutions for homes due to changing energy policies and uncertainty around carbon emissions from grid electricity and gas in the future. And then 3 years back, we drilled the 2 horizontal wells there that are on target to make between 5.5 BcF and 6.5 Bcf each. We are listed on the major sustainability market indices, such as the DJSI, the BM&FBOVESPA Corporate Sustainability Index (local acronym ISE) and the Carbon Efficient Index (local acronym ICO2). REMUNERATION COMMITTEE The remuneration committee is a pre- paratory and advisory working commit- tee for the Board’s deliberations on remuneration questions. Risks and Appendix II), with the aim of extending the process through to 2050 and bringing it in line with the Company’s commitment to achieving net zero emissions. We will continue to accumulate the technology and know-how of LNG and natural gas, improve infrastructure and its competitiveness, and pursue both a safer and more reliable supply of energy and reduction in energy costs. Customers need to take care of ventilation, electricity, sometimes to get the machine in, you have to break walls, windows, sometimes you have to shutdown the factory for the installation. We are clearly in one of the best renewables environments that we\\'ve ever been in. This includes minimising, and where possible, preventing pollution associated with our operations, and protecting biodiversity and ecosystems across the environments we work in. The aim is to complete the 320 fleet next year, which is 2014, and the E190 is running about 9 months behind that currently. The CMBS world is pretty good at what they do, but we think we\\'re pretty good at what we do. And both the 45 and 15, I believe, Governor [indiscernible] will come up with new standards here, new objective because they\\'re behind on both energy efficiency and renewable. The project aims to manufacture the components for three full-scale wings, with complete delivery of the first wing in 2020. I mean we\\'ve seen the shale gas come on in big way the last two or three years, which have added to the supplier, a remarkable turnaround in North America certainly. And these -- the coal-to-gas switching is creating an environment where our customers need redundant gas pipeline systems in order to feed these power plants, these new gas-powered plants. To form this, waste CO2 is heated with natural gas (CH4) to very high temperatures using a plasma torch – a process called dry reforming. I do not want Nikon to be a place where we are overly focused on current conditions and results. As in our Group Vision of “harmony with the natural environment,” the Asahi Kasei Group considers environmental preservation as one of the most important tasks. At the same time, it is natural for us to act in as environmentally friendly a manner as possible in our own operation. In 2018 we saw the positive impact of our Structural Cost Program, and by the end of the first quarter of 2019 we had secured approximately $200 million in 2020 cost savings to support earnings growth. €52 million in total, of which €46 million in Pharmaceuticals and €6 million in Consumer Health) for the integration of acquired businesses. End-of-life emissions from products sold were estimated in 2019 at 4.6 million tonnes of CO2e. The entire Company is working together on initiatives that move towards achieving these goals. Operating a recycling system and managing a community requires the understanding, cooperation, and support of a municipality to establish a business based on a publicprivate partnership. At name plate, Gold Fields’ share of Gruyere’s production is expected to be 150koz, bringing production in the Australian region to approximately 1Moz. And if you\\'re right that it will be the pipeline replacement, both at Laclede, which is at a run rate, and also at MGE, which we are ramping up that will drive that spend this year. We have built grain storage, and right now, we\\'re looking at approximately within a year or 6 months starting, we will spend about $10 million to increase their production to 135 million gallons on annualized basis. And that I believe is that the ROI on the advertising is -- it remains good. These include how best to respond to climate change and respect human rights, as well as the need to conserve water, energy and other resources. Enbridge’s total investment in this project through the project’s completion and in-service date in 2019 is expected to be approximately $1.7 billion (€1.07 billion), including planned spend of approximately $0.6 billion (€0.44 billion) throughout 2017. And we did set our sights and commit to making a difference there. We measure the carbon footprint of all our paper mills as well as for each individual paper product that we produce using our Product Carbon Footprint tool. In fiscal 2013 the In addition, Konica Minolta is promoting environmentally responsible sales and services with its Green Marketing activities. Our investment in LED at Bullring, Birmingham reduced electricity consumption by 20% year-on-year. But I do believe our outlook for that is solid, especially as we get more involved onto the wireless side through some VoLTE engagements. If the current trend of emissions continues, the RCP 8.5 scenario is likely to play out which will significantly worsen the frequency and severity of acute risks and make chronic risks such as sea-level rise more destructive. So it\\'s not necessarily project-specific, where you have a Langley Gulch or Boardman to Hemingway incorporated into those numbers. We also have an ambition to grow our net positive recycling position. Altogether, 6.4 million euro have been disbursed in favour of projects concerning COVID-19 (40% of these disbursements were made in 2020). Business Responsibility Report continued investment in solar power, while other businesses have made significant improvements in their process efficiencies, thereby reducing their GHG emissions. We also received a series of industry- acclaimed Brandon Hall Group Awards in 2017 for the strength of our innovative learning programs, including in the areas of digital age learning. So as we look forward, certainly it\\'s our hope with OLED and TDDI OLED that will be, by definition, the higher end of the market, and that should enable the opportunity to enjoy a little higher margins there. Environmental Regulation — In 2011, the European Commission adopted the Industrial Emission Directive (\"IED\") that establishes the Emission Limit Values (\"ELV\") for SO2, NOx and dust emissions effective January 1, 2016. Based on this feedback, the 2019 LTI includes a TSR measure and the 2020 annual incentive scorecards of executive Directors include an environment measure linked to our commitment to reducing carbon emissions. The weighted average carbon intensity of our investment portfolios is significantly lower (better) than their respective benchmarks. OMV owns gas storages facilities with a capacity of 30 TWh and a 51% share in Gas Connect Austria, operating a GRI 2016: 102-2, 102-9, 102-10; OG1 Sector Supplement 900 km natural gas pipeline network. Our goal is to -- overall, is to maximize, basically, our gross margins from this business, and we\\'re really geared towards doing that. The monitors measure particle and carbon monoxide concentrations in the air. To prevent these problems, we promote the establishment of social systems for appropriate treatment of End-of-life vehicles, using our long-established technologies and Video manual on hydrogen gas removal know-how to not impose environmental load. At over 99%, CO2 emissions from the use of fuels in thermal power plants made up the largest share of Scope 1 emissions, while the sector of renewables accounted for less than 1% of Scope 1 emissions. Dedicated to offshore wind power, the joint venture will combine Vestas’ technological capabilities and long-standing track record with MHI’s strong presence in global power markets and related technologies. We\\'re going to -- some of that\\'s going to be a blend of crossover coal plus pure met coal. I would also just say that things -- we are one of the leaders in renewable energy. And that\\'s an asset where if gas price reacts, that\\'s where we can react and drive more gas into the system as needed. Take urgent action to combat climate change and impacts For more information regarding BBVA’s performance in its contribution to SDG 13, see sections “Helping our clients transition towards a sustainable future” and “Environmental impacts and risks” within this chapter. This is because all the district cooling purchased is for prop- erties in Stockholm and district cooling is a byproduct of the supplier’s district heating production, with emissions conse- quently deemed to be zero or very low. From everything that we see, there is about 50 billion to 55 billion gallons of bunker oil, high-sulfur -- 3%-plus sulfur bunker oil that\\'s going to be displaced with low-sulphur oil for the majority of those ships. We also expanded our renewables portfolio and grew our world-leading battery-based energy storage business. But it\\'s -- we feel, again, comfortable that we\\'re in an environment where inflation is increasing. YES BANK, since its inception in 2004, has believed in creating sustained value for its stakeholders, through social, economic and environmental dimensions. For sectors that have a clear decarbonization pathway, like oil and gas, power, and automotives: a company’s technology/fuel mix and production volume trajectory by technology/fuel for sectors that have a clear technology decarbonization pathway; or 2. Comcast, I think, yesterday or the day before announced, they\\'ve got 50-megabit service in front of almost all their customers now. Targeted car ac- quisitions aim to tap growth opportunities, complementing the fleet of privately owned railcars that traverse CN’s network. – There is no substantive change to other terms and conditions of the lease. We have in place a Resource Use and Waste Management Technical Standard and the supporting guidance notes which augment us to mitigate the environmental impacts of our products and process. Main reconstruction works on Electric Precipitators 1 and 2 of Sintering Kiln 1 at AGK were completed: In order to recognize business opportunities with positive environmental and social impact, in 2015 we created a working group within the sustainability department fully dedicated to developing and evaluating the feasibility of this new business. So I don\\'t think we\\'re where we were back in 2007. So far with the spring/summer orders -- I\\'m talking about the wholesale business right now, the spring/summer, we were about 3 quarters of the way through that market. The proprietary design criteria used by ITP Aero is expected to result in a component weight reduction of up to 40% as well as generating significant cost savings. Strategy Our climate change strategy is a key component of our wider ESG strategy. Our goal is to sustain gross margins consistent with our long-term goal. With them it is intended to improve the management of the water resources and contribute to the reforestation of the different areas. Russia Statoil has a 30% share in the Kharyaga oil field onshore in the Timan Pechora basin in north-west Russia. When I joined the company, I think it was less than $1 million in sales, and it\\'s substantially more than that now. Emissions from flights are included in the figure for emis- sions from our own operations. Due to the acquisition of ECR and associated significant change in office footprint and consolidation of office locations that is underway we have not set a new energy reduction target but we continue to reduce our emissions. At Drax Power Station, two converted biomass units are now running fully on the bespoke receipt, storage and distribution systems that entered service at the end of 2013. In areas in which the sun or wind is not abundant, electric generators must construct large natural gas-fired combined-cycle stations, such as our own Warren County plant. Through this process we aim to evolve into a corporate group that is strongly competitive on the global stage, and realize a quantum leap in growth. These new coolers use either CO or HC (hydrocarbon) as refrigerant agents, which have zero global warming potential, and are also 57% more energy-efficient than conventional coolers. During 2015, AES El Salvador began operations of a AES Moncagua, a 2.5 MW solar facility located in the East of the country, which is fully contracted with EEO. So our strategy is continue to manage that very low-cost, high-access transportation portfolio and continue to develop and invest in there, in line with our capital allocation strategy of highest economics. Energy companies will become competent and reliable partners who handle these tasks for customers, citizens and local authorities. Some businesses already use internal carbon pricing to evaluate the impact of mandatory carbon prices on their operations and as a tool to identify potential climate risks June 2019 and revenue opportunities. However, there is a limit to the amount of non-PID dividend we can pay as we are required to distribute 90% of our earnings (calculated on a tax basis) as a PID. I was just going to add that basically all of the initiatives we have are focused on improving GMS and improving GMS through repeat frequency. In the Interior Décor Materials Business, revenues declined overall, despite higher revenues from original brand products with outstanding design, workability, and environment friendliness, such as 101 Ecosheet decorative sheets and the incombustible aluminum product Fortina®. But at the same time, we\\'ve continued to build our organic pipeline and work through that. Now it\\'s down to a combined $180 billion or something like that. Finally, in order for Ricoh Group to survive permanently, we need to continue to provide society with new customer values while adapting to environmental changes. PROGRESS We have clear environmental, energy and climate change policies in place and are on track to meet our policy commitments. 40% of investments subscribed directly by ERAFP finance renewable energy projects, the development of which is necessary for the transition to a low-carbon economy. I would say that our pipeline for the third quarter looks as good to slightly better than it is going down -- going into the second quarter. And it\\'s a sliding scale as far as how much of their principle they get to put toward the purchase. Meanwhile, the Company took on the project of parceling a residence hotel, a revenue-type real estate product adopted to the low-interest rate environment, and transformed it into a loan-type land trust, thereby completing the project ahead of schedule. The previous joint development agreement with biotech company Solazyme has been expanded to provide for funded development leading towards a multi-year supply agreement targeting annual supply of up to 10,000 tons of renewable Tailored™ algal oils. What we have done is continue to have healthy participation across the rate spectrum between the maker and the taker side. Again, we point to a study like Magellan when you see 7 fatal bleeds versus 1. To mitigate our direct impact on global warming, we have started a group-wide programme to reduce our own environmental footprint. Solvay’s Corporate Sustainable Development function defines and deploys Solvay ONE Planet, consolidates Solvay Way selfassessments, presents the results to the Board of Directors and the Executive Committee, and trains the Board of Directors on sustainability matters. So our plan is to import goods for the U.S. mostly in Q2 of next year, which hopefully will be completely tax free, even not the 10%. 2017-399 of March 27, 2017 on the Duty of Care, is outlined in section 2.5 “Duty of care plan”. Leasing discussions on our committed pipeline are progressing and we are under offer on all of the office space at our proposed redevelopment of 1 Triton Square. I think my view was that, that would not be all that significant. An early analysis of carbon and water in our supply chain revealed that most of our environmental impacts arise from fuel suppliers and in particular our natural gas supply. So we\\'ll get bumps from quarter to quarter based on just some project business relative to that. ComEd, continuing in that vein unless, of course, the Air Quality Enrichment program that\\'s going on around the country leads to consistently higher weather. R&D also developed new algorithms for EDF ENRS that maximise solar power self-consumption; ▪ enhancing operational performance, whereby R&D is participating, for example, 1. As I\\'ve said, we\\'ve increased the cost savings target for this year on a run-rate basis to $650 million. And similarly, with our focus on continuing to have cost leadership, I believe that our 48-layer will position us well next year as well. Discussions between electricity producers and the Chinese authorities will lead to a definitive tariff which will apply to the 3rd generation nuclear plants with retroactive effect from the date of commercial commissioning. With that in mind, over the last 10 years, we have been working on various social agenda as a key initiative of our man- agement. Eni expects that more governments will adopt similar schemes and that a growing share of the Group GHG emissions will be subject to regulation in the short to medium term. Our purpose is to fuel quality of life by delivering energy, safely and reliably. When you look at JVs, we\\'ve done 1 8 years ago, approximately, which was with Takagi, for our tankless water heaters in North America, which is going very well. This was bp’s first ever offshore wind venture and marks an important step in the delivery of our strategy to rapidly grow our renewable electricity and energy portfolio. Against this backdrop, we made good progress on our strategy, delivering strong operating performance and cost effi ciencies, as well as solid returns. Monitoring of marine mammals at the East Anglia ONE wind farm for the installation of noise mitigation measures, with the aim of preserving the marine ecosystems. Schwerpunkt unserer Aktivitäten waren 2020 die Industrietransformation in Richtung CO2armer Schlüsseltechnologien sowie die Schaffung notwendiger politischer Rahmenbedingungen zur erfolgreichen Umsetzung unserer Klimaneutralitätsstrategie. Around 60 members came together to help clean up inside the plant that was damaged by floodwater and support alternate production at other plants while also lending a hand to local residents. In 2019 93% of the woody biomass we sourced was SBP certified, an increase compared to 86% in 2018 and exceeding our target of 92% for 2019. SOCIAL ENVIRONMENT Our economic activity is closely linked with the social environment. This year -- I\\'ll tell you, one of the challenges we\\'ve had in the last couple of years is getting our high-impact wells drilled. As we\\'ve said, 40% of the accounts went out on January 1. Social acceptance of Eiffage’s activ- ities is crucial to development that can be sustained over the long term. So our pursuit of solar in PSE&G is really driven by the RPS and the desire to achieve those policy-mandated targets at as low a price as possible. We have treated 519 hm³ in water-stressed areas and reduced water consumption by 61% compared to 2017. Toray achieved twice higher carrier mobility* of 36 cm2/Vs in single-walled carbon nano- tubes (CNTs) than before, which is world’s highest performance for printing-type semi- conductors. Beginning with FY19 GHG emissions, the Company commits to carbon neutrality (Scopes 1, 2, and 3) through the purchase of renewable energy and verified carbon offsets, while simultaneously working to reduce emissions from its operations and suppliers. I mean, CapEx this year will be a little bit lower just because overall, our spend is down. Frankly, we benefited in 2011, and we\\'re still benefiting in 2012 from a number of the cost-reduction activities that we\\'ve put in place over the past 18 months or so. And so as we look towards the second half of the year, we\\'re assuming that the trajectory there is not going to be kind of a hockey stick in nature, it\\'s going to be a more gradual increase. These two units will have a combined gross capacity of 1,336 MW. And as a former refiner, if I have a need for a hot tap to be done on an emergency basis or a clamp to be designed, fabricated, installed, I want the supplier to be responsive. They are perfectly matched with an upgraded IPS pod and the new DPI Aquamatic sterndrive, which bring increased comfort and maneuverability, as well as more straightforward servicing and maintenance. During the fourth quarter of 2017, OPG recorded $12 million in Other gains related to the revaluation of the ARO for the Lambton and Nanticoke generating stations in line with the current decommissioning plans and cost estimates. For a lower-carbon future, OMV will invest up to EUR 500 mn by 2025 in innovative energy solutions such as ReOil® and Co- Processing and will implement carbon efficiency measures. Initiatives such as rainwater harvesting, recharge to groundwater and the use of treated sewage water have enabled us to achieve this distinction. The Ventika Project is comprised of two 126 megawatt (MW) wind farms with total capacity of 252MW. A real carbon price – unlike the more commonly used shadow carbon price – impacts budgets and is therefore particularly effective in fostering low-carbon decision-making within the company. Ensuring a healthy planet for future generations is a key part of what Vestas does – it is Vestas’ purpose as a company and as individuals. By 2025, we have set goals of sourcing all strategic biological raw materials from sources that are sustainably produced in this sense. It serves our four operational wind farms in the area, along with the construction of a fifth. NGV already has interconnectors linking the UK to France, Belgium and the Netherlands and each year they power five million homes with clean energy. And one of the keys in this technology is to have a very clean environment. If you think about what happened to us in China with the extraordinarily strong ethylene, which were based on per gram process versus carbide producers more tied to coal, we had very strong ethylene in the first quarter. So we\\'re very happy with our interest rates and our maturities. In 2019, UMC continued to invest in the Seeds of Hope to help disadvantaged school children, and is committed to cultivating four key areas, namely life education, reading, environmental protection and green energy, and basic technology talents. We\\'re a couple of months into that process, but we signed up with them to handle our fuel requirements throughout the country, and we believe we\\'re going to see meaningful SG&A savings from that. We can see that in how customers are responding to it and how the business overall is growing. One of them is that these need to be accretive to our ROIC plan of record by year 3, so we\\'re very focused to make sure, even in the acquisitions, that they\\'re growing our ROIC. Within the EpE (3), EDF also contributed to a global study on the carbon neutrality of France in 2050. In my view, hydrogen is a critical solution to the challenges of the energy transition and clean transportation. It aims to help investors and wider society gain a better understanding of how Shell is addressing the risks and opportunities of the energy transition. The 1850km cross-continental Trans-Anatolian Natural Gas Pipeline (TANAP) celebrated its grand opening, and ExxonMobil’s Hebron offshore platform entered first production. We get 2 to 5x the flash efficiency of our core competitors, which drives down cost. Coal is usually dropped into the ovens through openings in the roof, and heated by gas burning in flues in the walls between ovens within the coke oven battery. The baseline emissions equal 13.3 million tonnes CO2e and includes direct emissions and indirect emissions from electricity generation (scope 1 and scope 2 emissions). So I wouldn\\'t say there\\'s going to be any significant bleed over into the second quarter or anything in the remainder of the year. Villagers were provided 12 litre water cans for carrying potable drinking water, benefiting 6,400 persons. The strategy reflects the Fund’s ambitions to contribute to a reduction of carbon emissions and sets out how we intend to expand our holdings of green bonds and other sustainable investments. With regard to aftertreatment systems, as you know, we did get our system and -- on the 13-liter engine Navistar, approved by the EPA. Under this colloboration, the production of green hydrogen using power from NTPC’S RE plant and subsequent uses of Hydrogen in Mobility segment as well as for production of synthetic fuel is being explored. The successful transition to a sustainable, low carbon economy that is resilient to climate change impacts and sustainably uses resources is of strategic importance to us. The coal from the USA originated almost exclusively from underground mining in the Illinois Basin and the Northern Appalachians. In addition to serving our customers with circular and sustainable products, we have taken tangible actions to reduce our environmental footprint. And we helped each other and we found solutions like shorter routes outside of the area that not only helped us, but they helped the other railroads because they take us out of that grid and reduce the congestion. It introduced ISO 14064-1 in 2016 to monitor greenhouse gas emissions and scheduled third-party certification for 2017. At the end of 2020, the price of these quotas was about €25/t CO2, and the Group expects this price to be higher than €30/t CO2 in phase 4. And so we\\'ve been able to find some Tier 1 dealers in the Northwest and California that we\\'re very excited about. Our efforts benefit the planet, as well as our business performance, as they simultaneously ensure our license to operate, reduce our environmental footprint and reduce operational costs. But UVA, Univar value added, that\\'s our EVA metric internally that we use operationally. In these days, our relay technologies are used in high-capacity DC relays for hybrid and electric vehicles and supporting the high demand. In Europe, too, the pace of eco- nomic growth increased despite uncertainty concerning the form of the United Kingdom’s exit from the European Union. Capital funding is part of the Company’s total capitalization that is used for financing our subsidiaries and the cash held at the holding company. At the same time, desks are being equipped with advanced, energy-saving technology. In this context, the focus will be placed on expanding renewable energies on an industrial scale. On the demand gen side of it, I think, what I mentioned was, Jason went and met with our sellers and traveled around meeting with clients and prospects and coming through the sales pipeline. The €285 million design, build, operate and maintain contract was agreed in November 2014 with Neoen, a French renewable energy producer. The increase is predominantly attributable to the hydropower plant shares acquired in Germany in April 2013 and to higher generation from annual storage power plants. Our underwriting policy enables Tokio Marine to further support the low-carbon transition while effectively managing risk, serving our clients and aligning with the priorities and plans codified within Japan’s energy policies. We\\'ve got plenty of capital to do that and we think that sets us apart from some of our more aggressively capitalized peers. Had we been raising forward in Japan, perhaps, we could could\\'ve given a range that was a little bit higher. And pretty much across the board, they are working with us to help us improve this environment. I will say, and of course, everyone’s familiar with this, we are seeing many people in retail this first half of this year seeing good results online. So I gave a long answer, but it was a big question, but it was a long answer. Our Performance Excellence program generates greater efficiency and cost reduction through sharing of best practices and has delivered a 1.1% improvement in operating EBITA margin. In December 2017, Desjardins Group announced the introduction of four management practices aimed at strengthening environmental risk mitigation in the short term and making reduction of Desjardins’s carbon footprint a reality: Emission reductions are subtracted from gross Scope 1 to 3 emissions to achieve a net carbon inventory. That is -- and especially in EcoPower, our own brand, we\\'re pushing that heavily. The Bank also scored 100 out of 100 in the CDP Climate Our Group climate strategy continues to focus on further reduc- ing our environmental footprint. The enclosed mall portion was expanded in 1986 under our ownership, and in 2006 we completely transformed the property into an open-air retail location. In order to support the development of Taiwan’s renewable energy, FENC has begun to purchase green power since 2015. 28 Achieving this goal will entail stepping up our sales of gas, renewables such as biofuels, power, and petrochemicals. What’s more, we\\'ve cut our carbon footprint in half in recent years; TSE will continue to follow up on the progress of efforts on the revised CG Code, and will also continue to work on the necessary development of the market environment. To further minimize our carbon footprint, we continue our efforts to replace clinker with alterna- tive cementitious materials and to increase our power consumption from clean energy sources. The issue really gets critical when you are going to average -- I\\'ve got to get my math right here, but I\\'ll make it simple. Intesa Sanpaolo Bank (Slovenia) once again eliminated its emissions this year by purchasing all its energy from hydroelectric sources, while Privredna Banka Zagreb (Croatia) purchases around 60% of its electricity from renewable sources and Intesa Sanpaolo Bank Luxembourg 22%. Business environment: Demand for new, high-efficiency technology will expand as multiplex IT systems in response to natural disaster BCPs will result in increased energy consumption. Besides the greenhouse gases of natural origin, the main greenhouse gases produced by humankind are carbon dioxide, methane, chlorofluorocarbons and nitrogen oxides. The bypass rail connection that the port is building will improve that. About Board Committees Allocation of responsibilities between Board Committees The BRiC assists the Board by providing oversight of Macquarie’s risk management framework and advising the Board on Macquarie’s risk appetite, risk culture and risk management strategy. And with the Kensington plant coming on, we\\'ve got adequate capacity that will continue to be ramping up there. The product portfolio is one of three cornerstones in Volvo Buses’ electromo- bility strategy. Another 100,000 children below 6 years were reached through our pre-school initiatives. Denka’s ceramics-based electronic circuit substrates are made using nitride ceramic powder manufactured in a high-temperature environment at 2,000ºC and boast such features as high-heat conductivity, electric insulation, smaller thermal expansion and superior toughness. Our business in this region, including the Sakhalin-1 Project, the oil and gas development business in Eastern Siberia, and the construction of an ethylene plant, are proceeding favorably. First of all, there are annual what I would think of as inflation-related clauses on both the revenue side and on the reverse retransmission side. Through these means, and by taking the initiative to self-check the status of environmental management, every effort is being made to further improve management levels. • “ Positive-energy secondary school In the context of the project to restructure the Montjoie development area in Saint- Denis, teams from Eiffage Construction broke ground, in March 2015, on a positive- energy secondary school that will serve 1,240 students. Basically, the way we\\'re looking at things, it all stars around capital, what we define as our capital levels. So to date, it\\'s been relatively around that devaluation currency and the slight tick, as Dave mentioned before, in freight type things. The ship will have fuel tank dedicated for heavy fuel oil tanks as well as distillates and LNG tanks. We are investigating setting further science-based emission reduction targets in the future. And so we spent a significant amount of energy in that area, and it\\'s a key part of our strategy going forward. I\\'m not expecting any dramatic changes in the working capital accounts though right now. Our air quality protection standard is designed to prevent breaches under normal and worst-case weather conditions, with the focus on controlling and monitoring our air emissions at their source and understanding impacts on local airsheds. But our free cash flow is -- will be strong and we expect to be able to make sizable debt reductions on the term loan. The Group has therefore built its sustainability approach on four areas of action: – the integration of climate into its strategy, because energy production and consumption are intrinsically linked to the challenge of climate change. The challenging markets in Brazil, China, Switzerland, Indonesia, Iraq and the lower gains from CO2 sales of CHF 70 million could not be compensated by an overall effort on implementing price increases and reducing costs. In turn, our transfer of suburban diesel trains to enhance capacity in Bristol and the West Country is ongoing. We have over 150 airline customers around the world, we have a global sales force, we can offer content in 47 languages. If exchange or market prices are unavailable for consideration, fair values are derived from market prices for comparable assets or comparable transactions. Despite a drop in depreciation and noncurrent retirement costs as well as other expenses, this upswing mainly reflected higher fuel and purchased power costs due to a higher power volume of renew- able energy sourced electricity. We plan to fulfill these by promoting long-term measures centered on conserving over 1.3% of energy use a year, converting fuel sources, and introducing reusable energy. The A350 XWB features a wider fuselage than that of competing new generation aircraft, Rolls-Royce Trent XWB engines, A380 systems technology and over 50% composite material. Apart from above, APMuL has evaluated the factors based on which the future cash flow projections have been prepared for computing the recoverable amount / value in use of its Mundra power generation plants of 4620 MW capacity. The move towards a low carbon economy has the potential to drive significant change. CO2 emissions from ground operations The CO2 emissions from the ground operations include all scope 1 and 2 emissions at locations in France and the Netherlands. In June 2018, Meidensha pledged to reduce greenhouse gas emissions by 30% by FY2030 (compared to FY2017 levels) and as part of the the First Meiden Environmental Vision and we are promoting reduction of environmental impact. The amendments to IFRS 4 permit entities that predominantly undertake insurance activities the option to defer the effective date of IFRS 9 until 1 January 2021. The project involves the design, engineering and construction of a 95 kilotonnes per day (ktpd) concentrator and the outsourcing of a 1,000 litre per second desalination plant, creating up to 5,000 jobs during the construction phase. By actively addressing climate change, we can increase and preserve economic value. Yes, it will be small, but you actually will get the benefit. We were generating horsepower of about 2250 when you have a 2500 engine and transmission and it\\'s in the 2100 on a Tier 4 engine. I think it was time for Airdyne to return to that space. The reductions in travel indicators ranging from 30.5 % to 64.6 % (2019: 8.9 %to 26.7 %) are mostly the result of COVID-19 restrictions, and also partly a continuing disciplined approach to travel. In June 2012, the EPA approved the Minnesota SIP for EGUs and also approved the source-specific emission limits for Sherco Units 1 and 2 as strengthening the Minnesota SIP, but avoided characterizing them as BART limits. CLP began the rollout of a cloud-based analytics platform for renewable energy assets in Mainland China and India in 2019. I think on the sort of the grocery side and we talked about broad-based, it\\'s very -- very modest inflation that we\\'re continuing to see. Our Comprimo Sulfur Solutions® is a significant technology for gas treatment and sulfur recovery plants around the world. The Company\\'s S-in Motion® projects for Hybrid vehicles, Battery Electric Vehicles (\"BEVs\") and battery packs are now available for roll out to customers. And as I mentioned on this call before, the company would likely and/or its own self build options for both renewable resources as well as capacity energy resources. They also endorsed our new TAKE2 Climate Change Pledge and updates to our Environment and Climate Change Policy. » Several projects are seeking to increase the proportion of hydrogen injection in the blast furnace, as a substitute for a proportion of the injected coal. The Vision One has a battery capacity of 300 kWh and a range of up to 350 kilo- meters. Recyclability Recycling in Vestas’ production and recycling of components in decom- missioned wind turbines are other important ways to improve CO2 efficiency. 30 Symrise has a clear plan of action for climate protection. Most of -- almost all of the exposure in the energy sector is to investment-grade names, so a lot of integrated firms. 19 BlackRock is committed to partnering with our clients on their efforts to align their portfolios with the global ambitions to reach net zero emissions by 2050. Including emissions resulting from the electricity purchased and used by the company and other emissions that are the consequence of company activities but which are produced by sources that are neither owned nor controlled by the company . First, we made good on our pledge to be active stewards of the environment – exceeding our greenhouse gas, water use and waste reduction goals. It includes continued cost takeout efforts we have inside of the company as well as our expectation that we can take out 10% of our interconnection. On request, they must also present documentation attesting to their ongoing compliance with the social and environmental obligations they have undertaken, as well as the compliance of any subcontractors. Well, if you look at the industry operating rate, the most recent one that was announced was 92%, which was announced for the month of March. Now Corpus has active plans to dredging and adding buoys and things like that, that are going to grow export capacity over to 1 million barrels a day by 2022, late 2021. 7 • the quality, geographic location, physical characteristics and operating sustainability of our properties; • We do this through our three sustainability pillars: responsible banking, responsible business practices and creating social impact. The introduction and implementation of the energy management systems is steered by a global working group. We are the one of the only ones that go out there and we believe we have capable food because we make everything from scratch. The Bank also coordinated with local governments during liquidation and screening of debts as well as the replacement of loans to LGFVs with bonds. We want to create an environment where our partners can be successful in professional services. The first theme the Group will test this new approach with is climate-related, and more specifically focused on the issue of energy mix in the power generation sector. Furthermore, with regard to waste plastics, we have achieved a recycling rate of approximately 97.6%, minimizing simple incineration and landfilling by producing RPF for thermal recycling. * We\\'re making the transition from strictly gas to oil, and along the way, we need to sell some of the assets that we developed. Overall, based on the work completed, Barrick continues to build resilience to withstand the potential impacts of climate change and leverage potential opportunities as the global economy transitions to a low-carbon future. The Corporate Responsibility principle is to guarantee sustainable growth for the company and ensuring our daily actions enhance environmental, social and governance aspects related to our operations. In ascertaining the feasibility of such projects, we are examining not only how the projects contribute to increasing revenue but also realizing a low carbon society. Through this strong and decisive commitment, we want to be the partner of choice for our clients, helping them address their own environmental challenges as we develop our business. We\\'re still committed to it strategically and we\\'re still committed to it from an acquisition standpoint. These emissions contribute to global climate change and the associated impacts on the environment and society. The use of slag helps to conserve limestone, a natural resource used in cement, and provides the environmental benefit of lowering CO2 emissions by around 40%* compared with concrete made entirely from cement. Since KLP ruled out investment in coal in 2014, more than 70 coal companies have been excluded from the investments, while at the same time NOK 1.5 billion is earmarked for in- vestment in renewable energy in developing countries. High-speed Internet subscriber net activations increased by 22.7% in 2018, compared to 2017, driven by increased retail activations in our expanded FTTP footprint, richer retail offers, greater IPTV pull-through and higher activations in our business markets. Stabilized Development Properties – includes the results generated by the following: Refer also to the Portfolio Review at section 1.5 for additional analysis of AGL’s electricity and gas portfolios. Technologies That Maintain Cleanliness and Comfort The TOTO Group has refined its manufacturing technology over the last one hundred years. Taking advantage of this environment as the foundation for developing our services, Econecol Inc. will be proactively engaged in the reuse business. Their projects will impact millions of lives, meeting social needs in the areas of life‑saving healthcare, protection from devastating diseases, improved social mobility for low‑income workers and action to rid the world’s oceans of plastic. Employment comp was actually up a little bit, then we were able to more than offset that with cost reductions in other areas. But I think what you\\'ve seen over time is the margins in that business. And I think what I would emphasize about these products versus traditional products is that what they really do is they simplify and expedite the endodontic procedure. In other French regions, Eurovia continued or completed work on several light rail lines in Nice, Saint Étienne, Caen, Bordeaux and Lyon, and upgraded a busway in Nantes to accommodate electric vehicles. The Company believes that regenerative agriculture is one way to help build a more climate-resilient world, which is why it has committed to promoting these farming practices and contributing to the transition. AUSTRALIAN FIRST TO ACHIEVE LIVING BUILDING STATUS CASE STUDY The University of Wollongong’s Sustainable Building Research Centre showcases the future of green building design, achieving Living Building Status this year. It\\'s a solid high single-digit, so -- and again, it\\'s coming off a big number last year. To that end, we continue to think hard about our role in society – ensuring that we are acting responsibly and making positive contributions to our people, places and communities. Environmental and Social Benefits Technologies are often installed at public sector properties (e.g., residential, healthcare, elderly care) and at energy- intensive industrial facilities. In addition to the implementation of various other measures, we use alternative raw materials and fuels to reduce significantly CO2 emissions. With his mandate, the Group is involved in meaningful welfare driven activities that distinctively impact the quality of life of weaker sections of society. Our Forest We are responsible for over 200,000 hectares of planted forests and conservation areas distributed over our own and leased farmlands for the supply of our wood panel plants. We have developed a long-term plan to fully integrate sustainability into our business strategy focusing on the sustainability topics where Nordea can have a material impact, either through reducing our negative impact or increasing our positive impact. We are committed to doing our part to enable the transition to the low carbon economy, in alignment with Canada’s commitments to reduce GHGs 30% by 2030 over 2015 levels. This decrease is attributable to the implementation of (i) measures to improve the energy performance of the Campus and of (ii) an energy management system connected to the technical management of the building since November 2014. As we mentioned on the call and as you just alluded to, we\\'re going to be taking a number of actions to align spending with this rate case outcome. We are, at the same time, we were reducing our debt and so we think that was important in this environment. A NEW GENERATION OF BIODEGRADABLE SHAMPOOS To reduce the environmental footprint of products that consumers rinse off (1), one of the avenues L’Oréal Research and Innovation is exploring is how to improve their biodegradability. I do think it was a tough compare coming off of last year. Moreover, it intends to make the most of its high-efficiency and low carbon thermal power plants alongside renewable means of generation. With respect to climate change opportunities in the United States, there\\'s no doubt, in the drought areas, we\\'ve had great opportunities with respect to water supply. Strategy Our strategy is to promote the success of the Group for the benefit of our shareholders, customers and other stakeholders through our focus on water and sewerage services, recycling, renewable energy and waste management. I think we need to understand why and make sure that, that doesn\\'t happen again. I think the key thing is we are seeing increased demand. They want to put their energy behind us and help accelerate those migrations to their platforms as well. Together, they delivered the energy the world needs, and positioned the company for the future. We also raised $418 million for the IFC Catalyst Fund — managed by IFC Asset Management Company — which invests in funds that support companies developing innovative ways to address climate change. We said that we\\'re focused on growing organically our mix of oil and NGL as a percentage of our total production. Once again, I mean, we\\'ll be doing that in a very systematic way and within our CapEx plans. During the course of the year, we\\'ll conduct, as Stu mentioned, more cost reductions, and we expect the aggregate of those dis-synergies to be $50 million, not to exceed $50 million for the 2 companies. Well, I think, there -- certainly, it\\'s a unique competitive environment in that I\\'ve mentioned there certainly are a handful of over-the-top folks that have been in the market in a relatively short period of time. So I don\\'t know really what\\'s happening in other companies and other approaches, but if you look across the board at NetSuite geographically, vertically and by market segment, mid-market and enterprise, it was strong across the board. Because you also -- sorry, you mentioned Dual Fuel and e-frac, certainly ESG is a big target of our efforts, right? Environmental data contributors are required to gather all the relevant data into a dedicated reporting tool. It was an office building constructed with a moderately sized data center component connected to it. Direct CO2 emissions are determined mainly by the usage of fossil fuel power plants. The method used for these impairment tests is consistent with that employed by the Group for the valuation of companies acquired in business combinations or acquisitions of equity interests. For gas, as you just saw the recent update on our energy outlook, we got gas growing about 1.6% per year. Myrtle Beach has a number of different sales centers, but really it was that market primarily that was impacted. And right now, I mean, these -- the gas taxes, the diesel taxes, the registration fee as a loan raised over $3 billion a year, all that will start taking place in November of this year. Our commitment to source 100% of our palm oil from sustainable sources is helping to avoid emissions from deforestation (see pages 14 and 47). For the most part, expenditure windfalls are used to repay the national debt. The other thing we\\'re going to see as I touched on is these efficiencies with the longer trains and the additional locomotives, that\\'s going to help, and that\\'s going to help drive down that requirement. We\\'ve seen strength across the business as reflected in the numbers. At present, this outlook is uncertain, but South Africa has signalled a reliance on carbon-intensive sectors (in lieu of previously planned renewables investment) for its current recovery measures9. In addition, with its level of feature such as approximately 160 tsubo of standard floor, 2,740mm ceiling height, OA floor of 60mm and individual air condi- tioning zone etc., In our medium-term plan, our target is to reduce costs in FY2015 by ¥8.5 billion or more in com- parison with FY2012 through generating merger synergies. So the $20 million to $25 million does not include our projects with Solazyme Bunge renewable oils in Moema, nor the Phase II facility that\\'s being built in the North of France. In May 2016, the NYSPSC issued an order adopting a ratemaking and utility revenue framework. As mentioned in the announcement dated 19 November 2014, Krasnoyar- skaya HPP suspended the supply of electricity in the amount required by KrAZ under the contract since Octo- ber 2014. New locomotive and wagon production remains on schedule with first rollingstock arriving in November 2014. Under the plan, seawater from the Red Sea will be turned into drinking water. Greenbrier\\'s approach to the market is to find a solution for both ourselves as well as our customers, whether it\\'s building railcars, leasing railcars or the like. 2100 Warming Projections Emissions and expected warming based on pledges and current policies. For the period 2013-2020, the award of free emission allowances is performed based on European benchmarks specific to each industrial segment, except for the thermoelectric sector that is not eligible for allocations for no consideration. Asset classes such as alternative investment and equity assets typically generate higher fees relative to fixed income and liquidity product assets. We strive to protect investment outcomes for clients, as demonstrated by our decision to close our institutional business to new clients in our South African equity and multi-asset class portfolios in 2012. The South Central business owns and operates a 3,555 MW portfolio of generation assets in the Gulf Coast region. It includes light-duty diesel and heavy-duty vehicles, and it will be effective in 2022. We believe it’s one of the most environmentally conscious textile mills not only in Pakistan but also throughout the world. There\\'s 2 elements of that coal to solar and battery program if we were successful. And yes, the way we\\'re looking at it right now, given the size of the business, particularly the Chegg Study business and, to some degree, the writing business. We will do the right thing in compliance with our Code of Ethics, supported by our Global Compliance Program, and we will care for our people, our communities, and our natural resources. Eco Markets margin growth was mainly due to higher market prices for Large-scale Generation Certificates (LGC) and AGL’s ability to meet a significant part of its compliance obligations through renewable generation and utilisation of existing certificates. Regarding internal carbon pricing, we have a dynamic internal CO2 price that is based on developments in particularly relevant regions such as the EU and on the corresponding targets up to 2030 and 2050. We\\'ve set goals for deleveraging, so we\\'ll -- the way we presented that plan is we\\'ll continue to pay down debt, with asset sales where we can most efficiently, meaning there\\'s no major tax impediment in doing so. So when we look at -- we\\'ve been in the 2% to 3% range. Ltd. 41 a) The Company has entered into preliminary agreement with one of the party for development and maintenance of Liquefied Natural Gas (LNG) terminal infrastructure facilities at Mundra (Mundra LNG Project) vide agreement dated September 30, 2014. Establishes principles governing social and environmental management, and oversees development of performance management to achieve social and environmental goals. Every company has to present enough certifi- cates to cover its total emissions at the end of each year. Banpu and its group of companies emphasize the importance of risk management in order to manage risks that may affect business goals and objectives to be a leading integrated energy solutions company in Asia-Pacific. You can see a market increase in that RPS standard between the years 2013 and 2014, and this is a result of solar legislation of 2012. Kurita will continue striving to develop and expand sales of water treatment chemicals that can help to reduce environmental impact and contribute to the effective use of water resources. Based on these scenario analyses, Tokio Marine Group engages in industry-academia collaboration to provide climate change risk research and natural disaster-related products and services, promote environmental protection activities such as mangrove planting, and implement environmental and disaster-prevention awareness programs. Our cost-reduction programmes continue to bring down our adjusted operating expenses. But as part of this economic cycle, we\\'ve seen deleveraging, a building up of liquidity and cash and our borrowing in our client base. I mean, we\\'re looking at all the different environmental benefits as well. The Medium-Term Management Plan ended in fiscal 2016, but we will continue to pursue further growth by stepping up our efforts toward the realization of Vision 2020. The Group is effectively supporting development in the country, whose electricity requirements increase significantly every year. We must work together to protect the environment and to ensure that agriculture and cattle farming is sustainable.” The Daikin Group believes that it is important to understand the concerns and expectations of its stakeholders through proactive communica- tion and report such voices to management so that it can utilize them in our business. GREENING OUR OPERATIONS 一、致力綠色運營 As a strong advocate of sustainable development, Everbright International manages the Group’s environmental, social and governance impacts from various aspects and establishes green operational practices. So the -- as part of the announced restructuring for both Genesis and ourselves this morning, is the commitment based upon contingencies of having a financing partner step up in that $105 million refinancing. The decision to begin producing renewable diesel fuel is also expected to result in strong capital returns driven by credits generated through the California Low Carbon Fuel Standard (LCFS) and federal Renewable Fuel Standard (RFS). Yes, I think you\\'re going to see that -- it\\'s going to be over a couple of year type time period. So I think the way you got to look at Q3 and Q4 is that the accounting piece of it is pretty much done. Keppel Volunteers planted trees at Keppel Discovery Wetlands to signify the Group’s commitment to environmental conservation. We are committed to getting our capital levels back to the pre-CECL levels by the end of 2020, which could mean that we curtail the 2019 share repurchase authorization a bit. ENVIRONMENT CONTINUED Climate change continued GHG emissions by scope, in CO2-equivalent ‘15 ‘16 ‘17 ‘18* ‘19 * Restated. And then we\\'re doing as much we can to offset the labor-related expenses. The other part is really general surgery, where the opportunity is more driven by the restricted measures the government takes against antibiotics and antibiotics overuse. However, Newcrest is seeking opportunities to improve its energy efficiency to reduce direct mining and processing costs and is assessing options to use renewable power generation and low emission technologies to reduce its greenhouse gas emissions intensity. It may be the fastest segment that we\\'ll see in terms of growth over \\'10 and \\'11, because logic is very much a single-wafer, clean-oriented environment and becoming even more so. So we\\'re starting to gain some awards, we\\'re starting to see better production, our costs are well under control. Both acquisitions remain in line with the Group’s net zero emissions and post-pandemic recovery strategy. It introduced a Transitional Electricity Pri- ce Stabilization Mechanism for customers on the regulated market. » Invest in socially and environmentally responsible activities to create positive impact. The loan is intended to provide financing for BPDB to purchase a complete set of facilities, including gas turbines (MITSUBISHI HITACHI POWER SYSTEMS, LTD.) Association PositionEvaluation Process Ford advocates for positions that are science-, market- and performancebased, environmentally sustainable, technologically agnostic and harmonized. Article 2 of the agreement also aims to ensure that finance flows are consistent with low carbon‑impact, climate‑resilient development. Strategic Report OPERATIONAL RISKS Risk description How this risk is managed Our future hydrocarbon production depends on the delivery of large and integrated projects, and our ability to replace proved oil and gas reserves. The emissions indirectly caused by the Group\\'s activities (Scope 3) amount to 10,152 thousand tonnes of CO2e, 86% of the Group\\'s total emissions. We need to start a hedging program, and now that we\\'ve got the LMR assets in Kentucky, where our diesel used both direct and indirect is much greater. 1 We will contribute to the realization of a sustainable society by developing new products and technologies that are conducive to environmental improvement. What you\\'re seeing, obviously here in \\'14, will continue in \\'15 but part of those savings go to fund some of these investments that we\\'re talking about. Going forward, we are determined to help solve social issues through our business activities, in addition to working on the Materiality identified as CSR. The Company views its continued spending on restructuring and cost reduction activities as part of its ongoing operating principles to provide greater visibility in achieving its long-term profit growth targets. We have -- I mean, we definitely are committed to having a safe natural gas deliverable system, and you know that\\'s probably some of our highest risk assets. By utilizing 3M Natural Pozzolan as a cement replacement, the greenhouse gas footprint of a yard of concrete is also reduced. Advanced plans to support the 5-year EBITDA improvement target with resources, capital and initiatives allocated to key programmes to realise the objective. • As we talked about, you\\'re talking about the whole $350 million there\\'s a couple of baskets there. This engine is the most powerful, 100% natural gas engine for commercial vehicles available on the market. According to the Edison Electric Institute (EEI), CO2 emissions for the electric power sector are now 15% below transportation sector emissions. Accounting policy for property and equipment In accordance with IAS 16, Property and equipment is stated at cost less accumulated depreciation and any amount for impairment. Just as a reminder, we are currently at about 40% or so of our total site locations covered with energy centers, and our current plan is to get to approximately 70% to 75% over the coming years. Historically, we have backed out significant adjustments to the environmental provision. Monday, the Senate approved the same union concession package, which closes the budget deficit by a substantial amount. In 2015, several green awareness campaigns were launched by the working group: • Yes, the big movement, Scott, was really in the Euro and then the Canadian dollar. So all of those are going to be covered by our current long-range contracts. We recognise that minimising the effects of our projects on the environment, understanding local social issues and positively contributing to our host communities are essential enablers that allow us to achieve the SDGs. Can New Jersey continue to afford to pay for a 0 emissions energy? So we are very pleased to be adding Clinique in these additional stores. Accordingly, it is appropriate to compare Newcrest’s performance to that of other gold mining companies. • The Tier 4 Dual Fuel technology, I think we highlighted that at an event recently. So they have a target of 2% inflation and 4.5% to 5% unemployment rate. The companies conduct autonomous activities by setting environmental targets corresponding to the environmental action plan. £149 million to acquire ENER-G Cogen, a supplier of combined heat and power (CHP) solutions that allow customers to reduce costs and carbon emissions by generating heat and power on site. Therefore, we delivered a first-ever program devoted entirely to super- visory responses to climate change-related financial risks and delivered our first in-country cross-sectoral foundational Core Curriculum program. If you look at the permitting challenges with either coal-fired power or nuclear, I expect that natural gas-fired power will be a major factor in gas consumption. The work on climate risk is at such an early stage, both for KLP and for the industry as a whole, that we do not intend to report on specific risk and opportunity factors. I think we\\'ve mentioned in the past that we\\'ve added a number of phlebotomists, whether they\\'d be in offices or in our patient service centers, and we\\'ve opened up patient service centers. And even though we have had a variety of driver-friendly initiatives to help keep our drivers at Swift proposed to going -- to drive for some other carrier. We have made good progress, with 76% of the Group’s electricity coming from renewable energy sources in 2019 and our portfolio repositioned to focus on the resources of the future. It\\'s one thing to have a full screen that shows you a hotspot of patients in the demo. Of course, as we talked about consistent with our EnergyForward strategy, we\\'re seeking the useful life extension at our Boswell facility, consistent with the remaining useful life of the extensive environmental upgrades that we\\'ve completed. They\\'re rated to higher kilowatts, which will take to new higher-output panels. 83% of the patents have already completed the registration procedure, while the remaining 17% is awaiting the result of the patent office examination phase. As part of its investment policy, Legrand’s management also provides the necessary resources for the implementation of actions to reduce energy consumption, involving suppliers and service providers in improving the Group’s energy performance. But we also are getting a better handle on what we think we need to do environmentally with respect to our side of the plant. We continually strive to improve the environmental and climate performance of our business operations globally. For example, Shell Business Operations centres in Kuala Lumpur, Malaysia, are aiming for zero food waste to landfill in 2020 and have implemented several waste projects. The disposals/write-off of CO2 licences correspond to the licences consumed during 2015 and delivered to regulatory authorities. I would just say we have -- it\\'s broadly implemented, and we\\'re getting progress on our price increases broadly. Essentially, ‘Bring Energy to Life’ means getting the heat, light and power that customers rely on to their homes and businesses. Basic units of CO2 emissions declined due to energy conservation activities such as BDF and using diesel fuel-effi ciency improvement products, using renewable energy, and overlapping completion dates for multiple large-scale projects in the building construction department. LAPFF promotes mandatory carbon reporting to the Hong Kong Stock Exchange. - It was negative in the first year, we still grew 6%, 7%, so we did our part. AXA believes that this work is compatible with the practical work conducted by the AOA with this ‘Call’ supports its members’ commitment to investment carbon neutrality, as well as COP26-related developments. This trend should accelerate as the U.S. had around 12 GW of gas-fired power plants in construction in 2017, and more than 20 GW are expected to be either under construction or subject to regulatory approval in 2018. Shell’s Technology organisation and the relevant business lines work together to determine the content, scope and budget for developing new technology that supports our activities. In 2014, we focused on screening and coordinating our environmental efforts. We also have high expectations to our pioneer tailings drybackfill method at our Paragominas bauxite mine in Brazil, that will eliminate the need to establish new tailing dams. In addition, we are also part of the CA100+ investor group to collectively engage the issuer on climate change. We\\'ve done very well with clinics in getting our message across to them. This review of fleet has resulted in 121 locomotives and 1,641 wagons being identified as surplus to the current requirements of the Group. Reduce energy consumption and establish the potential for renewable energy generation; – MID Urban Development Co., Ltd. 100 99.5% Building development, sales of housing, greening projects MID Facility Management Co., Ltd 100 100.0% Administration of office buildings, commercial facilities, hospitals; (4) Scope 1 and Scope 2 emissions have been calculated based on an operational control approach (unless otherwise stated) in line with the Greenhouse Gas Protocol Corporate Accounting and Reporting Standard. So with respect to the manufacturing, we have previously disclosed that there have been inspections both by FDA and EMA. I would just point out that we have other offsets within the AirTran cost structure to also help mitigate that. And I\\'m telling you it\\'s going to grow 2.5x faster than that just a few years later. But the GAAP will never completely close because you always are putting in some new timing differentials and tax credits. That means the program can get started in 2021, thereby taking into account the growth time of the plants required for the physical sequestration of carbon. NTPC has been reporting annually its absolute and specific carbon emissions through Annual and Sustainability Reports. Subsequently, in October, 2016 your Company announced its internal Carbon Price of USD 10 per ton of carbon emitted. In anticipation of the upcoming 2020 With the aim of promoting collaborations between foreign-affiliated companies entering the Japanese market and Japanese companies, as well as increased opportunities for investment in Japan, JETRO organizes corporate exchange events and networking opportunities. So our 8 to 52 ton range will be fully Tier 4 final compliant with other, by the way, with other enhancements in terms of transmissions, and as I said earlier, on low cost operation. The refinancing is expected to drive annual interest savings of approximately £20 million. And a lot of our initiatives include enhanced low-income programs along with it. We simply were acting to do our part to try to stop the crisis from getting worse. The indicator is based on the re- strategy and sustainability management. AXA was the first global investor to initiate divestment from coal, and the first to phase out the insurance coverage of coal clients. Utilisation of the Mount Piper plant in New South Wales increased as coal supply issues were addressed. The Meiji Group uses environmentally-friendly paper in order to protect the finite forest resources and help prevent global warming. Orange has specifically identified the exposure to physical and transient risks linked to climate change, and has committed to being Net Zero carbon by 2040. And we progress toward our fantastic Southern acreage position that is aligned to our Elevation Midstream solution in the Hawkeye and in Broomfield, Boulder areas, as Mark said earlier. However, the subsequent covid-19 pandemic has been of such significant global scale that, in line with our commitment to transparency, we believe we must also reflect on its potential impact on our activities. We have actually cut maybe what, 6%, 7% of our crude runs already, and that guidance has been put into what we put out in the third quarter. • Mexico: 3,500 MW of installed capacity in the last three years (largest private sector electricity producer in the country). We\\'ve said before carbon fiber and that is precursor as well as the carbon fiber lines are a big portion of our investment and do constitute a large portion of our 2014 spend as well. That\\'s the result of everything from the barbell strategy that Steve talked about to all the cost reduction initiatives that we have in place that we\\'re driving with our Project BEST Way. The methodological guide to VINCI’s environmental reporting system allows for environmental data to be calculated based on spending and average unit prices for the base period, if source data is not available. The Consolidated Entity comprises the Company and the entities it controlled at financial year’s end or from time to time during the financial year. Our heating and cooling solution involves pumping water via pressure pipes from a depth of 37 metres in the lake up to the Resort. Our Vision and Commitments Indorama Ventures has set itself a very clear ambition “to be a world-class chemical company making great products for society.” E The risk volume that is subject to credit risk management includes all of the Daimler Group’s worldwide creditor positions with financial institutions, issuers of securities, and customers in the financial services business and the automotive business. IFC’s climate commitments are aligned with the World Bank Group’s climate targets for 2021–2025. The opening of the hotel in 2015 will be the final phase of development. Continuing the installation of low and high voltage variable speed drives and energy efficient motors. The actions we have taken and the objectives we are working towards feature in a new Annex on Climate Change which supplements our RI Policy and is available from our website. DM is strengthening its positive impact, in particular by supporting corporate clients and individuals in their energy transition and through financial inclusion with Nickel. The targeted investment also enables Air Liquide to leverage its extensive pipeline network in Texas and Louisiana to deliver re- liable and economically priced air gases for other customers, thus creating value for the entire Gulf Coast. Priority will be given in receiving electricity from the Komiya Solar Power Plant owned by a group company. Bob has demonstrated excellent leadership and vision throughout this process and continues to develop the group’s strategy to adapt to new challenges ahead. Scope 2 emissions have been calculated using a location based methodology, as set out by the GHG Protocol. This is an important step in the Group’s journey towards a cleaner and more sustainable energy mix, which is also underscored by the rapid reduction in specific CO2 emissions, which fell to 296 g/kWheq (-20% compared with 2018). Regency is committed to sustainability and has been implementing measures to reduce our environmental footprint for many years. Those aspects relating to the fight against climate change are the responsibility of the Energy Policies and Climate Change Division. At this time last year, we saw a denigration of business of 50%. Eiffage has been committed to a proactive biodiversity protection policy since 2009. As one of the world’s largest investor-owned utilities, we will work alongside policymakers to ensure we can deliver clean, safe, reliable and affordable energy to customers today and tomorrow. New rolling stock that are significantly more energy efficient than the units it replaced were introduced on the GTR franchise. Relationship with Our Associates) • We fulfill our role as a good corporate citizen and actively undertake social contribution activities. ( I mean, most of our energy exposure is in our BITCO subsidiary, and that\\'s a -- pretty much a middle market, energy-servicing type of exposure. We work with our suppliers to ensure compliance with the Sustainable Agriculture Guiding Principles by 2020, and we have a clear roadmap in place to achieve this goal. Our approach to determine pay reflects the need to strike this balance. 4 Calculation includes CO2, CH4, N20, HFCs, PFCs, SF6 and NF3. We are now using the outcomes to investigate cost-effective improvements to local water management systems. Our Approach to Sustainability — Sustainability Governance and Risk Management • The Board Sustainability Committee considers climate-related issues when reviewing and guiding strategy under SV2030. The joint venture will aim to be a leader in mobility and low-carbon solutions, bringing cleaner and affordable options for Indian consumers with digital and technology being key enablers. We\\'ve set new production records time after time after time to the point now where we\\'re looking at debottlenecking our polyethylene. As for residential central air-conditioning systems, we attracted many inquiries about our high-value-added air-conditioning systems for custom-built houses, which address the advanced, diversifying needs of customers seeking a comfortable and healthy indoor environment. [Audio Gap] but we expect to continue to grow our oil production in Egypt. The scheme will also provide 20 affordable housing units on-site in an area of the West End which is short of this type of accommodation. We’re going to basically, after we restart Delaware City up, be able to move that material over to Delaware City and turn it into ultra-low sulfur diesel at Delaware City. Without any special efforts, the Company has been able to seamlessly connect to the Company’s network while working from home and continued production even with a skeletal workforce physically present at the mines and plants. And so that\\'s why we are driving toward that and making sure that we achieve that target. And we have a strong certainty that the spending of $30 million will drive to an increase of capacity by 4,000 tonne by the end of this year. The guests participated in the Environment Policy Division meeting, toured domestic plants, and exchanged opinions on environmental management in Japan. We\\'ve got 2 wells that we said we were going to tie in from Phase 1A by the end of the year. In addition to construction jobs, Westgate Oxford will provide around 3,000 new retail and service jobs when it opens. The group prepares annual reports with evaluations and follow-ups of the monthly average flows of the projects, creating an overview of the water resources used for energy generation. There will be an incremental capital to get 800,000 tons by the 2015 period, but it will be on par with $100 million. As for inter-industry cooperation, we have started to make considerations for developing a next-generation disaster prevention and mitigation service through the partnership of KDDI CORPORATION, Toyota Motor Cor- poration, and OYO Corporation. So again, either on a per member per month basis, PMPM, or shared savings. This means that each one of our brands pays an authorised non-profit waste manager in every market (for instance, Ecoembes in Spain) for the cost to collect and manage the packing and packaging materials used for customers. HusCompagniet’s archetype house, including upstream and downstream emissions, is more energy efficient and emits less carbon per m2 per year over its lifetime than houses in nearly all other energy classes. Deeper rollout of 4G-LTE networks has meant increased mobile internet penetration in rural areas to 35% versus 13% at the time of Jio’s launch. For example, it does not emit CO2 and is thus effective in curbing global warming. The exchange rates used for the consolidated income statement and balance sheet are set out on page 123. However, the CCFs are estimated over multi-year time horizons to produce unbiased model estimates. We\\'re continuing to drive profit margin improvement by focusing on manufacturing excellence and cost management. And albeit that things like FLNG and I guess the offshore side of Hydrocarbons continues with some activity, these are onshore LNG projects that we are doing right now. In this regard, Abengoa has defined a climate action mechanism by establishing an internal carbon price, aligning it with the emerging climate regulation as a result of the Paris Agreement and with the evolution of the business. And so our focus right now is to continue to de-lever, and then to reinvest in these projects as we identify them so we can really execute de-lever and to increase our profitability. We are working with others in the industry more broadly to see how these barriers can be reduced and so play our part in reducing the number of single-use coffee cups that go to landfill. We added a few hundred in the first quarter, a few hundred in the second quarter. Impacts on energy and CO2 costs (including impact on raw material costs) and impacts on main markets have been assessed. Furthermore, the sawmill co-location project at the same plant has delivered further savings. And they did a great job coming back to us with a reengineered plan where we reduced our CapEx overall of the project by about $7 million or $8 million while reducing operating expenses and increasing the margin overall. They are very anxious to see lithium introduction increase, and this is a country that as you know, really wants to see as much domestic lithium production as possible. The -- our -- us jumping up into the fourth rig could be late for couple of quarters. In the KARMOL brand LNG-to-Powership business, gas used as fuel will be supplied to the powership from an FSRU. Our Mangala EOR continues to deliver strong performance with Q4 FY’17 volumes at 56,000 bpd. So when you\\'re looking at 17% increase in revenue, but the expenses are incurred at a much higher pace. And in government services, there is both support of the fleet around the world as well as participating in the Department of Energy areas. Strategically, we\\'ll continue to execute on our price-led organic growth strategy with a goal of continuing to improve our free cash flow over time that will be used to either enhance our operations through acquisitions or repay debt. We remain deeply committed to ensuring environmental, social and governance issues are included in our investment analysis and decision making and continue to drive better integration of carbon and climate risk factors into investment decisions. Torata Dam, maintains constant water flow to the population in dry seasons, Cuajone Unit, Peru. As far as price increases, I mean, there is no price increases currently on the horizon. And so we think there is some natural momentum that will probably continue to show up there. Our tilt has been towards organic and we\\'ve added to our fleet, we\\'ve improved utilization, we\\'ve done a lot of good work with pricing, and it\\'s a recipe that\\'s worked pretty well for us so far. Furthermore, we will combine IC tags and sensors to contribute to the building of cold chains, a logistics format for appropriate temperature control with little environmental impact. We have ambitious plans in place for the year ahead, including taking three strategic land sites through the local planning process in order to provide much needed housing land for the local community, principally on brownfield sites. We\\'re making good progress to that, and we\\'re staying within our capital constraints. Because when you look at the smelter, we operated at very high production rates, our feed mix was about 74% from EAF-based feed. The exciting part is it leverages, obviously, relationships that maybe we don\\'t have with the marketers. We do supplement our coal tar requirements from Russia and we have an excellent supply chain systems out of there, works well. In this regard, we have set ourselves ambitious goals through to 2022 to address our social and environmental impacts, while supporting the Burberry Foundation in creating long-term partnerships that fuel innovation and transform communities. So there will likely be quarters in the next few quarters, where we have large uptick in that business. By the end of the year we had introduced four A350s, each capable of carrying nine per cent more passengers than the A340s they replace with efficiency improvements of around 30% fuel burn per seat. Nevertheless, the Company has a plan to continue the well completion when natural gas prices increase to maximize benefits from the well. In November 2017, NI Water Limited acquired a number of companies which are contracted to provide bulk drinking water supplies under a Public Private Partnership arrangement. In 2020, UPM Specialty Papers collaborated with 4evergreen Alliance, a initiative by CEPI (the Confederation of European Paper Industries) to further accelerate the fibre-based packaging in the circular economy. Through its power generation and water businesses, Marubeni aims to become a major global player in the public utility fi eld. Group 6 305-2 Energy indirect (Scope 2) GHG emissions Environmental footprint. And that was we\\'re looking at all of our programs across the board, there\\'s been an increased focus and attention, not only in terms of driving productivity, but also in a disciplined cost management. As we look into 2015 and as we progress through 2014, we\\'ve been, slowly but surely, growing our Eco Brass sales. To adapt to diversification and expansion of the energy business domain, the Power Business Division is committed to be a part- ner always providing optimal power/energy solutions to meet and satisfy stakehold- ers’ and society’s expectations and needs. We are required to hold allowances equal to at least 50 percent of emissions in each of the first two years of the three-year control period. Renewing Britain’s rail infrastructure Our ambition is not only to provide high‑quality housing but improve the quality of people’s lives by helping to upgrade infrastructure. :R  educe 30% by 2030 compared to 2013 levels Renewable energy adoption : I ncrease 10x by 2030 from 2013 levels Kyocera Group Environmental Safety Policy 3. 10 Looking forward, we expect to continue to focus on expanding our offerings within impact and climate-oriented strategies, as well as further building out our ESG index offerings. The construction work has commenced with a targeted completion for Unit 1 in January 2022 and Unit 2 in May 2022. High ambitions in sustainability As at 31 December 2015, 71% of Vasakronan’s property portfolio was eco-certified and around half of the company’s customers had elected to sign green tenancies (a form of contract first introduced in Sweden by Vasakronan). The National Emission Ceiling Directive 2001 is currently being revised and subsequent source-control measures by Member States may be required to meet national emissions targets. And if the mix stays around the same, it\\'ll be somewhere in the 50 to less than 60 basis points range on average. \\uf0cc commit to continuous improvements with respect to management of the environment, social policies and governance (“ESG”); And going forward, all our focus is going to delever as much as we can to get back to the ratios that I just mentioned. Its current business focuses are aligned with the world’s most prominent trends in energy saving products such as new LED lighting (indoor, outdoor, and automotive), cloud computing power supply systems, solid-state drives, and automotive electronics. Ontario’s climate change plan aims for electric and hydrogen passenger vehicles to represent five percent of new vehicle sales in the province by 2020. Plus, too, we referenced in our press release and some of the prepared comments there, too, that we did see -- we got a little bit ahead in our cost reduction, so that flowed through. Smart energy markets are growing very nicely for us, and we\\'re actually growing very nicely in the automotive markets. So we\\'ve stripped out a lot of costs, we\\'ve taken out a lot of capacity and year-over-year, it\\'s actually been a positive cash generator. So we\\'ll be a little bit cautious, and we\\'ll monitor the environment as we go forward. DNB regards its corporate responsibility (CR) as a shared responsibility towards achieving sustainable economic, environmental, and social development in the areas and business sectors where the Group operates. And one of the ways we win is that a really broad selection, personalization, ease-of-use and otherwise it\\'s just a habit, like being able to see the red Netflix button on the remote control. This decrease was mainly due to lower generation of 4.9 TWh from the regulated nuclear generation segment as a result of the removal from service of Darlington’s Unit 2. IBERDROLA Group was awarded 476 MW in Baltic Eagle and 10 MW in Wikinger Süd, whose commissioning is expected in 2023. Through our production & operations business, we aim to produce the affordable hydrocarbon energy and products the world needs and generate cash to fund our operations and our transformation to an Integrated Energy Company. Praised for environmental activities joining the Company and the home as one Since 2008, FANCL has brought together its directors, employees and even their families to promote efforts to reduce CO2. Between 2014 and 2016, ten 777-300ER passenger aircrafts were introduced, and the benefits generated from their fuel efficiency are significant. We are focusing on reducing scope 1 emissions by electrifying our operations. Environmental Policy 1.��Environmentally-friendly�corporate�activities We are keenly aware that all stages of our business relate deeply to the environment, from development, production, and sales activities to end-of-life disposal. So in terms of the sustainability initiatives, we\\'ve been pursuing that for the last few years. So we\\'ve stated in our long-term plan that we\\'ll get to at least 90%. Abengoa’s experience in renewable and conventional plants both in the construction and installation stages accumulates more than 12.8 GW. 167–159 g/km) achieves outstanding fuel efficiency with the newly developed M 256 six-cylinder gasoline engine. And that is probably the biggest dynamic there, what you have, the general price. It allows National Grid to deliver more clean and affordable energy to customers, reflecting our efforts to lead the way in supporting net zero ambitions through harnessing innovative solutions. And so our mission is really to expand the usage of silicon carbide throughout the industry, and I think the supply agreement is one example of us doing just that. Launching the low and middle income mortgage schemes in line with the CBE country-wide initiative, in addition to revamping the policy program to cater for the growth. • We have, by far, the best fit in the business, not just an individual fit, but the best fit across all of our different silhouettes in the business. Pursuing a Low-Carbon Society As we strive to achieve a low-carbon society, the development of new technologies related to renewable energy and electric power are awaited with heightened anticipation. WASTE AND PACKAGING Each Industrial and Safety business strives to reduce waste-to-landfill and water use and to improve energy efficiencies where possible. We are developing hydrogen trials and investing to understand the impact of hydrogen on our existing gas assets to address the decarbonisation of heat. I think the environment -- we have obviously very strong financial results despite the -- our inclined environment. We will also pursue stable and efficient operation as we strive to contribute to the development of steel industries in Japan and other Asian countries through a reliable supply of high-grade iron ore. The facility combines a compressed natural gas filling area (CNG) and a rapid recharging point (50kW) for electric vehicles. First, if you think about what drives our outperformance in a lot of the quarters is our IMAX screens. Government approval is also pending for the methodology of charges on natural gas and electricity consumption, destined to finance other costs of these sectors (namely the ones from the energy policy) starting in 2020. These requirements apply both to regulated utilities such as CECONY and O&R for the customers they supply under regulated tariffs and to other load serving entities that supply customers on market terms. My goal or what I really like to do is to try and grow the company organically. We\\'re seeing of more what they refer to as REM or research energy management programs. (3) BHP currently uses Global Warming Potentials (GWP) from the Intergovernmental Panel on Climate Change (IPCC) Assessment Report 4 (AR4) based on 100-year timeframe. And some of that gets offset by increase in COGS as it goes through the network. E.ON’s increasingly international renewables busi- ness will therefore continue to invest in attractive target regions. Intelligent Information Technologies The searching, sorting, filtering, navigating, real-time analysis and understanding of large amounts of environmental data are central to the achievement of sustainable innovation. GLC formally includes environmental, social and governance (ESG) factors into the disciplined investment processes in place across its investment divisions. In all these relationships we share our know-how and access to information so we have a better understanding of the marine environment and the requirements of those who use this vital national resource. We can do this thanks to a strong and diversified portfolio of physical assets and contracts, including our initiative to underpin the development of 500MW of renewable energy with contractual offtake arrangements. Look, I would say this, obviously, we have a very robust 5-year plan and we have identified in that plan the opportunity for an incremental $2 billion, one for grid mod and another for wind investment in Missouri. I can recall myself, when I lived back in Europe early \\'90s and so forth, there was this German health care reformat. Environmental Matters The Company is currently participating in environmental assessments and remediation at approximately 30 locations, the majority of which are in the U.S., and environmental liabilities have been accrued reflecting management’s best estimate of future costs. We\\'re right on track with respect to achieving our goal of $50 million of annualized savings in the -- by the fourth quarter of this year. Across every industry we serve, we partner with our customers to deliver the best results at the lowest total cost while reducing water and energy use, greenhouse gas emissions and waste. 50% of our UK and Ireland customers’ homes at or above EPC or equivalent rating C by 2030. ( The acquisitions represent a milestone for CLP India, which has now broadened its portfolio to include two of the three main segments in the country’s power value chain. J. Transparent Disclosure of Environmental Protection Responses and Performances Since 2012, the Company has been publishing its Corporate Social Responsibility (CSR) Report every year (former titles include the Environmental Sustainability Report and Corporate Sustainability Report). Um diesen Bedrohungen entgegenzuwirken, sind Unternehmen und Industrieverbände in intensiven Gesprächen mit der EU-Kommission, um effektive Maßnahmen zum Schutz vor der Verlagerung von CO2-Emissionen zu definieren. No change in architecture, but really a delay of server spend, which is causing a delay in network spend. So the way our model has currently been built, we would look to pay down debt with our free cash flow generation that we\\'re planning on generating this year, which is around $20 million to $30 million. The annual production will be addressed, for a 50% share, to the internal consumption of the company located in the industrial site and will allow to avoid the emission of approximately 22,000 tons of CO 2 eq per year. Well, certainly, when we have given the broad 3-year time frame guidance, that would not have incorporated anything related to the accounting change. In addition, we work with the National Union of Students (NUS) through their Positive Impact Awards to encourage environmentally friendly living habits by our customers as they live independently for the first time in many cases. The emphasis is on measuring methane leaks, and in 2019 industrial pilot schemes enabled real-life testing of the technologies selected during test campaigns on the Lacq platform as part of the TADI (Total Anomalies Detection Initiatives) project. But we kind of saw the market through third quarter, 3.9 percentage-ish. During the first quarter of 2019, gas reliability issues were worked on by the operator with the reliability of the gas system enhanced by having a spare high-pressure compressor made available. Metals are steel raw materials that contain a high percentage of metallic iron, which can support the steel industry in its challenge to reduce carbon emissions, meeting its quality requirements with less investments, while using more advanced technologies. The 4 degrees scenario also demonstrated that IAG would incur additional operating costs, but in this case, these would more likely arise from increased cost of operational disruption due to increased frequency of extreme weather events. Internally, under its ISO 14001:2015 certification for Environment Management System, the Bank has launched several initiatives to rationalize resource consumption, reduce waste consumption and pilot projects involving usage of alternate sources of energy. The staff nominated and selected their top six social responsibility projects which they support over the calendar year, enabling them to be Connectors of Positive Change. Desalinating water A desalination unit was installed on the Flamanville 3 EPR site in 2016 to complete the means of producing demineralised water for the process as well as for the other tranches. Although improvements in efficiency are being made, for example through increased automation, there is more to do, and plans for 2020 include moving 300 roles out of London to more cost-effective locations. And we\\'re sort of at that tipping point here in 2014, where we\\'re generating free cash flow for use in debt paydown for the first time, and that accelerates into 2015. Cost, the reason that question is hard to answer is we’re getting much more efficient, we’re driving cost down, but we know that the service costs are also escalating. I think our -- and as I said in my remarks, both the energy efficiency and advisory energy business showed respectable growth in Q1. The way to think about it is we have to come to one system across Tyson Foods, which is not an unusual thing for companies to make sure that they\\'re doing that in a proper way. We put capital into action to fund socially purposeful, sustainable solutions and reduce exposure to activities that adversely affect society and the environment. The #1 thing our brides and grooms tell us they need to know, before they\\'re comfortable going on a tour, which is the steps before ultimately booking a venue, is whether or not it fits within their budget. So, you\\'ll still see that same QTS de-risked approach in terms of how we enter markets. We are just being conservative because we don\\'t know what\\'s going to happen with the economy going forward. New functionalities in the Iberdrola Public Recharge App for electric vehicles, such as “pay-as-you-go”, a route planner, online booking, and access to the largest public recharging network in Spain, which also includes recharging points in Europe. Carbon emissions from investments (Scope 3) are reported separately on page 24. Energy consumption, water consumption, and greenhouse gas (“GHG”) emissions data for the periods indicated based on the most recent available information, assured by DNV GL Business Assurance USA, Inc., are as follows: In 2016, our Ghana asset reached a turning point with the start- up of oil production from the Tweneboa, Enyenra, and Ntomme (TEN) fields. So full year will be flat, driven by really the tailwinds from the strategic initiatives will offset some of the cost increases that we\\'re experiencing in the first half of the year. To enable year-on-year comparison of Dialight’s greenhouse gas emissions, an intensity ratio has been determined. Our plan is to upgrade the Sakura Plant to “mother factory” status, reinforce our production systems in Japan, Thailand, and China, and reduce production costs. And unlike last year, we started to see cooler weather arrive later September into October. 1) expand ESG-based products, including green renewable energy investment instruments, 2) Pursue inclusive finance aimed at protecting financially underserved groups and providing them with stable financial services, 3) integrate advanced ESG factors to examination of loans and investments. Agricultural customers are offered a recycling insurance that is distrib- uted in cooperation with the Keep Sweden Tidy Foundation to reduce scrap and environmentally harmful waste in the Swedish countryside. The properties we own have a significant direct impact on the environment that Alecta is working actively to minimise. • Thanks to the agreement, it will be possible to increase by 50% the heat available in the Bergamo district heating network, recovering it from the Dalmine waste-to-energy plant. In addition, KAMS introduced a system that can recover the water contained in the treated wastewater sludge through evaporation and reduced pressure dehydration, thereby enabling the recovery of a greater volume of reusable water. In addition, EnBW is striving to maintain an internal financing capability ≥ 100% and thus a constant level of net financial debt. Fretin also makes 100% recycled concrete for curbs and paving slabs. The division has a strong focus on operating its facilities in a manner which minimises the impact on the environment and it monitors emissions from its sites. A Various acquisitions have taken place throughout the year, and we continue to roll out training on all good governance and compliance matters as part of our integration process. While 3M converts its operations to wind and solar power, the company continues to support the global renewable energy sector by producing solutions for customers that improve the reliability and efficiency of renewable energy, including solar and wind. 3 Carbon emissions data is provided and calculated by MSCI Inc. MSCI collects reported Scope 1 and Scope 2 emissions from each company. Capital management In 2018, we made further progress on our capital strategy, which is aimed at operating on a more capital-light basis, predominantly by means of reducing our corporate loan exposure. As the Group will earn a full year of income from the Liberty Living portfolio and deliver synergies in 2020, it is expected that the 2020 full year dividend will be covered by operating cash flows. In 2010, we successfully achieved fully vertically-integrated solar module production and made sales of solar modules our largest source of revenue. ■ Examples of CO2 emission reduction through conversion to natural gas and highly efficient usage As an energy business operator, Toho Gas Group is implementing countermeasures against global warming, taking into consideration the value chain. Utility usage is still a bit low, and the commitment to renewable sources is still going to need some policy help. I don\\'t think that -- I would say that we haven\\'t seen anything that would alter our opinion of how we look at the compliance-driven part of legislation for the Howden business. The abil- ity of the issuer to measure the environmental impact of the project financed is also key for us, and Vattenfall is willing to provide environmental impact indicators in their annual and sustain- ability report. To date, the Company has interconnected over 2,000 MW of solar across its Northeast US service territory. Our flagship platinum mine, Mogalakwena, is the highest-margin primary platinum producer in the industry and, as the only large open pit PGM mine globally, is at the centre of a more flexible, competitive and lower risk business. But our focus remains on getting through our skilled nursing exit, on focusing on our overhead and efficiency rationalization, on getting through LTAC criteria and driving what we believe is a really effective strategy for the future. Our management team has extensive industry knowledge and experience, having completed its first renewable energy financing more than 25 years ago and its first energy efficiency financing over 15 years ago. VERBUND’s target is to reduce the energy intensity in 2021 by 25% compared with 2015. In 2020, JPMorgan Chase was the number one underwriter of green bonds, and the firm’s broker-dealer subsidiaries underwrote $23.7 billion in green, social and sustainability bonds. Pages 469-470, 499-505 and 572-577 c. Describe the resilience of the organization’s strategy, taking into consideration different climaterelated scenarios, including a 2°C or lower scenario. Under its updated Climate Vision 2050, the Group took the strategic decision not to invest in any additional coal-fired generation facilities and to progressively phase out all remaining coal-based assets by the middle of the century. Going forward, we will accelerate these efforts, aiming to raise the share of renewable energy in our total electricity consumption to 2% by fiscal 2030. So even when you talk about the segment of stock, they really serve that low-cost value-based customer, which we cannot do. As aging coal-fired power stations in the United States get decommissioned, power sources will decrease in number, and expected to take their place will be thermal power plants fired by natural gas, an environmentally friendly new power source. In China, not a lot has changed in the last 90 days that we spoke. We\\'re in the process of preparing publications for the Phase II data, and they take time. But I\\'d say there\\'s a pretty good chance we\\'d have a 2-rig program going into Eagle Ford and continue our 1-rig program into Bakken next year. We feel good that as we look forward into the future, we\\'re going to grow with where that end market is growing at. The cost came in -- first of all, the synergies came in, in line with our expectations. Sustainable mobility Our solutions are essential for the growth of the autonomous vehicle, which allows greater energy efficiency. So in keeping with our guidance being up double digits in retail for the full year, we\\'re tracking to that and we\\'re on plan. And we are materially -- it\\'s not totally complete, but we\\'re well on our way to have fully realize that $25 million worth of savings. Corporate & Government Advisory – Support to state governments of Rajasthan, Telangana and Punjab for developing comprehensive electric vehicle (EV) policies, incorporating aspects such as EV adoption, charging infrastructure development, manufacturing, innovation, and skill development. The total generation contributed by coal stations is 249.71 BUs during the year against generation of 262.47 BUs last year. Through an agreement with US-based Genser Energy, an independent power producer, Tarkwa and Damang are now being supplied with gas-fired, on-site energy. SPDC has taken big strides in building what is expected to be the largest gas facility in the country at the Assa North-Ohaji South project. In fact, we\\'re starting to look at our rollout and development schedule for fiscal \\'15. Looking further ahead, however, we need to take new measures, such as seeking a balance between natural gas and renewable energy. * Total CO2 emissions in FY2014, when calculated with the same calculation methodology (category and boundary) as that used until FY2010, are 2.43 million tons of CO2. • On the one hand, it designs, manufactures and supplies cells as well as the highest-efficiency crystalline silicon- based solar panels on the market. In 2018, for example, we invested in the solar energy com- pany Otovo, which helps home-owners to install solar panels on the roof. Because our FUSION battery outperforms some of the other alkaline batteries and will be priced higher than our base Rayovac ready power battery. In addition, March 2018 we made an announcement of Aeon Decarbonization Vision 2050, which declares our commitment to working with customers, business partners, and all other stakeholders to realize a decarbonized society. One is that Europe was phasing in their carbon approach, and so there are some additional phases that are yet to come in, that we think will continue to drive growth. The latter figure constitutes 75% of total non-hazardous waste generation (25 percentage points above the 2020 objective of the Waste Management Plan). This is pursuant to Singapore’s Sembcorp Utilities, a wholly-owned subsidiary of Sembcorp Industries, agreeing to buy a controlling stake in Green Infra, an IDFC Private equity fund- promoted independent renewable power producer in India. Then we\\'re also using, we\\'re also aiming to deliver this calendar year our first flex plans with mobile wireless. We have that now in stores here in the Metro, the Des Moines Metro area. By using the latest technology and a significant amount of recycled paper as a raw material, the machine will reduce the overall specific environmental footprint of the mill. Development is currently ongoing, with the aim of expanding the biofuels business with new types of technology concepts and biomass-based raw materials. We are also working together with LKAB/ SSAB and Preem (see page 57) on two other projects aimed at using electricity to eliminate fossil fuels and reduce green- house gas emissions. The company will also actively contribute to strengthening the pro- portion of women by recruiting women in these types of jobs. And so I think fundamental and sustainable and significant growth in a distribution grid, not counting smart grid retrofit upgrades which is occurring, is going to be linked with the non-resi Construction cycle. In addition, we successfully developed FENC® TOPGREEN® Membrane, the world’s first waterproof breathable polyester membrane made from recycled material, which was awarded Top 10 at ISPO Textrends 2020. And we\\'re very hopeful it will pass in Congress soon, because again, it\\'s safer, it\\'s more efficient and it\\'s less fuel, and it\\'s in exactly the same vein as this dimensional weight increase. APA will continue to work with all relevant stakeholders, including customers, industry and government to realise immediate as well as longer term solutions so that the domestic market benefits from cheaper gas. Supported by a new, bespoke regulatory model designed to drive the right behaviours and outcomes, the ESO will facilitate the transition to a zero-carbon power system. A significant challenge for BlueScope is matching the desire to decarbonise operations with the need to remain competitive. In addition, the subsidiary in Thailand, Asia Sermkij Leasing Public Company Limited has also been granted the BBB+ rating from TRIS Rating. I mean, so you might get a $15 million deal on a small deal. Those revenues have not really impacted our results yet, so we\\'re looking for that to start to impact the back half of the year. Tullow expects annual production from its UK assets to average around 1,900 boepd in 2018, which takes into account cessation of production at the end of the third quarter of 2018, ahead of decommissioning activities. Also, increased investment from overseas Taiwanese companies and in wind power and the deployment of 5G could spur sustained fixed investment growth. [D] Emissions from the purchase of electricity, heat, steam and cooling for use by our facilities in the UK including its offshore area, calculated using a market-based method as defined by the GHG Protocol Corporate Accounting and Reporting Standard. And I believe that we will be on every skinny bundle package going forward. The active involvement of our people, through volunteering, remains at the core of our social investment strategy. The decision to raise the amount above the $10 billion target will depend on the environment that we\\'re in and that we foresee. We had a severe offset frac impact to this at both Catarina and Karnes at the same time right around the end of the year, knocked out our 5 of our best wells and around 12 wells in Catarina. And it\\'s applicable on the B2C space, mostly in pension payments or payroll. And then with respect to additional asset sales, again, nothing to comment on there. In partnership with the Inter- national Union for Conservation of Nature (IUCN), Holcim will continue to replace more fossil fuels with alternative energy sources and increase its use of industrial by-products such as fly ash and slag. Site-specific EKPI performance impacts the compensation of all employees at that site, fostering collective accountability and environmental commitment within the workforce. In challenging management\\'s forecasts, we considered the extent to which they reflected the energy transition due to climate change. And Evan, as Balu mentioned in his prepared remarks, we see accelerated growth in the second half with all these new introduction products, including the revolutionary product. Astec, we are continuing towards the process of transitioning the product from down in Tennessee into one of our manufacturing plants in Wisconsin; that process is going well. The FSMA ascertained that a limited number of pension institutions did not comply with their declaration obligations. For almost two decades, Macquarie has worked with governments and clients to drive the energy transition and advance solutions to climate challenges. Climate strategy To better understand potential climate change impacts, risks and opportunities for the Bank, and to build the resilience of our business and our customers, we are taking a phased approach to scenario analysis. The project is now well under way, with the underground operation expected to be the mine’s principal source of ore during 2023, extending the life of mine to 2046. It looks as if the world will face a number of major turning points in 2050 involving problems in the areas of global warming, population, energy, and food. That hasn\\'t changed to any large extent over the last quarter, over the last year. The plan stresses the District’s objectives to preserve and protect the environment, adjust to new regulations and water system changes, seek cost- effective collaborative solutions and prepare for uncertainties including climate change and challenges in the Sacramento-San Joaquin Delta. The power consumed at Desigual headquarters in Spain and in its Spanish and German stores is derived exclusively from renewable sources. All de-characterized structures will be reintegrated into the environmental context, seeking to ensure environmental performance compatible with the territory in which they are located. And we would rely on natural deleveraging as we improved our cash flows. And as we\\'re not spending -- outspending cash flow, maintain our debt position in such a way that we\\'re not going to create any issues for ourselves. Glencore recognises the importance of continued reductions of greenhouse gas emissions from our operations. In conjunction with this agreement, we are opening our first U.S. factory in Jacksonville, Florida, which is expected to commence production in the third quarter of 2018 and reach full production capacity in the first half of 2019. We all -- but we do like the balance between the 2 rigs in the Panhandle and the third rig in East Texas. Compliance with RGGI can be achieved by reducing emissions, purchasing or trading allowances, or securing offset allowances from an approved offset project. With the cooperation of our suppliers, the progress of Forest-derived Raw Materials Procurement that has obtained third-party assurance of sustainable paper and pulp has exceeded our plan for procurement of sustainable materials. I think it\\'s probably, there are some environmental equipment upgrades we need to make. We\\'ve met our commitments on paying down debt earlier this year. We each have a role to play if we’re going to achieve these goals of a more prosperous, equitable, and sustainable world. Complaints warranting investigation by the Consumer Council for Water (CCW) reduced from 63 in 2010/11 to zero in 2012/13 and 2013/14 and two in 2014/15; • For example, activities related to electronic waste, residential solar energy, and energy efficiency were carried out. The Board of Directors is responsible for defining the company’s tax strategy, as well as ensuring compliance through an appropriate control and supervision system. In line with our support of SDG 13 and recognising the need to take urgent climate action, OCBC became the first bank in Southeast Asia to stop new financing of coal-fired power plants. But there aren\\'t a lot of silver bullets that you fire in a business like this. The first step will entail commitment in the new energy automobile industry, in-turn accelerating the transformation and upgrade of Hon Hai on the path of sustainable management. Coupled with an ambitious energy efficiency programme, this has led to a 49.6% reduction in our carbon emissions in absolute terms since 2015. Sweden is in an exceptionally good position to succeed with this shift, not least owing to its ample access to fossil-free electricity. The proceedings for constructing East Anglia Hub, grouping three projects with a total installed capacity of 3,100 MW, in the upcoming years have been initiated. Waste As part of our ambitions to move toward a circular economy, we aim to reduce the amount of waste produced at DSM. Under the concept of the world’s best energy-saving textile mill, the factory is fi tted with lighting fi xtures, air conditioners and other equipment that incorporate the latest advancements in environmental technologies. Our growth strategy includes raising awareness of climate impact to educate potential customers to embrace LED and move away from older forms of lighting which are damaging to the environment. Relationships are starting to be made and in the field with our reps and the Roche reps to early to tell or make a call on the program. But we have agreement with the city, and again, we\\'re on track to complete the facility for the first phase of this by the end of 2019. With the library built below the water table, we also used a multi-barrier approach to manage the risk of water ingress into the building. As you know, we have excess cat capacity, which does allow us to swing distillate towards gasoline probably more than other people because we don\\'t run the cat full when we\\'re in max distillate mode. I mean they were terrible last year for the first quarter and they certainly were significantly improved in the first quarter this year. 2020 sustainability footprint Environmental footprint See section 5.3 Preserve and renew the planet’s resources. In its interim report, published in July 2017, the Expert Group suggested the EIB should coordinate the creation of a clas- sification for climate finance, starting with climate change 472017 ACTIVITY REPORT mitigation. In addition to NEXBTL feedstock expansion, a major effort was put on research of alternative refinery feeds including renewable and fossil waste based feeds, e .g . We also now have terminals where we implemented an I-IoT platform with sensors to optimize the use of our energy consumption, and provide benefits to our customers. And the third part is that it reduces the carbon footprint of the industry in that country. Our biomass units continued to produce high levels of renewable electricity from sustainable wood pellets for the UK market – Drax produced 15% of the UK’s renewable electricity – enough to power Sheffield, Leeds, Liverpool and Manchester combined. — Scope 3 GHG emissions stood at 1,078.50 million tons of СО2 equivalent. So we\\'re doing all we can to keep them -- get them boating this season. And this 37% already of treated patients is terrific, and that bodes very, very well for TAF bictegravir. In terms of leverage, I mean, our goal with our capital deployment strategy is to continue to naturally de-leverage our balance sheet. They\\'re at a lower tax rate and have helped the overall blended. This is reflected in the following activities: • Commitment to the development of renewable energy, especially onshore wind, offshore wind and solar photovoltaic energy. So we see heavy spending on getting short of conventional combustion engines to very high levels of efficiency, and everybody has an electrification strategy to go alongside that. We expect to continue growing with our InfiniBand product, and we\\'re seeing some slowdown due to the transition from 40 Gigabit to the 25, 50 and 100 Gigabit per second. What I would say is that the balance of \\'18 after we end up signing the contract will be that transition period. I would say over the next 5 to 10 years, we can invest in natural gas and it is very compelling. Environmental and Sustainability Area: the area proposes strategies and ensures the implementation of the Sustainability Plan and Platform in our businesses, delivering results in the short and long term. Therefore, since its establishment, UMC has declared itself a public instrument in its long- term management policy, and is committed to giving back to society. BP supplies fuel for more than 6,000 flights a day and we work to help our aviation customers reduce their emissions in a number of ways. As a company that continues to expand globally, FANCL became a signatory to the United Nations Global Compact in April 2013. They\\'re also -- contrary to sort of conventional wisdom, and they\\'re extremely environmentally sound, very low emissions per pound of product produced, very, very high recyclability when you compare to phosphorus, in particular. To realise the full potential of this opportunity, we would need to install new anaerobic wastewater treatment plants (where feasible). Other than that, no change occurred to the above shareholdings between year-end and not more than one month prior to the date of the notice of the AGM. ith emissions from the use of GM vehicles as the primary contributor to W our carbon footprint, the most significant way we can make progress toward our zero-emissions vision is by transitioning to an electric vehicle portfolio. In fiscal 2011, we established the CSR Procurement Standard (see figure below) to encourage all of our suppliers to engage in socially responsible actions. The National Mission for Enhanced Energy Efficiency (NMEEE) thus aims to improve energy efficiency in the Indian market by creating a conducive regulatory and policy regime and fostering innovative and sustainable business models. And we\\'re seeing significant strength as well in our vitamin category this quarter. This also includes maintaining a low level of value added tax on fuel for CNG vehicles until 2025, with the goal of reducing emissions from road traffic in the Czech Republic. And so again, all I can say is we don\\'t like it. By 2030, we commit to reducing the overall intensity of our carbon footprint by 50% aligned with Sciences-Based Targets (SBTs). Green light for the digital product world EnBW is offering the first component of its new world of energy solutions with EnBW solar+. To this end, LANXESS has declared to become climate neutral by 2040. In others, we are still working to reduce little bit more but we are not far apart from that, between 17.7 and the 16 weeks that we target to be at. Apart from the portfolio companies’ own, direct carbon emissions, the strat- egies now also encompass direct emissions from the companies’ subcontractors. We completed our $270 million cost saving programme, with original targets set for 2015 achieved ahead of schedule in the course of 2014. This assessed our portfolio against a range of climate change scenarios, which modelled the investment impacts of a global average temperature rise of two, three and four degrees Celsius by 2100. Volume per dealer is probably the easiest number to look at. ＊1 Greenhouse gas emissions emitted directly by the company itself (natural gas and other fossil fuels, etc.) The major highlight of 2016 was the new E-Class, whose innovative assis- tance and safety systems have taken the model a step further in the direction of autonomous driving. Because it\\'s flex, we don\\'t expect that one to necessarily be at the 9% to 9.5%. The Renewal Agenda Reinforcing our leadership position means building on our existing strengths while acting decisively where the new environment requires step change. By November 2018 a total annual saving of over £1.3 million had been delivered. In April 2014 we began selling all our single-family house prod- ucts under our SMAEco smart house brand, in which home energy management systems (HEMS) and photovoltaic power generation systems are offered as standard items. The Alannah and Madeline Foundation has delivered more than 52,000 Buddy Bags to children across the country. We\\'re going to make sure we invest in everything we need to, to get to a dominant #1, and we feel great about that and our franchisees do as well. Based on the reduction of 31% achieved in 2014, we met our 2017 target, thanks in part to a mild winter and to building closures. Made using green coffee extract for an extra hit of caffeine, this new functional offering launches the brand into the world of functional coffees. Marketing includes Retail, Lubricants, Business-to-Business (B2B), Pipelines and Low-Carbon Fuels (biofuels and renewable natural gas (RNG)). Concrete actions and tangible accomplishments underline our progress in each one within the 2020 timeframe. Scandinavia enjoys good geological preconditions for metal production, and our renewable energy production is also valuable in the context of our energy-intensive operations. And the combined event is going to put us in a very good position to deploy those, deploy that all for now through our more than 600 sales resources around the U.S. So we think it\\'s a great opportunity. We completed a number of GB&M and CMB client transactions that help lower carbon dioxide emissions in areas including infrastructure and renewable energy. The plants produce a tremendous amount of 0 carbon energy, and so if you lose those, you\\'re going to see a big uptick in carbon emissions, and we\\'ve seen that in states where plants have actually retired. The fuel-cell system is around 30 percent more compact than before; Dominion Energy owns and operates six reactors in Connecticut and Virginia, including two at Millstone Power Station (pictured above). In addition, the project includes the improvement of the existing road and new overpasses. The average daily entitlement liquids and gas production (see section 5.6 Terms and abbreviations) was 592 mboe per day in 2016, compared to 580 mboe per day in 2015, and 546 mboe per day in 2014. We have considerable potential to exert influ- ence and also to stipulate high environmental demands. Foresight Group established its solar investment team in 2007 and today manages assets of c. £1.5 billion invested in 79 solar plants across the UK, Europe and Australia with a total generating capacity of c.1.1GW. A first milestone has already been reached: Since January 1, 2020, our customers in Germany have been surfing on the “green network,” meaning that Deutsche Telekom’s domestic power needs are met by electricity from 100 % renewable sources. If you look at our fourth quarter G&A of $7.4 million and you compare that to, call it, $33.5 million, $34 million in 2014, that\\'s closer to $8.5 million. The Alliance’s objective is to finance, to the extent of $1.5 billion over five years, the development of solutions for the reduction and treatment (reuse, recycling and recovery) of used plastics in the environment, particularly in the oceans. Well, the capacity will be coming online this year, starting up next year, all those mills that are announced will be in a ramp-up curve situation. As an investor, we help the acceleration to greener economies by choosing to invest in businesses that are not inherently polluting and can have a positive environmental impact through their product offering. We have grown our sustainable solutions to 141 index offerings and 71 dedicated active sustainable strategies, making sustainable investing more accessible than ever before. The one you asked about, electric and hybrid engines and increasing electronic components and systems are all driving growth for our industry. Consequently, the Group has an “energy markets” risk policy for all energy commodities, applicable to EDF and entities over which it has operational control. In Hong Kong, for instance, work began on a new station water pipework at Castle Park Power Station to replace the old one and reduce water leakage. And as we\\'ve talked about, we\\'re working hard to leverage our global footprint, as well as looking at changes in our supply chain in order to address that. In the fiscal year ended December 31, 2018, we generated enough electricity to power approximately 240,000 households. Change internal behavior; Drive energy efficiency; Drive low-carbon investment; Navigate GHG regulations; Stakeholder expectations; Other, please specify: \\uf06c Assess future risks and reduce them early. Solvay is developing projects alongside other major actors and enabling a vital transition to better ways of producing, using, recycling, and reusing products in the industry and beyond. Scope 2 emissions Total GHG emissions from sources that are related to generation of purchased energy outside the company boundaries. Thanks to their canopy and rooting system, they reduce the impact of climate deregulations. This contribution was increased from 5% on January 1, 2015 and will represent a 50/50 cost-sharing ratio by January 1, 2017. Bob continues to lead the development of the group’s strategy, as BP adapts to the challenges of the advancing transition to a lower carbon economy. Based on the Act on Promotion of Global Warming Countermeasures and other factors, the actual value of the CO2 emission factor will be officially announced by the country. *** It was high margin and had good flow through, but we also really benefited from the cost reduction progress that I called out that we implemented that. E.SUN fulfills its corporate social responsibility in the ar- eas of environmental protection & energy conservation, community participation, social contribution and service, and protection of human rights. We also have to remember that in 2018 for a substantial period of the year due to the pull-out litigation, we got the diesel fuel pool portion of the thing, of the mandate, capped at 3.5%. This concept will guide us in promoting sustainable procurement activities as part of our efforts to ensure sustainability in our corporate activities while securing superior quality, steady supplies, and low costs. In 2017, a total of 181 A320neo Family aircraft were delivered, up from 68 during 2016. FamilyMart has been using carbon neutral biomass plastic (bioplastics) containers made out of plants (corn and sugarcane), since 2007. That, coupled with the fact that for some of these physicians, they\\'re treating patients that have co-morbidities, such as when other Type 2 diseases occur with asthma. So Jerome, I don\\'t know if you want to make any specific comments on that. So if you\\'re not going to do coal gasification, what are you going to do? Biomass heating and cogeneration are attractive energy solutions in which Eiffage Énergie teams have expertise spanning everything from design to maintenance. This commitment is articulated through Repsol\\'s carbon strategy and the target of reducing CO2 eq by 1.9 million tons for the period 2014-2020. Over three-quarters of the biofuels we buy are from North American or European feedstock producers. We have calculated 4,008 tonnes CO2e (3 per cent of our overall market-based carbon footprint) as working from home emissions, and are now including these emissions in our environmental reporting. The new retail park at Elliott’s Field, Rugby has achieved the significant milestone of being the first BREEAM Outstanding carbon neutral retail park in the world. ˇ Leading by example for the Group’s direct greenhouse gas emissions Since 2007, VINCI has maintained a proactive approach to reducing and monitoring its greenhouse gas (GHG) emissions. National goal: — Comfortable and safe environment National project: — Environment — 7 waste treatment and recycling facilities with a total annual capacity of 2,170 tons were put onstream. Process facilities include an oxide mill, which consists of a crushing and grinding circuit and carbon-in leach circuit, and two heap leach pads. In terms of appearance, the new C-Class adopts a progressive approach with its clear yet emotive design and its high-class interior. Achieving this requires amongst other things a robust and accessible electricity network infrastructure. So we kind of temper fluctuations in earnings and we like to use several years, not just the most recent year in looking at what we think a circuit is worth. The electricity generated by solar energy is fed into the local power grid to reduce the carbon density of electricity production. We intensified the monitoring of emissions in our value chain and we reduced 42% in the carbon intensity in exploration and production over a 10 year period. Climate matters to Nordea As a large fnancial institution, Nordea is expected by stakeholders to act on our exposure to companies and sectors being afected by physical risks and/or transition risks from existing and upcoming regulations. This is part of our continued efforts to minimise our environmental footprint. A first project was defined in agreement with the Ministry of Health and includes the construction of a Primary Health Care Center which will provide health services to approximately 60,000 people in the Port Said area. In December 2020, as part of this work, AXA announced its commitment to reduce the carbon footprint of its General Accounts assets (Corporate debt & equity excl. Its terraces, exceptional daylight and fresh fi ltered air all contribute to an environment designed to promote productivity. Even in jurisdictions actively providing financial support to develop and roll out low-emissions technologies, the steel industry will need further support. I mentioned, we sent out a press release a quarter or two ago that we picked up $11 million to support nuclear power plants that are going in China. This has a positive impact on the local economic fabric by creating jobs, for example. I can tell you, and I think we\\'ve reported earlier, within our discussion earlier on this call that our fuel mileage had improved 3% year-over-year. For 2020 the company aims to remain a benchmark in the Argentine electricity sector, in addition to consolidating, within the current framework of the country, the confidence of the market and thus be awarded new contracts. Downer’s sustainability strategy is designed to focus on the health and safety of its people, environmental sustainability and the advancement of the communities in which Downer operates. With respect to their customers, the Group’s entities ensure that their products meet applicable specifications and abide by all applicable consumer protection laws. Corbion is not directly involved in the growing, harvesting, and processing of these crops. Accordingly, treating the approximately 8,200 tons of high-concentration COD wastewater produced each year was previously outsourced to external service providers in its entirety. Combat climate change – as part of its com- mitment to this goal, following the results of climate- impact risk analyses of its portfolios, the Fund no longer invests in 48 companies. We continued to implement several environmental protection related projects at the Haining facility between 2013 and 2015, aiming to improve the waste treatment as well as to reduce carbon dioxide emission. Nuclear power plants are commonly able to use up to about one-third MOX fuel. Total of Scope 1, 2 & 3 Greenhouse Gas Emissions (Other overseas) Total of Scope 1, 2 and 3 Greenhouse Gas Emissions (Other overseas) are the sum of Scope 1, Scope 2 and Scope 3 emissions (Other overseas). Galp Energia aims to sustain its portfolio of sales in the G&P business by leveraging LNG sales in the international market and taking advantage of the favourable long-term outlook of demand for this source of energy. \\uf0a7 ensuring we actively manage our business, and support customers for societal change and for changes in the environment. As part of the UN Net-Zero Asset Owner Alliance we have pledged to transition our pension portfolios to net-zero emissions (CO2e). And what we’ve said in the past and we’ll continue to do is, we want to be more focus where there are distressed retailers or we can buy the real estate underneath where there is a cap rate arbitrage. We\\'ve increased systemically over these last five years in particular, by allowing ourselves to be able to crack butane in particular as well as the normal ethane, propane. The price increase was due to the relatively inexpensive excess power generated from German renewables no longer being able to be supplied to Austria in the accustomed quantities. Overseas, total CO2 emissions have trended upwards due to the effects of increased production. We also have extensive district heating operations, which play a key role in improv- ing energy efficiency in society. We\\'ve actually got good organic opportunities and we plan to continue to focus and stay vigilant from an expense perspective, managing the efficiency of this company. But now, to the major programs, they have to -- much use would be if people grow -- would increase factor of 10 and more. Now of course as we have continued migration of credit going the other direction, at some point, that will actually bring down that reserve. And as we said earlier, we remain committed to be at least 19.5% for the year and feel that we\\'re very comfortably on track for the 22% in 2019. In particular, it has rolled out programs to motivate and retain its key talent (see section 2.2.3.3. Well, I think when you look at our cellulosic ethanol, we have our facility in Tennessee, and it\\'s about 250,000, I believe, is the number there. And we bring all our cars up to the same quality standard. AB-857 would, starting in 2018 to 2023, would make available $100 million a year for natural gas heavy-duty trucks. A variety of other Kirin- provided materials are apparently likely to find applications in cosmetics and health food. In 2010 and again in 2014, Wavestone supported LAAFI’s project to build a primary school in the village. And the manufacturers that we\\'ve talked to are pretty keen on solving that problem and so we think it\\'s a better opportunity for us to get into some additional handset suppliers, tablets, et cetera. These operate on the principle that greenhouse gas emissions which cannot be avoided at the production sites are at least averted elsewhere in the world. These companies include certain US coal and Canadian oil sands companies, whose businesses have been negatively affected by the US shale revolution and environmental legislation. As far as what kind of tangible book value dilution you have and commensurate to that\\'s going to be what kind of EPS accretion you have. Living well means living sustainably and the work we are doing to deliver our Net Zero by 2040 commitment is designed to minimise the impact of our operations on the environment. The others in China/Hong Kong were a deceleration from the growth we saw in the first quarter. And until they start to run transactions through our servers, they will not be participating. In South Africa, we are engaging with government to develop a 40MW solar power plant at our South Deep mine, while our Ghanaian mines are set to complete assessments for solar and battery power this year. For Our Sustainable Growth business strategies and focusing on environmental and emission-free businesses. To conform to the government\\'s climate change policy, the Company requires all subsidiaries to set targets for energy conservation and emission reduction. We just saw some good timing of some orders that we got in the third quarter. We are seeking cost-effective ways to manage GHG emissions and see potential business opportunities in developing such solutions. And as a consequence, where molybdenum production should be increasing by about 2,000 tons once we finish the Toquepala concentrator -- the new concentrator and by another 2,000 tons when we have the Buenavista concentrator molybdenum plant finished. As you know, traditionally, this thing kind of jumps around from quarter-to-quarter, and was especially higher last year at over $1,900 a day. TCNV invests in fledgling companies offering technology or business models that enable companies to reduce their energy use or the carbon intensity of their activities. Increased our committed capacity on the Keystone XL Pipeline project by 100,000 barrels per day; • The goal to reduce relative GHG emissions by 20% by 2020 was achieved in 2013. It was considered however that Sainsbury’s Group’s risk exposure to political and regulatory risks and business continuity incidents may be greater due to the increased size and complexity of the business. Efforts in the past year include building two ultra-pure hydrogen peroxide plants in North America and expanding our special polycarbonate manufacturing plant to meet growing demand associated with smartphone camera lenses. These Executives in addition to the NEDs listed on page 43 of the Annual Report, comprised the KMP of the Company for FY2016, as defined under the Accounting Standards. And we can run a campaign here and there and raise $300 million, $400 million, $500 million. More than 600,000 homes have already benefited from the Light for Everyone programme. When Macquarie acquired the Green Investment Bank in 2017, forming the Green Investment Group (GIG), we made a commitment to invest £3 billion in green energy projects by 31 December 2020. Jingwen’s completed 120-unit luxury residential development in Qingpu district’s affluent residential corridor is built on a 163,837 square metres (sqm) land parcel with lush, well-landscaped greenery. The Kubota Group will continue to promote activities that not only help raise individual environmental awareness, but also enable the Group employees and their family members around the world to gather under the same theme and share their thoughts. We believe the Paris Agreement provides a solid long-term foundation for further progress in the global response to climate change. Hera operates both cogeneration plants for district heating, which produce thermal energy and electricity to sell to its customers, and cogeneration plants, mainly to satisfy internal consumption requirements. The power business has a lot of work in the Construction segment. In addition to environmental protection activities to achieve carbon neutral status, we are also engaged in disaster prevention awareness activities, disaster recovery assistance and support for people with disabilities. So there\\'s a lot of moving pieces, but as you kind of neutralize those pieces and normalize them, again, it was, for us, a solid quarter and within beating our plan. We will obviously continue to aggressively manage FTE levels to the extent that they\\'re consistent with our service needs. YKK AP was certified as a Gold Contributor to Product Safety, which is an honor given to companies that have won the METI Minister\\'s Award three or more times. So we carry 0.1% so we can operate in the Emission Control Areas that exist in Europe, that exist in the U.S. So that\\'s something that we\\'ve already doing. Having started on-site in December 2016, the 21,400m2 project has created a modern, mixed retail and leisure park with new public realm and improved pedestrian links to the city centre. We take leadership in the concerted efforts to achieve good health and well being for all. So for a long time, all we had was our Powder River natural gas -- methane gas facilities that we operated. And you can see that in our mix, which I think Laura reported on. These new aircraft will contribute to achieving our ambitious goals in terms of reducing CO2 and noise emissions. Each production site makes continuous efforts to reduce environmental impact under an ISO 14000- compliant environmental management system in place. The delivery of these plans will support a sustained improvement towards our goal of zero harm. LONG-TERM PROFITABLE GROWTH Before we embark on a development project, we apply stringent viability criteria covering areas such as rates of return and high environmental and social impact standards. This not only provides a clean energy solution to improve basic sanitation, but also makes effective use of plastic and other waste materials. I think, as I mentioned -- as we mentioned, in May at our Analyst Day, again, in August, committed to be EBITDA neutral as we continue to invest in our portfolio. We run those programs through the Energy Trust of Oregon, and they produce about 30 average megawatts or so of reduction in the energy efficiency each year. You know we\\'re making a significant amount of investment in technology. We are delighted with the progress in meeting our target and that by 2015 some 25 per cent of the fund will be invested in the sustainable and green economy. The oil balance sheet would probably tighten next year as the biodiesel blend goes to 9% -- to be 9% is implemented. The facility is expected to generate clean power that is at least equal to the amount of energy our Bank uses each year—enough to eliminate 143,000 metric tons of greenhouse gases and power 25,000 homes. FUKUSHIMA\\'s strength in supporting commercialization, and the Fukushima Prefectural Government\\'s strength in policy support, we hope to nurture technologies, products, and business models that can be said to be \"Made in Fukushima.\" Aligned with a commitment to sustainable investing, Addenda applies environmental, social and corporate governance (ESG) considerations to its investment decisions and actively promotes sustainable financial markets (see page 48). The tasks of these managers are to follow public initiatives that may have an impact on the Group and to interact with the public authorities to defend or promote Air Liquide’s interests. But we\\'re also reducing headcount in the OpEx areas but not to bring the overall OpEx down, it\\'s to create room to invest in the growth areas. And we have set the team a new internal target here to come up with a plan to actually continue to drive those costs down further. • Discussed and agreed a Group-wide climate plan focused on operational impacts and engagement and oversaw delivery. AC ENERGY CORPORATION 2020 INTEGRATED REPORT We aim to “close the loop\" in our project locations, and help communities live in a pollution-free environment. We will continue to advance our revitalization initiatives and implement our growth strategies while accelerating our endeavors to redefine engineering value, to shape the future of energy and realize a sustainable global environment through our engineering capabilities. While we have already made progress against our 5 strategic actions to regain our momentum, we are just beginning. In every segment and portfolio, we will continue the work of shifting our portfolio in a ‘greener’ and more responsible direction. The last five years have witnessed more than 23,000 MW of Independent Power Producers (IPP) capacity addition (mostly thermal around 68% and renewable energy sources at around 13%). To realize growth focused on high added value, a goal adopted under our Long-Term Vision, we are accelerating efforts aimed at becoming a Glocal Value Creation Company by combining both our domestic and overseas strengths. Eni, moreover, is finalising and subsequently diffusing a code of conduct for suppliers, which confirms the importance of respect for the cardinal principles of sustainability in the supply chain. They include innovative water abstraction projects, drought and flood resilience schemes, and progressive water recycling and water resource management projects. The increase is a result of optimisation of the Boa Vista Fresh Rock pit design enabling the tailings plant to continue operating once the Oxide Reserves are depleted. But in general, on average -- I think even right now you\\'re starting to see this year, we\\'re getting these 1050\\'s but it\\'s cooler, so you can run better. In order to achieve viable and thus sustainable busi- ness success on this basis, our goal is to ensure that our activi- ties are in harmony with the environment and society. Driving energy efficiency and reducing greenhouse gas (GHG) emissions has been central to the environmental sustainability goals during 2013-14 and this involved the implementation of a range of energy saving and carbon abatement initiatives. But all of that mix change would still be underneath our approach to a 5% overall energy concentration by the end of this year. [ Rachel is a member of the Law Society of New South Wales, an associate of the Australian Property Institute and an associate of the Governance Institute of Australia. So I think we\\'re really well positioned and are building the right -- the foundation for a -- having millions, ultimately tens of millions of shared autonomous electric vehicles. [ When we come over here to North America, the plants that are impacted are basically gone forever. Furthermore, a report from the Energy Transitions Commission (November 2018) estimated that electricity’s contribution to global energy supply must rise from 20% to 60% by 2060. Power sales was up 1% at 27.6TWh in 2019 compared to 2018. Our $3.0 billion share buyback program covering the period 2015-2018 has thus far repurchased $1.4 billion of shares, placing us on track to complete the program as we have outlined it. We have money on deposit by these people, and we\\'re in a good position now that we control clearing to use technology to give offset against the carbon versus electric energy, coal and other related materials. And we don\\'t have -- even in thinking about that balance sheet delevering, we don\\'t have any kind of production uplift built in there for Gen 3 frac. The objective shared by all these teams is to create economic, social and environmental value so as to maximise our positive impact on all of our stakeholders. Anglo American’s iron ore operations provide customers with niche, high iron content ore, a large percentage of which is direct-charge product for blast furnaces. When it is considered that a deferred tax asset will not be recovered before its expiration, CEMEX would not recognize such deferred tax asset. In many cases, these guided our reformulation efforts so they met local nutritional needs. The proposal to remediate the former Kurri Kurri aluminium smelter site was approved in December 2020 after a rigorous assessment by the New South Wales’ Department of Planning, Industry and Environment (DPIE). According to the plans, the captured CO2 is to be transported to a permanent storage site under the North Sea. Following the appointment of the Directors representing the employees, a specific training plan was implemented to orientate new Directors. I don\\'t know if you\\'ve heard or not, but we\\'re being told that EMD will not build a Tier 4 locomotive in 2016. We define sustainability as positively impacting the environment while being neutral or negative on GHG emissions. This includes delivering products with simpler ingredients, as well as more premium, organic, natural and fortified foods and beverages. So I think that there\\'s certainly also some belief that we\\'ll see what I call a normal end of year spike in testosterone prescriptions overall in the market. Following successful completion of the Greater Enfield Project in 2019, the newly refurbished facility delivered full-year production of 8.3 MMboe in 2020 (Woodside share), up from 4.0 MMboe in 2019. Again, it [ puts ] a couple points on our U.S. RAC business. In operation since 1997 and located at Cepel’s facilities, Casa Solar Eficiente (Solar Efficient Home) is a space to showcase and multiply solar technologies (thermal and photovoltaic) and energy saving techniques. DSM has undertaken an advocacy role to cooperate with energy suppliers, co-leaders in industry and regulatory bodies to enable the necessary shift towards more renewable energy. So one of the key things that we\\'re doing during 2012 is we\\'re building out all of our footprint with 4G LTE. Europe Having successfully restructured and returned to profitability in Europe in the fourth quarter of 2020, we are moving to the next phase, an all-electric future, to further turn around our automotive operations. The categorizations are as follows: • Scope 1 GHG emissions - Direct emissions - Emissions from operations that are owned or controlled by the reporting company. But the Paris Climate Agreement, the supplementary One Planet Summit in 2017 and ultimately the European Commission’s Sustain able Finance Strategy gave the idea a tremendous boost. The collaboration will enable Nestlé to deliver sustainable, tasty, and nutritious plant- based products that provide a vegan source of protein, healthy lipids, and various micronutrients. Our direct investments mean that our long-term funds provide both economic and social benefits through investments in future cities, housing, and SME finance. So we like that capability that we\\'ve developed and partnering with real class companies and so that, I think, will be a growth feature going forward. Life Cycle Assessment (assessment of the environmental impact [CO2 emissions, etc.] In the last 90 days on the flow side, we\\'ve added 6 new clients, which is about $400 million a month in flow. Focusing on these goals has resulted in a 41.8% relative reduction in CO2 emissions since 2008, with 2019 progress showing a 3.2% improvement towards the 2008 baseline, and a 5.2% improvement relative to the 2018 level. By 2026 Equinor expects to increase installed capacity from renewable projects to between 4 and 6 GW4, Equinor share, mainly based on the current project portfolio. These approvals bring our expected production capacity on our producing properties and on projects with regulatory approval to over 500,000 net barrels per day; • This report outlines our strategies, the climate change scenarios we developed internally, the resiliency of our strategies to those scenarios, and how we will monitor and review the impacts of climate change on our strategies. Other, please specify: Target includes Scope 1 (stationary fuel combustion) emissions, Scope 2 emissions (market-based) and Scope 3 (co-location data centers) emissions. On the Shooting Sports side, we had significant cost savings initiatives that we enacted over the last really couple of quarters because they started in our fourth quarter of our fiscal \\'17. Measuring key environmental metrics helps us advance our understanding, management and reporting of climate-related financial risks and opportunities in our portfolios, in alignment with the Task Force on Climate-related Financial Disclosures (TCFD) recommendations. Once we implement that, we\\'ll drive our fleet efficiency up to 14%. If no measures are taken (RCP8.5 scenario) they are expected to be from 3.4 to 5.4°C higher. At the end of 2020, we started a study on climate-related substitution and the carbon storage effects of our products with two research institutes, the German IFEU and the Finnish Environment institute (SYKE). Costs associated with emission quotas, determined on the basis of the market prices, are recognised in relation to the amounts of the carbon dioxide emissions that exceed free allowances. To reduce or exclude the release of active ingredi- ents into the environment, we take further action in our production facilities. We\\'re absolutely -- in terms of ultimate goals, we\\'re trying to push this well beyond 10% recovery. The completion dates still must be by the middle of \\'13. With this information, our teams identify when, where, and whether there will be positive or negative impacts on our future productivity so we can propose actions in the short term and mitigate risks. In July 2015, the MPUC approved NSP-Minnesota’s 2014 CIP electric and natural gas financial incentives totaling $40.1 million and $5.8 million, respectively. • In Retail, we diverted 99.9% of waste from landfill, up from 99.0% the previous year. To realize our vision for smart agriculture, we are improving integration between KSAS, autonomous tractors and other farm machinery to minimize the cost and environmental loads of farming. We\\'ve looked at the external factors that could affect us and believe very strongly that we\\'ll be within the range of $5.9 million to $6.4 million on end-user sales of XIAFLEX. There are absolutely parts of that business where we have defensible competitively advantage businesses and then there are parts of it where we don\\'t. 75 I Degree of fulfilment of commitments _ Risks and opportunities of the climate emergency Other emissions Global emissions in 2019 were as follows: NOx, 1,673 tonnes; SOx, 193 tonnes; PM10, 74 tonnes and SF6, 0.059 tonnes. So as we break down the platforms, keep in mind or take it with a grain of salt that business integration and analytics and even portal are kind of hard to separate out - often you’re doing all three. Oh, the decline, yes, that\\'s almost entirely -- it\\'s entirely related to gas price declines. Other information Outreach and academic research Climate and sustainability-related memberships AXA supports various initiatives related to climate change and environmental protection. With our full awareness of the current energy transition process, we place much emphasis on the investments we make in innovation. We\\'re taking the most sophisticated bulk electric system that exists anywhere in this world and putting it on top of a bulk gas system that is very unsophisticated. As the year goes on, our ability to offset is a first quarter event in 2009. Business ethics and integrity, tax and legal compliance, human rights and environmental care are therefore integral components in driving prosperity. Specifi cally, we have raised our target for reducing CO2 emissions in the lifecycle of our products from raw material procurement to manufacturing, shipment, use, and disposal from 30% compared to fi scal 2013 to 45%. The retirement age for non-executive directors is 70 and may be extended after an annual review process, if unanimous agreement is reached by the board that the skills and experience of a director warrant retention. Responding proactively to the risks and opportunities presented by climate change also helps us accomplish our mission: to achieve superior economic value for our shareholders by making life better for our customers, associates, and the communities we serve. And so we have opportunities here, but be sure that you understand, we are going to improve service levels in every transportation segment while we reduce our costs. The Fund recognises that environmental and social challenges can create attractive investment opportunities and has actively committed to date approximately 1.3% of its assets to environmental and social themed investing. So again, I know we\\'re not the only company out there beyond the waste industry that\\'s had to talk about weather.'"
      ]
     },
     "execution_count": 9,
     "metadata": {},
     "output_type": "execute_result"
    }
   ],
   "source": [
    "' '.join(df['text'].tolist())"
   ]
  },
  {
   "cell_type": "code",
   "execution_count": 10,
   "metadata": {},
   "outputs": [],
   "source": [
    "# Expanding Contractions\n",
    "contractions = {\"ain't\": \"are not\",\"'s\":\" is\",\"aren't\": \"are not\",\n",
    "                     \"can't\": \"cannot\",\"can't've\": \"cannot have\",\n",
    "                     \"'cause\": \"because\",\"could've\": \"could have\",\"couldn't\": \"could not\",\n",
    "                     \"couldn't've\": \"could not have\", \"didn't\": \"did not\",\"doesn't\": \"does not\",\n",
    "                     \"don't\": \"do not\",\"hadn't\": \"had not\",\"hadn't've\": \"had not have\",\n",
    "                     \"hasn't\": \"has not\",\"haven't\": \"have not\",\"he'd\": \"he would\",\n",
    "                     \"he'd've\": \"he would have\",\"he'll\": \"he will\", \"he'll've\": \"he will have\",\n",
    "                     \"how'd\": \"how did\",\"how'd'y\": \"how do you\",\"how'll\": \"how will\",\n",
    "                     \"I'd\": \"I would\", \"I'd've\": \"I would have\",\"I'll\": \"I will\",\n",
    "                     \"I'll've\": \"I will have\",\"I'm\": \"I am\",\"I've\": \"I have\", \"isn't\": \"is not\",\n",
    "                     \"it'd\": \"it would\",\"it'd've\": \"it would have\",\"it'll\": \"it will\",\n",
    "                     \"it'll've\": \"it will have\", \"let's\": \"let us\",\"ma'am\": \"madam\",\n",
    "                     \"mayn't\": \"may not\",\"might've\": \"might have\",\"mightn't\": \"might not\", \n",
    "                     \"mightn't've\": \"might not have\",\"must've\": \"must have\",\"mustn't\": \"must not\",\n",
    "                     \"mustn't've\": \"must not have\", \"needn't\": \"need not\",\n",
    "                     \"needn't've\": \"need not have\",\"o'clock\": \"of the clock\",\"oughtn't\": \"ought not\",\"oughtn't've\": \"ought not have\",\"shan't\": \"shall not\",\"sha'n't\": \"shall not\",\n",
    "                     \"shan't've\": \"shall not have\",\"she'd\": \"she would\",\"she'd've\": \"she would have\",\n",
    "                     \"she'll\": \"she will\", \"she'll've\": \"she will have\",\"should've\": \"should have\",\n",
    "                     \"shouldn't\": \"should not\", \"shouldn't've\": \"should not have\",\"so've\": \"so have\",\n",
    "                     \"that'd\": \"that would\",\"that'd've\": \"that would have\", \"there'd\": \"there would\",\n",
    "                     \"there'd've\": \"there would have\", \"they'd\": \"they would\",\n",
    "                     \"they'd've\": \"they would have\",\"they'll\": \"they will\",\n",
    "                     \"they'll've\": \"they will have\", \"they're\": \"they are\",\"they've\": \"they have\",\n",
    "                     \"to've\": \"to have\",\"wasn't\": \"was not\",\"we'd\": \"we would\",\n",
    "                     \"we'd've\": \"we would have\",\"we'll\": \"we will\",\"we'll've\": \"we will have\",\n",
    "                     \"we're\": \"we are\",\"we've\": \"we have\", \"weren't\": \"were not\",\"what'll\": \"what will\",\n",
    "                     \"what'll've\": \"what will have\",\"what're\": \"what are\", \"what've\": \"what have\",\n",
    "                     \"when've\": \"when have\",\"where'd\": \"where did\", \"where've\": \"where have\",\n",
    "                     \"who'll\": \"who will\",\"who'll've\": \"who will have\",\"who've\": \"who have\",\n",
    "                     \"why've\": \"why have\",\"will've\": \"will have\",\"won't\": \"will not\",\n",
    "                     \"won't've\": \"will not have\", \"would've\": \"would have\",\"wouldn't\": \"would not\",\n",
    "                     \"wouldn't've\": \"would not have\",\"y'all\": \"you all\", \"y'all'd\": \"you all would\",\n",
    "                     \"y'all'd've\": \"you all would have\",\"y'all're\": \"you all are\",\n",
    "                     \"y'all've\": \"you all have\", \"you'd\": \"you would\",\"you'd've\": \"you would have\",\n",
    "                     \"you'll\": \"you will\",\"you'll've\": \"you will have\", \"you're\": \"you are\",\n",
    "                     \"you've\": \"you have\"}\n"
   ]
  },
  {
   "cell_type": "code",
   "execution_count": 11,
   "metadata": {},
   "outputs": [],
   "source": [
    "def cont_to_exp(x):\n",
    "    if type(x) is str:\n",
    "        x = x.replace('\\\\','')\n",
    "        for key in contractions:\n",
    "            value = contractions[key]\n",
    "            x = x.replace(key, value)\n",
    "        return x\n",
    "    else:\n",
    "        return x"
   ]
  },
  {
   "cell_type": "code",
   "execution_count": 12,
   "metadata": {},
   "outputs": [
    {
     "data": {
      "text/plain": [
       "0       The project will make a significant contributi...\n",
       "1       So in -- first of all, the segments, we are --...\n",
       "2       Building a smarter and stronger energy grid th...\n",
       "3       Generally, first of all our Transmission depar...\n",
       "4       But for the most part, our challenge is showin...\n",
       "                              ...                        \n",
       "2112    The retirement age for non-executive directors...\n",
       "2113    Responding proactively to the risks and opport...\n",
       "2114    And so we have opportunities here, but be sure...\n",
       "2115    The Fund recognises that environmental and soc...\n",
       "2116    So again, I know we are not the only company o...\n",
       "Name: text, Length: 2117, dtype: object"
      ]
     },
     "execution_count": 12,
     "metadata": {},
     "output_type": "execute_result"
    }
   ],
   "source": [
    "df['text'] = df['text'].apply(lambda x: cont_to_exp(x))\n",
    "df['text']"
   ]
  },
  {
   "cell_type": "markdown",
   "metadata": {},
   "source": [
    "#### Feature Engineering"
   ]
  },
  {
   "cell_type": "code",
   "execution_count": 13,
   "metadata": {},
   "outputs": [
    {
     "data": {
      "text/html": [
       "<div>\n",
       "<style scoped>\n",
       "    .dataframe tbody tr th:only-of-type {\n",
       "        vertical-align: middle;\n",
       "    }\n",
       "\n",
       "    .dataframe tbody tr th {\n",
       "        vertical-align: top;\n",
       "    }\n",
       "\n",
       "    .dataframe thead th {\n",
       "        text-align: right;\n",
       "    }\n",
       "</style>\n",
       "<table border=\"1\" class=\"dataframe\">\n",
       "  <thead>\n",
       "    <tr style=\"text-align: right;\">\n",
       "      <th></th>\n",
       "      <th>text</th>\n",
       "      <th>label</th>\n",
       "    </tr>\n",
       "  </thead>\n",
       "  <tbody>\n",
       "    <tr>\n",
       "      <th>0</th>\n",
       "      <td>The project will make a significant contributi...</td>\n",
       "      <td>1</td>\n",
       "    </tr>\n",
       "    <tr>\n",
       "      <th>1</th>\n",
       "      <td>So in -- first of all, the segments, we are --...</td>\n",
       "      <td>0</td>\n",
       "    </tr>\n",
       "    <tr>\n",
       "      <th>2</th>\n",
       "      <td>Building a smarter and stronger energy grid th...</td>\n",
       "      <td>0</td>\n",
       "    </tr>\n",
       "    <tr>\n",
       "      <th>3</th>\n",
       "      <td>Generally, first of all our Transmission depar...</td>\n",
       "      <td>0</td>\n",
       "    </tr>\n",
       "    <tr>\n",
       "      <th>4</th>\n",
       "      <td>But for the most part, our challenge is showin...</td>\n",
       "      <td>0</td>\n",
       "    </tr>\n",
       "  </tbody>\n",
       "</table>\n",
       "</div>"
      ],
      "text/plain": [
       "                                                text  label\n",
       "0  The project will make a significant contributi...      1\n",
       "1  So in -- first of all, the segments, we are --...      0\n",
       "2  Building a smarter and stronger energy grid th...      0\n",
       "3  Generally, first of all our Transmission depar...      0\n",
       "4  But for the most part, our challenge is showin...      0"
      ]
     },
     "execution_count": 13,
     "metadata": {},
     "output_type": "execute_result"
    }
   ],
   "source": [
    "df.head()\n",
    "# we're going to add length of text, word count, and average word length columns.\n",
    "# also, we will use textblob to add sentiment polarity columns"
   ]
  },
  {
   "cell_type": "code",
   "execution_count": 14,
   "metadata": {},
   "outputs": [],
   "source": [
    "from textblob import TextBlob"
   ]
  },
  {
   "cell_type": "code",
   "execution_count": 15,
   "metadata": {},
   "outputs": [],
   "source": [
    "df['polarity'] = df['text'].apply(lambda x: TextBlob(x).sentiment.polarity)"
   ]
  },
  {
   "cell_type": "code",
   "execution_count": 16,
   "metadata": {},
   "outputs": [],
   "source": [
    "df['text_length'] = df['text'].apply(lambda x: len(x))"
   ]
  },
  {
   "cell_type": "code",
   "execution_count": 17,
   "metadata": {},
   "outputs": [],
   "source": [
    "df['word_count'] = df['text'].apply(lambda x: len(x.split()))"
   ]
  },
  {
   "cell_type": "code",
   "execution_count": 18,
   "metadata": {},
   "outputs": [],
   "source": [
    "def get_avg_word_len(x):\n",
    "    words = x.split()\n",
    "    word_len = 0\n",
    "    for word in words:\n",
    "        word_len = word_len + len(word)\n",
    "\n",
    "    return word_len/len(words)"
   ]
  },
  {
   "cell_type": "code",
   "execution_count": 19,
   "metadata": {},
   "outputs": [],
   "source": [
    "df['avg_word_length'] = df['text'].apply(lambda x: get_avg_word_len(x))"
   ]
  },
  {
   "cell_type": "code",
   "execution_count": 20,
   "metadata": {},
   "outputs": [
    {
     "data": {
      "text/html": [
       "<div>\n",
       "<style scoped>\n",
       "    .dataframe tbody tr th:only-of-type {\n",
       "        vertical-align: middle;\n",
       "    }\n",
       "\n",
       "    .dataframe tbody tr th {\n",
       "        vertical-align: top;\n",
       "    }\n",
       "\n",
       "    .dataframe thead th {\n",
       "        text-align: right;\n",
       "    }\n",
       "</style>\n",
       "<table border=\"1\" class=\"dataframe\">\n",
       "  <thead>\n",
       "    <tr style=\"text-align: right;\">\n",
       "      <th></th>\n",
       "      <th>text</th>\n",
       "      <th>label</th>\n",
       "      <th>polarity</th>\n",
       "      <th>text_length</th>\n",
       "      <th>word_count</th>\n",
       "      <th>avg_word_length</th>\n",
       "    </tr>\n",
       "  </thead>\n",
       "  <tbody>\n",
       "    <tr>\n",
       "      <th>0</th>\n",
       "      <td>The project will make a significant contributi...</td>\n",
       "      <td>1</td>\n",
       "      <td>0.125000</td>\n",
       "      <td>142</td>\n",
       "      <td>22</td>\n",
       "      <td>5.500000</td>\n",
       "    </tr>\n",
       "    <tr>\n",
       "      <th>1</th>\n",
       "      <td>So in -- first of all, the segments, we are --...</td>\n",
       "      <td>0</td>\n",
       "      <td>0.166667</td>\n",
       "      <td>94</td>\n",
       "      <td>21</td>\n",
       "      <td>3.523810</td>\n",
       "    </tr>\n",
       "    <tr>\n",
       "      <th>2</th>\n",
       "      <td>Building a smarter and stronger energy grid th...</td>\n",
       "      <td>0</td>\n",
       "      <td>0.450000</td>\n",
       "      <td>147</td>\n",
       "      <td>23</td>\n",
       "      <td>5.434783</td>\n",
       "    </tr>\n",
       "    <tr>\n",
       "      <th>3</th>\n",
       "      <td>Generally, first of all our Transmission depar...</td>\n",
       "      <td>0</td>\n",
       "      <td>0.190000</td>\n",
       "      <td>162</td>\n",
       "      <td>25</td>\n",
       "      <td>5.520000</td>\n",
       "    </tr>\n",
       "    <tr>\n",
       "      <th>4</th>\n",
       "      <td>But for the most part, our challenge is showin...</td>\n",
       "      <td>0</td>\n",
       "      <td>0.500000</td>\n",
       "      <td>131</td>\n",
       "      <td>23</td>\n",
       "      <td>4.739130</td>\n",
       "    </tr>\n",
       "  </tbody>\n",
       "</table>\n",
       "</div>"
      ],
      "text/plain": [
       "                                                text  label  polarity  \\\n",
       "0  The project will make a significant contributi...      1  0.125000   \n",
       "1  So in -- first of all, the segments, we are --...      0  0.166667   \n",
       "2  Building a smarter and stronger energy grid th...      0  0.450000   \n",
       "3  Generally, first of all our Transmission depar...      0  0.190000   \n",
       "4  But for the most part, our challenge is showin...      0  0.500000   \n",
       "\n",
       "   text_length  word_count  avg_word_length  \n",
       "0          142          22         5.500000  \n",
       "1           94          21         3.523810  \n",
       "2          147          23         5.434783  \n",
       "3          162          25         5.520000  \n",
       "4          131          23         4.739130  "
      ]
     },
     "execution_count": 20,
     "metadata": {},
     "output_type": "execute_result"
    }
   ],
   "source": [
    "df.head()"
   ]
  },
  {
   "cell_type": "markdown",
   "metadata": {},
   "source": [
    "#### Exploring Variable Distributions"
   ]
  },
  {
   "cell_type": "code",
   "execution_count": 24,
   "metadata": {},
   "outputs": [
    {
     "data": {
      "application/vnd.plotly.v1+json": {
       "config": {
        "linkText": "Export to plot.ly",
        "plotlyServerURL": "https://plot.ly",
        "showLink": true
       },
       "data": [
        {
         "histfunc": "count",
         "histnorm": "",
         "marker": {
          "color": "rgba(255, 153, 51, 1.0)",
          "line": {
           "color": "#4D5663",
           "width": 1.3
          }
         },
         "name": "polarity",
         "nbinsx": 50,
         "opacity": 0.8,
         "orientation": "v",
         "type": "histogram",
         "x": [
          0.125,
          0.16666666666666666,
          0.45,
          0.19,
          0.5,
          0,
          -0.1435897435897436,
          -0.024867724867724882,
          0,
          0,
          0.1392857142857143,
          0,
          0.23333333333333334,
          0,
          -0.16666666666666666,
          0,
          0.4375,
          0.39375,
          -0.049999999999999996,
          0.03333333333333333,
          -0.03571428571428571,
          0.16666666666666666,
          -0.09999999999999999,
          0.15266666666666667,
          0.3,
          0,
          0.4,
          0.21212121212121213,
          -0.08333333333333333,
          0.019047619047619053,
          0.42857142857142855,
          0.11666666666666668,
          0.16666666666666666,
          0,
          0,
          0.01,
          0.4,
          -0.10555555555555556,
          -0.25,
          0.5,
          0.4,
          0,
          0.017857142857142856,
          0,
          0.14583333333333334,
          0.041666666666666664,
          0,
          0,
          0,
          0,
          0.08333333333333333,
          0.21428571428571427,
          0,
          0,
          0.175,
          0.2722222222222222,
          0.25,
          0.125,
          -0.16666666666666666,
          -0.06666666666666667,
          0.2333333333333333,
          0.10000000000000002,
          0.1,
          0,
          0,
          -0.08333333333333333,
          -0.18333333333333335,
          0.2,
          -0.15,
          0.14814814814814817,
          1,
          0.3,
          0.25,
          0.1,
          0,
          -0.0625,
          0,
          0,
          0.5,
          0.1,
          0,
          0.15833333333333333,
          0.043181818181818175,
          0.020833333333333332,
          0,
          0,
          -0.2,
          0,
          0.375,
          0,
          0.2681818181818182,
          0,
          0.4222222222222222,
          -0.125,
          -0.3,
          0,
          -0.03333333333333333,
          0.6333333333333333,
          0.10108225108225108,
          0,
          0.14025974025974025,
          0.31666666666666665,
          0,
          -0.2,
          0,
          0,
          0.8,
          -0.03333333333333333,
          0.2888888888888889,
          0.35,
          0,
          0,
          0.0125,
          0.09772727272727272,
          0.1875,
          0.3181818181818182,
          0.1,
          0,
          0.13636363636363635,
          0,
          -0.09999999999999999,
          0,
          0.25,
          0.09999999999999999,
          0.10714285714285714,
          0,
          -0.05,
          0.39285714285714285,
          0,
          0,
          0.14285714285714285,
          0.13333333333333333,
          0.08333333333333333,
          0.0625,
          0.4,
          0.34375,
          0,
          0.1,
          0,
          0,
          0.3,
          0,
          0.375,
          0.05,
          0,
          0.1875,
          0,
          0.25,
          0,
          0.08333333333333333,
          0.05,
          0,
          0,
          0.25,
          0.075,
          0.06818181818181818,
          0.375,
          0.3181818181818182,
          -0.049999999999999996,
          0,
          0.31666666666666665,
          0,
          0.1625,
          0.6,
          0,
          0.0675,
          0.02357142857142857,
          0,
          0.45656565656565656,
          0.15555555555555556,
          0.25,
          0,
          0.08333333333333333,
          -0.125,
          0,
          0,
          -0.2,
          -0.2,
          0,
          0,
          0,
          0.38333333333333336,
          0,
          0.13333333333333333,
          0,
          0,
          -0.25,
          0,
          0,
          0,
          -0.1,
          0,
          0.13989898989898988,
          0,
          0,
          -0.23076923076923078,
          0,
          0.5,
          0.11111111111111112,
          0.17065476190476192,
          0.07569444444444443,
          0,
          0.4,
          0.27,
          0.5,
          0,
          0.25,
          0.5,
          0.125,
          0,
          0.25,
          0.25,
          0.25,
          0.1,
          0,
          0.30654761904761907,
          0.7,
          0.03333333333333333,
          0.05,
          -0.033333333333333326,
          0.3333333333333333,
          -0.2,
          0.21428571428571427,
          0.13636363636363635,
          0.21428571428571427,
          0.8,
          -0.125,
          -0.42499999999999993,
          -0.1875,
          -0.19422123015873016,
          0.16666666666666666,
          0.35,
          0.1875,
          0.0909090909090909,
          1,
          0,
          0.5,
          0,
          -0.1,
          0.08333333333333334,
          0.09999999999999998,
          0.1,
          -0.08749999999999998,
          0,
          0,
          0.19999999999999998,
          0.03333333333333333,
          0.19999999999999998,
          0.075,
          0.2111111111111111,
          0,
          0.17455357142857142,
          0.25,
          0,
          0,
          -0.05,
          0,
          -0.06666666666666665,
          0.13636363636363635,
          0.2916666666666667,
          0.016666666666666663,
          0.3,
          0,
          0.17500000000000002,
          0,
          0,
          0.22727272727272727,
          0.21666666666666665,
          0.0842687074829932,
          0.02500000000000001,
          0.08666666666666667,
          0.025992063492063493,
          0.3,
          0.3,
          0.0022727272727272817,
          0.25,
          0.1,
          0.07693181818181818,
          0,
          0,
          0,
          0.4,
          0.2681818181818182,
          0,
          0.5,
          0.4,
          0.05,
          0.12062500000000001,
          0,
          0,
          0,
          0,
          0,
          0.1,
          -0.07777777777777779,
          0.008928571428571425,
          0,
          0.08888888888888889,
          0.125,
          0.044444444444444446,
          0,
          0.25,
          0.26666666666666666,
          0.2,
          0.25625,
          0,
          0.4,
          0,
          0.19312500000000002,
          -0.20000000000000004,
          0,
          0.2333333333333333,
          -0.3125,
          0.35,
          0,
          0.03466666666666667,
          0.21666666666666667,
          0,
          -0.0625,
          0.28409090909090906,
          -0.1,
          0.15333333333333332,
          0,
          0.06818181818181818,
          0.1,
          0.39999999999999997,
          -0.17230769230769233,
          0.3416666666666667,
          0,
          0.225,
          0.08,
          0,
          0,
          0,
          0,
          0.005681818181818177,
          0,
          0,
          0,
          0.3833333333333333,
          0.4375,
          0,
          -0.07142857142857142,
          0.26666666666666666,
          0.3125,
          0,
          0,
          0.19292929292929292,
          0.15833333333333333,
          -0.075,
          0,
          0,
          0,
          0,
          -0.015625,
          0,
          -0.2,
          0,
          0.16,
          0.11111111111111112,
          0,
          0.09999999999999999,
          0,
          0.28125,
          0,
          0,
          0.04999999999999999,
          0.10000000000000002,
          0,
          -0.05,
          0,
          0,
          0.013636363636363627,
          0,
          0,
          -0.15555555555555559,
          0.125,
          0.20666666666666667,
          -0.00833333333333334,
          0.016666666666666673,
          0.25,
          0.15666666666666668,
          0,
          -0.03333333333333333,
          -0.04329670329670329,
          0,
          -0.17500000000000002,
          0,
          0.25,
          0.10284090909090908,
          -0.08928571428571429,
          -0.2,
          0,
          -0.13333333333333333,
          0,
          0.10714285714285714,
          0,
          0.5,
          0,
          0.4333333333333333,
          0.23499999999999996,
          0,
          0,
          -0.2,
          -0.6,
          0.4,
          0.15625,
          0,
          0,
          0.25,
          0,
          0.5,
          0.041666666666666664,
          0.3666666666666667,
          0,
          0.25333333333333335,
          0.13333333333333333,
          0.5,
          2.7755575615628914e-17,
          0.13124999999999998,
          0,
          0.5,
          0.83,
          0.3,
          -0.1,
          0,
          0.020000000000000007,
          0.19,
          0.365,
          0,
          0.25,
          0.19999999999999998,
          0.32380952380952377,
          0.041666666666666664,
          0.375,
          -0.09999999999999999,
          -0.05,
          0,
          0.2,
          0.13636363636363635,
          0,
          0.11666666666666667,
          0.2857142857142857,
          -0.03333333333333333,
          -0.14583333333333331,
          0.10000000000000002,
          0.4,
          0,
          0.5,
          0.049999999999999996,
          0,
          -0.03571428571428571,
          0.26666666666666666,
          0.12885714285714286,
          0.2857142857142857,
          -0.09375,
          -0.4625,
          -0.125,
          0.5121212121212121,
          0.4,
          0.07500000000000001,
          0.09666666666666666,
          0.05555555555555555,
          0.5,
          0.08,
          0.16,
          -0.55625,
          0.06688311688311688,
          0.2,
          -0.13333333333333333,
          0,
          0,
          0,
          0.125,
          0.2611111111111111,
          0.13636363636363635,
          0,
          0.011931818181818175,
          0.11666666666666665,
          0,
          0,
          -0.2,
          0.1,
          0,
          0.23,
          0.4,
          0.08392857142857142,
          0.1,
          0.5,
          0,
          0,
          -0.04047619047619048,
          0.09999999999999999,
          -0.0625,
          0,
          0.25,
          -0.09999999999999999,
          0.25,
          1,
          0,
          0.23750000000000002,
          0,
          0.125,
          0,
          -0.07142857142857142,
          0.6,
          0.26205357142857144,
          0.8,
          -0.06346153846153846,
          0.5,
          0,
          0.175,
          0,
          0.16666666666666666,
          0.2,
          0,
          0.07138888888888888,
          0.5,
          0,
          0.06666666666666667,
          0,
          0,
          -0.1125,
          0.125,
          0.6666666666666666,
          0,
          0.175,
          0,
          0.13636363636363635,
          0,
          0.08750000000000001,
          -0.8,
          0,
          0.4,
          0,
          0.23968253968253966,
          0,
          0,
          0.4,
          0,
          0.2888888888888889,
          0,
          -0.15833333333333333,
          -0.06666666666666667,
          0,
          0.13636363636363635,
          0,
          0,
          0.35,
          0.5,
          0.7,
          0.06875,
          0,
          0.425,
          0.325,
          0.5,
          0,
          0.3,
          0.8,
          0,
          0,
          0,
          -0.1,
          0,
          0.2916666666666667,
          0.29523809523809524,
          0,
          0,
          0.2333333333333333,
          0,
          0.25,
          0,
          0,
          0,
          0.5,
          0,
          0,
          0.4,
          0,
          0,
          0.04464285714285714,
          0.10714285714285714,
          0.25,
          0.15714285714285714,
          -0.1,
          -0.1416666666666667,
          0.4318181818181818,
          0,
          0.125,
          0.18333333333333335,
          -0.3,
          -0.041666666666666664,
          0.2875,
          0,
          0.28409090909090906,
          0.16999999999999998,
          0.13766233766233765,
          0,
          0.16666666666666669,
          0.20892857142857144,
          0.35,
          0.1875,
          0.1181818181818182,
          0.25,
          0.4,
          0.08333333333333336,
          0.10000000000000002,
          -0.4,
          0,
          0,
          0,
          -0.13333333333333333,
          0,
          0,
          0.1791666666666667,
          0,
          0,
          -0.1,
          0.1346153846153846,
          0.06666666666666667,
          0.5,
          0.1517857142857143,
          0.4,
          0,
          0.15625,
          0,
          0.16999999999999998,
          0,
          0,
          0,
          -0.2,
          0,
          0.1357142857142857,
          0,
          -0.07142857142857142,
          0.12083333333333336,
          0.1340909090909091,
          0,
          0,
          0.15,
          -0.1130952380952381,
          0.25,
          0,
          0,
          0.06517857142857142,
          0,
          0.10416666666666666,
          0.18888888888888888,
          0,
          0.19999999999999998,
          0.125,
          0.1715909090909091,
          -0.3125,
          0.13636363636363635,
          0.525,
          0.36190476190476195,
          -0.053125,
          0.34285714285714286,
          0,
          -0.15555555555555559,
          0.5,
          -0.125,
          0,
          0,
          0,
          0.14166666666666666,
          0.18181818181818182,
          0.17777777777777778,
          0.4166666666666667,
          0,
          0.2857142857142857,
          0.033333333333333326,
          0,
          -0.25,
          0.3,
          0.06818181818181818,
          0.16818181818181818,
          0.25,
          -0.125,
          0.1,
          -0.08888888888888889,
          0.15333333333333332,
          0,
          -0.1851851851851852,
          0.5,
          0.1,
          0.5,
          0,
          0.04722222222222221,
          0.2,
          0.146875,
          -0.2,
          0,
          0,
          0.05555555555555555,
          0,
          0,
          0,
          0.10714285714285714,
          0.2,
          0.049999999999999996,
          0.475,
          0.24,
          0.11875,
          0.08666666666666667,
          0,
          0,
          0,
          0,
          0,
          0.19545454545454544,
          0,
          0,
          -0.09166666666666667,
          -0.7,
          0.08954545454545454,
          0,
          0.13392857142857145,
          0.13564814814814816,
          0,
          0.5,
          0.3875,
          0.375,
          0,
          0.065,
          -0.1,
          0.1,
          0,
          0,
          0,
          0.4,
          0,
          0.13636363636363635,
          -0.016666666666666663,
          0.13333333333333333,
          0,
          0,
          0.2125,
          0,
          -0.2,
          0,
          0.6,
          0.24444444444444446,
          0.05,
          0,
          -0.25,
          0,
          0.25,
          0,
          0,
          0,
          0.175,
          0,
          0,
          0.26607142857142857,
          -0.25,
          0.4666666666666666,
          -0.1,
          0.1,
          0.18333333333333335,
          0.03333333333333333,
          0.175,
          0.2,
          0,
          0.24285714285714285,
          0.225,
          -0.16666666666666666,
          0.1,
          0.3333333333333333,
          0.1,
          0,
          0,
          0,
          0,
          0.044444444444444446,
          0,
          0.0047619047619047545,
          0.16666666666666666,
          0,
          -0.07142857142857142,
          0.29166666666666663,
          0,
          0.09166666666666667,
          0.19375,
          0.16666666666666666,
          0.375,
          0,
          0.35,
          0,
          0.2,
          0.15,
          -0.0022727272727272735,
          0.24772727272727274,
          0,
          0.08055555555555556,
          0.1590909090909091,
          0.13666666666666666,
          0.06818181818181818,
          0.2857142857142857,
          0.21428571428571427,
          0.0625,
          0.024999999999999994,
          0,
          0.0625,
          0.5,
          0,
          0.271577380952381,
          -0.3125,
          -0.125,
          0.11666666666666665,
          0.22727272727272727,
          -0.13333333333333333,
          -0.096875,
          -0.06666666666666667,
          0.65,
          0,
          -0.125,
          -0.16666666666666666,
          -0.16666666666666666,
          0.03125,
          0,
          0,
          -0.125,
          0.05,
          0,
          0.3333333333333333,
          0.2,
          0,
          0.6,
          0.35,
          -0.2333333333333333,
          0.22727272727272727,
          0.25,
          0,
          0,
          0.11818181818181818,
          0.16666666666666666,
          0.058333333333333334,
          0.4,
          0.08194444444444443,
          -0.020833333333333343,
          -0.09999999999999999,
          0.040625,
          0.2,
          -0.125,
          0,
          0.21428571428571427,
          0.1,
          0.19166666666666665,
          0.28,
          0,
          -0.125,
          0,
          0.05,
          0.125,
          0,
          0,
          -0.2,
          0,
          0.35714285714285715,
          0.2,
          0,
          0,
          0.35,
          0.008333333333333333,
          0.2556818181818182,
          0.18333333333333335,
          -0.0625,
          0.16666666666666666,
          0.3875,
          0,
          -0.041666666666666664,
          0.5,
          -0.08333333333333333,
          0,
          0.14166666666666666,
          0,
          0.12222222222222223,
          0.39285714285714285,
          0.05,
          0,
          0,
          0,
          0.1,
          0.08,
          0.1375,
          0,
          -0.07916666666666666,
          0.4166666666666667,
          0.1,
          0.22727272727272727,
          -0.1,
          0,
          0.19999999999999998,
          0,
          0.4,
          0,
          0.25,
          0.20000000000000004,
          -0.071875,
          -0.1,
          0,
          0.2,
          0.5,
          0,
          0.26666666666666666,
          0.4222222222222222,
          -0.0625,
          0.14999999999999997,
          0,
          0,
          0,
          0.31666666666666665,
          0,
          -0.07777777777777779,
          0,
          0,
          0.3,
          0.5,
          0.07142857142857142,
          0.25,
          -0.25,
          0.35000000000000003,
          -0.075,
          0,
          0.10727272727272727,
          -0.07777777777777779,
          0.4,
          0.8,
          -0.041666666666666664,
          0.05,
          0.5,
          0.018181818181818174,
          0.16666666666666666,
          0,
          0,
          -0.08333333333333333,
          0,
          0,
          0.275,
          0.65,
          0.15,
          0,
          0,
          -0.3,
          0,
          0,
          0.25,
          0,
          0,
          0.3666666666666667,
          0.05555555555555556,
          0.19999999999999998,
          -0.15555555555555559,
          0.15833333333333333,
          0.5,
          0.14583333333333334,
          -0.14791666666666667,
          0.16666666666666666,
          0.3,
          0.7,
          0.1,
          0.20400000000000001,
          0.4,
          0.17619047619047618,
          0.05000000000000003,
          0.2875,
          0.09375,
          0.02777777777777778,
          0.11666666666666667,
          1,
          0,
          0,
          0.3,
          0,
          0.022727272727272724,
          -0.125,
          0.4090909090909091,
          0.12424242424242422,
          0.43333333333333335,
          -0.16666666666666666,
          0.2333333333333333,
          -0.16999999999999998,
          -0.3,
          -0.05,
          0,
          -0.16666666666666666,
          -0.049999999999999996,
          0.24242424242424243,
          0.03333333333333333,
          -0.05,
          0.04464285714285714,
          -0.17361111111111108,
          0,
          -0.07777777777777779,
          0,
          0.05,
          0,
          0.05,
          -0.025,
          0,
          0.3333333333333333,
          0,
          1,
          0.5,
          0.42857142857142855,
          0,
          0.25,
          0.3333333333333333,
          0.5,
          0.425,
          0.24666666666666665,
          0.0175,
          0.2,
          0,
          0.15,
          0.2521212121212121,
          0.6,
          0.23214285714285715,
          0,
          0,
          0.13999999999999999,
          0,
          0.1,
          -0.06944444444444445,
          0.1875,
          0.15,
          0.3888095238095238,
          0.38666666666666666,
          0,
          0.10000000000000002,
          0,
          0,
          0.44000000000000006,
          0.07500000000000001,
          0.25,
          0.1111111111111111,
          0,
          0.5,
          0.25,
          -0.2,
          -0.1,
          0,
          0,
          0.5,
          0.12083333333333333,
          0.1875,
          0,
          0,
          0,
          -0.07625,
          0,
          0.09,
          0.1,
          0.7,
          -0.1,
          0,
          0.5,
          -0.08333333333333333,
          0.20166666666666666,
          0.03125,
          -0.0625,
          0,
          0,
          0,
          0.025000000000000005,
          0.06818181818181818,
          0.35,
          0.125,
          -0.2,
          0,
          0,
          0,
          0.06547619047619047,
          0.2,
          0,
          0.2,
          0.13636363636363635,
          -0.4,
          0.27708333333333335,
          0.40681818181818175,
          0.125,
          0.06666666666666667,
          -0.26666666666666666,
          0,
          -0.06666666666666667,
          -0.2,
          0,
          0,
          0,
          0,
          0.05357142857142857,
          0,
          0.0125,
          0,
          0,
          0.3,
          0,
          0.55,
          0,
          -0.07500000000000001,
          0.475,
          -0.03181818181818183,
          0.175,
          0.13035714285714287,
          -0.03181818181818183,
          0.01033333333333334,
          0,
          0.3333333333333333,
          0.215,
          0.025757575757575757,
          0,
          0,
          0,
          0,
          -0.16666666666666666,
          0.2857142857142857,
          -0.038095238095238106,
          0.7,
          0.2916666666666667,
          -0.225,
          0,
          0,
          0,
          0,
          0.16666666666666666,
          0.12500000000000003,
          0,
          0.11363636363636363,
          0,
          0.125,
          0.25,
          0.18535714285714286,
          0.3,
          0,
          0.18125,
          0.1,
          0.06666666666666667,
          0,
          0.26666666666666666,
          -0.16666666666666666,
          0.14444444444444443,
          0.21428571428571427,
          0,
          0.5,
          0.19999999999999998,
          0,
          0,
          0,
          0.4,
          0.11666666666666667,
          0.10000000000000002,
          0,
          0,
          -0.125,
          0.012499999999999997,
          0.16666666666666666,
          0.13232323232323231,
          0,
          0.19285714285714284,
          0.1375,
          0,
          0.125,
          0,
          0,
          0.16666666666666669,
          0.6,
          0.12878787878787878,
          0,
          0.12285714285714286,
          0.14444444444444443,
          0.0987012987012987,
          0,
          0.2,
          0.25,
          0,
          0,
          0,
          0.225,
          0,
          -0.15555555555555559,
          0.06818181818181818,
          0.10000000000000002,
          0.05,
          0.20888888888888885,
          0.15000000000000002,
          0.2,
          -0.16666666666666666,
          0.5,
          0,
          0.2333333333333333,
          0,
          0.16666666666666666,
          0,
          0,
          0.375,
          0.21666666666666665,
          0,
          0.25,
          0.11818181818181818,
          0,
          0,
          0,
          0.008333333333333333,
          0.08333333333333334,
          0.5,
          -0.1,
          0.325,
          0.37777777777777777,
          0,
          0,
          0.060416666666666674,
          0,
          0.08888888888888889,
          0,
          0,
          -0.005555555555555557,
          0.06666666666666667,
          0,
          0.25,
          0,
          -0.1638888888888889,
          -0.25,
          0.23333333333333334,
          0,
          0.08333333333333333,
          0.5028409090909091,
          -0.03125,
          0.16666666666666666,
          0,
          0,
          0.25,
          0.16666666666666666,
          -0.23076923076923078,
          0,
          0.3666666666666667,
          0.47666666666666674,
          0.43666666666666665,
          1,
          -0.06666666666666667,
          0.5,
          0,
          0.35,
          0,
          0.18333333333333335,
          0.5,
          0.3,
          -0.15555555555555559,
          -0.25,
          0.05,
          0.1875,
          0,
          -0.1625,
          0,
          -0.1,
          0.375,
          0,
          0,
          -0.0625,
          0,
          0.25,
          0.49375,
          0,
          0,
          0.20500000000000002,
          0,
          0,
          0.2,
          0,
          0,
          0,
          0.25,
          0.3,
          0.5,
          0.03125,
          0.225,
          0.33166666666666667,
          -0.03333333333333333,
          0.75,
          0,
          0,
          0.13333333333333333,
          0,
          0.1,
          -0.2,
          0,
          0.11111111111111112,
          0,
          0.18333333333333335,
          0.06714285714285714,
          0,
          0.11818181818181818,
          0.13333333333333333,
          0,
          0,
          0.3333333333333333,
          0,
          0,
          0.2333333333333333,
          0,
          0.25,
          0,
          -0.12424242424242422,
          0,
          -0.08333333333333333,
          -0.2,
          0,
          0.09166666666666667,
          -0.0738095238095238,
          0.049999999999999996,
          0.4444444444444444,
          0.1,
          0.25,
          0,
          0,
          0.7,
          0.15277777777777776,
          0,
          0.13636363636363635,
          0,
          0.125,
          0,
          0.25,
          0.6,
          0,
          0.03333333333333334,
          -0.125,
          0,
          0,
          0.5,
          0,
          0,
          0.13,
          0.375,
          0.4,
          0.3,
          0.13636363636363635,
          0,
          0,
          0.1375,
          0.1,
          0.5,
          0,
          -0.125,
          0.15416666666666667,
          0,
          0.016666666666666666,
          0.25,
          -0.21666666666666667,
          0,
          0.14444444444444446,
          0,
          0.1,
          0,
          0.425,
          0.29545454545454547,
          -0.20000000000000004,
          0.1,
          0,
          0.008333333333333333,
          0,
          0.5166666666666666,
          0,
          0,
          0.08333333333333333,
          0.25,
          0.2125,
          0,
          0,
          0,
          0,
          -0.20833333333333334,
          0.171875,
          0,
          0.1,
          0.175,
          0.5,
          0.012499999999999997,
          0.04,
          0.03390151515151515,
          0.016666666666666666,
          0.0048076923076923045,
          0.5,
          0.4,
          0.009090909090909094,
          0,
          0,
          0,
          0.2,
          0.13636363636363635,
          -0.19444444444444445,
          0.25,
          0.8,
          -0.00833333333333334,
          0.5,
          0,
          -0.4,
          0,
          0.5,
          0,
          -0.056249999999999994,
          0.5,
          0.022321428571428575,
          0.09583333333333333,
          0,
          0.4,
          -0.05,
          0.13333333333333333,
          0.25,
          0,
          0.20000000000000004,
          -0.01339285714285715,
          0,
          0.5,
          -0.14027777777777778,
          0,
          -0.05555555555555555,
          -0.1,
          0.5,
          0,
          0,
          0,
          0.19318181818181818,
          0,
          0,
          -0.05,
          0.13333333333333333,
          0.03666666666666667,
          0.06818181818181818,
          0,
          0.6,
          0.19999999999999998,
          0.75,
          0.22619047619047616,
          0.12857142857142856,
          0.16666666666666666,
          0.08,
          0.10439814814814814,
          0,
          0.1,
          0.03333333333333333,
          0,
          0,
          0,
          0.6,
          0.05,
          -0.15555555555555559,
          -0.30000000000000004,
          -0.15625,
          0,
          0.3125,
          0,
          0.2,
          0.05333333333333332,
          0,
          0.06666666666666665,
          0,
          0.225,
          0,
          -0.15625,
          0,
          0.2,
          0.1416666666666667,
          0.05,
          0.4033333333333333,
          0.16666666666666666,
          0,
          0,
          0.15353535353535352,
          0.1,
          0,
          0.125,
          0.10714285714285714,
          0,
          0.3,
          0.13636363636363635,
          0,
          0.03333333333333333,
          0.5,
          0.071875,
          0.125,
          0.13333333333333333,
          0.2,
          0.26,
          0,
          -0.16666666666666666,
          -0.1,
          0.1875,
          0,
          -0.1,
          0.1,
          0,
          0.06515151515151515,
          0.13636363636363635,
          0.65,
          0.1875,
          0,
          0,
          0.25,
          0,
          0.19444444444444442,
          0.08125,
          0.07500000000000001,
          -0.25,
          -0.125,
          0.35,
          0.35,
          0.22000000000000003,
          0.19318181818181818,
          0,
          0,
          0.5,
          0,
          -0.13333333333333333,
          0,
          0.0625,
          0.2,
          -0.03125,
          0,
          -0.024999999999999994,
          0,
          0.07777777777777779,
          0.2681818181818182,
          0,
          0.1481818181818182,
          0,
          0.2,
          0,
          0,
          0,
          0,
          -0.16666666666666666,
          -0.125,
          -0.1,
          0.043181818181818175,
          0,
          0.1,
          0,
          0,
          -0.05,
          -0.25,
          0,
          -0.13333333333333333,
          0,
          0.16666666666666666,
          0.13636363636363635,
          0,
          0,
          0.13333333333333333,
          0.075,
          -0.2333333333333333,
          0,
          0.10714285714285714,
          1,
          -0.38333333333333336,
          0,
          0,
          0.465,
          -0.05555555555555555,
          0,
          0,
          0.08,
          0.2681818181818182,
          0.12878787878787878,
          0.014999999999999996,
          0,
          0.5681818181818181,
          0,
          0.3,
          0.5,
          0,
          0,
          0,
          0.43333333333333335,
          0.3181818181818182,
          0.15,
          0.109375,
          0.10000000000000002,
          0,
          0,
          0,
          0,
          0,
          0.13636363636363635,
          0.36,
          0,
          0,
          0.5,
          0.2392857142857143,
          0.5,
          0.4333333333333333,
          0,
          0,
          0.13636363636363635,
          -0.15,
          0,
          0,
          0,
          -0.2,
          0.07708333333333334,
          0,
          0.3,
          0,
          0,
          0,
          0.2857142857142857,
          0.05,
          0.24285714285714285,
          0.28125,
          -0.037500000000000006,
          -0.03205128205128206,
          0,
          0.2,
          -0.03125,
          -0.15,
          0,
          0.4333333333333333,
          0.25,
          0,
          0.4,
          0.17777777777777778,
          -0.033333333333333326,
          -0.07083333333333333,
          0.1,
          0.35000000000000003,
          -0.09583333333333333,
          0.1125,
          0.7,
          0.20800000000000002,
          0.15,
          1,
          0.17777777777777778,
          0.0035714285714285657,
          0.35,
          0.1,
          -0.023809523809523808,
          0,
          0.020833333333333332,
          0,
          0,
          0.09999999999999998,
          0,
          -0.016666666666666663,
          0,
          0,
          0,
          0,
          0.010833333333333334,
          0,
          -0.10555555555555556,
          0.03333333333333333,
          0.1,
          0.22727272727272724,
          0.13636363636363635,
          -0.1875,
          0.4435714285714286,
          0.11363636363636363,
          -0.1875,
          0.07777777777777778,
          0.2525,
          -0.125,
          -0.1,
          0,
          0,
          0.1875,
          0,
          0.125,
          -0.1,
          -0.3,
          0.17857142857142858,
          0.3,
          0.02500000000000001,
          0.32333333333333336,
          0.2,
          0,
          0.4125,
          0.06818181818181818,
          -0.1,
          0,
          0.2816666666666667,
          -0.0625,
          0.1,
          0.25,
          -0.008333333333333331,
          -0.0625,
          0.2,
          0.5,
          0,
          0,
          0.4,
          0.33809523809523806,
          0.03333333333333333,
          0.3,
          0.2111111111111111,
          0.13333333333333333,
          0.03333333333333333,
          0.15,
          0.14285714285714285,
          0.26666666666666666,
          0,
          0.16666666666666666,
          0.008333333333333333,
          0,
          0.2,
          0.08148148148148147,
          -0.2,
          0.09226190476190477,
          0.24810606060606064,
          0,
          0.3,
          0.325,
          0.1325128205128205,
          0.0625,
          -0.05,
          0.25353535353535356,
          -0.012499999999999997,
          0.5,
          0.325,
          0.017592592592592576,
          0.5,
          0.2333333333333333,
          0.06666666666666667,
          0.2,
          0,
          0,
          0.03409090909090909,
          0,
          0.3,
          0,
          0.12166666666666666,
          0,
          0,
          0,
          0.05,
          0.19999999999999998,
          0.23541666666666666,
          0.20000000000000004,
          0.5,
          0,
          0.15000000000000002,
          0.4333333333333333,
          0.35,
          0,
          0,
          0.16666666666666666,
          0.19999999999999998,
          0.75,
          0.08666666666666667,
          0,
          0,
          0.125,
          0,
          0.18571428571428572,
          0.3666666666666667,
          0.25,
          0,
          -0.1416666666666667,
          0,
          0,
          0,
          0.2,
          0.1278409090909091,
          0,
          0,
          0.31666666666666665,
          0.35,
          0.25,
          0.3,
          0.175,
          0.125,
          0,
          0,
          0,
          -0.05,
          0,
          0.05909090909090909,
          0,
          0,
          0,
          -0.11875000000000001,
          -0.125,
          0,
          -0.06666666666666667,
          -0.06666666666666667,
          0.25,
          0,
          0.12884615384615383,
          -0.03146853146853148,
          -0.1625,
          -0.13333333333333333,
          0.29464285714285715,
          0.2833333333333333,
          0.15666666666666668,
          0.2,
          0.21103896103896103,
          0.375,
          -0.03571428571428571,
          -0.28125,
          -0.08888888888888889,
          -0.075,
          0.1,
          0,
          0,
          -0.05,
          0,
          0.42857142857142855,
          0.5,
          0,
          0.43333333333333335,
          0,
          0.1875,
          -0.010101010101010102,
          -0.15555555555555559,
          -0.07142857142857142,
          0,
          0.25,
          -0.1,
          0.03125,
          0.07142857142857142,
          0.36818181818181817,
          0,
          0,
          0.1,
          0,
          0,
          0.09722222222222222,
          0,
          0,
          -0.23076923076923078,
          0,
          -0.07777777777777779,
          0.5,
          0,
          -0.1,
          0.35,
          0.1621212121212121,
          0,
          0.19318181818181818,
          0.225,
          0.425,
          0,
          -0.2,
          0.4583333333333333,
          0.08333333333333333,
          0.05,
          0.175,
          0,
          0.24166666666666667,
          -0.03188775510204082,
          0,
          0,
          -0.06875,
          0,
          0,
          0.08,
          0,
          0,
          0.13,
          -0.10625,
          0,
          0,
          -0.03371428571428571,
          -0.0625,
          0,
          0.16333333333333333,
          -0.025,
          -0.016666666666666666,
          0.5,
          0,
          0.08446825396825397,
          0.1621212121212121,
          -0.09375,
          0.425,
          0.1,
          0.5,
          0.375,
          0,
          0,
          0,
          0.11727272727272728,
          0,
          0.08750000000000001,
          0.26666666666666666,
          0.375,
          -0.075,
          0,
          0.025000000000000005,
          0.2197727272727273,
          0,
          0.06818181818181818,
          0,
          0.10714285714285714,
          0.5,
          0.65,
          0.26666666666666666,
          -0.02121212121212122,
          0.1,
          0.15000000000000002,
          0.7,
          0.7366666666666667,
          0,
          0.1111111111111111,
          0.5,
          0,
          0.13636363636363635,
          -0.075,
          0.08666666666666667,
          0,
          0.016666666666666663,
          0,
          0.08333333333333333,
          0,
          0.22727272727272727,
          0.24722222222222223,
          0,
          0,
          0.11818181818181818,
          -0.14583333333333334,
          -0.2,
          -0.006249999999999999,
          0.134375,
          0,
          0.2,
          0,
          0,
          -0.041666666666666664,
          0.35333333333333333,
          0.016666666666666666,
          -0.125,
          0.21666666666666665,
          0,
          0,
          -0.0625,
          0,
          0,
          0.8,
          0,
          0,
          0,
          0.31534090909090906,
          0.1,
          0.175,
          0.4,
          0.1181818181818182,
          0.125,
          0.28,
          0,
          0,
          0.03809523809523809,
          0,
          0.037500000000000006,
          0.02500000000000001,
          0.4833333333333333,
          -0.044444444444444446,
          0,
          0.14242424242424243,
          0,
          0.06818181818181818,
          0,
          0,
          -0.05,
          -0.18888888888888888,
          0,
          -0.06666666666666667,
          0.5,
          -0.075,
          0,
          -0.13333333333333333,
          0,
          0.15,
          0.19666666666666666,
          0.09375,
          -0.0625,
          0,
          0.35,
          0.25416666666666665,
          -0.09351851851851851,
          0.07333333333333335,
          0.08333333333333333,
          0,
          0,
          0.16666666666666666,
          -0.0625,
          0.4,
          0.375,
          -0.3,
          -0.04285714285714286,
          0.4333333333333333,
          0,
          0.25,
          0,
          0.16666666666666666,
          0,
          0,
          0.35,
          0,
          0.13636363636363635,
          0.275,
          0,
          0,
          0,
          0.125,
          0.053571428571428575,
          0,
          0,
          0.45,
          -0.20000000000000004,
          0.37499999999999994,
          0,
          0,
          0.08333333333333333,
          0,
          0,
          0.3,
          0.125,
          0.5,
          0,
          0.08409090909090909,
          0.7,
          0.025,
          0,
          0.19318181818181818,
          0,
          0,
          0.06444444444444444,
          0.10694444444444444,
          0,
          -0.15,
          0.375,
          0.24999999999999997,
          0,
          -0.008333333333333318,
          0.25,
          -0.025,
          0,
          -0.07777777777777779,
          -0.0038383838383838466,
          0,
          0.13636363636363635,
          0,
          0,
          0.35,
          0.25,
          0.20333333333333334,
          0,
          0.5,
          0.3,
          0.13714285714285715,
          0.3,
          0,
          0,
          0.06818181818181818,
          0.22142857142857142,
          0,
          0,
          0,
          0.1,
          0.19166666666666665,
          0.6,
          0.11515151515151514,
          0.12476190476190475,
          0,
          0.25,
          0.06818181818181818,
          0,
          0.04545454545454545,
          0,
          -0.03636363636363636,
          0.3,
          0.12142857142857143,
          0.34659090909090906,
          0,
          0,
          0.25,
          0,
          0.15,
          0.1,
          0.20833333333333331,
          0.25,
          0.00416666666666667,
          0.15000000000000002,
          0,
          0.06818181818181818,
          0,
          0.08333333333333333,
          -0.05,
          0.05,
          -0.125,
          0.14375,
          0,
          0,
          0.075,
          0,
          0.4,
          -0.011111111111111108,
          0.1,
          0,
          -0.01818181818181818,
          0.03333333333333333,
          -0.18333333333333335,
          0.1630952380952381,
          0.2816666666666667,
          0.2,
          -0.0625,
          0.05092592592592591,
          0,
          -0.03125,
          0.18333333333333335,
          0.425,
          0.25,
          0.1,
          -0.23076923076923078,
          0,
          0.4666666666666666,
          0.5,
          0.06666666666666668,
          -0.1
         ]
        }
       ],
       "layout": {
        "barmode": "overlay",
        "legend": {
         "bgcolor": "#F5F6F9",
         "font": {
          "color": "#4D5663"
         }
        },
        "paper_bgcolor": "#F5F6F9",
        "plot_bgcolor": "#F5F6F9",
        "template": {
         "data": {
          "bar": [
           {
            "error_x": {
             "color": "#2a3f5f"
            },
            "error_y": {
             "color": "#2a3f5f"
            },
            "marker": {
             "line": {
              "color": "#E5ECF6",
              "width": 0.5
             },
             "pattern": {
              "fillmode": "overlay",
              "size": 10,
              "solidity": 0.2
             }
            },
            "type": "bar"
           }
          ],
          "barpolar": [
           {
            "marker": {
             "line": {
              "color": "#E5ECF6",
              "width": 0.5
             },
             "pattern": {
              "fillmode": "overlay",
              "size": 10,
              "solidity": 0.2
             }
            },
            "type": "barpolar"
           }
          ],
          "carpet": [
           {
            "aaxis": {
             "endlinecolor": "#2a3f5f",
             "gridcolor": "white",
             "linecolor": "white",
             "minorgridcolor": "white",
             "startlinecolor": "#2a3f5f"
            },
            "baxis": {
             "endlinecolor": "#2a3f5f",
             "gridcolor": "white",
             "linecolor": "white",
             "minorgridcolor": "white",
             "startlinecolor": "#2a3f5f"
            },
            "type": "carpet"
           }
          ],
          "choropleth": [
           {
            "colorbar": {
             "outlinewidth": 0,
             "ticks": ""
            },
            "type": "choropleth"
           }
          ],
          "contour": [
           {
            "colorbar": {
             "outlinewidth": 0,
             "ticks": ""
            },
            "colorscale": [
             [
              0,
              "#0d0887"
             ],
             [
              0.1111111111111111,
              "#46039f"
             ],
             [
              0.2222222222222222,
              "#7201a8"
             ],
             [
              0.3333333333333333,
              "#9c179e"
             ],
             [
              0.4444444444444444,
              "#bd3786"
             ],
             [
              0.5555555555555556,
              "#d8576b"
             ],
             [
              0.6666666666666666,
              "#ed7953"
             ],
             [
              0.7777777777777778,
              "#fb9f3a"
             ],
             [
              0.8888888888888888,
              "#fdca26"
             ],
             [
              1,
              "#f0f921"
             ]
            ],
            "type": "contour"
           }
          ],
          "contourcarpet": [
           {
            "colorbar": {
             "outlinewidth": 0,
             "ticks": ""
            },
            "type": "contourcarpet"
           }
          ],
          "heatmap": [
           {
            "colorbar": {
             "outlinewidth": 0,
             "ticks": ""
            },
            "colorscale": [
             [
              0,
              "#0d0887"
             ],
             [
              0.1111111111111111,
              "#46039f"
             ],
             [
              0.2222222222222222,
              "#7201a8"
             ],
             [
              0.3333333333333333,
              "#9c179e"
             ],
             [
              0.4444444444444444,
              "#bd3786"
             ],
             [
              0.5555555555555556,
              "#d8576b"
             ],
             [
              0.6666666666666666,
              "#ed7953"
             ],
             [
              0.7777777777777778,
              "#fb9f3a"
             ],
             [
              0.8888888888888888,
              "#fdca26"
             ],
             [
              1,
              "#f0f921"
             ]
            ],
            "type": "heatmap"
           }
          ],
          "heatmapgl": [
           {
            "colorbar": {
             "outlinewidth": 0,
             "ticks": ""
            },
            "colorscale": [
             [
              0,
              "#0d0887"
             ],
             [
              0.1111111111111111,
              "#46039f"
             ],
             [
              0.2222222222222222,
              "#7201a8"
             ],
             [
              0.3333333333333333,
              "#9c179e"
             ],
             [
              0.4444444444444444,
              "#bd3786"
             ],
             [
              0.5555555555555556,
              "#d8576b"
             ],
             [
              0.6666666666666666,
              "#ed7953"
             ],
             [
              0.7777777777777778,
              "#fb9f3a"
             ],
             [
              0.8888888888888888,
              "#fdca26"
             ],
             [
              1,
              "#f0f921"
             ]
            ],
            "type": "heatmapgl"
           }
          ],
          "histogram": [
           {
            "marker": {
             "pattern": {
              "fillmode": "overlay",
              "size": 10,
              "solidity": 0.2
             }
            },
            "type": "histogram"
           }
          ],
          "histogram2d": [
           {
            "colorbar": {
             "outlinewidth": 0,
             "ticks": ""
            },
            "colorscale": [
             [
              0,
              "#0d0887"
             ],
             [
              0.1111111111111111,
              "#46039f"
             ],
             [
              0.2222222222222222,
              "#7201a8"
             ],
             [
              0.3333333333333333,
              "#9c179e"
             ],
             [
              0.4444444444444444,
              "#bd3786"
             ],
             [
              0.5555555555555556,
              "#d8576b"
             ],
             [
              0.6666666666666666,
              "#ed7953"
             ],
             [
              0.7777777777777778,
              "#fb9f3a"
             ],
             [
              0.8888888888888888,
              "#fdca26"
             ],
             [
              1,
              "#f0f921"
             ]
            ],
            "type": "histogram2d"
           }
          ],
          "histogram2dcontour": [
           {
            "colorbar": {
             "outlinewidth": 0,
             "ticks": ""
            },
            "colorscale": [
             [
              0,
              "#0d0887"
             ],
             [
              0.1111111111111111,
              "#46039f"
             ],
             [
              0.2222222222222222,
              "#7201a8"
             ],
             [
              0.3333333333333333,
              "#9c179e"
             ],
             [
              0.4444444444444444,
              "#bd3786"
             ],
             [
              0.5555555555555556,
              "#d8576b"
             ],
             [
              0.6666666666666666,
              "#ed7953"
             ],
             [
              0.7777777777777778,
              "#fb9f3a"
             ],
             [
              0.8888888888888888,
              "#fdca26"
             ],
             [
              1,
              "#f0f921"
             ]
            ],
            "type": "histogram2dcontour"
           }
          ],
          "mesh3d": [
           {
            "colorbar": {
             "outlinewidth": 0,
             "ticks": ""
            },
            "type": "mesh3d"
           }
          ],
          "parcoords": [
           {
            "line": {
             "colorbar": {
              "outlinewidth": 0,
              "ticks": ""
             }
            },
            "type": "parcoords"
           }
          ],
          "pie": [
           {
            "automargin": true,
            "type": "pie"
           }
          ],
          "scatter": [
           {
            "fillpattern": {
             "fillmode": "overlay",
             "size": 10,
             "solidity": 0.2
            },
            "type": "scatter"
           }
          ],
          "scatter3d": [
           {
            "line": {
             "colorbar": {
              "outlinewidth": 0,
              "ticks": ""
             }
            },
            "marker": {
             "colorbar": {
              "outlinewidth": 0,
              "ticks": ""
             }
            },
            "type": "scatter3d"
           }
          ],
          "scattercarpet": [
           {
            "marker": {
             "colorbar": {
              "outlinewidth": 0,
              "ticks": ""
             }
            },
            "type": "scattercarpet"
           }
          ],
          "scattergeo": [
           {
            "marker": {
             "colorbar": {
              "outlinewidth": 0,
              "ticks": ""
             }
            },
            "type": "scattergeo"
           }
          ],
          "scattergl": [
           {
            "marker": {
             "colorbar": {
              "outlinewidth": 0,
              "ticks": ""
             }
            },
            "type": "scattergl"
           }
          ],
          "scattermapbox": [
           {
            "marker": {
             "colorbar": {
              "outlinewidth": 0,
              "ticks": ""
             }
            },
            "type": "scattermapbox"
           }
          ],
          "scatterpolar": [
           {
            "marker": {
             "colorbar": {
              "outlinewidth": 0,
              "ticks": ""
             }
            },
            "type": "scatterpolar"
           }
          ],
          "scatterpolargl": [
           {
            "marker": {
             "colorbar": {
              "outlinewidth": 0,
              "ticks": ""
             }
            },
            "type": "scatterpolargl"
           }
          ],
          "scatterternary": [
           {
            "marker": {
             "colorbar": {
              "outlinewidth": 0,
              "ticks": ""
             }
            },
            "type": "scatterternary"
           }
          ],
          "surface": [
           {
            "colorbar": {
             "outlinewidth": 0,
             "ticks": ""
            },
            "colorscale": [
             [
              0,
              "#0d0887"
             ],
             [
              0.1111111111111111,
              "#46039f"
             ],
             [
              0.2222222222222222,
              "#7201a8"
             ],
             [
              0.3333333333333333,
              "#9c179e"
             ],
             [
              0.4444444444444444,
              "#bd3786"
             ],
             [
              0.5555555555555556,
              "#d8576b"
             ],
             [
              0.6666666666666666,
              "#ed7953"
             ],
             [
              0.7777777777777778,
              "#fb9f3a"
             ],
             [
              0.8888888888888888,
              "#fdca26"
             ],
             [
              1,
              "#f0f921"
             ]
            ],
            "type": "surface"
           }
          ],
          "table": [
           {
            "cells": {
             "fill": {
              "color": "#EBF0F8"
             },
             "line": {
              "color": "white"
             }
            },
            "header": {
             "fill": {
              "color": "#C8D4E3"
             },
             "line": {
              "color": "white"
             }
            },
            "type": "table"
           }
          ]
         },
         "layout": {
          "annotationdefaults": {
           "arrowcolor": "#2a3f5f",
           "arrowhead": 0,
           "arrowwidth": 1
          },
          "autotypenumbers": "strict",
          "coloraxis": {
           "colorbar": {
            "outlinewidth": 0,
            "ticks": ""
           }
          },
          "colorscale": {
           "diverging": [
            [
             0,
             "#8e0152"
            ],
            [
             0.1,
             "#c51b7d"
            ],
            [
             0.2,
             "#de77ae"
            ],
            [
             0.3,
             "#f1b6da"
            ],
            [
             0.4,
             "#fde0ef"
            ],
            [
             0.5,
             "#f7f7f7"
            ],
            [
             0.6,
             "#e6f5d0"
            ],
            [
             0.7,
             "#b8e186"
            ],
            [
             0.8,
             "#7fbc41"
            ],
            [
             0.9,
             "#4d9221"
            ],
            [
             1,
             "#276419"
            ]
           ],
           "sequential": [
            [
             0,
             "#0d0887"
            ],
            [
             0.1111111111111111,
             "#46039f"
            ],
            [
             0.2222222222222222,
             "#7201a8"
            ],
            [
             0.3333333333333333,
             "#9c179e"
            ],
            [
             0.4444444444444444,
             "#bd3786"
            ],
            [
             0.5555555555555556,
             "#d8576b"
            ],
            [
             0.6666666666666666,
             "#ed7953"
            ],
            [
             0.7777777777777778,
             "#fb9f3a"
            ],
            [
             0.8888888888888888,
             "#fdca26"
            ],
            [
             1,
             "#f0f921"
            ]
           ],
           "sequentialminus": [
            [
             0,
             "#0d0887"
            ],
            [
             0.1111111111111111,
             "#46039f"
            ],
            [
             0.2222222222222222,
             "#7201a8"
            ],
            [
             0.3333333333333333,
             "#9c179e"
            ],
            [
             0.4444444444444444,
             "#bd3786"
            ],
            [
             0.5555555555555556,
             "#d8576b"
            ],
            [
             0.6666666666666666,
             "#ed7953"
            ],
            [
             0.7777777777777778,
             "#fb9f3a"
            ],
            [
             0.8888888888888888,
             "#fdca26"
            ],
            [
             1,
             "#f0f921"
            ]
           ]
          },
          "colorway": [
           "#636efa",
           "#EF553B",
           "#00cc96",
           "#ab63fa",
           "#FFA15A",
           "#19d3f3",
           "#FF6692",
           "#B6E880",
           "#FF97FF",
           "#FECB52"
          ],
          "font": {
           "color": "#2a3f5f"
          },
          "geo": {
           "bgcolor": "white",
           "lakecolor": "white",
           "landcolor": "#E5ECF6",
           "showlakes": true,
           "showland": true,
           "subunitcolor": "white"
          },
          "hoverlabel": {
           "align": "left"
          },
          "hovermode": "closest",
          "mapbox": {
           "style": "light"
          },
          "paper_bgcolor": "white",
          "plot_bgcolor": "#E5ECF6",
          "polar": {
           "angularaxis": {
            "gridcolor": "white",
            "linecolor": "white",
            "ticks": ""
           },
           "bgcolor": "#E5ECF6",
           "radialaxis": {
            "gridcolor": "white",
            "linecolor": "white",
            "ticks": ""
           }
          },
          "scene": {
           "xaxis": {
            "backgroundcolor": "#E5ECF6",
            "gridcolor": "white",
            "gridwidth": 2,
            "linecolor": "white",
            "showbackground": true,
            "ticks": "",
            "zerolinecolor": "white"
           },
           "yaxis": {
            "backgroundcolor": "#E5ECF6",
            "gridcolor": "white",
            "gridwidth": 2,
            "linecolor": "white",
            "showbackground": true,
            "ticks": "",
            "zerolinecolor": "white"
           },
           "zaxis": {
            "backgroundcolor": "#E5ECF6",
            "gridcolor": "white",
            "gridwidth": 2,
            "linecolor": "white",
            "showbackground": true,
            "ticks": "",
            "zerolinecolor": "white"
           }
          },
          "shapedefaults": {
           "line": {
            "color": "#2a3f5f"
           }
          },
          "ternary": {
           "aaxis": {
            "gridcolor": "white",
            "linecolor": "white",
            "ticks": ""
           },
           "baxis": {
            "gridcolor": "white",
            "linecolor": "white",
            "ticks": ""
           },
           "bgcolor": "#E5ECF6",
           "caxis": {
            "gridcolor": "white",
            "linecolor": "white",
            "ticks": ""
           }
          },
          "title": {
           "x": 0.05
          },
          "xaxis": {
           "automargin": true,
           "gridcolor": "white",
           "linecolor": "white",
           "ticks": "",
           "title": {
            "standoff": 15
           },
           "zerolinecolor": "white",
           "zerolinewidth": 2
          },
          "yaxis": {
           "automargin": true,
           "gridcolor": "white",
           "linecolor": "white",
           "ticks": "",
           "title": {
            "standoff": 15
           },
           "zerolinecolor": "white",
           "zerolinewidth": 2
          }
         }
        },
        "title": {
         "font": {
          "color": "#4D5663"
         },
         "text": "Sentiment Polarity Distribution"
        },
        "xaxis": {
         "gridcolor": "#E1E5ED",
         "showgrid": true,
         "tickfont": {
          "color": "#4D5663"
         },
         "title": {
          "font": {
           "color": "#4D5663"
          },
          "text": "Polarity"
         },
         "zerolinecolor": "#E1E5ED"
        },
        "yaxis": {
         "gridcolor": "#E1E5ED",
         "showgrid": true,
         "tickfont": {
          "color": "#4D5663"
         },
         "title": {
          "font": {
           "color": "#4D5663"
          },
          "text": "Count"
         },
         "zerolinecolor": "#E1E5ED"
        }
       }
      },
      "text/html": [
       "<div>                            <div id=\"ff739a6d-42e5-4307-a631-eabe33826f2d\" class=\"plotly-graph-div\" style=\"height:525px; width:100%;\"></div>            <script type=\"text/javascript\">                require([\"plotly\"], function(Plotly) {                    window.PLOTLYENV=window.PLOTLYENV || {};\n",
       "                    window.PLOTLYENV.BASE_URL='https://plot.ly';                                    if (document.getElementById(\"ff739a6d-42e5-4307-a631-eabe33826f2d\")) {                    Plotly.newPlot(                        \"ff739a6d-42e5-4307-a631-eabe33826f2d\",                        [{\"histfunc\":\"count\",\"histnorm\":\"\",\"marker\":{\"color\":\"rgba(255, 153, 51, 1.0)\",\"line\":{\"color\":\"#4D5663\",\"width\":1.3}},\"name\":\"polarity\",\"nbinsx\":50,\"opacity\":0.8,\"orientation\":\"v\",\"x\":[0.125,0.16666666666666666,0.45,0.19,0.5,0.0,-0.1435897435897436,-0.024867724867724882,0.0,0.0,0.1392857142857143,0.0,0.23333333333333334,0.0,-0.16666666666666666,0.0,0.4375,0.39375,-0.049999999999999996,0.03333333333333333,-0.03571428571428571,0.16666666666666666,-0.09999999999999999,0.15266666666666667,0.3,0.0,0.4,0.21212121212121213,-0.08333333333333333,0.019047619047619053,0.42857142857142855,0.11666666666666668,0.16666666666666666,0.0,0.0,0.01,0.4,-0.10555555555555556,-0.25,0.5,0.4,0.0,0.017857142857142856,0.0,0.14583333333333334,0.041666666666666664,0.0,0.0,0.0,0.0,0.08333333333333333,0.21428571428571427,0.0,0.0,0.175,0.2722222222222222,0.25,0.125,-0.16666666666666666,-0.06666666666666667,0.2333333333333333,0.10000000000000002,0.1,0.0,0.0,-0.08333333333333333,-0.18333333333333335,0.2,-0.15,0.14814814814814817,1.0,0.3,0.25,0.1,0.0,-0.0625,0.0,0.0,0.5,0.1,0.0,0.15833333333333333,0.043181818181818175,0.020833333333333332,0.0,0.0,-0.2,0.0,0.375,0.0,0.2681818181818182,0.0,0.4222222222222222,-0.125,-0.3,0.0,-0.03333333333333333,0.6333333333333333,0.10108225108225108,0.0,0.14025974025974025,0.31666666666666665,0.0,-0.2,0.0,0.0,0.8,-0.03333333333333333,0.2888888888888889,0.35,0.0,0.0,0.0125,0.09772727272727272,0.1875,0.3181818181818182,0.1,0.0,0.13636363636363635,0.0,-0.09999999999999999,0.0,0.25,0.09999999999999999,0.10714285714285714,0.0,-0.05,0.39285714285714285,0.0,0.0,0.14285714285714285,0.13333333333333333,0.08333333333333333,0.0625,0.4,0.34375,0.0,0.1,0.0,0.0,0.3,0.0,0.375,0.05,0.0,0.1875,0.0,0.25,0.0,0.08333333333333333,0.05,0.0,0.0,0.25,0.075,0.06818181818181818,0.375,0.3181818181818182,-0.049999999999999996,0.0,0.31666666666666665,0.0,0.1625,0.6,0.0,0.0675,0.02357142857142857,0.0,0.45656565656565656,0.15555555555555556,0.25,0.0,0.08333333333333333,-0.125,0.0,0.0,-0.2,-0.2,0.0,0.0,0.0,0.38333333333333336,0.0,0.13333333333333333,0.0,0.0,-0.25,0.0,0.0,0.0,-0.1,0.0,0.13989898989898988,0.0,0.0,-0.23076923076923078,0.0,0.5,0.11111111111111112,0.17065476190476192,0.07569444444444443,0.0,0.4,0.27,0.5,0.0,0.25,0.5,0.125,0.0,0.25,0.25,0.25,0.1,0.0,0.30654761904761907,0.7,0.03333333333333333,0.05,-0.033333333333333326,0.3333333333333333,-0.2,0.21428571428571427,0.13636363636363635,0.21428571428571427,0.8,-0.125,-0.42499999999999993,-0.1875,-0.19422123015873016,0.16666666666666666,0.35,0.1875,0.0909090909090909,1.0,0.0,0.5,0.0,-0.1,0.08333333333333334,0.09999999999999998,0.1,-0.08749999999999998,0.0,0.0,0.19999999999999998,0.03333333333333333,0.19999999999999998,0.075,0.2111111111111111,0.0,0.17455357142857142,0.25,0.0,0.0,-0.05,0.0,-0.06666666666666665,0.13636363636363635,0.2916666666666667,0.016666666666666663,0.3,0.0,0.17500000000000002,0.0,0.0,0.22727272727272727,0.21666666666666665,0.0842687074829932,0.02500000000000001,0.08666666666666667,0.025992063492063493,0.3,0.3,0.0022727272727272817,0.25,0.1,0.07693181818181818,0.0,0.0,0.0,0.4,0.2681818181818182,0.0,0.5,0.4,0.05,0.12062500000000001,0.0,0.0,0.0,0.0,0.0,0.1,-0.07777777777777779,0.008928571428571425,0.0,0.08888888888888889,0.125,0.044444444444444446,0.0,0.25,0.26666666666666666,0.2,0.25625,0.0,0.4,0.0,0.19312500000000002,-0.20000000000000004,0.0,0.2333333333333333,-0.3125,0.35,0.0,0.03466666666666667,0.21666666666666667,0.0,-0.0625,0.28409090909090906,-0.1,0.15333333333333332,0.0,0.06818181818181818,0.1,0.39999999999999997,-0.17230769230769233,0.3416666666666667,0.0,0.225,0.08,0.0,0.0,0.0,0.0,0.005681818181818177,0.0,0.0,0.0,0.3833333333333333,0.4375,0.0,-0.07142857142857142,0.26666666666666666,0.3125,0.0,0.0,0.19292929292929292,0.15833333333333333,-0.075,0.0,0.0,0.0,0.0,-0.015625,0.0,-0.2,0.0,0.16,0.11111111111111112,0.0,0.09999999999999999,0.0,0.28125,0.0,0.0,0.04999999999999999,0.10000000000000002,0.0,-0.05,0.0,0.0,0.013636363636363627,0.0,0.0,-0.15555555555555559,0.125,0.20666666666666667,-0.00833333333333334,0.016666666666666673,0.25,0.15666666666666668,0.0,-0.03333333333333333,-0.04329670329670329,0.0,-0.17500000000000002,0.0,0.25,0.10284090909090908,-0.08928571428571429,-0.2,0.0,-0.13333333333333333,0.0,0.10714285714285714,0.0,0.5,0.0,0.4333333333333333,0.23499999999999996,0.0,0.0,-0.2,-0.6,0.4,0.15625,0.0,0.0,0.25,0.0,0.5,0.041666666666666664,0.3666666666666667,0.0,0.25333333333333335,0.13333333333333333,0.5,2.7755575615628914e-17,0.13124999999999998,0.0,0.5,0.83,0.3,-0.1,0.0,0.020000000000000007,0.19,0.365,0.0,0.25,0.19999999999999998,0.32380952380952377,0.041666666666666664,0.375,-0.09999999999999999,-0.05,0.0,0.2,0.13636363636363635,0.0,0.11666666666666667,0.2857142857142857,-0.03333333333333333,-0.14583333333333331,0.10000000000000002,0.4,0.0,0.5,0.049999999999999996,0.0,-0.03571428571428571,0.26666666666666666,0.12885714285714286,0.2857142857142857,-0.09375,-0.4625,-0.125,0.5121212121212121,0.4,0.07500000000000001,0.09666666666666666,0.05555555555555555,0.5,0.08,0.16,-0.55625,0.06688311688311688,0.2,-0.13333333333333333,0.0,0.0,0.0,0.125,0.2611111111111111,0.13636363636363635,0.0,0.011931818181818175,0.11666666666666665,0.0,0.0,-0.2,0.1,0.0,0.23,0.4,0.08392857142857142,0.1,0.5,0.0,0.0,-0.04047619047619048,0.09999999999999999,-0.0625,0.0,0.25,-0.09999999999999999,0.25,1.0,0.0,0.23750000000000002,0.0,0.125,0.0,-0.07142857142857142,0.6,0.26205357142857144,0.8,-0.06346153846153846,0.5,0.0,0.175,0.0,0.16666666666666666,0.2,0.0,0.07138888888888888,0.5,0.0,0.06666666666666667,0.0,0.0,-0.1125,0.125,0.6666666666666666,0.0,0.175,0.0,0.13636363636363635,0.0,0.08750000000000001,-0.8,0.0,0.4,0.0,0.23968253968253966,0.0,0.0,0.4,0.0,0.2888888888888889,0.0,-0.15833333333333333,-0.06666666666666667,0.0,0.13636363636363635,0.0,0.0,0.35,0.5,0.7,0.06875,0.0,0.425,0.325,0.5,0.0,0.3,0.8,0.0,0.0,0.0,-0.1,0.0,0.2916666666666667,0.29523809523809524,0.0,0.0,0.2333333333333333,0.0,0.25,0.0,0.0,0.0,0.5,0.0,0.0,0.4,0.0,0.0,0.04464285714285714,0.10714285714285714,0.25,0.15714285714285714,-0.1,-0.1416666666666667,0.4318181818181818,0.0,0.125,0.18333333333333335,-0.3,-0.041666666666666664,0.2875,0.0,0.28409090909090906,0.16999999999999998,0.13766233766233765,0.0,0.16666666666666669,0.20892857142857144,0.35,0.1875,0.1181818181818182,0.25,0.4,0.08333333333333336,0.10000000000000002,-0.4,0.0,0.0,0.0,-0.13333333333333333,0.0,0.0,0.1791666666666667,0.0,0.0,-0.1,0.1346153846153846,0.06666666666666667,0.5,0.1517857142857143,0.4,0.0,0.15625,0.0,0.16999999999999998,0.0,0.0,0.0,-0.2,0.0,0.1357142857142857,0.0,-0.07142857142857142,0.12083333333333336,0.1340909090909091,0.0,0.0,0.15,-0.1130952380952381,0.25,0.0,0.0,0.06517857142857142,0.0,0.10416666666666666,0.18888888888888888,0.0,0.19999999999999998,0.125,0.1715909090909091,-0.3125,0.13636363636363635,0.525,0.36190476190476195,-0.053125,0.34285714285714286,0.0,-0.15555555555555559,0.5,-0.125,0.0,0.0,0.0,0.14166666666666666,0.18181818181818182,0.17777777777777778,0.4166666666666667,0.0,0.2857142857142857,0.033333333333333326,0.0,-0.25,0.3,0.06818181818181818,0.16818181818181818,0.25,-0.125,0.1,-0.08888888888888889,0.15333333333333332,0.0,-0.1851851851851852,0.5,0.1,0.5,0.0,0.04722222222222221,0.2,0.146875,-0.2,0.0,0.0,0.05555555555555555,0.0,0.0,0.0,0.10714285714285714,0.2,0.049999999999999996,0.475,0.24,0.11875,0.08666666666666667,0.0,0.0,0.0,0.0,0.0,0.19545454545454544,0.0,0.0,-0.09166666666666667,-0.7,0.08954545454545454,0.0,0.13392857142857145,0.13564814814814816,0.0,0.5,0.3875,0.375,0.0,0.065,-0.1,0.1,0.0,0.0,0.0,0.4,0.0,0.13636363636363635,-0.016666666666666663,0.13333333333333333,0.0,0.0,0.2125,0.0,-0.2,0.0,0.6,0.24444444444444446,0.05,0.0,-0.25,0.0,0.25,0.0,0.0,0.0,0.175,0.0,0.0,0.26607142857142857,-0.25,0.4666666666666666,-0.1,0.1,0.18333333333333335,0.03333333333333333,0.175,0.2,0.0,0.24285714285714285,0.225,-0.16666666666666666,0.1,0.3333333333333333,0.1,0.0,0.0,0.0,0.0,0.044444444444444446,0.0,0.0047619047619047545,0.16666666666666666,0.0,-0.07142857142857142,0.29166666666666663,0.0,0.09166666666666667,0.19375,0.16666666666666666,0.375,0.0,0.35,0.0,0.2,0.15,-0.0022727272727272735,0.24772727272727274,0.0,0.08055555555555556,0.1590909090909091,0.13666666666666666,0.06818181818181818,0.2857142857142857,0.21428571428571427,0.0625,0.024999999999999994,0.0,0.0625,0.5,0.0,0.271577380952381,-0.3125,-0.125,0.11666666666666665,0.22727272727272727,-0.13333333333333333,-0.096875,-0.06666666666666667,0.65,0.0,-0.125,-0.16666666666666666,-0.16666666666666666,0.03125,0.0,0.0,-0.125,0.05,0.0,0.3333333333333333,0.2,0.0,0.6,0.35,-0.2333333333333333,0.22727272727272727,0.25,0.0,0.0,0.11818181818181818,0.16666666666666666,0.058333333333333334,0.4,0.08194444444444443,-0.020833333333333343,-0.09999999999999999,0.040625,0.2,-0.125,0.0,0.21428571428571427,0.1,0.19166666666666665,0.28,0.0,-0.125,0.0,0.05,0.125,0.0,0.0,-0.2,0.0,0.35714285714285715,0.2,0.0,0.0,0.35,0.008333333333333333,0.2556818181818182,0.18333333333333335,-0.0625,0.16666666666666666,0.3875,0.0,-0.041666666666666664,0.5,-0.08333333333333333,0.0,0.14166666666666666,0.0,0.12222222222222223,0.39285714285714285,0.05,0.0,0.0,0.0,0.1,0.08,0.1375,0.0,-0.07916666666666666,0.4166666666666667,0.1,0.22727272727272727,-0.1,0.0,0.19999999999999998,0.0,0.4,0.0,0.25,0.20000000000000004,-0.071875,-0.1,0.0,0.2,0.5,0.0,0.26666666666666666,0.4222222222222222,-0.0625,0.14999999999999997,0.0,0.0,0.0,0.31666666666666665,0.0,-0.07777777777777779,0.0,0.0,0.3,0.5,0.07142857142857142,0.25,-0.25,0.35000000000000003,-0.075,0.0,0.10727272727272727,-0.07777777777777779,0.4,0.8,-0.041666666666666664,0.05,0.5,0.018181818181818174,0.16666666666666666,0.0,0.0,-0.08333333333333333,0.0,0.0,0.275,0.65,0.15,0.0,0.0,-0.3,0.0,0.0,0.25,0.0,0.0,0.3666666666666667,0.05555555555555556,0.19999999999999998,-0.15555555555555559,0.15833333333333333,0.5,0.14583333333333334,-0.14791666666666667,0.16666666666666666,0.3,0.7,0.1,0.20400000000000001,0.4,0.17619047619047618,0.05000000000000003,0.2875,0.09375,0.02777777777777778,0.11666666666666667,1.0,0.0,0.0,0.3,0.0,0.022727272727272724,-0.125,0.4090909090909091,0.12424242424242422,0.43333333333333335,-0.16666666666666666,0.2333333333333333,-0.16999999999999998,-0.3,-0.05,0.0,-0.16666666666666666,-0.049999999999999996,0.24242424242424243,0.03333333333333333,-0.05,0.04464285714285714,-0.17361111111111108,0.0,-0.07777777777777779,0.0,0.05,0.0,0.05,-0.025,0.0,0.3333333333333333,0.0,1.0,0.5,0.42857142857142855,0.0,0.25,0.3333333333333333,0.5,0.425,0.24666666666666665,0.0175,0.2,0.0,0.15,0.2521212121212121,0.6,0.23214285714285715,0.0,0.0,0.13999999999999999,0.0,0.1,-0.06944444444444445,0.1875,0.15,0.3888095238095238,0.38666666666666666,0.0,0.10000000000000002,0.0,0.0,0.44000000000000006,0.07500000000000001,0.25,0.1111111111111111,0.0,0.5,0.25,-0.2,-0.1,0.0,0.0,0.5,0.12083333333333333,0.1875,0.0,0.0,0.0,-0.07625,0.0,0.09,0.1,0.7,-0.1,0.0,0.5,-0.08333333333333333,0.20166666666666666,0.03125,-0.0625,0.0,0.0,0.0,0.025000000000000005,0.06818181818181818,0.35,0.125,-0.2,0.0,0.0,0.0,0.06547619047619047,0.2,0.0,0.2,0.13636363636363635,-0.4,0.27708333333333335,0.40681818181818175,0.125,0.06666666666666667,-0.26666666666666666,0.0,-0.06666666666666667,-0.2,0.0,0.0,0.0,0.0,0.05357142857142857,0.0,0.0125,0.0,0.0,0.3,0.0,0.55,0.0,-0.07500000000000001,0.475,-0.03181818181818183,0.175,0.13035714285714287,-0.03181818181818183,0.01033333333333334,0.0,0.3333333333333333,0.215,0.025757575757575757,0.0,0.0,0.0,0.0,-0.16666666666666666,0.2857142857142857,-0.038095238095238106,0.7,0.2916666666666667,-0.225,0.0,0.0,0.0,0.0,0.16666666666666666,0.12500000000000003,0.0,0.11363636363636363,0.0,0.125,0.25,0.18535714285714286,0.3,0.0,0.18125,0.1,0.06666666666666667,0.0,0.26666666666666666,-0.16666666666666666,0.14444444444444443,0.21428571428571427,0.0,0.5,0.19999999999999998,0.0,0.0,0.0,0.4,0.11666666666666667,0.10000000000000002,0.0,0.0,-0.125,0.012499999999999997,0.16666666666666666,0.13232323232323231,0.0,0.19285714285714284,0.1375,0.0,0.125,0.0,0.0,0.16666666666666669,0.6,0.12878787878787878,0.0,0.12285714285714286,0.14444444444444443,0.0987012987012987,0.0,0.2,0.25,0.0,0.0,0.0,0.225,0.0,-0.15555555555555559,0.06818181818181818,0.10000000000000002,0.05,0.20888888888888885,0.15000000000000002,0.2,-0.16666666666666666,0.5,0.0,0.2333333333333333,0.0,0.16666666666666666,0.0,0.0,0.375,0.21666666666666665,0.0,0.25,0.11818181818181818,0.0,0.0,0.0,0.008333333333333333,0.08333333333333334,0.5,-0.1,0.325,0.37777777777777777,0.0,0.0,0.060416666666666674,0.0,0.08888888888888889,0.0,0.0,-0.005555555555555557,0.06666666666666667,0.0,0.25,0.0,-0.1638888888888889,-0.25,0.23333333333333334,0.0,0.08333333333333333,0.5028409090909091,-0.03125,0.16666666666666666,0.0,0.0,0.25,0.16666666666666666,-0.23076923076923078,0.0,0.3666666666666667,0.47666666666666674,0.43666666666666665,1.0,-0.06666666666666667,0.5,0.0,0.35,0.0,0.18333333333333335,0.5,0.3,-0.15555555555555559,-0.25,0.05,0.1875,0.0,-0.1625,0.0,-0.1,0.375,0.0,0.0,-0.0625,0.0,0.25,0.49375,0.0,0.0,0.20500000000000002,0.0,0.0,0.2,0.0,0.0,0.0,0.25,0.3,0.5,0.03125,0.225,0.33166666666666667,-0.03333333333333333,0.75,0.0,0.0,0.13333333333333333,0.0,0.1,-0.2,0.0,0.11111111111111112,0.0,0.18333333333333335,0.06714285714285714,0.0,0.11818181818181818,0.13333333333333333,0.0,0.0,0.3333333333333333,0.0,0.0,0.2333333333333333,0.0,0.25,0.0,-0.12424242424242422,0.0,-0.08333333333333333,-0.2,0.0,0.09166666666666667,-0.0738095238095238,0.049999999999999996,0.4444444444444444,0.1,0.25,0.0,0.0,0.7,0.15277777777777776,0.0,0.13636363636363635,0.0,0.125,0.0,0.25,0.6,0.0,0.03333333333333334,-0.125,0.0,0.0,0.5,0.0,0.0,0.13,0.375,0.4,0.3,0.13636363636363635,0.0,0.0,0.1375,0.1,0.5,0.0,-0.125,0.15416666666666667,0.0,0.016666666666666666,0.25,-0.21666666666666667,0.0,0.14444444444444446,0.0,0.1,0.0,0.425,0.29545454545454547,-0.20000000000000004,0.1,0.0,0.008333333333333333,0.0,0.5166666666666666,0.0,0.0,0.08333333333333333,0.25,0.2125,0.0,0.0,0.0,0.0,-0.20833333333333334,0.171875,0.0,0.1,0.175,0.5,0.012499999999999997,0.04,0.03390151515151515,0.016666666666666666,0.0048076923076923045,0.5,0.4,0.009090909090909094,0.0,0.0,0.0,0.2,0.13636363636363635,-0.19444444444444445,0.25,0.8,-0.00833333333333334,0.5,0.0,-0.4,0.0,0.5,0.0,-0.056249999999999994,0.5,0.022321428571428575,0.09583333333333333,0.0,0.4,-0.05,0.13333333333333333,0.25,0.0,0.20000000000000004,-0.01339285714285715,0.0,0.5,-0.14027777777777778,0.0,-0.05555555555555555,-0.1,0.5,0.0,0.0,0.0,0.19318181818181818,0.0,0.0,-0.05,0.13333333333333333,0.03666666666666667,0.06818181818181818,0.0,0.6,0.19999999999999998,0.75,0.22619047619047616,0.12857142857142856,0.16666666666666666,0.08,0.10439814814814814,0.0,0.1,0.03333333333333333,0.0,0.0,0.0,0.6,0.05,-0.15555555555555559,-0.30000000000000004,-0.15625,0.0,0.3125,0.0,0.2,0.05333333333333332,0.0,0.06666666666666665,0.0,0.225,0.0,-0.15625,0.0,0.2,0.1416666666666667,0.05,0.4033333333333333,0.16666666666666666,0.0,0.0,0.15353535353535352,0.1,0.0,0.125,0.10714285714285714,0.0,0.3,0.13636363636363635,0.0,0.03333333333333333,0.5,0.071875,0.125,0.13333333333333333,0.2,0.26,0.0,-0.16666666666666666,-0.1,0.1875,0.0,-0.1,0.1,0.0,0.06515151515151515,0.13636363636363635,0.65,0.1875,0.0,0.0,0.25,0.0,0.19444444444444442,0.08125,0.07500000000000001,-0.25,-0.125,0.35,0.35,0.22000000000000003,0.19318181818181818,0.0,0.0,0.5,0.0,-0.13333333333333333,0.0,0.0625,0.2,-0.03125,0.0,-0.024999999999999994,0.0,0.07777777777777779,0.2681818181818182,0.0,0.1481818181818182,0.0,0.2,0.0,0.0,0.0,0.0,-0.16666666666666666,-0.125,-0.1,0.043181818181818175,0.0,0.1,0.0,0.0,-0.05,-0.25,0.0,-0.13333333333333333,0.0,0.16666666666666666,0.13636363636363635,0.0,0.0,0.13333333333333333,0.075,-0.2333333333333333,0.0,0.10714285714285714,1.0,-0.38333333333333336,0.0,0.0,0.465,-0.05555555555555555,0.0,0.0,0.08,0.2681818181818182,0.12878787878787878,0.014999999999999996,0.0,0.5681818181818181,0.0,0.3,0.5,0.0,0.0,0.0,0.43333333333333335,0.3181818181818182,0.15,0.109375,0.10000000000000002,0.0,0.0,0.0,0.0,0.0,0.13636363636363635,0.36,0.0,0.0,0.5,0.2392857142857143,0.5,0.4333333333333333,0.0,0.0,0.13636363636363635,-0.15,0.0,0.0,0.0,-0.2,0.07708333333333334,0.0,0.3,0.0,0.0,0.0,0.2857142857142857,0.05,0.24285714285714285,0.28125,-0.037500000000000006,-0.03205128205128206,0.0,0.2,-0.03125,-0.15,0.0,0.4333333333333333,0.25,0.0,0.4,0.17777777777777778,-0.033333333333333326,-0.07083333333333333,0.1,0.35000000000000003,-0.09583333333333333,0.1125,0.7,0.20800000000000002,0.15,1.0,0.17777777777777778,0.0035714285714285657,0.35,0.1,-0.023809523809523808,0.0,0.020833333333333332,0.0,0.0,0.09999999999999998,0.0,-0.016666666666666663,0.0,0.0,0.0,0.0,0.010833333333333334,0.0,-0.10555555555555556,0.03333333333333333,0.1,0.22727272727272724,0.13636363636363635,-0.1875,0.4435714285714286,0.11363636363636363,-0.1875,0.07777777777777778,0.2525,-0.125,-0.1,0.0,0.0,0.1875,0.0,0.125,-0.1,-0.3,0.17857142857142858,0.3,0.02500000000000001,0.32333333333333336,0.2,0.0,0.4125,0.06818181818181818,-0.1,0.0,0.2816666666666667,-0.0625,0.1,0.25,-0.008333333333333331,-0.0625,0.2,0.5,0.0,0.0,0.4,0.33809523809523806,0.03333333333333333,0.3,0.2111111111111111,0.13333333333333333,0.03333333333333333,0.15,0.14285714285714285,0.26666666666666666,0.0,0.16666666666666666,0.008333333333333333,0.0,0.2,0.08148148148148147,-0.2,0.09226190476190477,0.24810606060606064,0.0,0.3,0.325,0.1325128205128205,0.0625,-0.05,0.25353535353535356,-0.012499999999999997,0.5,0.325,0.017592592592592576,0.5,0.2333333333333333,0.06666666666666667,0.2,0.0,0.0,0.03409090909090909,0.0,0.3,0.0,0.12166666666666666,0.0,0.0,0.0,0.05,0.19999999999999998,0.23541666666666666,0.20000000000000004,0.5,0.0,0.15000000000000002,0.4333333333333333,0.35,0.0,0.0,0.16666666666666666,0.19999999999999998,0.75,0.08666666666666667,0.0,0.0,0.125,0.0,0.18571428571428572,0.3666666666666667,0.25,0.0,-0.1416666666666667,0.0,0.0,0.0,0.2,0.1278409090909091,0.0,0.0,0.31666666666666665,0.35,0.25,0.3,0.175,0.125,0.0,0.0,0.0,-0.05,0.0,0.05909090909090909,0.0,0.0,0.0,-0.11875000000000001,-0.125,0.0,-0.06666666666666667,-0.06666666666666667,0.25,0.0,0.12884615384615383,-0.03146853146853148,-0.1625,-0.13333333333333333,0.29464285714285715,0.2833333333333333,0.15666666666666668,0.2,0.21103896103896103,0.375,-0.03571428571428571,-0.28125,-0.08888888888888889,-0.075,0.1,0.0,0.0,-0.05,0.0,0.42857142857142855,0.5,0.0,0.43333333333333335,0.0,0.1875,-0.010101010101010102,-0.15555555555555559,-0.07142857142857142,0.0,0.25,-0.1,0.03125,0.07142857142857142,0.36818181818181817,0.0,0.0,0.1,0.0,0.0,0.09722222222222222,0.0,0.0,-0.23076923076923078,0.0,-0.07777777777777779,0.5,0.0,-0.1,0.35,0.1621212121212121,0.0,0.19318181818181818,0.225,0.425,0.0,-0.2,0.4583333333333333,0.08333333333333333,0.05,0.175,0.0,0.24166666666666667,-0.03188775510204082,0.0,0.0,-0.06875,0.0,0.0,0.08,0.0,0.0,0.13,-0.10625,0.0,0.0,-0.03371428571428571,-0.0625,0.0,0.16333333333333333,-0.025,-0.016666666666666666,0.5,0.0,0.08446825396825397,0.1621212121212121,-0.09375,0.425,0.1,0.5,0.375,0.0,0.0,0.0,0.11727272727272728,0.0,0.08750000000000001,0.26666666666666666,0.375,-0.075,0.0,0.025000000000000005,0.2197727272727273,0.0,0.06818181818181818,0.0,0.10714285714285714,0.5,0.65,0.26666666666666666,-0.02121212121212122,0.1,0.15000000000000002,0.7,0.7366666666666667,0.0,0.1111111111111111,0.5,0.0,0.13636363636363635,-0.075,0.08666666666666667,0.0,0.016666666666666663,0.0,0.08333333333333333,0.0,0.22727272727272727,0.24722222222222223,0.0,0.0,0.11818181818181818,-0.14583333333333334,-0.2,-0.006249999999999999,0.134375,0.0,0.2,0.0,0.0,-0.041666666666666664,0.35333333333333333,0.016666666666666666,-0.125,0.21666666666666665,0.0,0.0,-0.0625,0.0,0.0,0.8,0.0,0.0,0.0,0.31534090909090906,0.1,0.175,0.4,0.1181818181818182,0.125,0.28,0.0,0.0,0.03809523809523809,0.0,0.037500000000000006,0.02500000000000001,0.4833333333333333,-0.044444444444444446,0.0,0.14242424242424243,0.0,0.06818181818181818,0.0,0.0,-0.05,-0.18888888888888888,0.0,-0.06666666666666667,0.5,-0.075,0.0,-0.13333333333333333,0.0,0.15,0.19666666666666666,0.09375,-0.0625,0.0,0.35,0.25416666666666665,-0.09351851851851851,0.07333333333333335,0.08333333333333333,0.0,0.0,0.16666666666666666,-0.0625,0.4,0.375,-0.3,-0.04285714285714286,0.4333333333333333,0.0,0.25,0.0,0.16666666666666666,0.0,0.0,0.35,0.0,0.13636363636363635,0.275,0.0,0.0,0.0,0.125,0.053571428571428575,0.0,0.0,0.45,-0.20000000000000004,0.37499999999999994,0.0,0.0,0.08333333333333333,0.0,0.0,0.3,0.125,0.5,0.0,0.08409090909090909,0.7,0.025,0.0,0.19318181818181818,0.0,0.0,0.06444444444444444,0.10694444444444444,0.0,-0.15,0.375,0.24999999999999997,0.0,-0.008333333333333318,0.25,-0.025,0.0,-0.07777777777777779,-0.0038383838383838466,0.0,0.13636363636363635,0.0,0.0,0.35,0.25,0.20333333333333334,0.0,0.5,0.3,0.13714285714285715,0.3,0.0,0.0,0.06818181818181818,0.22142857142857142,0.0,0.0,0.0,0.1,0.19166666666666665,0.6,0.11515151515151514,0.12476190476190475,0.0,0.25,0.06818181818181818,0.0,0.04545454545454545,0.0,-0.03636363636363636,0.3,0.12142857142857143,0.34659090909090906,0.0,0.0,0.25,0.0,0.15,0.1,0.20833333333333331,0.25,0.00416666666666667,0.15000000000000002,0.0,0.06818181818181818,0.0,0.08333333333333333,-0.05,0.05,-0.125,0.14375,0.0,0.0,0.075,0.0,0.4,-0.011111111111111108,0.1,0.0,-0.01818181818181818,0.03333333333333333,-0.18333333333333335,0.1630952380952381,0.2816666666666667,0.2,-0.0625,0.05092592592592591,0.0,-0.03125,0.18333333333333335,0.425,0.25,0.1,-0.23076923076923078,0.0,0.4666666666666666,0.5,0.06666666666666668,-0.1],\"type\":\"histogram\"}],                        {\"barmode\":\"overlay\",\"legend\":{\"bgcolor\":\"#F5F6F9\",\"font\":{\"color\":\"#4D5663\"}},\"paper_bgcolor\":\"#F5F6F9\",\"plot_bgcolor\":\"#F5F6F9\",\"template\":{\"data\":{\"barpolar\":[{\"marker\":{\"line\":{\"color\":\"#E5ECF6\",\"width\":0.5},\"pattern\":{\"fillmode\":\"overlay\",\"size\":10,\"solidity\":0.2}},\"type\":\"barpolar\"}],\"bar\":[{\"error_x\":{\"color\":\"#2a3f5f\"},\"error_y\":{\"color\":\"#2a3f5f\"},\"marker\":{\"line\":{\"color\":\"#E5ECF6\",\"width\":0.5},\"pattern\":{\"fillmode\":\"overlay\",\"size\":10,\"solidity\":0.2}},\"type\":\"bar\"}],\"carpet\":[{\"aaxis\":{\"endlinecolor\":\"#2a3f5f\",\"gridcolor\":\"white\",\"linecolor\":\"white\",\"minorgridcolor\":\"white\",\"startlinecolor\":\"#2a3f5f\"},\"baxis\":{\"endlinecolor\":\"#2a3f5f\",\"gridcolor\":\"white\",\"linecolor\":\"white\",\"minorgridcolor\":\"white\",\"startlinecolor\":\"#2a3f5f\"},\"type\":\"carpet\"}],\"choropleth\":[{\"colorbar\":{\"outlinewidth\":0,\"ticks\":\"\"},\"type\":\"choropleth\"}],\"contourcarpet\":[{\"colorbar\":{\"outlinewidth\":0,\"ticks\":\"\"},\"type\":\"contourcarpet\"}],\"contour\":[{\"colorbar\":{\"outlinewidth\":0,\"ticks\":\"\"},\"colorscale\":[[0.0,\"#0d0887\"],[0.1111111111111111,\"#46039f\"],[0.2222222222222222,\"#7201a8\"],[0.3333333333333333,\"#9c179e\"],[0.4444444444444444,\"#bd3786\"],[0.5555555555555556,\"#d8576b\"],[0.6666666666666666,\"#ed7953\"],[0.7777777777777778,\"#fb9f3a\"],[0.8888888888888888,\"#fdca26\"],[1.0,\"#f0f921\"]],\"type\":\"contour\"}],\"heatmapgl\":[{\"colorbar\":{\"outlinewidth\":0,\"ticks\":\"\"},\"colorscale\":[[0.0,\"#0d0887\"],[0.1111111111111111,\"#46039f\"],[0.2222222222222222,\"#7201a8\"],[0.3333333333333333,\"#9c179e\"],[0.4444444444444444,\"#bd3786\"],[0.5555555555555556,\"#d8576b\"],[0.6666666666666666,\"#ed7953\"],[0.7777777777777778,\"#fb9f3a\"],[0.8888888888888888,\"#fdca26\"],[1.0,\"#f0f921\"]],\"type\":\"heatmapgl\"}],\"heatmap\":[{\"colorbar\":{\"outlinewidth\":0,\"ticks\":\"\"},\"colorscale\":[[0.0,\"#0d0887\"],[0.1111111111111111,\"#46039f\"],[0.2222222222222222,\"#7201a8\"],[0.3333333333333333,\"#9c179e\"],[0.4444444444444444,\"#bd3786\"],[0.5555555555555556,\"#d8576b\"],[0.6666666666666666,\"#ed7953\"],[0.7777777777777778,\"#fb9f3a\"],[0.8888888888888888,\"#fdca26\"],[1.0,\"#f0f921\"]],\"type\":\"heatmap\"}],\"histogram2dcontour\":[{\"colorbar\":{\"outlinewidth\":0,\"ticks\":\"\"},\"colorscale\":[[0.0,\"#0d0887\"],[0.1111111111111111,\"#46039f\"],[0.2222222222222222,\"#7201a8\"],[0.3333333333333333,\"#9c179e\"],[0.4444444444444444,\"#bd3786\"],[0.5555555555555556,\"#d8576b\"],[0.6666666666666666,\"#ed7953\"],[0.7777777777777778,\"#fb9f3a\"],[0.8888888888888888,\"#fdca26\"],[1.0,\"#f0f921\"]],\"type\":\"histogram2dcontour\"}],\"histogram2d\":[{\"colorbar\":{\"outlinewidth\":0,\"ticks\":\"\"},\"colorscale\":[[0.0,\"#0d0887\"],[0.1111111111111111,\"#46039f\"],[0.2222222222222222,\"#7201a8\"],[0.3333333333333333,\"#9c179e\"],[0.4444444444444444,\"#bd3786\"],[0.5555555555555556,\"#d8576b\"],[0.6666666666666666,\"#ed7953\"],[0.7777777777777778,\"#fb9f3a\"],[0.8888888888888888,\"#fdca26\"],[1.0,\"#f0f921\"]],\"type\":\"histogram2d\"}],\"histogram\":[{\"marker\":{\"pattern\":{\"fillmode\":\"overlay\",\"size\":10,\"solidity\":0.2}},\"type\":\"histogram\"}],\"mesh3d\":[{\"colorbar\":{\"outlinewidth\":0,\"ticks\":\"\"},\"type\":\"mesh3d\"}],\"parcoords\":[{\"line\":{\"colorbar\":{\"outlinewidth\":0,\"ticks\":\"\"}},\"type\":\"parcoords\"}],\"pie\":[{\"automargin\":true,\"type\":\"pie\"}],\"scatter3d\":[{\"line\":{\"colorbar\":{\"outlinewidth\":0,\"ticks\":\"\"}},\"marker\":{\"colorbar\":{\"outlinewidth\":0,\"ticks\":\"\"}},\"type\":\"scatter3d\"}],\"scattercarpet\":[{\"marker\":{\"colorbar\":{\"outlinewidth\":0,\"ticks\":\"\"}},\"type\":\"scattercarpet\"}],\"scattergeo\":[{\"marker\":{\"colorbar\":{\"outlinewidth\":0,\"ticks\":\"\"}},\"type\":\"scattergeo\"}],\"scattergl\":[{\"marker\":{\"colorbar\":{\"outlinewidth\":0,\"ticks\":\"\"}},\"type\":\"scattergl\"}],\"scattermapbox\":[{\"marker\":{\"colorbar\":{\"outlinewidth\":0,\"ticks\":\"\"}},\"type\":\"scattermapbox\"}],\"scatterpolargl\":[{\"marker\":{\"colorbar\":{\"outlinewidth\":0,\"ticks\":\"\"}},\"type\":\"scatterpolargl\"}],\"scatterpolar\":[{\"marker\":{\"colorbar\":{\"outlinewidth\":0,\"ticks\":\"\"}},\"type\":\"scatterpolar\"}],\"scatter\":[{\"fillpattern\":{\"fillmode\":\"overlay\",\"size\":10,\"solidity\":0.2},\"type\":\"scatter\"}],\"scatterternary\":[{\"marker\":{\"colorbar\":{\"outlinewidth\":0,\"ticks\":\"\"}},\"type\":\"scatterternary\"}],\"surface\":[{\"colorbar\":{\"outlinewidth\":0,\"ticks\":\"\"},\"colorscale\":[[0.0,\"#0d0887\"],[0.1111111111111111,\"#46039f\"],[0.2222222222222222,\"#7201a8\"],[0.3333333333333333,\"#9c179e\"],[0.4444444444444444,\"#bd3786\"],[0.5555555555555556,\"#d8576b\"],[0.6666666666666666,\"#ed7953\"],[0.7777777777777778,\"#fb9f3a\"],[0.8888888888888888,\"#fdca26\"],[1.0,\"#f0f921\"]],\"type\":\"surface\"}],\"table\":[{\"cells\":{\"fill\":{\"color\":\"#EBF0F8\"},\"line\":{\"color\":\"white\"}},\"header\":{\"fill\":{\"color\":\"#C8D4E3\"},\"line\":{\"color\":\"white\"}},\"type\":\"table\"}]},\"layout\":{\"annotationdefaults\":{\"arrowcolor\":\"#2a3f5f\",\"arrowhead\":0,\"arrowwidth\":1},\"autotypenumbers\":\"strict\",\"coloraxis\":{\"colorbar\":{\"outlinewidth\":0,\"ticks\":\"\"}},\"colorscale\":{\"diverging\":[[0,\"#8e0152\"],[0.1,\"#c51b7d\"],[0.2,\"#de77ae\"],[0.3,\"#f1b6da\"],[0.4,\"#fde0ef\"],[0.5,\"#f7f7f7\"],[0.6,\"#e6f5d0\"],[0.7,\"#b8e186\"],[0.8,\"#7fbc41\"],[0.9,\"#4d9221\"],[1,\"#276419\"]],\"sequential\":[[0.0,\"#0d0887\"],[0.1111111111111111,\"#46039f\"],[0.2222222222222222,\"#7201a8\"],[0.3333333333333333,\"#9c179e\"],[0.4444444444444444,\"#bd3786\"],[0.5555555555555556,\"#d8576b\"],[0.6666666666666666,\"#ed7953\"],[0.7777777777777778,\"#fb9f3a\"],[0.8888888888888888,\"#fdca26\"],[1.0,\"#f0f921\"]],\"sequentialminus\":[[0.0,\"#0d0887\"],[0.1111111111111111,\"#46039f\"],[0.2222222222222222,\"#7201a8\"],[0.3333333333333333,\"#9c179e\"],[0.4444444444444444,\"#bd3786\"],[0.5555555555555556,\"#d8576b\"],[0.6666666666666666,\"#ed7953\"],[0.7777777777777778,\"#fb9f3a\"],[0.8888888888888888,\"#fdca26\"],[1.0,\"#f0f921\"]]},\"colorway\":[\"#636efa\",\"#EF553B\",\"#00cc96\",\"#ab63fa\",\"#FFA15A\",\"#19d3f3\",\"#FF6692\",\"#B6E880\",\"#FF97FF\",\"#FECB52\"],\"font\":{\"color\":\"#2a3f5f\"},\"geo\":{\"bgcolor\":\"white\",\"lakecolor\":\"white\",\"landcolor\":\"#E5ECF6\",\"showlakes\":true,\"showland\":true,\"subunitcolor\":\"white\"},\"hoverlabel\":{\"align\":\"left\"},\"hovermode\":\"closest\",\"mapbox\":{\"style\":\"light\"},\"paper_bgcolor\":\"white\",\"plot_bgcolor\":\"#E5ECF6\",\"polar\":{\"angularaxis\":{\"gridcolor\":\"white\",\"linecolor\":\"white\",\"ticks\":\"\"},\"bgcolor\":\"#E5ECF6\",\"radialaxis\":{\"gridcolor\":\"white\",\"linecolor\":\"white\",\"ticks\":\"\"}},\"scene\":{\"xaxis\":{\"backgroundcolor\":\"#E5ECF6\",\"gridcolor\":\"white\",\"gridwidth\":2,\"linecolor\":\"white\",\"showbackground\":true,\"ticks\":\"\",\"zerolinecolor\":\"white\"},\"yaxis\":{\"backgroundcolor\":\"#E5ECF6\",\"gridcolor\":\"white\",\"gridwidth\":2,\"linecolor\":\"white\",\"showbackground\":true,\"ticks\":\"\",\"zerolinecolor\":\"white\"},\"zaxis\":{\"backgroundcolor\":\"#E5ECF6\",\"gridcolor\":\"white\",\"gridwidth\":2,\"linecolor\":\"white\",\"showbackground\":true,\"ticks\":\"\",\"zerolinecolor\":\"white\"}},\"shapedefaults\":{\"line\":{\"color\":\"#2a3f5f\"}},\"ternary\":{\"aaxis\":{\"gridcolor\":\"white\",\"linecolor\":\"white\",\"ticks\":\"\"},\"baxis\":{\"gridcolor\":\"white\",\"linecolor\":\"white\",\"ticks\":\"\"},\"bgcolor\":\"#E5ECF6\",\"caxis\":{\"gridcolor\":\"white\",\"linecolor\":\"white\",\"ticks\":\"\"}},\"title\":{\"x\":0.05},\"xaxis\":{\"automargin\":true,\"gridcolor\":\"white\",\"linecolor\":\"white\",\"ticks\":\"\",\"title\":{\"standoff\":15},\"zerolinecolor\":\"white\",\"zerolinewidth\":2},\"yaxis\":{\"automargin\":true,\"gridcolor\":\"white\",\"linecolor\":\"white\",\"ticks\":\"\",\"title\":{\"standoff\":15},\"zerolinecolor\":\"white\",\"zerolinewidth\":2}}},\"title\":{\"font\":{\"color\":\"#4D5663\"},\"text\":\"Sentiment Polarity Distribution\"},\"xaxis\":{\"gridcolor\":\"#E1E5ED\",\"showgrid\":true,\"tickfont\":{\"color\":\"#4D5663\"},\"title\":{\"font\":{\"color\":\"#4D5663\"},\"text\":\"Polarity\"},\"zerolinecolor\":\"#E1E5ED\"},\"yaxis\":{\"gridcolor\":\"#E1E5ED\",\"showgrid\":true,\"tickfont\":{\"color\":\"#4D5663\"},\"title\":{\"font\":{\"color\":\"#4D5663\"},\"text\":\"Count\"},\"zerolinecolor\":\"#E1E5ED\"}},                        {\"showLink\": true, \"linkText\": \"Export to plot.ly\", \"plotlyServerURL\": \"https://plot.ly\", \"responsive\": true}                    ).then(function(){\n",
       "                            \n",
       "var gd = document.getElementById('ff739a6d-42e5-4307-a631-eabe33826f2d');\n",
       "var x = new MutationObserver(function (mutations, observer) {{\n",
       "        var display = window.getComputedStyle(gd).display;\n",
       "        if (!display || display === 'none') {{\n",
       "            console.log([gd, 'removed!']);\n",
       "            Plotly.purge(gd);\n",
       "            observer.disconnect();\n",
       "        }}\n",
       "}});\n",
       "\n",
       "// Listen for the removal of the full notebook cells\n",
       "var notebookContainer = gd.closest('#notebook-container');\n",
       "if (notebookContainer) {{\n",
       "    x.observe(notebookContainer, {childList: true});\n",
       "}}\n",
       "\n",
       "// Listen for the clearing of the current output cell\n",
       "var outputEl = gd.closest('.output');\n",
       "if (outputEl) {{\n",
       "    x.observe(outputEl, {childList: true});\n",
       "}}\n",
       "\n",
       "                        })                };                });            </script>        </div>"
      ]
     },
     "metadata": {},
     "output_type": "display_data"
    }
   ],
   "source": [
    "df['polarity'].iplot(kind = 'hist', xTitle = 'Polarity', yTitle = 'Count', title = 'Sentiment Polarity Distribution', bins = 50)\n",
    "# most of the text entries have very neutral sentiment"
   ]
  },
  {
   "cell_type": "code",
   "execution_count": 25,
   "metadata": {},
   "outputs": [
    {
     "data": {
      "image/png": "[encoded data removed]",
      "text/plain": [
       "<Figure size 640x480 with 1 Axes>"
      ]
     },
     "metadata": {},
     "output_type": "display_data"
    }
   ],
   "source": [
    "label_counts = df['label'].value_counts().reset_index().rename(columns={\"index\": \"value\", 0: \"count\"})\n",
    "label_counts\n",
    "labels_dist = plt.pie(label_counts['count'], labels=label_counts['label'], autopct='%.1f')\n",
    "plt.title(\"Distribution of Labels\")\n",
    "plt.show()"
   ]
  },
  {
   "cell_type": "code",
   "execution_count": 29,
   "metadata": {},
   "outputs": [
    {
     "data": {
      "application/vnd.plotly.v1+json": {
       "config": {
        "linkText": "Export to plot.ly",
        "plotlyServerURL": "https://plot.ly",
        "showLink": true
       },
       "data": [
        {
         "histfunc": "count",
         "histnorm": "",
         "marker": {
          "color": "rgba(255, 153, 51, 1.0)",
          "line": {
           "color": "#4D5663",
           "width": 1.3
          }
         },
         "name": "text_length",
         "nbinsx": 50,
         "opacity": 0.8,
         "orientation": "v",
         "type": "histogram",
         "x": [
          142,
          94,
          147,
          162,
          131,
          142,
          184,
          136,
          227,
          49,
          121,
          62,
          138,
          171,
          195,
          117,
          188,
          179,
          104,
          178,
          141,
          173,
          163,
          240,
          67,
          151,
          214,
          167,
          49,
          259,
          103,
          215,
          116,
          212,
          117,
          238,
          102,
          141,
          149,
          217,
          200,
          134,
          145,
          150,
          78,
          105,
          64,
          63,
          48,
          263,
          130,
          120,
          88,
          157,
          230,
          91,
          140,
          234,
          111,
          192,
          142,
          191,
          221,
          89,
          87,
          209,
          207,
          146,
          207,
          94,
          81,
          227,
          78,
          214,
          81,
          191,
          134,
          131,
          188,
          184,
          106,
          71,
          78,
          234,
          116,
          136,
          124,
          120,
          97,
          121,
          114,
          200,
          210,
          170,
          161,
          181,
          218,
          189,
          161,
          137,
          229,
          224,
          87,
          162,
          229,
          97,
          162,
          85,
          126,
          132,
          96,
          60,
          171,
          185,
          96,
          124,
          127,
          106,
          196,
          122,
          183,
          78,
          244,
          198,
          159,
          183,
          209,
          112,
          109,
          109,
          144,
          264,
          124,
          173,
          227,
          205,
          115,
          157,
          280,
          124,
          158,
          138,
          120,
          175,
          120,
          172,
          186,
          157,
          130,
          87,
          220,
          183,
          159,
          167,
          126,
          204,
          170,
          220,
          259,
          94,
          106,
          127,
          141,
          256,
          107,
          82,
          150,
          121,
          210,
          96,
          189,
          212,
          110,
          155,
          205,
          162,
          138,
          117,
          126,
          210,
          151,
          81,
          191,
          140,
          113,
          194,
          164,
          134,
          143,
          147,
          95,
          229,
          163,
          75,
          124,
          81,
          82,
          179,
          156,
          211,
          84,
          146,
          189,
          171,
          184,
          194,
          48,
          137,
          249,
          171,
          179,
          132,
          160,
          156,
          147,
          231,
          45,
          98,
          115,
          158,
          163,
          85,
          164,
          99,
          139,
          165,
          172,
          134,
          165,
          213,
          175,
          86,
          130,
          100,
          104,
          201,
          88,
          97,
          137,
          89,
          106,
          114,
          127,
          160,
          81,
          95,
          207,
          234,
          208,
          227,
          115,
          95,
          191,
          178,
          119,
          253,
          224,
          86,
          161,
          136,
          182,
          86,
          140,
          92,
          101,
          85,
          164,
          120,
          147,
          183,
          154,
          237,
          148,
          231,
          181,
          141,
          82,
          232,
          166,
          141,
          210,
          175,
          230,
          225,
          124,
          110,
          201,
          144,
          99,
          160,
          232,
          123,
          115,
          75,
          196,
          129,
          112,
          163,
          127,
          174,
          132,
          106,
          168,
          255,
          173,
          173,
          77,
          130,
          226,
          257,
          179,
          115,
          97,
          145,
          192,
          110,
          186,
          209,
          124,
          179,
          192,
          225,
          173,
          170,
          96,
          170,
          219,
          175,
          107,
          151,
          176,
          160,
          167,
          125,
          217,
          125,
          174,
          177,
          123,
          151,
          90,
          98,
          190,
          114,
          125,
          62,
          255,
          163,
          62,
          166,
          69,
          109,
          191,
          82,
          243,
          229,
          105,
          109,
          168,
          111,
          215,
          164,
          123,
          117,
          181,
          120,
          157,
          197,
          141,
          140,
          65,
          181,
          129,
          116,
          127,
          55,
          132,
          170,
          184,
          161,
          213,
          154,
          220,
          172,
          259,
          95,
          214,
          109,
          205,
          269,
          172,
          94,
          207,
          109,
          157,
          161,
          137,
          196,
          199,
          128,
          246,
          195,
          230,
          126,
          72,
          163,
          119,
          137,
          105,
          196,
          176,
          215,
          182,
          134,
          187,
          202,
          141,
          118,
          115,
          189,
          181,
          92,
          189,
          146,
          126,
          232,
          220,
          264,
          205,
          244,
          174,
          218,
          84,
          204,
          187,
          198,
          196,
          174,
          147,
          115,
          198,
          143,
          137,
          209,
          158,
          50,
          234,
          107,
          215,
          170,
          239,
          242,
          245,
          210,
          148,
          137,
          191,
          163,
          173,
          91,
          87,
          162,
          188,
          98,
          162,
          201,
          158,
          229,
          73,
          183,
          208,
          158,
          70,
          80,
          132,
          128,
          80,
          194,
          244,
          72,
          147,
          101,
          170,
          134,
          85,
          170,
          213,
          175,
          182,
          148,
          190,
          97,
          176,
          99,
          137,
          167,
          124,
          126,
          84,
          122,
          103,
          100,
          216,
          95,
          202,
          109,
          267,
          155,
          159,
          100,
          249,
          160,
          181,
          276,
          145,
          105,
          145,
          165,
          185,
          174,
          159,
          189,
          147,
          210,
          100,
          104,
          179,
          144,
          116,
          78,
          162,
          234,
          159,
          161,
          136,
          183,
          109,
          101,
          164,
          109,
          185,
          66,
          121,
          183,
          213,
          165,
          215,
          127,
          121,
          127,
          60,
          155,
          134,
          96,
          123,
          88,
          129,
          93,
          97,
          78,
          122,
          126,
          173,
          77,
          237,
          178,
          179,
          93,
          219,
          123,
          188,
          89,
          133,
          99,
          129,
          155,
          77,
          89,
          167,
          130,
          79,
          67,
          85,
          126,
          215,
          166,
          191,
          283,
          207,
          194,
          171,
          137,
          204,
          227,
          192,
          259,
          212,
          58,
          187,
          125,
          185,
          181,
          138,
          86,
          226,
          120,
          81,
          164,
          125,
          193,
          137,
          182,
          143,
          240,
          184,
          200,
          203,
          78,
          199,
          156,
          175,
          155,
          176,
          137,
          205,
          185,
          212,
          94,
          175,
          201,
          80,
          262,
          214,
          246,
          163,
          189,
          119,
          135,
          154,
          157,
          162,
          112,
          224,
          83,
          108,
          83,
          91,
          160,
          117,
          124,
          132,
          222,
          59,
          98,
          73,
          83,
          219,
          88,
          82,
          122,
          91,
          61,
          164,
          205,
          149,
          105,
          130,
          154,
          143,
          218,
          65,
          126,
          133,
          100,
          131,
          168,
          146,
          193,
          202,
          87,
          228,
          199,
          221,
          202,
          139,
          168,
          67,
          124,
          101,
          131,
          107,
          281,
          213,
          55,
          141,
          177,
          190,
          170,
          165,
          166,
          137,
          203,
          93,
          188,
          117,
          154,
          97,
          121,
          98,
          99,
          138,
          68,
          87,
          200,
          117,
          204,
          144,
          201,
          167,
          93,
          152,
          173,
          172,
          87,
          146,
          98,
          130,
          65,
          126,
          116,
          60,
          121,
          59,
          199,
          229,
          60,
          127,
          163,
          118,
          117,
          151,
          180,
          85,
          131,
          84,
          197,
          123,
          177,
          152,
          163,
          179,
          113,
          116,
          186,
          93,
          191,
          73,
          178,
          94,
          152,
          217,
          163,
          137,
          129,
          115,
          156,
          237,
          183,
          137,
          163,
          111,
          162,
          89,
          231,
          248,
          256,
          121,
          142,
          153,
          121,
          130,
          165,
          233,
          167,
          171,
          118,
          76,
          118,
          173,
          211,
          74,
          275,
          66,
          201,
          170,
          179,
          192,
          181,
          92,
          66,
          207,
          235,
          149,
          88,
          100,
          152,
          245,
          73,
          116,
          140,
          103,
          130,
          111,
          107,
          79,
          87,
          159,
          90,
          179,
          222,
          262,
          211,
          176,
          113,
          185,
          143,
          56,
          69,
          180,
          77,
          245,
          297,
          105,
          188,
          64,
          196,
          157,
          70,
          121,
          167,
          152,
          198,
          102,
          149,
          106,
          140,
          131,
          216,
          156,
          127,
          112,
          68,
          128,
          239,
          243,
          198,
          121,
          76,
          120,
          130,
          215,
          132,
          71,
          110,
          189,
          170,
          146,
          151,
          157,
          123,
          133,
          211,
          209,
          186,
          136,
          203,
          72,
          115,
          106,
          211,
          66,
          73,
          81,
          219,
          135,
          213,
          223,
          171,
          188,
          92,
          148,
          62,
          139,
          129,
          228,
          191,
          85,
          186,
          107,
          101,
          74,
          108,
          176,
          109,
          118,
          226,
          121,
          170,
          87,
          149,
          80,
          204,
          150,
          157,
          131,
          153,
          113,
          90,
          155,
          186,
          119,
          154,
          217,
          89,
          131,
          169,
          110,
          182,
          76,
          174,
          64,
          125,
          172,
          153,
          106,
          155,
          88,
          146,
          122,
          200,
          97,
          231,
          268,
          108,
          73,
          216,
          118,
          155,
          78,
          136,
          92,
          105,
          241,
          99,
          233,
          197,
          163,
          216,
          110,
          122,
          101,
          225,
          60,
          151,
          183,
          102,
          205,
          160,
          110,
          128,
          164,
          205,
          145,
          244,
          155,
          198,
          108,
          192,
          128,
          130,
          199,
          113,
          123,
          136,
          187,
          84,
          137,
          200,
          101,
          130,
          208,
          73,
          121,
          152,
          173,
          150,
          141,
          180,
          166,
          202,
          166,
          212,
          150,
          166,
          81,
          145,
          192,
          130,
          83,
          109,
          141,
          168,
          169,
          86,
          61,
          76,
          246,
          59,
          194,
          157,
          133,
          176,
          225,
          231,
          261,
          223,
          143,
          113,
          118,
          81,
          144,
          184,
          140,
          212,
          148,
          156,
          99,
          162,
          101,
          114,
          74,
          125,
          202,
          167,
          88,
          157,
          110,
          114,
          213,
          81,
          93,
          84,
          164,
          154,
          69,
          142,
          87,
          154,
          223,
          225,
          276,
          203,
          174,
          125,
          216,
          239,
          102,
          173,
          75,
          112,
          105,
          152,
          210,
          266,
          132,
          61,
          135,
          172,
          207,
          184,
          261,
          173,
          165,
          215,
          225,
          273,
          76,
          209,
          157,
          196,
          88,
          213,
          123,
          195,
          158,
          164,
          220,
          188,
          84,
          177,
          124,
          93,
          176,
          124,
          167,
          188,
          137,
          96,
          160,
          119,
          201,
          140,
          94,
          94,
          186,
          151,
          182,
          216,
          76,
          144,
          253,
          66,
          156,
          143,
          98,
          137,
          225,
          131,
          69,
          138,
          194,
          184,
          209,
          219,
          209,
          132,
          201,
          136,
          76,
          248,
          200,
          207,
          91,
          83,
          120,
          270,
          227,
          216,
          107,
          101,
          156,
          252,
          133,
          140,
          76,
          189,
          102,
          246,
          52,
          168,
          163,
          82,
          72,
          133,
          113,
          116,
          90,
          225,
          170,
          171,
          148,
          182,
          160,
          206,
          130,
          208,
          161,
          142,
          277,
          92,
          65,
          162,
          130,
          164,
          140,
          100,
          253,
          248,
          122,
          78,
          130,
          268,
          133,
          95,
          161,
          65,
          173,
          98,
          158,
          173,
          108,
          137,
          223,
          129,
          171,
          81,
          162,
          170,
          151,
          162,
          239,
          191,
          140,
          87,
          133,
          59,
          111,
          147,
          102,
          187,
          250,
          91,
          170,
          192,
          64,
          176,
          199,
          229,
          179,
          146,
          98,
          189,
          139,
          135,
          94,
          148,
          75,
          220,
          64,
          245,
          196,
          94,
          179,
          102,
          112,
          152,
          171,
          84,
          160,
          167,
          132,
          106,
          191,
          134,
          206,
          171,
          128,
          146,
          213,
          119,
          139,
          116,
          187,
          89,
          138,
          149,
          147,
          83,
          97,
          190,
          137,
          166,
          226,
          124,
          110,
          95,
          150,
          77,
          180,
          226,
          103,
          82,
          151,
          152,
          116,
          120,
          70,
          168,
          191,
          128,
          277,
          182,
          165,
          71,
          265,
          113,
          94,
          87,
          270,
          188,
          146,
          172,
          256,
          111,
          137,
          101,
          92,
          112,
          89,
          239,
          118,
          233,
          221,
          111,
          120,
          156,
          229,
          169,
          174,
          227,
          84,
          161,
          224,
          161,
          233,
          83,
          61,
          130,
          56,
          197,
          220,
          122,
          139,
          121,
          155,
          165,
          112,
          156,
          87,
          159,
          61,
          118,
          162,
          240,
          143,
          148,
          203,
          141,
          169,
          112,
          132,
          106,
          126,
          147,
          95,
          167,
          190,
          126,
          223,
          200,
          166,
          181,
          106,
          110,
          209,
          230,
          259,
          84,
          114,
          139,
          148,
          241,
          125,
          73,
          167,
          203,
          210,
          220,
          90,
          179,
          188,
          142,
          156,
          184,
          253,
          170,
          230,
          148,
          107,
          228,
          58,
          137,
          169,
          230,
          81,
          56,
          104,
          95,
          197,
          114,
          94,
          204,
          217,
          236,
          115,
          109,
          100,
          84,
          190,
          105,
          112,
          185,
          142,
          77,
          206,
          68,
          198,
          175,
          153,
          178,
          92,
          185,
          106,
          77,
          166,
          94,
          238,
          148,
          206,
          112,
          88,
          123,
          84,
          161,
          186,
          256,
          203,
          218,
          57,
          253,
          163,
          104,
          216,
          134,
          187,
          330,
          85,
          136,
          75,
          165,
          129,
          115,
          226,
          237,
          208,
          232,
          99,
          103,
          125,
          174,
          121,
          74,
          171,
          259,
          180,
          115,
          105,
          111,
          90,
          156,
          186,
          135,
          224,
          147,
          152,
          157,
          154,
          154,
          211,
          158,
          125,
          158,
          100,
          106,
          144,
          173,
          194,
          88,
          119,
          80,
          82,
          76,
          220,
          66,
          72,
          106,
          82,
          71,
          124,
          187,
          218,
          162,
          171,
          198,
          156,
          180,
          87,
          245,
          79,
          156,
          243,
          125,
          111,
          169,
          128,
          114,
          129,
          275,
          76,
          76,
          208,
          216,
          180,
          76,
          176,
          111,
          72,
          139,
          88,
          213,
          207,
          120,
          111,
          86,
          121,
          156,
          118,
          116,
          299,
          182,
          90,
          80,
          82,
          73,
          134,
          103,
          132,
          157,
          185,
          209,
          140,
          126,
          183,
          189,
          209,
          148,
          130,
          155,
          254,
          96,
          72,
          102,
          175,
          174,
          238,
          107,
          156,
          106,
          228,
          127,
          133,
          64,
          84,
          193,
          127,
          140,
          144,
          167,
          71,
          62,
          107,
          198,
          188,
          134,
          271,
          74,
          137,
          171,
          225,
          90,
          141,
          152,
          92,
          118,
          183,
          117,
          243,
          74,
          223,
          206,
          143,
          82,
          104,
          98,
          112,
          168,
          228,
          182,
          187,
          81,
          120,
          93,
          220,
          168,
          85,
          111,
          92,
          104,
          139,
          236,
          245,
          95,
          88,
          92,
          202,
          183,
          234,
          86,
          128,
          105,
          126,
          242,
          103,
          198,
          137,
          174,
          211,
          126,
          78,
          202,
          115,
          253,
          141,
          175,
          157,
          181,
          113,
          255,
          179,
          115,
          122,
          119,
          251,
          151,
          183,
          119,
          142,
          90,
          210,
          192,
          169,
          118,
          223,
          198,
          144,
          77,
          232,
          97,
          73,
          137,
          111,
          81,
          194,
          163,
          169,
          148,
          200,
          156,
          151,
          115,
          201,
          124,
          102,
          218,
          203,
          79,
          86,
          167,
          80,
          119,
          217,
          156,
          202,
          214,
          213,
          117,
          278,
          138,
          187,
          92,
          169,
          285,
          214,
          105,
          202,
          218,
          149,
          229,
          247,
          72,
          194,
          257,
          237,
          256,
          171,
          196,
          206,
          169,
          167,
          132,
          177,
          162,
          207,
          89,
          109,
          248,
          79,
          218,
          138,
          183,
          113,
          160,
          91,
          291,
          208,
          120,
          177,
          230,
          130,
          68,
          159,
          179,
          253,
          135,
          200,
          198,
          148,
          243,
          114,
          179,
          221,
          105,
          229,
          234,
          206,
          85,
          180,
          190,
          234,
          153,
          123,
          244,
          66,
          89,
          151,
          116,
          87,
          130,
          127,
          136,
          288,
          123,
          153,
          140,
          88,
          129,
          169,
          149,
          131,
          144,
          222,
          166,
          151,
          238,
          115,
          72,
          174,
          152,
          182,
          128,
          211,
          201,
          196,
          211,
          167,
          123,
          140,
          60,
          129,
          217,
          149,
          251,
          75,
          114,
          128,
          190,
          77,
          84,
          235,
          173,
          133,
          176,
          175,
          117,
          149,
          226,
          164,
          156,
          83,
          288,
          136,
          185,
          72,
          151,
          107,
          231,
          105,
          156,
          229,
          88,
          64,
          121,
          155,
          118,
          164,
          185,
          80,
          178,
          142,
          135,
          161,
          119,
          222,
          192,
          135,
          136,
          138,
          201,
          136,
          112,
          219,
          164,
          164,
          91,
          248,
          73,
          72,
          105,
          134,
          64,
          169,
          179,
          170,
          112,
          96,
          204,
          160,
          137,
          124,
          229,
          135,
          151,
          228,
          155,
          230,
          84,
          175,
          49,
          127,
          133,
          68,
          148,
          154,
          137,
          195,
          60,
          109,
          173,
          82,
          167,
          79,
          225,
          109,
          146,
          129,
          147,
          141,
          107,
          174,
          203,
          154,
          207,
          67,
          134,
          90,
          196,
          101,
          214,
          239,
          155,
          244,
          147,
          208,
          173,
          142,
          157,
          148,
          158,
          118,
          199,
          186,
          133,
          91,
          124,
          148,
          175,
          151,
          206,
          188,
          215,
          87,
          134,
          169,
          75,
          74,
          158,
          144,
          99,
          196,
          163,
          185,
          188,
          145,
          132,
          104,
          157,
          130,
          157,
          237,
          78,
          219,
          161,
          125,
          156,
          148,
          86,
          150,
          223,
          187,
          165,
          91,
          179,
          183,
          206,
          77,
          205,
          217,
          121,
          130,
          200,
          172,
          179,
          94,
          118,
          166,
          121,
          140,
          145,
          101,
          146,
          58,
          115,
          117,
          104,
          201,
          153,
          178,
          137,
          178,
          94,
          93,
          204,
          106,
          155,
          77,
          129,
          250,
          142,
          168,
          98,
          78,
          205,
          223,
          168,
          92,
          85,
          188,
          201,
          248,
          131,
          209,
          65,
          220,
          166,
          123,
          160,
          158,
          185,
          90,
          107,
          65,
          113,
          148,
          95,
          199,
          142,
          162,
          156,
          72,
          157,
          116,
          203,
          233,
          230,
          187,
          144,
          130,
          116,
          156,
          271,
          114,
          130,
          181,
          222,
          196,
          161,
          167,
          157,
          174,
          242,
          129,
          166,
          181,
          97,
          177,
          58,
          185,
          210,
          151,
          159,
          162,
          143,
          90,
          210,
          110,
          139,
          114,
          114,
          136,
          160,
          199,
          60,
          214,
          177,
          111,
          217,
          161,
          181,
          188,
          158,
          152,
          83,
          111,
          219,
          164,
          162,
          227,
          169,
          190,
          266,
          69,
          92,
          209,
          187,
          131,
          100,
          56,
          200,
          159,
          85,
          189,
          178,
          151,
          224,
          200,
          94,
          184,
          130,
          164,
          76,
          149,
          218,
          215,
          258,
          165,
          221,
          115
         ]
        }
       ],
       "layout": {
        "barmode": "overlay",
        "legend": {
         "bgcolor": "#F5F6F9",
         "font": {
          "color": "#4D5663"
         }
        },
        "paper_bgcolor": "#F5F6F9",
        "plot_bgcolor": "#F5F6F9",
        "template": {
         "data": {
          "bar": [
           {
            "error_x": {
             "color": "#2a3f5f"
            },
            "error_y": {
             "color": "#2a3f5f"
            },
            "marker": {
             "line": {
              "color": "#E5ECF6",
              "width": 0.5
             },
             "pattern": {
              "fillmode": "overlay",
              "size": 10,
              "solidity": 0.2
             }
            },
            "type": "bar"
           }
          ],
          "barpolar": [
           {
            "marker": {
             "line": {
              "color": "#E5ECF6",
              "width": 0.5
             },
             "pattern": {
              "fillmode": "overlay",
              "size": 10,
              "solidity": 0.2
             }
            },
            "type": "barpolar"
           }
          ],
          "carpet": [
           {
            "aaxis": {
             "endlinecolor": "#2a3f5f",
             "gridcolor": "white",
             "linecolor": "white",
             "minorgridcolor": "white",
             "startlinecolor": "#2a3f5f"
            },
            "baxis": {
             "endlinecolor": "#2a3f5f",
             "gridcolor": "white",
             "linecolor": "white",
             "minorgridcolor": "white",
             "startlinecolor": "#2a3f5f"
            },
            "type": "carpet"
           }
          ],
          "choropleth": [
           {
            "colorbar": {
             "outlinewidth": 0,
             "ticks": ""
            },
            "type": "choropleth"
           }
          ],
          "contour": [
           {
            "colorbar": {
             "outlinewidth": 0,
             "ticks": ""
            },
            "colorscale": [
             [
              0,
              "#0d0887"
             ],
             [
              0.1111111111111111,
              "#46039f"
             ],
             [
              0.2222222222222222,
              "#7201a8"
             ],
             [
              0.3333333333333333,
              "#9c179e"
             ],
             [
              0.4444444444444444,
              "#bd3786"
             ],
             [
              0.5555555555555556,
              "#d8576b"
             ],
             [
              0.6666666666666666,
              "#ed7953"
             ],
             [
              0.7777777777777778,
              "#fb9f3a"
             ],
             [
              0.8888888888888888,
              "#fdca26"
             ],
             [
              1,
              "#f0f921"
             ]
            ],
            "type": "contour"
           }
          ],
          "contourcarpet": [
           {
            "colorbar": {
             "outlinewidth": 0,
             "ticks": ""
            },
            "type": "contourcarpet"
           }
          ],
          "heatmap": [
           {
            "colorbar": {
             "outlinewidth": 0,
             "ticks": ""
            },
            "colorscale": [
             [
              0,
              "#0d0887"
             ],
             [
              0.1111111111111111,
              "#46039f"
             ],
             [
              0.2222222222222222,
              "#7201a8"
             ],
             [
              0.3333333333333333,
              "#9c179e"
             ],
             [
              0.4444444444444444,
              "#bd3786"
             ],
             [
              0.5555555555555556,
              "#d8576b"
             ],
             [
              0.6666666666666666,
              "#ed7953"
             ],
             [
              0.7777777777777778,
              "#fb9f3a"
             ],
             [
              0.8888888888888888,
              "#fdca26"
             ],
             [
              1,
              "#f0f921"
             ]
            ],
            "type": "heatmap"
           }
          ],
          "heatmapgl": [
           {
            "colorbar": {
             "outlinewidth": 0,
             "ticks": ""
            },
            "colorscale": [
             [
              0,
              "#0d0887"
             ],
             [
              0.1111111111111111,
              "#46039f"
             ],
             [
              0.2222222222222222,
              "#7201a8"
             ],
             [
              0.3333333333333333,
              "#9c179e"
             ],
             [
              0.4444444444444444,
              "#bd3786"
             ],
             [
              0.5555555555555556,
              "#d8576b"
             ],
             [
              0.6666666666666666,
              "#ed7953"
             ],
             [
              0.7777777777777778,
              "#fb9f3a"
             ],
             [
              0.8888888888888888,
              "#fdca26"
             ],
             [
              1,
              "#f0f921"
             ]
            ],
            "type": "heatmapgl"
           }
          ],
          "histogram": [
           {
            "marker": {
             "pattern": {
              "fillmode": "overlay",
              "size": 10,
              "solidity": 0.2
             }
            },
            "type": "histogram"
           }
          ],
          "histogram2d": [
           {
            "colorbar": {
             "outlinewidth": 0,
             "ticks": ""
            },
            "colorscale": [
             [
              0,
              "#0d0887"
             ],
             [
              0.1111111111111111,
              "#46039f"
             ],
             [
              0.2222222222222222,
              "#7201a8"
             ],
             [
              0.3333333333333333,
              "#9c179e"
             ],
             [
              0.4444444444444444,
              "#bd3786"
             ],
             [
              0.5555555555555556,
              "#d8576b"
             ],
             [
              0.6666666666666666,
              "#ed7953"
             ],
             [
              0.7777777777777778,
              "#fb9f3a"
             ],
             [
              0.8888888888888888,
              "#fdca26"
             ],
             [
              1,
              "#f0f921"
             ]
            ],
            "type": "histogram2d"
           }
          ],
          "histogram2dcontour": [
           {
            "colorbar": {
             "outlinewidth": 0,
             "ticks": ""
            },
            "colorscale": [
             [
              0,
              "#0d0887"
             ],
             [
              0.1111111111111111,
              "#46039f"
             ],
             [
              0.2222222222222222,
              "#7201a8"
             ],
             [
              0.3333333333333333,
              "#9c179e"
             ],
             [
              0.4444444444444444,
              "#bd3786"
             ],
             [
              0.5555555555555556,
              "#d8576b"
             ],
             [
              0.6666666666666666,
              "#ed7953"
             ],
             [
              0.7777777777777778,
              "#fb9f3a"
             ],
             [
              0.8888888888888888,
              "#fdca26"
             ],
             [
              1,
              "#f0f921"
             ]
            ],
            "type": "histogram2dcontour"
           }
          ],
          "mesh3d": [
           {
            "colorbar": {
             "outlinewidth": 0,
             "ticks": ""
            },
            "type": "mesh3d"
           }
          ],
          "parcoords": [
           {
            "line": {
             "colorbar": {
              "outlinewidth": 0,
              "ticks": ""
             }
            },
            "type": "parcoords"
           }
          ],
          "pie": [
           {
            "automargin": true,
            "type": "pie"
           }
          ],
          "scatter": [
           {
            "fillpattern": {
             "fillmode": "overlay",
             "size": 10,
             "solidity": 0.2
            },
            "type": "scatter"
           }
          ],
          "scatter3d": [
           {
            "line": {
             "colorbar": {
              "outlinewidth": 0,
              "ticks": ""
             }
            },
            "marker": {
             "colorbar": {
              "outlinewidth": 0,
              "ticks": ""
             }
            },
            "type": "scatter3d"
           }
          ],
          "scattercarpet": [
           {
            "marker": {
             "colorbar": {
              "outlinewidth": 0,
              "ticks": ""
             }
            },
            "type": "scattercarpet"
           }
          ],
          "scattergeo": [
           {
            "marker": {
             "colorbar": {
              "outlinewidth": 0,
              "ticks": ""
             }
            },
            "type": "scattergeo"
           }
          ],
          "scattergl": [
           {
            "marker": {
             "colorbar": {
              "outlinewidth": 0,
              "ticks": ""
             }
            },
            "type": "scattergl"
           }
          ],
          "scattermapbox": [
           {
            "marker": {
             "colorbar": {
              "outlinewidth": 0,
              "ticks": ""
             }
            },
            "type": "scattermapbox"
           }
          ],
          "scatterpolar": [
           {
            "marker": {
             "colorbar": {
              "outlinewidth": 0,
              "ticks": ""
             }
            },
            "type": "scatterpolar"
           }
          ],
          "scatterpolargl": [
           {
            "marker": {
             "colorbar": {
              "outlinewidth": 0,
              "ticks": ""
             }
            },
            "type": "scatterpolargl"
           }
          ],
          "scatterternary": [
           {
            "marker": {
             "colorbar": {
              "outlinewidth": 0,
              "ticks": ""
             }
            },
            "type": "scatterternary"
           }
          ],
          "surface": [
           {
            "colorbar": {
             "outlinewidth": 0,
             "ticks": ""
            },
            "colorscale": [
             [
              0,
              "#0d0887"
             ],
             [
              0.1111111111111111,
              "#46039f"
             ],
             [
              0.2222222222222222,
              "#7201a8"
             ],
             [
              0.3333333333333333,
              "#9c179e"
             ],
             [
              0.4444444444444444,
              "#bd3786"
             ],
             [
              0.5555555555555556,
              "#d8576b"
             ],
             [
              0.6666666666666666,
              "#ed7953"
             ],
             [
              0.7777777777777778,
              "#fb9f3a"
             ],
             [
              0.8888888888888888,
              "#fdca26"
             ],
             [
              1,
              "#f0f921"
             ]
            ],
            "type": "surface"
           }
          ],
          "table": [
           {
            "cells": {
             "fill": {
              "color": "#EBF0F8"
             },
             "line": {
              "color": "white"
             }
            },
            "header": {
             "fill": {
              "color": "#C8D4E3"
             },
             "line": {
              "color": "white"
             }
            },
            "type": "table"
           }
          ]
         },
         "layout": {
          "annotationdefaults": {
           "arrowcolor": "#2a3f5f",
           "arrowhead": 0,
           "arrowwidth": 1
          },
          "autotypenumbers": "strict",
          "coloraxis": {
           "colorbar": {
            "outlinewidth": 0,
            "ticks": ""
           }
          },
          "colorscale": {
           "diverging": [
            [
             0,
             "#8e0152"
            ],
            [
             0.1,
             "#c51b7d"
            ],
            [
             0.2,
             "#de77ae"
            ],
            [
             0.3,
             "#f1b6da"
            ],
            [
             0.4,
             "#fde0ef"
            ],
            [
             0.5,
             "#f7f7f7"
            ],
            [
             0.6,
             "#e6f5d0"
            ],
            [
             0.7,
             "#b8e186"
            ],
            [
             0.8,
             "#7fbc41"
            ],
            [
             0.9,
             "#4d9221"
            ],
            [
             1,
             "#276419"
            ]
           ],
           "sequential": [
            [
             0,
             "#0d0887"
            ],
            [
             0.1111111111111111,
             "#46039f"
            ],
            [
             0.2222222222222222,
             "#7201a8"
            ],
            [
             0.3333333333333333,
             "#9c179e"
            ],
            [
             0.4444444444444444,
             "#bd3786"
            ],
            [
             0.5555555555555556,
             "#d8576b"
            ],
            [
             0.6666666666666666,
             "#ed7953"
            ],
            [
             0.7777777777777778,
             "#fb9f3a"
            ],
            [
             0.8888888888888888,
             "#fdca26"
            ],
            [
             1,
             "#f0f921"
            ]
           ],
           "sequentialminus": [
            [
             0,
             "#0d0887"
            ],
            [
             0.1111111111111111,
             "#46039f"
            ],
            [
             0.2222222222222222,
             "#7201a8"
            ],
            [
             0.3333333333333333,
             "#9c179e"
            ],
            [
             0.4444444444444444,
             "#bd3786"
            ],
            [
             0.5555555555555556,
             "#d8576b"
            ],
            [
             0.6666666666666666,
             "#ed7953"
            ],
            [
             0.7777777777777778,
             "#fb9f3a"
            ],
            [
             0.8888888888888888,
             "#fdca26"
            ],
            [
             1,
             "#f0f921"
            ]
           ]
          },
          "colorway": [
           "#636efa",
           "#EF553B",
           "#00cc96",
           "#ab63fa",
           "#FFA15A",
           "#19d3f3",
           "#FF6692",
           "#B6E880",
           "#FF97FF",
           "#FECB52"
          ],
          "font": {
           "color": "#2a3f5f"
          },
          "geo": {
           "bgcolor": "white",
           "lakecolor": "white",
           "landcolor": "#E5ECF6",
           "showlakes": true,
           "showland": true,
           "subunitcolor": "white"
          },
          "hoverlabel": {
           "align": "left"
          },
          "hovermode": "closest",
          "mapbox": {
           "style": "light"
          },
          "paper_bgcolor": "white",
          "plot_bgcolor": "#E5ECF6",
          "polar": {
           "angularaxis": {
            "gridcolor": "white",
            "linecolor": "white",
            "ticks": ""
           },
           "bgcolor": "#E5ECF6",
           "radialaxis": {
            "gridcolor": "white",
            "linecolor": "white",
            "ticks": ""
           }
          },
          "scene": {
           "xaxis": {
            "backgroundcolor": "#E5ECF6",
            "gridcolor": "white",
            "gridwidth": 2,
            "linecolor": "white",
            "showbackground": true,
            "ticks": "",
            "zerolinecolor": "white"
           },
           "yaxis": {
            "backgroundcolor": "#E5ECF6",
            "gridcolor": "white",
            "gridwidth": 2,
            "linecolor": "white",
            "showbackground": true,
            "ticks": "",
            "zerolinecolor": "white"
           },
           "zaxis": {
            "backgroundcolor": "#E5ECF6",
            "gridcolor": "white",
            "gridwidth": 2,
            "linecolor": "white",
            "showbackground": true,
            "ticks": "",
            "zerolinecolor": "white"
           }
          },
          "shapedefaults": {
           "line": {
            "color": "#2a3f5f"
           }
          },
          "ternary": {
           "aaxis": {
            "gridcolor": "white",
            "linecolor": "white",
            "ticks": ""
           },
           "baxis": {
            "gridcolor": "white",
            "linecolor": "white",
            "ticks": ""
           },
           "bgcolor": "#E5ECF6",
           "caxis": {
            "gridcolor": "white",
            "linecolor": "white",
            "ticks": ""
           }
          },
          "title": {
           "x": 0.05
          },
          "xaxis": {
           "automargin": true,
           "gridcolor": "white",
           "linecolor": "white",
           "ticks": "",
           "title": {
            "standoff": 15
           },
           "zerolinecolor": "white",
           "zerolinewidth": 2
          },
          "yaxis": {
           "automargin": true,
           "gridcolor": "white",
           "linecolor": "white",
           "ticks": "",
           "title": {
            "standoff": 15
           },
           "zerolinecolor": "white",
           "zerolinewidth": 2
          }
         }
        },
        "title": {
         "font": {
          "color": "#4D5663"
         },
         "text": "Distribution of Text Length"
        },
        "xaxis": {
         "gridcolor": "#E1E5ED",
         "showgrid": true,
         "tickfont": {
          "color": "#4D5663"
         },
         "title": {
          "font": {
           "color": "#4D5663"
          },
          "text": "Text Length"
         },
         "zerolinecolor": "#E1E5ED"
        },
        "yaxis": {
         "gridcolor": "#E1E5ED",
         "showgrid": true,
         "tickfont": {
          "color": "#4D5663"
         },
         "title": {
          "font": {
           "color": "#4D5663"
          },
          "text": "Count"
         },
         "zerolinecolor": "#E1E5ED"
        }
       }
      },
      "text/html": [
       "<div>                            <div id=\"03d5f849-60d5-4d4b-a334-582f83088319\" class=\"plotly-graph-div\" style=\"height:525px; width:100%;\"></div>            <script type=\"text/javascript\">                require([\"plotly\"], function(Plotly) {                    window.PLOTLYENV=window.PLOTLYENV || {};\n",
       "                    window.PLOTLYENV.BASE_URL='https://plot.ly';                                    if (document.getElementById(\"03d5f849-60d5-4d4b-a334-582f83088319\")) {                    Plotly.newPlot(                        \"03d5f849-60d5-4d4b-a334-582f83088319\",                        [{\"histfunc\":\"count\",\"histnorm\":\"\",\"marker\":{\"color\":\"rgba(255, 153, 51, 1.0)\",\"line\":{\"color\":\"#4D5663\",\"width\":1.3}},\"name\":\"text_length\",\"nbinsx\":50,\"opacity\":0.8,\"orientation\":\"v\",\"x\":[142,94,147,162,131,142,184,136,227,49,121,62,138,171,195,117,188,179,104,178,141,173,163,240,67,151,214,167,49,259,103,215,116,212,117,238,102,141,149,217,200,134,145,150,78,105,64,63,48,263,130,120,88,157,230,91,140,234,111,192,142,191,221,89,87,209,207,146,207,94,81,227,78,214,81,191,134,131,188,184,106,71,78,234,116,136,124,120,97,121,114,200,210,170,161,181,218,189,161,137,229,224,87,162,229,97,162,85,126,132,96,60,171,185,96,124,127,106,196,122,183,78,244,198,159,183,209,112,109,109,144,264,124,173,227,205,115,157,280,124,158,138,120,175,120,172,186,157,130,87,220,183,159,167,126,204,170,220,259,94,106,127,141,256,107,82,150,121,210,96,189,212,110,155,205,162,138,117,126,210,151,81,191,140,113,194,164,134,143,147,95,229,163,75,124,81,82,179,156,211,84,146,189,171,184,194,48,137,249,171,179,132,160,156,147,231,45,98,115,158,163,85,164,99,139,165,172,134,165,213,175,86,130,100,104,201,88,97,137,89,106,114,127,160,81,95,207,234,208,227,115,95,191,178,119,253,224,86,161,136,182,86,140,92,101,85,164,120,147,183,154,237,148,231,181,141,82,232,166,141,210,175,230,225,124,110,201,144,99,160,232,123,115,75,196,129,112,163,127,174,132,106,168,255,173,173,77,130,226,257,179,115,97,145,192,110,186,209,124,179,192,225,173,170,96,170,219,175,107,151,176,160,167,125,217,125,174,177,123,151,90,98,190,114,125,62,255,163,62,166,69,109,191,82,243,229,105,109,168,111,215,164,123,117,181,120,157,197,141,140,65,181,129,116,127,55,132,170,184,161,213,154,220,172,259,95,214,109,205,269,172,94,207,109,157,161,137,196,199,128,246,195,230,126,72,163,119,137,105,196,176,215,182,134,187,202,141,118,115,189,181,92,189,146,126,232,220,264,205,244,174,218,84,204,187,198,196,174,147,115,198,143,137,209,158,50,234,107,215,170,239,242,245,210,148,137,191,163,173,91,87,162,188,98,162,201,158,229,73,183,208,158,70,80,132,128,80,194,244,72,147,101,170,134,85,170,213,175,182,148,190,97,176,99,137,167,124,126,84,122,103,100,216,95,202,109,267,155,159,100,249,160,181,276,145,105,145,165,185,174,159,189,147,210,100,104,179,144,116,78,162,234,159,161,136,183,109,101,164,109,185,66,121,183,213,165,215,127,121,127,60,155,134,96,123,88,129,93,97,78,122,126,173,77,237,178,179,93,219,123,188,89,133,99,129,155,77,89,167,130,79,67,85,126,215,166,191,283,207,194,171,137,204,227,192,259,212,58,187,125,185,181,138,86,226,120,81,164,125,193,137,182,143,240,184,200,203,78,199,156,175,155,176,137,205,185,212,94,175,201,80,262,214,246,163,189,119,135,154,157,162,112,224,83,108,83,91,160,117,124,132,222,59,98,73,83,219,88,82,122,91,61,164,205,149,105,130,154,143,218,65,126,133,100,131,168,146,193,202,87,228,199,221,202,139,168,67,124,101,131,107,281,213,55,141,177,190,170,165,166,137,203,93,188,117,154,97,121,98,99,138,68,87,200,117,204,144,201,167,93,152,173,172,87,146,98,130,65,126,116,60,121,59,199,229,60,127,163,118,117,151,180,85,131,84,197,123,177,152,163,179,113,116,186,93,191,73,178,94,152,217,163,137,129,115,156,237,183,137,163,111,162,89,231,248,256,121,142,153,121,130,165,233,167,171,118,76,118,173,211,74,275,66,201,170,179,192,181,92,66,207,235,149,88,100,152,245,73,116,140,103,130,111,107,79,87,159,90,179,222,262,211,176,113,185,143,56,69,180,77,245,297,105,188,64,196,157,70,121,167,152,198,102,149,106,140,131,216,156,127,112,68,128,239,243,198,121,76,120,130,215,132,71,110,189,170,146,151,157,123,133,211,209,186,136,203,72,115,106,211,66,73,81,219,135,213,223,171,188,92,148,62,139,129,228,191,85,186,107,101,74,108,176,109,118,226,121,170,87,149,80,204,150,157,131,153,113,90,155,186,119,154,217,89,131,169,110,182,76,174,64,125,172,153,106,155,88,146,122,200,97,231,268,108,73,216,118,155,78,136,92,105,241,99,233,197,163,216,110,122,101,225,60,151,183,102,205,160,110,128,164,205,145,244,155,198,108,192,128,130,199,113,123,136,187,84,137,200,101,130,208,73,121,152,173,150,141,180,166,202,166,212,150,166,81,145,192,130,83,109,141,168,169,86,61,76,246,59,194,157,133,176,225,231,261,223,143,113,118,81,144,184,140,212,148,156,99,162,101,114,74,125,202,167,88,157,110,114,213,81,93,84,164,154,69,142,87,154,223,225,276,203,174,125,216,239,102,173,75,112,105,152,210,266,132,61,135,172,207,184,261,173,165,215,225,273,76,209,157,196,88,213,123,195,158,164,220,188,84,177,124,93,176,124,167,188,137,96,160,119,201,140,94,94,186,151,182,216,76,144,253,66,156,143,98,137,225,131,69,138,194,184,209,219,209,132,201,136,76,248,200,207,91,83,120,270,227,216,107,101,156,252,133,140,76,189,102,246,52,168,163,82,72,133,113,116,90,225,170,171,148,182,160,206,130,208,161,142,277,92,65,162,130,164,140,100,253,248,122,78,130,268,133,95,161,65,173,98,158,173,108,137,223,129,171,81,162,170,151,162,239,191,140,87,133,59,111,147,102,187,250,91,170,192,64,176,199,229,179,146,98,189,139,135,94,148,75,220,64,245,196,94,179,102,112,152,171,84,160,167,132,106,191,134,206,171,128,146,213,119,139,116,187,89,138,149,147,83,97,190,137,166,226,124,110,95,150,77,180,226,103,82,151,152,116,120,70,168,191,128,277,182,165,71,265,113,94,87,270,188,146,172,256,111,137,101,92,112,89,239,118,233,221,111,120,156,229,169,174,227,84,161,224,161,233,83,61,130,56,197,220,122,139,121,155,165,112,156,87,159,61,118,162,240,143,148,203,141,169,112,132,106,126,147,95,167,190,126,223,200,166,181,106,110,209,230,259,84,114,139,148,241,125,73,167,203,210,220,90,179,188,142,156,184,253,170,230,148,107,228,58,137,169,230,81,56,104,95,197,114,94,204,217,236,115,109,100,84,190,105,112,185,142,77,206,68,198,175,153,178,92,185,106,77,166,94,238,148,206,112,88,123,84,161,186,256,203,218,57,253,163,104,216,134,187,330,85,136,75,165,129,115,226,237,208,232,99,103,125,174,121,74,171,259,180,115,105,111,90,156,186,135,224,147,152,157,154,154,211,158,125,158,100,106,144,173,194,88,119,80,82,76,220,66,72,106,82,71,124,187,218,162,171,198,156,180,87,245,79,156,243,125,111,169,128,114,129,275,76,76,208,216,180,76,176,111,72,139,88,213,207,120,111,86,121,156,118,116,299,182,90,80,82,73,134,103,132,157,185,209,140,126,183,189,209,148,130,155,254,96,72,102,175,174,238,107,156,106,228,127,133,64,84,193,127,140,144,167,71,62,107,198,188,134,271,74,137,171,225,90,141,152,92,118,183,117,243,74,223,206,143,82,104,98,112,168,228,182,187,81,120,93,220,168,85,111,92,104,139,236,245,95,88,92,202,183,234,86,128,105,126,242,103,198,137,174,211,126,78,202,115,253,141,175,157,181,113,255,179,115,122,119,251,151,183,119,142,90,210,192,169,118,223,198,144,77,232,97,73,137,111,81,194,163,169,148,200,156,151,115,201,124,102,218,203,79,86,167,80,119,217,156,202,214,213,117,278,138,187,92,169,285,214,105,202,218,149,229,247,72,194,257,237,256,171,196,206,169,167,132,177,162,207,89,109,248,79,218,138,183,113,160,91,291,208,120,177,230,130,68,159,179,253,135,200,198,148,243,114,179,221,105,229,234,206,85,180,190,234,153,123,244,66,89,151,116,87,130,127,136,288,123,153,140,88,129,169,149,131,144,222,166,151,238,115,72,174,152,182,128,211,201,196,211,167,123,140,60,129,217,149,251,75,114,128,190,77,84,235,173,133,176,175,117,149,226,164,156,83,288,136,185,72,151,107,231,105,156,229,88,64,121,155,118,164,185,80,178,142,135,161,119,222,192,135,136,138,201,136,112,219,164,164,91,248,73,72,105,134,64,169,179,170,112,96,204,160,137,124,229,135,151,228,155,230,84,175,49,127,133,68,148,154,137,195,60,109,173,82,167,79,225,109,146,129,147,141,107,174,203,154,207,67,134,90,196,101,214,239,155,244,147,208,173,142,157,148,158,118,199,186,133,91,124,148,175,151,206,188,215,87,134,169,75,74,158,144,99,196,163,185,188,145,132,104,157,130,157,237,78,219,161,125,156,148,86,150,223,187,165,91,179,183,206,77,205,217,121,130,200,172,179,94,118,166,121,140,145,101,146,58,115,117,104,201,153,178,137,178,94,93,204,106,155,77,129,250,142,168,98,78,205,223,168,92,85,188,201,248,131,209,65,220,166,123,160,158,185,90,107,65,113,148,95,199,142,162,156,72,157,116,203,233,230,187,144,130,116,156,271,114,130,181,222,196,161,167,157,174,242,129,166,181,97,177,58,185,210,151,159,162,143,90,210,110,139,114,114,136,160,199,60,214,177,111,217,161,181,188,158,152,83,111,219,164,162,227,169,190,266,69,92,209,187,131,100,56,200,159,85,189,178,151,224,200,94,184,130,164,76,149,218,215,258,165,221,115],\"type\":\"histogram\"}],                        {\"barmode\":\"overlay\",\"legend\":{\"bgcolor\":\"#F5F6F9\",\"font\":{\"color\":\"#4D5663\"}},\"paper_bgcolor\":\"#F5F6F9\",\"plot_bgcolor\":\"#F5F6F9\",\"template\":{\"data\":{\"barpolar\":[{\"marker\":{\"line\":{\"color\":\"#E5ECF6\",\"width\":0.5},\"pattern\":{\"fillmode\":\"overlay\",\"size\":10,\"solidity\":0.2}},\"type\":\"barpolar\"}],\"bar\":[{\"error_x\":{\"color\":\"#2a3f5f\"},\"error_y\":{\"color\":\"#2a3f5f\"},\"marker\":{\"line\":{\"color\":\"#E5ECF6\",\"width\":0.5},\"pattern\":{\"fillmode\":\"overlay\",\"size\":10,\"solidity\":0.2}},\"type\":\"bar\"}],\"carpet\":[{\"aaxis\":{\"endlinecolor\":\"#2a3f5f\",\"gridcolor\":\"white\",\"linecolor\":\"white\",\"minorgridcolor\":\"white\",\"startlinecolor\":\"#2a3f5f\"},\"baxis\":{\"endlinecolor\":\"#2a3f5f\",\"gridcolor\":\"white\",\"linecolor\":\"white\",\"minorgridcolor\":\"white\",\"startlinecolor\":\"#2a3f5f\"},\"type\":\"carpet\"}],\"choropleth\":[{\"colorbar\":{\"outlinewidth\":0,\"ticks\":\"\"},\"type\":\"choropleth\"}],\"contourcarpet\":[{\"colorbar\":{\"outlinewidth\":0,\"ticks\":\"\"},\"type\":\"contourcarpet\"}],\"contour\":[{\"colorbar\":{\"outlinewidth\":0,\"ticks\":\"\"},\"colorscale\":[[0.0,\"#0d0887\"],[0.1111111111111111,\"#46039f\"],[0.2222222222222222,\"#7201a8\"],[0.3333333333333333,\"#9c179e\"],[0.4444444444444444,\"#bd3786\"],[0.5555555555555556,\"#d8576b\"],[0.6666666666666666,\"#ed7953\"],[0.7777777777777778,\"#fb9f3a\"],[0.8888888888888888,\"#fdca26\"],[1.0,\"#f0f921\"]],\"type\":\"contour\"}],\"heatmapgl\":[{\"colorbar\":{\"outlinewidth\":0,\"ticks\":\"\"},\"colorscale\":[[0.0,\"#0d0887\"],[0.1111111111111111,\"#46039f\"],[0.2222222222222222,\"#7201a8\"],[0.3333333333333333,\"#9c179e\"],[0.4444444444444444,\"#bd3786\"],[0.5555555555555556,\"#d8576b\"],[0.6666666666666666,\"#ed7953\"],[0.7777777777777778,\"#fb9f3a\"],[0.8888888888888888,\"#fdca26\"],[1.0,\"#f0f921\"]],\"type\":\"heatmapgl\"}],\"heatmap\":[{\"colorbar\":{\"outlinewidth\":0,\"ticks\":\"\"},\"colorscale\":[[0.0,\"#0d0887\"],[0.1111111111111111,\"#46039f\"],[0.2222222222222222,\"#7201a8\"],[0.3333333333333333,\"#9c179e\"],[0.4444444444444444,\"#bd3786\"],[0.5555555555555556,\"#d8576b\"],[0.6666666666666666,\"#ed7953\"],[0.7777777777777778,\"#fb9f3a\"],[0.8888888888888888,\"#fdca26\"],[1.0,\"#f0f921\"]],\"type\":\"heatmap\"}],\"histogram2dcontour\":[{\"colorbar\":{\"outlinewidth\":0,\"ticks\":\"\"},\"colorscale\":[[0.0,\"#0d0887\"],[0.1111111111111111,\"#46039f\"],[0.2222222222222222,\"#7201a8\"],[0.3333333333333333,\"#9c179e\"],[0.4444444444444444,\"#bd3786\"],[0.5555555555555556,\"#d8576b\"],[0.6666666666666666,\"#ed7953\"],[0.7777777777777778,\"#fb9f3a\"],[0.8888888888888888,\"#fdca26\"],[1.0,\"#f0f921\"]],\"type\":\"histogram2dcontour\"}],\"histogram2d\":[{\"colorbar\":{\"outlinewidth\":0,\"ticks\":\"\"},\"colorscale\":[[0.0,\"#0d0887\"],[0.1111111111111111,\"#46039f\"],[0.2222222222222222,\"#7201a8\"],[0.3333333333333333,\"#9c179e\"],[0.4444444444444444,\"#bd3786\"],[0.5555555555555556,\"#d8576b\"],[0.6666666666666666,\"#ed7953\"],[0.7777777777777778,\"#fb9f3a\"],[0.8888888888888888,\"#fdca26\"],[1.0,\"#f0f921\"]],\"type\":\"histogram2d\"}],\"histogram\":[{\"marker\":{\"pattern\":{\"fillmode\":\"overlay\",\"size\":10,\"solidity\":0.2}},\"type\":\"histogram\"}],\"mesh3d\":[{\"colorbar\":{\"outlinewidth\":0,\"ticks\":\"\"},\"type\":\"mesh3d\"}],\"parcoords\":[{\"line\":{\"colorbar\":{\"outlinewidth\":0,\"ticks\":\"\"}},\"type\":\"parcoords\"}],\"pie\":[{\"automargin\":true,\"type\":\"pie\"}],\"scatter3d\":[{\"line\":{\"colorbar\":{\"outlinewidth\":0,\"ticks\":\"\"}},\"marker\":{\"colorbar\":{\"outlinewidth\":0,\"ticks\":\"\"}},\"type\":\"scatter3d\"}],\"scattercarpet\":[{\"marker\":{\"colorbar\":{\"outlinewidth\":0,\"ticks\":\"\"}},\"type\":\"scattercarpet\"}],\"scattergeo\":[{\"marker\":{\"colorbar\":{\"outlinewidth\":0,\"ticks\":\"\"}},\"type\":\"scattergeo\"}],\"scattergl\":[{\"marker\":{\"colorbar\":{\"outlinewidth\":0,\"ticks\":\"\"}},\"type\":\"scattergl\"}],\"scattermapbox\":[{\"marker\":{\"colorbar\":{\"outlinewidth\":0,\"ticks\":\"\"}},\"type\":\"scattermapbox\"}],\"scatterpolargl\":[{\"marker\":{\"colorbar\":{\"outlinewidth\":0,\"ticks\":\"\"}},\"type\":\"scatterpolargl\"}],\"scatterpolar\":[{\"marker\":{\"colorbar\":{\"outlinewidth\":0,\"ticks\":\"\"}},\"type\":\"scatterpolar\"}],\"scatter\":[{\"fillpattern\":{\"fillmode\":\"overlay\",\"size\":10,\"solidity\":0.2},\"type\":\"scatter\"}],\"scatterternary\":[{\"marker\":{\"colorbar\":{\"outlinewidth\":0,\"ticks\":\"\"}},\"type\":\"scatterternary\"}],\"surface\":[{\"colorbar\":{\"outlinewidth\":0,\"ticks\":\"\"},\"colorscale\":[[0.0,\"#0d0887\"],[0.1111111111111111,\"#46039f\"],[0.2222222222222222,\"#7201a8\"],[0.3333333333333333,\"#9c179e\"],[0.4444444444444444,\"#bd3786\"],[0.5555555555555556,\"#d8576b\"],[0.6666666666666666,\"#ed7953\"],[0.7777777777777778,\"#fb9f3a\"],[0.8888888888888888,\"#fdca26\"],[1.0,\"#f0f921\"]],\"type\":\"surface\"}],\"table\":[{\"cells\":{\"fill\":{\"color\":\"#EBF0F8\"},\"line\":{\"color\":\"white\"}},\"header\":{\"fill\":{\"color\":\"#C8D4E3\"},\"line\":{\"color\":\"white\"}},\"type\":\"table\"}]},\"layout\":{\"annotationdefaults\":{\"arrowcolor\":\"#2a3f5f\",\"arrowhead\":0,\"arrowwidth\":1},\"autotypenumbers\":\"strict\",\"coloraxis\":{\"colorbar\":{\"outlinewidth\":0,\"ticks\":\"\"}},\"colorscale\":{\"diverging\":[[0,\"#8e0152\"],[0.1,\"#c51b7d\"],[0.2,\"#de77ae\"],[0.3,\"#f1b6da\"],[0.4,\"#fde0ef\"],[0.5,\"#f7f7f7\"],[0.6,\"#e6f5d0\"],[0.7,\"#b8e186\"],[0.8,\"#7fbc41\"],[0.9,\"#4d9221\"],[1,\"#276419\"]],\"sequential\":[[0.0,\"#0d0887\"],[0.1111111111111111,\"#46039f\"],[0.2222222222222222,\"#7201a8\"],[0.3333333333333333,\"#9c179e\"],[0.4444444444444444,\"#bd3786\"],[0.5555555555555556,\"#d8576b\"],[0.6666666666666666,\"#ed7953\"],[0.7777777777777778,\"#fb9f3a\"],[0.8888888888888888,\"#fdca26\"],[1.0,\"#f0f921\"]],\"sequentialminus\":[[0.0,\"#0d0887\"],[0.1111111111111111,\"#46039f\"],[0.2222222222222222,\"#7201a8\"],[0.3333333333333333,\"#9c179e\"],[0.4444444444444444,\"#bd3786\"],[0.5555555555555556,\"#d8576b\"],[0.6666666666666666,\"#ed7953\"],[0.7777777777777778,\"#fb9f3a\"],[0.8888888888888888,\"#fdca26\"],[1.0,\"#f0f921\"]]},\"colorway\":[\"#636efa\",\"#EF553B\",\"#00cc96\",\"#ab63fa\",\"#FFA15A\",\"#19d3f3\",\"#FF6692\",\"#B6E880\",\"#FF97FF\",\"#FECB52\"],\"font\":{\"color\":\"#2a3f5f\"},\"geo\":{\"bgcolor\":\"white\",\"lakecolor\":\"white\",\"landcolor\":\"#E5ECF6\",\"showlakes\":true,\"showland\":true,\"subunitcolor\":\"white\"},\"hoverlabel\":{\"align\":\"left\"},\"hovermode\":\"closest\",\"mapbox\":{\"style\":\"light\"},\"paper_bgcolor\":\"white\",\"plot_bgcolor\":\"#E5ECF6\",\"polar\":{\"angularaxis\":{\"gridcolor\":\"white\",\"linecolor\":\"white\",\"ticks\":\"\"},\"bgcolor\":\"#E5ECF6\",\"radialaxis\":{\"gridcolor\":\"white\",\"linecolor\":\"white\",\"ticks\":\"\"}},\"scene\":{\"xaxis\":{\"backgroundcolor\":\"#E5ECF6\",\"gridcolor\":\"white\",\"gridwidth\":2,\"linecolor\":\"white\",\"showbackground\":true,\"ticks\":\"\",\"zerolinecolor\":\"white\"},\"yaxis\":{\"backgroundcolor\":\"#E5ECF6\",\"gridcolor\":\"white\",\"gridwidth\":2,\"linecolor\":\"white\",\"showbackground\":true,\"ticks\":\"\",\"zerolinecolor\":\"white\"},\"zaxis\":{\"backgroundcolor\":\"#E5ECF6\",\"gridcolor\":\"white\",\"gridwidth\":2,\"linecolor\":\"white\",\"showbackground\":true,\"ticks\":\"\",\"zerolinecolor\":\"white\"}},\"shapedefaults\":{\"line\":{\"color\":\"#2a3f5f\"}},\"ternary\":{\"aaxis\":{\"gridcolor\":\"white\",\"linecolor\":\"white\",\"ticks\":\"\"},\"baxis\":{\"gridcolor\":\"white\",\"linecolor\":\"white\",\"ticks\":\"\"},\"bgcolor\":\"#E5ECF6\",\"caxis\":{\"gridcolor\":\"white\",\"linecolor\":\"white\",\"ticks\":\"\"}},\"title\":{\"x\":0.05},\"xaxis\":{\"automargin\":true,\"gridcolor\":\"white\",\"linecolor\":\"white\",\"ticks\":\"\",\"title\":{\"standoff\":15},\"zerolinecolor\":\"white\",\"zerolinewidth\":2},\"yaxis\":{\"automargin\":true,\"gridcolor\":\"white\",\"linecolor\":\"white\",\"ticks\":\"\",\"title\":{\"standoff\":15},\"zerolinecolor\":\"white\",\"zerolinewidth\":2}}},\"title\":{\"font\":{\"color\":\"#4D5663\"},\"text\":\"Distribution of Text Length\"},\"xaxis\":{\"gridcolor\":\"#E1E5ED\",\"showgrid\":true,\"tickfont\":{\"color\":\"#4D5663\"},\"title\":{\"font\":{\"color\":\"#4D5663\"},\"text\":\"Text Length\"},\"zerolinecolor\":\"#E1E5ED\"},\"yaxis\":{\"gridcolor\":\"#E1E5ED\",\"showgrid\":true,\"tickfont\":{\"color\":\"#4D5663\"},\"title\":{\"font\":{\"color\":\"#4D5663\"},\"text\":\"Count\"},\"zerolinecolor\":\"#E1E5ED\"}},                        {\"showLink\": true, \"linkText\": \"Export to plot.ly\", \"plotlyServerURL\": \"https://plot.ly\", \"responsive\": true}                    ).then(function(){\n",
       "                            \n",
       "var gd = document.getElementById('03d5f849-60d5-4d4b-a334-582f83088319');\n",
       "var x = new MutationObserver(function (mutations, observer) {{\n",
       "        var display = window.getComputedStyle(gd).display;\n",
       "        if (!display || display === 'none') {{\n",
       "            console.log([gd, 'removed!']);\n",
       "            Plotly.purge(gd);\n",
       "            observer.disconnect();\n",
       "        }}\n",
       "}});\n",
       "\n",
       "// Listen for the removal of the full notebook cells\n",
       "var notebookContainer = gd.closest('#notebook-container');\n",
       "if (notebookContainer) {{\n",
       "    x.observe(notebookContainer, {childList: true});\n",
       "}}\n",
       "\n",
       "// Listen for the clearing of the current output cell\n",
       "var outputEl = gd.closest('.output');\n",
       "if (outputEl) {{\n",
       "    x.observe(outputEl, {childList: true});\n",
       "}}\n",
       "\n",
       "                        })                };                });            </script>        </div>"
      ]
     },
     "metadata": {},
     "output_type": "display_data"
    }
   ],
   "source": [
    "df['text_length'].iplot(kind = 'hist', xTitle = 'Text Length', yTitle = 'Count', title = \"Distribution of Text Length\", bins = 50)"
   ]
  },
  {
   "cell_type": "code",
   "execution_count": 34,
   "metadata": {},
   "outputs": [
    {
     "data": {
      "application/vnd.plotly.v1+json": {
       "config": {
        "linkText": "Export to plot.ly",
        "plotlyServerURL": "https://plot.ly",
        "showLink": true
       },
       "data": [
        {
         "histfunc": "count",
         "histnorm": "",
         "marker": {
          "color": "rgba(255, 153, 51, 1.0)",
          "line": {
           "color": "#4D5663",
           "width": 1.3
          }
         },
         "name": "word_count",
         "opacity": 0.8,
         "orientation": "v",
         "type": "histogram",
         "x": [
          22,
          21,
          23,
          25,
          23,
          23,
          26,
          24,
          27,
          12,
          22,
          12,
          23,
          24,
          35,
          19,
          26,
          32,
          18,
          29,
          22,
          25,
          27,
          40,
          17,
          27,
          40,
          25,
          11,
          32,
          21,
          38,
          17,
          37,
          23,
          32,
          17,
          23,
          27,
          42,
          30,
          20,
          24,
          21,
          15,
          20,
          11,
          12,
          12,
          34,
          29,
          20,
          16,
          23,
          36,
          17,
          22,
          35,
          18,
          30,
          26,
          33,
          34,
          11,
          16,
          32,
          34,
          18,
          26,
          15,
          14,
          39,
          15,
          33,
          17,
          28,
          24,
          23,
          38,
          33,
          14,
          13,
          16,
          33,
          19,
          22,
          19,
          25,
          15,
          17,
          20,
          28,
          34,
          27,
          25,
          27,
          32,
          37,
          32,
          25,
          39,
          37,
          15,
          26,
          35,
          19,
          24,
          15,
          22,
          19,
          15,
          11,
          38,
          32,
          15,
          18,
          26,
          19,
          35,
          22,
          28,
          17,
          39,
          30,
          29,
          28,
          34,
          18,
          17,
          23,
          29,
          38,
          21,
          24,
          33,
          37,
          19,
          24,
          38,
          19,
          26,
          20,
          20,
          27,
          19,
          25,
          30,
          26,
          18,
          16,
          36,
          29,
          26,
          27,
          21,
          30,
          21,
          33,
          38,
          18,
          17,
          22,
          25,
          38,
          18,
          17,
          33,
          18,
          38,
          13,
          27,
          30,
          16,
          25,
          30,
          25,
          23,
          22,
          24,
          35,
          27,
          14,
          26,
          20,
          21,
          21,
          32,
          24,
          24,
          28,
          18,
          37,
          22,
          14,
          17,
          11,
          15,
          26,
          28,
          35,
          15,
          18,
          30,
          25,
          30,
          32,
          11,
          24,
          37,
          22,
          24,
          22,
          33,
          27,
          21,
          35,
          11,
          14,
          22,
          27,
          31,
          14,
          31,
          16,
          27,
          37,
          27,
          27,
          33,
          40,
          25,
          17,
          16,
          17,
          16,
          31,
          18,
          19,
          27,
          18,
          23,
          20,
          23,
          29,
          14,
          18,
          32,
          33,
          36,
          33,
          20,
          19,
          33,
          26,
          23,
          33,
          32,
          19,
          26,
          21,
          25,
          17,
          20,
          18,
          16,
          16,
          28,
          24,
          25,
          34,
          27,
          36,
          27,
          34,
          34,
          26,
          13,
          36,
          31,
          25,
          30,
          21,
          33,
          35,
          19,
          16,
          29,
          27,
          19,
          24,
          33,
          17,
          16,
          14,
          38,
          24,
          16,
          24,
          21,
          28,
          17,
          15,
          17,
          36,
          34,
          26,
          17,
          20,
          36,
          35,
          27,
          24,
          17,
          30,
          29,
          23,
          36,
          34,
          25,
          28,
          36,
          35,
          27,
          26,
          17,
          30,
          35,
          23,
          26,
          28,
          27,
          31,
          29,
          21,
          34,
          24,
          23,
          36,
          21,
          25,
          15,
          14,
          27,
          19,
          19,
          14,
          36,
          32,
          13,
          24,
          12,
          16,
          31,
          15,
          36,
          28,
          17,
          21,
          25,
          24,
          35,
          34,
          19,
          18,
          36,
          17,
          24,
          34,
          25,
          28,
          11,
          27,
          18,
          18,
          18,
          11,
          18,
          38,
          29,
          29,
          37,
          24,
          36,
          29,
          38,
          18,
          32,
          14,
          33,
          36,
          31,
          16,
          31,
          20,
          25,
          33,
          21,
          37,
          29,
          22,
          38,
          29,
          36,
          18,
          12,
          26,
          23,
          20,
          21,
          28,
          36,
          36,
          36,
          19,
          35,
          30,
          22,
          18,
          21,
          40,
          27,
          15,
          34,
          28,
          18,
          37,
          29,
          39,
          35,
          38,
          35,
          36,
          16,
          32,
          27,
          33,
          28,
          28,
          18,
          18,
          37,
          18,
          27,
          30,
          28,
          11,
          38,
          16,
          40,
          26,
          34,
          38,
          39,
          39,
          32,
          26,
          29,
          32,
          30,
          15,
          18,
          23,
          27,
          12,
          31,
          38,
          37,
          36,
          12,
          26,
          28,
          25,
          15,
          14,
          23,
          21,
          12,
          35,
          38,
          13,
          24,
          16,
          24,
          21,
          16,
          33,
          39,
          27,
          29,
          23,
          39,
          18,
          31,
          16,
          21,
          27,
          24,
          22,
          16,
          21,
          18,
          18,
          32,
          13,
          32,
          18,
          38,
          27,
          25,
          23,
          36,
          24,
          29,
          34,
          29,
          14,
          28,
          29,
          26,
          21,
          26,
          29,
          24,
          32,
          21,
          17,
          25,
          24,
          24,
          14,
          22,
          35,
          27,
          26,
          21,
          31,
          14,
          19,
          27,
          19,
          35,
          11,
          25,
          30,
          34,
          28,
          29,
          19,
          24,
          17,
          11,
          28,
          24,
          19,
          24,
          17,
          25,
          18,
          16,
          11,
          20,
          21,
          28,
          12,
          35,
          36,
          25,
          17,
          36,
          17,
          32,
          15,
          22,
          15,
          21,
          20,
          13,
          16,
          27,
          24,
          13,
          13,
          16,
          22,
          39,
          31,
          39,
          37,
          28,
          29,
          33,
          24,
          29,
          32,
          35,
          38,
          38,
          13,
          25,
          25,
          32,
          26,
          23,
          16,
          36,
          23,
          15,
          21,
          20,
          31,
          23,
          26,
          22,
          37,
          27,
          31,
          31,
          14,
          34,
          27,
          27,
          24,
          31,
          23,
          28,
          27,
          32,
          15,
          28,
          33,
          14,
          37,
          29,
          37,
          27,
          34,
          18,
          19,
          30,
          20,
          30,
          19,
          31,
          13,
          22,
          12,
          15,
          20,
          18,
          24,
          20,
          33,
          12,
          18,
          11,
          17,
          39,
          16,
          14,
          24,
          18,
          14,
          33,
          34,
          24,
          17,
          24,
          25,
          27,
          39,
          12,
          22,
          19,
          16,
          20,
          27,
          24,
          30,
          25,
          15,
          34,
          26,
          40,
          35,
          22,
          29,
          11,
          20,
          19,
          25,
          19,
          37,
          38,
          11,
          25,
          24,
          25,
          25,
          26,
          31,
          23,
          29,
          16,
          30,
          19,
          27,
          19,
          19,
          19,
          16,
          24,
          13,
          19,
          33,
          22,
          32,
          25,
          34,
          34,
          15,
          22,
          33,
          25,
          14,
          27,
          16,
          22,
          11,
          18,
          20,
          12,
          18,
          12,
          36,
          35,
          12,
          26,
          30,
          21,
          18,
          23,
          22,
          18,
          21,
          15,
          28,
          20,
          27,
          27,
          22,
          32,
          21,
          16,
          28,
          17,
          37,
          12,
          28,
          16,
          22,
          35,
          30,
          20,
          17,
          19,
          24,
          32,
          22,
          25,
          30,
          22,
          24,
          13,
          33,
          34,
          35,
          22,
          23,
          19,
          18,
          26,
          23,
          32,
          34,
          30,
          24,
          14,
          24,
          29,
          38,
          13,
          38,
          14,
          37,
          26,
          38,
          36,
          27,
          19,
          15,
          28,
          39,
          24,
          16,
          15,
          21,
          31,
          15,
          14,
          30,
          16,
          21,
          16,
          16,
          12,
          20,
          22,
          17,
          31,
          33,
          38,
          30,
          23,
          21,
          29,
          23,
          13,
          14,
          25,
          12,
          33,
          38,
          20,
          31,
          12,
          31,
          29,
          12,
          23,
          30,
          26,
          28,
          17,
          29,
          17,
          26,
          18,
          34,
          30,
          20,
          19,
          14,
          22,
          37,
          34,
          29,
          18,
          12,
          20,
          26,
          31,
          21,
          16,
          20,
          30,
          26,
          27,
          29,
          23,
          23,
          21,
          36,
          34,
          32,
          27,
          42,
          13,
          19,
          21,
          32,
          11,
          17,
          15,
          31,
          24,
          33,
          35,
          34,
          36,
          14,
          24,
          11,
          19,
          24,
          26,
          37,
          16,
          31,
          17,
          18,
          13,
          16,
          34,
          20,
          17,
          29,
          23,
          29,
          19,
          21,
          12,
          30,
          28,
          23,
          23,
          22,
          21,
          14,
          25,
          30,
          21,
          28,
          32,
          16,
          24,
          29,
          21,
          28,
          13,
          28,
          12,
          21,
          32,
          28,
          17,
          23,
          17,
          26,
          22,
          31,
          16,
          35,
          39,
          20,
          13,
          32,
          18,
          25,
          15,
          25,
          15,
          16,
          37,
          18,
          35,
          34,
          32,
          41,
          19,
          19,
          19,
          31,
          12,
          26,
          35,
          18,
          28,
          26,
          24,
          18,
          33,
          29,
          25,
          36,
          26,
          33,
          18,
          30,
          21,
          23,
          32,
          21,
          19,
          24,
          29,
          13,
          17,
          36,
          20,
          17,
          40,
          14,
          26,
          24,
          31,
          25,
          23,
          33,
          27,
          27,
          31,
          35,
          25,
          28,
          11,
          28,
          31,
          22,
          13,
          21,
          25,
          32,
          27,
          17,
          11,
          14,
          37,
          12,
          40,
          26,
          23,
          22,
          37,
          33,
          34,
          35,
          26,
          21,
          15,
          16,
          20,
          28,
          28,
          39,
          28,
          27,
          17,
          26,
          20,
          20,
          14,
          17,
          36,
          25,
          11,
          23,
          21,
          18,
          32,
          14,
          23,
          11,
          25,
          26,
          13,
          24,
          15,
          26,
          30,
          30,
          36,
          35,
          30,
          22,
          36,
          40,
          17,
          26,
          13,
          15,
          21,
          27,
          31,
          35,
          19,
          11,
          25,
          24,
          30,
          31,
          37,
          28,
          33,
          36,
          31,
          39,
          13,
          36,
          22,
          30,
          17,
          32,
          25,
          29,
          21,
          28,
          35,
          30,
          16,
          23,
          24,
          21,
          29,
          20,
          32,
          29,
          25,
          19,
          25,
          23,
          36,
          22,
          15,
          14,
          26,
          23,
          37,
          37,
          16,
          25,
          35,
          13,
          27,
          20,
          13,
          24,
          37,
          20,
          12,
          21,
          24,
          30,
          39,
          31,
          32,
          17,
          35,
          24,
          11,
          34,
          37,
          28,
          20,
          17,
          25,
          39,
          37,
          38,
          14,
          18,
          22,
          36,
          22,
          20,
          14,
          30,
          17,
          35,
          13,
          29,
          28,
          14,
          12,
          22,
          20,
          23,
          15,
          37,
          28,
          27,
          26,
          27,
          29,
          31,
          18,
          32,
          32,
          25,
          35,
          17,
          13,
          25,
          21,
          24,
          27,
          21,
          38,
          36,
          21,
          16,
          20,
          36,
          27,
          19,
          27,
          13,
          29,
          18,
          25,
          24,
          21,
          24,
          32,
          25,
          30,
          14,
          30,
          28,
          23,
          26,
          22,
          32,
          27,
          12,
          26,
          13,
          18,
          28,
          17,
          26,
          37,
          18,
          32,
          40,
          12,
          36,
          29,
          37,
          30,
          22,
          17,
          28,
          26,
          22,
          17,
          24,
          15,
          38,
          12,
          37,
          35,
          18,
          37,
          19,
          18,
          25,
          20,
          16,
          29,
          24,
          26,
          15,
          31,
          24,
          33,
          26,
          19,
          21,
          39,
          17,
          29,
          23,
          27,
          15,
          22,
          24,
          24,
          12,
          16,
          34,
          21,
          25,
          31,
          23,
          21,
          17,
          27,
          18,
          25,
          31,
          17,
          15,
          26,
          24,
          19,
          19,
          13,
          30,
          28,
          27,
          39,
          25,
          22,
          12,
          36,
          20,
          14,
          12,
          33,
          28,
          25,
          27,
          38,
          20,
          23,
          19,
          12,
          23,
          15,
          35,
          25,
          35,
          35,
          19,
          22,
          22,
          36,
          26,
          26,
          38,
          14,
          26,
          36,
          26,
          36,
          12,
          12,
          26,
          12,
          33,
          36,
          20,
          27,
          18,
          24,
          28,
          18,
          26,
          19,
          22,
          11,
          22,
          27,
          38,
          25,
          26,
          29,
          26,
          32,
          15,
          17,
          16,
          25,
          24,
          15,
          28,
          27,
          24,
          32,
          27,
          26,
          29,
          17,
          16,
          33,
          39,
          36,
          11,
          18,
          20,
          22,
          35,
          23,
          15,
          27,
          32,
          32,
          30,
          19,
          30,
          23,
          21,
          24,
          30,
          37,
          30,
          36,
          30,
          21,
          34,
          13,
          21,
          28,
          35,
          16,
          11,
          18,
          15,
          32,
          22,
          19,
          36,
          38,
          39,
          21,
          16,
          16,
          14,
          29,
          21,
          19,
          36,
          24,
          13,
          38,
          11,
          28,
          29,
          26,
          33,
          15,
          30,
          15,
          14,
          29,
          13,
          35,
          21,
          32,
          19,
          14,
          20,
          16,
          29,
          32,
          36,
          34,
          41,
          15,
          38,
          19,
          19,
          34,
          26,
          29,
          39,
          11,
          25,
          13,
          27,
          16,
          18,
          36,
          29,
          34,
          35,
          23,
          24,
          16,
          31,
          18,
          14,
          25,
          37,
          32,
          21,
          15,
          15,
          12,
          24,
          19,
          19,
          34,
          25,
          29,
          23,
          29,
          24,
          30,
          29,
          21,
          23,
          19,
          17,
          21,
          26,
          37,
          11,
          18,
          13,
          15,
          14,
          33,
          13,
          13,
          16,
          15,
          14,
          15,
          31,
          27,
          27,
          34,
          36,
          28,
          30,
          19,
          37,
          12,
          24,
          33,
          25,
          15,
          26,
          17,
          21,
          21,
          37,
          12,
          17,
          31,
          38,
          25,
          11,
          28,
          19,
          13,
          23,
          12,
          28,
          31,
          20,
          20,
          19,
          20,
          26,
          16,
          19,
          39,
          35,
          13,
          13,
          17,
          11,
          23,
          17,
          19,
          25,
          29,
          33,
          28,
          20,
          35,
          34,
          32,
          24,
          24,
          24,
          37,
          14,
          14,
          15,
          31,
          24,
          37,
          18,
          23,
          18,
          38,
          18,
          20,
          13,
          12,
          29,
          20,
          21,
          26,
          28,
          12,
          11,
          15,
          25,
          29,
          22,
          33,
          14,
          25,
          30,
          35,
          18,
          28,
          20,
          22,
          19,
          28,
          23,
          32,
          14,
          37,
          31,
          24,
          15,
          18,
          14,
          15,
          29,
          37,
          33,
          35,
          16,
          20,
          13,
          39,
          29,
          18,
          19,
          15,
          20,
          24,
          39,
          35,
          15,
          16,
          17,
          41,
          27,
          37,
          14,
          23,
          17,
          22,
          34,
          19,
          35,
          22,
          26,
          29,
          21,
          11,
          36,
          22,
          38,
          26,
          25,
          27,
          28,
          21,
          39,
          25,
          24,
          17,
          25,
          35,
          24,
          35,
          20,
          27,
          18,
          28,
          35,
          29,
          21,
          34,
          31,
          20,
          12,
          27,
          17,
          16,
          19,
          15,
          14,
          29,
          30,
          28,
          28,
          29,
          22,
          24,
          18,
          33,
          19,
          19,
          34,
          32,
          17,
          15,
          24,
          16,
          15,
          26,
          20,
          33,
          32,
          38,
          22,
          37,
          26,
          31,
          19,
          28,
          35,
          26,
          19,
          38,
          39,
          23,
          36,
          37,
          12,
          31,
          38,
          36,
          33,
          26,
          33,
          32,
          33,
          29,
          24,
          37,
          23,
          39,
          17,
          20,
          36,
          12,
          32,
          24,
          33,
          15,
          25,
          15,
          38,
          30,
          20,
          28,
          34,
          22,
          11,
          27,
          29,
          38,
          23,
          31,
          36,
          21,
          35,
          21,
          34,
          36,
          17,
          37,
          37,
          31,
          15,
          26,
          25,
          36,
          25,
          21,
          38,
          15,
          16,
          29,
          24,
          17,
          18,
          26,
          27,
          35,
          20,
          22,
          25,
          16,
          21,
          28,
          23,
          23,
          23,
          32,
          31,
          22,
          34,
          21,
          15,
          28,
          22,
          31,
          21,
          33,
          28,
          38,
          32,
          26,
          18,
          22,
          14,
          25,
          35,
          22,
          39,
          14,
          17,
          24,
          39,
          14,
          14,
          37,
          21,
          20,
          27,
          28,
          17,
          22,
          35,
          29,
          28,
          16,
          39,
          21,
          24,
          13,
          29,
          14,
          38,
          23,
          22,
          32,
          15,
          11,
          22,
          26,
          16,
          24,
          33,
          17,
          27,
          23,
          22,
          25,
          23,
          32,
          30,
          28,
          28,
          24,
          37,
          23,
          14,
          33,
          27,
          27,
          17,
          38,
          13,
          16,
          18,
          22,
          12,
          24,
          28,
          31,
          22,
          21,
          29,
          25,
          26,
          21,
          34,
          20,
          28,
          37,
          24,
          33,
          14,
          31,
          13,
          20,
          23,
          12,
          31,
          21,
          23,
          31,
          11,
          17,
          29,
          18,
          23,
          14,
          35,
          17,
          30,
          25,
          24,
          16,
          15,
          23,
          40,
          23,
          39,
          11,
          19,
          14,
          36,
          15,
          35,
          38,
          30,
          38,
          26,
          32,
          24,
          22,
          24,
          27,
          30,
          17,
          25,
          28,
          20,
          14,
          21,
          25,
          29,
          27,
          27,
          36,
          31,
          16,
          19,
          28,
          16,
          16,
          21,
          24,
          15,
          30,
          26,
          28,
          29,
          23,
          21,
          13,
          31,
          21,
          27,
          36,
          12,
          36,
          27,
          18,
          21,
          29,
          15,
          26,
          36,
          27,
          23,
          14,
          23,
          32,
          31,
          14,
          38,
          36,
          19,
          21,
          39,
          28,
          28,
          14,
          19,
          26,
          25,
          24,
          30,
          17,
          27,
          12,
          19,
          18,
          18,
          36,
          25,
          25,
          27,
          31,
          17,
          15,
          36,
          13,
          23,
          16,
          18,
          38,
          23,
          25,
          16,
          15,
          31,
          31,
          29,
          17,
          13,
          31,
          26,
          39,
          20,
          28,
          12,
          29,
          32,
          20,
          30,
          31,
          30,
          16,
          21,
          14,
          18,
          20,
          16,
          29,
          23,
          31,
          27,
          12,
          30,
          22,
          35,
          34,
          29,
          32,
          29,
          26,
          17,
          24,
          37,
          19,
          21,
          28,
          35,
          29,
          20,
          28,
          33,
          31,
          34,
          25,
          28,
          31,
          17,
          26,
          12,
          31,
          37,
          30,
          27,
          24,
          24,
          14,
          32,
          20,
          19,
          26,
          16,
          19,
          30,
          30,
          13,
          31,
          26,
          24,
          33,
          26,
          27,
          26,
          23,
          27,
          11,
          24,
          36,
          26,
          25,
          35,
          22,
          32,
          33,
          13,
          17,
          33,
          29,
          21,
          18,
          11,
          33,
          23,
          15,
          28,
          32,
          25,
          37,
          39,
          17,
          21,
          21,
          28,
          16,
          20,
          36,
          35,
          38,
          28,
          30,
          23
         ]
        }
       ],
       "layout": {
        "barmode": "overlay",
        "legend": {
         "bgcolor": "#F5F6F9",
         "font": {
          "color": "#4D5663"
         }
        },
        "paper_bgcolor": "#F5F6F9",
        "plot_bgcolor": "#F5F6F9",
        "template": {
         "data": {
          "bar": [
           {
            "error_x": {
             "color": "#2a3f5f"
            },
            "error_y": {
             "color": "#2a3f5f"
            },
            "marker": {
             "line": {
              "color": "#E5ECF6",
              "width": 0.5
             },
             "pattern": {
              "fillmode": "overlay",
              "size": 10,
              "solidity": 0.2
             }
            },
            "type": "bar"
           }
          ],
          "barpolar": [
           {
            "marker": {
             "line": {
              "color": "#E5ECF6",
              "width": 0.5
             },
             "pattern": {
              "fillmode": "overlay",
              "size": 10,
              "solidity": 0.2
             }
            },
            "type": "barpolar"
           }
          ],
          "carpet": [
           {
            "aaxis": {
             "endlinecolor": "#2a3f5f",
             "gridcolor": "white",
             "linecolor": "white",
             "minorgridcolor": "white",
             "startlinecolor": "#2a3f5f"
            },
            "baxis": {
             "endlinecolor": "#2a3f5f",
             "gridcolor": "white",
             "linecolor": "white",
             "minorgridcolor": "white",
             "startlinecolor": "#2a3f5f"
            },
            "type": "carpet"
           }
          ],
          "choropleth": [
           {
            "colorbar": {
             "outlinewidth": 0,
             "ticks": ""
            },
            "type": "choropleth"
           }
          ],
          "contour": [
           {
            "colorbar": {
             "outlinewidth": 0,
             "ticks": ""
            },
            "colorscale": [
             [
              0,
              "#0d0887"
             ],
             [
              0.1111111111111111,
              "#46039f"
             ],
             [
              0.2222222222222222,
              "#7201a8"
             ],
             [
              0.3333333333333333,
              "#9c179e"
             ],
             [
              0.4444444444444444,
              "#bd3786"
             ],
             [
              0.5555555555555556,
              "#d8576b"
             ],
             [
              0.6666666666666666,
              "#ed7953"
             ],
             [
              0.7777777777777778,
              "#fb9f3a"
             ],
             [
              0.8888888888888888,
              "#fdca26"
             ],
             [
              1,
              "#f0f921"
             ]
            ],
            "type": "contour"
           }
          ],
          "contourcarpet": [
           {
            "colorbar": {
             "outlinewidth": 0,
             "ticks": ""
            },
            "type": "contourcarpet"
           }
          ],
          "heatmap": [
           {
            "colorbar": {
             "outlinewidth": 0,
             "ticks": ""
            },
            "colorscale": [
             [
              0,
              "#0d0887"
             ],
             [
              0.1111111111111111,
              "#46039f"
             ],
             [
              0.2222222222222222,
              "#7201a8"
             ],
             [
              0.3333333333333333,
              "#9c179e"
             ],
             [
              0.4444444444444444,
              "#bd3786"
             ],
             [
              0.5555555555555556,
              "#d8576b"
             ],
             [
              0.6666666666666666,
              "#ed7953"
             ],
             [
              0.7777777777777778,
              "#fb9f3a"
             ],
             [
              0.8888888888888888,
              "#fdca26"
             ],
             [
              1,
              "#f0f921"
             ]
            ],
            "type": "heatmap"
           }
          ],
          "heatmapgl": [
           {
            "colorbar": {
             "outlinewidth": 0,
             "ticks": ""
            },
            "colorscale": [
             [
              0,
              "#0d0887"
             ],
             [
              0.1111111111111111,
              "#46039f"
             ],
             [
              0.2222222222222222,
              "#7201a8"
             ],
             [
              0.3333333333333333,
              "#9c179e"
             ],
             [
              0.4444444444444444,
              "#bd3786"
             ],
             [
              0.5555555555555556,
              "#d8576b"
             ],
             [
              0.6666666666666666,
              "#ed7953"
             ],
             [
              0.7777777777777778,
              "#fb9f3a"
             ],
             [
              0.8888888888888888,
              "#fdca26"
             ],
             [
              1,
              "#f0f921"
             ]
            ],
            "type": "heatmapgl"
           }
          ],
          "histogram": [
           {
            "marker": {
             "pattern": {
              "fillmode": "overlay",
              "size": 10,
              "solidity": 0.2
             }
            },
            "type": "histogram"
           }
          ],
          "histogram2d": [
           {
            "colorbar": {
             "outlinewidth": 0,
             "ticks": ""
            },
            "colorscale": [
             [
              0,
              "#0d0887"
             ],
             [
              0.1111111111111111,
              "#46039f"
             ],
             [
              0.2222222222222222,
              "#7201a8"
             ],
             [
              0.3333333333333333,
              "#9c179e"
             ],
             [
              0.4444444444444444,
              "#bd3786"
             ],
             [
              0.5555555555555556,
              "#d8576b"
             ],
             [
              0.6666666666666666,
              "#ed7953"
             ],
             [
              0.7777777777777778,
              "#fb9f3a"
             ],
             [
              0.8888888888888888,
              "#fdca26"
             ],
             [
              1,
              "#f0f921"
             ]
            ],
            "type": "histogram2d"
           }
          ],
          "histogram2dcontour": [
           {
            "colorbar": {
             "outlinewidth": 0,
             "ticks": ""
            },
            "colorscale": [
             [
              0,
              "#0d0887"
             ],
             [
              0.1111111111111111,
              "#46039f"
             ],
             [
              0.2222222222222222,
              "#7201a8"
             ],
             [
              0.3333333333333333,
              "#9c179e"
             ],
             [
              0.4444444444444444,
              "#bd3786"
             ],
             [
              0.5555555555555556,
              "#d8576b"
             ],
             [
              0.6666666666666666,
              "#ed7953"
             ],
             [
              0.7777777777777778,
              "#fb9f3a"
             ],
             [
              0.8888888888888888,
              "#fdca26"
             ],
             [
              1,
              "#f0f921"
             ]
            ],
            "type": "histogram2dcontour"
           }
          ],
          "mesh3d": [
           {
            "colorbar": {
             "outlinewidth": 0,
             "ticks": ""
            },
            "type": "mesh3d"
           }
          ],
          "parcoords": [
           {
            "line": {
             "colorbar": {
              "outlinewidth": 0,
              "ticks": ""
             }
            },
            "type": "parcoords"
           }
          ],
          "pie": [
           {
            "automargin": true,
            "type": "pie"
           }
          ],
          "scatter": [
           {
            "fillpattern": {
             "fillmode": "overlay",
             "size": 10,
             "solidity": 0.2
            },
            "type": "scatter"
           }
          ],
          "scatter3d": [
           {
            "line": {
             "colorbar": {
              "outlinewidth": 0,
              "ticks": ""
             }
            },
            "marker": {
             "colorbar": {
              "outlinewidth": 0,
              "ticks": ""
             }
            },
            "type": "scatter3d"
           }
          ],
          "scattercarpet": [
           {
            "marker": {
             "colorbar": {
              "outlinewidth": 0,
              "ticks": ""
             }
            },
            "type": "scattercarpet"
           }
          ],
          "scattergeo": [
           {
            "marker": {
             "colorbar": {
              "outlinewidth": 0,
              "ticks": ""
             }
            },
            "type": "scattergeo"
           }
          ],
          "scattergl": [
           {
            "marker": {
             "colorbar": {
              "outlinewidth": 0,
              "ticks": ""
             }
            },
            "type": "scattergl"
           }
          ],
          "scattermapbox": [
           {
            "marker": {
             "colorbar": {
              "outlinewidth": 0,
              "ticks": ""
             }
            },
            "type": "scattermapbox"
           }
          ],
          "scatterpolar": [
           {
            "marker": {
             "colorbar": {
              "outlinewidth": 0,
              "ticks": ""
             }
            },
            "type": "scatterpolar"
           }
          ],
          "scatterpolargl": [
           {
            "marker": {
             "colorbar": {
              "outlinewidth": 0,
              "ticks": ""
             }
            },
            "type": "scatterpolargl"
           }
          ],
          "scatterternary": [
           {
            "marker": {
             "colorbar": {
              "outlinewidth": 0,
              "ticks": ""
             }
            },
            "type": "scatterternary"
           }
          ],
          "surface": [
           {
            "colorbar": {
             "outlinewidth": 0,
             "ticks": ""
            },
            "colorscale": [
             [
              0,
              "#0d0887"
             ],
             [
              0.1111111111111111,
              "#46039f"
             ],
             [
              0.2222222222222222,
              "#7201a8"
             ],
             [
              0.3333333333333333,
              "#9c179e"
             ],
             [
              0.4444444444444444,
              "#bd3786"
             ],
             [
              0.5555555555555556,
              "#d8576b"
             ],
             [
              0.6666666666666666,
              "#ed7953"
             ],
             [
              0.7777777777777778,
              "#fb9f3a"
             ],
             [
              0.8888888888888888,
              "#fdca26"
             ],
             [
              1,
              "#f0f921"
             ]
            ],
            "type": "surface"
           }
          ],
          "table": [
           {
            "cells": {
             "fill": {
              "color": "#EBF0F8"
             },
             "line": {
              "color": "white"
             }
            },
            "header": {
             "fill": {
              "color": "#C8D4E3"
             },
             "line": {
              "color": "white"
             }
            },
            "type": "table"
           }
          ]
         },
         "layout": {
          "annotationdefaults": {
           "arrowcolor": "#2a3f5f",
           "arrowhead": 0,
           "arrowwidth": 1
          },
          "autotypenumbers": "strict",
          "coloraxis": {
           "colorbar": {
            "outlinewidth": 0,
            "ticks": ""
           }
          },
          "colorscale": {
           "diverging": [
            [
             0,
             "#8e0152"
            ],
            [
             0.1,
             "#c51b7d"
            ],
            [
             0.2,
             "#de77ae"
            ],
            [
             0.3,
             "#f1b6da"
            ],
            [
             0.4,
             "#fde0ef"
            ],
            [
             0.5,
             "#f7f7f7"
            ],
            [
             0.6,
             "#e6f5d0"
            ],
            [
             0.7,
             "#b8e186"
            ],
            [
             0.8,
             "#7fbc41"
            ],
            [
             0.9,
             "#4d9221"
            ],
            [
             1,
             "#276419"
            ]
           ],
           "sequential": [
            [
             0,
             "#0d0887"
            ],
            [
             0.1111111111111111,
             "#46039f"
            ],
            [
             0.2222222222222222,
             "#7201a8"
            ],
            [
             0.3333333333333333,
             "#9c179e"
            ],
            [
             0.4444444444444444,
             "#bd3786"
            ],
            [
             0.5555555555555556,
             "#d8576b"
            ],
            [
             0.6666666666666666,
             "#ed7953"
            ],
            [
             0.7777777777777778,
             "#fb9f3a"
            ],
            [
             0.8888888888888888,
             "#fdca26"
            ],
            [
             1,
             "#f0f921"
            ]
           ],
           "sequentialminus": [
            [
             0,
             "#0d0887"
            ],
            [
             0.1111111111111111,
             "#46039f"
            ],
            [
             0.2222222222222222,
             "#7201a8"
            ],
            [
             0.3333333333333333,
             "#9c179e"
            ],
            [
             0.4444444444444444,
             "#bd3786"
            ],
            [
             0.5555555555555556,
             "#d8576b"
            ],
            [
             0.6666666666666666,
             "#ed7953"
            ],
            [
             0.7777777777777778,
             "#fb9f3a"
            ],
            [
             0.8888888888888888,
             "#fdca26"
            ],
            [
             1,
             "#f0f921"
            ]
           ]
          },
          "colorway": [
           "#636efa",
           "#EF553B",
           "#00cc96",
           "#ab63fa",
           "#FFA15A",
           "#19d3f3",
           "#FF6692",
           "#B6E880",
           "#FF97FF",
           "#FECB52"
          ],
          "font": {
           "color": "#2a3f5f"
          },
          "geo": {
           "bgcolor": "white",
           "lakecolor": "white",
           "landcolor": "#E5ECF6",
           "showlakes": true,
           "showland": true,
           "subunitcolor": "white"
          },
          "hoverlabel": {
           "align": "left"
          },
          "hovermode": "closest",
          "mapbox": {
           "style": "light"
          },
          "paper_bgcolor": "white",
          "plot_bgcolor": "#E5ECF6",
          "polar": {
           "angularaxis": {
            "gridcolor": "white",
            "linecolor": "white",
            "ticks": ""
           },
           "bgcolor": "#E5ECF6",
           "radialaxis": {
            "gridcolor": "white",
            "linecolor": "white",
            "ticks": ""
           }
          },
          "scene": {
           "xaxis": {
            "backgroundcolor": "#E5ECF6",
            "gridcolor": "white",
            "gridwidth": 2,
            "linecolor": "white",
            "showbackground": true,
            "ticks": "",
            "zerolinecolor": "white"
           },
           "yaxis": {
            "backgroundcolor": "#E5ECF6",
            "gridcolor": "white",
            "gridwidth": 2,
            "linecolor": "white",
            "showbackground": true,
            "ticks": "",
            "zerolinecolor": "white"
           },
           "zaxis": {
            "backgroundcolor": "#E5ECF6",
            "gridcolor": "white",
            "gridwidth": 2,
            "linecolor": "white",
            "showbackground": true,
            "ticks": "",
            "zerolinecolor": "white"
           }
          },
          "shapedefaults": {
           "line": {
            "color": "#2a3f5f"
           }
          },
          "ternary": {
           "aaxis": {
            "gridcolor": "white",
            "linecolor": "white",
            "ticks": ""
           },
           "baxis": {
            "gridcolor": "white",
            "linecolor": "white",
            "ticks": ""
           },
           "bgcolor": "#E5ECF6",
           "caxis": {
            "gridcolor": "white",
            "linecolor": "white",
            "ticks": ""
           }
          },
          "title": {
           "x": 0.05
          },
          "xaxis": {
           "automargin": true,
           "gridcolor": "white",
           "linecolor": "white",
           "ticks": "",
           "title": {
            "standoff": 15
           },
           "zerolinecolor": "white",
           "zerolinewidth": 2
          },
          "yaxis": {
           "automargin": true,
           "gridcolor": "white",
           "linecolor": "white",
           "ticks": "",
           "title": {
            "standoff": 15
           },
           "zerolinecolor": "white",
           "zerolinewidth": 2
          }
         }
        },
        "title": {
         "font": {
          "color": "#4D5663"
         },
         "text": "Distribution of Word Count"
        },
        "xaxis": {
         "gridcolor": "#E1E5ED",
         "showgrid": true,
         "tickfont": {
          "color": "#4D5663"
         },
         "title": {
          "font": {
           "color": "#4D5663"
          },
          "text": "Word Count"
         },
         "zerolinecolor": "#E1E5ED"
        },
        "yaxis": {
         "gridcolor": "#E1E5ED",
         "showgrid": true,
         "tickfont": {
          "color": "#4D5663"
         },
         "title": {
          "font": {
           "color": "#4D5663"
          },
          "text": "Count"
         },
         "zerolinecolor": "#E1E5ED"
        }
       }
      },
      "text/html": [
       "<div>                            <div id=\"797d6765-dd27-46b6-a1d9-4ec9c0cf4026\" class=\"plotly-graph-div\" style=\"height:525px; width:100%;\"></div>            <script type=\"text/javascript\">                require([\"plotly\"], function(Plotly) {                    window.PLOTLYENV=window.PLOTLYENV || {};\n",
       "                    window.PLOTLYENV.BASE_URL='https://plot.ly';                                    if (document.getElementById(\"797d6765-dd27-46b6-a1d9-4ec9c0cf4026\")) {                    Plotly.newPlot(                        \"797d6765-dd27-46b6-a1d9-4ec9c0cf4026\",                        [{\"histfunc\":\"count\",\"histnorm\":\"\",\"marker\":{\"color\":\"rgba(255, 153, 51, 1.0)\",\"line\":{\"color\":\"#4D5663\",\"width\":1.3}},\"name\":\"word_count\",\"opacity\":0.8,\"orientation\":\"v\",\"x\":[22,21,23,25,23,23,26,24,27,12,22,12,23,24,35,19,26,32,18,29,22,25,27,40,17,27,40,25,11,32,21,38,17,37,23,32,17,23,27,42,30,20,24,21,15,20,11,12,12,34,29,20,16,23,36,17,22,35,18,30,26,33,34,11,16,32,34,18,26,15,14,39,15,33,17,28,24,23,38,33,14,13,16,33,19,22,19,25,15,17,20,28,34,27,25,27,32,37,32,25,39,37,15,26,35,19,24,15,22,19,15,11,38,32,15,18,26,19,35,22,28,17,39,30,29,28,34,18,17,23,29,38,21,24,33,37,19,24,38,19,26,20,20,27,19,25,30,26,18,16,36,29,26,27,21,30,21,33,38,18,17,22,25,38,18,17,33,18,38,13,27,30,16,25,30,25,23,22,24,35,27,14,26,20,21,21,32,24,24,28,18,37,22,14,17,11,15,26,28,35,15,18,30,25,30,32,11,24,37,22,24,22,33,27,21,35,11,14,22,27,31,14,31,16,27,37,27,27,33,40,25,17,16,17,16,31,18,19,27,18,23,20,23,29,14,18,32,33,36,33,20,19,33,26,23,33,32,19,26,21,25,17,20,18,16,16,28,24,25,34,27,36,27,34,34,26,13,36,31,25,30,21,33,35,19,16,29,27,19,24,33,17,16,14,38,24,16,24,21,28,17,15,17,36,34,26,17,20,36,35,27,24,17,30,29,23,36,34,25,28,36,35,27,26,17,30,35,23,26,28,27,31,29,21,34,24,23,36,21,25,15,14,27,19,19,14,36,32,13,24,12,16,31,15,36,28,17,21,25,24,35,34,19,18,36,17,24,34,25,28,11,27,18,18,18,11,18,38,29,29,37,24,36,29,38,18,32,14,33,36,31,16,31,20,25,33,21,37,29,22,38,29,36,18,12,26,23,20,21,28,36,36,36,19,35,30,22,18,21,40,27,15,34,28,18,37,29,39,35,38,35,36,16,32,27,33,28,28,18,18,37,18,27,30,28,11,38,16,40,26,34,38,39,39,32,26,29,32,30,15,18,23,27,12,31,38,37,36,12,26,28,25,15,14,23,21,12,35,38,13,24,16,24,21,16,33,39,27,29,23,39,18,31,16,21,27,24,22,16,21,18,18,32,13,32,18,38,27,25,23,36,24,29,34,29,14,28,29,26,21,26,29,24,32,21,17,25,24,24,14,22,35,27,26,21,31,14,19,27,19,35,11,25,30,34,28,29,19,24,17,11,28,24,19,24,17,25,18,16,11,20,21,28,12,35,36,25,17,36,17,32,15,22,15,21,20,13,16,27,24,13,13,16,22,39,31,39,37,28,29,33,24,29,32,35,38,38,13,25,25,32,26,23,16,36,23,15,21,20,31,23,26,22,37,27,31,31,14,34,27,27,24,31,23,28,27,32,15,28,33,14,37,29,37,27,34,18,19,30,20,30,19,31,13,22,12,15,20,18,24,20,33,12,18,11,17,39,16,14,24,18,14,33,34,24,17,24,25,27,39,12,22,19,16,20,27,24,30,25,15,34,26,40,35,22,29,11,20,19,25,19,37,38,11,25,24,25,25,26,31,23,29,16,30,19,27,19,19,19,16,24,13,19,33,22,32,25,34,34,15,22,33,25,14,27,16,22,11,18,20,12,18,12,36,35,12,26,30,21,18,23,22,18,21,15,28,20,27,27,22,32,21,16,28,17,37,12,28,16,22,35,30,20,17,19,24,32,22,25,30,22,24,13,33,34,35,22,23,19,18,26,23,32,34,30,24,14,24,29,38,13,38,14,37,26,38,36,27,19,15,28,39,24,16,15,21,31,15,14,30,16,21,16,16,12,20,22,17,31,33,38,30,23,21,29,23,13,14,25,12,33,38,20,31,12,31,29,12,23,30,26,28,17,29,17,26,18,34,30,20,19,14,22,37,34,29,18,12,20,26,31,21,16,20,30,26,27,29,23,23,21,36,34,32,27,42,13,19,21,32,11,17,15,31,24,33,35,34,36,14,24,11,19,24,26,37,16,31,17,18,13,16,34,20,17,29,23,29,19,21,12,30,28,23,23,22,21,14,25,30,21,28,32,16,24,29,21,28,13,28,12,21,32,28,17,23,17,26,22,31,16,35,39,20,13,32,18,25,15,25,15,16,37,18,35,34,32,41,19,19,19,31,12,26,35,18,28,26,24,18,33,29,25,36,26,33,18,30,21,23,32,21,19,24,29,13,17,36,20,17,40,14,26,24,31,25,23,33,27,27,31,35,25,28,11,28,31,22,13,21,25,32,27,17,11,14,37,12,40,26,23,22,37,33,34,35,26,21,15,16,20,28,28,39,28,27,17,26,20,20,14,17,36,25,11,23,21,18,32,14,23,11,25,26,13,24,15,26,30,30,36,35,30,22,36,40,17,26,13,15,21,27,31,35,19,11,25,24,30,31,37,28,33,36,31,39,13,36,22,30,17,32,25,29,21,28,35,30,16,23,24,21,29,20,32,29,25,19,25,23,36,22,15,14,26,23,37,37,16,25,35,13,27,20,13,24,37,20,12,21,24,30,39,31,32,17,35,24,11,34,37,28,20,17,25,39,37,38,14,18,22,36,22,20,14,30,17,35,13,29,28,14,12,22,20,23,15,37,28,27,26,27,29,31,18,32,32,25,35,17,13,25,21,24,27,21,38,36,21,16,20,36,27,19,27,13,29,18,25,24,21,24,32,25,30,14,30,28,23,26,22,32,27,12,26,13,18,28,17,26,37,18,32,40,12,36,29,37,30,22,17,28,26,22,17,24,15,38,12,37,35,18,37,19,18,25,20,16,29,24,26,15,31,24,33,26,19,21,39,17,29,23,27,15,22,24,24,12,16,34,21,25,31,23,21,17,27,18,25,31,17,15,26,24,19,19,13,30,28,27,39,25,22,12,36,20,14,12,33,28,25,27,38,20,23,19,12,23,15,35,25,35,35,19,22,22,36,26,26,38,14,26,36,26,36,12,12,26,12,33,36,20,27,18,24,28,18,26,19,22,11,22,27,38,25,26,29,26,32,15,17,16,25,24,15,28,27,24,32,27,26,29,17,16,33,39,36,11,18,20,22,35,23,15,27,32,32,30,19,30,23,21,24,30,37,30,36,30,21,34,13,21,28,35,16,11,18,15,32,22,19,36,38,39,21,16,16,14,29,21,19,36,24,13,38,11,28,29,26,33,15,30,15,14,29,13,35,21,32,19,14,20,16,29,32,36,34,41,15,38,19,19,34,26,29,39,11,25,13,27,16,18,36,29,34,35,23,24,16,31,18,14,25,37,32,21,15,15,12,24,19,19,34,25,29,23,29,24,30,29,21,23,19,17,21,26,37,11,18,13,15,14,33,13,13,16,15,14,15,31,27,27,34,36,28,30,19,37,12,24,33,25,15,26,17,21,21,37,12,17,31,38,25,11,28,19,13,23,12,28,31,20,20,19,20,26,16,19,39,35,13,13,17,11,23,17,19,25,29,33,28,20,35,34,32,24,24,24,37,14,14,15,31,24,37,18,23,18,38,18,20,13,12,29,20,21,26,28,12,11,15,25,29,22,33,14,25,30,35,18,28,20,22,19,28,23,32,14,37,31,24,15,18,14,15,29,37,33,35,16,20,13,39,29,18,19,15,20,24,39,35,15,16,17,41,27,37,14,23,17,22,34,19,35,22,26,29,21,11,36,22,38,26,25,27,28,21,39,25,24,17,25,35,24,35,20,27,18,28,35,29,21,34,31,20,12,27,17,16,19,15,14,29,30,28,28,29,22,24,18,33,19,19,34,32,17,15,24,16,15,26,20,33,32,38,22,37,26,31,19,28,35,26,19,38,39,23,36,37,12,31,38,36,33,26,33,32,33,29,24,37,23,39,17,20,36,12,32,24,33,15,25,15,38,30,20,28,34,22,11,27,29,38,23,31,36,21,35,21,34,36,17,37,37,31,15,26,25,36,25,21,38,15,16,29,24,17,18,26,27,35,20,22,25,16,21,28,23,23,23,32,31,22,34,21,15,28,22,31,21,33,28,38,32,26,18,22,14,25,35,22,39,14,17,24,39,14,14,37,21,20,27,28,17,22,35,29,28,16,39,21,24,13,29,14,38,23,22,32,15,11,22,26,16,24,33,17,27,23,22,25,23,32,30,28,28,24,37,23,14,33,27,27,17,38,13,16,18,22,12,24,28,31,22,21,29,25,26,21,34,20,28,37,24,33,14,31,13,20,23,12,31,21,23,31,11,17,29,18,23,14,35,17,30,25,24,16,15,23,40,23,39,11,19,14,36,15,35,38,30,38,26,32,24,22,24,27,30,17,25,28,20,14,21,25,29,27,27,36,31,16,19,28,16,16,21,24,15,30,26,28,29,23,21,13,31,21,27,36,12,36,27,18,21,29,15,26,36,27,23,14,23,32,31,14,38,36,19,21,39,28,28,14,19,26,25,24,30,17,27,12,19,18,18,36,25,25,27,31,17,15,36,13,23,16,18,38,23,25,16,15,31,31,29,17,13,31,26,39,20,28,12,29,32,20,30,31,30,16,21,14,18,20,16,29,23,31,27,12,30,22,35,34,29,32,29,26,17,24,37,19,21,28,35,29,20,28,33,31,34,25,28,31,17,26,12,31,37,30,27,24,24,14,32,20,19,26,16,19,30,30,13,31,26,24,33,26,27,26,23,27,11,24,36,26,25,35,22,32,33,13,17,33,29,21,18,11,33,23,15,28,32,25,37,39,17,21,21,28,16,20,36,35,38,28,30,23],\"type\":\"histogram\"}],                        {\"barmode\":\"overlay\",\"legend\":{\"bgcolor\":\"#F5F6F9\",\"font\":{\"color\":\"#4D5663\"}},\"paper_bgcolor\":\"#F5F6F9\",\"plot_bgcolor\":\"#F5F6F9\",\"template\":{\"data\":{\"barpolar\":[{\"marker\":{\"line\":{\"color\":\"#E5ECF6\",\"width\":0.5},\"pattern\":{\"fillmode\":\"overlay\",\"size\":10,\"solidity\":0.2}},\"type\":\"barpolar\"}],\"bar\":[{\"error_x\":{\"color\":\"#2a3f5f\"},\"error_y\":{\"color\":\"#2a3f5f\"},\"marker\":{\"line\":{\"color\":\"#E5ECF6\",\"width\":0.5},\"pattern\":{\"fillmode\":\"overlay\",\"size\":10,\"solidity\":0.2}},\"type\":\"bar\"}],\"carpet\":[{\"aaxis\":{\"endlinecolor\":\"#2a3f5f\",\"gridcolor\":\"white\",\"linecolor\":\"white\",\"minorgridcolor\":\"white\",\"startlinecolor\":\"#2a3f5f\"},\"baxis\":{\"endlinecolor\":\"#2a3f5f\",\"gridcolor\":\"white\",\"linecolor\":\"white\",\"minorgridcolor\":\"white\",\"startlinecolor\":\"#2a3f5f\"},\"type\":\"carpet\"}],\"choropleth\":[{\"colorbar\":{\"outlinewidth\":0,\"ticks\":\"\"},\"type\":\"choropleth\"}],\"contourcarpet\":[{\"colorbar\":{\"outlinewidth\":0,\"ticks\":\"\"},\"type\":\"contourcarpet\"}],\"contour\":[{\"colorbar\":{\"outlinewidth\":0,\"ticks\":\"\"},\"colorscale\":[[0.0,\"#0d0887\"],[0.1111111111111111,\"#46039f\"],[0.2222222222222222,\"#7201a8\"],[0.3333333333333333,\"#9c179e\"],[0.4444444444444444,\"#bd3786\"],[0.5555555555555556,\"#d8576b\"],[0.6666666666666666,\"#ed7953\"],[0.7777777777777778,\"#fb9f3a\"],[0.8888888888888888,\"#fdca26\"],[1.0,\"#f0f921\"]],\"type\":\"contour\"}],\"heatmapgl\":[{\"colorbar\":{\"outlinewidth\":0,\"ticks\":\"\"},\"colorscale\":[[0.0,\"#0d0887\"],[0.1111111111111111,\"#46039f\"],[0.2222222222222222,\"#7201a8\"],[0.3333333333333333,\"#9c179e\"],[0.4444444444444444,\"#bd3786\"],[0.5555555555555556,\"#d8576b\"],[0.6666666666666666,\"#ed7953\"],[0.7777777777777778,\"#fb9f3a\"],[0.8888888888888888,\"#fdca26\"],[1.0,\"#f0f921\"]],\"type\":\"heatmapgl\"}],\"heatmap\":[{\"colorbar\":{\"outlinewidth\":0,\"ticks\":\"\"},\"colorscale\":[[0.0,\"#0d0887\"],[0.1111111111111111,\"#46039f\"],[0.2222222222222222,\"#7201a8\"],[0.3333333333333333,\"#9c179e\"],[0.4444444444444444,\"#bd3786\"],[0.5555555555555556,\"#d8576b\"],[0.6666666666666666,\"#ed7953\"],[0.7777777777777778,\"#fb9f3a\"],[0.8888888888888888,\"#fdca26\"],[1.0,\"#f0f921\"]],\"type\":\"heatmap\"}],\"histogram2dcontour\":[{\"colorbar\":{\"outlinewidth\":0,\"ticks\":\"\"},\"colorscale\":[[0.0,\"#0d0887\"],[0.1111111111111111,\"#46039f\"],[0.2222222222222222,\"#7201a8\"],[0.3333333333333333,\"#9c179e\"],[0.4444444444444444,\"#bd3786\"],[0.5555555555555556,\"#d8576b\"],[0.6666666666666666,\"#ed7953\"],[0.7777777777777778,\"#fb9f3a\"],[0.8888888888888888,\"#fdca26\"],[1.0,\"#f0f921\"]],\"type\":\"histogram2dcontour\"}],\"histogram2d\":[{\"colorbar\":{\"outlinewidth\":0,\"ticks\":\"\"},\"colorscale\":[[0.0,\"#0d0887\"],[0.1111111111111111,\"#46039f\"],[0.2222222222222222,\"#7201a8\"],[0.3333333333333333,\"#9c179e\"],[0.4444444444444444,\"#bd3786\"],[0.5555555555555556,\"#d8576b\"],[0.6666666666666666,\"#ed7953\"],[0.7777777777777778,\"#fb9f3a\"],[0.8888888888888888,\"#fdca26\"],[1.0,\"#f0f921\"]],\"type\":\"histogram2d\"}],\"histogram\":[{\"marker\":{\"pattern\":{\"fillmode\":\"overlay\",\"size\":10,\"solidity\":0.2}},\"type\":\"histogram\"}],\"mesh3d\":[{\"colorbar\":{\"outlinewidth\":0,\"ticks\":\"\"},\"type\":\"mesh3d\"}],\"parcoords\":[{\"line\":{\"colorbar\":{\"outlinewidth\":0,\"ticks\":\"\"}},\"type\":\"parcoords\"}],\"pie\":[{\"automargin\":true,\"type\":\"pie\"}],\"scatter3d\":[{\"line\":{\"colorbar\":{\"outlinewidth\":0,\"ticks\":\"\"}},\"marker\":{\"colorbar\":{\"outlinewidth\":0,\"ticks\":\"\"}},\"type\":\"scatter3d\"}],\"scattercarpet\":[{\"marker\":{\"colorbar\":{\"outlinewidth\":0,\"ticks\":\"\"}},\"type\":\"scattercarpet\"}],\"scattergeo\":[{\"marker\":{\"colorbar\":{\"outlinewidth\":0,\"ticks\":\"\"}},\"type\":\"scattergeo\"}],\"scattergl\":[{\"marker\":{\"colorbar\":{\"outlinewidth\":0,\"ticks\":\"\"}},\"type\":\"scattergl\"}],\"scattermapbox\":[{\"marker\":{\"colorbar\":{\"outlinewidth\":0,\"ticks\":\"\"}},\"type\":\"scattermapbox\"}],\"scatterpolargl\":[{\"marker\":{\"colorbar\":{\"outlinewidth\":0,\"ticks\":\"\"}},\"type\":\"scatterpolargl\"}],\"scatterpolar\":[{\"marker\":{\"colorbar\":{\"outlinewidth\":0,\"ticks\":\"\"}},\"type\":\"scatterpolar\"}],\"scatter\":[{\"fillpattern\":{\"fillmode\":\"overlay\",\"size\":10,\"solidity\":0.2},\"type\":\"scatter\"}],\"scatterternary\":[{\"marker\":{\"colorbar\":{\"outlinewidth\":0,\"ticks\":\"\"}},\"type\":\"scatterternary\"}],\"surface\":[{\"colorbar\":{\"outlinewidth\":0,\"ticks\":\"\"},\"colorscale\":[[0.0,\"#0d0887\"],[0.1111111111111111,\"#46039f\"],[0.2222222222222222,\"#7201a8\"],[0.3333333333333333,\"#9c179e\"],[0.4444444444444444,\"#bd3786\"],[0.5555555555555556,\"#d8576b\"],[0.6666666666666666,\"#ed7953\"],[0.7777777777777778,\"#fb9f3a\"],[0.8888888888888888,\"#fdca26\"],[1.0,\"#f0f921\"]],\"type\":\"surface\"}],\"table\":[{\"cells\":{\"fill\":{\"color\":\"#EBF0F8\"},\"line\":{\"color\":\"white\"}},\"header\":{\"fill\":{\"color\":\"#C8D4E3\"},\"line\":{\"color\":\"white\"}},\"type\":\"table\"}]},\"layout\":{\"annotationdefaults\":{\"arrowcolor\":\"#2a3f5f\",\"arrowhead\":0,\"arrowwidth\":1},\"autotypenumbers\":\"strict\",\"coloraxis\":{\"colorbar\":{\"outlinewidth\":0,\"ticks\":\"\"}},\"colorscale\":{\"diverging\":[[0,\"#8e0152\"],[0.1,\"#c51b7d\"],[0.2,\"#de77ae\"],[0.3,\"#f1b6da\"],[0.4,\"#fde0ef\"],[0.5,\"#f7f7f7\"],[0.6,\"#e6f5d0\"],[0.7,\"#b8e186\"],[0.8,\"#7fbc41\"],[0.9,\"#4d9221\"],[1,\"#276419\"]],\"sequential\":[[0.0,\"#0d0887\"],[0.1111111111111111,\"#46039f\"],[0.2222222222222222,\"#7201a8\"],[0.3333333333333333,\"#9c179e\"],[0.4444444444444444,\"#bd3786\"],[0.5555555555555556,\"#d8576b\"],[0.6666666666666666,\"#ed7953\"],[0.7777777777777778,\"#fb9f3a\"],[0.8888888888888888,\"#fdca26\"],[1.0,\"#f0f921\"]],\"sequentialminus\":[[0.0,\"#0d0887\"],[0.1111111111111111,\"#46039f\"],[0.2222222222222222,\"#7201a8\"],[0.3333333333333333,\"#9c179e\"],[0.4444444444444444,\"#bd3786\"],[0.5555555555555556,\"#d8576b\"],[0.6666666666666666,\"#ed7953\"],[0.7777777777777778,\"#fb9f3a\"],[0.8888888888888888,\"#fdca26\"],[1.0,\"#f0f921\"]]},\"colorway\":[\"#636efa\",\"#EF553B\",\"#00cc96\",\"#ab63fa\",\"#FFA15A\",\"#19d3f3\",\"#FF6692\",\"#B6E880\",\"#FF97FF\",\"#FECB52\"],\"font\":{\"color\":\"#2a3f5f\"},\"geo\":{\"bgcolor\":\"white\",\"lakecolor\":\"white\",\"landcolor\":\"#E5ECF6\",\"showlakes\":true,\"showland\":true,\"subunitcolor\":\"white\"},\"hoverlabel\":{\"align\":\"left\"},\"hovermode\":\"closest\",\"mapbox\":{\"style\":\"light\"},\"paper_bgcolor\":\"white\",\"plot_bgcolor\":\"#E5ECF6\",\"polar\":{\"angularaxis\":{\"gridcolor\":\"white\",\"linecolor\":\"white\",\"ticks\":\"\"},\"bgcolor\":\"#E5ECF6\",\"radialaxis\":{\"gridcolor\":\"white\",\"linecolor\":\"white\",\"ticks\":\"\"}},\"scene\":{\"xaxis\":{\"backgroundcolor\":\"#E5ECF6\",\"gridcolor\":\"white\",\"gridwidth\":2,\"linecolor\":\"white\",\"showbackground\":true,\"ticks\":\"\",\"zerolinecolor\":\"white\"},\"yaxis\":{\"backgroundcolor\":\"#E5ECF6\",\"gridcolor\":\"white\",\"gridwidth\":2,\"linecolor\":\"white\",\"showbackground\":true,\"ticks\":\"\",\"zerolinecolor\":\"white\"},\"zaxis\":{\"backgroundcolor\":\"#E5ECF6\",\"gridcolor\":\"white\",\"gridwidth\":2,\"linecolor\":\"white\",\"showbackground\":true,\"ticks\":\"\",\"zerolinecolor\":\"white\"}},\"shapedefaults\":{\"line\":{\"color\":\"#2a3f5f\"}},\"ternary\":{\"aaxis\":{\"gridcolor\":\"white\",\"linecolor\":\"white\",\"ticks\":\"\"},\"baxis\":{\"gridcolor\":\"white\",\"linecolor\":\"white\",\"ticks\":\"\"},\"bgcolor\":\"#E5ECF6\",\"caxis\":{\"gridcolor\":\"white\",\"linecolor\":\"white\",\"ticks\":\"\"}},\"title\":{\"x\":0.05},\"xaxis\":{\"automargin\":true,\"gridcolor\":\"white\",\"linecolor\":\"white\",\"ticks\":\"\",\"title\":{\"standoff\":15},\"zerolinecolor\":\"white\",\"zerolinewidth\":2},\"yaxis\":{\"automargin\":true,\"gridcolor\":\"white\",\"linecolor\":\"white\",\"ticks\":\"\",\"title\":{\"standoff\":15},\"zerolinecolor\":\"white\",\"zerolinewidth\":2}}},\"title\":{\"font\":{\"color\":\"#4D5663\"},\"text\":\"Distribution of Word Count\"},\"xaxis\":{\"gridcolor\":\"#E1E5ED\",\"showgrid\":true,\"tickfont\":{\"color\":\"#4D5663\"},\"title\":{\"font\":{\"color\":\"#4D5663\"},\"text\":\"Word Count\"},\"zerolinecolor\":\"#E1E5ED\"},\"yaxis\":{\"gridcolor\":\"#E1E5ED\",\"showgrid\":true,\"tickfont\":{\"color\":\"#4D5663\"},\"title\":{\"font\":{\"color\":\"#4D5663\"},\"text\":\"Count\"},\"zerolinecolor\":\"#E1E5ED\"}},                        {\"showLink\": true, \"linkText\": \"Export to plot.ly\", \"plotlyServerURL\": \"https://plot.ly\", \"responsive\": true}                    ).then(function(){\n",
       "                            \n",
       "var gd = document.getElementById('797d6765-dd27-46b6-a1d9-4ec9c0cf4026');\n",
       "var x = new MutationObserver(function (mutations, observer) {{\n",
       "        var display = window.getComputedStyle(gd).display;\n",
       "        if (!display || display === 'none') {{\n",
       "            console.log([gd, 'removed!']);\n",
       "            Plotly.purge(gd);\n",
       "            observer.disconnect();\n",
       "        }}\n",
       "}});\n",
       "\n",
       "// Listen for the removal of the full notebook cells\n",
       "var notebookContainer = gd.closest('#notebook-container');\n",
       "if (notebookContainer) {{\n",
       "    x.observe(notebookContainer, {childList: true});\n",
       "}}\n",
       "\n",
       "// Listen for the clearing of the current output cell\n",
       "var outputEl = gd.closest('.output');\n",
       "if (outputEl) {{\n",
       "    x.observe(outputEl, {childList: true});\n",
       "}}\n",
       "\n",
       "                        })                };                });            </script>        </div>"
      ]
     },
     "metadata": {},
     "output_type": "display_data"
    }
   ],
   "source": [
    "df['word_count'].iplot(kind = 'hist', xTitle = 'Word Count', yTitle = 'Count', title = \"Distribution of Word Count\")"
   ]
  },
  {
   "cell_type": "code",
   "execution_count": 38,
   "metadata": {},
   "outputs": [
    {
     "data": {
      "application/vnd.plotly.v1+json": {
       "config": {
        "linkText": "Export to plot.ly",
        "plotlyServerURL": "https://plot.ly",
        "showLink": true
       },
       "data": [
        {
         "histfunc": "count",
         "histnorm": "",
         "marker": {
          "color": "rgba(255, 153, 51, 1.0)",
          "line": {
           "color": "#4D5663",
           "width": 1.3
          }
         },
         "name": "avg_word_length",
         "nbinsx": 50,
         "opacity": 0.8,
         "orientation": "v",
         "type": "histogram",
         "x": [
          5.5,
          3.5238095238095237,
          5.434782608695652,
          5.52,
          4.739130434782608,
          5.217391304347826,
          6.115384615384615,
          4.708333333333333,
          7.444444444444445,
          3.1666666666666665,
          4.545454545454546,
          4.25,
          5.043478260869565,
          6.166666666666667,
          4.6,
          5.2105263157894735,
          6.269230769230769,
          4.625,
          4.833333333333333,
          5.172413793103448,
          5.454545454545454,
          5.96,
          5.074074074074074,
          5.025,
          3,
          4.62962962962963,
          4.375,
          5.72,
          3.5454545454545454,
          7.125,
          3.9523809523809526,
          4.684210526315789,
          5.882352941176471,
          4.756756756756757,
          4.130434782608695,
          6.46875,
          5.0588235294117645,
          5.173913043478261,
          4.555555555555555,
          4.190476190476191,
          5.7,
          5.75,
          5.083333333333333,
          6.190476190476191,
          4.266666666666667,
          4.3,
          4.909090909090909,
          4.333333333333333,
          3.0833333333333335,
          6.764705882352941,
          3.5172413793103448,
          5.05,
          4.5625,
          5.869565217391305,
          5.416666666666667,
          4.411764705882353,
          5.409090909090909,
          5.714285714285714,
          5.222222222222222,
          5.433333333333334,
          4.5,
          4.818181818181818,
          5.529411764705882,
          7.181818181818182,
          4.5,
          5.5625,
          5.117647058823529,
          7.166666666666667,
          7,
          5.333333333333333,
          4.857142857142857,
          4.846153846153846,
          4.266666666666667,
          5.515151515151516,
          3.823529411764706,
          5.857142857142857,
          4.625,
          4.739130434782608,
          3.973684210526316,
          4.606060606060606,
          6.642857142857143,
          4.538461538461538,
          3.9375,
          6.121212121212121,
          5.157894736842105,
          5.2272727272727275,
          5.578947368421052,
          3.84,
          5.533333333333333,
          6.176470588235294,
          4.75,
          6.178571428571429,
          5.205882352941177,
          5.333333333333333,
          5.48,
          5.7407407407407405,
          5.84375,
          4.135135135135135,
          4.0625,
          4.52,
          4.897435897435898,
          5.081081081081081,
          4.866666666666666,
          5.269230769230769,
          5.571428571428571,
          4.157894736842105,
          5.791666666666667,
          4.733333333333333,
          4.7727272727272725,
          6,
          5.466666666666667,
          4.545454545454546,
          3.526315789473684,
          4.8125,
          5.466666666666667,
          5.944444444444445,
          3.923076923076923,
          4.631578947368421,
          4.628571428571429,
          4.590909090909091,
          5.571428571428571,
          3.6470588235294117,
          5.282051282051282,
          5.633333333333334,
          4.517241379310345,
          5.571428571428571,
          5.176470588235294,
          5.277777777777778,
          5.470588235294118,
          3.782608695652174,
          4,
          5.973684210526316,
          4.9523809523809526,
          6.25,
          5.909090909090909,
          4.5675675675675675,
          5.105263157894737,
          5.583333333333333,
          6.394736842105263,
          5.578947368421052,
          5.115384615384615,
          5.95,
          5.05,
          5.518518518518518,
          5.368421052631579,
          5.92,
          5.233333333333333,
          5.076923076923077,
          6.277777777777778,
          4.5,
          5.138888888888889,
          5.344827586206897,
          5.153846153846154,
          5.222222222222222,
          5.0476190476190474,
          5.833333333333333,
          7.142857142857143,
          5.696969696969697,
          5.842105263157895,
          4.277777777777778,
          5.294117647058823,
          4.818181818181818,
          4.68,
          5.7631578947368425,
          5,
          3.8823529411764706,
          3.5757575757575757,
          5.777777777777778,
          4.552631578947368,
          6.461538461538462,
          6.037037037037037,
          6.1,
          5.9375,
          5.24,
          5.866666666666666,
          5.52,
          5.043478260869565,
          4.363636363636363,
          4.291666666666667,
          5.0285714285714285,
          4.62962962962963,
          4.857142857142857,
          6.384615384615385,
          6.05,
          4.428571428571429,
          8.285714285714286,
          4.15625,
          4.625,
          5,
          4.285714285714286,
          4.333333333333333,
          5.216216216216216,
          6.454545454545454,
          4.428571428571429,
          6.352941176470588,
          6.454545454545454,
          4.533333333333333,
          5.923076923076923,
          4.607142857142857,
          5.057142857142857,
          4.666666666666667,
          7.166666666666667,
          5.333333333333333,
          5.88,
          5.166666666666667,
          5.09375,
          3.4545454545454546,
          4.75,
          5.756756756756757,
          6.818181818181818,
          6.5,
          5.045454545454546,
          3.878787878787879,
          4.814814814814815,
          6.0476190476190474,
          5.628571428571429,
          3.1818181818181817,
          6.071428571428571,
          4.2727272727272725,
          4.888888888888889,
          4.290322580645161,
          5.142857142857143,
          4.32258064516129,
          5.25,
          4.185185185185185,
          3.4864864864864864,
          5.407407407407407,
          4,
          4.03030303030303,
          4.35,
          6.04,
          4.117647058823529,
          7.1875,
          4.9411764705882355,
          5.5625,
          5.516129032258065,
          3.9444444444444446,
          4.157894736842105,
          4.111111111111111,
          4,
          3.652173913043478,
          4.75,
          4.565217391304348,
          4.551724137931035,
          4.857142857142857,
          4.333333333333333,
          5.5,
          6.121212121212121,
          4.805555555555555,
          5.909090909090909,
          4.8,
          4.052631578947368,
          4.818181818181818,
          5.884615384615385,
          4.217391304347826,
          6.696969696969697,
          6.03125,
          3.5789473684210527,
          5.230769230769231,
          5.523809523809524,
          6.32,
          4.117647058823529,
          6.05,
          4.166666666666667,
          5.375,
          4.375,
          4.892857142857143,
          4.041666666666667,
          4.92,
          4.411764705882353,
          4.7407407407407405,
          5.611111111111111,
          4.518518518518518,
          5.823529411764706,
          4.352941176470588,
          4.461538461538462,
          5.384615384615385,
          5.472222222222222,
          4.387096774193548,
          4.68,
          6.033333333333333,
          7.380952380952381,
          6,
          5.457142857142857,
          5.578947368421052,
          5.9375,
          5.9655172413793105,
          4.37037037037037,
          4.2631578947368425,
          5.708333333333333,
          6.0606060606060606,
          6.294117647058823,
          6.25,
          4.428571428571429,
          4.184210526315789,
          4.416666666666667,
          6.0625,
          5.833333333333333,
          5.095238095238095,
          5.25,
          6.823529411764706,
          6.133333333333334,
          8.941176470588236,
          6.111111111111111,
          4.117647058823529,
          5.6923076923076925,
          3.588235294117647,
          5.55,
          5.305555555555555,
          6.371428571428571,
          5.666666666666667,
          3.8333333333333335,
          4.764705882352941,
          3.8666666666666667,
          5.655172413793103,
          3.8260869565217392,
          4.194444444444445,
          5.176470588235294,
          4,
          5.428571428571429,
          4.361111111111111,
          5.457142857142857,
          5.444444444444445,
          5.576923076923077,
          4.705882352941177,
          4.7,
          5.285714285714286,
          6.6521739130434785,
          3.1538461538461537,
          4.428571428571429,
          5.555555555555555,
          4.193548387096774,
          4.793103448275862,
          5,
          5.411764705882353,
          4.25,
          6.608695652173913,
          3.9444444444444446,
          4.904761904761905,
          5.08,
          5.066666666666666,
          6.071428571428571,
          6.074074074074074,
          5.052631578947368,
          5.631578947368421,
          3.5,
          6.111111111111111,
          4.125,
          3.8461538461538463,
          5.958333333333333,
          4.833333333333333,
          5.875,
          5.193548387096774,
          4.533333333333333,
          5.777777777777778,
          7.214285714285714,
          5.235294117647059,
          4.238095238095238,
          5.76,
          3.6666666666666665,
          5.171428571428572,
          3.8529411764705883,
          5.526315789473684,
          5.555555555555555,
          4.055555555555555,
          6.117647058823529,
          5.583333333333333,
          4.823529411764706,
          4.68,
          4.035714285714286,
          5,
          5.7407407407407405,
          6.222222222222222,
          5.5,
          6.111111111111111,
          4.090909090909091,
          6.388888888888889,
          3.5,
          5.379310344827586,
          4.586206896551724,
          4.783783783783784,
          5.458333333333333,
          5.138888888888889,
          4.9655172413793105,
          5.842105263157895,
          4.333333333333333,
          5.71875,
          6.857142857142857,
          5.242424242424242,
          6.5,
          4.580645161290323,
          4.9375,
          5.709677419354839,
          4.5,
          5.32,
          3.909090909090909,
          5.571428571428571,
          4.324324324324325,
          5.896551724137931,
          4.863636363636363,
          5.5,
          5.758620689655173,
          5.416666666666667,
          6.055555555555555,
          5.083333333333333,
          5.3076923076923075,
          4.217391304347826,
          5.9,
          4.0476190476190474,
          6.035714285714286,
          3.9166666666666665,
          5,
          4.083333333333333,
          6.105263157894737,
          4.371428571428571,
          5.766666666666667,
          5.454545454545454,
          5.611111111111111,
          4.523809523809524,
          3.75,
          5.7407407407407405,
          5.2,
          4.588235294117647,
          4.25,
          6.055555555555555,
          5.297297297297297,
          6.620689655172414,
          5.794871794871795,
          4.885714285714286,
          5.447368421052632,
          4,
          5.083333333333333,
          4.3125,
          5.40625,
          5.962962962962963,
          5.03030303030303,
          6.035714285714286,
          5.25,
          7.222222222222222,
          5.444444444444445,
          4.378378378378378,
          7,
          4.111111111111111,
          6,
          4.678571428571429,
          3.6363636363636362,
          5.184210526315789,
          5.75,
          4.4,
          5.576923076923077,
          6.0588235294117645,
          5.394736842105263,
          5.3076923076923075,
          4.410256410256411,
          3.65625,
          4.3076923076923075,
          5.620689655172414,
          4.125,
          4.8,
          5.133333333333334,
          3.888888888888889,
          6.086956521739131,
          6,
          7.25,
          4.258064516129032,
          4.315789473684211,
          3.2972972972972974,
          5.388888888888889,
          5.166666666666667,
          6.076923076923077,
          6.464285714285714,
          5.36,
          3.7333333333333334,
          4.785714285714286,
          4.782608695652174,
          5.142857142857143,
          5.75,
          4.571428571428571,
          5.447368421052632,
          4.615384615384615,
          5.166666666666667,
          5.375,
          6.125,
          5.428571428571429,
          4.375,
          4.181818181818182,
          4.487179487179487,
          5.518518518518518,
          5.310344827586207,
          5.478260869565218,
          3.8974358974358974,
          4.444444444444445,
          4.709677419354839,
          5.25,
          5.571428571428571,
          5.222222222222222,
          4.208333333333333,
          4.7727272727272725,
          4.3125,
          4.857142857142857,
          4.777777777777778,
          4.611111111111111,
          5.78125,
          6.384615384615385,
          5.34375,
          5.111111111111111,
          6.052631578947368,
          4.777777777777778,
          5.4,
          3.391304347826087,
          5.944444444444445,
          5.708333333333333,
          5.275862068965517,
          7.147058823529412,
          4.0344827586206895,
          6.571428571428571,
          4.214285714285714,
          4.724137931034483,
          6.153846153846154,
          7.333333333333333,
          5.153846153846154,
          5.551724137931035,
          5.166666666666667,
          5.59375,
          3.8095238095238093,
          5.176470588235294,
          6.2,
          5.041666666666667,
          3.875,
          4.642857142857143,
          6.409090909090909,
          5.714285714285714,
          4.925925925925926,
          5.230769230769231,
          5.523809523809524,
          4.935483870967742,
          6.857142857142857,
          4.368421052631579,
          5.111111111111111,
          4.7894736842105265,
          4.314285714285714,
          5.090909090909091,
          3.88,
          5.133333333333334,
          5.294117647058823,
          4.928571428571429,
          6.448275862068965,
          5.7368421052631575,
          4.083333333333333,
          6.529411764705882,
          4.545454545454546,
          4.571428571428571,
          4.625,
          4.105263157894737,
          4.166666666666667,
          4.235294117647059,
          4.2,
          4.222222222222222,
          5.125,
          6.181818181818182,
          5.15,
          5.0476190476190474,
          5.214285714285714,
          5.5,
          5.8,
          3.9722222222222223,
          6.2,
          4.529411764705882,
          5.111111111111111,
          6.294117647058823,
          4.90625,
          5,
          5.090909090909091,
          5.666666666666667,
          5.190476190476191,
          6.8,
          5,
          4.625,
          5.222222222222222,
          4.458333333333333,
          5.153846153846154,
          4.230769230769231,
          4.375,
          4.7727272727272725,
          4.538461538461538,
          4.387096774193548,
          3.923076923076923,
          6.675675675675675,
          6.428571428571429,
          5.724137931034483,
          4.212121212121212,
          4.75,
          6.068965517241379,
          6.125,
          4.514285714285714,
          5.842105263157895,
          4.605263157894737,
          3.5384615384615383,
          6.52,
          4.04,
          4.8125,
          6,
          5.043478260869565,
          4.4375,
          5.305555555555555,
          4.260869565217392,
          4.466666666666667,
          6.857142857142857,
          5.3,
          5.258064516129032,
          5,
          6.038461538461538,
          5.545454545454546,
          5.513513513513513,
          5.851851851851852,
          5.483870967741935,
          5.580645161290323,
          4.642857142857143,
          4.882352941176471,
          4.814814814814815,
          5.518518518518518,
          5.5,
          4.709677419354839,
          5,
          6.357142857142857,
          5.888888888888889,
          5.65625,
          5.333333333333333,
          5.285714285714286,
          5.121212121212121,
          4.785714285714286,
          6.108108108108108,
          6.413793103448276,
          5.675675675675675,
          5.074074074074074,
          4.588235294117647,
          5.666666666666667,
          6.157894736842105,
          4.166666666666667,
          6.9,
          4.433333333333334,
          4.947368421052632,
          6.258064516129032,
          5.461538461538462,
          3.9545454545454546,
          6,
          5.133333333333334,
          7.05,
          5.555555555555555,
          4.208333333333333,
          5.65,
          5.757575757575758,
          4,
          4.5,
          5.7272727272727275,
          3.9411764705882355,
          4.641025641025641,
          4.5625,
          4.928571428571429,
          4.125,
          4.111111111111111,
          3.4285714285714284,
          4,
          5.0588235294117645,
          5.25,
          5.235294117647059,
          4.458333333333333,
          5.2,
          4.333333333333333,
          4.615384615384615,
          4.5,
          4.7727272727272725,
          6.052631578947368,
          5.3125,
          5.6,
          5.2592592592592595,
          5.125,
          5.466666666666667,
          7.12,
          4.866666666666666,
          5.735294117647059,
          6.6923076923076925,
          4.55,
          4.8,
          5.363636363636363,
          4.827586206896552,
          5.181818181818182,
          5.25,
          4.368421052631579,
          4.28,
          4.684210526315789,
          6.621621621621622,
          4.631578947368421,
          4.090909090909091,
          4.68,
          6.416666666666667,
          6.64,
          5.84,
          5.384615384615385,
          4.387096774193548,
          5,
          6.0344827586206895,
          4.875,
          5.3,
          5.2105263157894735,
          4.7407407407407405,
          4.157894736842105,
          5.421052631578948,
          4.2105263157894735,
          5.25,
          4.791666666666667,
          4.3076923076923075,
          3.6315789473684212,
          5.090909090909091,
          4.363636363636363,
          5.40625,
          4.8,
          4.9411764705882355,
          3.9411764705882355,
          5.266666666666667,
          5.954545454545454,
          4.2727272727272725,
          5.92,
          5.285714285714286,
          4.444444444444445,
          5.1875,
          4.954545454545454,
          5,
          6.055555555555555,
          4.85,
          4.083333333333333,
          5.777777777777778,
          4,
          4.555555555555555,
          5.571428571428571,
          4.083333333333333,
          3.923076923076923,
          4.466666666666667,
          4.666666666666667,
          5.555555555555555,
          5.608695652173913,
          7.2272727272727275,
          3.7777777777777777,
          5.285714285714286,
          4.666666666666667,
          6.071428571428571,
          5.2,
          5.592592592592593,
          4.666666666666667,
          6.454545454545454,
          4.625,
          4.428571428571429,
          6.3125,
          5.678571428571429,
          4.529411764705882,
          4.1891891891891895,
          5.166666666666667,
          5.392857142857143,
          4.9375,
          5.954545454545454,
          5.228571428571429,
          4.466666666666667,
          5.9,
          6.647058823529412,
          5.105263157894737,
          5.541666666666667,
          6.4375,
          7.363636363636363,
          4.52,
          4.466666666666667,
          4.090909090909091,
          5.791666666666667,
          5.923076923076923,
          6.03030303030303,
          6.323529411764706,
          6.3428571428571425,
          4.545454545454546,
          5.217391304347826,
          7.105263157894737,
          5.777777777777778,
          4.038461538461538,
          6.217391304347826,
          6.3125,
          3.9411764705882355,
          4.733333333333333,
          3.9583333333333335,
          4.5,
          3.9583333333333335,
          5,
          4.578947368421052,
          4.769230769230769,
          6.2631578947368425,
          3.7857142857142856,
          4.45945945945946,
          5.576923076923077,
          3.736842105263158,
          4.361111111111111,
          5.7407407407407405,
          3.8947368421052633,
          3.466666666666667,
          6.428571428571429,
          5.051282051282051,
          5.25,
          4.5625,
          5.733333333333333,
          6.285714285714286,
          6.935483870967742,
          3.933333333333333,
          7.357142857142857,
          3.7,
          5.5,
          5.238095238095238,
          6,
          5.75,
          5.666666666666667,
          3.4,
          6.2727272727272725,
          4.352941176470588,
          4.806451612903226,
          5.757575757575758,
          5.921052631578948,
          6.066666666666666,
          6.695652173913044,
          4.428571428571429,
          5.413793103448276,
          5.260869565217392,
          3.3846153846153846,
          4,
          6.24,
          5.5,
          6.454545454545454,
          6.842105263157895,
          4.3,
          5.096774193548387,
          4.416666666666667,
          5.354838709677419,
          4.448275862068965,
          4.916666666666667,
          4.304347826086956,
          4.6,
          4.884615384615385,
          6.107142857142857,
          5.0588235294117645,
          4.172413793103448,
          5.294117647058823,
          4.423076923076923,
          6.333333333333333,
          5.382352941176471,
          4.233333333333333,
          5.4,
          4.947368421052632,
          3.9285714285714284,
          4.863636363636363,
          5.486486486486487,
          6.176470588235294,
          5.862068965517241,
          5.777777777777778,
          5.416666666666667,
          5.05,
          4.038461538461538,
          5.967741935483871,
          5.333333333333333,
          3.5,
          4.55,
          5.333333333333333,
          5.576923076923077,
          4.444444444444445,
          4.241379310344827,
          5.869565217391305,
          4.391304347826087,
          5.380952380952381,
          4.888888888888889,
          5.176470588235294,
          4.84375,
          4.074074074074074,
          3.857142857142857,
          4.615384615384615,
          5.105263157894737,
          4.095238095238095,
          5.625,
          5.090909090909091,
          3.3529411764705883,
          4.466666666666667,
          6.096774193548387,
          4.666666666666667,
          5.484848484848484,
          5.4,
          4.0588235294117645,
          4.25,
          5.642857142857143,
          5.208333333333333,
          4.7272727272727275,
          6.368421052631579,
          4.416666666666667,
          7.8076923076923075,
          4.1891891891891895,
          4.375,
          5.032258064516129,
          5.352941176470588,
          4.666666666666667,
          4.769230769230769,
          5.8125,
          4.205882352941177,
          4.5,
          6,
          6.827586206896552,
          4.304347826086956,
          4.896551724137931,
          3.6315789473684212,
          6.142857142857143,
          5.75,
          5.833333333333333,
          4.392857142857143,
          5.869565217391305,
          4.739130434782608,
          6,
          4.428571428571429,
          5.5,
          5.24,
          5.233333333333333,
          4.714285714285714,
          4.535714285714286,
          5.8125,
          4.625,
          4.5,
          4.862068965517241,
          4.285714285714286,
          5.535714285714286,
          4.923076923076923,
          5.25,
          4.416666666666667,
          5,
          4.40625,
          4.5,
          5.294117647058823,
          5.782608695652174,
          4.235294117647059,
          4.653846153846154,
          4.590909090909091,
          5.483870967741935,
          5.125,
          5.628571428571429,
          5.897435897435898,
          4.45,
          4.6923076923076925,
          5.78125,
          5.611111111111111,
          5.24,
          4.266666666666667,
          4.48,
          5.2,
          5.625,
          5.54054054054054,
          4.555555555555555,
          5.685714285714286,
          4.823529411764706,
          4.125,
          4.2926829268292686,
          4.842105263157895,
          5.473684210526316,
          4.368421052631579,
          6.290322580645161,
          4.083333333333333,
          4.846153846153846,
          4.257142857142857,
          4.722222222222222,
          6.357142857142857,
          5.1923076923076925,
          3.625,
          6.166666666666667,
          4,
          6.103448275862069,
          4.84,
          5.805555555555555,
          5,
          5.03030303030303,
          5.055555555555555,
          5.433333333333334,
          5.142857142857143,
          4.695652173913044,
          5.25,
          4.428571428571429,
          5.526315789473684,
          4.708333333333333,
          5.482758620689655,
          5.538461538461538,
          7.117647058823529,
          4.583333333333333,
          4.1,
          6.705882352941177,
          4.225,
          4.285714285714286,
          3.6923076923076925,
          5.375,
          4.612903225806452,
          5.04,
          5.173913043478261,
          4.484848484848484,
          5.185185185185185,
          6.518518518518518,
          4.387096774193548,
          5.085714285714285,
          5.04,
          4.964285714285714,
          6.454545454545454,
          4.214285714285714,
          5.225806451612903,
          4.954545454545454,
          5.461538461538462,
          4.238095238095238,
          4.68,
          4.28125,
          5.296296296296297,
          4.117647058823529,
          4.636363636363637,
          4.5,
          5.675675675675675,
          4,
          3.875,
          5.076923076923077,
          4.826086956521739,
          7.045454545454546,
          5.108108108108108,
          6.03030303030303,
          6.705882352941177,
          5.4,
          4.538461538461538,
          4.428571428571429,
          6.933333333333334,
          4.125,
          6.25,
          5.607142857142857,
          4.035714285714286,
          4.461538461538462,
          4.285714285714286,
          4.814814814814815,
          4.882352941176471,
          5.269230769230769,
          4.1,
          4.75,
          4.357142857142857,
          6.411764705882353,
          4.638888888888889,
          5.72,
          7.090909090909091,
          5.869565217391305,
          4.285714285714286,
          5.388888888888889,
          5.6875,
          4.857142857142857,
          3.0869565217391304,
          6.7272727272727275,
          5.6,
          4.961538461538462,
          4.384615384615385,
          4.958333333333333,
          4.866666666666666,
          4.961538461538462,
          6.466666666666667,
          6.533333333333333,
          6.694444444444445,
          4.828571428571428,
          4.833333333333333,
          4.7272727272727275,
          5.027777777777778,
          5,
          5.0588235294117645,
          5.6923076923076925,
          4.846153846153846,
          6.533333333333333,
          4.0476190476190474,
          4.666666666666667,
          5.806451612903226,
          6.628571428571429,
          6,
          4.636363636363637,
          4.44,
          6.208333333333333,
          5.933333333333334,
          4.967741935483871,
          6.081081081081081,
          5.214285714285714,
          4.03030303030303,
          5,
          6.290322580645161,
          6.0256410256410255,
          4.923076923076923,
          4.833333333333333,
          6.181818181818182,
          5.566666666666666,
          4.235294117647059,
          5.6875,
          3.96,
          5.758620689655173,
          6.571428571428571,
          4.892857142857143,
          5.314285714285714,
          5.3,
          4.3125,
          6.739130434782608,
          4.208333333333333,
          3.4761904761904763,
          5.103448275862069,
          5.25,
          4.25,
          5.517241379310345,
          4.52,
          4.105263157894737,
          5.44,
          4.217391304347826,
          4.611111111111111,
          5.409090909090909,
          5.333333333333333,
          5.785714285714286,
          6.1923076923076925,
          5.608695652173913,
          3.945945945945946,
          4.864864864864865,
          3.8125,
          4.8,
          6.257142857142857,
          4.153846153846154,
          4.814814814814815,
          6.2,
          6.615384615384615,
          4.75,
          5.108108108108108,
          5.6,
          4.833333333333333,
          5.619047619047619,
          7.125,
          5.166666666666667,
          4.384615384615385,
          6.096774193548387,
          5.5625,
          6.823529411764706,
          4.771428571428571,
          4.708333333333333,
          6,
          6.323529411764706,
          4.4324324324324325,
          6.428571428571429,
          3.6,
          3.9411764705882355,
          3.84,
          5.948717948717949,
          5.162162162162162,
          4.7105263157894735,
          6.714285714285714,
          4.666666666666667,
          6.136363636363637,
          6.027777777777778,
          5.090909090909091,
          6.05,
          4.5,
          5.333333333333333,
          5.0588235294117645,
          6.057142857142857,
          3.076923076923077,
          4.827586206896552,
          4.857142857142857,
          4.928571428571429,
          5.083333333333333,
          5.090909090909091,
          4.7,
          4.086956521739131,
          5.066666666666666,
          5.108108108108108,
          5.107142857142857,
          5.37037037037037,
          4.730769230769231,
          5.777777777777778,
          4.551724137931035,
          5.67741935483871,
          6.277777777777778,
          5.53125,
          4.0625,
          4.72,
          6.942857142857143,
          4.470588235294118,
          4.076923076923077,
          5.52,
          5.238095238095238,
          5.875,
          4.222222222222222,
          3.8095238095238093,
          5.684210526315789,
          5.916666666666667,
          4.857142857142857,
          3.9375,
          5.55,
          6.472222222222222,
          3.962962962962963,
          4.052631578947368,
          5,
          4.076923076923077,
          5,
          4.5,
          5.36,
          6.25,
          4.190476190476191,
          4.75,
          6,
          4.2,
          4.733333333333333,
          4.857142857142857,
          4.433333333333334,
          5.107142857142857,
          5.608695652173913,
          5.269230769230769,
          9.909090909090908,
          5,
          4.222222222222222,
          6.333333333333333,
          4.153846153846154,
          3.6153846153846154,
          5.222222222222222,
          4.285714285714286,
          5.0588235294117645,
          6.230769230769231,
          5.783783783783784,
          4.111111111111111,
          4.34375,
          3.825,
          4.416666666666667,
          3.9166666666666665,
          5.896551724137931,
          5.216216216216216,
          5,
          5.681818181818182,
          4.823529411764706,
          5.785714285714286,
          4.384615384615385,
          5.181818181818182,
          4.588235294117647,
          5.208333333333333,
          4.066666666666666,
          4.815789473684211,
          4.416666666666667,
          5.648648648648648,
          4.628571428571429,
          4.277777777777778,
          3.864864864864865,
          4.421052631578948,
          5.277777777777778,
          5.12,
          7.6,
          4.3125,
          4.551724137931035,
          6,
          4.115384615384615,
          6.133333333333334,
          5.193548387096774,
          4.625,
          5.2727272727272725,
          5.615384615384615,
          5.7894736842105265,
          6,
          4.487179487179487,
          6.0588235294117645,
          3.8275862068965516,
          4.086956521739131,
          5.962962962962963,
          5,
          5.318181818181818,
          5.25,
          5.166666666666667,
          6,
          5.125,
          4.617647058823529,
          5.571428571428571,
          5.68,
          6.32258064516129,
          4.434782608695652,
          4.285714285714286,
          4.647058823529412,
          4.592592592592593,
          3.3333333333333335,
          6.24,
          6.32258064516129,
          5.117647058823529,
          4.533333333333333,
          4.846153846153846,
          5.375,
          5.157894736842105,
          5.368421052631579,
          4.461538461538462,
          4.633333333333334,
          5.857142857142857,
          3.7777777777777777,
          6.128205128205129,
          6.32,
          6.545454545454546,
          5,
          6.388888888888889,
          4.7,
          5.785714285714286,
          6.333333333333333,
          7.212121212121212,
          5.75,
          4.88,
          5.407407407407407,
          5.7631578947368425,
          4.6,
          5,
          4.368421052631579,
          6.75,
          3.9130434782608696,
          5,
          5.857142857142857,
          3.76,
          5.685714285714286,
          5.3428571428571425,
          4.894736842105263,
          4.5,
          6.136363636363637,
          5.388888888888889,
          5.538461538461538,
          5.730769230769231,
          5,
          5.071428571428571,
          5.230769230769231,
          5.25,
          5.230769230769231,
          5.5,
          6,
          4.166666666666667,
          4.038461538461538,
          3.75,
          5,
          5.138888888888889,
          5.15,
          4.185185185185185,
          5.777777777777778,
          5.5,
          4.928571428571429,
          5.277777777777778,
          5.038461538461538,
          3.6315789473684212,
          6.2727272727272725,
          4.636363636363637,
          4.409090909090909,
          5.037037037037037,
          5.342105263157895,
          4.76,
          4.730769230769231,
          6.0344827586206895,
          4.461538461538462,
          4.3125,
          6.533333333333333,
          6.823529411764706,
          5.6875,
          4.08,
          5.166666666666667,
          5.4,
          5,
          6.074074074074074,
          4.291666666666667,
          6,
          6.444444444444445,
          5.423076923076923,
          5.275862068965517,
          5.294117647058823,
          5.9375,
          5.363636363636363,
          4.923076923076923,
          6.222222222222222,
          6.7272727272727275,
          5.388888888888889,
          6,
          5.7727272727272725,
          5.914285714285715,
          4.478260869565218,
          3.933333333333333,
          5.222222222222222,
          5.375,
          5.59375,
          6.366666666666666,
          3.789473684210526,
          5,
          7.217391304347826,
          5.809523809523809,
          5.541666666666667,
          5.166666666666667,
          5.864864864864865,
          4.7,
          5.416666666666667,
          3.966666666666667,
          4.142857142857143,
          5.735294117647059,
          3.5384615384615383,
          5.571428571428571,
          5.071428571428571,
          5.6,
          4.125,
          4.181818181818182,
          4.833333333333333,
          5.4,
          5.1875,
          4.2272727272727275,
          4,
          4.694444444444445,
          4.7368421052631575,
          5.076923076923077,
          4.523809523809524,
          5.875,
          5.3125,
          5.071428571428571,
          5.586206896551724,
          4.0476190476190474,
          4.947368421052632,
          4.166666666666667,
          4.958333333333333,
          5,
          4.447368421052632,
          5.2727272727272725,
          6.107142857142857,
          5.068965517241379,
          4.923076923076923,
          4.424242424242424,
          5.2,
          5.2,
          6.133333333333334,
          4.571428571428571,
          4.758620689655173,
          6.3076923076923075,
          5.828571428571428,
          6.095238095238095,
          5.46875,
          4.947368421052632,
          5.357142857142857,
          5.2,
          4.3125,
          4.586206896551724,
          4.84375,
          6.138888888888889,
          5,
          4.341463414634147,
          2.8666666666666667,
          5.684210526315789,
          7.631578947368421,
          4.526315789473684,
          5.382352941176471,
          4.1923076923076925,
          5.482758620689655,
          7.487179487179487,
          6.818181818181818,
          4.48,
          4.846153846153846,
          5.148148148148148,
          7.125,
          5.444444444444445,
          5.305555555555555,
          7.206896551724138,
          5.147058823529412,
          5.6571428571428575,
          3.347826086956522,
          3.3333333333333335,
          6.875,
          4.645161290322581,
          5.777777777777778,
          4.357142857142857,
          5.88,
          6.027027027027027,
          4.65625,
          4.523809523809524,
          6.066666666666666,
          6.466666666666667,
          6.583333333333333,
          5.541666666666667,
          8.842105263157896,
          6.157894736842105,
          5.617647058823529,
          4.92,
          4.275862068965517,
          5.869565217391305,
          4.344827586206897,
          5.458333333333333,
          6.066666666666666,
          4.482758620689655,
          5,
          5.913043478260869,
          4.315789473684211,
          5.294117647058823,
          5.904761904761905,
          5.6923076923076925,
          4.27027027027027,
          7.090909090909091,
          5.666666666666667,
          5.230769230769231,
          4.533333333333333,
          4.5,
          5.696969696969697,
          4.153846153846154,
          4.615384615384615,
          5.6875,
          4.533333333333333,
          4.142857142857143,
          7.333333333333333,
          5.064516129032258,
          7.111111111111111,
          5.037037037037037,
          4.0588235294117645,
          4.527777777777778,
          4.607142857142857,
          5.033333333333333,
          3.6315789473684212,
          5.648648648648648,
          5.666666666666667,
          5.541666666666667,
          6.393939393939394,
          4.04,
          6.466666666666667,
          5.538461538461538,
          6.588235294117647,
          4.476190476190476,
          5.190476190476191,
          6.45945945945946,
          5.416666666666667,
          3.5294117647058822,
          5.741935483870968,
          4.7105263157894735,
          6.24,
          6,
          5.321428571428571,
          4.894736842105263,
          4.615384615384615,
          5.086956521739131,
          6.416666666666667,
          6.642857142857143,
          5.709677419354839,
          5.05,
          4.6,
          3.5789473684210527,
          5.1,
          5.038461538461538,
          6.4375,
          5.157894736842105,
          6.6923076923076925,
          4.228571428571429,
          6,
          5.230769230769231,
          3.8823529411764706,
          5.7272727272727275,
          4.869565217391305,
          5.117647058823529,
          6,
          5.32,
          5.413793103448276,
          5.363636363636363,
          4.035714285714286,
          5.35,
          4.257142857142857,
          4.588235294117647,
          5.5625,
          5.208333333333333,
          4.458333333333333,
          5.5,
          5.891891891891892,
          5.928571428571429,
          4.214285714285714,
          5.866666666666666,
          4.67741935483871,
          6.291666666666667,
          5.45945945945946,
          5,
          5.826086956521739,
          4.944444444444445,
          5.026315789473684,
          6.111111111111111,
          5.7,
          4,
          6.083333333333333,
          5.689655172413793,
          5.4,
          5.714285714285714,
          4.576923076923077,
          5,
          5,
          4.7272727272727275,
          6.2,
          6.96,
          5.517241379310345,
          5.136363636363637,
          7.242424242424242,
          4.357142857142857,
          4.52,
          4.733333333333333,
          5.457142857142857,
          4.055555555555555,
          4.071428571428571,
          6.65,
          3.227272727272727,
          5.2631578947368425,
          5.571428571428571,
          4.130434782608695,
          6.625,
          4.357142857142857,
          5.054054054054054,
          5.67741935483871,
          5,
          4.533333333333333,
          4.833333333333333,
          6.071428571428571,
          6.533333333333333,
          4.827586206896552,
          5.1891891891891895,
          4.545454545454546,
          4.371428571428571,
          4.125,
          5.05,
          6.230769230769231,
          4.666666666666667,
          4.827586206896552,
          3.7777777777777777,
          4.894736842105263,
          5.2,
          4.25,
          4.833333333333333,
          5.076923076923077,
          6.0285714285714285,
          5.4,
          4.5625,
          4.470588235294118,
          3.951219512195122,
          5.814814814814815,
          5.351351351351352,
          5.214285714285714,
          4.608695652173913,
          5.235294117647059,
          4.7727272727272725,
          6.147058823529412,
          4.473684210526316,
          4.685714285714286,
          5.2727272727272725,
          5.730769230769231,
          6.310344827586207,
          5.0476190476190474,
          6.181818181818182,
          4.638888888888889,
          4.2727272727272725,
          5.684210526315789,
          4.461538461538462,
          6.04,
          4.814814814814815,
          5.5,
          4.428571428571429,
          5.564102564102564,
          6.2,
          3.8333333333333335,
          6.235294117647059,
          3.8,
          6.2,
          5.333333333333333,
          4.257142857142857,
          5,
          4.296296296296297,
          4.055555555555555,
          6.535714285714286,
          4.514285714285714,
          4.862068965517241,
          4.666666666666667,
          5.588235294117647,
          5.419354838709677,
          6.25,
          5.5,
          7.62962962962963,
          4.764705882352941,
          3.625,
          6.2631578947368425,
          6.466666666666667,
          4.857142857142857,
          5.724137931034483,
          4.466666666666667,
          5.071428571428571,
          4.321428571428571,
          5.931034482758621,
          6.136363636363637,
          5.333333333333333,
          5.444444444444445,
          5.121212121212121,
          5.578947368421052,
          4.421052631578948,
          5.4411764705882355,
          5.375,
          3.7058823529411766,
          4.8,
          6,
          4.0625,
          7,
          7.384615384615385,
          6.85,
          5.151515151515151,
          5.71875,
          4.631578947368421,
          4.363636363636363,
          6.54054054054054,
          4.346153846153846,
          5.064516129032258,
          3.8947368421052633,
          5.071428571428571,
          7.171428571428572,
          7.269230769230769,
          4.578947368421052,
          4.342105263157895,
          4.615384615384615,
          5.521739130434782,
          5.388888888888889,
          5.702702702702703,
          5.083333333333333,
          5.290322580645161,
          5.7894736842105265,
          5.611111111111111,
          6.787878787878788,
          5.615384615384615,
          4.96969696969697,
          5.46875,
          4.151515151515151,
          4.793103448275862,
          4.541666666666667,
          3.810810810810811,
          6.086956521739131,
          4.333333333333333,
          4.294117647058823,
          4.5,
          5.916666666666667,
          5.666666666666667,
          5.84375,
          4.791666666666667,
          4.575757575757576,
          6.6,
          5.44,
          5.133333333333334,
          6.684210526315789,
          5.966666666666667,
          5.05,
          5.357142857142857,
          5.794117647058823,
          4.954545454545454,
          5.2727272727272725,
          4.925925925925926,
          5.206896551724138,
          5.684210526315789,
          4.913043478260869,
          5.483870967741935,
          4.527777777777778,
          6.095238095238095,
          5.9714285714285715,
          4.476190476190476,
          4.294117647058823,
          5.166666666666667,
          5.235294117647059,
          5.216216216216216,
          5.351351351351352,
          5.67741935483871,
          4.733333333333333,
          5.961538461538462,
          6.64,
          5.527777777777778,
          5.16,
          4.904761904761905,
          5.447368421052632,
          3.466666666666667,
          4.625,
          4.241379310344827,
          3.875,
          4.176470588235294,
          6.277777777777778,
          3.923076923076923,
          4.074074074074074,
          7.257142857142857,
          5.2,
          6,
          4.64,
          4.5625,
          5.190476190476191,
          5.071428571428571,
          5.521739130434782,
          4.739130434782608,
          5.304347826086956,
          5.96875,
          4.387096774193548,
          5.909090909090909,
          6.029411764705882,
          4.523809523809524,
          3.8666666666666667,
          5.25,
          5.954545454545454,
          4.903225806451613,
          5.142857142857143,
          5.424242424242424,
          6.214285714285714,
          4.184210526315789,
          5.625,
          5.461538461538462,
          5.888888888888889,
          5.409090909090909,
          3.357142857142857,
          4.2,
          5.228571428571429,
          5.818181818181818,
          5.461538461538462,
          4.428571428571429,
          5.764705882352941,
          4.375,
          3.8974358974358974,
          4.571428571428571,
          5.071428571428571,
          5.378378378378378,
          7.285714285714286,
          5.7,
          5.555555555555555,
          5.285714285714286,
          5.9411764705882355,
          5.818181818181818,
          5.485714285714286,
          4.689655172413793,
          4.607142857142857,
          4.25,
          6.410256410256411,
          5.523809523809524,
          6.75,
          4.615384615384615,
          4.241379310344827,
          6.714285714285714,
          5.105263157894737,
          3.608695652173913,
          6.136363636363637,
          6.1875,
          4.933333333333334,
          4.909090909090909,
          4.545454545454546,
          5,
          6.4375,
          5.875,
          4.636363636363637,
          3.764705882352941,
          5.62962962962963,
          5.217391304347826,
          5.181818181818182,
          5.48,
          4.217391304347826,
          5.96875,
          5.433333333333334,
          3.857142857142857,
          3.892857142857143,
          4.791666666666667,
          4.45945945945946,
          4.956521739130435,
          7.071428571428571,
          5.666666666666667,
          5.111111111111111,
          5.111111111111111,
          4.411764705882353,
          5.552631578947368,
          4.6923076923076925,
          3.5625,
          4.888888888888889,
          5.136363636363637,
          4.416666666666667,
          6.083333333333333,
          5.428571428571429,
          4.516129032258065,
          4.136363636363637,
          3.619047619047619,
          6.068965517241379,
          5.44,
          4.3076923076923075,
          4.9523809523809526,
          5.764705882352941,
          5.8,
          4.428571428571429,
          5.1891891891891895,
          5.5,
          6,
          5.071428571428571,
          4.67741935483871,
          2.8461538461538463,
          5.4,
          4.826086956521739,
          4.75,
          3.806451612903226,
          6.380952380952381,
          5,
          5.32258064516129,
          4.545454545454546,
          5.470588235294118,
          5,
          3.611111111111111,
          6.304347826086956,
          4.714285714285714,
          5.457142857142857,
          5.470588235294118,
          3.9,
          4.2,
          5.166666666666667,
          7.875,
          6.2,
          6.608695652173913,
          4.1,
          5.739130434782608,
          4.333333333333333,
          5.181818181818182,
          6.105263157894737,
          5.5,
          4.472222222222222,
          5.8,
          5.142857142857143,
          5.315789473684211,
          4.2,
          5.447368421052632,
          4.6923076923076925,
          5.53125,
          6.25,
          5.5,
          5.583333333333333,
          4.518518518518518,
          4.3,
          6,
          7,
          5.678571428571429,
          5.7,
          5.571428571428571,
          4.9523809523809526,
          4.96,
          5.068965517241379,
          4.62962962962963,
          6.666666666666667,
          4.25,
          5.967741935483871,
          4.5,
          6.105263157894737,
          5.071428571428571,
          3.75,
          3.6875,
          6.571428571428571,
          5.041666666666667,
          5.666666666666667,
          5.566666666666666,
          5.3076923076923075,
          5.642857142857143,
          5.517241379310345,
          5.3478260869565215,
          5.333333333333333,
          7.076923076923077,
          4.096774193548387,
          5.238095238095238,
          4.851851851851852,
          5.611111111111111,
          5.583333333333333,
          5.111111111111111,
          5,
          6,
          6.476190476190476,
          4.137931034482759,
          4.8,
          4.8076923076923075,
          5.222222222222222,
          5.962962962962963,
          6.217391304347826,
          5.571428571428571,
          6.826086956521739,
          4.75,
          5.67741935483871,
          4.571428571428571,
          4.421052631578948,
          5.055555555555555,
          5.421052631578948,
          5.238095238095238,
          4.153846153846154,
          5.178571428571429,
          5.428571428571429,
          5.785714285714286,
          5.2631578947368425,
          5.423076923076923,
          3.88,
          4.875,
          3.8666666666666667,
          5,
          4.444444444444445,
          3.9166666666666665,
          5.105263157894737,
          5.555555555555555,
          4.833333333333333,
          4.611111111111111,
          5.16,
          6.16,
          4.111111111111111,
          4.774193548387097,
          4.588235294117647,
          5.266666666666667,
          4.694444444444445,
          7.230769230769231,
          5.782608695652174,
          3.875,
          6.222222222222222,
          5.605263157894737,
          5.217391304347826,
          5.76,
          5.1875,
          4.266666666666667,
          5.645161290322581,
          6.225806451612903,
          4.827586206896552,
          4.470588235294118,
          5.615384615384615,
          5.096774193548387,
          6.769230769230769,
          5.384615384615385,
          5.6,
          6.5,
          4.5,
          6.620689655172414,
          4.21875,
          5.2,
          4.366666666666666,
          4.129032258064516,
          5.2,
          4.6875,
          4.142857142857143,
          3.7142857142857144,
          5.333333333333333,
          6.45,
          5,
          5.896551724137931,
          5.217391304347826,
          4.258064516129032,
          4.814814814814815,
          5.083333333333333,
          4.266666666666667,
          4.318181818181818,
          4.828571428571428,
          5.882352941176471,
          6.9655172413793105,
          4.875,
          4,
          4.038461538461538,
          5.882352941176471,
          5.541666666666667,
          6.351351351351352,
          5.052631578947368,
          5.238095238095238,
          5.5,
          5.371428571428571,
          5.793103448275862,
          7.1,
          5,
          3.787878787878788,
          4.645161290322581,
          6.147058823529412,
          4.2,
          4.964285714285714,
          4.870967741935484,
          4.764705882352941,
          5.846153846153846,
          3.9166666666666665,
          5,
          4.702702702702703,
          4.066666666666666,
          4.925925925925926,
          5.791666666666667,
          5,
          5.5,
          5.59375,
          4.55,
          6.368421052631579,
          3.423076923076923,
          6.1875,
          6.2105263157894735,
          4.366666666666666,
          5.666666666666667,
          3.6923076923076925,
          5.935483870967742,
          5.846153846153846,
          3.6666666666666665,
          5.606060606060606,
          5.230769230769231,
          5.7407407407407405,
          6.269230769230769,
          5.913043478260869,
          4.666666666666667,
          6.636363636363637,
          3.6666666666666665,
          5.111111111111111,
          5.346153846153846,
          5.52,
          5.514285714285714,
          6.7272727272727275,
          4.96875,
          7.090909090909091,
          4.384615384615385,
          4.470588235294118,
          5.363636363636363,
          5.482758620689655,
          5.285714285714286,
          4.611111111111111,
          4.181818181818182,
          5.090909090909091,
          5.956521739130435,
          4.733333333333333,
          5.785714285714286,
          4.59375,
          5.08,
          5.081081081081081,
          4.153846153846154,
          4.588235294117647,
          7.809523809523809,
          5.238095238095238,
          4.892857142857143,
          3.8125,
          6.5,
          5.083333333333333,
          5.171428571428572,
          5.815789473684211,
          4.928571428571429,
          6.4,
          4.043478260869565
         ]
        }
       ],
       "layout": {
        "barmode": "overlay",
        "legend": {
         "bgcolor": "#F5F6F9",
         "font": {
          "color": "#4D5663"
         }
        },
        "paper_bgcolor": "#F5F6F9",
        "plot_bgcolor": "#F5F6F9",
        "template": {
         "data": {
          "bar": [
           {
            "error_x": {
             "color": "#2a3f5f"
            },
            "error_y": {
             "color": "#2a3f5f"
            },
            "marker": {
             "line": {
              "color": "#E5ECF6",
              "width": 0.5
             },
             "pattern": {
              "fillmode": "overlay",
              "size": 10,
              "solidity": 0.2
             }
            },
            "type": "bar"
           }
          ],
          "barpolar": [
           {
            "marker": {
             "line": {
              "color": "#E5ECF6",
              "width": 0.5
             },
             "pattern": {
              "fillmode": "overlay",
              "size": 10,
              "solidity": 0.2
             }
            },
            "type": "barpolar"
           }
          ],
          "carpet": [
           {
            "aaxis": {
             "endlinecolor": "#2a3f5f",
             "gridcolor": "white",
             "linecolor": "white",
             "minorgridcolor": "white",
             "startlinecolor": "#2a3f5f"
            },
            "baxis": {
             "endlinecolor": "#2a3f5f",
             "gridcolor": "white",
             "linecolor": "white",
             "minorgridcolor": "white",
             "startlinecolor": "#2a3f5f"
            },
            "type": "carpet"
           }
          ],
          "choropleth": [
           {
            "colorbar": {
             "outlinewidth": 0,
             "ticks": ""
            },
            "type": "choropleth"
           }
          ],
          "contour": [
           {
            "colorbar": {
             "outlinewidth": 0,
             "ticks": ""
            },
            "colorscale": [
             [
              0,
              "#0d0887"
             ],
             [
              0.1111111111111111,
              "#46039f"
             ],
             [
              0.2222222222222222,
              "#7201a8"
             ],
             [
              0.3333333333333333,
              "#9c179e"
             ],
             [
              0.4444444444444444,
              "#bd3786"
             ],
             [
              0.5555555555555556,
              "#d8576b"
             ],
             [
              0.6666666666666666,
              "#ed7953"
             ],
             [
              0.7777777777777778,
              "#fb9f3a"
             ],
             [
              0.8888888888888888,
              "#fdca26"
             ],
             [
              1,
              "#f0f921"
             ]
            ],
            "type": "contour"
           }
          ],
          "contourcarpet": [
           {
            "colorbar": {
             "outlinewidth": 0,
             "ticks": ""
            },
            "type": "contourcarpet"
           }
          ],
          "heatmap": [
           {
            "colorbar": {
             "outlinewidth": 0,
             "ticks": ""
            },
            "colorscale": [
             [
              0,
              "#0d0887"
             ],
             [
              0.1111111111111111,
              "#46039f"
             ],
             [
              0.2222222222222222,
              "#7201a8"
             ],
             [
              0.3333333333333333,
              "#9c179e"
             ],
             [
              0.4444444444444444,
              "#bd3786"
             ],
             [
              0.5555555555555556,
              "#d8576b"
             ],
             [
              0.6666666666666666,
              "#ed7953"
             ],
             [
              0.7777777777777778,
              "#fb9f3a"
             ],
             [
              0.8888888888888888,
              "#fdca26"
             ],
             [
              1,
              "#f0f921"
             ]
            ],
            "type": "heatmap"
           }
          ],
          "heatmapgl": [
           {
            "colorbar": {
             "outlinewidth": 0,
             "ticks": ""
            },
            "colorscale": [
             [
              0,
              "#0d0887"
             ],
             [
              0.1111111111111111,
              "#46039f"
             ],
             [
              0.2222222222222222,
              "#7201a8"
             ],
             [
              0.3333333333333333,
              "#9c179e"
             ],
             [
              0.4444444444444444,
              "#bd3786"
             ],
             [
              0.5555555555555556,
              "#d8576b"
             ],
             [
              0.6666666666666666,
              "#ed7953"
             ],
             [
              0.7777777777777778,
              "#fb9f3a"
             ],
             [
              0.8888888888888888,
              "#fdca26"
             ],
             [
              1,
              "#f0f921"
             ]
            ],
            "type": "heatmapgl"
           }
          ],
          "histogram": [
           {
            "marker": {
             "pattern": {
              "fillmode": "overlay",
              "size": 10,
              "solidity": 0.2
             }
            },
            "type": "histogram"
           }
          ],
          "histogram2d": [
           {
            "colorbar": {
             "outlinewidth": 0,
             "ticks": ""
            },
            "colorscale": [
             [
              0,
              "#0d0887"
             ],
             [
              0.1111111111111111,
              "#46039f"
             ],
             [
              0.2222222222222222,
              "#7201a8"
             ],
             [
              0.3333333333333333,
              "#9c179e"
             ],
             [
              0.4444444444444444,
              "#bd3786"
             ],
             [
              0.5555555555555556,
              "#d8576b"
             ],
             [
              0.6666666666666666,
              "#ed7953"
             ],
             [
              0.7777777777777778,
              "#fb9f3a"
             ],
             [
              0.8888888888888888,
              "#fdca26"
             ],
             [
              1,
              "#f0f921"
             ]
            ],
            "type": "histogram2d"
           }
          ],
          "histogram2dcontour": [
           {
            "colorbar": {
             "outlinewidth": 0,
             "ticks": ""
            },
            "colorscale": [
             [
              0,
              "#0d0887"
             ],
             [
              0.1111111111111111,
              "#46039f"
             ],
             [
              0.2222222222222222,
              "#7201a8"
             ],
             [
              0.3333333333333333,
              "#9c179e"
             ],
             [
              0.4444444444444444,
              "#bd3786"
             ],
             [
              0.5555555555555556,
              "#d8576b"
             ],
             [
              0.6666666666666666,
              "#ed7953"
             ],
             [
              0.7777777777777778,
              "#fb9f3a"
             ],
             [
              0.8888888888888888,
              "#fdca26"
             ],
             [
              1,
              "#f0f921"
             ]
            ],
            "type": "histogram2dcontour"
           }
          ],
          "mesh3d": [
           {
            "colorbar": {
             "outlinewidth": 0,
             "ticks": ""
            },
            "type": "mesh3d"
           }
          ],
          "parcoords": [
           {
            "line": {
             "colorbar": {
              "outlinewidth": 0,
              "ticks": ""
             }
            },
            "type": "parcoords"
           }
          ],
          "pie": [
           {
            "automargin": true,
            "type": "pie"
           }
          ],
          "scatter": [
           {
            "fillpattern": {
             "fillmode": "overlay",
             "size": 10,
             "solidity": 0.2
            },
            "type": "scatter"
           }
          ],
          "scatter3d": [
           {
            "line": {
             "colorbar": {
              "outlinewidth": 0,
              "ticks": ""
             }
            },
            "marker": {
             "colorbar": {
              "outlinewidth": 0,
              "ticks": ""
             }
            },
            "type": "scatter3d"
           }
          ],
          "scattercarpet": [
           {
            "marker": {
             "colorbar": {
              "outlinewidth": 0,
              "ticks": ""
             }
            },
            "type": "scattercarpet"
           }
          ],
          "scattergeo": [
           {
            "marker": {
             "colorbar": {
              "outlinewidth": 0,
              "ticks": ""
             }
            },
            "type": "scattergeo"
           }
          ],
          "scattergl": [
           {
            "marker": {
             "colorbar": {
              "outlinewidth": 0,
              "ticks": ""
             }
            },
            "type": "scattergl"
           }
          ],
          "scattermapbox": [
           {
            "marker": {
             "colorbar": {
              "outlinewidth": 0,
              "ticks": ""
             }
            },
            "type": "scattermapbox"
           }
          ],
          "scatterpolar": [
           {
            "marker": {
             "colorbar": {
              "outlinewidth": 0,
              "ticks": ""
             }
            },
            "type": "scatterpolar"
           }
          ],
          "scatterpolargl": [
           {
            "marker": {
             "colorbar": {
              "outlinewidth": 0,
              "ticks": ""
             }
            },
            "type": "scatterpolargl"
           }
          ],
          "scatterternary": [
           {
            "marker": {
             "colorbar": {
              "outlinewidth": 0,
              "ticks": ""
             }
            },
            "type": "scatterternary"
           }
          ],
          "surface": [
           {
            "colorbar": {
             "outlinewidth": 0,
             "ticks": ""
            },
            "colorscale": [
             [
              0,
              "#0d0887"
             ],
             [
              0.1111111111111111,
              "#46039f"
             ],
             [
              0.2222222222222222,
              "#7201a8"
             ],
             [
              0.3333333333333333,
              "#9c179e"
             ],
             [
              0.4444444444444444,
              "#bd3786"
             ],
             [
              0.5555555555555556,
              "#d8576b"
             ],
             [
              0.6666666666666666,
              "#ed7953"
             ],
             [
              0.7777777777777778,
              "#fb9f3a"
             ],
             [
              0.8888888888888888,
              "#fdca26"
             ],
             [
              1,
              "#f0f921"
             ]
            ],
            "type": "surface"
           }
          ],
          "table": [
           {
            "cells": {
             "fill": {
              "color": "#EBF0F8"
             },
             "line": {
              "color": "white"
             }
            },
            "header": {
             "fill": {
              "color": "#C8D4E3"
             },
             "line": {
              "color": "white"
             }
            },
            "type": "table"
           }
          ]
         },
         "layout": {
          "annotationdefaults": {
           "arrowcolor": "#2a3f5f",
           "arrowhead": 0,
           "arrowwidth": 1
          },
          "autotypenumbers": "strict",
          "coloraxis": {
           "colorbar": {
            "outlinewidth": 0,
            "ticks": ""
           }
          },
          "colorscale": {
           "diverging": [
            [
             0,
             "#8e0152"
            ],
            [
             0.1,
             "#c51b7d"
            ],
            [
             0.2,
             "#de77ae"
            ],
            [
             0.3,
             "#f1b6da"
            ],
            [
             0.4,
             "#fde0ef"
            ],
            [
             0.5,
             "#f7f7f7"
            ],
            [
             0.6,
             "#e6f5d0"
            ],
            [
             0.7,
             "#b8e186"
            ],
            [
             0.8,
             "#7fbc41"
            ],
            [
             0.9,
             "#4d9221"
            ],
            [
             1,
             "#276419"
            ]
           ],
           "sequential": [
            [
             0,
             "#0d0887"
            ],
            [
             0.1111111111111111,
             "#46039f"
            ],
            [
             0.2222222222222222,
             "#7201a8"
            ],
            [
             0.3333333333333333,
             "#9c179e"
            ],
            [
             0.4444444444444444,
             "#bd3786"
            ],
            [
             0.5555555555555556,
             "#d8576b"
            ],
            [
             0.6666666666666666,
             "#ed7953"
            ],
            [
             0.7777777777777778,
             "#fb9f3a"
            ],
            [
             0.8888888888888888,
             "#fdca26"
            ],
            [
             1,
             "#f0f921"
            ]
           ],
           "sequentialminus": [
            [
             0,
             "#0d0887"
            ],
            [
             0.1111111111111111,
             "#46039f"
            ],
            [
             0.2222222222222222,
             "#7201a8"
            ],
            [
             0.3333333333333333,
             "#9c179e"
            ],
            [
             0.4444444444444444,
             "#bd3786"
            ],
            [
             0.5555555555555556,
             "#d8576b"
            ],
            [
             0.6666666666666666,
             "#ed7953"
            ],
            [
             0.7777777777777778,
             "#fb9f3a"
            ],
            [
             0.8888888888888888,
             "#fdca26"
            ],
            [
             1,
             "#f0f921"
            ]
           ]
          },
          "colorway": [
           "#636efa",
           "#EF553B",
           "#00cc96",
           "#ab63fa",
           "#FFA15A",
           "#19d3f3",
           "#FF6692",
           "#B6E880",
           "#FF97FF",
           "#FECB52"
          ],
          "font": {
           "color": "#2a3f5f"
          },
          "geo": {
           "bgcolor": "white",
           "lakecolor": "white",
           "landcolor": "#E5ECF6",
           "showlakes": true,
           "showland": true,
           "subunitcolor": "white"
          },
          "hoverlabel": {
           "align": "left"
          },
          "hovermode": "closest",
          "mapbox": {
           "style": "light"
          },
          "paper_bgcolor": "white",
          "plot_bgcolor": "#E5ECF6",
          "polar": {
           "angularaxis": {
            "gridcolor": "white",
            "linecolor": "white",
            "ticks": ""
           },
           "bgcolor": "#E5ECF6",
           "radialaxis": {
            "gridcolor": "white",
            "linecolor": "white",
            "ticks": ""
           }
          },
          "scene": {
           "xaxis": {
            "backgroundcolor": "#E5ECF6",
            "gridcolor": "white",
            "gridwidth": 2,
            "linecolor": "white",
            "showbackground": true,
            "ticks": "",
            "zerolinecolor": "white"
           },
           "yaxis": {
            "backgroundcolor": "#E5ECF6",
            "gridcolor": "white",
            "gridwidth": 2,
            "linecolor": "white",
            "showbackground": true,
            "ticks": "",
            "zerolinecolor": "white"
           },
           "zaxis": {
            "backgroundcolor": "#E5ECF6",
            "gridcolor": "white",
            "gridwidth": 2,
            "linecolor": "white",
            "showbackground": true,
            "ticks": "",
            "zerolinecolor": "white"
           }
          },
          "shapedefaults": {
           "line": {
            "color": "#2a3f5f"
           }
          },
          "ternary": {
           "aaxis": {
            "gridcolor": "white",
            "linecolor": "white",
            "ticks": ""
           },
           "baxis": {
            "gridcolor": "white",
            "linecolor": "white",
            "ticks": ""
           },
           "bgcolor": "#E5ECF6",
           "caxis": {
            "gridcolor": "white",
            "linecolor": "white",
            "ticks": ""
           }
          },
          "title": {
           "x": 0.05
          },
          "xaxis": {
           "automargin": true,
           "gridcolor": "white",
           "linecolor": "white",
           "ticks": "",
           "title": {
            "standoff": 15
           },
           "zerolinecolor": "white",
           "zerolinewidth": 2
          },
          "yaxis": {
           "automargin": true,
           "gridcolor": "white",
           "linecolor": "white",
           "ticks": "",
           "title": {
            "standoff": 15
           },
           "zerolinecolor": "white",
           "zerolinewidth": 2
          }
         }
        },
        "title": {
         "font": {
          "color": "#4D5663"
         },
         "text": "Distribution of Average Word Length"
        },
        "xaxis": {
         "gridcolor": "#E1E5ED",
         "showgrid": true,
         "tickfont": {
          "color": "#4D5663"
         },
         "title": {
          "font": {
           "color": "#4D5663"
          },
          "text": "Average Word Length"
         },
         "zerolinecolor": "#E1E5ED"
        },
        "yaxis": {
         "gridcolor": "#E1E5ED",
         "showgrid": true,
         "tickfont": {
          "color": "#4D5663"
         },
         "title": {
          "font": {
           "color": "#4D5663"
          },
          "text": "Count"
         },
         "zerolinecolor": "#E1E5ED"
        }
       }
      },
      "text/html": [
       "<div>                            <div id=\"d2d45396-94a2-457d-92a7-f6931f6d6ec7\" class=\"plotly-graph-div\" style=\"height:525px; width:100%;\"></div>            <script type=\"text/javascript\">                require([\"plotly\"], function(Plotly) {                    window.PLOTLYENV=window.PLOTLYENV || {};\n",
       "                    window.PLOTLYENV.BASE_URL='https://plot.ly';                                    if (document.getElementById(\"d2d45396-94a2-457d-92a7-f6931f6d6ec7\")) {                    Plotly.newPlot(                        \"d2d45396-94a2-457d-92a7-f6931f6d6ec7\",                        [{\"histfunc\":\"count\",\"histnorm\":\"\",\"marker\":{\"color\":\"rgba(255, 153, 51, 1.0)\",\"line\":{\"color\":\"#4D5663\",\"width\":1.3}},\"name\":\"avg_word_length\",\"nbinsx\":50,\"opacity\":0.8,\"orientation\":\"v\",\"x\":[5.5,3.5238095238095237,5.434782608695652,5.52,4.739130434782608,5.217391304347826,6.115384615384615,4.708333333333333,7.444444444444445,3.1666666666666665,4.545454545454546,4.25,5.043478260869565,6.166666666666667,4.6,5.2105263157894735,6.269230769230769,4.625,4.833333333333333,5.172413793103448,5.454545454545454,5.96,5.074074074074074,5.025,3.0,4.62962962962963,4.375,5.72,3.5454545454545454,7.125,3.9523809523809526,4.684210526315789,5.882352941176471,4.756756756756757,4.130434782608695,6.46875,5.0588235294117645,5.173913043478261,4.555555555555555,4.190476190476191,5.7,5.75,5.083333333333333,6.190476190476191,4.266666666666667,4.3,4.909090909090909,4.333333333333333,3.0833333333333335,6.764705882352941,3.5172413793103448,5.05,4.5625,5.869565217391305,5.416666666666667,4.411764705882353,5.409090909090909,5.714285714285714,5.222222222222222,5.433333333333334,4.5,4.818181818181818,5.529411764705882,7.181818181818182,4.5,5.5625,5.117647058823529,7.166666666666667,7.0,5.333333333333333,4.857142857142857,4.846153846153846,4.266666666666667,5.515151515151516,3.823529411764706,5.857142857142857,4.625,4.739130434782608,3.973684210526316,4.606060606060606,6.642857142857143,4.538461538461538,3.9375,6.121212121212121,5.157894736842105,5.2272727272727275,5.578947368421052,3.84,5.533333333333333,6.176470588235294,4.75,6.178571428571429,5.205882352941177,5.333333333333333,5.48,5.7407407407407405,5.84375,4.135135135135135,4.0625,4.52,4.897435897435898,5.081081081081081,4.866666666666666,5.269230769230769,5.571428571428571,4.157894736842105,5.791666666666667,4.733333333333333,4.7727272727272725,6.0,5.466666666666667,4.545454545454546,3.526315789473684,4.8125,5.466666666666667,5.944444444444445,3.923076923076923,4.631578947368421,4.628571428571429,4.590909090909091,5.571428571428571,3.6470588235294117,5.282051282051282,5.633333333333334,4.517241379310345,5.571428571428571,5.176470588235294,5.277777777777778,5.470588235294118,3.782608695652174,4.0,5.973684210526316,4.9523809523809526,6.25,5.909090909090909,4.5675675675675675,5.105263157894737,5.583333333333333,6.394736842105263,5.578947368421052,5.115384615384615,5.95,5.05,5.518518518518518,5.368421052631579,5.92,5.233333333333333,5.076923076923077,6.277777777777778,4.5,5.138888888888889,5.344827586206897,5.153846153846154,5.222222222222222,5.0476190476190474,5.833333333333333,7.142857142857143,5.696969696969697,5.842105263157895,4.277777777777778,5.294117647058823,4.818181818181818,4.68,5.7631578947368425,5.0,3.8823529411764706,3.5757575757575757,5.777777777777778,4.552631578947368,6.461538461538462,6.037037037037037,6.1,5.9375,5.24,5.866666666666666,5.52,5.043478260869565,4.363636363636363,4.291666666666667,5.0285714285714285,4.62962962962963,4.857142857142857,6.384615384615385,6.05,4.428571428571429,8.285714285714286,4.15625,4.625,5.0,4.285714285714286,4.333333333333333,5.216216216216216,6.454545454545454,4.428571428571429,6.352941176470588,6.454545454545454,4.533333333333333,5.923076923076923,4.607142857142857,5.057142857142857,4.666666666666667,7.166666666666667,5.333333333333333,5.88,5.166666666666667,5.09375,3.4545454545454546,4.75,5.756756756756757,6.818181818181818,6.5,5.045454545454546,3.878787878787879,4.814814814814815,6.0476190476190474,5.628571428571429,3.1818181818181817,6.071428571428571,4.2727272727272725,4.888888888888889,4.290322580645161,5.142857142857143,4.32258064516129,5.25,4.185185185185185,3.4864864864864864,5.407407407407407,4.0,4.03030303030303,4.35,6.04,4.117647058823529,7.1875,4.9411764705882355,5.5625,5.516129032258065,3.9444444444444446,4.157894736842105,4.111111111111111,4.0,3.652173913043478,4.75,4.565217391304348,4.551724137931035,4.857142857142857,4.333333333333333,5.5,6.121212121212121,4.805555555555555,5.909090909090909,4.8,4.052631578947368,4.818181818181818,5.884615384615385,4.217391304347826,6.696969696969697,6.03125,3.5789473684210527,5.230769230769231,5.523809523809524,6.32,4.117647058823529,6.05,4.166666666666667,5.375,4.375,4.892857142857143,4.041666666666667,4.92,4.411764705882353,4.7407407407407405,5.611111111111111,4.518518518518518,5.823529411764706,4.352941176470588,4.461538461538462,5.384615384615385,5.472222222222222,4.387096774193548,4.68,6.033333333333333,7.380952380952381,6.0,5.457142857142857,5.578947368421052,5.9375,5.9655172413793105,4.37037037037037,4.2631578947368425,5.708333333333333,6.0606060606060606,6.294117647058823,6.25,4.428571428571429,4.184210526315789,4.416666666666667,6.0625,5.833333333333333,5.095238095238095,5.25,6.823529411764706,6.133333333333334,8.941176470588236,6.111111111111111,4.117647058823529,5.6923076923076925,3.588235294117647,5.55,5.305555555555555,6.371428571428571,5.666666666666667,3.8333333333333335,4.764705882352941,3.8666666666666667,5.655172413793103,3.8260869565217392,4.194444444444445,5.176470588235294,4.0,5.428571428571429,4.361111111111111,5.457142857142857,5.444444444444445,5.576923076923077,4.705882352941177,4.7,5.285714285714286,6.6521739130434785,3.1538461538461537,4.428571428571429,5.555555555555555,4.193548387096774,4.793103448275862,5.0,5.411764705882353,4.25,6.608695652173913,3.9444444444444446,4.904761904761905,5.08,5.066666666666666,6.071428571428571,6.074074074074074,5.052631578947368,5.631578947368421,3.5,6.111111111111111,4.125,3.8461538461538463,5.958333333333333,4.833333333333333,5.875,5.193548387096774,4.533333333333333,5.777777777777778,7.214285714285714,5.235294117647059,4.238095238095238,5.76,3.6666666666666665,5.171428571428572,3.8529411764705883,5.526315789473684,5.555555555555555,4.055555555555555,6.117647058823529,5.583333333333333,4.823529411764706,4.68,4.035714285714286,5.0,5.7407407407407405,6.222222222222222,5.5,6.111111111111111,4.090909090909091,6.388888888888889,3.5,5.379310344827586,4.586206896551724,4.783783783783784,5.458333333333333,5.138888888888889,4.9655172413793105,5.842105263157895,4.333333333333333,5.71875,6.857142857142857,5.242424242424242,6.5,4.580645161290323,4.9375,5.709677419354839,4.5,5.32,3.909090909090909,5.571428571428571,4.324324324324325,5.896551724137931,4.863636363636363,5.5,5.758620689655173,5.416666666666667,6.055555555555555,5.083333333333333,5.3076923076923075,4.217391304347826,5.9,4.0476190476190474,6.035714285714286,3.9166666666666665,5.0,4.083333333333333,6.105263157894737,4.371428571428571,5.766666666666667,5.454545454545454,5.611111111111111,4.523809523809524,3.75,5.7407407407407405,5.2,4.588235294117647,4.25,6.055555555555555,5.297297297297297,6.620689655172414,5.794871794871795,4.885714285714286,5.447368421052632,4.0,5.083333333333333,4.3125,5.40625,5.962962962962963,5.03030303030303,6.035714285714286,5.25,7.222222222222222,5.444444444444445,4.378378378378378,7.0,4.111111111111111,6.0,4.678571428571429,3.6363636363636362,5.184210526315789,5.75,4.4,5.576923076923077,6.0588235294117645,5.394736842105263,5.3076923076923075,4.410256410256411,3.65625,4.3076923076923075,5.620689655172414,4.125,4.8,5.133333333333334,3.888888888888889,6.086956521739131,6.0,7.25,4.258064516129032,4.315789473684211,3.2972972972972974,5.388888888888889,5.166666666666667,6.076923076923077,6.464285714285714,5.36,3.7333333333333334,4.785714285714286,4.782608695652174,5.142857142857143,5.75,4.571428571428571,5.447368421052632,4.615384615384615,5.166666666666667,5.375,6.125,5.428571428571429,4.375,4.181818181818182,4.487179487179487,5.518518518518518,5.310344827586207,5.478260869565218,3.8974358974358974,4.444444444444445,4.709677419354839,5.25,5.571428571428571,5.222222222222222,4.208333333333333,4.7727272727272725,4.3125,4.857142857142857,4.777777777777778,4.611111111111111,5.78125,6.384615384615385,5.34375,5.111111111111111,6.052631578947368,4.777777777777778,5.4,3.391304347826087,5.944444444444445,5.708333333333333,5.275862068965517,7.147058823529412,4.0344827586206895,6.571428571428571,4.214285714285714,4.724137931034483,6.153846153846154,7.333333333333333,5.153846153846154,5.551724137931035,5.166666666666667,5.59375,3.8095238095238093,5.176470588235294,6.2,5.041666666666667,3.875,4.642857142857143,6.409090909090909,5.714285714285714,4.925925925925926,5.230769230769231,5.523809523809524,4.935483870967742,6.857142857142857,4.368421052631579,5.111111111111111,4.7894736842105265,4.314285714285714,5.090909090909091,3.88,5.133333333333334,5.294117647058823,4.928571428571429,6.448275862068965,5.7368421052631575,4.083333333333333,6.529411764705882,4.545454545454546,4.571428571428571,4.625,4.105263157894737,4.166666666666667,4.235294117647059,4.2,4.222222222222222,5.125,6.181818181818182,5.15,5.0476190476190474,5.214285714285714,5.5,5.8,3.9722222222222223,6.2,4.529411764705882,5.111111111111111,6.294117647058823,4.90625,5.0,5.090909090909091,5.666666666666667,5.190476190476191,6.8,5.0,4.625,5.222222222222222,4.458333333333333,5.153846153846154,4.230769230769231,4.375,4.7727272727272725,4.538461538461538,4.387096774193548,3.923076923076923,6.675675675675675,6.428571428571429,5.724137931034483,4.212121212121212,4.75,6.068965517241379,6.125,4.514285714285714,5.842105263157895,4.605263157894737,3.5384615384615383,6.52,4.04,4.8125,6.0,5.043478260869565,4.4375,5.305555555555555,4.260869565217392,4.466666666666667,6.857142857142857,5.3,5.258064516129032,5.0,6.038461538461538,5.545454545454546,5.513513513513513,5.851851851851852,5.483870967741935,5.580645161290323,4.642857142857143,4.882352941176471,4.814814814814815,5.518518518518518,5.5,4.709677419354839,5.0,6.357142857142857,5.888888888888889,5.65625,5.333333333333333,5.285714285714286,5.121212121212121,4.785714285714286,6.108108108108108,6.413793103448276,5.675675675675675,5.074074074074074,4.588235294117647,5.666666666666667,6.157894736842105,4.166666666666667,6.9,4.433333333333334,4.947368421052632,6.258064516129032,5.461538461538462,3.9545454545454546,6.0,5.133333333333334,7.05,5.555555555555555,4.208333333333333,5.65,5.757575757575758,4.0,4.5,5.7272727272727275,3.9411764705882355,4.641025641025641,4.5625,4.928571428571429,4.125,4.111111111111111,3.4285714285714284,4.0,5.0588235294117645,5.25,5.235294117647059,4.458333333333333,5.2,4.333333333333333,4.615384615384615,4.5,4.7727272727272725,6.052631578947368,5.3125,5.6,5.2592592592592595,5.125,5.466666666666667,7.12,4.866666666666666,5.735294117647059,6.6923076923076925,4.55,4.8,5.363636363636363,4.827586206896552,5.181818181818182,5.25,4.368421052631579,4.28,4.684210526315789,6.621621621621622,4.631578947368421,4.090909090909091,4.68,6.416666666666667,6.64,5.84,5.384615384615385,4.387096774193548,5.0,6.0344827586206895,4.875,5.3,5.2105263157894735,4.7407407407407405,4.157894736842105,5.421052631578948,4.2105263157894735,5.25,4.791666666666667,4.3076923076923075,3.6315789473684212,5.090909090909091,4.363636363636363,5.40625,4.8,4.9411764705882355,3.9411764705882355,5.266666666666667,5.954545454545454,4.2727272727272725,5.92,5.285714285714286,4.444444444444445,5.1875,4.954545454545454,5.0,6.055555555555555,4.85,4.083333333333333,5.777777777777778,4.0,4.555555555555555,5.571428571428571,4.083333333333333,3.923076923076923,4.466666666666667,4.666666666666667,5.555555555555555,5.608695652173913,7.2272727272727275,3.7777777777777777,5.285714285714286,4.666666666666667,6.071428571428571,5.2,5.592592592592593,4.666666666666667,6.454545454545454,4.625,4.428571428571429,6.3125,5.678571428571429,4.529411764705882,4.1891891891891895,5.166666666666667,5.392857142857143,4.9375,5.954545454545454,5.228571428571429,4.466666666666667,5.9,6.647058823529412,5.105263157894737,5.541666666666667,6.4375,7.363636363636363,4.52,4.466666666666667,4.090909090909091,5.791666666666667,5.923076923076923,6.03030303030303,6.323529411764706,6.3428571428571425,4.545454545454546,5.217391304347826,7.105263157894737,5.777777777777778,4.038461538461538,6.217391304347826,6.3125,3.9411764705882355,4.733333333333333,3.9583333333333335,4.5,3.9583333333333335,5.0,4.578947368421052,4.769230769230769,6.2631578947368425,3.7857142857142856,4.45945945945946,5.576923076923077,3.736842105263158,4.361111111111111,5.7407407407407405,3.8947368421052633,3.466666666666667,6.428571428571429,5.051282051282051,5.25,4.5625,5.733333333333333,6.285714285714286,6.935483870967742,3.933333333333333,7.357142857142857,3.7,5.5,5.238095238095238,6.0,5.75,5.666666666666667,3.4,6.2727272727272725,4.352941176470588,4.806451612903226,5.757575757575758,5.921052631578948,6.066666666666666,6.695652173913044,4.428571428571429,5.413793103448276,5.260869565217392,3.3846153846153846,4.0,6.24,5.5,6.454545454545454,6.842105263157895,4.3,5.096774193548387,4.416666666666667,5.354838709677419,4.448275862068965,4.916666666666667,4.304347826086956,4.6,4.884615384615385,6.107142857142857,5.0588235294117645,4.172413793103448,5.294117647058823,4.423076923076923,6.333333333333333,5.382352941176471,4.233333333333333,5.4,4.947368421052632,3.9285714285714284,4.863636363636363,5.486486486486487,6.176470588235294,5.862068965517241,5.777777777777778,5.416666666666667,5.05,4.038461538461538,5.967741935483871,5.333333333333333,3.5,4.55,5.333333333333333,5.576923076923077,4.444444444444445,4.241379310344827,5.869565217391305,4.391304347826087,5.380952380952381,4.888888888888889,5.176470588235294,4.84375,4.074074074074074,3.857142857142857,4.615384615384615,5.105263157894737,4.095238095238095,5.625,5.090909090909091,3.3529411764705883,4.466666666666667,6.096774193548387,4.666666666666667,5.484848484848484,5.4,4.0588235294117645,4.25,5.642857142857143,5.208333333333333,4.7272727272727275,6.368421052631579,4.416666666666667,7.8076923076923075,4.1891891891891895,4.375,5.032258064516129,5.352941176470588,4.666666666666667,4.769230769230769,5.8125,4.205882352941177,4.5,6.0,6.827586206896552,4.304347826086956,4.896551724137931,3.6315789473684212,6.142857142857143,5.75,5.833333333333333,4.392857142857143,5.869565217391305,4.739130434782608,6.0,4.428571428571429,5.5,5.24,5.233333333333333,4.714285714285714,4.535714285714286,5.8125,4.625,4.5,4.862068965517241,4.285714285714286,5.535714285714286,4.923076923076923,5.25,4.416666666666667,5.0,4.40625,4.5,5.294117647058823,5.782608695652174,4.235294117647059,4.653846153846154,4.590909090909091,5.483870967741935,5.125,5.628571428571429,5.897435897435898,4.45,4.6923076923076925,5.78125,5.611111111111111,5.24,4.266666666666667,4.48,5.2,5.625,5.54054054054054,4.555555555555555,5.685714285714286,4.823529411764706,4.125,4.2926829268292686,4.842105263157895,5.473684210526316,4.368421052631579,6.290322580645161,4.083333333333333,4.846153846153846,4.257142857142857,4.722222222222222,6.357142857142857,5.1923076923076925,3.625,6.166666666666667,4.0,6.103448275862069,4.84,5.805555555555555,5.0,5.03030303030303,5.055555555555555,5.433333333333334,5.142857142857143,4.695652173913044,5.25,4.428571428571429,5.526315789473684,4.708333333333333,5.482758620689655,5.538461538461538,7.117647058823529,4.583333333333333,4.1,6.705882352941177,4.225,4.285714285714286,3.6923076923076925,5.375,4.612903225806452,5.04,5.173913043478261,4.484848484848484,5.185185185185185,6.518518518518518,4.387096774193548,5.085714285714285,5.04,4.964285714285714,6.454545454545454,4.214285714285714,5.225806451612903,4.954545454545454,5.461538461538462,4.238095238095238,4.68,4.28125,5.296296296296297,4.117647058823529,4.636363636363637,4.5,5.675675675675675,4.0,3.875,5.076923076923077,4.826086956521739,7.045454545454546,5.108108108108108,6.03030303030303,6.705882352941177,5.4,4.538461538461538,4.428571428571429,6.933333333333334,4.125,6.25,5.607142857142857,4.035714285714286,4.461538461538462,4.285714285714286,4.814814814814815,4.882352941176471,5.269230769230769,4.1,4.75,4.357142857142857,6.411764705882353,4.638888888888889,5.72,7.090909090909091,5.869565217391305,4.285714285714286,5.388888888888889,5.6875,4.857142857142857,3.0869565217391304,6.7272727272727275,5.6,4.961538461538462,4.384615384615385,4.958333333333333,4.866666666666666,4.961538461538462,6.466666666666667,6.533333333333333,6.694444444444445,4.828571428571428,4.833333333333333,4.7272727272727275,5.027777777777778,5.0,5.0588235294117645,5.6923076923076925,4.846153846153846,6.533333333333333,4.0476190476190474,4.666666666666667,5.806451612903226,6.628571428571429,6.0,4.636363636363637,4.44,6.208333333333333,5.933333333333334,4.967741935483871,6.081081081081081,5.214285714285714,4.03030303030303,5.0,6.290322580645161,6.0256410256410255,4.923076923076923,4.833333333333333,6.181818181818182,5.566666666666666,4.235294117647059,5.6875,3.96,5.758620689655173,6.571428571428571,4.892857142857143,5.314285714285714,5.3,4.3125,6.739130434782608,4.208333333333333,3.4761904761904763,5.103448275862069,5.25,4.25,5.517241379310345,4.52,4.105263157894737,5.44,4.217391304347826,4.611111111111111,5.409090909090909,5.333333333333333,5.785714285714286,6.1923076923076925,5.608695652173913,3.945945945945946,4.864864864864865,3.8125,4.8,6.257142857142857,4.153846153846154,4.814814814814815,6.2,6.615384615384615,4.75,5.108108108108108,5.6,4.833333333333333,5.619047619047619,7.125,5.166666666666667,4.384615384615385,6.096774193548387,5.5625,6.823529411764706,4.771428571428571,4.708333333333333,6.0,6.323529411764706,4.4324324324324325,6.428571428571429,3.6,3.9411764705882355,3.84,5.948717948717949,5.162162162162162,4.7105263157894735,6.714285714285714,4.666666666666667,6.136363636363637,6.027777777777778,5.090909090909091,6.05,4.5,5.333333333333333,5.0588235294117645,6.057142857142857,3.076923076923077,4.827586206896552,4.857142857142857,4.928571428571429,5.083333333333333,5.090909090909091,4.7,4.086956521739131,5.066666666666666,5.108108108108108,5.107142857142857,5.37037037037037,4.730769230769231,5.777777777777778,4.551724137931035,5.67741935483871,6.277777777777778,5.53125,4.0625,4.72,6.942857142857143,4.470588235294118,4.076923076923077,5.52,5.238095238095238,5.875,4.222222222222222,3.8095238095238093,5.684210526315789,5.916666666666667,4.857142857142857,3.9375,5.55,6.472222222222222,3.962962962962963,4.052631578947368,5.0,4.076923076923077,5.0,4.5,5.36,6.25,4.190476190476191,4.75,6.0,4.2,4.733333333333333,4.857142857142857,4.433333333333334,5.107142857142857,5.608695652173913,5.269230769230769,9.909090909090908,5.0,4.222222222222222,6.333333333333333,4.153846153846154,3.6153846153846154,5.222222222222222,4.285714285714286,5.0588235294117645,6.230769230769231,5.783783783783784,4.111111111111111,4.34375,3.825,4.416666666666667,3.9166666666666665,5.896551724137931,5.216216216216216,5.0,5.681818181818182,4.823529411764706,5.785714285714286,4.384615384615385,5.181818181818182,4.588235294117647,5.208333333333333,4.066666666666666,4.815789473684211,4.416666666666667,5.648648648648648,4.628571428571429,4.277777777777778,3.864864864864865,4.421052631578948,5.277777777777778,5.12,7.6,4.3125,4.551724137931035,6.0,4.115384615384615,6.133333333333334,5.193548387096774,4.625,5.2727272727272725,5.615384615384615,5.7894736842105265,6.0,4.487179487179487,6.0588235294117645,3.8275862068965516,4.086956521739131,5.962962962962963,5.0,5.318181818181818,5.25,5.166666666666667,6.0,5.125,4.617647058823529,5.571428571428571,5.68,6.32258064516129,4.434782608695652,4.285714285714286,4.647058823529412,4.592592592592593,3.3333333333333335,6.24,6.32258064516129,5.117647058823529,4.533333333333333,4.846153846153846,5.375,5.157894736842105,5.368421052631579,4.461538461538462,4.633333333333334,5.857142857142857,3.7777777777777777,6.128205128205129,6.32,6.545454545454546,5.0,6.388888888888889,4.7,5.785714285714286,6.333333333333333,7.212121212121212,5.75,4.88,5.407407407407407,5.7631578947368425,4.6,5.0,4.368421052631579,6.75,3.9130434782608696,5.0,5.857142857142857,3.76,5.685714285714286,5.3428571428571425,4.894736842105263,4.5,6.136363636363637,5.388888888888889,5.538461538461538,5.730769230769231,5.0,5.071428571428571,5.230769230769231,5.25,5.230769230769231,5.5,6.0,4.166666666666667,4.038461538461538,3.75,5.0,5.138888888888889,5.15,4.185185185185185,5.777777777777778,5.5,4.928571428571429,5.277777777777778,5.038461538461538,3.6315789473684212,6.2727272727272725,4.636363636363637,4.409090909090909,5.037037037037037,5.342105263157895,4.76,4.730769230769231,6.0344827586206895,4.461538461538462,4.3125,6.533333333333333,6.823529411764706,5.6875,4.08,5.166666666666667,5.4,5.0,6.074074074074074,4.291666666666667,6.0,6.444444444444445,5.423076923076923,5.275862068965517,5.294117647058823,5.9375,5.363636363636363,4.923076923076923,6.222222222222222,6.7272727272727275,5.388888888888889,6.0,5.7727272727272725,5.914285714285715,4.478260869565218,3.933333333333333,5.222222222222222,5.375,5.59375,6.366666666666666,3.789473684210526,5.0,7.217391304347826,5.809523809523809,5.541666666666667,5.166666666666667,5.864864864864865,4.7,5.416666666666667,3.966666666666667,4.142857142857143,5.735294117647059,3.5384615384615383,5.571428571428571,5.071428571428571,5.6,4.125,4.181818181818182,4.833333333333333,5.4,5.1875,4.2272727272727275,4.0,4.694444444444445,4.7368421052631575,5.076923076923077,4.523809523809524,5.875,5.3125,5.071428571428571,5.586206896551724,4.0476190476190474,4.947368421052632,4.166666666666667,4.958333333333333,5.0,4.447368421052632,5.2727272727272725,6.107142857142857,5.068965517241379,4.923076923076923,4.424242424242424,5.2,5.2,6.133333333333334,4.571428571428571,4.758620689655173,6.3076923076923075,5.828571428571428,6.095238095238095,5.46875,4.947368421052632,5.357142857142857,5.2,4.3125,4.586206896551724,4.84375,6.138888888888889,5.0,4.341463414634147,2.8666666666666667,5.684210526315789,7.631578947368421,4.526315789473684,5.382352941176471,4.1923076923076925,5.482758620689655,7.487179487179487,6.818181818181818,4.48,4.846153846153846,5.148148148148148,7.125,5.444444444444445,5.305555555555555,7.206896551724138,5.147058823529412,5.6571428571428575,3.347826086956522,3.3333333333333335,6.875,4.645161290322581,5.777777777777778,4.357142857142857,5.88,6.027027027027027,4.65625,4.523809523809524,6.066666666666666,6.466666666666667,6.583333333333333,5.541666666666667,8.842105263157896,6.157894736842105,5.617647058823529,4.92,4.275862068965517,5.869565217391305,4.344827586206897,5.458333333333333,6.066666666666666,4.482758620689655,5.0,5.913043478260869,4.315789473684211,5.294117647058823,5.904761904761905,5.6923076923076925,4.27027027027027,7.090909090909091,5.666666666666667,5.230769230769231,4.533333333333333,4.5,5.696969696969697,4.153846153846154,4.615384615384615,5.6875,4.533333333333333,4.142857142857143,7.333333333333333,5.064516129032258,7.111111111111111,5.037037037037037,4.0588235294117645,4.527777777777778,4.607142857142857,5.033333333333333,3.6315789473684212,5.648648648648648,5.666666666666667,5.541666666666667,6.393939393939394,4.04,6.466666666666667,5.538461538461538,6.588235294117647,4.476190476190476,5.190476190476191,6.45945945945946,5.416666666666667,3.5294117647058822,5.741935483870968,4.7105263157894735,6.24,6.0,5.321428571428571,4.894736842105263,4.615384615384615,5.086956521739131,6.416666666666667,6.642857142857143,5.709677419354839,5.05,4.6,3.5789473684210527,5.1,5.038461538461538,6.4375,5.157894736842105,6.6923076923076925,4.228571428571429,6.0,5.230769230769231,3.8823529411764706,5.7272727272727275,4.869565217391305,5.117647058823529,6.0,5.32,5.413793103448276,5.363636363636363,4.035714285714286,5.35,4.257142857142857,4.588235294117647,5.5625,5.208333333333333,4.458333333333333,5.5,5.891891891891892,5.928571428571429,4.214285714285714,5.866666666666666,4.67741935483871,6.291666666666667,5.45945945945946,5.0,5.826086956521739,4.944444444444445,5.026315789473684,6.111111111111111,5.7,4.0,6.083333333333333,5.689655172413793,5.4,5.714285714285714,4.576923076923077,5.0,5.0,4.7272727272727275,6.2,6.96,5.517241379310345,5.136363636363637,7.242424242424242,4.357142857142857,4.52,4.733333333333333,5.457142857142857,4.055555555555555,4.071428571428571,6.65,3.227272727272727,5.2631578947368425,5.571428571428571,4.130434782608695,6.625,4.357142857142857,5.054054054054054,5.67741935483871,5.0,4.533333333333333,4.833333333333333,6.071428571428571,6.533333333333333,4.827586206896552,5.1891891891891895,4.545454545454546,4.371428571428571,4.125,5.05,6.230769230769231,4.666666666666667,4.827586206896552,3.7777777777777777,4.894736842105263,5.2,4.25,4.833333333333333,5.076923076923077,6.0285714285714285,5.4,4.5625,4.470588235294118,3.951219512195122,5.814814814814815,5.351351351351352,5.214285714285714,4.608695652173913,5.235294117647059,4.7727272727272725,6.147058823529412,4.473684210526316,4.685714285714286,5.2727272727272725,5.730769230769231,6.310344827586207,5.0476190476190474,6.181818181818182,4.638888888888889,4.2727272727272725,5.684210526315789,4.461538461538462,6.04,4.814814814814815,5.5,4.428571428571429,5.564102564102564,6.2,3.8333333333333335,6.235294117647059,3.8,6.2,5.333333333333333,4.257142857142857,5.0,4.296296296296297,4.055555555555555,6.535714285714286,4.514285714285714,4.862068965517241,4.666666666666667,5.588235294117647,5.419354838709677,6.25,5.5,7.62962962962963,4.764705882352941,3.625,6.2631578947368425,6.466666666666667,4.857142857142857,5.724137931034483,4.466666666666667,5.071428571428571,4.321428571428571,5.931034482758621,6.136363636363637,5.333333333333333,5.444444444444445,5.121212121212121,5.578947368421052,4.421052631578948,5.4411764705882355,5.375,3.7058823529411766,4.8,6.0,4.0625,7.0,7.384615384615385,6.85,5.151515151515151,5.71875,4.631578947368421,4.363636363636363,6.54054054054054,4.346153846153846,5.064516129032258,3.8947368421052633,5.071428571428571,7.171428571428572,7.269230769230769,4.578947368421052,4.342105263157895,4.615384615384615,5.521739130434782,5.388888888888889,5.702702702702703,5.083333333333333,5.290322580645161,5.7894736842105265,5.611111111111111,6.787878787878788,5.615384615384615,4.96969696969697,5.46875,4.151515151515151,4.793103448275862,4.541666666666667,3.810810810810811,6.086956521739131,4.333333333333333,4.294117647058823,4.5,5.916666666666667,5.666666666666667,5.84375,4.791666666666667,4.575757575757576,6.6,5.44,5.133333333333334,6.684210526315789,5.966666666666667,5.05,5.357142857142857,5.794117647058823,4.954545454545454,5.2727272727272725,4.925925925925926,5.206896551724138,5.684210526315789,4.913043478260869,5.483870967741935,4.527777777777778,6.095238095238095,5.9714285714285715,4.476190476190476,4.294117647058823,5.166666666666667,5.235294117647059,5.216216216216216,5.351351351351352,5.67741935483871,4.733333333333333,5.961538461538462,6.64,5.527777777777778,5.16,4.904761904761905,5.447368421052632,3.466666666666667,4.625,4.241379310344827,3.875,4.176470588235294,6.277777777777778,3.923076923076923,4.074074074074074,7.257142857142857,5.2,6.0,4.64,4.5625,5.190476190476191,5.071428571428571,5.521739130434782,4.739130434782608,5.304347826086956,5.96875,4.387096774193548,5.909090909090909,6.029411764705882,4.523809523809524,3.8666666666666667,5.25,5.954545454545454,4.903225806451613,5.142857142857143,5.424242424242424,6.214285714285714,4.184210526315789,5.625,5.461538461538462,5.888888888888889,5.409090909090909,3.357142857142857,4.2,5.228571428571429,5.818181818181818,5.461538461538462,4.428571428571429,5.764705882352941,4.375,3.8974358974358974,4.571428571428571,5.071428571428571,5.378378378378378,7.285714285714286,5.7,5.555555555555555,5.285714285714286,5.9411764705882355,5.818181818181818,5.485714285714286,4.689655172413793,4.607142857142857,4.25,6.410256410256411,5.523809523809524,6.75,4.615384615384615,4.241379310344827,6.714285714285714,5.105263157894737,3.608695652173913,6.136363636363637,6.1875,4.933333333333334,4.909090909090909,4.545454545454546,5.0,6.4375,5.875,4.636363636363637,3.764705882352941,5.62962962962963,5.217391304347826,5.181818181818182,5.48,4.217391304347826,5.96875,5.433333333333334,3.857142857142857,3.892857142857143,4.791666666666667,4.45945945945946,4.956521739130435,7.071428571428571,5.666666666666667,5.111111111111111,5.111111111111111,4.411764705882353,5.552631578947368,4.6923076923076925,3.5625,4.888888888888889,5.136363636363637,4.416666666666667,6.083333333333333,5.428571428571429,4.516129032258065,4.136363636363637,3.619047619047619,6.068965517241379,5.44,4.3076923076923075,4.9523809523809526,5.764705882352941,5.8,4.428571428571429,5.1891891891891895,5.5,6.0,5.071428571428571,4.67741935483871,2.8461538461538463,5.4,4.826086956521739,4.75,3.806451612903226,6.380952380952381,5.0,5.32258064516129,4.545454545454546,5.470588235294118,5.0,3.611111111111111,6.304347826086956,4.714285714285714,5.457142857142857,5.470588235294118,3.9,4.2,5.166666666666667,7.875,6.2,6.608695652173913,4.1,5.739130434782608,4.333333333333333,5.181818181818182,6.105263157894737,5.5,4.472222222222222,5.8,5.142857142857143,5.315789473684211,4.2,5.447368421052632,4.6923076923076925,5.53125,6.25,5.5,5.583333333333333,4.518518518518518,4.3,6.0,7.0,5.678571428571429,5.7,5.571428571428571,4.9523809523809526,4.96,5.068965517241379,4.62962962962963,6.666666666666667,4.25,5.967741935483871,4.5,6.105263157894737,5.071428571428571,3.75,3.6875,6.571428571428571,5.041666666666667,5.666666666666667,5.566666666666666,5.3076923076923075,5.642857142857143,5.517241379310345,5.3478260869565215,5.333333333333333,7.076923076923077,4.096774193548387,5.238095238095238,4.851851851851852,5.611111111111111,5.583333333333333,5.111111111111111,5.0,6.0,6.476190476190476,4.137931034482759,4.8,4.8076923076923075,5.222222222222222,5.962962962962963,6.217391304347826,5.571428571428571,6.826086956521739,4.75,5.67741935483871,4.571428571428571,4.421052631578948,5.055555555555555,5.421052631578948,5.238095238095238,4.153846153846154,5.178571428571429,5.428571428571429,5.785714285714286,5.2631578947368425,5.423076923076923,3.88,4.875,3.8666666666666667,5.0,4.444444444444445,3.9166666666666665,5.105263157894737,5.555555555555555,4.833333333333333,4.611111111111111,5.16,6.16,4.111111111111111,4.774193548387097,4.588235294117647,5.266666666666667,4.694444444444445,7.230769230769231,5.782608695652174,3.875,6.222222222222222,5.605263157894737,5.217391304347826,5.76,5.1875,4.266666666666667,5.645161290322581,6.225806451612903,4.827586206896552,4.470588235294118,5.615384615384615,5.096774193548387,6.769230769230769,5.384615384615385,5.6,6.5,4.5,6.620689655172414,4.21875,5.2,4.366666666666666,4.129032258064516,5.2,4.6875,4.142857142857143,3.7142857142857144,5.333333333333333,6.45,5.0,5.896551724137931,5.217391304347826,4.258064516129032,4.814814814814815,5.083333333333333,4.266666666666667,4.318181818181818,4.828571428571428,5.882352941176471,6.9655172413793105,4.875,4.0,4.038461538461538,5.882352941176471,5.541666666666667,6.351351351351352,5.052631578947368,5.238095238095238,5.5,5.371428571428571,5.793103448275862,7.1,5.0,3.787878787878788,4.645161290322581,6.147058823529412,4.2,4.964285714285714,4.870967741935484,4.764705882352941,5.846153846153846,3.9166666666666665,5.0,4.702702702702703,4.066666666666666,4.925925925925926,5.791666666666667,5.0,5.5,5.59375,4.55,6.368421052631579,3.423076923076923,6.1875,6.2105263157894735,4.366666666666666,5.666666666666667,3.6923076923076925,5.935483870967742,5.846153846153846,3.6666666666666665,5.606060606060606,5.230769230769231,5.7407407407407405,6.269230769230769,5.913043478260869,4.666666666666667,6.636363636363637,3.6666666666666665,5.111111111111111,5.346153846153846,5.52,5.514285714285714,6.7272727272727275,4.96875,7.090909090909091,4.384615384615385,4.470588235294118,5.363636363636363,5.482758620689655,5.285714285714286,4.611111111111111,4.181818181818182,5.090909090909091,5.956521739130435,4.733333333333333,5.785714285714286,4.59375,5.08,5.081081081081081,4.153846153846154,4.588235294117647,7.809523809523809,5.238095238095238,4.892857142857143,3.8125,6.5,5.083333333333333,5.171428571428572,5.815789473684211,4.928571428571429,6.4,4.043478260869565],\"type\":\"histogram\"}],                        {\"barmode\":\"overlay\",\"legend\":{\"bgcolor\":\"#F5F6F9\",\"font\":{\"color\":\"#4D5663\"}},\"paper_bgcolor\":\"#F5F6F9\",\"plot_bgcolor\":\"#F5F6F9\",\"template\":{\"data\":{\"barpolar\":[{\"marker\":{\"line\":{\"color\":\"#E5ECF6\",\"width\":0.5},\"pattern\":{\"fillmode\":\"overlay\",\"size\":10,\"solidity\":0.2}},\"type\":\"barpolar\"}],\"bar\":[{\"error_x\":{\"color\":\"#2a3f5f\"},\"error_y\":{\"color\":\"#2a3f5f\"},\"marker\":{\"line\":{\"color\":\"#E5ECF6\",\"width\":0.5},\"pattern\":{\"fillmode\":\"overlay\",\"size\":10,\"solidity\":0.2}},\"type\":\"bar\"}],\"carpet\":[{\"aaxis\":{\"endlinecolor\":\"#2a3f5f\",\"gridcolor\":\"white\",\"linecolor\":\"white\",\"minorgridcolor\":\"white\",\"startlinecolor\":\"#2a3f5f\"},\"baxis\":{\"endlinecolor\":\"#2a3f5f\",\"gridcolor\":\"white\",\"linecolor\":\"white\",\"minorgridcolor\":\"white\",\"startlinecolor\":\"#2a3f5f\"},\"type\":\"carpet\"}],\"choropleth\":[{\"colorbar\":{\"outlinewidth\":0,\"ticks\":\"\"},\"type\":\"choropleth\"}],\"contourcarpet\":[{\"colorbar\":{\"outlinewidth\":0,\"ticks\":\"\"},\"type\":\"contourcarpet\"}],\"contour\":[{\"colorbar\":{\"outlinewidth\":0,\"ticks\":\"\"},\"colorscale\":[[0.0,\"#0d0887\"],[0.1111111111111111,\"#46039f\"],[0.2222222222222222,\"#7201a8\"],[0.3333333333333333,\"#9c179e\"],[0.4444444444444444,\"#bd3786\"],[0.5555555555555556,\"#d8576b\"],[0.6666666666666666,\"#ed7953\"],[0.7777777777777778,\"#fb9f3a\"],[0.8888888888888888,\"#fdca26\"],[1.0,\"#f0f921\"]],\"type\":\"contour\"}],\"heatmapgl\":[{\"colorbar\":{\"outlinewidth\":0,\"ticks\":\"\"},\"colorscale\":[[0.0,\"#0d0887\"],[0.1111111111111111,\"#46039f\"],[0.2222222222222222,\"#7201a8\"],[0.3333333333333333,\"#9c179e\"],[0.4444444444444444,\"#bd3786\"],[0.5555555555555556,\"#d8576b\"],[0.6666666666666666,\"#ed7953\"],[0.7777777777777778,\"#fb9f3a\"],[0.8888888888888888,\"#fdca26\"],[1.0,\"#f0f921\"]],\"type\":\"heatmapgl\"}],\"heatmap\":[{\"colorbar\":{\"outlinewidth\":0,\"ticks\":\"\"},\"colorscale\":[[0.0,\"#0d0887\"],[0.1111111111111111,\"#46039f\"],[0.2222222222222222,\"#7201a8\"],[0.3333333333333333,\"#9c179e\"],[0.4444444444444444,\"#bd3786\"],[0.5555555555555556,\"#d8576b\"],[0.6666666666666666,\"#ed7953\"],[0.7777777777777778,\"#fb9f3a\"],[0.8888888888888888,\"#fdca26\"],[1.0,\"#f0f921\"]],\"type\":\"heatmap\"}],\"histogram2dcontour\":[{\"colorbar\":{\"outlinewidth\":0,\"ticks\":\"\"},\"colorscale\":[[0.0,\"#0d0887\"],[0.1111111111111111,\"#46039f\"],[0.2222222222222222,\"#7201a8\"],[0.3333333333333333,\"#9c179e\"],[0.4444444444444444,\"#bd3786\"],[0.5555555555555556,\"#d8576b\"],[0.6666666666666666,\"#ed7953\"],[0.7777777777777778,\"#fb9f3a\"],[0.8888888888888888,\"#fdca26\"],[1.0,\"#f0f921\"]],\"type\":\"histogram2dcontour\"}],\"histogram2d\":[{\"colorbar\":{\"outlinewidth\":0,\"ticks\":\"\"},\"colorscale\":[[0.0,\"#0d0887\"],[0.1111111111111111,\"#46039f\"],[0.2222222222222222,\"#7201a8\"],[0.3333333333333333,\"#9c179e\"],[0.4444444444444444,\"#bd3786\"],[0.5555555555555556,\"#d8576b\"],[0.6666666666666666,\"#ed7953\"],[0.7777777777777778,\"#fb9f3a\"],[0.8888888888888888,\"#fdca26\"],[1.0,\"#f0f921\"]],\"type\":\"histogram2d\"}],\"histogram\":[{\"marker\":{\"pattern\":{\"fillmode\":\"overlay\",\"size\":10,\"solidity\":0.2}},\"type\":\"histogram\"}],\"mesh3d\":[{\"colorbar\":{\"outlinewidth\":0,\"ticks\":\"\"},\"type\":\"mesh3d\"}],\"parcoords\":[{\"line\":{\"colorbar\":{\"outlinewidth\":0,\"ticks\":\"\"}},\"type\":\"parcoords\"}],\"pie\":[{\"automargin\":true,\"type\":\"pie\"}],\"scatter3d\":[{\"line\":{\"colorbar\":{\"outlinewidth\":0,\"ticks\":\"\"}},\"marker\":{\"colorbar\":{\"outlinewidth\":0,\"ticks\":\"\"}},\"type\":\"scatter3d\"}],\"scattercarpet\":[{\"marker\":{\"colorbar\":{\"outlinewidth\":0,\"ticks\":\"\"}},\"type\":\"scattercarpet\"}],\"scattergeo\":[{\"marker\":{\"colorbar\":{\"outlinewidth\":0,\"ticks\":\"\"}},\"type\":\"scattergeo\"}],\"scattergl\":[{\"marker\":{\"colorbar\":{\"outlinewidth\":0,\"ticks\":\"\"}},\"type\":\"scattergl\"}],\"scattermapbox\":[{\"marker\":{\"colorbar\":{\"outlinewidth\":0,\"ticks\":\"\"}},\"type\":\"scattermapbox\"}],\"scatterpolargl\":[{\"marker\":{\"colorbar\":{\"outlinewidth\":0,\"ticks\":\"\"}},\"type\":\"scatterpolargl\"}],\"scatterpolar\":[{\"marker\":{\"colorbar\":{\"outlinewidth\":0,\"ticks\":\"\"}},\"type\":\"scatterpolar\"}],\"scatter\":[{\"fillpattern\":{\"fillmode\":\"overlay\",\"size\":10,\"solidity\":0.2},\"type\":\"scatter\"}],\"scatterternary\":[{\"marker\":{\"colorbar\":{\"outlinewidth\":0,\"ticks\":\"\"}},\"type\":\"scatterternary\"}],\"surface\":[{\"colorbar\":{\"outlinewidth\":0,\"ticks\":\"\"},\"colorscale\":[[0.0,\"#0d0887\"],[0.1111111111111111,\"#46039f\"],[0.2222222222222222,\"#7201a8\"],[0.3333333333333333,\"#9c179e\"],[0.4444444444444444,\"#bd3786\"],[0.5555555555555556,\"#d8576b\"],[0.6666666666666666,\"#ed7953\"],[0.7777777777777778,\"#fb9f3a\"],[0.8888888888888888,\"#fdca26\"],[1.0,\"#f0f921\"]],\"type\":\"surface\"}],\"table\":[{\"cells\":{\"fill\":{\"color\":\"#EBF0F8\"},\"line\":{\"color\":\"white\"}},\"header\":{\"fill\":{\"color\":\"#C8D4E3\"},\"line\":{\"color\":\"white\"}},\"type\":\"table\"}]},\"layout\":{\"annotationdefaults\":{\"arrowcolor\":\"#2a3f5f\",\"arrowhead\":0,\"arrowwidth\":1},\"autotypenumbers\":\"strict\",\"coloraxis\":{\"colorbar\":{\"outlinewidth\":0,\"ticks\":\"\"}},\"colorscale\":{\"diverging\":[[0,\"#8e0152\"],[0.1,\"#c51b7d\"],[0.2,\"#de77ae\"],[0.3,\"#f1b6da\"],[0.4,\"#fde0ef\"],[0.5,\"#f7f7f7\"],[0.6,\"#e6f5d0\"],[0.7,\"#b8e186\"],[0.8,\"#7fbc41\"],[0.9,\"#4d9221\"],[1,\"#276419\"]],\"sequential\":[[0.0,\"#0d0887\"],[0.1111111111111111,\"#46039f\"],[0.2222222222222222,\"#7201a8\"],[0.3333333333333333,\"#9c179e\"],[0.4444444444444444,\"#bd3786\"],[0.5555555555555556,\"#d8576b\"],[0.6666666666666666,\"#ed7953\"],[0.7777777777777778,\"#fb9f3a\"],[0.8888888888888888,\"#fdca26\"],[1.0,\"#f0f921\"]],\"sequentialminus\":[[0.0,\"#0d0887\"],[0.1111111111111111,\"#46039f\"],[0.2222222222222222,\"#7201a8\"],[0.3333333333333333,\"#9c179e\"],[0.4444444444444444,\"#bd3786\"],[0.5555555555555556,\"#d8576b\"],[0.6666666666666666,\"#ed7953\"],[0.7777777777777778,\"#fb9f3a\"],[0.8888888888888888,\"#fdca26\"],[1.0,\"#f0f921\"]]},\"colorway\":[\"#636efa\",\"#EF553B\",\"#00cc96\",\"#ab63fa\",\"#FFA15A\",\"#19d3f3\",\"#FF6692\",\"#B6E880\",\"#FF97FF\",\"#FECB52\"],\"font\":{\"color\":\"#2a3f5f\"},\"geo\":{\"bgcolor\":\"white\",\"lakecolor\":\"white\",\"landcolor\":\"#E5ECF6\",\"showlakes\":true,\"showland\":true,\"subunitcolor\":\"white\"},\"hoverlabel\":{\"align\":\"left\"},\"hovermode\":\"closest\",\"mapbox\":{\"style\":\"light\"},\"paper_bgcolor\":\"white\",\"plot_bgcolor\":\"#E5ECF6\",\"polar\":{\"angularaxis\":{\"gridcolor\":\"white\",\"linecolor\":\"white\",\"ticks\":\"\"},\"bgcolor\":\"#E5ECF6\",\"radialaxis\":{\"gridcolor\":\"white\",\"linecolor\":\"white\",\"ticks\":\"\"}},\"scene\":{\"xaxis\":{\"backgroundcolor\":\"#E5ECF6\",\"gridcolor\":\"white\",\"gridwidth\":2,\"linecolor\":\"white\",\"showbackground\":true,\"ticks\":\"\",\"zerolinecolor\":\"white\"},\"yaxis\":{\"backgroundcolor\":\"#E5ECF6\",\"gridcolor\":\"white\",\"gridwidth\":2,\"linecolor\":\"white\",\"showbackground\":true,\"ticks\":\"\",\"zerolinecolor\":\"white\"},\"zaxis\":{\"backgroundcolor\":\"#E5ECF6\",\"gridcolor\":\"white\",\"gridwidth\":2,\"linecolor\":\"white\",\"showbackground\":true,\"ticks\":\"\",\"zerolinecolor\":\"white\"}},\"shapedefaults\":{\"line\":{\"color\":\"#2a3f5f\"}},\"ternary\":{\"aaxis\":{\"gridcolor\":\"white\",\"linecolor\":\"white\",\"ticks\":\"\"},\"baxis\":{\"gridcolor\":\"white\",\"linecolor\":\"white\",\"ticks\":\"\"},\"bgcolor\":\"#E5ECF6\",\"caxis\":{\"gridcolor\":\"white\",\"linecolor\":\"white\",\"ticks\":\"\"}},\"title\":{\"x\":0.05},\"xaxis\":{\"automargin\":true,\"gridcolor\":\"white\",\"linecolor\":\"white\",\"ticks\":\"\",\"title\":{\"standoff\":15},\"zerolinecolor\":\"white\",\"zerolinewidth\":2},\"yaxis\":{\"automargin\":true,\"gridcolor\":\"white\",\"linecolor\":\"white\",\"ticks\":\"\",\"title\":{\"standoff\":15},\"zerolinecolor\":\"white\",\"zerolinewidth\":2}}},\"title\":{\"font\":{\"color\":\"#4D5663\"},\"text\":\"Distribution of Average Word Length\"},\"xaxis\":{\"gridcolor\":\"#E1E5ED\",\"showgrid\":true,\"tickfont\":{\"color\":\"#4D5663\"},\"title\":{\"font\":{\"color\":\"#4D5663\"},\"text\":\"Average Word Length\"},\"zerolinecolor\":\"#E1E5ED\"},\"yaxis\":{\"gridcolor\":\"#E1E5ED\",\"showgrid\":true,\"tickfont\":{\"color\":\"#4D5663\"},\"title\":{\"font\":{\"color\":\"#4D5663\"},\"text\":\"Count\"},\"zerolinecolor\":\"#E1E5ED\"}},                        {\"showLink\": true, \"linkText\": \"Export to plot.ly\", \"plotlyServerURL\": \"https://plot.ly\", \"responsive\": true}                    ).then(function(){\n",
       "                            \n",
       "var gd = document.getElementById('d2d45396-94a2-457d-92a7-f6931f6d6ec7');\n",
       "var x = new MutationObserver(function (mutations, observer) {{\n",
       "        var display = window.getComputedStyle(gd).display;\n",
       "        if (!display || display === 'none') {{\n",
       "            console.log([gd, 'removed!']);\n",
       "            Plotly.purge(gd);\n",
       "            observer.disconnect();\n",
       "        }}\n",
       "}});\n",
       "\n",
       "// Listen for the removal of the full notebook cells\n",
       "var notebookContainer = gd.closest('#notebook-container');\n",
       "if (notebookContainer) {{\n",
       "    x.observe(notebookContainer, {childList: true});\n",
       "}}\n",
       "\n",
       "// Listen for the clearing of the current output cell\n",
       "var outputEl = gd.closest('.output');\n",
       "if (outputEl) {{\n",
       "    x.observe(outputEl, {childList: true});\n",
       "}}\n",
       "\n",
       "                        })                };                });            </script>        </div>"
      ]
     },
     "metadata": {},
     "output_type": "display_data"
    }
   ],
   "source": [
    "df['avg_word_length'].iplot(kind = 'hist', xTitle = 'Average Word Length', yTitle = 'Count', title = \"Distribution of Average Word Length\", bins = 50)"
   ]
  },
  {
   "cell_type": "markdown",
   "metadata": {},
   "source": [
    "#### Distribution of Unigram, Bigram, and Trigram"
   ]
  },
  {
   "cell_type": "code",
   "execution_count": 39,
   "metadata": {},
   "outputs": [],
   "source": [
    "from sklearn.feature_extraction.text import CountVectorizer"
   ]
  },
  {
   "cell_type": "code",
   "execution_count": 53,
   "metadata": {},
   "outputs": [],
   "source": [
    "def get_top_n_words(x, n):\n",
    "    vec = CountVectorizer().fit(x)\n",
    "    bow = vec.transform(x)\n",
    "    sum_words = bow.sum(axis = 0)\n",
    "    word_freq = [(word, sum_words[0, idx]) for word, idx in vec.vocabulary_.items()]\n",
    "    word_freq = sorted(word_freq, key = lambda x: x[1], reverse = True)\n",
    "    return word_freq[:n]"
   ]
  },
  {
   "cell_type": "markdown",
   "metadata": {},
   "source": [
    "##### Unigrams"
   ]
  },
  {
   "cell_type": "code",
   "execution_count": 65,
   "metadata": {},
   "outputs": [
    {
     "data": {
      "application/vnd.plotly.v1+json": {
       "config": {
        "linkText": "Export to plot.ly",
        "plotlyServerURL": "https://plot.ly",
        "showLink": true
       },
       "data": [
        {
         "marker": {
          "color": "rgba(255, 153, 51, 0.6)",
          "line": {
           "color": "rgba(255, 153, 51, 1.0)",
           "width": 1
          }
         },
         "name": "Frequency",
         "orientation": "v",
         "text": "",
         "type": "bar",
         "x": [
          "the",
          "and",
          "to",
          "of",
          "in",
          "we",
          "our",
          "that",
          "is",
          "are",
          "for",
          "as",
          "with",
          "on",
          "have",
          "energy",
          "by",
          "will",
          "at",
          "from"
         ],
         "y": [
          2727,
          1860,
          1844,
          1540,
          1369,
          1159,
          843,
          707,
          677,
          512,
          480,
          432,
          426,
          420,
          355,
          320,
          301,
          246,
          244,
          244
         ]
        }
       ],
       "layout": {
        "legend": {
         "bgcolor": "#F5F6F9",
         "font": {
          "color": "#4D5663"
         }
        },
        "paper_bgcolor": "#F5F6F9",
        "plot_bgcolor": "#F5F6F9",
        "template": {
         "data": {
          "bar": [
           {
            "error_x": {
             "color": "#2a3f5f"
            },
            "error_y": {
             "color": "#2a3f5f"
            },
            "marker": {
             "line": {
              "color": "#E5ECF6",
              "width": 0.5
             },
             "pattern": {
              "fillmode": "overlay",
              "size": 10,
              "solidity": 0.2
             }
            },
            "type": "bar"
           }
          ],
          "barpolar": [
           {
            "marker": {
             "line": {
              "color": "#E5ECF6",
              "width": 0.5
             },
             "pattern": {
              "fillmode": "overlay",
              "size": 10,
              "solidity": 0.2
             }
            },
            "type": "barpolar"
           }
          ],
          "carpet": [
           {
            "aaxis": {
             "endlinecolor": "#2a3f5f",
             "gridcolor": "white",
             "linecolor": "white",
             "minorgridcolor": "white",
             "startlinecolor": "#2a3f5f"
            },
            "baxis": {
             "endlinecolor": "#2a3f5f",
             "gridcolor": "white",
             "linecolor": "white",
             "minorgridcolor": "white",
             "startlinecolor": "#2a3f5f"
            },
            "type": "carpet"
           }
          ],
          "choropleth": [
           {
            "colorbar": {
             "outlinewidth": 0,
             "ticks": ""
            },
            "type": "choropleth"
           }
          ],
          "contour": [
           {
            "colorbar": {
             "outlinewidth": 0,
             "ticks": ""
            },
            "colorscale": [
             [
              0,
              "#0d0887"
             ],
             [
              0.1111111111111111,
              "#46039f"
             ],
             [
              0.2222222222222222,
              "#7201a8"
             ],
             [
              0.3333333333333333,
              "#9c179e"
             ],
             [
              0.4444444444444444,
              "#bd3786"
             ],
             [
              0.5555555555555556,
              "#d8576b"
             ],
             [
              0.6666666666666666,
              "#ed7953"
             ],
             [
              0.7777777777777778,
              "#fb9f3a"
             ],
             [
              0.8888888888888888,
              "#fdca26"
             ],
             [
              1,
              "#f0f921"
             ]
            ],
            "type": "contour"
           }
          ],
          "contourcarpet": [
           {
            "colorbar": {
             "outlinewidth": 0,
             "ticks": ""
            },
            "type": "contourcarpet"
           }
          ],
          "heatmap": [
           {
            "colorbar": {
             "outlinewidth": 0,
             "ticks": ""
            },
            "colorscale": [
             [
              0,
              "#0d0887"
             ],
             [
              0.1111111111111111,
              "#46039f"
             ],
             [
              0.2222222222222222,
              "#7201a8"
             ],
             [
              0.3333333333333333,
              "#9c179e"
             ],
             [
              0.4444444444444444,
              "#bd3786"
             ],
             [
              0.5555555555555556,
              "#d8576b"
             ],
             [
              0.6666666666666666,
              "#ed7953"
             ],
             [
              0.7777777777777778,
              "#fb9f3a"
             ],
             [
              0.8888888888888888,
              "#fdca26"
             ],
             [
              1,
              "#f0f921"
             ]
            ],
            "type": "heatmap"
           }
          ],
          "heatmapgl": [
           {
            "colorbar": {
             "outlinewidth": 0,
             "ticks": ""
            },
            "colorscale": [
             [
              0,
              "#0d0887"
             ],
             [
              0.1111111111111111,
              "#46039f"
             ],
             [
              0.2222222222222222,
              "#7201a8"
             ],
             [
              0.3333333333333333,
              "#9c179e"
             ],
             [
              0.4444444444444444,
              "#bd3786"
             ],
             [
              0.5555555555555556,
              "#d8576b"
             ],
             [
              0.6666666666666666,
              "#ed7953"
             ],
             [
              0.7777777777777778,
              "#fb9f3a"
             ],
             [
              0.8888888888888888,
              "#fdca26"
             ],
             [
              1,
              "#f0f921"
             ]
            ],
            "type": "heatmapgl"
           }
          ],
          "histogram": [
           {
            "marker": {
             "pattern": {
              "fillmode": "overlay",
              "size": 10,
              "solidity": 0.2
             }
            },
            "type": "histogram"
           }
          ],
          "histogram2d": [
           {
            "colorbar": {
             "outlinewidth": 0,
             "ticks": ""
            },
            "colorscale": [
             [
              0,
              "#0d0887"
             ],
             [
              0.1111111111111111,
              "#46039f"
             ],
             [
              0.2222222222222222,
              "#7201a8"
             ],
             [
              0.3333333333333333,
              "#9c179e"
             ],
             [
              0.4444444444444444,
              "#bd3786"
             ],
             [
              0.5555555555555556,
              "#d8576b"
             ],
             [
              0.6666666666666666,
              "#ed7953"
             ],
             [
              0.7777777777777778,
              "#fb9f3a"
             ],
             [
              0.8888888888888888,
              "#fdca26"
             ],
             [
              1,
              "#f0f921"
             ]
            ],
            "type": "histogram2d"
           }
          ],
          "histogram2dcontour": [
           {
            "colorbar": {
             "outlinewidth": 0,
             "ticks": ""
            },
            "colorscale": [
             [
              0,
              "#0d0887"
             ],
             [
              0.1111111111111111,
              "#46039f"
             ],
             [
              0.2222222222222222,
              "#7201a8"
             ],
             [
              0.3333333333333333,
              "#9c179e"
             ],
             [
              0.4444444444444444,
              "#bd3786"
             ],
             [
              0.5555555555555556,
              "#d8576b"
             ],
             [
              0.6666666666666666,
              "#ed7953"
             ],
             [
              0.7777777777777778,
              "#fb9f3a"
             ],
             [
              0.8888888888888888,
              "#fdca26"
             ],
             [
              1,
              "#f0f921"
             ]
            ],
            "type": "histogram2dcontour"
           }
          ],
          "mesh3d": [
           {
            "colorbar": {
             "outlinewidth": 0,
             "ticks": ""
            },
            "type": "mesh3d"
           }
          ],
          "parcoords": [
           {
            "line": {
             "colorbar": {
              "outlinewidth": 0,
              "ticks": ""
             }
            },
            "type": "parcoords"
           }
          ],
          "pie": [
           {
            "automargin": true,
            "type": "pie"
           }
          ],
          "scatter": [
           {
            "fillpattern": {
             "fillmode": "overlay",
             "size": 10,
             "solidity": 0.2
            },
            "type": "scatter"
           }
          ],
          "scatter3d": [
           {
            "line": {
             "colorbar": {
              "outlinewidth": 0,
              "ticks": ""
             }
            },
            "marker": {
             "colorbar": {
              "outlinewidth": 0,
              "ticks": ""
             }
            },
            "type": "scatter3d"
           }
          ],
          "scattercarpet": [
           {
            "marker": {
             "colorbar": {
              "outlinewidth": 0,
              "ticks": ""
             }
            },
            "type": "scattercarpet"
           }
          ],
          "scattergeo": [
           {
            "marker": {
             "colorbar": {
              "outlinewidth": 0,
              "ticks": ""
             }
            },
            "type": "scattergeo"
           }
          ],
          "scattergl": [
           {
            "marker": {
             "colorbar": {
              "outlinewidth": 0,
              "ticks": ""
             }
            },
            "type": "scattergl"
           }
          ],
          "scattermapbox": [
           {
            "marker": {
             "colorbar": {
              "outlinewidth": 0,
              "ticks": ""
             }
            },
            "type": "scattermapbox"
           }
          ],
          "scatterpolar": [
           {
            "marker": {
             "colorbar": {
              "outlinewidth": 0,
              "ticks": ""
             }
            },
            "type": "scatterpolar"
           }
          ],
          "scatterpolargl": [
           {
            "marker": {
             "colorbar": {
              "outlinewidth": 0,
              "ticks": ""
             }
            },
            "type": "scatterpolargl"
           }
          ],
          "scatterternary": [
           {
            "marker": {
             "colorbar": {
              "outlinewidth": 0,
              "ticks": ""
             }
            },
            "type": "scatterternary"
           }
          ],
          "surface": [
           {
            "colorbar": {
             "outlinewidth": 0,
             "ticks": ""
            },
            "colorscale": [
             [
              0,
              "#0d0887"
             ],
             [
              0.1111111111111111,
              "#46039f"
             ],
             [
              0.2222222222222222,
              "#7201a8"
             ],
             [
              0.3333333333333333,
              "#9c179e"
             ],
             [
              0.4444444444444444,
              "#bd3786"
             ],
             [
              0.5555555555555556,
              "#d8576b"
             ],
             [
              0.6666666666666666,
              "#ed7953"
             ],
             [
              0.7777777777777778,
              "#fb9f3a"
             ],
             [
              0.8888888888888888,
              "#fdca26"
             ],
             [
              1,
              "#f0f921"
             ]
            ],
            "type": "surface"
           }
          ],
          "table": [
           {
            "cells": {
             "fill": {
              "color": "#EBF0F8"
             },
             "line": {
              "color": "white"
             }
            },
            "header": {
             "fill": {
              "color": "#C8D4E3"
             },
             "line": {
              "color": "white"
             }
            },
            "type": "table"
           }
          ]
         },
         "layout": {
          "annotationdefaults": {
           "arrowcolor": "#2a3f5f",
           "arrowhead": 0,
           "arrowwidth": 1
          },
          "autotypenumbers": "strict",
          "coloraxis": {
           "colorbar": {
            "outlinewidth": 0,
            "ticks": ""
           }
          },
          "colorscale": {
           "diverging": [
            [
             0,
             "#8e0152"
            ],
            [
             0.1,
             "#c51b7d"
            ],
            [
             0.2,
             "#de77ae"
            ],
            [
             0.3,
             "#f1b6da"
            ],
            [
             0.4,
             "#fde0ef"
            ],
            [
             0.5,
             "#f7f7f7"
            ],
            [
             0.6,
             "#e6f5d0"
            ],
            [
             0.7,
             "#b8e186"
            ],
            [
             0.8,
             "#7fbc41"
            ],
            [
             0.9,
             "#4d9221"
            ],
            [
             1,
             "#276419"
            ]
           ],
           "sequential": [
            [
             0,
             "#0d0887"
            ],
            [
             0.1111111111111111,
             "#46039f"
            ],
            [
             0.2222222222222222,
             "#7201a8"
            ],
            [
             0.3333333333333333,
             "#9c179e"
            ],
            [
             0.4444444444444444,
             "#bd3786"
            ],
            [
             0.5555555555555556,
             "#d8576b"
            ],
            [
             0.6666666666666666,
             "#ed7953"
            ],
            [
             0.7777777777777778,
             "#fb9f3a"
            ],
            [
             0.8888888888888888,
             "#fdca26"
            ],
            [
             1,
             "#f0f921"
            ]
           ],
           "sequentialminus": [
            [
             0,
             "#0d0887"
            ],
            [
             0.1111111111111111,
             "#46039f"
            ],
            [
             0.2222222222222222,
             "#7201a8"
            ],
            [
             0.3333333333333333,
             "#9c179e"
            ],
            [
             0.4444444444444444,
             "#bd3786"
            ],
            [
             0.5555555555555556,
             "#d8576b"
            ],
            [
             0.6666666666666666,
             "#ed7953"
            ],
            [
             0.7777777777777778,
             "#fb9f3a"
            ],
            [
             0.8888888888888888,
             "#fdca26"
            ],
            [
             1,
             "#f0f921"
            ]
           ]
          },
          "colorway": [
           "#636efa",
           "#EF553B",
           "#00cc96",
           "#ab63fa",
           "#FFA15A",
           "#19d3f3",
           "#FF6692",
           "#B6E880",
           "#FF97FF",
           "#FECB52"
          ],
          "font": {
           "color": "#2a3f5f"
          },
          "geo": {
           "bgcolor": "white",
           "lakecolor": "white",
           "landcolor": "#E5ECF6",
           "showlakes": true,
           "showland": true,
           "subunitcolor": "white"
          },
          "hoverlabel": {
           "align": "left"
          },
          "hovermode": "closest",
          "mapbox": {
           "style": "light"
          },
          "paper_bgcolor": "white",
          "plot_bgcolor": "#E5ECF6",
          "polar": {
           "angularaxis": {
            "gridcolor": "white",
            "linecolor": "white",
            "ticks": ""
           },
           "bgcolor": "#E5ECF6",
           "radialaxis": {
            "gridcolor": "white",
            "linecolor": "white",
            "ticks": ""
           }
          },
          "scene": {
           "xaxis": {
            "backgroundcolor": "#E5ECF6",
            "gridcolor": "white",
            "gridwidth": 2,
            "linecolor": "white",
            "showbackground": true,
            "ticks": "",
            "zerolinecolor": "white"
           },
           "yaxis": {
            "backgroundcolor": "#E5ECF6",
            "gridcolor": "white",
            "gridwidth": 2,
            "linecolor": "white",
            "showbackground": true,
            "ticks": "",
            "zerolinecolor": "white"
           },
           "zaxis": {
            "backgroundcolor": "#E5ECF6",
            "gridcolor": "white",
            "gridwidth": 2,
            "linecolor": "white",
            "showbackground": true,
            "ticks": "",
            "zerolinecolor": "white"
           }
          },
          "shapedefaults": {
           "line": {
            "color": "#2a3f5f"
           }
          },
          "ternary": {
           "aaxis": {
            "gridcolor": "white",
            "linecolor": "white",
            "ticks": ""
           },
           "baxis": {
            "gridcolor": "white",
            "linecolor": "white",
            "ticks": ""
           },
           "bgcolor": "#E5ECF6",
           "caxis": {
            "gridcolor": "white",
            "linecolor": "white",
            "ticks": ""
           }
          },
          "title": {
           "x": 0.05
          },
          "xaxis": {
           "automargin": true,
           "gridcolor": "white",
           "linecolor": "white",
           "ticks": "",
           "title": {
            "standoff": 15
           },
           "zerolinecolor": "white",
           "zerolinewidth": 2
          },
          "yaxis": {
           "automargin": true,
           "gridcolor": "white",
           "linecolor": "white",
           "ticks": "",
           "title": {
            "standoff": 15
           },
           "zerolinecolor": "white",
           "zerolinewidth": 2
          }
         }
        },
        "title": {
         "font": {
          "color": "#4D5663"
         },
         "text": "Top 20 Unigram Words"
        },
        "xaxis": {
         "gridcolor": "#E1E5ED",
         "showgrid": true,
         "tickfont": {
          "color": "#4D5663"
         },
         "title": {
          "font": {
           "color": "#4D5663"
          },
          "text": "Unigram"
         },
         "zerolinecolor": "#E1E5ED"
        },
        "yaxis": {
         "gridcolor": "#E1E5ED",
         "showgrid": true,
         "tickfont": {
          "color": "#4D5663"
         },
         "title": {
          "font": {
           "color": "#4D5663"
          },
          "text": "Frequency"
         },
         "zerolinecolor": "#E1E5ED"
        }
       }
      },
      "text/html": [
       "<div>                            <div id=\"463ae4be-569c-46f1-a3d0-f553f626e3b9\" class=\"plotly-graph-div\" style=\"height:525px; width:100%;\"></div>            <script type=\"text/javascript\">                require([\"plotly\"], function(Plotly) {                    window.PLOTLYENV=window.PLOTLYENV || {};\n",
       "                    window.PLOTLYENV.BASE_URL='https://plot.ly';                                    if (document.getElementById(\"463ae4be-569c-46f1-a3d0-f553f626e3b9\")) {                    Plotly.newPlot(                        \"463ae4be-569c-46f1-a3d0-f553f626e3b9\",                        [{\"marker\":{\"color\":\"rgba(255, 153, 51, 0.6)\",\"line\":{\"color\":\"rgba(255, 153, 51, 1.0)\",\"width\":1}},\"name\":\"Frequency\",\"orientation\":\"v\",\"text\":\"\",\"x\":[\"the\",\"and\",\"to\",\"of\",\"in\",\"we\",\"our\",\"that\",\"is\",\"are\",\"for\",\"as\",\"with\",\"on\",\"have\",\"energy\",\"by\",\"will\",\"at\",\"from\"],\"y\":[2727,1860,1844,1540,1369,1159,843,707,677,512,480,432,426,420,355,320,301,246,244,244],\"type\":\"bar\"}],                        {\"legend\":{\"bgcolor\":\"#F5F6F9\",\"font\":{\"color\":\"#4D5663\"}},\"paper_bgcolor\":\"#F5F6F9\",\"plot_bgcolor\":\"#F5F6F9\",\"template\":{\"data\":{\"barpolar\":[{\"marker\":{\"line\":{\"color\":\"#E5ECF6\",\"width\":0.5},\"pattern\":{\"fillmode\":\"overlay\",\"size\":10,\"solidity\":0.2}},\"type\":\"barpolar\"}],\"bar\":[{\"error_x\":{\"color\":\"#2a3f5f\"},\"error_y\":{\"color\":\"#2a3f5f\"},\"marker\":{\"line\":{\"color\":\"#E5ECF6\",\"width\":0.5},\"pattern\":{\"fillmode\":\"overlay\",\"size\":10,\"solidity\":0.2}},\"type\":\"bar\"}],\"carpet\":[{\"aaxis\":{\"endlinecolor\":\"#2a3f5f\",\"gridcolor\":\"white\",\"linecolor\":\"white\",\"minorgridcolor\":\"white\",\"startlinecolor\":\"#2a3f5f\"},\"baxis\":{\"endlinecolor\":\"#2a3f5f\",\"gridcolor\":\"white\",\"linecolor\":\"white\",\"minorgridcolor\":\"white\",\"startlinecolor\":\"#2a3f5f\"},\"type\":\"carpet\"}],\"choropleth\":[{\"colorbar\":{\"outlinewidth\":0,\"ticks\":\"\"},\"type\":\"choropleth\"}],\"contourcarpet\":[{\"colorbar\":{\"outlinewidth\":0,\"ticks\":\"\"},\"type\":\"contourcarpet\"}],\"contour\":[{\"colorbar\":{\"outlinewidth\":0,\"ticks\":\"\"},\"colorscale\":[[0.0,\"#0d0887\"],[0.1111111111111111,\"#46039f\"],[0.2222222222222222,\"#7201a8\"],[0.3333333333333333,\"#9c179e\"],[0.4444444444444444,\"#bd3786\"],[0.5555555555555556,\"#d8576b\"],[0.6666666666666666,\"#ed7953\"],[0.7777777777777778,\"#fb9f3a\"],[0.8888888888888888,\"#fdca26\"],[1.0,\"#f0f921\"]],\"type\":\"contour\"}],\"heatmapgl\":[{\"colorbar\":{\"outlinewidth\":0,\"ticks\":\"\"},\"colorscale\":[[0.0,\"#0d0887\"],[0.1111111111111111,\"#46039f\"],[0.2222222222222222,\"#7201a8\"],[0.3333333333333333,\"#9c179e\"],[0.4444444444444444,\"#bd3786\"],[0.5555555555555556,\"#d8576b\"],[0.6666666666666666,\"#ed7953\"],[0.7777777777777778,\"#fb9f3a\"],[0.8888888888888888,\"#fdca26\"],[1.0,\"#f0f921\"]],\"type\":\"heatmapgl\"}],\"heatmap\":[{\"colorbar\":{\"outlinewidth\":0,\"ticks\":\"\"},\"colorscale\":[[0.0,\"#0d0887\"],[0.1111111111111111,\"#46039f\"],[0.2222222222222222,\"#7201a8\"],[0.3333333333333333,\"#9c179e\"],[0.4444444444444444,\"#bd3786\"],[0.5555555555555556,\"#d8576b\"],[0.6666666666666666,\"#ed7953\"],[0.7777777777777778,\"#fb9f3a\"],[0.8888888888888888,\"#fdca26\"],[1.0,\"#f0f921\"]],\"type\":\"heatmap\"}],\"histogram2dcontour\":[{\"colorbar\":{\"outlinewidth\":0,\"ticks\":\"\"},\"colorscale\":[[0.0,\"#0d0887\"],[0.1111111111111111,\"#46039f\"],[0.2222222222222222,\"#7201a8\"],[0.3333333333333333,\"#9c179e\"],[0.4444444444444444,\"#bd3786\"],[0.5555555555555556,\"#d8576b\"],[0.6666666666666666,\"#ed7953\"],[0.7777777777777778,\"#fb9f3a\"],[0.8888888888888888,\"#fdca26\"],[1.0,\"#f0f921\"]],\"type\":\"histogram2dcontour\"}],\"histogram2d\":[{\"colorbar\":{\"outlinewidth\":0,\"ticks\":\"\"},\"colorscale\":[[0.0,\"#0d0887\"],[0.1111111111111111,\"#46039f\"],[0.2222222222222222,\"#7201a8\"],[0.3333333333333333,\"#9c179e\"],[0.4444444444444444,\"#bd3786\"],[0.5555555555555556,\"#d8576b\"],[0.6666666666666666,\"#ed7953\"],[0.7777777777777778,\"#fb9f3a\"],[0.8888888888888888,\"#fdca26\"],[1.0,\"#f0f921\"]],\"type\":\"histogram2d\"}],\"histogram\":[{\"marker\":{\"pattern\":{\"fillmode\":\"overlay\",\"size\":10,\"solidity\":0.2}},\"type\":\"histogram\"}],\"mesh3d\":[{\"colorbar\":{\"outlinewidth\":0,\"ticks\":\"\"},\"type\":\"mesh3d\"}],\"parcoords\":[{\"line\":{\"colorbar\":{\"outlinewidth\":0,\"ticks\":\"\"}},\"type\":\"parcoords\"}],\"pie\":[{\"automargin\":true,\"type\":\"pie\"}],\"scatter3d\":[{\"line\":{\"colorbar\":{\"outlinewidth\":0,\"ticks\":\"\"}},\"marker\":{\"colorbar\":{\"outlinewidth\":0,\"ticks\":\"\"}},\"type\":\"scatter3d\"}],\"scattercarpet\":[{\"marker\":{\"colorbar\":{\"outlinewidth\":0,\"ticks\":\"\"}},\"type\":\"scattercarpet\"}],\"scattergeo\":[{\"marker\":{\"colorbar\":{\"outlinewidth\":0,\"ticks\":\"\"}},\"type\":\"scattergeo\"}],\"scattergl\":[{\"marker\":{\"colorbar\":{\"outlinewidth\":0,\"ticks\":\"\"}},\"type\":\"scattergl\"}],\"scattermapbox\":[{\"marker\":{\"colorbar\":{\"outlinewidth\":0,\"ticks\":\"\"}},\"type\":\"scattermapbox\"}],\"scatterpolargl\":[{\"marker\":{\"colorbar\":{\"outlinewidth\":0,\"ticks\":\"\"}},\"type\":\"scatterpolargl\"}],\"scatterpolar\":[{\"marker\":{\"colorbar\":{\"outlinewidth\":0,\"ticks\":\"\"}},\"type\":\"scatterpolar\"}],\"scatter\":[{\"fillpattern\":{\"fillmode\":\"overlay\",\"size\":10,\"solidity\":0.2},\"type\":\"scatter\"}],\"scatterternary\":[{\"marker\":{\"colorbar\":{\"outlinewidth\":0,\"ticks\":\"\"}},\"type\":\"scatterternary\"}],\"surface\":[{\"colorbar\":{\"outlinewidth\":0,\"ticks\":\"\"},\"colorscale\":[[0.0,\"#0d0887\"],[0.1111111111111111,\"#46039f\"],[0.2222222222222222,\"#7201a8\"],[0.3333333333333333,\"#9c179e\"],[0.4444444444444444,\"#bd3786\"],[0.5555555555555556,\"#d8576b\"],[0.6666666666666666,\"#ed7953\"],[0.7777777777777778,\"#fb9f3a\"],[0.8888888888888888,\"#fdca26\"],[1.0,\"#f0f921\"]],\"type\":\"surface\"}],\"table\":[{\"cells\":{\"fill\":{\"color\":\"#EBF0F8\"},\"line\":{\"color\":\"white\"}},\"header\":{\"fill\":{\"color\":\"#C8D4E3\"},\"line\":{\"color\":\"white\"}},\"type\":\"table\"}]},\"layout\":{\"annotationdefaults\":{\"arrowcolor\":\"#2a3f5f\",\"arrowhead\":0,\"arrowwidth\":1},\"autotypenumbers\":\"strict\",\"coloraxis\":{\"colorbar\":{\"outlinewidth\":0,\"ticks\":\"\"}},\"colorscale\":{\"diverging\":[[0,\"#8e0152\"],[0.1,\"#c51b7d\"],[0.2,\"#de77ae\"],[0.3,\"#f1b6da\"],[0.4,\"#fde0ef\"],[0.5,\"#f7f7f7\"],[0.6,\"#e6f5d0\"],[0.7,\"#b8e186\"],[0.8,\"#7fbc41\"],[0.9,\"#4d9221\"],[1,\"#276419\"]],\"sequential\":[[0.0,\"#0d0887\"],[0.1111111111111111,\"#46039f\"],[0.2222222222222222,\"#7201a8\"],[0.3333333333333333,\"#9c179e\"],[0.4444444444444444,\"#bd3786\"],[0.5555555555555556,\"#d8576b\"],[0.6666666666666666,\"#ed7953\"],[0.7777777777777778,\"#fb9f3a\"],[0.8888888888888888,\"#fdca26\"],[1.0,\"#f0f921\"]],\"sequentialminus\":[[0.0,\"#0d0887\"],[0.1111111111111111,\"#46039f\"],[0.2222222222222222,\"#7201a8\"],[0.3333333333333333,\"#9c179e\"],[0.4444444444444444,\"#bd3786\"],[0.5555555555555556,\"#d8576b\"],[0.6666666666666666,\"#ed7953\"],[0.7777777777777778,\"#fb9f3a\"],[0.8888888888888888,\"#fdca26\"],[1.0,\"#f0f921\"]]},\"colorway\":[\"#636efa\",\"#EF553B\",\"#00cc96\",\"#ab63fa\",\"#FFA15A\",\"#19d3f3\",\"#FF6692\",\"#B6E880\",\"#FF97FF\",\"#FECB52\"],\"font\":{\"color\":\"#2a3f5f\"},\"geo\":{\"bgcolor\":\"white\",\"lakecolor\":\"white\",\"landcolor\":\"#E5ECF6\",\"showlakes\":true,\"showland\":true,\"subunitcolor\":\"white\"},\"hoverlabel\":{\"align\":\"left\"},\"hovermode\":\"closest\",\"mapbox\":{\"style\":\"light\"},\"paper_bgcolor\":\"white\",\"plot_bgcolor\":\"#E5ECF6\",\"polar\":{\"angularaxis\":{\"gridcolor\":\"white\",\"linecolor\":\"white\",\"ticks\":\"\"},\"bgcolor\":\"#E5ECF6\",\"radialaxis\":{\"gridcolor\":\"white\",\"linecolor\":\"white\",\"ticks\":\"\"}},\"scene\":{\"xaxis\":{\"backgroundcolor\":\"#E5ECF6\",\"gridcolor\":\"white\",\"gridwidth\":2,\"linecolor\":\"white\",\"showbackground\":true,\"ticks\":\"\",\"zerolinecolor\":\"white\"},\"yaxis\":{\"backgroundcolor\":\"#E5ECF6\",\"gridcolor\":\"white\",\"gridwidth\":2,\"linecolor\":\"white\",\"showbackground\":true,\"ticks\":\"\",\"zerolinecolor\":\"white\"},\"zaxis\":{\"backgroundcolor\":\"#E5ECF6\",\"gridcolor\":\"white\",\"gridwidth\":2,\"linecolor\":\"white\",\"showbackground\":true,\"ticks\":\"\",\"zerolinecolor\":\"white\"}},\"shapedefaults\":{\"line\":{\"color\":\"#2a3f5f\"}},\"ternary\":{\"aaxis\":{\"gridcolor\":\"white\",\"linecolor\":\"white\",\"ticks\":\"\"},\"baxis\":{\"gridcolor\":\"white\",\"linecolor\":\"white\",\"ticks\":\"\"},\"bgcolor\":\"#E5ECF6\",\"caxis\":{\"gridcolor\":\"white\",\"linecolor\":\"white\",\"ticks\":\"\"}},\"title\":{\"x\":0.05},\"xaxis\":{\"automargin\":true,\"gridcolor\":\"white\",\"linecolor\":\"white\",\"ticks\":\"\",\"title\":{\"standoff\":15},\"zerolinecolor\":\"white\",\"zerolinewidth\":2},\"yaxis\":{\"automargin\":true,\"gridcolor\":\"white\",\"linecolor\":\"white\",\"ticks\":\"\",\"title\":{\"standoff\":15},\"zerolinecolor\":\"white\",\"zerolinewidth\":2}}},\"title\":{\"font\":{\"color\":\"#4D5663\"},\"text\":\"Top 20 Unigram Words\"},\"xaxis\":{\"gridcolor\":\"#E1E5ED\",\"showgrid\":true,\"tickfont\":{\"color\":\"#4D5663\"},\"title\":{\"font\":{\"color\":\"#4D5663\"},\"text\":\"Unigram\"},\"zerolinecolor\":\"#E1E5ED\"},\"yaxis\":{\"gridcolor\":\"#E1E5ED\",\"showgrid\":true,\"tickfont\":{\"color\":\"#4D5663\"},\"title\":{\"font\":{\"color\":\"#4D5663\"},\"text\":\"Frequency\"},\"zerolinecolor\":\"#E1E5ED\"}},                        {\"showLink\": true, \"linkText\": \"Export to plot.ly\", \"plotlyServerURL\": \"https://plot.ly\", \"responsive\": true}                    ).then(function(){\n",
       "                            \n",
       "var gd = document.getElementById('463ae4be-569c-46f1-a3d0-f553f626e3b9');\n",
       "var x = new MutationObserver(function (mutations, observer) {{\n",
       "        var display = window.getComputedStyle(gd).display;\n",
       "        if (!display || display === 'none') {{\n",
       "            console.log([gd, 'removed!']);\n",
       "            Plotly.purge(gd);\n",
       "            observer.disconnect();\n",
       "        }}\n",
       "}});\n",
       "\n",
       "// Listen for the removal of the full notebook cells\n",
       "var notebookContainer = gd.closest('#notebook-container');\n",
       "if (notebookContainer) {{\n",
       "    x.observe(notebookContainer, {childList: true});\n",
       "}}\n",
       "\n",
       "// Listen for the clearing of the current output cell\n",
       "var outputEl = gd.closest('.output');\n",
       "if (outputEl) {{\n",
       "    x.observe(outputEl, {childList: true});\n",
       "}}\n",
       "\n",
       "                        })                };                });            </script>        </div>"
      ]
     },
     "metadata": {},
     "output_type": "display_data"
    }
   ],
   "source": [
    "words = get_top_n_words(df['text'], 20)\n",
    "dfUni = pd.DataFrame(words, columns = ['Unigram','Frequency'])\n",
    "dfUni = dfUni.set_index('Unigram')\n",
    "dfUni.iplot(kind = 'bar', xTitle='Unigram', yTitle='Frequency', title = 'Top 20 Unigram Words')"
   ]
  },
  {
   "cell_type": "markdown",
   "metadata": {},
   "source": [
    "##### Bigrams"
   ]
  },
  {
   "cell_type": "code",
   "execution_count": 72,
   "metadata": {},
   "outputs": [],
   "source": [
    "def get_top_n_words(x, n):\n",
    "    vec = CountVectorizer(ngram_range=(2,2)).fit(x)\n",
    "    bow = vec.transform(x)\n",
    "    sum_words = bow.sum(axis = 0)\n",
    "    word_freq = [(word, sum_words[0, idx]) for word, idx in vec.vocabulary_.items()]\n",
    "    word_freq = sorted(word_freq, key = lambda x: x[1], reverse = True)\n",
    "    return word_freq[:n]"
   ]
  },
  {
   "cell_type": "code",
   "execution_count": 77,
   "metadata": {},
   "outputs": [
    {
     "data": {
      "application/vnd.plotly.v1+json": {
       "config": {
        "linkText": "Export to plot.ly",
        "plotlyServerURL": "https://plot.ly",
        "showLink": true
       },
       "data": [
        {
         "marker": {
          "color": "rgba(255, 153, 51, 0.6)",
          "line": {
           "color": "rgba(255, 153, 51, 1.0)",
           "width": 1
          }
         },
         "name": "Frequency",
         "orientation": "v",
         "text": "",
         "type": "bar",
         "x": [
          "of the",
          "in the",
          "we are",
          "we have",
          "to the",
          "of our",
          "that we",
          "on the",
          "and we",
          "with the",
          "for the",
          "it is",
          "and the",
          "to be",
          "that is",
          "going to",
          "continue to",
          "will be",
          "the company",
          "we will"
         ],
         "y": [
          303,
          299,
          254,
          198,
          155,
          127,
          126,
          110,
          109,
          104,
          103,
          94,
          94,
          92,
          82,
          78,
          68,
          68,
          67,
          65
         ]
        }
       ],
       "layout": {
        "legend": {
         "bgcolor": "#F5F6F9",
         "font": {
          "color": "#4D5663"
         }
        },
        "paper_bgcolor": "#F5F6F9",
        "plot_bgcolor": "#F5F6F9",
        "template": {
         "data": {
          "bar": [
           {
            "error_x": {
             "color": "#2a3f5f"
            },
            "error_y": {
             "color": "#2a3f5f"
            },
            "marker": {
             "line": {
              "color": "#E5ECF6",
              "width": 0.5
             },
             "pattern": {
              "fillmode": "overlay",
              "size": 10,
              "solidity": 0.2
             }
            },
            "type": "bar"
           }
          ],
          "barpolar": [
           {
            "marker": {
             "line": {
              "color": "#E5ECF6",
              "width": 0.5
             },
             "pattern": {
              "fillmode": "overlay",
              "size": 10,
              "solidity": 0.2
             }
            },
            "type": "barpolar"
           }
          ],
          "carpet": [
           {
            "aaxis": {
             "endlinecolor": "#2a3f5f",
             "gridcolor": "white",
             "linecolor": "white",
             "minorgridcolor": "white",
             "startlinecolor": "#2a3f5f"
            },
            "baxis": {
             "endlinecolor": "#2a3f5f",
             "gridcolor": "white",
             "linecolor": "white",
             "minorgridcolor": "white",
             "startlinecolor": "#2a3f5f"
            },
            "type": "carpet"
           }
          ],
          "choropleth": [
           {
            "colorbar": {
             "outlinewidth": 0,
             "ticks": ""
            },
            "type": "choropleth"
           }
          ],
          "contour": [
           {
            "colorbar": {
             "outlinewidth": 0,
             "ticks": ""
            },
            "colorscale": [
             [
              0,
              "#0d0887"
             ],
             [
              0.1111111111111111,
              "#46039f"
             ],
             [
              0.2222222222222222,
              "#7201a8"
             ],
             [
              0.3333333333333333,
              "#9c179e"
             ],
             [
              0.4444444444444444,
              "#bd3786"
             ],
             [
              0.5555555555555556,
              "#d8576b"
             ],
             [
              0.6666666666666666,
              "#ed7953"
             ],
             [
              0.7777777777777778,
              "#fb9f3a"
             ],
             [
              0.8888888888888888,
              "#fdca26"
             ],
             [
              1,
              "#f0f921"
             ]
            ],
            "type": "contour"
           }
          ],
          "contourcarpet": [
           {
            "colorbar": {
             "outlinewidth": 0,
             "ticks": ""
            },
            "type": "contourcarpet"
           }
          ],
          "heatmap": [
           {
            "colorbar": {
             "outlinewidth": 0,
             "ticks": ""
            },
            "colorscale": [
             [
              0,
              "#0d0887"
             ],
             [
              0.1111111111111111,
              "#46039f"
             ],
             [
              0.2222222222222222,
              "#7201a8"
             ],
             [
              0.3333333333333333,
              "#9c179e"
             ],
             [
              0.4444444444444444,
              "#bd3786"
             ],
             [
              0.5555555555555556,
              "#d8576b"
             ],
             [
              0.6666666666666666,
              "#ed7953"
             ],
             [
              0.7777777777777778,
              "#fb9f3a"
             ],
             [
              0.8888888888888888,
              "#fdca26"
             ],
             [
              1,
              "#f0f921"
             ]
            ],
            "type": "heatmap"
           }
          ],
          "heatmapgl": [
           {
            "colorbar": {
             "outlinewidth": 0,
             "ticks": ""
            },
            "colorscale": [
             [
              0,
              "#0d0887"
             ],
             [
              0.1111111111111111,
              "#46039f"
             ],
             [
              0.2222222222222222,
              "#7201a8"
             ],
             [
              0.3333333333333333,
              "#9c179e"
             ],
             [
              0.4444444444444444,
              "#bd3786"
             ],
             [
              0.5555555555555556,
              "#d8576b"
             ],
             [
              0.6666666666666666,
              "#ed7953"
             ],
             [
              0.7777777777777778,
              "#fb9f3a"
             ],
             [
              0.8888888888888888,
              "#fdca26"
             ],
             [
              1,
              "#f0f921"
             ]
            ],
            "type": "heatmapgl"
           }
          ],
          "histogram": [
           {
            "marker": {
             "pattern": {
              "fillmode": "overlay",
              "size": 10,
              "solidity": 0.2
             }
            },
            "type": "histogram"
           }
          ],
          "histogram2d": [
           {
            "colorbar": {
             "outlinewidth": 0,
             "ticks": ""
            },
            "colorscale": [
             [
              0,
              "#0d0887"
             ],
             [
              0.1111111111111111,
              "#46039f"
             ],
             [
              0.2222222222222222,
              "#7201a8"
             ],
             [
              0.3333333333333333,
              "#9c179e"
             ],
             [
              0.4444444444444444,
              "#bd3786"
             ],
             [
              0.5555555555555556,
              "#d8576b"
             ],
             [
              0.6666666666666666,
              "#ed7953"
             ],
             [
              0.7777777777777778,
              "#fb9f3a"
             ],
             [
              0.8888888888888888,
              "#fdca26"
             ],
             [
              1,
              "#f0f921"
             ]
            ],
            "type": "histogram2d"
           }
          ],
          "histogram2dcontour": [
           {
            "colorbar": {
             "outlinewidth": 0,
             "ticks": ""
            },
            "colorscale": [
             [
              0,
              "#0d0887"
             ],
             [
              0.1111111111111111,
              "#46039f"
             ],
             [
              0.2222222222222222,
              "#7201a8"
             ],
             [
              0.3333333333333333,
              "#9c179e"
             ],
             [
              0.4444444444444444,
              "#bd3786"
             ],
             [
              0.5555555555555556,
              "#d8576b"
             ],
             [
              0.6666666666666666,
              "#ed7953"
             ],
             [
              0.7777777777777778,
              "#fb9f3a"
             ],
             [
              0.8888888888888888,
              "#fdca26"
             ],
             [
              1,
              "#f0f921"
             ]
            ],
            "type": "histogram2dcontour"
           }
          ],
          "mesh3d": [
           {
            "colorbar": {
             "outlinewidth": 0,
             "ticks": ""
            },
            "type": "mesh3d"
           }
          ],
          "parcoords": [
           {
            "line": {
             "colorbar": {
              "outlinewidth": 0,
              "ticks": ""
             }
            },
            "type": "parcoords"
           }
          ],
          "pie": [
           {
            "automargin": true,
            "type": "pie"
           }
          ],
          "scatter": [
           {
            "fillpattern": {
             "fillmode": "overlay",
             "size": 10,
             "solidity": 0.2
            },
            "type": "scatter"
           }
          ],
          "scatter3d": [
           {
            "line": {
             "colorbar": {
              "outlinewidth": 0,
              "ticks": ""
             }
            },
            "marker": {
             "colorbar": {
              "outlinewidth": 0,
              "ticks": ""
             }
            },
            "type": "scatter3d"
           }
          ],
          "scattercarpet": [
           {
            "marker": {
             "colorbar": {
              "outlinewidth": 0,
              "ticks": ""
             }
            },
            "type": "scattercarpet"
           }
          ],
          "scattergeo": [
           {
            "marker": {
             "colorbar": {
              "outlinewidth": 0,
              "ticks": ""
             }
            },
            "type": "scattergeo"
           }
          ],
          "scattergl": [
           {
            "marker": {
             "colorbar": {
              "outlinewidth": 0,
              "ticks": ""
             }
            },
            "type": "scattergl"
           }
          ],
          "scattermapbox": [
           {
            "marker": {
             "colorbar": {
              "outlinewidth": 0,
              "ticks": ""
             }
            },
            "type": "scattermapbox"
           }
          ],
          "scatterpolar": [
           {
            "marker": {
             "colorbar": {
              "outlinewidth": 0,
              "ticks": ""
             }
            },
            "type": "scatterpolar"
           }
          ],
          "scatterpolargl": [
           {
            "marker": {
             "colorbar": {
              "outlinewidth": 0,
              "ticks": ""
             }
            },
            "type": "scatterpolargl"
           }
          ],
          "scatterternary": [
           {
            "marker": {
             "colorbar": {
              "outlinewidth": 0,
              "ticks": ""
             }
            },
            "type": "scatterternary"
           }
          ],
          "surface": [
           {
            "colorbar": {
             "outlinewidth": 0,
             "ticks": ""
            },
            "colorscale": [
             [
              0,
              "#0d0887"
             ],
             [
              0.1111111111111111,
              "#46039f"
             ],
             [
              0.2222222222222222,
              "#7201a8"
             ],
             [
              0.3333333333333333,
              "#9c179e"
             ],
             [
              0.4444444444444444,
              "#bd3786"
             ],
             [
              0.5555555555555556,
              "#d8576b"
             ],
             [
              0.6666666666666666,
              "#ed7953"
             ],
             [
              0.7777777777777778,
              "#fb9f3a"
             ],
             [
              0.8888888888888888,
              "#fdca26"
             ],
             [
              1,
              "#f0f921"
             ]
            ],
            "type": "surface"
           }
          ],
          "table": [
           {
            "cells": {
             "fill": {
              "color": "#EBF0F8"
             },
             "line": {
              "color": "white"
             }
            },
            "header": {
             "fill": {
              "color": "#C8D4E3"
             },
             "line": {
              "color": "white"
             }
            },
            "type": "table"
           }
          ]
         },
         "layout": {
          "annotationdefaults": {
           "arrowcolor": "#2a3f5f",
           "arrowhead": 0,
           "arrowwidth": 1
          },
          "autotypenumbers": "strict",
          "coloraxis": {
           "colorbar": {
            "outlinewidth": 0,
            "ticks": ""
           }
          },
          "colorscale": {
           "diverging": [
            [
             0,
             "#8e0152"
            ],
            [
             0.1,
             "#c51b7d"
            ],
            [
             0.2,
             "#de77ae"
            ],
            [
             0.3,
             "#f1b6da"
            ],
            [
             0.4,
             "#fde0ef"
            ],
            [
             0.5,
             "#f7f7f7"
            ],
            [
             0.6,
             "#e6f5d0"
            ],
            [
             0.7,
             "#b8e186"
            ],
            [
             0.8,
             "#7fbc41"
            ],
            [
             0.9,
             "#4d9221"
            ],
            [
             1,
             "#276419"
            ]
           ],
           "sequential": [
            [
             0,
             "#0d0887"
            ],
            [
             0.1111111111111111,
             "#46039f"
            ],
            [
             0.2222222222222222,
             "#7201a8"
            ],
            [
             0.3333333333333333,
             "#9c179e"
            ],
            [
             0.4444444444444444,
             "#bd3786"
            ],
            [
             0.5555555555555556,
             "#d8576b"
            ],
            [
             0.6666666666666666,
             "#ed7953"
            ],
            [
             0.7777777777777778,
             "#fb9f3a"
            ],
            [
             0.8888888888888888,
             "#fdca26"
            ],
            [
             1,
             "#f0f921"
            ]
           ],
           "sequentialminus": [
            [
             0,
             "#0d0887"
            ],
            [
             0.1111111111111111,
             "#46039f"
            ],
            [
             0.2222222222222222,
             "#7201a8"
            ],
            [
             0.3333333333333333,
             "#9c179e"
            ],
            [
             0.4444444444444444,
             "#bd3786"
            ],
            [
             0.5555555555555556,
             "#d8576b"
            ],
            [
             0.6666666666666666,
             "#ed7953"
            ],
            [
             0.7777777777777778,
             "#fb9f3a"
            ],
            [
             0.8888888888888888,
             "#fdca26"
            ],
            [
             1,
             "#f0f921"
            ]
           ]
          },
          "colorway": [
           "#636efa",
           "#EF553B",
           "#00cc96",
           "#ab63fa",
           "#FFA15A",
           "#19d3f3",
           "#FF6692",
           "#B6E880",
           "#FF97FF",
           "#FECB52"
          ],
          "font": {
           "color": "#2a3f5f"
          },
          "geo": {
           "bgcolor": "white",
           "lakecolor": "white",
           "landcolor": "#E5ECF6",
           "showlakes": true,
           "showland": true,
           "subunitcolor": "white"
          },
          "hoverlabel": {
           "align": "left"
          },
          "hovermode": "closest",
          "mapbox": {
           "style": "light"
          },
          "paper_bgcolor": "white",
          "plot_bgcolor": "#E5ECF6",
          "polar": {
           "angularaxis": {
            "gridcolor": "white",
            "linecolor": "white",
            "ticks": ""
           },
           "bgcolor": "#E5ECF6",
           "radialaxis": {
            "gridcolor": "white",
            "linecolor": "white",
            "ticks": ""
           }
          },
          "scene": {
           "xaxis": {
            "backgroundcolor": "#E5ECF6",
            "gridcolor": "white",
            "gridwidth": 2,
            "linecolor": "white",
            "showbackground": true,
            "ticks": "",
            "zerolinecolor": "white"
           },
           "yaxis": {
            "backgroundcolor": "#E5ECF6",
            "gridcolor": "white",
            "gridwidth": 2,
            "linecolor": "white",
            "showbackground": true,
            "ticks": "",
            "zerolinecolor": "white"
           },
           "zaxis": {
            "backgroundcolor": "#E5ECF6",
            "gridcolor": "white",
            "gridwidth": 2,
            "linecolor": "white",
            "showbackground": true,
            "ticks": "",
            "zerolinecolor": "white"
           }
          },
          "shapedefaults": {
           "line": {
            "color": "#2a3f5f"
           }
          },
          "ternary": {
           "aaxis": {
            "gridcolor": "white",
            "linecolor": "white",
            "ticks": ""
           },
           "baxis": {
            "gridcolor": "white",
            "linecolor": "white",
            "ticks": ""
           },
           "bgcolor": "#E5ECF6",
           "caxis": {
            "gridcolor": "white",
            "linecolor": "white",
            "ticks": ""
           }
          },
          "title": {
           "x": 0.05
          },
          "xaxis": {
           "automargin": true,
           "gridcolor": "white",
           "linecolor": "white",
           "ticks": "",
           "title": {
            "standoff": 15
           },
           "zerolinecolor": "white",
           "zerolinewidth": 2
          },
          "yaxis": {
           "automargin": true,
           "gridcolor": "white",
           "linecolor": "white",
           "ticks": "",
           "title": {
            "standoff": 15
           },
           "zerolinecolor": "white",
           "zerolinewidth": 2
          }
         }
        },
        "title": {
         "font": {
          "color": "#4D5663"
         },
         "text": "Top 20 Bigram Words"
        },
        "xaxis": {
         "gridcolor": "#E1E5ED",
         "showgrid": true,
         "tickfont": {
          "color": "#4D5663"
         },
         "title": {
          "font": {
           "color": "#4D5663"
          },
          "text": "Bigram"
         },
         "zerolinecolor": "#E1E5ED"
        },
        "yaxis": {
         "gridcolor": "#E1E5ED",
         "showgrid": true,
         "tickfont": {
          "color": "#4D5663"
         },
         "title": {
          "font": {
           "color": "#4D5663"
          },
          "text": "Frequency"
         },
         "zerolinecolor": "#E1E5ED"
        }
       }
      },
      "text/html": [
       "<div>                            <div id=\"ff2f09f9-75ea-4c19-a36b-94d1d39ac33a\" class=\"plotly-graph-div\" style=\"height:525px; width:100%;\"></div>            <script type=\"text/javascript\">                require([\"plotly\"], function(Plotly) {                    window.PLOTLYENV=window.PLOTLYENV || {};\n",
       "                    window.PLOTLYENV.BASE_URL='https://plot.ly';                                    if (document.getElementById(\"ff2f09f9-75ea-4c19-a36b-94d1d39ac33a\")) {                    Plotly.newPlot(                        \"ff2f09f9-75ea-4c19-a36b-94d1d39ac33a\",                        [{\"marker\":{\"color\":\"rgba(255, 153, 51, 0.6)\",\"line\":{\"color\":\"rgba(255, 153, 51, 1.0)\",\"width\":1}},\"name\":\"Frequency\",\"orientation\":\"v\",\"text\":\"\",\"x\":[\"of the\",\"in the\",\"we are\",\"we have\",\"to the\",\"of our\",\"that we\",\"on the\",\"and we\",\"with the\",\"for the\",\"it is\",\"and the\",\"to be\",\"that is\",\"going to\",\"continue to\",\"will be\",\"the company\",\"we will\"],\"y\":[303,299,254,198,155,127,126,110,109,104,103,94,94,92,82,78,68,68,67,65],\"type\":\"bar\"}],                        {\"legend\":{\"bgcolor\":\"#F5F6F9\",\"font\":{\"color\":\"#4D5663\"}},\"paper_bgcolor\":\"#F5F6F9\",\"plot_bgcolor\":\"#F5F6F9\",\"template\":{\"data\":{\"barpolar\":[{\"marker\":{\"line\":{\"color\":\"#E5ECF6\",\"width\":0.5},\"pattern\":{\"fillmode\":\"overlay\",\"size\":10,\"solidity\":0.2}},\"type\":\"barpolar\"}],\"bar\":[{\"error_x\":{\"color\":\"#2a3f5f\"},\"error_y\":{\"color\":\"#2a3f5f\"},\"marker\":{\"line\":{\"color\":\"#E5ECF6\",\"width\":0.5},\"pattern\":{\"fillmode\":\"overlay\",\"size\":10,\"solidity\":0.2}},\"type\":\"bar\"}],\"carpet\":[{\"aaxis\":{\"endlinecolor\":\"#2a3f5f\",\"gridcolor\":\"white\",\"linecolor\":\"white\",\"minorgridcolor\":\"white\",\"startlinecolor\":\"#2a3f5f\"},\"baxis\":{\"endlinecolor\":\"#2a3f5f\",\"gridcolor\":\"white\",\"linecolor\":\"white\",\"minorgridcolor\":\"white\",\"startlinecolor\":\"#2a3f5f\"},\"type\":\"carpet\"}],\"choropleth\":[{\"colorbar\":{\"outlinewidth\":0,\"ticks\":\"\"},\"type\":\"choropleth\"}],\"contourcarpet\":[{\"colorbar\":{\"outlinewidth\":0,\"ticks\":\"\"},\"type\":\"contourcarpet\"}],\"contour\":[{\"colorbar\":{\"outlinewidth\":0,\"ticks\":\"\"},\"colorscale\":[[0.0,\"#0d0887\"],[0.1111111111111111,\"#46039f\"],[0.2222222222222222,\"#7201a8\"],[0.3333333333333333,\"#9c179e\"],[0.4444444444444444,\"#bd3786\"],[0.5555555555555556,\"#d8576b\"],[0.6666666666666666,\"#ed7953\"],[0.7777777777777778,\"#fb9f3a\"],[0.8888888888888888,\"#fdca26\"],[1.0,\"#f0f921\"]],\"type\":\"contour\"}],\"heatmapgl\":[{\"colorbar\":{\"outlinewidth\":0,\"ticks\":\"\"},\"colorscale\":[[0.0,\"#0d0887\"],[0.1111111111111111,\"#46039f\"],[0.2222222222222222,\"#7201a8\"],[0.3333333333333333,\"#9c179e\"],[0.4444444444444444,\"#bd3786\"],[0.5555555555555556,\"#d8576b\"],[0.6666666666666666,\"#ed7953\"],[0.7777777777777778,\"#fb9f3a\"],[0.8888888888888888,\"#fdca26\"],[1.0,\"#f0f921\"]],\"type\":\"heatmapgl\"}],\"heatmap\":[{\"colorbar\":{\"outlinewidth\":0,\"ticks\":\"\"},\"colorscale\":[[0.0,\"#0d0887\"],[0.1111111111111111,\"#46039f\"],[0.2222222222222222,\"#7201a8\"],[0.3333333333333333,\"#9c179e\"],[0.4444444444444444,\"#bd3786\"],[0.5555555555555556,\"#d8576b\"],[0.6666666666666666,\"#ed7953\"],[0.7777777777777778,\"#fb9f3a\"],[0.8888888888888888,\"#fdca26\"],[1.0,\"#f0f921\"]],\"type\":\"heatmap\"}],\"histogram2dcontour\":[{\"colorbar\":{\"outlinewidth\":0,\"ticks\":\"\"},\"colorscale\":[[0.0,\"#0d0887\"],[0.1111111111111111,\"#46039f\"],[0.2222222222222222,\"#7201a8\"],[0.3333333333333333,\"#9c179e\"],[0.4444444444444444,\"#bd3786\"],[0.5555555555555556,\"#d8576b\"],[0.6666666666666666,\"#ed7953\"],[0.7777777777777778,\"#fb9f3a\"],[0.8888888888888888,\"#fdca26\"],[1.0,\"#f0f921\"]],\"type\":\"histogram2dcontour\"}],\"histogram2d\":[{\"colorbar\":{\"outlinewidth\":0,\"ticks\":\"\"},\"colorscale\":[[0.0,\"#0d0887\"],[0.1111111111111111,\"#46039f\"],[0.2222222222222222,\"#7201a8\"],[0.3333333333333333,\"#9c179e\"],[0.4444444444444444,\"#bd3786\"],[0.5555555555555556,\"#d8576b\"],[0.6666666666666666,\"#ed7953\"],[0.7777777777777778,\"#fb9f3a\"],[0.8888888888888888,\"#fdca26\"],[1.0,\"#f0f921\"]],\"type\":\"histogram2d\"}],\"histogram\":[{\"marker\":{\"pattern\":{\"fillmode\":\"overlay\",\"size\":10,\"solidity\":0.2}},\"type\":\"histogram\"}],\"mesh3d\":[{\"colorbar\":{\"outlinewidth\":0,\"ticks\":\"\"},\"type\":\"mesh3d\"}],\"parcoords\":[{\"line\":{\"colorbar\":{\"outlinewidth\":0,\"ticks\":\"\"}},\"type\":\"parcoords\"}],\"pie\":[{\"automargin\":true,\"type\":\"pie\"}],\"scatter3d\":[{\"line\":{\"colorbar\":{\"outlinewidth\":0,\"ticks\":\"\"}},\"marker\":{\"colorbar\":{\"outlinewidth\":0,\"ticks\":\"\"}},\"type\":\"scatter3d\"}],\"scattercarpet\":[{\"marker\":{\"colorbar\":{\"outlinewidth\":0,\"ticks\":\"\"}},\"type\":\"scattercarpet\"}],\"scattergeo\":[{\"marker\":{\"colorbar\":{\"outlinewidth\":0,\"ticks\":\"\"}},\"type\":\"scattergeo\"}],\"scattergl\":[{\"marker\":{\"colorbar\":{\"outlinewidth\":0,\"ticks\":\"\"}},\"type\":\"scattergl\"}],\"scattermapbox\":[{\"marker\":{\"colorbar\":{\"outlinewidth\":0,\"ticks\":\"\"}},\"type\":\"scattermapbox\"}],\"scatterpolargl\":[{\"marker\":{\"colorbar\":{\"outlinewidth\":0,\"ticks\":\"\"}},\"type\":\"scatterpolargl\"}],\"scatterpolar\":[{\"marker\":{\"colorbar\":{\"outlinewidth\":0,\"ticks\":\"\"}},\"type\":\"scatterpolar\"}],\"scatter\":[{\"fillpattern\":{\"fillmode\":\"overlay\",\"size\":10,\"solidity\":0.2},\"type\":\"scatter\"}],\"scatterternary\":[{\"marker\":{\"colorbar\":{\"outlinewidth\":0,\"ticks\":\"\"}},\"type\":\"scatterternary\"}],\"surface\":[{\"colorbar\":{\"outlinewidth\":0,\"ticks\":\"\"},\"colorscale\":[[0.0,\"#0d0887\"],[0.1111111111111111,\"#46039f\"],[0.2222222222222222,\"#7201a8\"],[0.3333333333333333,\"#9c179e\"],[0.4444444444444444,\"#bd3786\"],[0.5555555555555556,\"#d8576b\"],[0.6666666666666666,\"#ed7953\"],[0.7777777777777778,\"#fb9f3a\"],[0.8888888888888888,\"#fdca26\"],[1.0,\"#f0f921\"]],\"type\":\"surface\"}],\"table\":[{\"cells\":{\"fill\":{\"color\":\"#EBF0F8\"},\"line\":{\"color\":\"white\"}},\"header\":{\"fill\":{\"color\":\"#C8D4E3\"},\"line\":{\"color\":\"white\"}},\"type\":\"table\"}]},\"layout\":{\"annotationdefaults\":{\"arrowcolor\":\"#2a3f5f\",\"arrowhead\":0,\"arrowwidth\":1},\"autotypenumbers\":\"strict\",\"coloraxis\":{\"colorbar\":{\"outlinewidth\":0,\"ticks\":\"\"}},\"colorscale\":{\"diverging\":[[0,\"#8e0152\"],[0.1,\"#c51b7d\"],[0.2,\"#de77ae\"],[0.3,\"#f1b6da\"],[0.4,\"#fde0ef\"],[0.5,\"#f7f7f7\"],[0.6,\"#e6f5d0\"],[0.7,\"#b8e186\"],[0.8,\"#7fbc41\"],[0.9,\"#4d9221\"],[1,\"#276419\"]],\"sequential\":[[0.0,\"#0d0887\"],[0.1111111111111111,\"#46039f\"],[0.2222222222222222,\"#7201a8\"],[0.3333333333333333,\"#9c179e\"],[0.4444444444444444,\"#bd3786\"],[0.5555555555555556,\"#d8576b\"],[0.6666666666666666,\"#ed7953\"],[0.7777777777777778,\"#fb9f3a\"],[0.8888888888888888,\"#fdca26\"],[1.0,\"#f0f921\"]],\"sequentialminus\":[[0.0,\"#0d0887\"],[0.1111111111111111,\"#46039f\"],[0.2222222222222222,\"#7201a8\"],[0.3333333333333333,\"#9c179e\"],[0.4444444444444444,\"#bd3786\"],[0.5555555555555556,\"#d8576b\"],[0.6666666666666666,\"#ed7953\"],[0.7777777777777778,\"#fb9f3a\"],[0.8888888888888888,\"#fdca26\"],[1.0,\"#f0f921\"]]},\"colorway\":[\"#636efa\",\"#EF553B\",\"#00cc96\",\"#ab63fa\",\"#FFA15A\",\"#19d3f3\",\"#FF6692\",\"#B6E880\",\"#FF97FF\",\"#FECB52\"],\"font\":{\"color\":\"#2a3f5f\"},\"geo\":{\"bgcolor\":\"white\",\"lakecolor\":\"white\",\"landcolor\":\"#E5ECF6\",\"showlakes\":true,\"showland\":true,\"subunitcolor\":\"white\"},\"hoverlabel\":{\"align\":\"left\"},\"hovermode\":\"closest\",\"mapbox\":{\"style\":\"light\"},\"paper_bgcolor\":\"white\",\"plot_bgcolor\":\"#E5ECF6\",\"polar\":{\"angularaxis\":{\"gridcolor\":\"white\",\"linecolor\":\"white\",\"ticks\":\"\"},\"bgcolor\":\"#E5ECF6\",\"radialaxis\":{\"gridcolor\":\"white\",\"linecolor\":\"white\",\"ticks\":\"\"}},\"scene\":{\"xaxis\":{\"backgroundcolor\":\"#E5ECF6\",\"gridcolor\":\"white\",\"gridwidth\":2,\"linecolor\":\"white\",\"showbackground\":true,\"ticks\":\"\",\"zerolinecolor\":\"white\"},\"yaxis\":{\"backgroundcolor\":\"#E5ECF6\",\"gridcolor\":\"white\",\"gridwidth\":2,\"linecolor\":\"white\",\"showbackground\":true,\"ticks\":\"\",\"zerolinecolor\":\"white\"},\"zaxis\":{\"backgroundcolor\":\"#E5ECF6\",\"gridcolor\":\"white\",\"gridwidth\":2,\"linecolor\":\"white\",\"showbackground\":true,\"ticks\":\"\",\"zerolinecolor\":\"white\"}},\"shapedefaults\":{\"line\":{\"color\":\"#2a3f5f\"}},\"ternary\":{\"aaxis\":{\"gridcolor\":\"white\",\"linecolor\":\"white\",\"ticks\":\"\"},\"baxis\":{\"gridcolor\":\"white\",\"linecolor\":\"white\",\"ticks\":\"\"},\"bgcolor\":\"#E5ECF6\",\"caxis\":{\"gridcolor\":\"white\",\"linecolor\":\"white\",\"ticks\":\"\"}},\"title\":{\"x\":0.05},\"xaxis\":{\"automargin\":true,\"gridcolor\":\"white\",\"linecolor\":\"white\",\"ticks\":\"\",\"title\":{\"standoff\":15},\"zerolinecolor\":\"white\",\"zerolinewidth\":2},\"yaxis\":{\"automargin\":true,\"gridcolor\":\"white\",\"linecolor\":\"white\",\"ticks\":\"\",\"title\":{\"standoff\":15},\"zerolinecolor\":\"white\",\"zerolinewidth\":2}}},\"title\":{\"font\":{\"color\":\"#4D5663\"},\"text\":\"Top 20 Bigram Words\"},\"xaxis\":{\"gridcolor\":\"#E1E5ED\",\"showgrid\":true,\"tickfont\":{\"color\":\"#4D5663\"},\"title\":{\"font\":{\"color\":\"#4D5663\"},\"text\":\"Bigram\"},\"zerolinecolor\":\"#E1E5ED\"},\"yaxis\":{\"gridcolor\":\"#E1E5ED\",\"showgrid\":true,\"tickfont\":{\"color\":\"#4D5663\"},\"title\":{\"font\":{\"color\":\"#4D5663\"},\"text\":\"Frequency\"},\"zerolinecolor\":\"#E1E5ED\"}},                        {\"showLink\": true, \"linkText\": \"Export to plot.ly\", \"plotlyServerURL\": \"https://plot.ly\", \"responsive\": true}                    ).then(function(){\n",
       "                            \n",
       "var gd = document.getElementById('ff2f09f9-75ea-4c19-a36b-94d1d39ac33a');\n",
       "var x = new MutationObserver(function (mutations, observer) {{\n",
       "        var display = window.getComputedStyle(gd).display;\n",
       "        if (!display || display === 'none') {{\n",
       "            console.log([gd, 'removed!']);\n",
       "            Plotly.purge(gd);\n",
       "            observer.disconnect();\n",
       "        }}\n",
       "}});\n",
       "\n",
       "// Listen for the removal of the full notebook cells\n",
       "var notebookContainer = gd.closest('#notebook-container');\n",
       "if (notebookContainer) {{\n",
       "    x.observe(notebookContainer, {childList: true});\n",
       "}}\n",
       "\n",
       "// Listen for the clearing of the current output cell\n",
       "var outputEl = gd.closest('.output');\n",
       "if (outputEl) {{\n",
       "    x.observe(outputEl, {childList: true});\n",
       "}}\n",
       "\n",
       "                        })                };                });            </script>        </div>"
      ]
     },
     "metadata": {},
     "output_type": "display_data"
    }
   ],
   "source": [
    "words = get_top_n_words(df['text'], 20)\n",
    "dfBi = pd.DataFrame(words, columns = ['Bigram','Frequency'])\n",
    "dfBi = dfBi.set_index('Bigram')\n",
    "dfBi.iplot(kind = 'bar', xTitle='Bigram', yTitle='Frequency', title = 'Top 20 Bigram Words')"
   ]
  },
  {
   "cell_type": "markdown",
   "metadata": {},
   "source": [
    "##### Trigrams"
   ]
  },
  {
   "cell_type": "code",
   "execution_count": 78,
   "metadata": {},
   "outputs": [],
   "source": [
    "def get_top_n_words(x, n):\n",
    "    vec = CountVectorizer(ngram_range=(3,3)).fit(x)\n",
    "    bow = vec.transform(x)\n",
    "    sum_words = bow.sum(axis = 0)\n",
    "    word_freq = [(word, sum_words[0, idx]) for word, idx in vec.vocabulary_.items()]\n",
    "    word_freq = sorted(word_freq, key = lambda x: x[1], reverse = True)\n",
    "    return word_freq[:n]"
   ]
  },
  {
   "cell_type": "code",
   "execution_count": 79,
   "metadata": {},
   "outputs": [
    {
     "data": {
      "application/vnd.plotly.v1+json": {
       "config": {
        "linkText": "Export to plot.ly",
        "plotlyServerURL": "https://plot.ly",
        "showLink": true
       },
       "data": [
        {
         "marker": {
          "color": "rgba(255, 153, 51, 0.6)",
          "line": {
           "color": "rgba(255, 153, 51, 1.0)",
           "width": 1
          }
         },
         "name": "Frequency",
         "orientation": "v",
         "text": "",
         "type": "bar",
         "x": [
          "as well as",
          "and we are",
          "that we are",
          "that we have",
          "in terms of",
          "are going to",
          "is going to",
          "the end of",
          "as part of",
          "going to be",
          "we continue to",
          "we are going",
          "in order to",
          "greenhouse gas emissions",
          "one of the",
          "we have been",
          "and we have",
          "of the year",
          "and it is",
          "we do not"
         ],
         "y": [
          43,
          35,
          33,
          30,
          27,
          27,
          26,
          26,
          25,
          24,
          20,
          20,
          20,
          20,
          18,
          17,
          16,
          16,
          16,
          16
         ]
        }
       ],
       "layout": {
        "legend": {
         "bgcolor": "#F5F6F9",
         "font": {
          "color": "#4D5663"
         }
        },
        "paper_bgcolor": "#F5F6F9",
        "plot_bgcolor": "#F5F6F9",
        "template": {
         "data": {
          "bar": [
           {
            "error_x": {
             "color": "#2a3f5f"
            },
            "error_y": {
             "color": "#2a3f5f"
            },
            "marker": {
             "line": {
              "color": "#E5ECF6",
              "width": 0.5
             },
             "pattern": {
              "fillmode": "overlay",
              "size": 10,
              "solidity": 0.2
             }
            },
            "type": "bar"
           }
          ],
          "barpolar": [
           {
            "marker": {
             "line": {
              "color": "#E5ECF6",
              "width": 0.5
             },
             "pattern": {
              "fillmode": "overlay",
              "size": 10,
              "solidity": 0.2
             }
            },
            "type": "barpolar"
           }
          ],
          "carpet": [
           {
            "aaxis": {
             "endlinecolor": "#2a3f5f",
             "gridcolor": "white",
             "linecolor": "white",
             "minorgridcolor": "white",
             "startlinecolor": "#2a3f5f"
            },
            "baxis": {
             "endlinecolor": "#2a3f5f",
             "gridcolor": "white",
             "linecolor": "white",
             "minorgridcolor": "white",
             "startlinecolor": "#2a3f5f"
            },
            "type": "carpet"
           }
          ],
          "choropleth": [
           {
            "colorbar": {
             "outlinewidth": 0,
             "ticks": ""
            },
            "type": "choropleth"
           }
          ],
          "contour": [
           {
            "colorbar": {
             "outlinewidth": 0,
             "ticks": ""
            },
            "colorscale": [
             [
              0,
              "#0d0887"
             ],
             [
              0.1111111111111111,
              "#46039f"
             ],
             [
              0.2222222222222222,
              "#7201a8"
             ],
             [
              0.3333333333333333,
              "#9c179e"
             ],
             [
              0.4444444444444444,
              "#bd3786"
             ],
             [
              0.5555555555555556,
              "#d8576b"
             ],
             [
              0.6666666666666666,
              "#ed7953"
             ],
             [
              0.7777777777777778,
              "#fb9f3a"
             ],
             [
              0.8888888888888888,
              "#fdca26"
             ],
             [
              1,
              "#f0f921"
             ]
            ],
            "type": "contour"
           }
          ],
          "contourcarpet": [
           {
            "colorbar": {
             "outlinewidth": 0,
             "ticks": ""
            },
            "type": "contourcarpet"
           }
          ],
          "heatmap": [
           {
            "colorbar": {
             "outlinewidth": 0,
             "ticks": ""
            },
            "colorscale": [
             [
              0,
              "#0d0887"
             ],
             [
              0.1111111111111111,
              "#46039f"
             ],
             [
              0.2222222222222222,
              "#7201a8"
             ],
             [
              0.3333333333333333,
              "#9c179e"
             ],
             [
              0.4444444444444444,
              "#bd3786"
             ],
             [
              0.5555555555555556,
              "#d8576b"
             ],
             [
              0.6666666666666666,
              "#ed7953"
             ],
             [
              0.7777777777777778,
              "#fb9f3a"
             ],
             [
              0.8888888888888888,
              "#fdca26"
             ],
             [
              1,
              "#f0f921"
             ]
            ],
            "type": "heatmap"
           }
          ],
          "heatmapgl": [
           {
            "colorbar": {
             "outlinewidth": 0,
             "ticks": ""
            },
            "colorscale": [
             [
              0,
              "#0d0887"
             ],
             [
              0.1111111111111111,
              "#46039f"
             ],
             [
              0.2222222222222222,
              "#7201a8"
             ],
             [
              0.3333333333333333,
              "#9c179e"
             ],
             [
              0.4444444444444444,
              "#bd3786"
             ],
             [
              0.5555555555555556,
              "#d8576b"
             ],
             [
              0.6666666666666666,
              "#ed7953"
             ],
             [
              0.7777777777777778,
              "#fb9f3a"
             ],
             [
              0.8888888888888888,
              "#fdca26"
             ],
             [
              1,
              "#f0f921"
             ]
            ],
            "type": "heatmapgl"
           }
          ],
          "histogram": [
           {
            "marker": {
             "pattern": {
              "fillmode": "overlay",
              "size": 10,
              "solidity": 0.2
             }
            },
            "type": "histogram"
           }
          ],
          "histogram2d": [
           {
            "colorbar": {
             "outlinewidth": 0,
             "ticks": ""
            },
            "colorscale": [
             [
              0,
              "#0d0887"
             ],
             [
              0.1111111111111111,
              "#46039f"
             ],
             [
              0.2222222222222222,
              "#7201a8"
             ],
             [
              0.3333333333333333,
              "#9c179e"
             ],
             [
              0.4444444444444444,
              "#bd3786"
             ],
             [
              0.5555555555555556,
              "#d8576b"
             ],
             [
              0.6666666666666666,
              "#ed7953"
             ],
             [
              0.7777777777777778,
              "#fb9f3a"
             ],
             [
              0.8888888888888888,
              "#fdca26"
             ],
             [
              1,
              "#f0f921"
             ]
            ],
            "type": "histogram2d"
           }
          ],
          "histogram2dcontour": [
           {
            "colorbar": {
             "outlinewidth": 0,
             "ticks": ""
            },
            "colorscale": [
             [
              0,
              "#0d0887"
             ],
             [
              0.1111111111111111,
              "#46039f"
             ],
             [
              0.2222222222222222,
              "#7201a8"
             ],
             [
              0.3333333333333333,
              "#9c179e"
             ],
             [
              0.4444444444444444,
              "#bd3786"
             ],
             [
              0.5555555555555556,
              "#d8576b"
             ],
             [
              0.6666666666666666,
              "#ed7953"
             ],
             [
              0.7777777777777778,
              "#fb9f3a"
             ],
             [
              0.8888888888888888,
              "#fdca26"
             ],
             [
              1,
              "#f0f921"
             ]
            ],
            "type": "histogram2dcontour"
           }
          ],
          "mesh3d": [
           {
            "colorbar": {
             "outlinewidth": 0,
             "ticks": ""
            },
            "type": "mesh3d"
           }
          ],
          "parcoords": [
           {
            "line": {
             "colorbar": {
              "outlinewidth": 0,
              "ticks": ""
             }
            },
            "type": "parcoords"
           }
          ],
          "pie": [
           {
            "automargin": true,
            "type": "pie"
           }
          ],
          "scatter": [
           {
            "fillpattern": {
             "fillmode": "overlay",
             "size": 10,
             "solidity": 0.2
            },
            "type": "scatter"
           }
          ],
          "scatter3d": [
           {
            "line": {
             "colorbar": {
              "outlinewidth": 0,
              "ticks": ""
             }
            },
            "marker": {
             "colorbar": {
              "outlinewidth": 0,
              "ticks": ""
             }
            },
            "type": "scatter3d"
           }
          ],
          "scattercarpet": [
           {
            "marker": {
             "colorbar": {
              "outlinewidth": 0,
              "ticks": ""
             }
            },
            "type": "scattercarpet"
           }
          ],
          "scattergeo": [
           {
            "marker": {
             "colorbar": {
              "outlinewidth": 0,
              "ticks": ""
             }
            },
            "type": "scattergeo"
           }
          ],
          "scattergl": [
           {
            "marker": {
             "colorbar": {
              "outlinewidth": 0,
              "ticks": ""
             }
            },
            "type": "scattergl"
           }
          ],
          "scattermapbox": [
           {
            "marker": {
             "colorbar": {
              "outlinewidth": 0,
              "ticks": ""
             }
            },
            "type": "scattermapbox"
           }
          ],
          "scatterpolar": [
           {
            "marker": {
             "colorbar": {
              "outlinewidth": 0,
              "ticks": ""
             }
            },
            "type": "scatterpolar"
           }
          ],
          "scatterpolargl": [
           {
            "marker": {
             "colorbar": {
              "outlinewidth": 0,
              "ticks": ""
             }
            },
            "type": "scatterpolargl"
           }
          ],
          "scatterternary": [
           {
            "marker": {
             "colorbar": {
              "outlinewidth": 0,
              "ticks": ""
             }
            },
            "type": "scatterternary"
           }
          ],
          "surface": [
           {
            "colorbar": {
             "outlinewidth": 0,
             "ticks": ""
            },
            "colorscale": [
             [
              0,
              "#0d0887"
             ],
             [
              0.1111111111111111,
              "#46039f"
             ],
             [
              0.2222222222222222,
              "#7201a8"
             ],
             [
              0.3333333333333333,
              "#9c179e"
             ],
             [
              0.4444444444444444,
              "#bd3786"
             ],
             [
              0.5555555555555556,
              "#d8576b"
             ],
             [
              0.6666666666666666,
              "#ed7953"
             ],
             [
              0.7777777777777778,
              "#fb9f3a"
             ],
             [
              0.8888888888888888,
              "#fdca26"
             ],
             [
              1,
              "#f0f921"
             ]
            ],
            "type": "surface"
           }
          ],
          "table": [
           {
            "cells": {
             "fill": {
              "color": "#EBF0F8"
             },
             "line": {
              "color": "white"
             }
            },
            "header": {
             "fill": {
              "color": "#C8D4E3"
             },
             "line": {
              "color": "white"
             }
            },
            "type": "table"
           }
          ]
         },
         "layout": {
          "annotationdefaults": {
           "arrowcolor": "#2a3f5f",
           "arrowhead": 0,
           "arrowwidth": 1
          },
          "autotypenumbers": "strict",
          "coloraxis": {
           "colorbar": {
            "outlinewidth": 0,
            "ticks": ""
           }
          },
          "colorscale": {
           "diverging": [
            [
             0,
             "#8e0152"
            ],
            [
             0.1,
             "#c51b7d"
            ],
            [
             0.2,
             "#de77ae"
            ],
            [
             0.3,
             "#f1b6da"
            ],
            [
             0.4,
             "#fde0ef"
            ],
            [
             0.5,
             "#f7f7f7"
            ],
            [
             0.6,
             "#e6f5d0"
            ],
            [
             0.7,
             "#b8e186"
            ],
            [
             0.8,
             "#7fbc41"
            ],
            [
             0.9,
             "#4d9221"
            ],
            [
             1,
             "#276419"
            ]
           ],
           "sequential": [
            [
             0,
             "#0d0887"
            ],
            [
             0.1111111111111111,
             "#46039f"
            ],
            [
             0.2222222222222222,
             "#7201a8"
            ],
            [
             0.3333333333333333,
             "#9c179e"
            ],
            [
             0.4444444444444444,
             "#bd3786"
            ],
            [
             0.5555555555555556,
             "#d8576b"
            ],
            [
             0.6666666666666666,
             "#ed7953"
            ],
            [
             0.7777777777777778,
             "#fb9f3a"
            ],
            [
             0.8888888888888888,
             "#fdca26"
            ],
            [
             1,
             "#f0f921"
            ]
           ],
           "sequentialminus": [
            [
             0,
             "#0d0887"
            ],
            [
             0.1111111111111111,
             "#46039f"
            ],
            [
             0.2222222222222222,
             "#7201a8"
            ],
            [
             0.3333333333333333,
             "#9c179e"
            ],
            [
             0.4444444444444444,
             "#bd3786"
            ],
            [
             0.5555555555555556,
             "#d8576b"
            ],
            [
             0.6666666666666666,
             "#ed7953"
            ],
            [
             0.7777777777777778,
             "#fb9f3a"
            ],
            [
             0.8888888888888888,
             "#fdca26"
            ],
            [
             1,
             "#f0f921"
            ]
           ]
          },
          "colorway": [
           "#636efa",
           "#EF553B",
           "#00cc96",
           "#ab63fa",
           "#FFA15A",
           "#19d3f3",
           "#FF6692",
           "#B6E880",
           "#FF97FF",
           "#FECB52"
          ],
          "font": {
           "color": "#2a3f5f"
          },
          "geo": {
           "bgcolor": "white",
           "lakecolor": "white",
           "landcolor": "#E5ECF6",
           "showlakes": true,
           "showland": true,
           "subunitcolor": "white"
          },
          "hoverlabel": {
           "align": "left"
          },
          "hovermode": "closest",
          "mapbox": {
           "style": "light"
          },
          "paper_bgcolor": "white",
          "plot_bgcolor": "#E5ECF6",
          "polar": {
           "angularaxis": {
            "gridcolor": "white",
            "linecolor": "white",
            "ticks": ""
           },
           "bgcolor": "#E5ECF6",
           "radialaxis": {
            "gridcolor": "white",
            "linecolor": "white",
            "ticks": ""
           }
          },
          "scene": {
           "xaxis": {
            "backgroundcolor": "#E5ECF6",
            "gridcolor": "white",
            "gridwidth": 2,
            "linecolor": "white",
            "showbackground": true,
            "ticks": "",
            "zerolinecolor": "white"
           },
           "yaxis": {
            "backgroundcolor": "#E5ECF6",
            "gridcolor": "white",
            "gridwidth": 2,
            "linecolor": "white",
            "showbackground": true,
            "ticks": "",
            "zerolinecolor": "white"
           },
           "zaxis": {
            "backgroundcolor": "#E5ECF6",
            "gridcolor": "white",
            "gridwidth": 2,
            "linecolor": "white",
            "showbackground": true,
            "ticks": "",
            "zerolinecolor": "white"
           }
          },
          "shapedefaults": {
           "line": {
            "color": "#2a3f5f"
           }
          },
          "ternary": {
           "aaxis": {
            "gridcolor": "white",
            "linecolor": "white",
            "ticks": ""
           },
           "baxis": {
            "gridcolor": "white",
            "linecolor": "white",
            "ticks": ""
           },
           "bgcolor": "#E5ECF6",
           "caxis": {
            "gridcolor": "white",
            "linecolor": "white",
            "ticks": ""
           }
          },
          "title": {
           "x": 0.05
          },
          "xaxis": {
           "automargin": true,
           "gridcolor": "white",
           "linecolor": "white",
           "ticks": "",
           "title": {
            "standoff": 15
           },
           "zerolinecolor": "white",
           "zerolinewidth": 2
          },
          "yaxis": {
           "automargin": true,
           "gridcolor": "white",
           "linecolor": "white",
           "ticks": "",
           "title": {
            "standoff": 15
           },
           "zerolinecolor": "white",
           "zerolinewidth": 2
          }
         }
        },
        "title": {
         "font": {
          "color": "#4D5663"
         },
         "text": "Top 20 Trigram Words"
        },
        "xaxis": {
         "gridcolor": "#E1E5ED",
         "showgrid": true,
         "tickfont": {
          "color": "#4D5663"
         },
         "title": {
          "font": {
           "color": "#4D5663"
          },
          "text": "Trigram"
         },
         "zerolinecolor": "#E1E5ED"
        },
        "yaxis": {
         "gridcolor": "#E1E5ED",
         "showgrid": true,
         "tickfont": {
          "color": "#4D5663"
         },
         "title": {
          "font": {
           "color": "#4D5663"
          },
          "text": "Frequency"
         },
         "zerolinecolor": "#E1E5ED"
        }
       }
      },
      "text/html": [
       "<div>                            <div id=\"d840f090-a6dc-40bf-b4ff-88e329d8bd97\" class=\"plotly-graph-div\" style=\"height:525px; width:100%;\"></div>            <script type=\"text/javascript\">                require([\"plotly\"], function(Plotly) {                    window.PLOTLYENV=window.PLOTLYENV || {};\n",
       "                    window.PLOTLYENV.BASE_URL='https://plot.ly';                                    if (document.getElementById(\"d840f090-a6dc-40bf-b4ff-88e329d8bd97\")) {                    Plotly.newPlot(                        \"d840f090-a6dc-40bf-b4ff-88e329d8bd97\",                        [{\"marker\":{\"color\":\"rgba(255, 153, 51, 0.6)\",\"line\":{\"color\":\"rgba(255, 153, 51, 1.0)\",\"width\":1}},\"name\":\"Frequency\",\"orientation\":\"v\",\"text\":\"\",\"x\":[\"as well as\",\"and we are\",\"that we are\",\"that we have\",\"in terms of\",\"are going to\",\"is going to\",\"the end of\",\"as part of\",\"going to be\",\"we continue to\",\"we are going\",\"in order to\",\"greenhouse gas emissions\",\"one of the\",\"we have been\",\"and we have\",\"of the year\",\"and it is\",\"we do not\"],\"y\":[43,35,33,30,27,27,26,26,25,24,20,20,20,20,18,17,16,16,16,16],\"type\":\"bar\"}],                        {\"legend\":{\"bgcolor\":\"#F5F6F9\",\"font\":{\"color\":\"#4D5663\"}},\"paper_bgcolor\":\"#F5F6F9\",\"plot_bgcolor\":\"#F5F6F9\",\"template\":{\"data\":{\"barpolar\":[{\"marker\":{\"line\":{\"color\":\"#E5ECF6\",\"width\":0.5},\"pattern\":{\"fillmode\":\"overlay\",\"size\":10,\"solidity\":0.2}},\"type\":\"barpolar\"}],\"bar\":[{\"error_x\":{\"color\":\"#2a3f5f\"},\"error_y\":{\"color\":\"#2a3f5f\"},\"marker\":{\"line\":{\"color\":\"#E5ECF6\",\"width\":0.5},\"pattern\":{\"fillmode\":\"overlay\",\"size\":10,\"solidity\":0.2}},\"type\":\"bar\"}],\"carpet\":[{\"aaxis\":{\"endlinecolor\":\"#2a3f5f\",\"gridcolor\":\"white\",\"linecolor\":\"white\",\"minorgridcolor\":\"white\",\"startlinecolor\":\"#2a3f5f\"},\"baxis\":{\"endlinecolor\":\"#2a3f5f\",\"gridcolor\":\"white\",\"linecolor\":\"white\",\"minorgridcolor\":\"white\",\"startlinecolor\":\"#2a3f5f\"},\"type\":\"carpet\"}],\"choropleth\":[{\"colorbar\":{\"outlinewidth\":0,\"ticks\":\"\"},\"type\":\"choropleth\"}],\"contourcarpet\":[{\"colorbar\":{\"outlinewidth\":0,\"ticks\":\"\"},\"type\":\"contourcarpet\"}],\"contour\":[{\"colorbar\":{\"outlinewidth\":0,\"ticks\":\"\"},\"colorscale\":[[0.0,\"#0d0887\"],[0.1111111111111111,\"#46039f\"],[0.2222222222222222,\"#7201a8\"],[0.3333333333333333,\"#9c179e\"],[0.4444444444444444,\"#bd3786\"],[0.5555555555555556,\"#d8576b\"],[0.6666666666666666,\"#ed7953\"],[0.7777777777777778,\"#fb9f3a\"],[0.8888888888888888,\"#fdca26\"],[1.0,\"#f0f921\"]],\"type\":\"contour\"}],\"heatmapgl\":[{\"colorbar\":{\"outlinewidth\":0,\"ticks\":\"\"},\"colorscale\":[[0.0,\"#0d0887\"],[0.1111111111111111,\"#46039f\"],[0.2222222222222222,\"#7201a8\"],[0.3333333333333333,\"#9c179e\"],[0.4444444444444444,\"#bd3786\"],[0.5555555555555556,\"#d8576b\"],[0.6666666666666666,\"#ed7953\"],[0.7777777777777778,\"#fb9f3a\"],[0.8888888888888888,\"#fdca26\"],[1.0,\"#f0f921\"]],\"type\":\"heatmapgl\"}],\"heatmap\":[{\"colorbar\":{\"outlinewidth\":0,\"ticks\":\"\"},\"colorscale\":[[0.0,\"#0d0887\"],[0.1111111111111111,\"#46039f\"],[0.2222222222222222,\"#7201a8\"],[0.3333333333333333,\"#9c179e\"],[0.4444444444444444,\"#bd3786\"],[0.5555555555555556,\"#d8576b\"],[0.6666666666666666,\"#ed7953\"],[0.7777777777777778,\"#fb9f3a\"],[0.8888888888888888,\"#fdca26\"],[1.0,\"#f0f921\"]],\"type\":\"heatmap\"}],\"histogram2dcontour\":[{\"colorbar\":{\"outlinewidth\":0,\"ticks\":\"\"},\"colorscale\":[[0.0,\"#0d0887\"],[0.1111111111111111,\"#46039f\"],[0.2222222222222222,\"#7201a8\"],[0.3333333333333333,\"#9c179e\"],[0.4444444444444444,\"#bd3786\"],[0.5555555555555556,\"#d8576b\"],[0.6666666666666666,\"#ed7953\"],[0.7777777777777778,\"#fb9f3a\"],[0.8888888888888888,\"#fdca26\"],[1.0,\"#f0f921\"]],\"type\":\"histogram2dcontour\"}],\"histogram2d\":[{\"colorbar\":{\"outlinewidth\":0,\"ticks\":\"\"},\"colorscale\":[[0.0,\"#0d0887\"],[0.1111111111111111,\"#46039f\"],[0.2222222222222222,\"#7201a8\"],[0.3333333333333333,\"#9c179e\"],[0.4444444444444444,\"#bd3786\"],[0.5555555555555556,\"#d8576b\"],[0.6666666666666666,\"#ed7953\"],[0.7777777777777778,\"#fb9f3a\"],[0.8888888888888888,\"#fdca26\"],[1.0,\"#f0f921\"]],\"type\":\"histogram2d\"}],\"histogram\":[{\"marker\":{\"pattern\":{\"fillmode\":\"overlay\",\"size\":10,\"solidity\":0.2}},\"type\":\"histogram\"}],\"mesh3d\":[{\"colorbar\":{\"outlinewidth\":0,\"ticks\":\"\"},\"type\":\"mesh3d\"}],\"parcoords\":[{\"line\":{\"colorbar\":{\"outlinewidth\":0,\"ticks\":\"\"}},\"type\":\"parcoords\"}],\"pie\":[{\"automargin\":true,\"type\":\"pie\"}],\"scatter3d\":[{\"line\":{\"colorbar\":{\"outlinewidth\":0,\"ticks\":\"\"}},\"marker\":{\"colorbar\":{\"outlinewidth\":0,\"ticks\":\"\"}},\"type\":\"scatter3d\"}],\"scattercarpet\":[{\"marker\":{\"colorbar\":{\"outlinewidth\":0,\"ticks\":\"\"}},\"type\":\"scattercarpet\"}],\"scattergeo\":[{\"marker\":{\"colorbar\":{\"outlinewidth\":0,\"ticks\":\"\"}},\"type\":\"scattergeo\"}],\"scattergl\":[{\"marker\":{\"colorbar\":{\"outlinewidth\":0,\"ticks\":\"\"}},\"type\":\"scattergl\"}],\"scattermapbox\":[{\"marker\":{\"colorbar\":{\"outlinewidth\":0,\"ticks\":\"\"}},\"type\":\"scattermapbox\"}],\"scatterpolargl\":[{\"marker\":{\"colorbar\":{\"outlinewidth\":0,\"ticks\":\"\"}},\"type\":\"scatterpolargl\"}],\"scatterpolar\":[{\"marker\":{\"colorbar\":{\"outlinewidth\":0,\"ticks\":\"\"}},\"type\":\"scatterpolar\"}],\"scatter\":[{\"fillpattern\":{\"fillmode\":\"overlay\",\"size\":10,\"solidity\":0.2},\"type\":\"scatter\"}],\"scatterternary\":[{\"marker\":{\"colorbar\":{\"outlinewidth\":0,\"ticks\":\"\"}},\"type\":\"scatterternary\"}],\"surface\":[{\"colorbar\":{\"outlinewidth\":0,\"ticks\":\"\"},\"colorscale\":[[0.0,\"#0d0887\"],[0.1111111111111111,\"#46039f\"],[0.2222222222222222,\"#7201a8\"],[0.3333333333333333,\"#9c179e\"],[0.4444444444444444,\"#bd3786\"],[0.5555555555555556,\"#d8576b\"],[0.6666666666666666,\"#ed7953\"],[0.7777777777777778,\"#fb9f3a\"],[0.8888888888888888,\"#fdca26\"],[1.0,\"#f0f921\"]],\"type\":\"surface\"}],\"table\":[{\"cells\":{\"fill\":{\"color\":\"#EBF0F8\"},\"line\":{\"color\":\"white\"}},\"header\":{\"fill\":{\"color\":\"#C8D4E3\"},\"line\":{\"color\":\"white\"}},\"type\":\"table\"}]},\"layout\":{\"annotationdefaults\":{\"arrowcolor\":\"#2a3f5f\",\"arrowhead\":0,\"arrowwidth\":1},\"autotypenumbers\":\"strict\",\"coloraxis\":{\"colorbar\":{\"outlinewidth\":0,\"ticks\":\"\"}},\"colorscale\":{\"diverging\":[[0,\"#8e0152\"],[0.1,\"#c51b7d\"],[0.2,\"#de77ae\"],[0.3,\"#f1b6da\"],[0.4,\"#fde0ef\"],[0.5,\"#f7f7f7\"],[0.6,\"#e6f5d0\"],[0.7,\"#b8e186\"],[0.8,\"#7fbc41\"],[0.9,\"#4d9221\"],[1,\"#276419\"]],\"sequential\":[[0.0,\"#0d0887\"],[0.1111111111111111,\"#46039f\"],[0.2222222222222222,\"#7201a8\"],[0.3333333333333333,\"#9c179e\"],[0.4444444444444444,\"#bd3786\"],[0.5555555555555556,\"#d8576b\"],[0.6666666666666666,\"#ed7953\"],[0.7777777777777778,\"#fb9f3a\"],[0.8888888888888888,\"#fdca26\"],[1.0,\"#f0f921\"]],\"sequentialminus\":[[0.0,\"#0d0887\"],[0.1111111111111111,\"#46039f\"],[0.2222222222222222,\"#7201a8\"],[0.3333333333333333,\"#9c179e\"],[0.4444444444444444,\"#bd3786\"],[0.5555555555555556,\"#d8576b\"],[0.6666666666666666,\"#ed7953\"],[0.7777777777777778,\"#fb9f3a\"],[0.8888888888888888,\"#fdca26\"],[1.0,\"#f0f921\"]]},\"colorway\":[\"#636efa\",\"#EF553B\",\"#00cc96\",\"#ab63fa\",\"#FFA15A\",\"#19d3f3\",\"#FF6692\",\"#B6E880\",\"#FF97FF\",\"#FECB52\"],\"font\":{\"color\":\"#2a3f5f\"},\"geo\":{\"bgcolor\":\"white\",\"lakecolor\":\"white\",\"landcolor\":\"#E5ECF6\",\"showlakes\":true,\"showland\":true,\"subunitcolor\":\"white\"},\"hoverlabel\":{\"align\":\"left\"},\"hovermode\":\"closest\",\"mapbox\":{\"style\":\"light\"},\"paper_bgcolor\":\"white\",\"plot_bgcolor\":\"#E5ECF6\",\"polar\":{\"angularaxis\":{\"gridcolor\":\"white\",\"linecolor\":\"white\",\"ticks\":\"\"},\"bgcolor\":\"#E5ECF6\",\"radialaxis\":{\"gridcolor\":\"white\",\"linecolor\":\"white\",\"ticks\":\"\"}},\"scene\":{\"xaxis\":{\"backgroundcolor\":\"#E5ECF6\",\"gridcolor\":\"white\",\"gridwidth\":2,\"linecolor\":\"white\",\"showbackground\":true,\"ticks\":\"\",\"zerolinecolor\":\"white\"},\"yaxis\":{\"backgroundcolor\":\"#E5ECF6\",\"gridcolor\":\"white\",\"gridwidth\":2,\"linecolor\":\"white\",\"showbackground\":true,\"ticks\":\"\",\"zerolinecolor\":\"white\"},\"zaxis\":{\"backgroundcolor\":\"#E5ECF6\",\"gridcolor\":\"white\",\"gridwidth\":2,\"linecolor\":\"white\",\"showbackground\":true,\"ticks\":\"\",\"zerolinecolor\":\"white\"}},\"shapedefaults\":{\"line\":{\"color\":\"#2a3f5f\"}},\"ternary\":{\"aaxis\":{\"gridcolor\":\"white\",\"linecolor\":\"white\",\"ticks\":\"\"},\"baxis\":{\"gridcolor\":\"white\",\"linecolor\":\"white\",\"ticks\":\"\"},\"bgcolor\":\"#E5ECF6\",\"caxis\":{\"gridcolor\":\"white\",\"linecolor\":\"white\",\"ticks\":\"\"}},\"title\":{\"x\":0.05},\"xaxis\":{\"automargin\":true,\"gridcolor\":\"white\",\"linecolor\":\"white\",\"ticks\":\"\",\"title\":{\"standoff\":15},\"zerolinecolor\":\"white\",\"zerolinewidth\":2},\"yaxis\":{\"automargin\":true,\"gridcolor\":\"white\",\"linecolor\":\"white\",\"ticks\":\"\",\"title\":{\"standoff\":15},\"zerolinecolor\":\"white\",\"zerolinewidth\":2}}},\"title\":{\"font\":{\"color\":\"#4D5663\"},\"text\":\"Top 20 Trigram Words\"},\"xaxis\":{\"gridcolor\":\"#E1E5ED\",\"showgrid\":true,\"tickfont\":{\"color\":\"#4D5663\"},\"title\":{\"font\":{\"color\":\"#4D5663\"},\"text\":\"Trigram\"},\"zerolinecolor\":\"#E1E5ED\"},\"yaxis\":{\"gridcolor\":\"#E1E5ED\",\"showgrid\":true,\"tickfont\":{\"color\":\"#4D5663\"},\"title\":{\"font\":{\"color\":\"#4D5663\"},\"text\":\"Frequency\"},\"zerolinecolor\":\"#E1E5ED\"}},                        {\"showLink\": true, \"linkText\": \"Export to plot.ly\", \"plotlyServerURL\": \"https://plot.ly\", \"responsive\": true}                    ).then(function(){\n",
       "                            \n",
       "var gd = document.getElementById('d840f090-a6dc-40bf-b4ff-88e329d8bd97');\n",
       "var x = new MutationObserver(function (mutations, observer) {{\n",
       "        var display = window.getComputedStyle(gd).display;\n",
       "        if (!display || display === 'none') {{\n",
       "            console.log([gd, 'removed!']);\n",
       "            Plotly.purge(gd);\n",
       "            observer.disconnect();\n",
       "        }}\n",
       "}});\n",
       "\n",
       "// Listen for the removal of the full notebook cells\n",
       "var notebookContainer = gd.closest('#notebook-container');\n",
       "if (notebookContainer) {{\n",
       "    x.observe(notebookContainer, {childList: true});\n",
       "}}\n",
       "\n",
       "// Listen for the clearing of the current output cell\n",
       "var outputEl = gd.closest('.output');\n",
       "if (outputEl) {{\n",
       "    x.observe(outputEl, {childList: true});\n",
       "}}\n",
       "\n",
       "                        })                };                });            </script>        </div>"
      ]
     },
     "metadata": {},
     "output_type": "display_data"
    }
   ],
   "source": [
    "words = get_top_n_words(df['text'], 20)\n",
    "dfTri = pd.DataFrame(words, columns = ['Trigram','Frequency'])\n",
    "dfTri = dfTri.set_index('Trigram')\n",
    "dfTri.iplot(kind = 'bar', xTitle='Trigram', yTitle='Frequency', title = 'Top 20 Trigram Words')"
   ]
  },
  {
   "cell_type": "markdown",
   "metadata": {},
   "source": [
    "##### Removing Stop Words for More Useful Distributions"
   ]
  },
  {
   "cell_type": "markdown",
   "metadata": {},
   "source": [
    "##### Unigrams without Stop Words"
   ]
  },
  {
   "cell_type": "code",
   "execution_count": 93,
   "metadata": {},
   "outputs": [],
   "source": [
    "def get_top_n_words(x, n):\n",
    "    vec = CountVectorizer(stop_words='english').fit(x)\n",
    "    bow = vec.transform(x)\n",
    "    sum_words = bow.sum(axis = 0)\n",
    "    word_freq = [(word, sum_words[0, idx]) for word, idx in vec.vocabulary_.items()]\n",
    "    word_freq = sorted(word_freq, key = lambda x: x[1], reverse = True)\n",
    "    return word_freq[:n]"
   ]
  },
  {
   "cell_type": "code",
   "execution_count": 94,
   "metadata": {},
   "outputs": [
    {
     "data": {
      "application/vnd.plotly.v1+json": {
       "config": {
        "linkText": "Export to plot.ly",
        "plotlyServerURL": "https://plot.ly",
        "showLink": true
       },
       "data": [
        {
         "marker": {
          "color": "rgba(255, 153, 51, 0.6)",
          "line": {
           "color": "rgba(255, 153, 51, 1.0)",
           "width": 1
          }
         },
         "name": "Frequency",
         "orientation": "v",
         "text": "",
         "type": "bar",
         "x": [
          "energy",
          "year",
          "emissions",
          "environmental",
          "business",
          "carbon",
          "gas",
          "power",
          "climate",
          "new",
          "group",
          "going",
          "think",
          "million",
          "company",
          "production",
          "cost",
          "environment",
          "reduce",
          "water"
         ],
         "y": [
          320,
          194,
          184,
          181,
          152,
          151,
          143,
          138,
          120,
          114,
          109,
          108,
          108,
          105,
          103,
          102,
          96,
          92,
          88,
          84
         ]
        }
       ],
       "layout": {
        "legend": {
         "bgcolor": "#F5F6F9",
         "font": {
          "color": "#4D5663"
         }
        },
        "paper_bgcolor": "#F5F6F9",
        "plot_bgcolor": "#F5F6F9",
        "template": {
         "data": {
          "bar": [
           {
            "error_x": {
             "color": "#2a3f5f"
            },
            "error_y": {
             "color": "#2a3f5f"
            },
            "marker": {
             "line": {
              "color": "#E5ECF6",
              "width": 0.5
             },
             "pattern": {
              "fillmode": "overlay",
              "size": 10,
              "solidity": 0.2
             }
            },
            "type": "bar"
           }
          ],
          "barpolar": [
           {
            "marker": {
             "line": {
              "color": "#E5ECF6",
              "width": 0.5
             },
             "pattern": {
              "fillmode": "overlay",
              "size": 10,
              "solidity": 0.2
             }
            },
            "type": "barpolar"
           }
          ],
          "carpet": [
           {
            "aaxis": {
             "endlinecolor": "#2a3f5f",
             "gridcolor": "white",
             "linecolor": "white",
             "minorgridcolor": "white",
             "startlinecolor": "#2a3f5f"
            },
            "baxis": {
             "endlinecolor": "#2a3f5f",
             "gridcolor": "white",
             "linecolor": "white",
             "minorgridcolor": "white",
             "startlinecolor": "#2a3f5f"
            },
            "type": "carpet"
           }
          ],
          "choropleth": [
           {
            "colorbar": {
             "outlinewidth": 0,
             "ticks": ""
            },
            "type": "choropleth"
           }
          ],
          "contour": [
           {
            "colorbar": {
             "outlinewidth": 0,
             "ticks": ""
            },
            "colorscale": [
             [
              0,
              "#0d0887"
             ],
             [
              0.1111111111111111,
              "#46039f"
             ],
             [
              0.2222222222222222,
              "#7201a8"
             ],
             [
              0.3333333333333333,
              "#9c179e"
             ],
             [
              0.4444444444444444,
              "#bd3786"
             ],
             [
              0.5555555555555556,
              "#d8576b"
             ],
             [
              0.6666666666666666,
              "#ed7953"
             ],
             [
              0.7777777777777778,
              "#fb9f3a"
             ],
             [
              0.8888888888888888,
              "#fdca26"
             ],
             [
              1,
              "#f0f921"
             ]
            ],
            "type": "contour"
           }
          ],
          "contourcarpet": [
           {
            "colorbar": {
             "outlinewidth": 0,
             "ticks": ""
            },
            "type": "contourcarpet"
           }
          ],
          "heatmap": [
           {
            "colorbar": {
             "outlinewidth": 0,
             "ticks": ""
            },
            "colorscale": [
             [
              0,
              "#0d0887"
             ],
             [
              0.1111111111111111,
              "#46039f"
             ],
             [
              0.2222222222222222,
              "#7201a8"
             ],
             [
              0.3333333333333333,
              "#9c179e"
             ],
             [
              0.4444444444444444,
              "#bd3786"
             ],
             [
              0.5555555555555556,
              "#d8576b"
             ],
             [
              0.6666666666666666,
              "#ed7953"
             ],
             [
              0.7777777777777778,
              "#fb9f3a"
             ],
             [
              0.8888888888888888,
              "#fdca26"
             ],
             [
              1,
              "#f0f921"
             ]
            ],
            "type": "heatmap"
           }
          ],
          "heatmapgl": [
           {
            "colorbar": {
             "outlinewidth": 0,
             "ticks": ""
            },
            "colorscale": [
             [
              0,
              "#0d0887"
             ],
             [
              0.1111111111111111,
              "#46039f"
             ],
             [
              0.2222222222222222,
              "#7201a8"
             ],
             [
              0.3333333333333333,
              "#9c179e"
             ],
             [
              0.4444444444444444,
              "#bd3786"
             ],
             [
              0.5555555555555556,
              "#d8576b"
             ],
             [
              0.6666666666666666,
              "#ed7953"
             ],
             [
              0.7777777777777778,
              "#fb9f3a"
             ],
             [
              0.8888888888888888,
              "#fdca26"
             ],
             [
              1,
              "#f0f921"
             ]
            ],
            "type": "heatmapgl"
           }
          ],
          "histogram": [
           {
            "marker": {
             "pattern": {
              "fillmode": "overlay",
              "size": 10,
              "solidity": 0.2
             }
            },
            "type": "histogram"
           }
          ],
          "histogram2d": [
           {
            "colorbar": {
             "outlinewidth": 0,
             "ticks": ""
            },
            "colorscale": [
             [
              0,
              "#0d0887"
             ],
             [
              0.1111111111111111,
              "#46039f"
             ],
             [
              0.2222222222222222,
              "#7201a8"
             ],
             [
              0.3333333333333333,
              "#9c179e"
             ],
             [
              0.4444444444444444,
              "#bd3786"
             ],
             [
              0.5555555555555556,
              "#d8576b"
             ],
             [
              0.6666666666666666,
              "#ed7953"
             ],
             [
              0.7777777777777778,
              "#fb9f3a"
             ],
             [
              0.8888888888888888,
              "#fdca26"
             ],
             [
              1,
              "#f0f921"
             ]
            ],
            "type": "histogram2d"
           }
          ],
          "histogram2dcontour": [
           {
            "colorbar": {
             "outlinewidth": 0,
             "ticks": ""
            },
            "colorscale": [
             [
              0,
              "#0d0887"
             ],
             [
              0.1111111111111111,
              "#46039f"
             ],
             [
              0.2222222222222222,
              "#7201a8"
             ],
             [
              0.3333333333333333,
              "#9c179e"
             ],
             [
              0.4444444444444444,
              "#bd3786"
             ],
             [
              0.5555555555555556,
              "#d8576b"
             ],
             [
              0.6666666666666666,
              "#ed7953"
             ],
             [
              0.7777777777777778,
              "#fb9f3a"
             ],
             [
              0.8888888888888888,
              "#fdca26"
             ],
             [
              1,
              "#f0f921"
             ]
            ],
            "type": "histogram2dcontour"
           }
          ],
          "mesh3d": [
           {
            "colorbar": {
             "outlinewidth": 0,
             "ticks": ""
            },
            "type": "mesh3d"
           }
          ],
          "parcoords": [
           {
            "line": {
             "colorbar": {
              "outlinewidth": 0,
              "ticks": ""
             }
            },
            "type": "parcoords"
           }
          ],
          "pie": [
           {
            "automargin": true,
            "type": "pie"
           }
          ],
          "scatter": [
           {
            "fillpattern": {
             "fillmode": "overlay",
             "size": 10,
             "solidity": 0.2
            },
            "type": "scatter"
           }
          ],
          "scatter3d": [
           {
            "line": {
             "colorbar": {
              "outlinewidth": 0,
              "ticks": ""
             }
            },
            "marker": {
             "colorbar": {
              "outlinewidth": 0,
              "ticks": ""
             }
            },
            "type": "scatter3d"
           }
          ],
          "scattercarpet": [
           {
            "marker": {
             "colorbar": {
              "outlinewidth": 0,
              "ticks": ""
             }
            },
            "type": "scattercarpet"
           }
          ],
          "scattergeo": [
           {
            "marker": {
             "colorbar": {
              "outlinewidth": 0,
              "ticks": ""
             }
            },
            "type": "scattergeo"
           }
          ],
          "scattergl": [
           {
            "marker": {
             "colorbar": {
              "outlinewidth": 0,
              "ticks": ""
             }
            },
            "type": "scattergl"
           }
          ],
          "scattermapbox": [
           {
            "marker": {
             "colorbar": {
              "outlinewidth": 0,
              "ticks": ""
             }
            },
            "type": "scattermapbox"
           }
          ],
          "scatterpolar": [
           {
            "marker": {
             "colorbar": {
              "outlinewidth": 0,
              "ticks": ""
             }
            },
            "type": "scatterpolar"
           }
          ],
          "scatterpolargl": [
           {
            "marker": {
             "colorbar": {
              "outlinewidth": 0,
              "ticks": ""
             }
            },
            "type": "scatterpolargl"
           }
          ],
          "scatterternary": [
           {
            "marker": {
             "colorbar": {
              "outlinewidth": 0,
              "ticks": ""
             }
            },
            "type": "scatterternary"
           }
          ],
          "surface": [
           {
            "colorbar": {
             "outlinewidth": 0,
             "ticks": ""
            },
            "colorscale": [
             [
              0,
              "#0d0887"
             ],
             [
              0.1111111111111111,
              "#46039f"
             ],
             [
              0.2222222222222222,
              "#7201a8"
             ],
             [
              0.3333333333333333,
              "#9c179e"
             ],
             [
              0.4444444444444444,
              "#bd3786"
             ],
             [
              0.5555555555555556,
              "#d8576b"
             ],
             [
              0.6666666666666666,
              "#ed7953"
             ],
             [
              0.7777777777777778,
              "#fb9f3a"
             ],
             [
              0.8888888888888888,
              "#fdca26"
             ],
             [
              1,
              "#f0f921"
             ]
            ],
            "type": "surface"
           }
          ],
          "table": [
           {
            "cells": {
             "fill": {
              "color": "#EBF0F8"
             },
             "line": {
              "color": "white"
             }
            },
            "header": {
             "fill": {
              "color": "#C8D4E3"
             },
             "line": {
              "color": "white"
             }
            },
            "type": "table"
           }
          ]
         },
         "layout": {
          "annotationdefaults": {
           "arrowcolor": "#2a3f5f",
           "arrowhead": 0,
           "arrowwidth": 1
          },
          "autotypenumbers": "strict",
          "coloraxis": {
           "colorbar": {
            "outlinewidth": 0,
            "ticks": ""
           }
          },
          "colorscale": {
           "diverging": [
            [
             0,
             "#8e0152"
            ],
            [
             0.1,
             "#c51b7d"
            ],
            [
             0.2,
             "#de77ae"
            ],
            [
             0.3,
             "#f1b6da"
            ],
            [
             0.4,
             "#fde0ef"
            ],
            [
             0.5,
             "#f7f7f7"
            ],
            [
             0.6,
             "#e6f5d0"
            ],
            [
             0.7,
             "#b8e186"
            ],
            [
             0.8,
             "#7fbc41"
            ],
            [
             0.9,
             "#4d9221"
            ],
            [
             1,
             "#276419"
            ]
           ],
           "sequential": [
            [
             0,
             "#0d0887"
            ],
            [
             0.1111111111111111,
             "#46039f"
            ],
            [
             0.2222222222222222,
             "#7201a8"
            ],
            [
             0.3333333333333333,
             "#9c179e"
            ],
            [
             0.4444444444444444,
             "#bd3786"
            ],
            [
             0.5555555555555556,
             "#d8576b"
            ],
            [
             0.6666666666666666,
             "#ed7953"
            ],
            [
             0.7777777777777778,
             "#fb9f3a"
            ],
            [
             0.8888888888888888,
             "#fdca26"
            ],
            [
             1,
             "#f0f921"
            ]
           ],
           "sequentialminus": [
            [
             0,
             "#0d0887"
            ],
            [
             0.1111111111111111,
             "#46039f"
            ],
            [
             0.2222222222222222,
             "#7201a8"
            ],
            [
             0.3333333333333333,
             "#9c179e"
            ],
            [
             0.4444444444444444,
             "#bd3786"
            ],
            [
             0.5555555555555556,
             "#d8576b"
            ],
            [
             0.6666666666666666,
             "#ed7953"
            ],
            [
             0.7777777777777778,
             "#fb9f3a"
            ],
            [
             0.8888888888888888,
             "#fdca26"
            ],
            [
             1,
             "#f0f921"
            ]
           ]
          },
          "colorway": [
           "#636efa",
           "#EF553B",
           "#00cc96",
           "#ab63fa",
           "#FFA15A",
           "#19d3f3",
           "#FF6692",
           "#B6E880",
           "#FF97FF",
           "#FECB52"
          ],
          "font": {
           "color": "#2a3f5f"
          },
          "geo": {
           "bgcolor": "white",
           "lakecolor": "white",
           "landcolor": "#E5ECF6",
           "showlakes": true,
           "showland": true,
           "subunitcolor": "white"
          },
          "hoverlabel": {
           "align": "left"
          },
          "hovermode": "closest",
          "mapbox": {
           "style": "light"
          },
          "paper_bgcolor": "white",
          "plot_bgcolor": "#E5ECF6",
          "polar": {
           "angularaxis": {
            "gridcolor": "white",
            "linecolor": "white",
            "ticks": ""
           },
           "bgcolor": "#E5ECF6",
           "radialaxis": {
            "gridcolor": "white",
            "linecolor": "white",
            "ticks": ""
           }
          },
          "scene": {
           "xaxis": {
            "backgroundcolor": "#E5ECF6",
            "gridcolor": "white",
            "gridwidth": 2,
            "linecolor": "white",
            "showbackground": true,
            "ticks": "",
            "zerolinecolor": "white"
           },
           "yaxis": {
            "backgroundcolor": "#E5ECF6",
            "gridcolor": "white",
            "gridwidth": 2,
            "linecolor": "white",
            "showbackground": true,
            "ticks": "",
            "zerolinecolor": "white"
           },
           "zaxis": {
            "backgroundcolor": "#E5ECF6",
            "gridcolor": "white",
            "gridwidth": 2,
            "linecolor": "white",
            "showbackground": true,
            "ticks": "",
            "zerolinecolor": "white"
           }
          },
          "shapedefaults": {
           "line": {
            "color": "#2a3f5f"
           }
          },
          "ternary": {
           "aaxis": {
            "gridcolor": "white",
            "linecolor": "white",
            "ticks": ""
           },
           "baxis": {
            "gridcolor": "white",
            "linecolor": "white",
            "ticks": ""
           },
           "bgcolor": "#E5ECF6",
           "caxis": {
            "gridcolor": "white",
            "linecolor": "white",
            "ticks": ""
           }
          },
          "title": {
           "x": 0.05
          },
          "xaxis": {
           "automargin": true,
           "gridcolor": "white",
           "linecolor": "white",
           "ticks": "",
           "title": {
            "standoff": 15
           },
           "zerolinecolor": "white",
           "zerolinewidth": 2
          },
          "yaxis": {
           "automargin": true,
           "gridcolor": "white",
           "linecolor": "white",
           "ticks": "",
           "title": {
            "standoff": 15
           },
           "zerolinecolor": "white",
           "zerolinewidth": 2
          }
         }
        },
        "title": {
         "font": {
          "color": "#4D5663"
         },
         "text": "Top 20 Unigram Words"
        },
        "xaxis": {
         "gridcolor": "#E1E5ED",
         "showgrid": true,
         "tickfont": {
          "color": "#4D5663"
         },
         "title": {
          "font": {
           "color": "#4D5663"
          },
          "text": "Unigram"
         },
         "zerolinecolor": "#E1E5ED"
        },
        "yaxis": {
         "gridcolor": "#E1E5ED",
         "showgrid": true,
         "tickfont": {
          "color": "#4D5663"
         },
         "title": {
          "font": {
           "color": "#4D5663"
          },
          "text": "Frequency"
         },
         "zerolinecolor": "#E1E5ED"
        }
       }
      },
      "text/html": [
       "<div>                            <div id=\"0274797e-6245-4c7d-8908-4041f4973430\" class=\"plotly-graph-div\" style=\"height:525px; width:100%;\"></div>            <script type=\"text/javascript\">                require([\"plotly\"], function(Plotly) {                    window.PLOTLYENV=window.PLOTLYENV || {};\n",
       "                    window.PLOTLYENV.BASE_URL='https://plot.ly';                                    if (document.getElementById(\"0274797e-6245-4c7d-8908-4041f4973430\")) {                    Plotly.newPlot(                        \"0274797e-6245-4c7d-8908-4041f4973430\",                        [{\"marker\":{\"color\":\"rgba(255, 153, 51, 0.6)\",\"line\":{\"color\":\"rgba(255, 153, 51, 1.0)\",\"width\":1}},\"name\":\"Frequency\",\"orientation\":\"v\",\"text\":\"\",\"x\":[\"energy\",\"year\",\"emissions\",\"environmental\",\"business\",\"carbon\",\"gas\",\"power\",\"climate\",\"new\",\"group\",\"going\",\"think\",\"million\",\"company\",\"production\",\"cost\",\"environment\",\"reduce\",\"water\"],\"y\":[320,194,184,181,152,151,143,138,120,114,109,108,108,105,103,102,96,92,88,84],\"type\":\"bar\"}],                        {\"legend\":{\"bgcolor\":\"#F5F6F9\",\"font\":{\"color\":\"#4D5663\"}},\"paper_bgcolor\":\"#F5F6F9\",\"plot_bgcolor\":\"#F5F6F9\",\"template\":{\"data\":{\"barpolar\":[{\"marker\":{\"line\":{\"color\":\"#E5ECF6\",\"width\":0.5},\"pattern\":{\"fillmode\":\"overlay\",\"size\":10,\"solidity\":0.2}},\"type\":\"barpolar\"}],\"bar\":[{\"error_x\":{\"color\":\"#2a3f5f\"},\"error_y\":{\"color\":\"#2a3f5f\"},\"marker\":{\"line\":{\"color\":\"#E5ECF6\",\"width\":0.5},\"pattern\":{\"fillmode\":\"overlay\",\"size\":10,\"solidity\":0.2}},\"type\":\"bar\"}],\"carpet\":[{\"aaxis\":{\"endlinecolor\":\"#2a3f5f\",\"gridcolor\":\"white\",\"linecolor\":\"white\",\"minorgridcolor\":\"white\",\"startlinecolor\":\"#2a3f5f\"},\"baxis\":{\"endlinecolor\":\"#2a3f5f\",\"gridcolor\":\"white\",\"linecolor\":\"white\",\"minorgridcolor\":\"white\",\"startlinecolor\":\"#2a3f5f\"},\"type\":\"carpet\"}],\"choropleth\":[{\"colorbar\":{\"outlinewidth\":0,\"ticks\":\"\"},\"type\":\"choropleth\"}],\"contourcarpet\":[{\"colorbar\":{\"outlinewidth\":0,\"ticks\":\"\"},\"type\":\"contourcarpet\"}],\"contour\":[{\"colorbar\":{\"outlinewidth\":0,\"ticks\":\"\"},\"colorscale\":[[0.0,\"#0d0887\"],[0.1111111111111111,\"#46039f\"],[0.2222222222222222,\"#7201a8\"],[0.3333333333333333,\"#9c179e\"],[0.4444444444444444,\"#bd3786\"],[0.5555555555555556,\"#d8576b\"],[0.6666666666666666,\"#ed7953\"],[0.7777777777777778,\"#fb9f3a\"],[0.8888888888888888,\"#fdca26\"],[1.0,\"#f0f921\"]],\"type\":\"contour\"}],\"heatmapgl\":[{\"colorbar\":{\"outlinewidth\":0,\"ticks\":\"\"},\"colorscale\":[[0.0,\"#0d0887\"],[0.1111111111111111,\"#46039f\"],[0.2222222222222222,\"#7201a8\"],[0.3333333333333333,\"#9c179e\"],[0.4444444444444444,\"#bd3786\"],[0.5555555555555556,\"#d8576b\"],[0.6666666666666666,\"#ed7953\"],[0.7777777777777778,\"#fb9f3a\"],[0.8888888888888888,\"#fdca26\"],[1.0,\"#f0f921\"]],\"type\":\"heatmapgl\"}],\"heatmap\":[{\"colorbar\":{\"outlinewidth\":0,\"ticks\":\"\"},\"colorscale\":[[0.0,\"#0d0887\"],[0.1111111111111111,\"#46039f\"],[0.2222222222222222,\"#7201a8\"],[0.3333333333333333,\"#9c179e\"],[0.4444444444444444,\"#bd3786\"],[0.5555555555555556,\"#d8576b\"],[0.6666666666666666,\"#ed7953\"],[0.7777777777777778,\"#fb9f3a\"],[0.8888888888888888,\"#fdca26\"],[1.0,\"#f0f921\"]],\"type\":\"heatmap\"}],\"histogram2dcontour\":[{\"colorbar\":{\"outlinewidth\":0,\"ticks\":\"\"},\"colorscale\":[[0.0,\"#0d0887\"],[0.1111111111111111,\"#46039f\"],[0.2222222222222222,\"#7201a8\"],[0.3333333333333333,\"#9c179e\"],[0.4444444444444444,\"#bd3786\"],[0.5555555555555556,\"#d8576b\"],[0.6666666666666666,\"#ed7953\"],[0.7777777777777778,\"#fb9f3a\"],[0.8888888888888888,\"#fdca26\"],[1.0,\"#f0f921\"]],\"type\":\"histogram2dcontour\"}],\"histogram2d\":[{\"colorbar\":{\"outlinewidth\":0,\"ticks\":\"\"},\"colorscale\":[[0.0,\"#0d0887\"],[0.1111111111111111,\"#46039f\"],[0.2222222222222222,\"#7201a8\"],[0.3333333333333333,\"#9c179e\"],[0.4444444444444444,\"#bd3786\"],[0.5555555555555556,\"#d8576b\"],[0.6666666666666666,\"#ed7953\"],[0.7777777777777778,\"#fb9f3a\"],[0.8888888888888888,\"#fdca26\"],[1.0,\"#f0f921\"]],\"type\":\"histogram2d\"}],\"histogram\":[{\"marker\":{\"pattern\":{\"fillmode\":\"overlay\",\"size\":10,\"solidity\":0.2}},\"type\":\"histogram\"}],\"mesh3d\":[{\"colorbar\":{\"outlinewidth\":0,\"ticks\":\"\"},\"type\":\"mesh3d\"}],\"parcoords\":[{\"line\":{\"colorbar\":{\"outlinewidth\":0,\"ticks\":\"\"}},\"type\":\"parcoords\"}],\"pie\":[{\"automargin\":true,\"type\":\"pie\"}],\"scatter3d\":[{\"line\":{\"colorbar\":{\"outlinewidth\":0,\"ticks\":\"\"}},\"marker\":{\"colorbar\":{\"outlinewidth\":0,\"ticks\":\"\"}},\"type\":\"scatter3d\"}],\"scattercarpet\":[{\"marker\":{\"colorbar\":{\"outlinewidth\":0,\"ticks\":\"\"}},\"type\":\"scattercarpet\"}],\"scattergeo\":[{\"marker\":{\"colorbar\":{\"outlinewidth\":0,\"ticks\":\"\"}},\"type\":\"scattergeo\"}],\"scattergl\":[{\"marker\":{\"colorbar\":{\"outlinewidth\":0,\"ticks\":\"\"}},\"type\":\"scattergl\"}],\"scattermapbox\":[{\"marker\":{\"colorbar\":{\"outlinewidth\":0,\"ticks\":\"\"}},\"type\":\"scattermapbox\"}],\"scatterpolargl\":[{\"marker\":{\"colorbar\":{\"outlinewidth\":0,\"ticks\":\"\"}},\"type\":\"scatterpolargl\"}],\"scatterpolar\":[{\"marker\":{\"colorbar\":{\"outlinewidth\":0,\"ticks\":\"\"}},\"type\":\"scatterpolar\"}],\"scatter\":[{\"fillpattern\":{\"fillmode\":\"overlay\",\"size\":10,\"solidity\":0.2},\"type\":\"scatter\"}],\"scatterternary\":[{\"marker\":{\"colorbar\":{\"outlinewidth\":0,\"ticks\":\"\"}},\"type\":\"scatterternary\"}],\"surface\":[{\"colorbar\":{\"outlinewidth\":0,\"ticks\":\"\"},\"colorscale\":[[0.0,\"#0d0887\"],[0.1111111111111111,\"#46039f\"],[0.2222222222222222,\"#7201a8\"],[0.3333333333333333,\"#9c179e\"],[0.4444444444444444,\"#bd3786\"],[0.5555555555555556,\"#d8576b\"],[0.6666666666666666,\"#ed7953\"],[0.7777777777777778,\"#fb9f3a\"],[0.8888888888888888,\"#fdca26\"],[1.0,\"#f0f921\"]],\"type\":\"surface\"}],\"table\":[{\"cells\":{\"fill\":{\"color\":\"#EBF0F8\"},\"line\":{\"color\":\"white\"}},\"header\":{\"fill\":{\"color\":\"#C8D4E3\"},\"line\":{\"color\":\"white\"}},\"type\":\"table\"}]},\"layout\":{\"annotationdefaults\":{\"arrowcolor\":\"#2a3f5f\",\"arrowhead\":0,\"arrowwidth\":1},\"autotypenumbers\":\"strict\",\"coloraxis\":{\"colorbar\":{\"outlinewidth\":0,\"ticks\":\"\"}},\"colorscale\":{\"diverging\":[[0,\"#8e0152\"],[0.1,\"#c51b7d\"],[0.2,\"#de77ae\"],[0.3,\"#f1b6da\"],[0.4,\"#fde0ef\"],[0.5,\"#f7f7f7\"],[0.6,\"#e6f5d0\"],[0.7,\"#b8e186\"],[0.8,\"#7fbc41\"],[0.9,\"#4d9221\"],[1,\"#276419\"]],\"sequential\":[[0.0,\"#0d0887\"],[0.1111111111111111,\"#46039f\"],[0.2222222222222222,\"#7201a8\"],[0.3333333333333333,\"#9c179e\"],[0.4444444444444444,\"#bd3786\"],[0.5555555555555556,\"#d8576b\"],[0.6666666666666666,\"#ed7953\"],[0.7777777777777778,\"#fb9f3a\"],[0.8888888888888888,\"#fdca26\"],[1.0,\"#f0f921\"]],\"sequentialminus\":[[0.0,\"#0d0887\"],[0.1111111111111111,\"#46039f\"],[0.2222222222222222,\"#7201a8\"],[0.3333333333333333,\"#9c179e\"],[0.4444444444444444,\"#bd3786\"],[0.5555555555555556,\"#d8576b\"],[0.6666666666666666,\"#ed7953\"],[0.7777777777777778,\"#fb9f3a\"],[0.8888888888888888,\"#fdca26\"],[1.0,\"#f0f921\"]]},\"colorway\":[\"#636efa\",\"#EF553B\",\"#00cc96\",\"#ab63fa\",\"#FFA15A\",\"#19d3f3\",\"#FF6692\",\"#B6E880\",\"#FF97FF\",\"#FECB52\"],\"font\":{\"color\":\"#2a3f5f\"},\"geo\":{\"bgcolor\":\"white\",\"lakecolor\":\"white\",\"landcolor\":\"#E5ECF6\",\"showlakes\":true,\"showland\":true,\"subunitcolor\":\"white\"},\"hoverlabel\":{\"align\":\"left\"},\"hovermode\":\"closest\",\"mapbox\":{\"style\":\"light\"},\"paper_bgcolor\":\"white\",\"plot_bgcolor\":\"#E5ECF6\",\"polar\":{\"angularaxis\":{\"gridcolor\":\"white\",\"linecolor\":\"white\",\"ticks\":\"\"},\"bgcolor\":\"#E5ECF6\",\"radialaxis\":{\"gridcolor\":\"white\",\"linecolor\":\"white\",\"ticks\":\"\"}},\"scene\":{\"xaxis\":{\"backgroundcolor\":\"#E5ECF6\",\"gridcolor\":\"white\",\"gridwidth\":2,\"linecolor\":\"white\",\"showbackground\":true,\"ticks\":\"\",\"zerolinecolor\":\"white\"},\"yaxis\":{\"backgroundcolor\":\"#E5ECF6\",\"gridcolor\":\"white\",\"gridwidth\":2,\"linecolor\":\"white\",\"showbackground\":true,\"ticks\":\"\",\"zerolinecolor\":\"white\"},\"zaxis\":{\"backgroundcolor\":\"#E5ECF6\",\"gridcolor\":\"white\",\"gridwidth\":2,\"linecolor\":\"white\",\"showbackground\":true,\"ticks\":\"\",\"zerolinecolor\":\"white\"}},\"shapedefaults\":{\"line\":{\"color\":\"#2a3f5f\"}},\"ternary\":{\"aaxis\":{\"gridcolor\":\"white\",\"linecolor\":\"white\",\"ticks\":\"\"},\"baxis\":{\"gridcolor\":\"white\",\"linecolor\":\"white\",\"ticks\":\"\"},\"bgcolor\":\"#E5ECF6\",\"caxis\":{\"gridcolor\":\"white\",\"linecolor\":\"white\",\"ticks\":\"\"}},\"title\":{\"x\":0.05},\"xaxis\":{\"automargin\":true,\"gridcolor\":\"white\",\"linecolor\":\"white\",\"ticks\":\"\",\"title\":{\"standoff\":15},\"zerolinecolor\":\"white\",\"zerolinewidth\":2},\"yaxis\":{\"automargin\":true,\"gridcolor\":\"white\",\"linecolor\":\"white\",\"ticks\":\"\",\"title\":{\"standoff\":15},\"zerolinecolor\":\"white\",\"zerolinewidth\":2}}},\"title\":{\"font\":{\"color\":\"#4D5663\"},\"text\":\"Top 20 Unigram Words\"},\"xaxis\":{\"gridcolor\":\"#E1E5ED\",\"showgrid\":true,\"tickfont\":{\"color\":\"#4D5663\"},\"title\":{\"font\":{\"color\":\"#4D5663\"},\"text\":\"Unigram\"},\"zerolinecolor\":\"#E1E5ED\"},\"yaxis\":{\"gridcolor\":\"#E1E5ED\",\"showgrid\":true,\"tickfont\":{\"color\":\"#4D5663\"},\"title\":{\"font\":{\"color\":\"#4D5663\"},\"text\":\"Frequency\"},\"zerolinecolor\":\"#E1E5ED\"}},                        {\"showLink\": true, \"linkText\": \"Export to plot.ly\", \"plotlyServerURL\": \"https://plot.ly\", \"responsive\": true}                    ).then(function(){\n",
       "                            \n",
       "var gd = document.getElementById('0274797e-6245-4c7d-8908-4041f4973430');\n",
       "var x = new MutationObserver(function (mutations, observer) {{\n",
       "        var display = window.getComputedStyle(gd).display;\n",
       "        if (!display || display === 'none') {{\n",
       "            console.log([gd, 'removed!']);\n",
       "            Plotly.purge(gd);\n",
       "            observer.disconnect();\n",
       "        }}\n",
       "}});\n",
       "\n",
       "// Listen for the removal of the full notebook cells\n",
       "var notebookContainer = gd.closest('#notebook-container');\n",
       "if (notebookContainer) {{\n",
       "    x.observe(notebookContainer, {childList: true});\n",
       "}}\n",
       "\n",
       "// Listen for the clearing of the current output cell\n",
       "var outputEl = gd.closest('.output');\n",
       "if (outputEl) {{\n",
       "    x.observe(outputEl, {childList: true});\n",
       "}}\n",
       "\n",
       "                        })                };                });            </script>        </div>"
      ]
     },
     "metadata": {},
     "output_type": "display_data"
    }
   ],
   "source": [
    "words = get_top_n_words(df['text'], 20)\n",
    "dfUni = pd.DataFrame(words, columns = ['Unigram','Frequency'])\n",
    "dfUni = dfUni.set_index('Unigram')\n",
    "dfUni.iplot(kind = 'bar', xTitle='Unigram', yTitle='Frequency', title = 'Top 20 Unigram Words')"
   ]
  },
  {
   "cell_type": "markdown",
   "metadata": {},
   "source": [
    "##### Bigrams without Stop Words"
   ]
  },
  {
   "cell_type": "code",
   "execution_count": 83,
   "metadata": {},
   "outputs": [],
   "source": [
    "def get_top_n_words(x, n):\n",
    "    vec = CountVectorizer(ngram_range=(2,2), stop_words='english').fit(x)\n",
    "    bow = vec.transform(x)\n",
    "    sum_words = bow.sum(axis = 0)\n",
    "    word_freq = [(word, sum_words[0, idx]) for word, idx in vec.vocabulary_.items()]\n",
    "    word_freq = sorted(word_freq, key = lambda x: x[1], reverse = True)\n",
    "    return word_freq[:n]"
   ]
  },
  {
   "cell_type": "code",
   "execution_count": 84,
   "metadata": {},
   "outputs": [
    {
     "data": {
      "application/vnd.plotly.v1+json": {
       "config": {
        "linkText": "Export to plot.ly",
        "plotlyServerURL": "https://plot.ly",
        "showLink": true
       },
       "data": [
        {
         "marker": {
          "color": "rgba(255, 153, 51, 0.6)",
          "line": {
           "color": "rgba(255, 153, 51, 1.0)",
           "width": 1
          }
         },
         "name": "Frequency",
         "orientation": "v",
         "text": "",
         "type": "bar",
         "x": [
          "climate change",
          "renewable energy",
          "long term",
          "natural gas",
          "greenhouse gas",
          "low carbon",
          "energy efficiency",
          "co2 emissions",
          "carbon footprint",
          "ghg emissions",
          "gas emissions",
          "environmental impact",
          "carbon emissions",
          "environmental social",
          "power plants",
          "scope emissions",
          "going forward",
          "thermal power",
          "environmental footprint",
          "global warming"
         ],
         "y": [
          65,
          43,
          35,
          32,
          32,
          28,
          28,
          23,
          21,
          21,
          21,
          20,
          20,
          18,
          17,
          15,
          14,
          13,
          13,
          13
         ]
        }
       ],
       "layout": {
        "legend": {
         "bgcolor": "#F5F6F9",
         "font": {
          "color": "#4D5663"
         }
        },
        "paper_bgcolor": "#F5F6F9",
        "plot_bgcolor": "#F5F6F9",
        "template": {
         "data": {
          "bar": [
           {
            "error_x": {
             "color": "#2a3f5f"
            },
            "error_y": {
             "color": "#2a3f5f"
            },
            "marker": {
             "line": {
              "color": "#E5ECF6",
              "width": 0.5
             },
             "pattern": {
              "fillmode": "overlay",
              "size": 10,
              "solidity": 0.2
             }
            },
            "type": "bar"
           }
          ],
          "barpolar": [
           {
            "marker": {
             "line": {
              "color": "#E5ECF6",
              "width": 0.5
             },
             "pattern": {
              "fillmode": "overlay",
              "size": 10,
              "solidity": 0.2
             }
            },
            "type": "barpolar"
           }
          ],
          "carpet": [
           {
            "aaxis": {
             "endlinecolor": "#2a3f5f",
             "gridcolor": "white",
             "linecolor": "white",
             "minorgridcolor": "white",
             "startlinecolor": "#2a3f5f"
            },
            "baxis": {
             "endlinecolor": "#2a3f5f",
             "gridcolor": "white",
             "linecolor": "white",
             "minorgridcolor": "white",
             "startlinecolor": "#2a3f5f"
            },
            "type": "carpet"
           }
          ],
          "choropleth": [
           {
            "colorbar": {
             "outlinewidth": 0,
             "ticks": ""
            },
            "type": "choropleth"
           }
          ],
          "contour": [
           {
            "colorbar": {
             "outlinewidth": 0,
             "ticks": ""
            },
            "colorscale": [
             [
              0,
              "#0d0887"
             ],
             [
              0.1111111111111111,
              "#46039f"
             ],
             [
              0.2222222222222222,
              "#7201a8"
             ],
             [
              0.3333333333333333,
              "#9c179e"
             ],
             [
              0.4444444444444444,
              "#bd3786"
             ],
             [
              0.5555555555555556,
              "#d8576b"
             ],
             [
              0.6666666666666666,
              "#ed7953"
             ],
             [
              0.7777777777777778,
              "#fb9f3a"
             ],
             [
              0.8888888888888888,
              "#fdca26"
             ],
             [
              1,
              "#f0f921"
             ]
            ],
            "type": "contour"
           }
          ],
          "contourcarpet": [
           {
            "colorbar": {
             "outlinewidth": 0,
             "ticks": ""
            },
            "type": "contourcarpet"
           }
          ],
          "heatmap": [
           {
            "colorbar": {
             "outlinewidth": 0,
             "ticks": ""
            },
            "colorscale": [
             [
              0,
              "#0d0887"
             ],
             [
              0.1111111111111111,
              "#46039f"
             ],
             [
              0.2222222222222222,
              "#7201a8"
             ],
             [
              0.3333333333333333,
              "#9c179e"
             ],
             [
              0.4444444444444444,
              "#bd3786"
             ],
             [
              0.5555555555555556,
              "#d8576b"
             ],
             [
              0.6666666666666666,
              "#ed7953"
             ],
             [
              0.7777777777777778,
              "#fb9f3a"
             ],
             [
              0.8888888888888888,
              "#fdca26"
             ],
             [
              1,
              "#f0f921"
             ]
            ],
            "type": "heatmap"
           }
          ],
          "heatmapgl": [
           {
            "colorbar": {
             "outlinewidth": 0,
             "ticks": ""
            },
            "colorscale": [
             [
              0,
              "#0d0887"
             ],
             [
              0.1111111111111111,
              "#46039f"
             ],
             [
              0.2222222222222222,
              "#7201a8"
             ],
             [
              0.3333333333333333,
              "#9c179e"
             ],
             [
              0.4444444444444444,
              "#bd3786"
             ],
             [
              0.5555555555555556,
              "#d8576b"
             ],
             [
              0.6666666666666666,
              "#ed7953"
             ],
             [
              0.7777777777777778,
              "#fb9f3a"
             ],
             [
              0.8888888888888888,
              "#fdca26"
             ],
             [
              1,
              "#f0f921"
             ]
            ],
            "type": "heatmapgl"
           }
          ],
          "histogram": [
           {
            "marker": {
             "pattern": {
              "fillmode": "overlay",
              "size": 10,
              "solidity": 0.2
             }
            },
            "type": "histogram"
           }
          ],
          "histogram2d": [
           {
            "colorbar": {
             "outlinewidth": 0,
             "ticks": ""
            },
            "colorscale": [
             [
              0,
              "#0d0887"
             ],
             [
              0.1111111111111111,
              "#46039f"
             ],
             [
              0.2222222222222222,
              "#7201a8"
             ],
             [
              0.3333333333333333,
              "#9c179e"
             ],
             [
              0.4444444444444444,
              "#bd3786"
             ],
             [
              0.5555555555555556,
              "#d8576b"
             ],
             [
              0.6666666666666666,
              "#ed7953"
             ],
             [
              0.7777777777777778,
              "#fb9f3a"
             ],
             [
              0.8888888888888888,
              "#fdca26"
             ],
             [
              1,
              "#f0f921"
             ]
            ],
            "type": "histogram2d"
           }
          ],
          "histogram2dcontour": [
           {
            "colorbar": {
             "outlinewidth": 0,
             "ticks": ""
            },
            "colorscale": [
             [
              0,
              "#0d0887"
             ],
             [
              0.1111111111111111,
              "#46039f"
             ],
             [
              0.2222222222222222,
              "#7201a8"
             ],
             [
              0.3333333333333333,
              "#9c179e"
             ],
             [
              0.4444444444444444,
              "#bd3786"
             ],
             [
              0.5555555555555556,
              "#d8576b"
             ],
             [
              0.6666666666666666,
              "#ed7953"
             ],
             [
              0.7777777777777778,
              "#fb9f3a"
             ],
             [
              0.8888888888888888,
              "#fdca26"
             ],
             [
              1,
              "#f0f921"
             ]
            ],
            "type": "histogram2dcontour"
           }
          ],
          "mesh3d": [
           {
            "colorbar": {
             "outlinewidth": 0,
             "ticks": ""
            },
            "type": "mesh3d"
           }
          ],
          "parcoords": [
           {
            "line": {
             "colorbar": {
              "outlinewidth": 0,
              "ticks": ""
             }
            },
            "type": "parcoords"
           }
          ],
          "pie": [
           {
            "automargin": true,
            "type": "pie"
           }
          ],
          "scatter": [
           {
            "fillpattern": {
             "fillmode": "overlay",
             "size": 10,
             "solidity": 0.2
            },
            "type": "scatter"
           }
          ],
          "scatter3d": [
           {
            "line": {
             "colorbar": {
              "outlinewidth": 0,
              "ticks": ""
             }
            },
            "marker": {
             "colorbar": {
              "outlinewidth": 0,
              "ticks": ""
             }
            },
            "type": "scatter3d"
           }
          ],
          "scattercarpet": [
           {
            "marker": {
             "colorbar": {
              "outlinewidth": 0,
              "ticks": ""
             }
            },
            "type": "scattercarpet"
           }
          ],
          "scattergeo": [
           {
            "marker": {
             "colorbar": {
              "outlinewidth": 0,
              "ticks": ""
             }
            },
            "type": "scattergeo"
           }
          ],
          "scattergl": [
           {
            "marker": {
             "colorbar": {
              "outlinewidth": 0,
              "ticks": ""
             }
            },
            "type": "scattergl"
           }
          ],
          "scattermapbox": [
           {
            "marker": {
             "colorbar": {
              "outlinewidth": 0,
              "ticks": ""
             }
            },
            "type": "scattermapbox"
           }
          ],
          "scatterpolar": [
           {
            "marker": {
             "colorbar": {
              "outlinewidth": 0,
              "ticks": ""
             }
            },
            "type": "scatterpolar"
           }
          ],
          "scatterpolargl": [
           {
            "marker": {
             "colorbar": {
              "outlinewidth": 0,
              "ticks": ""
             }
            },
            "type": "scatterpolargl"
           }
          ],
          "scatterternary": [
           {
            "marker": {
             "colorbar": {
              "outlinewidth": 0,
              "ticks": ""
             }
            },
            "type": "scatterternary"
           }
          ],
          "surface": [
           {
            "colorbar": {
             "outlinewidth": 0,
             "ticks": ""
            },
            "colorscale": [
             [
              0,
              "#0d0887"
             ],
             [
              0.1111111111111111,
              "#46039f"
             ],
             [
              0.2222222222222222,
              "#7201a8"
             ],
             [
              0.3333333333333333,
              "#9c179e"
             ],
             [
              0.4444444444444444,
              "#bd3786"
             ],
             [
              0.5555555555555556,
              "#d8576b"
             ],
             [
              0.6666666666666666,
              "#ed7953"
             ],
             [
              0.7777777777777778,
              "#fb9f3a"
             ],
             [
              0.8888888888888888,
              "#fdca26"
             ],
             [
              1,
              "#f0f921"
             ]
            ],
            "type": "surface"
           }
          ],
          "table": [
           {
            "cells": {
             "fill": {
              "color": "#EBF0F8"
             },
             "line": {
              "color": "white"
             }
            },
            "header": {
             "fill": {
              "color": "#C8D4E3"
             },
             "line": {
              "color": "white"
             }
            },
            "type": "table"
           }
          ]
         },
         "layout": {
          "annotationdefaults": {
           "arrowcolor": "#2a3f5f",
           "arrowhead": 0,
           "arrowwidth": 1
          },
          "autotypenumbers": "strict",
          "coloraxis": {
           "colorbar": {
            "outlinewidth": 0,
            "ticks": ""
           }
          },
          "colorscale": {
           "diverging": [
            [
             0,
             "#8e0152"
            ],
            [
             0.1,
             "#c51b7d"
            ],
            [
             0.2,
             "#de77ae"
            ],
            [
             0.3,
             "#f1b6da"
            ],
            [
             0.4,
             "#fde0ef"
            ],
            [
             0.5,
             "#f7f7f7"
            ],
            [
             0.6,
             "#e6f5d0"
            ],
            [
             0.7,
             "#b8e186"
            ],
            [
             0.8,
             "#7fbc41"
            ],
            [
             0.9,
             "#4d9221"
            ],
            [
             1,
             "#276419"
            ]
           ],
           "sequential": [
            [
             0,
             "#0d0887"
            ],
            [
             0.1111111111111111,
             "#46039f"
            ],
            [
             0.2222222222222222,
             "#7201a8"
            ],
            [
             0.3333333333333333,
             "#9c179e"
            ],
            [
             0.4444444444444444,
             "#bd3786"
            ],
            [
             0.5555555555555556,
             "#d8576b"
            ],
            [
             0.6666666666666666,
             "#ed7953"
            ],
            [
             0.7777777777777778,
             "#fb9f3a"
            ],
            [
             0.8888888888888888,
             "#fdca26"
            ],
            [
             1,
             "#f0f921"
            ]
           ],
           "sequentialminus": [
            [
             0,
             "#0d0887"
            ],
            [
             0.1111111111111111,
             "#46039f"
            ],
            [
             0.2222222222222222,
             "#7201a8"
            ],
            [
             0.3333333333333333,
             "#9c179e"
            ],
            [
             0.4444444444444444,
             "#bd3786"
            ],
            [
             0.5555555555555556,
             "#d8576b"
            ],
            [
             0.6666666666666666,
             "#ed7953"
            ],
            [
             0.7777777777777778,
             "#fb9f3a"
            ],
            [
             0.8888888888888888,
             "#fdca26"
            ],
            [
             1,
             "#f0f921"
            ]
           ]
          },
          "colorway": [
           "#636efa",
           "#EF553B",
           "#00cc96",
           "#ab63fa",
           "#FFA15A",
           "#19d3f3",
           "#FF6692",
           "#B6E880",
           "#FF97FF",
           "#FECB52"
          ],
          "font": {
           "color": "#2a3f5f"
          },
          "geo": {
           "bgcolor": "white",
           "lakecolor": "white",
           "landcolor": "#E5ECF6",
           "showlakes": true,
           "showland": true,
           "subunitcolor": "white"
          },
          "hoverlabel": {
           "align": "left"
          },
          "hovermode": "closest",
          "mapbox": {
           "style": "light"
          },
          "paper_bgcolor": "white",
          "plot_bgcolor": "#E5ECF6",
          "polar": {
           "angularaxis": {
            "gridcolor": "white",
            "linecolor": "white",
            "ticks": ""
           },
           "bgcolor": "#E5ECF6",
           "radialaxis": {
            "gridcolor": "white",
            "linecolor": "white",
            "ticks": ""
           }
          },
          "scene": {
           "xaxis": {
            "backgroundcolor": "#E5ECF6",
            "gridcolor": "white",
            "gridwidth": 2,
            "linecolor": "white",
            "showbackground": true,
            "ticks": "",
            "zerolinecolor": "white"
           },
           "yaxis": {
            "backgroundcolor": "#E5ECF6",
            "gridcolor": "white",
            "gridwidth": 2,
            "linecolor": "white",
            "showbackground": true,
            "ticks": "",
            "zerolinecolor": "white"
           },
           "zaxis": {
            "backgroundcolor": "#E5ECF6",
            "gridcolor": "white",
            "gridwidth": 2,
            "linecolor": "white",
            "showbackground": true,
            "ticks": "",
            "zerolinecolor": "white"
           }
          },
          "shapedefaults": {
           "line": {
            "color": "#2a3f5f"
           }
          },
          "ternary": {
           "aaxis": {
            "gridcolor": "white",
            "linecolor": "white",
            "ticks": ""
           },
           "baxis": {
            "gridcolor": "white",
            "linecolor": "white",
            "ticks": ""
           },
           "bgcolor": "#E5ECF6",
           "caxis": {
            "gridcolor": "white",
            "linecolor": "white",
            "ticks": ""
           }
          },
          "title": {
           "x": 0.05
          },
          "xaxis": {
           "automargin": true,
           "gridcolor": "white",
           "linecolor": "white",
           "ticks": "",
           "title": {
            "standoff": 15
           },
           "zerolinecolor": "white",
           "zerolinewidth": 2
          },
          "yaxis": {
           "automargin": true,
           "gridcolor": "white",
           "linecolor": "white",
           "ticks": "",
           "title": {
            "standoff": 15
           },
           "zerolinecolor": "white",
           "zerolinewidth": 2
          }
         }
        },
        "title": {
         "font": {
          "color": "#4D5663"
         },
         "text": "Top 20 Bigram Words"
        },
        "xaxis": {
         "gridcolor": "#E1E5ED",
         "showgrid": true,
         "tickfont": {
          "color": "#4D5663"
         },
         "title": {
          "font": {
           "color": "#4D5663"
          },
          "text": "Bigram"
         },
         "zerolinecolor": "#E1E5ED"
        },
        "yaxis": {
         "gridcolor": "#E1E5ED",
         "showgrid": true,
         "tickfont": {
          "color": "#4D5663"
         },
         "title": {
          "font": {
           "color": "#4D5663"
          },
          "text": "Frequency"
         },
         "zerolinecolor": "#E1E5ED"
        }
       }
      },
      "text/html": [
       "<div>                            <div id=\"de06804a-99f5-46c5-803e-6ffc0d413c43\" class=\"plotly-graph-div\" style=\"height:525px; width:100%;\"></div>            <script type=\"text/javascript\">                require([\"plotly\"], function(Plotly) {                    window.PLOTLYENV=window.PLOTLYENV || {};\n",
       "                    window.PLOTLYENV.BASE_URL='https://plot.ly';                                    if (document.getElementById(\"de06804a-99f5-46c5-803e-6ffc0d413c43\")) {                    Plotly.newPlot(                        \"de06804a-99f5-46c5-803e-6ffc0d413c43\",                        [{\"marker\":{\"color\":\"rgba(255, 153, 51, 0.6)\",\"line\":{\"color\":\"rgba(255, 153, 51, 1.0)\",\"width\":1}},\"name\":\"Frequency\",\"orientation\":\"v\",\"text\":\"\",\"x\":[\"climate change\",\"renewable energy\",\"long term\",\"natural gas\",\"greenhouse gas\",\"low carbon\",\"energy efficiency\",\"co2 emissions\",\"carbon footprint\",\"ghg emissions\",\"gas emissions\",\"environmental impact\",\"carbon emissions\",\"environmental social\",\"power plants\",\"scope emissions\",\"going forward\",\"thermal power\",\"environmental footprint\",\"global warming\"],\"y\":[65,43,35,32,32,28,28,23,21,21,21,20,20,18,17,15,14,13,13,13],\"type\":\"bar\"}],                        {\"legend\":{\"bgcolor\":\"#F5F6F9\",\"font\":{\"color\":\"#4D5663\"}},\"paper_bgcolor\":\"#F5F6F9\",\"plot_bgcolor\":\"#F5F6F9\",\"template\":{\"data\":{\"barpolar\":[{\"marker\":{\"line\":{\"color\":\"#E5ECF6\",\"width\":0.5},\"pattern\":{\"fillmode\":\"overlay\",\"size\":10,\"solidity\":0.2}},\"type\":\"barpolar\"}],\"bar\":[{\"error_x\":{\"color\":\"#2a3f5f\"},\"error_y\":{\"color\":\"#2a3f5f\"},\"marker\":{\"line\":{\"color\":\"#E5ECF6\",\"width\":0.5},\"pattern\":{\"fillmode\":\"overlay\",\"size\":10,\"solidity\":0.2}},\"type\":\"bar\"}],\"carpet\":[{\"aaxis\":{\"endlinecolor\":\"#2a3f5f\",\"gridcolor\":\"white\",\"linecolor\":\"white\",\"minorgridcolor\":\"white\",\"startlinecolor\":\"#2a3f5f\"},\"baxis\":{\"endlinecolor\":\"#2a3f5f\",\"gridcolor\":\"white\",\"linecolor\":\"white\",\"minorgridcolor\":\"white\",\"startlinecolor\":\"#2a3f5f\"},\"type\":\"carpet\"}],\"choropleth\":[{\"colorbar\":{\"outlinewidth\":0,\"ticks\":\"\"},\"type\":\"choropleth\"}],\"contourcarpet\":[{\"colorbar\":{\"outlinewidth\":0,\"ticks\":\"\"},\"type\":\"contourcarpet\"}],\"contour\":[{\"colorbar\":{\"outlinewidth\":0,\"ticks\":\"\"},\"colorscale\":[[0.0,\"#0d0887\"],[0.1111111111111111,\"#46039f\"],[0.2222222222222222,\"#7201a8\"],[0.3333333333333333,\"#9c179e\"],[0.4444444444444444,\"#bd3786\"],[0.5555555555555556,\"#d8576b\"],[0.6666666666666666,\"#ed7953\"],[0.7777777777777778,\"#fb9f3a\"],[0.8888888888888888,\"#fdca26\"],[1.0,\"#f0f921\"]],\"type\":\"contour\"}],\"heatmapgl\":[{\"colorbar\":{\"outlinewidth\":0,\"ticks\":\"\"},\"colorscale\":[[0.0,\"#0d0887\"],[0.1111111111111111,\"#46039f\"],[0.2222222222222222,\"#7201a8\"],[0.3333333333333333,\"#9c179e\"],[0.4444444444444444,\"#bd3786\"],[0.5555555555555556,\"#d8576b\"],[0.6666666666666666,\"#ed7953\"],[0.7777777777777778,\"#fb9f3a\"],[0.8888888888888888,\"#fdca26\"],[1.0,\"#f0f921\"]],\"type\":\"heatmapgl\"}],\"heatmap\":[{\"colorbar\":{\"outlinewidth\":0,\"ticks\":\"\"},\"colorscale\":[[0.0,\"#0d0887\"],[0.1111111111111111,\"#46039f\"],[0.2222222222222222,\"#7201a8\"],[0.3333333333333333,\"#9c179e\"],[0.4444444444444444,\"#bd3786\"],[0.5555555555555556,\"#d8576b\"],[0.6666666666666666,\"#ed7953\"],[0.7777777777777778,\"#fb9f3a\"],[0.8888888888888888,\"#fdca26\"],[1.0,\"#f0f921\"]],\"type\":\"heatmap\"}],\"histogram2dcontour\":[{\"colorbar\":{\"outlinewidth\":0,\"ticks\":\"\"},\"colorscale\":[[0.0,\"#0d0887\"],[0.1111111111111111,\"#46039f\"],[0.2222222222222222,\"#7201a8\"],[0.3333333333333333,\"#9c179e\"],[0.4444444444444444,\"#bd3786\"],[0.5555555555555556,\"#d8576b\"],[0.6666666666666666,\"#ed7953\"],[0.7777777777777778,\"#fb9f3a\"],[0.8888888888888888,\"#fdca26\"],[1.0,\"#f0f921\"]],\"type\":\"histogram2dcontour\"}],\"histogram2d\":[{\"colorbar\":{\"outlinewidth\":0,\"ticks\":\"\"},\"colorscale\":[[0.0,\"#0d0887\"],[0.1111111111111111,\"#46039f\"],[0.2222222222222222,\"#7201a8\"],[0.3333333333333333,\"#9c179e\"],[0.4444444444444444,\"#bd3786\"],[0.5555555555555556,\"#d8576b\"],[0.6666666666666666,\"#ed7953\"],[0.7777777777777778,\"#fb9f3a\"],[0.8888888888888888,\"#fdca26\"],[1.0,\"#f0f921\"]],\"type\":\"histogram2d\"}],\"histogram\":[{\"marker\":{\"pattern\":{\"fillmode\":\"overlay\",\"size\":10,\"solidity\":0.2}},\"type\":\"histogram\"}],\"mesh3d\":[{\"colorbar\":{\"outlinewidth\":0,\"ticks\":\"\"},\"type\":\"mesh3d\"}],\"parcoords\":[{\"line\":{\"colorbar\":{\"outlinewidth\":0,\"ticks\":\"\"}},\"type\":\"parcoords\"}],\"pie\":[{\"automargin\":true,\"type\":\"pie\"}],\"scatter3d\":[{\"line\":{\"colorbar\":{\"outlinewidth\":0,\"ticks\":\"\"}},\"marker\":{\"colorbar\":{\"outlinewidth\":0,\"ticks\":\"\"}},\"type\":\"scatter3d\"}],\"scattercarpet\":[{\"marker\":{\"colorbar\":{\"outlinewidth\":0,\"ticks\":\"\"}},\"type\":\"scattercarpet\"}],\"scattergeo\":[{\"marker\":{\"colorbar\":{\"outlinewidth\":0,\"ticks\":\"\"}},\"type\":\"scattergeo\"}],\"scattergl\":[{\"marker\":{\"colorbar\":{\"outlinewidth\":0,\"ticks\":\"\"}},\"type\":\"scattergl\"}],\"scattermapbox\":[{\"marker\":{\"colorbar\":{\"outlinewidth\":0,\"ticks\":\"\"}},\"type\":\"scattermapbox\"}],\"scatterpolargl\":[{\"marker\":{\"colorbar\":{\"outlinewidth\":0,\"ticks\":\"\"}},\"type\":\"scatterpolargl\"}],\"scatterpolar\":[{\"marker\":{\"colorbar\":{\"outlinewidth\":0,\"ticks\":\"\"}},\"type\":\"scatterpolar\"}],\"scatter\":[{\"fillpattern\":{\"fillmode\":\"overlay\",\"size\":10,\"solidity\":0.2},\"type\":\"scatter\"}],\"scatterternary\":[{\"marker\":{\"colorbar\":{\"outlinewidth\":0,\"ticks\":\"\"}},\"type\":\"scatterternary\"}],\"surface\":[{\"colorbar\":{\"outlinewidth\":0,\"ticks\":\"\"},\"colorscale\":[[0.0,\"#0d0887\"],[0.1111111111111111,\"#46039f\"],[0.2222222222222222,\"#7201a8\"],[0.3333333333333333,\"#9c179e\"],[0.4444444444444444,\"#bd3786\"],[0.5555555555555556,\"#d8576b\"],[0.6666666666666666,\"#ed7953\"],[0.7777777777777778,\"#fb9f3a\"],[0.8888888888888888,\"#fdca26\"],[1.0,\"#f0f921\"]],\"type\":\"surface\"}],\"table\":[{\"cells\":{\"fill\":{\"color\":\"#EBF0F8\"},\"line\":{\"color\":\"white\"}},\"header\":{\"fill\":{\"color\":\"#C8D4E3\"},\"line\":{\"color\":\"white\"}},\"type\":\"table\"}]},\"layout\":{\"annotationdefaults\":{\"arrowcolor\":\"#2a3f5f\",\"arrowhead\":0,\"arrowwidth\":1},\"autotypenumbers\":\"strict\",\"coloraxis\":{\"colorbar\":{\"outlinewidth\":0,\"ticks\":\"\"}},\"colorscale\":{\"diverging\":[[0,\"#8e0152\"],[0.1,\"#c51b7d\"],[0.2,\"#de77ae\"],[0.3,\"#f1b6da\"],[0.4,\"#fde0ef\"],[0.5,\"#f7f7f7\"],[0.6,\"#e6f5d0\"],[0.7,\"#b8e186\"],[0.8,\"#7fbc41\"],[0.9,\"#4d9221\"],[1,\"#276419\"]],\"sequential\":[[0.0,\"#0d0887\"],[0.1111111111111111,\"#46039f\"],[0.2222222222222222,\"#7201a8\"],[0.3333333333333333,\"#9c179e\"],[0.4444444444444444,\"#bd3786\"],[0.5555555555555556,\"#d8576b\"],[0.6666666666666666,\"#ed7953\"],[0.7777777777777778,\"#fb9f3a\"],[0.8888888888888888,\"#fdca26\"],[1.0,\"#f0f921\"]],\"sequentialminus\":[[0.0,\"#0d0887\"],[0.1111111111111111,\"#46039f\"],[0.2222222222222222,\"#7201a8\"],[0.3333333333333333,\"#9c179e\"],[0.4444444444444444,\"#bd3786\"],[0.5555555555555556,\"#d8576b\"],[0.6666666666666666,\"#ed7953\"],[0.7777777777777778,\"#fb9f3a\"],[0.8888888888888888,\"#fdca26\"],[1.0,\"#f0f921\"]]},\"colorway\":[\"#636efa\",\"#EF553B\",\"#00cc96\",\"#ab63fa\",\"#FFA15A\",\"#19d3f3\",\"#FF6692\",\"#B6E880\",\"#FF97FF\",\"#FECB52\"],\"font\":{\"color\":\"#2a3f5f\"},\"geo\":{\"bgcolor\":\"white\",\"lakecolor\":\"white\",\"landcolor\":\"#E5ECF6\",\"showlakes\":true,\"showland\":true,\"subunitcolor\":\"white\"},\"hoverlabel\":{\"align\":\"left\"},\"hovermode\":\"closest\",\"mapbox\":{\"style\":\"light\"},\"paper_bgcolor\":\"white\",\"plot_bgcolor\":\"#E5ECF6\",\"polar\":{\"angularaxis\":{\"gridcolor\":\"white\",\"linecolor\":\"white\",\"ticks\":\"\"},\"bgcolor\":\"#E5ECF6\",\"radialaxis\":{\"gridcolor\":\"white\",\"linecolor\":\"white\",\"ticks\":\"\"}},\"scene\":{\"xaxis\":{\"backgroundcolor\":\"#E5ECF6\",\"gridcolor\":\"white\",\"gridwidth\":2,\"linecolor\":\"white\",\"showbackground\":true,\"ticks\":\"\",\"zerolinecolor\":\"white\"},\"yaxis\":{\"backgroundcolor\":\"#E5ECF6\",\"gridcolor\":\"white\",\"gridwidth\":2,\"linecolor\":\"white\",\"showbackground\":true,\"ticks\":\"\",\"zerolinecolor\":\"white\"},\"zaxis\":{\"backgroundcolor\":\"#E5ECF6\",\"gridcolor\":\"white\",\"gridwidth\":2,\"linecolor\":\"white\",\"showbackground\":true,\"ticks\":\"\",\"zerolinecolor\":\"white\"}},\"shapedefaults\":{\"line\":{\"color\":\"#2a3f5f\"}},\"ternary\":{\"aaxis\":{\"gridcolor\":\"white\",\"linecolor\":\"white\",\"ticks\":\"\"},\"baxis\":{\"gridcolor\":\"white\",\"linecolor\":\"white\",\"ticks\":\"\"},\"bgcolor\":\"#E5ECF6\",\"caxis\":{\"gridcolor\":\"white\",\"linecolor\":\"white\",\"ticks\":\"\"}},\"title\":{\"x\":0.05},\"xaxis\":{\"automargin\":true,\"gridcolor\":\"white\",\"linecolor\":\"white\",\"ticks\":\"\",\"title\":{\"standoff\":15},\"zerolinecolor\":\"white\",\"zerolinewidth\":2},\"yaxis\":{\"automargin\":true,\"gridcolor\":\"white\",\"linecolor\":\"white\",\"ticks\":\"\",\"title\":{\"standoff\":15},\"zerolinecolor\":\"white\",\"zerolinewidth\":2}}},\"title\":{\"font\":{\"color\":\"#4D5663\"},\"text\":\"Top 20 Bigram Words\"},\"xaxis\":{\"gridcolor\":\"#E1E5ED\",\"showgrid\":true,\"tickfont\":{\"color\":\"#4D5663\"},\"title\":{\"font\":{\"color\":\"#4D5663\"},\"text\":\"Bigram\"},\"zerolinecolor\":\"#E1E5ED\"},\"yaxis\":{\"gridcolor\":\"#E1E5ED\",\"showgrid\":true,\"tickfont\":{\"color\":\"#4D5663\"},\"title\":{\"font\":{\"color\":\"#4D5663\"},\"text\":\"Frequency\"},\"zerolinecolor\":\"#E1E5ED\"}},                        {\"showLink\": true, \"linkText\": \"Export to plot.ly\", \"plotlyServerURL\": \"https://plot.ly\", \"responsive\": true}                    ).then(function(){\n",
       "                            \n",
       "var gd = document.getElementById('de06804a-99f5-46c5-803e-6ffc0d413c43');\n",
       "var x = new MutationObserver(function (mutations, observer) {{\n",
       "        var display = window.getComputedStyle(gd).display;\n",
       "        if (!display || display === 'none') {{\n",
       "            console.log([gd, 'removed!']);\n",
       "            Plotly.purge(gd);\n",
       "            observer.disconnect();\n",
       "        }}\n",
       "}});\n",
       "\n",
       "// Listen for the removal of the full notebook cells\n",
       "var notebookContainer = gd.closest('#notebook-container');\n",
       "if (notebookContainer) {{\n",
       "    x.observe(notebookContainer, {childList: true});\n",
       "}}\n",
       "\n",
       "// Listen for the clearing of the current output cell\n",
       "var outputEl = gd.closest('.output');\n",
       "if (outputEl) {{\n",
       "    x.observe(outputEl, {childList: true});\n",
       "}}\n",
       "\n",
       "                        })                };                });            </script>        </div>"
      ]
     },
     "metadata": {},
     "output_type": "display_data"
    }
   ],
   "source": [
    "words = get_top_n_words(df['text'], 20)\n",
    "dfBi = pd.DataFrame(words, columns = ['Bigram','Frequency'])\n",
    "dfBi = dfBi.set_index('Bigram')\n",
    "dfBi.iplot(kind = 'bar', xTitle='Bigram', yTitle='Frequency', title = 'Top 20 Bigram Words')"
   ]
  },
  {
   "cell_type": "markdown",
   "metadata": {},
   "source": [
    "##### Trigrams without Stop Words"
   ]
  },
  {
   "cell_type": "code",
   "execution_count": 90,
   "metadata": {},
   "outputs": [],
   "source": [
    "def get_top_n_words(x, n):\n",
    "    vec = CountVectorizer(ngram_range=(3,3), stop_words='english').fit(x)\n",
    "    bow = vec.transform(x)\n",
    "    sum_words = bow.sum(axis = 0)\n",
    "    word_freq = [(word, sum_words[0, idx]) for word, idx in vec.vocabulary_.items()]\n",
    "    word_freq = sorted(word_freq, key = lambda x: x[1], reverse = True)\n",
    "    return word_freq[:n]"
   ]
  },
  {
   "cell_type": "code",
   "execution_count": 91,
   "metadata": {},
   "outputs": [
    {
     "data": {
      "application/vnd.plotly.v1+json": {
       "config": {
        "linkText": "Export to plot.ly",
        "plotlyServerURL": "https://plot.ly",
        "showLink": true
       },
       "data": [
        {
         "marker": {
          "color": "rgba(255, 153, 51, 0.6)",
          "line": {
           "color": "rgba(255, 153, 51, 1.0)",
           "width": 1
          }
         },
         "name": "Frequency",
         "orientation": "v",
         "text": "",
         "type": "bar",
         "x": [
          "greenhouse gas emissions",
          "reduce environmental footprint",
          "environmental social governance",
          "transition low carbon",
          "low carbon economy",
          "low carbon society",
          "coal fired power",
          "science based targets",
          "net zero emissions",
          "free cash flow",
          "reduce greenhouse gas",
          "thermal power plants",
          "reduce carbon footprint",
          "year ended march",
          "addressing climate change",
          "gas fired power",
          "social governance esg",
          "greenhouse gas ghg",
          "gas ghg emissions",
          "scope scope emissions"
         ],
         "y": [
          20,
          7,
          7,
          5,
          5,
          5,
          5,
          5,
          5,
          5,
          5,
          4,
          4,
          4,
          4,
          4,
          4,
          4,
          4,
          4
         ]
        }
       ],
       "layout": {
        "legend": {
         "bgcolor": "#F5F6F9",
         "font": {
          "color": "#4D5663"
         }
        },
        "paper_bgcolor": "#F5F6F9",
        "plot_bgcolor": "#F5F6F9",
        "template": {
         "data": {
          "bar": [
           {
            "error_x": {
             "color": "#2a3f5f"
            },
            "error_y": {
             "color": "#2a3f5f"
            },
            "marker": {
             "line": {
              "color": "#E5ECF6",
              "width": 0.5
             },
             "pattern": {
              "fillmode": "overlay",
              "size": 10,
              "solidity": 0.2
             }
            },
            "type": "bar"
           }
          ],
          "barpolar": [
           {
            "marker": {
             "line": {
              "color": "#E5ECF6",
              "width": 0.5
             },
             "pattern": {
              "fillmode": "overlay",
              "size": 10,
              "solidity": 0.2
             }
            },
            "type": "barpolar"
           }
          ],
          "carpet": [
           {
            "aaxis": {
             "endlinecolor": "#2a3f5f",
             "gridcolor": "white",
             "linecolor": "white",
             "minorgridcolor": "white",
             "startlinecolor": "#2a3f5f"
            },
            "baxis": {
             "endlinecolor": "#2a3f5f",
             "gridcolor": "white",
             "linecolor": "white",
             "minorgridcolor": "white",
             "startlinecolor": "#2a3f5f"
            },
            "type": "carpet"
           }
          ],
          "choropleth": [
           {
            "colorbar": {
             "outlinewidth": 0,
             "ticks": ""
            },
            "type": "choropleth"
           }
          ],
          "contour": [
           {
            "colorbar": {
             "outlinewidth": 0,
             "ticks": ""
            },
            "colorscale": [
             [
              0,
              "#0d0887"
             ],
             [
              0.1111111111111111,
              "#46039f"
             ],
             [
              0.2222222222222222,
              "#7201a8"
             ],
             [
              0.3333333333333333,
              "#9c179e"
             ],
             [
              0.4444444444444444,
              "#bd3786"
             ],
             [
              0.5555555555555556,
              "#d8576b"
             ],
             [
              0.6666666666666666,
              "#ed7953"
             ],
             [
              0.7777777777777778,
              "#fb9f3a"
             ],
             [
              0.8888888888888888,
              "#fdca26"
             ],
             [
              1,
              "#f0f921"
             ]
            ],
            "type": "contour"
           }
          ],
          "contourcarpet": [
           {
            "colorbar": {
             "outlinewidth": 0,
             "ticks": ""
            },
            "type": "contourcarpet"
           }
          ],
          "heatmap": [
           {
            "colorbar": {
             "outlinewidth": 0,
             "ticks": ""
            },
            "colorscale": [
             [
              0,
              "#0d0887"
             ],
             [
              0.1111111111111111,
              "#46039f"
             ],
             [
              0.2222222222222222,
              "#7201a8"
             ],
             [
              0.3333333333333333,
              "#9c179e"
             ],
             [
              0.4444444444444444,
              "#bd3786"
             ],
             [
              0.5555555555555556,
              "#d8576b"
             ],
             [
              0.6666666666666666,
              "#ed7953"
             ],
             [
              0.7777777777777778,
              "#fb9f3a"
             ],
             [
              0.8888888888888888,
              "#fdca26"
             ],
             [
              1,
              "#f0f921"
             ]
            ],
            "type": "heatmap"
           }
          ],
          "heatmapgl": [
           {
            "colorbar": {
             "outlinewidth": 0,
             "ticks": ""
            },
            "colorscale": [
             [
              0,
              "#0d0887"
             ],
             [
              0.1111111111111111,
              "#46039f"
             ],
             [
              0.2222222222222222,
              "#7201a8"
             ],
             [
              0.3333333333333333,
              "#9c179e"
             ],
             [
              0.4444444444444444,
              "#bd3786"
             ],
             [
              0.5555555555555556,
              "#d8576b"
             ],
             [
              0.6666666666666666,
              "#ed7953"
             ],
             [
              0.7777777777777778,
              "#fb9f3a"
             ],
             [
              0.8888888888888888,
              "#fdca26"
             ],
             [
              1,
              "#f0f921"
             ]
            ],
            "type": "heatmapgl"
           }
          ],
          "histogram": [
           {
            "marker": {
             "pattern": {
              "fillmode": "overlay",
              "size": 10,
              "solidity": 0.2
             }
            },
            "type": "histogram"
           }
          ],
          "histogram2d": [
           {
            "colorbar": {
             "outlinewidth": 0,
             "ticks": ""
            },
            "colorscale": [
             [
              0,
              "#0d0887"
             ],
             [
              0.1111111111111111,
              "#46039f"
             ],
             [
              0.2222222222222222,
              "#7201a8"
             ],
             [
              0.3333333333333333,
              "#9c179e"
             ],
             [
              0.4444444444444444,
              "#bd3786"
             ],
             [
              0.5555555555555556,
              "#d8576b"
             ],
             [
              0.6666666666666666,
              "#ed7953"
             ],
             [
              0.7777777777777778,
              "#fb9f3a"
             ],
             [
              0.8888888888888888,
              "#fdca26"
             ],
             [
              1,
              "#f0f921"
             ]
            ],
            "type": "histogram2d"
           }
          ],
          "histogram2dcontour": [
           {
            "colorbar": {
             "outlinewidth": 0,
             "ticks": ""
            },
            "colorscale": [
             [
              0,
              "#0d0887"
             ],
             [
              0.1111111111111111,
              "#46039f"
             ],
             [
              0.2222222222222222,
              "#7201a8"
             ],
             [
              0.3333333333333333,
              "#9c179e"
             ],
             [
              0.4444444444444444,
              "#bd3786"
             ],
             [
              0.5555555555555556,
              "#d8576b"
             ],
             [
              0.6666666666666666,
              "#ed7953"
             ],
             [
              0.7777777777777778,
              "#fb9f3a"
             ],
             [
              0.8888888888888888,
              "#fdca26"
             ],
             [
              1,
              "#f0f921"
             ]
            ],
            "type": "histogram2dcontour"
           }
          ],
          "mesh3d": [
           {
            "colorbar": {
             "outlinewidth": 0,
             "ticks": ""
            },
            "type": "mesh3d"
           }
          ],
          "parcoords": [
           {
            "line": {
             "colorbar": {
              "outlinewidth": 0,
              "ticks": ""
             }
            },
            "type": "parcoords"
           }
          ],
          "pie": [
           {
            "automargin": true,
            "type": "pie"
           }
          ],
          "scatter": [
           {
            "fillpattern": {
             "fillmode": "overlay",
             "size": 10,
             "solidity": 0.2
            },
            "type": "scatter"
           }
          ],
          "scatter3d": [
           {
            "line": {
             "colorbar": {
              "outlinewidth": 0,
              "ticks": ""
             }
            },
            "marker": {
             "colorbar": {
              "outlinewidth": 0,
              "ticks": ""
             }
            },
            "type": "scatter3d"
           }
          ],
          "scattercarpet": [
           {
            "marker": {
             "colorbar": {
              "outlinewidth": 0,
              "ticks": ""
             }
            },
            "type": "scattercarpet"
           }
          ],
          "scattergeo": [
           {
            "marker": {
             "colorbar": {
              "outlinewidth": 0,
              "ticks": ""
             }
            },
            "type": "scattergeo"
           }
          ],
          "scattergl": [
           {
            "marker": {
             "colorbar": {
              "outlinewidth": 0,
              "ticks": ""
             }
            },
            "type": "scattergl"
           }
          ],
          "scattermapbox": [
           {
            "marker": {
             "colorbar": {
              "outlinewidth": 0,
              "ticks": ""
             }
            },
            "type": "scattermapbox"
           }
          ],
          "scatterpolar": [
           {
            "marker": {
             "colorbar": {
              "outlinewidth": 0,
              "ticks": ""
             }
            },
            "type": "scatterpolar"
           }
          ],
          "scatterpolargl": [
           {
            "marker": {
             "colorbar": {
              "outlinewidth": 0,
              "ticks": ""
             }
            },
            "type": "scatterpolargl"
           }
          ],
          "scatterternary": [
           {
            "marker": {
             "colorbar": {
              "outlinewidth": 0,
              "ticks": ""
             }
            },
            "type": "scatterternary"
           }
          ],
          "surface": [
           {
            "colorbar": {
             "outlinewidth": 0,
             "ticks": ""
            },
            "colorscale": [
             [
              0,
              "#0d0887"
             ],
             [
              0.1111111111111111,
              "#46039f"
             ],
             [
              0.2222222222222222,
              "#7201a8"
             ],
             [
              0.3333333333333333,
              "#9c179e"
             ],
             [
              0.4444444444444444,
              "#bd3786"
             ],
             [
              0.5555555555555556,
              "#d8576b"
             ],
             [
              0.6666666666666666,
              "#ed7953"
             ],
             [
              0.7777777777777778,
              "#fb9f3a"
             ],
             [
              0.8888888888888888,
              "#fdca26"
             ],
             [
              1,
              "#f0f921"
             ]
            ],
            "type": "surface"
           }
          ],
          "table": [
           {
            "cells": {
             "fill": {
              "color": "#EBF0F8"
             },
             "line": {
              "color": "white"
             }
            },
            "header": {
             "fill": {
              "color": "#C8D4E3"
             },
             "line": {
              "color": "white"
             }
            },
            "type": "table"
           }
          ]
         },
         "layout": {
          "annotationdefaults": {
           "arrowcolor": "#2a3f5f",
           "arrowhead": 0,
           "arrowwidth": 1
          },
          "autotypenumbers": "strict",
          "coloraxis": {
           "colorbar": {
            "outlinewidth": 0,
            "ticks": ""
           }
          },
          "colorscale": {
           "diverging": [
            [
             0,
             "#8e0152"
            ],
            [
             0.1,
             "#c51b7d"
            ],
            [
             0.2,
             "#de77ae"
            ],
            [
             0.3,
             "#f1b6da"
            ],
            [
             0.4,
             "#fde0ef"
            ],
            [
             0.5,
             "#f7f7f7"
            ],
            [
             0.6,
             "#e6f5d0"
            ],
            [
             0.7,
             "#b8e186"
            ],
            [
             0.8,
             "#7fbc41"
            ],
            [
             0.9,
             "#4d9221"
            ],
            [
             1,
             "#276419"
            ]
           ],
           "sequential": [
            [
             0,
             "#0d0887"
            ],
            [
             0.1111111111111111,
             "#46039f"
            ],
            [
             0.2222222222222222,
             "#7201a8"
            ],
            [
             0.3333333333333333,
             "#9c179e"
            ],
            [
             0.4444444444444444,
             "#bd3786"
            ],
            [
             0.5555555555555556,
             "#d8576b"
            ],
            [
             0.6666666666666666,
             "#ed7953"
            ],
            [
             0.7777777777777778,
             "#fb9f3a"
            ],
            [
             0.8888888888888888,
             "#fdca26"
            ],
            [
             1,
             "#f0f921"
            ]
           ],
           "sequentialminus": [
            [
             0,
             "#0d0887"
            ],
            [
             0.1111111111111111,
             "#46039f"
            ],
            [
             0.2222222222222222,
             "#7201a8"
            ],
            [
             0.3333333333333333,
             "#9c179e"
            ],
            [
             0.4444444444444444,
             "#bd3786"
            ],
            [
             0.5555555555555556,
             "#d8576b"
            ],
            [
             0.6666666666666666,
             "#ed7953"
            ],
            [
             0.7777777777777778,
             "#fb9f3a"
            ],
            [
             0.8888888888888888,
             "#fdca26"
            ],
            [
             1,
             "#f0f921"
            ]
           ]
          },
          "colorway": [
           "#636efa",
           "#EF553B",
           "#00cc96",
           "#ab63fa",
           "#FFA15A",
           "#19d3f3",
           "#FF6692",
           "#B6E880",
           "#FF97FF",
           "#FECB52"
          ],
          "font": {
           "color": "#2a3f5f"
          },
          "geo": {
           "bgcolor": "white",
           "lakecolor": "white",
           "landcolor": "#E5ECF6",
           "showlakes": true,
           "showland": true,
           "subunitcolor": "white"
          },
          "hoverlabel": {
           "align": "left"
          },
          "hovermode": "closest",
          "mapbox": {
           "style": "light"
          },
          "paper_bgcolor": "white",
          "plot_bgcolor": "#E5ECF6",
          "polar": {
           "angularaxis": {
            "gridcolor": "white",
            "linecolor": "white",
            "ticks": ""
           },
           "bgcolor": "#E5ECF6",
           "radialaxis": {
            "gridcolor": "white",
            "linecolor": "white",
            "ticks": ""
           }
          },
          "scene": {
           "xaxis": {
            "backgroundcolor": "#E5ECF6",
            "gridcolor": "white",
            "gridwidth": 2,
            "linecolor": "white",
            "showbackground": true,
            "ticks": "",
            "zerolinecolor": "white"
           },
           "yaxis": {
            "backgroundcolor": "#E5ECF6",
            "gridcolor": "white",
            "gridwidth": 2,
            "linecolor": "white",
            "showbackground": true,
            "ticks": "",
            "zerolinecolor": "white"
           },
           "zaxis": {
            "backgroundcolor": "#E5ECF6",
            "gridcolor": "white",
            "gridwidth": 2,
            "linecolor": "white",
            "showbackground": true,
            "ticks": "",
            "zerolinecolor": "white"
           }
          },
          "shapedefaults": {
           "line": {
            "color": "#2a3f5f"
           }
          },
          "ternary": {
           "aaxis": {
            "gridcolor": "white",
            "linecolor": "white",
            "ticks": ""
           },
           "baxis": {
            "gridcolor": "white",
            "linecolor": "white",
            "ticks": ""
           },
           "bgcolor": "#E5ECF6",
           "caxis": {
            "gridcolor": "white",
            "linecolor": "white",
            "ticks": ""
           }
          },
          "title": {
           "x": 0.05
          },
          "xaxis": {
           "automargin": true,
           "gridcolor": "white",
           "linecolor": "white",
           "ticks": "",
           "title": {
            "standoff": 15
           },
           "zerolinecolor": "white",
           "zerolinewidth": 2
          },
          "yaxis": {
           "automargin": true,
           "gridcolor": "white",
           "linecolor": "white",
           "ticks": "",
           "title": {
            "standoff": 15
           },
           "zerolinecolor": "white",
           "zerolinewidth": 2
          }
         }
        },
        "title": {
         "font": {
          "color": "#4D5663"
         },
         "text": "Top 20 Trigram Words"
        },
        "xaxis": {
         "gridcolor": "#E1E5ED",
         "showgrid": true,
         "tickfont": {
          "color": "#4D5663"
         },
         "title": {
          "font": {
           "color": "#4D5663"
          },
          "text": "Trigram"
         },
         "zerolinecolor": "#E1E5ED"
        },
        "yaxis": {
         "gridcolor": "#E1E5ED",
         "showgrid": true,
         "tickfont": {
          "color": "#4D5663"
         },
         "title": {
          "font": {
           "color": "#4D5663"
          },
          "text": "Frequency"
         },
         "zerolinecolor": "#E1E5ED"
        }
       }
      },
      "text/html": [
       "<div>                            <div id=\"ff01ef18-8dde-403b-90bb-144196b60a82\" class=\"plotly-graph-div\" style=\"height:525px; width:100%;\"></div>            <script type=\"text/javascript\">                require([\"plotly\"], function(Plotly) {                    window.PLOTLYENV=window.PLOTLYENV || {};\n",
       "                    window.PLOTLYENV.BASE_URL='https://plot.ly';                                    if (document.getElementById(\"ff01ef18-8dde-403b-90bb-144196b60a82\")) {                    Plotly.newPlot(                        \"ff01ef18-8dde-403b-90bb-144196b60a82\",                        [{\"marker\":{\"color\":\"rgba(255, 153, 51, 0.6)\",\"line\":{\"color\":\"rgba(255, 153, 51, 1.0)\",\"width\":1}},\"name\":\"Frequency\",\"orientation\":\"v\",\"text\":\"\",\"x\":[\"greenhouse gas emissions\",\"reduce environmental footprint\",\"environmental social governance\",\"transition low carbon\",\"low carbon economy\",\"low carbon society\",\"coal fired power\",\"science based targets\",\"net zero emissions\",\"free cash flow\",\"reduce greenhouse gas\",\"thermal power plants\",\"reduce carbon footprint\",\"year ended march\",\"addressing climate change\",\"gas fired power\",\"social governance esg\",\"greenhouse gas ghg\",\"gas ghg emissions\",\"scope scope emissions\"],\"y\":[20,7,7,5,5,5,5,5,5,5,5,4,4,4,4,4,4,4,4,4],\"type\":\"bar\"}],                        {\"legend\":{\"bgcolor\":\"#F5F6F9\",\"font\":{\"color\":\"#4D5663\"}},\"paper_bgcolor\":\"#F5F6F9\",\"plot_bgcolor\":\"#F5F6F9\",\"template\":{\"data\":{\"barpolar\":[{\"marker\":{\"line\":{\"color\":\"#E5ECF6\",\"width\":0.5},\"pattern\":{\"fillmode\":\"overlay\",\"size\":10,\"solidity\":0.2}},\"type\":\"barpolar\"}],\"bar\":[{\"error_x\":{\"color\":\"#2a3f5f\"},\"error_y\":{\"color\":\"#2a3f5f\"},\"marker\":{\"line\":{\"color\":\"#E5ECF6\",\"width\":0.5},\"pattern\":{\"fillmode\":\"overlay\",\"size\":10,\"solidity\":0.2}},\"type\":\"bar\"}],\"carpet\":[{\"aaxis\":{\"endlinecolor\":\"#2a3f5f\",\"gridcolor\":\"white\",\"linecolor\":\"white\",\"minorgridcolor\":\"white\",\"startlinecolor\":\"#2a3f5f\"},\"baxis\":{\"endlinecolor\":\"#2a3f5f\",\"gridcolor\":\"white\",\"linecolor\":\"white\",\"minorgridcolor\":\"white\",\"startlinecolor\":\"#2a3f5f\"},\"type\":\"carpet\"}],\"choropleth\":[{\"colorbar\":{\"outlinewidth\":0,\"ticks\":\"\"},\"type\":\"choropleth\"}],\"contourcarpet\":[{\"colorbar\":{\"outlinewidth\":0,\"ticks\":\"\"},\"type\":\"contourcarpet\"}],\"contour\":[{\"colorbar\":{\"outlinewidth\":0,\"ticks\":\"\"},\"colorscale\":[[0.0,\"#0d0887\"],[0.1111111111111111,\"#46039f\"],[0.2222222222222222,\"#7201a8\"],[0.3333333333333333,\"#9c179e\"],[0.4444444444444444,\"#bd3786\"],[0.5555555555555556,\"#d8576b\"],[0.6666666666666666,\"#ed7953\"],[0.7777777777777778,\"#fb9f3a\"],[0.8888888888888888,\"#fdca26\"],[1.0,\"#f0f921\"]],\"type\":\"contour\"}],\"heatmapgl\":[{\"colorbar\":{\"outlinewidth\":0,\"ticks\":\"\"},\"colorscale\":[[0.0,\"#0d0887\"],[0.1111111111111111,\"#46039f\"],[0.2222222222222222,\"#7201a8\"],[0.3333333333333333,\"#9c179e\"],[0.4444444444444444,\"#bd3786\"],[0.5555555555555556,\"#d8576b\"],[0.6666666666666666,\"#ed7953\"],[0.7777777777777778,\"#fb9f3a\"],[0.8888888888888888,\"#fdca26\"],[1.0,\"#f0f921\"]],\"type\":\"heatmapgl\"}],\"heatmap\":[{\"colorbar\":{\"outlinewidth\":0,\"ticks\":\"\"},\"colorscale\":[[0.0,\"#0d0887\"],[0.1111111111111111,\"#46039f\"],[0.2222222222222222,\"#7201a8\"],[0.3333333333333333,\"#9c179e\"],[0.4444444444444444,\"#bd3786\"],[0.5555555555555556,\"#d8576b\"],[0.6666666666666666,\"#ed7953\"],[0.7777777777777778,\"#fb9f3a\"],[0.8888888888888888,\"#fdca26\"],[1.0,\"#f0f921\"]],\"type\":\"heatmap\"}],\"histogram2dcontour\":[{\"colorbar\":{\"outlinewidth\":0,\"ticks\":\"\"},\"colorscale\":[[0.0,\"#0d0887\"],[0.1111111111111111,\"#46039f\"],[0.2222222222222222,\"#7201a8\"],[0.3333333333333333,\"#9c179e\"],[0.4444444444444444,\"#bd3786\"],[0.5555555555555556,\"#d8576b\"],[0.6666666666666666,\"#ed7953\"],[0.7777777777777778,\"#fb9f3a\"],[0.8888888888888888,\"#fdca26\"],[1.0,\"#f0f921\"]],\"type\":\"histogram2dcontour\"}],\"histogram2d\":[{\"colorbar\":{\"outlinewidth\":0,\"ticks\":\"\"},\"colorscale\":[[0.0,\"#0d0887\"],[0.1111111111111111,\"#46039f\"],[0.2222222222222222,\"#7201a8\"],[0.3333333333333333,\"#9c179e\"],[0.4444444444444444,\"#bd3786\"],[0.5555555555555556,\"#d8576b\"],[0.6666666666666666,\"#ed7953\"],[0.7777777777777778,\"#fb9f3a\"],[0.8888888888888888,\"#fdca26\"],[1.0,\"#f0f921\"]],\"type\":\"histogram2d\"}],\"histogram\":[{\"marker\":{\"pattern\":{\"fillmode\":\"overlay\",\"size\":10,\"solidity\":0.2}},\"type\":\"histogram\"}],\"mesh3d\":[{\"colorbar\":{\"outlinewidth\":0,\"ticks\":\"\"},\"type\":\"mesh3d\"}],\"parcoords\":[{\"line\":{\"colorbar\":{\"outlinewidth\":0,\"ticks\":\"\"}},\"type\":\"parcoords\"}],\"pie\":[{\"automargin\":true,\"type\":\"pie\"}],\"scatter3d\":[{\"line\":{\"colorbar\":{\"outlinewidth\":0,\"ticks\":\"\"}},\"marker\":{\"colorbar\":{\"outlinewidth\":0,\"ticks\":\"\"}},\"type\":\"scatter3d\"}],\"scattercarpet\":[{\"marker\":{\"colorbar\":{\"outlinewidth\":0,\"ticks\":\"\"}},\"type\":\"scattercarpet\"}],\"scattergeo\":[{\"marker\":{\"colorbar\":{\"outlinewidth\":0,\"ticks\":\"\"}},\"type\":\"scattergeo\"}],\"scattergl\":[{\"marker\":{\"colorbar\":{\"outlinewidth\":0,\"ticks\":\"\"}},\"type\":\"scattergl\"}],\"scattermapbox\":[{\"marker\":{\"colorbar\":{\"outlinewidth\":0,\"ticks\":\"\"}},\"type\":\"scattermapbox\"}],\"scatterpolargl\":[{\"marker\":{\"colorbar\":{\"outlinewidth\":0,\"ticks\":\"\"}},\"type\":\"scatterpolargl\"}],\"scatterpolar\":[{\"marker\":{\"colorbar\":{\"outlinewidth\":0,\"ticks\":\"\"}},\"type\":\"scatterpolar\"}],\"scatter\":[{\"fillpattern\":{\"fillmode\":\"overlay\",\"size\":10,\"solidity\":0.2},\"type\":\"scatter\"}],\"scatterternary\":[{\"marker\":{\"colorbar\":{\"outlinewidth\":0,\"ticks\":\"\"}},\"type\":\"scatterternary\"}],\"surface\":[{\"colorbar\":{\"outlinewidth\":0,\"ticks\":\"\"},\"colorscale\":[[0.0,\"#0d0887\"],[0.1111111111111111,\"#46039f\"],[0.2222222222222222,\"#7201a8\"],[0.3333333333333333,\"#9c179e\"],[0.4444444444444444,\"#bd3786\"],[0.5555555555555556,\"#d8576b\"],[0.6666666666666666,\"#ed7953\"],[0.7777777777777778,\"#fb9f3a\"],[0.8888888888888888,\"#fdca26\"],[1.0,\"#f0f921\"]],\"type\":\"surface\"}],\"table\":[{\"cells\":{\"fill\":{\"color\":\"#EBF0F8\"},\"line\":{\"color\":\"white\"}},\"header\":{\"fill\":{\"color\":\"#C8D4E3\"},\"line\":{\"color\":\"white\"}},\"type\":\"table\"}]},\"layout\":{\"annotationdefaults\":{\"arrowcolor\":\"#2a3f5f\",\"arrowhead\":0,\"arrowwidth\":1},\"autotypenumbers\":\"strict\",\"coloraxis\":{\"colorbar\":{\"outlinewidth\":0,\"ticks\":\"\"}},\"colorscale\":{\"diverging\":[[0,\"#8e0152\"],[0.1,\"#c51b7d\"],[0.2,\"#de77ae\"],[0.3,\"#f1b6da\"],[0.4,\"#fde0ef\"],[0.5,\"#f7f7f7\"],[0.6,\"#e6f5d0\"],[0.7,\"#b8e186\"],[0.8,\"#7fbc41\"],[0.9,\"#4d9221\"],[1,\"#276419\"]],\"sequential\":[[0.0,\"#0d0887\"],[0.1111111111111111,\"#46039f\"],[0.2222222222222222,\"#7201a8\"],[0.3333333333333333,\"#9c179e\"],[0.4444444444444444,\"#bd3786\"],[0.5555555555555556,\"#d8576b\"],[0.6666666666666666,\"#ed7953\"],[0.7777777777777778,\"#fb9f3a\"],[0.8888888888888888,\"#fdca26\"],[1.0,\"#f0f921\"]],\"sequentialminus\":[[0.0,\"#0d0887\"],[0.1111111111111111,\"#46039f\"],[0.2222222222222222,\"#7201a8\"],[0.3333333333333333,\"#9c179e\"],[0.4444444444444444,\"#bd3786\"],[0.5555555555555556,\"#d8576b\"],[0.6666666666666666,\"#ed7953\"],[0.7777777777777778,\"#fb9f3a\"],[0.8888888888888888,\"#fdca26\"],[1.0,\"#f0f921\"]]},\"colorway\":[\"#636efa\",\"#EF553B\",\"#00cc96\",\"#ab63fa\",\"#FFA15A\",\"#19d3f3\",\"#FF6692\",\"#B6E880\",\"#FF97FF\",\"#FECB52\"],\"font\":{\"color\":\"#2a3f5f\"},\"geo\":{\"bgcolor\":\"white\",\"lakecolor\":\"white\",\"landcolor\":\"#E5ECF6\",\"showlakes\":true,\"showland\":true,\"subunitcolor\":\"white\"},\"hoverlabel\":{\"align\":\"left\"},\"hovermode\":\"closest\",\"mapbox\":{\"style\":\"light\"},\"paper_bgcolor\":\"white\",\"plot_bgcolor\":\"#E5ECF6\",\"polar\":{\"angularaxis\":{\"gridcolor\":\"white\",\"linecolor\":\"white\",\"ticks\":\"\"},\"bgcolor\":\"#E5ECF6\",\"radialaxis\":{\"gridcolor\":\"white\",\"linecolor\":\"white\",\"ticks\":\"\"}},\"scene\":{\"xaxis\":{\"backgroundcolor\":\"#E5ECF6\",\"gridcolor\":\"white\",\"gridwidth\":2,\"linecolor\":\"white\",\"showbackground\":true,\"ticks\":\"\",\"zerolinecolor\":\"white\"},\"yaxis\":{\"backgroundcolor\":\"#E5ECF6\",\"gridcolor\":\"white\",\"gridwidth\":2,\"linecolor\":\"white\",\"showbackground\":true,\"ticks\":\"\",\"zerolinecolor\":\"white\"},\"zaxis\":{\"backgroundcolor\":\"#E5ECF6\",\"gridcolor\":\"white\",\"gridwidth\":2,\"linecolor\":\"white\",\"showbackground\":true,\"ticks\":\"\",\"zerolinecolor\":\"white\"}},\"shapedefaults\":{\"line\":{\"color\":\"#2a3f5f\"}},\"ternary\":{\"aaxis\":{\"gridcolor\":\"white\",\"linecolor\":\"white\",\"ticks\":\"\"},\"baxis\":{\"gridcolor\":\"white\",\"linecolor\":\"white\",\"ticks\":\"\"},\"bgcolor\":\"#E5ECF6\",\"caxis\":{\"gridcolor\":\"white\",\"linecolor\":\"white\",\"ticks\":\"\"}},\"title\":{\"x\":0.05},\"xaxis\":{\"automargin\":true,\"gridcolor\":\"white\",\"linecolor\":\"white\",\"ticks\":\"\",\"title\":{\"standoff\":15},\"zerolinecolor\":\"white\",\"zerolinewidth\":2},\"yaxis\":{\"automargin\":true,\"gridcolor\":\"white\",\"linecolor\":\"white\",\"ticks\":\"\",\"title\":{\"standoff\":15},\"zerolinecolor\":\"white\",\"zerolinewidth\":2}}},\"title\":{\"font\":{\"color\":\"#4D5663\"},\"text\":\"Top 20 Trigram Words\"},\"xaxis\":{\"gridcolor\":\"#E1E5ED\",\"showgrid\":true,\"tickfont\":{\"color\":\"#4D5663\"},\"title\":{\"font\":{\"color\":\"#4D5663\"},\"text\":\"Trigram\"},\"zerolinecolor\":\"#E1E5ED\"},\"yaxis\":{\"gridcolor\":\"#E1E5ED\",\"showgrid\":true,\"tickfont\":{\"color\":\"#4D5663\"},\"title\":{\"font\":{\"color\":\"#4D5663\"},\"text\":\"Frequency\"},\"zerolinecolor\":\"#E1E5ED\"}},                        {\"showLink\": true, \"linkText\": \"Export to plot.ly\", \"plotlyServerURL\": \"https://plot.ly\", \"responsive\": true}                    ).then(function(){\n",
       "                            \n",
       "var gd = document.getElementById('ff01ef18-8dde-403b-90bb-144196b60a82');\n",
       "var x = new MutationObserver(function (mutations, observer) {{\n",
       "        var display = window.getComputedStyle(gd).display;\n",
       "        if (!display || display === 'none') {{\n",
       "            console.log([gd, 'removed!']);\n",
       "            Plotly.purge(gd);\n",
       "            observer.disconnect();\n",
       "        }}\n",
       "}});\n",
       "\n",
       "// Listen for the removal of the full notebook cells\n",
       "var notebookContainer = gd.closest('#notebook-container');\n",
       "if (notebookContainer) {{\n",
       "    x.observe(notebookContainer, {childList: true});\n",
       "}}\n",
       "\n",
       "// Listen for the clearing of the current output cell\n",
       "var outputEl = gd.closest('.output');\n",
       "if (outputEl) {{\n",
       "    x.observe(outputEl, {childList: true});\n",
       "}}\n",
       "\n",
       "                        })                };                });            </script>        </div>"
      ]
     },
     "metadata": {},
     "output_type": "display_data"
    }
   ],
   "source": [
    "words = get_top_n_words(df['text'], 20)\n",
    "dfTri = pd.DataFrame(words, columns = ['Trigram','Frequency'])\n",
    "dfTri = dfTri.set_index('Trigram')\n",
    "dfTri.iplot(kind = 'bar', xTitle='Trigram', yTitle='Frequency', title = 'Top 20 Trigram Words')"
   ]
  },
  {
   "cell_type": "markdown",
   "metadata": {},
   "source": []
  }
 ],
 "metadata": {
  "kernelspec": {
   "display_name": "thesiswork",
   "language": "python",
   "name": "python3"
  },
  "language_info": {
   "codemirror_mode": {
    "name": "ipython",
    "version": 3
   },
   "file_extension": ".py",
   "mimetype": "text/x-python",
   "name": "python",
   "nbconvert_exporter": "python",
   "pygments_lexer": "ipython3",
   "version": "3.10.13"
  },
  "orig_nbformat": 4
 },
 "nbformat": 4,
 "nbformat_minor": 2
}
