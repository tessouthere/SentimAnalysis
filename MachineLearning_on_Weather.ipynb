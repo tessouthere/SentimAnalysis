{
 "cells": [
  {
   "cell_type": "markdown",
   "id": "80fb4e91",
   "metadata": {},
   "source": [
    "### Sentiment Analysis on Weather Dataset <br> Machine Learning Models <br> Logistic Regression, Decision Tree, Random Forest, Support Vector Machine, Naive Bayes"
   ]
  },
  {
   "cell_type": "markdown",
   "id": "6b1760da",
   "metadata": {},
   "source": [
    "#### Importing Necessary Packages and Loading Dataset"
   ]
  },
  {
   "cell_type": "code",
   "execution_count": 65,
   "id": "acad4962",
   "metadata": {},
   "outputs": [],
   "source": [
    "import pandas as pd    \n",
    "import numpy as np\n",
    "df = pd.read_csv('weather-agg-DFE.csv')"
   ]
  },
  {
   "cell_type": "code",
   "execution_count": 66,
   "id": "41c6b93e",
   "metadata": {},
   "outputs": [
    {
     "data": {
      "text/html": [
       "<div>\n",
       "<style scoped>\n",
       "    .dataframe tbody tr th:only-of-type {\n",
       "        vertical-align: middle;\n",
       "    }\n",
       "\n",
       "    .dataframe tbody tr th {\n",
       "        vertical-align: top;\n",
       "    }\n",
       "\n",
       "    .dataframe thead th {\n",
       "        text-align: right;\n",
       "    }\n",
       "</style>\n",
       "<table border=\"1\" class=\"dataframe\">\n",
       "  <thead>\n",
       "    <tr style=\"text-align: right;\">\n",
       "      <th></th>\n",
       "      <th>_unit_id</th>\n",
       "      <th>_canary</th>\n",
       "      <th>_unit_state</th>\n",
       "      <th>_trusted_judgments</th>\n",
       "      <th>_last_judgment_at</th>\n",
       "      <th>what_emotion_does_the_author_express_specifically_about_the_weather</th>\n",
       "      <th>what_emotion_does_the_author_express_specifically_about_the_weather:confidence</th>\n",
       "      <th>gold_answer</th>\n",
       "      <th>tweet_id</th>\n",
       "      <th>tweet_text</th>\n",
       "    </tr>\n",
       "  </thead>\n",
       "  <tbody>\n",
       "    <tr>\n",
       "      <th>0</th>\n",
       "      <td>314960380</td>\n",
       "      <td>NaN</td>\n",
       "      <td>finalized</td>\n",
       "      <td>20</td>\n",
       "      <td>8/24/13 0:21</td>\n",
       "      <td>Positive</td>\n",
       "      <td>0.8439</td>\n",
       "      <td>NaN</td>\n",
       "      <td>81990560</td>\n",
       "      <td>Grilling kabobs on the grill last night was am...</td>\n",
       "    </tr>\n",
       "    <tr>\n",
       "      <th>1</th>\n",
       "      <td>314960381</td>\n",
       "      <td>NaN</td>\n",
       "      <td>finalized</td>\n",
       "      <td>20</td>\n",
       "      <td>8/24/13 0:49</td>\n",
       "      <td>Negative</td>\n",
       "      <td>0.6963</td>\n",
       "      <td>NaN</td>\n",
       "      <td>84314377</td>\n",
       "      <td>The slowest day ever !! And the weather makes ...</td>\n",
       "    </tr>\n",
       "    <tr>\n",
       "      <th>2</th>\n",
       "      <td>314960382</td>\n",
       "      <td>NaN</td>\n",
       "      <td>finalized</td>\n",
       "      <td>20</td>\n",
       "      <td>8/24/13 0:55</td>\n",
       "      <td>Neutral / author is just sharing information</td>\n",
       "      <td>0.8802</td>\n",
       "      <td>NaN</td>\n",
       "      <td>82846118</td>\n",
       "      <td>Fire Weather Watch issued May 17 at 4:21PM CDT...</td>\n",
       "    </tr>\n",
       "    <tr>\n",
       "      <th>3</th>\n",
       "      <td>314960383</td>\n",
       "      <td>NaN</td>\n",
       "      <td>finalized</td>\n",
       "      <td>20</td>\n",
       "      <td>8/24/13 0:48</td>\n",
       "      <td>Positive</td>\n",
       "      <td>0.6897</td>\n",
       "      <td>NaN</td>\n",
       "      <td>82843785</td>\n",
       "      <td>Im going to lunch early today.   The weather i...</td>\n",
       "    </tr>\n",
       "    <tr>\n",
       "      <th>4</th>\n",
       "      <td>314960384</td>\n",
       "      <td>NaN</td>\n",
       "      <td>finalized</td>\n",
       "      <td>20</td>\n",
       "      <td>8/24/13 1:19</td>\n",
       "      <td>Neutral / author is just sharing information</td>\n",
       "      <td>0.6153</td>\n",
       "      <td>NaN</td>\n",
       "      <td>82840144</td>\n",
       "      <td>Weekend Weather Causes Delays In I-270 Bridge ...</td>\n",
       "    </tr>\n",
       "  </tbody>\n",
       "</table>\n",
       "</div>"
      ],
      "text/plain": [
       "    _unit_id  _canary _unit_state  _trusted_judgments _last_judgment_at  \\\n",
       "0  314960380      NaN   finalized                  20      8/24/13 0:21   \n",
       "1  314960381      NaN   finalized                  20      8/24/13 0:49   \n",
       "2  314960382      NaN   finalized                  20      8/24/13 0:55   \n",
       "3  314960383      NaN   finalized                  20      8/24/13 0:48   \n",
       "4  314960384      NaN   finalized                  20      8/24/13 1:19   \n",
       "\n",
       "  what_emotion_does_the_author_express_specifically_about_the_weather  \\\n",
       "0                                           Positive                    \n",
       "1                                           Negative                    \n",
       "2       Neutral / author is just sharing information                    \n",
       "3                                           Positive                    \n",
       "4       Neutral / author is just sharing information                    \n",
       "\n",
       "   what_emotion_does_the_author_express_specifically_about_the_weather:confidence  \\\n",
       "0                                             0.8439                                \n",
       "1                                             0.6963                                \n",
       "2                                             0.8802                                \n",
       "3                                             0.6897                                \n",
       "4                                             0.6153                                \n",
       "\n",
       "   gold_answer  tweet_id                                         tweet_text  \n",
       "0          NaN  81990560  Grilling kabobs on the grill last night was am...  \n",
       "1          NaN  84314377  The slowest day ever !! And the weather makes ...  \n",
       "2          NaN  82846118  Fire Weather Watch issued May 17 at 4:21PM CDT...  \n",
       "3          NaN  82843785  Im going to lunch early today.   The weather i...  \n",
       "4          NaN  82840144  Weekend Weather Causes Delays In I-270 Bridge ...  "
      ]
     },
     "execution_count": 66,
     "metadata": {},
     "output_type": "execute_result"
    }
   ],
   "source": [
    "df.head()"
   ]
  },
  {
   "cell_type": "markdown",
   "id": "44cfb2c5",
   "metadata": {},
   "source": [
    "#### Formatting Dataset for Sentiment Analysis"
   ]
  },
  {
   "cell_type": "code",
   "execution_count": 67,
   "id": "4197eada",
   "metadata": {},
   "outputs": [
    {
     "data": {
      "text/html": [
       "<div>\n",
       "<style scoped>\n",
       "    .dataframe tbody tr th:only-of-type {\n",
       "        vertical-align: middle;\n",
       "    }\n",
       "\n",
       "    .dataframe tbody tr th {\n",
       "        vertical-align: top;\n",
       "    }\n",
       "\n",
       "    .dataframe thead th {\n",
       "        text-align: right;\n",
       "    }\n",
       "</style>\n",
       "<table border=\"1\" class=\"dataframe\">\n",
       "  <thead>\n",
       "    <tr style=\"text-align: right;\">\n",
       "      <th></th>\n",
       "      <th>_unit_id</th>\n",
       "      <th>_canary</th>\n",
       "      <th>_unit_state</th>\n",
       "      <th>_trusted_judgments</th>\n",
       "      <th>_last_judgment_at</th>\n",
       "      <th>what_emotion_does_the_author_express_specifically_about_the_weather</th>\n",
       "      <th>what_emotion_does_the_author_express_specifically_about_the_weather:confidence</th>\n",
       "      <th>gold_answer</th>\n",
       "      <th>tweet_id</th>\n",
       "      <th>tweet_text</th>\n",
       "      <th>text</th>\n",
       "    </tr>\n",
       "  </thead>\n",
       "  <tbody>\n",
       "    <tr>\n",
       "      <th>0</th>\n",
       "      <td>314960380</td>\n",
       "      <td>NaN</td>\n",
       "      <td>finalized</td>\n",
       "      <td>20</td>\n",
       "      <td>8/24/13 0:21</td>\n",
       "      <td>Positive</td>\n",
       "      <td>0.8439</td>\n",
       "      <td>NaN</td>\n",
       "      <td>81990560</td>\n",
       "      <td>Grilling kabobs on the grill last night was am...</td>\n",
       "      <td>Grilling kabobs on the grill last night was am...</td>\n",
       "    </tr>\n",
       "    <tr>\n",
       "      <th>1</th>\n",
       "      <td>314960381</td>\n",
       "      <td>NaN</td>\n",
       "      <td>finalized</td>\n",
       "      <td>20</td>\n",
       "      <td>8/24/13 0:49</td>\n",
       "      <td>Negative</td>\n",
       "      <td>0.6963</td>\n",
       "      <td>NaN</td>\n",
       "      <td>84314377</td>\n",
       "      <td>The slowest day ever !! And the weather makes ...</td>\n",
       "      <td>The slowest day ever !! And the weather makes ...</td>\n",
       "    </tr>\n",
       "    <tr>\n",
       "      <th>2</th>\n",
       "      <td>314960382</td>\n",
       "      <td>NaN</td>\n",
       "      <td>finalized</td>\n",
       "      <td>20</td>\n",
       "      <td>8/24/13 0:55</td>\n",
       "      <td>Neutral / author is just sharing information</td>\n",
       "      <td>0.8802</td>\n",
       "      <td>NaN</td>\n",
       "      <td>82846118</td>\n",
       "      <td>Fire Weather Watch issued May 17 at 4:21PM CDT...</td>\n",
       "      <td>Fire Weather Watch issued May 17 at 4:21PM CDT...</td>\n",
       "    </tr>\n",
       "    <tr>\n",
       "      <th>3</th>\n",
       "      <td>314960383</td>\n",
       "      <td>NaN</td>\n",
       "      <td>finalized</td>\n",
       "      <td>20</td>\n",
       "      <td>8/24/13 0:48</td>\n",
       "      <td>Positive</td>\n",
       "      <td>0.6897</td>\n",
       "      <td>NaN</td>\n",
       "      <td>82843785</td>\n",
       "      <td>Im going to lunch early today.   The weather i...</td>\n",
       "      <td>Im going to lunch early today.   The weather i...</td>\n",
       "    </tr>\n",
       "    <tr>\n",
       "      <th>4</th>\n",
       "      <td>314960384</td>\n",
       "      <td>NaN</td>\n",
       "      <td>finalized</td>\n",
       "      <td>20</td>\n",
       "      <td>8/24/13 1:19</td>\n",
       "      <td>Neutral / author is just sharing information</td>\n",
       "      <td>0.6153</td>\n",
       "      <td>NaN</td>\n",
       "      <td>82840144</td>\n",
       "      <td>Weekend Weather Causes Delays In I-270 Bridge ...</td>\n",
       "      <td>Weekend Weather Causes Delays In I-270 Bridge ...</td>\n",
       "    </tr>\n",
       "  </tbody>\n",
       "</table>\n",
       "</div>"
      ],
      "text/plain": [
       "    _unit_id  _canary _unit_state  _trusted_judgments _last_judgment_at  \\\n",
       "0  314960380      NaN   finalized                  20      8/24/13 0:21   \n",
       "1  314960381      NaN   finalized                  20      8/24/13 0:49   \n",
       "2  314960382      NaN   finalized                  20      8/24/13 0:55   \n",
       "3  314960383      NaN   finalized                  20      8/24/13 0:48   \n",
       "4  314960384      NaN   finalized                  20      8/24/13 1:19   \n",
       "\n",
       "  what_emotion_does_the_author_express_specifically_about_the_weather  \\\n",
       "0                                           Positive                    \n",
       "1                                           Negative                    \n",
       "2       Neutral / author is just sharing information                    \n",
       "3                                           Positive                    \n",
       "4       Neutral / author is just sharing information                    \n",
       "\n",
       "   what_emotion_does_the_author_express_specifically_about_the_weather:confidence  \\\n",
       "0                                             0.8439                                \n",
       "1                                             0.6963                                \n",
       "2                                             0.8802                                \n",
       "3                                             0.6897                                \n",
       "4                                             0.6153                                \n",
       "\n",
       "   gold_answer  tweet_id                                         tweet_text  \\\n",
       "0          NaN  81990560  Grilling kabobs on the grill last night was am...   \n",
       "1          NaN  84314377  The slowest day ever !! And the weather makes ...   \n",
       "2          NaN  82846118  Fire Weather Watch issued May 17 at 4:21PM CDT...   \n",
       "3          NaN  82843785  Im going to lunch early today.   The weather i...   \n",
       "4          NaN  82840144  Weekend Weather Causes Delays In I-270 Bridge ...   \n",
       "\n",
       "                                                text  \n",
       "0  Grilling kabobs on the grill last night was am...  \n",
       "1  The slowest day ever !! And the weather makes ...  \n",
       "2  Fire Weather Watch issued May 17 at 4:21PM CDT...  \n",
       "3  Im going to lunch early today.   The weather i...  \n",
       "4  Weekend Weather Causes Delays In I-270 Bridge ...  "
      ]
     },
     "execution_count": 67,
     "metadata": {},
     "output_type": "execute_result"
    }
   ],
   "source": [
    "df['text'] = df['tweet_text']\n",
    "df.head()"
   ]
  },
  {
   "cell_type": "code",
   "execution_count": 68,
   "id": "a43449cf",
   "metadata": {},
   "outputs": [
    {
     "name": "stdout",
     "output_type": "stream",
     "text": [
      "<class 'pandas.core.frame.DataFrame'>\n",
      "RangeIndex: 1000 entries, 0 to 999\n",
      "Data columns (total 11 columns):\n",
      " #   Column                                                                          Non-Null Count  Dtype  \n",
      "---  ------                                                                          --------------  -----  \n",
      " 0   _unit_id                                                                        1000 non-null   int64  \n",
      " 1   _canary                                                                         0 non-null      float64\n",
      " 2   _unit_state                                                                     1000 non-null   object \n",
      " 3   _trusted_judgments                                                              1000 non-null   int64  \n",
      " 4   _last_judgment_at                                                               1000 non-null   object \n",
      " 5   what_emotion_does_the_author_express_specifically_about_the_weather             1000 non-null   object \n",
      " 6   what_emotion_does_the_author_express_specifically_about_the_weather:confidence  1000 non-null   float64\n",
      " 7   gold_answer                                                                     0 non-null      float64\n",
      " 8   tweet_id                                                                        1000 non-null   int64  \n",
      " 9   tweet_text                                                                      1000 non-null   object \n",
      " 10  text                                                                            1000 non-null   object \n",
      "dtypes: float64(3), int64(3), object(5)\n",
      "memory usage: 86.1+ KB\n"
     ]
    }
   ],
   "source": [
    "df.info()"
   ]
  },
  {
   "cell_type": "code",
   "execution_count": 69,
   "id": "18cc3865",
   "metadata": {},
   "outputs": [
    {
     "name": "stdout",
     "output_type": "stream",
     "text": [
      "<class 'pandas.core.frame.DataFrame'>\n",
      "RangeIndex: 1000 entries, 0 to 999\n",
      "Data columns (total 4 columns):\n",
      " #   Column                                                                          Non-Null Count  Dtype  \n",
      "---  ------                                                                          --------------  -----  \n",
      " 0   what_emotion_does_the_author_express_specifically_about_the_weather             1000 non-null   object \n",
      " 1   what_emotion_does_the_author_express_specifically_about_the_weather:confidence  1000 non-null   float64\n",
      " 2   tweet_id                                                                        1000 non-null   int64  \n",
      " 3   text                                                                            1000 non-null   object \n",
      "dtypes: float64(1), int64(1), object(2)\n",
      "memory usage: 31.4+ KB\n"
     ]
    }
   ],
   "source": [
    "df=df.drop(columns=['_canary', 'gold_answer', 'tweet_text','_unit_id','_unit_state','_trusted_judgments','_last_judgment_at'])\n",
    "df.info()"
   ]
  },
  {
   "cell_type": "code",
   "execution_count": 70,
   "id": "d4728f35",
   "metadata": {},
   "outputs": [
    {
     "name": "stdout",
     "output_type": "stream",
     "text": [
      "<class 'pandas.core.frame.DataFrame'>\n",
      "RangeIndex: 1000 entries, 0 to 999\n",
      "Data columns (total 4 columns):\n",
      " #   Column                                                                          Non-Null Count  Dtype  \n",
      "---  ------                                                                          --------------  -----  \n",
      " 0   what_emotion_does_the_author_express_specifically_about_the_weather             1000 non-null   object \n",
      " 1   what_emotion_does_the_author_express_specifically_about_the_weather:confidence  1000 non-null   float64\n",
      " 2   tweet_id                                                                        1000 non-null   int64  \n",
      " 3   text                                                                            1000 non-null   string \n",
      "dtypes: float64(1), int64(1), object(1), string(1)\n",
      "memory usage: 31.4+ KB\n"
     ]
    }
   ],
   "source": [
    "# convert text column to string for easier processing\n",
    "df['text'] = df['text'].astype(\"string\")\n",
    "df.info()"
   ]
  },
  {
   "cell_type": "code",
   "execution_count": 71,
   "id": "37de8fcb",
   "metadata": {},
   "outputs": [
    {
     "data": {
      "text/plain": [
       "what_emotion_does_the_author_express_specifically_about_the_weather\n",
       "Negative                                        271\n",
       "Neutral / author is just sharing information    261\n",
       "Tweet not related to weather condition          235\n",
       "Positive                                        231\n",
       "I can't tell                                      2\n",
       "Name: count, dtype: int64"
      ]
     },
     "execution_count": 71,
     "metadata": {},
     "output_type": "execute_result"
    }
   ],
   "source": [
    "df['what_emotion_does_the_author_express_specifically_about_the_weather'].value_counts()"
   ]
  },
  {
   "cell_type": "code",
   "execution_count": 72,
   "id": "db2142e1",
   "metadata": {},
   "outputs": [
    {
     "data": {
      "text/plain": [
       "what_emotion_does_the_author_express_specifically_about_the_weather\n",
       "Negative                                        271\n",
       "Neutral / author is just sharing information    261\n",
       "Positive                                        231\n",
       "Name: count, dtype: int64"
      ]
     },
     "execution_count": 72,
     "metadata": {},
     "output_type": "execute_result"
    }
   ],
   "source": [
    "df = df[df.what_emotion_does_the_author_express_specifically_about_the_weather != 'Tweet not related to weather condition']\n",
    "df = df[df.what_emotion_does_the_author_express_specifically_about_the_weather != \"I can't tell\"]\n",
    "df['what_emotion_does_the_author_express_specifically_about_the_weather'].value_counts()"
   ]
  },
  {
   "cell_type": "code",
   "execution_count": 73,
   "id": "85d9917a",
   "metadata": {},
   "outputs": [],
   "source": [
    "df = df.replace(\"Negative\", -1)\n",
    "df = df.replace(\"Neutral / author is just sharing information\", 0)\n",
    "df = df.replace(\"Positive\", 1)\n",
    "df.rename(columns={'what_emotion_does_the_author_express_specifically_about_the_weather': \"label\"}, inplace=True)\n",
    "df.rename(columns={'what_emotion_does_the_author_express_specifically_about_the_weather:confidence':\"label_Confidence\"}, inplace=True)"
   ]
  },
  {
   "cell_type": "code",
   "execution_count": 74,
   "id": "c916bfe5",
   "metadata": {},
   "outputs": [
    {
     "data": {
      "text/html": [
       "<div>\n",
       "<style scoped>\n",
       "    .dataframe tbody tr th:only-of-type {\n",
       "        vertical-align: middle;\n",
       "    }\n",
       "\n",
       "    .dataframe tbody tr th {\n",
       "        vertical-align: top;\n",
       "    }\n",
       "\n",
       "    .dataframe thead th {\n",
       "        text-align: right;\n",
       "    }\n",
       "</style>\n",
       "<table border=\"1\" class=\"dataframe\">\n",
       "  <thead>\n",
       "    <tr style=\"text-align: right;\">\n",
       "      <th></th>\n",
       "      <th>label</th>\n",
       "      <th>label_Confidence</th>\n",
       "      <th>tweet_id</th>\n",
       "      <th>text</th>\n",
       "    </tr>\n",
       "  </thead>\n",
       "  <tbody>\n",
       "    <tr>\n",
       "      <th>0</th>\n",
       "      <td>1</td>\n",
       "      <td>0.8439</td>\n",
       "      <td>81990560</td>\n",
       "      <td>Grilling kabobs on the grill last night was am...</td>\n",
       "    </tr>\n",
       "    <tr>\n",
       "      <th>1</th>\n",
       "      <td>-1</td>\n",
       "      <td>0.6963</td>\n",
       "      <td>84314377</td>\n",
       "      <td>The slowest day ever !! And the weather makes ...</td>\n",
       "    </tr>\n",
       "    <tr>\n",
       "      <th>2</th>\n",
       "      <td>0</td>\n",
       "      <td>0.8802</td>\n",
       "      <td>82846118</td>\n",
       "      <td>Fire Weather Watch issued May 17 at 4:21PM CDT...</td>\n",
       "    </tr>\n",
       "    <tr>\n",
       "      <th>3</th>\n",
       "      <td>1</td>\n",
       "      <td>0.6897</td>\n",
       "      <td>82843785</td>\n",
       "      <td>Im going to lunch early today.   The weather i...</td>\n",
       "    </tr>\n",
       "    <tr>\n",
       "      <th>4</th>\n",
       "      <td>0</td>\n",
       "      <td>0.6153</td>\n",
       "      <td>82840144</td>\n",
       "      <td>Weekend Weather Causes Delays In I-270 Bridge ...</td>\n",
       "    </tr>\n",
       "  </tbody>\n",
       "</table>\n",
       "</div>"
      ],
      "text/plain": [
       "   label  label_Confidence  tweet_id  \\\n",
       "0      1            0.8439  81990560   \n",
       "1     -1            0.6963  84314377   \n",
       "2      0            0.8802  82846118   \n",
       "3      1            0.6897  82843785   \n",
       "4      0            0.6153  82840144   \n",
       "\n",
       "                                                text  \n",
       "0  Grilling kabobs on the grill last night was am...  \n",
       "1  The slowest day ever !! And the weather makes ...  \n",
       "2  Fire Weather Watch issued May 17 at 4:21PM CDT...  \n",
       "3  Im going to lunch early today.   The weather i...  \n",
       "4  Weekend Weather Causes Delays In I-270 Bridge ...  "
      ]
     },
     "execution_count": 74,
     "metadata": {},
     "output_type": "execute_result"
    }
   ],
   "source": [
    "df.head()"
   ]
  },
  {
   "cell_type": "markdown",
   "id": "87123345",
   "metadata": {},
   "source": [
    "#### Logistic Regression"
   ]
  },
  {
   "cell_type": "code",
   "execution_count": 75,
   "id": "5fd8c82a",
   "metadata": {},
   "outputs": [],
   "source": [
    "x=df.text.values"
   ]
  },
  {
   "cell_type": "code",
   "execution_count": 76,
   "id": "fcfa4ec5",
   "metadata": {},
   "outputs": [],
   "source": [
    "y=df.label.values"
   ]
  },
  {
   "cell_type": "code",
   "execution_count": 77,
   "id": "28d4744d",
   "metadata": {},
   "outputs": [],
   "source": [
    "from sklearn.model_selection import train_test_split\n",
    "x_train, x_test, y_train, y_test=train_test_split(x,y,test_size=.2, random_state=42)"
   ]
  },
  {
   "cell_type": "markdown",
   "id": "2a63cdbf",
   "metadata": {},
   "source": [
    "#### Vectorizing"
   ]
  },
  {
   "cell_type": "code",
   "execution_count": 78,
   "id": "f62c8ad5",
   "metadata": {},
   "outputs": [],
   "source": [
    "from sklearn.feature_extraction.text import CountVectorizer\n",
    "vec=CountVectorizer()\n",
    "vec.fit(x_train)\n",
    "X_train=vec.transform(x_train)\n",
    "X_test=vec.transform(x_test)"
   ]
  },
  {
   "cell_type": "code",
   "execution_count": 79,
   "id": "b176e8c5",
   "metadata": {},
   "outputs": [
    {
     "name": "stdout",
     "output_type": "stream",
     "text": [
      "Before vectorizing Sunny weather for driving back to San Diego, spending the long Memorial Day weekend w/hubby in 10 days. What makes you smile today? :). After vectorizing   (0, 12)\t1\n",
      "  (0, 292)\t1\n",
      "  (0, 611)\t1\n",
      "  (0, 612)\t1\n",
      "  (0, 648)\t1\n",
      "  (0, 688)\t1\n",
      "  (0, 834)\t1\n",
      "  (0, 1017)\t1\n",
      "  (0, 1045)\t1\n",
      "  (0, 1196)\t1\n",
      "  (0, 1220)\t1\n",
      "  (0, 1253)\t1\n",
      "  (0, 1668)\t1\n",
      "  (0, 1772)\t1\n",
      "  (0, 1804)\t1\n",
      "  (0, 1867)\t1\n",
      "  (0, 1926)\t1\n",
      "  (0, 1968)\t1\n",
      "  (0, 1969)\t1\n",
      "  (0, 2111)\t1\n",
      "  (0, 2121)\t1\n",
      "  (0, 2133)\t1\n",
      "  (0, 2226)\t1\n"
     ]
    }
   ],
   "source": [
    "print(f\"Before vectorizing {x_train[0]}. After vectorizing {X_train[0]}\")"
   ]
  },
  {
   "cell_type": "code",
   "execution_count": 80,
   "id": "dc4ac6bf",
   "metadata": {},
   "outputs": [
    {
     "data": {
      "text/html": [
       "<style>#sk-container-id-3 {color: black;}#sk-container-id-3 pre{padding: 0;}#sk-container-id-3 div.sk-toggleable {background-color: white;}#sk-container-id-3 label.sk-toggleable__label {cursor: pointer;display: block;width: 100%;margin-bottom: 0;padding: 0.3em;box-sizing: border-box;text-align: center;}#sk-container-id-3 label.sk-toggleable__label-arrow:before {content: \"▸\";float: left;margin-right: 0.25em;color: #696969;}#sk-container-id-3 label.sk-toggleable__label-arrow:hover:before {color: black;}#sk-container-id-3 div.sk-estimator:hover label.sk-toggleable__label-arrow:before {color: black;}#sk-container-id-3 div.sk-toggleable__content {max-height: 0;max-width: 0;overflow: hidden;text-align: left;background-color: #f0f8ff;}#sk-container-id-3 div.sk-toggleable__content pre {margin: 0.2em;color: black;border-radius: 0.25em;background-color: #f0f8ff;}#sk-container-id-3 input.sk-toggleable__control:checked~div.sk-toggleable__content {max-height: 200px;max-width: 100%;overflow: auto;}#sk-container-id-3 input.sk-toggleable__control:checked~label.sk-toggleable__label-arrow:before {content: \"▾\";}#sk-container-id-3 div.sk-estimator input.sk-toggleable__control:checked~label.sk-toggleable__label {background-color: #d4ebff;}#sk-container-id-3 div.sk-label input.sk-toggleable__control:checked~label.sk-toggleable__label {background-color: #d4ebff;}#sk-container-id-3 input.sk-hidden--visually {border: 0;clip: rect(1px 1px 1px 1px);clip: rect(1px, 1px, 1px, 1px);height: 1px;margin: -1px;overflow: hidden;padding: 0;position: absolute;width: 1px;}#sk-container-id-3 div.sk-estimator {font-family: monospace;background-color: #f0f8ff;border: 1px dotted black;border-radius: 0.25em;box-sizing: border-box;margin-bottom: 0.5em;}#sk-container-id-3 div.sk-estimator:hover {background-color: #d4ebff;}#sk-container-id-3 div.sk-parallel-item::after {content: \"\";width: 100%;border-bottom: 1px solid gray;flex-grow: 1;}#sk-container-id-3 div.sk-label:hover label.sk-toggleable__label {background-color: #d4ebff;}#sk-container-id-3 div.sk-serial::before {content: \"\";position: absolute;border-left: 1px solid gray;box-sizing: border-box;top: 0;bottom: 0;left: 50%;z-index: 0;}#sk-container-id-3 div.sk-serial {display: flex;flex-direction: column;align-items: center;background-color: white;padding-right: 0.2em;padding-left: 0.2em;position: relative;}#sk-container-id-3 div.sk-item {position: relative;z-index: 1;}#sk-container-id-3 div.sk-parallel {display: flex;align-items: stretch;justify-content: center;background-color: white;position: relative;}#sk-container-id-3 div.sk-item::before, #sk-container-id-3 div.sk-parallel-item::before {content: \"\";position: absolute;border-left: 1px solid gray;box-sizing: border-box;top: 0;bottom: 0;left: 50%;z-index: -1;}#sk-container-id-3 div.sk-parallel-item {display: flex;flex-direction: column;z-index: 1;position: relative;background-color: white;}#sk-container-id-3 div.sk-parallel-item:first-child::after {align-self: flex-end;width: 50%;}#sk-container-id-3 div.sk-parallel-item:last-child::after {align-self: flex-start;width: 50%;}#sk-container-id-3 div.sk-parallel-item:only-child::after {width: 0;}#sk-container-id-3 div.sk-dashed-wrapped {border: 1px dashed gray;margin: 0 0.4em 0.5em 0.4em;box-sizing: border-box;padding-bottom: 0.4em;background-color: white;}#sk-container-id-3 div.sk-label label {font-family: monospace;font-weight: bold;display: inline-block;line-height: 1.2em;}#sk-container-id-3 div.sk-label-container {text-align: center;}#sk-container-id-3 div.sk-container {/* jupyter's `normalize.less` sets `[hidden] { display: none; }` but bootstrap.min.css set `[hidden] { display: none !important; }` so we also need the `!important` here to be able to override the default hidden behavior on the sphinx rendered scikit-learn.org. See: https://github.com/scikit-learn/scikit-learn/issues/21755 */display: inline-block !important;position: relative;}#sk-container-id-3 div.sk-text-repr-fallback {display: none;}</style><div id=\"sk-container-id-3\" class=\"sk-top-container\"><div class=\"sk-text-repr-fallback\"><pre>LogisticRegression(max_iter=1000)</pre><b>In a Jupyter environment, please rerun this cell to show the HTML representation or trust the notebook. <br />On GitHub, the HTML representation is unable to render, please try loading this page with nbviewer.org.</b></div><div class=\"sk-container\" hidden><div class=\"sk-item\"><div class=\"sk-estimator sk-toggleable\"><input class=\"sk-toggleable__control sk-hidden--visually\" id=\"sk-estimator-id-3\" type=\"checkbox\" checked><label for=\"sk-estimator-id-3\" class=\"sk-toggleable__label sk-toggleable__label-arrow\">LogisticRegression</label><div class=\"sk-toggleable__content\"><pre>LogisticRegression(max_iter=1000)</pre></div></div></div></div></div>"
      ],
      "text/plain": [
       "LogisticRegression(max_iter=1000)"
      ]
     },
     "execution_count": 80,
     "metadata": {},
     "output_type": "execute_result"
    }
   ],
   "source": [
    "from sklearn.linear_model import LogisticRegression\n",
    "classifier=LogisticRegression(max_iter=1000)\n",
    "classifier.fit(X_train,y_train)"
   ]
  },
  {
   "cell_type": "code",
   "execution_count": 81,
   "id": "3930263f",
   "metadata": {},
   "outputs": [],
   "source": [
    "y_pred=classifier.predict(X_test)\n"
   ]
  },
  {
   "cell_type": "code",
   "execution_count": 82,
   "id": "429937cb",
   "metadata": {},
   "outputs": [
    {
     "data": {
      "text/plain": [
       "array([ 0,  0, -1, -1, -1,  0,  0,  0,  1, -1,  1, -1,  1,  0,  1, -1,  0,\n",
       "       -1, -1,  1, -1, -1,  0,  1, -1, -1,  1,  1, -1,  1,  1,  0,  1, -1,\n",
       "       -1, -1,  1, -1,  0, -1, -1, -1,  1,  0,  1,  1, -1,  1, -1,  0,  1,\n",
       "        1,  0,  1,  0, -1,  0,  1,  1, -1, -1,  0, -1, -1, -1,  0,  1, -1,\n",
       "        1,  0,  1,  1,  0, -1,  0,  1, -1,  1,  0,  0,  1,  1, -1,  1,  0,\n",
       "        1,  0, -1, -1,  0,  0, -1, -1,  1,  1,  0,  0, -1, -1, -1,  1,  1,\n",
       "       -1,  0,  0, -1, -1,  1,  1,  0, -1,  1,  1,  1,  1, -1,  0, -1,  1,\n",
       "        0,  0, -1,  1,  1,  0, -1,  1, -1,  1, -1,  1, -1,  1,  0, -1,  0,\n",
       "        1,  0, -1,  0, -1, -1, -1, -1, -1, -1,  1,  1, -1,  0,  1,  0,  1])"
      ]
     },
     "execution_count": 82,
     "metadata": {},
     "output_type": "execute_result"
    }
   ],
   "source": [
    "y_pred"
   ]
  },
  {
   "cell_type": "code",
   "execution_count": 83,
   "id": "9cdbff49",
   "metadata": {},
   "outputs": [],
   "source": [
    "from sklearn.metrics import confusion_matrix, ConfusionMatrixDisplay, classification_report\n",
    "cm = confusion_matrix(y_test, y_pred)\n",
    "disp = ConfusionMatrixDisplay(confusion_matrix=cm)"
   ]
  },
  {
   "cell_type": "code",
   "execution_count": 84,
   "id": "d1af2be5",
   "metadata": {},
   "outputs": [
    {
     "data": {
      "text/plain": [
       "<sklearn.metrics._plot.confusion_matrix.ConfusionMatrixDisplay at 0x17c2a7c40>"
      ]
     },
     "execution_count": 84,
     "metadata": {},
     "output_type": "execute_result"
    },
    {
     "data": {
      "image/png": "[encoded data removed]",
      "text/plain": [
       "<Figure size 640x480 with 2 Axes>"
      ]
     },
     "metadata": {},
     "output_type": "display_data"
    }
   ],
   "source": [
    "disp.plot()"
   ]
  },
  {
   "cell_type": "code",
   "execution_count": 85,
   "id": "c34715bb",
   "metadata": {},
   "outputs": [
    {
     "name": "stdout",
     "output_type": "stream",
     "text": [
      "              precision    recall  f1-score   support\n",
      "\n",
      "          -1       0.66      0.85      0.74        46\n",
      "           0       0.80      0.66      0.73        50\n",
      "           1       0.75      0.70      0.73        57\n",
      "\n",
      "    accuracy                           0.73       153\n",
      "   macro avg       0.74      0.74      0.73       153\n",
      "weighted avg       0.74      0.73      0.73       153\n",
      "\n"
     ]
    }
   ],
   "source": [
    "print(classification_report(y_test, y_pred))"
   ]
  },
  {
   "cell_type": "markdown",
   "id": "4306cf94",
   "metadata": {},
   "source": [
    "#### Decision Tree"
   ]
  },
  {
   "cell_type": "code",
   "execution_count": 86,
   "id": "4ccfae9b",
   "metadata": {},
   "outputs": [
    {
     "data": {
      "text/html": [
       "<style>#sk-container-id-4 {color: black;}#sk-container-id-4 pre{padding: 0;}#sk-container-id-4 div.sk-toggleable {background-color: white;}#sk-container-id-4 label.sk-toggleable__label {cursor: pointer;display: block;width: 100%;margin-bottom: 0;padding: 0.3em;box-sizing: border-box;text-align: center;}#sk-container-id-4 label.sk-toggleable__label-arrow:before {content: \"▸\";float: left;margin-right: 0.25em;color: #696969;}#sk-container-id-4 label.sk-toggleable__label-arrow:hover:before {color: black;}#sk-container-id-4 div.sk-estimator:hover label.sk-toggleable__label-arrow:before {color: black;}#sk-container-id-4 div.sk-toggleable__content {max-height: 0;max-width: 0;overflow: hidden;text-align: left;background-color: #f0f8ff;}#sk-container-id-4 div.sk-toggleable__content pre {margin: 0.2em;color: black;border-radius: 0.25em;background-color: #f0f8ff;}#sk-container-id-4 input.sk-toggleable__control:checked~div.sk-toggleable__content {max-height: 200px;max-width: 100%;overflow: auto;}#sk-container-id-4 input.sk-toggleable__control:checked~label.sk-toggleable__label-arrow:before {content: \"▾\";}#sk-container-id-4 div.sk-estimator input.sk-toggleable__control:checked~label.sk-toggleable__label {background-color: #d4ebff;}#sk-container-id-4 div.sk-label input.sk-toggleable__control:checked~label.sk-toggleable__label {background-color: #d4ebff;}#sk-container-id-4 input.sk-hidden--visually {border: 0;clip: rect(1px 1px 1px 1px);clip: rect(1px, 1px, 1px, 1px);height: 1px;margin: -1px;overflow: hidden;padding: 0;position: absolute;width: 1px;}#sk-container-id-4 div.sk-estimator {font-family: monospace;background-color: #f0f8ff;border: 1px dotted black;border-radius: 0.25em;box-sizing: border-box;margin-bottom: 0.5em;}#sk-container-id-4 div.sk-estimator:hover {background-color: #d4ebff;}#sk-container-id-4 div.sk-parallel-item::after {content: \"\";width: 100%;border-bottom: 1px solid gray;flex-grow: 1;}#sk-container-id-4 div.sk-label:hover label.sk-toggleable__label {background-color: #d4ebff;}#sk-container-id-4 div.sk-serial::before {content: \"\";position: absolute;border-left: 1px solid gray;box-sizing: border-box;top: 0;bottom: 0;left: 50%;z-index: 0;}#sk-container-id-4 div.sk-serial {display: flex;flex-direction: column;align-items: center;background-color: white;padding-right: 0.2em;padding-left: 0.2em;position: relative;}#sk-container-id-4 div.sk-item {position: relative;z-index: 1;}#sk-container-id-4 div.sk-parallel {display: flex;align-items: stretch;justify-content: center;background-color: white;position: relative;}#sk-container-id-4 div.sk-item::before, #sk-container-id-4 div.sk-parallel-item::before {content: \"\";position: absolute;border-left: 1px solid gray;box-sizing: border-box;top: 0;bottom: 0;left: 50%;z-index: -1;}#sk-container-id-4 div.sk-parallel-item {display: flex;flex-direction: column;z-index: 1;position: relative;background-color: white;}#sk-container-id-4 div.sk-parallel-item:first-child::after {align-self: flex-end;width: 50%;}#sk-container-id-4 div.sk-parallel-item:last-child::after {align-self: flex-start;width: 50%;}#sk-container-id-4 div.sk-parallel-item:only-child::after {width: 0;}#sk-container-id-4 div.sk-dashed-wrapped {border: 1px dashed gray;margin: 0 0.4em 0.5em 0.4em;box-sizing: border-box;padding-bottom: 0.4em;background-color: white;}#sk-container-id-4 div.sk-label label {font-family: monospace;font-weight: bold;display: inline-block;line-height: 1.2em;}#sk-container-id-4 div.sk-label-container {text-align: center;}#sk-container-id-4 div.sk-container {/* jupyter's `normalize.less` sets `[hidden] { display: none; }` but bootstrap.min.css set `[hidden] { display: none !important; }` so we also need the `!important` here to be able to override the default hidden behavior on the sphinx rendered scikit-learn.org. See: https://github.com/scikit-learn/scikit-learn/issues/21755 */display: inline-block !important;position: relative;}#sk-container-id-4 div.sk-text-repr-fallback {display: none;}</style><div id=\"sk-container-id-4\" class=\"sk-top-container\"><div class=\"sk-text-repr-fallback\"><pre>DecisionTreeClassifier()</pre><b>In a Jupyter environment, please rerun this cell to show the HTML representation or trust the notebook. <br />On GitHub, the HTML representation is unable to render, please try loading this page with nbviewer.org.</b></div><div class=\"sk-container\" hidden><div class=\"sk-item\"><div class=\"sk-estimator sk-toggleable\"><input class=\"sk-toggleable__control sk-hidden--visually\" id=\"sk-estimator-id-4\" type=\"checkbox\" checked><label for=\"sk-estimator-id-4\" class=\"sk-toggleable__label sk-toggleable__label-arrow\">DecisionTreeClassifier</label><div class=\"sk-toggleable__content\"><pre>DecisionTreeClassifier()</pre></div></div></div></div></div>"
      ],
      "text/plain": [
       "DecisionTreeClassifier()"
      ]
     },
     "execution_count": 86,
     "metadata": {},
     "output_type": "execute_result"
    }
   ],
   "source": [
    "from sklearn.tree import DecisionTreeClassifier\n",
    "dtc = DecisionTreeClassifier()\n",
    "dtc.fit(X_train, y_train)"
   ]
  },
  {
   "cell_type": "code",
   "execution_count": 87,
   "id": "e1f9c78b",
   "metadata": {},
   "outputs": [
    {
     "data": {
      "text/plain": [
       "array([ 0,  0, -1, -1, -1,  0,  0,  0,  1, -1,  1, -1, -1, -1,  1,  0,  0,\n",
       "       -1, -1, -1, -1,  0,  1,  1, -1, -1,  1,  0,  1,  1,  1,  0,  1, -1,\n",
       "       -1, -1, -1,  1,  0, -1,  0, -1,  1,  0,  1,  1, -1, -1, -1,  0, -1,\n",
       "       -1,  1,  1,  0, -1,  0, -1, -1,  1,  1,  0, -1, -1, -1,  0,  1,  1,\n",
       "        1,  0,  0,  1, -1, -1, -1,  1,  1,  1,  0,  0,  1,  1,  1, -1, -1,\n",
       "       -1,  0, -1, -1,  0,  1,  1, -1,  0,  0,  0,  0, -1,  1, -1,  1,  0,\n",
       "       -1,  0,  0,  1,  0,  1,  1, -1, -1,  1, -1,  0, -1, -1,  0, -1,  1,\n",
       "        0,  0,  1, -1, -1,  0, -1,  1,  1,  1, -1,  1, -1,  1,  0, -1,  0,\n",
       "       -1,  1, -1,  0,  0, -1, -1, -1, -1,  0,  1,  1,  1,  0,  1,  0, -1])"
      ]
     },
     "execution_count": 87,
     "metadata": {},
     "output_type": "execute_result"
    }
   ],
   "source": [
    "y_pred = dtc.predict(X_test)\n",
    "y_pred"
   ]
  },
  {
   "cell_type": "code",
   "execution_count": 88,
   "id": "09a33e81",
   "metadata": {},
   "outputs": [],
   "source": [
    "from sklearn.metrics import confusion_matrix, ConfusionMatrixDisplay, classification_report\n",
    "cm = confusion_matrix(y_test, y_pred)\n",
    "disp = ConfusionMatrixDisplay(confusion_matrix=cm)"
   ]
  },
  {
   "cell_type": "code",
   "execution_count": 89,
   "id": "bfa5791b",
   "metadata": {},
   "outputs": [
    {
     "data": {
      "text/plain": [
       "<sklearn.metrics._plot.confusion_matrix.ConfusionMatrixDisplay at 0x17c4c1810>"
      ]
     },
     "execution_count": 89,
     "metadata": {},
     "output_type": "execute_result"
    },
    {
     "data": {
      "image/png": "[encoded data removed]",
      "text/plain": [
       "<Figure size 640x480 with 2 Axes>"
      ]
     },
     "metadata": {},
     "output_type": "display_data"
    }
   ],
   "source": [
    "disp.plot()"
   ]
  },
  {
   "cell_type": "code",
   "execution_count": 90,
   "id": "4d2c6743",
   "metadata": {},
   "outputs": [
    {
     "name": "stdout",
     "output_type": "stream",
     "text": [
      "              precision    recall  f1-score   support\n",
      "\n",
      "          -1       0.52      0.70      0.60        46\n",
      "           0       0.70      0.62      0.66        50\n",
      "           1       0.69      0.58      0.63        57\n",
      "\n",
      "    accuracy                           0.63       153\n",
      "   macro avg       0.64      0.63      0.63       153\n",
      "weighted avg       0.64      0.63      0.63       153\n",
      "\n"
     ]
    }
   ],
   "source": [
    "print(classification_report(y_test, y_pred))"
   ]
  },
  {
   "cell_type": "markdown",
   "id": "ef8b5340",
   "metadata": {},
   "source": [
    "#### Random Forest"
   ]
  },
  {
   "cell_type": "code",
   "execution_count": 91,
   "id": "9fdfbe46",
   "metadata": {},
   "outputs": [],
   "source": [
    "from sklearn.ensemble import RandomForestClassifier\n",
    "rfc = RandomForestClassifier()\n",
    "rfc.fit(X_train, y_train)\n",
    "y_pred = rfc.predict(X_test)"
   ]
  },
  {
   "cell_type": "code",
   "execution_count": 92,
   "id": "9a60b37c",
   "metadata": {},
   "outputs": [],
   "source": [
    "cm = confusion_matrix(y_test, y_pred)\n",
    "disp = ConfusionMatrixDisplay(confusion_matrix=cm)"
   ]
  },
  {
   "cell_type": "code",
   "execution_count": 93,
   "id": "e824aade",
   "metadata": {},
   "outputs": [
    {
     "data": {
      "text/plain": [
       "<sklearn.metrics._plot.confusion_matrix.ConfusionMatrixDisplay at 0x179dfcd90>"
      ]
     },
     "execution_count": 93,
     "metadata": {},
     "output_type": "execute_result"
    },
    {
     "data": {
      "image/png": "[encoded data removed]",
      "text/plain": [
       "<Figure size 640x480 with 2 Axes>"
      ]
     },
     "metadata": {},
     "output_type": "display_data"
    }
   ],
   "source": [
    "disp.plot()"
   ]
  },
  {
   "cell_type": "code",
   "execution_count": 94,
   "id": "62d448b9",
   "metadata": {},
   "outputs": [
    {
     "name": "stdout",
     "output_type": "stream",
     "text": [
      "              precision    recall  f1-score   support\n",
      "\n",
      "          -1       0.53      0.87      0.66        46\n",
      "           0       0.78      0.64      0.70        50\n",
      "           1       0.84      0.54      0.66        57\n",
      "\n",
      "    accuracy                           0.67       153\n",
      "   macro avg       0.72      0.68      0.67       153\n",
      "weighted avg       0.73      0.67      0.67       153\n",
      "\n"
     ]
    }
   ],
   "source": [
    "print(classification_report(y_test, y_pred))"
   ]
  },
  {
   "cell_type": "markdown",
   "id": "f102fa25",
   "metadata": {},
   "source": [
    "#### Support Vector Machine"
   ]
  },
  {
   "cell_type": "code",
   "execution_count": 95,
   "id": "3b5c6ad6",
   "metadata": {},
   "outputs": [],
   "source": [
    "from sklearn.svm import SVC\n",
    "svc = SVC()\n",
    "svc.fit(X_train, y_train)\n",
    "y_pred = svc.predict(X_test)"
   ]
  },
  {
   "cell_type": "code",
   "execution_count": 96,
   "id": "a72fa65c",
   "metadata": {},
   "outputs": [
    {
     "data": {
      "text/plain": [
       "<sklearn.metrics._plot.confusion_matrix.ConfusionMatrixDisplay at 0x17c6579a0>"
      ]
     },
     "execution_count": 96,
     "metadata": {},
     "output_type": "execute_result"
    },
    {
     "data": {
      "image/png": "[encoded data removed]",
      "text/plain": [
       "<Figure size 640x480 with 2 Axes>"
      ]
     },
     "metadata": {},
     "output_type": "display_data"
    }
   ],
   "source": [
    "cm = confusion_matrix(y_test, y_pred)\n",
    "disp = ConfusionMatrixDisplay(confusion_matrix=cm)\n",
    "disp.plot()"
   ]
  },
  {
   "cell_type": "code",
   "execution_count": 97,
   "id": "50e53fe1",
   "metadata": {},
   "outputs": [
    {
     "name": "stdout",
     "output_type": "stream",
     "text": [
      "              precision    recall  f1-score   support\n",
      "\n",
      "          -1       0.53      0.89      0.66        46\n",
      "           0       0.89      0.64      0.74        50\n",
      "           1       0.82      0.56      0.67        57\n",
      "\n",
      "    accuracy                           0.69       153\n",
      "   macro avg       0.75      0.70      0.69       153\n",
      "weighted avg       0.75      0.69      0.69       153\n",
      "\n"
     ]
    }
   ],
   "source": [
    "print(classification_report(y_test,y_pred))"
   ]
  },
  {
   "cell_type": "markdown",
   "id": "1fd7ce54",
   "metadata": {},
   "source": [
    "#### K-Nearest Neighbor"
   ]
  },
  {
   "cell_type": "code",
   "execution_count": 98,
   "id": "64837f94",
   "metadata": {},
   "outputs": [],
   "source": [
    "from sklearn.neighbors import KNeighborsClassifier\n",
    "knn = KNeighborsClassifier()\n",
    "knn.fit(X_train, y_train)\n",
    "y_pred = knn.predict(X_test)"
   ]
  },
  {
   "cell_type": "code",
   "execution_count": 99,
   "id": "7c3963ad",
   "metadata": {},
   "outputs": [
    {
     "data": {
      "text/plain": [
       "<sklearn.metrics._plot.confusion_matrix.ConfusionMatrixDisplay at 0x17c657340>"
      ]
     },
     "execution_count": 99,
     "metadata": {},
     "output_type": "execute_result"
    },
    {
     "data": {
      "image/png": "[encoded data removed]",
      "text/plain": [
       "<Figure size 640x480 with 2 Axes>"
      ]
     },
     "metadata": {},
     "output_type": "display_data"
    }
   ],
   "source": [
    "cm = confusion_matrix(y_test, y_pred)\n",
    "disp = ConfusionMatrixDisplay(confusion_matrix=cm)\n",
    "disp.plot()"
   ]
  },
  {
   "cell_type": "code",
   "execution_count": 100,
   "id": "2811c92e",
   "metadata": {},
   "outputs": [
    {
     "name": "stdout",
     "output_type": "stream",
     "text": [
      "              precision    recall  f1-score   support\n",
      "\n",
      "          -1       0.45      0.67      0.54        46\n",
      "           0       0.53      0.52      0.53        50\n",
      "           1       0.66      0.40      0.50        57\n",
      "\n",
      "    accuracy                           0.52       153\n",
      "   macro avg       0.55      0.53      0.52       153\n",
      "weighted avg       0.55      0.52      0.52       153\n",
      "\n"
     ]
    }
   ],
   "source": [
    "print(classification_report(y_test,y_pred))"
   ]
  },
  {
   "cell_type": "markdown",
   "id": "fba44ce4",
   "metadata": {},
   "source": [
    "#### Naive Bayes"
   ]
  },
  {
   "cell_type": "code",
   "execution_count": 101,
   "id": "6336e7f5",
   "metadata": {},
   "outputs": [],
   "source": [
    "from sklearn.naive_bayes import GaussianNB\n",
    "gnb = GaussianNB()\n",
    "X_trainA = X_train.toarray()\n",
    "X_testA = X_test.toarray()\n",
    "gnb.fit(X_trainA, y_train)\n",
    "y_pred = gnb.predict(X_testA)"
   ]
  },
  {
   "cell_type": "code",
   "execution_count": 102,
   "id": "6b9a2f20",
   "metadata": {},
   "outputs": [
    {
     "data": {
      "text/plain": [
       "<sklearn.metrics._plot.confusion_matrix.ConfusionMatrixDisplay at 0x17e057a90>"
      ]
     },
     "execution_count": 102,
     "metadata": {},
     "output_type": "execute_result"
    },
    {
     "data": {
      "image/png": "[encoded data removed]",
      "text/plain": [
       "<Figure size 640x480 with 2 Axes>"
      ]
     },
     "metadata": {},
     "output_type": "display_data"
    }
   ],
   "source": [
    "cm = confusion_matrix(y_test, y_pred)\n",
    "disp = ConfusionMatrixDisplay(confusion_matrix=cm)\n",
    "disp.plot()"
   ]
  },
  {
   "cell_type": "code",
   "execution_count": 103,
   "id": "816df2b7",
   "metadata": {},
   "outputs": [
    {
     "name": "stdout",
     "output_type": "stream",
     "text": [
      "              precision    recall  f1-score   support\n",
      "\n",
      "          -1       0.53      0.61      0.57        46\n",
      "           0       0.70      0.62      0.66        50\n",
      "           1       0.61      0.60      0.60        57\n",
      "\n",
      "    accuracy                           0.61       153\n",
      "   macro avg       0.61      0.61      0.61       153\n",
      "weighted avg       0.62      0.61      0.61       153\n",
      "\n"
     ]
    }
   ],
   "source": [
    "print(classification_report(y_test,y_pred))"
   ]
  },
  {
   "cell_type": "markdown",
   "id": "3a8f4c8b",
   "metadata": {},
   "source": [
    "#### Machine Learning Model Pipeline"
   ]
  },
  {
   "cell_type": "code",
   "execution_count": 104,
   "id": "f764c766",
   "metadata": {},
   "outputs": [],
   "source": [
    "from sklearn.model_selection import train_test_split\n",
    "from sklearn import preprocessing\n",
    "\n",
    "X = df.text.values\n",
    "y = df.label.values\n",
    "\n",
    "X_train, X_test, y_train, y_test = train_test_split(X, y, test_size=.2, random_state=42)\n",
    "\n",
    "from sklearn.feature_extraction.text import CountVectorizer\n",
    "vec=CountVectorizer()\n",
    "vec.fit(X_train)\n",
    "X_train=vec.transform(X_train)\n",
    "X_test=vec.transform(X_test)"
   ]
  },
  {
   "cell_type": "code",
   "execution_count": 105,
   "id": "bc5005ea",
   "metadata": {},
   "outputs": [],
   "source": [
    "from sklearn.linear_model import LogisticRegression\n",
    "from sklearn.svm import SVC\n",
    "from sklearn.neighbors import KNeighborsClassifier\n",
    "from sklearn.tree import DecisionTreeClassifier\n",
    "from sklearn.ensemble import RandomForestClassifier\n",
    "from sklearn.naive_bayes import GaussianNB\n",
    "\n",
    "model_pipeline = []\n",
    "model_pipeline.append(LogisticRegression())\n",
    "model_pipeline.append(SVC())\n",
    "model_pipeline.append(KNeighborsClassifier())\n",
    "model_pipeline.append(DecisionTreeClassifier())\n",
    "model_pipeline.append(RandomForestClassifier())\n",
    "\n",
    "gauss_add = []\n",
    "gauss_add.append(GaussianNB())"
   ]
  },
  {
   "cell_type": "code",
   "execution_count": 106,
   "id": "686fd9f8",
   "metadata": {},
   "outputs": [],
   "source": [
    "from sklearn import metrics\n",
    "from sklearn.metrics import classification_report\n",
    "from sklearn.metrics import confusion_matrix\n",
    "\n",
    "model_list = ['Logistic Regression', 'SVM', 'KNN', 'Decision Tree', 'Random Forest','Naive Bayes'] \n",
    "acc_list = []\n",
    "auc_list = []\n",
    "cm_list = []\n",
    "\n",
    "for model in model_pipeline:\n",
    "    model.fit(X_train, y_train)\n",
    "    y_pred = model.predict(X_test)\n",
    "    acc_list.append(metrics.accuracy_score(y_test, y_pred))\n",
    "    #fpr, tpr, _thresholds = metrics.roc_curve(y_test, y_pred)\n",
    "    #auc_list.append(round(metrics.auc(fpr, tpr),2))\n",
    "    cm_list.append(confusion_matrix(y_test, y_pred))\n",
    "\n",
    "for model in gauss_add:\n",
    "    model.fit(X_trainA, y_train)\n",
    "    y_pred = model.predict(X_testA)\n",
    "    acc_list.append(metrics.accuracy_score(y_test, y_pred))\n",
    "    #fpr, tpr, _thresholds = metrics.roc_curve(y_test, y_pred)\n",
    "    #auc_list.append(round(metrics.auc(fpr, tpr),2))\n",
    "    cm_list.append(confusion_matrix(y_test, y_pred))\n"
   ]
  },
  {
   "cell_type": "code",
   "execution_count": 107,
   "id": "f0686aa4",
   "metadata": {},
   "outputs": [
    {
     "data": {
      "image/png": "[encoded data removed]",
      "text/plain": [
       "<Figure size 1800x1000 with 12 Axes>"
      ]
     },
     "metadata": {},
     "output_type": "display_data"
    }
   ],
   "source": [
    "import matplotlib.pyplot as plt\n",
    "import seaborn as sns\n",
    "\n",
    "fig = plt.figure(figsize = (18,10))\n",
    "for i in range(len(cm_list)):\n",
    "    cm = cm_list[i]\n",
    "    model = model_list[i]\n",
    "    sub = fig.add_subplot(2, 3, i+1).set_title(model)\n",
    "    cm_plot = sns.heatmap(cm, annot=True, cmap = 'Blues_r', fmt='g')\n",
    "    cm_plot.set_xlabel(\"Predicted Values\")\n",
    "    cm_plot.set_ylabel(\"Actual Values\")"
   ]
  },
  {
   "cell_type": "code",
   "execution_count": 108,
   "id": "28ec4589",
   "metadata": {},
   "outputs": [],
   "source": [
    "result_df = pd.DataFrame({'Model':model_list, 'Accuracy':acc_list}) #, 'AUC':auc_list}\n",
    "result_df\n",
    "result_df.to_csv('weather_results.csv')"
   ]
  }
 ],
 "metadata": {
  "kernelspec": {
   "display_name": "Python 3 (ipykernel)",
   "language": "python",
   "name": "python3"
  },
  "language_info": {
   "codemirror_mode": {
    "name": "ipython",
    "version": 3
   },
   "file_extension": ".py",
   "mimetype": "text/x-python",
   "name": "python",
   "nbconvert_exporter": "python",
   "pygments_lexer": "ipython3",
   "version": "3.10.13"
  }
 },
 "nbformat": 4,
 "nbformat_minor": 5
}
