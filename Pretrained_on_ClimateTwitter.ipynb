{
 "cells": [
  {
   "cell_type": "markdown",
   "metadata": {},
   "source": [
    "### Sentiment Analysis on .json Dataset <br> Pre-trained Models <br> VADER, TextBlob, and Flair"
   ]
  },
  {
   "cell_type": "markdown",
   "metadata": {},
   "source": [
    "#### Importing Modules and Loading in Dataset"
   ]
  },
  {
   "cell_type": "code",
   "execution_count": 187,
   "metadata": {},
   "outputs": [],
   "source": [
    "import pandas as pd  \n",
    "import numpy as np\n",
    "import sklearn\n",
    "import matplotlib.pyplot as plt\n",
    "import seaborn as sns\n",
    "import re\n",
    "import string\n",
    "import math\n",
    "#df1 = pd.read_json(path_or_buf='train.jsonl', lines=True)\n",
    "#df = pd.read_csv('weather-agg-DFE.csv')\n",
    "df = pd.read_csv('Climate_twitter.csv')"
   ]
  },
  {
   "cell_type": "markdown",
   "metadata": {},
   "source": [
    "#### Formatting the Dataset for Sentiment Analysis"
   ]
  },
  {
   "cell_type": "code",
   "execution_count": 188,
   "metadata": {},
   "outputs": [
    {
     "name": "stdout",
     "output_type": "stream",
     "text": [
      "<class 'pandas.core.frame.DataFrame'>\n",
      "RangeIndex: 396 entries, 0 to 395\n",
      "Data columns (total 3 columns):\n",
      " #   Column        Non-Null Count  Dtype  \n",
      "---  ------        --------------  -----  \n",
      " 0   text          396 non-null    object \n",
      " 1   polarity      396 non-null    float64\n",
      " 2   subjectivity  396 non-null    float64\n",
      "dtypes: float64(2), object(1)\n",
      "memory usage: 9.4+ KB\n"
     ]
    }
   ],
   "source": [
    "df = df.drop(columns=['id','date','source','author','twitter_name','location','verified','retweets','likes','followers','friends'])\n",
    "df.info()"
   ]
  },
  {
   "cell_type": "code",
   "execution_count": 189,
   "metadata": {},
   "outputs": [
    {
     "data": {
      "text/html": [
       "<div>\n",
       "<style scoped>\n",
       "    .dataframe tbody tr th:only-of-type {\n",
       "        vertical-align: middle;\n",
       "    }\n",
       "\n",
       "    .dataframe tbody tr th {\n",
       "        vertical-align: top;\n",
       "    }\n",
       "\n",
       "    .dataframe thead th {\n",
       "        text-align: right;\n",
       "    }\n",
       "</style>\n",
       "<table border=\"1\" class=\"dataframe\">\n",
       "  <thead>\n",
       "    <tr style=\"text-align: right;\">\n",
       "      <th></th>\n",
       "      <th>text</th>\n",
       "      <th>polarity</th>\n",
       "      <th>subjectivity</th>\n",
       "      <th>Label</th>\n",
       "    </tr>\n",
       "  </thead>\n",
       "  <tbody>\n",
       "    <tr>\n",
       "      <th>0</th>\n",
       "      <td>The death of summer Arctic ice our Earth coole...</td>\n",
       "      <td>-0.054365</td>\n",
       "      <td>0.426984</td>\n",
       "      <td>-1</td>\n",
       "    </tr>\n",
       "    <tr>\n",
       "      <th>1</th>\n",
       "      <td>Elsevier and the EditorsinChief are pleased to...</td>\n",
       "      <td>0.387500</td>\n",
       "      <td>0.633333</td>\n",
       "      <td>1</td>\n",
       "    </tr>\n",
       "    <tr>\n",
       "      <th>2</th>\n",
       "      <td>From better climate change education to improv...</td>\n",
       "      <td>0.261905</td>\n",
       "      <td>0.345238</td>\n",
       "      <td>1</td>\n",
       "    </tr>\n",
       "    <tr>\n",
       "      <th>3</th>\n",
       "      <td>climate change Links to FIXING CLIMATE CHANGE ...</td>\n",
       "      <td>0.000000</td>\n",
       "      <td>0.000000</td>\n",
       "      <td>0</td>\n",
       "    </tr>\n",
       "    <tr>\n",
       "      <th>4</th>\n",
       "      <td>climate change The 11TH HOUR FOR THE EARTH cli...</td>\n",
       "      <td>0.000000</td>\n",
       "      <td>0.000000</td>\n",
       "      <td>0</td>\n",
       "    </tr>\n",
       "  </tbody>\n",
       "</table>\n",
       "</div>"
      ],
      "text/plain": [
       "                                                text  polarity  subjectivity  \\\n",
       "0  The death of summer Arctic ice our Earth coole... -0.054365      0.426984   \n",
       "1  Elsevier and the EditorsinChief are pleased to...  0.387500      0.633333   \n",
       "2  From better climate change education to improv...  0.261905      0.345238   \n",
       "3  climate change Links to FIXING CLIMATE CHANGE ...  0.000000      0.000000   \n",
       "4  climate change The 11TH HOUR FOR THE EARTH cli...  0.000000      0.000000   \n",
       "\n",
       "   Label  \n",
       "0     -1  \n",
       "1      1  \n",
       "2      1  \n",
       "3      0  \n",
       "4      0  "
      ]
     },
     "execution_count": 189,
     "metadata": {},
     "output_type": "execute_result"
    }
   ],
   "source": [
    "conditions = [\n",
    "    (df['polarity'] <= -0.05),\n",
    "    (df['polarity'] > -0.05) & (df['polarity'] < 0.05),\n",
    "    (df['polarity'] >= 0.05)]\n",
    "\n",
    "values = [-1,0,1]\n",
    "\n",
    "df['Label'] = np.select(conditions, values)\n",
    "\n",
    "df.head()"
   ]
  },
  {
   "cell_type": "code",
   "execution_count": 190,
   "metadata": {},
   "outputs": [
    {
     "name": "stdout",
     "output_type": "stream",
     "text": [
      "<class 'pandas.core.frame.DataFrame'>\n",
      "RangeIndex: 396 entries, 0 to 395\n",
      "Data columns (total 4 columns):\n",
      " #   Column        Non-Null Count  Dtype  \n",
      "---  ------        --------------  -----  \n",
      " 0   text          396 non-null    object \n",
      " 1   polarity      396 non-null    float64\n",
      " 2   subjectivity  396 non-null    float64\n",
      " 3   Label         396 non-null    int64  \n",
      "dtypes: float64(2), int64(1), object(1)\n",
      "memory usage: 12.5+ KB\n"
     ]
    }
   ],
   "source": [
    "df.info()"
   ]
  },
  {
   "cell_type": "code",
   "execution_count": 191,
   "metadata": {},
   "outputs": [
    {
     "name": "stdout",
     "output_type": "stream",
     "text": [
      "<class 'pandas.core.frame.DataFrame'>\n",
      "RangeIndex: 396 entries, 0 to 395\n",
      "Data columns (total 4 columns):\n",
      " #   Column        Non-Null Count  Dtype  \n",
      "---  ------        --------------  -----  \n",
      " 0   text          396 non-null    string \n",
      " 1   polarity      396 non-null    float64\n",
      " 2   subjectivity  396 non-null    float64\n",
      " 3   Label         396 non-null    int64  \n",
      "dtypes: float64(2), int64(1), string(1)\n",
      "memory usage: 12.5 KB\n"
     ]
    }
   ],
   "source": [
    "# convert text column to string for easier processing\n",
    "df['text'] = df['text'].astype(\"string\")\n",
    "df.info()"
   ]
  },
  {
   "cell_type": "code",
   "execution_count": 192,
   "metadata": {},
   "outputs": [
    {
     "data": {
      "text/html": [
       "<div>\n",
       "<style scoped>\n",
       "    .dataframe tbody tr th:only-of-type {\n",
       "        vertical-align: middle;\n",
       "    }\n",
       "\n",
       "    .dataframe tbody tr th {\n",
       "        vertical-align: top;\n",
       "    }\n",
       "\n",
       "    .dataframe thead th {\n",
       "        text-align: right;\n",
       "    }\n",
       "</style>\n",
       "<table border=\"1\" class=\"dataframe\">\n",
       "  <thead>\n",
       "    <tr style=\"text-align: right;\">\n",
       "      <th></th>\n",
       "      <th>text</th>\n",
       "      <th>polarity</th>\n",
       "      <th>subjectivity</th>\n",
       "      <th>Label</th>\n",
       "    </tr>\n",
       "  </thead>\n",
       "  <tbody>\n",
       "    <tr>\n",
       "      <th>0</th>\n",
       "      <td>The death of summer Arctic ice our Earth coole...</td>\n",
       "      <td>-0.054365</td>\n",
       "      <td>0.426984</td>\n",
       "      <td>-1</td>\n",
       "    </tr>\n",
       "    <tr>\n",
       "      <th>1</th>\n",
       "      <td>Elsevier and the EditorsinChief are pleased to...</td>\n",
       "      <td>0.387500</td>\n",
       "      <td>0.633333</td>\n",
       "      <td>1</td>\n",
       "    </tr>\n",
       "    <tr>\n",
       "      <th>2</th>\n",
       "      <td>From better climate change education to improv...</td>\n",
       "      <td>0.261905</td>\n",
       "      <td>0.345238</td>\n",
       "      <td>1</td>\n",
       "    </tr>\n",
       "    <tr>\n",
       "      <th>3</th>\n",
       "      <td>climate change Links to FIXING CLIMATE CHANGE ...</td>\n",
       "      <td>0.000000</td>\n",
       "      <td>0.000000</td>\n",
       "      <td>0</td>\n",
       "    </tr>\n",
       "    <tr>\n",
       "      <th>4</th>\n",
       "      <td>climate change The 11TH HOUR FOR THE EARTH cli...</td>\n",
       "      <td>0.000000</td>\n",
       "      <td>0.000000</td>\n",
       "      <td>0</td>\n",
       "    </tr>\n",
       "  </tbody>\n",
       "</table>\n",
       "</div>"
      ],
      "text/plain": [
       "                                                text  polarity  subjectivity  \\\n",
       "0  The death of summer Arctic ice our Earth coole... -0.054365      0.426984   \n",
       "1  Elsevier and the EditorsinChief are pleased to...  0.387500      0.633333   \n",
       "2  From better climate change education to improv...  0.261905      0.345238   \n",
       "3  climate change Links to FIXING CLIMATE CHANGE ...  0.000000      0.000000   \n",
       "4  climate change The 11TH HOUR FOR THE EARTH cli...  0.000000      0.000000   \n",
       "\n",
       "   Label  \n",
       "0     -1  \n",
       "1      1  \n",
       "2      1  \n",
       "3      0  \n",
       "4      0  "
      ]
     },
     "execution_count": 192,
     "metadata": {},
     "output_type": "execute_result"
    }
   ],
   "source": [
    "df.head()"
   ]
  },
  {
   "cell_type": "markdown",
   "metadata": {},
   "source": [
    "#### Cleaning Text for \"Cleaned\" Column to Compare Analysis Results"
   ]
  },
  {
   "cell_type": "code",
   "execution_count": 193,
   "metadata": {},
   "outputs": [],
   "source": [
    "# First, we will expand contractions for better analysis using a dictionary of English Contractions from analyticsvidhya.com.\n",
    "contractions_dict = { \"ain't\": \"are not\",\"'s\":\" is\",\"aren't\": \"are not\",\n",
    "                     \"can't\": \"cannot\",\"can't've\": \"cannot have\",\n",
    "                     \"'cause\": \"because\",\"could've\": \"could have\",\"couldn't\": \"could not\",\n",
    "                     \"couldn't've\": \"could not have\", \"didn't\": \"did not\",\"doesn't\": \"does not\",\n",
    "                     \"don't\": \"do not\",\"hadn't\": \"had not\",\"hadn't've\": \"had not have\",\n",
    "                     \"hasn't\": \"has not\",\"haven't\": \"have not\",\"he'd\": \"he would\",\n",
    "                     \"he'd've\": \"he would have\",\"he'll\": \"he will\", \"he'll've\": \"he will have\",\n",
    "                     \"how'd\": \"how did\",\"how'd'y\": \"how do you\",\"how'll\": \"how will\",\n",
    "                     \"I'd\": \"I would\", \"I'd've\": \"I would have\",\"I'll\": \"I will\",\n",
    "                     \"I'll've\": \"I will have\",\"I'm\": \"I am\",\"I've\": \"I have\", \"isn't\": \"is not\",\n",
    "                     \"it'd\": \"it would\",\"it'd've\": \"it would have\",\"it'll\": \"it will\",\n",
    "                     \"it'll've\": \"it will have\", \"let's\": \"let us\",\"ma'am\": \"madam\",\n",
    "                     \"mayn't\": \"may not\",\"might've\": \"might have\",\"mightn't\": \"might not\", \n",
    "                     \"mightn't've\": \"might not have\",\"must've\": \"must have\",\"mustn't\": \"must not\",\n",
    "                     \"mustn't've\": \"must not have\", \"needn't\": \"need not\",\n",
    "                     \"needn't've\": \"need not have\",\"o'clock\": \"of the clock\",\"oughtn't\": \"ought not\",\"oughtn't've\": \"ought not have\",\"shan't\": \"shall not\",\"sha'n't\": \"shall not\",\n",
    "                     \"shan't've\": \"shall not have\",\"she'd\": \"she would\",\"she'd've\": \"she would have\",\n",
    "                     \"she'll\": \"she will\", \"she'll've\": \"she will have\",\"should've\": \"should have\",\n",
    "                     \"shouldn't\": \"should not\", \"shouldn't've\": \"should not have\",\"so've\": \"so have\",\n",
    "                     \"that'd\": \"that would\",\"that'd've\": \"that would have\", \"there'd\": \"there would\",\n",
    "                     \"there'd've\": \"there would have\", \"they'd\": \"they would\",\n",
    "                     \"they'd've\": \"they would have\",\"they'll\": \"they will\",\n",
    "                     \"they'll've\": \"they will have\", \"they're\": \"they are\",\"they've\": \"they have\",\n",
    "                     \"to've\": \"to have\",\"wasn't\": \"was not\",\"we'd\": \"we would\",\n",
    "                     \"we'd've\": \"we would have\",\"we'll\": \"we will\",\"we'll've\": \"we will have\",\n",
    "                     \"we're\": \"we are\",\"we've\": \"we have\", \"weren't\": \"were not\",\"what'll\": \"what will\",\n",
    "                     \"what'll've\": \"what will have\",\"what're\": \"what are\", \"what've\": \"what have\",\n",
    "                     \"when've\": \"when have\",\"where'd\": \"where did\", \"where've\": \"where have\",\n",
    "                     \"who'll\": \"who will\",\"who'll've\": \"who will have\",\"who've\": \"who have\",\n",
    "                     \"why've\": \"why have\",\"will've\": \"will have\",\"won't\": \"will not\",\n",
    "                     \"won't've\": \"will not have\", \"would've\": \"would have\",\"wouldn't\": \"would not\",\n",
    "                     \"wouldn't've\": \"would not have\",\"y'all\": \"you all\", \"y'all'd\": \"you all would\",\n",
    "                     \"y'all'd've\": \"you all would have\",\"y'all're\": \"you all are\",\n",
    "                     \"y'all've\": \"you all have\", \"you'd\": \"you would\",\"you'd've\": \"you would have\",\n",
    "                     \"you'll\": \"you will\",\"you'll've\": \"you will have\", \"you're\": \"you are\",\n",
    "                     \"you've\": \"you have\"}\n",
    "# Regular expression for finding contractions\n",
    "contractions_re=re.compile('(%s)' % '|'.join(contractions_dict.keys()))\n",
    "\n",
    "# Function for expanding contractions\n",
    "def expand_contractions(text,contractions_dict=contractions_dict):\n",
    "  def replace(match):\n",
    "    return contractions_dict[match.group(0)]\n",
    "  return contractions_re.sub(replace, text)\n",
    "\n",
    "# Expanding Contractions in the reviews\n",
    "df['cleaned']=df['text'].apply(lambda x:expand_contractions(x))"
   ]
  },
  {
   "cell_type": "code",
   "execution_count": 194,
   "metadata": {},
   "outputs": [],
   "source": [
    "def clean(raw):\n",
    "    \"\"\" Remove hyperlinks and markup \"\"\"\n",
    "    result = re.sub(\"<[a][^>]*>(.+?)</[a]>\", 'Link.', raw)\n",
    "    result = re.sub('&gt;', \"\", result)\n",
    "    result = re.sub('&#x27;', \"'\", result)\n",
    "    result = re.sub('&quot;', '\"', result)\n",
    "    result = re.sub('&#x2F;', ' ', result)\n",
    "    result = re.sub('<p>', ' ', result)\n",
    "    result = re.sub('</i>', '', result)\n",
    "    result = re.sub('&#62;', '', result)\n",
    "    result = re.sub('<i>', ' ', result)\n",
    "    result = re.sub(\"\\n\", '', result)\n",
    "    return result"
   ]
  },
  {
   "cell_type": "code",
   "execution_count": 195,
   "metadata": {},
   "outputs": [],
   "source": [
    "df.cleaned = df.text.apply(clean)"
   ]
  },
  {
   "cell_type": "code",
   "execution_count": 196,
   "metadata": {},
   "outputs": [],
   "source": [
    "# Next, we will lowercase all the messages. \n",
    "df['cleaned']=df['text'].apply(lambda x: x.lower())"
   ]
  },
  {
   "cell_type": "code",
   "execution_count": 197,
   "metadata": {},
   "outputs": [],
   "source": [
    "# Next, we will remove digits and words containing digits.\n",
    "df['cleaned'] = df['cleaned'].apply(lambda x: re.sub('\\w*\\d\\w*','',x))"
   ]
  },
  {
   "cell_type": "code",
   "execution_count": 198,
   "metadata": {},
   "outputs": [],
   "source": [
    "# Finally, we will remove punctuations in the messages. \n",
    "df['cleaned'] = df['cleaned'].apply(lambda x: re.sub('[%s]' % re.escape(string.punctuation), '', x))"
   ]
  },
  {
   "cell_type": "code",
   "execution_count": 199,
   "metadata": {},
   "outputs": [],
   "source": [
    "# Removing extra spaces\n",
    "df['cleaned'] = df['cleaned'].apply(lambda x: re.sub(' +', ' ',x))"
   ]
  },
  {
   "cell_type": "code",
   "execution_count": 200,
   "metadata": {},
   "outputs": [
    {
     "data": {
      "text/html": [
       "<div>\n",
       "<style scoped>\n",
       "    .dataframe tbody tr th:only-of-type {\n",
       "        vertical-align: middle;\n",
       "    }\n",
       "\n",
       "    .dataframe tbody tr th {\n",
       "        vertical-align: top;\n",
       "    }\n",
       "\n",
       "    .dataframe thead th {\n",
       "        text-align: right;\n",
       "    }\n",
       "</style>\n",
       "<table border=\"1\" class=\"dataframe\">\n",
       "  <thead>\n",
       "    <tr style=\"text-align: right;\">\n",
       "      <th></th>\n",
       "      <th>text</th>\n",
       "      <th>polarity</th>\n",
       "      <th>subjectivity</th>\n",
       "      <th>Label</th>\n",
       "      <th>cleaned</th>\n",
       "    </tr>\n",
       "  </thead>\n",
       "  <tbody>\n",
       "    <tr>\n",
       "      <th>228</th>\n",
       "      <td>Melting Glacier Reveals More Evidence Of Very ...</td>\n",
       "      <td>0.363333</td>\n",
       "      <td>0.346667</td>\n",
       "      <td>1</td>\n",
       "      <td>melting glacier reveals more evidence of very ...</td>\n",
       "    </tr>\n",
       "    <tr>\n",
       "      <th>169</th>\n",
       "      <td>What is all this hype about Global Warming Is ...</td>\n",
       "      <td>0.250000</td>\n",
       "      <td>0.250000</td>\n",
       "      <td>1</td>\n",
       "      <td>what is all this hype about global warming is ...</td>\n",
       "    </tr>\n",
       "    <tr>\n",
       "      <th>275</th>\n",
       "      <td>New Podcast Is Greta Thunberg right about Clim...</td>\n",
       "      <td>0.084686</td>\n",
       "      <td>0.310065</td>\n",
       "      <td>1</td>\n",
       "      <td>new podcast is greta thunberg right about clim...</td>\n",
       "    </tr>\n",
       "    <tr>\n",
       "      <th>326</th>\n",
       "      <td>Did you knowtechexplorist climate researchers ...</td>\n",
       "      <td>-0.016667</td>\n",
       "      <td>0.133333</td>\n",
       "      <td>0</td>\n",
       "      <td>did you knowtechexplorist climate researchers ...</td>\n",
       "    </tr>\n",
       "    <tr>\n",
       "      <th>144</th>\n",
       "      <td>Climate change is poised to thaw and undermine...</td>\n",
       "      <td>-0.166667</td>\n",
       "      <td>0.208333</td>\n",
       "      <td>-1</td>\n",
       "      <td>climate change is poised to thaw and undermine...</td>\n",
       "    </tr>\n",
       "    <tr>\n",
       "      <th>371</th>\n",
       "      <td>BBCWorld 3 climate used as supporting evidence...</td>\n",
       "      <td>0.286667</td>\n",
       "      <td>0.466667</td>\n",
       "      <td>1</td>\n",
       "      <td>bbcworld climate used as supporting evidence t...</td>\n",
       "    </tr>\n",
       "    <tr>\n",
       "      <th>282</th>\n",
       "      <td>I think that rather than harass world leaders ...</td>\n",
       "      <td>0.050000</td>\n",
       "      <td>0.425000</td>\n",
       "      <td>1</td>\n",
       "      <td>i think that rather than harass world leaders ...</td>\n",
       "    </tr>\n",
       "    <tr>\n",
       "      <th>364</th>\n",
       "      <td>Climate Change Conservation Science Global War...</td>\n",
       "      <td>0.000000</td>\n",
       "      <td>0.000000</td>\n",
       "      <td>0</td>\n",
       "      <td>climate change conservation science global war...</td>\n",
       "    </tr>\n",
       "    <tr>\n",
       "      <th>13</th>\n",
       "      <td>Warming oceans contribute to storms that could...</td>\n",
       "      <td>0.245455</td>\n",
       "      <td>0.466667</td>\n",
       "      <td>1</td>\n",
       "      <td>warming oceans contribute to storms that could...</td>\n",
       "    </tr>\n",
       "    <tr>\n",
       "      <th>333</th>\n",
       "      <td>Councils are ahead of the game on global warmi...</td>\n",
       "      <td>-0.087879</td>\n",
       "      <td>0.284848</td>\n",
       "      <td>-1</td>\n",
       "      <td>councils are ahead of the game on global warmi...</td>\n",
       "    </tr>\n",
       "  </tbody>\n",
       "</table>\n",
       "</div>"
      ],
      "text/plain": [
       "                                                  text  polarity  \\\n",
       "228  Melting Glacier Reveals More Evidence Of Very ...  0.363333   \n",
       "169  What is all this hype about Global Warming Is ...  0.250000   \n",
       "275  New Podcast Is Greta Thunberg right about Clim...  0.084686   \n",
       "326  Did you knowtechexplorist climate researchers ... -0.016667   \n",
       "144  Climate change is poised to thaw and undermine... -0.166667   \n",
       "371  BBCWorld 3 climate used as supporting evidence...  0.286667   \n",
       "282  I think that rather than harass world leaders ...  0.050000   \n",
       "364  Climate Change Conservation Science Global War...  0.000000   \n",
       "13   Warming oceans contribute to storms that could...  0.245455   \n",
       "333  Councils are ahead of the game on global warmi... -0.087879   \n",
       "\n",
       "     subjectivity  Label                                            cleaned  \n",
       "228      0.346667      1  melting glacier reveals more evidence of very ...  \n",
       "169      0.250000      1  what is all this hype about global warming is ...  \n",
       "275      0.310065      1  new podcast is greta thunberg right about clim...  \n",
       "326      0.133333      0  did you knowtechexplorist climate researchers ...  \n",
       "144      0.208333     -1  climate change is poised to thaw and undermine...  \n",
       "371      0.466667      1  bbcworld climate used as supporting evidence t...  \n",
       "282      0.425000      1  i think that rather than harass world leaders ...  \n",
       "364      0.000000      0  climate change conservation science global war...  \n",
       "13       0.466667      1  warming oceans contribute to storms that could...  \n",
       "333      0.284848     -1  councils are ahead of the game on global warmi...  "
      ]
     },
     "execution_count": 200,
     "metadata": {},
     "output_type": "execute_result"
    }
   ],
   "source": [
    "df.sample(10)"
   ]
  },
  {
   "cell_type": "markdown",
   "metadata": {},
   "source": [
    "#### VADER Sentiment Analysis"
   ]
  },
  {
   "cell_type": "code",
   "execution_count": 201,
   "metadata": {},
   "outputs": [
    {
     "name": "stderr",
     "output_type": "stream",
     "text": [
      "[nltk_data] Downloading package vader_lexicon to\n",
      "[nltk_data]     /Users/tessanderson/nltk_data...\n",
      "[nltk_data]   Package vader_lexicon is already up-to-date!\n"
     ]
    }
   ],
   "source": [
    "import nltk\n",
    "\n",
    "# Download the lexicon\n",
    "nltk.download(\"vader_lexicon\")\n",
    "\n",
    "# Import the lexicon \n",
    "from nltk.sentiment.vader import SentimentIntensityAnalyzer\n",
    "\n",
    "# Create an instance of SentimentIntensityAnalyzer\n",
    "sent_analyzer = SentimentIntensityAnalyzer()"
   ]
  },
  {
   "cell_type": "code",
   "execution_count": 202,
   "metadata": {},
   "outputs": [
    {
     "data": {
      "text/html": [
       "<div>\n",
       "<style scoped>\n",
       "    .dataframe tbody tr th:only-of-type {\n",
       "        vertical-align: middle;\n",
       "    }\n",
       "\n",
       "    .dataframe tbody tr th {\n",
       "        vertical-align: top;\n",
       "    }\n",
       "\n",
       "    .dataframe thead th {\n",
       "        text-align: right;\n",
       "    }\n",
       "</style>\n",
       "<table border=\"1\" class=\"dataframe\">\n",
       "  <thead>\n",
       "    <tr style=\"text-align: right;\">\n",
       "      <th></th>\n",
       "      <th>text</th>\n",
       "      <th>polarity</th>\n",
       "      <th>subjectivity</th>\n",
       "      <th>Label</th>\n",
       "      <th>cleaned</th>\n",
       "      <th>Vader_Prediction</th>\n",
       "      <th>C_Vader_Prediction</th>\n",
       "    </tr>\n",
       "  </thead>\n",
       "  <tbody>\n",
       "    <tr>\n",
       "      <th>152</th>\n",
       "      <td>deserts TURNING DESERTS INTO FORESTS climate c...</td>\n",
       "      <td>0.000000</td>\n",
       "      <td>0.000000</td>\n",
       "      <td>0</td>\n",
       "      <td>deserts turning deserts into forests climate c...</td>\n",
       "      <td>1</td>\n",
       "      <td>1</td>\n",
       "    </tr>\n",
       "    <tr>\n",
       "      <th>320</th>\n",
       "      <td>Top 10 Major Causes of Global Warming that cha...</td>\n",
       "      <td>0.187500</td>\n",
       "      <td>0.333333</td>\n",
       "      <td>1</td>\n",
       "      <td>top major causes of global warming that change...</td>\n",
       "      <td>1</td>\n",
       "      <td>1</td>\n",
       "    </tr>\n",
       "    <tr>\n",
       "      <th>82</th>\n",
       "      <td>More than 45 of the US is experiencing drought...</td>\n",
       "      <td>0.126786</td>\n",
       "      <td>0.522619</td>\n",
       "      <td>1</td>\n",
       "      <td>more than of the us is experiencing drought co...</td>\n",
       "      <td>-1</td>\n",
       "      <td>-1</td>\n",
       "    </tr>\n",
       "    <tr>\n",
       "      <th>263</th>\n",
       "      <td>KOLKATA Climate change and global warming may ...</td>\n",
       "      <td>0.000000</td>\n",
       "      <td>0.000000</td>\n",
       "      <td>0</td>\n",
       "      <td>kolkata climate change and global warming may ...</td>\n",
       "      <td>1</td>\n",
       "      <td>1</td>\n",
       "    </tr>\n",
       "    <tr>\n",
       "      <th>342</th>\n",
       "      <td>Blended fuels with high black carbon emissions...</td>\n",
       "      <td>-0.020556</td>\n",
       "      <td>0.412222</td>\n",
       "      <td>0</td>\n",
       "      <td>blended fuels with high black carbon emissions...</td>\n",
       "      <td>-1</td>\n",
       "      <td>-1</td>\n",
       "    </tr>\n",
       "  </tbody>\n",
       "</table>\n",
       "</div>"
      ],
      "text/plain": [
       "                                                  text  polarity  \\\n",
       "152  deserts TURNING DESERTS INTO FORESTS climate c...  0.000000   \n",
       "320  Top 10 Major Causes of Global Warming that cha...  0.187500   \n",
       "82   More than 45 of the US is experiencing drought...  0.126786   \n",
       "263  KOLKATA Climate change and global warming may ...  0.000000   \n",
       "342  Blended fuels with high black carbon emissions... -0.020556   \n",
       "\n",
       "     subjectivity  Label                                            cleaned  \\\n",
       "152      0.000000      0  deserts turning deserts into forests climate c...   \n",
       "320      0.333333      1  top major causes of global warming that change...   \n",
       "82       0.522619      1  more than of the us is experiencing drought co...   \n",
       "263      0.000000      0  kolkata climate change and global warming may ...   \n",
       "342      0.412222      0  blended fuels with high black carbon emissions...   \n",
       "\n",
       "     Vader_Prediction  C_Vader_Prediction  \n",
       "152                 1                   1  \n",
       "320                 1                   1  \n",
       "82                 -1                  -1  \n",
       "263                 1                   1  \n",
       "342                -1                  -1  "
      ]
     },
     "execution_count": 202,
     "metadata": {},
     "output_type": "execute_result"
    }
   ],
   "source": [
    "# adding the predictions as a column in dataset\n",
    "def format_output(output_dict):\n",
    "    sentiment=False\n",
    "    if(output_dict['compound']>=0.05):\n",
    "        sentiment=1\n",
    "    elif(output_dict['compound']<=-0.05):\n",
    "        sentiment=-1\n",
    "    else:\n",
    "        sentiment=0\n",
    "    return sentiment\n",
    "def predict_sentiment(text):\n",
    "    output_dict = sent_analyzer.polarity_scores(text)\n",
    "    return format_output(output_dict)\n",
    "\n",
    "# running the predictions\n",
    "df['Vader_Prediction']=df['text'].apply(predict_sentiment)\n",
    "df.sample(5)\n",
    "df['C_Vader_Prediction']=df['cleaned'].apply(predict_sentiment)\n",
    "df.sample(5)"
   ]
  },
  {
   "cell_type": "code",
   "execution_count": 203,
   "metadata": {},
   "outputs": [
    {
     "name": "stdout",
     "output_type": "stream",
     "text": [
      "Accuracy: 0.3939393939393939\n",
      "\n",
      "              precision    recall  f1-score   support\n",
      "\n",
      "          -1       0.30      0.69      0.42        61\n",
      "           0       0.63      0.07      0.12       179\n",
      "           1       0.43      0.65      0.52       156\n",
      "\n",
      "    accuracy                           0.39       396\n",
      "   macro avg       0.45      0.47      0.35       396\n",
      "weighted avg       0.50      0.39      0.32       396\n",
      "\n"
     ]
    }
   ],
   "source": [
    "from sklearn.metrics import accuracy_score, classification_report\n",
    "\n",
    "accuracy = accuracy_score(df['Label'],df['Vader_Prediction'])\n",
    "\n",
    "print(\"Accuracy: {}\\n\".format(accuracy))\n",
    "\n",
    "print(classification_report(df['Label'],df['Vader_Prediction']))"
   ]
  },
  {
   "cell_type": "code",
   "execution_count": 204,
   "metadata": {},
   "outputs": [
    {
     "name": "stdout",
     "output_type": "stream",
     "text": [
      "Accuracy: 0.3939393939393939\n",
      "\n",
      "              precision    recall  f1-score   support\n",
      "\n",
      "          -1       0.30      0.69      0.42        61\n",
      "           0       0.63      0.07      0.12       179\n",
      "           1       0.43      0.65      0.52       156\n",
      "\n",
      "    accuracy                           0.39       396\n",
      "   macro avg       0.45      0.47      0.35       396\n",
      "weighted avg       0.50      0.39      0.32       396\n",
      "\n"
     ]
    }
   ],
   "source": [
    "from sklearn.metrics import accuracy_score, classification_report\n",
    "\n",
    "accuracy = accuracy_score(df['Label'],df['C_Vader_Prediction'])\n",
    "\n",
    "print(\"Accuracy: {}\\n\".format(accuracy))\n",
    "\n",
    "print(classification_report(df['Label'],df['C_Vader_Prediction']))"
   ]
  },
  {
   "cell_type": "code",
   "execution_count": 205,
   "metadata": {},
   "outputs": [
    {
     "data": {
      "text/plain": [
       "<sklearn.metrics._plot.confusion_matrix.ConfusionMatrixDisplay at 0x2b8089750>"
      ]
     },
     "execution_count": 205,
     "metadata": {},
     "output_type": "execute_result"
    },
    {
     "data": {
      "image/png": "[encoded data removed]",
      "text/plain": [
       "<Figure size 640x480 with 2 Axes>"
      ]
     },
     "metadata": {},
     "output_type": "display_data"
    }
   ],
   "source": [
    "from sklearn.metrics import confusion_matrix, ConfusionMatrixDisplay\n",
    "cm = confusion_matrix(df['Label'], df['Vader_Prediction'])\n",
    "disp = ConfusionMatrixDisplay(confusion_matrix=cm)\n",
    "disp.plot()"
   ]
  },
  {
   "cell_type": "markdown",
   "metadata": {},
   "source": [
    "#### TextBlob Sentiment Analysis"
   ]
  },
  {
   "cell_type": "code",
   "execution_count": 206,
   "metadata": {},
   "outputs": [],
   "source": [
    "from textblob import TextBlob"
   ]
  },
  {
   "cell_type": "code",
   "execution_count": 207,
   "metadata": {},
   "outputs": [],
   "source": [
    "def sentiment_analysis(text):\n",
    " def getSubjectivity(text):\n",
    "   return TextBlob(text).sentiment.subjectivity\n",
    "  \n",
    " #Create a function to get the polarity\n",
    " def getPolarity(text):\n",
    "   return TextBlob(text).sentiment.polarity\n",
    "  \n",
    " #Create two new columns ‘Subjectivity’ & ‘Polarity’\n",
    " text['TextBlob_Subjectivity'] = text['text'].apply(getSubjectivity)\n",
    " text ['TextBlob_Polarity'] = text['text'].apply(getPolarity)\n",
    " def getAnalysis(score):\n",
    "  if score < 0:\n",
    "    return -1\n",
    "  elif score == 0:\n",
    "    return 0\n",
    "  else:\n",
    "    return 1\n",
    " text ['TextBlob_Analysis'] = text  ['TextBlob_Polarity'].apply(getAnalysis )\n",
    " return text"
   ]
  },
  {
   "cell_type": "code",
   "execution_count": 208,
   "metadata": {},
   "outputs": [],
   "source": [
    "def Csentiment_analysis(text):\n",
    " def getSubjectivity(text):\n",
    "   return TextBlob(text).sentiment.subjectivity\n",
    "  \n",
    " #Create a function to get the polarity\n",
    " def getPolarity(text):\n",
    "   return TextBlob(text).sentiment.polarity\n",
    "  \n",
    " #Create two new columns ‘Subjectivity’ & ‘Polarity’\n",
    " text['CTextBlob_Subjectivity'] = text['cleaned'].apply(getSubjectivity)\n",
    " text ['CTextBlob_Polarity'] = text['cleaned'].apply(getPolarity)\n",
    " def getAnalysis(score):\n",
    "  if score < 0:\n",
    "    return -1\n",
    "  elif score == 0:\n",
    "    return 0\n",
    "  else:\n",
    "    return 1\n",
    " text ['CTextBlob_Analysis'] = text  ['CTextBlob_Polarity'].apply(getAnalysis )\n",
    " return text"
   ]
  },
  {
   "cell_type": "code",
   "execution_count": 209,
   "metadata": {},
   "outputs": [],
   "source": [
    "df = sentiment_analysis(df)\n",
    "df = Csentiment_analysis(df)"
   ]
  },
  {
   "cell_type": "code",
   "execution_count": 210,
   "metadata": {},
   "outputs": [
    {
     "data": {
      "text/html": [
       "<div>\n",
       "<style scoped>\n",
       "    .dataframe tbody tr th:only-of-type {\n",
       "        vertical-align: middle;\n",
       "    }\n",
       "\n",
       "    .dataframe tbody tr th {\n",
       "        vertical-align: top;\n",
       "    }\n",
       "\n",
       "    .dataframe thead th {\n",
       "        text-align: right;\n",
       "    }\n",
       "</style>\n",
       "<table border=\"1\" class=\"dataframe\">\n",
       "  <thead>\n",
       "    <tr style=\"text-align: right;\">\n",
       "      <th></th>\n",
       "      <th>text</th>\n",
       "      <th>polarity</th>\n",
       "      <th>subjectivity</th>\n",
       "      <th>Label</th>\n",
       "      <th>cleaned</th>\n",
       "      <th>Vader_Prediction</th>\n",
       "      <th>C_Vader_Prediction</th>\n",
       "      <th>TextBlob_Subjectivity</th>\n",
       "      <th>TextBlob_Polarity</th>\n",
       "      <th>TextBlob_Analysis</th>\n",
       "      <th>CTextBlob_Subjectivity</th>\n",
       "      <th>CTextBlob_Polarity</th>\n",
       "      <th>CTextBlob_Analysis</th>\n",
       "    </tr>\n",
       "  </thead>\n",
       "  <tbody>\n",
       "    <tr>\n",
       "      <th>0</th>\n",
       "      <td>The death of summer Arctic ice our Earth coole...</td>\n",
       "      <td>-0.054365</td>\n",
       "      <td>0.426984</td>\n",
       "      <td>-1</td>\n",
       "      <td>the death of summer arctic ice our earth coole...</td>\n",
       "      <td>-1</td>\n",
       "      <td>-1</td>\n",
       "      <td>0.426984</td>\n",
       "      <td>-0.054365</td>\n",
       "      <td>-1</td>\n",
       "      <td>0.426984</td>\n",
       "      <td>-0.054365</td>\n",
       "      <td>-1</td>\n",
       "    </tr>\n",
       "    <tr>\n",
       "      <th>1</th>\n",
       "      <td>Elsevier and the EditorsinChief are pleased to...</td>\n",
       "      <td>0.387500</td>\n",
       "      <td>0.633333</td>\n",
       "      <td>1</td>\n",
       "      <td>elsevier and the editorsinchief are pleased to...</td>\n",
       "      <td>1</td>\n",
       "      <td>1</td>\n",
       "      <td>0.633333</td>\n",
       "      <td>0.387500</td>\n",
       "      <td>1</td>\n",
       "      <td>0.633333</td>\n",
       "      <td>0.387500</td>\n",
       "      <td>1</td>\n",
       "    </tr>\n",
       "    <tr>\n",
       "      <th>2</th>\n",
       "      <td>From better climate change education to improv...</td>\n",
       "      <td>0.261905</td>\n",
       "      <td>0.345238</td>\n",
       "      <td>1</td>\n",
       "      <td>from better climate change education to improv...</td>\n",
       "      <td>1</td>\n",
       "      <td>1</td>\n",
       "      <td>0.345238</td>\n",
       "      <td>0.261905</td>\n",
       "      <td>1</td>\n",
       "      <td>0.345238</td>\n",
       "      <td>0.261905</td>\n",
       "      <td>1</td>\n",
       "    </tr>\n",
       "    <tr>\n",
       "      <th>3</th>\n",
       "      <td>climate change Links to FIXING CLIMATE CHANGE ...</td>\n",
       "      <td>0.000000</td>\n",
       "      <td>0.000000</td>\n",
       "      <td>0</td>\n",
       "      <td>climate change links to fixing climate change ...</td>\n",
       "      <td>1</td>\n",
       "      <td>1</td>\n",
       "      <td>0.000000</td>\n",
       "      <td>0.000000</td>\n",
       "      <td>0</td>\n",
       "      <td>0.000000</td>\n",
       "      <td>0.000000</td>\n",
       "      <td>0</td>\n",
       "    </tr>\n",
       "    <tr>\n",
       "      <th>4</th>\n",
       "      <td>climate change The 11TH HOUR FOR THE EARTH cli...</td>\n",
       "      <td>0.000000</td>\n",
       "      <td>0.000000</td>\n",
       "      <td>0</td>\n",
       "      <td>climate change the hour for the earth climatec...</td>\n",
       "      <td>1</td>\n",
       "      <td>1</td>\n",
       "      <td>0.000000</td>\n",
       "      <td>0.000000</td>\n",
       "      <td>0</td>\n",
       "      <td>0.000000</td>\n",
       "      <td>0.000000</td>\n",
       "      <td>0</td>\n",
       "    </tr>\n",
       "  </tbody>\n",
       "</table>\n",
       "</div>"
      ],
      "text/plain": [
       "                                                text  polarity  subjectivity  \\\n",
       "0  The death of summer Arctic ice our Earth coole... -0.054365      0.426984   \n",
       "1  Elsevier and the EditorsinChief are pleased to...  0.387500      0.633333   \n",
       "2  From better climate change education to improv...  0.261905      0.345238   \n",
       "3  climate change Links to FIXING CLIMATE CHANGE ...  0.000000      0.000000   \n",
       "4  climate change The 11TH HOUR FOR THE EARTH cli...  0.000000      0.000000   \n",
       "\n",
       "   Label                                            cleaned  Vader_Prediction  \\\n",
       "0     -1  the death of summer arctic ice our earth coole...                -1   \n",
       "1      1  elsevier and the editorsinchief are pleased to...                 1   \n",
       "2      1  from better climate change education to improv...                 1   \n",
       "3      0  climate change links to fixing climate change ...                 1   \n",
       "4      0  climate change the hour for the earth climatec...                 1   \n",
       "\n",
       "   C_Vader_Prediction  TextBlob_Subjectivity  TextBlob_Polarity  \\\n",
       "0                  -1               0.426984          -0.054365   \n",
       "1                   1               0.633333           0.387500   \n",
       "2                   1               0.345238           0.261905   \n",
       "3                   1               0.000000           0.000000   \n",
       "4                   1               0.000000           0.000000   \n",
       "\n",
       "   TextBlob_Analysis  CTextBlob_Subjectivity  CTextBlob_Polarity  \\\n",
       "0                 -1                0.426984           -0.054365   \n",
       "1                  1                0.633333            0.387500   \n",
       "2                  1                0.345238            0.261905   \n",
       "3                  0                0.000000            0.000000   \n",
       "4                  0                0.000000            0.000000   \n",
       "\n",
       "   CTextBlob_Analysis  \n",
       "0                  -1  \n",
       "1                   1  \n",
       "2                   1  \n",
       "3                   0  \n",
       "4                   0  "
      ]
     },
     "execution_count": 210,
     "metadata": {},
     "output_type": "execute_result"
    }
   ],
   "source": [
    "df.head()"
   ]
  },
  {
   "cell_type": "code",
   "execution_count": 211,
   "metadata": {},
   "outputs": [
    {
     "name": "stdout",
     "output_type": "stream",
     "text": [
      "Accuracy: 0.8661616161616161\n",
      "\n",
      "              precision    recall  f1-score   support\n",
      "\n",
      "          -1       0.76      1.00      0.87        61\n",
      "           0       1.00      0.70      0.83       179\n",
      "           1       0.82      1.00      0.90       156\n",
      "\n",
      "    accuracy                           0.87       396\n",
      "   macro avg       0.86      0.90      0.86       396\n",
      "weighted avg       0.89      0.87      0.86       396\n",
      "\n"
     ]
    }
   ],
   "source": [
    "from sklearn.metrics import accuracy_score, classification_report\n",
    "\n",
    "accuracy = accuracy_score(df['Label'],df['CTextBlob_Analysis'])\n",
    "\n",
    "print(\"Accuracy: {}\\n\".format(accuracy))\n",
    "\n",
    "print(classification_report(df['Label'],df['CTextBlob_Analysis']))"
   ]
  },
  {
   "cell_type": "code",
   "execution_count": 212,
   "metadata": {},
   "outputs": [
    {
     "data": {
      "text/plain": [
       "<sklearn.metrics._plot.confusion_matrix.ConfusionMatrixDisplay at 0x29f33ef80>"
      ]
     },
     "execution_count": 212,
     "metadata": {},
     "output_type": "execute_result"
    },
    {
     "data": {
      "image/png": "[encoded data removed]",
      "text/plain": [
       "<Figure size 640x480 with 2 Axes>"
      ]
     },
     "metadata": {},
     "output_type": "display_data"
    }
   ],
   "source": [
    "from sklearn.metrics import confusion_matrix, ConfusionMatrixDisplay\n",
    "cm = confusion_matrix(df['Label'], df['TextBlob_Analysis'])\n",
    "disp = ConfusionMatrixDisplay(confusion_matrix=cm)\n",
    "disp.plot()"
   ]
  },
  {
   "cell_type": "markdown",
   "metadata": {},
   "source": [
    "#### Flair Sentiment Analysis"
   ]
  },
  {
   "cell_type": "code",
   "execution_count": 213,
   "metadata": {},
   "outputs": [],
   "source": [
    "import flair\n",
    "from flair.models import TextClassifier\n",
    "from flair.data import Sentence\n",
    "from segtok.segmenter import split_single\n",
    "import re\n",
    "\n",
    "sia = TextClassifier.load('en-sentiment')"
   ]
  },
  {
   "cell_type": "code",
   "execution_count": 214,
   "metadata": {},
   "outputs": [],
   "source": [
    "def sentiment_Flair(x):\n",
    "    sentence = Sentence(x)\n",
    "    sia.predict(sentence)\n",
    "    score = sentence.labels[0]\n",
    "    if \"POSITIVE\" in str(score):\n",
    "        return 1\n",
    "    elif \"NEGATIVE\" in str(score):\n",
    "        return -1\n",
    "    else:\n",
    "        return 0"
   ]
  },
  {
   "cell_type": "code",
   "execution_count": 215,
   "metadata": {},
   "outputs": [],
   "source": [
    "df['Flair_Sentiment'] = df['text'].apply(lambda x: sentiment_Flair(x))\n",
    "df['C_Flair_Sentiment'] = df['cleaned'].apply(lambda x: sentiment_Flair(x))"
   ]
  },
  {
   "cell_type": "code",
   "execution_count": 216,
   "metadata": {},
   "outputs": [
    {
     "data": {
      "text/html": [
       "<div>\n",
       "<style scoped>\n",
       "    .dataframe tbody tr th:only-of-type {\n",
       "        vertical-align: middle;\n",
       "    }\n",
       "\n",
       "    .dataframe tbody tr th {\n",
       "        vertical-align: top;\n",
       "    }\n",
       "\n",
       "    .dataframe thead th {\n",
       "        text-align: right;\n",
       "    }\n",
       "</style>\n",
       "<table border=\"1\" class=\"dataframe\">\n",
       "  <thead>\n",
       "    <tr style=\"text-align: right;\">\n",
       "      <th></th>\n",
       "      <th>text</th>\n",
       "      <th>polarity</th>\n",
       "      <th>subjectivity</th>\n",
       "      <th>Label</th>\n",
       "      <th>cleaned</th>\n",
       "      <th>Vader_Prediction</th>\n",
       "      <th>C_Vader_Prediction</th>\n",
       "      <th>TextBlob_Subjectivity</th>\n",
       "      <th>TextBlob_Polarity</th>\n",
       "      <th>TextBlob_Analysis</th>\n",
       "      <th>CTextBlob_Subjectivity</th>\n",
       "      <th>CTextBlob_Polarity</th>\n",
       "      <th>CTextBlob_Analysis</th>\n",
       "      <th>Flair_Sentiment</th>\n",
       "      <th>C_Flair_Sentiment</th>\n",
       "    </tr>\n",
       "  </thead>\n",
       "  <tbody>\n",
       "    <tr>\n",
       "      <th>0</th>\n",
       "      <td>The death of summer Arctic ice our Earth coole...</td>\n",
       "      <td>-0.054365</td>\n",
       "      <td>0.426984</td>\n",
       "      <td>-1</td>\n",
       "      <td>the death of summer arctic ice our earth coole...</td>\n",
       "      <td>-1</td>\n",
       "      <td>-1</td>\n",
       "      <td>0.426984</td>\n",
       "      <td>-0.054365</td>\n",
       "      <td>-1</td>\n",
       "      <td>0.426984</td>\n",
       "      <td>-0.054365</td>\n",
       "      <td>-1</td>\n",
       "      <td>-1</td>\n",
       "      <td>-1</td>\n",
       "    </tr>\n",
       "    <tr>\n",
       "      <th>1</th>\n",
       "      <td>Elsevier and the EditorsinChief are pleased to...</td>\n",
       "      <td>0.387500</td>\n",
       "      <td>0.633333</td>\n",
       "      <td>1</td>\n",
       "      <td>elsevier and the editorsinchief are pleased to...</td>\n",
       "      <td>1</td>\n",
       "      <td>1</td>\n",
       "      <td>0.633333</td>\n",
       "      <td>0.387500</td>\n",
       "      <td>1</td>\n",
       "      <td>0.633333</td>\n",
       "      <td>0.387500</td>\n",
       "      <td>1</td>\n",
       "      <td>1</td>\n",
       "      <td>1</td>\n",
       "    </tr>\n",
       "    <tr>\n",
       "      <th>2</th>\n",
       "      <td>From better climate change education to improv...</td>\n",
       "      <td>0.261905</td>\n",
       "      <td>0.345238</td>\n",
       "      <td>1</td>\n",
       "      <td>from better climate change education to improv...</td>\n",
       "      <td>1</td>\n",
       "      <td>1</td>\n",
       "      <td>0.345238</td>\n",
       "      <td>0.261905</td>\n",
       "      <td>1</td>\n",
       "      <td>0.345238</td>\n",
       "      <td>0.261905</td>\n",
       "      <td>1</td>\n",
       "      <td>1</td>\n",
       "      <td>1</td>\n",
       "    </tr>\n",
       "    <tr>\n",
       "      <th>3</th>\n",
       "      <td>climate change Links to FIXING CLIMATE CHANGE ...</td>\n",
       "      <td>0.000000</td>\n",
       "      <td>0.000000</td>\n",
       "      <td>0</td>\n",
       "      <td>climate change links to fixing climate change ...</td>\n",
       "      <td>1</td>\n",
       "      <td>1</td>\n",
       "      <td>0.000000</td>\n",
       "      <td>0.000000</td>\n",
       "      <td>0</td>\n",
       "      <td>0.000000</td>\n",
       "      <td>0.000000</td>\n",
       "      <td>0</td>\n",
       "      <td>1</td>\n",
       "      <td>1</td>\n",
       "    </tr>\n",
       "    <tr>\n",
       "      <th>4</th>\n",
       "      <td>climate change The 11TH HOUR FOR THE EARTH cli...</td>\n",
       "      <td>0.000000</td>\n",
       "      <td>0.000000</td>\n",
       "      <td>0</td>\n",
       "      <td>climate change the hour for the earth climatec...</td>\n",
       "      <td>1</td>\n",
       "      <td>1</td>\n",
       "      <td>0.000000</td>\n",
       "      <td>0.000000</td>\n",
       "      <td>0</td>\n",
       "      <td>0.000000</td>\n",
       "      <td>0.000000</td>\n",
       "      <td>0</td>\n",
       "      <td>1</td>\n",
       "      <td>1</td>\n",
       "    </tr>\n",
       "  </tbody>\n",
       "</table>\n",
       "</div>"
      ],
      "text/plain": [
       "                                                text  polarity  subjectivity  \\\n",
       "0  The death of summer Arctic ice our Earth coole... -0.054365      0.426984   \n",
       "1  Elsevier and the EditorsinChief are pleased to...  0.387500      0.633333   \n",
       "2  From better climate change education to improv...  0.261905      0.345238   \n",
       "3  climate change Links to FIXING CLIMATE CHANGE ...  0.000000      0.000000   \n",
       "4  climate change The 11TH HOUR FOR THE EARTH cli...  0.000000      0.000000   \n",
       "\n",
       "   Label                                            cleaned  Vader_Prediction  \\\n",
       "0     -1  the death of summer arctic ice our earth coole...                -1   \n",
       "1      1  elsevier and the editorsinchief are pleased to...                 1   \n",
       "2      1  from better climate change education to improv...                 1   \n",
       "3      0  climate change links to fixing climate change ...                 1   \n",
       "4      0  climate change the hour for the earth climatec...                 1   \n",
       "\n",
       "   C_Vader_Prediction  TextBlob_Subjectivity  TextBlob_Polarity  \\\n",
       "0                  -1               0.426984          -0.054365   \n",
       "1                   1               0.633333           0.387500   \n",
       "2                   1               0.345238           0.261905   \n",
       "3                   1               0.000000           0.000000   \n",
       "4                   1               0.000000           0.000000   \n",
       "\n",
       "   TextBlob_Analysis  CTextBlob_Subjectivity  CTextBlob_Polarity  \\\n",
       "0                 -1                0.426984           -0.054365   \n",
       "1                  1                0.633333            0.387500   \n",
       "2                  1                0.345238            0.261905   \n",
       "3                  0                0.000000            0.000000   \n",
       "4                  0                0.000000            0.000000   \n",
       "\n",
       "   CTextBlob_Analysis  Flair_Sentiment  C_Flair_Sentiment  \n",
       "0                  -1               -1                 -1  \n",
       "1                   1                1                  1  \n",
       "2                   1                1                  1  \n",
       "3                   0                1                  1  \n",
       "4                   0                1                  1  "
      ]
     },
     "execution_count": 216,
     "metadata": {},
     "output_type": "execute_result"
    }
   ],
   "source": [
    "df.head()"
   ]
  },
  {
   "cell_type": "code",
   "execution_count": 221,
   "metadata": {},
   "outputs": [
    {
     "name": "stdout",
     "output_type": "stream",
     "text": [
      "Accuracy: 0.3181818181818182\n",
      "\n",
      "              precision    recall  f1-score   support\n",
      "\n",
      "          -1       0.19      0.57      0.29        61\n",
      "           0       0.00      0.00      0.00       179\n",
      "           1       0.43      0.58      0.49       156\n",
      "\n",
      "    accuracy                           0.32       396\n",
      "   macro avg       0.21      0.39      0.26       396\n",
      "weighted avg       0.20      0.32      0.24       396\n",
      "\n"
     ]
    },
    {
     "name": "stderr",
     "output_type": "stream",
     "text": [
      "/Users/tessanderson/anaconda3/envs/thesiswork/lib/python3.10/site-packages/sklearn/metrics/_classification.py:1469: UndefinedMetricWarning:\n",
      "\n",
      "Precision and F-score are ill-defined and being set to 0.0 in labels with no predicted samples. Use `zero_division` parameter to control this behavior.\n",
      "\n",
      "/Users/tessanderson/anaconda3/envs/thesiswork/lib/python3.10/site-packages/sklearn/metrics/_classification.py:1469: UndefinedMetricWarning:\n",
      "\n",
      "Precision and F-score are ill-defined and being set to 0.0 in labels with no predicted samples. Use `zero_division` parameter to control this behavior.\n",
      "\n",
      "/Users/tessanderson/anaconda3/envs/thesiswork/lib/python3.10/site-packages/sklearn/metrics/_classification.py:1469: UndefinedMetricWarning:\n",
      "\n",
      "Precision and F-score are ill-defined and being set to 0.0 in labels with no predicted samples. Use `zero_division` parameter to control this behavior.\n",
      "\n"
     ]
    }
   ],
   "source": [
    "from sklearn.metrics import accuracy_score, classification_report\n",
    "\n",
    "accuracy = accuracy_score(df['Label'],df['C_Flair_Sentiment'])\n",
    "\n",
    "print(\"Accuracy: {}\\n\".format(accuracy))\n",
    "\n",
    "print(classification_report(df['Label'],df['C_Flair_Sentiment']))"
   ]
  },
  {
   "cell_type": "code",
   "execution_count": 218,
   "metadata": {},
   "outputs": [
    {
     "data": {
      "text/plain": [
       "<sklearn.metrics._plot.confusion_matrix.ConfusionMatrixDisplay at 0x29dae4280>"
      ]
     },
     "execution_count": 218,
     "metadata": {},
     "output_type": "execute_result"
    },
    {
     "data": {
      "image/png": "[encoded data removed]",
      "text/plain": [
       "<Figure size 640x480 with 2 Axes>"
      ]
     },
     "metadata": {},
     "output_type": "display_data"
    }
   ],
   "source": [
    "from sklearn.metrics import confusion_matrix, ConfusionMatrixDisplay\n",
    "cm = confusion_matrix(df['Label'], df['Flair_Sentiment'])\n",
    "disp = ConfusionMatrixDisplay(confusion_matrix=cm)\n",
    "disp.plot()"
   ]
  }
 ],
 "metadata": {
  "kernelspec": {
   "display_name": "thesiswork",
   "language": "python",
   "name": "python3"
  },
  "language_info": {
   "codemirror_mode": {
    "name": "ipython",
    "version": 3
   },
   "file_extension": ".py",
   "mimetype": "text/x-python",
   "name": "python",
   "nbconvert_exporter": "python",
   "pygments_lexer": "ipython3",
   "version": "3.10.13"
  },
  "orig_nbformat": 4
 },
 "nbformat": 4,
 "nbformat_minor": 2
}
