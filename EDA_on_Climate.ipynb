{
 "cells": [
  {
   "cell_type": "markdown",
   "metadata": {},
   "source": [
    "### EDA on Climate Text Data"
   ]
  },
  {
   "cell_type": "markdown",
   "metadata": {},
   "source": [
    "#### Importing Necessary Packages"
   ]
  },
  {
   "cell_type": "code",
   "execution_count": 1,
   "metadata": {},
   "outputs": [],
   "source": [
    "import pandas as pd\n",
    "import numpy as np\n",
    "import matplotlib.pyplot as plt\n",
    "import seaborn as sns\n",
    "%matplotlib inline\n",
    "\n",
    "import plotly as py\n",
    "import cufflinks as cf\n",
    "\n",
    "from plotly.offline import iplot\n",
    "\n",
    "import textblob"
   ]
  },
  {
   "cell_type": "code",
   "execution_count": 2,
   "metadata": {},
   "outputs": [
    {
     "data": {
      "text/html": [
       "        <script type=\"text/javascript\">\n",
       "        window.PlotlyConfig = {MathJaxConfig: 'local'};\n",
       "        if (window.MathJax && window.MathJax.Hub && window.MathJax.Hub.Config) {window.MathJax.Hub.Config({SVG: {font: \"STIX-Web\"}});}\n",
       "        if (typeof require !== 'undefined') {\n",
       "        require.undef(\"plotly\");\n",
       "        requirejs.config({\n",
       "            paths: {\n",
       "                'plotly': ['https://cdn.plot.ly/plotly-2.12.1.min']\n",
       "            }\n",
       "        });\n",
       "        require(['plotly'], function(Plotly) {\n",
       "            window._Plotly = Plotly;\n",
       "        });\n",
       "        }\n",
       "        </script>\n",
       "        "
      ]
     },
     "metadata": {},
     "output_type": "display_data"
    },
    {
     "data": {
      "text/html": [
       "        <script type=\"text/javascript\">\n",
       "        window.PlotlyConfig = {MathJaxConfig: 'local'};\n",
       "        if (window.MathJax && window.MathJax.Hub && window.MathJax.Hub.Config) {window.MathJax.Hub.Config({SVG: {font: \"STIX-Web\"}});}\n",
       "        if (typeof require !== 'undefined') {\n",
       "        require.undef(\"plotly\");\n",
       "        requirejs.config({\n",
       "            paths: {\n",
       "                'plotly': ['https://cdn.plot.ly/plotly-2.12.1.min']\n",
       "            }\n",
       "        });\n",
       "        require(['plotly'], function(Plotly) {\n",
       "            window._Plotly = Plotly;\n",
       "        });\n",
       "        }\n",
       "        </script>\n",
       "        "
      ]
     },
     "metadata": {},
     "output_type": "display_data"
    }
   ],
   "source": [
    "py.offline.init_notebook_mode(connected = True)\n",
    "cf.go_offline()"
   ]
  },
  {
   "cell_type": "markdown",
   "metadata": {},
   "source": [
    "#### Data Import & Formatting the Dataset for Sentiment Analysis"
   ]
  },
  {
   "cell_type": "code",
   "execution_count": 3,
   "metadata": {},
   "outputs": [
    {
     "data": {
      "text/html": [
       "<div>\n",
       "<style scoped>\n",
       "    .dataframe tbody tr th:only-of-type {\n",
       "        vertical-align: middle;\n",
       "    }\n",
       "\n",
       "    .dataframe tbody tr th {\n",
       "        vertical-align: top;\n",
       "    }\n",
       "\n",
       "    .dataframe thead th {\n",
       "        text-align: right;\n",
       "    }\n",
       "</style>\n",
       "<table border=\"1\" class=\"dataframe\">\n",
       "  <thead>\n",
       "    <tr style=\"text-align: right;\">\n",
       "      <th></th>\n",
       "      <th>id</th>\n",
       "      <th>date</th>\n",
       "      <th>retweets</th>\n",
       "      <th>source</th>\n",
       "      <th>author</th>\n",
       "      <th>likes</th>\n",
       "      <th>text</th>\n",
       "      <th>twitter_name</th>\n",
       "      <th>location</th>\n",
       "      <th>verified</th>\n",
       "      <th>followers</th>\n",
       "      <th>friends</th>\n",
       "      <th>polarity</th>\n",
       "      <th>subjectivity</th>\n",
       "    </tr>\n",
       "  </thead>\n",
       "  <tbody>\n",
       "    <tr>\n",
       "      <th>0</th>\n",
       "      <td>2184934963</td>\n",
       "      <td>2020-12-22 23:22:20</td>\n",
       "      <td>71</td>\n",
       "      <td>Twitter Web App</td>\n",
       "      <td>GO GREEN</td>\n",
       "      <td>91</td>\n",
       "      <td>The death of summer Arctic ice our Earth coole...</td>\n",
       "      <td>ECOWARRIORSS</td>\n",
       "      <td>NaN</td>\n",
       "      <td>False</td>\n",
       "      <td>23415</td>\n",
       "      <td>20439</td>\n",
       "      <td>-0.054365</td>\n",
       "      <td>0.426984</td>\n",
       "    </tr>\n",
       "    <tr>\n",
       "      <th>1</th>\n",
       "      <td>508658626</td>\n",
       "      <td>2020-12-10 14:30:00</td>\n",
       "      <td>14</td>\n",
       "      <td>Twitter for Advertisers</td>\n",
       "      <td>Elsevier Energy</td>\n",
       "      <td>98</td>\n",
       "      <td>Elsevier and the EditorsinChief are pleased to...</td>\n",
       "      <td>ElsevierEnergy</td>\n",
       "      <td>Oxford, England</td>\n",
       "      <td>False</td>\n",
       "      <td>6615</td>\n",
       "      <td>508</td>\n",
       "      <td>0.387500</td>\n",
       "      <td>0.633333</td>\n",
       "    </tr>\n",
       "    <tr>\n",
       "      <th>2</th>\n",
       "      <td>2607105006</td>\n",
       "      <td>2020-12-22 21:28:52</td>\n",
       "      <td>0</td>\n",
       "      <td>Twitter Web App</td>\n",
       "      <td>Arwyn Thomas</td>\n",
       "      <td>1</td>\n",
       "      <td>From better climate change education to improv...</td>\n",
       "      <td>siwarr5</td>\n",
       "      <td>Carmarthen</td>\n",
       "      <td>False</td>\n",
       "      <td>22</td>\n",
       "      <td>133</td>\n",
       "      <td>0.261905</td>\n",
       "      <td>0.345238</td>\n",
       "    </tr>\n",
       "    <tr>\n",
       "      <th>3</th>\n",
       "      <td>19609660</td>\n",
       "      <td>2020-12-22 21:24:10</td>\n",
       "      <td>0</td>\n",
       "      <td>Twitter Web App</td>\n",
       "      <td>Tom Gillispie, EDITOR/WRITER</td>\n",
       "      <td>0</td>\n",
       "      <td>climate change Links to FIXING CLIMATE CHANGE ...</td>\n",
       "      <td>EDITORatWORK</td>\n",
       "      <td>Rural Hall, North Carolina, USA</td>\n",
       "      <td>False</td>\n",
       "      <td>4191</td>\n",
       "      <td>3708</td>\n",
       "      <td>0.000000</td>\n",
       "      <td>0.000000</td>\n",
       "    </tr>\n",
       "    <tr>\n",
       "      <th>4</th>\n",
       "      <td>19609660</td>\n",
       "      <td>2020-12-21 22:52:09</td>\n",
       "      <td>1</td>\n",
       "      <td>Twitter Web App</td>\n",
       "      <td>Tom Gillispie, EDITOR/WRITER</td>\n",
       "      <td>1</td>\n",
       "      <td>climate change The 11TH HOUR FOR THE EARTH cli...</td>\n",
       "      <td>EDITORatWORK</td>\n",
       "      <td>Rural Hall, North Carolina, USA</td>\n",
       "      <td>False</td>\n",
       "      <td>4191</td>\n",
       "      <td>3708</td>\n",
       "      <td>0.000000</td>\n",
       "      <td>0.000000</td>\n",
       "    </tr>\n",
       "  </tbody>\n",
       "</table>\n",
       "</div>"
      ],
      "text/plain": [
       "           id                 date  retweets                   source  \\\n",
       "0  2184934963  2020-12-22 23:22:20        71          Twitter Web App   \n",
       "1   508658626  2020-12-10 14:30:00        14  Twitter for Advertisers   \n",
       "2  2607105006  2020-12-22 21:28:52         0          Twitter Web App   \n",
       "3    19609660  2020-12-22 21:24:10         0          Twitter Web App   \n",
       "4    19609660  2020-12-21 22:52:09         1          Twitter Web App   \n",
       "\n",
       "                         author  likes  \\\n",
       "0                      GO GREEN     91   \n",
       "1               Elsevier Energy     98   \n",
       "2                  Arwyn Thomas      1   \n",
       "3  Tom Gillispie, EDITOR/WRITER      0   \n",
       "4  Tom Gillispie, EDITOR/WRITER      1   \n",
       "\n",
       "                                                text    twitter_name  \\\n",
       "0  The death of summer Arctic ice our Earth coole...    ECOWARRIORSS   \n",
       "1  Elsevier and the EditorsinChief are pleased to...  ElsevierEnergy   \n",
       "2  From better climate change education to improv...         siwarr5   \n",
       "3  climate change Links to FIXING CLIMATE CHANGE ...    EDITORatWORK   \n",
       "4  climate change The 11TH HOUR FOR THE EARTH cli...    EDITORatWORK   \n",
       "\n",
       "                          location  verified  followers  friends  polarity  \\\n",
       "0                              NaN     False      23415    20439 -0.054365   \n",
       "1                  Oxford, England     False       6615      508  0.387500   \n",
       "2                       Carmarthen     False         22      133  0.261905   \n",
       "3  Rural Hall, North Carolina, USA     False       4191     3708  0.000000   \n",
       "4  Rural Hall, North Carolina, USA     False       4191     3708  0.000000   \n",
       "\n",
       "   subjectivity  \n",
       "0      0.426984  \n",
       "1      0.633333  \n",
       "2      0.345238  \n",
       "3      0.000000  \n",
       "4      0.000000  "
      ]
     },
     "execution_count": 3,
     "metadata": {},
     "output_type": "execute_result"
    }
   ],
   "source": [
    "df = pd.read_csv('Climate_twitter.csv')\n",
    "df.head()"
   ]
  },
  {
   "cell_type": "code",
   "execution_count": 4,
   "metadata": {},
   "outputs": [
    {
     "name": "stdout",
     "output_type": "stream",
     "text": [
      "<class 'pandas.core.frame.DataFrame'>\n",
      "RangeIndex: 396 entries, 0 to 395\n",
      "Data columns (total 3 columns):\n",
      " #   Column        Non-Null Count  Dtype  \n",
      "---  ------        --------------  -----  \n",
      " 0   text          396 non-null    object \n",
      " 1   polarity      396 non-null    float64\n",
      " 2   subjectivity  396 non-null    float64\n",
      "dtypes: float64(2), object(1)\n",
      "memory usage: 9.4+ KB\n"
     ]
    }
   ],
   "source": [
    "df = df.drop(columns=['id','date','source','author','twitter_name','location','verified','retweets','likes','followers','friends'])\n",
    "df.info()"
   ]
  },
  {
   "cell_type": "code",
   "execution_count": 5,
   "metadata": {},
   "outputs": [
    {
     "data": {
      "text/html": [
       "<div>\n",
       "<style scoped>\n",
       "    .dataframe tbody tr th:only-of-type {\n",
       "        vertical-align: middle;\n",
       "    }\n",
       "\n",
       "    .dataframe tbody tr th {\n",
       "        vertical-align: top;\n",
       "    }\n",
       "\n",
       "    .dataframe thead th {\n",
       "        text-align: right;\n",
       "    }\n",
       "</style>\n",
       "<table border=\"1\" class=\"dataframe\">\n",
       "  <thead>\n",
       "    <tr style=\"text-align: right;\">\n",
       "      <th></th>\n",
       "      <th>text</th>\n",
       "      <th>polarity</th>\n",
       "      <th>subjectivity</th>\n",
       "      <th>label</th>\n",
       "    </tr>\n",
       "  </thead>\n",
       "  <tbody>\n",
       "    <tr>\n",
       "      <th>0</th>\n",
       "      <td>The death of summer Arctic ice our Earth coole...</td>\n",
       "      <td>-0.054365</td>\n",
       "      <td>0.426984</td>\n",
       "      <td>-1</td>\n",
       "    </tr>\n",
       "    <tr>\n",
       "      <th>1</th>\n",
       "      <td>Elsevier and the EditorsinChief are pleased to...</td>\n",
       "      <td>0.387500</td>\n",
       "      <td>0.633333</td>\n",
       "      <td>1</td>\n",
       "    </tr>\n",
       "    <tr>\n",
       "      <th>2</th>\n",
       "      <td>From better climate change education to improv...</td>\n",
       "      <td>0.261905</td>\n",
       "      <td>0.345238</td>\n",
       "      <td>1</td>\n",
       "    </tr>\n",
       "    <tr>\n",
       "      <th>3</th>\n",
       "      <td>climate change Links to FIXING CLIMATE CHANGE ...</td>\n",
       "      <td>0.000000</td>\n",
       "      <td>0.000000</td>\n",
       "      <td>0</td>\n",
       "    </tr>\n",
       "    <tr>\n",
       "      <th>4</th>\n",
       "      <td>climate change The 11TH HOUR FOR THE EARTH cli...</td>\n",
       "      <td>0.000000</td>\n",
       "      <td>0.000000</td>\n",
       "      <td>0</td>\n",
       "    </tr>\n",
       "  </tbody>\n",
       "</table>\n",
       "</div>"
      ],
      "text/plain": [
       "                                                text  polarity  subjectivity  \\\n",
       "0  The death of summer Arctic ice our Earth coole... -0.054365      0.426984   \n",
       "1  Elsevier and the EditorsinChief are pleased to...  0.387500      0.633333   \n",
       "2  From better climate change education to improv...  0.261905      0.345238   \n",
       "3  climate change Links to FIXING CLIMATE CHANGE ...  0.000000      0.000000   \n",
       "4  climate change The 11TH HOUR FOR THE EARTH cli...  0.000000      0.000000   \n",
       "\n",
       "   label  \n",
       "0     -1  \n",
       "1      1  \n",
       "2      1  \n",
       "3      0  \n",
       "4      0  "
      ]
     },
     "execution_count": 5,
     "metadata": {},
     "output_type": "execute_result"
    }
   ],
   "source": [
    "conditions = [\n",
    "    (df['polarity'] <= -0.05),\n",
    "    (df['polarity'] > -0.05) & (df['polarity'] < 0.05),\n",
    "    (df['polarity'] >= 0.05)]\n",
    "\n",
    "values = [-1,0,1]\n",
    "\n",
    "df['label'] = np.select(conditions, values)\n",
    "\n",
    "df.head()"
   ]
  },
  {
   "cell_type": "code",
   "execution_count": 6,
   "metadata": {},
   "outputs": [
    {
     "name": "stdout",
     "output_type": "stream",
     "text": [
      "<class 'pandas.core.frame.DataFrame'>\n",
      "RangeIndex: 396 entries, 0 to 395\n",
      "Data columns (total 4 columns):\n",
      " #   Column        Non-Null Count  Dtype  \n",
      "---  ------        --------------  -----  \n",
      " 0   text          396 non-null    object \n",
      " 1   polarity      396 non-null    float64\n",
      " 2   subjectivity  396 non-null    float64\n",
      " 3   label         396 non-null    int64  \n",
      "dtypes: float64(2), int64(1), object(1)\n",
      "memory usage: 12.5+ KB\n"
     ]
    }
   ],
   "source": [
    "df.info()"
   ]
  },
  {
   "cell_type": "code",
   "execution_count": 7,
   "metadata": {},
   "outputs": [
    {
     "name": "stdout",
     "output_type": "stream",
     "text": [
      "<class 'pandas.core.frame.DataFrame'>\n",
      "RangeIndex: 396 entries, 0 to 395\n",
      "Data columns (total 4 columns):\n",
      " #   Column        Non-Null Count  Dtype  \n",
      "---  ------        --------------  -----  \n",
      " 0   text          396 non-null    string \n",
      " 1   polarity      396 non-null    float64\n",
      " 2   subjectivity  396 non-null    float64\n",
      " 3   label         396 non-null    int64  \n",
      "dtypes: float64(2), int64(1), string(1)\n",
      "memory usage: 12.5 KB\n"
     ]
    }
   ],
   "source": [
    "# convert text column to string for easier processing\n",
    "df['text'] = df['text'].astype(\"string\")\n",
    "df.info()"
   ]
  },
  {
   "cell_type": "markdown",
   "metadata": {},
   "source": [
    "#### Preprocessing Text"
   ]
  },
  {
   "cell_type": "code",
   "execution_count": 8,
   "metadata": {},
   "outputs": [
    {
     "data": {
      "text/plain": [
       "'The death of summer Arctic ice our Earth cooler is now just a few years away if not sooner triggering a world wide climate planet break down supercharging global warming leaving much of the planet hostile to life abrupt climate change is only a matter of timeEnd fossil fuel Elsevier and the EditorsinChief are pleased to share the first volume of Energy and Climate Change now available on ScienceDirect Get FREE ACCESS until 1 June 2021 From better climate change education to improved sustainability heres what 2020 got right about environmental justice and global warming climate change environment hometopstory climate change Links to FIXING CLIMATE CHANGE climatechange CO2 global warming climate change The 11TH HOUR FOR THE EARTH climatechange global warming GlobalWarming For years now scientists and governments have discussed and debated the effects of climate change and global warming Very little has been doneHave a look at Climate Change over the Centuryenvironment climate Change The growing impacts of climate change have already pushed more than 18 million people to migrate within South Asian countries but that could more than triple if global warming continues on its current path researchers have warned Reuters deserts forests TURNING DESERTS INTO FORESTS climate change CO2 global warming The Federal Reserve on Tuesday took its most significant step forward on climate change announcing that it joined a group of some 75 other central banks focused on rooting out the risk warming poses to the global financial system via grist cravecreative johnjakester Ordinary men should be required reading for all humans in positions of powerTHALIDOMIDECovid amp CO2 are lies built on inconvenient truthsBaby BOOMER Bust due to SEASONAL flu amp old ageMilankovitch cycles cause Climate ChangeObliquity is causing Global Warming THALIDOMIDECovid amp CO2 are lies built on inconvenient truthsBaby BOOMER Bust due to SEASONAL flu amp old ageMilankovitch cycles cause Climate ChangeObliquity is causing Global WarmingPrecession Will cause Global Tsunamis at vernal equinoxesWwG1WgA Humanity Global warming is likely to cause global atmospheric circulation to change and progressively revert to a situation similar to that of 5000 to 10000 years agoClimateChange Climate ClimateAction Planetwarming carbon dioxide emissions from buildings and construction are jeopardising global goals to keep devastating climate change at bay Reuters Warming oceans contribute to storms that could drop 5 feet of snow on some towns in Japan this week This isnt just the kind of global weirding that defines 2020 its the change of climate systems that will redefine how we live in decades to come ClimateAction climate climate change NEW links to FIXING CLIMATE CHANGE climatechange CO2 global warming cutting emissions globeandmail I wonder whyThe media and our govts are lying to usThe Milankovitch cycles cause climate change Global warming and global tsunamis at the vernal equinoxesCovid is the Baby Boomer Bust due to the seasonal FLU and old age Global CO2 emissions from fossil fuel and industry are expected to drop in 2020 While it wont slow the pace of global warming it serves as a unique opportunity to secure longterm emissions cuts by following an economic recovery aligned with tackling climate change In 2019 a UN climate science report said the way the world manages land and how food is produced and consumed had to change to curb global warming or food security health and biodiversity would be at riskClimateChange climate Oil major Exxon Mobil Corp said on Monday it planned to reduce its greenhouse gas emissions over the next five years as investors and climate change campaigners ratchet up the pressure for action to limit global warming climate Emergency call on climate change from Guterres United Nations SecretaryGeneral Antonio Guterres in his speech at the climate change summit For world leaders to take action to avoid global warming He said they should declare a climate emergency 15 is the preferred limit on global warming as per the Paris Agreement five years old this week 15 was chosen as it would significantly reduce risks and the impact of climate change FightFor1Point5 FridaysForFuture DigitalStrike ClimateStrikeOnline klimat climate TaariniNB This behavior because of Human nature Global warming Climate change more rain to come by today evening or night till 13th December night Mumbai unseasonal rains Its very alarming for World that Nov montha winter month recorded warming climate month Warm conditions persisted over large swaths of planet climate changeGlobal warming will change our food fm Tea to Ricelife stylebody shapebehaviour in next 20 yrsour next generation Climate Change If CO2 and other GHG emissions are not rapidly reduced the world will likely exceed global warming of 15C between 2026 and 2042 The ParisAgreement seeks to limit warming to below 2C UN ClimateChange climate Senate UNEP politics NOAA NWS NOAANCEIclimate Nobody happier than the climate change wackos that lyin jiebiden might be president The hoax of global cooling oops global warming oops climate change will be perpetuated climate NewBlog On Global Warming in Local Discourses How Communities around the World Make Sense of Climate Change by Domenic RotundoRead now Global Warming in Local Discourses constitutes a significant new contribution to understanding the multiperspectivity of our debates on climate change further highlighting the need for interdisciplinary study within this area 56 OutNow in OA Global Warming in Local Discourses How Communities around the World Make Sense of Climate Change by Michael Brggemann and Simone Rdder edsRead and download this title for free andor get your own hard copy at 16 To limit global warming to 15 degrees Celsius 27 degrees Fahrenheit which scientists say would avoid the most catastrophic impacts of climate change countries need to wind down their fossil fuel production by 6 every year between now and 2030GlobalWarming Climate deniseshrivell How many Australians actually get the urgent overarching threat is climate changeAt 2degeesC global warming 99 of corals wont surviveGreatBarrierReef is in a critical condition due to 3 mass bleaching from marine heat wavesWe r fast running out of timeclimate I worried about global warming amp climate change until I realized earth will live It may shed us like a virus burning us off with a climate induced fever until none of us exist but the planet will still be existI for one welcome the sweet silence of eradicated humanity NewZealand has joined 30 states in declaring an emergency in the country due to the threat of climate change According to research this island nation will be particularly affected by global warming and Rtd Associate Professor of Cotton University Assam He discussed about the types of environment and its components and major environmental issues which have led to climate change He also highlighted issues like Global Warming and Green House Effect The worlds governments plan to produce more than double the amount of coal oil and gas in 2030 than would be consistent with curbing global warming says new report in latest warning over climate change fossilfuels ProductionGap UNEP Optimistic analysis of netzero target This only indicates that we still can fight global warmingA 5050 change for 21C is still a warming level that threatens our planetWe need real climate action and accountable reductions in 2030 targets ParisAgreement climate The 11TH HOUR FOR THE EARTH change climatechange global warming ShadyCrossing YouTube Probably because you dont know what he wss referring toNazarene meant truth tellerLike Milankovitch cycles cause climate change Global Warming Global Tsunamis at the vernal equinoxes every 130 lifetimes tmischuk CanadaInPeril Lumberist No they are like rats fleeing a sinking ship on their VTVL rockets and space arcsMilankovitch cycles cause climate change Global Warming Global Tsunamis at the vernal equinoxesEarth is a closed loop that self regulates co2 with life maparker21 Lumberist burnThe Milankovitch cycles cause Climate Change Global Warming Global Tsunamis at the vernal equinoxesCovid1984 is baby Boomer Bust from Seasonal FLU and old age I sure wish global warming would get the level of concern that coronavirus has In the next decades changes in climate are still going to kill displace and harm more people than the virus ever willpriorities politics coronavirus climate lamphieryeg Thats why they stopped calling it global warming and changed it to climate change Hard to argue that the climate changes And wtf is a climate denier Are leaders really that stupid or just fucking sinister with their own agenda JustinTrudeau stupid or sinister climate If BidenHarris JohnKerry JoeBiden really mean they will fight climate change will they stop EU logging millions acres US forest for bio wood that is increasing emissionsfueling global warming and calling it green keepitintheground climatechange JohnKerry who ran in The presidential primary will be named Special Presidential Envoy for Climate Congratulations Mr Kerry has been actively advocating on climate change amp global warming Climate ClimateAction DemVoice1 climate change Links to FIXING CLIMATE CHANGE climatechange CO2 global warming environment Some years ago she also began seeing something else the impact global warming and climate change were having on the desert surrounding her homeSo Millet did what authors do She wrote about it climate Global warming and climate change are often used interchangeably but the two terms have distinct meanings check out this interesting resource for NASA definition climate GreenParty climatePart IIPLASTICSImpacts on climate changePlastic which is a petroleum product also contributes to global warming If plastic waste is incinerated it releases carbon dioxide into the atmosphere thereby increasing carbon emissions The world should react with the same urgency to climate change as is to the coronavirus crisis the Red Cross says warning that global warming poses a greater threat than COVID19Read more GlobalWarming ClimateCrisis climate ClimateAction Climate Change poses a much larger threat than coronavirus warned Red Cross recently calling out nations to act with urgency on the issue of global warmingclimate ClimateEmergency WHO GlobalWarming UNFCCC Covid19 coronavirus Japan JoeBiden On Tuesday Red Cross said that the world should react with the same urgency to climate change as to the coronavirus crisis warning that global warming poses a greater threat than Covid19s63 climate ClimateJusticeNow ClimateAction climatechange ClimateJustice Climate change global warming global cooling Saving energies are very important for global warmingglobal warmingclimate change MrBeastYT Milankovitch cycles cause climate changeObliquity causes global warmingPrecession causes Global tsunamisEccentricity is the triggerCovid is a lie built on the Baby BOOMER Bust due to Seasonal FLU amp old ageThese are inconvenient truthsWwG1WgA Humanity Covid amp co2 are LIES built on inconvenient truthsMilankovitch cycles cause climate changeObliquity causes global warmingPrecession causes global tsunamis at the equinoxsEccentricity is the triggerCovid is the Baby BOOMER Bust due to Seasonal FLU amp old age Milankovitch Cycles cause climate change Obliquity causes Global WarmingPrecession causes Global Tsunamis equinoxes Eccentricity is the triggerBuildThatWall BuildThatRRCovid is Seasonal FLU Baby Boomer Bust realDonaldTrump BrianKempGA Milankovitch Cycles cause climate change Obliquity causes Global WarmingPrecession causes Global Tsunamis equinoxes Eccentricity is the triggerCovid is Seasonal FLU Baby Boomer Bust Reactions from halfadozen leading climate scientists to the study which the authors acknowledge is schematic varied sharply ClimateChange GlobalWarming CO2 CarbonEmission ClimateEmergency This will fuel global warming and climate changeMay 2017 to Sept 2020 just look at how much of Amazon has been destroyed millions of acres and Brazils carbon emissions increased by 96 in 2019 aloneBidenHarris2020 impose sanctions for sake of all humanity life on Earth Climate change is already here reportno longer possible to limit global warming to 15 degrees but it may be possible to contain it to two degreesTime for climate wars to stop auspol Glaciers in Chinas bleak Qilian mountains are disappearing at a shocking rate as global warming brings unpredictable change amp raises the prospect of cripplinglongterm water shortages scientists sayGlobalWarming climate green planet climatechange Presidentelect Joe Biden is poised to embed action on climate change across the breadth of the federal government from the departments of Agriculture to Treasury to State expanding it beyond environmental agencies to speed US efforts to mitigate global warming Presidentelect Joe Biden is poised to embed action on climate change across the breadth of the federal government expanding it beyond environmental agencies to speed US efforts to mitigate global warming via washingtonpost Interested in Global Warming Check out this new app from our partners at UEA to get more info about the affect climate change might have where you live climatechange climate app Covid amp CO2 are LIES built on inconvenient truthsCovid Baby Boomer Bust due to seasonal FLU amp old ageClimate Change is built on the Milankovitch cyclesObliquity is causing global warmingPrecession will cause Global Tsunamis at the Vernal Equinox What Brazil is doing will impact every life form on the planet burning down the Amazon fueling global warming and climate changeAmazon fires cause Brazils CO2 emissions to jump Emissions jumped 10 in 2019 accelerating as much as 20 in 2020 There is a disconnect between what investors are asking for and what companies are doing Its time investors reassess their approach to climate engagement push hard for businesswide changes needed to see global warming limited to 15C not 354C ESG TYInconvenient truths amp Perennial prophets of DOOMClimate Change is caused by the Milankovitch cyclesObliquity is causing global warmingPrecession will cause Global tsunamisEccentricity is speeding it upCovid19 is the Baby BOOMER Bust amp Seasonal FLU TrudeauWorstPMEver Inconvenient truths amp Perennial prophets of DOOMClimate Change is caused by the Milankovitch cyclesObliquity is causing global warmingPrecession will cause Global tsunamisEccentricity is speeding it upCovid19 is the Baby BOOMER Bust amp Seasonal FLU cathmckenna We never murder the truth No matter how inconvenientClimate Change is caused by the Milankovitch cyclesObliquity is causing global warmingPrecession will cause Global tsunamisEccentricity is speeding it upCovid19 is the Baby BOOMER Bust amp Seasonal FLU curving CO2climate changecoping with global warmingSmart phone charger with solar panel is setting on the ground I wanna curving CO2 as possible climate change NEW Links to FIXING CLIMATE CHANGE climatechange CO2 global warming lawsuits Global Warming and Climate ChangeCauses and Effectsclimatechange environment nature sustainability globalwarming savetheplanet climate climatecrisis climateaction earth climatechangeisreal green fridaysforfuture climatestrike climateemergency earthday 2020 SkS Weekly Climate Change amp Global Warming News Roundup 43Skeptical Science posts 24 October 2020A 2nd realDonaldTrump term would mean severe amp irreversible changes in climateNo joke It would be disastrous on scale of millennia environment Links to CLIMATE CHANGE climatechange climate change global warming What Trumps Environmental Rollbacks Mean for Global Warming This is the disaster Trump has Done and is going worse if you vote for him He cares nothing about enviroment and climate change He must be stoppt Vote for BidentrumpbidenClimate Global Warming Climate Change was DEBUNKED many years agoDemocratsAreCorrupt climate GlobalWarming TCOT This is Weehawk And he is way smarter then Trump and I can prove it He was a fire rescue so he knows climate change and global warming are real and that Trump telling people to rake the forest is just dumb ass Trump bullsht cats climate TrumpMeltdown To the idiot that is PeteButtigieg you can not claim that global warmingclimate change whatever you call it now is this generations WWII If I had to pick between driving a Prius and the beaches of Normandy I would pick the fukng Prius GreenNewDeal climate Trump2020 Theres still time if we act now we CAN take over Climate Change and Global WarmingNAISHATEAM KOSMOSenvironment climate ClimateAction LGBTQ LGBT GreenNewDeal teamkosmos Climate Change PARODYGlobal Warming didnt stick so heres some 16 year old with braids HT gddub climate ClimateAction ClimateCrisis ClimateChange For years now scientists and governments have discussed and debated the effects of climate change and global warming Very little has been doneHave a look at Climate Change over the Centuryclimate Change Century environment curving CO2climate changecoping with global warmingSmart phone charger with solar panel is setting on the ground I wanna curving CO2 as possibleASALW More than 45 of the US is experiencing drought conditions right nowFrom the nytimes Global warming has made drought worse scientists say exemplifying a trend toward more extreme weather as the climate changes Three MustRead Books to Understand Climate ChangeWhat you can do instead is pick a book at your local bookstore or library about climate change global warming and everything related to our planet Read more climate climatechange globalwarming Increase in forest fires is attributed to global warming and climate change about 8 Billion Tons of CO2 per year which accounts to well over 20 of the global CO2emissions spectalite moulded products reducing the risk of a forest fire ClimateAction ClimateCrisis We must reconsider corresponding for climate change and global warmingI give donations to the organization for climate change some timeThis donation comes from some of earnings for capital gainsclimate changecapital gain I think Its time to correspond together for global warmingFirst of all we have to do what we canclimate changeglobal warminggreen house gas ClimateChangeGlobal heating warming up nights faster than daysAsymmetric changes between night day temperatures in many parts of world will have consequences for species inhabiting those regions their ability to adapt in face of changing climate Overpopulation is a major cause of climate change and global warmingDo Family today today climate UNHABITAT unhabitatyouth ippf FP2020Global getittogetherNG AFPnow PopCouncil PMNCH Stopping global warming begins with us Take these 5 Steps to End Climate Changeclimatechange sustainability environment climatecrisis globalwarming renewableenergy sustainable climate SunWatts Save water climate change environmental change global warming justice for the world save the forest no to littering no to poverty face emergency hear our voices save animals save save plants no to deforestation shout out to climate activist keep moving forward emsusglobal warminggreenepapollutionclimate changesustainabilityagencydepenvironmental pollutionLink for registration China going carbon neutral by 2060 will lower globalwarming projections by as much as 03C Thats the biggest single reduction ever estimated as the result of a policy change according to Climate Action Tracker climate Fires do not occur naturally in the Amazon rainforestAmazon deliberately burnt downMillions of acres ever year in most unique bio diversity on Earth and the lungs of the Earth speeding up global warming climate change There are lots of natural disastersmaybe because of global warmingIts time to keep eye on them and take action for global warmingIn my case I am making electricities from sun when Its sunny dayclimate changeglobal warmingnatural resources Climate change A New York clock that told time now tells the time remaining for action to prevent the effects of global warming from becoming irreversible deserts TURNING DESERTS INTO FORESTS climate change CO2 global warming New in satellite technology The data Iris will gather is important because methanes global warming potential is 30 times that of carbon dioxide This could be a game changing technology for the fight against climate change Read more gtgtgt In our increasingly urban world there is so much opportunity for citiesalready responsible for 70 of global greenhousegas emissionsto lead the global fight against climate change Lets continue to reduce greenhouse emissions that are warming our planet engage4impact Over the past few decades climate change and global warming has had a string of adverse effects on the planet And the signs of damage are increasing day by day Its sunny day so I set solar pannel charger on the ground because of decreasing CO2climate changeglobal warming SaintKateriCtr Obama 2013Sea levels are rising due to climate change potentially threatening US citiesObama 2019Buys 15 million dollar mansion on water in Marthas VineyardGlobal warmingclimate change BSThe goalglobal govt AP Obama 2013Sea levels are rising due to climate change potentially threatening US citiesObama 2019Buys 15 million dollar mansion on water in Marthas VineyardGlobal warmingclimate change BSThe goalglobal govt There is nothing Just about allowing yet more gas fossil fuels pouring petrol on the flames of global warming fueling more devastating climate change Parliament votes to allow gas projects in the Just Transition Fund Climate Change Please Climate Science Information Center Please US for cosmetics that again everyone Climate Science Information Center earth Climate Change by the Numbers Humans have caused about 10C 18F of global warming LSorecaEU vonderleyen The New Boss In The House She SPOKE UP TODAYShe Mansion 5 Things To The Big House1 Climate Change 2 Coronavirus Robots3 Brexit not on my plan4 Technology 100 on my plan 5 MigrationsFighting global warming Yes thats right Every single country Molotov Cocktail now referred to as Climate Change Climate Crisis andor Global Warming ArsonExposed Climate Cult Presidential candidate Joe Biden gave a major speech yesterday on the undeniable accelerating punishing reality of global warmingOur country amp our world need leaders from both parties to acknowledge the reality of climate change and then act Trump protocol for Global warming Endless fires in California Yet Trump says its due to poor Forest management So Keep the land clean sweep off leaves Clean up all debris Take care of fallen trees and hope for Early Winter Climate Change is fake myfox8 Right is this report out of the Newsome playbook You know the chapter that proves 3 people intentionally started the latest fires and he claimed them to be from global warming Funny how it stops at the boarders of Canada and Mexico climate change is a hoax climate changeglobal warming Climate Change is as soft a term as they come And people cant even stomach that Global Warming is the original description So get real people Im not an activist on it but I can call a spade a spade Pretty sure Gore was ahead of this climate weather BCStorm Stakeholders in the environment sector have kicked against the method adopted in coal mining activities saying such mining and burning are responsible for global warming and climate change burning cause change climate coal global Mining Stakehol Climate Change Worlds Global Warming Fight ClimateChange climate The wild fires in America are yet another reason for governments around the world to step up their response to climate change and global warming What environmental catastrophe will it take for BorisJohnson to address this pressing issue ClimateChange wildfires2020 Climate Global warming increases the frequency and intensity of forest fires which in turn removes those forests CO2 uptake capacities from the equation thus accelerating global warming Climate change is all about these positive feedback loops Climate Chevron JPMorgan amp Barclays shareholders have endorsed resolutions re global warming amp climate change Pressure on energy firms from powerful investors is increasing rapidly Average investor support increased from 219 in 2019 to 327 in 2020 climate change The 11TH HOUR FOR THE EARTH climatechange global warming Eiger Glacier Eigergletscher Swiss Alps 2015 2020 5 yearsThe repeat photos show that global warming has also affected the Eiger Glacier see Eiger Glacier Swiss glaciers climate change Go Live with Climate Change WebinarMeetings International is organizing Webinar on Climate Change and Global Warming will be hosted on December 14 2020 at 1000 AM GM1Join us for an hour of insights from expertsClimateChangeWebinar GlobalWarmingWebinar curving CO2climate changecoping with global warmingSmart phone charger with solar panel is setting on the ground I wanna curving CO2 as possibleASLW How can we become stimulated to work at the peak of our ability to solve issues of climate change and global warming How can we weave sustainability into education DrTammiSinha will explore these questions at our event on the 23rd Sept UoW nmsaints87124 JustTheNews If there is anything that proves climate change is a lie its this from abcnews in 2008 ABCs FAKE 2008 GLOBAL WARMING SCARE said NYC would be underwater by 2015 People will take sides on climate change for as long as warming is not global Could my perspective help to unify criteria diegofdezsevillawordpress comJune 5 2015 Climate and Data Drinking From the Source by Diego FdezSevilla PhD Registered FYISkyTV SkyNews skytv Last week pontificating on global warming and climate changethis week jetting off half way around the world with a film crew when archive footage could have been usedclimate change hypocrites Ice sheets in Greenland and Antarctica whose melting rates are rapidly increasing have raised the global sea level by 18cm since the 1990s and are matching the Intergovernmental Panel on Climate Changes worstcase climate warming scenarios What price would we have to pay for the emission of one tonne of CO2 to cover all costs Using a climate model to calculate the impact of additional CO2 emissions on global warming and climate change could be the answer SundayThoughts Climate change global warming Coral reefs are among the most threatened ecosystems on Earth largely due to unprecedented global warming and climate changesLearn about the measures we can take to ensure their survival in our Issues Brief IucnOcean RNC RNC Climate Change amp Global Warming Hurricanes and fires Science says climate change is here but the RNC refuses to believe via Climate change amp Global Warming via YouTube ClimateChange climate globalwarming climateconciousnetwork Contact Climate Conscious Network Website Email climateconsciousnetworkgmailcom A child in Gunjure is motivated to grow more than 1000 trees of different seedlings to protect a generation yet unborn against global Warming and Climate change impacts End ClimateEmergency Despite the pandemic support for action to curb climate change has not diminished Backing for government to do more to deal with global warming at 68 percent in May of 2018 was at the same level in 2020 according to the survey issued Monday jswatz Check out A Climate for Change Global Warming Facts for Faith Based Decisions Book by Andrew Farley and Katharine Hayhoe Pdf Download climate climatechange environment nature globalwarming climatecrisis climateaction savetheplanet earth Although temporary changes can help you need to reduce CO2 permanently to make a dent in global warming said Prof Piers Forster from the University of Leeds climate pandemic The link between climate change and bigger fires is inextricable Temperatures are two to three degrees F warmer now than they wouldve been without global warming KendraWrites jswatz Protect the West and our Climate Demand CleanerCars Climate Change and Global Warming is the biggest problem considered by millennialsWe know our prioritiesclimate ClimateCrisis GlobalWarming Sustainable RenewableEnergy ClimateChange Due to COVID19 pandemic impact only first section of IPCC report on science of global warming will be ready for Glasgow COP26 in November 2021 Other two sections climate change impacts amp ways to cut GHG emissions amp IPCC synthesis report will follow only in 2022 The main greenhouse gas is not counted as an airpollutant because it does not appear to affect health However there are links between climate change amp global warming such as the atmospheric concentration of some pollutants in the air 3 Questions Asegun Henry on five grand thermal challenges to stem the tide of global warming Our mission here is to save humanity from extinction due to climate change says MIT professor MIT KTHresearch GretaThunberg LeoDiCaprio algore climate New research reveals effect of global warming on Greenland ice melt high sensitivity of the polar regions to climate change via physorgcom climate science SciChat environment Climate JC The Role of Tropical Midlatitude and Polar CloudRadiative Changes for the Midlatitude Circulation Response to Global Warming How to make Seedboms UDBHAVA plantation Environment climate change globalwarming Climate change is poised to thaw and undermine the soil beneath ConocoPhillips proposed Willow oil drilling project on Alaskas North Slope making its rigs and roads vulnerable to the same global warming the project will be aggravating The COVID19 crisis presents an opportunity to change course a make or break moment for global climate targets The world could avoid 03C of global warming by 2050 if governments invest in green recovery BuildBackBetter Read on CarbonBrief PrafullSundriy1 and I talked about Global Warming and Climate change with students of Hillman School Agra A humble attempt to take Climate discourse to schools Happy Independence day Sustainability climatechange Globalwarming indianindependenceday environment Climate JC Seasonal Dependency of Tropical Precipitation Change under Global Warming nature beloved sun childrens book icemelt is normal global warming is not happening climate change is normal michaelchrichton stateoffear Littleknown verifiable climate change fact 3Global warming is primarily higher nighttime lows especially in winter and near the polesClimate ClimateChange ClimateEmergency ClimateCrisis NetZero ClimateAction ClimateAngst Carbon Details Amerikanerne har funnet ut at det finnes fiktive kriser og s finnes det virkelige kriser Exclusive Poll Amid Covid19 Americans Dont Care About Climate Change Anymore The Global Warming Policy Forum GWPF Exclusive Poll Amid Covid19 Americans Dont Care About Climate Change Anymore The Global Warming Policy Forum GWPF deserts TURNING DESERTS INTO FORESTS climate change CO2 global warming forests Global warming and climate change made number of rainy days to decrease but the intensity of rainfall has increased in India a country depending upon monsoon for its agriculture sectorenvironment ClimateCrisis ClimateChange Monsoon2020 Climate News Analyzing marine ecosystems from 6000 to 5000 years ago to anticipate changes caused by global warming Global warming climate change SwagataDam Due to warm weather last 10 days thats why a huge lightning and thunder developed in the clouds Climate change Global warming Mumbai rains zaninmoreira laczarus planet3dnow Thracks A world goverment is the solution against the big companys and can end injustice the climate change and Global WarmingPls vote for realDonaldTrump its like a monkey cage for testing purposes What can go wrong when you make the wrong decisions Look at WuhanVirus As the world braces itself for the impact of global warming it is now more vital than ever to have an accurate detailed picture of how exactly the climate will changeclimate climatechange environment world UK savetheplanet globalwarming Climate Change ClimateChange Science History Global Warming GlobalWarming Earth How Earths Climate Changes Naturally and Why Things Are Different Now via QuantaMagazine Do not wait until it is too late fight climate change now We need to stop global warming The longer we wait to drive change the more it will cost in capital species extinctions and our own health ClimateChange ClimateAction climate visit Go Live with Climate Change WebinarMeetings International is organizing Webinar on Climate Change and Global Warming will be hosted on December 14 2020 at 1000 AM GM1Join us for an hour of insights from experts The Price tag for climate change in the US is 140B per yr This is to make the changes humanity needs to adapt to a warming world Its less than 02 of global GDP We talk about it TomRaftery SCMatSAP supplychain Sustainability climate EnvironmentEnvironmentalImpactClimateClimateSciencePollutionGreenhouseGassesGlobalWarming Manmade global warming has a short history and a long future The natural balance of gases in the atmosphere began to change with the Industrial Revolution but in the last 50 GAO report Trump admin underestimated damages by GreenHouse emissions enabling the govt to justify costs of repealing or weakening climate change regsHarm that global warming will cause estimated to be 7 times lower than previous federal estimates Growing up in the 70s they used to shit us up with the ice age that was coming Then in the 80s we were all going to die in flames with global warming Sadly that didnt happen so we renamed it climate change Which is great because now we wont have to keep changing itClimate Deep Indian Ocean temperature data shows warming in deeper layers in addition to the existent concern of surface warming paving the way to visible changes in Monsoon patterns and climate anomalies on a global scaleVisualPersist It has been raining since morning in Dehradun It gives a pleasant relief here but if the rain stops heat and humidity starts again 45 decades ago even fan were never required here but today cannot live without AC Is it the effect of Climate change or GlobalWarming Deep Indian Ocean temperature data shows warming in deeper layers in addition to the existent concern of surface warming paving the way to visible changes in Monsoon patterns and climate anomalies on a global scale What is all this hype about Global Warming Is it even realRead more about climate change Link in bio climatechange environment nature globalwarming sustainability savetheplanet climate All things being equal ie no change in climate change policy physical risks would be greatly increased as global emissions keep rising until 2080 leading to more than 3C of warming wiping out 25 of GDP Physical risksclimate related conflict migration extreme weather science The 11TH HOUR FOR THE EARTH climate change climatechange global warming Reuters While we urge govt officials to pass legislation to curb global warming and climate change why not adopt a healthy vegan diet to drastically our impactclimate SouthPole diet ItsTheDiet GoVegan vegan ShareThePlanet Newsweek climate ClimateChange GlobalWarming Did people really believe that by rightwing govt officials in US Russia Brazil Turkey Philippines and elsewhere outlawing the words GLOBAL WARMING and CLIMATE CHANGE it would make it not be soReally Three fossil fuel entities violated Minnesotas Consumer Fraud Act by issuing misleading statements about global warming and engaged in a 30year campaign of climate change deception a lawsuit filed Wednesday by the states attorney general claims Book the must read book on Climate Global WarmingAlarmists Skeptics and Deniers A Geoscientist Looks at the Science of Climate Change climate ClimateAction ClimateActionNow ClimateEmergency ClimateChange New research by scientists at the University of Reginas Institute of Environmental Change and Society shows that global warming is increasing levels of toxic algae detrimental to human health climate New article Solar geoengineering could cause unwanted changes in climate new modelling suggests Physics World Bid to mitigate global warming could stagnate weat Climate physics NEARLY HALF of Americans are affected by climate change According to Yale 69 of Americans also believe that global warming only affects plants and animals THIS IS NOT TRUE Climate change is a major threat to mankind and we must fight it Reduce Reuse Reuse again Climate Tomorrow is WorldRefugeeDay Without ClimateAction 35 billion may be living in intolerable heat by 2070 resulting in more climate migrationClimate of Change is exploring how to boost resilience to global warmingWeWorldOnlus UniboMagazine Today meteorologists around the world unite to raise awareness of our planets ever warming climate The stripes shown below depict global temperature change by year ShowYourStripes MetsUnite Go Live with Climate Change WebinarMeetings International is organizing Webinar on Climate Change and Global Warming will be hosted on December 14 2020 at 1000 AM GM1 climate change The Global Warming Issue The Enemy We Cant Stop Due to global warming the potential release of methane from methane clathrate compounds buried in the seafloor into the atmosphere may cause a runaway greenhouse effect a tipping point in climate change Make a difference with E2C renewableenergy Humanity total failure to fight global warming caving in to Big Oil Since 1990 and first IPCC report to fight climate change global emissions of c02 from energy and industry have risen by 62 pumping another 870 billion tonnes of c02 into atmosphere ATomalty cathmckenna gmbutts JustinTrudeau CBCNews good question its all about the money climate change global warming For our society to thrive we must save and protect our environment planting trees is one of the many environmental issues affecting our country Major environmental problems OverpopulationDeforestationClimate changeGlobal warming Crop Life International gt How Climate Change is Powering Global PestsJune 4 2020 climatechange agrobiodiversity plantbreeding plantpathology IPM climate warming biotechnology food foodsecurity agriculture IYPH2020 Genetics An interactive online platform designed to help policy makers and businesses understand climate scenarios and better assess the threat of global warming Weblink to SENSES platform climate change environment awareness WorldEnvironmentDay2020 An opportunity to decarbonize Perhaps a postpandemic economy can serve us all better from CTVNews climate change economy global warming Year 20192020 will be crucial for global warming and climate change researchers as lockdown will serve some new exciting dataman vs nature OPINION Complex climate change negotiations have to include the countries and people most affected by global warming and that cannot be done online writes UNUEHS scientist soekreft COP26 COVID19 We are about to but still havent hit that 15deg mark and the world is facing frequent weather amp climate extremes Shown below is long term Global temp change Imperative to limit the warming ClimateCrisis ClimateAction ClimateChange New research out of YaleClimateComm on Climate Change amp the American Mind2 in 3 Americans feel a personal sense of responsibility to help reduce global warming47 perceive a norm in which their friends amp family expect them to take action climate New Podcast What If I Paid You A Million Dollars on Spreaker change climate climatechange cooling earth global reality science sunspot theories warming Could coronavirus change how we tackle the climate crisis Global Warming coronavirus change climate coronavirus crisis global tackle warming The New York Times Americans positions on climate change have remained largely unshaken by the coronavirus pandemic and economic crisis according to a new national survey that showed acceptance of the reality of global warming at record highs in s Promote RedbubbleRedbubble logo redbubble findyourthing heatwaves climatechange planetearth globalwarming savetheplanet fantasyillustration decor apparel art Tweeted via Americans positions on climate change have remained largely unshaken by the coronavirus pandemic and economic crisis according to a new national survey that showed acceptance of the reality of global warming at record highs nytimes Limiting global warming to 15 C would reduce the odds of initiating the most dangerous and irreversible effects of climate changeA path to ensure that is possible but not easy The study has found that much like humans insects will change their diet to try new things depending on where they are The discovery could have a serious impact on crops as global warming causes insects to colonise new regions climate WHOSEARO WHO UNinBangladesh icddrb WHOThailand WHOSriLanka WHOTimorLeste WHOMaldives WHOIndonesia Amidst the issues that our planet is dealing with namely climate change and global warming the coronavirus outbreak has proven to one of the toughest challenges for humankind Experts have interlinked the spike in the number of infections climate change treenvest ENVIRONMENT AT CROSSROADS CHALLENGES AND GREEN SOLUTIONSThis book deals with various environmental problems like climate change global warming etcFor more visit Order at environment nature sustainability climate Latest research could reduce climate change risks Share more innovative ideas to protect our environment at Global Warming Congress environmental science health pollution climate crisis meetings toxicology Very society needs a fundamentally new approach for mitigation againest Global warming and power governance systems take positive decisions for adaption climate changeClimatogist Abdikarim Hassan MA of Climate change and Environmental Sustainbality iamshaunbailey Did Adam go and pump them up with a speech on global Warming Climate Change So because the UKs Covid model might have arrived at a high numberProfessor Michael Manns hockey stick model was used by the IPCC mass media and politicians to push the manmade global warming now called climate change hysteria over the past two decades Climate The world can be best served and transformed only if we start being sensible and mindful of our own attitude and choicesenvironment green carbon footprint global warming climate change refuse recycle Governments must prioritize the fight against global warming in stimulus packages aimed at alleviating the coronavirus crisis because climate change may cause much greater chaos in the future says Engies CEO via businesscovid climate I think corona is taking care of global warming and climate change as local is being advocated Now there will be a brake on global workflow labour flow and goods and services flow Now produce local and consume local is the mantra given by PM Modi In this CarbonBrief October 8 2018 it is explained why the IPCC Intergovernmental Panel on Climate Change was asked to produce a report focused on 15C of global warming what the report says and how the report has been receivedScience Policy As much as I love Singapore also widely known as the Clean and Green city the usage of singleuse plastics is distressingly rifereuse recycle refuse environment waste food eco shop carbon footprint global warming climate change treenvest nature environment trees natural ecosystem water earth conservation adaptation climate change global warming climatechange globalwarming destruction planet resources naturalresources species extinction conserve animals birds habitats habitat Theres a difference between global warming and climate change idiots GlobalWarming Climate AdamskiPeter lamphieryeg Global warming is a reality the hoax is the thought that a carbontax can change the weather or climate Heres some of the science The fact that the biggest global economic contraction since the Great Depression will not make a dent in future warming should be sobering It highlights the fact that we need to change the way we build human prosperityCO2ClimateCrisis climate Yes green energy is not perfect bio wood is new coal but overall green energy is a much cleaner form of energy than dirty fossil fuels and is only chance we have off avoiding utter devastation from runaway global warming climate change M Moore MMFlint has let world down World did not take warnings of a pandemic serious until it arrived and still world does not take warning of climate change diaster serious despite the force of global warming being unleashed that like a pandemic we will one day awake up and experience a world hostile to life 4 Underrated Climate Change Donors Who Are Actually More Generous Than Jeff Bezos By SissiCaoClimatechange Globalwarming Thesolarrevolution Climate Freshair Planet Change Earth Changeclimate Global Warming CLIMATE CHANGE Global WARMING Adelaide records wettest April in 22 years as rain and strong winds lash SA 2020 will be hottest year on recordLockdowns have lowered emissions but longerterm changes neededPerspective Coronavirus will reduce global emissions by 55 We need to reduce emissions 76 EVERY year for decades to limit warming to 15C climate Our choice comes down to this grounded reformation or global devastation We can continue to plunder this planet and each other or we can make our way to reformation warming environment change climate Areas with outbreaks may have to take aggressive actions to reduce their pollution for example by closing down polluting plants immediately also for the sake of global warmingremember that health environment climate change Earth pandemic Energy Clarity No energy is sustainable fossil fuels fuel coal oil gas fracking nuclear global warming climate change environment renewable moral good freedom objectivism climate artPowerful climate change photos reveal devastating impact of global warming around the world via app Agoras 50 finalists for its ClimateChange2020 competitionEarthDay2020 Earth Day is TOMORROW Read more blogs on Lets work together and Stop Climate Change NOW Climate Change Global Warming Earth day Freedom to compete No energy favoritism by governments oil gas coal nuclear fossil fuel carbon emmissions environment global warming climate change human flourishing movement If The Parched West is Heading Into a Global WarmingFueled Megadrought That Could Last for Centuries climate Its because Anti Nuclear FoE Trolls promoted coal oil for decades YES We need to change to thorium NuclearEnergy Melting Glacier Reveals More Evidence Of Very Warm Medieval Warm Period The Global Warming Policy Forum GWPF drtimball climate change The biggest deception in historyBREAKING DrTim Ball wins against Dr Michael Mann lawsuit Coronavirus Cure Worse Than Problem Donald TrumpRead More alarmist carbon change chemtrails climate co2 coronavirus dioxide geoengineering global leftist warming THINK ABOUT IT gtgtgt Global Warming a convenient truth Or false Polar vortex amp Biblical prophecy Climate Change or See postulates by Prince Handley and then decide for yourself HINT Why you do NOT need to worry about it but Keeping global warming below 2C flattens the curve of climate change risk to biodiversity It does this by massively reducing the number of species at risk and buys more time for species and ecosystems to adapt to the changing climate via TCAfrica THE FOUR HORSEMEN OF THE ENVIRONMENTAL APOCALYPSE via delltwyla Global Warming Climate Change Earth Day Mother earth is rebooting Learning lesson for climate change global warming Coronavirus Vaccine Testing Starts TodayRead More alarmist carbon change chemtrails climate co2 coronavirus dioxide geoengineering global leftist warming Get on the Coronavirus Vaccine TrainAll Aboard YiiiiiihaaaaaaRead More alarmist carbon change chemtrails climate co2 coronavirus dioxide geoengineering global leftist warming science The 11TH HOUR FOR THE EARTH climate change climatechange global warming The11thHour Watching American President Love that movie Annette Bening ranting about climate change global warming and fossil fuels Movie from 1995 Cant make this up climate climatechange globalewarming hollywood climatescam environment birds global warming climate change In regards to climate change just remember his attacks on Sanders call to ban fracking CO2 emissions are the biggest contributor to global warming Apparently he is opposed to putting a significant dent in them by banning fracking by the fossil fuels industry Climate JC Projected changes in snow water equivalent over the Tibetan Plateau under global warming of 15C and 2C In India coastal women who have long dived for a harvest are now battling globalwarming driven changes to keep their profession alive l womensrights climate New Podcast Inconvenient Facts The Virus and the Environment on Spreaker change climate global power solar warming wind Do not miss your chance to share your innovations with a global audience at Climate Change Global Warming 2020 during December 1415 2020 at Dubai UAE The Climate Change2020 would comprise keynote presentations oral presentations poster presentations What Was Really Happening In AustraliaOver 200 people arrested for arsonbut FakeMedia says its climate change Creating Facts To Prove Global WarmingGlobal Engineeringwho benefits Globalistsmaga americafirst World can avoid catastrophic global warming with Climate solutions in hand todaystudy There is no single solution to combat climate change From climatefriendly diets and improved education to electric vehicles and Overpopulation is a myth themoreyouknow knowledge wisdom facts truth fossil fuel oil gas coal hydro nuclear climate change global warming I am worried about future of the world this kind of disaster has never been as strict as now Alsowe cant neglect the climate change and in my view of pointglobal warming is the most awful happening that humans had encounteredclimate ClimateStrikeOnline ClimateActionNow Call for AbstractsSubmit your abstracts under the session of ClimaticConditions for 7th World Summit on Climate Change amp Global Warming scheduled during December 1415 2020 at Dubai UAE Global warming is driving increased inequality The gap between the worlds richest and poorest countries is 25 percent larger than it would have been without climate change Check out this fascinating thread on new research from UW UWEnvironment on the impacts of shipping emissions on climate Emissions from changes in cooling This masks 13 of global warming due to greenhouse gases climate airpollution airquality Call for Speakers at Climate Change amp Global Warming Conference in the month of December 1415 2020 at Dubai UAEShare your research work with young researchers amp studentsRegister and confirm your slot now Will the effort to revive the global economy after the pandemic accelerate the emissions of planetwarming gases rather than avert climate change activist activism climate climatechange climatecrisis climateemergency climatejustice No its not the sunYes scientists agree on whats causing itNo a cold day doesnt disprove global warmingWeatherProf at CBS debunks some common climate change myths Myth Scientists dont agree on climate change False Almost all can agree on Humancaused global warming climatemyth mythbuster climate dbirch214 Global warming is ended for now only global climate change is left on the scene covid Globalization Climate Change and Human Health NEJM pandemic frequency and global warming climate change It is fascinating to see how absurd the arguments of climate deniers are and who questions validity of climatescienceThere is no evidence that global warming was rebranded as climate change via ConversationUK Global warming severe consequences for Africa particularly Sahel consequences of climate change Changes in building and construction have great potential to slow global warming climatechange nature environment climate climatestrike globalwarming savetheplanet sustainability gretathunberg zerowaste climatecrisis fridaysforfuture earth With global warming we wont need as much insulation in the future Myth or Truth climate change Climate JC The change in the ENSO teleconnection under a low global warming scenario and the uncertainty due to internal variability ecology environment climate volunteers Thunberg policy Ecologie Ecology and how to protect it Whats dangerous about Greta Thunberg It is considered that the causes of climate change and global warming Read KOLKATA Climate change and global warming may hit Indias GDP within a decade a report published by the McKinsey Global Institute MGI has said Breakingnews Change Climate gdp Googlenews India Indianews Indianewstoday Indias McKinseyGlobalI Global Warming Evidence Shocking Then amp Now Photos Reveal What 100 Years of Climate Change Has Done to Arctic Glaciers vintage everyday globalwarming climate environment Links to the ENVIRONMENT climate change consumerism ecology global warming Whilst this winter was a truly extreme event in its own right it is likely that these sorts of events have been made more extreme by the global warming trend said Carlo Buontempo director of the CopernicusEU Climate Change Service Yes Climate Change Did Influence Australias Unprecedented BushfiresSuch an extreme fire season is at least 30 percent more likely because of global warming a new analysis finds sciam Researchers have found that humancaused climate change had an impact on Australias recent devastating wildfiresmaking the extremely highrisk conditions that led to widespread burning at least 30 percent more likely than in a world without global warming via henryfountain women environment united nations global warming climate change Study Finds Half of Worlds Beaches Will Disappear by 2100 globalwarming climatechange oceans satire comedy humor jokes WBrettWilson nationalpost The basic assumption on which the entire theory that human activity is causing global warming or climate change is wrongIn every record of temperature amp CO2 the temp changes firstTim BallClimate Meet The 19YearOld AntiGreta Who Warns Thunbergs Alarmism Must Be Stopped The Global Warming Policy Forum GWPF Climate change is an issue to be tacked but climate hysteria and ecological terrorism is only polarizing Canadians climate nytclimate A dream of the climate denier antiscience privilegecemented lobbyist type Just a dream to have a human posting this in 2017 two years after ParisAgreement and fully 40 years AFTER ExxonMobil own scientists mapped fossilfuel climate change global warming scenario ESG science The 11TH HOUR FOR THE EARTH climate change climatechange GlobalWarming global warming New Podcast Is Greta Thunberg right about Climate Change on Spreaker bears change climate climatechange global globalwarming greta gretathunberg icecapmelting melting naomiseibt polar polarbears seibt thunberg warming Now 5 years later I know that this battle is mine too I am here and I am informed where do I go where do I start because I am not proud of the environment I live around global warming climate change Africa South Africa environment Global Warming Times British ski resort to close because of climate change skiing climate UK globalwarming Great having 180 people at Hepburn Wind making a human sign to keep global warming below lt15 CCommunities across the state are already feeling the impacts of climate change Now is the time to cut our emissions THIS IS AN EMERGENCYGretaThunberg addresses a crowd of tens of thousands in Bristol prior to marching for climate change awareness march rightnow ecology environment weather floods storm ciara dennis jorge global warming emergency Scientific indicators industry must offset warming climate across a multitude of continuous incremental changes CO2 levels in atmosphere Ocean heat content Global sea level rise Each creeps up year after year fuelled by humancaused emissions MsAvaArmstrong Climate has always changed Will always change Helped form earth That is why they dropped global warming tag I think that rather than harass world leaders to reduce global warming cheaper energy technology can do it but change should happen slowly enough to avoid economic collapse and possible resulting war and starvation climate energy EnergyStorage hydrogen peace wordsbyfrank Climate change is not only expected to affect the amount of available water but it will also impact the timing at which that water is delivered or naturally storedABaileyLocke WBUR Fight Global Warming Demand CleanerCars BBCPropaganda Maybe an influenza like the Spanishflu is desired that killed 50 million people that should reduce the global warming the climate change that the planets been experiences for the last 100 million years seems odd dose it not start of the 2020 Climate ChangeGlobal WarmingClimate Emergency Can Carbon rationing help fight climate change Finland has plans to be carbon neutral by 2035 City has already halved its carbon emission since 1990CityCap app funded by EU to tell you your carbon foot print The Global Warming Song globalwarming climatechange globalcooling global environment climate change funny via YouTube In 1994 Smol and his team started talking about climate warming well before it became an issue of global preoccupation We never thought we would see this much change in our lifetime queensu ottawaeggheads OwenPaterson Telegraph Working to reduce global warming and climate change might be an idea alsoClimateChange climate GlobalWarming flooding New into London Climate Change a Ladybird Expert Book The 3 authors including Prince Charles delve into the history challenges amp dangers of global warming and some potential solutions to reduce it It has some lovely illustrations BritGeoSurvey PenguinUKBooks Climate Climate change How 15C degrees of global warming could change the world now trending on Monkey Viral CFigueres and tomcarnac believe that the Climate protests and youth Strikes seen around the world in recent months will eventually lead to the kind of fundamental change needed to limit global warming imsuzn Of course CO2 is a nutrient Its also a greenhouse gas Global warming changes rainfall patterns causing droughts and fires which kill plants and animals Climate ClimateEmergency ClimateAction KnowledgeIsPower Who is to blame about climate change or global warming climate alert Zambia Even foxnews is starting to report some of the TRUTH about Climate ChangePS Not canWILL If humans thanks to our shortsightedness amp greed dont do something about global warming it will cost us MUCH more than it would have to stop it Whats the difference between ClimateChange amp GlobalWarming Global warming refers to the longterm warming of the Climate change refers to the broader range of changes that are happening to our eg sea level rise due to the warming Really Just 12 years before the planet goes kaput due to climate change Read our profile of 10 anthropogenic global warming proponents and five skeptics and decide for yourself C02 climate I think that this is total madness The shortage of snow is probably the result of global warming This is like trying to do extinguish a fire with a bucket of oilClimate Change CarbonFootprint vegan climate change global warming carbon protest dog cat car Climate Change Feedback Loop 5 WarGlobal warming will cause resource wars between nations wars which will damage environments and increase global warming The impacts of further warming may then cause further war adding to environmental damage and warming1725climate Climate Change Feedback Loop 2 MethaneMethane is nasty stuff Released by the melting permafrost it contributes powerfully to global warming so we warm quicker so more permafrost melts so more methane is releasedYou get the picture1325ClimateChange Climate CGTNOfficial Climate Change Feedback Loop 5 WarGlobal warming will cause resource wars between nations wars which will damage environments and increase global warming The impacts of further warming may then cause further war adding to environmental damage and warming1725climate CGTNOfficial Climate Change Feedback Loop 2 MethaneMethane released by the melting permafrost contributes powerfully to global warming so we warm quicker so more permafrost melts so more methane is released1325ClimateChange ClimateEmergency ClimateActionNow Climate Climate Change Feedback Loop 2 MethaneMethane released by the melting permafrost contributes powerfully to global warming so we warm quicker so more permafrost melts so more methane is released1325ClimateChange ClimateEmergency ClimateActionNow Climate What is the difference between climate change amp global warming Global warming the planets longterm warming Climate change global warming a broader range of changes that are happening to our planet due to global warming Learn more 20 environment sea global warming climate change tamilnadu government Climate 2020 Elizabeth Warren It is a shame that our World is getting more and more polluted and Global Warming and Climate Change is a horrible danger to all of us Time is running out we must act now Stephan R Green Peace USA Sea urchins decimated by double whammy in East Mediterranean Global warming climate change Oceanwarming urchins Recordbreaking heat in Antarctica prompts new concerns about climate change New concerns about global warming after recordbreaking heat in Antarctica Recordbreaking heat in Antarctica prompts new concerns about climate change New concerns about global warming after recordbreaking heat in Antarctica Scientist say it is among the fastest warming regions on Earth A FreeBook I shared on LinkedIn I used storytelling and fictional characterizations to describe a possible secondary cause to global warming and climate change freedownload writingcommunity ebook ajherald author cnn nyt potus free learn I can hardly stand the number of people that have been brainwashed to believe in anthropogenic global warming aka Climate Change Its the one issue that POTUS has not hit headon wisely since it is so polarizing BHO did a number with his settled science claim Climate Climate JC Changes in Convective Available Potential Energy and Convective Inhibition under Global Warming My Entry for Climate ChangeGlobal Warming Writing Contest by upmewhale climate warming writing posh steem Climate NPG Impacts of climate change on tropical cyclones and induced storm surges in the Pearl River Delta region using pseudoglobalwarming method Happening NowThe Senate Committee on Global Warming amp Climate Change is hosting an oversight hearing in Hearing Room A1 to discuss the latest MassINCPolling climate report Join us now to learn more from SKoczela amp Maeve Duggan about the groups key findings mapoli Climate Emergency Climate ChangeGlobal WarmingClimate Activist Antarctica is melting A climate activist swimming under Antarctica iceCan you imagine the enthusiasm of the activist Become a climate activist Climate Emergency Climate ChangeGlobal warmingSpekboomSpekboom a low maintenance shrub which acts as a carbon sinkCarbon sequestration is 154 tonnes of CO2 per hectare per yearSouth Africa going for carpet planting of this shrub under UN initiative New Podcast Climate Change Or Global Warming on Spreaker biden bowl brexit burger change climate clinton coronavirus cruz donald global gop impeachment impossible king mcconnell pelosi super trump warming I used to be an environmentalist whos standard of value was doing the least amount of harm to the planet but that was before I read The Moral Case of Fossil Fuels and my eyes were opened Now my standard of value is human flourishing warming climate global change Top 10 Major Causes of Global Warming that changes climate of World Climate Change Is Real To all the people who deny the science and clear evidence that global warming and climate change is real take a look at the world and the evidence of it and rethink your ignorance ClimateChangeIsReal ClimateEmergency climate GlobalWarming As our planet gets greener plants are slowing global warming Q Will acidic oceans impact biological response to climate changeClimate ClimateAction ClimateEmergency Nature SciComm Complexity CdnPoli ClimateStrike Math Physics STEMinist The government has pledged over 1 million to tackle food waste FoodWaste is a huge contributor to global warming and our forthcoming title Food and Climate Change without the hot air will look at this in detail faccwtha sarahbridle The scope of the measures taken against global warming and climate change we celebrate DHMI for AIRPORT PROJECT CARBON launched in Turkeys all airportsDHMIaviation climate dhmikurumsal Upmewhale Writing Contest Global Warming and Climate Change What Can Be DoneMy entri contest upmewhaleselfpowerclimatechangeglobalwarmingGoGreen Steem Ilovesteem Did you knowtechexplorist climate researchers detect fingerprint global warming daily weather level observations amending long established paradigm change Dr Ecotone2 of CCYale sat down with GretchenMarg to talk about Americans perceptions of the climate crisis Leiserowitz emphasized the importance of communicating about climate change differently for each audience in Global Warmings Six Americas Fed has a role in combating climate change risk Powell says US Federal Reserve Chair Jerome Powell said on Wednesday the Fed can play a part in keeping global warming from destabilizing US banks and financial markets via Reuters Climate ChangeI have known and discussed about climate change global warming and sustainable development for many years but this place is the first time I really realize that it is so real The ice is united nations Greta Thunberg environment global warming climate change Im guessing the argument will be that global warmingclimate change makes arsonists light firesGlobalWarming ClimateEmergency ClimateCrisis climate Carbongate ClimateDepot ClimateAudit Carbongate RossMcKitrick Why act now on climate change Global warming of 4C would threaten up to 85 of the worlds winegrowing regions not to mention a whole lot else climate wine France Germany Australia NewZealand California Italy Spain Councils are ahead of the game on global warming but need urgent capital funding to drive change says Solaces new environment and climate change spokesperson lgcplus invite you to know the best community of original creators of content that rewards you You will not regretBeyond climate change global warming Whats behind Steemit steem Steemit oc posh selfpower climatechange New Podcast Is eating meat bad for you and the environment on Spreaker change climate davos global greta huffpost meat thunberg vegan warming BrianDeCesare ibrahimpols Do scientists agree on climate changeYes the vast majority of actively publishing climate scientists 97 percent agree that humans are causing global warming and climate changeClimateAction Nobody making money from fossil fuels is doing anything climate change global warming Climate Emergency Climate ChangeGlobal Warming Wars fuels Climate Change Climate Change fuels Wars Continuous Cycle Is Non Violence the solution to Climate Change Tim Ball Evidence Proves That CO2 Is Not A Greenhouse Gas The basic assumption on which the entire theory that human activity is causing global warming or climate change is wrongIn every record of temperature amp CO2 the temp changes firstclimate Australian business leaders increasingly worried climate change will hit bottom lines IMF warns global warming is now a major financial risk amp the worlds top central bank says the RBA could be forced into rescuing the economy amp the environment v smh Great Discussion between HRH CharlesHRH amp GretaThunberg in DavosBoth agreed that climate change global warming amp HE realDonaldTrump are the greatest threats humanity has ever faced ChrisMEnder lizwathuti UNEP UNEPAfrica WhiteHouse CAH ClimateAction climate Blended fuels with high black carbon emissions would undermine IMO attempt at tackling shippings contribution to climate crisis and would seriously aggravate global efforts to combat climate change in general and warming in Arctic in particular The spat between Mnuchin amp Thunberg again highlighted the tensions over climate change at the WEF in Davos where governments have come under pressure to act on global warming as well as talk about the issueGretaThunberg climate WorldEconomicForum Shes a political activist she Can and Should be criticized ClimateChange is a hoax Back when I was 16 it was the coming ice age when my daughter was 16 it was global warming Climate doesnt change that fast Climate change and global warming are one of the main factors triggering fires all over the world not only forests are exposed to this threat but also our houses and buildingsLets talk about fire resistant materials klimaatVeranda climatehysteria debunked1 is not warming and if it were it wouldnt matter2 human contribution to global warming uncertain 03993 increased CO2 is GOOD for planet not bad4 whatever economyruining measures leftists invent it wont change climate Global warming climate change the devastating loss of biodiversity are the greatest threats that humanity has ever faced and one largely of our own creation says Britains Prince Charles at wef in Davos climate Global warming climate change the devastating loss of biodiversity are the greatest threats that humanity has ever faced and one largely of our own creation says Prince Charles at the WEF2020 in Davos l Climate Science indicates climate change will be much more than global warming a warming Arctic destabilizes the polar jet stream weakening the polar vortex and bringing cold snaps climate Global warming Sound more dire than climate change via bopinion Tallinn 20C warmer than this time last year No snow Climate change global warmingestonia tallinn no snow global warm climate change CokePiers Climate Change Evidence How Do We Know gt Vital Signs of the Planet Global Climate Change and Global Warming How do we know its happening Heres the evidence auspol climate Putting my cybercar obsession in contextCloud Loss Because Of Climate Change Could Add A Further 8C Of Global WarmingThis Catastrophic Change Seems To Have Happened Previously 56 million years ago Examining the complicated politics of global warming in the USAeven as the toll has become difficult to ignore Conservative States Seek Billions to Brace for Disaster Just Dont Call It Climate Change nytimes climate CBSNews GretaThunberg GretaThunberg You are not alone In this time of the climate crisis we are making waves of change by letting more than 3 million users to carpool and contribute towards combatting C02 emissions and global warming This is our bit of creating a change DAVOS2020 So rich they are almost an alien species 22 men richer than all women in Africa Got rich by plundering Earth fueling global warmingDescend in Davis in emission guzzling planes to talk about climate change will they act or just spin more words continue to push Earth to abyss It seems Youtubes hidden algorithms are now promoting climate change denial videos 16 of the top 100 related videos for the global warming search term included scientifically incorrect information about climate change algosov Did you know that climate change or global warming was caused by us and the sad thing is that we dont want to take critical measuresTo combat climate change climate alert Zambia Tutorial Anthropogenic Global Warming AGW drtimball climate change The biggest premeditated deception of all time Book The Deliberate Corruption of Climate Science lttimothyballshawcagt realDonaldTrump This is why people are so concerned This warming isnt normal CO2 traps heat It acts similar to a blanket around our planet What will this look like in 20 or 100 years How will it effect your family From NOAA global temp changes 1880 to present Climate ClimateChange Dailymail News ClimateChangeampGlobalWarming 2019 2020 india environment protest global warming climate change Technology to change our climate issues Is this a possible secondary cause to Global Warming and Climate Change A 30 minute read on a possible Break Through Concept Anthony globalwarming innovation climate solution theory climtaechange Climate Change Conservation Science Global Warming Activism Scientific foundation of the explanation of global warming is not articulated well enough for the wide public And maybe this is exactly what our task is Almost all sustainability leaders agree on that talking about climate change is the most effective thing that we can do HaveWeAllGoneM1 Damn that global warmingClimate changes FACT That it is MM not Fact That we should pay LUNACY Mancaused Global Warmingbiggest hoax of last years AOC This is why people are so concerned This warming isnt normal CO2 traps heat It acts similar to a blanket around our planet What will this look like in 20 or 100 years How will it effect your family From NOAA global temp changes 1880 to present Climate ClimateChange If we teach the effect of Global Warming on us as individuals than on the society Wed rethink I think and wed do the needful that will benefit us individually and the society collectively That is climate action starts with U Climate Change Sustainability ECONigeria CDM ATI is conducting 3 days Training on Climate Change and Disaster Risk Reduction Resource person Dr Devi Prasad is delivered lecture on Global WarmingAdministrativeTrainingInstitute KapilMohanIAS Climate Change officerstraining CDM Impacts Disasters DRR If you search for terms such as global warming on YouTube you might end up watching misinformation about climate change Read more about it here 15 BBCWorld 3 climate used as supporting evidence that man made carbon dioxide can warm the earth from The Global Warming Carbon Dioxide Hoax Easy to Read Proof That Climate Change Is Normal and Not ManMade by Alan Fensin Climate change Oceans hotter than ever before hit their highest temperature ever last year and the rate at which they are warming is speeding up Researchers called the new data further proof of global warming Climate Scientists warn about todays global warming wc could mean more amp bigger volcanic eruptions in the futureAn urgent collective action to address climate change is much needed to save the lives amp livelihoods of many vulnerable nationsIIRR ClimateActionNow SDG13 TaalPH A new study led by AuburnU researchers and published in NatureClimate Change shows a fourfold increase in emissions of the potent greenhousegas nitrous oxidea major contributor to climate warmingin global streams and rivers physorgcom Climate change and global climate IPCC Observed changes information on the IPCC using special report Global Warming of 15 degrees Prof Dr Daniela Jacob Climate Service Center Germany GERICS TaruSakhi kalptaru108 KumariDiya PrakashJavdekar DGPIB gssjodhpur PadmaAwards moefcc UN DiyaPdkf madhusharmabjp betibacha UNYouthEnvoy educategirls swatipiramal anandmahindra kiransnm mayursuthar AlmasJiwani Nice amp Noble Iniative Need Of Hour As Global Warming At Its Peak Trees Combat Climate Change Offset Envinormental Changes Support Wildlife amp Generate Oxygen So Commend All Involved In This GreenIniative Which Help In Making Better Livable Society 4 Humans amp Help Animals A stark warning was issued in October 2018 in a report about global warming by the Intergovernmental Panel on Climate Change IPCC a VerityFirth Yes really incredible but he is not the first person who talked about Global WarmingAs far as I know it was Alexander von Humboldt who first talked about climate change already at the beginning of the 19 centuryHe was also against social and ecological monocultures The worlds biggest investors are coming under intense pressure over the role they play in climate change as the focus on tackling global warming moves beyond oil gas and mining to the companies that finance fossil fuel producers AttractaMooney FT Doubling methane gas CH4 in the atmosphere wont affect global warming and climate change Natural gas can be used for heating generating cheap electricity raising sheep etc without fear of climate change Fires not due to climate change expert Monash University researcher David Packham says global warming is a gradual process which doesnt explain major bushfires Australia Bushfire Climate DavidPackham Climate NPG Global warming changes tropical cyclone translation speed The task of dealing with global warming is urgent and importantglobalwarminghealth climatechangerealisation igbconline edciitd mgcshvaccompany climatechange climate globalwarming stopglobalwarming globalwarmingawareness pollutioncontrol Climate They started with Population Explosion then to Global cooling Global warming now its Climate Change Last Chance 1 from the series Last Chance a series of images addressing global warming and climate change40x 45 cm Limited Edition print on Hahnemhle artistic paperClimatechange ClimateCrisis environmentart savetheplanet lastchance climate Climate change global warming is no longer a problem for future generations but one thats already displacing communities costing billions and driving mass extinctions via NatObserver Terrible to lose so many animals trees and people in Austrilia global warming is the fuel for eucalyptus leaves in the hot countries most sad thing is that Trump does not support climate change shame and Good AP piece underscoring climate link to AustraliaFires Q Is climate change really a factorA Scientists both those who study fire and those who study climate say theres no doubt manmade global warming has been a big part CLIMATE Change Study Found Consistent Evidence of Global Warming Every Day Since 2012 GlobalWarming climatechange CLIMATE Change Study Found Consistent Evidence of Global Warming Every Day Since 2012 GPWX GlobalWarming climatechange An Inconsistent Truth From global cooling 1970s to global warming 1990s to just climate change And its your faultclimate environment climatechange fridaysforfuture savetheplanetgretathunberg klimaschutz climatestrike selfhate 2 climate thought alongside Einstein Robert Oppenheimer Richard Feynman Niels Bohr and Enrico Fermi from The Global Warming Carbon Dioxide Hoax Easy to Read Proof That Climate Change Is Normal and Not ManMade by Alan Fensin 3 climate used as supporting evidence that man made carbon dioxide can warm the earth from The Global Warming Carbon Dioxide Hoax Easy to Read Proof That Climate Change Is Normal and Not ManMade by Alan Fensin Global warming Global government via YouTube climate change warming carbon Its feared that climate change will make hot countries totally uninhabitable But global warming could end up having the ironic effect of making the weather in Britain and northwestern Europe even colder'"
      ]
     },
     "execution_count": 8,
     "metadata": {},
     "output_type": "execute_result"
    }
   ],
   "source": [
    "' '.join(df['text'].tolist())"
   ]
  },
  {
   "cell_type": "code",
   "execution_count": 9,
   "metadata": {},
   "outputs": [],
   "source": [
    "# Expanding Contractions\n",
    "contractions = {\"ain't\": \"are not\",\"'s\":\" is\",\"aren't\": \"are not\",\n",
    "                     \"can't\": \"cannot\",\"can't've\": \"cannot have\",\n",
    "                     \"'cause\": \"because\",\"could've\": \"could have\",\"couldn't\": \"could not\",\n",
    "                     \"couldn't've\": \"could not have\", \"didn't\": \"did not\",\"doesn't\": \"does not\",\n",
    "                     \"don't\": \"do not\",\"hadn't\": \"had not\",\"hadn't've\": \"had not have\",\n",
    "                     \"hasn't\": \"has not\",\"haven't\": \"have not\",\"he'd\": \"he would\",\n",
    "                     \"he'd've\": \"he would have\",\"he'll\": \"he will\", \"he'll've\": \"he will have\",\n",
    "                     \"how'd\": \"how did\",\"how'd'y\": \"how do you\",\"how'll\": \"how will\",\n",
    "                     \"I'd\": \"I would\", \"I'd've\": \"I would have\",\"I'll\": \"I will\",\n",
    "                     \"I'll've\": \"I will have\",\"I'm\": \"I am\",\"I've\": \"I have\", \"isn't\": \"is not\",\n",
    "                     \"it'd\": \"it would\",\"it'd've\": \"it would have\",\"it'll\": \"it will\",\n",
    "                     \"it'll've\": \"it will have\", \"let's\": \"let us\",\"ma'am\": \"madam\",\n",
    "                     \"mayn't\": \"may not\",\"might've\": \"might have\",\"mightn't\": \"might not\", \n",
    "                     \"mightn't've\": \"might not have\",\"must've\": \"must have\",\"mustn't\": \"must not\",\n",
    "                     \"mustn't've\": \"must not have\", \"needn't\": \"need not\",\n",
    "                     \"needn't've\": \"need not have\",\"o'clock\": \"of the clock\",\"oughtn't\": \"ought not\",\"oughtn't've\": \"ought not have\",\"shan't\": \"shall not\",\"sha'n't\": \"shall not\",\n",
    "                     \"shan't've\": \"shall not have\",\"she'd\": \"she would\",\"she'd've\": \"she would have\",\n",
    "                     \"she'll\": \"she will\", \"she'll've\": \"she will have\",\"should've\": \"should have\",\n",
    "                     \"shouldn't\": \"should not\", \"shouldn't've\": \"should not have\",\"so've\": \"so have\",\n",
    "                     \"that'd\": \"that would\",\"that'd've\": \"that would have\", \"there'd\": \"there would\",\n",
    "                     \"there'd've\": \"there would have\", \"they'd\": \"they would\",\n",
    "                     \"they'd've\": \"they would have\",\"they'll\": \"they will\",\n",
    "                     \"they'll've\": \"they will have\", \"they're\": \"they are\",\"they've\": \"they have\",\n",
    "                     \"to've\": \"to have\",\"wasn't\": \"was not\",\"we'd\": \"we would\",\n",
    "                     \"we'd've\": \"we would have\",\"we'll\": \"we will\",\"we'll've\": \"we will have\",\n",
    "                     \"we're\": \"we are\",\"we've\": \"we have\", \"weren't\": \"were not\",\"what'll\": \"what will\",\n",
    "                     \"what'll've\": \"what will have\",\"what're\": \"what are\", \"what've\": \"what have\",\n",
    "                     \"when've\": \"when have\",\"where'd\": \"where did\", \"where've\": \"where have\",\n",
    "                     \"who'll\": \"who will\",\"who'll've\": \"who will have\",\"who've\": \"who have\",\n",
    "                     \"why've\": \"why have\",\"will've\": \"will have\",\"won't\": \"will not\",\n",
    "                     \"won't've\": \"will not have\", \"would've\": \"would have\",\"wouldn't\": \"would not\",\n",
    "                     \"wouldn't've\": \"would not have\",\"y'all\": \"you all\", \"y'all'd\": \"you all would\",\n",
    "                     \"y'all'd've\": \"you all would have\",\"y'all're\": \"you all are\",\n",
    "                     \"y'all've\": \"you all have\", \"you'd\": \"you would\",\"you'd've\": \"you would have\",\n",
    "                     \"you'll\": \"you will\",\"you'll've\": \"you will have\", \"you're\": \"you are\",\n",
    "                     \"you've\": \"you have\"}\n"
   ]
  },
  {
   "cell_type": "code",
   "execution_count": 10,
   "metadata": {},
   "outputs": [],
   "source": [
    "def cont_to_exp(x):\n",
    "    if type(x) is str:\n",
    "        x = x.replace('\\\\','')\n",
    "        for key in contractions:\n",
    "            value = contractions[key]\n",
    "            x = x.replace(key, value)\n",
    "        return x\n",
    "    else:\n",
    "        return x"
   ]
  },
  {
   "cell_type": "code",
   "execution_count": 11,
   "metadata": {},
   "outputs": [
    {
     "data": {
      "text/plain": [
       "'The death of summer Arctic ice our Earth cooler is now just a few years away if not sooner triggering a world wide climate planet break down supercharging global warming leaving much of the planet hostile to life abrupt climate change is only a matter of timeEnd fossil fuel Elsevier and the EditorsinChief are pleased to share the first volume of Energy and Climate Change now available on ScienceDirect Get FREE ACCESS until 1 June 2021 From better climate change education to improved sustainability heres what 2020 got right about environmental justice and global warming climate change environment hometopstory climate change Links to FIXING CLIMATE CHANGE climatechange CO2 global warming climate change The 11TH HOUR FOR THE EARTH climatechange global warming GlobalWarming For years now scientists and governments have discussed and debated the effects of climate change and global warming Very little has been doneHave a look at Climate Change over the Centuryenvironment climate Change The growing impacts of climate change have already pushed more than 18 million people to migrate within South Asian countries but that could more than triple if global warming continues on its current path researchers have warned Reuters deserts forests TURNING DESERTS INTO FORESTS climate change CO2 global warming The Federal Reserve on Tuesday took its most significant step forward on climate change announcing that it joined a group of some 75 other central banks focused on rooting out the risk warming poses to the global financial system via grist cravecreative johnjakester Ordinary men should be required reading for all humans in positions of powerTHALIDOMIDECovid amp CO2 are lies built on inconvenient truthsBaby BOOMER Bust due to SEASONAL flu amp old ageMilankovitch cycles cause Climate ChangeObliquity is causing Global Warming THALIDOMIDECovid amp CO2 are lies built on inconvenient truthsBaby BOOMER Bust due to SEASONAL flu amp old ageMilankovitch cycles cause Climate ChangeObliquity is causing Global WarmingPrecession Will cause Global Tsunamis at vernal equinoxesWwG1WgA Humanity Global warming is likely to cause global atmospheric circulation to change and progressively revert to a situation similar to that of 5000 to 10000 years agoClimateChange Climate ClimateAction Planetwarming carbon dioxide emissions from buildings and construction are jeopardising global goals to keep devastating climate change at bay Reuters Warming oceans contribute to storms that could drop 5 feet of snow on some towns in Japan this week This isnt just the kind of global weirding that defines 2020 its the change of climate systems that will redefine how we live in decades to come ClimateAction climate climate change NEW links to FIXING CLIMATE CHANGE climatechange CO2 global warming cutting emissions globeandmail I wonder whyThe media and our govts are lying to usThe Milankovitch cycles cause climate change Global warming and global tsunamis at the vernal equinoxesCovid is the Baby Boomer Bust due to the seasonal FLU and old age Global CO2 emissions from fossil fuel and industry are expected to drop in 2020 While it wont slow the pace of global warming it serves as a unique opportunity to secure longterm emissions cuts by following an economic recovery aligned with tackling climate change In 2019 a UN climate science report said the way the world manages land and how food is produced and consumed had to change to curb global warming or food security health and biodiversity would be at riskClimateChange climate Oil major Exxon Mobil Corp said on Monday it planned to reduce its greenhouse gas emissions over the next five years as investors and climate change campaigners ratchet up the pressure for action to limit global warming climate Emergency call on climate change from Guterres United Nations SecretaryGeneral Antonio Guterres in his speech at the climate change summit For world leaders to take action to avoid global warming He said they should declare a climate emergency 15 is the preferred limit on global warming as per the Paris Agreement five years old this week 15 was chosen as it would significantly reduce risks and the impact of climate change FightFor1Point5 FridaysForFuture DigitalStrike ClimateStrikeOnline klimat climate TaariniNB This behavior because of Human nature Global warming Climate change more rain to come by today evening or night till 13th December night Mumbai unseasonal rains Its very alarming for World that Nov montha winter month recorded warming climate month Warm conditions persisted over large swaths of planet climate changeGlobal warming will change our food fm Tea to Ricelife stylebody shapebehaviour in next 20 yrsour next generation Climate Change If CO2 and other GHG emissions are not rapidly reduced the world will likely exceed global warming of 15C between 2026 and 2042 The ParisAgreement seeks to limit warming to below 2C UN ClimateChange climate Senate UNEP politics NOAA NWS NOAANCEIclimate Nobody happier than the climate change wackos that lyin jiebiden might be president The hoax of global cooling oops global warming oops climate change will be perpetuated climate NewBlog On Global Warming in Local Discourses How Communities around the World Make Sense of Climate Change by Domenic RotundoRead now Global Warming in Local Discourses constitutes a significant new contribution to understanding the multiperspectivity of our debates on climate change further highlighting the need for interdisciplinary study within this area 56 OutNow in OA Global Warming in Local Discourses How Communities around the World Make Sense of Climate Change by Michael Brggemann and Simone Rdder edsRead and download this title for free andor get your own hard copy at 16 To limit global warming to 15 degrees Celsius 27 degrees Fahrenheit which scientists say would avoid the most catastrophic impacts of climate change countries need to wind down their fossil fuel production by 6 every year between now and 2030GlobalWarming Climate deniseshrivell How many Australians actually get the urgent overarching threat is climate changeAt 2degeesC global warming 99 of corals wont surviveGreatBarrierReef is in a critical condition due to 3 mass bleaching from marine heat wavesWe r fast running out of timeclimate I worried about global warming amp climate change until I realized earth will live It may shed us like a virus burning us off with a climate induced fever until none of us exist but the planet will still be existI for one welcome the sweet silence of eradicated humanity NewZealand has joined 30 states in declaring an emergency in the country due to the threat of climate change According to research this island nation will be particularly affected by global warming and Rtd Associate Professor of Cotton University Assam He discussed about the types of environment and its components and major environmental issues which have led to climate change He also highlighted issues like Global Warming and Green House Effect The worlds governments plan to produce more than double the amount of coal oil and gas in 2030 than would be consistent with curbing global warming says new report in latest warning over climate change fossilfuels ProductionGap UNEP Optimistic analysis of netzero target This only indicates that we still can fight global warmingA 5050 change for 21C is still a warming level that threatens our planetWe need real climate action and accountable reductions in 2030 targets ParisAgreement climate The 11TH HOUR FOR THE EARTH change climatechange global warming ShadyCrossing YouTube Probably because you dont know what he wss referring toNazarene meant truth tellerLike Milankovitch cycles cause climate change Global Warming Global Tsunamis at the vernal equinoxes every 130 lifetimes tmischuk CanadaInPeril Lumberist No they are like rats fleeing a sinking ship on their VTVL rockets and space arcsMilankovitch cycles cause climate change Global Warming Global Tsunamis at the vernal equinoxesEarth is a closed loop that self regulates co2 with life maparker21 Lumberist burnThe Milankovitch cycles cause Climate Change Global Warming Global Tsunamis at the vernal equinoxesCovid1984 is baby Boomer Bust from Seasonal FLU and old age I sure wish global warming would get the level of concern that coronavirus has In the next decades changes in climate are still going to kill displace and harm more people than the virus ever willpriorities politics coronavirus climate lamphieryeg Thats why they stopped calling it global warming and changed it to climate change Hard to argue that the climate changes And wtf is a climate denier Are leaders really that stupid or just fucking sinister with their own agenda JustinTrudeau stupid or sinister climate If BidenHarris JohnKerry JoeBiden really mean they will fight climate change will they stop EU logging millions acres US forest for bio wood that is increasing emissionsfueling global warming and calling it green keepitintheground climatechange JohnKerry who ran in The presidential primary will be named Special Presidential Envoy for Climate Congratulations Mr Kerry has been actively advocating on climate change amp global warming Climate ClimateAction DemVoice1 climate change Links to FIXING CLIMATE CHANGE climatechange CO2 global warming environment Some years ago she also began seeing something else the impact global warming and climate change were having on the desert surrounding her homeSo Millet did what authors do She wrote about it climate Global warming and climate change are often used interchangeably but the two terms have distinct meanings check out this interesting resource for NASA definition climate GreenParty climatePart IIPLASTICSImpacts on climate changePlastic which is a petroleum product also contributes to global warming If plastic waste is incinerated it releases carbon dioxide into the atmosphere thereby increasing carbon emissions The world should react with the same urgency to climate change as is to the coronavirus crisis the Red Cross says warning that global warming poses a greater threat than COVID19Read more GlobalWarming ClimateCrisis climate ClimateAction Climate Change poses a much larger threat than coronavirus warned Red Cross recently calling out nations to act with urgency on the issue of global warmingclimate ClimateEmergency WHO GlobalWarming UNFCCC Covid19 coronavirus Japan JoeBiden On Tuesday Red Cross said that the world should react with the same urgency to climate change as to the coronavirus crisis warning that global warming poses a greater threat than Covid19s63 climate ClimateJusticeNow ClimateAction climatechange ClimateJustice Climate change global warming global cooling Saving energies are very important for global warmingglobal warmingclimate change MrBeastYT Milankovitch cycles cause climate changeObliquity causes global warmingPrecession causes Global tsunamisEccentricity is the triggerCovid is a lie built on the Baby BOOMER Bust due to Seasonal FLU amp old ageThese are inconvenient truthsWwG1WgA Humanity Covid amp co2 are LIES built on inconvenient truthsMilankovitch cycles cause climate changeObliquity causes global warmingPrecession causes global tsunamis at the equinoxsEccentricity is the triggerCovid is the Baby BOOMER Bust due to Seasonal FLU amp old age Milankovitch Cycles cause climate change Obliquity causes Global WarmingPrecession causes Global Tsunamis equinoxes Eccentricity is the triggerBuildThatWall BuildThatRRCovid is Seasonal FLU Baby Boomer Bust realDonaldTrump BrianKempGA Milankovitch Cycles cause climate change Obliquity causes Global WarmingPrecession causes Global Tsunamis equinoxes Eccentricity is the triggerCovid is Seasonal FLU Baby Boomer Bust Reactions from halfadozen leading climate scientists to the study which the authors acknowledge is schematic varied sharply ClimateChange GlobalWarming CO2 CarbonEmission ClimateEmergency This will fuel global warming and climate changeMay 2017 to Sept 2020 just look at how much of Amazon has been destroyed millions of acres and Brazils carbon emissions increased by 96 in 2019 aloneBidenHarris2020 impose sanctions for sake of all humanity life on Earth Climate change is already here reportno longer possible to limit global warming to 15 degrees but it may be possible to contain it to two degreesTime for climate wars to stop auspol Glaciers in Chinas bleak Qilian mountains are disappearing at a shocking rate as global warming brings unpredictable change amp raises the prospect of cripplinglongterm water shortages scientists sayGlobalWarming climate green planet climatechange Presidentelect Joe Biden is poised to embed action on climate change across the breadth of the federal government from the departments of Agriculture to Treasury to State expanding it beyond environmental agencies to speed US efforts to mitigate global warming Presidentelect Joe Biden is poised to embed action on climate change across the breadth of the federal government expanding it beyond environmental agencies to speed US efforts to mitigate global warming via washingtonpost Interested in Global Warming Check out this new app from our partners at UEA to get more info about the affect climate change might have where you live climatechange climate app Covid amp CO2 are LIES built on inconvenient truthsCovid Baby Boomer Bust due to seasonal FLU amp old ageClimate Change is built on the Milankovitch cyclesObliquity is causing global warmingPrecession will cause Global Tsunamis at the Vernal Equinox What Brazil is doing will impact every life form on the planet burning down the Amazon fueling global warming and climate changeAmazon fires cause Brazils CO2 emissions to jump Emissions jumped 10 in 2019 accelerating as much as 20 in 2020 There is a disconnect between what investors are asking for and what companies are doing Its time investors reassess their approach to climate engagement push hard for businesswide changes needed to see global warming limited to 15C not 354C ESG TYInconvenient truths amp Perennial prophets of DOOMClimate Change is caused by the Milankovitch cyclesObliquity is causing global warmingPrecession will cause Global tsunamisEccentricity is speeding it upCovid19 is the Baby BOOMER Bust amp Seasonal FLU TrudeauWorstPMEver Inconvenient truths amp Perennial prophets of DOOMClimate Change is caused by the Milankovitch cyclesObliquity is causing global warmingPrecession will cause Global tsunamisEccentricity is speeding it upCovid19 is the Baby BOOMER Bust amp Seasonal FLU cathmckenna We never murder the truth No matter how inconvenientClimate Change is caused by the Milankovitch cyclesObliquity is causing global warmingPrecession will cause Global tsunamisEccentricity is speeding it upCovid19 is the Baby BOOMER Bust amp Seasonal FLU curving CO2climate changecoping with global warmingSmart phone charger with solar panel is setting on the ground I wanna curving CO2 as possible climate change NEW Links to FIXING CLIMATE CHANGE climatechange CO2 global warming lawsuits Global Warming and Climate ChangeCauses and Effectsclimatechange environment nature sustainability globalwarming savetheplanet climate climatecrisis climateaction earth climatechangeisreal green fridaysforfuture climatestrike climateemergency earthday 2020 SkS Weekly Climate Change amp Global Warming News Roundup 43Skeptical Science posts 24 October 2020A 2nd realDonaldTrump term would mean severe amp irreversible changes in climateNo joke It would be disastrous on scale of millennia environment Links to CLIMATE CHANGE climatechange climate change global warming What Trumps Environmental Rollbacks Mean for Global Warming This is the disaster Trump has Done and is going worse if you vote for him He cares nothing about enviroment and climate change He must be stoppt Vote for BidentrumpbidenClimate Global Warming Climate Change was DEBUNKED many years agoDemocratsAreCorrupt climate GlobalWarming TCOT This is Weehawk And he is way smarter then Trump and I can prove it He was a fire rescue so he knows climate change and global warming are real and that Trump telling people to rake the forest is just dumb ass Trump bullsht cats climate TrumpMeltdown To the idiot that is PeteButtigieg you can not claim that global warmingclimate change whatever you call it now is this generations WWII If I had to pick between driving a Prius and the beaches of Normandy I would pick the fukng Prius GreenNewDeal climate Trump2020 Theres still time if we act now we CAN take over Climate Change and Global WarmingNAISHATEAM KOSMOSenvironment climate ClimateAction LGBTQ LGBT GreenNewDeal teamkosmos Climate Change PARODYGlobal Warming didnt stick so heres some 16 year old with braids HT gddub climate ClimateAction ClimateCrisis ClimateChange For years now scientists and governments have discussed and debated the effects of climate change and global warming Very little has been doneHave a look at Climate Change over the Centuryclimate Change Century environment curving CO2climate changecoping with global warmingSmart phone charger with solar panel is setting on the ground I wanna curving CO2 as possibleASALW More than 45 of the US is experiencing drought conditions right nowFrom the nytimes Global warming has made drought worse scientists say exemplifying a trend toward more extreme weather as the climate changes Three MustRead Books to Understand Climate ChangeWhat you can do instead is pick a book at your local bookstore or library about climate change global warming and everything related to our planet Read more climate climatechange globalwarming Increase in forest fires is attributed to global warming and climate change about 8 Billion Tons of CO2 per year which accounts to well over 20 of the global CO2emissions spectalite moulded products reducing the risk of a forest fire ClimateAction ClimateCrisis We must reconsider corresponding for climate change and global warmingI give donations to the organization for climate change some timeThis donation comes from some of earnings for capital gainsclimate changecapital gain I think Its time to correspond together for global warmingFirst of all we have to do what we canclimate changeglobal warminggreen house gas ClimateChangeGlobal heating warming up nights faster than daysAsymmetric changes between night day temperatures in many parts of world will have consequences for species inhabiting those regions their ability to adapt in face of changing climate Overpopulation is a major cause of climate change and global warmingDo Family today today climate UNHABITAT unhabitatyouth ippf FP2020Global getittogetherNG AFPnow PopCouncil PMNCH Stopping global warming begins with us Take these 5 Steps to End Climate Changeclimatechange sustainability environment climatecrisis globalwarming renewableenergy sustainable climate SunWatts Save water climate change environmental change global warming justice for the world save the forest no to littering no to poverty face emergency hear our voices save animals save save plants no to deforestation shout out to climate activist keep moving forward emsusglobal warminggreenepapollutionclimate changesustainabilityagencydepenvironmental pollutionLink for registration China going carbon neutral by 2060 will lower globalwarming projections by as much as 03C Thats the biggest single reduction ever estimated as the result of a policy change according to Climate Action Tracker climate Fires do not occur naturally in the Amazon rainforestAmazon deliberately burnt downMillions of acres ever year in most unique bio diversity on Earth and the lungs of the Earth speeding up global warming climate change There are lots of natural disastersmaybe because of global warmingIts time to keep eye on them and take action for global warmingIn my case I am making electricities from sun when Its sunny dayclimate changeglobal warmingnatural resources Climate change A New York clock that told time now tells the time remaining for action to prevent the effects of global warming from becoming irreversible deserts TURNING DESERTS INTO FORESTS climate change CO2 global warming New in satellite technology The data Iris will gather is important because methanes global warming potential is 30 times that of carbon dioxide This could be a game changing technology for the fight against climate change Read more gtgtgt In our increasingly urban world there is so much opportunity for citiesalready responsible for 70 of global greenhousegas emissionsto lead the global fight against climate change Lets continue to reduce greenhouse emissions that are warming our planet engage4impact Over the past few decades climate change and global warming has had a string of adverse effects on the planet And the signs of damage are increasing day by day Its sunny day so I set solar pannel charger on the ground because of decreasing CO2climate changeglobal warming SaintKateriCtr Obama 2013Sea levels are rising due to climate change potentially threatening US citiesObama 2019Buys 15 million dollar mansion on water in Marthas VineyardGlobal warmingclimate change BSThe goalglobal govt AP Obama 2013Sea levels are rising due to climate change potentially threatening US citiesObama 2019Buys 15 million dollar mansion on water in Marthas VineyardGlobal warmingclimate change BSThe goalglobal govt There is nothing Just about allowing yet more gas fossil fuels pouring petrol on the flames of global warming fueling more devastating climate change Parliament votes to allow gas projects in the Just Transition Fund Climate Change Please Climate Science Information Center Please US for cosmetics that again everyone Climate Science Information Center earth Climate Change by the Numbers Humans have caused about 10C 18F of global warming LSorecaEU vonderleyen The New Boss In The House She SPOKE UP TODAYShe Mansion 5 Things To The Big House1 Climate Change 2 Coronavirus Robots3 Brexit not on my plan4 Technology 100 on my plan 5 MigrationsFighting global warming Yes thats right Every single country Molotov Cocktail now referred to as Climate Change Climate Crisis andor Global Warming ArsonExposed Climate Cult Presidential candidate Joe Biden gave a major speech yesterday on the undeniable accelerating punishing reality of global warmingOur country amp our world need leaders from both parties to acknowledge the reality of climate change and then act Trump protocol for Global warming Endless fires in California Yet Trump says its due to poor Forest management So Keep the land clean sweep off leaves Clean up all debris Take care of fallen trees and hope for Early Winter Climate Change is fake myfox8 Right is this report out of the Newsome playbook You know the chapter that proves 3 people intentionally started the latest fires and he claimed them to be from global warming Funny how it stops at the boarders of Canada and Mexico climate change is a hoax climate changeglobal warming Climate Change is as soft a term as they come And people cant even stomach that Global Warming is the original description So get real people Im not an activist on it but I can call a spade a spade Pretty sure Gore was ahead of this climate weather BCStorm Stakeholders in the environment sector have kicked against the method adopted in coal mining activities saying such mining and burning are responsible for global warming and climate change burning cause change climate coal global Mining Stakehol Climate Change Worlds Global Warming Fight ClimateChange climate The wild fires in America are yet another reason for governments around the world to step up their response to climate change and global warming What environmental catastrophe will it take for BorisJohnson to address this pressing issue ClimateChange wildfires2020 Climate Global warming increases the frequency and intensity of forest fires which in turn removes those forests CO2 uptake capacities from the equation thus accelerating global warming Climate change is all about these positive feedback loops Climate Chevron JPMorgan amp Barclays shareholders have endorsed resolutions re global warming amp climate change Pressure on energy firms from powerful investors is increasing rapidly Average investor support increased from 219 in 2019 to 327 in 2020 climate change The 11TH HOUR FOR THE EARTH climatechange global warming Eiger Glacier Eigergletscher Swiss Alps 2015 2020 5 yearsThe repeat photos show that global warming has also affected the Eiger Glacier see Eiger Glacier Swiss glaciers climate change Go Live with Climate Change WebinarMeetings International is organizing Webinar on Climate Change and Global Warming will be hosted on December 14 2020 at 1000 AM GM1Join us for an hour of insights from expertsClimateChangeWebinar GlobalWarmingWebinar curving CO2climate changecoping with global warmingSmart phone charger with solar panel is setting on the ground I wanna curving CO2 as possibleASLW How can we become stimulated to work at the peak of our ability to solve issues of climate change and global warming How can we weave sustainability into education DrTammiSinha will explore these questions at our event on the 23rd Sept UoW nmsaints87124 JustTheNews If there is anything that proves climate change is a lie its this from abcnews in 2008 ABCs FAKE 2008 GLOBAL WARMING SCARE said NYC would be underwater by 2015 People will take sides on climate change for as long as warming is not global Could my perspective help to unify criteria diegofdezsevillawordpress comJune 5 2015 Climate and Data Drinking From the Source by Diego FdezSevilla PhD Registered FYISkyTV SkyNews skytv Last week pontificating on global warming and climate changethis week jetting off half way around the world with a film crew when archive footage could have been usedclimate change hypocrites Ice sheets in Greenland and Antarctica whose melting rates are rapidly increasing have raised the global sea level by 18cm since the 1990s and are matching the Intergovernmental Panel on Climate Changes worstcase climate warming scenarios What price would we have to pay for the emission of one tonne of CO2 to cover all costs Using a climate model to calculate the impact of additional CO2 emissions on global warming and climate change could be the answer SundayThoughts Climate change global warming Coral reefs are among the most threatened ecosystems on Earth largely due to unprecedented global warming and climate changesLearn about the measures we can take to ensure their survival in our Issues Brief IucnOcean RNC RNC Climate Change amp Global Warming Hurricanes and fires Science says climate change is here but the RNC refuses to believe via Climate change amp Global Warming via YouTube ClimateChange climate globalwarming climateconciousnetwork Contact Climate Conscious Network Website Email climateconsciousnetworkgmailcom A child in Gunjure is motivated to grow more than 1000 trees of different seedlings to protect a generation yet unborn against global Warming and Climate change impacts End ClimateEmergency Despite the pandemic support for action to curb climate change has not diminished Backing for government to do more to deal with global warming at 68 percent in May of 2018 was at the same level in 2020 according to the survey issued Monday jswatz Check out A Climate for Change Global Warming Facts for Faith Based Decisions Book by Andrew Farley and Katharine Hayhoe Pdf Download climate climatechange environment nature globalwarming climatecrisis climateaction savetheplanet earth Although temporary changes can help you need to reduce CO2 permanently to make a dent in global warming said Prof Piers Forster from the University of Leeds climate pandemic The link between climate change and bigger fires is inextricable Temperatures are two to three degrees F warmer now than they wouldve been without global warming KendraWrites jswatz Protect the West and our Climate Demand CleanerCars Climate Change and Global Warming is the biggest problem considered by millennialsWe know our prioritiesclimate ClimateCrisis GlobalWarming Sustainable RenewableEnergy ClimateChange Due to COVID19 pandemic impact only first section of IPCC report on science of global warming will be ready for Glasgow COP26 in November 2021 Other two sections climate change impacts amp ways to cut GHG emissions amp IPCC synthesis report will follow only in 2022 The main greenhouse gas is not counted as an airpollutant because it does not appear to affect health However there are links between climate change amp global warming such as the atmospheric concentration of some pollutants in the air 3 Questions Asegun Henry on five grand thermal challenges to stem the tide of global warming Our mission here is to save humanity from extinction due to climate change says MIT professor MIT KTHresearch GretaThunberg LeoDiCaprio algore climate New research reveals effect of global warming on Greenland ice melt high sensitivity of the polar regions to climate change via physorgcom climate science SciChat environment Climate JC The Role of Tropical Midlatitude and Polar CloudRadiative Changes for the Midlatitude Circulation Response to Global Warming How to make Seedboms UDBHAVA plantation Environment climate change globalwarming Climate change is poised to thaw and undermine the soil beneath ConocoPhillips proposed Willow oil drilling project on Alaskas North Slope making its rigs and roads vulnerable to the same global warming the project will be aggravating The COVID19 crisis presents an opportunity to change course a make or break moment for global climate targets The world could avoid 03C of global warming by 2050 if governments invest in green recovery BuildBackBetter Read on CarbonBrief PrafullSundriy1 and I talked about Global Warming and Climate change with students of Hillman School Agra A humble attempt to take Climate discourse to schools Happy Independence day Sustainability climatechange Globalwarming indianindependenceday environment Climate JC Seasonal Dependency of Tropical Precipitation Change under Global Warming nature beloved sun childrens book icemelt is normal global warming is not happening climate change is normal michaelchrichton stateoffear Littleknown verifiable climate change fact 3Global warming is primarily higher nighttime lows especially in winter and near the polesClimate ClimateChange ClimateEmergency ClimateCrisis NetZero ClimateAction ClimateAngst Carbon Details Amerikanerne har funnet ut at det finnes fiktive kriser og s finnes det virkelige kriser Exclusive Poll Amid Covid19 Americans Dont Care About Climate Change Anymore The Global Warming Policy Forum GWPF Exclusive Poll Amid Covid19 Americans Dont Care About Climate Change Anymore The Global Warming Policy Forum GWPF deserts TURNING DESERTS INTO FORESTS climate change CO2 global warming forests Global warming and climate change made number of rainy days to decrease but the intensity of rainfall has increased in India a country depending upon monsoon for its agriculture sectorenvironment ClimateCrisis ClimateChange Monsoon2020 Climate News Analyzing marine ecosystems from 6000 to 5000 years ago to anticipate changes caused by global warming Global warming climate change SwagataDam Due to warm weather last 10 days thats why a huge lightning and thunder developed in the clouds Climate change Global warming Mumbai rains zaninmoreira laczarus planet3dnow Thracks A world goverment is the solution against the big companys and can end injustice the climate change and Global WarmingPls vote for realDonaldTrump its like a monkey cage for testing purposes What can go wrong when you make the wrong decisions Look at WuhanVirus As the world braces itself for the impact of global warming it is now more vital than ever to have an accurate detailed picture of how exactly the climate will changeclimate climatechange environment world UK savetheplanet globalwarming Climate Change ClimateChange Science History Global Warming GlobalWarming Earth How Earths Climate Changes Naturally and Why Things Are Different Now via QuantaMagazine Do not wait until it is too late fight climate change now We need to stop global warming The longer we wait to drive change the more it will cost in capital species extinctions and our own health ClimateChange ClimateAction climate visit Go Live with Climate Change WebinarMeetings International is organizing Webinar on Climate Change and Global Warming will be hosted on December 14 2020 at 1000 AM GM1Join us for an hour of insights from experts The Price tag for climate change in the US is 140B per yr This is to make the changes humanity needs to adapt to a warming world Its less than 02 of global GDP We talk about it TomRaftery SCMatSAP supplychain Sustainability climate EnvironmentEnvironmentalImpactClimateClimateSciencePollutionGreenhouseGassesGlobalWarming Manmade global warming has a short history and a long future The natural balance of gases in the atmosphere began to change with the Industrial Revolution but in the last 50 GAO report Trump admin underestimated damages by GreenHouse emissions enabling the govt to justify costs of repealing or weakening climate change regsHarm that global warming will cause estimated to be 7 times lower than previous federal estimates Growing up in the 70s they used to shit us up with the ice age that was coming Then in the 80s we were all going to die in flames with global warming Sadly that didnt happen so we renamed it climate change Which is great because now we wont have to keep changing itClimate Deep Indian Ocean temperature data shows warming in deeper layers in addition to the existent concern of surface warming paving the way to visible changes in Monsoon patterns and climate anomalies on a global scaleVisualPersist It has been raining since morning in Dehradun It gives a pleasant relief here but if the rain stops heat and humidity starts again 45 decades ago even fan were never required here but today cannot live without AC Is it the effect of Climate change or GlobalWarming Deep Indian Ocean temperature data shows warming in deeper layers in addition to the existent concern of surface warming paving the way to visible changes in Monsoon patterns and climate anomalies on a global scale What is all this hype about Global Warming Is it even realRead more about climate change Link in bio climatechange environment nature globalwarming sustainability savetheplanet climate All things being equal ie no change in climate change policy physical risks would be greatly increased as global emissions keep rising until 2080 leading to more than 3C of warming wiping out 25 of GDP Physical risksclimate related conflict migration extreme weather science The 11TH HOUR FOR THE EARTH climate change climatechange global warming Reuters While we urge govt officials to pass legislation to curb global warming and climate change why not adopt a healthy vegan diet to drastically our impactclimate SouthPole diet ItsTheDiet GoVegan vegan ShareThePlanet Newsweek climate ClimateChange GlobalWarming Did people really believe that by rightwing govt officials in US Russia Brazil Turkey Philippines and elsewhere outlawing the words GLOBAL WARMING and CLIMATE CHANGE it would make it not be soReally Three fossil fuel entities violated Minnesotas Consumer Fraud Act by issuing misleading statements about global warming and engaged in a 30year campaign of climate change deception a lawsuit filed Wednesday by the states attorney general claims Book the must read book on Climate Global WarmingAlarmists Skeptics and Deniers A Geoscientist Looks at the Science of Climate Change climate ClimateAction ClimateActionNow ClimateEmergency ClimateChange New research by scientists at the University of Reginas Institute of Environmental Change and Society shows that global warming is increasing levels of toxic algae detrimental to human health climate New article Solar geoengineering could cause unwanted changes in climate new modelling suggests Physics World Bid to mitigate global warming could stagnate weat Climate physics NEARLY HALF of Americans are affected by climate change According to Yale 69 of Americans also believe that global warming only affects plants and animals THIS IS NOT TRUE Climate change is a major threat to mankind and we must fight it Reduce Reuse Reuse again Climate Tomorrow is WorldRefugeeDay Without ClimateAction 35 billion may be living in intolerable heat by 2070 resulting in more climate migrationClimate of Change is exploring how to boost resilience to global warmingWeWorldOnlus UniboMagazine Today meteorologists around the world unite to raise awareness of our planets ever warming climate The stripes shown below depict global temperature change by year ShowYourStripes MetsUnite Go Live with Climate Change WebinarMeetings International is organizing Webinar on Climate Change and Global Warming will be hosted on December 14 2020 at 1000 AM GM1 climate change The Global Warming Issue The Enemy We Cant Stop Due to global warming the potential release of methane from methane clathrate compounds buried in the seafloor into the atmosphere may cause a runaway greenhouse effect a tipping point in climate change Make a difference with E2C renewableenergy Humanity total failure to fight global warming caving in to Big Oil Since 1990 and first IPCC report to fight climate change global emissions of c02 from energy and industry have risen by 62 pumping another 870 billion tonnes of c02 into atmosphere ATomalty cathmckenna gmbutts JustinTrudeau CBCNews good question its all about the money climate change global warming For our society to thrive we must save and protect our environment planting trees is one of the many environmental issues affecting our country Major environmental problems OverpopulationDeforestationClimate changeGlobal warming Crop Life International gt How Climate Change is Powering Global PestsJune 4 2020 climatechange agrobiodiversity plantbreeding plantpathology IPM climate warming biotechnology food foodsecurity agriculture IYPH2020 Genetics An interactive online platform designed to help policy makers and businesses understand climate scenarios and better assess the threat of global warming Weblink to SENSES platform climate change environment awareness WorldEnvironmentDay2020 An opportunity to decarbonize Perhaps a postpandemic economy can serve us all better from CTVNews climate change economy global warming Year 20192020 will be crucial for global warming and climate change researchers as lockdown will serve some new exciting dataman vs nature OPINION Complex climate change negotiations have to include the countries and people most affected by global warming and that cannot be done online writes UNUEHS scientist soekreft COP26 COVID19 We are about to but still havent hit that 15deg mark and the world is facing frequent weather amp climate extremes Shown below is long term Global temp change Imperative to limit the warming ClimateCrisis ClimateAction ClimateChange New research out of YaleClimateComm on Climate Change amp the American Mind2 in 3 Americans feel a personal sense of responsibility to help reduce global warming47 perceive a norm in which their friends amp family expect them to take action climate New Podcast What If I Paid You A Million Dollars on Spreaker change climate climatechange cooling earth global reality science sunspot theories warming Could coronavirus change how we tackle the climate crisis Global Warming coronavirus change climate coronavirus crisis global tackle warming The New York Times Americans positions on climate change have remained largely unshaken by the coronavirus pandemic and economic crisis according to a new national survey that showed acceptance of the reality of global warming at record highs in s Promote RedbubbleRedbubble logo redbubble findyourthing heatwaves climatechange planetearth globalwarming savetheplanet fantasyillustration decor apparel art Tweeted via Americans positions on climate change have remained largely unshaken by the coronavirus pandemic and economic crisis according to a new national survey that showed acceptance of the reality of global warming at record highs nytimes Limiting global warming to 15 C would reduce the odds of initiating the most dangerous and irreversible effects of climate changeA path to ensure that is possible but not easy The study has found that much like humans insects will change their diet to try new things depending on where they are The discovery could have a serious impact on crops as global warming causes insects to colonise new regions climate WHOSEARO WHO UNinBangladesh icddrb WHOThailand WHOSriLanka WHOTimorLeste WHOMaldives WHOIndonesia Amidst the issues that our planet is dealing with namely climate change and global warming the coronavirus outbreak has proven to one of the toughest challenges for humankind Experts have interlinked the spike in the number of infections climate change treenvest ENVIRONMENT AT CROSSROADS CHALLENGES AND GREEN SOLUTIONSThis book deals with various environmental problems like climate change global warming etcFor more visit Order at environment nature sustainability climate Latest research could reduce climate change risks Share more innovative ideas to protect our environment at Global Warming Congress environmental science health pollution climate crisis meetings toxicology Very society needs a fundamentally new approach for mitigation againest Global warming and power governance systems take positive decisions for adaption climate changeClimatogist Abdikarim Hassan MA of Climate change and Environmental Sustainbality iamshaunbailey Did Adam go and pump them up with a speech on global Warming Climate Change So because the UKs Covid model might have arrived at a high numberProfessor Michael Manns hockey stick model was used by the IPCC mass media and politicians to push the manmade global warming now called climate change hysteria over the past two decades Climate The world can be best served and transformed only if we start being sensible and mindful of our own attitude and choicesenvironment green carbon footprint global warming climate change refuse recycle Governments must prioritize the fight against global warming in stimulus packages aimed at alleviating the coronavirus crisis because climate change may cause much greater chaos in the future says Engies CEO via businesscovid climate I think corona is taking care of global warming and climate change as local is being advocated Now there will be a brake on global workflow labour flow and goods and services flow Now produce local and consume local is the mantra given by PM Modi In this CarbonBrief October 8 2018 it is explained why the IPCC Intergovernmental Panel on Climate Change was asked to produce a report focused on 15C of global warming what the report says and how the report has been receivedScience Policy As much as I love Singapore also widely known as the Clean and Green city the usage of singleuse plastics is distressingly rifereuse recycle refuse environment waste food eco shop carbon footprint global warming climate change treenvest nature environment trees natural ecosystem water earth conservation adaptation climate change global warming climatechange globalwarming destruction planet resources naturalresources species extinction conserve animals birds habitats habitat Theres a difference between global warming and climate change idiots GlobalWarming Climate AdamskiPeter lamphieryeg Global warming is a reality the hoax is the thought that a carbontax can change the weather or climate Heres some of the science The fact that the biggest global economic contraction since the Great Depression will not make a dent in future warming should be sobering It highlights the fact that we need to change the way we build human prosperityCO2ClimateCrisis climate Yes green energy is not perfect bio wood is new coal but overall green energy is a much cleaner form of energy than dirty fossil fuels and is only chance we have off avoiding utter devastation from runaway global warming climate change M Moore MMFlint has let world down World did not take warnings of a pandemic serious until it arrived and still world does not take warning of climate change diaster serious despite the force of global warming being unleashed that like a pandemic we will one day awake up and experience a world hostile to life 4 Underrated Climate Change Donors Who Are Actually More Generous Than Jeff Bezos By SissiCaoClimatechange Globalwarming Thesolarrevolution Climate Freshair Planet Change Earth Changeclimate Global Warming CLIMATE CHANGE Global WARMING Adelaide records wettest April in 22 years as rain and strong winds lash SA 2020 will be hottest year on recordLockdowns have lowered emissions but longerterm changes neededPerspective Coronavirus will reduce global emissions by 55 We need to reduce emissions 76 EVERY year for decades to limit warming to 15C climate Our choice comes down to this grounded reformation or global devastation We can continue to plunder this planet and each other or we can make our way to reformation warming environment change climate Areas with outbreaks may have to take aggressive actions to reduce their pollution for example by closing down polluting plants immediately also for the sake of global warmingremember that health environment climate change Earth pandemic Energy Clarity No energy is sustainable fossil fuels fuel coal oil gas fracking nuclear global warming climate change environment renewable moral good freedom objectivism climate artPowerful climate change photos reveal devastating impact of global warming around the world via app Agoras 50 finalists for its ClimateChange2020 competitionEarthDay2020 Earth Day is TOMORROW Read more blogs on Lets work together and Stop Climate Change NOW Climate Change Global Warming Earth day Freedom to compete No energy favoritism by governments oil gas coal nuclear fossil fuel carbon emmissions environment global warming climate change human flourishing movement If The Parched West is Heading Into a Global WarmingFueled Megadrought That Could Last for Centuries climate Its because Anti Nuclear FoE Trolls promoted coal oil for decades YES We need to change to thorium NuclearEnergy Melting Glacier Reveals More Evidence Of Very Warm Medieval Warm Period The Global Warming Policy Forum GWPF drtimball climate change The biggest deception in historyBREAKING DrTim Ball wins against Dr Michael Mann lawsuit Coronavirus Cure Worse Than Problem Donald TrumpRead More alarmist carbon change chemtrails climate co2 coronavirus dioxide geoengineering global leftist warming THINK ABOUT IT gtgtgt Global Warming a convenient truth Or false Polar vortex amp Biblical prophecy Climate Change or See postulates by Prince Handley and then decide for yourself HINT Why you do NOT need to worry about it but Keeping global warming below 2C flattens the curve of climate change risk to biodiversity It does this by massively reducing the number of species at risk and buys more time for species and ecosystems to adapt to the changing climate via TCAfrica THE FOUR HORSEMEN OF THE ENVIRONMENTAL APOCALYPSE via delltwyla Global Warming Climate Change Earth Day Mother earth is rebooting Learning lesson for climate change global warming Coronavirus Vaccine Testing Starts TodayRead More alarmist carbon change chemtrails climate co2 coronavirus dioxide geoengineering global leftist warming Get on the Coronavirus Vaccine TrainAll Aboard YiiiiiihaaaaaaRead More alarmist carbon change chemtrails climate co2 coronavirus dioxide geoengineering global leftist warming science The 11TH HOUR FOR THE EARTH climate change climatechange global warming The11thHour Watching American President Love that movie Annette Bening ranting about climate change global warming and fossil fuels Movie from 1995 Cant make this up climate climatechange globalewarming hollywood climatescam environment birds global warming climate change In regards to climate change just remember his attacks on Sanders call to ban fracking CO2 emissions are the biggest contributor to global warming Apparently he is opposed to putting a significant dent in them by banning fracking by the fossil fuels industry Climate JC Projected changes in snow water equivalent over the Tibetan Plateau under global warming of 15C and 2C In India coastal women who have long dived for a harvest are now battling globalwarming driven changes to keep their profession alive l womensrights climate New Podcast Inconvenient Facts The Virus and the Environment on Spreaker change climate global power solar warming wind Do not miss your chance to share your innovations with a global audience at Climate Change Global Warming 2020 during December 1415 2020 at Dubai UAE The Climate Change2020 would comprise keynote presentations oral presentations poster presentations What Was Really Happening In AustraliaOver 200 people arrested for arsonbut FakeMedia says its climate change Creating Facts To Prove Global WarmingGlobal Engineeringwho benefits Globalistsmaga americafirst World can avoid catastrophic global warming with Climate solutions in hand todaystudy There is no single solution to combat climate change From climatefriendly diets and improved education to electric vehicles and Overpopulation is a myth themoreyouknow knowledge wisdom facts truth fossil fuel oil gas coal hydro nuclear climate change global warming I am worried about future of the world this kind of disaster has never been as strict as now Alsowe cant neglect the climate change and in my view of pointglobal warming is the most awful happening that humans had encounteredclimate ClimateStrikeOnline ClimateActionNow Call for AbstractsSubmit your abstracts under the session of ClimaticConditions for 7th World Summit on Climate Change amp Global Warming scheduled during December 1415 2020 at Dubai UAE Global warming is driving increased inequality The gap between the worlds richest and poorest countries is 25 percent larger than it would have been without climate change Check out this fascinating thread on new research from UW UWEnvironment on the impacts of shipping emissions on climate Emissions from changes in cooling This masks 13 of global warming due to greenhouse gases climate airpollution airquality Call for Speakers at Climate Change amp Global Warming Conference in the month of December 1415 2020 at Dubai UAEShare your research work with young researchers amp studentsRegister and confirm your slot now Will the effort to revive the global economy after the pandemic accelerate the emissions of planetwarming gases rather than avert climate change activist activism climate climatechange climatecrisis climateemergency climatejustice No its not the sunYes scientists agree on whats causing itNo a cold day doesnt disprove global warmingWeatherProf at CBS debunks some common climate change myths Myth Scientists dont agree on climate change False Almost all can agree on Humancaused global warming climatemyth mythbuster climate dbirch214 Global warming is ended for now only global climate change is left on the scene covid Globalization Climate Change and Human Health NEJM pandemic frequency and global warming climate change It is fascinating to see how absurd the arguments of climate deniers are and who questions validity of climatescienceThere is no evidence that global warming was rebranded as climate change via ConversationUK Global warming severe consequences for Africa particularly Sahel consequences of climate change Changes in building and construction have great potential to slow global warming climatechange nature environment climate climatestrike globalwarming savetheplanet sustainability gretathunberg zerowaste climatecrisis fridaysforfuture earth With global warming we wont need as much insulation in the future Myth or Truth climate change Climate JC The change in the ENSO teleconnection under a low global warming scenario and the uncertainty due to internal variability ecology environment climate volunteers Thunberg policy Ecologie Ecology and how to protect it Whats dangerous about Greta Thunberg It is considered that the causes of climate change and global warming Read KOLKATA Climate change and global warming may hit Indias GDP within a decade a report published by the McKinsey Global Institute MGI has said Breakingnews Change Climate gdp Googlenews India Indianews Indianewstoday Indias McKinseyGlobalI Global Warming Evidence Shocking Then amp Now Photos Reveal What 100 Years of Climate Change Has Done to Arctic Glaciers vintage everyday globalwarming climate environment Links to the ENVIRONMENT climate change consumerism ecology global warming Whilst this winter was a truly extreme event in its own right it is likely that these sorts of events have been made more extreme by the global warming trend said Carlo Buontempo director of the CopernicusEU Climate Change Service Yes Climate Change Did Influence Australias Unprecedented BushfiresSuch an extreme fire season is at least 30 percent more likely because of global warming a new analysis finds sciam Researchers have found that humancaused climate change had an impact on Australias recent devastating wildfiresmaking the extremely highrisk conditions that led to widespread burning at least 30 percent more likely than in a world without global warming via henryfountain women environment united nations global warming climate change Study Finds Half of Worlds Beaches Will Disappear by 2100 globalwarming climatechange oceans satire comedy humor jokes WBrettWilson nationalpost The basic assumption on which the entire theory that human activity is causing global warming or climate change is wrongIn every record of temperature amp CO2 the temp changes firstTim BallClimate Meet The 19YearOld AntiGreta Who Warns Thunbergs Alarmism Must Be Stopped The Global Warming Policy Forum GWPF Climate change is an issue to be tacked but climate hysteria and ecological terrorism is only polarizing Canadians climate nytclimate A dream of the climate denier antiscience privilegecemented lobbyist type Just a dream to have a human posting this in 2017 two years after ParisAgreement and fully 40 years AFTER ExxonMobil own scientists mapped fossilfuel climate change global warming scenario ESG science The 11TH HOUR FOR THE EARTH climate change climatechange GlobalWarming global warming New Podcast Is Greta Thunberg right about Climate Change on Spreaker bears change climate climatechange global globalwarming greta gretathunberg icecapmelting melting naomiseibt polar polarbears seibt thunberg warming Now 5 years later I know that this battle is mine too I am here and I am informed where do I go where do I start because I am not proud of the environment I live around global warming climate change Africa South Africa environment Global Warming Times British ski resort to close because of climate change skiing climate UK globalwarming Great having 180 people at Hepburn Wind making a human sign to keep global warming below lt15 CCommunities across the state are already feeling the impacts of climate change Now is the time to cut our emissions THIS IS AN EMERGENCYGretaThunberg addresses a crowd of tens of thousands in Bristol prior to marching for climate change awareness march rightnow ecology environment weather floods storm ciara dennis jorge global warming emergency Scientific indicators industry must offset warming climate across a multitude of continuous incremental changes CO2 levels in atmosphere Ocean heat content Global sea level rise Each creeps up year after year fuelled by humancaused emissions MsAvaArmstrong Climate has always changed Will always change Helped form earth That is why they dropped global warming tag I think that rather than harass world leaders to reduce global warming cheaper energy technology can do it but change should happen slowly enough to avoid economic collapse and possible resulting war and starvation climate energy EnergyStorage hydrogen peace wordsbyfrank Climate change is not only expected to affect the amount of available water but it will also impact the timing at which that water is delivered or naturally storedABaileyLocke WBUR Fight Global Warming Demand CleanerCars BBCPropaganda Maybe an influenza like the Spanishflu is desired that killed 50 million people that should reduce the global warming the climate change that the planets been experiences for the last 100 million years seems odd dose it not start of the 2020 Climate ChangeGlobal WarmingClimate Emergency Can Carbon rationing help fight climate change Finland has plans to be carbon neutral by 2035 City has already halved its carbon emission since 1990CityCap app funded by EU to tell you your carbon foot print The Global Warming Song globalwarming climatechange globalcooling global environment climate change funny via YouTube In 1994 Smol and his team started talking about climate warming well before it became an issue of global preoccupation We never thought we would see this much change in our lifetime queensu ottawaeggheads OwenPaterson Telegraph Working to reduce global warming and climate change might be an idea alsoClimateChange climate GlobalWarming flooding New into London Climate Change a Ladybird Expert Book The 3 authors including Prince Charles delve into the history challenges amp dangers of global warming and some potential solutions to reduce it It has some lovely illustrations BritGeoSurvey PenguinUKBooks Climate Climate change How 15C degrees of global warming could change the world now trending on Monkey Viral CFigueres and tomcarnac believe that the Climate protests and youth Strikes seen around the world in recent months will eventually lead to the kind of fundamental change needed to limit global warming imsuzn Of course CO2 is a nutrient Its also a greenhouse gas Global warming changes rainfall patterns causing droughts and fires which kill plants and animals Climate ClimateEmergency ClimateAction KnowledgeIsPower Who is to blame about climate change or global warming climate alert Zambia Even foxnews is starting to report some of the TRUTH about Climate ChangePS Not canWILL If humans thanks to our shortsightedness amp greed dont do something about global warming it will cost us MUCH more than it would have to stop it Whats the difference between ClimateChange amp GlobalWarming Global warming refers to the longterm warming of the Climate change refers to the broader range of changes that are happening to our eg sea level rise due to the warming Really Just 12 years before the planet goes kaput due to climate change Read our profile of 10 anthropogenic global warming proponents and five skeptics and decide for yourself C02 climate I think that this is total madness The shortage of snow is probably the result of global warming This is like trying to do extinguish a fire with a bucket of oilClimate Change CarbonFootprint vegan climate change global warming carbon protest dog cat car Climate Change Feedback Loop 5 WarGlobal warming will cause resource wars between nations wars which will damage environments and increase global warming The impacts of further warming may then cause further war adding to environmental damage and warming1725climate Climate Change Feedback Loop 2 MethaneMethane is nasty stuff Released by the melting permafrost it contributes powerfully to global warming so we warm quicker so more permafrost melts so more methane is releasedYou get the picture1325ClimateChange Climate CGTNOfficial Climate Change Feedback Loop 5 WarGlobal warming will cause resource wars between nations wars which will damage environments and increase global warming The impacts of further warming may then cause further war adding to environmental damage and warming1725climate CGTNOfficial Climate Change Feedback Loop 2 MethaneMethane released by the melting permafrost contributes powerfully to global warming so we warm quicker so more permafrost melts so more methane is released1325ClimateChange ClimateEmergency ClimateActionNow Climate Climate Change Feedback Loop 2 MethaneMethane released by the melting permafrost contributes powerfully to global warming so we warm quicker so more permafrost melts so more methane is released1325ClimateChange ClimateEmergency ClimateActionNow Climate What is the difference between climate change amp global warming Global warming the planets longterm warming Climate change global warming a broader range of changes that are happening to our planet due to global warming Learn more 20 environment sea global warming climate change tamilnadu government Climate 2020 Elizabeth Warren It is a shame that our World is getting more and more polluted and Global Warming and Climate Change is a horrible danger to all of us Time is running out we must act now Stephan R Green Peace USA Sea urchins decimated by double whammy in East Mediterranean Global warming climate change Oceanwarming urchins Recordbreaking heat in Antarctica prompts new concerns about climate change New concerns about global warming after recordbreaking heat in Antarctica Recordbreaking heat in Antarctica prompts new concerns about climate change New concerns about global warming after recordbreaking heat in Antarctica Scientist say it is among the fastest warming regions on Earth A FreeBook I shared on LinkedIn I used storytelling and fictional characterizations to describe a possible secondary cause to global warming and climate change freedownload writingcommunity ebook ajherald author cnn nyt potus free learn I can hardly stand the number of people that have been brainwashed to believe in anthropogenic global warming aka Climate Change Its the one issue that POTUS has not hit headon wisely since it is so polarizing BHO did a number with his settled science claim Climate Climate JC Changes in Convective Available Potential Energy and Convective Inhibition under Global Warming My Entry for Climate ChangeGlobal Warming Writing Contest by upmewhale climate warming writing posh steem Climate NPG Impacts of climate change on tropical cyclones and induced storm surges in the Pearl River Delta region using pseudoglobalwarming method Happening NowThe Senate Committee on Global Warming amp Climate Change is hosting an oversight hearing in Hearing Room A1 to discuss the latest MassINCPolling climate report Join us now to learn more from SKoczela amp Maeve Duggan about the groups key findings mapoli Climate Emergency Climate ChangeGlobal WarmingClimate Activist Antarctica is melting A climate activist swimming under Antarctica iceCan you imagine the enthusiasm of the activist Become a climate activist Climate Emergency Climate ChangeGlobal warmingSpekboomSpekboom a low maintenance shrub which acts as a carbon sinkCarbon sequestration is 154 tonnes of CO2 per hectare per yearSouth Africa going for carpet planting of this shrub under UN initiative New Podcast Climate Change Or Global Warming on Spreaker biden bowl brexit burger change climate clinton coronavirus cruz donald global gop impeachment impossible king mcconnell pelosi super trump warming I used to be an environmentalist whos standard of value was doing the least amount of harm to the planet but that was before I read The Moral Case of Fossil Fuels and my eyes were opened Now my standard of value is human flourishing warming climate global change Top 10 Major Causes of Global Warming that changes climate of World Climate Change Is Real To all the people who deny the science and clear evidence that global warming and climate change is real take a look at the world and the evidence of it and rethink your ignorance ClimateChangeIsReal ClimateEmergency climate GlobalWarming As our planet gets greener plants are slowing global warming Q Will acidic oceans impact biological response to climate changeClimate ClimateAction ClimateEmergency Nature SciComm Complexity CdnPoli ClimateStrike Math Physics STEMinist The government has pledged over 1 million to tackle food waste FoodWaste is a huge contributor to global warming and our forthcoming title Food and Climate Change without the hot air will look at this in detail faccwtha sarahbridle The scope of the measures taken against global warming and climate change we celebrate DHMI for AIRPORT PROJECT CARBON launched in Turkeys all airportsDHMIaviation climate dhmikurumsal Upmewhale Writing Contest Global Warming and Climate Change What Can Be DoneMy entri contest upmewhaleselfpowerclimatechangeglobalwarmingGoGreen Steem Ilovesteem Did you knowtechexplorist climate researchers detect fingerprint global warming daily weather level observations amending long established paradigm change Dr Ecotone2 of CCYale sat down with GretchenMarg to talk about Americans perceptions of the climate crisis Leiserowitz emphasized the importance of communicating about climate change differently for each audience in Global Warmings Six Americas Fed has a role in combating climate change risk Powell says US Federal Reserve Chair Jerome Powell said on Wednesday the Fed can play a part in keeping global warming from destabilizing US banks and financial markets via Reuters Climate ChangeI have known and discussed about climate change global warming and sustainable development for many years but this place is the first time I really realize that it is so real The ice is united nations Greta Thunberg environment global warming climate change Im guessing the argument will be that global warmingclimate change makes arsonists light firesGlobalWarming ClimateEmergency ClimateCrisis climate Carbongate ClimateDepot ClimateAudit Carbongate RossMcKitrick Why act now on climate change Global warming of 4C would threaten up to 85 of the worlds winegrowing regions not to mention a whole lot else climate wine France Germany Australia NewZealand California Italy Spain Councils are ahead of the game on global warming but need urgent capital funding to drive change says Solaces new environment and climate change spokesperson lgcplus invite you to know the best community of original creators of content that rewards you You will not regretBeyond climate change global warming Whats behind Steemit steem Steemit oc posh selfpower climatechange New Podcast Is eating meat bad for you and the environment on Spreaker change climate davos global greta huffpost meat thunberg vegan warming BrianDeCesare ibrahimpols Do scientists agree on climate changeYes the vast majority of actively publishing climate scientists 97 percent agree that humans are causing global warming and climate changeClimateAction Nobody making money from fossil fuels is doing anything climate change global warming Climate Emergency Climate ChangeGlobal Warming Wars fuels Climate Change Climate Change fuels Wars Continuous Cycle Is Non Violence the solution to Climate Change Tim Ball Evidence Proves That CO2 Is Not A Greenhouse Gas The basic assumption on which the entire theory that human activity is causing global warming or climate change is wrongIn every record of temperature amp CO2 the temp changes firstclimate Australian business leaders increasingly worried climate change will hit bottom lines IMF warns global warming is now a major financial risk amp the worlds top central bank says the RBA could be forced into rescuing the economy amp the environment v smh Great Discussion between HRH CharlesHRH amp GretaThunberg in DavosBoth agreed that climate change global warming amp HE realDonaldTrump are the greatest threats humanity has ever faced ChrisMEnder lizwathuti UNEP UNEPAfrica WhiteHouse CAH ClimateAction climate Blended fuels with high black carbon emissions would undermine IMO attempt at tackling shippings contribution to climate crisis and would seriously aggravate global efforts to combat climate change in general and warming in Arctic in particular The spat between Mnuchin amp Thunberg again highlighted the tensions over climate change at the WEF in Davos where governments have come under pressure to act on global warming as well as talk about the issueGretaThunberg climate WorldEconomicForum Shes a political activist she Can and Should be criticized ClimateChange is a hoax Back when I was 16 it was the coming ice age when my daughter was 16 it was global warming Climate doesnt change that fast Climate change and global warming are one of the main factors triggering fires all over the world not only forests are exposed to this threat but also our houses and buildingsLets talk about fire resistant materials klimaatVeranda climatehysteria debunked1 is not warming and if it were it wouldnt matter2 human contribution to global warming uncertain 03993 increased CO2 is GOOD for planet not bad4 whatever economyruining measures leftists invent it wont change climate Global warming climate change the devastating loss of biodiversity are the greatest threats that humanity has ever faced and one largely of our own creation says Britains Prince Charles at wef in Davos climate Global warming climate change the devastating loss of biodiversity are the greatest threats that humanity has ever faced and one largely of our own creation says Prince Charles at the WEF2020 in Davos l Climate Science indicates climate change will be much more than global warming a warming Arctic destabilizes the polar jet stream weakening the polar vortex and bringing cold snaps climate Global warming Sound more dire than climate change via bopinion Tallinn 20C warmer than this time last year No snow Climate change global warmingestonia tallinn no snow global warm climate change CokePiers Climate Change Evidence How Do We Know gt Vital Signs of the Planet Global Climate Change and Global Warming How do we know its happening Heres the evidence auspol climate Putting my cybercar obsession in contextCloud Loss Because Of Climate Change Could Add A Further 8C Of Global WarmingThis Catastrophic Change Seems To Have Happened Previously 56 million years ago Examining the complicated politics of global warming in the USAeven as the toll has become difficult to ignore Conservative States Seek Billions to Brace for Disaster Just Dont Call It Climate Change nytimes climate CBSNews GretaThunberg GretaThunberg You are not alone In this time of the climate crisis we are making waves of change by letting more than 3 million users to carpool and contribute towards combatting C02 emissions and global warming This is our bit of creating a change DAVOS2020 So rich they are almost an alien species 22 men richer than all women in Africa Got rich by plundering Earth fueling global warmingDescend in Davis in emission guzzling planes to talk about climate change will they act or just spin more words continue to push Earth to abyss It seems Youtubes hidden algorithms are now promoting climate change denial videos 16 of the top 100 related videos for the global warming search term included scientifically incorrect information about climate change algosov Did you know that climate change or global warming was caused by us and the sad thing is that we dont want to take critical measuresTo combat climate change climate alert Zambia Tutorial Anthropogenic Global Warming AGW drtimball climate change The biggest premeditated deception of all time Book The Deliberate Corruption of Climate Science lttimothyballshawcagt realDonaldTrump This is why people are so concerned This warming isnt normal CO2 traps heat It acts similar to a blanket around our planet What will this look like in 20 or 100 years How will it effect your family From NOAA global temp changes 1880 to present Climate ClimateChange Dailymail News ClimateChangeampGlobalWarming 2019 2020 india environment protest global warming climate change Technology to change our climate issues Is this a possible secondary cause to Global Warming and Climate Change A 30 minute read on a possible Break Through Concept Anthony globalwarming innovation climate solution theory climtaechange Climate Change Conservation Science Global Warming Activism Scientific foundation of the explanation of global warming is not articulated well enough for the wide public And maybe this is exactly what our task is Almost all sustainability leaders agree on that talking about climate change is the most effective thing that we can do HaveWeAllGoneM1 Damn that global warmingClimate changes FACT That it is MM not Fact That we should pay LUNACY Mancaused Global Warmingbiggest hoax of last years AOC This is why people are so concerned This warming isnt normal CO2 traps heat It acts similar to a blanket around our planet What will this look like in 20 or 100 years How will it effect your family From NOAA global temp changes 1880 to present Climate ClimateChange If we teach the effect of Global Warming on us as individuals than on the society Wed rethink I think and wed do the needful that will benefit us individually and the society collectively That is climate action starts with U Climate Change Sustainability ECONigeria CDM ATI is conducting 3 days Training on Climate Change and Disaster Risk Reduction Resource person Dr Devi Prasad is delivered lecture on Global WarmingAdministrativeTrainingInstitute KapilMohanIAS Climate Change officerstraining CDM Impacts Disasters DRR If you search for terms such as global warming on YouTube you might end up watching misinformation about climate change Read more about it here 15 BBCWorld 3 climate used as supporting evidence that man made carbon dioxide can warm the earth from The Global Warming Carbon Dioxide Hoax Easy to Read Proof That Climate Change Is Normal and Not ManMade by Alan Fensin Climate change Oceans hotter than ever before hit their highest temperature ever last year and the rate at which they are warming is speeding up Researchers called the new data further proof of global warming Climate Scientists warn about todays global warming wc could mean more amp bigger volcanic eruptions in the futureAn urgent collective action to address climate change is much needed to save the lives amp livelihoods of many vulnerable nationsIIRR ClimateActionNow SDG13 TaalPH A new study led by AuburnU researchers and published in NatureClimate Change shows a fourfold increase in emissions of the potent greenhousegas nitrous oxidea major contributor to climate warmingin global streams and rivers physorgcom Climate change and global climate IPCC Observed changes information on the IPCC using special report Global Warming of 15 degrees Prof Dr Daniela Jacob Climate Service Center Germany GERICS TaruSakhi kalptaru108 KumariDiya PrakashJavdekar DGPIB gssjodhpur PadmaAwards moefcc UN DiyaPdkf madhusharmabjp betibacha UNYouthEnvoy educategirls swatipiramal anandmahindra kiransnm mayursuthar AlmasJiwani Nice amp Noble Iniative Need Of Hour As Global Warming At Its Peak Trees Combat Climate Change Offset Envinormental Changes Support Wildlife amp Generate Oxygen So Commend All Involved In This GreenIniative Which Help In Making Better Livable Society 4 Humans amp Help Animals A stark warning was issued in October 2018 in a report about global warming by the Intergovernmental Panel on Climate Change IPCC a VerityFirth Yes really incredible but he is not the first person who talked about Global WarmingAs far as I know it was Alexander von Humboldt who first talked about climate change already at the beginning of the 19 centuryHe was also against social and ecological monocultures The worlds biggest investors are coming under intense pressure over the role they play in climate change as the focus on tackling global warming moves beyond oil gas and mining to the companies that finance fossil fuel producers AttractaMooney FT Doubling methane gas CH4 in the atmosphere wont affect global warming and climate change Natural gas can be used for heating generating cheap electricity raising sheep etc without fear of climate change Fires not due to climate change expert Monash University researcher David Packham says global warming is a gradual process which doesnt explain major bushfires Australia Bushfire Climate DavidPackham Climate NPG Global warming changes tropical cyclone translation speed The task of dealing with global warming is urgent and importantglobalwarminghealth climatechangerealisation igbconline edciitd mgcshvaccompany climatechange climate globalwarming stopglobalwarming globalwarmingawareness pollutioncontrol Climate They started with Population Explosion then to Global cooling Global warming now its Climate Change Last Chance 1 from the series Last Chance a series of images addressing global warming and climate change40x 45 cm Limited Edition print on Hahnemhle artistic paperClimatechange ClimateCrisis environmentart savetheplanet lastchance climate Climate change global warming is no longer a problem for future generations but one thats already displacing communities costing billions and driving mass extinctions via NatObserver Terrible to lose so many animals trees and people in Austrilia global warming is the fuel for eucalyptus leaves in the hot countries most sad thing is that Trump does not support climate change shame and Good AP piece underscoring climate link to AustraliaFires Q Is climate change really a factorA Scientists both those who study fire and those who study climate say theres no doubt manmade global warming has been a big part CLIMATE Change Study Found Consistent Evidence of Global Warming Every Day Since 2012 GlobalWarming climatechange CLIMATE Change Study Found Consistent Evidence of Global Warming Every Day Since 2012 GPWX GlobalWarming climatechange An Inconsistent Truth From global cooling 1970s to global warming 1990s to just climate change And its your faultclimate environment climatechange fridaysforfuture savetheplanetgretathunberg klimaschutz climatestrike selfhate 2 climate thought alongside Einstein Robert Oppenheimer Richard Feynman Niels Bohr and Enrico Fermi from The Global Warming Carbon Dioxide Hoax Easy to Read Proof That Climate Change Is Normal and Not ManMade by Alan Fensin 3 climate used as supporting evidence that man made carbon dioxide can warm the earth from The Global Warming Carbon Dioxide Hoax Easy to Read Proof That Climate Change Is Normal and Not ManMade by Alan Fensin Global warming Global government via YouTube climate change warming carbon Its feared that climate change will make hot countries totally uninhabitable But global warming could end up having the ironic effect of making the weather in Britain and northwestern Europe even colder'"
      ]
     },
     "execution_count": 11,
     "metadata": {},
     "output_type": "execute_result"
    }
   ],
   "source": [
    "df['text'] = df['text'].apply(lambda x: cont_to_exp(x))\n",
    "' '.join(df['text'].tolist())"
   ]
  },
  {
   "cell_type": "markdown",
   "metadata": {},
   "source": [
    "#### Feature Engineering"
   ]
  },
  {
   "cell_type": "code",
   "execution_count": 12,
   "metadata": {},
   "outputs": [
    {
     "data": {
      "text/html": [
       "<div>\n",
       "<style scoped>\n",
       "    .dataframe tbody tr th:only-of-type {\n",
       "        vertical-align: middle;\n",
       "    }\n",
       "\n",
       "    .dataframe tbody tr th {\n",
       "        vertical-align: top;\n",
       "    }\n",
       "\n",
       "    .dataframe thead th {\n",
       "        text-align: right;\n",
       "    }\n",
       "</style>\n",
       "<table border=\"1\" class=\"dataframe\">\n",
       "  <thead>\n",
       "    <tr style=\"text-align: right;\">\n",
       "      <th></th>\n",
       "      <th>text</th>\n",
       "      <th>polarity</th>\n",
       "      <th>subjectivity</th>\n",
       "      <th>label</th>\n",
       "    </tr>\n",
       "  </thead>\n",
       "  <tbody>\n",
       "    <tr>\n",
       "      <th>0</th>\n",
       "      <td>The death of summer Arctic ice our Earth coole...</td>\n",
       "      <td>-0.054365</td>\n",
       "      <td>0.426984</td>\n",
       "      <td>-1</td>\n",
       "    </tr>\n",
       "    <tr>\n",
       "      <th>1</th>\n",
       "      <td>Elsevier and the EditorsinChief are pleased to...</td>\n",
       "      <td>0.387500</td>\n",
       "      <td>0.633333</td>\n",
       "      <td>1</td>\n",
       "    </tr>\n",
       "    <tr>\n",
       "      <th>2</th>\n",
       "      <td>From better climate change education to improv...</td>\n",
       "      <td>0.261905</td>\n",
       "      <td>0.345238</td>\n",
       "      <td>1</td>\n",
       "    </tr>\n",
       "    <tr>\n",
       "      <th>3</th>\n",
       "      <td>climate change Links to FIXING CLIMATE CHANGE ...</td>\n",
       "      <td>0.000000</td>\n",
       "      <td>0.000000</td>\n",
       "      <td>0</td>\n",
       "    </tr>\n",
       "    <tr>\n",
       "      <th>4</th>\n",
       "      <td>climate change The 11TH HOUR FOR THE EARTH cli...</td>\n",
       "      <td>0.000000</td>\n",
       "      <td>0.000000</td>\n",
       "      <td>0</td>\n",
       "    </tr>\n",
       "  </tbody>\n",
       "</table>\n",
       "</div>"
      ],
      "text/plain": [
       "                                                text  polarity  subjectivity  \\\n",
       "0  The death of summer Arctic ice our Earth coole... -0.054365      0.426984   \n",
       "1  Elsevier and the EditorsinChief are pleased to...  0.387500      0.633333   \n",
       "2  From better climate change education to improv...  0.261905      0.345238   \n",
       "3  climate change Links to FIXING CLIMATE CHANGE ...  0.000000      0.000000   \n",
       "4  climate change The 11TH HOUR FOR THE EARTH cli...  0.000000      0.000000   \n",
       "\n",
       "   label  \n",
       "0     -1  \n",
       "1      1  \n",
       "2      1  \n",
       "3      0  \n",
       "4      0  "
      ]
     },
     "execution_count": 12,
     "metadata": {},
     "output_type": "execute_result"
    }
   ],
   "source": [
    "df.head()\n",
    "# we're going to add length of text, word count, and average word length columns.\n",
    "# also, we will use textblob to add sentiment polarity columns"
   ]
  },
  {
   "cell_type": "code",
   "execution_count": 13,
   "metadata": {},
   "outputs": [],
   "source": [
    "from textblob import TextBlob"
   ]
  },
  {
   "cell_type": "code",
   "execution_count": 14,
   "metadata": {},
   "outputs": [],
   "source": [
    "df['polarity'] = df['text'].apply(lambda x: TextBlob(x).sentiment.polarity)"
   ]
  },
  {
   "cell_type": "code",
   "execution_count": 15,
   "metadata": {},
   "outputs": [],
   "source": [
    "df['text_length'] = df['text'].apply(lambda x: len(x))"
   ]
  },
  {
   "cell_type": "code",
   "execution_count": 16,
   "metadata": {},
   "outputs": [],
   "source": [
    "df['word_count'] = df['text'].apply(lambda x: len(x.split()))"
   ]
  },
  {
   "cell_type": "code",
   "execution_count": 17,
   "metadata": {},
   "outputs": [],
   "source": [
    "def get_avg_word_len(x):\n",
    "    words = x.split()\n",
    "    word_len = 0\n",
    "    for word in words:\n",
    "        word_len = word_len + len(word)\n",
    "\n",
    "    return word_len/len(words)"
   ]
  },
  {
   "cell_type": "code",
   "execution_count": 18,
   "metadata": {},
   "outputs": [],
   "source": [
    "df['avg_word_length'] = df['text'].apply(lambda x: get_avg_word_len(x))"
   ]
  },
  {
   "cell_type": "code",
   "execution_count": 19,
   "metadata": {},
   "outputs": [
    {
     "data": {
      "text/html": [
       "<div>\n",
       "<style scoped>\n",
       "    .dataframe tbody tr th:only-of-type {\n",
       "        vertical-align: middle;\n",
       "    }\n",
       "\n",
       "    .dataframe tbody tr th {\n",
       "        vertical-align: top;\n",
       "    }\n",
       "\n",
       "    .dataframe thead th {\n",
       "        text-align: right;\n",
       "    }\n",
       "</style>\n",
       "<table border=\"1\" class=\"dataframe\">\n",
       "  <thead>\n",
       "    <tr style=\"text-align: right;\">\n",
       "      <th></th>\n",
       "      <th>text</th>\n",
       "      <th>polarity</th>\n",
       "      <th>subjectivity</th>\n",
       "      <th>label</th>\n",
       "      <th>text_length</th>\n",
       "      <th>word_count</th>\n",
       "      <th>avg_word_length</th>\n",
       "    </tr>\n",
       "  </thead>\n",
       "  <tbody>\n",
       "    <tr>\n",
       "      <th>0</th>\n",
       "      <td>The death of summer Arctic ice our Earth coole...</td>\n",
       "      <td>-0.054365</td>\n",
       "      <td>0.426984</td>\n",
       "      <td>-1</td>\n",
       "      <td>274</td>\n",
       "      <td>49</td>\n",
       "      <td>4.612245</td>\n",
       "    </tr>\n",
       "    <tr>\n",
       "      <th>1</th>\n",
       "      <td>Elsevier and the EditorsinChief are pleased to...</td>\n",
       "      <td>0.387500</td>\n",
       "      <td>0.633333</td>\n",
       "      <td>1</td>\n",
       "      <td>163</td>\n",
       "      <td>27</td>\n",
       "      <td>5.074074</td>\n",
       "    </tr>\n",
       "    <tr>\n",
       "      <th>2</th>\n",
       "      <td>From better climate change education to improv...</td>\n",
       "      <td>0.261905</td>\n",
       "      <td>0.345238</td>\n",
       "      <td>1</td>\n",
       "      <td>176</td>\n",
       "      <td>23</td>\n",
       "      <td>6.695652</td>\n",
       "    </tr>\n",
       "    <tr>\n",
       "      <th>3</th>\n",
       "      <td>climate change Links to FIXING CLIMATE CHANGE ...</td>\n",
       "      <td>0.000000</td>\n",
       "      <td>0.000000</td>\n",
       "      <td>0</td>\n",
       "      <td>78</td>\n",
       "      <td>11</td>\n",
       "      <td>6.181818</td>\n",
       "    </tr>\n",
       "    <tr>\n",
       "      <th>4</th>\n",
       "      <td>climate change The 11TH HOUR FOR THE EARTH cli...</td>\n",
       "      <td>0.000000</td>\n",
       "      <td>0.000000</td>\n",
       "      <td>0</td>\n",
       "      <td>85</td>\n",
       "      <td>12</td>\n",
       "      <td>6.166667</td>\n",
       "    </tr>\n",
       "  </tbody>\n",
       "</table>\n",
       "</div>"
      ],
      "text/plain": [
       "                                                text  polarity  subjectivity  \\\n",
       "0  The death of summer Arctic ice our Earth coole... -0.054365      0.426984   \n",
       "1  Elsevier and the EditorsinChief are pleased to...  0.387500      0.633333   \n",
       "2  From better climate change education to improv...  0.261905      0.345238   \n",
       "3  climate change Links to FIXING CLIMATE CHANGE ...  0.000000      0.000000   \n",
       "4  climate change The 11TH HOUR FOR THE EARTH cli...  0.000000      0.000000   \n",
       "\n",
       "   label  text_length  word_count  avg_word_length  \n",
       "0     -1          274          49         4.612245  \n",
       "1      1          163          27         5.074074  \n",
       "2      1          176          23         6.695652  \n",
       "3      0           78          11         6.181818  \n",
       "4      0           85          12         6.166667  "
      ]
     },
     "execution_count": 19,
     "metadata": {},
     "output_type": "execute_result"
    }
   ],
   "source": [
    "df.head()"
   ]
  },
  {
   "cell_type": "markdown",
   "metadata": {},
   "source": [
    "#### Exploring Variable Distributions"
   ]
  },
  {
   "cell_type": "code",
   "execution_count": 20,
   "metadata": {},
   "outputs": [
    {
     "data": {
      "application/vnd.plotly.v1+json": {
       "config": {
        "linkText": "Export to plot.ly",
        "plotlyServerURL": "https://plot.ly",
        "showLink": true
       },
       "data": [
        {
         "histfunc": "count",
         "histnorm": "",
         "marker": {
          "color": "rgba(255, 153, 51, 1.0)",
          "line": {
           "color": "#4D5663",
           "width": 1.3
          }
         },
         "name": "polarity",
         "nbinsx": 50,
         "opacity": 0.8,
         "orientation": "v",
         "type": "histogram",
         "x": [
          -0.05436507936507937,
          0.38749999999999996,
          0.2619047619047619,
          0,
          0,
          -0.12187500000000001,
          0.2,
          0,
          0.125,
          -0.175,
          -0.125,
          0,
          -0.5,
          0.24545454545454545,
          -0.15454545454545454,
          -0.006249999999999999,
          0.071875,
          0,
          0.040625,
          0.05,
          0.15833333333333333,
          0.125,
          0.13685714285714284,
          -0.041666666666666664,
          0,
          0,
          0.10227272727272727,
          0.14166666666666666,
          0.11481481481481481,
          0.09583333333333333,
          0.3215909090909091,
          0.013888888888888886,
          -0.04583333333333334,
          0.23106060606060605,
          0.07500000000000001,
          0,
          0,
          -0.03333333333333333,
          0.03333333333333333,
          0.25,
          -0.2879629629629629,
          -0.1708333333333333,
          0.15595238095238095,
          0,
          0,
          0.26666666666666666,
          -0.1,
          0.16666666666666666,
          0,
          0.1,
          0,
          0.26,
          -0.125,
          -0.125,
          0,
          0,
          -0.125,
          0.1,
          0,
          -0.47333333333333333,
          0.05,
          0.05,
          0.20454545454545453,
          -0.125,
          0.014814814814814808,
          -0.12103174603174605,
          0,
          -0.19999999999999998,
          0,
          0,
          0.06818181818181818,
          -0.1,
          -0.253125,
          0,
          -0.23750000000000002,
          0.25,
          -0.05833333333333333,
          -0.4,
          0,
          0.1,
          -0.12187500000000001,
          0,
          0.12678571428571428,
          0.125,
          0,
          0,
          0,
          0.5,
          0.03125,
          0,
          0,
          0,
          0.0761904761904762,
          0.24375,
          0.05,
          0.1715909090909091,
          0,
          0.10606060606060606,
          0.08,
          -0.15,
          0,
          -0.0625,
          -0.0625,
          0,
          -0.06666666666666667,
          0.04545454545454545,
          0.10714285714285714,
          0,
          0.03125,
          -0.03958333333333333,
          0.2671428571428571,
          0,
          0.23750000000000002,
          0.05,
          0,
          0.05,
          0.07575757575757576,
          0.049999999999999996,
          0,
          0,
          0.04545454545454545,
          0,
          0,
          -0.06666666666666667,
          -0.025,
          -0.05555555555555555,
          0,
          0,
          0,
          0.195,
          0,
          0.05,
          0.16666666666666666,
          0.15,
          0,
          0,
          0,
          0,
          0.028571428571428574,
          0.041666666666666664,
          0.125,
          0.05325757575757577,
          -0.041666666666666664,
          0,
          -0.16666666666666666,
          -0.06666666666666667,
          0.20000000000000004,
          0,
          0.25,
          0.11666666666666665,
          0,
          0,
          0,
          0,
          0,
          0,
          0.1625,
          -0.21000000000000002,
          0.27499999999999997,
          0.03333333333333333,
          0.2,
          0.04545454545454545,
          -0.08333333333333333,
          0.008333333333333333,
          -0.08333333333333333,
          0.025000000000000022,
          0,
          0.4348484848484848,
          0,
          0.25,
          0.146875,
          0,
          0.25,
          0.1,
          0.02500000000000001,
          0,
          0.04545454545454545,
          0.0909090909090909,
          -0.05583333333333333,
          0.25,
          0,
          0.04545454545454545,
          0,
          -0.041666666666666664,
          -0.011111111111111118,
          0.35,
          0.28125,
          0,
          0.25,
          0.25,
          0.10909090909090909,
          0.06666666666666667,
          0.016666666666666666,
          0.04727272727272727,
          0.06818181818181818,
          0,
          0.1374025974025974,
          0,
          0.13766233766233765,
          -0.06333333333333332,
          0.02787878787878788,
          0,
          0.075,
          0.375,
          0.1409090909090909,
          0,
          -0.03,
          0.28,
          0.16666666666666666,
          0,
          0,
          0.06111111111111111,
          0.05,
          -0.4,
          0,
          0.2,
          -0.1199265381083563,
          -0.2222222222222222,
          0.25,
          0.21666666666666665,
          0,
          -0.09351851851851851,
          -0.07777777777777779,
          0.2333333333333333,
          -0.5,
          0.25,
          0,
          0,
          0.3633333333333333,
          0.012499999999999994,
          -0.16111111111111112,
          0.16666666666666666,
          0,
          0,
          0.15,
          0.15,
          0,
          0.16666666666666666,
          0,
          0.14166666666666666,
          0,
          0.025,
          -0.15454545454545454,
          0,
          0.1,
          0.017857142857142856,
          0,
          0.025000000000000022,
          0,
          0,
          0.17784090909090908,
          0.05,
          0,
          -0.3,
          -0.20000000000000004,
          0,
          0,
          0.06666666666666665,
          0.08333333333333333,
          0.125,
          0.06666666666666667,
          -0.03125,
          -0.3,
          0,
          -0.39999999999999997,
          0,
          0.16224489795918368,
          0.11590909090909092,
          -0.13214285714285715,
          0,
          -0.16666666666666666,
          0,
          0.13333333333333333,
          0.19999999999999998,
          0,
          0.08468614718614718,
          -0.06590909090909092,
          0,
          0.26666666666666666,
          0,
          0,
          0,
          0.05,
          0.08,
          -0.09166666666666667,
          0,
          0.08333333333333333,
          0.1,
          0,
          0.1590909090909091,
          -0.025,
          0.19999999999999998,
          0,
          0,
          0.175,
          -0.0625,
          0.025000000000000005,
          0,
          0,
          0,
          0.12,
          0,
          0.4,
          0.4,
          0.0625,
          0,
          -0.04,
          0,
          0.0909090909090909,
          0.0909090909090909,
          0.020000000000000007,
          0.1361111111111111,
          0.13333333333333333,
          0,
          0,
          0.25,
          0,
          0,
          -0.03939393939393939,
          -0.049999999999999996,
          0.1875,
          0.125,
          0,
          0.11250000000000002,
          0,
          0,
          -0.016666666666666666,
          -0.051851851851851864,
          0,
          0.22999999999999998,
          0,
          0.2,
          0.1,
          -0.08787878787878789,
          0.24375,
          -0.18787878787878784,
          -0.044444444444444446,
          0,
          0,
          0.06,
          0.03749999999999999,
          0.6,
          -0.020555555555555546,
          0,
          0.05,
          0.05555555555555555,
          0.2333333333333333,
          0.16285714285714287,
          0.16285714285714287,
          -0.05333333333333332,
          0.3,
          0.15,
          0.03333333333333333,
          -0.05555555555555555,
          -0.3333333333333333,
          0.25,
          0.2,
          0.08333333333333334,
          -0.16666666666666666,
          0,
          0.0375,
          0,
          0,
          -0.075,
          0,
          0.17857142857142858,
          0,
          0.0375,
          0.03333333333333333,
          0,
          0.16666666666666666,
          0.2866666666666666,
          0.03409090909090909,
          0.060937500000000006,
          0.1747159090909091,
          0.06428571428571428,
          0.425,
          -0.1,
          0.2761904761904762,
          0.1,
          0.16666666666666666,
          0.041666666666666664,
          0,
          0,
          0,
          0.052380952380952375,
          0,
          -0.041666666666666664,
          0.22499999999999998,
          0.125,
          0.125,
          0,
          0.19444444444444445,
          0.2866666666666666,
          0,
          0.1125
         ]
        }
       ],
       "layout": {
        "barmode": "overlay",
        "legend": {
         "bgcolor": "#F5F6F9",
         "font": {
          "color": "#4D5663"
         }
        },
        "paper_bgcolor": "#F5F6F9",
        "plot_bgcolor": "#F5F6F9",
        "template": {
         "data": {
          "bar": [
           {
            "error_x": {
             "color": "#2a3f5f"
            },
            "error_y": {
             "color": "#2a3f5f"
            },
            "marker": {
             "line": {
              "color": "#E5ECF6",
              "width": 0.5
             },
             "pattern": {
              "fillmode": "overlay",
              "size": 10,
              "solidity": 0.2
             }
            },
            "type": "bar"
           }
          ],
          "barpolar": [
           {
            "marker": {
             "line": {
              "color": "#E5ECF6",
              "width": 0.5
             },
             "pattern": {
              "fillmode": "overlay",
              "size": 10,
              "solidity": 0.2
             }
            },
            "type": "barpolar"
           }
          ],
          "carpet": [
           {
            "aaxis": {
             "endlinecolor": "#2a3f5f",
             "gridcolor": "white",
             "linecolor": "white",
             "minorgridcolor": "white",
             "startlinecolor": "#2a3f5f"
            },
            "baxis": {
             "endlinecolor": "#2a3f5f",
             "gridcolor": "white",
             "linecolor": "white",
             "minorgridcolor": "white",
             "startlinecolor": "#2a3f5f"
            },
            "type": "carpet"
           }
          ],
          "choropleth": [
           {
            "colorbar": {
             "outlinewidth": 0,
             "ticks": ""
            },
            "type": "choropleth"
           }
          ],
          "contour": [
           {
            "colorbar": {
             "outlinewidth": 0,
             "ticks": ""
            },
            "colorscale": [
             [
              0,
              "#0d0887"
             ],
             [
              0.1111111111111111,
              "#46039f"
             ],
             [
              0.2222222222222222,
              "#7201a8"
             ],
             [
              0.3333333333333333,
              "#9c179e"
             ],
             [
              0.4444444444444444,
              "#bd3786"
             ],
             [
              0.5555555555555556,
              "#d8576b"
             ],
             [
              0.6666666666666666,
              "#ed7953"
             ],
             [
              0.7777777777777778,
              "#fb9f3a"
             ],
             [
              0.8888888888888888,
              "#fdca26"
             ],
             [
              1,
              "#f0f921"
             ]
            ],
            "type": "contour"
           }
          ],
          "contourcarpet": [
           {
            "colorbar": {
             "outlinewidth": 0,
             "ticks": ""
            },
            "type": "contourcarpet"
           }
          ],
          "heatmap": [
           {
            "colorbar": {
             "outlinewidth": 0,
             "ticks": ""
            },
            "colorscale": [
             [
              0,
              "#0d0887"
             ],
             [
              0.1111111111111111,
              "#46039f"
             ],
             [
              0.2222222222222222,
              "#7201a8"
             ],
             [
              0.3333333333333333,
              "#9c179e"
             ],
             [
              0.4444444444444444,
              "#bd3786"
             ],
             [
              0.5555555555555556,
              "#d8576b"
             ],
             [
              0.6666666666666666,
              "#ed7953"
             ],
             [
              0.7777777777777778,
              "#fb9f3a"
             ],
             [
              0.8888888888888888,
              "#fdca26"
             ],
             [
              1,
              "#f0f921"
             ]
            ],
            "type": "heatmap"
           }
          ],
          "heatmapgl": [
           {
            "colorbar": {
             "outlinewidth": 0,
             "ticks": ""
            },
            "colorscale": [
             [
              0,
              "#0d0887"
             ],
             [
              0.1111111111111111,
              "#46039f"
             ],
             [
              0.2222222222222222,
              "#7201a8"
             ],
             [
              0.3333333333333333,
              "#9c179e"
             ],
             [
              0.4444444444444444,
              "#bd3786"
             ],
             [
              0.5555555555555556,
              "#d8576b"
             ],
             [
              0.6666666666666666,
              "#ed7953"
             ],
             [
              0.7777777777777778,
              "#fb9f3a"
             ],
             [
              0.8888888888888888,
              "#fdca26"
             ],
             [
              1,
              "#f0f921"
             ]
            ],
            "type": "heatmapgl"
           }
          ],
          "histogram": [
           {
            "marker": {
             "pattern": {
              "fillmode": "overlay",
              "size": 10,
              "solidity": 0.2
             }
            },
            "type": "histogram"
           }
          ],
          "histogram2d": [
           {
            "colorbar": {
             "outlinewidth": 0,
             "ticks": ""
            },
            "colorscale": [
             [
              0,
              "#0d0887"
             ],
             [
              0.1111111111111111,
              "#46039f"
             ],
             [
              0.2222222222222222,
              "#7201a8"
             ],
             [
              0.3333333333333333,
              "#9c179e"
             ],
             [
              0.4444444444444444,
              "#bd3786"
             ],
             [
              0.5555555555555556,
              "#d8576b"
             ],
             [
              0.6666666666666666,
              "#ed7953"
             ],
             [
              0.7777777777777778,
              "#fb9f3a"
             ],
             [
              0.8888888888888888,
              "#fdca26"
             ],
             [
              1,
              "#f0f921"
             ]
            ],
            "type": "histogram2d"
           }
          ],
          "histogram2dcontour": [
           {
            "colorbar": {
             "outlinewidth": 0,
             "ticks": ""
            },
            "colorscale": [
             [
              0,
              "#0d0887"
             ],
             [
              0.1111111111111111,
              "#46039f"
             ],
             [
              0.2222222222222222,
              "#7201a8"
             ],
             [
              0.3333333333333333,
              "#9c179e"
             ],
             [
              0.4444444444444444,
              "#bd3786"
             ],
             [
              0.5555555555555556,
              "#d8576b"
             ],
             [
              0.6666666666666666,
              "#ed7953"
             ],
             [
              0.7777777777777778,
              "#fb9f3a"
             ],
             [
              0.8888888888888888,
              "#fdca26"
             ],
             [
              1,
              "#f0f921"
             ]
            ],
            "type": "histogram2dcontour"
           }
          ],
          "mesh3d": [
           {
            "colorbar": {
             "outlinewidth": 0,
             "ticks": ""
            },
            "type": "mesh3d"
           }
          ],
          "parcoords": [
           {
            "line": {
             "colorbar": {
              "outlinewidth": 0,
              "ticks": ""
             }
            },
            "type": "parcoords"
           }
          ],
          "pie": [
           {
            "automargin": true,
            "type": "pie"
           }
          ],
          "scatter": [
           {
            "fillpattern": {
             "fillmode": "overlay",
             "size": 10,
             "solidity": 0.2
            },
            "type": "scatter"
           }
          ],
          "scatter3d": [
           {
            "line": {
             "colorbar": {
              "outlinewidth": 0,
              "ticks": ""
             }
            },
            "marker": {
             "colorbar": {
              "outlinewidth": 0,
              "ticks": ""
             }
            },
            "type": "scatter3d"
           }
          ],
          "scattercarpet": [
           {
            "marker": {
             "colorbar": {
              "outlinewidth": 0,
              "ticks": ""
             }
            },
            "type": "scattercarpet"
           }
          ],
          "scattergeo": [
           {
            "marker": {
             "colorbar": {
              "outlinewidth": 0,
              "ticks": ""
             }
            },
            "type": "scattergeo"
           }
          ],
          "scattergl": [
           {
            "marker": {
             "colorbar": {
              "outlinewidth": 0,
              "ticks": ""
             }
            },
            "type": "scattergl"
           }
          ],
          "scattermapbox": [
           {
            "marker": {
             "colorbar": {
              "outlinewidth": 0,
              "ticks": ""
             }
            },
            "type": "scattermapbox"
           }
          ],
          "scatterpolar": [
           {
            "marker": {
             "colorbar": {
              "outlinewidth": 0,
              "ticks": ""
             }
            },
            "type": "scatterpolar"
           }
          ],
          "scatterpolargl": [
           {
            "marker": {
             "colorbar": {
              "outlinewidth": 0,
              "ticks": ""
             }
            },
            "type": "scatterpolargl"
           }
          ],
          "scatterternary": [
           {
            "marker": {
             "colorbar": {
              "outlinewidth": 0,
              "ticks": ""
             }
            },
            "type": "scatterternary"
           }
          ],
          "surface": [
           {
            "colorbar": {
             "outlinewidth": 0,
             "ticks": ""
            },
            "colorscale": [
             [
              0,
              "#0d0887"
             ],
             [
              0.1111111111111111,
              "#46039f"
             ],
             [
              0.2222222222222222,
              "#7201a8"
             ],
             [
              0.3333333333333333,
              "#9c179e"
             ],
             [
              0.4444444444444444,
              "#bd3786"
             ],
             [
              0.5555555555555556,
              "#d8576b"
             ],
             [
              0.6666666666666666,
              "#ed7953"
             ],
             [
              0.7777777777777778,
              "#fb9f3a"
             ],
             [
              0.8888888888888888,
              "#fdca26"
             ],
             [
              1,
              "#f0f921"
             ]
            ],
            "type": "surface"
           }
          ],
          "table": [
           {
            "cells": {
             "fill": {
              "color": "#EBF0F8"
             },
             "line": {
              "color": "white"
             }
            },
            "header": {
             "fill": {
              "color": "#C8D4E3"
             },
             "line": {
              "color": "white"
             }
            },
            "type": "table"
           }
          ]
         },
         "layout": {
          "annotationdefaults": {
           "arrowcolor": "#2a3f5f",
           "arrowhead": 0,
           "arrowwidth": 1
          },
          "autotypenumbers": "strict",
          "coloraxis": {
           "colorbar": {
            "outlinewidth": 0,
            "ticks": ""
           }
          },
          "colorscale": {
           "diverging": [
            [
             0,
             "#8e0152"
            ],
            [
             0.1,
             "#c51b7d"
            ],
            [
             0.2,
             "#de77ae"
            ],
            [
             0.3,
             "#f1b6da"
            ],
            [
             0.4,
             "#fde0ef"
            ],
            [
             0.5,
             "#f7f7f7"
            ],
            [
             0.6,
             "#e6f5d0"
            ],
            [
             0.7,
             "#b8e186"
            ],
            [
             0.8,
             "#7fbc41"
            ],
            [
             0.9,
             "#4d9221"
            ],
            [
             1,
             "#276419"
            ]
           ],
           "sequential": [
            [
             0,
             "#0d0887"
            ],
            [
             0.1111111111111111,
             "#46039f"
            ],
            [
             0.2222222222222222,
             "#7201a8"
            ],
            [
             0.3333333333333333,
             "#9c179e"
            ],
            [
             0.4444444444444444,
             "#bd3786"
            ],
            [
             0.5555555555555556,
             "#d8576b"
            ],
            [
             0.6666666666666666,
             "#ed7953"
            ],
            [
             0.7777777777777778,
             "#fb9f3a"
            ],
            [
             0.8888888888888888,
             "#fdca26"
            ],
            [
             1,
             "#f0f921"
            ]
           ],
           "sequentialminus": [
            [
             0,
             "#0d0887"
            ],
            [
             0.1111111111111111,
             "#46039f"
            ],
            [
             0.2222222222222222,
             "#7201a8"
            ],
            [
             0.3333333333333333,
             "#9c179e"
            ],
            [
             0.4444444444444444,
             "#bd3786"
            ],
            [
             0.5555555555555556,
             "#d8576b"
            ],
            [
             0.6666666666666666,
             "#ed7953"
            ],
            [
             0.7777777777777778,
             "#fb9f3a"
            ],
            [
             0.8888888888888888,
             "#fdca26"
            ],
            [
             1,
             "#f0f921"
            ]
           ]
          },
          "colorway": [
           "#636efa",
           "#EF553B",
           "#00cc96",
           "#ab63fa",
           "#FFA15A",
           "#19d3f3",
           "#FF6692",
           "#B6E880",
           "#FF97FF",
           "#FECB52"
          ],
          "font": {
           "color": "#2a3f5f"
          },
          "geo": {
           "bgcolor": "white",
           "lakecolor": "white",
           "landcolor": "#E5ECF6",
           "showlakes": true,
           "showland": true,
           "subunitcolor": "white"
          },
          "hoverlabel": {
           "align": "left"
          },
          "hovermode": "closest",
          "mapbox": {
           "style": "light"
          },
          "paper_bgcolor": "white",
          "plot_bgcolor": "#E5ECF6",
          "polar": {
           "angularaxis": {
            "gridcolor": "white",
            "linecolor": "white",
            "ticks": ""
           },
           "bgcolor": "#E5ECF6",
           "radialaxis": {
            "gridcolor": "white",
            "linecolor": "white",
            "ticks": ""
           }
          },
          "scene": {
           "xaxis": {
            "backgroundcolor": "#E5ECF6",
            "gridcolor": "white",
            "gridwidth": 2,
            "linecolor": "white",
            "showbackground": true,
            "ticks": "",
            "zerolinecolor": "white"
           },
           "yaxis": {
            "backgroundcolor": "#E5ECF6",
            "gridcolor": "white",
            "gridwidth": 2,
            "linecolor": "white",
            "showbackground": true,
            "ticks": "",
            "zerolinecolor": "white"
           },
           "zaxis": {
            "backgroundcolor": "#E5ECF6",
            "gridcolor": "white",
            "gridwidth": 2,
            "linecolor": "white",
            "showbackground": true,
            "ticks": "",
            "zerolinecolor": "white"
           }
          },
          "shapedefaults": {
           "line": {
            "color": "#2a3f5f"
           }
          },
          "ternary": {
           "aaxis": {
            "gridcolor": "white",
            "linecolor": "white",
            "ticks": ""
           },
           "baxis": {
            "gridcolor": "white",
            "linecolor": "white",
            "ticks": ""
           },
           "bgcolor": "#E5ECF6",
           "caxis": {
            "gridcolor": "white",
            "linecolor": "white",
            "ticks": ""
           }
          },
          "title": {
           "x": 0.05
          },
          "xaxis": {
           "automargin": true,
           "gridcolor": "white",
           "linecolor": "white",
           "ticks": "",
           "title": {
            "standoff": 15
           },
           "zerolinecolor": "white",
           "zerolinewidth": 2
          },
          "yaxis": {
           "automargin": true,
           "gridcolor": "white",
           "linecolor": "white",
           "ticks": "",
           "title": {
            "standoff": 15
           },
           "zerolinecolor": "white",
           "zerolinewidth": 2
          }
         }
        },
        "title": {
         "font": {
          "color": "#4D5663"
         },
         "text": "Sentiment Polarity Distribution"
        },
        "xaxis": {
         "gridcolor": "#E1E5ED",
         "showgrid": true,
         "tickfont": {
          "color": "#4D5663"
         },
         "title": {
          "font": {
           "color": "#4D5663"
          },
          "text": "Polarity"
         },
         "zerolinecolor": "#E1E5ED"
        },
        "yaxis": {
         "gridcolor": "#E1E5ED",
         "showgrid": true,
         "tickfont": {
          "color": "#4D5663"
         },
         "title": {
          "font": {
           "color": "#4D5663"
          },
          "text": "Count"
         },
         "zerolinecolor": "#E1E5ED"
        }
       }
      },
      "text/html": [
       "<div>                            <div id=\"e5bcae8d-8db8-4d32-ad13-59eda849ba08\" class=\"plotly-graph-div\" style=\"height:525px; width:100%;\"></div>            <script type=\"text/javascript\">                require([\"plotly\"], function(Plotly) {                    window.PLOTLYENV=window.PLOTLYENV || {};\n",
       "                    window.PLOTLYENV.BASE_URL='https://plot.ly';                                    if (document.getElementById(\"e5bcae8d-8db8-4d32-ad13-59eda849ba08\")) {                    Plotly.newPlot(                        \"e5bcae8d-8db8-4d32-ad13-59eda849ba08\",                        [{\"histfunc\":\"count\",\"histnorm\":\"\",\"marker\":{\"color\":\"rgba(255, 153, 51, 1.0)\",\"line\":{\"color\":\"#4D5663\",\"width\":1.3}},\"name\":\"polarity\",\"nbinsx\":50,\"opacity\":0.8,\"orientation\":\"v\",\"x\":[-0.05436507936507937,0.38749999999999996,0.2619047619047619,0.0,0.0,-0.12187500000000001,0.2,0.0,0.125,-0.175,-0.125,0.0,-0.5,0.24545454545454545,-0.15454545454545454,-0.006249999999999999,0.071875,0.0,0.040625,0.05,0.15833333333333333,0.125,0.13685714285714284,-0.041666666666666664,0.0,0.0,0.10227272727272727,0.14166666666666666,0.11481481481481481,0.09583333333333333,0.3215909090909091,0.013888888888888886,-0.04583333333333334,0.23106060606060605,0.07500000000000001,0.0,0.0,-0.03333333333333333,0.03333333333333333,0.25,-0.2879629629629629,-0.1708333333333333,0.15595238095238095,0.0,0.0,0.26666666666666666,-0.1,0.16666666666666666,0.0,0.1,0.0,0.26,-0.125,-0.125,0.0,0.0,-0.125,0.1,0.0,-0.47333333333333333,0.05,0.05,0.20454545454545453,-0.125,0.014814814814814808,-0.12103174603174605,0.0,-0.19999999999999998,0.0,0.0,0.06818181818181818,-0.1,-0.253125,0.0,-0.23750000000000002,0.25,-0.05833333333333333,-0.4,0.0,0.1,-0.12187500000000001,0.0,0.12678571428571428,0.125,0.0,0.0,0.0,0.5,0.03125,0.0,0.0,0.0,0.0761904761904762,0.24375,0.05,0.1715909090909091,0.0,0.10606060606060606,0.08,-0.15,0.0,-0.0625,-0.0625,0.0,-0.06666666666666667,0.04545454545454545,0.10714285714285714,0.0,0.03125,-0.03958333333333333,0.2671428571428571,0.0,0.23750000000000002,0.05,0.0,0.05,0.07575757575757576,0.049999999999999996,0.0,0.0,0.04545454545454545,0.0,0.0,-0.06666666666666667,-0.025,-0.05555555555555555,0.0,0.0,0.0,0.195,0.0,0.05,0.16666666666666666,0.15,0.0,0.0,0.0,0.0,0.028571428571428574,0.041666666666666664,0.125,0.05325757575757577,-0.041666666666666664,0.0,-0.16666666666666666,-0.06666666666666667,0.20000000000000004,0.0,0.25,0.11666666666666665,0.0,0.0,0.0,0.0,0.0,0.0,0.1625,-0.21000000000000002,0.27499999999999997,0.03333333333333333,0.2,0.04545454545454545,-0.08333333333333333,0.008333333333333333,-0.08333333333333333,0.025000000000000022,0.0,0.4348484848484848,0.0,0.25,0.146875,0.0,0.25,0.1,0.02500000000000001,0.0,0.04545454545454545,0.0909090909090909,-0.05583333333333333,0.25,0.0,0.04545454545454545,0.0,-0.041666666666666664,-0.011111111111111118,0.35,0.28125,0.0,0.25,0.25,0.10909090909090909,0.06666666666666667,0.016666666666666666,0.04727272727272727,0.06818181818181818,0.0,0.1374025974025974,0.0,0.13766233766233765,-0.06333333333333332,0.02787878787878788,0.0,0.075,0.375,0.1409090909090909,0.0,-0.03,0.28,0.16666666666666666,0.0,0.0,0.06111111111111111,0.05,-0.4,0.0,0.2,-0.1199265381083563,-0.2222222222222222,0.25,0.21666666666666665,0.0,-0.09351851851851851,-0.07777777777777779,0.2333333333333333,-0.5,0.25,0.0,0.0,0.3633333333333333,0.012499999999999994,-0.16111111111111112,0.16666666666666666,0.0,0.0,0.15,0.15,0.0,0.16666666666666666,0.0,0.14166666666666666,0.0,0.025,-0.15454545454545454,0.0,0.1,0.017857142857142856,0.0,0.025000000000000022,0.0,0.0,0.17784090909090908,0.05,0.0,-0.3,-0.20000000000000004,0.0,0.0,0.06666666666666665,0.08333333333333333,0.125,0.06666666666666667,-0.03125,-0.3,0.0,-0.39999999999999997,0.0,0.16224489795918368,0.11590909090909092,-0.13214285714285715,0.0,-0.16666666666666666,0.0,0.13333333333333333,0.19999999999999998,0.0,0.08468614718614718,-0.06590909090909092,0.0,0.26666666666666666,0.0,0.0,0.0,0.05,0.08,-0.09166666666666667,0.0,0.08333333333333333,0.1,0.0,0.1590909090909091,-0.025,0.19999999999999998,0.0,0.0,0.175,-0.0625,0.025000000000000005,0.0,0.0,0.0,0.12,0.0,0.4,0.4,0.0625,0.0,-0.04,0.0,0.0909090909090909,0.0909090909090909,0.020000000000000007,0.1361111111111111,0.13333333333333333,0.0,0.0,0.25,0.0,0.0,-0.03939393939393939,-0.049999999999999996,0.1875,0.125,0.0,0.11250000000000002,0.0,0.0,-0.016666666666666666,-0.051851851851851864,0.0,0.22999999999999998,0.0,0.2,0.1,-0.08787878787878789,0.24375,-0.18787878787878784,-0.044444444444444446,0.0,0.0,0.06,0.03749999999999999,0.6,-0.020555555555555546,0.0,0.05,0.05555555555555555,0.2333333333333333,0.16285714285714287,0.16285714285714287,-0.05333333333333332,0.3,0.15,0.03333333333333333,-0.05555555555555555,-0.3333333333333333,0.25,0.2,0.08333333333333334,-0.16666666666666666,0.0,0.0375,0.0,0.0,-0.075,0.0,0.17857142857142858,0.0,0.0375,0.03333333333333333,0.0,0.16666666666666666,0.2866666666666666,0.03409090909090909,0.060937500000000006,0.1747159090909091,0.06428571428571428,0.425,-0.1,0.2761904761904762,0.1,0.16666666666666666,0.041666666666666664,0.0,0.0,0.0,0.052380952380952375,0.0,-0.041666666666666664,0.22499999999999998,0.125,0.125,0.0,0.19444444444444445,0.2866666666666666,0.0,0.1125],\"type\":\"histogram\"}],                        {\"barmode\":\"overlay\",\"legend\":{\"bgcolor\":\"#F5F6F9\",\"font\":{\"color\":\"#4D5663\"}},\"paper_bgcolor\":\"#F5F6F9\",\"plot_bgcolor\":\"#F5F6F9\",\"template\":{\"data\":{\"barpolar\":[{\"marker\":{\"line\":{\"color\":\"#E5ECF6\",\"width\":0.5},\"pattern\":{\"fillmode\":\"overlay\",\"size\":10,\"solidity\":0.2}},\"type\":\"barpolar\"}],\"bar\":[{\"error_x\":{\"color\":\"#2a3f5f\"},\"error_y\":{\"color\":\"#2a3f5f\"},\"marker\":{\"line\":{\"color\":\"#E5ECF6\",\"width\":0.5},\"pattern\":{\"fillmode\":\"overlay\",\"size\":10,\"solidity\":0.2}},\"type\":\"bar\"}],\"carpet\":[{\"aaxis\":{\"endlinecolor\":\"#2a3f5f\",\"gridcolor\":\"white\",\"linecolor\":\"white\",\"minorgridcolor\":\"white\",\"startlinecolor\":\"#2a3f5f\"},\"baxis\":{\"endlinecolor\":\"#2a3f5f\",\"gridcolor\":\"white\",\"linecolor\":\"white\",\"minorgridcolor\":\"white\",\"startlinecolor\":\"#2a3f5f\"},\"type\":\"carpet\"}],\"choropleth\":[{\"colorbar\":{\"outlinewidth\":0,\"ticks\":\"\"},\"type\":\"choropleth\"}],\"contourcarpet\":[{\"colorbar\":{\"outlinewidth\":0,\"ticks\":\"\"},\"type\":\"contourcarpet\"}],\"contour\":[{\"colorbar\":{\"outlinewidth\":0,\"ticks\":\"\"},\"colorscale\":[[0.0,\"#0d0887\"],[0.1111111111111111,\"#46039f\"],[0.2222222222222222,\"#7201a8\"],[0.3333333333333333,\"#9c179e\"],[0.4444444444444444,\"#bd3786\"],[0.5555555555555556,\"#d8576b\"],[0.6666666666666666,\"#ed7953\"],[0.7777777777777778,\"#fb9f3a\"],[0.8888888888888888,\"#fdca26\"],[1.0,\"#f0f921\"]],\"type\":\"contour\"}],\"heatmapgl\":[{\"colorbar\":{\"outlinewidth\":0,\"ticks\":\"\"},\"colorscale\":[[0.0,\"#0d0887\"],[0.1111111111111111,\"#46039f\"],[0.2222222222222222,\"#7201a8\"],[0.3333333333333333,\"#9c179e\"],[0.4444444444444444,\"#bd3786\"],[0.5555555555555556,\"#d8576b\"],[0.6666666666666666,\"#ed7953\"],[0.7777777777777778,\"#fb9f3a\"],[0.8888888888888888,\"#fdca26\"],[1.0,\"#f0f921\"]],\"type\":\"heatmapgl\"}],\"heatmap\":[{\"colorbar\":{\"outlinewidth\":0,\"ticks\":\"\"},\"colorscale\":[[0.0,\"#0d0887\"],[0.1111111111111111,\"#46039f\"],[0.2222222222222222,\"#7201a8\"],[0.3333333333333333,\"#9c179e\"],[0.4444444444444444,\"#bd3786\"],[0.5555555555555556,\"#d8576b\"],[0.6666666666666666,\"#ed7953\"],[0.7777777777777778,\"#fb9f3a\"],[0.8888888888888888,\"#fdca26\"],[1.0,\"#f0f921\"]],\"type\":\"heatmap\"}],\"histogram2dcontour\":[{\"colorbar\":{\"outlinewidth\":0,\"ticks\":\"\"},\"colorscale\":[[0.0,\"#0d0887\"],[0.1111111111111111,\"#46039f\"],[0.2222222222222222,\"#7201a8\"],[0.3333333333333333,\"#9c179e\"],[0.4444444444444444,\"#bd3786\"],[0.5555555555555556,\"#d8576b\"],[0.6666666666666666,\"#ed7953\"],[0.7777777777777778,\"#fb9f3a\"],[0.8888888888888888,\"#fdca26\"],[1.0,\"#f0f921\"]],\"type\":\"histogram2dcontour\"}],\"histogram2d\":[{\"colorbar\":{\"outlinewidth\":0,\"ticks\":\"\"},\"colorscale\":[[0.0,\"#0d0887\"],[0.1111111111111111,\"#46039f\"],[0.2222222222222222,\"#7201a8\"],[0.3333333333333333,\"#9c179e\"],[0.4444444444444444,\"#bd3786\"],[0.5555555555555556,\"#d8576b\"],[0.6666666666666666,\"#ed7953\"],[0.7777777777777778,\"#fb9f3a\"],[0.8888888888888888,\"#fdca26\"],[1.0,\"#f0f921\"]],\"type\":\"histogram2d\"}],\"histogram\":[{\"marker\":{\"pattern\":{\"fillmode\":\"overlay\",\"size\":10,\"solidity\":0.2}},\"type\":\"histogram\"}],\"mesh3d\":[{\"colorbar\":{\"outlinewidth\":0,\"ticks\":\"\"},\"type\":\"mesh3d\"}],\"parcoords\":[{\"line\":{\"colorbar\":{\"outlinewidth\":0,\"ticks\":\"\"}},\"type\":\"parcoords\"}],\"pie\":[{\"automargin\":true,\"type\":\"pie\"}],\"scatter3d\":[{\"line\":{\"colorbar\":{\"outlinewidth\":0,\"ticks\":\"\"}},\"marker\":{\"colorbar\":{\"outlinewidth\":0,\"ticks\":\"\"}},\"type\":\"scatter3d\"}],\"scattercarpet\":[{\"marker\":{\"colorbar\":{\"outlinewidth\":0,\"ticks\":\"\"}},\"type\":\"scattercarpet\"}],\"scattergeo\":[{\"marker\":{\"colorbar\":{\"outlinewidth\":0,\"ticks\":\"\"}},\"type\":\"scattergeo\"}],\"scattergl\":[{\"marker\":{\"colorbar\":{\"outlinewidth\":0,\"ticks\":\"\"}},\"type\":\"scattergl\"}],\"scattermapbox\":[{\"marker\":{\"colorbar\":{\"outlinewidth\":0,\"ticks\":\"\"}},\"type\":\"scattermapbox\"}],\"scatterpolargl\":[{\"marker\":{\"colorbar\":{\"outlinewidth\":0,\"ticks\":\"\"}},\"type\":\"scatterpolargl\"}],\"scatterpolar\":[{\"marker\":{\"colorbar\":{\"outlinewidth\":0,\"ticks\":\"\"}},\"type\":\"scatterpolar\"}],\"scatter\":[{\"fillpattern\":{\"fillmode\":\"overlay\",\"size\":10,\"solidity\":0.2},\"type\":\"scatter\"}],\"scatterternary\":[{\"marker\":{\"colorbar\":{\"outlinewidth\":0,\"ticks\":\"\"}},\"type\":\"scatterternary\"}],\"surface\":[{\"colorbar\":{\"outlinewidth\":0,\"ticks\":\"\"},\"colorscale\":[[0.0,\"#0d0887\"],[0.1111111111111111,\"#46039f\"],[0.2222222222222222,\"#7201a8\"],[0.3333333333333333,\"#9c179e\"],[0.4444444444444444,\"#bd3786\"],[0.5555555555555556,\"#d8576b\"],[0.6666666666666666,\"#ed7953\"],[0.7777777777777778,\"#fb9f3a\"],[0.8888888888888888,\"#fdca26\"],[1.0,\"#f0f921\"]],\"type\":\"surface\"}],\"table\":[{\"cells\":{\"fill\":{\"color\":\"#EBF0F8\"},\"line\":{\"color\":\"white\"}},\"header\":{\"fill\":{\"color\":\"#C8D4E3\"},\"line\":{\"color\":\"white\"}},\"type\":\"table\"}]},\"layout\":{\"annotationdefaults\":{\"arrowcolor\":\"#2a3f5f\",\"arrowhead\":0,\"arrowwidth\":1},\"autotypenumbers\":\"strict\",\"coloraxis\":{\"colorbar\":{\"outlinewidth\":0,\"ticks\":\"\"}},\"colorscale\":{\"diverging\":[[0,\"#8e0152\"],[0.1,\"#c51b7d\"],[0.2,\"#de77ae\"],[0.3,\"#f1b6da\"],[0.4,\"#fde0ef\"],[0.5,\"#f7f7f7\"],[0.6,\"#e6f5d0\"],[0.7,\"#b8e186\"],[0.8,\"#7fbc41\"],[0.9,\"#4d9221\"],[1,\"#276419\"]],\"sequential\":[[0.0,\"#0d0887\"],[0.1111111111111111,\"#46039f\"],[0.2222222222222222,\"#7201a8\"],[0.3333333333333333,\"#9c179e\"],[0.4444444444444444,\"#bd3786\"],[0.5555555555555556,\"#d8576b\"],[0.6666666666666666,\"#ed7953\"],[0.7777777777777778,\"#fb9f3a\"],[0.8888888888888888,\"#fdca26\"],[1.0,\"#f0f921\"]],\"sequentialminus\":[[0.0,\"#0d0887\"],[0.1111111111111111,\"#46039f\"],[0.2222222222222222,\"#7201a8\"],[0.3333333333333333,\"#9c179e\"],[0.4444444444444444,\"#bd3786\"],[0.5555555555555556,\"#d8576b\"],[0.6666666666666666,\"#ed7953\"],[0.7777777777777778,\"#fb9f3a\"],[0.8888888888888888,\"#fdca26\"],[1.0,\"#f0f921\"]]},\"colorway\":[\"#636efa\",\"#EF553B\",\"#00cc96\",\"#ab63fa\",\"#FFA15A\",\"#19d3f3\",\"#FF6692\",\"#B6E880\",\"#FF97FF\",\"#FECB52\"],\"font\":{\"color\":\"#2a3f5f\"},\"geo\":{\"bgcolor\":\"white\",\"lakecolor\":\"white\",\"landcolor\":\"#E5ECF6\",\"showlakes\":true,\"showland\":true,\"subunitcolor\":\"white\"},\"hoverlabel\":{\"align\":\"left\"},\"hovermode\":\"closest\",\"mapbox\":{\"style\":\"light\"},\"paper_bgcolor\":\"white\",\"plot_bgcolor\":\"#E5ECF6\",\"polar\":{\"angularaxis\":{\"gridcolor\":\"white\",\"linecolor\":\"white\",\"ticks\":\"\"},\"bgcolor\":\"#E5ECF6\",\"radialaxis\":{\"gridcolor\":\"white\",\"linecolor\":\"white\",\"ticks\":\"\"}},\"scene\":{\"xaxis\":{\"backgroundcolor\":\"#E5ECF6\",\"gridcolor\":\"white\",\"gridwidth\":2,\"linecolor\":\"white\",\"showbackground\":true,\"ticks\":\"\",\"zerolinecolor\":\"white\"},\"yaxis\":{\"backgroundcolor\":\"#E5ECF6\",\"gridcolor\":\"white\",\"gridwidth\":2,\"linecolor\":\"white\",\"showbackground\":true,\"ticks\":\"\",\"zerolinecolor\":\"white\"},\"zaxis\":{\"backgroundcolor\":\"#E5ECF6\",\"gridcolor\":\"white\",\"gridwidth\":2,\"linecolor\":\"white\",\"showbackground\":true,\"ticks\":\"\",\"zerolinecolor\":\"white\"}},\"shapedefaults\":{\"line\":{\"color\":\"#2a3f5f\"}},\"ternary\":{\"aaxis\":{\"gridcolor\":\"white\",\"linecolor\":\"white\",\"ticks\":\"\"},\"baxis\":{\"gridcolor\":\"white\",\"linecolor\":\"white\",\"ticks\":\"\"},\"bgcolor\":\"#E5ECF6\",\"caxis\":{\"gridcolor\":\"white\",\"linecolor\":\"white\",\"ticks\":\"\"}},\"title\":{\"x\":0.05},\"xaxis\":{\"automargin\":true,\"gridcolor\":\"white\",\"linecolor\":\"white\",\"ticks\":\"\",\"title\":{\"standoff\":15},\"zerolinecolor\":\"white\",\"zerolinewidth\":2},\"yaxis\":{\"automargin\":true,\"gridcolor\":\"white\",\"linecolor\":\"white\",\"ticks\":\"\",\"title\":{\"standoff\":15},\"zerolinecolor\":\"white\",\"zerolinewidth\":2}}},\"title\":{\"font\":{\"color\":\"#4D5663\"},\"text\":\"Sentiment Polarity Distribution\"},\"xaxis\":{\"gridcolor\":\"#E1E5ED\",\"showgrid\":true,\"tickfont\":{\"color\":\"#4D5663\"},\"title\":{\"font\":{\"color\":\"#4D5663\"},\"text\":\"Polarity\"},\"zerolinecolor\":\"#E1E5ED\"},\"yaxis\":{\"gridcolor\":\"#E1E5ED\",\"showgrid\":true,\"tickfont\":{\"color\":\"#4D5663\"},\"title\":{\"font\":{\"color\":\"#4D5663\"},\"text\":\"Count\"},\"zerolinecolor\":\"#E1E5ED\"}},                        {\"showLink\": true, \"linkText\": \"Export to plot.ly\", \"plotlyServerURL\": \"https://plot.ly\", \"responsive\": true}                    ).then(function(){\n",
       "                            \n",
       "var gd = document.getElementById('e5bcae8d-8db8-4d32-ad13-59eda849ba08');\n",
       "var x = new MutationObserver(function (mutations, observer) {{\n",
       "        var display = window.getComputedStyle(gd).display;\n",
       "        if (!display || display === 'none') {{\n",
       "            console.log([gd, 'removed!']);\n",
       "            Plotly.purge(gd);\n",
       "            observer.disconnect();\n",
       "        }}\n",
       "}});\n",
       "\n",
       "// Listen for the removal of the full notebook cells\n",
       "var notebookContainer = gd.closest('#notebook-container');\n",
       "if (notebookContainer) {{\n",
       "    x.observe(notebookContainer, {childList: true});\n",
       "}}\n",
       "\n",
       "// Listen for the clearing of the current output cell\n",
       "var outputEl = gd.closest('.output');\n",
       "if (outputEl) {{\n",
       "    x.observe(outputEl, {childList: true});\n",
       "}}\n",
       "\n",
       "                        })                };                });            </script>        </div>"
      ]
     },
     "metadata": {},
     "output_type": "display_data"
    }
   ],
   "source": [
    "df['polarity'].iplot(kind = 'hist', xTitle = 'Polarity', yTitle = 'Count', title = 'Sentiment Polarity Distribution', bins = 50)\n",
    "# most of the text entries have very neutral sentiment"
   ]
  },
  {
   "cell_type": "code",
   "execution_count": 22,
   "metadata": {},
   "outputs": [
    {
     "data": {
      "image/png": "[encoded data removed]",
      "text/plain": [
       "<Figure size 640x480 with 1 Axes>"
      ]
     },
     "metadata": {},
     "output_type": "display_data"
    }
   ],
   "source": [
    "label_counts = df['label'].value_counts().reset_index().rename(columns={\"index\": \"value\", 0: \"count\"})\n",
    "label_counts\n",
    "labels_dist = plt.pie(label_counts['count'], labels=label_counts['label'], autopct='%.1f')\n",
    "plt.title(\"Distribution of Labels\")\n",
    "plt.show()"
   ]
  },
  {
   "cell_type": "code",
   "execution_count": 23,
   "metadata": {},
   "outputs": [
    {
     "data": {
      "application/vnd.plotly.v1+json": {
       "config": {
        "linkText": "Export to plot.ly",
        "plotlyServerURL": "https://plot.ly",
        "showLink": true
       },
       "data": [
        {
         "histfunc": "count",
         "histnorm": "",
         "marker": {
          "color": "rgba(255, 153, 51, 1.0)",
          "line": {
           "color": "#4D5663",
           "width": 1.3
          }
         },
         "name": "text_length",
         "nbinsx": 50,
         "opacity": 0.8,
         "orientation": "v",
         "type": "histogram",
         "x": [
          274,
          163,
          176,
          78,
          85,
          214,
          237,
          78,
          239,
          288,
          258,
          192,
          150,
          266,
          100,
          232,
          264,
          225,
          227,
          243,
          263,
          170,
          269,
          242,
          203,
          134,
          228,
          223,
          263,
          274,
          270,
          197,
          251,
          232,
          253,
          71,
          224,
          265,
          183,
          235,
          279,
          244,
          221,
          90,
          199,
          169,
          244,
          236,
          239,
          258,
          44,
          81,
          262,
          259,
          206,
          209,
          187,
          268,
          181,
          247,
          260,
          222,
          177,
          249,
          239,
          245,
          253,
          270,
          265,
          144,
          91,
          251,
          236,
          79,
          237,
          103,
          250,
          265,
          167,
          144,
          222,
          149,
          208,
          241,
          261,
          220,
          139,
          245,
          180,
          192,
          260,
          117,
          216,
          217,
          238,
          154,
          70,
          238,
          265,
          159,
          111,
          221,
          209,
          216,
          222,
          226,
          36,
          112,
          243,
          245,
          263,
          28,
          256,
          245,
          64,
          272,
          243,
          243,
          71,
          183,
          251,
          148,
          239,
          185,
          240,
          214,
          238,
          218,
          44,
          216,
          133,
          184,
          189,
          247,
          236,
          173,
          233,
          181,
          265,
          235,
          243,
          174,
          135,
          80,
          234,
          237,
          259,
          84,
          137,
          235,
          202,
          113,
          78,
          235,
          115,
          29,
          149,
          303,
          236,
          168,
          237,
          210,
          231,
          263,
          247,
          272,
          227,
          264,
          214,
          184,
          266,
          79,
          221,
          243,
          244,
          203,
          199,
          176,
          269,
          236,
          189,
          166,
          62,
          245,
          248,
          118,
          228,
          223,
          240,
          135,
          138,
          194,
          232,
          248,
          151,
          140,
          247,
          169,
          231,
          175,
          234,
          360,
          211,
          205,
          248,
          90,
          260,
          199,
          233,
          246,
          240,
          226,
          251,
          90,
          153,
          242,
          270,
          275,
          205,
          105,
          241,
          199,
          237,
          170,
          180,
          127,
          174,
          221,
          222,
          161,
          226,
          246,
          103,
          75,
          153,
          174,
          91,
          212,
          47,
          258,
          113,
          156,
          119,
          249,
          206,
          213,
          137,
          269,
          186,
          171,
          241,
          207,
          230,
          161,
          132,
          89,
          109,
          208,
          95,
          239,
          94,
          132,
          205,
          238,
          159,
          86,
          230,
          182,
          271,
          62,
          118,
          222,
          233,
          277,
          93,
          217,
          230,
          106,
          210,
          230,
          241,
          122,
          271,
          220,
          255,
          253,
          117,
          204,
          140,
          268,
          100,
          200,
          214,
          75,
          233,
          230,
          188,
          191,
          62,
          265,
          255,
          278,
          265,
          252,
          231,
          69,
          226,
          111,
          149,
          212,
          236,
          265,
          106,
          105,
          148,
          267,
          205,
          248,
          204,
          262,
          67,
          261,
          235,
          231,
          184,
          161,
          154,
          244,
          228,
          199,
          71,
          208,
          212,
          165,
          209,
          141,
          214,
          85,
          162,
          246,
          253,
          260,
          244,
          248,
          205,
          215,
          256,
          209,
          210,
          180,
          63,
          141,
          171,
          196,
          215,
          280,
          274,
          225,
          177,
          185,
          281,
          44,
          65,
          235,
          59,
          272,
          160,
          269,
          265,
          256,
          146,
          218,
          216,
          269,
          234,
          189,
          484,
          131,
          277,
          246,
          202,
          199,
          69,
          236,
          107,
          239,
          182,
          203,
          222,
          113,
          118,
          225,
          223,
          209,
          74,
          202
         ]
        }
       ],
       "layout": {
        "barmode": "overlay",
        "legend": {
         "bgcolor": "#F5F6F9",
         "font": {
          "color": "#4D5663"
         }
        },
        "paper_bgcolor": "#F5F6F9",
        "plot_bgcolor": "#F5F6F9",
        "template": {
         "data": {
          "bar": [
           {
            "error_x": {
             "color": "#2a3f5f"
            },
            "error_y": {
             "color": "#2a3f5f"
            },
            "marker": {
             "line": {
              "color": "#E5ECF6",
              "width": 0.5
             },
             "pattern": {
              "fillmode": "overlay",
              "size": 10,
              "solidity": 0.2
             }
            },
            "type": "bar"
           }
          ],
          "barpolar": [
           {
            "marker": {
             "line": {
              "color": "#E5ECF6",
              "width": 0.5
             },
             "pattern": {
              "fillmode": "overlay",
              "size": 10,
              "solidity": 0.2
             }
            },
            "type": "barpolar"
           }
          ],
          "carpet": [
           {
            "aaxis": {
             "endlinecolor": "#2a3f5f",
             "gridcolor": "white",
             "linecolor": "white",
             "minorgridcolor": "white",
             "startlinecolor": "#2a3f5f"
            },
            "baxis": {
             "endlinecolor": "#2a3f5f",
             "gridcolor": "white",
             "linecolor": "white",
             "minorgridcolor": "white",
             "startlinecolor": "#2a3f5f"
            },
            "type": "carpet"
           }
          ],
          "choropleth": [
           {
            "colorbar": {
             "outlinewidth": 0,
             "ticks": ""
            },
            "type": "choropleth"
           }
          ],
          "contour": [
           {
            "colorbar": {
             "outlinewidth": 0,
             "ticks": ""
            },
            "colorscale": [
             [
              0,
              "#0d0887"
             ],
             [
              0.1111111111111111,
              "#46039f"
             ],
             [
              0.2222222222222222,
              "#7201a8"
             ],
             [
              0.3333333333333333,
              "#9c179e"
             ],
             [
              0.4444444444444444,
              "#bd3786"
             ],
             [
              0.5555555555555556,
              "#d8576b"
             ],
             [
              0.6666666666666666,
              "#ed7953"
             ],
             [
              0.7777777777777778,
              "#fb9f3a"
             ],
             [
              0.8888888888888888,
              "#fdca26"
             ],
             [
              1,
              "#f0f921"
             ]
            ],
            "type": "contour"
           }
          ],
          "contourcarpet": [
           {
            "colorbar": {
             "outlinewidth": 0,
             "ticks": ""
            },
            "type": "contourcarpet"
           }
          ],
          "heatmap": [
           {
            "colorbar": {
             "outlinewidth": 0,
             "ticks": ""
            },
            "colorscale": [
             [
              0,
              "#0d0887"
             ],
             [
              0.1111111111111111,
              "#46039f"
             ],
             [
              0.2222222222222222,
              "#7201a8"
             ],
             [
              0.3333333333333333,
              "#9c179e"
             ],
             [
              0.4444444444444444,
              "#bd3786"
             ],
             [
              0.5555555555555556,
              "#d8576b"
             ],
             [
              0.6666666666666666,
              "#ed7953"
             ],
             [
              0.7777777777777778,
              "#fb9f3a"
             ],
             [
              0.8888888888888888,
              "#fdca26"
             ],
             [
              1,
              "#f0f921"
             ]
            ],
            "type": "heatmap"
           }
          ],
          "heatmapgl": [
           {
            "colorbar": {
             "outlinewidth": 0,
             "ticks": ""
            },
            "colorscale": [
             [
              0,
              "#0d0887"
             ],
             [
              0.1111111111111111,
              "#46039f"
             ],
             [
              0.2222222222222222,
              "#7201a8"
             ],
             [
              0.3333333333333333,
              "#9c179e"
             ],
             [
              0.4444444444444444,
              "#bd3786"
             ],
             [
              0.5555555555555556,
              "#d8576b"
             ],
             [
              0.6666666666666666,
              "#ed7953"
             ],
             [
              0.7777777777777778,
              "#fb9f3a"
             ],
             [
              0.8888888888888888,
              "#fdca26"
             ],
             [
              1,
              "#f0f921"
             ]
            ],
            "type": "heatmapgl"
           }
          ],
          "histogram": [
           {
            "marker": {
             "pattern": {
              "fillmode": "overlay",
              "size": 10,
              "solidity": 0.2
             }
            },
            "type": "histogram"
           }
          ],
          "histogram2d": [
           {
            "colorbar": {
             "outlinewidth": 0,
             "ticks": ""
            },
            "colorscale": [
             [
              0,
              "#0d0887"
             ],
             [
              0.1111111111111111,
              "#46039f"
             ],
             [
              0.2222222222222222,
              "#7201a8"
             ],
             [
              0.3333333333333333,
              "#9c179e"
             ],
             [
              0.4444444444444444,
              "#bd3786"
             ],
             [
              0.5555555555555556,
              "#d8576b"
             ],
             [
              0.6666666666666666,
              "#ed7953"
             ],
             [
              0.7777777777777778,
              "#fb9f3a"
             ],
             [
              0.8888888888888888,
              "#fdca26"
             ],
             [
              1,
              "#f0f921"
             ]
            ],
            "type": "histogram2d"
           }
          ],
          "histogram2dcontour": [
           {
            "colorbar": {
             "outlinewidth": 0,
             "ticks": ""
            },
            "colorscale": [
             [
              0,
              "#0d0887"
             ],
             [
              0.1111111111111111,
              "#46039f"
             ],
             [
              0.2222222222222222,
              "#7201a8"
             ],
             [
              0.3333333333333333,
              "#9c179e"
             ],
             [
              0.4444444444444444,
              "#bd3786"
             ],
             [
              0.5555555555555556,
              "#d8576b"
             ],
             [
              0.6666666666666666,
              "#ed7953"
             ],
             [
              0.7777777777777778,
              "#fb9f3a"
             ],
             [
              0.8888888888888888,
              "#fdca26"
             ],
             [
              1,
              "#f0f921"
             ]
            ],
            "type": "histogram2dcontour"
           }
          ],
          "mesh3d": [
           {
            "colorbar": {
             "outlinewidth": 0,
             "ticks": ""
            },
            "type": "mesh3d"
           }
          ],
          "parcoords": [
           {
            "line": {
             "colorbar": {
              "outlinewidth": 0,
              "ticks": ""
             }
            },
            "type": "parcoords"
           }
          ],
          "pie": [
           {
            "automargin": true,
            "type": "pie"
           }
          ],
          "scatter": [
           {
            "fillpattern": {
             "fillmode": "overlay",
             "size": 10,
             "solidity": 0.2
            },
            "type": "scatter"
           }
          ],
          "scatter3d": [
           {
            "line": {
             "colorbar": {
              "outlinewidth": 0,
              "ticks": ""
             }
            },
            "marker": {
             "colorbar": {
              "outlinewidth": 0,
              "ticks": ""
             }
            },
            "type": "scatter3d"
           }
          ],
          "scattercarpet": [
           {
            "marker": {
             "colorbar": {
              "outlinewidth": 0,
              "ticks": ""
             }
            },
            "type": "scattercarpet"
           }
          ],
          "scattergeo": [
           {
            "marker": {
             "colorbar": {
              "outlinewidth": 0,
              "ticks": ""
             }
            },
            "type": "scattergeo"
           }
          ],
          "scattergl": [
           {
            "marker": {
             "colorbar": {
              "outlinewidth": 0,
              "ticks": ""
             }
            },
            "type": "scattergl"
           }
          ],
          "scattermapbox": [
           {
            "marker": {
             "colorbar": {
              "outlinewidth": 0,
              "ticks": ""
             }
            },
            "type": "scattermapbox"
           }
          ],
          "scatterpolar": [
           {
            "marker": {
             "colorbar": {
              "outlinewidth": 0,
              "ticks": ""
             }
            },
            "type": "scatterpolar"
           }
          ],
          "scatterpolargl": [
           {
            "marker": {
             "colorbar": {
              "outlinewidth": 0,
              "ticks": ""
             }
            },
            "type": "scatterpolargl"
           }
          ],
          "scatterternary": [
           {
            "marker": {
             "colorbar": {
              "outlinewidth": 0,
              "ticks": ""
             }
            },
            "type": "scatterternary"
           }
          ],
          "surface": [
           {
            "colorbar": {
             "outlinewidth": 0,
             "ticks": ""
            },
            "colorscale": [
             [
              0,
              "#0d0887"
             ],
             [
              0.1111111111111111,
              "#46039f"
             ],
             [
              0.2222222222222222,
              "#7201a8"
             ],
             [
              0.3333333333333333,
              "#9c179e"
             ],
             [
              0.4444444444444444,
              "#bd3786"
             ],
             [
              0.5555555555555556,
              "#d8576b"
             ],
             [
              0.6666666666666666,
              "#ed7953"
             ],
             [
              0.7777777777777778,
              "#fb9f3a"
             ],
             [
              0.8888888888888888,
              "#fdca26"
             ],
             [
              1,
              "#f0f921"
             ]
            ],
            "type": "surface"
           }
          ],
          "table": [
           {
            "cells": {
             "fill": {
              "color": "#EBF0F8"
             },
             "line": {
              "color": "white"
             }
            },
            "header": {
             "fill": {
              "color": "#C8D4E3"
             },
             "line": {
              "color": "white"
             }
            },
            "type": "table"
           }
          ]
         },
         "layout": {
          "annotationdefaults": {
           "arrowcolor": "#2a3f5f",
           "arrowhead": 0,
           "arrowwidth": 1
          },
          "autotypenumbers": "strict",
          "coloraxis": {
           "colorbar": {
            "outlinewidth": 0,
            "ticks": ""
           }
          },
          "colorscale": {
           "diverging": [
            [
             0,
             "#8e0152"
            ],
            [
             0.1,
             "#c51b7d"
            ],
            [
             0.2,
             "#de77ae"
            ],
            [
             0.3,
             "#f1b6da"
            ],
            [
             0.4,
             "#fde0ef"
            ],
            [
             0.5,
             "#f7f7f7"
            ],
            [
             0.6,
             "#e6f5d0"
            ],
            [
             0.7,
             "#b8e186"
            ],
            [
             0.8,
             "#7fbc41"
            ],
            [
             0.9,
             "#4d9221"
            ],
            [
             1,
             "#276419"
            ]
           ],
           "sequential": [
            [
             0,
             "#0d0887"
            ],
            [
             0.1111111111111111,
             "#46039f"
            ],
            [
             0.2222222222222222,
             "#7201a8"
            ],
            [
             0.3333333333333333,
             "#9c179e"
            ],
            [
             0.4444444444444444,
             "#bd3786"
            ],
            [
             0.5555555555555556,
             "#d8576b"
            ],
            [
             0.6666666666666666,
             "#ed7953"
            ],
            [
             0.7777777777777778,
             "#fb9f3a"
            ],
            [
             0.8888888888888888,
             "#fdca26"
            ],
            [
             1,
             "#f0f921"
            ]
           ],
           "sequentialminus": [
            [
             0,
             "#0d0887"
            ],
            [
             0.1111111111111111,
             "#46039f"
            ],
            [
             0.2222222222222222,
             "#7201a8"
            ],
            [
             0.3333333333333333,
             "#9c179e"
            ],
            [
             0.4444444444444444,
             "#bd3786"
            ],
            [
             0.5555555555555556,
             "#d8576b"
            ],
            [
             0.6666666666666666,
             "#ed7953"
            ],
            [
             0.7777777777777778,
             "#fb9f3a"
            ],
            [
             0.8888888888888888,
             "#fdca26"
            ],
            [
             1,
             "#f0f921"
            ]
           ]
          },
          "colorway": [
           "#636efa",
           "#EF553B",
           "#00cc96",
           "#ab63fa",
           "#FFA15A",
           "#19d3f3",
           "#FF6692",
           "#B6E880",
           "#FF97FF",
           "#FECB52"
          ],
          "font": {
           "color": "#2a3f5f"
          },
          "geo": {
           "bgcolor": "white",
           "lakecolor": "white",
           "landcolor": "#E5ECF6",
           "showlakes": true,
           "showland": true,
           "subunitcolor": "white"
          },
          "hoverlabel": {
           "align": "left"
          },
          "hovermode": "closest",
          "mapbox": {
           "style": "light"
          },
          "paper_bgcolor": "white",
          "plot_bgcolor": "#E5ECF6",
          "polar": {
           "angularaxis": {
            "gridcolor": "white",
            "linecolor": "white",
            "ticks": ""
           },
           "bgcolor": "#E5ECF6",
           "radialaxis": {
            "gridcolor": "white",
            "linecolor": "white",
            "ticks": ""
           }
          },
          "scene": {
           "xaxis": {
            "backgroundcolor": "#E5ECF6",
            "gridcolor": "white",
            "gridwidth": 2,
            "linecolor": "white",
            "showbackground": true,
            "ticks": "",
            "zerolinecolor": "white"
           },
           "yaxis": {
            "backgroundcolor": "#E5ECF6",
            "gridcolor": "white",
            "gridwidth": 2,
            "linecolor": "white",
            "showbackground": true,
            "ticks": "",
            "zerolinecolor": "white"
           },
           "zaxis": {
            "backgroundcolor": "#E5ECF6",
            "gridcolor": "white",
            "gridwidth": 2,
            "linecolor": "white",
            "showbackground": true,
            "ticks": "",
            "zerolinecolor": "white"
           }
          },
          "shapedefaults": {
           "line": {
            "color": "#2a3f5f"
           }
          },
          "ternary": {
           "aaxis": {
            "gridcolor": "white",
            "linecolor": "white",
            "ticks": ""
           },
           "baxis": {
            "gridcolor": "white",
            "linecolor": "white",
            "ticks": ""
           },
           "bgcolor": "#E5ECF6",
           "caxis": {
            "gridcolor": "white",
            "linecolor": "white",
            "ticks": ""
           }
          },
          "title": {
           "x": 0.05
          },
          "xaxis": {
           "automargin": true,
           "gridcolor": "white",
           "linecolor": "white",
           "ticks": "",
           "title": {
            "standoff": 15
           },
           "zerolinecolor": "white",
           "zerolinewidth": 2
          },
          "yaxis": {
           "automargin": true,
           "gridcolor": "white",
           "linecolor": "white",
           "ticks": "",
           "title": {
            "standoff": 15
           },
           "zerolinecolor": "white",
           "zerolinewidth": 2
          }
         }
        },
        "title": {
         "font": {
          "color": "#4D5663"
         },
         "text": "Distribution of Text Length"
        },
        "xaxis": {
         "gridcolor": "#E1E5ED",
         "showgrid": true,
         "tickfont": {
          "color": "#4D5663"
         },
         "title": {
          "font": {
           "color": "#4D5663"
          },
          "text": "Text Length"
         },
         "zerolinecolor": "#E1E5ED"
        },
        "yaxis": {
         "gridcolor": "#E1E5ED",
         "showgrid": true,
         "tickfont": {
          "color": "#4D5663"
         },
         "title": {
          "font": {
           "color": "#4D5663"
          },
          "text": "Count"
         },
         "zerolinecolor": "#E1E5ED"
        }
       }
      },
      "text/html": [
       "<div>                            <div id=\"1c5e829f-4cfc-4103-9e8a-478a483a7036\" class=\"plotly-graph-div\" style=\"height:525px; width:100%;\"></div>            <script type=\"text/javascript\">                require([\"plotly\"], function(Plotly) {                    window.PLOTLYENV=window.PLOTLYENV || {};\n",
       "                    window.PLOTLYENV.BASE_URL='https://plot.ly';                                    if (document.getElementById(\"1c5e829f-4cfc-4103-9e8a-478a483a7036\")) {                    Plotly.newPlot(                        \"1c5e829f-4cfc-4103-9e8a-478a483a7036\",                        [{\"histfunc\":\"count\",\"histnorm\":\"\",\"marker\":{\"color\":\"rgba(255, 153, 51, 1.0)\",\"line\":{\"color\":\"#4D5663\",\"width\":1.3}},\"name\":\"text_length\",\"nbinsx\":50,\"opacity\":0.8,\"orientation\":\"v\",\"x\":[274,163,176,78,85,214,237,78,239,288,258,192,150,266,100,232,264,225,227,243,263,170,269,242,203,134,228,223,263,274,270,197,251,232,253,71,224,265,183,235,279,244,221,90,199,169,244,236,239,258,44,81,262,259,206,209,187,268,181,247,260,222,177,249,239,245,253,270,265,144,91,251,236,79,237,103,250,265,167,144,222,149,208,241,261,220,139,245,180,192,260,117,216,217,238,154,70,238,265,159,111,221,209,216,222,226,36,112,243,245,263,28,256,245,64,272,243,243,71,183,251,148,239,185,240,214,238,218,44,216,133,184,189,247,236,173,233,181,265,235,243,174,135,80,234,237,259,84,137,235,202,113,78,235,115,29,149,303,236,168,237,210,231,263,247,272,227,264,214,184,266,79,221,243,244,203,199,176,269,236,189,166,62,245,248,118,228,223,240,135,138,194,232,248,151,140,247,169,231,175,234,360,211,205,248,90,260,199,233,246,240,226,251,90,153,242,270,275,205,105,241,199,237,170,180,127,174,221,222,161,226,246,103,75,153,174,91,212,47,258,113,156,119,249,206,213,137,269,186,171,241,207,230,161,132,89,109,208,95,239,94,132,205,238,159,86,230,182,271,62,118,222,233,277,93,217,230,106,210,230,241,122,271,220,255,253,117,204,140,268,100,200,214,75,233,230,188,191,62,265,255,278,265,252,231,69,226,111,149,212,236,265,106,105,148,267,205,248,204,262,67,261,235,231,184,161,154,244,228,199,71,208,212,165,209,141,214,85,162,246,253,260,244,248,205,215,256,209,210,180,63,141,171,196,215,280,274,225,177,185,281,44,65,235,59,272,160,269,265,256,146,218,216,269,234,189,484,131,277,246,202,199,69,236,107,239,182,203,222,113,118,225,223,209,74,202],\"type\":\"histogram\"}],                        {\"barmode\":\"overlay\",\"legend\":{\"bgcolor\":\"#F5F6F9\",\"font\":{\"color\":\"#4D5663\"}},\"paper_bgcolor\":\"#F5F6F9\",\"plot_bgcolor\":\"#F5F6F9\",\"template\":{\"data\":{\"barpolar\":[{\"marker\":{\"line\":{\"color\":\"#E5ECF6\",\"width\":0.5},\"pattern\":{\"fillmode\":\"overlay\",\"size\":10,\"solidity\":0.2}},\"type\":\"barpolar\"}],\"bar\":[{\"error_x\":{\"color\":\"#2a3f5f\"},\"error_y\":{\"color\":\"#2a3f5f\"},\"marker\":{\"line\":{\"color\":\"#E5ECF6\",\"width\":0.5},\"pattern\":{\"fillmode\":\"overlay\",\"size\":10,\"solidity\":0.2}},\"type\":\"bar\"}],\"carpet\":[{\"aaxis\":{\"endlinecolor\":\"#2a3f5f\",\"gridcolor\":\"white\",\"linecolor\":\"white\",\"minorgridcolor\":\"white\",\"startlinecolor\":\"#2a3f5f\"},\"baxis\":{\"endlinecolor\":\"#2a3f5f\",\"gridcolor\":\"white\",\"linecolor\":\"white\",\"minorgridcolor\":\"white\",\"startlinecolor\":\"#2a3f5f\"},\"type\":\"carpet\"}],\"choropleth\":[{\"colorbar\":{\"outlinewidth\":0,\"ticks\":\"\"},\"type\":\"choropleth\"}],\"contourcarpet\":[{\"colorbar\":{\"outlinewidth\":0,\"ticks\":\"\"},\"type\":\"contourcarpet\"}],\"contour\":[{\"colorbar\":{\"outlinewidth\":0,\"ticks\":\"\"},\"colorscale\":[[0.0,\"#0d0887\"],[0.1111111111111111,\"#46039f\"],[0.2222222222222222,\"#7201a8\"],[0.3333333333333333,\"#9c179e\"],[0.4444444444444444,\"#bd3786\"],[0.5555555555555556,\"#d8576b\"],[0.6666666666666666,\"#ed7953\"],[0.7777777777777778,\"#fb9f3a\"],[0.8888888888888888,\"#fdca26\"],[1.0,\"#f0f921\"]],\"type\":\"contour\"}],\"heatmapgl\":[{\"colorbar\":{\"outlinewidth\":0,\"ticks\":\"\"},\"colorscale\":[[0.0,\"#0d0887\"],[0.1111111111111111,\"#46039f\"],[0.2222222222222222,\"#7201a8\"],[0.3333333333333333,\"#9c179e\"],[0.4444444444444444,\"#bd3786\"],[0.5555555555555556,\"#d8576b\"],[0.6666666666666666,\"#ed7953\"],[0.7777777777777778,\"#fb9f3a\"],[0.8888888888888888,\"#fdca26\"],[1.0,\"#f0f921\"]],\"type\":\"heatmapgl\"}],\"heatmap\":[{\"colorbar\":{\"outlinewidth\":0,\"ticks\":\"\"},\"colorscale\":[[0.0,\"#0d0887\"],[0.1111111111111111,\"#46039f\"],[0.2222222222222222,\"#7201a8\"],[0.3333333333333333,\"#9c179e\"],[0.4444444444444444,\"#bd3786\"],[0.5555555555555556,\"#d8576b\"],[0.6666666666666666,\"#ed7953\"],[0.7777777777777778,\"#fb9f3a\"],[0.8888888888888888,\"#fdca26\"],[1.0,\"#f0f921\"]],\"type\":\"heatmap\"}],\"histogram2dcontour\":[{\"colorbar\":{\"outlinewidth\":0,\"ticks\":\"\"},\"colorscale\":[[0.0,\"#0d0887\"],[0.1111111111111111,\"#46039f\"],[0.2222222222222222,\"#7201a8\"],[0.3333333333333333,\"#9c179e\"],[0.4444444444444444,\"#bd3786\"],[0.5555555555555556,\"#d8576b\"],[0.6666666666666666,\"#ed7953\"],[0.7777777777777778,\"#fb9f3a\"],[0.8888888888888888,\"#fdca26\"],[1.0,\"#f0f921\"]],\"type\":\"histogram2dcontour\"}],\"histogram2d\":[{\"colorbar\":{\"outlinewidth\":0,\"ticks\":\"\"},\"colorscale\":[[0.0,\"#0d0887\"],[0.1111111111111111,\"#46039f\"],[0.2222222222222222,\"#7201a8\"],[0.3333333333333333,\"#9c179e\"],[0.4444444444444444,\"#bd3786\"],[0.5555555555555556,\"#d8576b\"],[0.6666666666666666,\"#ed7953\"],[0.7777777777777778,\"#fb9f3a\"],[0.8888888888888888,\"#fdca26\"],[1.0,\"#f0f921\"]],\"type\":\"histogram2d\"}],\"histogram\":[{\"marker\":{\"pattern\":{\"fillmode\":\"overlay\",\"size\":10,\"solidity\":0.2}},\"type\":\"histogram\"}],\"mesh3d\":[{\"colorbar\":{\"outlinewidth\":0,\"ticks\":\"\"},\"type\":\"mesh3d\"}],\"parcoords\":[{\"line\":{\"colorbar\":{\"outlinewidth\":0,\"ticks\":\"\"}},\"type\":\"parcoords\"}],\"pie\":[{\"automargin\":true,\"type\":\"pie\"}],\"scatter3d\":[{\"line\":{\"colorbar\":{\"outlinewidth\":0,\"ticks\":\"\"}},\"marker\":{\"colorbar\":{\"outlinewidth\":0,\"ticks\":\"\"}},\"type\":\"scatter3d\"}],\"scattercarpet\":[{\"marker\":{\"colorbar\":{\"outlinewidth\":0,\"ticks\":\"\"}},\"type\":\"scattercarpet\"}],\"scattergeo\":[{\"marker\":{\"colorbar\":{\"outlinewidth\":0,\"ticks\":\"\"}},\"type\":\"scattergeo\"}],\"scattergl\":[{\"marker\":{\"colorbar\":{\"outlinewidth\":0,\"ticks\":\"\"}},\"type\":\"scattergl\"}],\"scattermapbox\":[{\"marker\":{\"colorbar\":{\"outlinewidth\":0,\"ticks\":\"\"}},\"type\":\"scattermapbox\"}],\"scatterpolargl\":[{\"marker\":{\"colorbar\":{\"outlinewidth\":0,\"ticks\":\"\"}},\"type\":\"scatterpolargl\"}],\"scatterpolar\":[{\"marker\":{\"colorbar\":{\"outlinewidth\":0,\"ticks\":\"\"}},\"type\":\"scatterpolar\"}],\"scatter\":[{\"fillpattern\":{\"fillmode\":\"overlay\",\"size\":10,\"solidity\":0.2},\"type\":\"scatter\"}],\"scatterternary\":[{\"marker\":{\"colorbar\":{\"outlinewidth\":0,\"ticks\":\"\"}},\"type\":\"scatterternary\"}],\"surface\":[{\"colorbar\":{\"outlinewidth\":0,\"ticks\":\"\"},\"colorscale\":[[0.0,\"#0d0887\"],[0.1111111111111111,\"#46039f\"],[0.2222222222222222,\"#7201a8\"],[0.3333333333333333,\"#9c179e\"],[0.4444444444444444,\"#bd3786\"],[0.5555555555555556,\"#d8576b\"],[0.6666666666666666,\"#ed7953\"],[0.7777777777777778,\"#fb9f3a\"],[0.8888888888888888,\"#fdca26\"],[1.0,\"#f0f921\"]],\"type\":\"surface\"}],\"table\":[{\"cells\":{\"fill\":{\"color\":\"#EBF0F8\"},\"line\":{\"color\":\"white\"}},\"header\":{\"fill\":{\"color\":\"#C8D4E3\"},\"line\":{\"color\":\"white\"}},\"type\":\"table\"}]},\"layout\":{\"annotationdefaults\":{\"arrowcolor\":\"#2a3f5f\",\"arrowhead\":0,\"arrowwidth\":1},\"autotypenumbers\":\"strict\",\"coloraxis\":{\"colorbar\":{\"outlinewidth\":0,\"ticks\":\"\"}},\"colorscale\":{\"diverging\":[[0,\"#8e0152\"],[0.1,\"#c51b7d\"],[0.2,\"#de77ae\"],[0.3,\"#f1b6da\"],[0.4,\"#fde0ef\"],[0.5,\"#f7f7f7\"],[0.6,\"#e6f5d0\"],[0.7,\"#b8e186\"],[0.8,\"#7fbc41\"],[0.9,\"#4d9221\"],[1,\"#276419\"]],\"sequential\":[[0.0,\"#0d0887\"],[0.1111111111111111,\"#46039f\"],[0.2222222222222222,\"#7201a8\"],[0.3333333333333333,\"#9c179e\"],[0.4444444444444444,\"#bd3786\"],[0.5555555555555556,\"#d8576b\"],[0.6666666666666666,\"#ed7953\"],[0.7777777777777778,\"#fb9f3a\"],[0.8888888888888888,\"#fdca26\"],[1.0,\"#f0f921\"]],\"sequentialminus\":[[0.0,\"#0d0887\"],[0.1111111111111111,\"#46039f\"],[0.2222222222222222,\"#7201a8\"],[0.3333333333333333,\"#9c179e\"],[0.4444444444444444,\"#bd3786\"],[0.5555555555555556,\"#d8576b\"],[0.6666666666666666,\"#ed7953\"],[0.7777777777777778,\"#fb9f3a\"],[0.8888888888888888,\"#fdca26\"],[1.0,\"#f0f921\"]]},\"colorway\":[\"#636efa\",\"#EF553B\",\"#00cc96\",\"#ab63fa\",\"#FFA15A\",\"#19d3f3\",\"#FF6692\",\"#B6E880\",\"#FF97FF\",\"#FECB52\"],\"font\":{\"color\":\"#2a3f5f\"},\"geo\":{\"bgcolor\":\"white\",\"lakecolor\":\"white\",\"landcolor\":\"#E5ECF6\",\"showlakes\":true,\"showland\":true,\"subunitcolor\":\"white\"},\"hoverlabel\":{\"align\":\"left\"},\"hovermode\":\"closest\",\"mapbox\":{\"style\":\"light\"},\"paper_bgcolor\":\"white\",\"plot_bgcolor\":\"#E5ECF6\",\"polar\":{\"angularaxis\":{\"gridcolor\":\"white\",\"linecolor\":\"white\",\"ticks\":\"\"},\"bgcolor\":\"#E5ECF6\",\"radialaxis\":{\"gridcolor\":\"white\",\"linecolor\":\"white\",\"ticks\":\"\"}},\"scene\":{\"xaxis\":{\"backgroundcolor\":\"#E5ECF6\",\"gridcolor\":\"white\",\"gridwidth\":2,\"linecolor\":\"white\",\"showbackground\":true,\"ticks\":\"\",\"zerolinecolor\":\"white\"},\"yaxis\":{\"backgroundcolor\":\"#E5ECF6\",\"gridcolor\":\"white\",\"gridwidth\":2,\"linecolor\":\"white\",\"showbackground\":true,\"ticks\":\"\",\"zerolinecolor\":\"white\"},\"zaxis\":{\"backgroundcolor\":\"#E5ECF6\",\"gridcolor\":\"white\",\"gridwidth\":2,\"linecolor\":\"white\",\"showbackground\":true,\"ticks\":\"\",\"zerolinecolor\":\"white\"}},\"shapedefaults\":{\"line\":{\"color\":\"#2a3f5f\"}},\"ternary\":{\"aaxis\":{\"gridcolor\":\"white\",\"linecolor\":\"white\",\"ticks\":\"\"},\"baxis\":{\"gridcolor\":\"white\",\"linecolor\":\"white\",\"ticks\":\"\"},\"bgcolor\":\"#E5ECF6\",\"caxis\":{\"gridcolor\":\"white\",\"linecolor\":\"white\",\"ticks\":\"\"}},\"title\":{\"x\":0.05},\"xaxis\":{\"automargin\":true,\"gridcolor\":\"white\",\"linecolor\":\"white\",\"ticks\":\"\",\"title\":{\"standoff\":15},\"zerolinecolor\":\"white\",\"zerolinewidth\":2},\"yaxis\":{\"automargin\":true,\"gridcolor\":\"white\",\"linecolor\":\"white\",\"ticks\":\"\",\"title\":{\"standoff\":15},\"zerolinecolor\":\"white\",\"zerolinewidth\":2}}},\"title\":{\"font\":{\"color\":\"#4D5663\"},\"text\":\"Distribution of Text Length\"},\"xaxis\":{\"gridcolor\":\"#E1E5ED\",\"showgrid\":true,\"tickfont\":{\"color\":\"#4D5663\"},\"title\":{\"font\":{\"color\":\"#4D5663\"},\"text\":\"Text Length\"},\"zerolinecolor\":\"#E1E5ED\"},\"yaxis\":{\"gridcolor\":\"#E1E5ED\",\"showgrid\":true,\"tickfont\":{\"color\":\"#4D5663\"},\"title\":{\"font\":{\"color\":\"#4D5663\"},\"text\":\"Count\"},\"zerolinecolor\":\"#E1E5ED\"}},                        {\"showLink\": true, \"linkText\": \"Export to plot.ly\", \"plotlyServerURL\": \"https://plot.ly\", \"responsive\": true}                    ).then(function(){\n",
       "                            \n",
       "var gd = document.getElementById('1c5e829f-4cfc-4103-9e8a-478a483a7036');\n",
       "var x = new MutationObserver(function (mutations, observer) {{\n",
       "        var display = window.getComputedStyle(gd).display;\n",
       "        if (!display || display === 'none') {{\n",
       "            console.log([gd, 'removed!']);\n",
       "            Plotly.purge(gd);\n",
       "            observer.disconnect();\n",
       "        }}\n",
       "}});\n",
       "\n",
       "// Listen for the removal of the full notebook cells\n",
       "var notebookContainer = gd.closest('#notebook-container');\n",
       "if (notebookContainer) {{\n",
       "    x.observe(notebookContainer, {childList: true});\n",
       "}}\n",
       "\n",
       "// Listen for the clearing of the current output cell\n",
       "var outputEl = gd.closest('.output');\n",
       "if (outputEl) {{\n",
       "    x.observe(outputEl, {childList: true});\n",
       "}}\n",
       "\n",
       "                        })                };                });            </script>        </div>"
      ]
     },
     "metadata": {},
     "output_type": "display_data"
    }
   ],
   "source": [
    "df['text_length'].iplot(kind = 'hist', xTitle = 'Text Length', yTitle = 'Count', title = \"Distribution of Text Length\", bins = 50)"
   ]
  },
  {
   "cell_type": "code",
   "execution_count": 24,
   "metadata": {},
   "outputs": [
    {
     "data": {
      "application/vnd.plotly.v1+json": {
       "config": {
        "linkText": "Export to plot.ly",
        "plotlyServerURL": "https://plot.ly",
        "showLink": true
       },
       "data": [
        {
         "histfunc": "count",
         "histnorm": "",
         "marker": {
          "color": "rgba(255, 153, 51, 1.0)",
          "line": {
           "color": "#4D5663",
           "width": 1.3
          }
         },
         "name": "word_count",
         "opacity": 0.8,
         "orientation": "v",
         "type": "histogram",
         "x": [
          49,
          27,
          23,
          11,
          12,
          33,
          38,
          11,
          41,
          40,
          34,
          28,
          20,
          48,
          14,
          39,
          44,
          39,
          38,
          38,
          39,
          27,
          41,
          40,
          31,
          21,
          31,
          39,
          41,
          41,
          50,
          32,
          39,
          38,
          39,
          11,
          31,
          41,
          26,
          39,
          46,
          35,
          31,
          12,
          34,
          25,
          32,
          36,
          34,
          37,
          6,
          10,
          35,
          37,
          24,
          25,
          22,
          45,
          32,
          32,
          40,
          33,
          31,
          38,
          41,
          40,
          34,
          35,
          37,
          22,
          13,
          22,
          36,
          10,
          39,
          12,
          48,
          46,
          23,
          20,
          34,
          22,
          33,
          37,
          42,
          31,
          23,
          35,
          23,
          22,
          42,
          6,
          35,
          35,
          37,
          26,
          10,
          39,
          38,
          30,
          18,
          29,
          29,
          35,
          33,
          38,
          6,
          16,
          37,
          44,
          48,
          3,
          50,
          36,
          8,
          41,
          36,
          36,
          11,
          28,
          36,
          22,
          42,
          32,
          38,
          33,
          36,
          41,
          5,
          34,
          23,
          18,
          30,
          45,
          31,
          29,
          36,
          20,
          46,
          39,
          38,
          26,
          19,
          10,
          37,
          38,
          33,
          11,
          19,
          27,
          32,
          17,
          11,
          33,
          18,
          4,
          25,
          48,
          37,
          22,
          42,
          35,
          43,
          32,
          37,
          55,
          35,
          48,
          35,
          26,
          43,
          12,
          33,
          36,
          36,
          26,
          30,
          25,
          47,
          32,
          27,
          27,
          11,
          38,
          43,
          16,
          30,
          26,
          31,
          20,
          22,
          29,
          37,
          41,
          23,
          19,
          40,
          16,
          35,
          30,
          41,
          50,
          27,
          27,
          32,
          16,
          44,
          31,
          34,
          46,
          41,
          36,
          27,
          12,
          26,
          39,
          49,
          49,
          25,
          18,
          37,
          33,
          35,
          24,
          23,
          22,
          24,
          36,
          33,
          20,
          40,
          42,
          15,
          11,
          18,
          21,
          13,
          29,
          6,
          43,
          19,
          25,
          18,
          37,
          26,
          31,
          20,
          43,
          28,
          27,
          37,
          33,
          29,
          26,
          19,
          16,
          15,
          32,
          12,
          25,
          17,
          21,
          31,
          34,
          24,
          11,
          40,
          28,
          39,
          8,
          17,
          33,
          36,
          42,
          13,
          27,
          46,
          16,
          37,
          33,
          35,
          19,
          40,
          35,
          43,
          40,
          14,
          34,
          18,
          40,
          17,
          32,
          30,
          13,
          42,
          38,
          31,
          34,
          10,
          38,
          37,
          39,
          33,
          32,
          37,
          9,
          44,
          15,
          20,
          31,
          34,
          47,
          14,
          15,
          22,
          43,
          27,
          36,
          29,
          49,
          12,
          42,
          30,
          39,
          26,
          17,
          18,
          35,
          39,
          35,
          9,
          22,
          36,
          26,
          32,
          23,
          28,
          13,
          23,
          41,
          42,
          34,
          36,
          38,
          39,
          36,
          37,
          34,
          35,
          28,
          10,
          22,
          30,
          30,
          34,
          47,
          49,
          33,
          32,
          23,
          50,
          3,
          9,
          35,
          7,
          46,
          25,
          50,
          45,
          33,
          26,
          38,
          36,
          40,
          34,
          29,
          63,
          23,
          46,
          40,
          32,
          28,
          9,
          21,
          16,
          32,
          26,
          36,
          38,
          15,
          16,
          26,
          36,
          37,
          10,
          32
         ]
        }
       ],
       "layout": {
        "barmode": "overlay",
        "legend": {
         "bgcolor": "#F5F6F9",
         "font": {
          "color": "#4D5663"
         }
        },
        "paper_bgcolor": "#F5F6F9",
        "plot_bgcolor": "#F5F6F9",
        "template": {
         "data": {
          "bar": [
           {
            "error_x": {
             "color": "#2a3f5f"
            },
            "error_y": {
             "color": "#2a3f5f"
            },
            "marker": {
             "line": {
              "color": "#E5ECF6",
              "width": 0.5
             },
             "pattern": {
              "fillmode": "overlay",
              "size": 10,
              "solidity": 0.2
             }
            },
            "type": "bar"
           }
          ],
          "barpolar": [
           {
            "marker": {
             "line": {
              "color": "#E5ECF6",
              "width": 0.5
             },
             "pattern": {
              "fillmode": "overlay",
              "size": 10,
              "solidity": 0.2
             }
            },
            "type": "barpolar"
           }
          ],
          "carpet": [
           {
            "aaxis": {
             "endlinecolor": "#2a3f5f",
             "gridcolor": "white",
             "linecolor": "white",
             "minorgridcolor": "white",
             "startlinecolor": "#2a3f5f"
            },
            "baxis": {
             "endlinecolor": "#2a3f5f",
             "gridcolor": "white",
             "linecolor": "white",
             "minorgridcolor": "white",
             "startlinecolor": "#2a3f5f"
            },
            "type": "carpet"
           }
          ],
          "choropleth": [
           {
            "colorbar": {
             "outlinewidth": 0,
             "ticks": ""
            },
            "type": "choropleth"
           }
          ],
          "contour": [
           {
            "colorbar": {
             "outlinewidth": 0,
             "ticks": ""
            },
            "colorscale": [
             [
              0,
              "#0d0887"
             ],
             [
              0.1111111111111111,
              "#46039f"
             ],
             [
              0.2222222222222222,
              "#7201a8"
             ],
             [
              0.3333333333333333,
              "#9c179e"
             ],
             [
              0.4444444444444444,
              "#bd3786"
             ],
             [
              0.5555555555555556,
              "#d8576b"
             ],
             [
              0.6666666666666666,
              "#ed7953"
             ],
             [
              0.7777777777777778,
              "#fb9f3a"
             ],
             [
              0.8888888888888888,
              "#fdca26"
             ],
             [
              1,
              "#f0f921"
             ]
            ],
            "type": "contour"
           }
          ],
          "contourcarpet": [
           {
            "colorbar": {
             "outlinewidth": 0,
             "ticks": ""
            },
            "type": "contourcarpet"
           }
          ],
          "heatmap": [
           {
            "colorbar": {
             "outlinewidth": 0,
             "ticks": ""
            },
            "colorscale": [
             [
              0,
              "#0d0887"
             ],
             [
              0.1111111111111111,
              "#46039f"
             ],
             [
              0.2222222222222222,
              "#7201a8"
             ],
             [
              0.3333333333333333,
              "#9c179e"
             ],
             [
              0.4444444444444444,
              "#bd3786"
             ],
             [
              0.5555555555555556,
              "#d8576b"
             ],
             [
              0.6666666666666666,
              "#ed7953"
             ],
             [
              0.7777777777777778,
              "#fb9f3a"
             ],
             [
              0.8888888888888888,
              "#fdca26"
             ],
             [
              1,
              "#f0f921"
             ]
            ],
            "type": "heatmap"
           }
          ],
          "heatmapgl": [
           {
            "colorbar": {
             "outlinewidth": 0,
             "ticks": ""
            },
            "colorscale": [
             [
              0,
              "#0d0887"
             ],
             [
              0.1111111111111111,
              "#46039f"
             ],
             [
              0.2222222222222222,
              "#7201a8"
             ],
             [
              0.3333333333333333,
              "#9c179e"
             ],
             [
              0.4444444444444444,
              "#bd3786"
             ],
             [
              0.5555555555555556,
              "#d8576b"
             ],
             [
              0.6666666666666666,
              "#ed7953"
             ],
             [
              0.7777777777777778,
              "#fb9f3a"
             ],
             [
              0.8888888888888888,
              "#fdca26"
             ],
             [
              1,
              "#f0f921"
             ]
            ],
            "type": "heatmapgl"
           }
          ],
          "histogram": [
           {
            "marker": {
             "pattern": {
              "fillmode": "overlay",
              "size": 10,
              "solidity": 0.2
             }
            },
            "type": "histogram"
           }
          ],
          "histogram2d": [
           {
            "colorbar": {
             "outlinewidth": 0,
             "ticks": ""
            },
            "colorscale": [
             [
              0,
              "#0d0887"
             ],
             [
              0.1111111111111111,
              "#46039f"
             ],
             [
              0.2222222222222222,
              "#7201a8"
             ],
             [
              0.3333333333333333,
              "#9c179e"
             ],
             [
              0.4444444444444444,
              "#bd3786"
             ],
             [
              0.5555555555555556,
              "#d8576b"
             ],
             [
              0.6666666666666666,
              "#ed7953"
             ],
             [
              0.7777777777777778,
              "#fb9f3a"
             ],
             [
              0.8888888888888888,
              "#fdca26"
             ],
             [
              1,
              "#f0f921"
             ]
            ],
            "type": "histogram2d"
           }
          ],
          "histogram2dcontour": [
           {
            "colorbar": {
             "outlinewidth": 0,
             "ticks": ""
            },
            "colorscale": [
             [
              0,
              "#0d0887"
             ],
             [
              0.1111111111111111,
              "#46039f"
             ],
             [
              0.2222222222222222,
              "#7201a8"
             ],
             [
              0.3333333333333333,
              "#9c179e"
             ],
             [
              0.4444444444444444,
              "#bd3786"
             ],
             [
              0.5555555555555556,
              "#d8576b"
             ],
             [
              0.6666666666666666,
              "#ed7953"
             ],
             [
              0.7777777777777778,
              "#fb9f3a"
             ],
             [
              0.8888888888888888,
              "#fdca26"
             ],
             [
              1,
              "#f0f921"
             ]
            ],
            "type": "histogram2dcontour"
           }
          ],
          "mesh3d": [
           {
            "colorbar": {
             "outlinewidth": 0,
             "ticks": ""
            },
            "type": "mesh3d"
           }
          ],
          "parcoords": [
           {
            "line": {
             "colorbar": {
              "outlinewidth": 0,
              "ticks": ""
             }
            },
            "type": "parcoords"
           }
          ],
          "pie": [
           {
            "automargin": true,
            "type": "pie"
           }
          ],
          "scatter": [
           {
            "fillpattern": {
             "fillmode": "overlay",
             "size": 10,
             "solidity": 0.2
            },
            "type": "scatter"
           }
          ],
          "scatter3d": [
           {
            "line": {
             "colorbar": {
              "outlinewidth": 0,
              "ticks": ""
             }
            },
            "marker": {
             "colorbar": {
              "outlinewidth": 0,
              "ticks": ""
             }
            },
            "type": "scatter3d"
           }
          ],
          "scattercarpet": [
           {
            "marker": {
             "colorbar": {
              "outlinewidth": 0,
              "ticks": ""
             }
            },
            "type": "scattercarpet"
           }
          ],
          "scattergeo": [
           {
            "marker": {
             "colorbar": {
              "outlinewidth": 0,
              "ticks": ""
             }
            },
            "type": "scattergeo"
           }
          ],
          "scattergl": [
           {
            "marker": {
             "colorbar": {
              "outlinewidth": 0,
              "ticks": ""
             }
            },
            "type": "scattergl"
           }
          ],
          "scattermapbox": [
           {
            "marker": {
             "colorbar": {
              "outlinewidth": 0,
              "ticks": ""
             }
            },
            "type": "scattermapbox"
           }
          ],
          "scatterpolar": [
           {
            "marker": {
             "colorbar": {
              "outlinewidth": 0,
              "ticks": ""
             }
            },
            "type": "scatterpolar"
           }
          ],
          "scatterpolargl": [
           {
            "marker": {
             "colorbar": {
              "outlinewidth": 0,
              "ticks": ""
             }
            },
            "type": "scatterpolargl"
           }
          ],
          "scatterternary": [
           {
            "marker": {
             "colorbar": {
              "outlinewidth": 0,
              "ticks": ""
             }
            },
            "type": "scatterternary"
           }
          ],
          "surface": [
           {
            "colorbar": {
             "outlinewidth": 0,
             "ticks": ""
            },
            "colorscale": [
             [
              0,
              "#0d0887"
             ],
             [
              0.1111111111111111,
              "#46039f"
             ],
             [
              0.2222222222222222,
              "#7201a8"
             ],
             [
              0.3333333333333333,
              "#9c179e"
             ],
             [
              0.4444444444444444,
              "#bd3786"
             ],
             [
              0.5555555555555556,
              "#d8576b"
             ],
             [
              0.6666666666666666,
              "#ed7953"
             ],
             [
              0.7777777777777778,
              "#fb9f3a"
             ],
             [
              0.8888888888888888,
              "#fdca26"
             ],
             [
              1,
              "#f0f921"
             ]
            ],
            "type": "surface"
           }
          ],
          "table": [
           {
            "cells": {
             "fill": {
              "color": "#EBF0F8"
             },
             "line": {
              "color": "white"
             }
            },
            "header": {
             "fill": {
              "color": "#C8D4E3"
             },
             "line": {
              "color": "white"
             }
            },
            "type": "table"
           }
          ]
         },
         "layout": {
          "annotationdefaults": {
           "arrowcolor": "#2a3f5f",
           "arrowhead": 0,
           "arrowwidth": 1
          },
          "autotypenumbers": "strict",
          "coloraxis": {
           "colorbar": {
            "outlinewidth": 0,
            "ticks": ""
           }
          },
          "colorscale": {
           "diverging": [
            [
             0,
             "#8e0152"
            ],
            [
             0.1,
             "#c51b7d"
            ],
            [
             0.2,
             "#de77ae"
            ],
            [
             0.3,
             "#f1b6da"
            ],
            [
             0.4,
             "#fde0ef"
            ],
            [
             0.5,
             "#f7f7f7"
            ],
            [
             0.6,
             "#e6f5d0"
            ],
            [
             0.7,
             "#b8e186"
            ],
            [
             0.8,
             "#7fbc41"
            ],
            [
             0.9,
             "#4d9221"
            ],
            [
             1,
             "#276419"
            ]
           ],
           "sequential": [
            [
             0,
             "#0d0887"
            ],
            [
             0.1111111111111111,
             "#46039f"
            ],
            [
             0.2222222222222222,
             "#7201a8"
            ],
            [
             0.3333333333333333,
             "#9c179e"
            ],
            [
             0.4444444444444444,
             "#bd3786"
            ],
            [
             0.5555555555555556,
             "#d8576b"
            ],
            [
             0.6666666666666666,
             "#ed7953"
            ],
            [
             0.7777777777777778,
             "#fb9f3a"
            ],
            [
             0.8888888888888888,
             "#fdca26"
            ],
            [
             1,
             "#f0f921"
            ]
           ],
           "sequentialminus": [
            [
             0,
             "#0d0887"
            ],
            [
             0.1111111111111111,
             "#46039f"
            ],
            [
             0.2222222222222222,
             "#7201a8"
            ],
            [
             0.3333333333333333,
             "#9c179e"
            ],
            [
             0.4444444444444444,
             "#bd3786"
            ],
            [
             0.5555555555555556,
             "#d8576b"
            ],
            [
             0.6666666666666666,
             "#ed7953"
            ],
            [
             0.7777777777777778,
             "#fb9f3a"
            ],
            [
             0.8888888888888888,
             "#fdca26"
            ],
            [
             1,
             "#f0f921"
            ]
           ]
          },
          "colorway": [
           "#636efa",
           "#EF553B",
           "#00cc96",
           "#ab63fa",
           "#FFA15A",
           "#19d3f3",
           "#FF6692",
           "#B6E880",
           "#FF97FF",
           "#FECB52"
          ],
          "font": {
           "color": "#2a3f5f"
          },
          "geo": {
           "bgcolor": "white",
           "lakecolor": "white",
           "landcolor": "#E5ECF6",
           "showlakes": true,
           "showland": true,
           "subunitcolor": "white"
          },
          "hoverlabel": {
           "align": "left"
          },
          "hovermode": "closest",
          "mapbox": {
           "style": "light"
          },
          "paper_bgcolor": "white",
          "plot_bgcolor": "#E5ECF6",
          "polar": {
           "angularaxis": {
            "gridcolor": "white",
            "linecolor": "white",
            "ticks": ""
           },
           "bgcolor": "#E5ECF6",
           "radialaxis": {
            "gridcolor": "white",
            "linecolor": "white",
            "ticks": ""
           }
          },
          "scene": {
           "xaxis": {
            "backgroundcolor": "#E5ECF6",
            "gridcolor": "white",
            "gridwidth": 2,
            "linecolor": "white",
            "showbackground": true,
            "ticks": "",
            "zerolinecolor": "white"
           },
           "yaxis": {
            "backgroundcolor": "#E5ECF6",
            "gridcolor": "white",
            "gridwidth": 2,
            "linecolor": "white",
            "showbackground": true,
            "ticks": "",
            "zerolinecolor": "white"
           },
           "zaxis": {
            "backgroundcolor": "#E5ECF6",
            "gridcolor": "white",
            "gridwidth": 2,
            "linecolor": "white",
            "showbackground": true,
            "ticks": "",
            "zerolinecolor": "white"
           }
          },
          "shapedefaults": {
           "line": {
            "color": "#2a3f5f"
           }
          },
          "ternary": {
           "aaxis": {
            "gridcolor": "white",
            "linecolor": "white",
            "ticks": ""
           },
           "baxis": {
            "gridcolor": "white",
            "linecolor": "white",
            "ticks": ""
           },
           "bgcolor": "#E5ECF6",
           "caxis": {
            "gridcolor": "white",
            "linecolor": "white",
            "ticks": ""
           }
          },
          "title": {
           "x": 0.05
          },
          "xaxis": {
           "automargin": true,
           "gridcolor": "white",
           "linecolor": "white",
           "ticks": "",
           "title": {
            "standoff": 15
           },
           "zerolinecolor": "white",
           "zerolinewidth": 2
          },
          "yaxis": {
           "automargin": true,
           "gridcolor": "white",
           "linecolor": "white",
           "ticks": "",
           "title": {
            "standoff": 15
           },
           "zerolinecolor": "white",
           "zerolinewidth": 2
          }
         }
        },
        "title": {
         "font": {
          "color": "#4D5663"
         },
         "text": "Distribution of Word Count"
        },
        "xaxis": {
         "gridcolor": "#E1E5ED",
         "showgrid": true,
         "tickfont": {
          "color": "#4D5663"
         },
         "title": {
          "font": {
           "color": "#4D5663"
          },
          "text": "Word Count"
         },
         "zerolinecolor": "#E1E5ED"
        },
        "yaxis": {
         "gridcolor": "#E1E5ED",
         "showgrid": true,
         "tickfont": {
          "color": "#4D5663"
         },
         "title": {
          "font": {
           "color": "#4D5663"
          },
          "text": "Count"
         },
         "zerolinecolor": "#E1E5ED"
        }
       }
      },
      "text/html": [
       "<div>                            <div id=\"7e8909b7-c834-4206-9bf9-1f482c147d37\" class=\"plotly-graph-div\" style=\"height:525px; width:100%;\"></div>            <script type=\"text/javascript\">                require([\"plotly\"], function(Plotly) {                    window.PLOTLYENV=window.PLOTLYENV || {};\n",
       "                    window.PLOTLYENV.BASE_URL='https://plot.ly';                                    if (document.getElementById(\"7e8909b7-c834-4206-9bf9-1f482c147d37\")) {                    Plotly.newPlot(                        \"7e8909b7-c834-4206-9bf9-1f482c147d37\",                        [{\"histfunc\":\"count\",\"histnorm\":\"\",\"marker\":{\"color\":\"rgba(255, 153, 51, 1.0)\",\"line\":{\"color\":\"#4D5663\",\"width\":1.3}},\"name\":\"word_count\",\"opacity\":0.8,\"orientation\":\"v\",\"x\":[49,27,23,11,12,33,38,11,41,40,34,28,20,48,14,39,44,39,38,38,39,27,41,40,31,21,31,39,41,41,50,32,39,38,39,11,31,41,26,39,46,35,31,12,34,25,32,36,34,37,6,10,35,37,24,25,22,45,32,32,40,33,31,38,41,40,34,35,37,22,13,22,36,10,39,12,48,46,23,20,34,22,33,37,42,31,23,35,23,22,42,6,35,35,37,26,10,39,38,30,18,29,29,35,33,38,6,16,37,44,48,3,50,36,8,41,36,36,11,28,36,22,42,32,38,33,36,41,5,34,23,18,30,45,31,29,36,20,46,39,38,26,19,10,37,38,33,11,19,27,32,17,11,33,18,4,25,48,37,22,42,35,43,32,37,55,35,48,35,26,43,12,33,36,36,26,30,25,47,32,27,27,11,38,43,16,30,26,31,20,22,29,37,41,23,19,40,16,35,30,41,50,27,27,32,16,44,31,34,46,41,36,27,12,26,39,49,49,25,18,37,33,35,24,23,22,24,36,33,20,40,42,15,11,18,21,13,29,6,43,19,25,18,37,26,31,20,43,28,27,37,33,29,26,19,16,15,32,12,25,17,21,31,34,24,11,40,28,39,8,17,33,36,42,13,27,46,16,37,33,35,19,40,35,43,40,14,34,18,40,17,32,30,13,42,38,31,34,10,38,37,39,33,32,37,9,44,15,20,31,34,47,14,15,22,43,27,36,29,49,12,42,30,39,26,17,18,35,39,35,9,22,36,26,32,23,28,13,23,41,42,34,36,38,39,36,37,34,35,28,10,22,30,30,34,47,49,33,32,23,50,3,9,35,7,46,25,50,45,33,26,38,36,40,34,29,63,23,46,40,32,28,9,21,16,32,26,36,38,15,16,26,36,37,10,32],\"type\":\"histogram\"}],                        {\"barmode\":\"overlay\",\"legend\":{\"bgcolor\":\"#F5F6F9\",\"font\":{\"color\":\"#4D5663\"}},\"paper_bgcolor\":\"#F5F6F9\",\"plot_bgcolor\":\"#F5F6F9\",\"template\":{\"data\":{\"barpolar\":[{\"marker\":{\"line\":{\"color\":\"#E5ECF6\",\"width\":0.5},\"pattern\":{\"fillmode\":\"overlay\",\"size\":10,\"solidity\":0.2}},\"type\":\"barpolar\"}],\"bar\":[{\"error_x\":{\"color\":\"#2a3f5f\"},\"error_y\":{\"color\":\"#2a3f5f\"},\"marker\":{\"line\":{\"color\":\"#E5ECF6\",\"width\":0.5},\"pattern\":{\"fillmode\":\"overlay\",\"size\":10,\"solidity\":0.2}},\"type\":\"bar\"}],\"carpet\":[{\"aaxis\":{\"endlinecolor\":\"#2a3f5f\",\"gridcolor\":\"white\",\"linecolor\":\"white\",\"minorgridcolor\":\"white\",\"startlinecolor\":\"#2a3f5f\"},\"baxis\":{\"endlinecolor\":\"#2a3f5f\",\"gridcolor\":\"white\",\"linecolor\":\"white\",\"minorgridcolor\":\"white\",\"startlinecolor\":\"#2a3f5f\"},\"type\":\"carpet\"}],\"choropleth\":[{\"colorbar\":{\"outlinewidth\":0,\"ticks\":\"\"},\"type\":\"choropleth\"}],\"contourcarpet\":[{\"colorbar\":{\"outlinewidth\":0,\"ticks\":\"\"},\"type\":\"contourcarpet\"}],\"contour\":[{\"colorbar\":{\"outlinewidth\":0,\"ticks\":\"\"},\"colorscale\":[[0.0,\"#0d0887\"],[0.1111111111111111,\"#46039f\"],[0.2222222222222222,\"#7201a8\"],[0.3333333333333333,\"#9c179e\"],[0.4444444444444444,\"#bd3786\"],[0.5555555555555556,\"#d8576b\"],[0.6666666666666666,\"#ed7953\"],[0.7777777777777778,\"#fb9f3a\"],[0.8888888888888888,\"#fdca26\"],[1.0,\"#f0f921\"]],\"type\":\"contour\"}],\"heatmapgl\":[{\"colorbar\":{\"outlinewidth\":0,\"ticks\":\"\"},\"colorscale\":[[0.0,\"#0d0887\"],[0.1111111111111111,\"#46039f\"],[0.2222222222222222,\"#7201a8\"],[0.3333333333333333,\"#9c179e\"],[0.4444444444444444,\"#bd3786\"],[0.5555555555555556,\"#d8576b\"],[0.6666666666666666,\"#ed7953\"],[0.7777777777777778,\"#fb9f3a\"],[0.8888888888888888,\"#fdca26\"],[1.0,\"#f0f921\"]],\"type\":\"heatmapgl\"}],\"heatmap\":[{\"colorbar\":{\"outlinewidth\":0,\"ticks\":\"\"},\"colorscale\":[[0.0,\"#0d0887\"],[0.1111111111111111,\"#46039f\"],[0.2222222222222222,\"#7201a8\"],[0.3333333333333333,\"#9c179e\"],[0.4444444444444444,\"#bd3786\"],[0.5555555555555556,\"#d8576b\"],[0.6666666666666666,\"#ed7953\"],[0.7777777777777778,\"#fb9f3a\"],[0.8888888888888888,\"#fdca26\"],[1.0,\"#f0f921\"]],\"type\":\"heatmap\"}],\"histogram2dcontour\":[{\"colorbar\":{\"outlinewidth\":0,\"ticks\":\"\"},\"colorscale\":[[0.0,\"#0d0887\"],[0.1111111111111111,\"#46039f\"],[0.2222222222222222,\"#7201a8\"],[0.3333333333333333,\"#9c179e\"],[0.4444444444444444,\"#bd3786\"],[0.5555555555555556,\"#d8576b\"],[0.6666666666666666,\"#ed7953\"],[0.7777777777777778,\"#fb9f3a\"],[0.8888888888888888,\"#fdca26\"],[1.0,\"#f0f921\"]],\"type\":\"histogram2dcontour\"}],\"histogram2d\":[{\"colorbar\":{\"outlinewidth\":0,\"ticks\":\"\"},\"colorscale\":[[0.0,\"#0d0887\"],[0.1111111111111111,\"#46039f\"],[0.2222222222222222,\"#7201a8\"],[0.3333333333333333,\"#9c179e\"],[0.4444444444444444,\"#bd3786\"],[0.5555555555555556,\"#d8576b\"],[0.6666666666666666,\"#ed7953\"],[0.7777777777777778,\"#fb9f3a\"],[0.8888888888888888,\"#fdca26\"],[1.0,\"#f0f921\"]],\"type\":\"histogram2d\"}],\"histogram\":[{\"marker\":{\"pattern\":{\"fillmode\":\"overlay\",\"size\":10,\"solidity\":0.2}},\"type\":\"histogram\"}],\"mesh3d\":[{\"colorbar\":{\"outlinewidth\":0,\"ticks\":\"\"},\"type\":\"mesh3d\"}],\"parcoords\":[{\"line\":{\"colorbar\":{\"outlinewidth\":0,\"ticks\":\"\"}},\"type\":\"parcoords\"}],\"pie\":[{\"automargin\":true,\"type\":\"pie\"}],\"scatter3d\":[{\"line\":{\"colorbar\":{\"outlinewidth\":0,\"ticks\":\"\"}},\"marker\":{\"colorbar\":{\"outlinewidth\":0,\"ticks\":\"\"}},\"type\":\"scatter3d\"}],\"scattercarpet\":[{\"marker\":{\"colorbar\":{\"outlinewidth\":0,\"ticks\":\"\"}},\"type\":\"scattercarpet\"}],\"scattergeo\":[{\"marker\":{\"colorbar\":{\"outlinewidth\":0,\"ticks\":\"\"}},\"type\":\"scattergeo\"}],\"scattergl\":[{\"marker\":{\"colorbar\":{\"outlinewidth\":0,\"ticks\":\"\"}},\"type\":\"scattergl\"}],\"scattermapbox\":[{\"marker\":{\"colorbar\":{\"outlinewidth\":0,\"ticks\":\"\"}},\"type\":\"scattermapbox\"}],\"scatterpolargl\":[{\"marker\":{\"colorbar\":{\"outlinewidth\":0,\"ticks\":\"\"}},\"type\":\"scatterpolargl\"}],\"scatterpolar\":[{\"marker\":{\"colorbar\":{\"outlinewidth\":0,\"ticks\":\"\"}},\"type\":\"scatterpolar\"}],\"scatter\":[{\"fillpattern\":{\"fillmode\":\"overlay\",\"size\":10,\"solidity\":0.2},\"type\":\"scatter\"}],\"scatterternary\":[{\"marker\":{\"colorbar\":{\"outlinewidth\":0,\"ticks\":\"\"}},\"type\":\"scatterternary\"}],\"surface\":[{\"colorbar\":{\"outlinewidth\":0,\"ticks\":\"\"},\"colorscale\":[[0.0,\"#0d0887\"],[0.1111111111111111,\"#46039f\"],[0.2222222222222222,\"#7201a8\"],[0.3333333333333333,\"#9c179e\"],[0.4444444444444444,\"#bd3786\"],[0.5555555555555556,\"#d8576b\"],[0.6666666666666666,\"#ed7953\"],[0.7777777777777778,\"#fb9f3a\"],[0.8888888888888888,\"#fdca26\"],[1.0,\"#f0f921\"]],\"type\":\"surface\"}],\"table\":[{\"cells\":{\"fill\":{\"color\":\"#EBF0F8\"},\"line\":{\"color\":\"white\"}},\"header\":{\"fill\":{\"color\":\"#C8D4E3\"},\"line\":{\"color\":\"white\"}},\"type\":\"table\"}]},\"layout\":{\"annotationdefaults\":{\"arrowcolor\":\"#2a3f5f\",\"arrowhead\":0,\"arrowwidth\":1},\"autotypenumbers\":\"strict\",\"coloraxis\":{\"colorbar\":{\"outlinewidth\":0,\"ticks\":\"\"}},\"colorscale\":{\"diverging\":[[0,\"#8e0152\"],[0.1,\"#c51b7d\"],[0.2,\"#de77ae\"],[0.3,\"#f1b6da\"],[0.4,\"#fde0ef\"],[0.5,\"#f7f7f7\"],[0.6,\"#e6f5d0\"],[0.7,\"#b8e186\"],[0.8,\"#7fbc41\"],[0.9,\"#4d9221\"],[1,\"#276419\"]],\"sequential\":[[0.0,\"#0d0887\"],[0.1111111111111111,\"#46039f\"],[0.2222222222222222,\"#7201a8\"],[0.3333333333333333,\"#9c179e\"],[0.4444444444444444,\"#bd3786\"],[0.5555555555555556,\"#d8576b\"],[0.6666666666666666,\"#ed7953\"],[0.7777777777777778,\"#fb9f3a\"],[0.8888888888888888,\"#fdca26\"],[1.0,\"#f0f921\"]],\"sequentialminus\":[[0.0,\"#0d0887\"],[0.1111111111111111,\"#46039f\"],[0.2222222222222222,\"#7201a8\"],[0.3333333333333333,\"#9c179e\"],[0.4444444444444444,\"#bd3786\"],[0.5555555555555556,\"#d8576b\"],[0.6666666666666666,\"#ed7953\"],[0.7777777777777778,\"#fb9f3a\"],[0.8888888888888888,\"#fdca26\"],[1.0,\"#f0f921\"]]},\"colorway\":[\"#636efa\",\"#EF553B\",\"#00cc96\",\"#ab63fa\",\"#FFA15A\",\"#19d3f3\",\"#FF6692\",\"#B6E880\",\"#FF97FF\",\"#FECB52\"],\"font\":{\"color\":\"#2a3f5f\"},\"geo\":{\"bgcolor\":\"white\",\"lakecolor\":\"white\",\"landcolor\":\"#E5ECF6\",\"showlakes\":true,\"showland\":true,\"subunitcolor\":\"white\"},\"hoverlabel\":{\"align\":\"left\"},\"hovermode\":\"closest\",\"mapbox\":{\"style\":\"light\"},\"paper_bgcolor\":\"white\",\"plot_bgcolor\":\"#E5ECF6\",\"polar\":{\"angularaxis\":{\"gridcolor\":\"white\",\"linecolor\":\"white\",\"ticks\":\"\"},\"bgcolor\":\"#E5ECF6\",\"radialaxis\":{\"gridcolor\":\"white\",\"linecolor\":\"white\",\"ticks\":\"\"}},\"scene\":{\"xaxis\":{\"backgroundcolor\":\"#E5ECF6\",\"gridcolor\":\"white\",\"gridwidth\":2,\"linecolor\":\"white\",\"showbackground\":true,\"ticks\":\"\",\"zerolinecolor\":\"white\"},\"yaxis\":{\"backgroundcolor\":\"#E5ECF6\",\"gridcolor\":\"white\",\"gridwidth\":2,\"linecolor\":\"white\",\"showbackground\":true,\"ticks\":\"\",\"zerolinecolor\":\"white\"},\"zaxis\":{\"backgroundcolor\":\"#E5ECF6\",\"gridcolor\":\"white\",\"gridwidth\":2,\"linecolor\":\"white\",\"showbackground\":true,\"ticks\":\"\",\"zerolinecolor\":\"white\"}},\"shapedefaults\":{\"line\":{\"color\":\"#2a3f5f\"}},\"ternary\":{\"aaxis\":{\"gridcolor\":\"white\",\"linecolor\":\"white\",\"ticks\":\"\"},\"baxis\":{\"gridcolor\":\"white\",\"linecolor\":\"white\",\"ticks\":\"\"},\"bgcolor\":\"#E5ECF6\",\"caxis\":{\"gridcolor\":\"white\",\"linecolor\":\"white\",\"ticks\":\"\"}},\"title\":{\"x\":0.05},\"xaxis\":{\"automargin\":true,\"gridcolor\":\"white\",\"linecolor\":\"white\",\"ticks\":\"\",\"title\":{\"standoff\":15},\"zerolinecolor\":\"white\",\"zerolinewidth\":2},\"yaxis\":{\"automargin\":true,\"gridcolor\":\"white\",\"linecolor\":\"white\",\"ticks\":\"\",\"title\":{\"standoff\":15},\"zerolinecolor\":\"white\",\"zerolinewidth\":2}}},\"title\":{\"font\":{\"color\":\"#4D5663\"},\"text\":\"Distribution of Word Count\"},\"xaxis\":{\"gridcolor\":\"#E1E5ED\",\"showgrid\":true,\"tickfont\":{\"color\":\"#4D5663\"},\"title\":{\"font\":{\"color\":\"#4D5663\"},\"text\":\"Word Count\"},\"zerolinecolor\":\"#E1E5ED\"},\"yaxis\":{\"gridcolor\":\"#E1E5ED\",\"showgrid\":true,\"tickfont\":{\"color\":\"#4D5663\"},\"title\":{\"font\":{\"color\":\"#4D5663\"},\"text\":\"Count\"},\"zerolinecolor\":\"#E1E5ED\"}},                        {\"showLink\": true, \"linkText\": \"Export to plot.ly\", \"plotlyServerURL\": \"https://plot.ly\", \"responsive\": true}                    ).then(function(){\n",
       "                            \n",
       "var gd = document.getElementById('7e8909b7-c834-4206-9bf9-1f482c147d37');\n",
       "var x = new MutationObserver(function (mutations, observer) {{\n",
       "        var display = window.getComputedStyle(gd).display;\n",
       "        if (!display || display === 'none') {{\n",
       "            console.log([gd, 'removed!']);\n",
       "            Plotly.purge(gd);\n",
       "            observer.disconnect();\n",
       "        }}\n",
       "}});\n",
       "\n",
       "// Listen for the removal of the full notebook cells\n",
       "var notebookContainer = gd.closest('#notebook-container');\n",
       "if (notebookContainer) {{\n",
       "    x.observe(notebookContainer, {childList: true});\n",
       "}}\n",
       "\n",
       "// Listen for the clearing of the current output cell\n",
       "var outputEl = gd.closest('.output');\n",
       "if (outputEl) {{\n",
       "    x.observe(outputEl, {childList: true});\n",
       "}}\n",
       "\n",
       "                        })                };                });            </script>        </div>"
      ]
     },
     "metadata": {},
     "output_type": "display_data"
    }
   ],
   "source": [
    "df['word_count'].iplot(kind = 'hist', xTitle = 'Word Count', yTitle = 'Count', title = \"Distribution of Word Count\")"
   ]
  },
  {
   "cell_type": "code",
   "execution_count": 25,
   "metadata": {},
   "outputs": [
    {
     "data": {
      "application/vnd.plotly.v1+json": {
       "config": {
        "linkText": "Export to plot.ly",
        "plotlyServerURL": "https://plot.ly",
        "showLink": true
       },
       "data": [
        {
         "histfunc": "count",
         "histnorm": "",
         "marker": {
          "color": "rgba(255, 153, 51, 1.0)",
          "line": {
           "color": "#4D5663",
           "width": 1.3
          }
         },
         "name": "avg_word_length",
         "nbinsx": 50,
         "opacity": 0.8,
         "orientation": "v",
         "type": "histogram",
         "x": [
          4.612244897959184,
          5.074074074074074,
          6.695652173913044,
          6.181818181818182,
          6.166666666666667,
          5.515151515151516,
          5.2631578947368425,
          6.181818181818182,
          4.853658536585366,
          6.225,
          6.617647058823529,
          5.892857142857143,
          6.55,
          4.5625,
          6.214285714285714,
          4.9743589743589745,
          5.0227272727272725,
          4.794871794871795,
          5,
          5.421052631578948,
          5.769230769230769,
          5.333333333333333,
          5.585365853658536,
          5.075,
          5.580645161290323,
          5.428571428571429,
          6.387096774193548,
          4.743589743589744,
          5.439024390243903,
          5.7073170731707314,
          4.42,
          5.1875,
          5.461538461538462,
          5.131578947368421,
          5.512820512820513,
          5.545454545454546,
          6.258064516129032,
          5.487804878048781,
          6.076923076923077,
          5.051282051282051,
          5.086956521739131,
          6,
          6.161290322580645,
          6.583333333333333,
          4.882352941176471,
          5.8,
          6.65625,
          5.583333333333333,
          6.0588235294117645,
          6,
          6.5,
          7.2,
          6.514285714285714,
          6.027027027027027,
          7.625,
          7.4,
          7.545454545454546,
          4.977777777777778,
          4.6875,
          6.75,
          5.525,
          5.757575757575758,
          4.741935483870968,
          5.578947368421052,
          4.853658536585366,
          5.15,
          6.470588235294118,
          6.742857142857143,
          6.1891891891891895,
          5.590909090909091,
          6.076923076923077,
          10.454545454545455,
          5.583333333333333,
          7,
          5.102564102564102,
          7.666666666666667,
          4.229166666666667,
          4.782608695652174,
          6.304347826086956,
          6.25,
          5.5588235294117645,
          5.818181818181818,
          5.333333333333333,
          5.54054054054054,
          5.238095238095238,
          6.129032258064516,
          5.086956521739131,
          6.0285714285714285,
          6.869565217391305,
          7.7727272727272725,
          5.214285714285714,
          18.666666666666668,
          5.2,
          5.228571428571429,
          5.45945945945946,
          4.961538461538462,
          6.1,
          5.128205128205129,
          6,
          4.333333333333333,
          5.222222222222222,
          6.655172413793103,
          6.241379310344827,
          5.2,
          5.757575757575758,
          4.973684210526316,
          5.166666666666667,
          6.0625,
          5.594594594594595,
          4.590909090909091,
          4.5,
          8.666666666666666,
          4.14,
          5.833333333333333,
          7.125,
          5.658536585365853,
          5.777777777777778,
          5.777777777777778,
          5.545454545454546,
          5.571428571428571,
          6,
          5.7727272727272725,
          4.714285714285714,
          4.8125,
          5.342105263157895,
          5.515151515151516,
          5.638888888888889,
          4.341463414634147,
          8,
          5.382352941176471,
          4.826086956521739,
          9.277777777777779,
          5.333333333333333,
          4.511111111111111,
          6.645161290322581,
          5,
          5.5,
          8.1,
          4.782608695652174,
          5.051282051282051,
          5.421052631578948,
          5.730769230769231,
          6.157894736842105,
          7.1,
          5.351351351351352,
          5.2631578947368425,
          6.878787878787879,
          6.7272727272727275,
          6.2631578947368425,
          7.7407407407407405,
          5.34375,
          5.705882352941177,
          6.181818181818182,
          6.151515151515151,
          5.444444444444445,
          6.5,
          5,
          5.333333333333333,
          5.405405405405405,
          6.681818181818182,
          4.666666666666667,
          5.0285714285714285,
          4.395348837209302,
          7.25,
          5.702702702702703,
          3.963636363636364,
          5.514285714285714,
          4.520833333333333,
          5.142857142857143,
          6.115384615384615,
          5.209302325581396,
          5.666666666666667,
          5.7272727272727275,
          5.777777777777778,
          5.805555555555555,
          6.846153846153846,
          5.666666666666667,
          6.08,
          4.74468085106383,
          6.40625,
          6.037037037037037,
          5.185185185185185,
          4.7272727272727275,
          5.473684210526316,
          4.790697674418604,
          6.4375,
          6.633333333333334,
          7.615384615384615,
          6.774193548387097,
          5.8,
          5.318181818181818,
          5.724137931034483,
          5.297297297297297,
          5.073170731707317,
          5.608695652173913,
          6.421052631578948,
          5.2,
          9.625,
          5.628571428571429,
          4.866666666666666,
          4.7317073170731705,
          6.22,
          6.851851851851852,
          6.62962962962963,
          6.78125,
          4.6875,
          4.931818181818182,
          5.451612903225806,
          5.882352941176471,
          4.369565217391305,
          4.878048780487805,
          5.305555555555555,
          8.333333333333334,
          6.583333333333333,
          4.923076923076923,
          5.230769230769231,
          4.530612244897959,
          4.63265306122449,
          7.24,
          4.888888888888889,
          5.54054054054054,
          5.0606060606060606,
          5.8,
          6.125,
          6.869565217391305,
          4.818181818181818,
          6.291666666666667,
          5.166666666666667,
          5.757575757575758,
          7.1,
          4.675,
          4.880952380952381,
          5.933333333333334,
          5.909090909090909,
          7.555555555555555,
          7.333333333333333,
          6.076923076923077,
          6.344827586206897,
          7,
          5.023255813953488,
          5,
          5.28,
          5.666666666666667,
          5.756756756756757,
          6.961538461538462,
          5.903225806451613,
          5.9,
          5.27906976744186,
          5.678571428571429,
          5.37037037037037,
          5.54054054054054,
          5.303030303030303,
          6.9655172413793105,
          5.230769230769231,
          6,
          4.625,
          6.333333333333333,
          5.53125,
          7,
          8.6,
          4.588235294117647,
          5.333333333333333,
          5.645161290322581,
          6.029411764705882,
          5.666666666666667,
          6.909090909090909,
          4.775,
          5.535714285714286,
          5.9743589743589745,
          6.875,
          6,
          5.757575757575758,
          5.5,
          5.619047619047619,
          6.230769230769231,
          7.074074074074074,
          4.021739130434782,
          5.6875,
          4.702702702702703,
          6,
          5.914285714285715,
          5.473684210526316,
          5.8,
          5.314285714285714,
          4.953488372093023,
          5.35,
          7.428571428571429,
          5.029411764705882,
          6.833333333333333,
          5.725,
          4.9411764705882355,
          5.28125,
          6.166666666666667,
          4.846153846153846,
          4.571428571428571,
          5.078947368421052,
          5.096774193548387,
          4.647058823529412,
          5.3,
          6,
          5.918918918918919,
          6.153846153846154,
          7.0606060606060606,
          6.90625,
          5.27027027027027,
          6.777777777777778,
          4.159090909090909,
          6.466666666666667,
          6.5,
          5.870967741935484,
          5.970588235294118,
          4.659574468085107,
          6.642857142857143,
          6.066666666666666,
          5.7727272727272725,
          5.232558139534884,
          6.62962962962963,
          5.916666666666667,
          6.068965517241379,
          4.36734693877551,
          4.666666666666667,
          5.238095238095238,
          6.866666666666666,
          4.948717948717949,
          6.115384615384615,
          8.529411764705882,
          7.611111111111111,
          6,
          4.871794871794871,
          4.714285714285714,
          7,
          8.5,
          4.916666666666667,
          5.384615384615385,
          5.5625,
          5.173913043478261,
          6.678571428571429,
          5.615384615384615,
          6.086956521739131,
          5.024390243902439,
          5.0476190476190474,
          6.676470588235294,
          5.805555555555555,
          5.552631578947368,
          4.282051282051282,
          5,
          5.945945945945946,
          5.176470588235294,
          5.0285714285714285,
          5.464285714285714,
          5.4,
          5.454545454545454,
          4.733333333333333,
          5.566666666666666,
          5.352941176470588,
          4.9787234042553195,
          4.612244897959184,
          5.848484848484849,
          4.5625,
          7.086956521739131,
          4.64,
          14,
          6.333333333333333,
          5.742857142857143,
          7.571428571428571,
          4.934782608695652,
          5.44,
          4.4,
          4.911111111111111,
          6.787878787878788,
          4.653846153846154,
          4.7631578947368425,
          5.027777777777778,
          5.75,
          5.911764705882353,
          5.551724137931035,
          6.698412698412699,
          4.739130434782608,
          5.043478260869565,
          5.175,
          5.34375,
          6.142857142857143,
          6.777777777777778,
          10.285714285714286,
          5.75,
          6.5,
          6.038461538461538,
          4.666666666666667,
          4.868421052631579,
          6.6,
          6.4375,
          7.6923076923076925,
          5.222222222222222,
          4.675675675675675,
          6.5,
          5.34375
         ]
        }
       ],
       "layout": {
        "barmode": "overlay",
        "legend": {
         "bgcolor": "#F5F6F9",
         "font": {
          "color": "#4D5663"
         }
        },
        "paper_bgcolor": "#F5F6F9",
        "plot_bgcolor": "#F5F6F9",
        "template": {
         "data": {
          "bar": [
           {
            "error_x": {
             "color": "#2a3f5f"
            },
            "error_y": {
             "color": "#2a3f5f"
            },
            "marker": {
             "line": {
              "color": "#E5ECF6",
              "width": 0.5
             },
             "pattern": {
              "fillmode": "overlay",
              "size": 10,
              "solidity": 0.2
             }
            },
            "type": "bar"
           }
          ],
          "barpolar": [
           {
            "marker": {
             "line": {
              "color": "#E5ECF6",
              "width": 0.5
             },
             "pattern": {
              "fillmode": "overlay",
              "size": 10,
              "solidity": 0.2
             }
            },
            "type": "barpolar"
           }
          ],
          "carpet": [
           {
            "aaxis": {
             "endlinecolor": "#2a3f5f",
             "gridcolor": "white",
             "linecolor": "white",
             "minorgridcolor": "white",
             "startlinecolor": "#2a3f5f"
            },
            "baxis": {
             "endlinecolor": "#2a3f5f",
             "gridcolor": "white",
             "linecolor": "white",
             "minorgridcolor": "white",
             "startlinecolor": "#2a3f5f"
            },
            "type": "carpet"
           }
          ],
          "choropleth": [
           {
            "colorbar": {
             "outlinewidth": 0,
             "ticks": ""
            },
            "type": "choropleth"
           }
          ],
          "contour": [
           {
            "colorbar": {
             "outlinewidth": 0,
             "ticks": ""
            },
            "colorscale": [
             [
              0,
              "#0d0887"
             ],
             [
              0.1111111111111111,
              "#46039f"
             ],
             [
              0.2222222222222222,
              "#7201a8"
             ],
             [
              0.3333333333333333,
              "#9c179e"
             ],
             [
              0.4444444444444444,
              "#bd3786"
             ],
             [
              0.5555555555555556,
              "#d8576b"
             ],
             [
              0.6666666666666666,
              "#ed7953"
             ],
             [
              0.7777777777777778,
              "#fb9f3a"
             ],
             [
              0.8888888888888888,
              "#fdca26"
             ],
             [
              1,
              "#f0f921"
             ]
            ],
            "type": "contour"
           }
          ],
          "contourcarpet": [
           {
            "colorbar": {
             "outlinewidth": 0,
             "ticks": ""
            },
            "type": "contourcarpet"
           }
          ],
          "heatmap": [
           {
            "colorbar": {
             "outlinewidth": 0,
             "ticks": ""
            },
            "colorscale": [
             [
              0,
              "#0d0887"
             ],
             [
              0.1111111111111111,
              "#46039f"
             ],
             [
              0.2222222222222222,
              "#7201a8"
             ],
             [
              0.3333333333333333,
              "#9c179e"
             ],
             [
              0.4444444444444444,
              "#bd3786"
             ],
             [
              0.5555555555555556,
              "#d8576b"
             ],
             [
              0.6666666666666666,
              "#ed7953"
             ],
             [
              0.7777777777777778,
              "#fb9f3a"
             ],
             [
              0.8888888888888888,
              "#fdca26"
             ],
             [
              1,
              "#f0f921"
             ]
            ],
            "type": "heatmap"
           }
          ],
          "heatmapgl": [
           {
            "colorbar": {
             "outlinewidth": 0,
             "ticks": ""
            },
            "colorscale": [
             [
              0,
              "#0d0887"
             ],
             [
              0.1111111111111111,
              "#46039f"
             ],
             [
              0.2222222222222222,
              "#7201a8"
             ],
             [
              0.3333333333333333,
              "#9c179e"
             ],
             [
              0.4444444444444444,
              "#bd3786"
             ],
             [
              0.5555555555555556,
              "#d8576b"
             ],
             [
              0.6666666666666666,
              "#ed7953"
             ],
             [
              0.7777777777777778,
              "#fb9f3a"
             ],
             [
              0.8888888888888888,
              "#fdca26"
             ],
             [
              1,
              "#f0f921"
             ]
            ],
            "type": "heatmapgl"
           }
          ],
          "histogram": [
           {
            "marker": {
             "pattern": {
              "fillmode": "overlay",
              "size": 10,
              "solidity": 0.2
             }
            },
            "type": "histogram"
           }
          ],
          "histogram2d": [
           {
            "colorbar": {
             "outlinewidth": 0,
             "ticks": ""
            },
            "colorscale": [
             [
              0,
              "#0d0887"
             ],
             [
              0.1111111111111111,
              "#46039f"
             ],
             [
              0.2222222222222222,
              "#7201a8"
             ],
             [
              0.3333333333333333,
              "#9c179e"
             ],
             [
              0.4444444444444444,
              "#bd3786"
             ],
             [
              0.5555555555555556,
              "#d8576b"
             ],
             [
              0.6666666666666666,
              "#ed7953"
             ],
             [
              0.7777777777777778,
              "#fb9f3a"
             ],
             [
              0.8888888888888888,
              "#fdca26"
             ],
             [
              1,
              "#f0f921"
             ]
            ],
            "type": "histogram2d"
           }
          ],
          "histogram2dcontour": [
           {
            "colorbar": {
             "outlinewidth": 0,
             "ticks": ""
            },
            "colorscale": [
             [
              0,
              "#0d0887"
             ],
             [
              0.1111111111111111,
              "#46039f"
             ],
             [
              0.2222222222222222,
              "#7201a8"
             ],
             [
              0.3333333333333333,
              "#9c179e"
             ],
             [
              0.4444444444444444,
              "#bd3786"
             ],
             [
              0.5555555555555556,
              "#d8576b"
             ],
             [
              0.6666666666666666,
              "#ed7953"
             ],
             [
              0.7777777777777778,
              "#fb9f3a"
             ],
             [
              0.8888888888888888,
              "#fdca26"
             ],
             [
              1,
              "#f0f921"
             ]
            ],
            "type": "histogram2dcontour"
           }
          ],
          "mesh3d": [
           {
            "colorbar": {
             "outlinewidth": 0,
             "ticks": ""
            },
            "type": "mesh3d"
           }
          ],
          "parcoords": [
           {
            "line": {
             "colorbar": {
              "outlinewidth": 0,
              "ticks": ""
             }
            },
            "type": "parcoords"
           }
          ],
          "pie": [
           {
            "automargin": true,
            "type": "pie"
           }
          ],
          "scatter": [
           {
            "fillpattern": {
             "fillmode": "overlay",
             "size": 10,
             "solidity": 0.2
            },
            "type": "scatter"
           }
          ],
          "scatter3d": [
           {
            "line": {
             "colorbar": {
              "outlinewidth": 0,
              "ticks": ""
             }
            },
            "marker": {
             "colorbar": {
              "outlinewidth": 0,
              "ticks": ""
             }
            },
            "type": "scatter3d"
           }
          ],
          "scattercarpet": [
           {
            "marker": {
             "colorbar": {
              "outlinewidth": 0,
              "ticks": ""
             }
            },
            "type": "scattercarpet"
           }
          ],
          "scattergeo": [
           {
            "marker": {
             "colorbar": {
              "outlinewidth": 0,
              "ticks": ""
             }
            },
            "type": "scattergeo"
           }
          ],
          "scattergl": [
           {
            "marker": {
             "colorbar": {
              "outlinewidth": 0,
              "ticks": ""
             }
            },
            "type": "scattergl"
           }
          ],
          "scattermapbox": [
           {
            "marker": {
             "colorbar": {
              "outlinewidth": 0,
              "ticks": ""
             }
            },
            "type": "scattermapbox"
           }
          ],
          "scatterpolar": [
           {
            "marker": {
             "colorbar": {
              "outlinewidth": 0,
              "ticks": ""
             }
            },
            "type": "scatterpolar"
           }
          ],
          "scatterpolargl": [
           {
            "marker": {
             "colorbar": {
              "outlinewidth": 0,
              "ticks": ""
             }
            },
            "type": "scatterpolargl"
           }
          ],
          "scatterternary": [
           {
            "marker": {
             "colorbar": {
              "outlinewidth": 0,
              "ticks": ""
             }
            },
            "type": "scatterternary"
           }
          ],
          "surface": [
           {
            "colorbar": {
             "outlinewidth": 0,
             "ticks": ""
            },
            "colorscale": [
             [
              0,
              "#0d0887"
             ],
             [
              0.1111111111111111,
              "#46039f"
             ],
             [
              0.2222222222222222,
              "#7201a8"
             ],
             [
              0.3333333333333333,
              "#9c179e"
             ],
             [
              0.4444444444444444,
              "#bd3786"
             ],
             [
              0.5555555555555556,
              "#d8576b"
             ],
             [
              0.6666666666666666,
              "#ed7953"
             ],
             [
              0.7777777777777778,
              "#fb9f3a"
             ],
             [
              0.8888888888888888,
              "#fdca26"
             ],
             [
              1,
              "#f0f921"
             ]
            ],
            "type": "surface"
           }
          ],
          "table": [
           {
            "cells": {
             "fill": {
              "color": "#EBF0F8"
             },
             "line": {
              "color": "white"
             }
            },
            "header": {
             "fill": {
              "color": "#C8D4E3"
             },
             "line": {
              "color": "white"
             }
            },
            "type": "table"
           }
          ]
         },
         "layout": {
          "annotationdefaults": {
           "arrowcolor": "#2a3f5f",
           "arrowhead": 0,
           "arrowwidth": 1
          },
          "autotypenumbers": "strict",
          "coloraxis": {
           "colorbar": {
            "outlinewidth": 0,
            "ticks": ""
           }
          },
          "colorscale": {
           "diverging": [
            [
             0,
             "#8e0152"
            ],
            [
             0.1,
             "#c51b7d"
            ],
            [
             0.2,
             "#de77ae"
            ],
            [
             0.3,
             "#f1b6da"
            ],
            [
             0.4,
             "#fde0ef"
            ],
            [
             0.5,
             "#f7f7f7"
            ],
            [
             0.6,
             "#e6f5d0"
            ],
            [
             0.7,
             "#b8e186"
            ],
            [
             0.8,
             "#7fbc41"
            ],
            [
             0.9,
             "#4d9221"
            ],
            [
             1,
             "#276419"
            ]
           ],
           "sequential": [
            [
             0,
             "#0d0887"
            ],
            [
             0.1111111111111111,
             "#46039f"
            ],
            [
             0.2222222222222222,
             "#7201a8"
            ],
            [
             0.3333333333333333,
             "#9c179e"
            ],
            [
             0.4444444444444444,
             "#bd3786"
            ],
            [
             0.5555555555555556,
             "#d8576b"
            ],
            [
             0.6666666666666666,
             "#ed7953"
            ],
            [
             0.7777777777777778,
             "#fb9f3a"
            ],
            [
             0.8888888888888888,
             "#fdca26"
            ],
            [
             1,
             "#f0f921"
            ]
           ],
           "sequentialminus": [
            [
             0,
             "#0d0887"
            ],
            [
             0.1111111111111111,
             "#46039f"
            ],
            [
             0.2222222222222222,
             "#7201a8"
            ],
            [
             0.3333333333333333,
             "#9c179e"
            ],
            [
             0.4444444444444444,
             "#bd3786"
            ],
            [
             0.5555555555555556,
             "#d8576b"
            ],
            [
             0.6666666666666666,
             "#ed7953"
            ],
            [
             0.7777777777777778,
             "#fb9f3a"
            ],
            [
             0.8888888888888888,
             "#fdca26"
            ],
            [
             1,
             "#f0f921"
            ]
           ]
          },
          "colorway": [
           "#636efa",
           "#EF553B",
           "#00cc96",
           "#ab63fa",
           "#FFA15A",
           "#19d3f3",
           "#FF6692",
           "#B6E880",
           "#FF97FF",
           "#FECB52"
          ],
          "font": {
           "color": "#2a3f5f"
          },
          "geo": {
           "bgcolor": "white",
           "lakecolor": "white",
           "landcolor": "#E5ECF6",
           "showlakes": true,
           "showland": true,
           "subunitcolor": "white"
          },
          "hoverlabel": {
           "align": "left"
          },
          "hovermode": "closest",
          "mapbox": {
           "style": "light"
          },
          "paper_bgcolor": "white",
          "plot_bgcolor": "#E5ECF6",
          "polar": {
           "angularaxis": {
            "gridcolor": "white",
            "linecolor": "white",
            "ticks": ""
           },
           "bgcolor": "#E5ECF6",
           "radialaxis": {
            "gridcolor": "white",
            "linecolor": "white",
            "ticks": ""
           }
          },
          "scene": {
           "xaxis": {
            "backgroundcolor": "#E5ECF6",
            "gridcolor": "white",
            "gridwidth": 2,
            "linecolor": "white",
            "showbackground": true,
            "ticks": "",
            "zerolinecolor": "white"
           },
           "yaxis": {
            "backgroundcolor": "#E5ECF6",
            "gridcolor": "white",
            "gridwidth": 2,
            "linecolor": "white",
            "showbackground": true,
            "ticks": "",
            "zerolinecolor": "white"
           },
           "zaxis": {
            "backgroundcolor": "#E5ECF6",
            "gridcolor": "white",
            "gridwidth": 2,
            "linecolor": "white",
            "showbackground": true,
            "ticks": "",
            "zerolinecolor": "white"
           }
          },
          "shapedefaults": {
           "line": {
            "color": "#2a3f5f"
           }
          },
          "ternary": {
           "aaxis": {
            "gridcolor": "white",
            "linecolor": "white",
            "ticks": ""
           },
           "baxis": {
            "gridcolor": "white",
            "linecolor": "white",
            "ticks": ""
           },
           "bgcolor": "#E5ECF6",
           "caxis": {
            "gridcolor": "white",
            "linecolor": "white",
            "ticks": ""
           }
          },
          "title": {
           "x": 0.05
          },
          "xaxis": {
           "automargin": true,
           "gridcolor": "white",
           "linecolor": "white",
           "ticks": "",
           "title": {
            "standoff": 15
           },
           "zerolinecolor": "white",
           "zerolinewidth": 2
          },
          "yaxis": {
           "automargin": true,
           "gridcolor": "white",
           "linecolor": "white",
           "ticks": "",
           "title": {
            "standoff": 15
           },
           "zerolinecolor": "white",
           "zerolinewidth": 2
          }
         }
        },
        "title": {
         "font": {
          "color": "#4D5663"
         },
         "text": "Distribution of Average Word Length"
        },
        "xaxis": {
         "gridcolor": "#E1E5ED",
         "showgrid": true,
         "tickfont": {
          "color": "#4D5663"
         },
         "title": {
          "font": {
           "color": "#4D5663"
          },
          "text": "Average Word Length"
         },
         "zerolinecolor": "#E1E5ED"
        },
        "yaxis": {
         "gridcolor": "#E1E5ED",
         "showgrid": true,
         "tickfont": {
          "color": "#4D5663"
         },
         "title": {
          "font": {
           "color": "#4D5663"
          },
          "text": "Count"
         },
         "zerolinecolor": "#E1E5ED"
        }
       }
      },
      "text/html": [
       "<div>                            <div id=\"52e73bbd-1fcb-4c47-963a-ada6959dc1b3\" class=\"plotly-graph-div\" style=\"height:525px; width:100%;\"></div>            <script type=\"text/javascript\">                require([\"plotly\"], function(Plotly) {                    window.PLOTLYENV=window.PLOTLYENV || {};\n",
       "                    window.PLOTLYENV.BASE_URL='https://plot.ly';                                    if (document.getElementById(\"52e73bbd-1fcb-4c47-963a-ada6959dc1b3\")) {                    Plotly.newPlot(                        \"52e73bbd-1fcb-4c47-963a-ada6959dc1b3\",                        [{\"histfunc\":\"count\",\"histnorm\":\"\",\"marker\":{\"color\":\"rgba(255, 153, 51, 1.0)\",\"line\":{\"color\":\"#4D5663\",\"width\":1.3}},\"name\":\"avg_word_length\",\"nbinsx\":50,\"opacity\":0.8,\"orientation\":\"v\",\"x\":[4.612244897959184,5.074074074074074,6.695652173913044,6.181818181818182,6.166666666666667,5.515151515151516,5.2631578947368425,6.181818181818182,4.853658536585366,6.225,6.617647058823529,5.892857142857143,6.55,4.5625,6.214285714285714,4.9743589743589745,5.0227272727272725,4.794871794871795,5.0,5.421052631578948,5.769230769230769,5.333333333333333,5.585365853658536,5.075,5.580645161290323,5.428571428571429,6.387096774193548,4.743589743589744,5.439024390243903,5.7073170731707314,4.42,5.1875,5.461538461538462,5.131578947368421,5.512820512820513,5.545454545454546,6.258064516129032,5.487804878048781,6.076923076923077,5.051282051282051,5.086956521739131,6.0,6.161290322580645,6.583333333333333,4.882352941176471,5.8,6.65625,5.583333333333333,6.0588235294117645,6.0,6.5,7.2,6.514285714285714,6.027027027027027,7.625,7.4,7.545454545454546,4.977777777777778,4.6875,6.75,5.525,5.757575757575758,4.741935483870968,5.578947368421052,4.853658536585366,5.15,6.470588235294118,6.742857142857143,6.1891891891891895,5.590909090909091,6.076923076923077,10.454545454545455,5.583333333333333,7.0,5.102564102564102,7.666666666666667,4.229166666666667,4.782608695652174,6.304347826086956,6.25,5.5588235294117645,5.818181818181818,5.333333333333333,5.54054054054054,5.238095238095238,6.129032258064516,5.086956521739131,6.0285714285714285,6.869565217391305,7.7727272727272725,5.214285714285714,18.666666666666668,5.2,5.228571428571429,5.45945945945946,4.961538461538462,6.1,5.128205128205129,6.0,4.333333333333333,5.222222222222222,6.655172413793103,6.241379310344827,5.2,5.757575757575758,4.973684210526316,5.166666666666667,6.0625,5.594594594594595,4.590909090909091,4.5,8.666666666666666,4.14,5.833333333333333,7.125,5.658536585365853,5.777777777777778,5.777777777777778,5.545454545454546,5.571428571428571,6.0,5.7727272727272725,4.714285714285714,4.8125,5.342105263157895,5.515151515151516,5.638888888888889,4.341463414634147,8.0,5.382352941176471,4.826086956521739,9.277777777777779,5.333333333333333,4.511111111111111,6.645161290322581,5.0,5.5,8.1,4.782608695652174,5.051282051282051,5.421052631578948,5.730769230769231,6.157894736842105,7.1,5.351351351351352,5.2631578947368425,6.878787878787879,6.7272727272727275,6.2631578947368425,7.7407407407407405,5.34375,5.705882352941177,6.181818181818182,6.151515151515151,5.444444444444445,6.5,5.0,5.333333333333333,5.405405405405405,6.681818181818182,4.666666666666667,5.0285714285714285,4.395348837209302,7.25,5.702702702702703,3.963636363636364,5.514285714285714,4.520833333333333,5.142857142857143,6.115384615384615,5.209302325581396,5.666666666666667,5.7272727272727275,5.777777777777778,5.805555555555555,6.846153846153846,5.666666666666667,6.08,4.74468085106383,6.40625,6.037037037037037,5.185185185185185,4.7272727272727275,5.473684210526316,4.790697674418604,6.4375,6.633333333333334,7.615384615384615,6.774193548387097,5.8,5.318181818181818,5.724137931034483,5.297297297297297,5.073170731707317,5.608695652173913,6.421052631578948,5.2,9.625,5.628571428571429,4.866666666666666,4.7317073170731705,6.22,6.851851851851852,6.62962962962963,6.78125,4.6875,4.931818181818182,5.451612903225806,5.882352941176471,4.369565217391305,4.878048780487805,5.305555555555555,8.333333333333334,6.583333333333333,4.923076923076923,5.230769230769231,4.530612244897959,4.63265306122449,7.24,4.888888888888889,5.54054054054054,5.0606060606060606,5.8,6.125,6.869565217391305,4.818181818181818,6.291666666666667,5.166666666666667,5.757575757575758,7.1,4.675,4.880952380952381,5.933333333333334,5.909090909090909,7.555555555555555,7.333333333333333,6.076923076923077,6.344827586206897,7.0,5.023255813953488,5.0,5.28,5.666666666666667,5.756756756756757,6.961538461538462,5.903225806451613,5.9,5.27906976744186,5.678571428571429,5.37037037037037,5.54054054054054,5.303030303030303,6.9655172413793105,5.230769230769231,6.0,4.625,6.333333333333333,5.53125,7.0,8.6,4.588235294117647,5.333333333333333,5.645161290322581,6.029411764705882,5.666666666666667,6.909090909090909,4.775,5.535714285714286,5.9743589743589745,6.875,6.0,5.757575757575758,5.5,5.619047619047619,6.230769230769231,7.074074074074074,4.021739130434782,5.6875,4.702702702702703,6.0,5.914285714285715,5.473684210526316,5.8,5.314285714285714,4.953488372093023,5.35,7.428571428571429,5.029411764705882,6.833333333333333,5.725,4.9411764705882355,5.28125,6.166666666666667,4.846153846153846,4.571428571428571,5.078947368421052,5.096774193548387,4.647058823529412,5.3,6.0,5.918918918918919,6.153846153846154,7.0606060606060606,6.90625,5.27027027027027,6.777777777777778,4.159090909090909,6.466666666666667,6.5,5.870967741935484,5.970588235294118,4.659574468085107,6.642857142857143,6.066666666666666,5.7727272727272725,5.232558139534884,6.62962962962963,5.916666666666667,6.068965517241379,4.36734693877551,4.666666666666667,5.238095238095238,6.866666666666666,4.948717948717949,6.115384615384615,8.529411764705882,7.611111111111111,6.0,4.871794871794871,4.714285714285714,7.0,8.5,4.916666666666667,5.384615384615385,5.5625,5.173913043478261,6.678571428571429,5.615384615384615,6.086956521739131,5.024390243902439,5.0476190476190474,6.676470588235294,5.805555555555555,5.552631578947368,4.282051282051282,5.0,5.945945945945946,5.176470588235294,5.0285714285714285,5.464285714285714,5.4,5.454545454545454,4.733333333333333,5.566666666666666,5.352941176470588,4.9787234042553195,4.612244897959184,5.848484848484849,4.5625,7.086956521739131,4.64,14.0,6.333333333333333,5.742857142857143,7.571428571428571,4.934782608695652,5.44,4.4,4.911111111111111,6.787878787878788,4.653846153846154,4.7631578947368425,5.027777777777778,5.75,5.911764705882353,5.551724137931035,6.698412698412699,4.739130434782608,5.043478260869565,5.175,5.34375,6.142857142857143,6.777777777777778,10.285714285714286,5.75,6.5,6.038461538461538,4.666666666666667,4.868421052631579,6.6,6.4375,7.6923076923076925,5.222222222222222,4.675675675675675,6.5,5.34375],\"type\":\"histogram\"}],                        {\"barmode\":\"overlay\",\"legend\":{\"bgcolor\":\"#F5F6F9\",\"font\":{\"color\":\"#4D5663\"}},\"paper_bgcolor\":\"#F5F6F9\",\"plot_bgcolor\":\"#F5F6F9\",\"template\":{\"data\":{\"barpolar\":[{\"marker\":{\"line\":{\"color\":\"#E5ECF6\",\"width\":0.5},\"pattern\":{\"fillmode\":\"overlay\",\"size\":10,\"solidity\":0.2}},\"type\":\"barpolar\"}],\"bar\":[{\"error_x\":{\"color\":\"#2a3f5f\"},\"error_y\":{\"color\":\"#2a3f5f\"},\"marker\":{\"line\":{\"color\":\"#E5ECF6\",\"width\":0.5},\"pattern\":{\"fillmode\":\"overlay\",\"size\":10,\"solidity\":0.2}},\"type\":\"bar\"}],\"carpet\":[{\"aaxis\":{\"endlinecolor\":\"#2a3f5f\",\"gridcolor\":\"white\",\"linecolor\":\"white\",\"minorgridcolor\":\"white\",\"startlinecolor\":\"#2a3f5f\"},\"baxis\":{\"endlinecolor\":\"#2a3f5f\",\"gridcolor\":\"white\",\"linecolor\":\"white\",\"minorgridcolor\":\"white\",\"startlinecolor\":\"#2a3f5f\"},\"type\":\"carpet\"}],\"choropleth\":[{\"colorbar\":{\"outlinewidth\":0,\"ticks\":\"\"},\"type\":\"choropleth\"}],\"contourcarpet\":[{\"colorbar\":{\"outlinewidth\":0,\"ticks\":\"\"},\"type\":\"contourcarpet\"}],\"contour\":[{\"colorbar\":{\"outlinewidth\":0,\"ticks\":\"\"},\"colorscale\":[[0.0,\"#0d0887\"],[0.1111111111111111,\"#46039f\"],[0.2222222222222222,\"#7201a8\"],[0.3333333333333333,\"#9c179e\"],[0.4444444444444444,\"#bd3786\"],[0.5555555555555556,\"#d8576b\"],[0.6666666666666666,\"#ed7953\"],[0.7777777777777778,\"#fb9f3a\"],[0.8888888888888888,\"#fdca26\"],[1.0,\"#f0f921\"]],\"type\":\"contour\"}],\"heatmapgl\":[{\"colorbar\":{\"outlinewidth\":0,\"ticks\":\"\"},\"colorscale\":[[0.0,\"#0d0887\"],[0.1111111111111111,\"#46039f\"],[0.2222222222222222,\"#7201a8\"],[0.3333333333333333,\"#9c179e\"],[0.4444444444444444,\"#bd3786\"],[0.5555555555555556,\"#d8576b\"],[0.6666666666666666,\"#ed7953\"],[0.7777777777777778,\"#fb9f3a\"],[0.8888888888888888,\"#fdca26\"],[1.0,\"#f0f921\"]],\"type\":\"heatmapgl\"}],\"heatmap\":[{\"colorbar\":{\"outlinewidth\":0,\"ticks\":\"\"},\"colorscale\":[[0.0,\"#0d0887\"],[0.1111111111111111,\"#46039f\"],[0.2222222222222222,\"#7201a8\"],[0.3333333333333333,\"#9c179e\"],[0.4444444444444444,\"#bd3786\"],[0.5555555555555556,\"#d8576b\"],[0.6666666666666666,\"#ed7953\"],[0.7777777777777778,\"#fb9f3a\"],[0.8888888888888888,\"#fdca26\"],[1.0,\"#f0f921\"]],\"type\":\"heatmap\"}],\"histogram2dcontour\":[{\"colorbar\":{\"outlinewidth\":0,\"ticks\":\"\"},\"colorscale\":[[0.0,\"#0d0887\"],[0.1111111111111111,\"#46039f\"],[0.2222222222222222,\"#7201a8\"],[0.3333333333333333,\"#9c179e\"],[0.4444444444444444,\"#bd3786\"],[0.5555555555555556,\"#d8576b\"],[0.6666666666666666,\"#ed7953\"],[0.7777777777777778,\"#fb9f3a\"],[0.8888888888888888,\"#fdca26\"],[1.0,\"#f0f921\"]],\"type\":\"histogram2dcontour\"}],\"histogram2d\":[{\"colorbar\":{\"outlinewidth\":0,\"ticks\":\"\"},\"colorscale\":[[0.0,\"#0d0887\"],[0.1111111111111111,\"#46039f\"],[0.2222222222222222,\"#7201a8\"],[0.3333333333333333,\"#9c179e\"],[0.4444444444444444,\"#bd3786\"],[0.5555555555555556,\"#d8576b\"],[0.6666666666666666,\"#ed7953\"],[0.7777777777777778,\"#fb9f3a\"],[0.8888888888888888,\"#fdca26\"],[1.0,\"#f0f921\"]],\"type\":\"histogram2d\"}],\"histogram\":[{\"marker\":{\"pattern\":{\"fillmode\":\"overlay\",\"size\":10,\"solidity\":0.2}},\"type\":\"histogram\"}],\"mesh3d\":[{\"colorbar\":{\"outlinewidth\":0,\"ticks\":\"\"},\"type\":\"mesh3d\"}],\"parcoords\":[{\"line\":{\"colorbar\":{\"outlinewidth\":0,\"ticks\":\"\"}},\"type\":\"parcoords\"}],\"pie\":[{\"automargin\":true,\"type\":\"pie\"}],\"scatter3d\":[{\"line\":{\"colorbar\":{\"outlinewidth\":0,\"ticks\":\"\"}},\"marker\":{\"colorbar\":{\"outlinewidth\":0,\"ticks\":\"\"}},\"type\":\"scatter3d\"}],\"scattercarpet\":[{\"marker\":{\"colorbar\":{\"outlinewidth\":0,\"ticks\":\"\"}},\"type\":\"scattercarpet\"}],\"scattergeo\":[{\"marker\":{\"colorbar\":{\"outlinewidth\":0,\"ticks\":\"\"}},\"type\":\"scattergeo\"}],\"scattergl\":[{\"marker\":{\"colorbar\":{\"outlinewidth\":0,\"ticks\":\"\"}},\"type\":\"scattergl\"}],\"scattermapbox\":[{\"marker\":{\"colorbar\":{\"outlinewidth\":0,\"ticks\":\"\"}},\"type\":\"scattermapbox\"}],\"scatterpolargl\":[{\"marker\":{\"colorbar\":{\"outlinewidth\":0,\"ticks\":\"\"}},\"type\":\"scatterpolargl\"}],\"scatterpolar\":[{\"marker\":{\"colorbar\":{\"outlinewidth\":0,\"ticks\":\"\"}},\"type\":\"scatterpolar\"}],\"scatter\":[{\"fillpattern\":{\"fillmode\":\"overlay\",\"size\":10,\"solidity\":0.2},\"type\":\"scatter\"}],\"scatterternary\":[{\"marker\":{\"colorbar\":{\"outlinewidth\":0,\"ticks\":\"\"}},\"type\":\"scatterternary\"}],\"surface\":[{\"colorbar\":{\"outlinewidth\":0,\"ticks\":\"\"},\"colorscale\":[[0.0,\"#0d0887\"],[0.1111111111111111,\"#46039f\"],[0.2222222222222222,\"#7201a8\"],[0.3333333333333333,\"#9c179e\"],[0.4444444444444444,\"#bd3786\"],[0.5555555555555556,\"#d8576b\"],[0.6666666666666666,\"#ed7953\"],[0.7777777777777778,\"#fb9f3a\"],[0.8888888888888888,\"#fdca26\"],[1.0,\"#f0f921\"]],\"type\":\"surface\"}],\"table\":[{\"cells\":{\"fill\":{\"color\":\"#EBF0F8\"},\"line\":{\"color\":\"white\"}},\"header\":{\"fill\":{\"color\":\"#C8D4E3\"},\"line\":{\"color\":\"white\"}},\"type\":\"table\"}]},\"layout\":{\"annotationdefaults\":{\"arrowcolor\":\"#2a3f5f\",\"arrowhead\":0,\"arrowwidth\":1},\"autotypenumbers\":\"strict\",\"coloraxis\":{\"colorbar\":{\"outlinewidth\":0,\"ticks\":\"\"}},\"colorscale\":{\"diverging\":[[0,\"#8e0152\"],[0.1,\"#c51b7d\"],[0.2,\"#de77ae\"],[0.3,\"#f1b6da\"],[0.4,\"#fde0ef\"],[0.5,\"#f7f7f7\"],[0.6,\"#e6f5d0\"],[0.7,\"#b8e186\"],[0.8,\"#7fbc41\"],[0.9,\"#4d9221\"],[1,\"#276419\"]],\"sequential\":[[0.0,\"#0d0887\"],[0.1111111111111111,\"#46039f\"],[0.2222222222222222,\"#7201a8\"],[0.3333333333333333,\"#9c179e\"],[0.4444444444444444,\"#bd3786\"],[0.5555555555555556,\"#d8576b\"],[0.6666666666666666,\"#ed7953\"],[0.7777777777777778,\"#fb9f3a\"],[0.8888888888888888,\"#fdca26\"],[1.0,\"#f0f921\"]],\"sequentialminus\":[[0.0,\"#0d0887\"],[0.1111111111111111,\"#46039f\"],[0.2222222222222222,\"#7201a8\"],[0.3333333333333333,\"#9c179e\"],[0.4444444444444444,\"#bd3786\"],[0.5555555555555556,\"#d8576b\"],[0.6666666666666666,\"#ed7953\"],[0.7777777777777778,\"#fb9f3a\"],[0.8888888888888888,\"#fdca26\"],[1.0,\"#f0f921\"]]},\"colorway\":[\"#636efa\",\"#EF553B\",\"#00cc96\",\"#ab63fa\",\"#FFA15A\",\"#19d3f3\",\"#FF6692\",\"#B6E880\",\"#FF97FF\",\"#FECB52\"],\"font\":{\"color\":\"#2a3f5f\"},\"geo\":{\"bgcolor\":\"white\",\"lakecolor\":\"white\",\"landcolor\":\"#E5ECF6\",\"showlakes\":true,\"showland\":true,\"subunitcolor\":\"white\"},\"hoverlabel\":{\"align\":\"left\"},\"hovermode\":\"closest\",\"mapbox\":{\"style\":\"light\"},\"paper_bgcolor\":\"white\",\"plot_bgcolor\":\"#E5ECF6\",\"polar\":{\"angularaxis\":{\"gridcolor\":\"white\",\"linecolor\":\"white\",\"ticks\":\"\"},\"bgcolor\":\"#E5ECF6\",\"radialaxis\":{\"gridcolor\":\"white\",\"linecolor\":\"white\",\"ticks\":\"\"}},\"scene\":{\"xaxis\":{\"backgroundcolor\":\"#E5ECF6\",\"gridcolor\":\"white\",\"gridwidth\":2,\"linecolor\":\"white\",\"showbackground\":true,\"ticks\":\"\",\"zerolinecolor\":\"white\"},\"yaxis\":{\"backgroundcolor\":\"#E5ECF6\",\"gridcolor\":\"white\",\"gridwidth\":2,\"linecolor\":\"white\",\"showbackground\":true,\"ticks\":\"\",\"zerolinecolor\":\"white\"},\"zaxis\":{\"backgroundcolor\":\"#E5ECF6\",\"gridcolor\":\"white\",\"gridwidth\":2,\"linecolor\":\"white\",\"showbackground\":true,\"ticks\":\"\",\"zerolinecolor\":\"white\"}},\"shapedefaults\":{\"line\":{\"color\":\"#2a3f5f\"}},\"ternary\":{\"aaxis\":{\"gridcolor\":\"white\",\"linecolor\":\"white\",\"ticks\":\"\"},\"baxis\":{\"gridcolor\":\"white\",\"linecolor\":\"white\",\"ticks\":\"\"},\"bgcolor\":\"#E5ECF6\",\"caxis\":{\"gridcolor\":\"white\",\"linecolor\":\"white\",\"ticks\":\"\"}},\"title\":{\"x\":0.05},\"xaxis\":{\"automargin\":true,\"gridcolor\":\"white\",\"linecolor\":\"white\",\"ticks\":\"\",\"title\":{\"standoff\":15},\"zerolinecolor\":\"white\",\"zerolinewidth\":2},\"yaxis\":{\"automargin\":true,\"gridcolor\":\"white\",\"linecolor\":\"white\",\"ticks\":\"\",\"title\":{\"standoff\":15},\"zerolinecolor\":\"white\",\"zerolinewidth\":2}}},\"title\":{\"font\":{\"color\":\"#4D5663\"},\"text\":\"Distribution of Average Word Length\"},\"xaxis\":{\"gridcolor\":\"#E1E5ED\",\"showgrid\":true,\"tickfont\":{\"color\":\"#4D5663\"},\"title\":{\"font\":{\"color\":\"#4D5663\"},\"text\":\"Average Word Length\"},\"zerolinecolor\":\"#E1E5ED\"},\"yaxis\":{\"gridcolor\":\"#E1E5ED\",\"showgrid\":true,\"tickfont\":{\"color\":\"#4D5663\"},\"title\":{\"font\":{\"color\":\"#4D5663\"},\"text\":\"Count\"},\"zerolinecolor\":\"#E1E5ED\"}},                        {\"showLink\": true, \"linkText\": \"Export to plot.ly\", \"plotlyServerURL\": \"https://plot.ly\", \"responsive\": true}                    ).then(function(){\n",
       "                            \n",
       "var gd = document.getElementById('52e73bbd-1fcb-4c47-963a-ada6959dc1b3');\n",
       "var x = new MutationObserver(function (mutations, observer) {{\n",
       "        var display = window.getComputedStyle(gd).display;\n",
       "        if (!display || display === 'none') {{\n",
       "            console.log([gd, 'removed!']);\n",
       "            Plotly.purge(gd);\n",
       "            observer.disconnect();\n",
       "        }}\n",
       "}});\n",
       "\n",
       "// Listen for the removal of the full notebook cells\n",
       "var notebookContainer = gd.closest('#notebook-container');\n",
       "if (notebookContainer) {{\n",
       "    x.observe(notebookContainer, {childList: true});\n",
       "}}\n",
       "\n",
       "// Listen for the clearing of the current output cell\n",
       "var outputEl = gd.closest('.output');\n",
       "if (outputEl) {{\n",
       "    x.observe(outputEl, {childList: true});\n",
       "}}\n",
       "\n",
       "                        })                };                });            </script>        </div>"
      ]
     },
     "metadata": {},
     "output_type": "display_data"
    }
   ],
   "source": [
    "df['avg_word_length'].iplot(kind = 'hist', xTitle = 'Average Word Length', yTitle = 'Count', title = \"Distribution of Average Word Length\", bins = 50)"
   ]
  },
  {
   "cell_type": "markdown",
   "metadata": {},
   "source": [
    "#### Distribution of Unigram, Bigram, and Trigram"
   ]
  },
  {
   "cell_type": "code",
   "execution_count": 26,
   "metadata": {},
   "outputs": [],
   "source": [
    "from sklearn.feature_extraction.text import CountVectorizer"
   ]
  },
  {
   "cell_type": "code",
   "execution_count": 27,
   "metadata": {},
   "outputs": [],
   "source": [
    "def get_top_n_words(x, n):\n",
    "    vec = CountVectorizer().fit(x)\n",
    "    bow = vec.transform(x)\n",
    "    sum_words = bow.sum(axis = 0)\n",
    "    word_freq = [(word, sum_words[0, idx]) for word, idx in vec.vocabulary_.items()]\n",
    "    word_freq = sorted(word_freq, key = lambda x: x[1], reverse = True)\n",
    "    return word_freq[:n]"
   ]
  },
  {
   "cell_type": "markdown",
   "metadata": {},
   "source": [
    "##### Unigrams"
   ]
  },
  {
   "cell_type": "code",
   "execution_count": 28,
   "metadata": {},
   "outputs": [
    {
     "data": {
      "application/vnd.plotly.v1+json": {
       "config": {
        "linkText": "Export to plot.ly",
        "plotlyServerURL": "https://plot.ly",
        "showLink": true
       },
       "data": [
        {
         "marker": {
          "color": "rgba(255, 153, 51, 0.6)",
          "line": {
           "color": "rgba(255, 153, 51, 1.0)",
           "width": 1
          }
         },
         "name": "Frequency",
         "orientation": "v",
         "text": "",
         "type": "bar",
         "x": [
          "climate",
          "the",
          "global",
          "change",
          "warming",
          "to",
          "of",
          "and",
          "is",
          "in",
          "on",
          "that",
          "for",
          "it",
          "will",
          "by",
          "are",
          "at",
          "climatechange",
          "amp"
         ],
         "y": [
          548,
          455,
          410,
          385,
          362,
          310,
          244,
          240,
          210,
          153,
          113,
          100,
          99,
          77,
          63,
          62,
          58,
          56,
          53,
          53
         ]
        }
       ],
       "layout": {
        "legend": {
         "bgcolor": "#F5F6F9",
         "font": {
          "color": "#4D5663"
         }
        },
        "paper_bgcolor": "#F5F6F9",
        "plot_bgcolor": "#F5F6F9",
        "template": {
         "data": {
          "bar": [
           {
            "error_x": {
             "color": "#2a3f5f"
            },
            "error_y": {
             "color": "#2a3f5f"
            },
            "marker": {
             "line": {
              "color": "#E5ECF6",
              "width": 0.5
             },
             "pattern": {
              "fillmode": "overlay",
              "size": 10,
              "solidity": 0.2
             }
            },
            "type": "bar"
           }
          ],
          "barpolar": [
           {
            "marker": {
             "line": {
              "color": "#E5ECF6",
              "width": 0.5
             },
             "pattern": {
              "fillmode": "overlay",
              "size": 10,
              "solidity": 0.2
             }
            },
            "type": "barpolar"
           }
          ],
          "carpet": [
           {
            "aaxis": {
             "endlinecolor": "#2a3f5f",
             "gridcolor": "white",
             "linecolor": "white",
             "minorgridcolor": "white",
             "startlinecolor": "#2a3f5f"
            },
            "baxis": {
             "endlinecolor": "#2a3f5f",
             "gridcolor": "white",
             "linecolor": "white",
             "minorgridcolor": "white",
             "startlinecolor": "#2a3f5f"
            },
            "type": "carpet"
           }
          ],
          "choropleth": [
           {
            "colorbar": {
             "outlinewidth": 0,
             "ticks": ""
            },
            "type": "choropleth"
           }
          ],
          "contour": [
           {
            "colorbar": {
             "outlinewidth": 0,
             "ticks": ""
            },
            "colorscale": [
             [
              0,
              "#0d0887"
             ],
             [
              0.1111111111111111,
              "#46039f"
             ],
             [
              0.2222222222222222,
              "#7201a8"
             ],
             [
              0.3333333333333333,
              "#9c179e"
             ],
             [
              0.4444444444444444,
              "#bd3786"
             ],
             [
              0.5555555555555556,
              "#d8576b"
             ],
             [
              0.6666666666666666,
              "#ed7953"
             ],
             [
              0.7777777777777778,
              "#fb9f3a"
             ],
             [
              0.8888888888888888,
              "#fdca26"
             ],
             [
              1,
              "#f0f921"
             ]
            ],
            "type": "contour"
           }
          ],
          "contourcarpet": [
           {
            "colorbar": {
             "outlinewidth": 0,
             "ticks": ""
            },
            "type": "contourcarpet"
           }
          ],
          "heatmap": [
           {
            "colorbar": {
             "outlinewidth": 0,
             "ticks": ""
            },
            "colorscale": [
             [
              0,
              "#0d0887"
             ],
             [
              0.1111111111111111,
              "#46039f"
             ],
             [
              0.2222222222222222,
              "#7201a8"
             ],
             [
              0.3333333333333333,
              "#9c179e"
             ],
             [
              0.4444444444444444,
              "#bd3786"
             ],
             [
              0.5555555555555556,
              "#d8576b"
             ],
             [
              0.6666666666666666,
              "#ed7953"
             ],
             [
              0.7777777777777778,
              "#fb9f3a"
             ],
             [
              0.8888888888888888,
              "#fdca26"
             ],
             [
              1,
              "#f0f921"
             ]
            ],
            "type": "heatmap"
           }
          ],
          "heatmapgl": [
           {
            "colorbar": {
             "outlinewidth": 0,
             "ticks": ""
            },
            "colorscale": [
             [
              0,
              "#0d0887"
             ],
             [
              0.1111111111111111,
              "#46039f"
             ],
             [
              0.2222222222222222,
              "#7201a8"
             ],
             [
              0.3333333333333333,
              "#9c179e"
             ],
             [
              0.4444444444444444,
              "#bd3786"
             ],
             [
              0.5555555555555556,
              "#d8576b"
             ],
             [
              0.6666666666666666,
              "#ed7953"
             ],
             [
              0.7777777777777778,
              "#fb9f3a"
             ],
             [
              0.8888888888888888,
              "#fdca26"
             ],
             [
              1,
              "#f0f921"
             ]
            ],
            "type": "heatmapgl"
           }
          ],
          "histogram": [
           {
            "marker": {
             "pattern": {
              "fillmode": "overlay",
              "size": 10,
              "solidity": 0.2
             }
            },
            "type": "histogram"
           }
          ],
          "histogram2d": [
           {
            "colorbar": {
             "outlinewidth": 0,
             "ticks": ""
            },
            "colorscale": [
             [
              0,
              "#0d0887"
             ],
             [
              0.1111111111111111,
              "#46039f"
             ],
             [
              0.2222222222222222,
              "#7201a8"
             ],
             [
              0.3333333333333333,
              "#9c179e"
             ],
             [
              0.4444444444444444,
              "#bd3786"
             ],
             [
              0.5555555555555556,
              "#d8576b"
             ],
             [
              0.6666666666666666,
              "#ed7953"
             ],
             [
              0.7777777777777778,
              "#fb9f3a"
             ],
             [
              0.8888888888888888,
              "#fdca26"
             ],
             [
              1,
              "#f0f921"
             ]
            ],
            "type": "histogram2d"
           }
          ],
          "histogram2dcontour": [
           {
            "colorbar": {
             "outlinewidth": 0,
             "ticks": ""
            },
            "colorscale": [
             [
              0,
              "#0d0887"
             ],
             [
              0.1111111111111111,
              "#46039f"
             ],
             [
              0.2222222222222222,
              "#7201a8"
             ],
             [
              0.3333333333333333,
              "#9c179e"
             ],
             [
              0.4444444444444444,
              "#bd3786"
             ],
             [
              0.5555555555555556,
              "#d8576b"
             ],
             [
              0.6666666666666666,
              "#ed7953"
             ],
             [
              0.7777777777777778,
              "#fb9f3a"
             ],
             [
              0.8888888888888888,
              "#fdca26"
             ],
             [
              1,
              "#f0f921"
             ]
            ],
            "type": "histogram2dcontour"
           }
          ],
          "mesh3d": [
           {
            "colorbar": {
             "outlinewidth": 0,
             "ticks": ""
            },
            "type": "mesh3d"
           }
          ],
          "parcoords": [
           {
            "line": {
             "colorbar": {
              "outlinewidth": 0,
              "ticks": ""
             }
            },
            "type": "parcoords"
           }
          ],
          "pie": [
           {
            "automargin": true,
            "type": "pie"
           }
          ],
          "scatter": [
           {
            "fillpattern": {
             "fillmode": "overlay",
             "size": 10,
             "solidity": 0.2
            },
            "type": "scatter"
           }
          ],
          "scatter3d": [
           {
            "line": {
             "colorbar": {
              "outlinewidth": 0,
              "ticks": ""
             }
            },
            "marker": {
             "colorbar": {
              "outlinewidth": 0,
              "ticks": ""
             }
            },
            "type": "scatter3d"
           }
          ],
          "scattercarpet": [
           {
            "marker": {
             "colorbar": {
              "outlinewidth": 0,
              "ticks": ""
             }
            },
            "type": "scattercarpet"
           }
          ],
          "scattergeo": [
           {
            "marker": {
             "colorbar": {
              "outlinewidth": 0,
              "ticks": ""
             }
            },
            "type": "scattergeo"
           }
          ],
          "scattergl": [
           {
            "marker": {
             "colorbar": {
              "outlinewidth": 0,
              "ticks": ""
             }
            },
            "type": "scattergl"
           }
          ],
          "scattermapbox": [
           {
            "marker": {
             "colorbar": {
              "outlinewidth": 0,
              "ticks": ""
             }
            },
            "type": "scattermapbox"
           }
          ],
          "scatterpolar": [
           {
            "marker": {
             "colorbar": {
              "outlinewidth": 0,
              "ticks": ""
             }
            },
            "type": "scatterpolar"
           }
          ],
          "scatterpolargl": [
           {
            "marker": {
             "colorbar": {
              "outlinewidth": 0,
              "ticks": ""
             }
            },
            "type": "scatterpolargl"
           }
          ],
          "scatterternary": [
           {
            "marker": {
             "colorbar": {
              "outlinewidth": 0,
              "ticks": ""
             }
            },
            "type": "scatterternary"
           }
          ],
          "surface": [
           {
            "colorbar": {
             "outlinewidth": 0,
             "ticks": ""
            },
            "colorscale": [
             [
              0,
              "#0d0887"
             ],
             [
              0.1111111111111111,
              "#46039f"
             ],
             [
              0.2222222222222222,
              "#7201a8"
             ],
             [
              0.3333333333333333,
              "#9c179e"
             ],
             [
              0.4444444444444444,
              "#bd3786"
             ],
             [
              0.5555555555555556,
              "#d8576b"
             ],
             [
              0.6666666666666666,
              "#ed7953"
             ],
             [
              0.7777777777777778,
              "#fb9f3a"
             ],
             [
              0.8888888888888888,
              "#fdca26"
             ],
             [
              1,
              "#f0f921"
             ]
            ],
            "type": "surface"
           }
          ],
          "table": [
           {
            "cells": {
             "fill": {
              "color": "#EBF0F8"
             },
             "line": {
              "color": "white"
             }
            },
            "header": {
             "fill": {
              "color": "#C8D4E3"
             },
             "line": {
              "color": "white"
             }
            },
            "type": "table"
           }
          ]
         },
         "layout": {
          "annotationdefaults": {
           "arrowcolor": "#2a3f5f",
           "arrowhead": 0,
           "arrowwidth": 1
          },
          "autotypenumbers": "strict",
          "coloraxis": {
           "colorbar": {
            "outlinewidth": 0,
            "ticks": ""
           }
          },
          "colorscale": {
           "diverging": [
            [
             0,
             "#8e0152"
            ],
            [
             0.1,
             "#c51b7d"
            ],
            [
             0.2,
             "#de77ae"
            ],
            [
             0.3,
             "#f1b6da"
            ],
            [
             0.4,
             "#fde0ef"
            ],
            [
             0.5,
             "#f7f7f7"
            ],
            [
             0.6,
             "#e6f5d0"
            ],
            [
             0.7,
             "#b8e186"
            ],
            [
             0.8,
             "#7fbc41"
            ],
            [
             0.9,
             "#4d9221"
            ],
            [
             1,
             "#276419"
            ]
           ],
           "sequential": [
            [
             0,
             "#0d0887"
            ],
            [
             0.1111111111111111,
             "#46039f"
            ],
            [
             0.2222222222222222,
             "#7201a8"
            ],
            [
             0.3333333333333333,
             "#9c179e"
            ],
            [
             0.4444444444444444,
             "#bd3786"
            ],
            [
             0.5555555555555556,
             "#d8576b"
            ],
            [
             0.6666666666666666,
             "#ed7953"
            ],
            [
             0.7777777777777778,
             "#fb9f3a"
            ],
            [
             0.8888888888888888,
             "#fdca26"
            ],
            [
             1,
             "#f0f921"
            ]
           ],
           "sequentialminus": [
            [
             0,
             "#0d0887"
            ],
            [
             0.1111111111111111,
             "#46039f"
            ],
            [
             0.2222222222222222,
             "#7201a8"
            ],
            [
             0.3333333333333333,
             "#9c179e"
            ],
            [
             0.4444444444444444,
             "#bd3786"
            ],
            [
             0.5555555555555556,
             "#d8576b"
            ],
            [
             0.6666666666666666,
             "#ed7953"
            ],
            [
             0.7777777777777778,
             "#fb9f3a"
            ],
            [
             0.8888888888888888,
             "#fdca26"
            ],
            [
             1,
             "#f0f921"
            ]
           ]
          },
          "colorway": [
           "#636efa",
           "#EF553B",
           "#00cc96",
           "#ab63fa",
           "#FFA15A",
           "#19d3f3",
           "#FF6692",
           "#B6E880",
           "#FF97FF",
           "#FECB52"
          ],
          "font": {
           "color": "#2a3f5f"
          },
          "geo": {
           "bgcolor": "white",
           "lakecolor": "white",
           "landcolor": "#E5ECF6",
           "showlakes": true,
           "showland": true,
           "subunitcolor": "white"
          },
          "hoverlabel": {
           "align": "left"
          },
          "hovermode": "closest",
          "mapbox": {
           "style": "light"
          },
          "paper_bgcolor": "white",
          "plot_bgcolor": "#E5ECF6",
          "polar": {
           "angularaxis": {
            "gridcolor": "white",
            "linecolor": "white",
            "ticks": ""
           },
           "bgcolor": "#E5ECF6",
           "radialaxis": {
            "gridcolor": "white",
            "linecolor": "white",
            "ticks": ""
           }
          },
          "scene": {
           "xaxis": {
            "backgroundcolor": "#E5ECF6",
            "gridcolor": "white",
            "gridwidth": 2,
            "linecolor": "white",
            "showbackground": true,
            "ticks": "",
            "zerolinecolor": "white"
           },
           "yaxis": {
            "backgroundcolor": "#E5ECF6",
            "gridcolor": "white",
            "gridwidth": 2,
            "linecolor": "white",
            "showbackground": true,
            "ticks": "",
            "zerolinecolor": "white"
           },
           "zaxis": {
            "backgroundcolor": "#E5ECF6",
            "gridcolor": "white",
            "gridwidth": 2,
            "linecolor": "white",
            "showbackground": true,
            "ticks": "",
            "zerolinecolor": "white"
           }
          },
          "shapedefaults": {
           "line": {
            "color": "#2a3f5f"
           }
          },
          "ternary": {
           "aaxis": {
            "gridcolor": "white",
            "linecolor": "white",
            "ticks": ""
           },
           "baxis": {
            "gridcolor": "white",
            "linecolor": "white",
            "ticks": ""
           },
           "bgcolor": "#E5ECF6",
           "caxis": {
            "gridcolor": "white",
            "linecolor": "white",
            "ticks": ""
           }
          },
          "title": {
           "x": 0.05
          },
          "xaxis": {
           "automargin": true,
           "gridcolor": "white",
           "linecolor": "white",
           "ticks": "",
           "title": {
            "standoff": 15
           },
           "zerolinecolor": "white",
           "zerolinewidth": 2
          },
          "yaxis": {
           "automargin": true,
           "gridcolor": "white",
           "linecolor": "white",
           "ticks": "",
           "title": {
            "standoff": 15
           },
           "zerolinecolor": "white",
           "zerolinewidth": 2
          }
         }
        },
        "title": {
         "font": {
          "color": "#4D5663"
         },
         "text": "Top 20 Unigram Words"
        },
        "xaxis": {
         "gridcolor": "#E1E5ED",
         "showgrid": true,
         "tickfont": {
          "color": "#4D5663"
         },
         "title": {
          "font": {
           "color": "#4D5663"
          },
          "text": "Unigram"
         },
         "zerolinecolor": "#E1E5ED"
        },
        "yaxis": {
         "gridcolor": "#E1E5ED",
         "showgrid": true,
         "tickfont": {
          "color": "#4D5663"
         },
         "title": {
          "font": {
           "color": "#4D5663"
          },
          "text": "Frequency"
         },
         "zerolinecolor": "#E1E5ED"
        }
       }
      },
      "text/html": [
       "<div>                            <div id=\"778e4869-1045-4bb0-9532-54626d75d541\" class=\"plotly-graph-div\" style=\"height:525px; width:100%;\"></div>            <script type=\"text/javascript\">                require([\"plotly\"], function(Plotly) {                    window.PLOTLYENV=window.PLOTLYENV || {};\n",
       "                    window.PLOTLYENV.BASE_URL='https://plot.ly';                                    if (document.getElementById(\"778e4869-1045-4bb0-9532-54626d75d541\")) {                    Plotly.newPlot(                        \"778e4869-1045-4bb0-9532-54626d75d541\",                        [{\"marker\":{\"color\":\"rgba(255, 153, 51, 0.6)\",\"line\":{\"color\":\"rgba(255, 153, 51, 1.0)\",\"width\":1}},\"name\":\"Frequency\",\"orientation\":\"v\",\"text\":\"\",\"x\":[\"climate\",\"the\",\"global\",\"change\",\"warming\",\"to\",\"of\",\"and\",\"is\",\"in\",\"on\",\"that\",\"for\",\"it\",\"will\",\"by\",\"are\",\"at\",\"climatechange\",\"amp\"],\"y\":[548,455,410,385,362,310,244,240,210,153,113,100,99,77,63,62,58,56,53,53],\"type\":\"bar\"}],                        {\"legend\":{\"bgcolor\":\"#F5F6F9\",\"font\":{\"color\":\"#4D5663\"}},\"paper_bgcolor\":\"#F5F6F9\",\"plot_bgcolor\":\"#F5F6F9\",\"template\":{\"data\":{\"barpolar\":[{\"marker\":{\"line\":{\"color\":\"#E5ECF6\",\"width\":0.5},\"pattern\":{\"fillmode\":\"overlay\",\"size\":10,\"solidity\":0.2}},\"type\":\"barpolar\"}],\"bar\":[{\"error_x\":{\"color\":\"#2a3f5f\"},\"error_y\":{\"color\":\"#2a3f5f\"},\"marker\":{\"line\":{\"color\":\"#E5ECF6\",\"width\":0.5},\"pattern\":{\"fillmode\":\"overlay\",\"size\":10,\"solidity\":0.2}},\"type\":\"bar\"}],\"carpet\":[{\"aaxis\":{\"endlinecolor\":\"#2a3f5f\",\"gridcolor\":\"white\",\"linecolor\":\"white\",\"minorgridcolor\":\"white\",\"startlinecolor\":\"#2a3f5f\"},\"baxis\":{\"endlinecolor\":\"#2a3f5f\",\"gridcolor\":\"white\",\"linecolor\":\"white\",\"minorgridcolor\":\"white\",\"startlinecolor\":\"#2a3f5f\"},\"type\":\"carpet\"}],\"choropleth\":[{\"colorbar\":{\"outlinewidth\":0,\"ticks\":\"\"},\"type\":\"choropleth\"}],\"contourcarpet\":[{\"colorbar\":{\"outlinewidth\":0,\"ticks\":\"\"},\"type\":\"contourcarpet\"}],\"contour\":[{\"colorbar\":{\"outlinewidth\":0,\"ticks\":\"\"},\"colorscale\":[[0.0,\"#0d0887\"],[0.1111111111111111,\"#46039f\"],[0.2222222222222222,\"#7201a8\"],[0.3333333333333333,\"#9c179e\"],[0.4444444444444444,\"#bd3786\"],[0.5555555555555556,\"#d8576b\"],[0.6666666666666666,\"#ed7953\"],[0.7777777777777778,\"#fb9f3a\"],[0.8888888888888888,\"#fdca26\"],[1.0,\"#f0f921\"]],\"type\":\"contour\"}],\"heatmapgl\":[{\"colorbar\":{\"outlinewidth\":0,\"ticks\":\"\"},\"colorscale\":[[0.0,\"#0d0887\"],[0.1111111111111111,\"#46039f\"],[0.2222222222222222,\"#7201a8\"],[0.3333333333333333,\"#9c179e\"],[0.4444444444444444,\"#bd3786\"],[0.5555555555555556,\"#d8576b\"],[0.6666666666666666,\"#ed7953\"],[0.7777777777777778,\"#fb9f3a\"],[0.8888888888888888,\"#fdca26\"],[1.0,\"#f0f921\"]],\"type\":\"heatmapgl\"}],\"heatmap\":[{\"colorbar\":{\"outlinewidth\":0,\"ticks\":\"\"},\"colorscale\":[[0.0,\"#0d0887\"],[0.1111111111111111,\"#46039f\"],[0.2222222222222222,\"#7201a8\"],[0.3333333333333333,\"#9c179e\"],[0.4444444444444444,\"#bd3786\"],[0.5555555555555556,\"#d8576b\"],[0.6666666666666666,\"#ed7953\"],[0.7777777777777778,\"#fb9f3a\"],[0.8888888888888888,\"#fdca26\"],[1.0,\"#f0f921\"]],\"type\":\"heatmap\"}],\"histogram2dcontour\":[{\"colorbar\":{\"outlinewidth\":0,\"ticks\":\"\"},\"colorscale\":[[0.0,\"#0d0887\"],[0.1111111111111111,\"#46039f\"],[0.2222222222222222,\"#7201a8\"],[0.3333333333333333,\"#9c179e\"],[0.4444444444444444,\"#bd3786\"],[0.5555555555555556,\"#d8576b\"],[0.6666666666666666,\"#ed7953\"],[0.7777777777777778,\"#fb9f3a\"],[0.8888888888888888,\"#fdca26\"],[1.0,\"#f0f921\"]],\"type\":\"histogram2dcontour\"}],\"histogram2d\":[{\"colorbar\":{\"outlinewidth\":0,\"ticks\":\"\"},\"colorscale\":[[0.0,\"#0d0887\"],[0.1111111111111111,\"#46039f\"],[0.2222222222222222,\"#7201a8\"],[0.3333333333333333,\"#9c179e\"],[0.4444444444444444,\"#bd3786\"],[0.5555555555555556,\"#d8576b\"],[0.6666666666666666,\"#ed7953\"],[0.7777777777777778,\"#fb9f3a\"],[0.8888888888888888,\"#fdca26\"],[1.0,\"#f0f921\"]],\"type\":\"histogram2d\"}],\"histogram\":[{\"marker\":{\"pattern\":{\"fillmode\":\"overlay\",\"size\":10,\"solidity\":0.2}},\"type\":\"histogram\"}],\"mesh3d\":[{\"colorbar\":{\"outlinewidth\":0,\"ticks\":\"\"},\"type\":\"mesh3d\"}],\"parcoords\":[{\"line\":{\"colorbar\":{\"outlinewidth\":0,\"ticks\":\"\"}},\"type\":\"parcoords\"}],\"pie\":[{\"automargin\":true,\"type\":\"pie\"}],\"scatter3d\":[{\"line\":{\"colorbar\":{\"outlinewidth\":0,\"ticks\":\"\"}},\"marker\":{\"colorbar\":{\"outlinewidth\":0,\"ticks\":\"\"}},\"type\":\"scatter3d\"}],\"scattercarpet\":[{\"marker\":{\"colorbar\":{\"outlinewidth\":0,\"ticks\":\"\"}},\"type\":\"scattercarpet\"}],\"scattergeo\":[{\"marker\":{\"colorbar\":{\"outlinewidth\":0,\"ticks\":\"\"}},\"type\":\"scattergeo\"}],\"scattergl\":[{\"marker\":{\"colorbar\":{\"outlinewidth\":0,\"ticks\":\"\"}},\"type\":\"scattergl\"}],\"scattermapbox\":[{\"marker\":{\"colorbar\":{\"outlinewidth\":0,\"ticks\":\"\"}},\"type\":\"scattermapbox\"}],\"scatterpolargl\":[{\"marker\":{\"colorbar\":{\"outlinewidth\":0,\"ticks\":\"\"}},\"type\":\"scatterpolargl\"}],\"scatterpolar\":[{\"marker\":{\"colorbar\":{\"outlinewidth\":0,\"ticks\":\"\"}},\"type\":\"scatterpolar\"}],\"scatter\":[{\"fillpattern\":{\"fillmode\":\"overlay\",\"size\":10,\"solidity\":0.2},\"type\":\"scatter\"}],\"scatterternary\":[{\"marker\":{\"colorbar\":{\"outlinewidth\":0,\"ticks\":\"\"}},\"type\":\"scatterternary\"}],\"surface\":[{\"colorbar\":{\"outlinewidth\":0,\"ticks\":\"\"},\"colorscale\":[[0.0,\"#0d0887\"],[0.1111111111111111,\"#46039f\"],[0.2222222222222222,\"#7201a8\"],[0.3333333333333333,\"#9c179e\"],[0.4444444444444444,\"#bd3786\"],[0.5555555555555556,\"#d8576b\"],[0.6666666666666666,\"#ed7953\"],[0.7777777777777778,\"#fb9f3a\"],[0.8888888888888888,\"#fdca26\"],[1.0,\"#f0f921\"]],\"type\":\"surface\"}],\"table\":[{\"cells\":{\"fill\":{\"color\":\"#EBF0F8\"},\"line\":{\"color\":\"white\"}},\"header\":{\"fill\":{\"color\":\"#C8D4E3\"},\"line\":{\"color\":\"white\"}},\"type\":\"table\"}]},\"layout\":{\"annotationdefaults\":{\"arrowcolor\":\"#2a3f5f\",\"arrowhead\":0,\"arrowwidth\":1},\"autotypenumbers\":\"strict\",\"coloraxis\":{\"colorbar\":{\"outlinewidth\":0,\"ticks\":\"\"}},\"colorscale\":{\"diverging\":[[0,\"#8e0152\"],[0.1,\"#c51b7d\"],[0.2,\"#de77ae\"],[0.3,\"#f1b6da\"],[0.4,\"#fde0ef\"],[0.5,\"#f7f7f7\"],[0.6,\"#e6f5d0\"],[0.7,\"#b8e186\"],[0.8,\"#7fbc41\"],[0.9,\"#4d9221\"],[1,\"#276419\"]],\"sequential\":[[0.0,\"#0d0887\"],[0.1111111111111111,\"#46039f\"],[0.2222222222222222,\"#7201a8\"],[0.3333333333333333,\"#9c179e\"],[0.4444444444444444,\"#bd3786\"],[0.5555555555555556,\"#d8576b\"],[0.6666666666666666,\"#ed7953\"],[0.7777777777777778,\"#fb9f3a\"],[0.8888888888888888,\"#fdca26\"],[1.0,\"#f0f921\"]],\"sequentialminus\":[[0.0,\"#0d0887\"],[0.1111111111111111,\"#46039f\"],[0.2222222222222222,\"#7201a8\"],[0.3333333333333333,\"#9c179e\"],[0.4444444444444444,\"#bd3786\"],[0.5555555555555556,\"#d8576b\"],[0.6666666666666666,\"#ed7953\"],[0.7777777777777778,\"#fb9f3a\"],[0.8888888888888888,\"#fdca26\"],[1.0,\"#f0f921\"]]},\"colorway\":[\"#636efa\",\"#EF553B\",\"#00cc96\",\"#ab63fa\",\"#FFA15A\",\"#19d3f3\",\"#FF6692\",\"#B6E880\",\"#FF97FF\",\"#FECB52\"],\"font\":{\"color\":\"#2a3f5f\"},\"geo\":{\"bgcolor\":\"white\",\"lakecolor\":\"white\",\"landcolor\":\"#E5ECF6\",\"showlakes\":true,\"showland\":true,\"subunitcolor\":\"white\"},\"hoverlabel\":{\"align\":\"left\"},\"hovermode\":\"closest\",\"mapbox\":{\"style\":\"light\"},\"paper_bgcolor\":\"white\",\"plot_bgcolor\":\"#E5ECF6\",\"polar\":{\"angularaxis\":{\"gridcolor\":\"white\",\"linecolor\":\"white\",\"ticks\":\"\"},\"bgcolor\":\"#E5ECF6\",\"radialaxis\":{\"gridcolor\":\"white\",\"linecolor\":\"white\",\"ticks\":\"\"}},\"scene\":{\"xaxis\":{\"backgroundcolor\":\"#E5ECF6\",\"gridcolor\":\"white\",\"gridwidth\":2,\"linecolor\":\"white\",\"showbackground\":true,\"ticks\":\"\",\"zerolinecolor\":\"white\"},\"yaxis\":{\"backgroundcolor\":\"#E5ECF6\",\"gridcolor\":\"white\",\"gridwidth\":2,\"linecolor\":\"white\",\"showbackground\":true,\"ticks\":\"\",\"zerolinecolor\":\"white\"},\"zaxis\":{\"backgroundcolor\":\"#E5ECF6\",\"gridcolor\":\"white\",\"gridwidth\":2,\"linecolor\":\"white\",\"showbackground\":true,\"ticks\":\"\",\"zerolinecolor\":\"white\"}},\"shapedefaults\":{\"line\":{\"color\":\"#2a3f5f\"}},\"ternary\":{\"aaxis\":{\"gridcolor\":\"white\",\"linecolor\":\"white\",\"ticks\":\"\"},\"baxis\":{\"gridcolor\":\"white\",\"linecolor\":\"white\",\"ticks\":\"\"},\"bgcolor\":\"#E5ECF6\",\"caxis\":{\"gridcolor\":\"white\",\"linecolor\":\"white\",\"ticks\":\"\"}},\"title\":{\"x\":0.05},\"xaxis\":{\"automargin\":true,\"gridcolor\":\"white\",\"linecolor\":\"white\",\"ticks\":\"\",\"title\":{\"standoff\":15},\"zerolinecolor\":\"white\",\"zerolinewidth\":2},\"yaxis\":{\"automargin\":true,\"gridcolor\":\"white\",\"linecolor\":\"white\",\"ticks\":\"\",\"title\":{\"standoff\":15},\"zerolinecolor\":\"white\",\"zerolinewidth\":2}}},\"title\":{\"font\":{\"color\":\"#4D5663\"},\"text\":\"Top 20 Unigram Words\"},\"xaxis\":{\"gridcolor\":\"#E1E5ED\",\"showgrid\":true,\"tickfont\":{\"color\":\"#4D5663\"},\"title\":{\"font\":{\"color\":\"#4D5663\"},\"text\":\"Unigram\"},\"zerolinecolor\":\"#E1E5ED\"},\"yaxis\":{\"gridcolor\":\"#E1E5ED\",\"showgrid\":true,\"tickfont\":{\"color\":\"#4D5663\"},\"title\":{\"font\":{\"color\":\"#4D5663\"},\"text\":\"Frequency\"},\"zerolinecolor\":\"#E1E5ED\"}},                        {\"showLink\": true, \"linkText\": \"Export to plot.ly\", \"plotlyServerURL\": \"https://plot.ly\", \"responsive\": true}                    ).then(function(){\n",
       "                            \n",
       "var gd = document.getElementById('778e4869-1045-4bb0-9532-54626d75d541');\n",
       "var x = new MutationObserver(function (mutations, observer) {{\n",
       "        var display = window.getComputedStyle(gd).display;\n",
       "        if (!display || display === 'none') {{\n",
       "            console.log([gd, 'removed!']);\n",
       "            Plotly.purge(gd);\n",
       "            observer.disconnect();\n",
       "        }}\n",
       "}});\n",
       "\n",
       "// Listen for the removal of the full notebook cells\n",
       "var notebookContainer = gd.closest('#notebook-container');\n",
       "if (notebookContainer) {{\n",
       "    x.observe(notebookContainer, {childList: true});\n",
       "}}\n",
       "\n",
       "// Listen for the clearing of the current output cell\n",
       "var outputEl = gd.closest('.output');\n",
       "if (outputEl) {{\n",
       "    x.observe(outputEl, {childList: true});\n",
       "}}\n",
       "\n",
       "                        })                };                });            </script>        </div>"
      ]
     },
     "metadata": {},
     "output_type": "display_data"
    }
   ],
   "source": [
    "words = get_top_n_words(df['text'], 20)\n",
    "dfUni = pd.DataFrame(words, columns = ['Unigram','Frequency'])\n",
    "dfUni = dfUni.set_index('Unigram')\n",
    "dfUni.iplot(kind = 'bar', xTitle='Unigram', yTitle='Frequency', title = 'Top 20 Unigram Words')"
   ]
  },
  {
   "cell_type": "markdown",
   "metadata": {},
   "source": [
    "##### Bigrams"
   ]
  },
  {
   "cell_type": "code",
   "execution_count": 29,
   "metadata": {},
   "outputs": [],
   "source": [
    "def get_top_n_words(x, n):\n",
    "    vec = CountVectorizer(ngram_range=(2,2)).fit(x)\n",
    "    bow = vec.transform(x)\n",
    "    sum_words = bow.sum(axis = 0)\n",
    "    word_freq = [(word, sum_words[0, idx]) for word, idx in vec.vocabulary_.items()]\n",
    "    word_freq = sorted(word_freq, key = lambda x: x[1], reverse = True)\n",
    "    return word_freq[:n]"
   ]
  },
  {
   "cell_type": "code",
   "execution_count": 30,
   "metadata": {},
   "outputs": [
    {
     "data": {
      "application/vnd.plotly.v1+json": {
       "config": {
        "linkText": "Export to plot.ly",
        "plotlyServerURL": "https://plot.ly",
        "showLink": true
       },
       "data": [
        {
         "marker": {
          "color": "rgba(255, 153, 51, 0.6)",
          "line": {
           "color": "rgba(255, 153, 51, 1.0)",
           "width": 1
          }
         },
         "name": "Frequency",
         "orientation": "v",
         "text": "",
         "type": "bar",
         "x": [
          "climate change",
          "global warming",
          "warming and",
          "of global",
          "and climate",
          "of the",
          "warming climate",
          "change is",
          "change global",
          "of climate",
          "change and",
          "and global",
          "in the",
          "on climate",
          "due to",
          "is the",
          "to the",
          "the world",
          "to climate",
          "warming is"
         ],
         "y": [
          320,
          304,
          41,
          38,
          35,
          33,
          33,
          31,
          31,
          29,
          29,
          25,
          25,
          24,
          22,
          22,
          21,
          20,
          20,
          19
         ]
        }
       ],
       "layout": {
        "legend": {
         "bgcolor": "#F5F6F9",
         "font": {
          "color": "#4D5663"
         }
        },
        "paper_bgcolor": "#F5F6F9",
        "plot_bgcolor": "#F5F6F9",
        "template": {
         "data": {
          "bar": [
           {
            "error_x": {
             "color": "#2a3f5f"
            },
            "error_y": {
             "color": "#2a3f5f"
            },
            "marker": {
             "line": {
              "color": "#E5ECF6",
              "width": 0.5
             },
             "pattern": {
              "fillmode": "overlay",
              "size": 10,
              "solidity": 0.2
             }
            },
            "type": "bar"
           }
          ],
          "barpolar": [
           {
            "marker": {
             "line": {
              "color": "#E5ECF6",
              "width": 0.5
             },
             "pattern": {
              "fillmode": "overlay",
              "size": 10,
              "solidity": 0.2
             }
            },
            "type": "barpolar"
           }
          ],
          "carpet": [
           {
            "aaxis": {
             "endlinecolor": "#2a3f5f",
             "gridcolor": "white",
             "linecolor": "white",
             "minorgridcolor": "white",
             "startlinecolor": "#2a3f5f"
            },
            "baxis": {
             "endlinecolor": "#2a3f5f",
             "gridcolor": "white",
             "linecolor": "white",
             "minorgridcolor": "white",
             "startlinecolor": "#2a3f5f"
            },
            "type": "carpet"
           }
          ],
          "choropleth": [
           {
            "colorbar": {
             "outlinewidth": 0,
             "ticks": ""
            },
            "type": "choropleth"
           }
          ],
          "contour": [
           {
            "colorbar": {
             "outlinewidth": 0,
             "ticks": ""
            },
            "colorscale": [
             [
              0,
              "#0d0887"
             ],
             [
              0.1111111111111111,
              "#46039f"
             ],
             [
              0.2222222222222222,
              "#7201a8"
             ],
             [
              0.3333333333333333,
              "#9c179e"
             ],
             [
              0.4444444444444444,
              "#bd3786"
             ],
             [
              0.5555555555555556,
              "#d8576b"
             ],
             [
              0.6666666666666666,
              "#ed7953"
             ],
             [
              0.7777777777777778,
              "#fb9f3a"
             ],
             [
              0.8888888888888888,
              "#fdca26"
             ],
             [
              1,
              "#f0f921"
             ]
            ],
            "type": "contour"
           }
          ],
          "contourcarpet": [
           {
            "colorbar": {
             "outlinewidth": 0,
             "ticks": ""
            },
            "type": "contourcarpet"
           }
          ],
          "heatmap": [
           {
            "colorbar": {
             "outlinewidth": 0,
             "ticks": ""
            },
            "colorscale": [
             [
              0,
              "#0d0887"
             ],
             [
              0.1111111111111111,
              "#46039f"
             ],
             [
              0.2222222222222222,
              "#7201a8"
             ],
             [
              0.3333333333333333,
              "#9c179e"
             ],
             [
              0.4444444444444444,
              "#bd3786"
             ],
             [
              0.5555555555555556,
              "#d8576b"
             ],
             [
              0.6666666666666666,
              "#ed7953"
             ],
             [
              0.7777777777777778,
              "#fb9f3a"
             ],
             [
              0.8888888888888888,
              "#fdca26"
             ],
             [
              1,
              "#f0f921"
             ]
            ],
            "type": "heatmap"
           }
          ],
          "heatmapgl": [
           {
            "colorbar": {
             "outlinewidth": 0,
             "ticks": ""
            },
            "colorscale": [
             [
              0,
              "#0d0887"
             ],
             [
              0.1111111111111111,
              "#46039f"
             ],
             [
              0.2222222222222222,
              "#7201a8"
             ],
             [
              0.3333333333333333,
              "#9c179e"
             ],
             [
              0.4444444444444444,
              "#bd3786"
             ],
             [
              0.5555555555555556,
              "#d8576b"
             ],
             [
              0.6666666666666666,
              "#ed7953"
             ],
             [
              0.7777777777777778,
              "#fb9f3a"
             ],
             [
              0.8888888888888888,
              "#fdca26"
             ],
             [
              1,
              "#f0f921"
             ]
            ],
            "type": "heatmapgl"
           }
          ],
          "histogram": [
           {
            "marker": {
             "pattern": {
              "fillmode": "overlay",
              "size": 10,
              "solidity": 0.2
             }
            },
            "type": "histogram"
           }
          ],
          "histogram2d": [
           {
            "colorbar": {
             "outlinewidth": 0,
             "ticks": ""
            },
            "colorscale": [
             [
              0,
              "#0d0887"
             ],
             [
              0.1111111111111111,
              "#46039f"
             ],
             [
              0.2222222222222222,
              "#7201a8"
             ],
             [
              0.3333333333333333,
              "#9c179e"
             ],
             [
              0.4444444444444444,
              "#bd3786"
             ],
             [
              0.5555555555555556,
              "#d8576b"
             ],
             [
              0.6666666666666666,
              "#ed7953"
             ],
             [
              0.7777777777777778,
              "#fb9f3a"
             ],
             [
              0.8888888888888888,
              "#fdca26"
             ],
             [
              1,
              "#f0f921"
             ]
            ],
            "type": "histogram2d"
           }
          ],
          "histogram2dcontour": [
           {
            "colorbar": {
             "outlinewidth": 0,
             "ticks": ""
            },
            "colorscale": [
             [
              0,
              "#0d0887"
             ],
             [
              0.1111111111111111,
              "#46039f"
             ],
             [
              0.2222222222222222,
              "#7201a8"
             ],
             [
              0.3333333333333333,
              "#9c179e"
             ],
             [
              0.4444444444444444,
              "#bd3786"
             ],
             [
              0.5555555555555556,
              "#d8576b"
             ],
             [
              0.6666666666666666,
              "#ed7953"
             ],
             [
              0.7777777777777778,
              "#fb9f3a"
             ],
             [
              0.8888888888888888,
              "#fdca26"
             ],
             [
              1,
              "#f0f921"
             ]
            ],
            "type": "histogram2dcontour"
           }
          ],
          "mesh3d": [
           {
            "colorbar": {
             "outlinewidth": 0,
             "ticks": ""
            },
            "type": "mesh3d"
           }
          ],
          "parcoords": [
           {
            "line": {
             "colorbar": {
              "outlinewidth": 0,
              "ticks": ""
             }
            },
            "type": "parcoords"
           }
          ],
          "pie": [
           {
            "automargin": true,
            "type": "pie"
           }
          ],
          "scatter": [
           {
            "fillpattern": {
             "fillmode": "overlay",
             "size": 10,
             "solidity": 0.2
            },
            "type": "scatter"
           }
          ],
          "scatter3d": [
           {
            "line": {
             "colorbar": {
              "outlinewidth": 0,
              "ticks": ""
             }
            },
            "marker": {
             "colorbar": {
              "outlinewidth": 0,
              "ticks": ""
             }
            },
            "type": "scatter3d"
           }
          ],
          "scattercarpet": [
           {
            "marker": {
             "colorbar": {
              "outlinewidth": 0,
              "ticks": ""
             }
            },
            "type": "scattercarpet"
           }
          ],
          "scattergeo": [
           {
            "marker": {
             "colorbar": {
              "outlinewidth": 0,
              "ticks": ""
             }
            },
            "type": "scattergeo"
           }
          ],
          "scattergl": [
           {
            "marker": {
             "colorbar": {
              "outlinewidth": 0,
              "ticks": ""
             }
            },
            "type": "scattergl"
           }
          ],
          "scattermapbox": [
           {
            "marker": {
             "colorbar": {
              "outlinewidth": 0,
              "ticks": ""
             }
            },
            "type": "scattermapbox"
           }
          ],
          "scatterpolar": [
           {
            "marker": {
             "colorbar": {
              "outlinewidth": 0,
              "ticks": ""
             }
            },
            "type": "scatterpolar"
           }
          ],
          "scatterpolargl": [
           {
            "marker": {
             "colorbar": {
              "outlinewidth": 0,
              "ticks": ""
             }
            },
            "type": "scatterpolargl"
           }
          ],
          "scatterternary": [
           {
            "marker": {
             "colorbar": {
              "outlinewidth": 0,
              "ticks": ""
             }
            },
            "type": "scatterternary"
           }
          ],
          "surface": [
           {
            "colorbar": {
             "outlinewidth": 0,
             "ticks": ""
            },
            "colorscale": [
             [
              0,
              "#0d0887"
             ],
             [
              0.1111111111111111,
              "#46039f"
             ],
             [
              0.2222222222222222,
              "#7201a8"
             ],
             [
              0.3333333333333333,
              "#9c179e"
             ],
             [
              0.4444444444444444,
              "#bd3786"
             ],
             [
              0.5555555555555556,
              "#d8576b"
             ],
             [
              0.6666666666666666,
              "#ed7953"
             ],
             [
              0.7777777777777778,
              "#fb9f3a"
             ],
             [
              0.8888888888888888,
              "#fdca26"
             ],
             [
              1,
              "#f0f921"
             ]
            ],
            "type": "surface"
           }
          ],
          "table": [
           {
            "cells": {
             "fill": {
              "color": "#EBF0F8"
             },
             "line": {
              "color": "white"
             }
            },
            "header": {
             "fill": {
              "color": "#C8D4E3"
             },
             "line": {
              "color": "white"
             }
            },
            "type": "table"
           }
          ]
         },
         "layout": {
          "annotationdefaults": {
           "arrowcolor": "#2a3f5f",
           "arrowhead": 0,
           "arrowwidth": 1
          },
          "autotypenumbers": "strict",
          "coloraxis": {
           "colorbar": {
            "outlinewidth": 0,
            "ticks": ""
           }
          },
          "colorscale": {
           "diverging": [
            [
             0,
             "#8e0152"
            ],
            [
             0.1,
             "#c51b7d"
            ],
            [
             0.2,
             "#de77ae"
            ],
            [
             0.3,
             "#f1b6da"
            ],
            [
             0.4,
             "#fde0ef"
            ],
            [
             0.5,
             "#f7f7f7"
            ],
            [
             0.6,
             "#e6f5d0"
            ],
            [
             0.7,
             "#b8e186"
            ],
            [
             0.8,
             "#7fbc41"
            ],
            [
             0.9,
             "#4d9221"
            ],
            [
             1,
             "#276419"
            ]
           ],
           "sequential": [
            [
             0,
             "#0d0887"
            ],
            [
             0.1111111111111111,
             "#46039f"
            ],
            [
             0.2222222222222222,
             "#7201a8"
            ],
            [
             0.3333333333333333,
             "#9c179e"
            ],
            [
             0.4444444444444444,
             "#bd3786"
            ],
            [
             0.5555555555555556,
             "#d8576b"
            ],
            [
             0.6666666666666666,
             "#ed7953"
            ],
            [
             0.7777777777777778,
             "#fb9f3a"
            ],
            [
             0.8888888888888888,
             "#fdca26"
            ],
            [
             1,
             "#f0f921"
            ]
           ],
           "sequentialminus": [
            [
             0,
             "#0d0887"
            ],
            [
             0.1111111111111111,
             "#46039f"
            ],
            [
             0.2222222222222222,
             "#7201a8"
            ],
            [
             0.3333333333333333,
             "#9c179e"
            ],
            [
             0.4444444444444444,
             "#bd3786"
            ],
            [
             0.5555555555555556,
             "#d8576b"
            ],
            [
             0.6666666666666666,
             "#ed7953"
            ],
            [
             0.7777777777777778,
             "#fb9f3a"
            ],
            [
             0.8888888888888888,
             "#fdca26"
            ],
            [
             1,
             "#f0f921"
            ]
           ]
          },
          "colorway": [
           "#636efa",
           "#EF553B",
           "#00cc96",
           "#ab63fa",
           "#FFA15A",
           "#19d3f3",
           "#FF6692",
           "#B6E880",
           "#FF97FF",
           "#FECB52"
          ],
          "font": {
           "color": "#2a3f5f"
          },
          "geo": {
           "bgcolor": "white",
           "lakecolor": "white",
           "landcolor": "#E5ECF6",
           "showlakes": true,
           "showland": true,
           "subunitcolor": "white"
          },
          "hoverlabel": {
           "align": "left"
          },
          "hovermode": "closest",
          "mapbox": {
           "style": "light"
          },
          "paper_bgcolor": "white",
          "plot_bgcolor": "#E5ECF6",
          "polar": {
           "angularaxis": {
            "gridcolor": "white",
            "linecolor": "white",
            "ticks": ""
           },
           "bgcolor": "#E5ECF6",
           "radialaxis": {
            "gridcolor": "white",
            "linecolor": "white",
            "ticks": ""
           }
          },
          "scene": {
           "xaxis": {
            "backgroundcolor": "#E5ECF6",
            "gridcolor": "white",
            "gridwidth": 2,
            "linecolor": "white",
            "showbackground": true,
            "ticks": "",
            "zerolinecolor": "white"
           },
           "yaxis": {
            "backgroundcolor": "#E5ECF6",
            "gridcolor": "white",
            "gridwidth": 2,
            "linecolor": "white",
            "showbackground": true,
            "ticks": "",
            "zerolinecolor": "white"
           },
           "zaxis": {
            "backgroundcolor": "#E5ECF6",
            "gridcolor": "white",
            "gridwidth": 2,
            "linecolor": "white",
            "showbackground": true,
            "ticks": "",
            "zerolinecolor": "white"
           }
          },
          "shapedefaults": {
           "line": {
            "color": "#2a3f5f"
           }
          },
          "ternary": {
           "aaxis": {
            "gridcolor": "white",
            "linecolor": "white",
            "ticks": ""
           },
           "baxis": {
            "gridcolor": "white",
            "linecolor": "white",
            "ticks": ""
           },
           "bgcolor": "#E5ECF6",
           "caxis": {
            "gridcolor": "white",
            "linecolor": "white",
            "ticks": ""
           }
          },
          "title": {
           "x": 0.05
          },
          "xaxis": {
           "automargin": true,
           "gridcolor": "white",
           "linecolor": "white",
           "ticks": "",
           "title": {
            "standoff": 15
           },
           "zerolinecolor": "white",
           "zerolinewidth": 2
          },
          "yaxis": {
           "automargin": true,
           "gridcolor": "white",
           "linecolor": "white",
           "ticks": "",
           "title": {
            "standoff": 15
           },
           "zerolinecolor": "white",
           "zerolinewidth": 2
          }
         }
        },
        "title": {
         "font": {
          "color": "#4D5663"
         },
         "text": "Top 20 Bigram Words"
        },
        "xaxis": {
         "gridcolor": "#E1E5ED",
         "showgrid": true,
         "tickfont": {
          "color": "#4D5663"
         },
         "title": {
          "font": {
           "color": "#4D5663"
          },
          "text": "Bigram"
         },
         "zerolinecolor": "#E1E5ED"
        },
        "yaxis": {
         "gridcolor": "#E1E5ED",
         "showgrid": true,
         "tickfont": {
          "color": "#4D5663"
         },
         "title": {
          "font": {
           "color": "#4D5663"
          },
          "text": "Frequency"
         },
         "zerolinecolor": "#E1E5ED"
        }
       }
      },
      "text/html": [
       "<div>                            <div id=\"7ee07a12-9541-4303-931b-84129ce4470a\" class=\"plotly-graph-div\" style=\"height:525px; width:100%;\"></div>            <script type=\"text/javascript\">                require([\"plotly\"], function(Plotly) {                    window.PLOTLYENV=window.PLOTLYENV || {};\n",
       "                    window.PLOTLYENV.BASE_URL='https://plot.ly';                                    if (document.getElementById(\"7ee07a12-9541-4303-931b-84129ce4470a\")) {                    Plotly.newPlot(                        \"7ee07a12-9541-4303-931b-84129ce4470a\",                        [{\"marker\":{\"color\":\"rgba(255, 153, 51, 0.6)\",\"line\":{\"color\":\"rgba(255, 153, 51, 1.0)\",\"width\":1}},\"name\":\"Frequency\",\"orientation\":\"v\",\"text\":\"\",\"x\":[\"climate change\",\"global warming\",\"warming and\",\"of global\",\"and climate\",\"of the\",\"warming climate\",\"change is\",\"change global\",\"of climate\",\"change and\",\"and global\",\"in the\",\"on climate\",\"due to\",\"is the\",\"to the\",\"the world\",\"to climate\",\"warming is\"],\"y\":[320,304,41,38,35,33,33,31,31,29,29,25,25,24,22,22,21,20,20,19],\"type\":\"bar\"}],                        {\"legend\":{\"bgcolor\":\"#F5F6F9\",\"font\":{\"color\":\"#4D5663\"}},\"paper_bgcolor\":\"#F5F6F9\",\"plot_bgcolor\":\"#F5F6F9\",\"template\":{\"data\":{\"barpolar\":[{\"marker\":{\"line\":{\"color\":\"#E5ECF6\",\"width\":0.5},\"pattern\":{\"fillmode\":\"overlay\",\"size\":10,\"solidity\":0.2}},\"type\":\"barpolar\"}],\"bar\":[{\"error_x\":{\"color\":\"#2a3f5f\"},\"error_y\":{\"color\":\"#2a3f5f\"},\"marker\":{\"line\":{\"color\":\"#E5ECF6\",\"width\":0.5},\"pattern\":{\"fillmode\":\"overlay\",\"size\":10,\"solidity\":0.2}},\"type\":\"bar\"}],\"carpet\":[{\"aaxis\":{\"endlinecolor\":\"#2a3f5f\",\"gridcolor\":\"white\",\"linecolor\":\"white\",\"minorgridcolor\":\"white\",\"startlinecolor\":\"#2a3f5f\"},\"baxis\":{\"endlinecolor\":\"#2a3f5f\",\"gridcolor\":\"white\",\"linecolor\":\"white\",\"minorgridcolor\":\"white\",\"startlinecolor\":\"#2a3f5f\"},\"type\":\"carpet\"}],\"choropleth\":[{\"colorbar\":{\"outlinewidth\":0,\"ticks\":\"\"},\"type\":\"choropleth\"}],\"contourcarpet\":[{\"colorbar\":{\"outlinewidth\":0,\"ticks\":\"\"},\"type\":\"contourcarpet\"}],\"contour\":[{\"colorbar\":{\"outlinewidth\":0,\"ticks\":\"\"},\"colorscale\":[[0.0,\"#0d0887\"],[0.1111111111111111,\"#46039f\"],[0.2222222222222222,\"#7201a8\"],[0.3333333333333333,\"#9c179e\"],[0.4444444444444444,\"#bd3786\"],[0.5555555555555556,\"#d8576b\"],[0.6666666666666666,\"#ed7953\"],[0.7777777777777778,\"#fb9f3a\"],[0.8888888888888888,\"#fdca26\"],[1.0,\"#f0f921\"]],\"type\":\"contour\"}],\"heatmapgl\":[{\"colorbar\":{\"outlinewidth\":0,\"ticks\":\"\"},\"colorscale\":[[0.0,\"#0d0887\"],[0.1111111111111111,\"#46039f\"],[0.2222222222222222,\"#7201a8\"],[0.3333333333333333,\"#9c179e\"],[0.4444444444444444,\"#bd3786\"],[0.5555555555555556,\"#d8576b\"],[0.6666666666666666,\"#ed7953\"],[0.7777777777777778,\"#fb9f3a\"],[0.8888888888888888,\"#fdca26\"],[1.0,\"#f0f921\"]],\"type\":\"heatmapgl\"}],\"heatmap\":[{\"colorbar\":{\"outlinewidth\":0,\"ticks\":\"\"},\"colorscale\":[[0.0,\"#0d0887\"],[0.1111111111111111,\"#46039f\"],[0.2222222222222222,\"#7201a8\"],[0.3333333333333333,\"#9c179e\"],[0.4444444444444444,\"#bd3786\"],[0.5555555555555556,\"#d8576b\"],[0.6666666666666666,\"#ed7953\"],[0.7777777777777778,\"#fb9f3a\"],[0.8888888888888888,\"#fdca26\"],[1.0,\"#f0f921\"]],\"type\":\"heatmap\"}],\"histogram2dcontour\":[{\"colorbar\":{\"outlinewidth\":0,\"ticks\":\"\"},\"colorscale\":[[0.0,\"#0d0887\"],[0.1111111111111111,\"#46039f\"],[0.2222222222222222,\"#7201a8\"],[0.3333333333333333,\"#9c179e\"],[0.4444444444444444,\"#bd3786\"],[0.5555555555555556,\"#d8576b\"],[0.6666666666666666,\"#ed7953\"],[0.7777777777777778,\"#fb9f3a\"],[0.8888888888888888,\"#fdca26\"],[1.0,\"#f0f921\"]],\"type\":\"histogram2dcontour\"}],\"histogram2d\":[{\"colorbar\":{\"outlinewidth\":0,\"ticks\":\"\"},\"colorscale\":[[0.0,\"#0d0887\"],[0.1111111111111111,\"#46039f\"],[0.2222222222222222,\"#7201a8\"],[0.3333333333333333,\"#9c179e\"],[0.4444444444444444,\"#bd3786\"],[0.5555555555555556,\"#d8576b\"],[0.6666666666666666,\"#ed7953\"],[0.7777777777777778,\"#fb9f3a\"],[0.8888888888888888,\"#fdca26\"],[1.0,\"#f0f921\"]],\"type\":\"histogram2d\"}],\"histogram\":[{\"marker\":{\"pattern\":{\"fillmode\":\"overlay\",\"size\":10,\"solidity\":0.2}},\"type\":\"histogram\"}],\"mesh3d\":[{\"colorbar\":{\"outlinewidth\":0,\"ticks\":\"\"},\"type\":\"mesh3d\"}],\"parcoords\":[{\"line\":{\"colorbar\":{\"outlinewidth\":0,\"ticks\":\"\"}},\"type\":\"parcoords\"}],\"pie\":[{\"automargin\":true,\"type\":\"pie\"}],\"scatter3d\":[{\"line\":{\"colorbar\":{\"outlinewidth\":0,\"ticks\":\"\"}},\"marker\":{\"colorbar\":{\"outlinewidth\":0,\"ticks\":\"\"}},\"type\":\"scatter3d\"}],\"scattercarpet\":[{\"marker\":{\"colorbar\":{\"outlinewidth\":0,\"ticks\":\"\"}},\"type\":\"scattercarpet\"}],\"scattergeo\":[{\"marker\":{\"colorbar\":{\"outlinewidth\":0,\"ticks\":\"\"}},\"type\":\"scattergeo\"}],\"scattergl\":[{\"marker\":{\"colorbar\":{\"outlinewidth\":0,\"ticks\":\"\"}},\"type\":\"scattergl\"}],\"scattermapbox\":[{\"marker\":{\"colorbar\":{\"outlinewidth\":0,\"ticks\":\"\"}},\"type\":\"scattermapbox\"}],\"scatterpolargl\":[{\"marker\":{\"colorbar\":{\"outlinewidth\":0,\"ticks\":\"\"}},\"type\":\"scatterpolargl\"}],\"scatterpolar\":[{\"marker\":{\"colorbar\":{\"outlinewidth\":0,\"ticks\":\"\"}},\"type\":\"scatterpolar\"}],\"scatter\":[{\"fillpattern\":{\"fillmode\":\"overlay\",\"size\":10,\"solidity\":0.2},\"type\":\"scatter\"}],\"scatterternary\":[{\"marker\":{\"colorbar\":{\"outlinewidth\":0,\"ticks\":\"\"}},\"type\":\"scatterternary\"}],\"surface\":[{\"colorbar\":{\"outlinewidth\":0,\"ticks\":\"\"},\"colorscale\":[[0.0,\"#0d0887\"],[0.1111111111111111,\"#46039f\"],[0.2222222222222222,\"#7201a8\"],[0.3333333333333333,\"#9c179e\"],[0.4444444444444444,\"#bd3786\"],[0.5555555555555556,\"#d8576b\"],[0.6666666666666666,\"#ed7953\"],[0.7777777777777778,\"#fb9f3a\"],[0.8888888888888888,\"#fdca26\"],[1.0,\"#f0f921\"]],\"type\":\"surface\"}],\"table\":[{\"cells\":{\"fill\":{\"color\":\"#EBF0F8\"},\"line\":{\"color\":\"white\"}},\"header\":{\"fill\":{\"color\":\"#C8D4E3\"},\"line\":{\"color\":\"white\"}},\"type\":\"table\"}]},\"layout\":{\"annotationdefaults\":{\"arrowcolor\":\"#2a3f5f\",\"arrowhead\":0,\"arrowwidth\":1},\"autotypenumbers\":\"strict\",\"coloraxis\":{\"colorbar\":{\"outlinewidth\":0,\"ticks\":\"\"}},\"colorscale\":{\"diverging\":[[0,\"#8e0152\"],[0.1,\"#c51b7d\"],[0.2,\"#de77ae\"],[0.3,\"#f1b6da\"],[0.4,\"#fde0ef\"],[0.5,\"#f7f7f7\"],[0.6,\"#e6f5d0\"],[0.7,\"#b8e186\"],[0.8,\"#7fbc41\"],[0.9,\"#4d9221\"],[1,\"#276419\"]],\"sequential\":[[0.0,\"#0d0887\"],[0.1111111111111111,\"#46039f\"],[0.2222222222222222,\"#7201a8\"],[0.3333333333333333,\"#9c179e\"],[0.4444444444444444,\"#bd3786\"],[0.5555555555555556,\"#d8576b\"],[0.6666666666666666,\"#ed7953\"],[0.7777777777777778,\"#fb9f3a\"],[0.8888888888888888,\"#fdca26\"],[1.0,\"#f0f921\"]],\"sequentialminus\":[[0.0,\"#0d0887\"],[0.1111111111111111,\"#46039f\"],[0.2222222222222222,\"#7201a8\"],[0.3333333333333333,\"#9c179e\"],[0.4444444444444444,\"#bd3786\"],[0.5555555555555556,\"#d8576b\"],[0.6666666666666666,\"#ed7953\"],[0.7777777777777778,\"#fb9f3a\"],[0.8888888888888888,\"#fdca26\"],[1.0,\"#f0f921\"]]},\"colorway\":[\"#636efa\",\"#EF553B\",\"#00cc96\",\"#ab63fa\",\"#FFA15A\",\"#19d3f3\",\"#FF6692\",\"#B6E880\",\"#FF97FF\",\"#FECB52\"],\"font\":{\"color\":\"#2a3f5f\"},\"geo\":{\"bgcolor\":\"white\",\"lakecolor\":\"white\",\"landcolor\":\"#E5ECF6\",\"showlakes\":true,\"showland\":true,\"subunitcolor\":\"white\"},\"hoverlabel\":{\"align\":\"left\"},\"hovermode\":\"closest\",\"mapbox\":{\"style\":\"light\"},\"paper_bgcolor\":\"white\",\"plot_bgcolor\":\"#E5ECF6\",\"polar\":{\"angularaxis\":{\"gridcolor\":\"white\",\"linecolor\":\"white\",\"ticks\":\"\"},\"bgcolor\":\"#E5ECF6\",\"radialaxis\":{\"gridcolor\":\"white\",\"linecolor\":\"white\",\"ticks\":\"\"}},\"scene\":{\"xaxis\":{\"backgroundcolor\":\"#E5ECF6\",\"gridcolor\":\"white\",\"gridwidth\":2,\"linecolor\":\"white\",\"showbackground\":true,\"ticks\":\"\",\"zerolinecolor\":\"white\"},\"yaxis\":{\"backgroundcolor\":\"#E5ECF6\",\"gridcolor\":\"white\",\"gridwidth\":2,\"linecolor\":\"white\",\"showbackground\":true,\"ticks\":\"\",\"zerolinecolor\":\"white\"},\"zaxis\":{\"backgroundcolor\":\"#E5ECF6\",\"gridcolor\":\"white\",\"gridwidth\":2,\"linecolor\":\"white\",\"showbackground\":true,\"ticks\":\"\",\"zerolinecolor\":\"white\"}},\"shapedefaults\":{\"line\":{\"color\":\"#2a3f5f\"}},\"ternary\":{\"aaxis\":{\"gridcolor\":\"white\",\"linecolor\":\"white\",\"ticks\":\"\"},\"baxis\":{\"gridcolor\":\"white\",\"linecolor\":\"white\",\"ticks\":\"\"},\"bgcolor\":\"#E5ECF6\",\"caxis\":{\"gridcolor\":\"white\",\"linecolor\":\"white\",\"ticks\":\"\"}},\"title\":{\"x\":0.05},\"xaxis\":{\"automargin\":true,\"gridcolor\":\"white\",\"linecolor\":\"white\",\"ticks\":\"\",\"title\":{\"standoff\":15},\"zerolinecolor\":\"white\",\"zerolinewidth\":2},\"yaxis\":{\"automargin\":true,\"gridcolor\":\"white\",\"linecolor\":\"white\",\"ticks\":\"\",\"title\":{\"standoff\":15},\"zerolinecolor\":\"white\",\"zerolinewidth\":2}}},\"title\":{\"font\":{\"color\":\"#4D5663\"},\"text\":\"Top 20 Bigram Words\"},\"xaxis\":{\"gridcolor\":\"#E1E5ED\",\"showgrid\":true,\"tickfont\":{\"color\":\"#4D5663\"},\"title\":{\"font\":{\"color\":\"#4D5663\"},\"text\":\"Bigram\"},\"zerolinecolor\":\"#E1E5ED\"},\"yaxis\":{\"gridcolor\":\"#E1E5ED\",\"showgrid\":true,\"tickfont\":{\"color\":\"#4D5663\"},\"title\":{\"font\":{\"color\":\"#4D5663\"},\"text\":\"Frequency\"},\"zerolinecolor\":\"#E1E5ED\"}},                        {\"showLink\": true, \"linkText\": \"Export to plot.ly\", \"plotlyServerURL\": \"https://plot.ly\", \"responsive\": true}                    ).then(function(){\n",
       "                            \n",
       "var gd = document.getElementById('7ee07a12-9541-4303-931b-84129ce4470a');\n",
       "var x = new MutationObserver(function (mutations, observer) {{\n",
       "        var display = window.getComputedStyle(gd).display;\n",
       "        if (!display || display === 'none') {{\n",
       "            console.log([gd, 'removed!']);\n",
       "            Plotly.purge(gd);\n",
       "            observer.disconnect();\n",
       "        }}\n",
       "}});\n",
       "\n",
       "// Listen for the removal of the full notebook cells\n",
       "var notebookContainer = gd.closest('#notebook-container');\n",
       "if (notebookContainer) {{\n",
       "    x.observe(notebookContainer, {childList: true});\n",
       "}}\n",
       "\n",
       "// Listen for the clearing of the current output cell\n",
       "var outputEl = gd.closest('.output');\n",
       "if (outputEl) {{\n",
       "    x.observe(outputEl, {childList: true});\n",
       "}}\n",
       "\n",
       "                        })                };                });            </script>        </div>"
      ]
     },
     "metadata": {},
     "output_type": "display_data"
    }
   ],
   "source": [
    "words = get_top_n_words(df['text'], 20)\n",
    "dfBi = pd.DataFrame(words, columns = ['Bigram','Frequency'])\n",
    "dfBi = dfBi.set_index('Bigram')\n",
    "dfBi.iplot(kind = 'bar', xTitle='Bigram', yTitle='Frequency', title = 'Top 20 Bigram Words')"
   ]
  },
  {
   "cell_type": "markdown",
   "metadata": {},
   "source": [
    "##### Trigrams"
   ]
  },
  {
   "cell_type": "code",
   "execution_count": 31,
   "metadata": {},
   "outputs": [],
   "source": [
    "def get_top_n_words(x, n):\n",
    "    vec = CountVectorizer(ngram_range=(3,3)).fit(x)\n",
    "    bow = vec.transform(x)\n",
    "    sum_words = bow.sum(axis = 0)\n",
    "    word_freq = [(word, sum_words[0, idx]) for word, idx in vec.vocabulary_.items()]\n",
    "    word_freq = sorted(word_freq, key = lambda x: x[1], reverse = True)\n",
    "    return word_freq[:n]"
   ]
  },
  {
   "cell_type": "code",
   "execution_count": 32,
   "metadata": {},
   "outputs": [
    {
     "data": {
      "application/vnd.plotly.v1+json": {
       "config": {
        "linkText": "Export to plot.ly",
        "plotlyServerURL": "https://plot.ly",
        "showLink": true
       },
       "data": [
        {
         "marker": {
          "color": "rgba(255, 153, 51, 0.6)",
          "line": {
           "color": "rgba(255, 153, 51, 1.0)",
           "width": 1
          }
         },
         "name": "Frequency",
         "orientation": "v",
         "text": "",
         "type": "bar",
         "x": [
          "global warming and",
          "climate change global",
          "change global warming",
          "global warming climate",
          "of global warming",
          "warming and climate",
          "climate change and",
          "climate change is",
          "and climate change",
          "of climate change",
          "warming climate change",
          "change and global",
          "and global warming",
          "on climate change",
          "about climate change",
          "global warming is",
          "to climate change",
          "to global warming",
          "the global warming",
          "cycles cause climate"
         ],
         "y": [
          40,
          29,
          29,
          28,
          28,
          28,
          27,
          26,
          26,
          25,
          24,
          20,
          19,
          19,
          16,
          15,
          14,
          14,
          12,
          10
         ]
        }
       ],
       "layout": {
        "legend": {
         "bgcolor": "#F5F6F9",
         "font": {
          "color": "#4D5663"
         }
        },
        "paper_bgcolor": "#F5F6F9",
        "plot_bgcolor": "#F5F6F9",
        "template": {
         "data": {
          "bar": [
           {
            "error_x": {
             "color": "#2a3f5f"
            },
            "error_y": {
             "color": "#2a3f5f"
            },
            "marker": {
             "line": {
              "color": "#E5ECF6",
              "width": 0.5
             },
             "pattern": {
              "fillmode": "overlay",
              "size": 10,
              "solidity": 0.2
             }
            },
            "type": "bar"
           }
          ],
          "barpolar": [
           {
            "marker": {
             "line": {
              "color": "#E5ECF6",
              "width": 0.5
             },
             "pattern": {
              "fillmode": "overlay",
              "size": 10,
              "solidity": 0.2
             }
            },
            "type": "barpolar"
           }
          ],
          "carpet": [
           {
            "aaxis": {
             "endlinecolor": "#2a3f5f",
             "gridcolor": "white",
             "linecolor": "white",
             "minorgridcolor": "white",
             "startlinecolor": "#2a3f5f"
            },
            "baxis": {
             "endlinecolor": "#2a3f5f",
             "gridcolor": "white",
             "linecolor": "white",
             "minorgridcolor": "white",
             "startlinecolor": "#2a3f5f"
            },
            "type": "carpet"
           }
          ],
          "choropleth": [
           {
            "colorbar": {
             "outlinewidth": 0,
             "ticks": ""
            },
            "type": "choropleth"
           }
          ],
          "contour": [
           {
            "colorbar": {
             "outlinewidth": 0,
             "ticks": ""
            },
            "colorscale": [
             [
              0,
              "#0d0887"
             ],
             [
              0.1111111111111111,
              "#46039f"
             ],
             [
              0.2222222222222222,
              "#7201a8"
             ],
             [
              0.3333333333333333,
              "#9c179e"
             ],
             [
              0.4444444444444444,
              "#bd3786"
             ],
             [
              0.5555555555555556,
              "#d8576b"
             ],
             [
              0.6666666666666666,
              "#ed7953"
             ],
             [
              0.7777777777777778,
              "#fb9f3a"
             ],
             [
              0.8888888888888888,
              "#fdca26"
             ],
             [
              1,
              "#f0f921"
             ]
            ],
            "type": "contour"
           }
          ],
          "contourcarpet": [
           {
            "colorbar": {
             "outlinewidth": 0,
             "ticks": ""
            },
            "type": "contourcarpet"
           }
          ],
          "heatmap": [
           {
            "colorbar": {
             "outlinewidth": 0,
             "ticks": ""
            },
            "colorscale": [
             [
              0,
              "#0d0887"
             ],
             [
              0.1111111111111111,
              "#46039f"
             ],
             [
              0.2222222222222222,
              "#7201a8"
             ],
             [
              0.3333333333333333,
              "#9c179e"
             ],
             [
              0.4444444444444444,
              "#bd3786"
             ],
             [
              0.5555555555555556,
              "#d8576b"
             ],
             [
              0.6666666666666666,
              "#ed7953"
             ],
             [
              0.7777777777777778,
              "#fb9f3a"
             ],
             [
              0.8888888888888888,
              "#fdca26"
             ],
             [
              1,
              "#f0f921"
             ]
            ],
            "type": "heatmap"
           }
          ],
          "heatmapgl": [
           {
            "colorbar": {
             "outlinewidth": 0,
             "ticks": ""
            },
            "colorscale": [
             [
              0,
              "#0d0887"
             ],
             [
              0.1111111111111111,
              "#46039f"
             ],
             [
              0.2222222222222222,
              "#7201a8"
             ],
             [
              0.3333333333333333,
              "#9c179e"
             ],
             [
              0.4444444444444444,
              "#bd3786"
             ],
             [
              0.5555555555555556,
              "#d8576b"
             ],
             [
              0.6666666666666666,
              "#ed7953"
             ],
             [
              0.7777777777777778,
              "#fb9f3a"
             ],
             [
              0.8888888888888888,
              "#fdca26"
             ],
             [
              1,
              "#f0f921"
             ]
            ],
            "type": "heatmapgl"
           }
          ],
          "histogram": [
           {
            "marker": {
             "pattern": {
              "fillmode": "overlay",
              "size": 10,
              "solidity": 0.2
             }
            },
            "type": "histogram"
           }
          ],
          "histogram2d": [
           {
            "colorbar": {
             "outlinewidth": 0,
             "ticks": ""
            },
            "colorscale": [
             [
              0,
              "#0d0887"
             ],
             [
              0.1111111111111111,
              "#46039f"
             ],
             [
              0.2222222222222222,
              "#7201a8"
             ],
             [
              0.3333333333333333,
              "#9c179e"
             ],
             [
              0.4444444444444444,
              "#bd3786"
             ],
             [
              0.5555555555555556,
              "#d8576b"
             ],
             [
              0.6666666666666666,
              "#ed7953"
             ],
             [
              0.7777777777777778,
              "#fb9f3a"
             ],
             [
              0.8888888888888888,
              "#fdca26"
             ],
             [
              1,
              "#f0f921"
             ]
            ],
            "type": "histogram2d"
           }
          ],
          "histogram2dcontour": [
           {
            "colorbar": {
             "outlinewidth": 0,
             "ticks": ""
            },
            "colorscale": [
             [
              0,
              "#0d0887"
             ],
             [
              0.1111111111111111,
              "#46039f"
             ],
             [
              0.2222222222222222,
              "#7201a8"
             ],
             [
              0.3333333333333333,
              "#9c179e"
             ],
             [
              0.4444444444444444,
              "#bd3786"
             ],
             [
              0.5555555555555556,
              "#d8576b"
             ],
             [
              0.6666666666666666,
              "#ed7953"
             ],
             [
              0.7777777777777778,
              "#fb9f3a"
             ],
             [
              0.8888888888888888,
              "#fdca26"
             ],
             [
              1,
              "#f0f921"
             ]
            ],
            "type": "histogram2dcontour"
           }
          ],
          "mesh3d": [
           {
            "colorbar": {
             "outlinewidth": 0,
             "ticks": ""
            },
            "type": "mesh3d"
           }
          ],
          "parcoords": [
           {
            "line": {
             "colorbar": {
              "outlinewidth": 0,
              "ticks": ""
             }
            },
            "type": "parcoords"
           }
          ],
          "pie": [
           {
            "automargin": true,
            "type": "pie"
           }
          ],
          "scatter": [
           {
            "fillpattern": {
             "fillmode": "overlay",
             "size": 10,
             "solidity": 0.2
            },
            "type": "scatter"
           }
          ],
          "scatter3d": [
           {
            "line": {
             "colorbar": {
              "outlinewidth": 0,
              "ticks": ""
             }
            },
            "marker": {
             "colorbar": {
              "outlinewidth": 0,
              "ticks": ""
             }
            },
            "type": "scatter3d"
           }
          ],
          "scattercarpet": [
           {
            "marker": {
             "colorbar": {
              "outlinewidth": 0,
              "ticks": ""
             }
            },
            "type": "scattercarpet"
           }
          ],
          "scattergeo": [
           {
            "marker": {
             "colorbar": {
              "outlinewidth": 0,
              "ticks": ""
             }
            },
            "type": "scattergeo"
           }
          ],
          "scattergl": [
           {
            "marker": {
             "colorbar": {
              "outlinewidth": 0,
              "ticks": ""
             }
            },
            "type": "scattergl"
           }
          ],
          "scattermapbox": [
           {
            "marker": {
             "colorbar": {
              "outlinewidth": 0,
              "ticks": ""
             }
            },
            "type": "scattermapbox"
           }
          ],
          "scatterpolar": [
           {
            "marker": {
             "colorbar": {
              "outlinewidth": 0,
              "ticks": ""
             }
            },
            "type": "scatterpolar"
           }
          ],
          "scatterpolargl": [
           {
            "marker": {
             "colorbar": {
              "outlinewidth": 0,
              "ticks": ""
             }
            },
            "type": "scatterpolargl"
           }
          ],
          "scatterternary": [
           {
            "marker": {
             "colorbar": {
              "outlinewidth": 0,
              "ticks": ""
             }
            },
            "type": "scatterternary"
           }
          ],
          "surface": [
           {
            "colorbar": {
             "outlinewidth": 0,
             "ticks": ""
            },
            "colorscale": [
             [
              0,
              "#0d0887"
             ],
             [
              0.1111111111111111,
              "#46039f"
             ],
             [
              0.2222222222222222,
              "#7201a8"
             ],
             [
              0.3333333333333333,
              "#9c179e"
             ],
             [
              0.4444444444444444,
              "#bd3786"
             ],
             [
              0.5555555555555556,
              "#d8576b"
             ],
             [
              0.6666666666666666,
              "#ed7953"
             ],
             [
              0.7777777777777778,
              "#fb9f3a"
             ],
             [
              0.8888888888888888,
              "#fdca26"
             ],
             [
              1,
              "#f0f921"
             ]
            ],
            "type": "surface"
           }
          ],
          "table": [
           {
            "cells": {
             "fill": {
              "color": "#EBF0F8"
             },
             "line": {
              "color": "white"
             }
            },
            "header": {
             "fill": {
              "color": "#C8D4E3"
             },
             "line": {
              "color": "white"
             }
            },
            "type": "table"
           }
          ]
         },
         "layout": {
          "annotationdefaults": {
           "arrowcolor": "#2a3f5f",
           "arrowhead": 0,
           "arrowwidth": 1
          },
          "autotypenumbers": "strict",
          "coloraxis": {
           "colorbar": {
            "outlinewidth": 0,
            "ticks": ""
           }
          },
          "colorscale": {
           "diverging": [
            [
             0,
             "#8e0152"
            ],
            [
             0.1,
             "#c51b7d"
            ],
            [
             0.2,
             "#de77ae"
            ],
            [
             0.3,
             "#f1b6da"
            ],
            [
             0.4,
             "#fde0ef"
            ],
            [
             0.5,
             "#f7f7f7"
            ],
            [
             0.6,
             "#e6f5d0"
            ],
            [
             0.7,
             "#b8e186"
            ],
            [
             0.8,
             "#7fbc41"
            ],
            [
             0.9,
             "#4d9221"
            ],
            [
             1,
             "#276419"
            ]
           ],
           "sequential": [
            [
             0,
             "#0d0887"
            ],
            [
             0.1111111111111111,
             "#46039f"
            ],
            [
             0.2222222222222222,
             "#7201a8"
            ],
            [
             0.3333333333333333,
             "#9c179e"
            ],
            [
             0.4444444444444444,
             "#bd3786"
            ],
            [
             0.5555555555555556,
             "#d8576b"
            ],
            [
             0.6666666666666666,
             "#ed7953"
            ],
            [
             0.7777777777777778,
             "#fb9f3a"
            ],
            [
             0.8888888888888888,
             "#fdca26"
            ],
            [
             1,
             "#f0f921"
            ]
           ],
           "sequentialminus": [
            [
             0,
             "#0d0887"
            ],
            [
             0.1111111111111111,
             "#46039f"
            ],
            [
             0.2222222222222222,
             "#7201a8"
            ],
            [
             0.3333333333333333,
             "#9c179e"
            ],
            [
             0.4444444444444444,
             "#bd3786"
            ],
            [
             0.5555555555555556,
             "#d8576b"
            ],
            [
             0.6666666666666666,
             "#ed7953"
            ],
            [
             0.7777777777777778,
             "#fb9f3a"
            ],
            [
             0.8888888888888888,
             "#fdca26"
            ],
            [
             1,
             "#f0f921"
            ]
           ]
          },
          "colorway": [
           "#636efa",
           "#EF553B",
           "#00cc96",
           "#ab63fa",
           "#FFA15A",
           "#19d3f3",
           "#FF6692",
           "#B6E880",
           "#FF97FF",
           "#FECB52"
          ],
          "font": {
           "color": "#2a3f5f"
          },
          "geo": {
           "bgcolor": "white",
           "lakecolor": "white",
           "landcolor": "#E5ECF6",
           "showlakes": true,
           "showland": true,
           "subunitcolor": "white"
          },
          "hoverlabel": {
           "align": "left"
          },
          "hovermode": "closest",
          "mapbox": {
           "style": "light"
          },
          "paper_bgcolor": "white",
          "plot_bgcolor": "#E5ECF6",
          "polar": {
           "angularaxis": {
            "gridcolor": "white",
            "linecolor": "white",
            "ticks": ""
           },
           "bgcolor": "#E5ECF6",
           "radialaxis": {
            "gridcolor": "white",
            "linecolor": "white",
            "ticks": ""
           }
          },
          "scene": {
           "xaxis": {
            "backgroundcolor": "#E5ECF6",
            "gridcolor": "white",
            "gridwidth": 2,
            "linecolor": "white",
            "showbackground": true,
            "ticks": "",
            "zerolinecolor": "white"
           },
           "yaxis": {
            "backgroundcolor": "#E5ECF6",
            "gridcolor": "white",
            "gridwidth": 2,
            "linecolor": "white",
            "showbackground": true,
            "ticks": "",
            "zerolinecolor": "white"
           },
           "zaxis": {
            "backgroundcolor": "#E5ECF6",
            "gridcolor": "white",
            "gridwidth": 2,
            "linecolor": "white",
            "showbackground": true,
            "ticks": "",
            "zerolinecolor": "white"
           }
          },
          "shapedefaults": {
           "line": {
            "color": "#2a3f5f"
           }
          },
          "ternary": {
           "aaxis": {
            "gridcolor": "white",
            "linecolor": "white",
            "ticks": ""
           },
           "baxis": {
            "gridcolor": "white",
            "linecolor": "white",
            "ticks": ""
           },
           "bgcolor": "#E5ECF6",
           "caxis": {
            "gridcolor": "white",
            "linecolor": "white",
            "ticks": ""
           }
          },
          "title": {
           "x": 0.05
          },
          "xaxis": {
           "automargin": true,
           "gridcolor": "white",
           "linecolor": "white",
           "ticks": "",
           "title": {
            "standoff": 15
           },
           "zerolinecolor": "white",
           "zerolinewidth": 2
          },
          "yaxis": {
           "automargin": true,
           "gridcolor": "white",
           "linecolor": "white",
           "ticks": "",
           "title": {
            "standoff": 15
           },
           "zerolinecolor": "white",
           "zerolinewidth": 2
          }
         }
        },
        "title": {
         "font": {
          "color": "#4D5663"
         },
         "text": "Top 20 Trigram Words"
        },
        "xaxis": {
         "gridcolor": "#E1E5ED",
         "showgrid": true,
         "tickfont": {
          "color": "#4D5663"
         },
         "title": {
          "font": {
           "color": "#4D5663"
          },
          "text": "Trigram"
         },
         "zerolinecolor": "#E1E5ED"
        },
        "yaxis": {
         "gridcolor": "#E1E5ED",
         "showgrid": true,
         "tickfont": {
          "color": "#4D5663"
         },
         "title": {
          "font": {
           "color": "#4D5663"
          },
          "text": "Frequency"
         },
         "zerolinecolor": "#E1E5ED"
        }
       }
      },
      "text/html": [
       "<div>                            <div id=\"1913e2a6-f15a-4d58-8892-bf0dbbbf27ed\" class=\"plotly-graph-div\" style=\"height:525px; width:100%;\"></div>            <script type=\"text/javascript\">                require([\"plotly\"], function(Plotly) {                    window.PLOTLYENV=window.PLOTLYENV || {};\n",
       "                    window.PLOTLYENV.BASE_URL='https://plot.ly';                                    if (document.getElementById(\"1913e2a6-f15a-4d58-8892-bf0dbbbf27ed\")) {                    Plotly.newPlot(                        \"1913e2a6-f15a-4d58-8892-bf0dbbbf27ed\",                        [{\"marker\":{\"color\":\"rgba(255, 153, 51, 0.6)\",\"line\":{\"color\":\"rgba(255, 153, 51, 1.0)\",\"width\":1}},\"name\":\"Frequency\",\"orientation\":\"v\",\"text\":\"\",\"x\":[\"global warming and\",\"climate change global\",\"change global warming\",\"global warming climate\",\"of global warming\",\"warming and climate\",\"climate change and\",\"climate change is\",\"and climate change\",\"of climate change\",\"warming climate change\",\"change and global\",\"and global warming\",\"on climate change\",\"about climate change\",\"global warming is\",\"to climate change\",\"to global warming\",\"the global warming\",\"cycles cause climate\"],\"y\":[40,29,29,28,28,28,27,26,26,25,24,20,19,19,16,15,14,14,12,10],\"type\":\"bar\"}],                        {\"legend\":{\"bgcolor\":\"#F5F6F9\",\"font\":{\"color\":\"#4D5663\"}},\"paper_bgcolor\":\"#F5F6F9\",\"plot_bgcolor\":\"#F5F6F9\",\"template\":{\"data\":{\"barpolar\":[{\"marker\":{\"line\":{\"color\":\"#E5ECF6\",\"width\":0.5},\"pattern\":{\"fillmode\":\"overlay\",\"size\":10,\"solidity\":0.2}},\"type\":\"barpolar\"}],\"bar\":[{\"error_x\":{\"color\":\"#2a3f5f\"},\"error_y\":{\"color\":\"#2a3f5f\"},\"marker\":{\"line\":{\"color\":\"#E5ECF6\",\"width\":0.5},\"pattern\":{\"fillmode\":\"overlay\",\"size\":10,\"solidity\":0.2}},\"type\":\"bar\"}],\"carpet\":[{\"aaxis\":{\"endlinecolor\":\"#2a3f5f\",\"gridcolor\":\"white\",\"linecolor\":\"white\",\"minorgridcolor\":\"white\",\"startlinecolor\":\"#2a3f5f\"},\"baxis\":{\"endlinecolor\":\"#2a3f5f\",\"gridcolor\":\"white\",\"linecolor\":\"white\",\"minorgridcolor\":\"white\",\"startlinecolor\":\"#2a3f5f\"},\"type\":\"carpet\"}],\"choropleth\":[{\"colorbar\":{\"outlinewidth\":0,\"ticks\":\"\"},\"type\":\"choropleth\"}],\"contourcarpet\":[{\"colorbar\":{\"outlinewidth\":0,\"ticks\":\"\"},\"type\":\"contourcarpet\"}],\"contour\":[{\"colorbar\":{\"outlinewidth\":0,\"ticks\":\"\"},\"colorscale\":[[0.0,\"#0d0887\"],[0.1111111111111111,\"#46039f\"],[0.2222222222222222,\"#7201a8\"],[0.3333333333333333,\"#9c179e\"],[0.4444444444444444,\"#bd3786\"],[0.5555555555555556,\"#d8576b\"],[0.6666666666666666,\"#ed7953\"],[0.7777777777777778,\"#fb9f3a\"],[0.8888888888888888,\"#fdca26\"],[1.0,\"#f0f921\"]],\"type\":\"contour\"}],\"heatmapgl\":[{\"colorbar\":{\"outlinewidth\":0,\"ticks\":\"\"},\"colorscale\":[[0.0,\"#0d0887\"],[0.1111111111111111,\"#46039f\"],[0.2222222222222222,\"#7201a8\"],[0.3333333333333333,\"#9c179e\"],[0.4444444444444444,\"#bd3786\"],[0.5555555555555556,\"#d8576b\"],[0.6666666666666666,\"#ed7953\"],[0.7777777777777778,\"#fb9f3a\"],[0.8888888888888888,\"#fdca26\"],[1.0,\"#f0f921\"]],\"type\":\"heatmapgl\"}],\"heatmap\":[{\"colorbar\":{\"outlinewidth\":0,\"ticks\":\"\"},\"colorscale\":[[0.0,\"#0d0887\"],[0.1111111111111111,\"#46039f\"],[0.2222222222222222,\"#7201a8\"],[0.3333333333333333,\"#9c179e\"],[0.4444444444444444,\"#bd3786\"],[0.5555555555555556,\"#d8576b\"],[0.6666666666666666,\"#ed7953\"],[0.7777777777777778,\"#fb9f3a\"],[0.8888888888888888,\"#fdca26\"],[1.0,\"#f0f921\"]],\"type\":\"heatmap\"}],\"histogram2dcontour\":[{\"colorbar\":{\"outlinewidth\":0,\"ticks\":\"\"},\"colorscale\":[[0.0,\"#0d0887\"],[0.1111111111111111,\"#46039f\"],[0.2222222222222222,\"#7201a8\"],[0.3333333333333333,\"#9c179e\"],[0.4444444444444444,\"#bd3786\"],[0.5555555555555556,\"#d8576b\"],[0.6666666666666666,\"#ed7953\"],[0.7777777777777778,\"#fb9f3a\"],[0.8888888888888888,\"#fdca26\"],[1.0,\"#f0f921\"]],\"type\":\"histogram2dcontour\"}],\"histogram2d\":[{\"colorbar\":{\"outlinewidth\":0,\"ticks\":\"\"},\"colorscale\":[[0.0,\"#0d0887\"],[0.1111111111111111,\"#46039f\"],[0.2222222222222222,\"#7201a8\"],[0.3333333333333333,\"#9c179e\"],[0.4444444444444444,\"#bd3786\"],[0.5555555555555556,\"#d8576b\"],[0.6666666666666666,\"#ed7953\"],[0.7777777777777778,\"#fb9f3a\"],[0.8888888888888888,\"#fdca26\"],[1.0,\"#f0f921\"]],\"type\":\"histogram2d\"}],\"histogram\":[{\"marker\":{\"pattern\":{\"fillmode\":\"overlay\",\"size\":10,\"solidity\":0.2}},\"type\":\"histogram\"}],\"mesh3d\":[{\"colorbar\":{\"outlinewidth\":0,\"ticks\":\"\"},\"type\":\"mesh3d\"}],\"parcoords\":[{\"line\":{\"colorbar\":{\"outlinewidth\":0,\"ticks\":\"\"}},\"type\":\"parcoords\"}],\"pie\":[{\"automargin\":true,\"type\":\"pie\"}],\"scatter3d\":[{\"line\":{\"colorbar\":{\"outlinewidth\":0,\"ticks\":\"\"}},\"marker\":{\"colorbar\":{\"outlinewidth\":0,\"ticks\":\"\"}},\"type\":\"scatter3d\"}],\"scattercarpet\":[{\"marker\":{\"colorbar\":{\"outlinewidth\":0,\"ticks\":\"\"}},\"type\":\"scattercarpet\"}],\"scattergeo\":[{\"marker\":{\"colorbar\":{\"outlinewidth\":0,\"ticks\":\"\"}},\"type\":\"scattergeo\"}],\"scattergl\":[{\"marker\":{\"colorbar\":{\"outlinewidth\":0,\"ticks\":\"\"}},\"type\":\"scattergl\"}],\"scattermapbox\":[{\"marker\":{\"colorbar\":{\"outlinewidth\":0,\"ticks\":\"\"}},\"type\":\"scattermapbox\"}],\"scatterpolargl\":[{\"marker\":{\"colorbar\":{\"outlinewidth\":0,\"ticks\":\"\"}},\"type\":\"scatterpolargl\"}],\"scatterpolar\":[{\"marker\":{\"colorbar\":{\"outlinewidth\":0,\"ticks\":\"\"}},\"type\":\"scatterpolar\"}],\"scatter\":[{\"fillpattern\":{\"fillmode\":\"overlay\",\"size\":10,\"solidity\":0.2},\"type\":\"scatter\"}],\"scatterternary\":[{\"marker\":{\"colorbar\":{\"outlinewidth\":0,\"ticks\":\"\"}},\"type\":\"scatterternary\"}],\"surface\":[{\"colorbar\":{\"outlinewidth\":0,\"ticks\":\"\"},\"colorscale\":[[0.0,\"#0d0887\"],[0.1111111111111111,\"#46039f\"],[0.2222222222222222,\"#7201a8\"],[0.3333333333333333,\"#9c179e\"],[0.4444444444444444,\"#bd3786\"],[0.5555555555555556,\"#d8576b\"],[0.6666666666666666,\"#ed7953\"],[0.7777777777777778,\"#fb9f3a\"],[0.8888888888888888,\"#fdca26\"],[1.0,\"#f0f921\"]],\"type\":\"surface\"}],\"table\":[{\"cells\":{\"fill\":{\"color\":\"#EBF0F8\"},\"line\":{\"color\":\"white\"}},\"header\":{\"fill\":{\"color\":\"#C8D4E3\"},\"line\":{\"color\":\"white\"}},\"type\":\"table\"}]},\"layout\":{\"annotationdefaults\":{\"arrowcolor\":\"#2a3f5f\",\"arrowhead\":0,\"arrowwidth\":1},\"autotypenumbers\":\"strict\",\"coloraxis\":{\"colorbar\":{\"outlinewidth\":0,\"ticks\":\"\"}},\"colorscale\":{\"diverging\":[[0,\"#8e0152\"],[0.1,\"#c51b7d\"],[0.2,\"#de77ae\"],[0.3,\"#f1b6da\"],[0.4,\"#fde0ef\"],[0.5,\"#f7f7f7\"],[0.6,\"#e6f5d0\"],[0.7,\"#b8e186\"],[0.8,\"#7fbc41\"],[0.9,\"#4d9221\"],[1,\"#276419\"]],\"sequential\":[[0.0,\"#0d0887\"],[0.1111111111111111,\"#46039f\"],[0.2222222222222222,\"#7201a8\"],[0.3333333333333333,\"#9c179e\"],[0.4444444444444444,\"#bd3786\"],[0.5555555555555556,\"#d8576b\"],[0.6666666666666666,\"#ed7953\"],[0.7777777777777778,\"#fb9f3a\"],[0.8888888888888888,\"#fdca26\"],[1.0,\"#f0f921\"]],\"sequentialminus\":[[0.0,\"#0d0887\"],[0.1111111111111111,\"#46039f\"],[0.2222222222222222,\"#7201a8\"],[0.3333333333333333,\"#9c179e\"],[0.4444444444444444,\"#bd3786\"],[0.5555555555555556,\"#d8576b\"],[0.6666666666666666,\"#ed7953\"],[0.7777777777777778,\"#fb9f3a\"],[0.8888888888888888,\"#fdca26\"],[1.0,\"#f0f921\"]]},\"colorway\":[\"#636efa\",\"#EF553B\",\"#00cc96\",\"#ab63fa\",\"#FFA15A\",\"#19d3f3\",\"#FF6692\",\"#B6E880\",\"#FF97FF\",\"#FECB52\"],\"font\":{\"color\":\"#2a3f5f\"},\"geo\":{\"bgcolor\":\"white\",\"lakecolor\":\"white\",\"landcolor\":\"#E5ECF6\",\"showlakes\":true,\"showland\":true,\"subunitcolor\":\"white\"},\"hoverlabel\":{\"align\":\"left\"},\"hovermode\":\"closest\",\"mapbox\":{\"style\":\"light\"},\"paper_bgcolor\":\"white\",\"plot_bgcolor\":\"#E5ECF6\",\"polar\":{\"angularaxis\":{\"gridcolor\":\"white\",\"linecolor\":\"white\",\"ticks\":\"\"},\"bgcolor\":\"#E5ECF6\",\"radialaxis\":{\"gridcolor\":\"white\",\"linecolor\":\"white\",\"ticks\":\"\"}},\"scene\":{\"xaxis\":{\"backgroundcolor\":\"#E5ECF6\",\"gridcolor\":\"white\",\"gridwidth\":2,\"linecolor\":\"white\",\"showbackground\":true,\"ticks\":\"\",\"zerolinecolor\":\"white\"},\"yaxis\":{\"backgroundcolor\":\"#E5ECF6\",\"gridcolor\":\"white\",\"gridwidth\":2,\"linecolor\":\"white\",\"showbackground\":true,\"ticks\":\"\",\"zerolinecolor\":\"white\"},\"zaxis\":{\"backgroundcolor\":\"#E5ECF6\",\"gridcolor\":\"white\",\"gridwidth\":2,\"linecolor\":\"white\",\"showbackground\":true,\"ticks\":\"\",\"zerolinecolor\":\"white\"}},\"shapedefaults\":{\"line\":{\"color\":\"#2a3f5f\"}},\"ternary\":{\"aaxis\":{\"gridcolor\":\"white\",\"linecolor\":\"white\",\"ticks\":\"\"},\"baxis\":{\"gridcolor\":\"white\",\"linecolor\":\"white\",\"ticks\":\"\"},\"bgcolor\":\"#E5ECF6\",\"caxis\":{\"gridcolor\":\"white\",\"linecolor\":\"white\",\"ticks\":\"\"}},\"title\":{\"x\":0.05},\"xaxis\":{\"automargin\":true,\"gridcolor\":\"white\",\"linecolor\":\"white\",\"ticks\":\"\",\"title\":{\"standoff\":15},\"zerolinecolor\":\"white\",\"zerolinewidth\":2},\"yaxis\":{\"automargin\":true,\"gridcolor\":\"white\",\"linecolor\":\"white\",\"ticks\":\"\",\"title\":{\"standoff\":15},\"zerolinecolor\":\"white\",\"zerolinewidth\":2}}},\"title\":{\"font\":{\"color\":\"#4D5663\"},\"text\":\"Top 20 Trigram Words\"},\"xaxis\":{\"gridcolor\":\"#E1E5ED\",\"showgrid\":true,\"tickfont\":{\"color\":\"#4D5663\"},\"title\":{\"font\":{\"color\":\"#4D5663\"},\"text\":\"Trigram\"},\"zerolinecolor\":\"#E1E5ED\"},\"yaxis\":{\"gridcolor\":\"#E1E5ED\",\"showgrid\":true,\"tickfont\":{\"color\":\"#4D5663\"},\"title\":{\"font\":{\"color\":\"#4D5663\"},\"text\":\"Frequency\"},\"zerolinecolor\":\"#E1E5ED\"}},                        {\"showLink\": true, \"linkText\": \"Export to plot.ly\", \"plotlyServerURL\": \"https://plot.ly\", \"responsive\": true}                    ).then(function(){\n",
       "                            \n",
       "var gd = document.getElementById('1913e2a6-f15a-4d58-8892-bf0dbbbf27ed');\n",
       "var x = new MutationObserver(function (mutations, observer) {{\n",
       "        var display = window.getComputedStyle(gd).display;\n",
       "        if (!display || display === 'none') {{\n",
       "            console.log([gd, 'removed!']);\n",
       "            Plotly.purge(gd);\n",
       "            observer.disconnect();\n",
       "        }}\n",
       "}});\n",
       "\n",
       "// Listen for the removal of the full notebook cells\n",
       "var notebookContainer = gd.closest('#notebook-container');\n",
       "if (notebookContainer) {{\n",
       "    x.observe(notebookContainer, {childList: true});\n",
       "}}\n",
       "\n",
       "// Listen for the clearing of the current output cell\n",
       "var outputEl = gd.closest('.output');\n",
       "if (outputEl) {{\n",
       "    x.observe(outputEl, {childList: true});\n",
       "}}\n",
       "\n",
       "                        })                };                });            </script>        </div>"
      ]
     },
     "metadata": {},
     "output_type": "display_data"
    }
   ],
   "source": [
    "words = get_top_n_words(df['text'], 20)\n",
    "dfTri = pd.DataFrame(words, columns = ['Trigram','Frequency'])\n",
    "dfTri = dfTri.set_index('Trigram')\n",
    "dfTri.iplot(kind = 'bar', xTitle='Trigram', yTitle='Frequency', title = 'Top 20 Trigram Words')"
   ]
  },
  {
   "cell_type": "markdown",
   "metadata": {},
   "source": [
    "##### Removing Stop Words for More Useful Distributions"
   ]
  },
  {
   "cell_type": "markdown",
   "metadata": {},
   "source": [
    "##### Unigrams without Stop Words"
   ]
  },
  {
   "cell_type": "code",
   "execution_count": 33,
   "metadata": {},
   "outputs": [],
   "source": [
    "def get_top_n_words(x, n):\n",
    "    vec = CountVectorizer(stop_words='english').fit(x)\n",
    "    bow = vec.transform(x)\n",
    "    sum_words = bow.sum(axis = 0)\n",
    "    word_freq = [(word, sum_words[0, idx]) for word, idx in vec.vocabulary_.items()]\n",
    "    word_freq = sorted(word_freq, key = lambda x: x[1], reverse = True)\n",
    "    return word_freq[:n]"
   ]
  },
  {
   "cell_type": "code",
   "execution_count": 34,
   "metadata": {},
   "outputs": [
    {
     "data": {
      "application/vnd.plotly.v1+json": {
       "config": {
        "linkText": "Export to plot.ly",
        "plotlyServerURL": "https://plot.ly",
        "showLink": true
       },
       "data": [
        {
         "marker": {
          "color": "rgba(255, 153, 51, 0.6)",
          "line": {
           "color": "rgba(255, 153, 51, 1.0)",
           "width": 1
          }
         },
         "name": "Frequency",
         "orientation": "v",
         "text": "",
         "type": "bar",
         "x": [
          "climate",
          "global",
          "change",
          "warming",
          "climatechange",
          "amp",
          "environment",
          "world",
          "globalwarming",
          "co2",
          "new",
          "changes",
          "earth",
          "cause",
          "emissions",
          "carbon",
          "coronavirus",
          "years",
          "planet",
          "2020"
         ],
         "y": [
          548,
          410,
          385,
          362,
          53,
          53,
          43,
          40,
          38,
          37,
          36,
          34,
          31,
          29,
          28,
          27,
          22,
          21,
          21,
          21
         ]
        }
       ],
       "layout": {
        "legend": {
         "bgcolor": "#F5F6F9",
         "font": {
          "color": "#4D5663"
         }
        },
        "paper_bgcolor": "#F5F6F9",
        "plot_bgcolor": "#F5F6F9",
        "template": {
         "data": {
          "bar": [
           {
            "error_x": {
             "color": "#2a3f5f"
            },
            "error_y": {
             "color": "#2a3f5f"
            },
            "marker": {
             "line": {
              "color": "#E5ECF6",
              "width": 0.5
             },
             "pattern": {
              "fillmode": "overlay",
              "size": 10,
              "solidity": 0.2
             }
            },
            "type": "bar"
           }
          ],
          "barpolar": [
           {
            "marker": {
             "line": {
              "color": "#E5ECF6",
              "width": 0.5
             },
             "pattern": {
              "fillmode": "overlay",
              "size": 10,
              "solidity": 0.2
             }
            },
            "type": "barpolar"
           }
          ],
          "carpet": [
           {
            "aaxis": {
             "endlinecolor": "#2a3f5f",
             "gridcolor": "white",
             "linecolor": "white",
             "minorgridcolor": "white",
             "startlinecolor": "#2a3f5f"
            },
            "baxis": {
             "endlinecolor": "#2a3f5f",
             "gridcolor": "white",
             "linecolor": "white",
             "minorgridcolor": "white",
             "startlinecolor": "#2a3f5f"
            },
            "type": "carpet"
           }
          ],
          "choropleth": [
           {
            "colorbar": {
             "outlinewidth": 0,
             "ticks": ""
            },
            "type": "choropleth"
           }
          ],
          "contour": [
           {
            "colorbar": {
             "outlinewidth": 0,
             "ticks": ""
            },
            "colorscale": [
             [
              0,
              "#0d0887"
             ],
             [
              0.1111111111111111,
              "#46039f"
             ],
             [
              0.2222222222222222,
              "#7201a8"
             ],
             [
              0.3333333333333333,
              "#9c179e"
             ],
             [
              0.4444444444444444,
              "#bd3786"
             ],
             [
              0.5555555555555556,
              "#d8576b"
             ],
             [
              0.6666666666666666,
              "#ed7953"
             ],
             [
              0.7777777777777778,
              "#fb9f3a"
             ],
             [
              0.8888888888888888,
              "#fdca26"
             ],
             [
              1,
              "#f0f921"
             ]
            ],
            "type": "contour"
           }
          ],
          "contourcarpet": [
           {
            "colorbar": {
             "outlinewidth": 0,
             "ticks": ""
            },
            "type": "contourcarpet"
           }
          ],
          "heatmap": [
           {
            "colorbar": {
             "outlinewidth": 0,
             "ticks": ""
            },
            "colorscale": [
             [
              0,
              "#0d0887"
             ],
             [
              0.1111111111111111,
              "#46039f"
             ],
             [
              0.2222222222222222,
              "#7201a8"
             ],
             [
              0.3333333333333333,
              "#9c179e"
             ],
             [
              0.4444444444444444,
              "#bd3786"
             ],
             [
              0.5555555555555556,
              "#d8576b"
             ],
             [
              0.6666666666666666,
              "#ed7953"
             ],
             [
              0.7777777777777778,
              "#fb9f3a"
             ],
             [
              0.8888888888888888,
              "#fdca26"
             ],
             [
              1,
              "#f0f921"
             ]
            ],
            "type": "heatmap"
           }
          ],
          "heatmapgl": [
           {
            "colorbar": {
             "outlinewidth": 0,
             "ticks": ""
            },
            "colorscale": [
             [
              0,
              "#0d0887"
             ],
             [
              0.1111111111111111,
              "#46039f"
             ],
             [
              0.2222222222222222,
              "#7201a8"
             ],
             [
              0.3333333333333333,
              "#9c179e"
             ],
             [
              0.4444444444444444,
              "#bd3786"
             ],
             [
              0.5555555555555556,
              "#d8576b"
             ],
             [
              0.6666666666666666,
              "#ed7953"
             ],
             [
              0.7777777777777778,
              "#fb9f3a"
             ],
             [
              0.8888888888888888,
              "#fdca26"
             ],
             [
              1,
              "#f0f921"
             ]
            ],
            "type": "heatmapgl"
           }
          ],
          "histogram": [
           {
            "marker": {
             "pattern": {
              "fillmode": "overlay",
              "size": 10,
              "solidity": 0.2
             }
            },
            "type": "histogram"
           }
          ],
          "histogram2d": [
           {
            "colorbar": {
             "outlinewidth": 0,
             "ticks": ""
            },
            "colorscale": [
             [
              0,
              "#0d0887"
             ],
             [
              0.1111111111111111,
              "#46039f"
             ],
             [
              0.2222222222222222,
              "#7201a8"
             ],
             [
              0.3333333333333333,
              "#9c179e"
             ],
             [
              0.4444444444444444,
              "#bd3786"
             ],
             [
              0.5555555555555556,
              "#d8576b"
             ],
             [
              0.6666666666666666,
              "#ed7953"
             ],
             [
              0.7777777777777778,
              "#fb9f3a"
             ],
             [
              0.8888888888888888,
              "#fdca26"
             ],
             [
              1,
              "#f0f921"
             ]
            ],
            "type": "histogram2d"
           }
          ],
          "histogram2dcontour": [
           {
            "colorbar": {
             "outlinewidth": 0,
             "ticks": ""
            },
            "colorscale": [
             [
              0,
              "#0d0887"
             ],
             [
              0.1111111111111111,
              "#46039f"
             ],
             [
              0.2222222222222222,
              "#7201a8"
             ],
             [
              0.3333333333333333,
              "#9c179e"
             ],
             [
              0.4444444444444444,
              "#bd3786"
             ],
             [
              0.5555555555555556,
              "#d8576b"
             ],
             [
              0.6666666666666666,
              "#ed7953"
             ],
             [
              0.7777777777777778,
              "#fb9f3a"
             ],
             [
              0.8888888888888888,
              "#fdca26"
             ],
             [
              1,
              "#f0f921"
             ]
            ],
            "type": "histogram2dcontour"
           }
          ],
          "mesh3d": [
           {
            "colorbar": {
             "outlinewidth": 0,
             "ticks": ""
            },
            "type": "mesh3d"
           }
          ],
          "parcoords": [
           {
            "line": {
             "colorbar": {
              "outlinewidth": 0,
              "ticks": ""
             }
            },
            "type": "parcoords"
           }
          ],
          "pie": [
           {
            "automargin": true,
            "type": "pie"
           }
          ],
          "scatter": [
           {
            "fillpattern": {
             "fillmode": "overlay",
             "size": 10,
             "solidity": 0.2
            },
            "type": "scatter"
           }
          ],
          "scatter3d": [
           {
            "line": {
             "colorbar": {
              "outlinewidth": 0,
              "ticks": ""
             }
            },
            "marker": {
             "colorbar": {
              "outlinewidth": 0,
              "ticks": ""
             }
            },
            "type": "scatter3d"
           }
          ],
          "scattercarpet": [
           {
            "marker": {
             "colorbar": {
              "outlinewidth": 0,
              "ticks": ""
             }
            },
            "type": "scattercarpet"
           }
          ],
          "scattergeo": [
           {
            "marker": {
             "colorbar": {
              "outlinewidth": 0,
              "ticks": ""
             }
            },
            "type": "scattergeo"
           }
          ],
          "scattergl": [
           {
            "marker": {
             "colorbar": {
              "outlinewidth": 0,
              "ticks": ""
             }
            },
            "type": "scattergl"
           }
          ],
          "scattermapbox": [
           {
            "marker": {
             "colorbar": {
              "outlinewidth": 0,
              "ticks": ""
             }
            },
            "type": "scattermapbox"
           }
          ],
          "scatterpolar": [
           {
            "marker": {
             "colorbar": {
              "outlinewidth": 0,
              "ticks": ""
             }
            },
            "type": "scatterpolar"
           }
          ],
          "scatterpolargl": [
           {
            "marker": {
             "colorbar": {
              "outlinewidth": 0,
              "ticks": ""
             }
            },
            "type": "scatterpolargl"
           }
          ],
          "scatterternary": [
           {
            "marker": {
             "colorbar": {
              "outlinewidth": 0,
              "ticks": ""
             }
            },
            "type": "scatterternary"
           }
          ],
          "surface": [
           {
            "colorbar": {
             "outlinewidth": 0,
             "ticks": ""
            },
            "colorscale": [
             [
              0,
              "#0d0887"
             ],
             [
              0.1111111111111111,
              "#46039f"
             ],
             [
              0.2222222222222222,
              "#7201a8"
             ],
             [
              0.3333333333333333,
              "#9c179e"
             ],
             [
              0.4444444444444444,
              "#bd3786"
             ],
             [
              0.5555555555555556,
              "#d8576b"
             ],
             [
              0.6666666666666666,
              "#ed7953"
             ],
             [
              0.7777777777777778,
              "#fb9f3a"
             ],
             [
              0.8888888888888888,
              "#fdca26"
             ],
             [
              1,
              "#f0f921"
             ]
            ],
            "type": "surface"
           }
          ],
          "table": [
           {
            "cells": {
             "fill": {
              "color": "#EBF0F8"
             },
             "line": {
              "color": "white"
             }
            },
            "header": {
             "fill": {
              "color": "#C8D4E3"
             },
             "line": {
              "color": "white"
             }
            },
            "type": "table"
           }
          ]
         },
         "layout": {
          "annotationdefaults": {
           "arrowcolor": "#2a3f5f",
           "arrowhead": 0,
           "arrowwidth": 1
          },
          "autotypenumbers": "strict",
          "coloraxis": {
           "colorbar": {
            "outlinewidth": 0,
            "ticks": ""
           }
          },
          "colorscale": {
           "diverging": [
            [
             0,
             "#8e0152"
            ],
            [
             0.1,
             "#c51b7d"
            ],
            [
             0.2,
             "#de77ae"
            ],
            [
             0.3,
             "#f1b6da"
            ],
            [
             0.4,
             "#fde0ef"
            ],
            [
             0.5,
             "#f7f7f7"
            ],
            [
             0.6,
             "#e6f5d0"
            ],
            [
             0.7,
             "#b8e186"
            ],
            [
             0.8,
             "#7fbc41"
            ],
            [
             0.9,
             "#4d9221"
            ],
            [
             1,
             "#276419"
            ]
           ],
           "sequential": [
            [
             0,
             "#0d0887"
            ],
            [
             0.1111111111111111,
             "#46039f"
            ],
            [
             0.2222222222222222,
             "#7201a8"
            ],
            [
             0.3333333333333333,
             "#9c179e"
            ],
            [
             0.4444444444444444,
             "#bd3786"
            ],
            [
             0.5555555555555556,
             "#d8576b"
            ],
            [
             0.6666666666666666,
             "#ed7953"
            ],
            [
             0.7777777777777778,
             "#fb9f3a"
            ],
            [
             0.8888888888888888,
             "#fdca26"
            ],
            [
             1,
             "#f0f921"
            ]
           ],
           "sequentialminus": [
            [
             0,
             "#0d0887"
            ],
            [
             0.1111111111111111,
             "#46039f"
            ],
            [
             0.2222222222222222,
             "#7201a8"
            ],
            [
             0.3333333333333333,
             "#9c179e"
            ],
            [
             0.4444444444444444,
             "#bd3786"
            ],
            [
             0.5555555555555556,
             "#d8576b"
            ],
            [
             0.6666666666666666,
             "#ed7953"
            ],
            [
             0.7777777777777778,
             "#fb9f3a"
            ],
            [
             0.8888888888888888,
             "#fdca26"
            ],
            [
             1,
             "#f0f921"
            ]
           ]
          },
          "colorway": [
           "#636efa",
           "#EF553B",
           "#00cc96",
           "#ab63fa",
           "#FFA15A",
           "#19d3f3",
           "#FF6692",
           "#B6E880",
           "#FF97FF",
           "#FECB52"
          ],
          "font": {
           "color": "#2a3f5f"
          },
          "geo": {
           "bgcolor": "white",
           "lakecolor": "white",
           "landcolor": "#E5ECF6",
           "showlakes": true,
           "showland": true,
           "subunitcolor": "white"
          },
          "hoverlabel": {
           "align": "left"
          },
          "hovermode": "closest",
          "mapbox": {
           "style": "light"
          },
          "paper_bgcolor": "white",
          "plot_bgcolor": "#E5ECF6",
          "polar": {
           "angularaxis": {
            "gridcolor": "white",
            "linecolor": "white",
            "ticks": ""
           },
           "bgcolor": "#E5ECF6",
           "radialaxis": {
            "gridcolor": "white",
            "linecolor": "white",
            "ticks": ""
           }
          },
          "scene": {
           "xaxis": {
            "backgroundcolor": "#E5ECF6",
            "gridcolor": "white",
            "gridwidth": 2,
            "linecolor": "white",
            "showbackground": true,
            "ticks": "",
            "zerolinecolor": "white"
           },
           "yaxis": {
            "backgroundcolor": "#E5ECF6",
            "gridcolor": "white",
            "gridwidth": 2,
            "linecolor": "white",
            "showbackground": true,
            "ticks": "",
            "zerolinecolor": "white"
           },
           "zaxis": {
            "backgroundcolor": "#E5ECF6",
            "gridcolor": "white",
            "gridwidth": 2,
            "linecolor": "white",
            "showbackground": true,
            "ticks": "",
            "zerolinecolor": "white"
           }
          },
          "shapedefaults": {
           "line": {
            "color": "#2a3f5f"
           }
          },
          "ternary": {
           "aaxis": {
            "gridcolor": "white",
            "linecolor": "white",
            "ticks": ""
           },
           "baxis": {
            "gridcolor": "white",
            "linecolor": "white",
            "ticks": ""
           },
           "bgcolor": "#E5ECF6",
           "caxis": {
            "gridcolor": "white",
            "linecolor": "white",
            "ticks": ""
           }
          },
          "title": {
           "x": 0.05
          },
          "xaxis": {
           "automargin": true,
           "gridcolor": "white",
           "linecolor": "white",
           "ticks": "",
           "title": {
            "standoff": 15
           },
           "zerolinecolor": "white",
           "zerolinewidth": 2
          },
          "yaxis": {
           "automargin": true,
           "gridcolor": "white",
           "linecolor": "white",
           "ticks": "",
           "title": {
            "standoff": 15
           },
           "zerolinecolor": "white",
           "zerolinewidth": 2
          }
         }
        },
        "title": {
         "font": {
          "color": "#4D5663"
         },
         "text": "Top 20 Unigram Words"
        },
        "xaxis": {
         "gridcolor": "#E1E5ED",
         "showgrid": true,
         "tickfont": {
          "color": "#4D5663"
         },
         "title": {
          "font": {
           "color": "#4D5663"
          },
          "text": "Unigram"
         },
         "zerolinecolor": "#E1E5ED"
        },
        "yaxis": {
         "gridcolor": "#E1E5ED",
         "showgrid": true,
         "tickfont": {
          "color": "#4D5663"
         },
         "title": {
          "font": {
           "color": "#4D5663"
          },
          "text": "Frequency"
         },
         "zerolinecolor": "#E1E5ED"
        }
       }
      },
      "text/html": [
       "<div>                            <div id=\"946c5ad4-2c07-451d-9fb9-1847b54fa115\" class=\"plotly-graph-div\" style=\"height:525px; width:100%;\"></div>            <script type=\"text/javascript\">                require([\"plotly\"], function(Plotly) {                    window.PLOTLYENV=window.PLOTLYENV || {};\n",
       "                    window.PLOTLYENV.BASE_URL='https://plot.ly';                                    if (document.getElementById(\"946c5ad4-2c07-451d-9fb9-1847b54fa115\")) {                    Plotly.newPlot(                        \"946c5ad4-2c07-451d-9fb9-1847b54fa115\",                        [{\"marker\":{\"color\":\"rgba(255, 153, 51, 0.6)\",\"line\":{\"color\":\"rgba(255, 153, 51, 1.0)\",\"width\":1}},\"name\":\"Frequency\",\"orientation\":\"v\",\"text\":\"\",\"x\":[\"climate\",\"global\",\"change\",\"warming\",\"climatechange\",\"amp\",\"environment\",\"world\",\"globalwarming\",\"co2\",\"new\",\"changes\",\"earth\",\"cause\",\"emissions\",\"carbon\",\"coronavirus\",\"years\",\"planet\",\"2020\"],\"y\":[548,410,385,362,53,53,43,40,38,37,36,34,31,29,28,27,22,21,21,21],\"type\":\"bar\"}],                        {\"legend\":{\"bgcolor\":\"#F5F6F9\",\"font\":{\"color\":\"#4D5663\"}},\"paper_bgcolor\":\"#F5F6F9\",\"plot_bgcolor\":\"#F5F6F9\",\"template\":{\"data\":{\"barpolar\":[{\"marker\":{\"line\":{\"color\":\"#E5ECF6\",\"width\":0.5},\"pattern\":{\"fillmode\":\"overlay\",\"size\":10,\"solidity\":0.2}},\"type\":\"barpolar\"}],\"bar\":[{\"error_x\":{\"color\":\"#2a3f5f\"},\"error_y\":{\"color\":\"#2a3f5f\"},\"marker\":{\"line\":{\"color\":\"#E5ECF6\",\"width\":0.5},\"pattern\":{\"fillmode\":\"overlay\",\"size\":10,\"solidity\":0.2}},\"type\":\"bar\"}],\"carpet\":[{\"aaxis\":{\"endlinecolor\":\"#2a3f5f\",\"gridcolor\":\"white\",\"linecolor\":\"white\",\"minorgridcolor\":\"white\",\"startlinecolor\":\"#2a3f5f\"},\"baxis\":{\"endlinecolor\":\"#2a3f5f\",\"gridcolor\":\"white\",\"linecolor\":\"white\",\"minorgridcolor\":\"white\",\"startlinecolor\":\"#2a3f5f\"},\"type\":\"carpet\"}],\"choropleth\":[{\"colorbar\":{\"outlinewidth\":0,\"ticks\":\"\"},\"type\":\"choropleth\"}],\"contourcarpet\":[{\"colorbar\":{\"outlinewidth\":0,\"ticks\":\"\"},\"type\":\"contourcarpet\"}],\"contour\":[{\"colorbar\":{\"outlinewidth\":0,\"ticks\":\"\"},\"colorscale\":[[0.0,\"#0d0887\"],[0.1111111111111111,\"#46039f\"],[0.2222222222222222,\"#7201a8\"],[0.3333333333333333,\"#9c179e\"],[0.4444444444444444,\"#bd3786\"],[0.5555555555555556,\"#d8576b\"],[0.6666666666666666,\"#ed7953\"],[0.7777777777777778,\"#fb9f3a\"],[0.8888888888888888,\"#fdca26\"],[1.0,\"#f0f921\"]],\"type\":\"contour\"}],\"heatmapgl\":[{\"colorbar\":{\"outlinewidth\":0,\"ticks\":\"\"},\"colorscale\":[[0.0,\"#0d0887\"],[0.1111111111111111,\"#46039f\"],[0.2222222222222222,\"#7201a8\"],[0.3333333333333333,\"#9c179e\"],[0.4444444444444444,\"#bd3786\"],[0.5555555555555556,\"#d8576b\"],[0.6666666666666666,\"#ed7953\"],[0.7777777777777778,\"#fb9f3a\"],[0.8888888888888888,\"#fdca26\"],[1.0,\"#f0f921\"]],\"type\":\"heatmapgl\"}],\"heatmap\":[{\"colorbar\":{\"outlinewidth\":0,\"ticks\":\"\"},\"colorscale\":[[0.0,\"#0d0887\"],[0.1111111111111111,\"#46039f\"],[0.2222222222222222,\"#7201a8\"],[0.3333333333333333,\"#9c179e\"],[0.4444444444444444,\"#bd3786\"],[0.5555555555555556,\"#d8576b\"],[0.6666666666666666,\"#ed7953\"],[0.7777777777777778,\"#fb9f3a\"],[0.8888888888888888,\"#fdca26\"],[1.0,\"#f0f921\"]],\"type\":\"heatmap\"}],\"histogram2dcontour\":[{\"colorbar\":{\"outlinewidth\":0,\"ticks\":\"\"},\"colorscale\":[[0.0,\"#0d0887\"],[0.1111111111111111,\"#46039f\"],[0.2222222222222222,\"#7201a8\"],[0.3333333333333333,\"#9c179e\"],[0.4444444444444444,\"#bd3786\"],[0.5555555555555556,\"#d8576b\"],[0.6666666666666666,\"#ed7953\"],[0.7777777777777778,\"#fb9f3a\"],[0.8888888888888888,\"#fdca26\"],[1.0,\"#f0f921\"]],\"type\":\"histogram2dcontour\"}],\"histogram2d\":[{\"colorbar\":{\"outlinewidth\":0,\"ticks\":\"\"},\"colorscale\":[[0.0,\"#0d0887\"],[0.1111111111111111,\"#46039f\"],[0.2222222222222222,\"#7201a8\"],[0.3333333333333333,\"#9c179e\"],[0.4444444444444444,\"#bd3786\"],[0.5555555555555556,\"#d8576b\"],[0.6666666666666666,\"#ed7953\"],[0.7777777777777778,\"#fb9f3a\"],[0.8888888888888888,\"#fdca26\"],[1.0,\"#f0f921\"]],\"type\":\"histogram2d\"}],\"histogram\":[{\"marker\":{\"pattern\":{\"fillmode\":\"overlay\",\"size\":10,\"solidity\":0.2}},\"type\":\"histogram\"}],\"mesh3d\":[{\"colorbar\":{\"outlinewidth\":0,\"ticks\":\"\"},\"type\":\"mesh3d\"}],\"parcoords\":[{\"line\":{\"colorbar\":{\"outlinewidth\":0,\"ticks\":\"\"}},\"type\":\"parcoords\"}],\"pie\":[{\"automargin\":true,\"type\":\"pie\"}],\"scatter3d\":[{\"line\":{\"colorbar\":{\"outlinewidth\":0,\"ticks\":\"\"}},\"marker\":{\"colorbar\":{\"outlinewidth\":0,\"ticks\":\"\"}},\"type\":\"scatter3d\"}],\"scattercarpet\":[{\"marker\":{\"colorbar\":{\"outlinewidth\":0,\"ticks\":\"\"}},\"type\":\"scattercarpet\"}],\"scattergeo\":[{\"marker\":{\"colorbar\":{\"outlinewidth\":0,\"ticks\":\"\"}},\"type\":\"scattergeo\"}],\"scattergl\":[{\"marker\":{\"colorbar\":{\"outlinewidth\":0,\"ticks\":\"\"}},\"type\":\"scattergl\"}],\"scattermapbox\":[{\"marker\":{\"colorbar\":{\"outlinewidth\":0,\"ticks\":\"\"}},\"type\":\"scattermapbox\"}],\"scatterpolargl\":[{\"marker\":{\"colorbar\":{\"outlinewidth\":0,\"ticks\":\"\"}},\"type\":\"scatterpolargl\"}],\"scatterpolar\":[{\"marker\":{\"colorbar\":{\"outlinewidth\":0,\"ticks\":\"\"}},\"type\":\"scatterpolar\"}],\"scatter\":[{\"fillpattern\":{\"fillmode\":\"overlay\",\"size\":10,\"solidity\":0.2},\"type\":\"scatter\"}],\"scatterternary\":[{\"marker\":{\"colorbar\":{\"outlinewidth\":0,\"ticks\":\"\"}},\"type\":\"scatterternary\"}],\"surface\":[{\"colorbar\":{\"outlinewidth\":0,\"ticks\":\"\"},\"colorscale\":[[0.0,\"#0d0887\"],[0.1111111111111111,\"#46039f\"],[0.2222222222222222,\"#7201a8\"],[0.3333333333333333,\"#9c179e\"],[0.4444444444444444,\"#bd3786\"],[0.5555555555555556,\"#d8576b\"],[0.6666666666666666,\"#ed7953\"],[0.7777777777777778,\"#fb9f3a\"],[0.8888888888888888,\"#fdca26\"],[1.0,\"#f0f921\"]],\"type\":\"surface\"}],\"table\":[{\"cells\":{\"fill\":{\"color\":\"#EBF0F8\"},\"line\":{\"color\":\"white\"}},\"header\":{\"fill\":{\"color\":\"#C8D4E3\"},\"line\":{\"color\":\"white\"}},\"type\":\"table\"}]},\"layout\":{\"annotationdefaults\":{\"arrowcolor\":\"#2a3f5f\",\"arrowhead\":0,\"arrowwidth\":1},\"autotypenumbers\":\"strict\",\"coloraxis\":{\"colorbar\":{\"outlinewidth\":0,\"ticks\":\"\"}},\"colorscale\":{\"diverging\":[[0,\"#8e0152\"],[0.1,\"#c51b7d\"],[0.2,\"#de77ae\"],[0.3,\"#f1b6da\"],[0.4,\"#fde0ef\"],[0.5,\"#f7f7f7\"],[0.6,\"#e6f5d0\"],[0.7,\"#b8e186\"],[0.8,\"#7fbc41\"],[0.9,\"#4d9221\"],[1,\"#276419\"]],\"sequential\":[[0.0,\"#0d0887\"],[0.1111111111111111,\"#46039f\"],[0.2222222222222222,\"#7201a8\"],[0.3333333333333333,\"#9c179e\"],[0.4444444444444444,\"#bd3786\"],[0.5555555555555556,\"#d8576b\"],[0.6666666666666666,\"#ed7953\"],[0.7777777777777778,\"#fb9f3a\"],[0.8888888888888888,\"#fdca26\"],[1.0,\"#f0f921\"]],\"sequentialminus\":[[0.0,\"#0d0887\"],[0.1111111111111111,\"#46039f\"],[0.2222222222222222,\"#7201a8\"],[0.3333333333333333,\"#9c179e\"],[0.4444444444444444,\"#bd3786\"],[0.5555555555555556,\"#d8576b\"],[0.6666666666666666,\"#ed7953\"],[0.7777777777777778,\"#fb9f3a\"],[0.8888888888888888,\"#fdca26\"],[1.0,\"#f0f921\"]]},\"colorway\":[\"#636efa\",\"#EF553B\",\"#00cc96\",\"#ab63fa\",\"#FFA15A\",\"#19d3f3\",\"#FF6692\",\"#B6E880\",\"#FF97FF\",\"#FECB52\"],\"font\":{\"color\":\"#2a3f5f\"},\"geo\":{\"bgcolor\":\"white\",\"lakecolor\":\"white\",\"landcolor\":\"#E5ECF6\",\"showlakes\":true,\"showland\":true,\"subunitcolor\":\"white\"},\"hoverlabel\":{\"align\":\"left\"},\"hovermode\":\"closest\",\"mapbox\":{\"style\":\"light\"},\"paper_bgcolor\":\"white\",\"plot_bgcolor\":\"#E5ECF6\",\"polar\":{\"angularaxis\":{\"gridcolor\":\"white\",\"linecolor\":\"white\",\"ticks\":\"\"},\"bgcolor\":\"#E5ECF6\",\"radialaxis\":{\"gridcolor\":\"white\",\"linecolor\":\"white\",\"ticks\":\"\"}},\"scene\":{\"xaxis\":{\"backgroundcolor\":\"#E5ECF6\",\"gridcolor\":\"white\",\"gridwidth\":2,\"linecolor\":\"white\",\"showbackground\":true,\"ticks\":\"\",\"zerolinecolor\":\"white\"},\"yaxis\":{\"backgroundcolor\":\"#E5ECF6\",\"gridcolor\":\"white\",\"gridwidth\":2,\"linecolor\":\"white\",\"showbackground\":true,\"ticks\":\"\",\"zerolinecolor\":\"white\"},\"zaxis\":{\"backgroundcolor\":\"#E5ECF6\",\"gridcolor\":\"white\",\"gridwidth\":2,\"linecolor\":\"white\",\"showbackground\":true,\"ticks\":\"\",\"zerolinecolor\":\"white\"}},\"shapedefaults\":{\"line\":{\"color\":\"#2a3f5f\"}},\"ternary\":{\"aaxis\":{\"gridcolor\":\"white\",\"linecolor\":\"white\",\"ticks\":\"\"},\"baxis\":{\"gridcolor\":\"white\",\"linecolor\":\"white\",\"ticks\":\"\"},\"bgcolor\":\"#E5ECF6\",\"caxis\":{\"gridcolor\":\"white\",\"linecolor\":\"white\",\"ticks\":\"\"}},\"title\":{\"x\":0.05},\"xaxis\":{\"automargin\":true,\"gridcolor\":\"white\",\"linecolor\":\"white\",\"ticks\":\"\",\"title\":{\"standoff\":15},\"zerolinecolor\":\"white\",\"zerolinewidth\":2},\"yaxis\":{\"automargin\":true,\"gridcolor\":\"white\",\"linecolor\":\"white\",\"ticks\":\"\",\"title\":{\"standoff\":15},\"zerolinecolor\":\"white\",\"zerolinewidth\":2}}},\"title\":{\"font\":{\"color\":\"#4D5663\"},\"text\":\"Top 20 Unigram Words\"},\"xaxis\":{\"gridcolor\":\"#E1E5ED\",\"showgrid\":true,\"tickfont\":{\"color\":\"#4D5663\"},\"title\":{\"font\":{\"color\":\"#4D5663\"},\"text\":\"Unigram\"},\"zerolinecolor\":\"#E1E5ED\"},\"yaxis\":{\"gridcolor\":\"#E1E5ED\",\"showgrid\":true,\"tickfont\":{\"color\":\"#4D5663\"},\"title\":{\"font\":{\"color\":\"#4D5663\"},\"text\":\"Frequency\"},\"zerolinecolor\":\"#E1E5ED\"}},                        {\"showLink\": true, \"linkText\": \"Export to plot.ly\", \"plotlyServerURL\": \"https://plot.ly\", \"responsive\": true}                    ).then(function(){\n",
       "                            \n",
       "var gd = document.getElementById('946c5ad4-2c07-451d-9fb9-1847b54fa115');\n",
       "var x = new MutationObserver(function (mutations, observer) {{\n",
       "        var display = window.getComputedStyle(gd).display;\n",
       "        if (!display || display === 'none') {{\n",
       "            console.log([gd, 'removed!']);\n",
       "            Plotly.purge(gd);\n",
       "            observer.disconnect();\n",
       "        }}\n",
       "}});\n",
       "\n",
       "// Listen for the removal of the full notebook cells\n",
       "var notebookContainer = gd.closest('#notebook-container');\n",
       "if (notebookContainer) {{\n",
       "    x.observe(notebookContainer, {childList: true});\n",
       "}}\n",
       "\n",
       "// Listen for the clearing of the current output cell\n",
       "var outputEl = gd.closest('.output');\n",
       "if (outputEl) {{\n",
       "    x.observe(outputEl, {childList: true});\n",
       "}}\n",
       "\n",
       "                        })                };                });            </script>        </div>"
      ]
     },
     "metadata": {},
     "output_type": "display_data"
    }
   ],
   "source": [
    "words = get_top_n_words(df['text'], 20)\n",
    "dfUni = pd.DataFrame(words, columns = ['Unigram','Frequency'])\n",
    "dfUni = dfUni.set_index('Unigram')\n",
    "dfUni.iplot(kind = 'bar', xTitle='Unigram', yTitle='Frequency', title = 'Top 20 Unigram Words')"
   ]
  },
  {
   "cell_type": "markdown",
   "metadata": {},
   "source": [
    "##### Bigrams without Stop Words"
   ]
  },
  {
   "cell_type": "code",
   "execution_count": 35,
   "metadata": {},
   "outputs": [],
   "source": [
    "def get_top_n_words(x, n):\n",
    "    vec = CountVectorizer(ngram_range=(2,2), stop_words='english').fit(x)\n",
    "    bow = vec.transform(x)\n",
    "    sum_words = bow.sum(axis = 0)\n",
    "    word_freq = [(word, sum_words[0, idx]) for word, idx in vec.vocabulary_.items()]\n",
    "    word_freq = sorted(word_freq, key = lambda x: x[1], reverse = True)\n",
    "    return word_freq[:n]"
   ]
  },
  {
   "cell_type": "code",
   "execution_count": 36,
   "metadata": {},
   "outputs": [
    {
     "data": {
      "application/vnd.plotly.v1+json": {
       "config": {
        "linkText": "Export to plot.ly",
        "plotlyServerURL": "https://plot.ly",
        "showLink": true
       },
       "data": [
        {
         "marker": {
          "color": "rgba(255, 153, 51, 0.6)",
          "line": {
           "color": "rgba(255, 153, 51, 1.0)",
           "width": 1
          }
         },
         "name": "Frequency",
         "orientation": "v",
         "text": "",
         "type": "bar",
         "x": [
          "climate change",
          "global warming",
          "warming climate",
          "change global",
          "change climate",
          "boomer bust",
          "seasonal flu",
          "cause climate",
          "change climatechange",
          "cycles cause",
          "baby boomer",
          "change amp",
          "causing global",
          "global warmingprecession",
          "global tsunamis",
          "causes global",
          "climate climatechange",
          "cause global",
          "carbon dioxide",
          "warming global"
         ],
         "y": [
          321,
          304,
          67,
          57,
          19,
          12,
          12,
          11,
          10,
          10,
          10,
          10,
          9,
          9,
          9,
          9,
          9,
          8,
          8,
          8
         ]
        }
       ],
       "layout": {
        "legend": {
         "bgcolor": "#F5F6F9",
         "font": {
          "color": "#4D5663"
         }
        },
        "paper_bgcolor": "#F5F6F9",
        "plot_bgcolor": "#F5F6F9",
        "template": {
         "data": {
          "bar": [
           {
            "error_x": {
             "color": "#2a3f5f"
            },
            "error_y": {
             "color": "#2a3f5f"
            },
            "marker": {
             "line": {
              "color": "#E5ECF6",
              "width": 0.5
             },
             "pattern": {
              "fillmode": "overlay",
              "size": 10,
              "solidity": 0.2
             }
            },
            "type": "bar"
           }
          ],
          "barpolar": [
           {
            "marker": {
             "line": {
              "color": "#E5ECF6",
              "width": 0.5
             },
             "pattern": {
              "fillmode": "overlay",
              "size": 10,
              "solidity": 0.2
             }
            },
            "type": "barpolar"
           }
          ],
          "carpet": [
           {
            "aaxis": {
             "endlinecolor": "#2a3f5f",
             "gridcolor": "white",
             "linecolor": "white",
             "minorgridcolor": "white",
             "startlinecolor": "#2a3f5f"
            },
            "baxis": {
             "endlinecolor": "#2a3f5f",
             "gridcolor": "white",
             "linecolor": "white",
             "minorgridcolor": "white",
             "startlinecolor": "#2a3f5f"
            },
            "type": "carpet"
           }
          ],
          "choropleth": [
           {
            "colorbar": {
             "outlinewidth": 0,
             "ticks": ""
            },
            "type": "choropleth"
           }
          ],
          "contour": [
           {
            "colorbar": {
             "outlinewidth": 0,
             "ticks": ""
            },
            "colorscale": [
             [
              0,
              "#0d0887"
             ],
             [
              0.1111111111111111,
              "#46039f"
             ],
             [
              0.2222222222222222,
              "#7201a8"
             ],
             [
              0.3333333333333333,
              "#9c179e"
             ],
             [
              0.4444444444444444,
              "#bd3786"
             ],
             [
              0.5555555555555556,
              "#d8576b"
             ],
             [
              0.6666666666666666,
              "#ed7953"
             ],
             [
              0.7777777777777778,
              "#fb9f3a"
             ],
             [
              0.8888888888888888,
              "#fdca26"
             ],
             [
              1,
              "#f0f921"
             ]
            ],
            "type": "contour"
           }
          ],
          "contourcarpet": [
           {
            "colorbar": {
             "outlinewidth": 0,
             "ticks": ""
            },
            "type": "contourcarpet"
           }
          ],
          "heatmap": [
           {
            "colorbar": {
             "outlinewidth": 0,
             "ticks": ""
            },
            "colorscale": [
             [
              0,
              "#0d0887"
             ],
             [
              0.1111111111111111,
              "#46039f"
             ],
             [
              0.2222222222222222,
              "#7201a8"
             ],
             [
              0.3333333333333333,
              "#9c179e"
             ],
             [
              0.4444444444444444,
              "#bd3786"
             ],
             [
              0.5555555555555556,
              "#d8576b"
             ],
             [
              0.6666666666666666,
              "#ed7953"
             ],
             [
              0.7777777777777778,
              "#fb9f3a"
             ],
             [
              0.8888888888888888,
              "#fdca26"
             ],
             [
              1,
              "#f0f921"
             ]
            ],
            "type": "heatmap"
           }
          ],
          "heatmapgl": [
           {
            "colorbar": {
             "outlinewidth": 0,
             "ticks": ""
            },
            "colorscale": [
             [
              0,
              "#0d0887"
             ],
             [
              0.1111111111111111,
              "#46039f"
             ],
             [
              0.2222222222222222,
              "#7201a8"
             ],
             [
              0.3333333333333333,
              "#9c179e"
             ],
             [
              0.4444444444444444,
              "#bd3786"
             ],
             [
              0.5555555555555556,
              "#d8576b"
             ],
             [
              0.6666666666666666,
              "#ed7953"
             ],
             [
              0.7777777777777778,
              "#fb9f3a"
             ],
             [
              0.8888888888888888,
              "#fdca26"
             ],
             [
              1,
              "#f0f921"
             ]
            ],
            "type": "heatmapgl"
           }
          ],
          "histogram": [
           {
            "marker": {
             "pattern": {
              "fillmode": "overlay",
              "size": 10,
              "solidity": 0.2
             }
            },
            "type": "histogram"
           }
          ],
          "histogram2d": [
           {
            "colorbar": {
             "outlinewidth": 0,
             "ticks": ""
            },
            "colorscale": [
             [
              0,
              "#0d0887"
             ],
             [
              0.1111111111111111,
              "#46039f"
             ],
             [
              0.2222222222222222,
              "#7201a8"
             ],
             [
              0.3333333333333333,
              "#9c179e"
             ],
             [
              0.4444444444444444,
              "#bd3786"
             ],
             [
              0.5555555555555556,
              "#d8576b"
             ],
             [
              0.6666666666666666,
              "#ed7953"
             ],
             [
              0.7777777777777778,
              "#fb9f3a"
             ],
             [
              0.8888888888888888,
              "#fdca26"
             ],
             [
              1,
              "#f0f921"
             ]
            ],
            "type": "histogram2d"
           }
          ],
          "histogram2dcontour": [
           {
            "colorbar": {
             "outlinewidth": 0,
             "ticks": ""
            },
            "colorscale": [
             [
              0,
              "#0d0887"
             ],
             [
              0.1111111111111111,
              "#46039f"
             ],
             [
              0.2222222222222222,
              "#7201a8"
             ],
             [
              0.3333333333333333,
              "#9c179e"
             ],
             [
              0.4444444444444444,
              "#bd3786"
             ],
             [
              0.5555555555555556,
              "#d8576b"
             ],
             [
              0.6666666666666666,
              "#ed7953"
             ],
             [
              0.7777777777777778,
              "#fb9f3a"
             ],
             [
              0.8888888888888888,
              "#fdca26"
             ],
             [
              1,
              "#f0f921"
             ]
            ],
            "type": "histogram2dcontour"
           }
          ],
          "mesh3d": [
           {
            "colorbar": {
             "outlinewidth": 0,
             "ticks": ""
            },
            "type": "mesh3d"
           }
          ],
          "parcoords": [
           {
            "line": {
             "colorbar": {
              "outlinewidth": 0,
              "ticks": ""
             }
            },
            "type": "parcoords"
           }
          ],
          "pie": [
           {
            "automargin": true,
            "type": "pie"
           }
          ],
          "scatter": [
           {
            "fillpattern": {
             "fillmode": "overlay",
             "size": 10,
             "solidity": 0.2
            },
            "type": "scatter"
           }
          ],
          "scatter3d": [
           {
            "line": {
             "colorbar": {
              "outlinewidth": 0,
              "ticks": ""
             }
            },
            "marker": {
             "colorbar": {
              "outlinewidth": 0,
              "ticks": ""
             }
            },
            "type": "scatter3d"
           }
          ],
          "scattercarpet": [
           {
            "marker": {
             "colorbar": {
              "outlinewidth": 0,
              "ticks": ""
             }
            },
            "type": "scattercarpet"
           }
          ],
          "scattergeo": [
           {
            "marker": {
             "colorbar": {
              "outlinewidth": 0,
              "ticks": ""
             }
            },
            "type": "scattergeo"
           }
          ],
          "scattergl": [
           {
            "marker": {
             "colorbar": {
              "outlinewidth": 0,
              "ticks": ""
             }
            },
            "type": "scattergl"
           }
          ],
          "scattermapbox": [
           {
            "marker": {
             "colorbar": {
              "outlinewidth": 0,
              "ticks": ""
             }
            },
            "type": "scattermapbox"
           }
          ],
          "scatterpolar": [
           {
            "marker": {
             "colorbar": {
              "outlinewidth": 0,
              "ticks": ""
             }
            },
            "type": "scatterpolar"
           }
          ],
          "scatterpolargl": [
           {
            "marker": {
             "colorbar": {
              "outlinewidth": 0,
              "ticks": ""
             }
            },
            "type": "scatterpolargl"
           }
          ],
          "scatterternary": [
           {
            "marker": {
             "colorbar": {
              "outlinewidth": 0,
              "ticks": ""
             }
            },
            "type": "scatterternary"
           }
          ],
          "surface": [
           {
            "colorbar": {
             "outlinewidth": 0,
             "ticks": ""
            },
            "colorscale": [
             [
              0,
              "#0d0887"
             ],
             [
              0.1111111111111111,
              "#46039f"
             ],
             [
              0.2222222222222222,
              "#7201a8"
             ],
             [
              0.3333333333333333,
              "#9c179e"
             ],
             [
              0.4444444444444444,
              "#bd3786"
             ],
             [
              0.5555555555555556,
              "#d8576b"
             ],
             [
              0.6666666666666666,
              "#ed7953"
             ],
             [
              0.7777777777777778,
              "#fb9f3a"
             ],
             [
              0.8888888888888888,
              "#fdca26"
             ],
             [
              1,
              "#f0f921"
             ]
            ],
            "type": "surface"
           }
          ],
          "table": [
           {
            "cells": {
             "fill": {
              "color": "#EBF0F8"
             },
             "line": {
              "color": "white"
             }
            },
            "header": {
             "fill": {
              "color": "#C8D4E3"
             },
             "line": {
              "color": "white"
             }
            },
            "type": "table"
           }
          ]
         },
         "layout": {
          "annotationdefaults": {
           "arrowcolor": "#2a3f5f",
           "arrowhead": 0,
           "arrowwidth": 1
          },
          "autotypenumbers": "strict",
          "coloraxis": {
           "colorbar": {
            "outlinewidth": 0,
            "ticks": ""
           }
          },
          "colorscale": {
           "diverging": [
            [
             0,
             "#8e0152"
            ],
            [
             0.1,
             "#c51b7d"
            ],
            [
             0.2,
             "#de77ae"
            ],
            [
             0.3,
             "#f1b6da"
            ],
            [
             0.4,
             "#fde0ef"
            ],
            [
             0.5,
             "#f7f7f7"
            ],
            [
             0.6,
             "#e6f5d0"
            ],
            [
             0.7,
             "#b8e186"
            ],
            [
             0.8,
             "#7fbc41"
            ],
            [
             0.9,
             "#4d9221"
            ],
            [
             1,
             "#276419"
            ]
           ],
           "sequential": [
            [
             0,
             "#0d0887"
            ],
            [
             0.1111111111111111,
             "#46039f"
            ],
            [
             0.2222222222222222,
             "#7201a8"
            ],
            [
             0.3333333333333333,
             "#9c179e"
            ],
            [
             0.4444444444444444,
             "#bd3786"
            ],
            [
             0.5555555555555556,
             "#d8576b"
            ],
            [
             0.6666666666666666,
             "#ed7953"
            ],
            [
             0.7777777777777778,
             "#fb9f3a"
            ],
            [
             0.8888888888888888,
             "#fdca26"
            ],
            [
             1,
             "#f0f921"
            ]
           ],
           "sequentialminus": [
            [
             0,
             "#0d0887"
            ],
            [
             0.1111111111111111,
             "#46039f"
            ],
            [
             0.2222222222222222,
             "#7201a8"
            ],
            [
             0.3333333333333333,
             "#9c179e"
            ],
            [
             0.4444444444444444,
             "#bd3786"
            ],
            [
             0.5555555555555556,
             "#d8576b"
            ],
            [
             0.6666666666666666,
             "#ed7953"
            ],
            [
             0.7777777777777778,
             "#fb9f3a"
            ],
            [
             0.8888888888888888,
             "#fdca26"
            ],
            [
             1,
             "#f0f921"
            ]
           ]
          },
          "colorway": [
           "#636efa",
           "#EF553B",
           "#00cc96",
           "#ab63fa",
           "#FFA15A",
           "#19d3f3",
           "#FF6692",
           "#B6E880",
           "#FF97FF",
           "#FECB52"
          ],
          "font": {
           "color": "#2a3f5f"
          },
          "geo": {
           "bgcolor": "white",
           "lakecolor": "white",
           "landcolor": "#E5ECF6",
           "showlakes": true,
           "showland": true,
           "subunitcolor": "white"
          },
          "hoverlabel": {
           "align": "left"
          },
          "hovermode": "closest",
          "mapbox": {
           "style": "light"
          },
          "paper_bgcolor": "white",
          "plot_bgcolor": "#E5ECF6",
          "polar": {
           "angularaxis": {
            "gridcolor": "white",
            "linecolor": "white",
            "ticks": ""
           },
           "bgcolor": "#E5ECF6",
           "radialaxis": {
            "gridcolor": "white",
            "linecolor": "white",
            "ticks": ""
           }
          },
          "scene": {
           "xaxis": {
            "backgroundcolor": "#E5ECF6",
            "gridcolor": "white",
            "gridwidth": 2,
            "linecolor": "white",
            "showbackground": true,
            "ticks": "",
            "zerolinecolor": "white"
           },
           "yaxis": {
            "backgroundcolor": "#E5ECF6",
            "gridcolor": "white",
            "gridwidth": 2,
            "linecolor": "white",
            "showbackground": true,
            "ticks": "",
            "zerolinecolor": "white"
           },
           "zaxis": {
            "backgroundcolor": "#E5ECF6",
            "gridcolor": "white",
            "gridwidth": 2,
            "linecolor": "white",
            "showbackground": true,
            "ticks": "",
            "zerolinecolor": "white"
           }
          },
          "shapedefaults": {
           "line": {
            "color": "#2a3f5f"
           }
          },
          "ternary": {
           "aaxis": {
            "gridcolor": "white",
            "linecolor": "white",
            "ticks": ""
           },
           "baxis": {
            "gridcolor": "white",
            "linecolor": "white",
            "ticks": ""
           },
           "bgcolor": "#E5ECF6",
           "caxis": {
            "gridcolor": "white",
            "linecolor": "white",
            "ticks": ""
           }
          },
          "title": {
           "x": 0.05
          },
          "xaxis": {
           "automargin": true,
           "gridcolor": "white",
           "linecolor": "white",
           "ticks": "",
           "title": {
            "standoff": 15
           },
           "zerolinecolor": "white",
           "zerolinewidth": 2
          },
          "yaxis": {
           "automargin": true,
           "gridcolor": "white",
           "linecolor": "white",
           "ticks": "",
           "title": {
            "standoff": 15
           },
           "zerolinecolor": "white",
           "zerolinewidth": 2
          }
         }
        },
        "title": {
         "font": {
          "color": "#4D5663"
         },
         "text": "Top 20 Bigram Words"
        },
        "xaxis": {
         "gridcolor": "#E1E5ED",
         "showgrid": true,
         "tickfont": {
          "color": "#4D5663"
         },
         "title": {
          "font": {
           "color": "#4D5663"
          },
          "text": "Bigram"
         },
         "zerolinecolor": "#E1E5ED"
        },
        "yaxis": {
         "gridcolor": "#E1E5ED",
         "showgrid": true,
         "tickfont": {
          "color": "#4D5663"
         },
         "title": {
          "font": {
           "color": "#4D5663"
          },
          "text": "Frequency"
         },
         "zerolinecolor": "#E1E5ED"
        }
       }
      },
      "text/html": [
       "<div>                            <div id=\"8d2f8ac0-7918-4d64-a072-d764773695f4\" class=\"plotly-graph-div\" style=\"height:525px; width:100%;\"></div>            <script type=\"text/javascript\">                require([\"plotly\"], function(Plotly) {                    window.PLOTLYENV=window.PLOTLYENV || {};\n",
       "                    window.PLOTLYENV.BASE_URL='https://plot.ly';                                    if (document.getElementById(\"8d2f8ac0-7918-4d64-a072-d764773695f4\")) {                    Plotly.newPlot(                        \"8d2f8ac0-7918-4d64-a072-d764773695f4\",                        [{\"marker\":{\"color\":\"rgba(255, 153, 51, 0.6)\",\"line\":{\"color\":\"rgba(255, 153, 51, 1.0)\",\"width\":1}},\"name\":\"Frequency\",\"orientation\":\"v\",\"text\":\"\",\"x\":[\"climate change\",\"global warming\",\"warming climate\",\"change global\",\"change climate\",\"boomer bust\",\"seasonal flu\",\"cause climate\",\"change climatechange\",\"cycles cause\",\"baby boomer\",\"change amp\",\"causing global\",\"global warmingprecession\",\"global tsunamis\",\"causes global\",\"climate climatechange\",\"cause global\",\"carbon dioxide\",\"warming global\"],\"y\":[321,304,67,57,19,12,12,11,10,10,10,10,9,9,9,9,9,8,8,8],\"type\":\"bar\"}],                        {\"legend\":{\"bgcolor\":\"#F5F6F9\",\"font\":{\"color\":\"#4D5663\"}},\"paper_bgcolor\":\"#F5F6F9\",\"plot_bgcolor\":\"#F5F6F9\",\"template\":{\"data\":{\"barpolar\":[{\"marker\":{\"line\":{\"color\":\"#E5ECF6\",\"width\":0.5},\"pattern\":{\"fillmode\":\"overlay\",\"size\":10,\"solidity\":0.2}},\"type\":\"barpolar\"}],\"bar\":[{\"error_x\":{\"color\":\"#2a3f5f\"},\"error_y\":{\"color\":\"#2a3f5f\"},\"marker\":{\"line\":{\"color\":\"#E5ECF6\",\"width\":0.5},\"pattern\":{\"fillmode\":\"overlay\",\"size\":10,\"solidity\":0.2}},\"type\":\"bar\"}],\"carpet\":[{\"aaxis\":{\"endlinecolor\":\"#2a3f5f\",\"gridcolor\":\"white\",\"linecolor\":\"white\",\"minorgridcolor\":\"white\",\"startlinecolor\":\"#2a3f5f\"},\"baxis\":{\"endlinecolor\":\"#2a3f5f\",\"gridcolor\":\"white\",\"linecolor\":\"white\",\"minorgridcolor\":\"white\",\"startlinecolor\":\"#2a3f5f\"},\"type\":\"carpet\"}],\"choropleth\":[{\"colorbar\":{\"outlinewidth\":0,\"ticks\":\"\"},\"type\":\"choropleth\"}],\"contourcarpet\":[{\"colorbar\":{\"outlinewidth\":0,\"ticks\":\"\"},\"type\":\"contourcarpet\"}],\"contour\":[{\"colorbar\":{\"outlinewidth\":0,\"ticks\":\"\"},\"colorscale\":[[0.0,\"#0d0887\"],[0.1111111111111111,\"#46039f\"],[0.2222222222222222,\"#7201a8\"],[0.3333333333333333,\"#9c179e\"],[0.4444444444444444,\"#bd3786\"],[0.5555555555555556,\"#d8576b\"],[0.6666666666666666,\"#ed7953\"],[0.7777777777777778,\"#fb9f3a\"],[0.8888888888888888,\"#fdca26\"],[1.0,\"#f0f921\"]],\"type\":\"contour\"}],\"heatmapgl\":[{\"colorbar\":{\"outlinewidth\":0,\"ticks\":\"\"},\"colorscale\":[[0.0,\"#0d0887\"],[0.1111111111111111,\"#46039f\"],[0.2222222222222222,\"#7201a8\"],[0.3333333333333333,\"#9c179e\"],[0.4444444444444444,\"#bd3786\"],[0.5555555555555556,\"#d8576b\"],[0.6666666666666666,\"#ed7953\"],[0.7777777777777778,\"#fb9f3a\"],[0.8888888888888888,\"#fdca26\"],[1.0,\"#f0f921\"]],\"type\":\"heatmapgl\"}],\"heatmap\":[{\"colorbar\":{\"outlinewidth\":0,\"ticks\":\"\"},\"colorscale\":[[0.0,\"#0d0887\"],[0.1111111111111111,\"#46039f\"],[0.2222222222222222,\"#7201a8\"],[0.3333333333333333,\"#9c179e\"],[0.4444444444444444,\"#bd3786\"],[0.5555555555555556,\"#d8576b\"],[0.6666666666666666,\"#ed7953\"],[0.7777777777777778,\"#fb9f3a\"],[0.8888888888888888,\"#fdca26\"],[1.0,\"#f0f921\"]],\"type\":\"heatmap\"}],\"histogram2dcontour\":[{\"colorbar\":{\"outlinewidth\":0,\"ticks\":\"\"},\"colorscale\":[[0.0,\"#0d0887\"],[0.1111111111111111,\"#46039f\"],[0.2222222222222222,\"#7201a8\"],[0.3333333333333333,\"#9c179e\"],[0.4444444444444444,\"#bd3786\"],[0.5555555555555556,\"#d8576b\"],[0.6666666666666666,\"#ed7953\"],[0.7777777777777778,\"#fb9f3a\"],[0.8888888888888888,\"#fdca26\"],[1.0,\"#f0f921\"]],\"type\":\"histogram2dcontour\"}],\"histogram2d\":[{\"colorbar\":{\"outlinewidth\":0,\"ticks\":\"\"},\"colorscale\":[[0.0,\"#0d0887\"],[0.1111111111111111,\"#46039f\"],[0.2222222222222222,\"#7201a8\"],[0.3333333333333333,\"#9c179e\"],[0.4444444444444444,\"#bd3786\"],[0.5555555555555556,\"#d8576b\"],[0.6666666666666666,\"#ed7953\"],[0.7777777777777778,\"#fb9f3a\"],[0.8888888888888888,\"#fdca26\"],[1.0,\"#f0f921\"]],\"type\":\"histogram2d\"}],\"histogram\":[{\"marker\":{\"pattern\":{\"fillmode\":\"overlay\",\"size\":10,\"solidity\":0.2}},\"type\":\"histogram\"}],\"mesh3d\":[{\"colorbar\":{\"outlinewidth\":0,\"ticks\":\"\"},\"type\":\"mesh3d\"}],\"parcoords\":[{\"line\":{\"colorbar\":{\"outlinewidth\":0,\"ticks\":\"\"}},\"type\":\"parcoords\"}],\"pie\":[{\"automargin\":true,\"type\":\"pie\"}],\"scatter3d\":[{\"line\":{\"colorbar\":{\"outlinewidth\":0,\"ticks\":\"\"}},\"marker\":{\"colorbar\":{\"outlinewidth\":0,\"ticks\":\"\"}},\"type\":\"scatter3d\"}],\"scattercarpet\":[{\"marker\":{\"colorbar\":{\"outlinewidth\":0,\"ticks\":\"\"}},\"type\":\"scattercarpet\"}],\"scattergeo\":[{\"marker\":{\"colorbar\":{\"outlinewidth\":0,\"ticks\":\"\"}},\"type\":\"scattergeo\"}],\"scattergl\":[{\"marker\":{\"colorbar\":{\"outlinewidth\":0,\"ticks\":\"\"}},\"type\":\"scattergl\"}],\"scattermapbox\":[{\"marker\":{\"colorbar\":{\"outlinewidth\":0,\"ticks\":\"\"}},\"type\":\"scattermapbox\"}],\"scatterpolargl\":[{\"marker\":{\"colorbar\":{\"outlinewidth\":0,\"ticks\":\"\"}},\"type\":\"scatterpolargl\"}],\"scatterpolar\":[{\"marker\":{\"colorbar\":{\"outlinewidth\":0,\"ticks\":\"\"}},\"type\":\"scatterpolar\"}],\"scatter\":[{\"fillpattern\":{\"fillmode\":\"overlay\",\"size\":10,\"solidity\":0.2},\"type\":\"scatter\"}],\"scatterternary\":[{\"marker\":{\"colorbar\":{\"outlinewidth\":0,\"ticks\":\"\"}},\"type\":\"scatterternary\"}],\"surface\":[{\"colorbar\":{\"outlinewidth\":0,\"ticks\":\"\"},\"colorscale\":[[0.0,\"#0d0887\"],[0.1111111111111111,\"#46039f\"],[0.2222222222222222,\"#7201a8\"],[0.3333333333333333,\"#9c179e\"],[0.4444444444444444,\"#bd3786\"],[0.5555555555555556,\"#d8576b\"],[0.6666666666666666,\"#ed7953\"],[0.7777777777777778,\"#fb9f3a\"],[0.8888888888888888,\"#fdca26\"],[1.0,\"#f0f921\"]],\"type\":\"surface\"}],\"table\":[{\"cells\":{\"fill\":{\"color\":\"#EBF0F8\"},\"line\":{\"color\":\"white\"}},\"header\":{\"fill\":{\"color\":\"#C8D4E3\"},\"line\":{\"color\":\"white\"}},\"type\":\"table\"}]},\"layout\":{\"annotationdefaults\":{\"arrowcolor\":\"#2a3f5f\",\"arrowhead\":0,\"arrowwidth\":1},\"autotypenumbers\":\"strict\",\"coloraxis\":{\"colorbar\":{\"outlinewidth\":0,\"ticks\":\"\"}},\"colorscale\":{\"diverging\":[[0,\"#8e0152\"],[0.1,\"#c51b7d\"],[0.2,\"#de77ae\"],[0.3,\"#f1b6da\"],[0.4,\"#fde0ef\"],[0.5,\"#f7f7f7\"],[0.6,\"#e6f5d0\"],[0.7,\"#b8e186\"],[0.8,\"#7fbc41\"],[0.9,\"#4d9221\"],[1,\"#276419\"]],\"sequential\":[[0.0,\"#0d0887\"],[0.1111111111111111,\"#46039f\"],[0.2222222222222222,\"#7201a8\"],[0.3333333333333333,\"#9c179e\"],[0.4444444444444444,\"#bd3786\"],[0.5555555555555556,\"#d8576b\"],[0.6666666666666666,\"#ed7953\"],[0.7777777777777778,\"#fb9f3a\"],[0.8888888888888888,\"#fdca26\"],[1.0,\"#f0f921\"]],\"sequentialminus\":[[0.0,\"#0d0887\"],[0.1111111111111111,\"#46039f\"],[0.2222222222222222,\"#7201a8\"],[0.3333333333333333,\"#9c179e\"],[0.4444444444444444,\"#bd3786\"],[0.5555555555555556,\"#d8576b\"],[0.6666666666666666,\"#ed7953\"],[0.7777777777777778,\"#fb9f3a\"],[0.8888888888888888,\"#fdca26\"],[1.0,\"#f0f921\"]]},\"colorway\":[\"#636efa\",\"#EF553B\",\"#00cc96\",\"#ab63fa\",\"#FFA15A\",\"#19d3f3\",\"#FF6692\",\"#B6E880\",\"#FF97FF\",\"#FECB52\"],\"font\":{\"color\":\"#2a3f5f\"},\"geo\":{\"bgcolor\":\"white\",\"lakecolor\":\"white\",\"landcolor\":\"#E5ECF6\",\"showlakes\":true,\"showland\":true,\"subunitcolor\":\"white\"},\"hoverlabel\":{\"align\":\"left\"},\"hovermode\":\"closest\",\"mapbox\":{\"style\":\"light\"},\"paper_bgcolor\":\"white\",\"plot_bgcolor\":\"#E5ECF6\",\"polar\":{\"angularaxis\":{\"gridcolor\":\"white\",\"linecolor\":\"white\",\"ticks\":\"\"},\"bgcolor\":\"#E5ECF6\",\"radialaxis\":{\"gridcolor\":\"white\",\"linecolor\":\"white\",\"ticks\":\"\"}},\"scene\":{\"xaxis\":{\"backgroundcolor\":\"#E5ECF6\",\"gridcolor\":\"white\",\"gridwidth\":2,\"linecolor\":\"white\",\"showbackground\":true,\"ticks\":\"\",\"zerolinecolor\":\"white\"},\"yaxis\":{\"backgroundcolor\":\"#E5ECF6\",\"gridcolor\":\"white\",\"gridwidth\":2,\"linecolor\":\"white\",\"showbackground\":true,\"ticks\":\"\",\"zerolinecolor\":\"white\"},\"zaxis\":{\"backgroundcolor\":\"#E5ECF6\",\"gridcolor\":\"white\",\"gridwidth\":2,\"linecolor\":\"white\",\"showbackground\":true,\"ticks\":\"\",\"zerolinecolor\":\"white\"}},\"shapedefaults\":{\"line\":{\"color\":\"#2a3f5f\"}},\"ternary\":{\"aaxis\":{\"gridcolor\":\"white\",\"linecolor\":\"white\",\"ticks\":\"\"},\"baxis\":{\"gridcolor\":\"white\",\"linecolor\":\"white\",\"ticks\":\"\"},\"bgcolor\":\"#E5ECF6\",\"caxis\":{\"gridcolor\":\"white\",\"linecolor\":\"white\",\"ticks\":\"\"}},\"title\":{\"x\":0.05},\"xaxis\":{\"automargin\":true,\"gridcolor\":\"white\",\"linecolor\":\"white\",\"ticks\":\"\",\"title\":{\"standoff\":15},\"zerolinecolor\":\"white\",\"zerolinewidth\":2},\"yaxis\":{\"automargin\":true,\"gridcolor\":\"white\",\"linecolor\":\"white\",\"ticks\":\"\",\"title\":{\"standoff\":15},\"zerolinecolor\":\"white\",\"zerolinewidth\":2}}},\"title\":{\"font\":{\"color\":\"#4D5663\"},\"text\":\"Top 20 Bigram Words\"},\"xaxis\":{\"gridcolor\":\"#E1E5ED\",\"showgrid\":true,\"tickfont\":{\"color\":\"#4D5663\"},\"title\":{\"font\":{\"color\":\"#4D5663\"},\"text\":\"Bigram\"},\"zerolinecolor\":\"#E1E5ED\"},\"yaxis\":{\"gridcolor\":\"#E1E5ED\",\"showgrid\":true,\"tickfont\":{\"color\":\"#4D5663\"},\"title\":{\"font\":{\"color\":\"#4D5663\"},\"text\":\"Frequency\"},\"zerolinecolor\":\"#E1E5ED\"}},                        {\"showLink\": true, \"linkText\": \"Export to plot.ly\", \"plotlyServerURL\": \"https://plot.ly\", \"responsive\": true}                    ).then(function(){\n",
       "                            \n",
       "var gd = document.getElementById('8d2f8ac0-7918-4d64-a072-d764773695f4');\n",
       "var x = new MutationObserver(function (mutations, observer) {{\n",
       "        var display = window.getComputedStyle(gd).display;\n",
       "        if (!display || display === 'none') {{\n",
       "            console.log([gd, 'removed!']);\n",
       "            Plotly.purge(gd);\n",
       "            observer.disconnect();\n",
       "        }}\n",
       "}});\n",
       "\n",
       "// Listen for the removal of the full notebook cells\n",
       "var notebookContainer = gd.closest('#notebook-container');\n",
       "if (notebookContainer) {{\n",
       "    x.observe(notebookContainer, {childList: true});\n",
       "}}\n",
       "\n",
       "// Listen for the clearing of the current output cell\n",
       "var outputEl = gd.closest('.output');\n",
       "if (outputEl) {{\n",
       "    x.observe(outputEl, {childList: true});\n",
       "}}\n",
       "\n",
       "                        })                };                });            </script>        </div>"
      ]
     },
     "metadata": {},
     "output_type": "display_data"
    }
   ],
   "source": [
    "words = get_top_n_words(df['text'], 20)\n",
    "dfBi = pd.DataFrame(words, columns = ['Bigram','Frequency'])\n",
    "dfBi = dfBi.set_index('Bigram')\n",
    "dfBi.iplot(kind = 'bar', xTitle='Bigram', yTitle='Frequency', title = 'Top 20 Bigram Words')"
   ]
  },
  {
   "cell_type": "markdown",
   "metadata": {},
   "source": [
    "##### Trigrams without Stop Words"
   ]
  },
  {
   "cell_type": "code",
   "execution_count": 37,
   "metadata": {},
   "outputs": [],
   "source": [
    "def get_top_n_words(x, n):\n",
    "    vec = CountVectorizer(ngram_range=(3,3), stop_words='english').fit(x)\n",
    "    bow = vec.transform(x)\n",
    "    sum_words = bow.sum(axis = 0)\n",
    "    word_freq = [(word, sum_words[0, idx]) for word, idx in vec.vocabulary_.items()]\n",
    "    word_freq = sorted(word_freq, key = lambda x: x[1], reverse = True)\n",
    "    return word_freq[:n]"
   ]
  },
  {
   "cell_type": "code",
   "execution_count": 38,
   "metadata": {},
   "outputs": [
    {
     "data": {
      "application/vnd.plotly.v1+json": {
       "config": {
        "linkText": "Export to plot.ly",
        "plotlyServerURL": "https://plot.ly",
        "showLink": true
       },
       "data": [
        {
         "marker": {
          "color": "rgba(255, 153, 51, 0.6)",
          "line": {
           "color": "rgba(255, 153, 51, 1.0)",
           "width": 1
          }
         },
         "name": "Frequency",
         "orientation": "v",
         "text": "",
         "type": "bar",
         "x": [
          "global warming climate",
          "climate change global",
          "warming climate change",
          "change global warming",
          "cycles cause climate",
          "baby boomer bust",
          "climate change climatechange",
          "climate change amp",
          "change amp global",
          "amp global warming",
          "co2 global warming",
          "boomer bust seasonal",
          "bust seasonal flu",
          "cause climate change",
          "global warming global",
          "11th hour earth",
          "global tsunamis vernal",
          "milankovitch cycles cause",
          "fight climate change",
          "climate change climate"
         ],
         "y": [
          61,
          55,
          50,
          50,
          10,
          10,
          9,
          9,
          8,
          8,
          7,
          7,
          7,
          7,
          7,
          6,
          6,
          6,
          6,
          6
         ]
        }
       ],
       "layout": {
        "legend": {
         "bgcolor": "#F5F6F9",
         "font": {
          "color": "#4D5663"
         }
        },
        "paper_bgcolor": "#F5F6F9",
        "plot_bgcolor": "#F5F6F9",
        "template": {
         "data": {
          "bar": [
           {
            "error_x": {
             "color": "#2a3f5f"
            },
            "error_y": {
             "color": "#2a3f5f"
            },
            "marker": {
             "line": {
              "color": "#E5ECF6",
              "width": 0.5
             },
             "pattern": {
              "fillmode": "overlay",
              "size": 10,
              "solidity": 0.2
             }
            },
            "type": "bar"
           }
          ],
          "barpolar": [
           {
            "marker": {
             "line": {
              "color": "#E5ECF6",
              "width": 0.5
             },
             "pattern": {
              "fillmode": "overlay",
              "size": 10,
              "solidity": 0.2
             }
            },
            "type": "barpolar"
           }
          ],
          "carpet": [
           {
            "aaxis": {
             "endlinecolor": "#2a3f5f",
             "gridcolor": "white",
             "linecolor": "white",
             "minorgridcolor": "white",
             "startlinecolor": "#2a3f5f"
            },
            "baxis": {
             "endlinecolor": "#2a3f5f",
             "gridcolor": "white",
             "linecolor": "white",
             "minorgridcolor": "white",
             "startlinecolor": "#2a3f5f"
            },
            "type": "carpet"
           }
          ],
          "choropleth": [
           {
            "colorbar": {
             "outlinewidth": 0,
             "ticks": ""
            },
            "type": "choropleth"
           }
          ],
          "contour": [
           {
            "colorbar": {
             "outlinewidth": 0,
             "ticks": ""
            },
            "colorscale": [
             [
              0,
              "#0d0887"
             ],
             [
              0.1111111111111111,
              "#46039f"
             ],
             [
              0.2222222222222222,
              "#7201a8"
             ],
             [
              0.3333333333333333,
              "#9c179e"
             ],
             [
              0.4444444444444444,
              "#bd3786"
             ],
             [
              0.5555555555555556,
              "#d8576b"
             ],
             [
              0.6666666666666666,
              "#ed7953"
             ],
             [
              0.7777777777777778,
              "#fb9f3a"
             ],
             [
              0.8888888888888888,
              "#fdca26"
             ],
             [
              1,
              "#f0f921"
             ]
            ],
            "type": "contour"
           }
          ],
          "contourcarpet": [
           {
            "colorbar": {
             "outlinewidth": 0,
             "ticks": ""
            },
            "type": "contourcarpet"
           }
          ],
          "heatmap": [
           {
            "colorbar": {
             "outlinewidth": 0,
             "ticks": ""
            },
            "colorscale": [
             [
              0,
              "#0d0887"
             ],
             [
              0.1111111111111111,
              "#46039f"
             ],
             [
              0.2222222222222222,
              "#7201a8"
             ],
             [
              0.3333333333333333,
              "#9c179e"
             ],
             [
              0.4444444444444444,
              "#bd3786"
             ],
             [
              0.5555555555555556,
              "#d8576b"
             ],
             [
              0.6666666666666666,
              "#ed7953"
             ],
             [
              0.7777777777777778,
              "#fb9f3a"
             ],
             [
              0.8888888888888888,
              "#fdca26"
             ],
             [
              1,
              "#f0f921"
             ]
            ],
            "type": "heatmap"
           }
          ],
          "heatmapgl": [
           {
            "colorbar": {
             "outlinewidth": 0,
             "ticks": ""
            },
            "colorscale": [
             [
              0,
              "#0d0887"
             ],
             [
              0.1111111111111111,
              "#46039f"
             ],
             [
              0.2222222222222222,
              "#7201a8"
             ],
             [
              0.3333333333333333,
              "#9c179e"
             ],
             [
              0.4444444444444444,
              "#bd3786"
             ],
             [
              0.5555555555555556,
              "#d8576b"
             ],
             [
              0.6666666666666666,
              "#ed7953"
             ],
             [
              0.7777777777777778,
              "#fb9f3a"
             ],
             [
              0.8888888888888888,
              "#fdca26"
             ],
             [
              1,
              "#f0f921"
             ]
            ],
            "type": "heatmapgl"
           }
          ],
          "histogram": [
           {
            "marker": {
             "pattern": {
              "fillmode": "overlay",
              "size": 10,
              "solidity": 0.2
             }
            },
            "type": "histogram"
           }
          ],
          "histogram2d": [
           {
            "colorbar": {
             "outlinewidth": 0,
             "ticks": ""
            },
            "colorscale": [
             [
              0,
              "#0d0887"
             ],
             [
              0.1111111111111111,
              "#46039f"
             ],
             [
              0.2222222222222222,
              "#7201a8"
             ],
             [
              0.3333333333333333,
              "#9c179e"
             ],
             [
              0.4444444444444444,
              "#bd3786"
             ],
             [
              0.5555555555555556,
              "#d8576b"
             ],
             [
              0.6666666666666666,
              "#ed7953"
             ],
             [
              0.7777777777777778,
              "#fb9f3a"
             ],
             [
              0.8888888888888888,
              "#fdca26"
             ],
             [
              1,
              "#f0f921"
             ]
            ],
            "type": "histogram2d"
           }
          ],
          "histogram2dcontour": [
           {
            "colorbar": {
             "outlinewidth": 0,
             "ticks": ""
            },
            "colorscale": [
             [
              0,
              "#0d0887"
             ],
             [
              0.1111111111111111,
              "#46039f"
             ],
             [
              0.2222222222222222,
              "#7201a8"
             ],
             [
              0.3333333333333333,
              "#9c179e"
             ],
             [
              0.4444444444444444,
              "#bd3786"
             ],
             [
              0.5555555555555556,
              "#d8576b"
             ],
             [
              0.6666666666666666,
              "#ed7953"
             ],
             [
              0.7777777777777778,
              "#fb9f3a"
             ],
             [
              0.8888888888888888,
              "#fdca26"
             ],
             [
              1,
              "#f0f921"
             ]
            ],
            "type": "histogram2dcontour"
           }
          ],
          "mesh3d": [
           {
            "colorbar": {
             "outlinewidth": 0,
             "ticks": ""
            },
            "type": "mesh3d"
           }
          ],
          "parcoords": [
           {
            "line": {
             "colorbar": {
              "outlinewidth": 0,
              "ticks": ""
             }
            },
            "type": "parcoords"
           }
          ],
          "pie": [
           {
            "automargin": true,
            "type": "pie"
           }
          ],
          "scatter": [
           {
            "fillpattern": {
             "fillmode": "overlay",
             "size": 10,
             "solidity": 0.2
            },
            "type": "scatter"
           }
          ],
          "scatter3d": [
           {
            "line": {
             "colorbar": {
              "outlinewidth": 0,
              "ticks": ""
             }
            },
            "marker": {
             "colorbar": {
              "outlinewidth": 0,
              "ticks": ""
             }
            },
            "type": "scatter3d"
           }
          ],
          "scattercarpet": [
           {
            "marker": {
             "colorbar": {
              "outlinewidth": 0,
              "ticks": ""
             }
            },
            "type": "scattercarpet"
           }
          ],
          "scattergeo": [
           {
            "marker": {
             "colorbar": {
              "outlinewidth": 0,
              "ticks": ""
             }
            },
            "type": "scattergeo"
           }
          ],
          "scattergl": [
           {
            "marker": {
             "colorbar": {
              "outlinewidth": 0,
              "ticks": ""
             }
            },
            "type": "scattergl"
           }
          ],
          "scattermapbox": [
           {
            "marker": {
             "colorbar": {
              "outlinewidth": 0,
              "ticks": ""
             }
            },
            "type": "scattermapbox"
           }
          ],
          "scatterpolar": [
           {
            "marker": {
             "colorbar": {
              "outlinewidth": 0,
              "ticks": ""
             }
            },
            "type": "scatterpolar"
           }
          ],
          "scatterpolargl": [
           {
            "marker": {
             "colorbar": {
              "outlinewidth": 0,
              "ticks": ""
             }
            },
            "type": "scatterpolargl"
           }
          ],
          "scatterternary": [
           {
            "marker": {
             "colorbar": {
              "outlinewidth": 0,
              "ticks": ""
             }
            },
            "type": "scatterternary"
           }
          ],
          "surface": [
           {
            "colorbar": {
             "outlinewidth": 0,
             "ticks": ""
            },
            "colorscale": [
             [
              0,
              "#0d0887"
             ],
             [
              0.1111111111111111,
              "#46039f"
             ],
             [
              0.2222222222222222,
              "#7201a8"
             ],
             [
              0.3333333333333333,
              "#9c179e"
             ],
             [
              0.4444444444444444,
              "#bd3786"
             ],
             [
              0.5555555555555556,
              "#d8576b"
             ],
             [
              0.6666666666666666,
              "#ed7953"
             ],
             [
              0.7777777777777778,
              "#fb9f3a"
             ],
             [
              0.8888888888888888,
              "#fdca26"
             ],
             [
              1,
              "#f0f921"
             ]
            ],
            "type": "surface"
           }
          ],
          "table": [
           {
            "cells": {
             "fill": {
              "color": "#EBF0F8"
             },
             "line": {
              "color": "white"
             }
            },
            "header": {
             "fill": {
              "color": "#C8D4E3"
             },
             "line": {
              "color": "white"
             }
            },
            "type": "table"
           }
          ]
         },
         "layout": {
          "annotationdefaults": {
           "arrowcolor": "#2a3f5f",
           "arrowhead": 0,
           "arrowwidth": 1
          },
          "autotypenumbers": "strict",
          "coloraxis": {
           "colorbar": {
            "outlinewidth": 0,
            "ticks": ""
           }
          },
          "colorscale": {
           "diverging": [
            [
             0,
             "#8e0152"
            ],
            [
             0.1,
             "#c51b7d"
            ],
            [
             0.2,
             "#de77ae"
            ],
            [
             0.3,
             "#f1b6da"
            ],
            [
             0.4,
             "#fde0ef"
            ],
            [
             0.5,
             "#f7f7f7"
            ],
            [
             0.6,
             "#e6f5d0"
            ],
            [
             0.7,
             "#b8e186"
            ],
            [
             0.8,
             "#7fbc41"
            ],
            [
             0.9,
             "#4d9221"
            ],
            [
             1,
             "#276419"
            ]
           ],
           "sequential": [
            [
             0,
             "#0d0887"
            ],
            [
             0.1111111111111111,
             "#46039f"
            ],
            [
             0.2222222222222222,
             "#7201a8"
            ],
            [
             0.3333333333333333,
             "#9c179e"
            ],
            [
             0.4444444444444444,
             "#bd3786"
            ],
            [
             0.5555555555555556,
             "#d8576b"
            ],
            [
             0.6666666666666666,
             "#ed7953"
            ],
            [
             0.7777777777777778,
             "#fb9f3a"
            ],
            [
             0.8888888888888888,
             "#fdca26"
            ],
            [
             1,
             "#f0f921"
            ]
           ],
           "sequentialminus": [
            [
             0,
             "#0d0887"
            ],
            [
             0.1111111111111111,
             "#46039f"
            ],
            [
             0.2222222222222222,
             "#7201a8"
            ],
            [
             0.3333333333333333,
             "#9c179e"
            ],
            [
             0.4444444444444444,
             "#bd3786"
            ],
            [
             0.5555555555555556,
             "#d8576b"
            ],
            [
             0.6666666666666666,
             "#ed7953"
            ],
            [
             0.7777777777777778,
             "#fb9f3a"
            ],
            [
             0.8888888888888888,
             "#fdca26"
            ],
            [
             1,
             "#f0f921"
            ]
           ]
          },
          "colorway": [
           "#636efa",
           "#EF553B",
           "#00cc96",
           "#ab63fa",
           "#FFA15A",
           "#19d3f3",
           "#FF6692",
           "#B6E880",
           "#FF97FF",
           "#FECB52"
          ],
          "font": {
           "color": "#2a3f5f"
          },
          "geo": {
           "bgcolor": "white",
           "lakecolor": "white",
           "landcolor": "#E5ECF6",
           "showlakes": true,
           "showland": true,
           "subunitcolor": "white"
          },
          "hoverlabel": {
           "align": "left"
          },
          "hovermode": "closest",
          "mapbox": {
           "style": "light"
          },
          "paper_bgcolor": "white",
          "plot_bgcolor": "#E5ECF6",
          "polar": {
           "angularaxis": {
            "gridcolor": "white",
            "linecolor": "white",
            "ticks": ""
           },
           "bgcolor": "#E5ECF6",
           "radialaxis": {
            "gridcolor": "white",
            "linecolor": "white",
            "ticks": ""
           }
          },
          "scene": {
           "xaxis": {
            "backgroundcolor": "#E5ECF6",
            "gridcolor": "white",
            "gridwidth": 2,
            "linecolor": "white",
            "showbackground": true,
            "ticks": "",
            "zerolinecolor": "white"
           },
           "yaxis": {
            "backgroundcolor": "#E5ECF6",
            "gridcolor": "white",
            "gridwidth": 2,
            "linecolor": "white",
            "showbackground": true,
            "ticks": "",
            "zerolinecolor": "white"
           },
           "zaxis": {
            "backgroundcolor": "#E5ECF6",
            "gridcolor": "white",
            "gridwidth": 2,
            "linecolor": "white",
            "showbackground": true,
            "ticks": "",
            "zerolinecolor": "white"
           }
          },
          "shapedefaults": {
           "line": {
            "color": "#2a3f5f"
           }
          },
          "ternary": {
           "aaxis": {
            "gridcolor": "white",
            "linecolor": "white",
            "ticks": ""
           },
           "baxis": {
            "gridcolor": "white",
            "linecolor": "white",
            "ticks": ""
           },
           "bgcolor": "#E5ECF6",
           "caxis": {
            "gridcolor": "white",
            "linecolor": "white",
            "ticks": ""
           }
          },
          "title": {
           "x": 0.05
          },
          "xaxis": {
           "automargin": true,
           "gridcolor": "white",
           "linecolor": "white",
           "ticks": "",
           "title": {
            "standoff": 15
           },
           "zerolinecolor": "white",
           "zerolinewidth": 2
          },
          "yaxis": {
           "automargin": true,
           "gridcolor": "white",
           "linecolor": "white",
           "ticks": "",
           "title": {
            "standoff": 15
           },
           "zerolinecolor": "white",
           "zerolinewidth": 2
          }
         }
        },
        "title": {
         "font": {
          "color": "#4D5663"
         },
         "text": "Top 20 Trigram Words"
        },
        "xaxis": {
         "gridcolor": "#E1E5ED",
         "showgrid": true,
         "tickfont": {
          "color": "#4D5663"
         },
         "title": {
          "font": {
           "color": "#4D5663"
          },
          "text": "Trigram"
         },
         "zerolinecolor": "#E1E5ED"
        },
        "yaxis": {
         "gridcolor": "#E1E5ED",
         "showgrid": true,
         "tickfont": {
          "color": "#4D5663"
         },
         "title": {
          "font": {
           "color": "#4D5663"
          },
          "text": "Frequency"
         },
         "zerolinecolor": "#E1E5ED"
        }
       }
      },
      "text/html": [
       "<div>                            <div id=\"764efd70-b7c5-4d4f-ae57-c9cc34aafac9\" class=\"plotly-graph-div\" style=\"height:525px; width:100%;\"></div>            <script type=\"text/javascript\">                require([\"plotly\"], function(Plotly) {                    window.PLOTLYENV=window.PLOTLYENV || {};\n",
       "                    window.PLOTLYENV.BASE_URL='https://plot.ly';                                    if (document.getElementById(\"764efd70-b7c5-4d4f-ae57-c9cc34aafac9\")) {                    Plotly.newPlot(                        \"764efd70-b7c5-4d4f-ae57-c9cc34aafac9\",                        [{\"marker\":{\"color\":\"rgba(255, 153, 51, 0.6)\",\"line\":{\"color\":\"rgba(255, 153, 51, 1.0)\",\"width\":1}},\"name\":\"Frequency\",\"orientation\":\"v\",\"text\":\"\",\"x\":[\"global warming climate\",\"climate change global\",\"warming climate change\",\"change global warming\",\"cycles cause climate\",\"baby boomer bust\",\"climate change climatechange\",\"climate change amp\",\"change amp global\",\"amp global warming\",\"co2 global warming\",\"boomer bust seasonal\",\"bust seasonal flu\",\"cause climate change\",\"global warming global\",\"11th hour earth\",\"global tsunamis vernal\",\"milankovitch cycles cause\",\"fight climate change\",\"climate change climate\"],\"y\":[61,55,50,50,10,10,9,9,8,8,7,7,7,7,7,6,6,6,6,6],\"type\":\"bar\"}],                        {\"legend\":{\"bgcolor\":\"#F5F6F9\",\"font\":{\"color\":\"#4D5663\"}},\"paper_bgcolor\":\"#F5F6F9\",\"plot_bgcolor\":\"#F5F6F9\",\"template\":{\"data\":{\"barpolar\":[{\"marker\":{\"line\":{\"color\":\"#E5ECF6\",\"width\":0.5},\"pattern\":{\"fillmode\":\"overlay\",\"size\":10,\"solidity\":0.2}},\"type\":\"barpolar\"}],\"bar\":[{\"error_x\":{\"color\":\"#2a3f5f\"},\"error_y\":{\"color\":\"#2a3f5f\"},\"marker\":{\"line\":{\"color\":\"#E5ECF6\",\"width\":0.5},\"pattern\":{\"fillmode\":\"overlay\",\"size\":10,\"solidity\":0.2}},\"type\":\"bar\"}],\"carpet\":[{\"aaxis\":{\"endlinecolor\":\"#2a3f5f\",\"gridcolor\":\"white\",\"linecolor\":\"white\",\"minorgridcolor\":\"white\",\"startlinecolor\":\"#2a3f5f\"},\"baxis\":{\"endlinecolor\":\"#2a3f5f\",\"gridcolor\":\"white\",\"linecolor\":\"white\",\"minorgridcolor\":\"white\",\"startlinecolor\":\"#2a3f5f\"},\"type\":\"carpet\"}],\"choropleth\":[{\"colorbar\":{\"outlinewidth\":0,\"ticks\":\"\"},\"type\":\"choropleth\"}],\"contourcarpet\":[{\"colorbar\":{\"outlinewidth\":0,\"ticks\":\"\"},\"type\":\"contourcarpet\"}],\"contour\":[{\"colorbar\":{\"outlinewidth\":0,\"ticks\":\"\"},\"colorscale\":[[0.0,\"#0d0887\"],[0.1111111111111111,\"#46039f\"],[0.2222222222222222,\"#7201a8\"],[0.3333333333333333,\"#9c179e\"],[0.4444444444444444,\"#bd3786\"],[0.5555555555555556,\"#d8576b\"],[0.6666666666666666,\"#ed7953\"],[0.7777777777777778,\"#fb9f3a\"],[0.8888888888888888,\"#fdca26\"],[1.0,\"#f0f921\"]],\"type\":\"contour\"}],\"heatmapgl\":[{\"colorbar\":{\"outlinewidth\":0,\"ticks\":\"\"},\"colorscale\":[[0.0,\"#0d0887\"],[0.1111111111111111,\"#46039f\"],[0.2222222222222222,\"#7201a8\"],[0.3333333333333333,\"#9c179e\"],[0.4444444444444444,\"#bd3786\"],[0.5555555555555556,\"#d8576b\"],[0.6666666666666666,\"#ed7953\"],[0.7777777777777778,\"#fb9f3a\"],[0.8888888888888888,\"#fdca26\"],[1.0,\"#f0f921\"]],\"type\":\"heatmapgl\"}],\"heatmap\":[{\"colorbar\":{\"outlinewidth\":0,\"ticks\":\"\"},\"colorscale\":[[0.0,\"#0d0887\"],[0.1111111111111111,\"#46039f\"],[0.2222222222222222,\"#7201a8\"],[0.3333333333333333,\"#9c179e\"],[0.4444444444444444,\"#bd3786\"],[0.5555555555555556,\"#d8576b\"],[0.6666666666666666,\"#ed7953\"],[0.7777777777777778,\"#fb9f3a\"],[0.8888888888888888,\"#fdca26\"],[1.0,\"#f0f921\"]],\"type\":\"heatmap\"}],\"histogram2dcontour\":[{\"colorbar\":{\"outlinewidth\":0,\"ticks\":\"\"},\"colorscale\":[[0.0,\"#0d0887\"],[0.1111111111111111,\"#46039f\"],[0.2222222222222222,\"#7201a8\"],[0.3333333333333333,\"#9c179e\"],[0.4444444444444444,\"#bd3786\"],[0.5555555555555556,\"#d8576b\"],[0.6666666666666666,\"#ed7953\"],[0.7777777777777778,\"#fb9f3a\"],[0.8888888888888888,\"#fdca26\"],[1.0,\"#f0f921\"]],\"type\":\"histogram2dcontour\"}],\"histogram2d\":[{\"colorbar\":{\"outlinewidth\":0,\"ticks\":\"\"},\"colorscale\":[[0.0,\"#0d0887\"],[0.1111111111111111,\"#46039f\"],[0.2222222222222222,\"#7201a8\"],[0.3333333333333333,\"#9c179e\"],[0.4444444444444444,\"#bd3786\"],[0.5555555555555556,\"#d8576b\"],[0.6666666666666666,\"#ed7953\"],[0.7777777777777778,\"#fb9f3a\"],[0.8888888888888888,\"#fdca26\"],[1.0,\"#f0f921\"]],\"type\":\"histogram2d\"}],\"histogram\":[{\"marker\":{\"pattern\":{\"fillmode\":\"overlay\",\"size\":10,\"solidity\":0.2}},\"type\":\"histogram\"}],\"mesh3d\":[{\"colorbar\":{\"outlinewidth\":0,\"ticks\":\"\"},\"type\":\"mesh3d\"}],\"parcoords\":[{\"line\":{\"colorbar\":{\"outlinewidth\":0,\"ticks\":\"\"}},\"type\":\"parcoords\"}],\"pie\":[{\"automargin\":true,\"type\":\"pie\"}],\"scatter3d\":[{\"line\":{\"colorbar\":{\"outlinewidth\":0,\"ticks\":\"\"}},\"marker\":{\"colorbar\":{\"outlinewidth\":0,\"ticks\":\"\"}},\"type\":\"scatter3d\"}],\"scattercarpet\":[{\"marker\":{\"colorbar\":{\"outlinewidth\":0,\"ticks\":\"\"}},\"type\":\"scattercarpet\"}],\"scattergeo\":[{\"marker\":{\"colorbar\":{\"outlinewidth\":0,\"ticks\":\"\"}},\"type\":\"scattergeo\"}],\"scattergl\":[{\"marker\":{\"colorbar\":{\"outlinewidth\":0,\"ticks\":\"\"}},\"type\":\"scattergl\"}],\"scattermapbox\":[{\"marker\":{\"colorbar\":{\"outlinewidth\":0,\"ticks\":\"\"}},\"type\":\"scattermapbox\"}],\"scatterpolargl\":[{\"marker\":{\"colorbar\":{\"outlinewidth\":0,\"ticks\":\"\"}},\"type\":\"scatterpolargl\"}],\"scatterpolar\":[{\"marker\":{\"colorbar\":{\"outlinewidth\":0,\"ticks\":\"\"}},\"type\":\"scatterpolar\"}],\"scatter\":[{\"fillpattern\":{\"fillmode\":\"overlay\",\"size\":10,\"solidity\":0.2},\"type\":\"scatter\"}],\"scatterternary\":[{\"marker\":{\"colorbar\":{\"outlinewidth\":0,\"ticks\":\"\"}},\"type\":\"scatterternary\"}],\"surface\":[{\"colorbar\":{\"outlinewidth\":0,\"ticks\":\"\"},\"colorscale\":[[0.0,\"#0d0887\"],[0.1111111111111111,\"#46039f\"],[0.2222222222222222,\"#7201a8\"],[0.3333333333333333,\"#9c179e\"],[0.4444444444444444,\"#bd3786\"],[0.5555555555555556,\"#d8576b\"],[0.6666666666666666,\"#ed7953\"],[0.7777777777777778,\"#fb9f3a\"],[0.8888888888888888,\"#fdca26\"],[1.0,\"#f0f921\"]],\"type\":\"surface\"}],\"table\":[{\"cells\":{\"fill\":{\"color\":\"#EBF0F8\"},\"line\":{\"color\":\"white\"}},\"header\":{\"fill\":{\"color\":\"#C8D4E3\"},\"line\":{\"color\":\"white\"}},\"type\":\"table\"}]},\"layout\":{\"annotationdefaults\":{\"arrowcolor\":\"#2a3f5f\",\"arrowhead\":0,\"arrowwidth\":1},\"autotypenumbers\":\"strict\",\"coloraxis\":{\"colorbar\":{\"outlinewidth\":0,\"ticks\":\"\"}},\"colorscale\":{\"diverging\":[[0,\"#8e0152\"],[0.1,\"#c51b7d\"],[0.2,\"#de77ae\"],[0.3,\"#f1b6da\"],[0.4,\"#fde0ef\"],[0.5,\"#f7f7f7\"],[0.6,\"#e6f5d0\"],[0.7,\"#b8e186\"],[0.8,\"#7fbc41\"],[0.9,\"#4d9221\"],[1,\"#276419\"]],\"sequential\":[[0.0,\"#0d0887\"],[0.1111111111111111,\"#46039f\"],[0.2222222222222222,\"#7201a8\"],[0.3333333333333333,\"#9c179e\"],[0.4444444444444444,\"#bd3786\"],[0.5555555555555556,\"#d8576b\"],[0.6666666666666666,\"#ed7953\"],[0.7777777777777778,\"#fb9f3a\"],[0.8888888888888888,\"#fdca26\"],[1.0,\"#f0f921\"]],\"sequentialminus\":[[0.0,\"#0d0887\"],[0.1111111111111111,\"#46039f\"],[0.2222222222222222,\"#7201a8\"],[0.3333333333333333,\"#9c179e\"],[0.4444444444444444,\"#bd3786\"],[0.5555555555555556,\"#d8576b\"],[0.6666666666666666,\"#ed7953\"],[0.7777777777777778,\"#fb9f3a\"],[0.8888888888888888,\"#fdca26\"],[1.0,\"#f0f921\"]]},\"colorway\":[\"#636efa\",\"#EF553B\",\"#00cc96\",\"#ab63fa\",\"#FFA15A\",\"#19d3f3\",\"#FF6692\",\"#B6E880\",\"#FF97FF\",\"#FECB52\"],\"font\":{\"color\":\"#2a3f5f\"},\"geo\":{\"bgcolor\":\"white\",\"lakecolor\":\"white\",\"landcolor\":\"#E5ECF6\",\"showlakes\":true,\"showland\":true,\"subunitcolor\":\"white\"},\"hoverlabel\":{\"align\":\"left\"},\"hovermode\":\"closest\",\"mapbox\":{\"style\":\"light\"},\"paper_bgcolor\":\"white\",\"plot_bgcolor\":\"#E5ECF6\",\"polar\":{\"angularaxis\":{\"gridcolor\":\"white\",\"linecolor\":\"white\",\"ticks\":\"\"},\"bgcolor\":\"#E5ECF6\",\"radialaxis\":{\"gridcolor\":\"white\",\"linecolor\":\"white\",\"ticks\":\"\"}},\"scene\":{\"xaxis\":{\"backgroundcolor\":\"#E5ECF6\",\"gridcolor\":\"white\",\"gridwidth\":2,\"linecolor\":\"white\",\"showbackground\":true,\"ticks\":\"\",\"zerolinecolor\":\"white\"},\"yaxis\":{\"backgroundcolor\":\"#E5ECF6\",\"gridcolor\":\"white\",\"gridwidth\":2,\"linecolor\":\"white\",\"showbackground\":true,\"ticks\":\"\",\"zerolinecolor\":\"white\"},\"zaxis\":{\"backgroundcolor\":\"#E5ECF6\",\"gridcolor\":\"white\",\"gridwidth\":2,\"linecolor\":\"white\",\"showbackground\":true,\"ticks\":\"\",\"zerolinecolor\":\"white\"}},\"shapedefaults\":{\"line\":{\"color\":\"#2a3f5f\"}},\"ternary\":{\"aaxis\":{\"gridcolor\":\"white\",\"linecolor\":\"white\",\"ticks\":\"\"},\"baxis\":{\"gridcolor\":\"white\",\"linecolor\":\"white\",\"ticks\":\"\"},\"bgcolor\":\"#E5ECF6\",\"caxis\":{\"gridcolor\":\"white\",\"linecolor\":\"white\",\"ticks\":\"\"}},\"title\":{\"x\":0.05},\"xaxis\":{\"automargin\":true,\"gridcolor\":\"white\",\"linecolor\":\"white\",\"ticks\":\"\",\"title\":{\"standoff\":15},\"zerolinecolor\":\"white\",\"zerolinewidth\":2},\"yaxis\":{\"automargin\":true,\"gridcolor\":\"white\",\"linecolor\":\"white\",\"ticks\":\"\",\"title\":{\"standoff\":15},\"zerolinecolor\":\"white\",\"zerolinewidth\":2}}},\"title\":{\"font\":{\"color\":\"#4D5663\"},\"text\":\"Top 20 Trigram Words\"},\"xaxis\":{\"gridcolor\":\"#E1E5ED\",\"showgrid\":true,\"tickfont\":{\"color\":\"#4D5663\"},\"title\":{\"font\":{\"color\":\"#4D5663\"},\"text\":\"Trigram\"},\"zerolinecolor\":\"#E1E5ED\"},\"yaxis\":{\"gridcolor\":\"#E1E5ED\",\"showgrid\":true,\"tickfont\":{\"color\":\"#4D5663\"},\"title\":{\"font\":{\"color\":\"#4D5663\"},\"text\":\"Frequency\"},\"zerolinecolor\":\"#E1E5ED\"}},                        {\"showLink\": true, \"linkText\": \"Export to plot.ly\", \"plotlyServerURL\": \"https://plot.ly\", \"responsive\": true}                    ).then(function(){\n",
       "                            \n",
       "var gd = document.getElementById('764efd70-b7c5-4d4f-ae57-c9cc34aafac9');\n",
       "var x = new MutationObserver(function (mutations, observer) {{\n",
       "        var display = window.getComputedStyle(gd).display;\n",
       "        if (!display || display === 'none') {{\n",
       "            console.log([gd, 'removed!']);\n",
       "            Plotly.purge(gd);\n",
       "            observer.disconnect();\n",
       "        }}\n",
       "}});\n",
       "\n",
       "// Listen for the removal of the full notebook cells\n",
       "var notebookContainer = gd.closest('#notebook-container');\n",
       "if (notebookContainer) {{\n",
       "    x.observe(notebookContainer, {childList: true});\n",
       "}}\n",
       "\n",
       "// Listen for the clearing of the current output cell\n",
       "var outputEl = gd.closest('.output');\n",
       "if (outputEl) {{\n",
       "    x.observe(outputEl, {childList: true});\n",
       "}}\n",
       "\n",
       "                        })                };                });            </script>        </div>"
      ]
     },
     "metadata": {},
     "output_type": "display_data"
    }
   ],
   "source": [
    "words = get_top_n_words(df['text'], 20)\n",
    "dfTri = pd.DataFrame(words, columns = ['Trigram','Frequency'])\n",
    "dfTri = dfTri.set_index('Trigram')\n",
    "dfTri.iplot(kind = 'bar', xTitle='Trigram', yTitle='Frequency', title = 'Top 20 Trigram Words')"
   ]
  },
  {
   "cell_type": "markdown",
   "metadata": {},
   "source": []
  }
 ],
 "metadata": {
  "kernelspec": {
   "display_name": "thesiswork",
   "language": "python",
   "name": "python3"
  },
  "language_info": {
   "codemirror_mode": {
    "name": "ipython",
    "version": 3
   },
   "file_extension": ".py",
   "mimetype": "text/x-python",
   "name": "python",
   "nbconvert_exporter": "python",
   "pygments_lexer": "ipython3",
   "version": "3.10.13"
  },
  "orig_nbformat": 4
 },
 "nbformat": 4,
 "nbformat_minor": 2
}
