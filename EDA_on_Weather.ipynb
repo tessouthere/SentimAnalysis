{
 "cells": [
  {
   "cell_type": "markdown",
   "metadata": {},
   "source": [
    "### EDA on Weather Text Data"
   ]
  },
  {
   "cell_type": "markdown",
   "metadata": {},
   "source": [
    "#### Importing Necessary Packages"
   ]
  },
  {
   "cell_type": "code",
   "execution_count": 3,
   "metadata": {},
   "outputs": [],
   "source": [
    "import pandas as pd\n",
    "import numpy as np\n",
    "import matplotlib.pyplot as plt\n",
    "import seaborn as sns\n",
    "%matplotlib inline\n",
    "\n",
    "import plotly as py\n",
    "import cufflinks as cf\n",
    "\n",
    "from plotly.offline import iplot\n",
    "\n",
    "import textblob"
   ]
  },
  {
   "cell_type": "code",
   "execution_count": 4,
   "metadata": {},
   "outputs": [
    {
     "data": {
      "text/html": [
       "        <script type=\"text/javascript\">\n",
       "        window.PlotlyConfig = {MathJaxConfig: 'local'};\n",
       "        if (window.MathJax && window.MathJax.Hub && window.MathJax.Hub.Config) {window.MathJax.Hub.Config({SVG: {font: \"STIX-Web\"}});}\n",
       "        if (typeof require !== 'undefined') {\n",
       "        require.undef(\"plotly\");\n",
       "        requirejs.config({\n",
       "            paths: {\n",
       "                'plotly': ['https://cdn.plot.ly/plotly-2.12.1.min']\n",
       "            }\n",
       "        });\n",
       "        require(['plotly'], function(Plotly) {\n",
       "            window._Plotly = Plotly;\n",
       "        });\n",
       "        }\n",
       "        </script>\n",
       "        "
      ]
     },
     "metadata": {},
     "output_type": "display_data"
    },
    {
     "data": {
      "text/html": [
       "        <script type=\"text/javascript\">\n",
       "        window.PlotlyConfig = {MathJaxConfig: 'local'};\n",
       "        if (window.MathJax && window.MathJax.Hub && window.MathJax.Hub.Config) {window.MathJax.Hub.Config({SVG: {font: \"STIX-Web\"}});}\n",
       "        if (typeof require !== 'undefined') {\n",
       "        require.undef(\"plotly\");\n",
       "        requirejs.config({\n",
       "            paths: {\n",
       "                'plotly': ['https://cdn.plot.ly/plotly-2.12.1.min']\n",
       "            }\n",
       "        });\n",
       "        require(['plotly'], function(Plotly) {\n",
       "            window._Plotly = Plotly;\n",
       "        });\n",
       "        }\n",
       "        </script>\n",
       "        "
      ]
     },
     "metadata": {},
     "output_type": "display_data"
    }
   ],
   "source": [
    "py.offline.init_notebook_mode(connected = True)\n",
    "cf.go_offline()"
   ]
  },
  {
   "cell_type": "markdown",
   "metadata": {},
   "source": [
    "#### Data Import & Formatting the Dataset for Sentiment Analysis"
   ]
  },
  {
   "cell_type": "code",
   "execution_count": 5,
   "metadata": {},
   "outputs": [
    {
     "data": {
      "text/html": [
       "<div>\n",
       "<style scoped>\n",
       "    .dataframe tbody tr th:only-of-type {\n",
       "        vertical-align: middle;\n",
       "    }\n",
       "\n",
       "    .dataframe tbody tr th {\n",
       "        vertical-align: top;\n",
       "    }\n",
       "\n",
       "    .dataframe thead th {\n",
       "        text-align: right;\n",
       "    }\n",
       "</style>\n",
       "<table border=\"1\" class=\"dataframe\">\n",
       "  <thead>\n",
       "    <tr style=\"text-align: right;\">\n",
       "      <th></th>\n",
       "      <th>_unit_id</th>\n",
       "      <th>_canary</th>\n",
       "      <th>_unit_state</th>\n",
       "      <th>_trusted_judgments</th>\n",
       "      <th>_last_judgment_at</th>\n",
       "      <th>what_emotion_does_the_author_express_specifically_about_the_weather</th>\n",
       "      <th>what_emotion_does_the_author_express_specifically_about_the_weather:confidence</th>\n",
       "      <th>gold_answer</th>\n",
       "      <th>tweet_id</th>\n",
       "      <th>tweet_text</th>\n",
       "    </tr>\n",
       "  </thead>\n",
       "  <tbody>\n",
       "    <tr>\n",
       "      <th>0</th>\n",
       "      <td>314960380</td>\n",
       "      <td>NaN</td>\n",
       "      <td>finalized</td>\n",
       "      <td>20</td>\n",
       "      <td>8/24/13 0:21</td>\n",
       "      <td>Positive</td>\n",
       "      <td>0.8439</td>\n",
       "      <td>NaN</td>\n",
       "      <td>81990560</td>\n",
       "      <td>Grilling kabobs on the grill last night was am...</td>\n",
       "    </tr>\n",
       "    <tr>\n",
       "      <th>1</th>\n",
       "      <td>314960381</td>\n",
       "      <td>NaN</td>\n",
       "      <td>finalized</td>\n",
       "      <td>20</td>\n",
       "      <td>8/24/13 0:49</td>\n",
       "      <td>Negative</td>\n",
       "      <td>0.6963</td>\n",
       "      <td>NaN</td>\n",
       "      <td>84314377</td>\n",
       "      <td>The slowest day ever !! And the weather makes ...</td>\n",
       "    </tr>\n",
       "    <tr>\n",
       "      <th>2</th>\n",
       "      <td>314960382</td>\n",
       "      <td>NaN</td>\n",
       "      <td>finalized</td>\n",
       "      <td>20</td>\n",
       "      <td>8/24/13 0:55</td>\n",
       "      <td>Neutral / author is just sharing information</td>\n",
       "      <td>0.8802</td>\n",
       "      <td>NaN</td>\n",
       "      <td>82846118</td>\n",
       "      <td>Fire Weather Watch issued May 17 at 4:21PM CDT...</td>\n",
       "    </tr>\n",
       "    <tr>\n",
       "      <th>3</th>\n",
       "      <td>314960383</td>\n",
       "      <td>NaN</td>\n",
       "      <td>finalized</td>\n",
       "      <td>20</td>\n",
       "      <td>8/24/13 0:48</td>\n",
       "      <td>Positive</td>\n",
       "      <td>0.6897</td>\n",
       "      <td>NaN</td>\n",
       "      <td>82843785</td>\n",
       "      <td>Im going to lunch early today.   The weather i...</td>\n",
       "    </tr>\n",
       "    <tr>\n",
       "      <th>4</th>\n",
       "      <td>314960384</td>\n",
       "      <td>NaN</td>\n",
       "      <td>finalized</td>\n",
       "      <td>20</td>\n",
       "      <td>8/24/13 1:19</td>\n",
       "      <td>Neutral / author is just sharing information</td>\n",
       "      <td>0.6153</td>\n",
       "      <td>NaN</td>\n",
       "      <td>82840144</td>\n",
       "      <td>Weekend Weather Causes Delays In I-270 Bridge ...</td>\n",
       "    </tr>\n",
       "  </tbody>\n",
       "</table>\n",
       "</div>"
      ],
      "text/plain": [
       "    _unit_id  _canary _unit_state  _trusted_judgments _last_judgment_at  \\\n",
       "0  314960380      NaN   finalized                  20      8/24/13 0:21   \n",
       "1  314960381      NaN   finalized                  20      8/24/13 0:49   \n",
       "2  314960382      NaN   finalized                  20      8/24/13 0:55   \n",
       "3  314960383      NaN   finalized                  20      8/24/13 0:48   \n",
       "4  314960384      NaN   finalized                  20      8/24/13 1:19   \n",
       "\n",
       "  what_emotion_does_the_author_express_specifically_about_the_weather  \\\n",
       "0                                           Positive                    \n",
       "1                                           Negative                    \n",
       "2       Neutral / author is just sharing information                    \n",
       "3                                           Positive                    \n",
       "4       Neutral / author is just sharing information                    \n",
       "\n",
       "   what_emotion_does_the_author_express_specifically_about_the_weather:confidence  \\\n",
       "0                                             0.8439                                \n",
       "1                                             0.6963                                \n",
       "2                                             0.8802                                \n",
       "3                                             0.6897                                \n",
       "4                                             0.6153                                \n",
       "\n",
       "   gold_answer  tweet_id                                         tweet_text  \n",
       "0          NaN  81990560  Grilling kabobs on the grill last night was am...  \n",
       "1          NaN  84314377  The slowest day ever !! And the weather makes ...  \n",
       "2          NaN  82846118  Fire Weather Watch issued May 17 at 4:21PM CDT...  \n",
       "3          NaN  82843785  Im going to lunch early today.   The weather i...  \n",
       "4          NaN  82840144  Weekend Weather Causes Delays In I-270 Bridge ...  "
      ]
     },
     "execution_count": 5,
     "metadata": {},
     "output_type": "execute_result"
    }
   ],
   "source": [
    "df = pd.read_csv('weather-agg-DFE.csv')\n",
    "df.head()"
   ]
  },
  {
   "cell_type": "code",
   "execution_count": 6,
   "metadata": {},
   "outputs": [
    {
     "data": {
      "text/html": [
       "<div>\n",
       "<style scoped>\n",
       "    .dataframe tbody tr th:only-of-type {\n",
       "        vertical-align: middle;\n",
       "    }\n",
       "\n",
       "    .dataframe tbody tr th {\n",
       "        vertical-align: top;\n",
       "    }\n",
       "\n",
       "    .dataframe thead th {\n",
       "        text-align: right;\n",
       "    }\n",
       "</style>\n",
       "<table border=\"1\" class=\"dataframe\">\n",
       "  <thead>\n",
       "    <tr style=\"text-align: right;\">\n",
       "      <th></th>\n",
       "      <th>_unit_id</th>\n",
       "      <th>_canary</th>\n",
       "      <th>_unit_state</th>\n",
       "      <th>_trusted_judgments</th>\n",
       "      <th>_last_judgment_at</th>\n",
       "      <th>what_emotion_does_the_author_express_specifically_about_the_weather</th>\n",
       "      <th>what_emotion_does_the_author_express_specifically_about_the_weather:confidence</th>\n",
       "      <th>gold_answer</th>\n",
       "      <th>tweet_id</th>\n",
       "      <th>tweet_text</th>\n",
       "      <th>text</th>\n",
       "    </tr>\n",
       "  </thead>\n",
       "  <tbody>\n",
       "    <tr>\n",
       "      <th>0</th>\n",
       "      <td>314960380</td>\n",
       "      <td>NaN</td>\n",
       "      <td>finalized</td>\n",
       "      <td>20</td>\n",
       "      <td>8/24/13 0:21</td>\n",
       "      <td>Positive</td>\n",
       "      <td>0.8439</td>\n",
       "      <td>NaN</td>\n",
       "      <td>81990560</td>\n",
       "      <td>Grilling kabobs on the grill last night was am...</td>\n",
       "      <td>Grilling kabobs on the grill last night was am...</td>\n",
       "    </tr>\n",
       "    <tr>\n",
       "      <th>1</th>\n",
       "      <td>314960381</td>\n",
       "      <td>NaN</td>\n",
       "      <td>finalized</td>\n",
       "      <td>20</td>\n",
       "      <td>8/24/13 0:49</td>\n",
       "      <td>Negative</td>\n",
       "      <td>0.6963</td>\n",
       "      <td>NaN</td>\n",
       "      <td>84314377</td>\n",
       "      <td>The slowest day ever !! And the weather makes ...</td>\n",
       "      <td>The slowest day ever !! And the weather makes ...</td>\n",
       "    </tr>\n",
       "    <tr>\n",
       "      <th>2</th>\n",
       "      <td>314960382</td>\n",
       "      <td>NaN</td>\n",
       "      <td>finalized</td>\n",
       "      <td>20</td>\n",
       "      <td>8/24/13 0:55</td>\n",
       "      <td>Neutral / author is just sharing information</td>\n",
       "      <td>0.8802</td>\n",
       "      <td>NaN</td>\n",
       "      <td>82846118</td>\n",
       "      <td>Fire Weather Watch issued May 17 at 4:21PM CDT...</td>\n",
       "      <td>Fire Weather Watch issued May 17 at 4:21PM CDT...</td>\n",
       "    </tr>\n",
       "    <tr>\n",
       "      <th>3</th>\n",
       "      <td>314960383</td>\n",
       "      <td>NaN</td>\n",
       "      <td>finalized</td>\n",
       "      <td>20</td>\n",
       "      <td>8/24/13 0:48</td>\n",
       "      <td>Positive</td>\n",
       "      <td>0.6897</td>\n",
       "      <td>NaN</td>\n",
       "      <td>82843785</td>\n",
       "      <td>Im going to lunch early today.   The weather i...</td>\n",
       "      <td>Im going to lunch early today.   The weather i...</td>\n",
       "    </tr>\n",
       "    <tr>\n",
       "      <th>4</th>\n",
       "      <td>314960384</td>\n",
       "      <td>NaN</td>\n",
       "      <td>finalized</td>\n",
       "      <td>20</td>\n",
       "      <td>8/24/13 1:19</td>\n",
       "      <td>Neutral / author is just sharing information</td>\n",
       "      <td>0.6153</td>\n",
       "      <td>NaN</td>\n",
       "      <td>82840144</td>\n",
       "      <td>Weekend Weather Causes Delays In I-270 Bridge ...</td>\n",
       "      <td>Weekend Weather Causes Delays In I-270 Bridge ...</td>\n",
       "    </tr>\n",
       "  </tbody>\n",
       "</table>\n",
       "</div>"
      ],
      "text/plain": [
       "    _unit_id  _canary _unit_state  _trusted_judgments _last_judgment_at  \\\n",
       "0  314960380      NaN   finalized                  20      8/24/13 0:21   \n",
       "1  314960381      NaN   finalized                  20      8/24/13 0:49   \n",
       "2  314960382      NaN   finalized                  20      8/24/13 0:55   \n",
       "3  314960383      NaN   finalized                  20      8/24/13 0:48   \n",
       "4  314960384      NaN   finalized                  20      8/24/13 1:19   \n",
       "\n",
       "  what_emotion_does_the_author_express_specifically_about_the_weather  \\\n",
       "0                                           Positive                    \n",
       "1                                           Negative                    \n",
       "2       Neutral / author is just sharing information                    \n",
       "3                                           Positive                    \n",
       "4       Neutral / author is just sharing information                    \n",
       "\n",
       "   what_emotion_does_the_author_express_specifically_about_the_weather:confidence  \\\n",
       "0                                             0.8439                                \n",
       "1                                             0.6963                                \n",
       "2                                             0.8802                                \n",
       "3                                             0.6897                                \n",
       "4                                             0.6153                                \n",
       "\n",
       "   gold_answer  tweet_id                                         tweet_text  \\\n",
       "0          NaN  81990560  Grilling kabobs on the grill last night was am...   \n",
       "1          NaN  84314377  The slowest day ever !! And the weather makes ...   \n",
       "2          NaN  82846118  Fire Weather Watch issued May 17 at 4:21PM CDT...   \n",
       "3          NaN  82843785  Im going to lunch early today.   The weather i...   \n",
       "4          NaN  82840144  Weekend Weather Causes Delays In I-270 Bridge ...   \n",
       "\n",
       "                                                text  \n",
       "0  Grilling kabobs on the grill last night was am...  \n",
       "1  The slowest day ever !! And the weather makes ...  \n",
       "2  Fire Weather Watch issued May 17 at 4:21PM CDT...  \n",
       "3  Im going to lunch early today.   The weather i...  \n",
       "4  Weekend Weather Causes Delays In I-270 Bridge ...  "
      ]
     },
     "execution_count": 6,
     "metadata": {},
     "output_type": "execute_result"
    }
   ],
   "source": [
    "df['text'] = df['tweet_text']\n",
    "df.head()"
   ]
  },
  {
   "cell_type": "code",
   "execution_count": 7,
   "metadata": {},
   "outputs": [
    {
     "name": "stdout",
     "output_type": "stream",
     "text": [
      "<class 'pandas.core.frame.DataFrame'>\n",
      "RangeIndex: 1000 entries, 0 to 999\n",
      "Data columns (total 11 columns):\n",
      " #   Column                                                                          Non-Null Count  Dtype  \n",
      "---  ------                                                                          --------------  -----  \n",
      " 0   _unit_id                                                                        1000 non-null   int64  \n",
      " 1   _canary                                                                         0 non-null      float64\n",
      " 2   _unit_state                                                                     1000 non-null   object \n",
      " 3   _trusted_judgments                                                              1000 non-null   int64  \n",
      " 4   _last_judgment_at                                                               1000 non-null   object \n",
      " 5   what_emotion_does_the_author_express_specifically_about_the_weather             1000 non-null   object \n",
      " 6   what_emotion_does_the_author_express_specifically_about_the_weather:confidence  1000 non-null   float64\n",
      " 7   gold_answer                                                                     0 non-null      float64\n",
      " 8   tweet_id                                                                        1000 non-null   int64  \n",
      " 9   tweet_text                                                                      1000 non-null   object \n",
      " 10  text                                                                            1000 non-null   object \n",
      "dtypes: float64(3), int64(3), object(5)\n",
      "memory usage: 86.1+ KB\n"
     ]
    }
   ],
   "source": [
    "df.info()"
   ]
  },
  {
   "cell_type": "code",
   "execution_count": 8,
   "metadata": {},
   "outputs": [
    {
     "name": "stdout",
     "output_type": "stream",
     "text": [
      "<class 'pandas.core.frame.DataFrame'>\n",
      "RangeIndex: 1000 entries, 0 to 999\n",
      "Data columns (total 4 columns):\n",
      " #   Column                                                                          Non-Null Count  Dtype  \n",
      "---  ------                                                                          --------------  -----  \n",
      " 0   what_emotion_does_the_author_express_specifically_about_the_weather             1000 non-null   object \n",
      " 1   what_emotion_does_the_author_express_specifically_about_the_weather:confidence  1000 non-null   float64\n",
      " 2   tweet_id                                                                        1000 non-null   int64  \n",
      " 3   text                                                                            1000 non-null   object \n",
      "dtypes: float64(1), int64(1), object(2)\n",
      "memory usage: 31.4+ KB\n"
     ]
    }
   ],
   "source": [
    "df=df.drop(columns=['_canary', 'gold_answer', 'tweet_text','_unit_id','_unit_state','_trusted_judgments','_last_judgment_at'])\n",
    "df.info()"
   ]
  },
  {
   "cell_type": "code",
   "execution_count": 9,
   "metadata": {},
   "outputs": [
    {
     "name": "stdout",
     "output_type": "stream",
     "text": [
      "<class 'pandas.core.frame.DataFrame'>\n",
      "RangeIndex: 1000 entries, 0 to 999\n",
      "Data columns (total 4 columns):\n",
      " #   Column                                                                          Non-Null Count  Dtype  \n",
      "---  ------                                                                          --------------  -----  \n",
      " 0   what_emotion_does_the_author_express_specifically_about_the_weather             1000 non-null   object \n",
      " 1   what_emotion_does_the_author_express_specifically_about_the_weather:confidence  1000 non-null   float64\n",
      " 2   tweet_id                                                                        1000 non-null   int64  \n",
      " 3   text                                                                            1000 non-null   string \n",
      "dtypes: float64(1), int64(1), object(1), string(1)\n",
      "memory usage: 31.4+ KB\n"
     ]
    }
   ],
   "source": [
    "df['text'] = df['text'].astype(\"string\")\n",
    "df.info()"
   ]
  },
  {
   "cell_type": "code",
   "execution_count": 10,
   "metadata": {},
   "outputs": [
    {
     "data": {
      "text/plain": [
       "what_emotion_does_the_author_express_specifically_about_the_weather\n",
       "Negative                                        271\n",
       "Neutral / author is just sharing information    261\n",
       "Tweet not related to weather condition          235\n",
       "Positive                                        231\n",
       "I can't tell                                      2\n",
       "Name: count, dtype: int64"
      ]
     },
     "execution_count": 10,
     "metadata": {},
     "output_type": "execute_result"
    }
   ],
   "source": [
    "df['what_emotion_does_the_author_express_specifically_about_the_weather'].value_counts()"
   ]
  },
  {
   "cell_type": "code",
   "execution_count": 11,
   "metadata": {},
   "outputs": [
    {
     "data": {
      "text/plain": [
       "what_emotion_does_the_author_express_specifically_about_the_weather\n",
       "Negative                                        271\n",
       "Neutral / author is just sharing information    261\n",
       "Positive                                        231\n",
       "Name: count, dtype: int64"
      ]
     },
     "execution_count": 11,
     "metadata": {},
     "output_type": "execute_result"
    }
   ],
   "source": [
    "df = df[df.what_emotion_does_the_author_express_specifically_about_the_weather != 'Tweet not related to weather condition']\n",
    "df = df[df.what_emotion_does_the_author_express_specifically_about_the_weather != \"I can't tell\"]\n",
    "df['what_emotion_does_the_author_express_specifically_about_the_weather'].value_counts()"
   ]
  },
  {
   "cell_type": "code",
   "execution_count": 12,
   "metadata": {},
   "outputs": [],
   "source": [
    "df = df.replace(\"Negative\", -1)\n",
    "df = df.replace(\"Neutral / author is just sharing information\", 0)\n",
    "df = df.replace(\"Positive\", 1)\n",
    "df.rename(columns={'what_emotion_does_the_author_express_specifically_about_the_weather': \"Label\"}, inplace=True)\n",
    "df.rename(columns={'what_emotion_does_the_author_express_specifically_about_the_weather:confidence':\"Label_Confidence\"}, inplace=True)"
   ]
  },
  {
   "cell_type": "markdown",
   "metadata": {},
   "source": [
    "#### Preprocessing Text"
   ]
  },
  {
   "cell_type": "code",
   "execution_count": 16,
   "metadata": {},
   "outputs": [],
   "source": [
    "# Expanding Contractions\n",
    "contractions = {\"ain't\": \"are not\",\"'s\":\" is\",\"aren't\": \"are not\",\n",
    "                     \"can't\": \"cannot\",\"can't've\": \"cannot have\",\n",
    "                     \"'cause\": \"because\",\"could've\": \"could have\",\"couldn't\": \"could not\",\n",
    "                     \"couldn't've\": \"could not have\", \"didn't\": \"did not\",\"doesn't\": \"does not\",\n",
    "                     \"don't\": \"do not\",\"hadn't\": \"had not\",\"hadn't've\": \"had not have\",\n",
    "                     \"hasn't\": \"has not\",\"haven't\": \"have not\",\"he'd\": \"he would\",\n",
    "                     \"he'd've\": \"he would have\",\"he'll\": \"he will\", \"he'll've\": \"he will have\",\n",
    "                     \"how'd\": \"how did\",\"how'd'y\": \"how do you\",\"how'll\": \"how will\",\n",
    "                     \"I'd\": \"I would\", \"I'd've\": \"I would have\",\"I'll\": \"I will\",\n",
    "                     \"I'll've\": \"I will have\",\"I'm\": \"I am\",\"I've\": \"I have\", \"isn't\": \"is not\",\n",
    "                     \"it'd\": \"it would\",\"it'd've\": \"it would have\",\"it'll\": \"it will\",\n",
    "                     \"it'll've\": \"it will have\", \"let's\": \"let us\",\"ma'am\": \"madam\",\n",
    "                     \"mayn't\": \"may not\",\"might've\": \"might have\",\"mightn't\": \"might not\", \n",
    "                     \"mightn't've\": \"might not have\",\"must've\": \"must have\",\"mustn't\": \"must not\",\n",
    "                     \"mustn't've\": \"must not have\", \"needn't\": \"need not\",\n",
    "                     \"needn't've\": \"need not have\",\"o'clock\": \"of the clock\",\"oughtn't\": \"ought not\",\"oughtn't've\": \"ought not have\",\"shan't\": \"shall not\",\"sha'n't\": \"shall not\",\n",
    "                     \"shan't've\": \"shall not have\",\"she'd\": \"she would\",\"she'd've\": \"she would have\",\n",
    "                     \"she'll\": \"she will\", \"she'll've\": \"she will have\",\"should've\": \"should have\",\n",
    "                     \"shouldn't\": \"should not\", \"shouldn't've\": \"should not have\",\"so've\": \"so have\",\n",
    "                     \"that'd\": \"that would\",\"that'd've\": \"that would have\", \"there'd\": \"there would\",\n",
    "                     \"there'd've\": \"there would have\", \"they'd\": \"they would\",\n",
    "                     \"they'd've\": \"they would have\",\"they'll\": \"they will\",\n",
    "                     \"they'll've\": \"they will have\", \"they're\": \"they are\",\"they've\": \"they have\",\n",
    "                     \"to've\": \"to have\",\"wasn't\": \"was not\",\"we'd\": \"we would\",\n",
    "                     \"we'd've\": \"we would have\",\"we'll\": \"we will\",\"we'll've\": \"we will have\",\n",
    "                     \"we're\": \"we are\",\"we've\": \"we have\", \"weren't\": \"were not\",\"what'll\": \"what will\",\n",
    "                     \"what'll've\": \"what will have\",\"what're\": \"what are\", \"what've\": \"what have\",\n",
    "                     \"when've\": \"when have\",\"where'd\": \"where did\", \"where've\": \"where have\",\n",
    "                     \"who'll\": \"who will\",\"who'll've\": \"who will have\",\"who've\": \"who have\",\n",
    "                     \"why've\": \"why have\",\"will've\": \"will have\",\"won't\": \"will not\",\n",
    "                     \"won't've\": \"will not have\", \"would've\": \"would have\",\"wouldn't\": \"would not\",\n",
    "                     \"wouldn't've\": \"would not have\",\"y'all\": \"you all\", \"y'all'd\": \"you all would\",\n",
    "                     \"y'all'd've\": \"you all would have\",\"y'all're\": \"you all are\",\n",
    "                     \"y'all've\": \"you all have\", \"you'd\": \"you would\",\"you'd've\": \"you would have\",\n",
    "                     \"you'll\": \"you will\",\"you'll've\": \"you will have\", \"you're\": \"you are\",\n",
    "                     \"you've\": \"you have\"}\n"
   ]
  },
  {
   "cell_type": "code",
   "execution_count": 17,
   "metadata": {},
   "outputs": [],
   "source": [
    "def cont_to_exp(x):\n",
    "    if type(x) is str:\n",
    "        x = x.replace('\\\\','')\n",
    "        for key in contractions:\n",
    "            value = contractions[key]\n",
    "            x = x.replace(key, value)\n",
    "        return x\n",
    "    else:\n",
    "        return x"
   ]
  },
  {
   "cell_type": "code",
   "execution_count": 19,
   "metadata": {},
   "outputs": [
    {
     "data": {
      "text/plain": [
       "'Grilling kabobs on the grill last night was amazing! I am so glad this weather is finally  here. The slowest day ever !! And the weather makes it even worse ! Fire Weather Watch issued May 17 at 4:21PM CDT expiring May 19 at 9:00PM CDT by NWS Lubbock... {link} Im going to lunch early today.   The weather is nice outside so Im going to enjoy #metime somewhere pleasant :) Weekend Weather Causes Delays In I-270 Bridge Work  {link} Passing out now.  working tonight. Storms today would be nice. Would be great sleeping weather. Mmmm US GAS: Warm-Weather Forecasts Lift Natural Gas Futures {link} @mention s friday at 6 at tha stadium ...if tha weather bad its gone be in tha gym at 3 I hate this weather. Good day for a movie marathon though... Xmen! :D TGif biatches! Here is to a sunny Friday regardless of rain and drama! #popularnameregardlessofparticipation @mention good crowd in Wrigley today, terrible weather. tell that redneck that just called in 2 check the Reds crowd on a Wed. day game in the house washing clothes on this rainy day #BORED #WEATHER:  2:53 pm : 57.0F. Feels 56F. 30.10% Humidity. 6.9MPH Northwest Wind. Freezing cold Like always whoo buddy excited for tonight let is go #11in11 ...SHOWERS AND THUNDERSTORMS MOVING SLOWLY OVER THE AREA... AN AREA OF RAIN WITH EMBEDDED THUNDERSTORMS WILL DRIFT SLOW {link} It is hot out here but it feels great RT @mention: Need that warm weather to come back I want the sunshine back, please come back :) Record LOW humidity in Phoenix today:  {link} @mention If this is what Seattle is like, I am not surprised somebody killed Rosie Larsen. Everybody must be surly. #TheKilling #Rain @mention ditto I should have worn shorts today! Hello humidity! @mention oh nice! We\\'re all the way here in sunny Burbank California! @mention no, normal pajamas. it is not that cold out! @mention Is any part of this storm system going to make it across the mountains/in to NC & SC? it is hot  as #Truck outside WZTV FOX17 :: Weather {link} Hi from sunny Boston. Weather is fine, wish you were here... (@ Joe is American Bar & Grill w/ 2 others) {link} In Florida, the hotter it is outside, the colder it is inside. Freezing at my desk today. @mention yeah, i\\'m talking, you see these pics of the river up on the rocks, as opposed to storm conditions @mention Looking forward to your show tonight in Salt Lake City. The weather is supposed to be great. Hopefully you will toss me a pick Just arrived at Garrett- 55 degrees- going to be a cool night. RT @mention: Strongest storm now crossing Natcher Parkway south of Masonville & moving into northern Ohio County. #tristatewx @mention We can finally compete with your weather in FL! Sunny & 70 here in Chicago today! I am gonna take a bath and read. I planned to make pasta puttanesca for dinner, but the weather is making me want Chipotle Chicken Chowder. Thunderstorm Light Drizzle in Vicinity and 68 F at Jacksonville Municipal Airport, IL Winds are from the South at 13.8  {link} .@mention & I just finished an hour jog on the Bosque. A little windy, but otherwise a beautiful day. It is about time! C\\'mon SUMMER! eww its 81% humidity  today :I Nothing says \"Happy Cinco de Mayo!\" like an AP test and a rainy day. #fail @mention storm? Be safe! The weather has been crazy lately! Its super awful here in OK, the weather is soo moody. Severe Thunderstorm Warning issued May 19 at 3:40PM MDT expiring May 19 at 4:30PM MDT by NWS Boulder {link}.... {link} Catch The Fish Folks tomorrow at the Weds Downtown Farmers\\' Market 4-7.  Weather will be great - Copper River Sockeye salmon at great... Tornado season really is nvr over. If its a severe thunderstorm, a tornado can form RT @mention How long is (cont) {link} It is fuckin hot out #Today is #Cubs-#Giants game has been postponed due to the forecast for inclement weather & poor conditions throughout the day. RT @mention: Severe Thunderstorm Warning for Dakota, Goodhue, Rice and Steele County in MN until 2:30pm. More: {link} & o ... #WEATHER:  3:53 am : 57.0F. Feels 55F. 29.98% Humidity. 10.4MPH North Wind. Clouds & Showers East, Sunny & Dry Elsewhere {link} RT @mention: This kind of weather makes me want to go swimming. Mmmmmm warm sunny afternoon on a patio! (@ The Tavern Tech Center) {link} it is a nice day in LA. sunny :) @mention delicious! Lol I have been waiting for this 70 degrees for oh...8 months! No joke. I have been out being a real \"dirty girl\" lol It is 66 fucking degrees muthafucker it is hot... Time to get half naked :) It honestly sounds more like Florida weather RT @mention: @mention never been to Texas to compare. P.S. its sunny again lol @mention Hint: It is windy. Nowhere super fun just yet... This cold weather got me ready to lay up wit someone else is girlfriend.. #DontJudgeMe @mention At least it are not snow! Sunshine! @mention Hi Monali! Nice to meet you! I am SUPER jealous of your profile picture..sure beats the rainy weather in DC! What is with all the rainy weber? Thinking the cloudy super cool weather is making me xtra sleepy 2day LIVE COVERAGE: Weather delays Amgen start until 1:15 pm {link} I am freezing! I wanna cuddle (: \"@mention: @mention awwww sounds sad lol its always hot there so yaw need a break anyway\"--that is not fair, I want nice weather lol Thunderstorms today, high 69 (21 C). Eat yourheart out too!i\\'m @ the vacation house.Nice weather&beautiful sight.Nothing like this in SG. ;p @mention  {link} Probably Bad News: Anything For a Blizzard: Probably Bad News: Anything For a Blizzard Submitted by: Unknown Epi... {link} @mention TC: loved the new Fresh Air (#16). Currently flying to warmer weather and the chilled out beats were perfect. Keep it up! RT @mention: WINTER STORM WARNINGS for CO and MT for SNOW 6 - 12 inches\\n{link}\\n#weather #news #snomg #blizzard #wx I love the weather in PHX right now!! This weather keeps me under the covers. @mention paid work is all good :0) Hopefully we will have lots of sunshine for you to enjoy too xx @mention There might be some snow up in the mountains, buh I live in the city so no snow here :) @mention It cld be 4 degrees and yu wld have me outside in shorts, lol... #JustCrazy! Mad windy for no reason Spending the afternoon downtown with the family walking around the Canal and enjoying the beautiful weather #nomorerain It is literally pissing it down in sideways rain. I have nothing to protect me from this monstrous weather. In the Heart of the Summer we Need a Snow Plow ! @mention I love thunderstorms too but I could not stay in bed all day and enjoy it It is cold as hell outside and they in the pool kickin it o_O Check it out!! RT @mention: I posted 46 photos on Facebook in the album \"Storm Damage\" {link} Horrible wet morning.....bring back the sunshine! @mention rrrrriiight who yu tellin idk weather to be mad or cry -__- If you are in need of any huge logs or branches, there are plenty floating in the Yellowstone River right now. #rain #flooding #Billings News - Current Conditions : 64.4F, Heavy Thunderstorms and Rain - 7:07 PM EDT May. 16: Temperat... {link} #News #Greensboro RT @mention: Looks like t-storm with 60+ mph winds within 30 minutes of downtown #joplin BTW, SkyWarn training last night rocked!  I am certified!  :0)  Let the storm spotting begin! #WEATHER:  6:52 am : 63.0F. Feels F. 29.65% Humidity. 0.0MPH North Wind. #WEATHER: 2:55 pm E: 75.0F. Feels F. 29.96% Humidity. 3.5MPH Northwest Wind. FINALLY! The temp outside is over 70. RT @mention: Congrats OKC is trending. What should be trending is #WatchoutMavs there is about to be a Thunderstorm in Dallas! RT @mention: Freezing! O.o WeLoveSwift Monday mornings, sunshine and planning ahead: Do you plan for the week ahead on Monday morning o... {link} (Via @mention) Out walking enjoying the sunshine...NOT! Even when the rain falls, even when the flood stops rising, even when the storm comes, I am washed by the water. RT @mention: I think those American nutters must have misinterpreted a bad weather forecast #rapture Memphis weather is so bipolar!!! @mention you are welcome! doing great-except sooo tired of this weather! how about you!? so sunny and beautiful in Tulsa right now. I decided to spend sometime outside the office and work on my tan.   :) Morning sunshine. RT @mention: It\\'ll be sunny again by time you land RT @mention: Every time I think about going back to Portland it starts ra ... it is 80 degrees for what? @mention why did not Brian say anythng on the weather segment? RT @mention: According to the weather on @mention  is phone, every day is going to be a muffin.  {link} RT @mention: Miami weather is just like Charlie Sheen.. Bi-polar! Poured a cup of hot sepia coffee in a wisteria flowered mug, dandelion sunshine spilling through the periwinkle sky. Freezing my butt off. (@ Long Sands Beach) {link} Wonderfully sunny day at Edmond is Art festival  #thelandofperfect Waking up to beautiful weather- what a great day it will be! Helloooo, Sunshine! My room is freezing :/ or im jus too cold :S Heavy Dust Storm Blankets Parts Of Chandler: A good sized dust storm blew through the east valley blanketing par... {link} #WEATHER:  1:53 am : 61.0F. Feels 58F. 29.75% Humidity. 18.4MPH West Wind. #C4IforHumanity: Extreme Weather - North-America - USA {link} @mention I am too haha it is kinda hot out though If a storm picks up, lean into the wind instead of turning away from it if you want to keep balance Stay safe all! RT @mention: New event. Severe Thunderstorm Watch from to 11:00 PM EDT for @mention {link} @mention just cause there is a #shitstorm at Colby, you make my sunshine! Love you Love my new jewelry books from Powell is. Much needed inspiration on a rainy Monday. Had a great weekend thanks to the sunny weather. Now I have to sit inside for 8 hours at work. Boo! In the \\'BU (Malibu) showing leases. The weather is perfect! Click 4 pic&gt; {link} Just a heads up to everyone, weather is crazy everywhere, not just where u live. I thought I needed to clear that up. Weather data at 06:30 AM. 42.5&#xB0;F, 92&#x25; humidity. Wind: 0.0 mph from the N. Rain: 0.00 in. NO CURRENT ADVISORIES Im not complaining but it is FREEZING in my room! hot weather puts me in a bad mood . hope this night is rainy night ^^ Northern IN likely to go under a weather watch per SPC soon...details to come. @mention unfortunately the same here (Sunny skies).  really need some rain.Too much sun can be as depressing as too much rain. #pubwrite RT @mention: Don\\'t try to stop the storm,just wait with patience and faith until the storm pass away and the rainbow come to bright your  ... I am freezing on this stupid bus @mention unfortunately this wife does not come with a log of firewood for those chilly nights. RT @mention: Tatum, NM @ 8:00 PM: Temp:75F(H 84/L 45), Hum:30&#x25;, DewPt:42F, Wind: SE at 17 G 27.0 mph, Rain:0.00 In. #weather Freezing. Cuddling...alone :( #WEATHER: 4:53 pm C: 84.0F. Feels F. 29.87% Humidity. 9.2MPH South Wind. Omg storm and hail please go away so I can catch my flight home!! #ihatestorms RT @mention: Hot day in Moab today, went to Arches National Park but wife and kids petered out after a 2mi hike. Definitely have to come  ... Severe Storm Damage In Southeast Wisconsin: At the height of Sunday is severe storms, thousands lost power in... {link} #NMFire #NMwx Fire Weather Watch issued May 21 at 1:28PM MDT expiring May 23 at 9:00PM MDT by NWS Albuquerque... {link} I hate this bi-polar weather in san Antonio @mention shhhh, just cum to the philippines where it is sunny and shitty everyday @mention Here is hoping. :)  How is the weather there?  Did any of those toofans hit you a couple weeks back? Severe Thunderstorm Warning for Choctaw, Montgomery, and Webster County in MS until 7:45pm. {link} #mswx Polo boots in 80 degree weather #fail the weather didnt scare me away from the stores tonight! Dear #sanfrancisco, this weather blows. Rain? In may? Um no thank you. Please, get it together. Thanks RT @mention: Damn this thunder storm kame out of No where @mention it will not last too long...the storm that is.. :) nice & sunny in my neck of the woods.. Is Hot As Hell Outside Today In Da City Of #Decatur @mention you will be missed. Hope weather is ok Just in! Joe is Provacateur petite bootcut in the Hannah wash. Perfect for warmer weather! {link} For storm and flood water repair, call NextGen Restoration experts. {link} I woke up to a beautiful ball of red coming over the horizon...oh where art thou ball of sunshine so enjoy having your around @mention It is sunny here too. And it is closer! :D RT @mention: You know the old saying: April showers bring May severe thunderstorms. RT @mention: The 3rd world war has not even happened yet... and the crazy weather is from Earth changing and possibly from H.A.A.R. ... Grateful for the sunny, warm weather. Perfect stroll on the beach with @mention. Photo: {link} #cannonbeach #getaway Gov. Bentley: 238 storm related fatalities in Alabama {link} I been freezing but did not wana get up to fool with the air #lazytweet Ok so its like 78 degrees, he has on some timbos, shorts with an full length leather coat.. Wow, #damshame. RT @mention: RT @mention: U.S. National Severe Weather Alerts Map - WeatherBug.com {link} The gas and this weather need to get off that bull shit lol 7:30 final and its like 95 degrees. I cannot take the biggest exam of the year under these conditions. #stupidhot @mention Yeah I was sick recently too. It is probably the weather or something. VIDEO: Hay fever surges in UK heatwave {link} We have been Busy collecting Wal Mart Gift Cards Via Pay Pal to Give to Tornado and Storm Victims to Present to... {link} watching enter the dragon on this rainy rainy night then off to sleep Could really go for some chocolate, a blanket, some music, and a big bay window right now. #rain Turned on TV here at the hotel, immediately see meteorologists watching #Wx around Kansas. Glad it was nice weather when I landed here. Friday, sunny and awesome out in Chicago. Happy weekend, Superfans! \"LIKE\" our brand new Northwest Weather Podcast page!  Mark and Brian are recording their 4th episode today.  You... {link} RT @mention: Weather spotters report #tornado moving toward Joplin, Missouri, at 45 mph {link} I actually like the #rain... Only because my umbrella is too cool... #zebraprint! So its freezing as shit this morning and my brothers mew roommate left open the windows. smooth. Gardner WX 05/17/11 07:00 AM | 44F, 65&#x25; Humidity, Feels Like 44F | Alerts: NO CURRENT ADVISORIES | {link} Listening to KFOR-TV via Weather Channel -- they are reporting tornado is 1/2 mile wide, debris 1.5 miles around tornado Watch KNWA now. Dan Skoff & Clint Boone are tracking severe weather in Benton County. Possible tornadoes may be brewing RT @mention: they just interrupted the emergency weather program with another emergency weather warning. TAKING OUR ASSES TO THE BATH ... Why has the weather sucked so bad lately? A hurricane is not gonna stop me from getting my swag on. Love this Iowa weather that goes from warm and sunny to rainy and lightening in less than 2 seconds:):):) It WAS going to be sunny and 80 degrees in #Boston today (that is what they said just a few days ago.) How is  58 and rain? #enoughisenough 78.1F (Feels: 78.1F) - Humidity: 87% - Wind: 9.2mph NE - Gust: 13.0mph - Pressure: 1008.7mb (+0.5)  #weather {link} Happy Mothers Day, enjoy the sunshine, now... looking forward to Fathers Day. Headed to Maker Faire this weekend.  Weather is supposed to be nice: partly cloudy with a small chance of DOOOOOM. Looks like rain. For ever. #weather {link} @mention fine bout to go this interview. How is the weather there??? Needless to say, it is scorching out. I am still hot and I have been back inside for quite some time now. @mention cant believe about the weather either! But I will take it :) Tuesday is Hourly Wx for St. Mary is County:\\n* 7AM: Rain. 62*F.\\n* 12PM: Rain. 68*F.\\n* 3PM: Thunderstorms. 71*F. Gosh the scanner is active this morning. Is everyone misbehaving because the sunny weather went away? Severe Thunderstorm Warning for Camden and Miller County until 2:00pm. #MidMoWx HUGE thunderstorm this morning! Rain..lots of it..(FINALLY) thunder, lightning.. the works.. Texas knows how to have a storm! I just realized that I am probly the only person dumb enough to be Tweeting @mention IMDB info while stuck outside in a hail storm Lol @mention I agree! Beautiful view. Mine was just walking through Cap Hill but the sunshine made it a nice walk home. Hope it stays. I also need to know why it is 65 degrees out right now. Stooooopppp. Need some warm Cappuccino on this ugly rainy day. (@ 7-Eleven) {link} Sunny skies over by KC Library, Plaza branch. But ominous skies over Downtown KC. Sirens still ringing. {link} Freezing, wet, and still looking at rocks @mention @mention Hope everyone is having better weather than we are here in New England.  Ugh, hope it stops raining sometime soon. Discovery Kids Climate Cubes Weather Information Station - $12.99 + S&H {link} Really, what is going on with this weather....Tent no tent......that is the question for all my brides right now...... Gardner WX 05/12/11 06:00 AM | 58F, 86&#x25; Humidity, Feels Like 58F | Alerts: NO CURRENT ADVISORIES | {link} Me and katilyn chatting up the movie, walk outside.. OMG. Sprint to car. We do not like thunder storms. #mature Outside: 51.4 F, Humidity: 92%, Wind: (317) 4 mph, Press: 29.80\", Rain: 0.15 Rest of Tonight\\nPartly cloudy until late night then becoming mostly clear. A\\n20 percent chance of showers and thunderstorms in the evening @mention today has just been a weird day all round. I would blame the weather, but, it just seems to easy. It is on the windy side, but still in the 70 is downtown #ColoradoSprings! Happy hour now until 6:00 pm at @mention Buggin for only having a t shirt on...shaking like a stripper #freezing RT @mention: My room is freezing I have too much to do today -___- And the weather does not make it any better. 72 degrees and sunny. Yeah it is  going to hell in a hat box I should have went to Colombia for the month at least they have beautiful weather Updated flood information with rain continuing....{link}/ @mention where are you? save the young girl in the storm center she is out of her comfort zone. Severe Thunderstorm Warning for Lancaster County in PA until 7:30pm EDT. #pawx RT @mention: Weather Geek alert... #NOAA shows La Nina weakening (Seattle peeps, looking good for summer!) {link} Nice day enjoy the sun and good weather cause I really not in the mood to work... Another amazing Southern Hemisphere weather appropriate garment... {link} #WEATHER:  8:53 pm : 67.0F. Feels F. 29.82% Humidity. 6.9MPH Southeast Wind. Loving this warm weather! @mention I wanna go to the Caribbean , I wanna bring @mention and I wanna see some sunshine! #wannagobw Did it. Some folks saw me from above and were taken aback. Your left boot has a tiny leak, good thing the water was above 65 degrees. Where is the sunshine? I think Texas is calling my name! Time to move back home! RT @mention: I cannot wait for the storm tonight :) If tommorow is nice weather, that would be the first week all year with good weather every single day! &lt;3 it really is #spring This weather knocked everyone out Y looky here...da window is open 6 inches! It finally getting warmer outside..maybe 60 degrees now..IT\"S ABOUT TIME! #whereisspring? Omg it is so freaking freezing in this biiiiiiiiiitch! NYC weather is so disrespectful this week @mention  loving this awesome Iowa weather!! suppose to be 91 tomorrow..they  say a record high @mention same here in the bluegrass! I could do w/o the humidity though! :-) Scattered showers, thunderstorms possible for Las Vegas {link} Storm-Downed Tree Kills Twin Sisters: Twin sisters were were killed when severe storms blew through parts of the... {link} @mention It is supposed to go up to 70 today. Sunshine early. A slight chance for a shower or t-storm later. Going to my Aunt is house later. A storm with quarter-sized hail is making the situation in Joplin even tougher {link} Call me crazy, but I am enjoying the cool weather. Because I know in a month or so it will be 1065 degrees outside. #memphisheat Could go for a good #storm today. Looks like sunshine all day. Although, I cannot think of 1 outdoor concert in FL when it did not rain. Bringing ponchos anyway #rockvillefest The weather is getting hot again. *sigh* Statesville, NC Weather - 2:00 PM- Fair Skies, Temp: 74.9, Wind: 3.6, Rain Today: 0.00 @mention it was beautiful, thank you.  Great weather & everyone had fun!!  :) @mention hows them weather in. hawaii Special Weather Statement issued May 05 at 5:14PM CDT expiring May 05 at 6:15PM CDT by NWS Central Illinois... {link} Oh yeah forgot to say Today is my kinda weather #AllSmiles #Grateful Severe Thunderstorm Warning for Fulton, Knox, and Peoria County in IL until 7:45pm CDT. #ilwx This week in NYC will mark the longest stretch of dry weather since February. #happymonday What a picture perfect day here in Coeur d\\'Alene!  Anyone else out enjoying the sunshine? Photo: weather forecast for the #Rapture {link} Ran 5.9 miles in 52 mins and felt good. 46 degrees at the start of the run, with very little wind. My pre-run... {link} Day 2 DC: On the subway heading to the museums, weather is perfect, body not so much. This weeks walking is starting to kick my ass. Sunny day man #12 and #35 GM all looking at another rainy week do not let it make you weak!! RT @mention: Beautiful weather brings every1 n their mama out SHEESH&lt;&lt; Tell one of dem moms to feed me!! Updating a recipe for a summer soup, perfect for the hot weather MU softball opener delayed: Bad weather pushes DePaul-Indiana to 8:30 p.m. {link} RT @mention: #Salute to @mention for going to show the kids love out in Tuscaloosa who were affected by the storm. {link}. ... Today is weather is simply *perfect*. Rowan is so happy to be outside. But oy, $18 on sunblock for him? My mother just used olive oil on us :/ Reed Timmer is following Fairview storm right now, while launching 6 probes into large tornado. 87.4F (Feels: 95.3F) - Humidity: 63% - Wind: 9.8mph S - Gust: 15.9mph - Pressure: 1010.9mb (-0.1)  #weather {link} This weather rocks. I like it 4 a little switch up! Severe Thunderstorm Warning for Cooper, Pettis, and Saline County until 7:00pm CDT. #WEATHER:  9:56 pm : 67.0F. Feels F. 29.83% Humidity. 11.5MPH Northeast Wind. So the weather is gettin pretty bad..Idk if im still gonna b able to come home today :-S #WEATHER:  1:53 pm : 59.0F. Feels 58F. 30.06% Humidity. 6.9MPH West Wind. #WEATHER:  12:52 am: 74.0F. Feels F. 30.03% Humidity. 5.8MPH Southeast Wind. Hope everyone had a great weekend, I just LOVE Sundress weather! Waiting patiently for the electric car. Glorious day in Caithness, huge skies and plenty of sunshine... #WEATHER:  1:56 pm : 77.0F. Feels F. 29.96% Humidity. 11.5MPH South Wind. Why the fuck all my teachers tryna go outside today?! Its too hot for dat shit @mention Happy Birthday....weather is so shitty yeeeesh! Well atleast smile bright :D Friday Fest es lil chilly! RT @mention: @mention yeah me too,i`m freezing man...don`t let that sunshine fool you FOOOOOOOOOOOOOOOOOOOOOOL!!!!!!!!!!! This weather on some bullshit . @mention its not. 70 and sunny tomorrow. RT @mention: sooooo annoyed with these weather tweets. we live in ohio what do you expect? #getoverit Wednesday - Partly sunny. Slight chance of rain showers in the morning...then a slight chance of thunderstorms in...  {link} The weather has turned gorgeous! {link} Anyone who thinks that Sunshine is pure Happiness, has never danced in the Rain... are not nothin like walkin out of a salon with a fresh cut and a lollipop on a beautiful sunny day. I love it. @mention haha, sunny down here! Partly Sunny Skies Show Up For Mother is Day - {link} Audible! Skipping KY weather; are now Nashville bound. Preparing for the worst but still praying for the best with this storm stuff! RT @mention: Georgia weather be pissin me off. the storm outside = no bueno MLB Weather Alert &#8211; Wednesday May 11th - {link}/ RT @mention: My kids keep using words like \"fresh air\" & \"sunshine.\" Must go investigate. While I am gone, would you read? {new post}  ... Last full week of school. Summertime sunshine #seeyousoon #storm yeah? {link}/ Greaaaat. So, the room i\\'m testing in, is freezing! Wtf. :/ 84.2F (Feels: 89.9F) - Humidity: 67% - Wind: 15.2mph SSE - Gust: 20.6mph - Pressure: 1011.8mb (-0.2)  #weather {link} So far today is pretty great weather wise for this 7lb hot dog BBQ. 56 Degrees Saturday night?? YES! I love it #WEATHER:  12:56 am: 56.0F. Feels 52F. 29.81% Humidity. 18.4MPH Southwest Wind. @mention oh hot dayum. Lmao & locked out my house waiting for a key company to come lmao Spending this rainy day at the museum #MOMA #Sundayafternoon @mention @mention you around Detroit at all?  Got a weather page set up for it. The days half over and I still have not seen my mother! Upside its 80 degrees outside :) A GATOR found on in jamestown, details at 7/10 plus sports and weather Weather Halts And Ends Tied Game In Seattle - GoDucks.com - The ... {link} I will take the lightening over the snow any day! Yay for thunderstorms! High-Atis - It is Always Sunny In Florida  {link} via @mention #WEATHER:  3:56 pm : 64.0F. Feels F. 30.05% Humidity. 8.1MPH Northeast Wind. #WEATHER: 12:53 am : 49.0F. Feels 47F. 29.95% Humidity. 5.8MPH Northeast Wind. i Had Great Mother is Day Weekend weather was very nice What a tease yesterday is nice weather was. . Ready to be in the house! Its hot out here! It is windy here too. RT @mention: Rustling night | blows me away | clutching at straws | where cosmic winds | carry your scent #micropoetry The lightning from the storm last night was spectacular. They were predicting the storms all day, but you really... {link} This weather is crazy, especially while driving. Maybe ballet will be canceled! Freaking out about this final, and the library is so damn hot! RT @mention: Our blog this week includes fun outdoor recreation recos. Good timing with this gorgeous weather: {link} Enjoying the Midwest weather! Is it hot outside? Weather for Seattle    {link} RT @mention: Tonight and tomorrow, partly cloudy. Lows around 56. Highs around 76. Chance of storms. #Richmond #weather Fuck you tavi you stupid fucking idiot. Cancel practice before we fucking drive 35 minutes in a fucking storm to medina you fuck @mention We live out in the country (or the Boonies as we like to call it) so we see these things quite often as it starts to warm up. #WEATHER:  7:56 am : 67.0F. Feels F. 29.96% Humidity. 4.6MPH Southeast Wind. it is too damn hot for the power to be out.... @mention love ya profile pic gorgeous. How is the weather in Atl Tatum, NM @ 12:00 PM: Temp:90F(H 91/L 55), Hum: 3&#x25;, DewPt:-1F, Wind: WSW at 18 G 28.0 mph, Rain:0.00 In. #weather @mention haha wayne!! Omg!! Snow!!! Lol its warm this morning here. Have a slice of cake for me xx RT @mention: @mention I was hoping the colder weather would hasten their demise...I am afraid it is only prolonged our inevitable d ... This weather has left me completely incapable of functioning as a normal person. #WEATHER:  1:56 am : 66.0F. Feels F. 30.09% Humidity. 26.5MPH East Wind. @mention stuck overnight?! That is awful! I have been delayed by blizzard but it was before my flight too off. I feel sorry for connecting. It is too hot out. Fuckin aye 10:00 and its 75 degrees...i\\'ll take it #WEATHER:  4:53 pm : 67.0F. Feels F. 29.93% Humidity. 8.1MPH Southeast Wind. 13:42-Sky:  partly cloudy|Vis: 8mi -Temp: 83.1F-Hum: 66.0 %-Pres: 29.82\"-24Hr Rain: 0.00\"-Winds: N 3.1 MPH-Windchill: 87.9F #cltwx I hate auto lock doors. Locked myself out of my apartment and am freezing to death outside in a tee shirt. #fb RT @mention: It is getting warm in them thar hills.  Amador County Foothills/Shendoah Valley, Plymouth, CA...nice, sunny, warm,.. ... I do not remember the weather sucking this bad last May... Regardless, it feels good to just stay in and relax all day. #chillin soooo its cold outside grrr -_- It is Jus to hot outside to be sleepin n clothes On our way ;-) RT @mention: Its 83 Degrees & only Noon @mention just landed We Bout to be Outchea (cont) {link} Sunny weather for driving back to San Diego, spending the long Memorial Day weekend w/hubby in 10 days. What makes you smile today? :) cold in here cold outside green snow ..... love that grinder It is 82 degrees Putting all utensil away, covering all mirrors/monitor/television, staying away from windows and hiding in the closet! A storm is coming BRB Rainy Kc... (@ Kansas City International Airport (MCI) w/ 18 others) {link} Right on my way to Chelsea, not sure what pub were going to yet. \\n\\n0 3 WIN WE BE NICE\\n\\nIt is sunny here now in, the only way is Essex Ain\\'t shit going down n it is fucking hot outside Sunny in Marin County right now. (via @mention // thanks!) @mention   I think I have some snow too!  (although it is finally Spring this week!) #WEATHER: 7:51 am E: 55.0F. Feels F. 30.01% Humidity. 3.5MPH Variable Wind. #WEATHER:  11:56 pm: 69.0F. Feels F. 29.69% Humidity. 5.8MPH South Wind. @mention: RT @mention: Cleveland weather blows me . RT @mention: Why is my house below zero degrees all the time? omg it so windy !!!!! It feels grwat in durham lol RT @mention It is sooo hot out here!! #deepsouth Nothing beats a cozy, rainy evening in with homemade chili, cornbread, and too much bourbon for a Thursday night. @mention yikes. sounds like you know your seasons. #louisville on that crazy stuff like #detroit weather-wise. RT @mention: I ffucked enough hoes now its time 2 count money cuz i\\'ll be damn if dis summer be dark n sunny!!! @mention how is the weather there? WTH....VA with this damn bipolar ass weather.... Wednesday - Snow showers. Snow accumulation 3 to 5 inches. Highs in the 30s.  {link} Special Weather Statement issued May 13 at 1:46PM CDT expiring May 13 at 2:45PM CDT by NWS Mobile {link}/ Going to the zoo today for the first time in ages, the weather is perfect. I might also eat a hamburger #dreambig Anyone streaming video from the parks or resorts today? Looks like nice weather in WDW! @mention Exactly, hot weather got these rats on the prowl. It is a soup day. . . And a selling golf carts by text message rainy day. . . Outside of the box? Or genius? RT @mention: Iso. t-storm this evening if anything, likely get the game in tonight. #Royals fcast: {link}  Sorry @mention ... @mention Seriously, that is February weather! Bout to enjoy this sunshine a bit Special Weather Statement issued May 09 at 10:29AM CDT expiring May 09 at 11:30AM CDT by NWS LaCrosse {link}... {link} The seattle sunshine is making me want to book a cruise.  Love sailing away from seattle when its sunny!! Couldn\\'t ask for better weather! 227 is YouTube ESPN Pro-am draws stars to storm-battered Alabama: Alabama football coach Nick... {link} BCS-College Football RT @mention: 84 deg. F and 3% humidity. Don\\'t go playing with matches, kids. &gt; and forget the corduroys too.  #friction RT @mention: The weather is beyond beautiful ! :) Me too RT @mention wowww can #detroit ever get normal and warm weather! Now I am stuck in traffic motherr efferrr Goddamn this weather! Can\\'t run in the rain. Oh well, at least PSN is back up. Nothing like a lazy Sunday afternoon waiting for storm to roll in Ohio Tornado Database contains reports of over 950 tornadoes that have touched down in Ohio between 1950-2010. {link} @mention RT @mention: Significant damage from a tornado in Joplin, MO.  Appears windows blown out at hospital.  Live coverage on The Weather Ch ... YW! RT @mention: Improving my tweet-ability - study time before hitting the sunshine.  Thank you @mention and  @mention for... Ran 6.69 kilometers in 31 mins and felt great. Amazing weather, good short run, minus the Propel drink I boug... {link} Bring on the sunshine bring on the good times :) #summer2011 Last night was AWESOME. - And the weather is beautiful. Good mood high for the rest of the weekend, which is... {link} This hot, dry, & windy weather is going to turn the #canola fast. Keep a close eye on it if you plan on swathing or pushing. #okanola This weather makes me very happy! happy monday! striving to overcome the grey doldrums here... how do you rise over icky weather? (supposed to rain the whole week here!) @mention So this weekend? 3 rainy days in a row and it is May Term you do not have to do anything for class, duh :p damn its goin rain all next week -.- where the 80 is weather att ? Tomorrows 82 degrees ? thats what im fuckin talking abt ^_^ . I am just a hippie...in the woods...playing her djembe on a rainy sunday afternoon {link} @mention correct! Weather is awful.. Headed out now to try and practice! @mention Andddd it is Wool!! And its 80 degrees outside! RT @mention: Lol yall crazy! RT @mention: out campn with @mention waitn on da new jays in da cold its #serious Its #Friday nd da weather is ok....wat trubbl is thur to get into?!! Its a million degrees This nice weather sure does bring out the \"best\" in blk folks lls Good morning and HOLY HUMIDITY! This is the one thing about moving back east from Colorado that I did not miss..my face hates it! Severe Thunderstorm Warning until 05:45 PM CDT issued for Edwards & Kiowa Counties with 60mph gusts & 1.00\" hail possible Such an awesome day out today. Gotta love sunny days. Hitting the 90s that is naked weather Its Freezing D; @mention I am doin good 2 jus waiting on some good weather @mention A warm sunny day deserves a delicious, gourmet and slightly pornographic hotdog from Wild Dawgs..... Special Weather Statement issued May 13 at 6:42PM EDT expiring May 13 at 9:45PM EDT by NWS Buffalo {link}... {link} Goodness it got cold quick!! It was just 80 degrees in NYC! #wheresmycoat @mention I know what you mean! :) the day is going well,  we are finally having nice weather I do not mind the rain... your face is like sunshine &lt;3 &lt;3 &lt;3 You\\'re the best! Warm weather is calling now--let is make plans :) RT @mention: We all love having @mention & everyday #FF #WEATHER: 3:54 pm M: 81.0F. Feels F. 29.66% Humidity. 20.7MPH Southwest Wind. Holy fucking shit I just eargasmed so hard listening to the new Cave In with an approaching storm. Damn weather, just turn and stay sunny. Water sprinkler damage requires professional cleanup before the Atlanta weather makes it difficult to prevent... {link} The happy, chirping birds this morning confused me. I thought there might be sunshine. Just gloominess. What are you smiling about, birds? Phones been ringing since 7, must be sunny again! #boutime RT @mention: SEVERE STORM WARNING SE MN  13 MILES NORTH OF WINDOM...AND MOVING NORTH AT 40 MPH\\n{link} for HD weather ... Looking up in columbus circle #nyc #rain {link} RT @mention: Ahh weather.com says that our area is getting a bad storm and to stay away from windows.... Glad my beds right under a h ... On my way baby keep my spot warm lmao RT @mention This thunderstorm makes me wish I had someone to cuddle with SPC MD 747: MD 0747 CONCERNING SEVERE THUNDERSTORM WATCH 283... FOR PARTS OF CNTRL AND NERN TX / SWRN AND CNT... {link} It is hot ass hell outside @mention Am I wrong to think the boy has never seen snow in March? Just got to my apt... It is 2 damn hot outside for me! misty, cloudy, rainy evening spoiled viewing of beautiful Niagara Falls... Is anyone else just sick and tired of this weather? @mention Most of my followers are usually in and around Tally. That is where the storm is now @mention Hey what is up stranger? not a whole lot over this way I am back in MI and hating the weather lol What about u Honeys, tonight is First Friday in the Crossroads Art District. And the weather is going to be GORGEOUS! Some come... {link} @mention @mention Im so cold and shaking now :( Omg 6 minuites x Im freaking out This weather is depressing. Sundress weather is the best weather. this must be the end.  the weather channel has gone into commercial-free mode. Now is the time to sign up for ABC 17 severe weather texts: {link} Follow @mention & Facebook: {link} San Antonio, Texas Weather :: 77F OVERCAST from San Antonio, Texas Weather {link} #WEATHER: 6:51 pm E: 62.0F. Feels 60F. 29.94% Humidity. 12.7MPH South Wind. Dateline: Elkhart Lake, WI - It is cloudy, chilly, rain in the forecast - perfect for manic depression. For testing a race car, not so much. Heading outside for a run. Enjoying this weather as much as I can before the rain inevitably returns. Video weather update, including Tornado Watch details: {link} So nice to be able to wear a skirt and walk outside in the sunshine without feeling cold! I love the sun. #summer Planting strawberries @mention and enjoying the sunshine! Loving this weather (: I hope it will not be too hot in the morning! Jacksonville weather be on hell+2 degrees! I could seriously listen to @mention all day long. p.s. this storm is bad! i\\'m scared G\\'morning, Sunshine: 60s and partly sunny? OK! why is just windy by my post is it because all of the trees and buildings! Insaneeee weather over here!!!! If you are in Winston... I say we plan a pool party since it is hot as hell outside #tropicalstorm, #philippines: 1200Z 9 May 11 #JTWC ATCF Track, Tropical Storm 03W (Aere). {link} #aere #bebeng #03w @mention good morning Viv how are you this beautiful sunny morning It is so hot that I have found out (the hard way) that my seat belt buckle could be used as a branding iron #teamfollowback RT @mention: TORNADO WARNING N central TX TORNADO NEAR SAGINAW...MOVING EAST SOUTHEAST AT 40 MPH.  SOFTBALL SIZED HAIL\\n{link} ... @mention @mention Something else to bear in mind for #muchado - pray for good weather! Loving thia storm! I love the window seats at #lakelyn @mention when a storm is rolling in. @mention Thanks, I hope the same for you too. I would be more inclined to go outside if it was not this hot already... Fire Weather Watch issued May 18 at 5:52AM CDT expiring May 19 at 9:00PM CDT by NWS Midland-Odessa {link}... {link} #WEATHER: 11:54 am : 67.0F. Feels F. 29.95% Humidity. 11.5MPH South Wind. Thanks for all the awesome birthday wishes! I think I might fine a sunny spot and curl up like a cat! SPC Severe Thunderstorm Watch 321 Status Reports: WW 0321 Status Reports\\n      \\n\\nSTATUS FOR WATCH 0321 HAS NO... {link} #WEATHER:  6:51 pm : 74.0F. Feels F. 29.88% Humidity. 0.0MPH North Wind. Been lazying ALL DAY. Exams in 2 days. BUT I CAN\\'T STUDY IN THIS WEATHER. @mention Heard you are filming in LA. I studied at LSU few years ago. Still remember the weather it is like \"public sauna.\" Stay cool:) RT @mention: Life is so much more manageable when the weather is nice. Have to say though I think I have wind burn!  Wow it was windy! However tent,  windbreak, ME AND ER and guests survived! Sweden Climate, Temperatures &amp; Weather Info | It&#39;s a Stormy Life {link} Here and Now: Snow on treetops: What could be better? Severe Thunderstorm Warning for Benton, Carroll, Madison and Washington County until 8:30pm. #arwx Its #Cold N Herr .. Cool and rainy.  Solution: rum and cider at 8am! lol RT @mention: Its hot af outside. Chamber of Commerce weather. It is a great week for networking! It is gonna rain in #SanFrancisco tmr. I need to get my #run in today so tmr will b my run rest day. #weather @mention sunny again.. something is clearly afoot! you? #coffeeup Umm jealous!! RT @mention: Just checked the weather for Mexico..85 and sunny EVERYday :) I wish i was wearing pants right now. Its chilly outside. What is going on with everyone on this rainy gloomy day? Me just getting ready to go to the grocery store. 50 degrees and rainy. Guess there is no cookout. @mention they got me goin out in this storm..riskin my life..just cause I cannot afford to miss a day of class..smh! #WEATHER:  7:53 pm : 79.0F. Feels F. 29.63% Humidity. 24.2MPH Southeast Wind. Mostly sunny today, high 70 (21 C). @mention  Sunshine! You lucky dog! I see it is still windy here in Vegas. Can\\'t say I missed it. #fb @mention maybe the spring humidity, bones expanding @mention next time u are in Paris & weather allows let is have a picnic The sunshine inspired our sun salutations this AM! Thank you Meg Faber & Flourish Yoga + wellbeing ~ Back Om Again... {link} How are you liking my outfit, my wife picked it out. It is a little chilly, I will never let her do that again #Reds Oh well I went in the freezing ocean and loved every second of ittt Lluvia/rain (Observemos El Tiempo/Weather Watchers):  {link} @mention moving is already such an unpleasant activity! Sorry about the weather! :( Its amazingly hot outside.. That means its time for the pool. Thank Goodness I look good in a 2 piece. :) 40 & rainy is such a letdown after last week is weather :( Good day to move into a bigger bedroom though! #ncwx Conditions for Durham, NC at 12:49 pm EDT: Current Conditions:\\nPartly Cloudy, 86 FForecast:\\nMon - Isolated Thunderstorms. High:... Fair and 45 F at Butler County Automatic Weather Observing / Report, PA {link} its gonna be 90 degrees Tuesday and Wednesday BLOG: Another Day, Another Round Of Thunderstorms {link} Today is weather has me dreaming of chocolate. Thankfully we carry some local favorites...  {link} Man its so windy out here Hi Dawn :) @mention you plz send some of your warm OK weather here. Brrrrr :D Hope you are having a gr8 Monday! DawnRachel13 @mention In need of a long nap & some sunshine. @mention It is a weather alert app that is usually $10. @mention no shelters but keep close watch on weather :(( hugs Humidity, why must you do such unorthodox things to my hair? Five months after the ice storm killed my sago palms I just realized that they are in pots and I could have moved them inside. Yup. #dumbass The bad news about warm weather, there seem to be more assault crimes. {link} @mention SNOW!!!!!!  Where the heck are you? #WEATHER: 10:53 pm : 49.0F. Feels 46F. 29.94% Humidity. 6.9MPH South Wind. The weather channel local on the 8s just said it was \"sunny\". LOL {link} Couldn\\'t ask for a better forecast @mention @mention @mention @mention {link} @mention Insomnia and thunderstorms kept me up all night...So much fun... Today has been a pretty good day....smooth. good weather makes me wanna....nah I cannot Well, blake survived the weather! RT @mention: Had to go with my gut on this one. This is a tough position to be in.  #TheVoice The sunshine makes me happy. is it to cold outside to be wearing sandals ? I left my a/c on last nite woke up freezzzinnggg! I dnt remember putn it on no dam 60 degrees... Smh Sounds delightful! @mention RT: Can\\'t wait to stroll on the beach and brain storm! RT @mention: Who is excited for TPC this weekend? Sunshine,  beach & golf - life is good! New book. Lemonade. 90 degree weather. #perfection soo I pressed my way out to bible study in this weather! truly a #sacrifice guess ill go move my car...the weather jus fucked up my plans...once again Today is astonishingly beautiful. The sun is warm. The breeze is cool. There is just enough humidity to make your {link}/ sounds like the weather will not be so great this weekend surprise that is never a sure thing at any point #justsayin :D #Chicago RT @mention: Word on the street is, it is going to snow later on today #WEATHER:  4:56 pm : 70.0F. Feels F. 29.96% Humidity. 6.9MPH East Wind. We brought the sunshine from LA... But we also brought the traffic! #SMUGGLERSTOUR {link} God it is been raining on and off...that is what you get for Michigan weather @mention I share you optimism about warmer weather but the storms look quite impressive on radar. Got a quick run in before day 3 of weather starts. Fun time celebrating my bday with my fam and some birthday cake yogurt  @ 32 Degrees! Hanging around nothing else to do but frown rainy days and #mondays always get me down -The Carpenters RT @mention: RT @mention: #TeamYabaLeft where BB storm onli works inside rain Very cool. RT @mention: 6 photos of the storm rolling progressively in. {link} #WEATHER:  1:54 pm : 53.0F. Feels 49F. 29.82% Humidity. 12.7MPH Northwest Wind. YES! I hope this rain turns into a Thunderstorm....wait, are my car windows up!? RT @mention: Oh goodie...finally warm enough for the neighborhood banshees to be out in the streets cryin about who is turn it is to  ... \"When will I see you again\" by the 3 degrees on the radio has precious moments in the lyrics, on a rainy afternoon #preciousmoments @mention We\\'ve had a lovely weather all week. It started turning today. Now, it is just weird! 60 degrees. And its almost the end of may. Wisconsin... I hate you. @mention Oh.my.god. Sounds like a little bit of sunny Roses heaven! Valley Center area is under a several thunderstorm watch until 10 p.m. Pic: Check out the little T-storm that just popped up on radar south of the track. {link} Outside @mention waiting to see @mention & @mention. It is freezing but worth it :-)!!!! #WEATHER:  2:55 pm : 86.0F. Feels F. 30.06% Humidity. 4.6MPH Southeast Wind. @mention Done with the rain and headed to the beach tomorrow.  Finally sunshine and sand! No b-roll video will be shot until the weather warms up! Watching fans, drivers and crews in winter coats is not enjoyable TV. The weather is so gloomy and cold :( First and last time walking to a class on Friday in Cornell. Thanks to the snow. #ItsMay Its freezing in Boston hows the weather in Providence??? Why did i wear this lil dress???? Im freezing in this airport. Damn. May be a long night.  More bad weather to come, so please limit travel and listen to warning sirens or alerts on the radio & t.v. Operation Heatwave Survey, May 21st, area centered around Fitzhugh and Live Oak. {link} RT @mention: After a cold and rainy week in Ohio Friday and Saturday have been soo beautiful outside Video: Fox CT: Midday Weather | 5/11 {link} Tatum, NM @ 7:00 PM: Temp:86F(H 90/L 52), Hum: 8&#x25;, DewPt:17F, Wind: S at 18 G 40.0 mph, Rain:0.00 In. #weather Humidity could make temps feel like 101 today {link} Severe weather delays White Sox-Rangers {link} via @mention #bestdogever Crummy weather in WI. Perfect day for chilling with girl and K9. {link} @mention I was laughing, @mention is running in fresh snow in Boulder and its gotta be in 90s here. Trail was awesome! Freezing @mention u like to swim when its cold outside.... #WEATHER:  8:52 pm : 63.0F. Feels 62F. 29.78% Humidity. 11.5MPH Southeast Wind. New:: Tsunami warning EAS TSW on tv and weather radio {link}/ enjoyed last night is lovely weather at Salento Wine Cafe in the Rice Village area. South American inspired & great wine selection. Approve. A friend of mine named Judy and family are en route right thru the path of storm to KC. Prayers plz. @mention sunny I love u My brother told me it.was hot out , so I came out in a tank , now I am freezing Sports day was alright, weather was shit @mention it is ok ;o) hot out tho. but cloudy. Man the weather so shitty in the Chi.....summer needs to come on I kno everybody in AZ betta be outside enjoying this Good weather cuz I am sure its gone be short lived smh Its hot as a BITCH outside ! My gosh! Its too hot outside... \\n{link} Damn well i\\'m glad the storm went right pass here @mention hey wojo just to let u know while you freezing yours in michigan I am sweating mine off in the hot fl sun! @mention @mention Cold weather. Taylor Swift is playing. Suddenly sleepy..zzZzZ ...SCATTERED THUNDERSTORMS DEVELOPING ACROSS WEST TEXAS AND SOUTHEAST NEW MEXICO WILL BE CAPABLE OF PRODUCING DRY LIGHT {link} SPC Severe Thunderstorm Watch 298 Status Reports {link} Burr it is so cold out today! I definitely am not looking forward to sitting outside at a track meet! #cold #Ithoughtitwassummer @mention ...I am thinking you do not need another coat :p HOWEVER, if the weather there is as bad as my exboyf says, mayhap you do.. Sitting on the front porch drinking coffee, watching Sophie sing and dance in this beautiful Texas weather. #perfectmorning Weather chills hot air balloon stampede {link} @mention manny does not want to test the weather Sunshine to continue throughout Western New York {link} #cltnews WBTV 3 News, Weather, Sports, and Traffic for Charlotte, NC-AptarGroup to ... - WBTV {link} Vietnamese is ice coffee for this sunny noon. {link} Damn its hot out. Even when not working on a 240 degree engine... A church in Tuscaloosa is adopting 25 storm victim families from the Rosedale Community: {link} houston weather, may 21, diverticulitis, may 21st, ...: houston weather\\nmay 21\\ndiverticulitis\\nmay 21st\\nmary tyle...  {link} @mention I am off on Thursday but I am keeping local at the moment for the lack of spondos! If it is sunny I will be out photographing... #WEATHER: 2:56 am E: 64.0F. Feels F. 29.96% Humidity. 4.6MPH East Wind. Health Department Implements Mosquito Control: After all the wet weather areas around your home could be ideal... {link} RT @mention: Ready for this @mention weekend!! Hope the weather is nice!! I am glad it is nice weather here for Bike to Work Day. Not that I did. Bike to work. I just like nice weather. Partly sunny this afternoon with isolated t-showers.  ~80. Becoming more humid tonight as warm front approaches, then passes. Warm. 60. @mention no no! Haha. There are several days, but for some reason today seems extra nice. The weather is beautiful. :) #WEATHER:  3:55 am : 61.0F. Feels F. 29.60% Humidity. 0.0MPH North Wind. #WEATHER:  7:52 am : 65.0F. Feels F. 29.53% Humidity. 16.1MPH Southwest Wind. I love when it rains but it is bot dark and gloomy out.... This is just perfect weather to not be single. Hail storm-1 andrew-0 Live web coverage from Springfield, MO of the #Joplin #tornado: {link}/  Thanks @mention Cold and rainy here in Boston, Wish I was in ATL with the #Krewe Isolated thunderstorms this afternoon, high 87 (31 C).  Low  66 (19 C) tonight. Severe Thunderstorm Warning for Atchison and Leavenworth County in KS until 9:45pm. Updates as needed from Bryan Busby #WEATHER:  3:53 am : 38.0F. Feels 28F. 29.98% Humidity. 18.4MPH North Wind. fuckin hell. its gonna rain and be chilly in st louis. of course. why cannot it be like 90 and sunny.....ill never go there again LOL i want to go out..but its cold and yucky out so idk RT @mention: s/o the those who keep faith within the storm. The storm never lasts forever. The sun will always shine again. lets get the candles out massive lightening storm on the isle of wight tell me if it is lighening where u r #Storm #Clouds at #Twilight \\n{link} \\n#Redmond #Oregon #Photography #RedGage Have you taken a look at the hourly graph on the weather channel? We like that option. {link} We got hot chocolate here at the Ridgeland baseball park. HOT WHAT! From a coast boy, this is some crappy cold weather for May. Mostly sunny and 80 degrees saturday. Perfect weather for #preakness hello everyone; tut. tut, it looks like rain. Wish I could get two solid weeks of warm, sunny, breezy weather *sigh* #GroundhogDay @mention get out of the house and enjoy the nice weather. So I was really upset. But my little cousins are over... so idk Going for a walk on the esplanade just because it is sunny out. Mostly sunny this afternoon, high 84 (29 C).  Low  66 (19 C) tonight. Partly Cloudy and 84 F at Stuart Powell Field Airport, KY The humidity is 40%.\\nThe heat index is 83.\\n Last Updated on M {link} Gardner WX 05/18/11 03:00 AM | 49F, 55&#x25; Humidity, Feels Like 49F | Alerts: NO CURRENT ADVISORIES | {link} @mention @mention Tech Ops stated that the ticket is on hold until storm damage is repaired. No ETR yet. @mention Because the temperature is 61 Degrees :) RT @mention: Thunder storms &gt; Oklahoma City Thunder We all know that rainy days can be stressful when your kids are stuck inside, desperate for activities to occupy... {link} damn. already 62 degrees out! makes me very happy! :D bring on the heat! It is still cold outside and my work has not called me :( US National Weather Service Lower Mississippi River Forecast Center\\nThe Vicksburg District of the US Army Corps of... {link} @mention nope. Never got a chance to head out. Next time. Thanks for the recommendation. Wish weather was better down there @mention not in sunny dover! haha Where\\'d the sunshine go ): Well, those thunderstorms as I was doing yard work were nice. @mention You free tonight? Looks like the weather might be on our side. The weather better be right tonight! It is 66 baseball degrees at beautiful Baum Stadium.  Let is play two!! Riding out the storm: local housing still sluggish {link} Ughhhhhh its so damn hot outside #sunshine #WEATHER: 5:54 am C: 69.0F. Feels F. 29.54% Humidity. 13.8MPH South Wind. What up sunshine I am outside at 9 of the clock at night at its 75 degrees out. #fuckyeahsummer!! Lmao! Yesssss, I miss him. =( RT @mention @mention member @mention slipped in the snow wen he was tryna dig my car out my lmao Rainy weekend ahead...what will you be doing?~ Connie Ha! What did I tell you yesterday?! 60% chance of thunderstorms forecast tomorrow and storms forecast all week until Thursday! &gt;:D Miss the parents pool! RT @mention: Hanging at Inlaws pool and pool house for Mothers Day!! Sunny and 80 degrees! {link} Siesta Key Beach with my Dad. Its a beautiful hot sunny day. @mention Powerbomb the humidity as well please! GD: Light Rain and Windy and 54 F at Grand Island, Central Nebraska Regional Airport, NE Winds are from the North at 26 {link} On my way to the Train... Storm comes at 5 my train leaves at 5:15 =O @mention Fun Vata article! It is so windy here, everyonne is Vata is through the roof! This weather forecast is depressing 81 degrees & cloudy! I love the 81 but not the cloudy! ! RT @mention: Why is it 80 degrees inside and outside? I need another blizzard. - this house is beyond cold..feels like imm layin inside a freezer..can we please turn OFF the A.C.. #freezing The weather gods have been listening. This is the weather I LOVE in #Portland It is a rainy, gloomy day here in Los Angeles but I still have sunscreen on! Why? Because everyday, rain or shine,... {link} #WEATHER: 12:56 pm : 77.0F. Feels F. 29.88% Humidity. 3.5MPH Variable Wind. Clothes fail. Packing for London weather was a mistake #Manchester Fund raiser at Boyd Ranch a success, although auction cut short due to windy wind. @mention I have heard the weather is lovely up there! I dunno which asshole in the sky flunked out of weather school or whatever but I should not need a jacket in May Am I the only person who heard that loud thundering storm last night or was that just me? @mention Lol, that is called spring weather. @mention  is tomato plant is growing so nicely in the weather garden! #weathermanhasagreenthumb !  {link} The weather forecast for this evening looks fabulous! Stop by tonight is LPYP \"Rock the Boat\" Party at Columbia Yac {link} There is got to be a least 50 people still left at the old Overstock.com Coliseum. No Overstock on A is fans on rainy nights. #MLB Wishes I was cool enough to wear my uggs in 100 degree weather @mention have to kick off the warm weather by playing mini golf like kids :) Absolutely FREEZING after lunch. I need to warm up! Severe Weather In Dallas Causes Flight Delays, Diversions In SA from KSAT - Local News {link} @mention Fair enough. This weekend has million things going on. It is like everyone decided to celebrate the good weather this weekend. #WeRockEachOthersWorlds @mention I am proud to be one of your Twitter BFF is, Frank! Hope you are having a #sunny day! *bright smile* 73 and 87% humidity and it is not even 6 a.m. This is Oklahoma is way of saying \"welcome home!\" Severe weather delays Players Championship - {link} @mention i hope!! i\\'ve been sick as a dog lately. fucking weather has me screwed up. :-( RT @mention: Remember to be safe around #utflood waters; they were snow not long ago. Very cold. {link} The weather better be decent in KC because I am going through Tribe withdraw. @mention u nvr told us how the interview in the \"pretty sunny park in nyc wit some BET friends\" went lol details plz -__- Saw the storm damage in La Crosse, as did the gov. A WWII vet shares his storm story @mention on NBC15. {link} Today is weather would be #perfect for the Creek Fest!  Fingers crossed :-) @mention what!!? Camping is so much fun!! water & sunshine during the day...clear skies & stars @ night! Got chilly feet :( (I am slyly tryna seem cute) WX ALT: ...A SEVERE THUNDERSTORM WARNING REMAINS IN EFFECT UNTIL 145 AM EDT FOR SOUTH CENTRAL GASTON COUNTY IN THE... {link} Not summer yet, its still chilly Willy out here. Idk y she got all this COLD air blowing out on the baby like this.... Argh. WHY does the guy behind me have his AC blowing straight at me on this bus?  Freezing! HOT, HOT, and HOT this weekend with a chance of storms, Kendra is webcast is brand new and online now: {link} #fb Ooooh I know its gone be 1671 degrees at that track meet friday and full of niggas Is it hot outside? Friday afternoon shopping, sunshine, margaritas, happiness! It is hot as fuck outside . If you all going out put on extra deodorant @mention I think there is a hint of sunshine here... but I may have to send out for a latte. So cold my muscles have seized up! @mention we have it here in Blue Ash. We waited out the storm eating fabulous burgers at the Oakley Pub. :) So the storm is no joke back in greensboro Local6: Mail Fail: When Deliveries Go Wrong: Through rain or shine, snow or sleet, the mail always gets delivere... {link} A week from today is Solar SUNday at the Idaho Green Expo.  Let is hope it is sunny so you can be amazed at all of... {link} {link} Montreal Weather Webcams st. Hubert street Plaza, Qc. Canada you have been missed semi-perf running weather. It is always nice and sunny on mothers day but stays rainy on fathers day Severe Thunderstorm Warning for Kay and Noble County until 6:45pm. {link} #WEATHER:  5:54 am : 66.0F. Feels F. 29.97% Humidity. 0.0MPH North Wind. #United States #Wisconsin #Wisconsin Dells #The ButtesThe nation is weather - The Associated Press New event. Severe Thunderstorm Warning from 5/25/2011 1:15 PM to 2:15 PM CDT for Christian Coun... Read more at {link} VA drive carefully.  Hopefully the storm does not hit us too bad.  I am good as long as the power stays on. Weather expectations/reality {link} Rhode Island: sunshine all beautiful _ MA : Dark n grey skies! Shits ugly! Severe Thunderstorm Warning for Allen and Van Wert County in OH until 7:45pm EDT. #ohwx Scattered thunderstorms this afternoon, high 62 (17 C).  Low  51 (11 C) tonight. national storm reports... here are the raw observations for the tornado reports today. {link} :)) Dress weather again, yay. Flash #flood warning in effect for parts of Long island due to tstorm. #SNE #weather #NYC  {link} @mention and a #happymonday 2 u too sweets. Im coolin, just at work tryin 2 stay warm. this bama weather is skidzo lol. what u doin? Every day that I think about washing my car, I turn on the weather and it is supposed to rain. Like legit, EVERY single time. Really hoping the weather forecast for this weekend is a lie. Come on Blue Skies!!! Nothing like sirens going off in the area to add a sense of immediacy to the weather reports.  At least the worst has passed to the north. Post Edited: La Crosse Technology Weather Direct WD-3308U-WAL 4 Day Internet Powered Wireless Forecaster {link} Really hot outside Art In A Busy World: Sketching On Rainy Days. {link} New event. Severe Thunderstorm Warning from 5/19/2011 3:57 PM to 5:00 PM CDT for Woodward Count... Read more at {link} Does it snow a lot in Idaho,Utah,Colorado and New Mexico in December? {link} RT @mention: Morning! Dry start to day, with some patchy fog. An isolated shower/storm possible later, but not as many as yesterday. ... Weather keeping you indoors today? Join us for worship this weekend! Saturday at 5:30 pm, Sunday at 8:00 or 10:45 am. New: SatWeather  (Weather): SatWeather 1.0Device: iOS UniversalCategory: WeatherPrice: $.99, Version: 1.0 (iTunes) Description:\\n\\t\\t\\tSa... It is bone chilling cold outside!! The weather has been Forks-ish lately! #Twilight RT @mention: Edward Cullen is painting with @mention and I. {link} I will be at Shuckers - Wake Forest tonight, starting at 6:30! Fantastic weather for an evening on the patio! I do not mind stormy weather, but IT BETTER NOT make @#$* neighbor is car alarm go off all night like last night, or I will...well, something. RT @mention: severewarn: Severe Thunderstorm Warning for Benton, Mille Lacs, and Sherburne County in MN until 7:45pm CDT. #mnwx yay it is gonna storm! c: Dear perfect weather, thanks for the vest lunch hour of all time. (@ Lady Bird Lake Trail w/ 2 others) {link} @mention yea dis weather trash Beautiful weather in Chi-town. Going to grab Pizanos with @mention per the rockin rec of @mention @mention that was the effect I was hoping for haha, I hated that snow, I looked gorgeous that day bed head with old clothes on haha Another rainy day! Blah. @mention HAPPY BIRTHDAY!!! You\\'re planning on taking care of this whole rainy cloudy thing right? if not, i\\'ll party in the rain with ya ;) RT @mention: Ready to get on this flight back to slc. Later mammoth. Kinda bummed snow season is over not gonna lie WX ALT: ...A SEVERE THUNDERSTORM WARNING REMAINS IN EFFECT UNTIL 630 PM EDT FOR NORTHEASTERN PICKENS...NORTHWESTERN... {link} my children are not dressed for today is weather.  mommyskills -5 The weather is beautiful. Even the birds are bumping. #mnisdope it is all gone very quiet here at Wine HQ. Maybe everyone has gone home early to enjoy the sunshine?\\nWhats everyones plan this weekend then? @mention  Thx - sounds like you have gone through some crazy weather... Playing euchre in a windy, sunburnt outside tourney drinking yoohoo, wearing zebra print sunglasses break this poker face. You can plan for a change in the weather and time. Arsenal blows. Weather is amazing. Neighbor bumpin music into the courtyard. Some baby screaming. #sunday Shoutout to the sunshine this morning #EastSide #Tacoma @mention &lt;folks are out enjoying the nice weather. Rain back Friday for the next six days.lol:-( @mention That is about what our temp is here, too!!  It was rather warm yesterday til storms - now it is so cold again!!  =/ RT @mention: Uqhhh it is sooooo hot outside ! #Texasweather Weather Alert: Flood Warning issued May 22 at 6:32PM MDT expiring May 23 at 9:32AM MDT by NWS Glasgow {link}... {link} @mention Oh wow, you had hail? We just got dark clouds passing overhead in southern NH. Now it is sunny and windy. Friday evening. Weather? Beautiful. Last man standing at the office. Bitter? Nah. It only makes payday that much sweeter. Stay hungry. Perfect weather for a natural disaster. I thnk 2012 came early... Ahhh weather so hot!!! I wish I had a girlfriend, this is perfect weather to get naked in. Good dreary, rainy, foggy, drizzly, misty, stormy morning everyone. RT @mention: ...even the weather in OKC is #thunder[ing]up A\\'right despite feeling flu-ish im gonna go play some sand volleyball and enjoy the weather with my besties :) more voting l8r #teammusso In Rhode Island and it is a beautiful sunny day! #WEATHER: 8:52 pm C: 76.0F. Feels F. 29.76% Humidity. 17.3MPH Southeast Wind. @mention nothing better then woman in warm weather #yeahiamthattype @mention it is cold outside #WEATHER:  4:53 pm : 89.0F. Feels F. 29.72% Humidity. 21.9MPH South Wind. RT @mention: RT @mention: BREAKING: Large, wedge tornado on the ground coming into Okla City LIVE on our weather blog {link} ... RT @mention: Weather Chanel cameraman turns away from recovery of body live, after EF4 tornado slams Joplin Missouri. CNN, MSNBC : ... Guess another severe #Thunderstorm is heading toward #WV. :-/ \\n#NoMoreRain I wanna do something fun but I do not want to be caught out in the storm tonight so I think I will just stay home lol Prayers going out to Joplin, Missouri and everyone affected by all this crazy weather! good morning, it is sunny, pick up new car and then off to Wilton house near Salisbury i think RT @mention: Do NOT go out to move your car in a hail storm. Your car can be fixed. You might not be fixable. #preparenow Not outside but looking out the window at them. Its to hot to be bothered by the animals.'"
      ]
     },
     "execution_count": 19,
     "metadata": {},
     "output_type": "execute_result"
    }
   ],
   "source": [
    "df['text'] = df['text'].apply(lambda x: cont_to_exp(x))\n",
    "' '.join(df['text'].tolist())"
   ]
  },
  {
   "cell_type": "markdown",
   "metadata": {},
   "source": [
    "#### Feature Engineering"
   ]
  },
  {
   "cell_type": "code",
   "execution_count": 20,
   "metadata": {},
   "outputs": [
    {
     "data": {
      "text/html": [
       "<div>\n",
       "<style scoped>\n",
       "    .dataframe tbody tr th:only-of-type {\n",
       "        vertical-align: middle;\n",
       "    }\n",
       "\n",
       "    .dataframe tbody tr th {\n",
       "        vertical-align: top;\n",
       "    }\n",
       "\n",
       "    .dataframe thead th {\n",
       "        text-align: right;\n",
       "    }\n",
       "</style>\n",
       "<table border=\"1\" class=\"dataframe\">\n",
       "  <thead>\n",
       "    <tr style=\"text-align: right;\">\n",
       "      <th></th>\n",
       "      <th>Label</th>\n",
       "      <th>Label_Confidence</th>\n",
       "      <th>tweet_id</th>\n",
       "      <th>text</th>\n",
       "    </tr>\n",
       "  </thead>\n",
       "  <tbody>\n",
       "    <tr>\n",
       "      <th>0</th>\n",
       "      <td>1</td>\n",
       "      <td>0.8439</td>\n",
       "      <td>81990560</td>\n",
       "      <td>Grilling kabobs on the grill last night was am...</td>\n",
       "    </tr>\n",
       "    <tr>\n",
       "      <th>1</th>\n",
       "      <td>-1</td>\n",
       "      <td>0.6963</td>\n",
       "      <td>84314377</td>\n",
       "      <td>The slowest day ever !! And the weather makes ...</td>\n",
       "    </tr>\n",
       "    <tr>\n",
       "      <th>2</th>\n",
       "      <td>0</td>\n",
       "      <td>0.8802</td>\n",
       "      <td>82846118</td>\n",
       "      <td>Fire Weather Watch issued May 17 at 4:21PM CDT...</td>\n",
       "    </tr>\n",
       "    <tr>\n",
       "      <th>3</th>\n",
       "      <td>1</td>\n",
       "      <td>0.6897</td>\n",
       "      <td>82843785</td>\n",
       "      <td>Im going to lunch early today.   The weather i...</td>\n",
       "    </tr>\n",
       "    <tr>\n",
       "      <th>4</th>\n",
       "      <td>0</td>\n",
       "      <td>0.6153</td>\n",
       "      <td>82840144</td>\n",
       "      <td>Weekend Weather Causes Delays In I-270 Bridge ...</td>\n",
       "    </tr>\n",
       "  </tbody>\n",
       "</table>\n",
       "</div>"
      ],
      "text/plain": [
       "   Label  Label_Confidence  tweet_id  \\\n",
       "0      1            0.8439  81990560   \n",
       "1     -1            0.6963  84314377   \n",
       "2      0            0.8802  82846118   \n",
       "3      1            0.6897  82843785   \n",
       "4      0            0.6153  82840144   \n",
       "\n",
       "                                                text  \n",
       "0  Grilling kabobs on the grill last night was am...  \n",
       "1  The slowest day ever !! And the weather makes ...  \n",
       "2  Fire Weather Watch issued May 17 at 4:21PM CDT...  \n",
       "3  Im going to lunch early today.   The weather i...  \n",
       "4  Weekend Weather Causes Delays In I-270 Bridge ...  "
      ]
     },
     "execution_count": 20,
     "metadata": {},
     "output_type": "execute_result"
    }
   ],
   "source": [
    "df.head()\n",
    "# we're going to add length of text, word count, and average word length columns.\n",
    "# also, we will use textblob to add sentiment polarity columns"
   ]
  },
  {
   "cell_type": "code",
   "execution_count": 21,
   "metadata": {},
   "outputs": [],
   "source": [
    "from textblob import TextBlob"
   ]
  },
  {
   "cell_type": "code",
   "execution_count": 22,
   "metadata": {},
   "outputs": [],
   "source": [
    "df['polarity'] = df['text'].apply(lambda x: TextBlob(x).sentiment.polarity)"
   ]
  },
  {
   "cell_type": "code",
   "execution_count": 23,
   "metadata": {},
   "outputs": [],
   "source": [
    "df['text_length'] = df['text'].apply(lambda x: len(x))"
   ]
  },
  {
   "cell_type": "code",
   "execution_count": 24,
   "metadata": {},
   "outputs": [],
   "source": [
    "df['word_count'] = df['text'].apply(lambda x: len(x.split()))"
   ]
  },
  {
   "cell_type": "code",
   "execution_count": 25,
   "metadata": {},
   "outputs": [],
   "source": [
    "def get_avg_word_len(x):\n",
    "    words = x.split()\n",
    "    word_len = 0\n",
    "    for word in words:\n",
    "        word_len = word_len + len(word)\n",
    "\n",
    "    return word_len/len(words)"
   ]
  },
  {
   "cell_type": "code",
   "execution_count": 26,
   "metadata": {},
   "outputs": [],
   "source": [
    "df['avg_word_length'] = df['text'].apply(lambda x: get_avg_word_len(x))"
   ]
  },
  {
   "cell_type": "code",
   "execution_count": 27,
   "metadata": {},
   "outputs": [
    {
     "data": {
      "text/html": [
       "<div>\n",
       "<style scoped>\n",
       "    .dataframe tbody tr th:only-of-type {\n",
       "        vertical-align: middle;\n",
       "    }\n",
       "\n",
       "    .dataframe tbody tr th {\n",
       "        vertical-align: top;\n",
       "    }\n",
       "\n",
       "    .dataframe thead th {\n",
       "        text-align: right;\n",
       "    }\n",
       "</style>\n",
       "<table border=\"1\" class=\"dataframe\">\n",
       "  <thead>\n",
       "    <tr style=\"text-align: right;\">\n",
       "      <th></th>\n",
       "      <th>Label</th>\n",
       "      <th>Label_Confidence</th>\n",
       "      <th>tweet_id</th>\n",
       "      <th>text</th>\n",
       "      <th>polarity</th>\n",
       "      <th>text_length</th>\n",
       "      <th>word_count</th>\n",
       "      <th>avg_word_length</th>\n",
       "    </tr>\n",
       "  </thead>\n",
       "  <tbody>\n",
       "    <tr>\n",
       "      <th>0</th>\n",
       "      <td>1</td>\n",
       "      <td>0.8439</td>\n",
       "      <td>81990560</td>\n",
       "      <td>Grilling kabobs on the grill last night was am...</td>\n",
       "      <td>0.312500</td>\n",
       "      <td>96</td>\n",
       "      <td>18</td>\n",
       "      <td>4.333333</td>\n",
       "    </tr>\n",
       "    <tr>\n",
       "      <th>1</th>\n",
       "      <td>-1</td>\n",
       "      <td>0.6963</td>\n",
       "      <td>84314377</td>\n",
       "      <td>The slowest day ever !! And the weather makes ...</td>\n",
       "      <td>-0.500000</td>\n",
       "      <td>61</td>\n",
       "      <td>13</td>\n",
       "      <td>3.769231</td>\n",
       "    </tr>\n",
       "    <tr>\n",
       "      <th>2</th>\n",
       "      <td>0</td>\n",
       "      <td>0.8802</td>\n",
       "      <td>82846118</td>\n",
       "      <td>Fire Weather Watch issued May 17 at 4:21PM CDT...</td>\n",
       "      <td>0.000000</td>\n",
       "      <td>101</td>\n",
       "      <td>19</td>\n",
       "      <td>4.368421</td>\n",
       "    </tr>\n",
       "    <tr>\n",
       "      <th>3</th>\n",
       "      <td>1</td>\n",
       "      <td>0.6897</td>\n",
       "      <td>82843785</td>\n",
       "      <td>Im going to lunch early today.   The weather i...</td>\n",
       "      <td>0.388889</td>\n",
       "      <td>111</td>\n",
       "      <td>20</td>\n",
       "      <td>4.500000</td>\n",
       "    </tr>\n",
       "    <tr>\n",
       "      <th>4</th>\n",
       "      <td>0</td>\n",
       "      <td>0.6153</td>\n",
       "      <td>82840144</td>\n",
       "      <td>Weekend Weather Causes Delays In I-270 Bridge ...</td>\n",
       "      <td>0.000000</td>\n",
       "      <td>58</td>\n",
       "      <td>9</td>\n",
       "      <td>5.444444</td>\n",
       "    </tr>\n",
       "  </tbody>\n",
       "</table>\n",
       "</div>"
      ],
      "text/plain": [
       "   Label  Label_Confidence  tweet_id  \\\n",
       "0      1            0.8439  81990560   \n",
       "1     -1            0.6963  84314377   \n",
       "2      0            0.8802  82846118   \n",
       "3      1            0.6897  82843785   \n",
       "4      0            0.6153  82840144   \n",
       "\n",
       "                                                text  polarity  text_length  \\\n",
       "0  Grilling kabobs on the grill last night was am...  0.312500           96   \n",
       "1  The slowest day ever !! And the weather makes ... -0.500000           61   \n",
       "2  Fire Weather Watch issued May 17 at 4:21PM CDT...  0.000000          101   \n",
       "3  Im going to lunch early today.   The weather i...  0.388889          111   \n",
       "4  Weekend Weather Causes Delays In I-270 Bridge ...  0.000000           58   \n",
       "\n",
       "   word_count  avg_word_length  \n",
       "0          18         4.333333  \n",
       "1          13         3.769231  \n",
       "2          19         4.368421  \n",
       "3          20         4.500000  \n",
       "4           9         5.444444  "
      ]
     },
     "execution_count": 27,
     "metadata": {},
     "output_type": "execute_result"
    }
   ],
   "source": [
    "df.head()"
   ]
  },
  {
   "cell_type": "markdown",
   "metadata": {},
   "source": [
    "#### Exploring Variable Distributions"
   ]
  },
  {
   "cell_type": "code",
   "execution_count": 28,
   "metadata": {},
   "outputs": [
    {
     "data": {
      "application/vnd.plotly.v1+json": {
       "config": {
        "linkText": "Export to plot.ly",
        "plotlyServerURL": "https://plot.ly",
        "showLink": true
       },
       "data": [
        {
         "histfunc": "count",
         "histnorm": "",
         "marker": {
          "color": "rgba(255, 153, 51, 1.0)",
          "line": {
           "color": "#4D5663",
           "width": 1.3
          }
         },
         "name": "polarity",
         "nbinsx": 50,
         "opacity": 0.8,
         "orientation": "v",
         "type": "histogram",
         "x": [
          0.3125,
          -0.5,
          0,
          0.3888888888888889,
          0,
          0.7,
          0.1,
          -0.6999999999999998,
          0.35833333333333334,
          0,
          -0.23333333333333336,
          -0.5,
          0,
          -0.11249999999999999,
          -0.30000000000000004,
          0.525,
          0.3,
          0.16666666666666666,
          -0.375,
          -0.125,
          0,
          0.9375,
          -0.4125,
          0,
          0.125,
          0,
          0.20833333333333334,
          0,
          0,
          0.8,
          0.35,
          0,
          0,
          -0.6,
          0.4,
          0.40625,
          0,
          0.25,
          -0.11666666666666665,
          -0.05555555555555558,
          0,
          0.8,
          0.07500000000000001,
          0.25,
          -0.30833333333333335,
          -0.125,
          0,
          -0.06666666666666665,
          0.6,
          0.325,
          0.55,
          0.47500000000000003,
          -0.0033333333333333214,
          0.6333333333333334,
          0.31666666666666665,
          -0.19999999999999998,
          -0.375,
          0,
          0.5833333333333333,
          0,
          0.3416666666666667,
          0.13636363636363635,
          0,
          0.3,
          0.16,
          0,
          -0.49999999999999994,
          0.42727272727272725,
          0,
          0.4732142857142857,
          0,
          0.55,
          0.3181818181818182,
          0.5,
          -0.625,
          0.675,
          -0.15555555555555559,
          0,
          0.45,
          -0.18333333333333332,
          0,
          -0.3666666666666667,
          -0.625,
          0.34285714285714286,
          -0.1,
          0,
          0,
          0,
          0,
          0,
          0,
          0.05,
          0,
          0.625,
          0,
          -0.3499999999999999,
          0,
          0.1875,
          0.4089285714285714,
          0,
          0,
          0,
          0,
          0,
          0,
          0.25,
          -0.05,
          1,
          0.925,
          0,
          -0.3666666666666667,
          0.24999999999999997,
          0,
          -0.125,
          0.225,
          0,
          0.3806818181818182,
          0.5,
          0.2787878787878788,
          0.525,
          1,
          -0.1212121212121212,
          0,
          0,
          -0.22499999999999992,
          0,
          0,
          -0.08333333333333333,
          0.7000000000000001,
          -0.7999999999999999,
          -0.55,
          0,
          -0.75,
          0,
          0,
          0.125,
          0,
          0,
          -0.8,
          -0.2,
          0.25,
          0,
          -0.5,
          0,
          0.2,
          0,
          0.3666666666666667,
          0.125,
          0.5,
          1,
          0,
          0.4166666666666667,
          1,
          0.1,
          -0.19999999999999998,
          0.2833333333333334,
          0,
          0,
          0.31666666666666665,
          0,
          0.30000000000000004,
          0,
          -0.35714285714285715,
          0,
          0.05,
          0,
          0.1619047619047619,
          0.55,
          1,
          0.17045454545454544,
          0,
          0.14583333333333334,
          0.05,
          0,
          -0.1,
          0,
          0,
          -0.4999999999999999,
          0.4055555555555556,
          -0.2,
          0,
          0.6000000000000001,
          0.175,
          0,
          0.4166666666666667,
          -0.08333333333333333,
          0.5,
          0,
          -0.13333333333333333,
          0,
          0.6250000000000001,
          0.085,
          0.725,
          0.2857142857142857,
          -0.04999999999999999,
          0,
          -0.1,
          0.3181818181818182,
          0,
          0.24285714285714285,
          0,
          0.05,
          -0.375,
          0.08333333333333336,
          -0.08888888888888886,
          0.8,
          0,
          0,
          0.35,
          0,
          0.275,
          0,
          0,
          0,
          0.875,
          0.39999999999999997,
          0.3666666666666667,
          0,
          0.675,
          0,
          0.13999999999999999,
          0,
          0.5,
          0.33214285714285713,
          0,
          0,
          0,
          0,
          0.5866666666666667,
          0.25,
          0,
          -0.2,
          -0.016666666666666663,
          0,
          0.0625,
          0.7,
          0,
          0.25,
          0.7,
          0.6546875,
          0,
          0.17857142857142858,
          0,
          0,
          -0.06666666666666665,
          0.75,
          0,
          0.22812499999999997,
          0.39999999999999997,
          0,
          -0.5859375,
          1,
          0.625,
          -0.6999999999999998,
          0.5,
          0.3875,
          0.16666666666666666,
          0,
          -0.234375,
          0,
          0,
          0.16666666666666666,
          0,
          0,
          0.7125,
          0.4000000000000001,
          0,
          -0.08750000000000001,
          0.75,
          -0.75,
          0,
          0,
          0,
          -0.13181818181818183,
          -0.16666666666666666,
          0.875,
          0.45714285714285713,
          0.5499999999999999,
          0.002777777777777768,
          0,
          0,
          0,
          0,
          0,
          0,
          0.21818181818181817,
          0.175,
          0,
          -0.25,
          0,
          0.41999999999999993,
          0.5,
          0,
          0.3625,
          0,
          0,
          0.09722222222222222,
          0,
          -0.4,
          0,
          0,
          0,
          0,
          0.79,
          0.6,
          0.28125,
          0,
          0.26666666666666666,
          -0.3,
          0.15625,
          0.2375,
          0.625,
          0.125,
          0,
          0,
          -0.6,
          0.36818181818181817,
          0,
          0.25,
          0.6,
          0,
          0.7845581054687499,
          -0.19999999999999998,
          0.08333333333333333,
          0,
          -0.75,
          0.25,
          0,
          0,
          0,
          -0.4,
          0.6,
          3.700743415417188e-17,
          -0.4333333333333333,
          0.125,
          0.125,
          0.1875,
          -0.39999999999999997,
          0.15,
          0,
          0,
          0,
          0.28714285714285714,
          -0.026388888888888906,
          0.26785714285714285,
          0,
          0,
          0,
          0,
          0,
          0,
          0.5953125,
          1.3877787807814457e-17,
          -0.6,
          -0.146484375,
          0,
          0,
          0,
          0.35714285714285715,
          0.625,
          0.75,
          0.25,
          0,
          -0.4125,
          -0.41666666666666663,
          0.4,
          0.35714285714285715,
          0.78125,
          0.625,
          0,
          0,
          0.75,
          0.45,
          -0.15,
          -0.25,
          -0.15555555555555559,
          0.2556818181818182,
          0,
          0.4,
          0.6,
          0.542,
          0.1277777777777778,
          1,
          0.22499999999999998,
          0.225,
          0,
          0,
          0,
          -1,
          0,
          -0.14939393939393936,
          0,
          0,
          0.7000000000000001,
          0.4375,
          0,
          0.5,
          0,
          0,
          0.7,
          0.38333333333333336,
          0.35714285714285715,
          0.02552083333333327,
          0.17734375,
          0,
          0.48,
          0,
          -0.08882575757575759,
          0,
          -0.2,
          0.2,
          0,
          0,
          0,
          0.02857142857142862,
          0.6,
          0,
          0.125,
          -0.5,
          0.2833333333333333,
          0.85,
          -0.5571428571428572,
          0.125,
          0.23333333333333336,
          0.5625,
          -0.675,
          -0.6,
          1,
          0,
          -0.75,
          0,
          0,
          0.20000000000000004,
          0.175,
          -0.75,
          0.17,
          0.625,
          0.6,
          0.390625,
          -0.41944444444444434,
          0.625,
          0,
          0,
          0.125,
          0,
          0.7749999999999999,
          -0.020833333333333343,
          0.05,
          0.875,
          0.75,
          0.5,
          0.19,
          0,
          0,
          0.5736111111111111,
          0,
          0,
          0,
          0.16249999999999998,
          0.55,
          0.15625,
          0,
          0.5,
          0,
          -0.6,
          0.61875,
          0.125,
          1,
          0,
          0.12500000000000003,
          0.15,
          -0.10476190476190476,
          0.2,
          0,
          0,
          0,
          0.33,
          0.41666666666666663,
          0,
          0,
          0,
          0,
          -0.39375,
          0.35,
          -0.75,
          -0.546875,
          0.3625,
          -0.010000000000000009,
          0.08,
          0.7,
          0,
          -0.2,
          0,
          0,
          0.65,
          -0.05,
          -0.25,
          -0.75,
          0,
          -0.2,
          0.1333333333333334,
          0,
          0,
          0.4,
          0.5,
          0.3,
          0.5499999999999999,
          -0.3888888888888889,
          0.8,
          -0.3,
          0,
          1,
          0.625,
          0.13636363636363635,
          0,
          -0.55,
          0.44999999999999996,
          0.5166666666666667,
          0,
          0,
          0,
          0,
          1,
          0.3333333333333333,
          0.375,
          -0.15555555555555559,
          0,
          0.45499999999999996,
          0,
          0,
          0.3,
          0.5,
          -0.0625,
          -0.8,
          -0.234375,
          -0.05,
          -0.1875,
          0.43333333333333335,
          0,
          0,
          -0.25,
          -0.675,
          0.15,
          0,
          0,
          -0.08333333333333327,
          0.06818181818181818,
          0.08333333333333333,
          0,
          -0.25,
          0,
          0,
          0.25,
          0.65,
          0,
          -0.3,
          0,
          0.13636363636363635,
          0.36,
          0.2857142857142857,
          0.5,
          0.25,
          -0.2,
          0.375,
          0,
          0.33999999999999997,
          0.125,
          0.125,
          0.39285714285714285,
          0.3125,
          -0.3,
          0.16742424242424242,
          0,
          -0.3375,
          0.025000000000000078,
          0.85,
          0.25,
          0,
          0.06818181818181818,
          0,
          0,
          0.25,
          -0.4125,
          0,
          0,
          0,
          0.4,
          0.625,
          0.5666666666666668,
          0.5375,
          0.30833333333333335,
          0,
          0,
          0.3196428571428572,
          0,
          -0.13787878787878788,
          -0.6,
          0.08,
          0,
          0,
          0.10000000000000003,
          -0.6,
          0,
          0,
          0,
          0,
          -0.012499999999999992,
          0.75,
          0.3,
          0.253125,
          0,
          0.22,
          0,
          0,
          0,
          0.5,
          0,
          -0.6,
          1,
          -0.45,
          -0.1,
          0.1361111111111111,
          0.2,
          0,
          0.6,
          0.4,
          0.42857142857142855,
          1,
          0,
          0.125,
          0,
          0,
          0,
          0,
          0.19999999999999998,
          0,
          0,
          0,
          0.3666666666666667,
          0,
          0.3,
          0,
          0.46875,
          -0.6,
          0.78125,
          0,
          0,
          0.5,
          -0.2,
          0,
          -0.5,
          0.05833333333333333,
          0.625,
          0,
          0.03333333333333333,
          0.8,
          0.9375,
          0.5,
          -0.06666666666666667,
          0.175,
          0.55,
          0.475,
          0,
          0.4666666666666666,
          0.6666666666666666,
          1,
          0,
          -0.688095238095238,
          -0.085,
          0.3333333333333333,
          0.525,
          0,
          0.75,
          0.5859375,
          -0.2833333333333334,
          0,
          -0.6,
          -0.6,
          -0.07500000000000001,
          0.02727272727272727,
          0.35,
          0.125,
          0.875,
          -0.037500000000000006,
          -0.75,
          0.3,
          0,
          -0.5,
          -0.2,
          0,
          0,
          0.6,
          0.6,
          0,
          0,
          0.21212121212121213,
          -0.037499999999999964,
          0,
          -0.05937500000000001,
          0,
          0.08,
          -0.23076923076923078,
          0.5,
          -0.0875,
          0.7,
          -0.07142857142857142,
          0.1,
          -0.65,
          0.1,
          0.125,
          0.1,
          0.3181818181818182,
          0.13636363636363635,
          0.10833333333333334,
          0,
          0.13636363636363635,
          -0.3666666666666667,
          -0.375,
          0.25,
          0.25,
          0,
          0,
          0.6,
          0,
          0.85,
          0.06000000000000001,
          0,
          0.43392857142857144,
          0.06666666666666667,
          0,
          0,
          0.85,
          0.16666666666666666,
          -0.6,
          0,
          0,
          0.6000000000000001,
          0,
          0.07000000000000002,
          -0.3625,
          0.125,
          0,
          -0.016666666666666663,
          0.19,
          0.4000000000000001,
          0.48828125,
          0.5,
          0.7,
          0,
          0.42142857142857143,
          1,
          0,
          0.55,
          -0.3,
          0,
          0.17532467532467533,
          0.13636363636363635,
          -0.25,
          0.55,
          -0.75,
          0.3121212121212121,
          0.1,
          0.125
         ]
        }
       ],
       "layout": {
        "barmode": "overlay",
        "legend": {
         "bgcolor": "#F5F6F9",
         "font": {
          "color": "#4D5663"
         }
        },
        "paper_bgcolor": "#F5F6F9",
        "plot_bgcolor": "#F5F6F9",
        "template": {
         "data": {
          "bar": [
           {
            "error_x": {
             "color": "#2a3f5f"
            },
            "error_y": {
             "color": "#2a3f5f"
            },
            "marker": {
             "line": {
              "color": "#E5ECF6",
              "width": 0.5
             },
             "pattern": {
              "fillmode": "overlay",
              "size": 10,
              "solidity": 0.2
             }
            },
            "type": "bar"
           }
          ],
          "barpolar": [
           {
            "marker": {
             "line": {
              "color": "#E5ECF6",
              "width": 0.5
             },
             "pattern": {
              "fillmode": "overlay",
              "size": 10,
              "solidity": 0.2
             }
            },
            "type": "barpolar"
           }
          ],
          "carpet": [
           {
            "aaxis": {
             "endlinecolor": "#2a3f5f",
             "gridcolor": "white",
             "linecolor": "white",
             "minorgridcolor": "white",
             "startlinecolor": "#2a3f5f"
            },
            "baxis": {
             "endlinecolor": "#2a3f5f",
             "gridcolor": "white",
             "linecolor": "white",
             "minorgridcolor": "white",
             "startlinecolor": "#2a3f5f"
            },
            "type": "carpet"
           }
          ],
          "choropleth": [
           {
            "colorbar": {
             "outlinewidth": 0,
             "ticks": ""
            },
            "type": "choropleth"
           }
          ],
          "contour": [
           {
            "colorbar": {
             "outlinewidth": 0,
             "ticks": ""
            },
            "colorscale": [
             [
              0,
              "#0d0887"
             ],
             [
              0.1111111111111111,
              "#46039f"
             ],
             [
              0.2222222222222222,
              "#7201a8"
             ],
             [
              0.3333333333333333,
              "#9c179e"
             ],
             [
              0.4444444444444444,
              "#bd3786"
             ],
             [
              0.5555555555555556,
              "#d8576b"
             ],
             [
              0.6666666666666666,
              "#ed7953"
             ],
             [
              0.7777777777777778,
              "#fb9f3a"
             ],
             [
              0.8888888888888888,
              "#fdca26"
             ],
             [
              1,
              "#f0f921"
             ]
            ],
            "type": "contour"
           }
          ],
          "contourcarpet": [
           {
            "colorbar": {
             "outlinewidth": 0,
             "ticks": ""
            },
            "type": "contourcarpet"
           }
          ],
          "heatmap": [
           {
            "colorbar": {
             "outlinewidth": 0,
             "ticks": ""
            },
            "colorscale": [
             [
              0,
              "#0d0887"
             ],
             [
              0.1111111111111111,
              "#46039f"
             ],
             [
              0.2222222222222222,
              "#7201a8"
             ],
             [
              0.3333333333333333,
              "#9c179e"
             ],
             [
              0.4444444444444444,
              "#bd3786"
             ],
             [
              0.5555555555555556,
              "#d8576b"
             ],
             [
              0.6666666666666666,
              "#ed7953"
             ],
             [
              0.7777777777777778,
              "#fb9f3a"
             ],
             [
              0.8888888888888888,
              "#fdca26"
             ],
             [
              1,
              "#f0f921"
             ]
            ],
            "type": "heatmap"
           }
          ],
          "heatmapgl": [
           {
            "colorbar": {
             "outlinewidth": 0,
             "ticks": ""
            },
            "colorscale": [
             [
              0,
              "#0d0887"
             ],
             [
              0.1111111111111111,
              "#46039f"
             ],
             [
              0.2222222222222222,
              "#7201a8"
             ],
             [
              0.3333333333333333,
              "#9c179e"
             ],
             [
              0.4444444444444444,
              "#bd3786"
             ],
             [
              0.5555555555555556,
              "#d8576b"
             ],
             [
              0.6666666666666666,
              "#ed7953"
             ],
             [
              0.7777777777777778,
              "#fb9f3a"
             ],
             [
              0.8888888888888888,
              "#fdca26"
             ],
             [
              1,
              "#f0f921"
             ]
            ],
            "type": "heatmapgl"
           }
          ],
          "histogram": [
           {
            "marker": {
             "pattern": {
              "fillmode": "overlay",
              "size": 10,
              "solidity": 0.2
             }
            },
            "type": "histogram"
           }
          ],
          "histogram2d": [
           {
            "colorbar": {
             "outlinewidth": 0,
             "ticks": ""
            },
            "colorscale": [
             [
              0,
              "#0d0887"
             ],
             [
              0.1111111111111111,
              "#46039f"
             ],
             [
              0.2222222222222222,
              "#7201a8"
             ],
             [
              0.3333333333333333,
              "#9c179e"
             ],
             [
              0.4444444444444444,
              "#bd3786"
             ],
             [
              0.5555555555555556,
              "#d8576b"
             ],
             [
              0.6666666666666666,
              "#ed7953"
             ],
             [
              0.7777777777777778,
              "#fb9f3a"
             ],
             [
              0.8888888888888888,
              "#fdca26"
             ],
             [
              1,
              "#f0f921"
             ]
            ],
            "type": "histogram2d"
           }
          ],
          "histogram2dcontour": [
           {
            "colorbar": {
             "outlinewidth": 0,
             "ticks": ""
            },
            "colorscale": [
             [
              0,
              "#0d0887"
             ],
             [
              0.1111111111111111,
              "#46039f"
             ],
             [
              0.2222222222222222,
              "#7201a8"
             ],
             [
              0.3333333333333333,
              "#9c179e"
             ],
             [
              0.4444444444444444,
              "#bd3786"
             ],
             [
              0.5555555555555556,
              "#d8576b"
             ],
             [
              0.6666666666666666,
              "#ed7953"
             ],
             [
              0.7777777777777778,
              "#fb9f3a"
             ],
             [
              0.8888888888888888,
              "#fdca26"
             ],
             [
              1,
              "#f0f921"
             ]
            ],
            "type": "histogram2dcontour"
           }
          ],
          "mesh3d": [
           {
            "colorbar": {
             "outlinewidth": 0,
             "ticks": ""
            },
            "type": "mesh3d"
           }
          ],
          "parcoords": [
           {
            "line": {
             "colorbar": {
              "outlinewidth": 0,
              "ticks": ""
             }
            },
            "type": "parcoords"
           }
          ],
          "pie": [
           {
            "automargin": true,
            "type": "pie"
           }
          ],
          "scatter": [
           {
            "fillpattern": {
             "fillmode": "overlay",
             "size": 10,
             "solidity": 0.2
            },
            "type": "scatter"
           }
          ],
          "scatter3d": [
           {
            "line": {
             "colorbar": {
              "outlinewidth": 0,
              "ticks": ""
             }
            },
            "marker": {
             "colorbar": {
              "outlinewidth": 0,
              "ticks": ""
             }
            },
            "type": "scatter3d"
           }
          ],
          "scattercarpet": [
           {
            "marker": {
             "colorbar": {
              "outlinewidth": 0,
              "ticks": ""
             }
            },
            "type": "scattercarpet"
           }
          ],
          "scattergeo": [
           {
            "marker": {
             "colorbar": {
              "outlinewidth": 0,
              "ticks": ""
             }
            },
            "type": "scattergeo"
           }
          ],
          "scattergl": [
           {
            "marker": {
             "colorbar": {
              "outlinewidth": 0,
              "ticks": ""
             }
            },
            "type": "scattergl"
           }
          ],
          "scattermapbox": [
           {
            "marker": {
             "colorbar": {
              "outlinewidth": 0,
              "ticks": ""
             }
            },
            "type": "scattermapbox"
           }
          ],
          "scatterpolar": [
           {
            "marker": {
             "colorbar": {
              "outlinewidth": 0,
              "ticks": ""
             }
            },
            "type": "scatterpolar"
           }
          ],
          "scatterpolargl": [
           {
            "marker": {
             "colorbar": {
              "outlinewidth": 0,
              "ticks": ""
             }
            },
            "type": "scatterpolargl"
           }
          ],
          "scatterternary": [
           {
            "marker": {
             "colorbar": {
              "outlinewidth": 0,
              "ticks": ""
             }
            },
            "type": "scatterternary"
           }
          ],
          "surface": [
           {
            "colorbar": {
             "outlinewidth": 0,
             "ticks": ""
            },
            "colorscale": [
             [
              0,
              "#0d0887"
             ],
             [
              0.1111111111111111,
              "#46039f"
             ],
             [
              0.2222222222222222,
              "#7201a8"
             ],
             [
              0.3333333333333333,
              "#9c179e"
             ],
             [
              0.4444444444444444,
              "#bd3786"
             ],
             [
              0.5555555555555556,
              "#d8576b"
             ],
             [
              0.6666666666666666,
              "#ed7953"
             ],
             [
              0.7777777777777778,
              "#fb9f3a"
             ],
             [
              0.8888888888888888,
              "#fdca26"
             ],
             [
              1,
              "#f0f921"
             ]
            ],
            "type": "surface"
           }
          ],
          "table": [
           {
            "cells": {
             "fill": {
              "color": "#EBF0F8"
             },
             "line": {
              "color": "white"
             }
            },
            "header": {
             "fill": {
              "color": "#C8D4E3"
             },
             "line": {
              "color": "white"
             }
            },
            "type": "table"
           }
          ]
         },
         "layout": {
          "annotationdefaults": {
           "arrowcolor": "#2a3f5f",
           "arrowhead": 0,
           "arrowwidth": 1
          },
          "autotypenumbers": "strict",
          "coloraxis": {
           "colorbar": {
            "outlinewidth": 0,
            "ticks": ""
           }
          },
          "colorscale": {
           "diverging": [
            [
             0,
             "#8e0152"
            ],
            [
             0.1,
             "#c51b7d"
            ],
            [
             0.2,
             "#de77ae"
            ],
            [
             0.3,
             "#f1b6da"
            ],
            [
             0.4,
             "#fde0ef"
            ],
            [
             0.5,
             "#f7f7f7"
            ],
            [
             0.6,
             "#e6f5d0"
            ],
            [
             0.7,
             "#b8e186"
            ],
            [
             0.8,
             "#7fbc41"
            ],
            [
             0.9,
             "#4d9221"
            ],
            [
             1,
             "#276419"
            ]
           ],
           "sequential": [
            [
             0,
             "#0d0887"
            ],
            [
             0.1111111111111111,
             "#46039f"
            ],
            [
             0.2222222222222222,
             "#7201a8"
            ],
            [
             0.3333333333333333,
             "#9c179e"
            ],
            [
             0.4444444444444444,
             "#bd3786"
            ],
            [
             0.5555555555555556,
             "#d8576b"
            ],
            [
             0.6666666666666666,
             "#ed7953"
            ],
            [
             0.7777777777777778,
             "#fb9f3a"
            ],
            [
             0.8888888888888888,
             "#fdca26"
            ],
            [
             1,
             "#f0f921"
            ]
           ],
           "sequentialminus": [
            [
             0,
             "#0d0887"
            ],
            [
             0.1111111111111111,
             "#46039f"
            ],
            [
             0.2222222222222222,
             "#7201a8"
            ],
            [
             0.3333333333333333,
             "#9c179e"
            ],
            [
             0.4444444444444444,
             "#bd3786"
            ],
            [
             0.5555555555555556,
             "#d8576b"
            ],
            [
             0.6666666666666666,
             "#ed7953"
            ],
            [
             0.7777777777777778,
             "#fb9f3a"
            ],
            [
             0.8888888888888888,
             "#fdca26"
            ],
            [
             1,
             "#f0f921"
            ]
           ]
          },
          "colorway": [
           "#636efa",
           "#EF553B",
           "#00cc96",
           "#ab63fa",
           "#FFA15A",
           "#19d3f3",
           "#FF6692",
           "#B6E880",
           "#FF97FF",
           "#FECB52"
          ],
          "font": {
           "color": "#2a3f5f"
          },
          "geo": {
           "bgcolor": "white",
           "lakecolor": "white",
           "landcolor": "#E5ECF6",
           "showlakes": true,
           "showland": true,
           "subunitcolor": "white"
          },
          "hoverlabel": {
           "align": "left"
          },
          "hovermode": "closest",
          "mapbox": {
           "style": "light"
          },
          "paper_bgcolor": "white",
          "plot_bgcolor": "#E5ECF6",
          "polar": {
           "angularaxis": {
            "gridcolor": "white",
            "linecolor": "white",
            "ticks": ""
           },
           "bgcolor": "#E5ECF6",
           "radialaxis": {
            "gridcolor": "white",
            "linecolor": "white",
            "ticks": ""
           }
          },
          "scene": {
           "xaxis": {
            "backgroundcolor": "#E5ECF6",
            "gridcolor": "white",
            "gridwidth": 2,
            "linecolor": "white",
            "showbackground": true,
            "ticks": "",
            "zerolinecolor": "white"
           },
           "yaxis": {
            "backgroundcolor": "#E5ECF6",
            "gridcolor": "white",
            "gridwidth": 2,
            "linecolor": "white",
            "showbackground": true,
            "ticks": "",
            "zerolinecolor": "white"
           },
           "zaxis": {
            "backgroundcolor": "#E5ECF6",
            "gridcolor": "white",
            "gridwidth": 2,
            "linecolor": "white",
            "showbackground": true,
            "ticks": "",
            "zerolinecolor": "white"
           }
          },
          "shapedefaults": {
           "line": {
            "color": "#2a3f5f"
           }
          },
          "ternary": {
           "aaxis": {
            "gridcolor": "white",
            "linecolor": "white",
            "ticks": ""
           },
           "baxis": {
            "gridcolor": "white",
            "linecolor": "white",
            "ticks": ""
           },
           "bgcolor": "#E5ECF6",
           "caxis": {
            "gridcolor": "white",
            "linecolor": "white",
            "ticks": ""
           }
          },
          "title": {
           "x": 0.05
          },
          "xaxis": {
           "automargin": true,
           "gridcolor": "white",
           "linecolor": "white",
           "ticks": "",
           "title": {
            "standoff": 15
           },
           "zerolinecolor": "white",
           "zerolinewidth": 2
          },
          "yaxis": {
           "automargin": true,
           "gridcolor": "white",
           "linecolor": "white",
           "ticks": "",
           "title": {
            "standoff": 15
           },
           "zerolinecolor": "white",
           "zerolinewidth": 2
          }
         }
        },
        "title": {
         "font": {
          "color": "#4D5663"
         },
         "text": "Sentiment Polarity Distribution"
        },
        "xaxis": {
         "gridcolor": "#E1E5ED",
         "showgrid": true,
         "tickfont": {
          "color": "#4D5663"
         },
         "title": {
          "font": {
           "color": "#4D5663"
          },
          "text": "Polarity"
         },
         "zerolinecolor": "#E1E5ED"
        },
        "yaxis": {
         "gridcolor": "#E1E5ED",
         "showgrid": true,
         "tickfont": {
          "color": "#4D5663"
         },
         "title": {
          "font": {
           "color": "#4D5663"
          },
          "text": "Count"
         },
         "zerolinecolor": "#E1E5ED"
        }
       }
      },
      "text/html": [
       "<div>                            <div id=\"cd6f0d7e-2a95-4d9f-aa1b-3923fa5a32de\" class=\"plotly-graph-div\" style=\"height:525px; width:100%;\"></div>            <script type=\"text/javascript\">                require([\"plotly\"], function(Plotly) {                    window.PLOTLYENV=window.PLOTLYENV || {};\n",
       "                    window.PLOTLYENV.BASE_URL='https://plot.ly';                                    if (document.getElementById(\"cd6f0d7e-2a95-4d9f-aa1b-3923fa5a32de\")) {                    Plotly.newPlot(                        \"cd6f0d7e-2a95-4d9f-aa1b-3923fa5a32de\",                        [{\"histfunc\":\"count\",\"histnorm\":\"\",\"marker\":{\"color\":\"rgba(255, 153, 51, 1.0)\",\"line\":{\"color\":\"#4D5663\",\"width\":1.3}},\"name\":\"polarity\",\"nbinsx\":50,\"opacity\":0.8,\"orientation\":\"v\",\"x\":[0.3125,-0.5,0.0,0.3888888888888889,0.0,0.7,0.1,-0.6999999999999998,0.35833333333333334,0.0,-0.23333333333333336,-0.5,0.0,-0.11249999999999999,-0.30000000000000004,0.525,0.3,0.16666666666666666,-0.375,-0.125,0.0,0.9375,-0.4125,0.0,0.125,0.0,0.20833333333333334,0.0,0.0,0.8,0.35,0.0,0.0,-0.6,0.4,0.40625,0.0,0.25,-0.11666666666666665,-0.05555555555555558,0.0,0.8,0.07500000000000001,0.25,-0.30833333333333335,-0.125,0.0,-0.06666666666666665,0.6,0.325,0.55,0.47500000000000003,-0.0033333333333333214,0.6333333333333334,0.31666666666666665,-0.19999999999999998,-0.375,0.0,0.5833333333333333,0.0,0.3416666666666667,0.13636363636363635,0.0,0.3,0.16,0.0,-0.49999999999999994,0.42727272727272725,0.0,0.4732142857142857,0.0,0.55,0.3181818181818182,0.5,-0.625,0.675,-0.15555555555555559,0.0,0.45,-0.18333333333333332,0.0,-0.3666666666666667,-0.625,0.34285714285714286,-0.1,0.0,0.0,0.0,0.0,0.0,0.0,0.05,0.0,0.625,0.0,-0.3499999999999999,0.0,0.1875,0.4089285714285714,0.0,0.0,0.0,0.0,0.0,0.0,0.25,-0.05,1.0,0.925,0.0,-0.3666666666666667,0.24999999999999997,0.0,-0.125,0.225,0.0,0.3806818181818182,0.5,0.2787878787878788,0.525,1.0,-0.1212121212121212,0.0,0.0,-0.22499999999999992,0.0,0.0,-0.08333333333333333,0.7000000000000001,-0.7999999999999999,-0.55,0.0,-0.75,0.0,0.0,0.125,0.0,0.0,-0.8,-0.2,0.25,0.0,-0.5,0.0,0.2,0.0,0.3666666666666667,0.125,0.5,1.0,0.0,0.4166666666666667,1.0,0.1,-0.19999999999999998,0.2833333333333334,0.0,0.0,0.31666666666666665,0.0,0.30000000000000004,0.0,-0.35714285714285715,0.0,0.05,0.0,0.1619047619047619,0.55,1.0,0.17045454545454544,0.0,0.14583333333333334,0.05,0.0,-0.1,0.0,0.0,-0.4999999999999999,0.4055555555555556,-0.2,0.0,0.6000000000000001,0.175,0.0,0.4166666666666667,-0.08333333333333333,0.5,0.0,-0.13333333333333333,0.0,0.6250000000000001,0.085,0.725,0.2857142857142857,-0.04999999999999999,0.0,-0.1,0.3181818181818182,0.0,0.24285714285714285,0.0,0.05,-0.375,0.08333333333333336,-0.08888888888888886,0.8,0.0,0.0,0.35,0.0,0.275,0.0,0.0,0.0,0.875,0.39999999999999997,0.3666666666666667,0.0,0.675,0.0,0.13999999999999999,0.0,0.5,0.33214285714285713,0.0,0.0,0.0,0.0,0.5866666666666667,0.25,0.0,-0.2,-0.016666666666666663,0.0,0.0625,0.7,0.0,0.25,0.7,0.6546875,0.0,0.17857142857142858,0.0,0.0,-0.06666666666666665,0.75,0.0,0.22812499999999997,0.39999999999999997,0.0,-0.5859375,1.0,0.625,-0.6999999999999998,0.5,0.3875,0.16666666666666666,0.0,-0.234375,0.0,0.0,0.16666666666666666,0.0,0.0,0.7125,0.4000000000000001,0.0,-0.08750000000000001,0.75,-0.75,0.0,0.0,0.0,-0.13181818181818183,-0.16666666666666666,0.875,0.45714285714285713,0.5499999999999999,0.002777777777777768,0.0,0.0,0.0,0.0,0.0,0.0,0.21818181818181817,0.175,0.0,-0.25,0.0,0.41999999999999993,0.5,0.0,0.3625,0.0,0.0,0.09722222222222222,0.0,-0.4,0.0,0.0,0.0,0.0,0.79,0.6,0.28125,0.0,0.26666666666666666,-0.3,0.15625,0.2375,0.625,0.125,0.0,0.0,-0.6,0.36818181818181817,0.0,0.25,0.6,0.0,0.7845581054687499,-0.19999999999999998,0.08333333333333333,0.0,-0.75,0.25,0.0,0.0,0.0,-0.4,0.6,3.700743415417188e-17,-0.4333333333333333,0.125,0.125,0.1875,-0.39999999999999997,0.15,0.0,0.0,0.0,0.28714285714285714,-0.026388888888888906,0.26785714285714285,0.0,0.0,0.0,0.0,0.0,0.0,0.5953125,1.3877787807814457e-17,-0.6,-0.146484375,0.0,0.0,0.0,0.35714285714285715,0.625,0.75,0.25,0.0,-0.4125,-0.41666666666666663,0.4,0.35714285714285715,0.78125,0.625,0.0,0.0,0.75,0.45,-0.15,-0.25,-0.15555555555555559,0.2556818181818182,0.0,0.4,0.6,0.542,0.1277777777777778,1.0,0.22499999999999998,0.225,0.0,0.0,0.0,-1.0,0.0,-0.14939393939393936,0.0,0.0,0.7000000000000001,0.4375,0.0,0.5,0.0,0.0,0.7,0.38333333333333336,0.35714285714285715,0.02552083333333327,0.17734375,0.0,0.48,0.0,-0.08882575757575759,0.0,-0.2,0.2,0.0,0.0,0.0,0.02857142857142862,0.6,0.0,0.125,-0.5,0.2833333333333333,0.85,-0.5571428571428572,0.125,0.23333333333333336,0.5625,-0.675,-0.6,1.0,0.0,-0.75,0.0,0.0,0.20000000000000004,0.175,-0.75,0.17,0.625,0.6,0.390625,-0.41944444444444434,0.625,0.0,0.0,0.125,0.0,0.7749999999999999,-0.020833333333333343,0.05,0.875,0.75,0.5,0.19,0.0,0.0,0.5736111111111111,0.0,0.0,0.0,0.16249999999999998,0.55,0.15625,0.0,0.5,0.0,-0.6,0.61875,0.125,1.0,0.0,0.12500000000000003,0.15,-0.10476190476190476,0.2,0.0,0.0,0.0,0.33,0.41666666666666663,0.0,0.0,0.0,0.0,-0.39375,0.35,-0.75,-0.546875,0.3625,-0.010000000000000009,0.08,0.7,0.0,-0.2,0.0,0.0,0.65,-0.05,-0.25,-0.75,0.0,-0.2,0.1333333333333334,0.0,0.0,0.4,0.5,0.3,0.5499999999999999,-0.3888888888888889,0.8,-0.3,0.0,1.0,0.625,0.13636363636363635,0.0,-0.55,0.44999999999999996,0.5166666666666667,0.0,0.0,0.0,0.0,1.0,0.3333333333333333,0.375,-0.15555555555555559,0.0,0.45499999999999996,0.0,0.0,0.3,0.5,-0.0625,-0.8,-0.234375,-0.05,-0.1875,0.43333333333333335,0.0,0.0,-0.25,-0.675,0.15,0.0,0.0,-0.08333333333333327,0.06818181818181818,0.08333333333333333,0.0,-0.25,0.0,0.0,0.25,0.65,0.0,-0.3,0.0,0.13636363636363635,0.36,0.2857142857142857,0.5,0.25,-0.2,0.375,0.0,0.33999999999999997,0.125,0.125,0.39285714285714285,0.3125,-0.3,0.16742424242424242,0.0,-0.3375,0.025000000000000078,0.85,0.25,0.0,0.06818181818181818,0.0,0.0,0.25,-0.4125,0.0,0.0,0.0,0.4,0.625,0.5666666666666668,0.5375,0.30833333333333335,0.0,0.0,0.3196428571428572,0.0,-0.13787878787878788,-0.6,0.08,0.0,0.0,0.10000000000000003,-0.6,0.0,0.0,0.0,0.0,-0.012499999999999992,0.75,0.3,0.253125,0.0,0.22,0.0,0.0,0.0,0.5,0.0,-0.6,1.0,-0.45,-0.1,0.1361111111111111,0.2,0.0,0.6,0.4,0.42857142857142855,1.0,0.0,0.125,0.0,0.0,0.0,0.0,0.19999999999999998,0.0,0.0,0.0,0.3666666666666667,0.0,0.3,0.0,0.46875,-0.6,0.78125,0.0,0.0,0.5,-0.2,0.0,-0.5,0.05833333333333333,0.625,0.0,0.03333333333333333,0.8,0.9375,0.5,-0.06666666666666667,0.175,0.55,0.475,0.0,0.4666666666666666,0.6666666666666666,1.0,0.0,-0.688095238095238,-0.085,0.3333333333333333,0.525,0.0,0.75,0.5859375,-0.2833333333333334,0.0,-0.6,-0.6,-0.07500000000000001,0.02727272727272727,0.35,0.125,0.875,-0.037500000000000006,-0.75,0.3,0.0,-0.5,-0.2,0.0,0.0,0.6,0.6,0.0,0.0,0.21212121212121213,-0.037499999999999964,0.0,-0.05937500000000001,0.0,0.08,-0.23076923076923078,0.5,-0.0875,0.7,-0.07142857142857142,0.1,-0.65,0.1,0.125,0.1,0.3181818181818182,0.13636363636363635,0.10833333333333334,0.0,0.13636363636363635,-0.3666666666666667,-0.375,0.25,0.25,0.0,0.0,0.6,0.0,0.85,0.06000000000000001,0.0,0.43392857142857144,0.06666666666666667,0.0,0.0,0.85,0.16666666666666666,-0.6,0.0,0.0,0.6000000000000001,0.0,0.07000000000000002,-0.3625,0.125,0.0,-0.016666666666666663,0.19,0.4000000000000001,0.48828125,0.5,0.7,0.0,0.42142857142857143,1.0,0.0,0.55,-0.3,0.0,0.17532467532467533,0.13636363636363635,-0.25,0.55,-0.75,0.3121212121212121,0.1,0.125],\"type\":\"histogram\"}],                        {\"barmode\":\"overlay\",\"legend\":{\"bgcolor\":\"#F5F6F9\",\"font\":{\"color\":\"#4D5663\"}},\"paper_bgcolor\":\"#F5F6F9\",\"plot_bgcolor\":\"#F5F6F9\",\"template\":{\"data\":{\"barpolar\":[{\"marker\":{\"line\":{\"color\":\"#E5ECF6\",\"width\":0.5},\"pattern\":{\"fillmode\":\"overlay\",\"size\":10,\"solidity\":0.2}},\"type\":\"barpolar\"}],\"bar\":[{\"error_x\":{\"color\":\"#2a3f5f\"},\"error_y\":{\"color\":\"#2a3f5f\"},\"marker\":{\"line\":{\"color\":\"#E5ECF6\",\"width\":0.5},\"pattern\":{\"fillmode\":\"overlay\",\"size\":10,\"solidity\":0.2}},\"type\":\"bar\"}],\"carpet\":[{\"aaxis\":{\"endlinecolor\":\"#2a3f5f\",\"gridcolor\":\"white\",\"linecolor\":\"white\",\"minorgridcolor\":\"white\",\"startlinecolor\":\"#2a3f5f\"},\"baxis\":{\"endlinecolor\":\"#2a3f5f\",\"gridcolor\":\"white\",\"linecolor\":\"white\",\"minorgridcolor\":\"white\",\"startlinecolor\":\"#2a3f5f\"},\"type\":\"carpet\"}],\"choropleth\":[{\"colorbar\":{\"outlinewidth\":0,\"ticks\":\"\"},\"type\":\"choropleth\"}],\"contourcarpet\":[{\"colorbar\":{\"outlinewidth\":0,\"ticks\":\"\"},\"type\":\"contourcarpet\"}],\"contour\":[{\"colorbar\":{\"outlinewidth\":0,\"ticks\":\"\"},\"colorscale\":[[0.0,\"#0d0887\"],[0.1111111111111111,\"#46039f\"],[0.2222222222222222,\"#7201a8\"],[0.3333333333333333,\"#9c179e\"],[0.4444444444444444,\"#bd3786\"],[0.5555555555555556,\"#d8576b\"],[0.6666666666666666,\"#ed7953\"],[0.7777777777777778,\"#fb9f3a\"],[0.8888888888888888,\"#fdca26\"],[1.0,\"#f0f921\"]],\"type\":\"contour\"}],\"heatmapgl\":[{\"colorbar\":{\"outlinewidth\":0,\"ticks\":\"\"},\"colorscale\":[[0.0,\"#0d0887\"],[0.1111111111111111,\"#46039f\"],[0.2222222222222222,\"#7201a8\"],[0.3333333333333333,\"#9c179e\"],[0.4444444444444444,\"#bd3786\"],[0.5555555555555556,\"#d8576b\"],[0.6666666666666666,\"#ed7953\"],[0.7777777777777778,\"#fb9f3a\"],[0.8888888888888888,\"#fdca26\"],[1.0,\"#f0f921\"]],\"type\":\"heatmapgl\"}],\"heatmap\":[{\"colorbar\":{\"outlinewidth\":0,\"ticks\":\"\"},\"colorscale\":[[0.0,\"#0d0887\"],[0.1111111111111111,\"#46039f\"],[0.2222222222222222,\"#7201a8\"],[0.3333333333333333,\"#9c179e\"],[0.4444444444444444,\"#bd3786\"],[0.5555555555555556,\"#d8576b\"],[0.6666666666666666,\"#ed7953\"],[0.7777777777777778,\"#fb9f3a\"],[0.8888888888888888,\"#fdca26\"],[1.0,\"#f0f921\"]],\"type\":\"heatmap\"}],\"histogram2dcontour\":[{\"colorbar\":{\"outlinewidth\":0,\"ticks\":\"\"},\"colorscale\":[[0.0,\"#0d0887\"],[0.1111111111111111,\"#46039f\"],[0.2222222222222222,\"#7201a8\"],[0.3333333333333333,\"#9c179e\"],[0.4444444444444444,\"#bd3786\"],[0.5555555555555556,\"#d8576b\"],[0.6666666666666666,\"#ed7953\"],[0.7777777777777778,\"#fb9f3a\"],[0.8888888888888888,\"#fdca26\"],[1.0,\"#f0f921\"]],\"type\":\"histogram2dcontour\"}],\"histogram2d\":[{\"colorbar\":{\"outlinewidth\":0,\"ticks\":\"\"},\"colorscale\":[[0.0,\"#0d0887\"],[0.1111111111111111,\"#46039f\"],[0.2222222222222222,\"#7201a8\"],[0.3333333333333333,\"#9c179e\"],[0.4444444444444444,\"#bd3786\"],[0.5555555555555556,\"#d8576b\"],[0.6666666666666666,\"#ed7953\"],[0.7777777777777778,\"#fb9f3a\"],[0.8888888888888888,\"#fdca26\"],[1.0,\"#f0f921\"]],\"type\":\"histogram2d\"}],\"histogram\":[{\"marker\":{\"pattern\":{\"fillmode\":\"overlay\",\"size\":10,\"solidity\":0.2}},\"type\":\"histogram\"}],\"mesh3d\":[{\"colorbar\":{\"outlinewidth\":0,\"ticks\":\"\"},\"type\":\"mesh3d\"}],\"parcoords\":[{\"line\":{\"colorbar\":{\"outlinewidth\":0,\"ticks\":\"\"}},\"type\":\"parcoords\"}],\"pie\":[{\"automargin\":true,\"type\":\"pie\"}],\"scatter3d\":[{\"line\":{\"colorbar\":{\"outlinewidth\":0,\"ticks\":\"\"}},\"marker\":{\"colorbar\":{\"outlinewidth\":0,\"ticks\":\"\"}},\"type\":\"scatter3d\"}],\"scattercarpet\":[{\"marker\":{\"colorbar\":{\"outlinewidth\":0,\"ticks\":\"\"}},\"type\":\"scattercarpet\"}],\"scattergeo\":[{\"marker\":{\"colorbar\":{\"outlinewidth\":0,\"ticks\":\"\"}},\"type\":\"scattergeo\"}],\"scattergl\":[{\"marker\":{\"colorbar\":{\"outlinewidth\":0,\"ticks\":\"\"}},\"type\":\"scattergl\"}],\"scattermapbox\":[{\"marker\":{\"colorbar\":{\"outlinewidth\":0,\"ticks\":\"\"}},\"type\":\"scattermapbox\"}],\"scatterpolargl\":[{\"marker\":{\"colorbar\":{\"outlinewidth\":0,\"ticks\":\"\"}},\"type\":\"scatterpolargl\"}],\"scatterpolar\":[{\"marker\":{\"colorbar\":{\"outlinewidth\":0,\"ticks\":\"\"}},\"type\":\"scatterpolar\"}],\"scatter\":[{\"fillpattern\":{\"fillmode\":\"overlay\",\"size\":10,\"solidity\":0.2},\"type\":\"scatter\"}],\"scatterternary\":[{\"marker\":{\"colorbar\":{\"outlinewidth\":0,\"ticks\":\"\"}},\"type\":\"scatterternary\"}],\"surface\":[{\"colorbar\":{\"outlinewidth\":0,\"ticks\":\"\"},\"colorscale\":[[0.0,\"#0d0887\"],[0.1111111111111111,\"#46039f\"],[0.2222222222222222,\"#7201a8\"],[0.3333333333333333,\"#9c179e\"],[0.4444444444444444,\"#bd3786\"],[0.5555555555555556,\"#d8576b\"],[0.6666666666666666,\"#ed7953\"],[0.7777777777777778,\"#fb9f3a\"],[0.8888888888888888,\"#fdca26\"],[1.0,\"#f0f921\"]],\"type\":\"surface\"}],\"table\":[{\"cells\":{\"fill\":{\"color\":\"#EBF0F8\"},\"line\":{\"color\":\"white\"}},\"header\":{\"fill\":{\"color\":\"#C8D4E3\"},\"line\":{\"color\":\"white\"}},\"type\":\"table\"}]},\"layout\":{\"annotationdefaults\":{\"arrowcolor\":\"#2a3f5f\",\"arrowhead\":0,\"arrowwidth\":1},\"autotypenumbers\":\"strict\",\"coloraxis\":{\"colorbar\":{\"outlinewidth\":0,\"ticks\":\"\"}},\"colorscale\":{\"diverging\":[[0,\"#8e0152\"],[0.1,\"#c51b7d\"],[0.2,\"#de77ae\"],[0.3,\"#f1b6da\"],[0.4,\"#fde0ef\"],[0.5,\"#f7f7f7\"],[0.6,\"#e6f5d0\"],[0.7,\"#b8e186\"],[0.8,\"#7fbc41\"],[0.9,\"#4d9221\"],[1,\"#276419\"]],\"sequential\":[[0.0,\"#0d0887\"],[0.1111111111111111,\"#46039f\"],[0.2222222222222222,\"#7201a8\"],[0.3333333333333333,\"#9c179e\"],[0.4444444444444444,\"#bd3786\"],[0.5555555555555556,\"#d8576b\"],[0.6666666666666666,\"#ed7953\"],[0.7777777777777778,\"#fb9f3a\"],[0.8888888888888888,\"#fdca26\"],[1.0,\"#f0f921\"]],\"sequentialminus\":[[0.0,\"#0d0887\"],[0.1111111111111111,\"#46039f\"],[0.2222222222222222,\"#7201a8\"],[0.3333333333333333,\"#9c179e\"],[0.4444444444444444,\"#bd3786\"],[0.5555555555555556,\"#d8576b\"],[0.6666666666666666,\"#ed7953\"],[0.7777777777777778,\"#fb9f3a\"],[0.8888888888888888,\"#fdca26\"],[1.0,\"#f0f921\"]]},\"colorway\":[\"#636efa\",\"#EF553B\",\"#00cc96\",\"#ab63fa\",\"#FFA15A\",\"#19d3f3\",\"#FF6692\",\"#B6E880\",\"#FF97FF\",\"#FECB52\"],\"font\":{\"color\":\"#2a3f5f\"},\"geo\":{\"bgcolor\":\"white\",\"lakecolor\":\"white\",\"landcolor\":\"#E5ECF6\",\"showlakes\":true,\"showland\":true,\"subunitcolor\":\"white\"},\"hoverlabel\":{\"align\":\"left\"},\"hovermode\":\"closest\",\"mapbox\":{\"style\":\"light\"},\"paper_bgcolor\":\"white\",\"plot_bgcolor\":\"#E5ECF6\",\"polar\":{\"angularaxis\":{\"gridcolor\":\"white\",\"linecolor\":\"white\",\"ticks\":\"\"},\"bgcolor\":\"#E5ECF6\",\"radialaxis\":{\"gridcolor\":\"white\",\"linecolor\":\"white\",\"ticks\":\"\"}},\"scene\":{\"xaxis\":{\"backgroundcolor\":\"#E5ECF6\",\"gridcolor\":\"white\",\"gridwidth\":2,\"linecolor\":\"white\",\"showbackground\":true,\"ticks\":\"\",\"zerolinecolor\":\"white\"},\"yaxis\":{\"backgroundcolor\":\"#E5ECF6\",\"gridcolor\":\"white\",\"gridwidth\":2,\"linecolor\":\"white\",\"showbackground\":true,\"ticks\":\"\",\"zerolinecolor\":\"white\"},\"zaxis\":{\"backgroundcolor\":\"#E5ECF6\",\"gridcolor\":\"white\",\"gridwidth\":2,\"linecolor\":\"white\",\"showbackground\":true,\"ticks\":\"\",\"zerolinecolor\":\"white\"}},\"shapedefaults\":{\"line\":{\"color\":\"#2a3f5f\"}},\"ternary\":{\"aaxis\":{\"gridcolor\":\"white\",\"linecolor\":\"white\",\"ticks\":\"\"},\"baxis\":{\"gridcolor\":\"white\",\"linecolor\":\"white\",\"ticks\":\"\"},\"bgcolor\":\"#E5ECF6\",\"caxis\":{\"gridcolor\":\"white\",\"linecolor\":\"white\",\"ticks\":\"\"}},\"title\":{\"x\":0.05},\"xaxis\":{\"automargin\":true,\"gridcolor\":\"white\",\"linecolor\":\"white\",\"ticks\":\"\",\"title\":{\"standoff\":15},\"zerolinecolor\":\"white\",\"zerolinewidth\":2},\"yaxis\":{\"automargin\":true,\"gridcolor\":\"white\",\"linecolor\":\"white\",\"ticks\":\"\",\"title\":{\"standoff\":15},\"zerolinecolor\":\"white\",\"zerolinewidth\":2}}},\"title\":{\"font\":{\"color\":\"#4D5663\"},\"text\":\"Sentiment Polarity Distribution\"},\"xaxis\":{\"gridcolor\":\"#E1E5ED\",\"showgrid\":true,\"tickfont\":{\"color\":\"#4D5663\"},\"title\":{\"font\":{\"color\":\"#4D5663\"},\"text\":\"Polarity\"},\"zerolinecolor\":\"#E1E5ED\"},\"yaxis\":{\"gridcolor\":\"#E1E5ED\",\"showgrid\":true,\"tickfont\":{\"color\":\"#4D5663\"},\"title\":{\"font\":{\"color\":\"#4D5663\"},\"text\":\"Count\"},\"zerolinecolor\":\"#E1E5ED\"}},                        {\"showLink\": true, \"linkText\": \"Export to plot.ly\", \"plotlyServerURL\": \"https://plot.ly\", \"responsive\": true}                    ).then(function(){\n",
       "                            \n",
       "var gd = document.getElementById('cd6f0d7e-2a95-4d9f-aa1b-3923fa5a32de');\n",
       "var x = new MutationObserver(function (mutations, observer) {{\n",
       "        var display = window.getComputedStyle(gd).display;\n",
       "        if (!display || display === 'none') {{\n",
       "            console.log([gd, 'removed!']);\n",
       "            Plotly.purge(gd);\n",
       "            observer.disconnect();\n",
       "        }}\n",
       "}});\n",
       "\n",
       "// Listen for the removal of the full notebook cells\n",
       "var notebookContainer = gd.closest('#notebook-container');\n",
       "if (notebookContainer) {{\n",
       "    x.observe(notebookContainer, {childList: true});\n",
       "}}\n",
       "\n",
       "// Listen for the clearing of the current output cell\n",
       "var outputEl = gd.closest('.output');\n",
       "if (outputEl) {{\n",
       "    x.observe(outputEl, {childList: true});\n",
       "}}\n",
       "\n",
       "                        })                };                });            </script>        </div>"
      ]
     },
     "metadata": {},
     "output_type": "display_data"
    }
   ],
   "source": [
    "df['polarity'].iplot(kind = 'hist', xTitle = 'Polarity', yTitle = 'Count', title = 'Sentiment Polarity Distribution', bins = 50)\n",
    "# most of the text entries have very neutral sentiment"
   ]
  },
  {
   "cell_type": "code",
   "execution_count": 30,
   "metadata": {},
   "outputs": [
    {
     "data": {
      "image/png": "[encoded data removed]",
      "text/plain": [
       "<Figure size 640x480 with 1 Axes>"
      ]
     },
     "metadata": {},
     "output_type": "display_data"
    }
   ],
   "source": [
    "label_counts = df['Label'].value_counts().reset_index().rename(columns={\"index\": \"value\", 0: \"count\"})\n",
    "label_counts\n",
    "labels_dist = plt.pie(label_counts['count'], labels=label_counts['Label'], autopct='%.1f')\n",
    "plt.title(\"Distribution of Labels\")\n",
    "plt.show()"
   ]
  },
  {
   "cell_type": "code",
   "execution_count": 31,
   "metadata": {},
   "outputs": [
    {
     "data": {
      "application/vnd.plotly.v1+json": {
       "config": {
        "linkText": "Export to plot.ly",
        "plotlyServerURL": "https://plot.ly",
        "showLink": true
       },
       "data": [
        {
         "histfunc": "count",
         "histnorm": "",
         "marker": {
          "color": "rgba(255, 153, 51, 1.0)",
          "line": {
           "color": "#4D5663",
           "width": 1.3
          }
         },
         "name": "text_length",
         "nbinsx": 50,
         "opacity": 0.8,
         "orientation": "v",
         "type": "histogram",
         "x": [
          96,
          61,
          101,
          111,
          58,
          100,
          62,
          87,
          69,
          108,
          135,
          53,
          78,
          74,
          126,
          37,
          48,
          45,
          45,
          133,
          63,
          69,
          53,
          94,
          28,
          28,
          111,
          89,
          107,
          135,
          62,
          125,
          90,
          139,
          126,
          133,
          30,
          74,
          59,
          53,
          118,
          136,
          121,
          20,
          127,
          125,
          75,
          51,
          63,
          73,
          32,
          137,
          75,
          123,
          57,
          86,
          34,
          9,
          117,
          33,
          68,
          62,
          32,
          132,
          36,
          120,
          122,
          130,
          114,
          37,
          39,
          98,
          96,
          85,
          23,
          119,
          107,
          48,
          82,
          61,
          93,
          49,
          68,
          136,
          123,
          88,
          93,
          72,
          76,
          37,
          126,
          38,
          121,
          40,
          112,
          100,
          32,
          88,
          114,
          17,
          128,
          26,
          62,
          103,
          65,
          116,
          49,
          66,
          60,
          19,
          44,
          122,
          74,
          61,
          49,
          99,
          105,
          82,
          84,
          99,
          82,
          117,
          120,
          49,
          35,
          33,
          78,
          136,
          141,
          32,
          94,
          129,
          29,
          72,
          78,
          141,
          119,
          119,
          43,
          81,
          109,
          104,
          37,
          56,
          102,
          57,
          98,
          51,
          47,
          97,
          74,
          125,
          51,
          83,
          135,
          116,
          60,
          71,
          107,
          89,
          59,
          113,
          79,
          45,
          121,
          69,
          96,
          135,
          67,
          122,
          94,
          81,
          96,
          110,
          120,
          119,
          137,
          99,
          105,
          139,
          115,
          77,
          114,
          42,
          68,
          105,
          69,
          111,
          101,
          79,
          125,
          134,
          130,
          68,
          69,
          110,
          59,
          114,
          78,
          118,
          110,
          111,
          76,
          138,
          106,
          115,
          71,
          32,
          78,
          60,
          81,
          57,
          95,
          78,
          113,
          81,
          73,
          76,
          25,
          103,
          133,
          80,
          51,
          129,
          33,
          132,
          54,
          41,
          95,
          76,
          62,
          122,
          141,
          85,
          128,
          33,
          141,
          40,
          86,
          77,
          37,
          117,
          68,
          93,
          90,
          89,
          47,
          119,
          132,
          25,
          66,
          110,
          64,
          81,
          126,
          142,
          95,
          114,
          51,
          83,
          77,
          88,
          73,
          76,
          64,
          103,
          73,
          78,
          85,
          26,
          121,
          31,
          40,
          101,
          124,
          39,
          82,
          110,
          31,
          53,
          54,
          77,
          46,
          28,
          54,
          138,
          57,
          20,
          59,
          117,
          67,
          42,
          79,
          88,
          69,
          70,
          88,
          70,
          74,
          72,
          62,
          76,
          78,
          55,
          45,
          43,
          140,
          122,
          79,
          62,
          117,
          29,
          18,
          29,
          119,
          128,
          134,
          76,
          46,
          64,
          118,
          98,
          135,
          80,
          72,
          139,
          29,
          39,
          76,
          130,
          110,
          133,
          128,
          31,
          48,
          111,
          134,
          25,
          34,
          16,
          140,
          75,
          133,
          49,
          58,
          84,
          75,
          72,
          51,
          61,
          21,
          77,
          113,
          110,
          111,
          34,
          48,
          84,
          105,
          113,
          87,
          58,
          108,
          125,
          45,
          33,
          118,
          105,
          32,
          124,
          122,
          49,
          113,
          78,
          65,
          126,
          138,
          126,
          119,
          60,
          118,
          133,
          33,
          135,
          115,
          66,
          61,
          89,
          72,
          56,
          110,
          68,
          21,
          65,
          129,
          121,
          53,
          37,
          15,
          58,
          109,
          115,
          73,
          92,
          70,
          122,
          77,
          98,
          39,
          119,
          138,
          58,
          120,
          47,
          137,
          110,
          119,
          26,
          66,
          54,
          74,
          51,
          93,
          119,
          124,
          80,
          27,
          37,
          78,
          101,
          81,
          75,
          140,
          101,
          61,
          113,
          57,
          22,
          88,
          85,
          46,
          74,
          31,
          83,
          115,
          66,
          123,
          129,
          86,
          18,
          72,
          118,
          115,
          73,
          101,
          119,
          72,
          73,
          135,
          70,
          120,
          79,
          53,
          98,
          19,
          52,
          32,
          63,
          109,
          65,
          88,
          57,
          106,
          48,
          116,
          77,
          35,
          34,
          65,
          51,
          71,
          124,
          116,
          67,
          60,
          83,
          105,
          105,
          136,
          78,
          45,
          56,
          98,
          25,
          133,
          38,
          55,
          61,
          60,
          140,
          77,
          44,
          74,
          72,
          77,
          73,
          87,
          127,
          28,
          45,
          100,
          82,
          89,
          50,
          75,
          74,
          121,
          129,
          70,
          71,
          89,
          77,
          97,
          50,
          85,
          102,
          77,
          78,
          79,
          80,
          137,
          131,
          94,
          67,
          67,
          70,
          89,
          88,
          76,
          89,
          126,
          36,
          88,
          56,
          68,
          129,
          87,
          100,
          43,
          115,
          52,
          59,
          84,
          118,
          8,
          49,
          79,
          61,
          140,
          100,
          23,
          79,
          40,
          46,
          64,
          107,
          28,
          39,
          49,
          133,
          61,
          126,
          55,
          128,
          132,
          123,
          46,
          48,
          55,
          100,
          52,
          65,
          95,
          123,
          137,
          71,
          120,
          73,
          111,
          135,
          118,
          72,
          77,
          105,
          21,
          88,
          64,
          79,
          118,
          75,
          133,
          51,
          123,
          107,
          75,
          93,
          127,
          68,
          130,
          121,
          63,
          69,
          126,
          110,
          104,
          49,
          54,
          122,
          72,
          57,
          124,
          123,
          33,
          26,
          61,
          71,
          36,
          71,
          57,
          32,
          9,
          73,
          16,
          80,
          126,
          53,
          133,
          120,
          60,
          47,
          126,
          69,
          86,
          35,
          56,
          78,
          110,
          77,
          124,
          75,
          66,
          82,
          53,
          112,
          89,
          44,
          105,
          122,
          130,
          62,
          76,
          51,
          93,
          135,
          133,
          95,
          51,
          88,
          103,
          77,
          121,
          110,
          75,
          104,
          47,
          124,
          48,
          69,
          91,
          113,
          82,
          18,
          59,
          71,
          127,
          107,
          42,
          122,
          124,
          67,
          47,
          73,
          73,
          72,
          98,
          118,
          107,
          35,
          74,
          87,
          80,
          93,
          29,
          97,
          132,
          125,
          83,
          138,
          111,
          18,
          52,
          118,
          76,
          136,
          117,
          136,
          34,
          115,
          109,
          142,
          127,
          25,
          109,
          30,
          97,
          131,
          24,
          139,
          115,
          125,
          65,
          63,
          140,
          71,
          122,
          50,
          105,
          55,
          99,
          124,
          59,
          118,
          114,
          134,
          65,
          22,
          67,
          67,
          58,
          137,
          48,
          77,
          67,
          27,
          73,
          128,
          134,
          74,
          117,
          86,
          94,
          121,
          89
         ]
        }
       ],
       "layout": {
        "barmode": "overlay",
        "legend": {
         "bgcolor": "#F5F6F9",
         "font": {
          "color": "#4D5663"
         }
        },
        "paper_bgcolor": "#F5F6F9",
        "plot_bgcolor": "#F5F6F9",
        "template": {
         "data": {
          "bar": [
           {
            "error_x": {
             "color": "#2a3f5f"
            },
            "error_y": {
             "color": "#2a3f5f"
            },
            "marker": {
             "line": {
              "color": "#E5ECF6",
              "width": 0.5
             },
             "pattern": {
              "fillmode": "overlay",
              "size": 10,
              "solidity": 0.2
             }
            },
            "type": "bar"
           }
          ],
          "barpolar": [
           {
            "marker": {
             "line": {
              "color": "#E5ECF6",
              "width": 0.5
             },
             "pattern": {
              "fillmode": "overlay",
              "size": 10,
              "solidity": 0.2
             }
            },
            "type": "barpolar"
           }
          ],
          "carpet": [
           {
            "aaxis": {
             "endlinecolor": "#2a3f5f",
             "gridcolor": "white",
             "linecolor": "white",
             "minorgridcolor": "white",
             "startlinecolor": "#2a3f5f"
            },
            "baxis": {
             "endlinecolor": "#2a3f5f",
             "gridcolor": "white",
             "linecolor": "white",
             "minorgridcolor": "white",
             "startlinecolor": "#2a3f5f"
            },
            "type": "carpet"
           }
          ],
          "choropleth": [
           {
            "colorbar": {
             "outlinewidth": 0,
             "ticks": ""
            },
            "type": "choropleth"
           }
          ],
          "contour": [
           {
            "colorbar": {
             "outlinewidth": 0,
             "ticks": ""
            },
            "colorscale": [
             [
              0,
              "#0d0887"
             ],
             [
              0.1111111111111111,
              "#46039f"
             ],
             [
              0.2222222222222222,
              "#7201a8"
             ],
             [
              0.3333333333333333,
              "#9c179e"
             ],
             [
              0.4444444444444444,
              "#bd3786"
             ],
             [
              0.5555555555555556,
              "#d8576b"
             ],
             [
              0.6666666666666666,
              "#ed7953"
             ],
             [
              0.7777777777777778,
              "#fb9f3a"
             ],
             [
              0.8888888888888888,
              "#fdca26"
             ],
             [
              1,
              "#f0f921"
             ]
            ],
            "type": "contour"
           }
          ],
          "contourcarpet": [
           {
            "colorbar": {
             "outlinewidth": 0,
             "ticks": ""
            },
            "type": "contourcarpet"
           }
          ],
          "heatmap": [
           {
            "colorbar": {
             "outlinewidth": 0,
             "ticks": ""
            },
            "colorscale": [
             [
              0,
              "#0d0887"
             ],
             [
              0.1111111111111111,
              "#46039f"
             ],
             [
              0.2222222222222222,
              "#7201a8"
             ],
             [
              0.3333333333333333,
              "#9c179e"
             ],
             [
              0.4444444444444444,
              "#bd3786"
             ],
             [
              0.5555555555555556,
              "#d8576b"
             ],
             [
              0.6666666666666666,
              "#ed7953"
             ],
             [
              0.7777777777777778,
              "#fb9f3a"
             ],
             [
              0.8888888888888888,
              "#fdca26"
             ],
             [
              1,
              "#f0f921"
             ]
            ],
            "type": "heatmap"
           }
          ],
          "heatmapgl": [
           {
            "colorbar": {
             "outlinewidth": 0,
             "ticks": ""
            },
            "colorscale": [
             [
              0,
              "#0d0887"
             ],
             [
              0.1111111111111111,
              "#46039f"
             ],
             [
              0.2222222222222222,
              "#7201a8"
             ],
             [
              0.3333333333333333,
              "#9c179e"
             ],
             [
              0.4444444444444444,
              "#bd3786"
             ],
             [
              0.5555555555555556,
              "#d8576b"
             ],
             [
              0.6666666666666666,
              "#ed7953"
             ],
             [
              0.7777777777777778,
              "#fb9f3a"
             ],
             [
              0.8888888888888888,
              "#fdca26"
             ],
             [
              1,
              "#f0f921"
             ]
            ],
            "type": "heatmapgl"
           }
          ],
          "histogram": [
           {
            "marker": {
             "pattern": {
              "fillmode": "overlay",
              "size": 10,
              "solidity": 0.2
             }
            },
            "type": "histogram"
           }
          ],
          "histogram2d": [
           {
            "colorbar": {
             "outlinewidth": 0,
             "ticks": ""
            },
            "colorscale": [
             [
              0,
              "#0d0887"
             ],
             [
              0.1111111111111111,
              "#46039f"
             ],
             [
              0.2222222222222222,
              "#7201a8"
             ],
             [
              0.3333333333333333,
              "#9c179e"
             ],
             [
              0.4444444444444444,
              "#bd3786"
             ],
             [
              0.5555555555555556,
              "#d8576b"
             ],
             [
              0.6666666666666666,
              "#ed7953"
             ],
             [
              0.7777777777777778,
              "#fb9f3a"
             ],
             [
              0.8888888888888888,
              "#fdca26"
             ],
             [
              1,
              "#f0f921"
             ]
            ],
            "type": "histogram2d"
           }
          ],
          "histogram2dcontour": [
           {
            "colorbar": {
             "outlinewidth": 0,
             "ticks": ""
            },
            "colorscale": [
             [
              0,
              "#0d0887"
             ],
             [
              0.1111111111111111,
              "#46039f"
             ],
             [
              0.2222222222222222,
              "#7201a8"
             ],
             [
              0.3333333333333333,
              "#9c179e"
             ],
             [
              0.4444444444444444,
              "#bd3786"
             ],
             [
              0.5555555555555556,
              "#d8576b"
             ],
             [
              0.6666666666666666,
              "#ed7953"
             ],
             [
              0.7777777777777778,
              "#fb9f3a"
             ],
             [
              0.8888888888888888,
              "#fdca26"
             ],
             [
              1,
              "#f0f921"
             ]
            ],
            "type": "histogram2dcontour"
           }
          ],
          "mesh3d": [
           {
            "colorbar": {
             "outlinewidth": 0,
             "ticks": ""
            },
            "type": "mesh3d"
           }
          ],
          "parcoords": [
           {
            "line": {
             "colorbar": {
              "outlinewidth": 0,
              "ticks": ""
             }
            },
            "type": "parcoords"
           }
          ],
          "pie": [
           {
            "automargin": true,
            "type": "pie"
           }
          ],
          "scatter": [
           {
            "fillpattern": {
             "fillmode": "overlay",
             "size": 10,
             "solidity": 0.2
            },
            "type": "scatter"
           }
          ],
          "scatter3d": [
           {
            "line": {
             "colorbar": {
              "outlinewidth": 0,
              "ticks": ""
             }
            },
            "marker": {
             "colorbar": {
              "outlinewidth": 0,
              "ticks": ""
             }
            },
            "type": "scatter3d"
           }
          ],
          "scattercarpet": [
           {
            "marker": {
             "colorbar": {
              "outlinewidth": 0,
              "ticks": ""
             }
            },
            "type": "scattercarpet"
           }
          ],
          "scattergeo": [
           {
            "marker": {
             "colorbar": {
              "outlinewidth": 0,
              "ticks": ""
             }
            },
            "type": "scattergeo"
           }
          ],
          "scattergl": [
           {
            "marker": {
             "colorbar": {
              "outlinewidth": 0,
              "ticks": ""
             }
            },
            "type": "scattergl"
           }
          ],
          "scattermapbox": [
           {
            "marker": {
             "colorbar": {
              "outlinewidth": 0,
              "ticks": ""
             }
            },
            "type": "scattermapbox"
           }
          ],
          "scatterpolar": [
           {
            "marker": {
             "colorbar": {
              "outlinewidth": 0,
              "ticks": ""
             }
            },
            "type": "scatterpolar"
           }
          ],
          "scatterpolargl": [
           {
            "marker": {
             "colorbar": {
              "outlinewidth": 0,
              "ticks": ""
             }
            },
            "type": "scatterpolargl"
           }
          ],
          "scatterternary": [
           {
            "marker": {
             "colorbar": {
              "outlinewidth": 0,
              "ticks": ""
             }
            },
            "type": "scatterternary"
           }
          ],
          "surface": [
           {
            "colorbar": {
             "outlinewidth": 0,
             "ticks": ""
            },
            "colorscale": [
             [
              0,
              "#0d0887"
             ],
             [
              0.1111111111111111,
              "#46039f"
             ],
             [
              0.2222222222222222,
              "#7201a8"
             ],
             [
              0.3333333333333333,
              "#9c179e"
             ],
             [
              0.4444444444444444,
              "#bd3786"
             ],
             [
              0.5555555555555556,
              "#d8576b"
             ],
             [
              0.6666666666666666,
              "#ed7953"
             ],
             [
              0.7777777777777778,
              "#fb9f3a"
             ],
             [
              0.8888888888888888,
              "#fdca26"
             ],
             [
              1,
              "#f0f921"
             ]
            ],
            "type": "surface"
           }
          ],
          "table": [
           {
            "cells": {
             "fill": {
              "color": "#EBF0F8"
             },
             "line": {
              "color": "white"
             }
            },
            "header": {
             "fill": {
              "color": "#C8D4E3"
             },
             "line": {
              "color": "white"
             }
            },
            "type": "table"
           }
          ]
         },
         "layout": {
          "annotationdefaults": {
           "arrowcolor": "#2a3f5f",
           "arrowhead": 0,
           "arrowwidth": 1
          },
          "autotypenumbers": "strict",
          "coloraxis": {
           "colorbar": {
            "outlinewidth": 0,
            "ticks": ""
           }
          },
          "colorscale": {
           "diverging": [
            [
             0,
             "#8e0152"
            ],
            [
             0.1,
             "#c51b7d"
            ],
            [
             0.2,
             "#de77ae"
            ],
            [
             0.3,
             "#f1b6da"
            ],
            [
             0.4,
             "#fde0ef"
            ],
            [
             0.5,
             "#f7f7f7"
            ],
            [
             0.6,
             "#e6f5d0"
            ],
            [
             0.7,
             "#b8e186"
            ],
            [
             0.8,
             "#7fbc41"
            ],
            [
             0.9,
             "#4d9221"
            ],
            [
             1,
             "#276419"
            ]
           ],
           "sequential": [
            [
             0,
             "#0d0887"
            ],
            [
             0.1111111111111111,
             "#46039f"
            ],
            [
             0.2222222222222222,
             "#7201a8"
            ],
            [
             0.3333333333333333,
             "#9c179e"
            ],
            [
             0.4444444444444444,
             "#bd3786"
            ],
            [
             0.5555555555555556,
             "#d8576b"
            ],
            [
             0.6666666666666666,
             "#ed7953"
            ],
            [
             0.7777777777777778,
             "#fb9f3a"
            ],
            [
             0.8888888888888888,
             "#fdca26"
            ],
            [
             1,
             "#f0f921"
            ]
           ],
           "sequentialminus": [
            [
             0,
             "#0d0887"
            ],
            [
             0.1111111111111111,
             "#46039f"
            ],
            [
             0.2222222222222222,
             "#7201a8"
            ],
            [
             0.3333333333333333,
             "#9c179e"
            ],
            [
             0.4444444444444444,
             "#bd3786"
            ],
            [
             0.5555555555555556,
             "#d8576b"
            ],
            [
             0.6666666666666666,
             "#ed7953"
            ],
            [
             0.7777777777777778,
             "#fb9f3a"
            ],
            [
             0.8888888888888888,
             "#fdca26"
            ],
            [
             1,
             "#f0f921"
            ]
           ]
          },
          "colorway": [
           "#636efa",
           "#EF553B",
           "#00cc96",
           "#ab63fa",
           "#FFA15A",
           "#19d3f3",
           "#FF6692",
           "#B6E880",
           "#FF97FF",
           "#FECB52"
          ],
          "font": {
           "color": "#2a3f5f"
          },
          "geo": {
           "bgcolor": "white",
           "lakecolor": "white",
           "landcolor": "#E5ECF6",
           "showlakes": true,
           "showland": true,
           "subunitcolor": "white"
          },
          "hoverlabel": {
           "align": "left"
          },
          "hovermode": "closest",
          "mapbox": {
           "style": "light"
          },
          "paper_bgcolor": "white",
          "plot_bgcolor": "#E5ECF6",
          "polar": {
           "angularaxis": {
            "gridcolor": "white",
            "linecolor": "white",
            "ticks": ""
           },
           "bgcolor": "#E5ECF6",
           "radialaxis": {
            "gridcolor": "white",
            "linecolor": "white",
            "ticks": ""
           }
          },
          "scene": {
           "xaxis": {
            "backgroundcolor": "#E5ECF6",
            "gridcolor": "white",
            "gridwidth": 2,
            "linecolor": "white",
            "showbackground": true,
            "ticks": "",
            "zerolinecolor": "white"
           },
           "yaxis": {
            "backgroundcolor": "#E5ECF6",
            "gridcolor": "white",
            "gridwidth": 2,
            "linecolor": "white",
            "showbackground": true,
            "ticks": "",
            "zerolinecolor": "white"
           },
           "zaxis": {
            "backgroundcolor": "#E5ECF6",
            "gridcolor": "white",
            "gridwidth": 2,
            "linecolor": "white",
            "showbackground": true,
            "ticks": "",
            "zerolinecolor": "white"
           }
          },
          "shapedefaults": {
           "line": {
            "color": "#2a3f5f"
           }
          },
          "ternary": {
           "aaxis": {
            "gridcolor": "white",
            "linecolor": "white",
            "ticks": ""
           },
           "baxis": {
            "gridcolor": "white",
            "linecolor": "white",
            "ticks": ""
           },
           "bgcolor": "#E5ECF6",
           "caxis": {
            "gridcolor": "white",
            "linecolor": "white",
            "ticks": ""
           }
          },
          "title": {
           "x": 0.05
          },
          "xaxis": {
           "automargin": true,
           "gridcolor": "white",
           "linecolor": "white",
           "ticks": "",
           "title": {
            "standoff": 15
           },
           "zerolinecolor": "white",
           "zerolinewidth": 2
          },
          "yaxis": {
           "automargin": true,
           "gridcolor": "white",
           "linecolor": "white",
           "ticks": "",
           "title": {
            "standoff": 15
           },
           "zerolinecolor": "white",
           "zerolinewidth": 2
          }
         }
        },
        "title": {
         "font": {
          "color": "#4D5663"
         },
         "text": "Distribution of Text Length"
        },
        "xaxis": {
         "gridcolor": "#E1E5ED",
         "showgrid": true,
         "tickfont": {
          "color": "#4D5663"
         },
         "title": {
          "font": {
           "color": "#4D5663"
          },
          "text": "Text Length"
         },
         "zerolinecolor": "#E1E5ED"
        },
        "yaxis": {
         "gridcolor": "#E1E5ED",
         "showgrid": true,
         "tickfont": {
          "color": "#4D5663"
         },
         "title": {
          "font": {
           "color": "#4D5663"
          },
          "text": "Count"
         },
         "zerolinecolor": "#E1E5ED"
        }
       }
      },
      "text/html": [
       "<div>                            <div id=\"8ab9bd01-73c7-4728-a0d4-66d7bc5db9d8\" class=\"plotly-graph-div\" style=\"height:525px; width:100%;\"></div>            <script type=\"text/javascript\">                require([\"plotly\"], function(Plotly) {                    window.PLOTLYENV=window.PLOTLYENV || {};\n",
       "                    window.PLOTLYENV.BASE_URL='https://plot.ly';                                    if (document.getElementById(\"8ab9bd01-73c7-4728-a0d4-66d7bc5db9d8\")) {                    Plotly.newPlot(                        \"8ab9bd01-73c7-4728-a0d4-66d7bc5db9d8\",                        [{\"histfunc\":\"count\",\"histnorm\":\"\",\"marker\":{\"color\":\"rgba(255, 153, 51, 1.0)\",\"line\":{\"color\":\"#4D5663\",\"width\":1.3}},\"name\":\"text_length\",\"nbinsx\":50,\"opacity\":0.8,\"orientation\":\"v\",\"x\":[96,61,101,111,58,100,62,87,69,108,135,53,78,74,126,37,48,45,45,133,63,69,53,94,28,28,111,89,107,135,62,125,90,139,126,133,30,74,59,53,118,136,121,20,127,125,75,51,63,73,32,137,75,123,57,86,34,9,117,33,68,62,32,132,36,120,122,130,114,37,39,98,96,85,23,119,107,48,82,61,93,49,68,136,123,88,93,72,76,37,126,38,121,40,112,100,32,88,114,17,128,26,62,103,65,116,49,66,60,19,44,122,74,61,49,99,105,82,84,99,82,117,120,49,35,33,78,136,141,32,94,129,29,72,78,141,119,119,43,81,109,104,37,56,102,57,98,51,47,97,74,125,51,83,135,116,60,71,107,89,59,113,79,45,121,69,96,135,67,122,94,81,96,110,120,119,137,99,105,139,115,77,114,42,68,105,69,111,101,79,125,134,130,68,69,110,59,114,78,118,110,111,76,138,106,115,71,32,78,60,81,57,95,78,113,81,73,76,25,103,133,80,51,129,33,132,54,41,95,76,62,122,141,85,128,33,141,40,86,77,37,117,68,93,90,89,47,119,132,25,66,110,64,81,126,142,95,114,51,83,77,88,73,76,64,103,73,78,85,26,121,31,40,101,124,39,82,110,31,53,54,77,46,28,54,138,57,20,59,117,67,42,79,88,69,70,88,70,74,72,62,76,78,55,45,43,140,122,79,62,117,29,18,29,119,128,134,76,46,64,118,98,135,80,72,139,29,39,76,130,110,133,128,31,48,111,134,25,34,16,140,75,133,49,58,84,75,72,51,61,21,77,113,110,111,34,48,84,105,113,87,58,108,125,45,33,118,105,32,124,122,49,113,78,65,126,138,126,119,60,118,133,33,135,115,66,61,89,72,56,110,68,21,65,129,121,53,37,15,58,109,115,73,92,70,122,77,98,39,119,138,58,120,47,137,110,119,26,66,54,74,51,93,119,124,80,27,37,78,101,81,75,140,101,61,113,57,22,88,85,46,74,31,83,115,66,123,129,86,18,72,118,115,73,101,119,72,73,135,70,120,79,53,98,19,52,32,63,109,65,88,57,106,48,116,77,35,34,65,51,71,124,116,67,60,83,105,105,136,78,45,56,98,25,133,38,55,61,60,140,77,44,74,72,77,73,87,127,28,45,100,82,89,50,75,74,121,129,70,71,89,77,97,50,85,102,77,78,79,80,137,131,94,67,67,70,89,88,76,89,126,36,88,56,68,129,87,100,43,115,52,59,84,118,8,49,79,61,140,100,23,79,40,46,64,107,28,39,49,133,61,126,55,128,132,123,46,48,55,100,52,65,95,123,137,71,120,73,111,135,118,72,77,105,21,88,64,79,118,75,133,51,123,107,75,93,127,68,130,121,63,69,126,110,104,49,54,122,72,57,124,123,33,26,61,71,36,71,57,32,9,73,16,80,126,53,133,120,60,47,126,69,86,35,56,78,110,77,124,75,66,82,53,112,89,44,105,122,130,62,76,51,93,135,133,95,51,88,103,77,121,110,75,104,47,124,48,69,91,113,82,18,59,71,127,107,42,122,124,67,47,73,73,72,98,118,107,35,74,87,80,93,29,97,132,125,83,138,111,18,52,118,76,136,117,136,34,115,109,142,127,25,109,30,97,131,24,139,115,125,65,63,140,71,122,50,105,55,99,124,59,118,114,134,65,22,67,67,58,137,48,77,67,27,73,128,134,74,117,86,94,121,89],\"type\":\"histogram\"}],                        {\"barmode\":\"overlay\",\"legend\":{\"bgcolor\":\"#F5F6F9\",\"font\":{\"color\":\"#4D5663\"}},\"paper_bgcolor\":\"#F5F6F9\",\"plot_bgcolor\":\"#F5F6F9\",\"template\":{\"data\":{\"barpolar\":[{\"marker\":{\"line\":{\"color\":\"#E5ECF6\",\"width\":0.5},\"pattern\":{\"fillmode\":\"overlay\",\"size\":10,\"solidity\":0.2}},\"type\":\"barpolar\"}],\"bar\":[{\"error_x\":{\"color\":\"#2a3f5f\"},\"error_y\":{\"color\":\"#2a3f5f\"},\"marker\":{\"line\":{\"color\":\"#E5ECF6\",\"width\":0.5},\"pattern\":{\"fillmode\":\"overlay\",\"size\":10,\"solidity\":0.2}},\"type\":\"bar\"}],\"carpet\":[{\"aaxis\":{\"endlinecolor\":\"#2a3f5f\",\"gridcolor\":\"white\",\"linecolor\":\"white\",\"minorgridcolor\":\"white\",\"startlinecolor\":\"#2a3f5f\"},\"baxis\":{\"endlinecolor\":\"#2a3f5f\",\"gridcolor\":\"white\",\"linecolor\":\"white\",\"minorgridcolor\":\"white\",\"startlinecolor\":\"#2a3f5f\"},\"type\":\"carpet\"}],\"choropleth\":[{\"colorbar\":{\"outlinewidth\":0,\"ticks\":\"\"},\"type\":\"choropleth\"}],\"contourcarpet\":[{\"colorbar\":{\"outlinewidth\":0,\"ticks\":\"\"},\"type\":\"contourcarpet\"}],\"contour\":[{\"colorbar\":{\"outlinewidth\":0,\"ticks\":\"\"},\"colorscale\":[[0.0,\"#0d0887\"],[0.1111111111111111,\"#46039f\"],[0.2222222222222222,\"#7201a8\"],[0.3333333333333333,\"#9c179e\"],[0.4444444444444444,\"#bd3786\"],[0.5555555555555556,\"#d8576b\"],[0.6666666666666666,\"#ed7953\"],[0.7777777777777778,\"#fb9f3a\"],[0.8888888888888888,\"#fdca26\"],[1.0,\"#f0f921\"]],\"type\":\"contour\"}],\"heatmapgl\":[{\"colorbar\":{\"outlinewidth\":0,\"ticks\":\"\"},\"colorscale\":[[0.0,\"#0d0887\"],[0.1111111111111111,\"#46039f\"],[0.2222222222222222,\"#7201a8\"],[0.3333333333333333,\"#9c179e\"],[0.4444444444444444,\"#bd3786\"],[0.5555555555555556,\"#d8576b\"],[0.6666666666666666,\"#ed7953\"],[0.7777777777777778,\"#fb9f3a\"],[0.8888888888888888,\"#fdca26\"],[1.0,\"#f0f921\"]],\"type\":\"heatmapgl\"}],\"heatmap\":[{\"colorbar\":{\"outlinewidth\":0,\"ticks\":\"\"},\"colorscale\":[[0.0,\"#0d0887\"],[0.1111111111111111,\"#46039f\"],[0.2222222222222222,\"#7201a8\"],[0.3333333333333333,\"#9c179e\"],[0.4444444444444444,\"#bd3786\"],[0.5555555555555556,\"#d8576b\"],[0.6666666666666666,\"#ed7953\"],[0.7777777777777778,\"#fb9f3a\"],[0.8888888888888888,\"#fdca26\"],[1.0,\"#f0f921\"]],\"type\":\"heatmap\"}],\"histogram2dcontour\":[{\"colorbar\":{\"outlinewidth\":0,\"ticks\":\"\"},\"colorscale\":[[0.0,\"#0d0887\"],[0.1111111111111111,\"#46039f\"],[0.2222222222222222,\"#7201a8\"],[0.3333333333333333,\"#9c179e\"],[0.4444444444444444,\"#bd3786\"],[0.5555555555555556,\"#d8576b\"],[0.6666666666666666,\"#ed7953\"],[0.7777777777777778,\"#fb9f3a\"],[0.8888888888888888,\"#fdca26\"],[1.0,\"#f0f921\"]],\"type\":\"histogram2dcontour\"}],\"histogram2d\":[{\"colorbar\":{\"outlinewidth\":0,\"ticks\":\"\"},\"colorscale\":[[0.0,\"#0d0887\"],[0.1111111111111111,\"#46039f\"],[0.2222222222222222,\"#7201a8\"],[0.3333333333333333,\"#9c179e\"],[0.4444444444444444,\"#bd3786\"],[0.5555555555555556,\"#d8576b\"],[0.6666666666666666,\"#ed7953\"],[0.7777777777777778,\"#fb9f3a\"],[0.8888888888888888,\"#fdca26\"],[1.0,\"#f0f921\"]],\"type\":\"histogram2d\"}],\"histogram\":[{\"marker\":{\"pattern\":{\"fillmode\":\"overlay\",\"size\":10,\"solidity\":0.2}},\"type\":\"histogram\"}],\"mesh3d\":[{\"colorbar\":{\"outlinewidth\":0,\"ticks\":\"\"},\"type\":\"mesh3d\"}],\"parcoords\":[{\"line\":{\"colorbar\":{\"outlinewidth\":0,\"ticks\":\"\"}},\"type\":\"parcoords\"}],\"pie\":[{\"automargin\":true,\"type\":\"pie\"}],\"scatter3d\":[{\"line\":{\"colorbar\":{\"outlinewidth\":0,\"ticks\":\"\"}},\"marker\":{\"colorbar\":{\"outlinewidth\":0,\"ticks\":\"\"}},\"type\":\"scatter3d\"}],\"scattercarpet\":[{\"marker\":{\"colorbar\":{\"outlinewidth\":0,\"ticks\":\"\"}},\"type\":\"scattercarpet\"}],\"scattergeo\":[{\"marker\":{\"colorbar\":{\"outlinewidth\":0,\"ticks\":\"\"}},\"type\":\"scattergeo\"}],\"scattergl\":[{\"marker\":{\"colorbar\":{\"outlinewidth\":0,\"ticks\":\"\"}},\"type\":\"scattergl\"}],\"scattermapbox\":[{\"marker\":{\"colorbar\":{\"outlinewidth\":0,\"ticks\":\"\"}},\"type\":\"scattermapbox\"}],\"scatterpolargl\":[{\"marker\":{\"colorbar\":{\"outlinewidth\":0,\"ticks\":\"\"}},\"type\":\"scatterpolargl\"}],\"scatterpolar\":[{\"marker\":{\"colorbar\":{\"outlinewidth\":0,\"ticks\":\"\"}},\"type\":\"scatterpolar\"}],\"scatter\":[{\"fillpattern\":{\"fillmode\":\"overlay\",\"size\":10,\"solidity\":0.2},\"type\":\"scatter\"}],\"scatterternary\":[{\"marker\":{\"colorbar\":{\"outlinewidth\":0,\"ticks\":\"\"}},\"type\":\"scatterternary\"}],\"surface\":[{\"colorbar\":{\"outlinewidth\":0,\"ticks\":\"\"},\"colorscale\":[[0.0,\"#0d0887\"],[0.1111111111111111,\"#46039f\"],[0.2222222222222222,\"#7201a8\"],[0.3333333333333333,\"#9c179e\"],[0.4444444444444444,\"#bd3786\"],[0.5555555555555556,\"#d8576b\"],[0.6666666666666666,\"#ed7953\"],[0.7777777777777778,\"#fb9f3a\"],[0.8888888888888888,\"#fdca26\"],[1.0,\"#f0f921\"]],\"type\":\"surface\"}],\"table\":[{\"cells\":{\"fill\":{\"color\":\"#EBF0F8\"},\"line\":{\"color\":\"white\"}},\"header\":{\"fill\":{\"color\":\"#C8D4E3\"},\"line\":{\"color\":\"white\"}},\"type\":\"table\"}]},\"layout\":{\"annotationdefaults\":{\"arrowcolor\":\"#2a3f5f\",\"arrowhead\":0,\"arrowwidth\":1},\"autotypenumbers\":\"strict\",\"coloraxis\":{\"colorbar\":{\"outlinewidth\":0,\"ticks\":\"\"}},\"colorscale\":{\"diverging\":[[0,\"#8e0152\"],[0.1,\"#c51b7d\"],[0.2,\"#de77ae\"],[0.3,\"#f1b6da\"],[0.4,\"#fde0ef\"],[0.5,\"#f7f7f7\"],[0.6,\"#e6f5d0\"],[0.7,\"#b8e186\"],[0.8,\"#7fbc41\"],[0.9,\"#4d9221\"],[1,\"#276419\"]],\"sequential\":[[0.0,\"#0d0887\"],[0.1111111111111111,\"#46039f\"],[0.2222222222222222,\"#7201a8\"],[0.3333333333333333,\"#9c179e\"],[0.4444444444444444,\"#bd3786\"],[0.5555555555555556,\"#d8576b\"],[0.6666666666666666,\"#ed7953\"],[0.7777777777777778,\"#fb9f3a\"],[0.8888888888888888,\"#fdca26\"],[1.0,\"#f0f921\"]],\"sequentialminus\":[[0.0,\"#0d0887\"],[0.1111111111111111,\"#46039f\"],[0.2222222222222222,\"#7201a8\"],[0.3333333333333333,\"#9c179e\"],[0.4444444444444444,\"#bd3786\"],[0.5555555555555556,\"#d8576b\"],[0.6666666666666666,\"#ed7953\"],[0.7777777777777778,\"#fb9f3a\"],[0.8888888888888888,\"#fdca26\"],[1.0,\"#f0f921\"]]},\"colorway\":[\"#636efa\",\"#EF553B\",\"#00cc96\",\"#ab63fa\",\"#FFA15A\",\"#19d3f3\",\"#FF6692\",\"#B6E880\",\"#FF97FF\",\"#FECB52\"],\"font\":{\"color\":\"#2a3f5f\"},\"geo\":{\"bgcolor\":\"white\",\"lakecolor\":\"white\",\"landcolor\":\"#E5ECF6\",\"showlakes\":true,\"showland\":true,\"subunitcolor\":\"white\"},\"hoverlabel\":{\"align\":\"left\"},\"hovermode\":\"closest\",\"mapbox\":{\"style\":\"light\"},\"paper_bgcolor\":\"white\",\"plot_bgcolor\":\"#E5ECF6\",\"polar\":{\"angularaxis\":{\"gridcolor\":\"white\",\"linecolor\":\"white\",\"ticks\":\"\"},\"bgcolor\":\"#E5ECF6\",\"radialaxis\":{\"gridcolor\":\"white\",\"linecolor\":\"white\",\"ticks\":\"\"}},\"scene\":{\"xaxis\":{\"backgroundcolor\":\"#E5ECF6\",\"gridcolor\":\"white\",\"gridwidth\":2,\"linecolor\":\"white\",\"showbackground\":true,\"ticks\":\"\",\"zerolinecolor\":\"white\"},\"yaxis\":{\"backgroundcolor\":\"#E5ECF6\",\"gridcolor\":\"white\",\"gridwidth\":2,\"linecolor\":\"white\",\"showbackground\":true,\"ticks\":\"\",\"zerolinecolor\":\"white\"},\"zaxis\":{\"backgroundcolor\":\"#E5ECF6\",\"gridcolor\":\"white\",\"gridwidth\":2,\"linecolor\":\"white\",\"showbackground\":true,\"ticks\":\"\",\"zerolinecolor\":\"white\"}},\"shapedefaults\":{\"line\":{\"color\":\"#2a3f5f\"}},\"ternary\":{\"aaxis\":{\"gridcolor\":\"white\",\"linecolor\":\"white\",\"ticks\":\"\"},\"baxis\":{\"gridcolor\":\"white\",\"linecolor\":\"white\",\"ticks\":\"\"},\"bgcolor\":\"#E5ECF6\",\"caxis\":{\"gridcolor\":\"white\",\"linecolor\":\"white\",\"ticks\":\"\"}},\"title\":{\"x\":0.05},\"xaxis\":{\"automargin\":true,\"gridcolor\":\"white\",\"linecolor\":\"white\",\"ticks\":\"\",\"title\":{\"standoff\":15},\"zerolinecolor\":\"white\",\"zerolinewidth\":2},\"yaxis\":{\"automargin\":true,\"gridcolor\":\"white\",\"linecolor\":\"white\",\"ticks\":\"\",\"title\":{\"standoff\":15},\"zerolinecolor\":\"white\",\"zerolinewidth\":2}}},\"title\":{\"font\":{\"color\":\"#4D5663\"},\"text\":\"Distribution of Text Length\"},\"xaxis\":{\"gridcolor\":\"#E1E5ED\",\"showgrid\":true,\"tickfont\":{\"color\":\"#4D5663\"},\"title\":{\"font\":{\"color\":\"#4D5663\"},\"text\":\"Text Length\"},\"zerolinecolor\":\"#E1E5ED\"},\"yaxis\":{\"gridcolor\":\"#E1E5ED\",\"showgrid\":true,\"tickfont\":{\"color\":\"#4D5663\"},\"title\":{\"font\":{\"color\":\"#4D5663\"},\"text\":\"Count\"},\"zerolinecolor\":\"#E1E5ED\"}},                        {\"showLink\": true, \"linkText\": \"Export to plot.ly\", \"plotlyServerURL\": \"https://plot.ly\", \"responsive\": true}                    ).then(function(){\n",
       "                            \n",
       "var gd = document.getElementById('8ab9bd01-73c7-4728-a0d4-66d7bc5db9d8');\n",
       "var x = new MutationObserver(function (mutations, observer) {{\n",
       "        var display = window.getComputedStyle(gd).display;\n",
       "        if (!display || display === 'none') {{\n",
       "            console.log([gd, 'removed!']);\n",
       "            Plotly.purge(gd);\n",
       "            observer.disconnect();\n",
       "        }}\n",
       "}});\n",
       "\n",
       "// Listen for the removal of the full notebook cells\n",
       "var notebookContainer = gd.closest('#notebook-container');\n",
       "if (notebookContainer) {{\n",
       "    x.observe(notebookContainer, {childList: true});\n",
       "}}\n",
       "\n",
       "// Listen for the clearing of the current output cell\n",
       "var outputEl = gd.closest('.output');\n",
       "if (outputEl) {{\n",
       "    x.observe(outputEl, {childList: true});\n",
       "}}\n",
       "\n",
       "                        })                };                });            </script>        </div>"
      ]
     },
     "metadata": {},
     "output_type": "display_data"
    }
   ],
   "source": [
    "df['text_length'].iplot(kind = 'hist', xTitle = 'Text Length', yTitle = 'Count', title = \"Distribution of Text Length\", bins = 50)"
   ]
  },
  {
   "cell_type": "code",
   "execution_count": 32,
   "metadata": {},
   "outputs": [
    {
     "data": {
      "application/vnd.plotly.v1+json": {
       "config": {
        "linkText": "Export to plot.ly",
        "plotlyServerURL": "https://plot.ly",
        "showLink": true
       },
       "data": [
        {
         "histfunc": "count",
         "histnorm": "",
         "marker": {
          "color": "rgba(255, 153, 51, 1.0)",
          "line": {
           "color": "#4D5663",
           "width": 1.3
          }
         },
         "name": "word_count",
         "opacity": 0.8,
         "orientation": "v",
         "type": "histogram",
         "x": [
          18,
          13,
          19,
          20,
          9,
          16,
          9,
          20,
          13,
          14,
          25,
          10,
          12,
          13,
          19,
          9,
          9,
          9,
          7,
          22,
          10,
          12,
          10,
          19,
          6,
          5,
          22,
          17,
          20,
          25,
          12,
          18,
          17,
          26,
          21,
          25,
          6,
          15,
          10,
          11,
          20,
          23,
          22,
          5,
          20,
          21,
          12,
          9,
          12,
          13,
          9,
          26,
          15,
          21,
          10,
          15,
          7,
          1,
          21,
          7,
          12,
          10,
          7,
          24,
          6,
          17,
          19,
          23,
          21,
          8,
          7,
          20,
          21,
          16,
          5,
          17,
          19,
          12,
          17,
          14,
          17,
          6,
          13,
          24,
          20,
          15,
          15,
          12,
          12,
          7,
          21,
          5,
          20,
          5,
          22,
          15,
          5,
          14,
          22,
          2,
          25,
          6,
          11,
          19,
          10,
          19,
          9,
          9,
          12,
          2,
          11,
          20,
          12,
          8,
          11,
          21,
          18,
          15,
          15,
          21,
          14,
          23,
          20,
          10,
          9,
          7,
          14,
          22,
          26,
          7,
          16,
          22,
          3,
          12,
          15,
          27,
          19,
          21,
          8,
          14,
          21,
          15,
          7,
          10,
          17,
          11,
          20,
          11,
          9,
          16,
          11,
          24,
          11,
          13,
          24,
          17,
          9,
          15,
          20,
          13,
          13,
          20,
          14,
          8,
          23,
          13,
          18,
          23,
          10,
          19,
          14,
          13,
          17,
          19,
          20,
          20,
          21,
          20,
          19,
          28,
          19,
          12,
          20,
          7,
          12,
          22,
          13,
          21,
          16,
          11,
          18,
          26,
          24,
          14,
          12,
          18,
          9,
          20,
          12,
          19,
          19,
          20,
          13,
          23,
          21,
          22,
          12,
          6,
          17,
          14,
          15,
          6,
          19,
          12,
          17,
          17,
          8,
          12,
          4,
          19,
          27,
          16,
          10,
          24,
          5,
          19,
          9,
          7,
          15,
          14,
          8,
          19,
          28,
          14,
          25,
          7,
          24,
          7,
          15,
          13,
          6,
          20,
          12,
          15,
          15,
          15,
          7,
          24,
          26,
          6,
          14,
          19,
          12,
          12,
          23,
          29,
          15,
          19,
          11,
          12,
          12,
          18,
          12,
          11,
          11,
          16,
          12,
          16,
          12,
          5,
          14,
          6,
          7,
          17,
          19,
          6,
          14,
          24,
          5,
          11,
          8,
          14,
          8,
          6,
          9,
          25,
          8,
          3,
          11,
          19,
          14,
          8,
          11,
          18,
          10,
          14,
          18,
          13,
          14,
          13,
          11,
          12,
          12,
          11,
          9,
          10,
          26,
          20,
          12,
          12,
          18,
          4,
          4,
          4,
          18,
          23,
          29,
          12,
          11,
          12,
          21,
          19,
          23,
          13,
          12,
          25,
          7,
          7,
          12,
          16,
          22,
          19,
          24,
          6,
          11,
          22,
          24,
          5,
          6,
          4,
          21,
          12,
          31,
          10,
          10,
          15,
          12,
          11,
          8,
          12,
          5,
          15,
          19,
          16,
          23,
          6,
          7,
          15,
          19,
          22,
          15,
          10,
          25,
          20,
          6,
          7,
          20,
          19,
          5,
          17,
          21,
          9,
          21,
          16,
          12,
          19,
          23,
          19,
          21,
          11,
          22,
          27,
          6,
          23,
          26,
          15,
          12,
          15,
          12,
          10,
          21,
          13,
          4,
          13,
          24,
          20,
          10,
          7,
          3,
          12,
          16,
          20,
          13,
          18,
          14,
          22,
          12,
          18,
          7,
          16,
          22,
          10,
          22,
          8,
          27,
          22,
          22,
          6,
          14,
          13,
          10,
          10,
          18,
          26,
          21,
          16,
          4,
          6,
          13,
          19,
          13,
          12,
          26,
          18,
          8,
          23,
          7,
          4,
          17,
          16,
          7,
          16,
          4,
          19,
          17,
          11,
          25,
          20,
          15,
          3,
          14,
          24,
          20,
          12,
          21,
          18,
          12,
          15,
          25,
          13,
          23,
          12,
          10,
          13,
          5,
          10,
          6,
          11,
          24,
          9,
          14,
          11,
          21,
          9,
          21,
          12,
          7,
          5,
          15,
          7,
          15,
          22,
          25,
          14,
          6,
          13,
          21,
          22,
          20,
          14,
          8,
          8,
          15,
          6,
          25,
          9,
          11,
          11,
          11,
          27,
          14,
          7,
          12,
          14,
          11,
          11,
          14,
          25,
          5,
          10,
          21,
          14,
          17,
          7,
          15,
          13,
          21,
          24,
          15,
          12,
          14,
          15,
          16,
          11,
          16,
          18,
          12,
          13,
          12,
          14,
          25,
          24,
          17,
          13,
          11,
          12,
          17,
          15,
          12,
          15,
          23,
          8,
          17,
          9,
          13,
          26,
          13,
          18,
          8,
          21,
          9,
          8,
          14,
          22,
          1,
          9,
          12,
          11,
          23,
          21,
          5,
          20,
          7,
          10,
          12,
          22,
          7,
          7,
          10,
          26,
          8,
          18,
          8,
          22,
          26,
          18,
          7,
          9,
          8,
          16,
          9,
          13,
          15,
          18,
          28,
          12,
          18,
          12,
          25,
          20,
          21,
          12,
          12,
          22,
          3,
          13,
          14,
          13,
          18,
          12,
          26,
          12,
          22,
          22,
          9,
          18,
          24,
          10,
          22,
          24,
          13,
          13,
          25,
          19,
          19,
          8,
          8,
          21,
          14,
          13,
          19,
          21,
          6,
          5,
          11,
          13,
          6,
          13,
          9,
          6,
          1,
          12,
          3,
          16,
          25,
          8,
          21,
          21,
          12,
          7,
          24,
          16,
          16,
          5,
          13,
          14,
          19,
          14,
          23,
          12,
          10,
          15,
          10,
          23,
          18,
          7,
          15,
          21,
          26,
          13,
          15,
          9,
          16,
          22,
          23,
          20,
          7,
          17,
          18,
          14,
          24,
          22,
          13,
          18,
          10,
          21,
          9,
          15,
          18,
          22,
          17,
          4,
          6,
          16,
          27,
          21,
          9,
          20,
          27,
          10,
          7,
          15,
          11,
          12,
          14,
          20,
          22,
          3,
          14,
          15,
          13,
          14,
          5,
          17,
          26,
          25,
          15,
          27,
          15,
          3,
          10,
          20,
          13,
          23,
          21,
          14,
          6,
          18,
          20,
          27,
          19,
          6,
          21,
          5,
          16,
          26,
          4,
          25,
          22,
          17,
          11,
          10,
          26,
          12,
          18,
          11,
          15,
          8,
          16,
          25,
          10,
          21,
          22,
          21,
          11,
          4,
          14,
          9,
          9,
          23,
          10,
          12,
          9,
          5,
          12,
          22,
          22,
          10,
          27,
          14,
          19,
          25,
          18
         ]
        }
       ],
       "layout": {
        "barmode": "overlay",
        "legend": {
         "bgcolor": "#F5F6F9",
         "font": {
          "color": "#4D5663"
         }
        },
        "paper_bgcolor": "#F5F6F9",
        "plot_bgcolor": "#F5F6F9",
        "template": {
         "data": {
          "bar": [
           {
            "error_x": {
             "color": "#2a3f5f"
            },
            "error_y": {
             "color": "#2a3f5f"
            },
            "marker": {
             "line": {
              "color": "#E5ECF6",
              "width": 0.5
             },
             "pattern": {
              "fillmode": "overlay",
              "size": 10,
              "solidity": 0.2
             }
            },
            "type": "bar"
           }
          ],
          "barpolar": [
           {
            "marker": {
             "line": {
              "color": "#E5ECF6",
              "width": 0.5
             },
             "pattern": {
              "fillmode": "overlay",
              "size": 10,
              "solidity": 0.2
             }
            },
            "type": "barpolar"
           }
          ],
          "carpet": [
           {
            "aaxis": {
             "endlinecolor": "#2a3f5f",
             "gridcolor": "white",
             "linecolor": "white",
             "minorgridcolor": "white",
             "startlinecolor": "#2a3f5f"
            },
            "baxis": {
             "endlinecolor": "#2a3f5f",
             "gridcolor": "white",
             "linecolor": "white",
             "minorgridcolor": "white",
             "startlinecolor": "#2a3f5f"
            },
            "type": "carpet"
           }
          ],
          "choropleth": [
           {
            "colorbar": {
             "outlinewidth": 0,
             "ticks": ""
            },
            "type": "choropleth"
           }
          ],
          "contour": [
           {
            "colorbar": {
             "outlinewidth": 0,
             "ticks": ""
            },
            "colorscale": [
             [
              0,
              "#0d0887"
             ],
             [
              0.1111111111111111,
              "#46039f"
             ],
             [
              0.2222222222222222,
              "#7201a8"
             ],
             [
              0.3333333333333333,
              "#9c179e"
             ],
             [
              0.4444444444444444,
              "#bd3786"
             ],
             [
              0.5555555555555556,
              "#d8576b"
             ],
             [
              0.6666666666666666,
              "#ed7953"
             ],
             [
              0.7777777777777778,
              "#fb9f3a"
             ],
             [
              0.8888888888888888,
              "#fdca26"
             ],
             [
              1,
              "#f0f921"
             ]
            ],
            "type": "contour"
           }
          ],
          "contourcarpet": [
           {
            "colorbar": {
             "outlinewidth": 0,
             "ticks": ""
            },
            "type": "contourcarpet"
           }
          ],
          "heatmap": [
           {
            "colorbar": {
             "outlinewidth": 0,
             "ticks": ""
            },
            "colorscale": [
             [
              0,
              "#0d0887"
             ],
             [
              0.1111111111111111,
              "#46039f"
             ],
             [
              0.2222222222222222,
              "#7201a8"
             ],
             [
              0.3333333333333333,
              "#9c179e"
             ],
             [
              0.4444444444444444,
              "#bd3786"
             ],
             [
              0.5555555555555556,
              "#d8576b"
             ],
             [
              0.6666666666666666,
              "#ed7953"
             ],
             [
              0.7777777777777778,
              "#fb9f3a"
             ],
             [
              0.8888888888888888,
              "#fdca26"
             ],
             [
              1,
              "#f0f921"
             ]
            ],
            "type": "heatmap"
           }
          ],
          "heatmapgl": [
           {
            "colorbar": {
             "outlinewidth": 0,
             "ticks": ""
            },
            "colorscale": [
             [
              0,
              "#0d0887"
             ],
             [
              0.1111111111111111,
              "#46039f"
             ],
             [
              0.2222222222222222,
              "#7201a8"
             ],
             [
              0.3333333333333333,
              "#9c179e"
             ],
             [
              0.4444444444444444,
              "#bd3786"
             ],
             [
              0.5555555555555556,
              "#d8576b"
             ],
             [
              0.6666666666666666,
              "#ed7953"
             ],
             [
              0.7777777777777778,
              "#fb9f3a"
             ],
             [
              0.8888888888888888,
              "#fdca26"
             ],
             [
              1,
              "#f0f921"
             ]
            ],
            "type": "heatmapgl"
           }
          ],
          "histogram": [
           {
            "marker": {
             "pattern": {
              "fillmode": "overlay",
              "size": 10,
              "solidity": 0.2
             }
            },
            "type": "histogram"
           }
          ],
          "histogram2d": [
           {
            "colorbar": {
             "outlinewidth": 0,
             "ticks": ""
            },
            "colorscale": [
             [
              0,
              "#0d0887"
             ],
             [
              0.1111111111111111,
              "#46039f"
             ],
             [
              0.2222222222222222,
              "#7201a8"
             ],
             [
              0.3333333333333333,
              "#9c179e"
             ],
             [
              0.4444444444444444,
              "#bd3786"
             ],
             [
              0.5555555555555556,
              "#d8576b"
             ],
             [
              0.6666666666666666,
              "#ed7953"
             ],
             [
              0.7777777777777778,
              "#fb9f3a"
             ],
             [
              0.8888888888888888,
              "#fdca26"
             ],
             [
              1,
              "#f0f921"
             ]
            ],
            "type": "histogram2d"
           }
          ],
          "histogram2dcontour": [
           {
            "colorbar": {
             "outlinewidth": 0,
             "ticks": ""
            },
            "colorscale": [
             [
              0,
              "#0d0887"
             ],
             [
              0.1111111111111111,
              "#46039f"
             ],
             [
              0.2222222222222222,
              "#7201a8"
             ],
             [
              0.3333333333333333,
              "#9c179e"
             ],
             [
              0.4444444444444444,
              "#bd3786"
             ],
             [
              0.5555555555555556,
              "#d8576b"
             ],
             [
              0.6666666666666666,
              "#ed7953"
             ],
             [
              0.7777777777777778,
              "#fb9f3a"
             ],
             [
              0.8888888888888888,
              "#fdca26"
             ],
             [
              1,
              "#f0f921"
             ]
            ],
            "type": "histogram2dcontour"
           }
          ],
          "mesh3d": [
           {
            "colorbar": {
             "outlinewidth": 0,
             "ticks": ""
            },
            "type": "mesh3d"
           }
          ],
          "parcoords": [
           {
            "line": {
             "colorbar": {
              "outlinewidth": 0,
              "ticks": ""
             }
            },
            "type": "parcoords"
           }
          ],
          "pie": [
           {
            "automargin": true,
            "type": "pie"
           }
          ],
          "scatter": [
           {
            "fillpattern": {
             "fillmode": "overlay",
             "size": 10,
             "solidity": 0.2
            },
            "type": "scatter"
           }
          ],
          "scatter3d": [
           {
            "line": {
             "colorbar": {
              "outlinewidth": 0,
              "ticks": ""
             }
            },
            "marker": {
             "colorbar": {
              "outlinewidth": 0,
              "ticks": ""
             }
            },
            "type": "scatter3d"
           }
          ],
          "scattercarpet": [
           {
            "marker": {
             "colorbar": {
              "outlinewidth": 0,
              "ticks": ""
             }
            },
            "type": "scattercarpet"
           }
          ],
          "scattergeo": [
           {
            "marker": {
             "colorbar": {
              "outlinewidth": 0,
              "ticks": ""
             }
            },
            "type": "scattergeo"
           }
          ],
          "scattergl": [
           {
            "marker": {
             "colorbar": {
              "outlinewidth": 0,
              "ticks": ""
             }
            },
            "type": "scattergl"
           }
          ],
          "scattermapbox": [
           {
            "marker": {
             "colorbar": {
              "outlinewidth": 0,
              "ticks": ""
             }
            },
            "type": "scattermapbox"
           }
          ],
          "scatterpolar": [
           {
            "marker": {
             "colorbar": {
              "outlinewidth": 0,
              "ticks": ""
             }
            },
            "type": "scatterpolar"
           }
          ],
          "scatterpolargl": [
           {
            "marker": {
             "colorbar": {
              "outlinewidth": 0,
              "ticks": ""
             }
            },
            "type": "scatterpolargl"
           }
          ],
          "scatterternary": [
           {
            "marker": {
             "colorbar": {
              "outlinewidth": 0,
              "ticks": ""
             }
            },
            "type": "scatterternary"
           }
          ],
          "surface": [
           {
            "colorbar": {
             "outlinewidth": 0,
             "ticks": ""
            },
            "colorscale": [
             [
              0,
              "#0d0887"
             ],
             [
              0.1111111111111111,
              "#46039f"
             ],
             [
              0.2222222222222222,
              "#7201a8"
             ],
             [
              0.3333333333333333,
              "#9c179e"
             ],
             [
              0.4444444444444444,
              "#bd3786"
             ],
             [
              0.5555555555555556,
              "#d8576b"
             ],
             [
              0.6666666666666666,
              "#ed7953"
             ],
             [
              0.7777777777777778,
              "#fb9f3a"
             ],
             [
              0.8888888888888888,
              "#fdca26"
             ],
             [
              1,
              "#f0f921"
             ]
            ],
            "type": "surface"
           }
          ],
          "table": [
           {
            "cells": {
             "fill": {
              "color": "#EBF0F8"
             },
             "line": {
              "color": "white"
             }
            },
            "header": {
             "fill": {
              "color": "#C8D4E3"
             },
             "line": {
              "color": "white"
             }
            },
            "type": "table"
           }
          ]
         },
         "layout": {
          "annotationdefaults": {
           "arrowcolor": "#2a3f5f",
           "arrowhead": 0,
           "arrowwidth": 1
          },
          "autotypenumbers": "strict",
          "coloraxis": {
           "colorbar": {
            "outlinewidth": 0,
            "ticks": ""
           }
          },
          "colorscale": {
           "diverging": [
            [
             0,
             "#8e0152"
            ],
            [
             0.1,
             "#c51b7d"
            ],
            [
             0.2,
             "#de77ae"
            ],
            [
             0.3,
             "#f1b6da"
            ],
            [
             0.4,
             "#fde0ef"
            ],
            [
             0.5,
             "#f7f7f7"
            ],
            [
             0.6,
             "#e6f5d0"
            ],
            [
             0.7,
             "#b8e186"
            ],
            [
             0.8,
             "#7fbc41"
            ],
            [
             0.9,
             "#4d9221"
            ],
            [
             1,
             "#276419"
            ]
           ],
           "sequential": [
            [
             0,
             "#0d0887"
            ],
            [
             0.1111111111111111,
             "#46039f"
            ],
            [
             0.2222222222222222,
             "#7201a8"
            ],
            [
             0.3333333333333333,
             "#9c179e"
            ],
            [
             0.4444444444444444,
             "#bd3786"
            ],
            [
             0.5555555555555556,
             "#d8576b"
            ],
            [
             0.6666666666666666,
             "#ed7953"
            ],
            [
             0.7777777777777778,
             "#fb9f3a"
            ],
            [
             0.8888888888888888,
             "#fdca26"
            ],
            [
             1,
             "#f0f921"
            ]
           ],
           "sequentialminus": [
            [
             0,
             "#0d0887"
            ],
            [
             0.1111111111111111,
             "#46039f"
            ],
            [
             0.2222222222222222,
             "#7201a8"
            ],
            [
             0.3333333333333333,
             "#9c179e"
            ],
            [
             0.4444444444444444,
             "#bd3786"
            ],
            [
             0.5555555555555556,
             "#d8576b"
            ],
            [
             0.6666666666666666,
             "#ed7953"
            ],
            [
             0.7777777777777778,
             "#fb9f3a"
            ],
            [
             0.8888888888888888,
             "#fdca26"
            ],
            [
             1,
             "#f0f921"
            ]
           ]
          },
          "colorway": [
           "#636efa",
           "#EF553B",
           "#00cc96",
           "#ab63fa",
           "#FFA15A",
           "#19d3f3",
           "#FF6692",
           "#B6E880",
           "#FF97FF",
           "#FECB52"
          ],
          "font": {
           "color": "#2a3f5f"
          },
          "geo": {
           "bgcolor": "white",
           "lakecolor": "white",
           "landcolor": "#E5ECF6",
           "showlakes": true,
           "showland": true,
           "subunitcolor": "white"
          },
          "hoverlabel": {
           "align": "left"
          },
          "hovermode": "closest",
          "mapbox": {
           "style": "light"
          },
          "paper_bgcolor": "white",
          "plot_bgcolor": "#E5ECF6",
          "polar": {
           "angularaxis": {
            "gridcolor": "white",
            "linecolor": "white",
            "ticks": ""
           },
           "bgcolor": "#E5ECF6",
           "radialaxis": {
            "gridcolor": "white",
            "linecolor": "white",
            "ticks": ""
           }
          },
          "scene": {
           "xaxis": {
            "backgroundcolor": "#E5ECF6",
            "gridcolor": "white",
            "gridwidth": 2,
            "linecolor": "white",
            "showbackground": true,
            "ticks": "",
            "zerolinecolor": "white"
           },
           "yaxis": {
            "backgroundcolor": "#E5ECF6",
            "gridcolor": "white",
            "gridwidth": 2,
            "linecolor": "white",
            "showbackground": true,
            "ticks": "",
            "zerolinecolor": "white"
           },
           "zaxis": {
            "backgroundcolor": "#E5ECF6",
            "gridcolor": "white",
            "gridwidth": 2,
            "linecolor": "white",
            "showbackground": true,
            "ticks": "",
            "zerolinecolor": "white"
           }
          },
          "shapedefaults": {
           "line": {
            "color": "#2a3f5f"
           }
          },
          "ternary": {
           "aaxis": {
            "gridcolor": "white",
            "linecolor": "white",
            "ticks": ""
           },
           "baxis": {
            "gridcolor": "white",
            "linecolor": "white",
            "ticks": ""
           },
           "bgcolor": "#E5ECF6",
           "caxis": {
            "gridcolor": "white",
            "linecolor": "white",
            "ticks": ""
           }
          },
          "title": {
           "x": 0.05
          },
          "xaxis": {
           "automargin": true,
           "gridcolor": "white",
           "linecolor": "white",
           "ticks": "",
           "title": {
            "standoff": 15
           },
           "zerolinecolor": "white",
           "zerolinewidth": 2
          },
          "yaxis": {
           "automargin": true,
           "gridcolor": "white",
           "linecolor": "white",
           "ticks": "",
           "title": {
            "standoff": 15
           },
           "zerolinecolor": "white",
           "zerolinewidth": 2
          }
         }
        },
        "title": {
         "font": {
          "color": "#4D5663"
         },
         "text": "Distribution of Word Count"
        },
        "xaxis": {
         "gridcolor": "#E1E5ED",
         "showgrid": true,
         "tickfont": {
          "color": "#4D5663"
         },
         "title": {
          "font": {
           "color": "#4D5663"
          },
          "text": "Word Count"
         },
         "zerolinecolor": "#E1E5ED"
        },
        "yaxis": {
         "gridcolor": "#E1E5ED",
         "showgrid": true,
         "tickfont": {
          "color": "#4D5663"
         },
         "title": {
          "font": {
           "color": "#4D5663"
          },
          "text": "Count"
         },
         "zerolinecolor": "#E1E5ED"
        }
       }
      },
      "text/html": [
       "<div>                            <div id=\"82d36bbe-5e39-4e5c-bd9a-9a97174072d6\" class=\"plotly-graph-div\" style=\"height:525px; width:100%;\"></div>            <script type=\"text/javascript\">                require([\"plotly\"], function(Plotly) {                    window.PLOTLYENV=window.PLOTLYENV || {};\n",
       "                    window.PLOTLYENV.BASE_URL='https://plot.ly';                                    if (document.getElementById(\"82d36bbe-5e39-4e5c-bd9a-9a97174072d6\")) {                    Plotly.newPlot(                        \"82d36bbe-5e39-4e5c-bd9a-9a97174072d6\",                        [{\"histfunc\":\"count\",\"histnorm\":\"\",\"marker\":{\"color\":\"rgba(255, 153, 51, 1.0)\",\"line\":{\"color\":\"#4D5663\",\"width\":1.3}},\"name\":\"word_count\",\"opacity\":0.8,\"orientation\":\"v\",\"x\":[18,13,19,20,9,16,9,20,13,14,25,10,12,13,19,9,9,9,7,22,10,12,10,19,6,5,22,17,20,25,12,18,17,26,21,25,6,15,10,11,20,23,22,5,20,21,12,9,12,13,9,26,15,21,10,15,7,1,21,7,12,10,7,24,6,17,19,23,21,8,7,20,21,16,5,17,19,12,17,14,17,6,13,24,20,15,15,12,12,7,21,5,20,5,22,15,5,14,22,2,25,6,11,19,10,19,9,9,12,2,11,20,12,8,11,21,18,15,15,21,14,23,20,10,9,7,14,22,26,7,16,22,3,12,15,27,19,21,8,14,21,15,7,10,17,11,20,11,9,16,11,24,11,13,24,17,9,15,20,13,13,20,14,8,23,13,18,23,10,19,14,13,17,19,20,20,21,20,19,28,19,12,20,7,12,22,13,21,16,11,18,26,24,14,12,18,9,20,12,19,19,20,13,23,21,22,12,6,17,14,15,6,19,12,17,17,8,12,4,19,27,16,10,24,5,19,9,7,15,14,8,19,28,14,25,7,24,7,15,13,6,20,12,15,15,15,7,24,26,6,14,19,12,12,23,29,15,19,11,12,12,18,12,11,11,16,12,16,12,5,14,6,7,17,19,6,14,24,5,11,8,14,8,6,9,25,8,3,11,19,14,8,11,18,10,14,18,13,14,13,11,12,12,11,9,10,26,20,12,12,18,4,4,4,18,23,29,12,11,12,21,19,23,13,12,25,7,7,12,16,22,19,24,6,11,22,24,5,6,4,21,12,31,10,10,15,12,11,8,12,5,15,19,16,23,6,7,15,19,22,15,10,25,20,6,7,20,19,5,17,21,9,21,16,12,19,23,19,21,11,22,27,6,23,26,15,12,15,12,10,21,13,4,13,24,20,10,7,3,12,16,20,13,18,14,22,12,18,7,16,22,10,22,8,27,22,22,6,14,13,10,10,18,26,21,16,4,6,13,19,13,12,26,18,8,23,7,4,17,16,7,16,4,19,17,11,25,20,15,3,14,24,20,12,21,18,12,15,25,13,23,12,10,13,5,10,6,11,24,9,14,11,21,9,21,12,7,5,15,7,15,22,25,14,6,13,21,22,20,14,8,8,15,6,25,9,11,11,11,27,14,7,12,14,11,11,14,25,5,10,21,14,17,7,15,13,21,24,15,12,14,15,16,11,16,18,12,13,12,14,25,24,17,13,11,12,17,15,12,15,23,8,17,9,13,26,13,18,8,21,9,8,14,22,1,9,12,11,23,21,5,20,7,10,12,22,7,7,10,26,8,18,8,22,26,18,7,9,8,16,9,13,15,18,28,12,18,12,25,20,21,12,12,22,3,13,14,13,18,12,26,12,22,22,9,18,24,10,22,24,13,13,25,19,19,8,8,21,14,13,19,21,6,5,11,13,6,13,9,6,1,12,3,16,25,8,21,21,12,7,24,16,16,5,13,14,19,14,23,12,10,15,10,23,18,7,15,21,26,13,15,9,16,22,23,20,7,17,18,14,24,22,13,18,10,21,9,15,18,22,17,4,6,16,27,21,9,20,27,10,7,15,11,12,14,20,22,3,14,15,13,14,5,17,26,25,15,27,15,3,10,20,13,23,21,14,6,18,20,27,19,6,21,5,16,26,4,25,22,17,11,10,26,12,18,11,15,8,16,25,10,21,22,21,11,4,14,9,9,23,10,12,9,5,12,22,22,10,27,14,19,25,18],\"type\":\"histogram\"}],                        {\"barmode\":\"overlay\",\"legend\":{\"bgcolor\":\"#F5F6F9\",\"font\":{\"color\":\"#4D5663\"}},\"paper_bgcolor\":\"#F5F6F9\",\"plot_bgcolor\":\"#F5F6F9\",\"template\":{\"data\":{\"barpolar\":[{\"marker\":{\"line\":{\"color\":\"#E5ECF6\",\"width\":0.5},\"pattern\":{\"fillmode\":\"overlay\",\"size\":10,\"solidity\":0.2}},\"type\":\"barpolar\"}],\"bar\":[{\"error_x\":{\"color\":\"#2a3f5f\"},\"error_y\":{\"color\":\"#2a3f5f\"},\"marker\":{\"line\":{\"color\":\"#E5ECF6\",\"width\":0.5},\"pattern\":{\"fillmode\":\"overlay\",\"size\":10,\"solidity\":0.2}},\"type\":\"bar\"}],\"carpet\":[{\"aaxis\":{\"endlinecolor\":\"#2a3f5f\",\"gridcolor\":\"white\",\"linecolor\":\"white\",\"minorgridcolor\":\"white\",\"startlinecolor\":\"#2a3f5f\"},\"baxis\":{\"endlinecolor\":\"#2a3f5f\",\"gridcolor\":\"white\",\"linecolor\":\"white\",\"minorgridcolor\":\"white\",\"startlinecolor\":\"#2a3f5f\"},\"type\":\"carpet\"}],\"choropleth\":[{\"colorbar\":{\"outlinewidth\":0,\"ticks\":\"\"},\"type\":\"choropleth\"}],\"contourcarpet\":[{\"colorbar\":{\"outlinewidth\":0,\"ticks\":\"\"},\"type\":\"contourcarpet\"}],\"contour\":[{\"colorbar\":{\"outlinewidth\":0,\"ticks\":\"\"},\"colorscale\":[[0.0,\"#0d0887\"],[0.1111111111111111,\"#46039f\"],[0.2222222222222222,\"#7201a8\"],[0.3333333333333333,\"#9c179e\"],[0.4444444444444444,\"#bd3786\"],[0.5555555555555556,\"#d8576b\"],[0.6666666666666666,\"#ed7953\"],[0.7777777777777778,\"#fb9f3a\"],[0.8888888888888888,\"#fdca26\"],[1.0,\"#f0f921\"]],\"type\":\"contour\"}],\"heatmapgl\":[{\"colorbar\":{\"outlinewidth\":0,\"ticks\":\"\"},\"colorscale\":[[0.0,\"#0d0887\"],[0.1111111111111111,\"#46039f\"],[0.2222222222222222,\"#7201a8\"],[0.3333333333333333,\"#9c179e\"],[0.4444444444444444,\"#bd3786\"],[0.5555555555555556,\"#d8576b\"],[0.6666666666666666,\"#ed7953\"],[0.7777777777777778,\"#fb9f3a\"],[0.8888888888888888,\"#fdca26\"],[1.0,\"#f0f921\"]],\"type\":\"heatmapgl\"}],\"heatmap\":[{\"colorbar\":{\"outlinewidth\":0,\"ticks\":\"\"},\"colorscale\":[[0.0,\"#0d0887\"],[0.1111111111111111,\"#46039f\"],[0.2222222222222222,\"#7201a8\"],[0.3333333333333333,\"#9c179e\"],[0.4444444444444444,\"#bd3786\"],[0.5555555555555556,\"#d8576b\"],[0.6666666666666666,\"#ed7953\"],[0.7777777777777778,\"#fb9f3a\"],[0.8888888888888888,\"#fdca26\"],[1.0,\"#f0f921\"]],\"type\":\"heatmap\"}],\"histogram2dcontour\":[{\"colorbar\":{\"outlinewidth\":0,\"ticks\":\"\"},\"colorscale\":[[0.0,\"#0d0887\"],[0.1111111111111111,\"#46039f\"],[0.2222222222222222,\"#7201a8\"],[0.3333333333333333,\"#9c179e\"],[0.4444444444444444,\"#bd3786\"],[0.5555555555555556,\"#d8576b\"],[0.6666666666666666,\"#ed7953\"],[0.7777777777777778,\"#fb9f3a\"],[0.8888888888888888,\"#fdca26\"],[1.0,\"#f0f921\"]],\"type\":\"histogram2dcontour\"}],\"histogram2d\":[{\"colorbar\":{\"outlinewidth\":0,\"ticks\":\"\"},\"colorscale\":[[0.0,\"#0d0887\"],[0.1111111111111111,\"#46039f\"],[0.2222222222222222,\"#7201a8\"],[0.3333333333333333,\"#9c179e\"],[0.4444444444444444,\"#bd3786\"],[0.5555555555555556,\"#d8576b\"],[0.6666666666666666,\"#ed7953\"],[0.7777777777777778,\"#fb9f3a\"],[0.8888888888888888,\"#fdca26\"],[1.0,\"#f0f921\"]],\"type\":\"histogram2d\"}],\"histogram\":[{\"marker\":{\"pattern\":{\"fillmode\":\"overlay\",\"size\":10,\"solidity\":0.2}},\"type\":\"histogram\"}],\"mesh3d\":[{\"colorbar\":{\"outlinewidth\":0,\"ticks\":\"\"},\"type\":\"mesh3d\"}],\"parcoords\":[{\"line\":{\"colorbar\":{\"outlinewidth\":0,\"ticks\":\"\"}},\"type\":\"parcoords\"}],\"pie\":[{\"automargin\":true,\"type\":\"pie\"}],\"scatter3d\":[{\"line\":{\"colorbar\":{\"outlinewidth\":0,\"ticks\":\"\"}},\"marker\":{\"colorbar\":{\"outlinewidth\":0,\"ticks\":\"\"}},\"type\":\"scatter3d\"}],\"scattercarpet\":[{\"marker\":{\"colorbar\":{\"outlinewidth\":0,\"ticks\":\"\"}},\"type\":\"scattercarpet\"}],\"scattergeo\":[{\"marker\":{\"colorbar\":{\"outlinewidth\":0,\"ticks\":\"\"}},\"type\":\"scattergeo\"}],\"scattergl\":[{\"marker\":{\"colorbar\":{\"outlinewidth\":0,\"ticks\":\"\"}},\"type\":\"scattergl\"}],\"scattermapbox\":[{\"marker\":{\"colorbar\":{\"outlinewidth\":0,\"ticks\":\"\"}},\"type\":\"scattermapbox\"}],\"scatterpolargl\":[{\"marker\":{\"colorbar\":{\"outlinewidth\":0,\"ticks\":\"\"}},\"type\":\"scatterpolargl\"}],\"scatterpolar\":[{\"marker\":{\"colorbar\":{\"outlinewidth\":0,\"ticks\":\"\"}},\"type\":\"scatterpolar\"}],\"scatter\":[{\"fillpattern\":{\"fillmode\":\"overlay\",\"size\":10,\"solidity\":0.2},\"type\":\"scatter\"}],\"scatterternary\":[{\"marker\":{\"colorbar\":{\"outlinewidth\":0,\"ticks\":\"\"}},\"type\":\"scatterternary\"}],\"surface\":[{\"colorbar\":{\"outlinewidth\":0,\"ticks\":\"\"},\"colorscale\":[[0.0,\"#0d0887\"],[0.1111111111111111,\"#46039f\"],[0.2222222222222222,\"#7201a8\"],[0.3333333333333333,\"#9c179e\"],[0.4444444444444444,\"#bd3786\"],[0.5555555555555556,\"#d8576b\"],[0.6666666666666666,\"#ed7953\"],[0.7777777777777778,\"#fb9f3a\"],[0.8888888888888888,\"#fdca26\"],[1.0,\"#f0f921\"]],\"type\":\"surface\"}],\"table\":[{\"cells\":{\"fill\":{\"color\":\"#EBF0F8\"},\"line\":{\"color\":\"white\"}},\"header\":{\"fill\":{\"color\":\"#C8D4E3\"},\"line\":{\"color\":\"white\"}},\"type\":\"table\"}]},\"layout\":{\"annotationdefaults\":{\"arrowcolor\":\"#2a3f5f\",\"arrowhead\":0,\"arrowwidth\":1},\"autotypenumbers\":\"strict\",\"coloraxis\":{\"colorbar\":{\"outlinewidth\":0,\"ticks\":\"\"}},\"colorscale\":{\"diverging\":[[0,\"#8e0152\"],[0.1,\"#c51b7d\"],[0.2,\"#de77ae\"],[0.3,\"#f1b6da\"],[0.4,\"#fde0ef\"],[0.5,\"#f7f7f7\"],[0.6,\"#e6f5d0\"],[0.7,\"#b8e186\"],[0.8,\"#7fbc41\"],[0.9,\"#4d9221\"],[1,\"#276419\"]],\"sequential\":[[0.0,\"#0d0887\"],[0.1111111111111111,\"#46039f\"],[0.2222222222222222,\"#7201a8\"],[0.3333333333333333,\"#9c179e\"],[0.4444444444444444,\"#bd3786\"],[0.5555555555555556,\"#d8576b\"],[0.6666666666666666,\"#ed7953\"],[0.7777777777777778,\"#fb9f3a\"],[0.8888888888888888,\"#fdca26\"],[1.0,\"#f0f921\"]],\"sequentialminus\":[[0.0,\"#0d0887\"],[0.1111111111111111,\"#46039f\"],[0.2222222222222222,\"#7201a8\"],[0.3333333333333333,\"#9c179e\"],[0.4444444444444444,\"#bd3786\"],[0.5555555555555556,\"#d8576b\"],[0.6666666666666666,\"#ed7953\"],[0.7777777777777778,\"#fb9f3a\"],[0.8888888888888888,\"#fdca26\"],[1.0,\"#f0f921\"]]},\"colorway\":[\"#636efa\",\"#EF553B\",\"#00cc96\",\"#ab63fa\",\"#FFA15A\",\"#19d3f3\",\"#FF6692\",\"#B6E880\",\"#FF97FF\",\"#FECB52\"],\"font\":{\"color\":\"#2a3f5f\"},\"geo\":{\"bgcolor\":\"white\",\"lakecolor\":\"white\",\"landcolor\":\"#E5ECF6\",\"showlakes\":true,\"showland\":true,\"subunitcolor\":\"white\"},\"hoverlabel\":{\"align\":\"left\"},\"hovermode\":\"closest\",\"mapbox\":{\"style\":\"light\"},\"paper_bgcolor\":\"white\",\"plot_bgcolor\":\"#E5ECF6\",\"polar\":{\"angularaxis\":{\"gridcolor\":\"white\",\"linecolor\":\"white\",\"ticks\":\"\"},\"bgcolor\":\"#E5ECF6\",\"radialaxis\":{\"gridcolor\":\"white\",\"linecolor\":\"white\",\"ticks\":\"\"}},\"scene\":{\"xaxis\":{\"backgroundcolor\":\"#E5ECF6\",\"gridcolor\":\"white\",\"gridwidth\":2,\"linecolor\":\"white\",\"showbackground\":true,\"ticks\":\"\",\"zerolinecolor\":\"white\"},\"yaxis\":{\"backgroundcolor\":\"#E5ECF6\",\"gridcolor\":\"white\",\"gridwidth\":2,\"linecolor\":\"white\",\"showbackground\":true,\"ticks\":\"\",\"zerolinecolor\":\"white\"},\"zaxis\":{\"backgroundcolor\":\"#E5ECF6\",\"gridcolor\":\"white\",\"gridwidth\":2,\"linecolor\":\"white\",\"showbackground\":true,\"ticks\":\"\",\"zerolinecolor\":\"white\"}},\"shapedefaults\":{\"line\":{\"color\":\"#2a3f5f\"}},\"ternary\":{\"aaxis\":{\"gridcolor\":\"white\",\"linecolor\":\"white\",\"ticks\":\"\"},\"baxis\":{\"gridcolor\":\"white\",\"linecolor\":\"white\",\"ticks\":\"\"},\"bgcolor\":\"#E5ECF6\",\"caxis\":{\"gridcolor\":\"white\",\"linecolor\":\"white\",\"ticks\":\"\"}},\"title\":{\"x\":0.05},\"xaxis\":{\"automargin\":true,\"gridcolor\":\"white\",\"linecolor\":\"white\",\"ticks\":\"\",\"title\":{\"standoff\":15},\"zerolinecolor\":\"white\",\"zerolinewidth\":2},\"yaxis\":{\"automargin\":true,\"gridcolor\":\"white\",\"linecolor\":\"white\",\"ticks\":\"\",\"title\":{\"standoff\":15},\"zerolinecolor\":\"white\",\"zerolinewidth\":2}}},\"title\":{\"font\":{\"color\":\"#4D5663\"},\"text\":\"Distribution of Word Count\"},\"xaxis\":{\"gridcolor\":\"#E1E5ED\",\"showgrid\":true,\"tickfont\":{\"color\":\"#4D5663\"},\"title\":{\"font\":{\"color\":\"#4D5663\"},\"text\":\"Word Count\"},\"zerolinecolor\":\"#E1E5ED\"},\"yaxis\":{\"gridcolor\":\"#E1E5ED\",\"showgrid\":true,\"tickfont\":{\"color\":\"#4D5663\"},\"title\":{\"font\":{\"color\":\"#4D5663\"},\"text\":\"Count\"},\"zerolinecolor\":\"#E1E5ED\"}},                        {\"showLink\": true, \"linkText\": \"Export to plot.ly\", \"plotlyServerURL\": \"https://plot.ly\", \"responsive\": true}                    ).then(function(){\n",
       "                            \n",
       "var gd = document.getElementById('82d36bbe-5e39-4e5c-bd9a-9a97174072d6');\n",
       "var x = new MutationObserver(function (mutations, observer) {{\n",
       "        var display = window.getComputedStyle(gd).display;\n",
       "        if (!display || display === 'none') {{\n",
       "            console.log([gd, 'removed!']);\n",
       "            Plotly.purge(gd);\n",
       "            observer.disconnect();\n",
       "        }}\n",
       "}});\n",
       "\n",
       "// Listen for the removal of the full notebook cells\n",
       "var notebookContainer = gd.closest('#notebook-container');\n",
       "if (notebookContainer) {{\n",
       "    x.observe(notebookContainer, {childList: true});\n",
       "}}\n",
       "\n",
       "// Listen for the clearing of the current output cell\n",
       "var outputEl = gd.closest('.output');\n",
       "if (outputEl) {{\n",
       "    x.observe(outputEl, {childList: true});\n",
       "}}\n",
       "\n",
       "                        })                };                });            </script>        </div>"
      ]
     },
     "metadata": {},
     "output_type": "display_data"
    }
   ],
   "source": [
    "df['word_count'].iplot(kind = 'hist', xTitle = 'Word Count', yTitle = 'Count', title = \"Distribution of Word Count\")"
   ]
  },
  {
   "cell_type": "code",
   "execution_count": 33,
   "metadata": {},
   "outputs": [
    {
     "data": {
      "application/vnd.plotly.v1+json": {
       "config": {
        "linkText": "Export to plot.ly",
        "plotlyServerURL": "https://plot.ly",
        "showLink": true
       },
       "data": [
        {
         "histfunc": "count",
         "histnorm": "",
         "marker": {
          "color": "rgba(255, 153, 51, 1.0)",
          "line": {
           "color": "#4D5663",
           "width": 1.3
          }
         },
         "name": "avg_word_length",
         "nbinsx": 50,
         "opacity": 0.8,
         "orientation": "v",
         "type": "histogram",
         "x": [
          4.333333333333333,
          3.769230769230769,
          4.368421052631579,
          4.5,
          5.444444444444445,
          5.25,
          6,
          3.4,
          4.384615384615385,
          6.785714285714286,
          4.44,
          4.4,
          5.5,
          4.769230769230769,
          5.684210526315789,
          3.2222222222222223,
          4.444444444444445,
          4.111111111111111,
          5.428571428571429,
          5.090909090909091,
          5.4,
          4.833333333333333,
          4.4,
          4,
          3.6666666666666665,
          4.8,
          4.090909090909091,
          4.294117647058823,
          4.4,
          4.44,
          4.25,
          6,
          4.352941176470588,
          4.384615384615385,
          5,
          4.36,
          4,
          4,
          5,
          3.909090909090909,
          4.95,
          4.913043478260869,
          4.545454545454546,
          3.2,
          5.4,
          5,
          5.25,
          4.777777777777778,
          4.333333333333333,
          4.6923076923076925,
          2.6666666666666665,
          4.3076923076923075,
          4.066666666666666,
          4.904761904761905,
          4.8,
          4.8,
          4,
          9,
          4.619047619047619,
          3.857142857142857,
          4.75,
          5.3,
          3.7142857142857144,
          4.541666666666667,
          5.166666666666667,
          6.0588235294117645,
          5.473684210526316,
          4.695652173913044,
          4.476190476190476,
          3.75,
          4.714285714285714,
          3.95,
          3.619047619047619,
          4.375,
          3.8,
          6.0588235294117645,
          4.684210526315789,
          3.0833333333333335,
          3.8823529411764706,
          3.4285714285714284,
          4.529411764705882,
          7.333333333333333,
          4.3076923076923075,
          4.708333333333333,
          5.2,
          4.933333333333334,
          5.066666666666666,
          5,
          5.416666666666667,
          4.428571428571429,
          5.0476190476190474,
          6.8,
          5.1,
          7.2,
          4.136363636363637,
          5.733333333333333,
          5.6,
          5.357142857142857,
          4.136363636363637,
          8,
          4.16,
          3.5,
          4.7272727272727275,
          4.368421052631579,
          5.6,
          5.157894736842105,
          4.555555555555555,
          6.333333333333333,
          4.083333333333333,
          9,
          3.090909090909091,
          5.15,
          5.166666666666667,
          6.75,
          3.5454545454545454,
          3.761904761904762,
          4.888888888888889,
          4.533333333333333,
          4.666666666666667,
          3.761904761904762,
          4.928571428571429,
          4.130434782608695,
          5.05,
          4,
          3,
          3.857142857142857,
          4.642857142857143,
          5.181818181818182,
          4.423076923076923,
          3.7142857142857144,
          4.9375,
          4.909090909090909,
          9,
          5.083333333333333,
          4.266666666666667,
          4.222222222222222,
          5.315789473684211,
          4.714285714285714,
          4.5,
          4.857142857142857,
          4.142857142857143,
          6,
          4.428571428571429,
          4.7,
          5.0588235294117645,
          4.2727272727272725,
          3.95,
          3.727272727272727,
          4.333333333333333,
          5.125,
          5.818181818181818,
          4.25,
          3.727272727272727,
          5.461538461538462,
          4.666666666666667,
          5.882352941176471,
          5.777777777777778,
          3.8,
          4.4,
          5.923076923076923,
          3.6153846153846154,
          4.7,
          4.714285714285714,
          4.75,
          4.304347826086956,
          4.384615384615385,
          4.388888888888889,
          4.913043478260869,
          5.8,
          5.368421052631579,
          5.785714285714286,
          5.3076923076923075,
          4.705882352941177,
          4.842105263157895,
          5.05,
          5,
          5.571428571428571,
          4,
          4.578947368421052,
          3.9642857142857144,
          5.052631578947368,
          5.5,
          4.7,
          5.142857142857143,
          4.75,
          3.8181818181818183,
          4.384615384615385,
          4.333333333333333,
          5.375,
          6.2727272727272725,
          6,
          4.1923076923076925,
          4.458333333333333,
          3.9285714285714284,
          4.833333333333333,
          5.166666666666667,
          5.666666666666667,
          4.7,
          5.583333333333333,
          5.2631578947368425,
          4.842105263157895,
          4.6,
          4.923076923076923,
          5.043478260869565,
          4.095238095238095,
          4.2727272727272725,
          5,
          4.5,
          3.6470588235294117,
          3.2857142857142856,
          4.466666666666667,
          8.666666666666666,
          4.052631578947368,
          5.583333333333333,
          5.705882352941177,
          3.823529411764706,
          8.25,
          5.333333333333333,
          5.5,
          4.473684210526316,
          3.962962962962963,
          4.0625,
          4.2,
          4.416666666666667,
          5.8,
          6,
          5.111111111111111,
          5,
          5.266666666666667,
          4.5,
          6.875,
          5.473684210526316,
          4.071428571428571,
          5.142857142857143,
          4.16,
          3.857142857142857,
          4.916666666666667,
          4.857142857142857,
          4.8,
          4.846153846153846,
          5.333333333333333,
          4.9,
          4.75,
          5.266666666666667,
          5.066666666666666,
          4.933333333333334,
          5.857142857142857,
          4,
          4.115384615384615,
          3.3333333333333335,
          3.7857142857142856,
          4.842105263157895,
          4.416666666666667,
          5.833333333333333,
          4.521739130434782,
          3.9310344827586206,
          5.4,
          5,
          3.727272727272727,
          6,
          5.416666666666667,
          3.9444444444444446,
          5.083333333333333,
          5.909090909090909,
          4.909090909090909,
          5.5,
          5.083333333333333,
          3.9375,
          6.166666666666667,
          4.4,
          7.714285714285714,
          4.333333333333333,
          4.857142857142857,
          5,
          5.526315789473684,
          5.666666666666667,
          4.928571428571429,
          3.625,
          5.4,
          3.909090909090909,
          5.875,
          4.571428571428571,
          4.875,
          3.8333333333333335,
          5.111111111111111,
          4.52,
          6.25,
          6,
          4.454545454545454,
          5.157894736842105,
          3.857142857142857,
          4.375,
          6.181818181818182,
          3.9444444444444446,
          6,
          4,
          3.9444444444444446,
          4.461538461538462,
          4.357142857142857,
          4.615384615384615,
          4.636363636363637,
          5.333333333333333,
          5.583333333333333,
          4.090909090909091,
          4.111111111111111,
          3.4,
          4.423076923076923,
          5.15,
          5.666666666666667,
          4.25,
          5.555555555555555,
          6.5,
          3.75,
          5.75,
          5.666666666666667,
          4.608695652173913,
          3.6551724137931036,
          5.333333333333333,
          3.272727272727273,
          4.416666666666667,
          4.666666666666667,
          4.2105263157894735,
          4.913043478260869,
          5.230769230769231,
          5,
          4.6,
          3.2857142857142856,
          4.714285714285714,
          5.333333333333333,
          7.125,
          4.045454545454546,
          6,
          4.375,
          4.333333333333333,
          3.4545454545454546,
          4.090909090909091,
          4.625,
          4.2,
          4.833333333333333,
          3.25,
          5.714285714285714,
          5.333333333333333,
          3.225806451612903,
          4,
          4.9,
          4.466666666666667,
          5.333333333333333,
          5.545454545454546,
          5.5,
          4.166666666666667,
          3.4,
          4.2,
          5,
          5.9375,
          3.869565217391304,
          4.833333333333333,
          6,
          4.6,
          4.578947368421052,
          4.181818181818182,
          4.866666666666666,
          4.9,
          3.36,
          5.25,
          6.666666666666667,
          3.857142857142857,
          4.95,
          4.526315789473684,
          5.6,
          6.352941176470588,
          4.809523809523809,
          4.555555555555555,
          4.428571428571429,
          3.9375,
          4.5,
          5.684210526315789,
          4.956521739130435,
          5.578947368421052,
          4.714285714285714,
          4.545454545454546,
          4.409090909090909,
          3.962962962962963,
          4.666666666666667,
          4.913043478260869,
          3.4615384615384617,
          3.466666666666667,
          4.166666666666667,
          5,
          5.083333333333333,
          4.7,
          4.285714285714286,
          4.3076923076923075,
          4.5,
          4.076923076923077,
          4.416666666666667,
          5.1,
          4.4,
          4.428571428571429,
          4.333333333333333,
          3.9166666666666665,
          5.875,
          4.8,
          4.6923076923076925,
          4.111111111111111,
          4.071428571428571,
          4.590909090909091,
          5.5,
          4.5,
          4.714285714285714,
          6.5,
          5.318181818181818,
          4.9,
          4.454545454545454,
          5,
          4.111111111111111,
          4.045454545454546,
          4.454545454545454,
          3.5,
          3.7857142857142856,
          3.230769230769231,
          6.5,
          4.2,
          4.222222222222222,
          3.6153846153846154,
          4.9523809523809526,
          4.0625,
          6,
          5.333333333333333,
          5,
          4.368421052631579,
          5.3076923076923075,
          5.333333333333333,
          4.423076923076923,
          4.666666666666667,
          6.75,
          3.9565217391304346,
          7.285714285714286,
          4.75,
          4.235294117647059,
          4.375,
          5.714285714285714,
          3.6875,
          7,
          3.4210526315789473,
          5.823529411764706,
          5.090909090909091,
          3.96,
          5.45,
          4.8,
          5.333333333333333,
          4.214285714285714,
          3.9583333333333335,
          4.8,
          5.166666666666667,
          3.857142857142857,
          5.222222222222222,
          5,
          3.933333333333333,
          4.44,
          4.461538461538462,
          4.173913043478261,
          5.666666666666667,
          4.4,
          6.615384615384615,
          3,
          4.2,
          4.5,
          4.818181818181818,
          3.5833333333333335,
          6.333333333333333,
          5.357142857142857,
          4.2727272727272725,
          4.095238095238095,
          4.444444444444445,
          4.571428571428571,
          5.416666666666667,
          4.142857142857143,
          5.8,
          3.4,
          6.428571428571429,
          3.8,
          4.681818181818182,
          3.68,
          3.857142857142857,
          9,
          5.461538461538462,
          4.0476190476190474,
          3.8181818181818183,
          5.85,
          4.642857142857143,
          4.75,
          6.125,
          5.533333333333333,
          3.3333333333333335,
          4.36,
          3.3333333333333335,
          4.090909090909091,
          4.636363636363637,
          4.545454545454546,
          4.222222222222222,
          4.571428571428571,
          5.285714285714286,
          5.25,
          4.214285714285714,
          6.090909090909091,
          5.7272727272727275,
          5.285714285714286,
          4.08,
          4.8,
          3.6,
          3.8095238095238093,
          4.928571428571429,
          4.235294117647059,
          6.285714285714286,
          4.066666666666666,
          4.769230769230769,
          4.809523809523809,
          4.416666666666667,
          3.7333333333333334,
          4.916666666666667,
          5.428571428571429,
          4.2,
          5.125,
          3.6363636363636362,
          4.3125,
          4.722222222222222,
          5.5,
          5.076923076923077,
          5.583333333333333,
          4.785714285714286,
          4.48,
          4.5,
          4.588235294117647,
          4.230769230769231,
          5.181818181818182,
          4.916666666666667,
          4.294117647058823,
          4.933333333333334,
          5.333333333333333,
          4.933333333333334,
          4.521739130434782,
          3.625,
          4.235294117647059,
          5.333333333333333,
          4.3076923076923075,
          3.9615384615384617,
          5.769230769230769,
          4.611111111111111,
          4.5,
          4.523809523809524,
          4.888888888888889,
          6.5,
          5.071428571428571,
          4.409090909090909,
          8,
          4.555555555555555,
          5.583333333333333,
          4.636363636363637,
          5.130434782608695,
          3.8095238095238093,
          3.8,
          3,
          4.857142857142857,
          3.7,
          4.416666666666667,
          3.909090909090909,
          3.142857142857143,
          4.571428571428571,
          4,
          4.153846153846154,
          6.75,
          6.055555555555555,
          6,
          4.863636363636363,
          4.115384615384615,
          5.888888888888889,
          5.714285714285714,
          4.444444444444445,
          6,
          5.3125,
          4.888888888888889,
          4.076923076923077,
          5.4,
          5.833333333333333,
          3.9285714285714284,
          5,
          5.722222222222222,
          5.166666666666667,
          3.48,
          5.75,
          4.666666666666667,
          5,
          5.416666666666667,
          3.8181818181818183,
          6.333333333333333,
          5.769230769230769,
          3.642857142857143,
          5,
          5.611111111111111,
          5.25,
          4.153846153846154,
          3.3333333333333335,
          4.636363636363637,
          3.909090909090909,
          7.222222222222222,
          4.222222222222222,
          4.333333333333333,
          5.9,
          4.954545454545454,
          4.083333333333333,
          3.923076923076923,
          4.230769230769231,
          4.04,
          4.842105263157895,
          4.526315789473684,
          5.25,
          5.875,
          4.857142857142857,
          4.214285714285714,
          3.4615384615384617,
          5.578947368421052,
          4.904761904761905,
          4.666666666666667,
          4.4,
          4.636363636363637,
          4.538461538461538,
          5.166666666666667,
          4.461538461538462,
          5.444444444444445,
          4.5,
          9,
          5.166666666666667,
          4.666666666666667,
          4.0625,
          4.08,
          5.75,
          5.380952380952381,
          4.761904761904762,
          4.083333333333333,
          5.857142857142857,
          4.291666666666667,
          3.375,
          4.4375,
          6.2,
          3.3846153846153846,
          4.642857142857143,
          4.842105263157895,
          4.571428571428571,
          4.434782608695652,
          5.333333333333333,
          5.7,
          4.533333333333333,
          4.4,
          3.9130434782608696,
          4,
          5.428571428571429,
          5.933333333333334,
          4.857142857142857,
          4.038461538461538,
          3.8461538461538463,
          4.133333333333334,
          4.777777777777778,
          4.875,
          5.181818181818182,
          4.826086956521739,
          3.8,
          6.428571428571429,
          4.235294117647059,
          4.777777777777778,
          4.571428571428571,
          4.083333333333333,
          4.045454545454546,
          4.769230769230769,
          4.833333333333333,
          3.8,
          4.9523809523809526,
          4.444444444444445,
          3.6666666666666665,
          4.055555555555555,
          4.181818181818182,
          3.8823529411764706,
          3.75,
          9,
          3.5,
          3.740740740740741,
          4.142857142857143,
          3.7777777777777777,
          5.15,
          3.5925925925925926,
          5.8,
          5.857142857142857,
          3.933333333333333,
          5.7272727272727275,
          5,
          6.071428571428571,
          4.95,
          3.8181818181818183,
          11,
          4.357142857142857,
          4.866666666666666,
          5.076923076923077,
          5.714285714285714,
          5,
          4.705882352941177,
          4.115384615384615,
          4.04,
          4.6,
          4.111111111111111,
          6.466666666666667,
          5.333333333333333,
          4.3,
          4.95,
          4.923076923076923,
          4.956521739130435,
          4.619047619047619,
          8.5,
          4.833333333333333,
          5.444444444444445,
          4.5,
          4.296296296296297,
          5.7368421052631575,
          3.3333333333333335,
          4.238095238095238,
          5.2,
          5.125,
          4.076923076923077,
          5.25,
          4.6,
          4.2727272727272725,
          6.411764705882353,
          4.909090909090909,
          5.4,
          4.423076923076923,
          4.916666666666667,
          5.833333333333333,
          3.6363636363636362,
          6.066666666666666,
          6,
          5.25,
          3.92,
          5,
          4.666666666666667,
          4.2272727272727275,
          5.428571428571429,
          5,
          4.75,
          3.857142857142857,
          6.555555555555555,
          5.555555555555555,
          5,
          3.9,
          5.5,
          6.555555555555555,
          4.6,
          5.083333333333333,
          4.863636363636363,
          5.136363636363637,
          6.4,
          3.3703703703703702,
          5.214285714285714,
          4,
          3.88,
          4
         ]
        }
       ],
       "layout": {
        "barmode": "overlay",
        "legend": {
         "bgcolor": "#F5F6F9",
         "font": {
          "color": "#4D5663"
         }
        },
        "paper_bgcolor": "#F5F6F9",
        "plot_bgcolor": "#F5F6F9",
        "template": {
         "data": {
          "bar": [
           {
            "error_x": {
             "color": "#2a3f5f"
            },
            "error_y": {
             "color": "#2a3f5f"
            },
            "marker": {
             "line": {
              "color": "#E5ECF6",
              "width": 0.5
             },
             "pattern": {
              "fillmode": "overlay",
              "size": 10,
              "solidity": 0.2
             }
            },
            "type": "bar"
           }
          ],
          "barpolar": [
           {
            "marker": {
             "line": {
              "color": "#E5ECF6",
              "width": 0.5
             },
             "pattern": {
              "fillmode": "overlay",
              "size": 10,
              "solidity": 0.2
             }
            },
            "type": "barpolar"
           }
          ],
          "carpet": [
           {
            "aaxis": {
             "endlinecolor": "#2a3f5f",
             "gridcolor": "white",
             "linecolor": "white",
             "minorgridcolor": "white",
             "startlinecolor": "#2a3f5f"
            },
            "baxis": {
             "endlinecolor": "#2a3f5f",
             "gridcolor": "white",
             "linecolor": "white",
             "minorgridcolor": "white",
             "startlinecolor": "#2a3f5f"
            },
            "type": "carpet"
           }
          ],
          "choropleth": [
           {
            "colorbar": {
             "outlinewidth": 0,
             "ticks": ""
            },
            "type": "choropleth"
           }
          ],
          "contour": [
           {
            "colorbar": {
             "outlinewidth": 0,
             "ticks": ""
            },
            "colorscale": [
             [
              0,
              "#0d0887"
             ],
             [
              0.1111111111111111,
              "#46039f"
             ],
             [
              0.2222222222222222,
              "#7201a8"
             ],
             [
              0.3333333333333333,
              "#9c179e"
             ],
             [
              0.4444444444444444,
              "#bd3786"
             ],
             [
              0.5555555555555556,
              "#d8576b"
             ],
             [
              0.6666666666666666,
              "#ed7953"
             ],
             [
              0.7777777777777778,
              "#fb9f3a"
             ],
             [
              0.8888888888888888,
              "#fdca26"
             ],
             [
              1,
              "#f0f921"
             ]
            ],
            "type": "contour"
           }
          ],
          "contourcarpet": [
           {
            "colorbar": {
             "outlinewidth": 0,
             "ticks": ""
            },
            "type": "contourcarpet"
           }
          ],
          "heatmap": [
           {
            "colorbar": {
             "outlinewidth": 0,
             "ticks": ""
            },
            "colorscale": [
             [
              0,
              "#0d0887"
             ],
             [
              0.1111111111111111,
              "#46039f"
             ],
             [
              0.2222222222222222,
              "#7201a8"
             ],
             [
              0.3333333333333333,
              "#9c179e"
             ],
             [
              0.4444444444444444,
              "#bd3786"
             ],
             [
              0.5555555555555556,
              "#d8576b"
             ],
             [
              0.6666666666666666,
              "#ed7953"
             ],
             [
              0.7777777777777778,
              "#fb9f3a"
             ],
             [
              0.8888888888888888,
              "#fdca26"
             ],
             [
              1,
              "#f0f921"
             ]
            ],
            "type": "heatmap"
           }
          ],
          "heatmapgl": [
           {
            "colorbar": {
             "outlinewidth": 0,
             "ticks": ""
            },
            "colorscale": [
             [
              0,
              "#0d0887"
             ],
             [
              0.1111111111111111,
              "#46039f"
             ],
             [
              0.2222222222222222,
              "#7201a8"
             ],
             [
              0.3333333333333333,
              "#9c179e"
             ],
             [
              0.4444444444444444,
              "#bd3786"
             ],
             [
              0.5555555555555556,
              "#d8576b"
             ],
             [
              0.6666666666666666,
              "#ed7953"
             ],
             [
              0.7777777777777778,
              "#fb9f3a"
             ],
             [
              0.8888888888888888,
              "#fdca26"
             ],
             [
              1,
              "#f0f921"
             ]
            ],
            "type": "heatmapgl"
           }
          ],
          "histogram": [
           {
            "marker": {
             "pattern": {
              "fillmode": "overlay",
              "size": 10,
              "solidity": 0.2
             }
            },
            "type": "histogram"
           }
          ],
          "histogram2d": [
           {
            "colorbar": {
             "outlinewidth": 0,
             "ticks": ""
            },
            "colorscale": [
             [
              0,
              "#0d0887"
             ],
             [
              0.1111111111111111,
              "#46039f"
             ],
             [
              0.2222222222222222,
              "#7201a8"
             ],
             [
              0.3333333333333333,
              "#9c179e"
             ],
             [
              0.4444444444444444,
              "#bd3786"
             ],
             [
              0.5555555555555556,
              "#d8576b"
             ],
             [
              0.6666666666666666,
              "#ed7953"
             ],
             [
              0.7777777777777778,
              "#fb9f3a"
             ],
             [
              0.8888888888888888,
              "#fdca26"
             ],
             [
              1,
              "#f0f921"
             ]
            ],
            "type": "histogram2d"
           }
          ],
          "histogram2dcontour": [
           {
            "colorbar": {
             "outlinewidth": 0,
             "ticks": ""
            },
            "colorscale": [
             [
              0,
              "#0d0887"
             ],
             [
              0.1111111111111111,
              "#46039f"
             ],
             [
              0.2222222222222222,
              "#7201a8"
             ],
             [
              0.3333333333333333,
              "#9c179e"
             ],
             [
              0.4444444444444444,
              "#bd3786"
             ],
             [
              0.5555555555555556,
              "#d8576b"
             ],
             [
              0.6666666666666666,
              "#ed7953"
             ],
             [
              0.7777777777777778,
              "#fb9f3a"
             ],
             [
              0.8888888888888888,
              "#fdca26"
             ],
             [
              1,
              "#f0f921"
             ]
            ],
            "type": "histogram2dcontour"
           }
          ],
          "mesh3d": [
           {
            "colorbar": {
             "outlinewidth": 0,
             "ticks": ""
            },
            "type": "mesh3d"
           }
          ],
          "parcoords": [
           {
            "line": {
             "colorbar": {
              "outlinewidth": 0,
              "ticks": ""
             }
            },
            "type": "parcoords"
           }
          ],
          "pie": [
           {
            "automargin": true,
            "type": "pie"
           }
          ],
          "scatter": [
           {
            "fillpattern": {
             "fillmode": "overlay",
             "size": 10,
             "solidity": 0.2
            },
            "type": "scatter"
           }
          ],
          "scatter3d": [
           {
            "line": {
             "colorbar": {
              "outlinewidth": 0,
              "ticks": ""
             }
            },
            "marker": {
             "colorbar": {
              "outlinewidth": 0,
              "ticks": ""
             }
            },
            "type": "scatter3d"
           }
          ],
          "scattercarpet": [
           {
            "marker": {
             "colorbar": {
              "outlinewidth": 0,
              "ticks": ""
             }
            },
            "type": "scattercarpet"
           }
          ],
          "scattergeo": [
           {
            "marker": {
             "colorbar": {
              "outlinewidth": 0,
              "ticks": ""
             }
            },
            "type": "scattergeo"
           }
          ],
          "scattergl": [
           {
            "marker": {
             "colorbar": {
              "outlinewidth": 0,
              "ticks": ""
             }
            },
            "type": "scattergl"
           }
          ],
          "scattermapbox": [
           {
            "marker": {
             "colorbar": {
              "outlinewidth": 0,
              "ticks": ""
             }
            },
            "type": "scattermapbox"
           }
          ],
          "scatterpolar": [
           {
            "marker": {
             "colorbar": {
              "outlinewidth": 0,
              "ticks": ""
             }
            },
            "type": "scatterpolar"
           }
          ],
          "scatterpolargl": [
           {
            "marker": {
             "colorbar": {
              "outlinewidth": 0,
              "ticks": ""
             }
            },
            "type": "scatterpolargl"
           }
          ],
          "scatterternary": [
           {
            "marker": {
             "colorbar": {
              "outlinewidth": 0,
              "ticks": ""
             }
            },
            "type": "scatterternary"
           }
          ],
          "surface": [
           {
            "colorbar": {
             "outlinewidth": 0,
             "ticks": ""
            },
            "colorscale": [
             [
              0,
              "#0d0887"
             ],
             [
              0.1111111111111111,
              "#46039f"
             ],
             [
              0.2222222222222222,
              "#7201a8"
             ],
             [
              0.3333333333333333,
              "#9c179e"
             ],
             [
              0.4444444444444444,
              "#bd3786"
             ],
             [
              0.5555555555555556,
              "#d8576b"
             ],
             [
              0.6666666666666666,
              "#ed7953"
             ],
             [
              0.7777777777777778,
              "#fb9f3a"
             ],
             [
              0.8888888888888888,
              "#fdca26"
             ],
             [
              1,
              "#f0f921"
             ]
            ],
            "type": "surface"
           }
          ],
          "table": [
           {
            "cells": {
             "fill": {
              "color": "#EBF0F8"
             },
             "line": {
              "color": "white"
             }
            },
            "header": {
             "fill": {
              "color": "#C8D4E3"
             },
             "line": {
              "color": "white"
             }
            },
            "type": "table"
           }
          ]
         },
         "layout": {
          "annotationdefaults": {
           "arrowcolor": "#2a3f5f",
           "arrowhead": 0,
           "arrowwidth": 1
          },
          "autotypenumbers": "strict",
          "coloraxis": {
           "colorbar": {
            "outlinewidth": 0,
            "ticks": ""
           }
          },
          "colorscale": {
           "diverging": [
            [
             0,
             "#8e0152"
            ],
            [
             0.1,
             "#c51b7d"
            ],
            [
             0.2,
             "#de77ae"
            ],
            [
             0.3,
             "#f1b6da"
            ],
            [
             0.4,
             "#fde0ef"
            ],
            [
             0.5,
             "#f7f7f7"
            ],
            [
             0.6,
             "#e6f5d0"
            ],
            [
             0.7,
             "#b8e186"
            ],
            [
             0.8,
             "#7fbc41"
            ],
            [
             0.9,
             "#4d9221"
            ],
            [
             1,
             "#276419"
            ]
           ],
           "sequential": [
            [
             0,
             "#0d0887"
            ],
            [
             0.1111111111111111,
             "#46039f"
            ],
            [
             0.2222222222222222,
             "#7201a8"
            ],
            [
             0.3333333333333333,
             "#9c179e"
            ],
            [
             0.4444444444444444,
             "#bd3786"
            ],
            [
             0.5555555555555556,
             "#d8576b"
            ],
            [
             0.6666666666666666,
             "#ed7953"
            ],
            [
             0.7777777777777778,
             "#fb9f3a"
            ],
            [
             0.8888888888888888,
             "#fdca26"
            ],
            [
             1,
             "#f0f921"
            ]
           ],
           "sequentialminus": [
            [
             0,
             "#0d0887"
            ],
            [
             0.1111111111111111,
             "#46039f"
            ],
            [
             0.2222222222222222,
             "#7201a8"
            ],
            [
             0.3333333333333333,
             "#9c179e"
            ],
            [
             0.4444444444444444,
             "#bd3786"
            ],
            [
             0.5555555555555556,
             "#d8576b"
            ],
            [
             0.6666666666666666,
             "#ed7953"
            ],
            [
             0.7777777777777778,
             "#fb9f3a"
            ],
            [
             0.8888888888888888,
             "#fdca26"
            ],
            [
             1,
             "#f0f921"
            ]
           ]
          },
          "colorway": [
           "#636efa",
           "#EF553B",
           "#00cc96",
           "#ab63fa",
           "#FFA15A",
           "#19d3f3",
           "#FF6692",
           "#B6E880",
           "#FF97FF",
           "#FECB52"
          ],
          "font": {
           "color": "#2a3f5f"
          },
          "geo": {
           "bgcolor": "white",
           "lakecolor": "white",
           "landcolor": "#E5ECF6",
           "showlakes": true,
           "showland": true,
           "subunitcolor": "white"
          },
          "hoverlabel": {
           "align": "left"
          },
          "hovermode": "closest",
          "mapbox": {
           "style": "light"
          },
          "paper_bgcolor": "white",
          "plot_bgcolor": "#E5ECF6",
          "polar": {
           "angularaxis": {
            "gridcolor": "white",
            "linecolor": "white",
            "ticks": ""
           },
           "bgcolor": "#E5ECF6",
           "radialaxis": {
            "gridcolor": "white",
            "linecolor": "white",
            "ticks": ""
           }
          },
          "scene": {
           "xaxis": {
            "backgroundcolor": "#E5ECF6",
            "gridcolor": "white",
            "gridwidth": 2,
            "linecolor": "white",
            "showbackground": true,
            "ticks": "",
            "zerolinecolor": "white"
           },
           "yaxis": {
            "backgroundcolor": "#E5ECF6",
            "gridcolor": "white",
            "gridwidth": 2,
            "linecolor": "white",
            "showbackground": true,
            "ticks": "",
            "zerolinecolor": "white"
           },
           "zaxis": {
            "backgroundcolor": "#E5ECF6",
            "gridcolor": "white",
            "gridwidth": 2,
            "linecolor": "white",
            "showbackground": true,
            "ticks": "",
            "zerolinecolor": "white"
           }
          },
          "shapedefaults": {
           "line": {
            "color": "#2a3f5f"
           }
          },
          "ternary": {
           "aaxis": {
            "gridcolor": "white",
            "linecolor": "white",
            "ticks": ""
           },
           "baxis": {
            "gridcolor": "white",
            "linecolor": "white",
            "ticks": ""
           },
           "bgcolor": "#E5ECF6",
           "caxis": {
            "gridcolor": "white",
            "linecolor": "white",
            "ticks": ""
           }
          },
          "title": {
           "x": 0.05
          },
          "xaxis": {
           "automargin": true,
           "gridcolor": "white",
           "linecolor": "white",
           "ticks": "",
           "title": {
            "standoff": 15
           },
           "zerolinecolor": "white",
           "zerolinewidth": 2
          },
          "yaxis": {
           "automargin": true,
           "gridcolor": "white",
           "linecolor": "white",
           "ticks": "",
           "title": {
            "standoff": 15
           },
           "zerolinecolor": "white",
           "zerolinewidth": 2
          }
         }
        },
        "title": {
         "font": {
          "color": "#4D5663"
         },
         "text": "Distribution of Average Word Length"
        },
        "xaxis": {
         "gridcolor": "#E1E5ED",
         "showgrid": true,
         "tickfont": {
          "color": "#4D5663"
         },
         "title": {
          "font": {
           "color": "#4D5663"
          },
          "text": "Average Word Length"
         },
         "zerolinecolor": "#E1E5ED"
        },
        "yaxis": {
         "gridcolor": "#E1E5ED",
         "showgrid": true,
         "tickfont": {
          "color": "#4D5663"
         },
         "title": {
          "font": {
           "color": "#4D5663"
          },
          "text": "Count"
         },
         "zerolinecolor": "#E1E5ED"
        }
       }
      },
      "text/html": [
       "<div>                            <div id=\"08a94758-35da-48c0-9b13-c199be59b914\" class=\"plotly-graph-div\" style=\"height:525px; width:100%;\"></div>            <script type=\"text/javascript\">                require([\"plotly\"], function(Plotly) {                    window.PLOTLYENV=window.PLOTLYENV || {};\n",
       "                    window.PLOTLYENV.BASE_URL='https://plot.ly';                                    if (document.getElementById(\"08a94758-35da-48c0-9b13-c199be59b914\")) {                    Plotly.newPlot(                        \"08a94758-35da-48c0-9b13-c199be59b914\",                        [{\"histfunc\":\"count\",\"histnorm\":\"\",\"marker\":{\"color\":\"rgba(255, 153, 51, 1.0)\",\"line\":{\"color\":\"#4D5663\",\"width\":1.3}},\"name\":\"avg_word_length\",\"nbinsx\":50,\"opacity\":0.8,\"orientation\":\"v\",\"x\":[4.333333333333333,3.769230769230769,4.368421052631579,4.5,5.444444444444445,5.25,6.0,3.4,4.384615384615385,6.785714285714286,4.44,4.4,5.5,4.769230769230769,5.684210526315789,3.2222222222222223,4.444444444444445,4.111111111111111,5.428571428571429,5.090909090909091,5.4,4.833333333333333,4.4,4.0,3.6666666666666665,4.8,4.090909090909091,4.294117647058823,4.4,4.44,4.25,6.0,4.352941176470588,4.384615384615385,5.0,4.36,4.0,4.0,5.0,3.909090909090909,4.95,4.913043478260869,4.545454545454546,3.2,5.4,5.0,5.25,4.777777777777778,4.333333333333333,4.6923076923076925,2.6666666666666665,4.3076923076923075,4.066666666666666,4.904761904761905,4.8,4.8,4.0,9.0,4.619047619047619,3.857142857142857,4.75,5.3,3.7142857142857144,4.541666666666667,5.166666666666667,6.0588235294117645,5.473684210526316,4.695652173913044,4.476190476190476,3.75,4.714285714285714,3.95,3.619047619047619,4.375,3.8,6.0588235294117645,4.684210526315789,3.0833333333333335,3.8823529411764706,3.4285714285714284,4.529411764705882,7.333333333333333,4.3076923076923075,4.708333333333333,5.2,4.933333333333334,5.066666666666666,5.0,5.416666666666667,4.428571428571429,5.0476190476190474,6.8,5.1,7.2,4.136363636363637,5.733333333333333,5.6,5.357142857142857,4.136363636363637,8.0,4.16,3.5,4.7272727272727275,4.368421052631579,5.6,5.157894736842105,4.555555555555555,6.333333333333333,4.083333333333333,9.0,3.090909090909091,5.15,5.166666666666667,6.75,3.5454545454545454,3.761904761904762,4.888888888888889,4.533333333333333,4.666666666666667,3.761904761904762,4.928571428571429,4.130434782608695,5.05,4.0,3.0,3.857142857142857,4.642857142857143,5.181818181818182,4.423076923076923,3.7142857142857144,4.9375,4.909090909090909,9.0,5.083333333333333,4.266666666666667,4.222222222222222,5.315789473684211,4.714285714285714,4.5,4.857142857142857,4.142857142857143,6.0,4.428571428571429,4.7,5.0588235294117645,4.2727272727272725,3.95,3.727272727272727,4.333333333333333,5.125,5.818181818181818,4.25,3.727272727272727,5.461538461538462,4.666666666666667,5.882352941176471,5.777777777777778,3.8,4.4,5.923076923076923,3.6153846153846154,4.7,4.714285714285714,4.75,4.304347826086956,4.384615384615385,4.388888888888889,4.913043478260869,5.8,5.368421052631579,5.785714285714286,5.3076923076923075,4.705882352941177,4.842105263157895,5.05,5.0,5.571428571428571,4.0,4.578947368421052,3.9642857142857144,5.052631578947368,5.5,4.7,5.142857142857143,4.75,3.8181818181818183,4.384615384615385,4.333333333333333,5.375,6.2727272727272725,6.0,4.1923076923076925,4.458333333333333,3.9285714285714284,4.833333333333333,5.166666666666667,5.666666666666667,4.7,5.583333333333333,5.2631578947368425,4.842105263157895,4.6,4.923076923076923,5.043478260869565,4.095238095238095,4.2727272727272725,5.0,4.5,3.6470588235294117,3.2857142857142856,4.466666666666667,8.666666666666666,4.052631578947368,5.583333333333333,5.705882352941177,3.823529411764706,8.25,5.333333333333333,5.5,4.473684210526316,3.962962962962963,4.0625,4.2,4.416666666666667,5.8,6.0,5.111111111111111,5.0,5.266666666666667,4.5,6.875,5.473684210526316,4.071428571428571,5.142857142857143,4.16,3.857142857142857,4.916666666666667,4.857142857142857,4.8,4.846153846153846,5.333333333333333,4.9,4.75,5.266666666666667,5.066666666666666,4.933333333333334,5.857142857142857,4.0,4.115384615384615,3.3333333333333335,3.7857142857142856,4.842105263157895,4.416666666666667,5.833333333333333,4.521739130434782,3.9310344827586206,5.4,5.0,3.727272727272727,6.0,5.416666666666667,3.9444444444444446,5.083333333333333,5.909090909090909,4.909090909090909,5.5,5.083333333333333,3.9375,6.166666666666667,4.4,7.714285714285714,4.333333333333333,4.857142857142857,5.0,5.526315789473684,5.666666666666667,4.928571428571429,3.625,5.4,3.909090909090909,5.875,4.571428571428571,4.875,3.8333333333333335,5.111111111111111,4.52,6.25,6.0,4.454545454545454,5.157894736842105,3.857142857142857,4.375,6.181818181818182,3.9444444444444446,6.0,4.0,3.9444444444444446,4.461538461538462,4.357142857142857,4.615384615384615,4.636363636363637,5.333333333333333,5.583333333333333,4.090909090909091,4.111111111111111,3.4,4.423076923076923,5.15,5.666666666666667,4.25,5.555555555555555,6.5,3.75,5.75,5.666666666666667,4.608695652173913,3.6551724137931036,5.333333333333333,3.272727272727273,4.416666666666667,4.666666666666667,4.2105263157894735,4.913043478260869,5.230769230769231,5.0,4.6,3.2857142857142856,4.714285714285714,5.333333333333333,7.125,4.045454545454546,6.0,4.375,4.333333333333333,3.4545454545454546,4.090909090909091,4.625,4.2,4.833333333333333,3.25,5.714285714285714,5.333333333333333,3.225806451612903,4.0,4.9,4.466666666666667,5.333333333333333,5.545454545454546,5.5,4.166666666666667,3.4,4.2,5.0,5.9375,3.869565217391304,4.833333333333333,6.0,4.6,4.578947368421052,4.181818181818182,4.866666666666666,4.9,3.36,5.25,6.666666666666667,3.857142857142857,4.95,4.526315789473684,5.6,6.352941176470588,4.809523809523809,4.555555555555555,4.428571428571429,3.9375,4.5,5.684210526315789,4.956521739130435,5.578947368421052,4.714285714285714,4.545454545454546,4.409090909090909,3.962962962962963,4.666666666666667,4.913043478260869,3.4615384615384617,3.466666666666667,4.166666666666667,5.0,5.083333333333333,4.7,4.285714285714286,4.3076923076923075,4.5,4.076923076923077,4.416666666666667,5.1,4.4,4.428571428571429,4.333333333333333,3.9166666666666665,5.875,4.8,4.6923076923076925,4.111111111111111,4.071428571428571,4.590909090909091,5.5,4.5,4.714285714285714,6.5,5.318181818181818,4.9,4.454545454545454,5.0,4.111111111111111,4.045454545454546,4.454545454545454,3.5,3.7857142857142856,3.230769230769231,6.5,4.2,4.222222222222222,3.6153846153846154,4.9523809523809526,4.0625,6.0,5.333333333333333,5.0,4.368421052631579,5.3076923076923075,5.333333333333333,4.423076923076923,4.666666666666667,6.75,3.9565217391304346,7.285714285714286,4.75,4.235294117647059,4.375,5.714285714285714,3.6875,7.0,3.4210526315789473,5.823529411764706,5.090909090909091,3.96,5.45,4.8,5.333333333333333,4.214285714285714,3.9583333333333335,4.8,5.166666666666667,3.857142857142857,5.222222222222222,5.0,3.933333333333333,4.44,4.461538461538462,4.173913043478261,5.666666666666667,4.4,6.615384615384615,3.0,4.2,4.5,4.818181818181818,3.5833333333333335,6.333333333333333,5.357142857142857,4.2727272727272725,4.095238095238095,4.444444444444445,4.571428571428571,5.416666666666667,4.142857142857143,5.8,3.4,6.428571428571429,3.8,4.681818181818182,3.68,3.857142857142857,9.0,5.461538461538462,4.0476190476190474,3.8181818181818183,5.85,4.642857142857143,4.75,6.125,5.533333333333333,3.3333333333333335,4.36,3.3333333333333335,4.090909090909091,4.636363636363637,4.545454545454546,4.222222222222222,4.571428571428571,5.285714285714286,5.25,4.214285714285714,6.090909090909091,5.7272727272727275,5.285714285714286,4.08,4.8,3.6,3.8095238095238093,4.928571428571429,4.235294117647059,6.285714285714286,4.066666666666666,4.769230769230769,4.809523809523809,4.416666666666667,3.7333333333333334,4.916666666666667,5.428571428571429,4.2,5.125,3.6363636363636362,4.3125,4.722222222222222,5.5,5.076923076923077,5.583333333333333,4.785714285714286,4.48,4.5,4.588235294117647,4.230769230769231,5.181818181818182,4.916666666666667,4.294117647058823,4.933333333333334,5.333333333333333,4.933333333333334,4.521739130434782,3.625,4.235294117647059,5.333333333333333,4.3076923076923075,3.9615384615384617,5.769230769230769,4.611111111111111,4.5,4.523809523809524,4.888888888888889,6.5,5.071428571428571,4.409090909090909,8.0,4.555555555555555,5.583333333333333,4.636363636363637,5.130434782608695,3.8095238095238093,3.8,3.0,4.857142857142857,3.7,4.416666666666667,3.909090909090909,3.142857142857143,4.571428571428571,4.0,4.153846153846154,6.75,6.055555555555555,6.0,4.863636363636363,4.115384615384615,5.888888888888889,5.714285714285714,4.444444444444445,6.0,5.3125,4.888888888888889,4.076923076923077,5.4,5.833333333333333,3.9285714285714284,5.0,5.722222222222222,5.166666666666667,3.48,5.75,4.666666666666667,5.0,5.416666666666667,3.8181818181818183,6.333333333333333,5.769230769230769,3.642857142857143,5.0,5.611111111111111,5.25,4.153846153846154,3.3333333333333335,4.636363636363637,3.909090909090909,7.222222222222222,4.222222222222222,4.333333333333333,5.9,4.954545454545454,4.083333333333333,3.923076923076923,4.230769230769231,4.04,4.842105263157895,4.526315789473684,5.25,5.875,4.857142857142857,4.214285714285714,3.4615384615384617,5.578947368421052,4.904761904761905,4.666666666666667,4.4,4.636363636363637,4.538461538461538,5.166666666666667,4.461538461538462,5.444444444444445,4.5,9.0,5.166666666666667,4.666666666666667,4.0625,4.08,5.75,5.380952380952381,4.761904761904762,4.083333333333333,5.857142857142857,4.291666666666667,3.375,4.4375,6.2,3.3846153846153846,4.642857142857143,4.842105263157895,4.571428571428571,4.434782608695652,5.333333333333333,5.7,4.533333333333333,4.4,3.9130434782608696,4.0,5.428571428571429,5.933333333333334,4.857142857142857,4.038461538461538,3.8461538461538463,4.133333333333334,4.777777777777778,4.875,5.181818181818182,4.826086956521739,3.8,6.428571428571429,4.235294117647059,4.777777777777778,4.571428571428571,4.083333333333333,4.045454545454546,4.769230769230769,4.833333333333333,3.8,4.9523809523809526,4.444444444444445,3.6666666666666665,4.055555555555555,4.181818181818182,3.8823529411764706,3.75,9.0,3.5,3.740740740740741,4.142857142857143,3.7777777777777777,5.15,3.5925925925925926,5.8,5.857142857142857,3.933333333333333,5.7272727272727275,5.0,6.071428571428571,4.95,3.8181818181818183,11.0,4.357142857142857,4.866666666666666,5.076923076923077,5.714285714285714,5.0,4.705882352941177,4.115384615384615,4.04,4.6,4.111111111111111,6.466666666666667,5.333333333333333,4.3,4.95,4.923076923076923,4.956521739130435,4.619047619047619,8.5,4.833333333333333,5.444444444444445,4.5,4.296296296296297,5.7368421052631575,3.3333333333333335,4.238095238095238,5.2,5.125,4.076923076923077,5.25,4.6,4.2727272727272725,6.411764705882353,4.909090909090909,5.4,4.423076923076923,4.916666666666667,5.833333333333333,3.6363636363636362,6.066666666666666,6.0,5.25,3.92,5.0,4.666666666666667,4.2272727272727275,5.428571428571429,5.0,4.75,3.857142857142857,6.555555555555555,5.555555555555555,5.0,3.9,5.5,6.555555555555555,4.6,5.083333333333333,4.863636363636363,5.136363636363637,6.4,3.3703703703703702,5.214285714285714,4.0,3.88,4.0],\"type\":\"histogram\"}],                        {\"barmode\":\"overlay\",\"legend\":{\"bgcolor\":\"#F5F6F9\",\"font\":{\"color\":\"#4D5663\"}},\"paper_bgcolor\":\"#F5F6F9\",\"plot_bgcolor\":\"#F5F6F9\",\"template\":{\"data\":{\"barpolar\":[{\"marker\":{\"line\":{\"color\":\"#E5ECF6\",\"width\":0.5},\"pattern\":{\"fillmode\":\"overlay\",\"size\":10,\"solidity\":0.2}},\"type\":\"barpolar\"}],\"bar\":[{\"error_x\":{\"color\":\"#2a3f5f\"},\"error_y\":{\"color\":\"#2a3f5f\"},\"marker\":{\"line\":{\"color\":\"#E5ECF6\",\"width\":0.5},\"pattern\":{\"fillmode\":\"overlay\",\"size\":10,\"solidity\":0.2}},\"type\":\"bar\"}],\"carpet\":[{\"aaxis\":{\"endlinecolor\":\"#2a3f5f\",\"gridcolor\":\"white\",\"linecolor\":\"white\",\"minorgridcolor\":\"white\",\"startlinecolor\":\"#2a3f5f\"},\"baxis\":{\"endlinecolor\":\"#2a3f5f\",\"gridcolor\":\"white\",\"linecolor\":\"white\",\"minorgridcolor\":\"white\",\"startlinecolor\":\"#2a3f5f\"},\"type\":\"carpet\"}],\"choropleth\":[{\"colorbar\":{\"outlinewidth\":0,\"ticks\":\"\"},\"type\":\"choropleth\"}],\"contourcarpet\":[{\"colorbar\":{\"outlinewidth\":0,\"ticks\":\"\"},\"type\":\"contourcarpet\"}],\"contour\":[{\"colorbar\":{\"outlinewidth\":0,\"ticks\":\"\"},\"colorscale\":[[0.0,\"#0d0887\"],[0.1111111111111111,\"#46039f\"],[0.2222222222222222,\"#7201a8\"],[0.3333333333333333,\"#9c179e\"],[0.4444444444444444,\"#bd3786\"],[0.5555555555555556,\"#d8576b\"],[0.6666666666666666,\"#ed7953\"],[0.7777777777777778,\"#fb9f3a\"],[0.8888888888888888,\"#fdca26\"],[1.0,\"#f0f921\"]],\"type\":\"contour\"}],\"heatmapgl\":[{\"colorbar\":{\"outlinewidth\":0,\"ticks\":\"\"},\"colorscale\":[[0.0,\"#0d0887\"],[0.1111111111111111,\"#46039f\"],[0.2222222222222222,\"#7201a8\"],[0.3333333333333333,\"#9c179e\"],[0.4444444444444444,\"#bd3786\"],[0.5555555555555556,\"#d8576b\"],[0.6666666666666666,\"#ed7953\"],[0.7777777777777778,\"#fb9f3a\"],[0.8888888888888888,\"#fdca26\"],[1.0,\"#f0f921\"]],\"type\":\"heatmapgl\"}],\"heatmap\":[{\"colorbar\":{\"outlinewidth\":0,\"ticks\":\"\"},\"colorscale\":[[0.0,\"#0d0887\"],[0.1111111111111111,\"#46039f\"],[0.2222222222222222,\"#7201a8\"],[0.3333333333333333,\"#9c179e\"],[0.4444444444444444,\"#bd3786\"],[0.5555555555555556,\"#d8576b\"],[0.6666666666666666,\"#ed7953\"],[0.7777777777777778,\"#fb9f3a\"],[0.8888888888888888,\"#fdca26\"],[1.0,\"#f0f921\"]],\"type\":\"heatmap\"}],\"histogram2dcontour\":[{\"colorbar\":{\"outlinewidth\":0,\"ticks\":\"\"},\"colorscale\":[[0.0,\"#0d0887\"],[0.1111111111111111,\"#46039f\"],[0.2222222222222222,\"#7201a8\"],[0.3333333333333333,\"#9c179e\"],[0.4444444444444444,\"#bd3786\"],[0.5555555555555556,\"#d8576b\"],[0.6666666666666666,\"#ed7953\"],[0.7777777777777778,\"#fb9f3a\"],[0.8888888888888888,\"#fdca26\"],[1.0,\"#f0f921\"]],\"type\":\"histogram2dcontour\"}],\"histogram2d\":[{\"colorbar\":{\"outlinewidth\":0,\"ticks\":\"\"},\"colorscale\":[[0.0,\"#0d0887\"],[0.1111111111111111,\"#46039f\"],[0.2222222222222222,\"#7201a8\"],[0.3333333333333333,\"#9c179e\"],[0.4444444444444444,\"#bd3786\"],[0.5555555555555556,\"#d8576b\"],[0.6666666666666666,\"#ed7953\"],[0.7777777777777778,\"#fb9f3a\"],[0.8888888888888888,\"#fdca26\"],[1.0,\"#f0f921\"]],\"type\":\"histogram2d\"}],\"histogram\":[{\"marker\":{\"pattern\":{\"fillmode\":\"overlay\",\"size\":10,\"solidity\":0.2}},\"type\":\"histogram\"}],\"mesh3d\":[{\"colorbar\":{\"outlinewidth\":0,\"ticks\":\"\"},\"type\":\"mesh3d\"}],\"parcoords\":[{\"line\":{\"colorbar\":{\"outlinewidth\":0,\"ticks\":\"\"}},\"type\":\"parcoords\"}],\"pie\":[{\"automargin\":true,\"type\":\"pie\"}],\"scatter3d\":[{\"line\":{\"colorbar\":{\"outlinewidth\":0,\"ticks\":\"\"}},\"marker\":{\"colorbar\":{\"outlinewidth\":0,\"ticks\":\"\"}},\"type\":\"scatter3d\"}],\"scattercarpet\":[{\"marker\":{\"colorbar\":{\"outlinewidth\":0,\"ticks\":\"\"}},\"type\":\"scattercarpet\"}],\"scattergeo\":[{\"marker\":{\"colorbar\":{\"outlinewidth\":0,\"ticks\":\"\"}},\"type\":\"scattergeo\"}],\"scattergl\":[{\"marker\":{\"colorbar\":{\"outlinewidth\":0,\"ticks\":\"\"}},\"type\":\"scattergl\"}],\"scattermapbox\":[{\"marker\":{\"colorbar\":{\"outlinewidth\":0,\"ticks\":\"\"}},\"type\":\"scattermapbox\"}],\"scatterpolargl\":[{\"marker\":{\"colorbar\":{\"outlinewidth\":0,\"ticks\":\"\"}},\"type\":\"scatterpolargl\"}],\"scatterpolar\":[{\"marker\":{\"colorbar\":{\"outlinewidth\":0,\"ticks\":\"\"}},\"type\":\"scatterpolar\"}],\"scatter\":[{\"fillpattern\":{\"fillmode\":\"overlay\",\"size\":10,\"solidity\":0.2},\"type\":\"scatter\"}],\"scatterternary\":[{\"marker\":{\"colorbar\":{\"outlinewidth\":0,\"ticks\":\"\"}},\"type\":\"scatterternary\"}],\"surface\":[{\"colorbar\":{\"outlinewidth\":0,\"ticks\":\"\"},\"colorscale\":[[0.0,\"#0d0887\"],[0.1111111111111111,\"#46039f\"],[0.2222222222222222,\"#7201a8\"],[0.3333333333333333,\"#9c179e\"],[0.4444444444444444,\"#bd3786\"],[0.5555555555555556,\"#d8576b\"],[0.6666666666666666,\"#ed7953\"],[0.7777777777777778,\"#fb9f3a\"],[0.8888888888888888,\"#fdca26\"],[1.0,\"#f0f921\"]],\"type\":\"surface\"}],\"table\":[{\"cells\":{\"fill\":{\"color\":\"#EBF0F8\"},\"line\":{\"color\":\"white\"}},\"header\":{\"fill\":{\"color\":\"#C8D4E3\"},\"line\":{\"color\":\"white\"}},\"type\":\"table\"}]},\"layout\":{\"annotationdefaults\":{\"arrowcolor\":\"#2a3f5f\",\"arrowhead\":0,\"arrowwidth\":1},\"autotypenumbers\":\"strict\",\"coloraxis\":{\"colorbar\":{\"outlinewidth\":0,\"ticks\":\"\"}},\"colorscale\":{\"diverging\":[[0,\"#8e0152\"],[0.1,\"#c51b7d\"],[0.2,\"#de77ae\"],[0.3,\"#f1b6da\"],[0.4,\"#fde0ef\"],[0.5,\"#f7f7f7\"],[0.6,\"#e6f5d0\"],[0.7,\"#b8e186\"],[0.8,\"#7fbc41\"],[0.9,\"#4d9221\"],[1,\"#276419\"]],\"sequential\":[[0.0,\"#0d0887\"],[0.1111111111111111,\"#46039f\"],[0.2222222222222222,\"#7201a8\"],[0.3333333333333333,\"#9c179e\"],[0.4444444444444444,\"#bd3786\"],[0.5555555555555556,\"#d8576b\"],[0.6666666666666666,\"#ed7953\"],[0.7777777777777778,\"#fb9f3a\"],[0.8888888888888888,\"#fdca26\"],[1.0,\"#f0f921\"]],\"sequentialminus\":[[0.0,\"#0d0887\"],[0.1111111111111111,\"#46039f\"],[0.2222222222222222,\"#7201a8\"],[0.3333333333333333,\"#9c179e\"],[0.4444444444444444,\"#bd3786\"],[0.5555555555555556,\"#d8576b\"],[0.6666666666666666,\"#ed7953\"],[0.7777777777777778,\"#fb9f3a\"],[0.8888888888888888,\"#fdca26\"],[1.0,\"#f0f921\"]]},\"colorway\":[\"#636efa\",\"#EF553B\",\"#00cc96\",\"#ab63fa\",\"#FFA15A\",\"#19d3f3\",\"#FF6692\",\"#B6E880\",\"#FF97FF\",\"#FECB52\"],\"font\":{\"color\":\"#2a3f5f\"},\"geo\":{\"bgcolor\":\"white\",\"lakecolor\":\"white\",\"landcolor\":\"#E5ECF6\",\"showlakes\":true,\"showland\":true,\"subunitcolor\":\"white\"},\"hoverlabel\":{\"align\":\"left\"},\"hovermode\":\"closest\",\"mapbox\":{\"style\":\"light\"},\"paper_bgcolor\":\"white\",\"plot_bgcolor\":\"#E5ECF6\",\"polar\":{\"angularaxis\":{\"gridcolor\":\"white\",\"linecolor\":\"white\",\"ticks\":\"\"},\"bgcolor\":\"#E5ECF6\",\"radialaxis\":{\"gridcolor\":\"white\",\"linecolor\":\"white\",\"ticks\":\"\"}},\"scene\":{\"xaxis\":{\"backgroundcolor\":\"#E5ECF6\",\"gridcolor\":\"white\",\"gridwidth\":2,\"linecolor\":\"white\",\"showbackground\":true,\"ticks\":\"\",\"zerolinecolor\":\"white\"},\"yaxis\":{\"backgroundcolor\":\"#E5ECF6\",\"gridcolor\":\"white\",\"gridwidth\":2,\"linecolor\":\"white\",\"showbackground\":true,\"ticks\":\"\",\"zerolinecolor\":\"white\"},\"zaxis\":{\"backgroundcolor\":\"#E5ECF6\",\"gridcolor\":\"white\",\"gridwidth\":2,\"linecolor\":\"white\",\"showbackground\":true,\"ticks\":\"\",\"zerolinecolor\":\"white\"}},\"shapedefaults\":{\"line\":{\"color\":\"#2a3f5f\"}},\"ternary\":{\"aaxis\":{\"gridcolor\":\"white\",\"linecolor\":\"white\",\"ticks\":\"\"},\"baxis\":{\"gridcolor\":\"white\",\"linecolor\":\"white\",\"ticks\":\"\"},\"bgcolor\":\"#E5ECF6\",\"caxis\":{\"gridcolor\":\"white\",\"linecolor\":\"white\",\"ticks\":\"\"}},\"title\":{\"x\":0.05},\"xaxis\":{\"automargin\":true,\"gridcolor\":\"white\",\"linecolor\":\"white\",\"ticks\":\"\",\"title\":{\"standoff\":15},\"zerolinecolor\":\"white\",\"zerolinewidth\":2},\"yaxis\":{\"automargin\":true,\"gridcolor\":\"white\",\"linecolor\":\"white\",\"ticks\":\"\",\"title\":{\"standoff\":15},\"zerolinecolor\":\"white\",\"zerolinewidth\":2}}},\"title\":{\"font\":{\"color\":\"#4D5663\"},\"text\":\"Distribution of Average Word Length\"},\"xaxis\":{\"gridcolor\":\"#E1E5ED\",\"showgrid\":true,\"tickfont\":{\"color\":\"#4D5663\"},\"title\":{\"font\":{\"color\":\"#4D5663\"},\"text\":\"Average Word Length\"},\"zerolinecolor\":\"#E1E5ED\"},\"yaxis\":{\"gridcolor\":\"#E1E5ED\",\"showgrid\":true,\"tickfont\":{\"color\":\"#4D5663\"},\"title\":{\"font\":{\"color\":\"#4D5663\"},\"text\":\"Count\"},\"zerolinecolor\":\"#E1E5ED\"}},                        {\"showLink\": true, \"linkText\": \"Export to plot.ly\", \"plotlyServerURL\": \"https://plot.ly\", \"responsive\": true}                    ).then(function(){\n",
       "                            \n",
       "var gd = document.getElementById('08a94758-35da-48c0-9b13-c199be59b914');\n",
       "var x = new MutationObserver(function (mutations, observer) {{\n",
       "        var display = window.getComputedStyle(gd).display;\n",
       "        if (!display || display === 'none') {{\n",
       "            console.log([gd, 'removed!']);\n",
       "            Plotly.purge(gd);\n",
       "            observer.disconnect();\n",
       "        }}\n",
       "}});\n",
       "\n",
       "// Listen for the removal of the full notebook cells\n",
       "var notebookContainer = gd.closest('#notebook-container');\n",
       "if (notebookContainer) {{\n",
       "    x.observe(notebookContainer, {childList: true});\n",
       "}}\n",
       "\n",
       "// Listen for the clearing of the current output cell\n",
       "var outputEl = gd.closest('.output');\n",
       "if (outputEl) {{\n",
       "    x.observe(outputEl, {childList: true});\n",
       "}}\n",
       "\n",
       "                        })                };                });            </script>        </div>"
      ]
     },
     "metadata": {},
     "output_type": "display_data"
    }
   ],
   "source": [
    "df['avg_word_length'].iplot(kind = 'hist', xTitle = 'Average Word Length', yTitle = 'Count', title = \"Distribution of Average Word Length\", bins = 50)"
   ]
  },
  {
   "cell_type": "markdown",
   "metadata": {},
   "source": [
    "#### Distribution of Unigram, Bigram, and Trigram"
   ]
  },
  {
   "cell_type": "code",
   "execution_count": 34,
   "metadata": {},
   "outputs": [],
   "source": [
    "from sklearn.feature_extraction.text import CountVectorizer"
   ]
  },
  {
   "cell_type": "code",
   "execution_count": 35,
   "metadata": {},
   "outputs": [],
   "source": [
    "def get_top_n_words(x, n):\n",
    "    vec = CountVectorizer().fit(x)\n",
    "    bow = vec.transform(x)\n",
    "    sum_words = bow.sum(axis = 0)\n",
    "    word_freq = [(word, sum_words[0, idx]) for word, idx in vec.vocabulary_.items()]\n",
    "    word_freq = sorted(word_freq, key = lambda x: x[1], reverse = True)\n",
    "    return word_freq[:n]"
   ]
  },
  {
   "cell_type": "markdown",
   "metadata": {},
   "source": [
    "##### Unigrams"
   ]
  },
  {
   "cell_type": "code",
   "execution_count": 36,
   "metadata": {},
   "outputs": [
    {
     "data": {
      "application/vnd.plotly.v1+json": {
       "config": {
        "linkText": "Export to plot.ly",
        "plotlyServerURL": "https://plot.ly",
        "showLink": true
       },
       "data": [
        {
         "marker": {
          "color": "rgba(255, 153, 51, 0.6)",
          "line": {
           "color": "rgba(255, 153, 51, 1.0)",
           "width": 1
          }
         },
         "name": "Frequency",
         "orientation": "v",
         "text": "",
         "type": "bar",
         "x": [
          "the",
          "weather",
          "is",
          "mention",
          "in",
          "to",
          "link",
          "and",
          "it",
          "for",
          "this",
          "on",
          "at",
          "of",
          "rt",
          "be",
          "storm",
          "you",
          "out",
          "my"
         ],
         "y": [
          372,
          341,
          290,
          268,
          203,
          190,
          163,
          161,
          157,
          122,
          111,
          93,
          92,
          90,
          88,
          78,
          76,
          71,
          70,
          68
         ]
        }
       ],
       "layout": {
        "legend": {
         "bgcolor": "#F5F6F9",
         "font": {
          "color": "#4D5663"
         }
        },
        "paper_bgcolor": "#F5F6F9",
        "plot_bgcolor": "#F5F6F9",
        "template": {
         "data": {
          "bar": [
           {
            "error_x": {
             "color": "#2a3f5f"
            },
            "error_y": {
             "color": "#2a3f5f"
            },
            "marker": {
             "line": {
              "color": "#E5ECF6",
              "width": 0.5
             },
             "pattern": {
              "fillmode": "overlay",
              "size": 10,
              "solidity": 0.2
             }
            },
            "type": "bar"
           }
          ],
          "barpolar": [
           {
            "marker": {
             "line": {
              "color": "#E5ECF6",
              "width": 0.5
             },
             "pattern": {
              "fillmode": "overlay",
              "size": 10,
              "solidity": 0.2
             }
            },
            "type": "barpolar"
           }
          ],
          "carpet": [
           {
            "aaxis": {
             "endlinecolor": "#2a3f5f",
             "gridcolor": "white",
             "linecolor": "white",
             "minorgridcolor": "white",
             "startlinecolor": "#2a3f5f"
            },
            "baxis": {
             "endlinecolor": "#2a3f5f",
             "gridcolor": "white",
             "linecolor": "white",
             "minorgridcolor": "white",
             "startlinecolor": "#2a3f5f"
            },
            "type": "carpet"
           }
          ],
          "choropleth": [
           {
            "colorbar": {
             "outlinewidth": 0,
             "ticks": ""
            },
            "type": "choropleth"
           }
          ],
          "contour": [
           {
            "colorbar": {
             "outlinewidth": 0,
             "ticks": ""
            },
            "colorscale": [
             [
              0,
              "#0d0887"
             ],
             [
              0.1111111111111111,
              "#46039f"
             ],
             [
              0.2222222222222222,
              "#7201a8"
             ],
             [
              0.3333333333333333,
              "#9c179e"
             ],
             [
              0.4444444444444444,
              "#bd3786"
             ],
             [
              0.5555555555555556,
              "#d8576b"
             ],
             [
              0.6666666666666666,
              "#ed7953"
             ],
             [
              0.7777777777777778,
              "#fb9f3a"
             ],
             [
              0.8888888888888888,
              "#fdca26"
             ],
             [
              1,
              "#f0f921"
             ]
            ],
            "type": "contour"
           }
          ],
          "contourcarpet": [
           {
            "colorbar": {
             "outlinewidth": 0,
             "ticks": ""
            },
            "type": "contourcarpet"
           }
          ],
          "heatmap": [
           {
            "colorbar": {
             "outlinewidth": 0,
             "ticks": ""
            },
            "colorscale": [
             [
              0,
              "#0d0887"
             ],
             [
              0.1111111111111111,
              "#46039f"
             ],
             [
              0.2222222222222222,
              "#7201a8"
             ],
             [
              0.3333333333333333,
              "#9c179e"
             ],
             [
              0.4444444444444444,
              "#bd3786"
             ],
             [
              0.5555555555555556,
              "#d8576b"
             ],
             [
              0.6666666666666666,
              "#ed7953"
             ],
             [
              0.7777777777777778,
              "#fb9f3a"
             ],
             [
              0.8888888888888888,
              "#fdca26"
             ],
             [
              1,
              "#f0f921"
             ]
            ],
            "type": "heatmap"
           }
          ],
          "heatmapgl": [
           {
            "colorbar": {
             "outlinewidth": 0,
             "ticks": ""
            },
            "colorscale": [
             [
              0,
              "#0d0887"
             ],
             [
              0.1111111111111111,
              "#46039f"
             ],
             [
              0.2222222222222222,
              "#7201a8"
             ],
             [
              0.3333333333333333,
              "#9c179e"
             ],
             [
              0.4444444444444444,
              "#bd3786"
             ],
             [
              0.5555555555555556,
              "#d8576b"
             ],
             [
              0.6666666666666666,
              "#ed7953"
             ],
             [
              0.7777777777777778,
              "#fb9f3a"
             ],
             [
              0.8888888888888888,
              "#fdca26"
             ],
             [
              1,
              "#f0f921"
             ]
            ],
            "type": "heatmapgl"
           }
          ],
          "histogram": [
           {
            "marker": {
             "pattern": {
              "fillmode": "overlay",
              "size": 10,
              "solidity": 0.2
             }
            },
            "type": "histogram"
           }
          ],
          "histogram2d": [
           {
            "colorbar": {
             "outlinewidth": 0,
             "ticks": ""
            },
            "colorscale": [
             [
              0,
              "#0d0887"
             ],
             [
              0.1111111111111111,
              "#46039f"
             ],
             [
              0.2222222222222222,
              "#7201a8"
             ],
             [
              0.3333333333333333,
              "#9c179e"
             ],
             [
              0.4444444444444444,
              "#bd3786"
             ],
             [
              0.5555555555555556,
              "#d8576b"
             ],
             [
              0.6666666666666666,
              "#ed7953"
             ],
             [
              0.7777777777777778,
              "#fb9f3a"
             ],
             [
              0.8888888888888888,
              "#fdca26"
             ],
             [
              1,
              "#f0f921"
             ]
            ],
            "type": "histogram2d"
           }
          ],
          "histogram2dcontour": [
           {
            "colorbar": {
             "outlinewidth": 0,
             "ticks": ""
            },
            "colorscale": [
             [
              0,
              "#0d0887"
             ],
             [
              0.1111111111111111,
              "#46039f"
             ],
             [
              0.2222222222222222,
              "#7201a8"
             ],
             [
              0.3333333333333333,
              "#9c179e"
             ],
             [
              0.4444444444444444,
              "#bd3786"
             ],
             [
              0.5555555555555556,
              "#d8576b"
             ],
             [
              0.6666666666666666,
              "#ed7953"
             ],
             [
              0.7777777777777778,
              "#fb9f3a"
             ],
             [
              0.8888888888888888,
              "#fdca26"
             ],
             [
              1,
              "#f0f921"
             ]
            ],
            "type": "histogram2dcontour"
           }
          ],
          "mesh3d": [
           {
            "colorbar": {
             "outlinewidth": 0,
             "ticks": ""
            },
            "type": "mesh3d"
           }
          ],
          "parcoords": [
           {
            "line": {
             "colorbar": {
              "outlinewidth": 0,
              "ticks": ""
             }
            },
            "type": "parcoords"
           }
          ],
          "pie": [
           {
            "automargin": true,
            "type": "pie"
           }
          ],
          "scatter": [
           {
            "fillpattern": {
             "fillmode": "overlay",
             "size": 10,
             "solidity": 0.2
            },
            "type": "scatter"
           }
          ],
          "scatter3d": [
           {
            "line": {
             "colorbar": {
              "outlinewidth": 0,
              "ticks": ""
             }
            },
            "marker": {
             "colorbar": {
              "outlinewidth": 0,
              "ticks": ""
             }
            },
            "type": "scatter3d"
           }
          ],
          "scattercarpet": [
           {
            "marker": {
             "colorbar": {
              "outlinewidth": 0,
              "ticks": ""
             }
            },
            "type": "scattercarpet"
           }
          ],
          "scattergeo": [
           {
            "marker": {
             "colorbar": {
              "outlinewidth": 0,
              "ticks": ""
             }
            },
            "type": "scattergeo"
           }
          ],
          "scattergl": [
           {
            "marker": {
             "colorbar": {
              "outlinewidth": 0,
              "ticks": ""
             }
            },
            "type": "scattergl"
           }
          ],
          "scattermapbox": [
           {
            "marker": {
             "colorbar": {
              "outlinewidth": 0,
              "ticks": ""
             }
            },
            "type": "scattermapbox"
           }
          ],
          "scatterpolar": [
           {
            "marker": {
             "colorbar": {
              "outlinewidth": 0,
              "ticks": ""
             }
            },
            "type": "scatterpolar"
           }
          ],
          "scatterpolargl": [
           {
            "marker": {
             "colorbar": {
              "outlinewidth": 0,
              "ticks": ""
             }
            },
            "type": "scatterpolargl"
           }
          ],
          "scatterternary": [
           {
            "marker": {
             "colorbar": {
              "outlinewidth": 0,
              "ticks": ""
             }
            },
            "type": "scatterternary"
           }
          ],
          "surface": [
           {
            "colorbar": {
             "outlinewidth": 0,
             "ticks": ""
            },
            "colorscale": [
             [
              0,
              "#0d0887"
             ],
             [
              0.1111111111111111,
              "#46039f"
             ],
             [
              0.2222222222222222,
              "#7201a8"
             ],
             [
              0.3333333333333333,
              "#9c179e"
             ],
             [
              0.4444444444444444,
              "#bd3786"
             ],
             [
              0.5555555555555556,
              "#d8576b"
             ],
             [
              0.6666666666666666,
              "#ed7953"
             ],
             [
              0.7777777777777778,
              "#fb9f3a"
             ],
             [
              0.8888888888888888,
              "#fdca26"
             ],
             [
              1,
              "#f0f921"
             ]
            ],
            "type": "surface"
           }
          ],
          "table": [
           {
            "cells": {
             "fill": {
              "color": "#EBF0F8"
             },
             "line": {
              "color": "white"
             }
            },
            "header": {
             "fill": {
              "color": "#C8D4E3"
             },
             "line": {
              "color": "white"
             }
            },
            "type": "table"
           }
          ]
         },
         "layout": {
          "annotationdefaults": {
           "arrowcolor": "#2a3f5f",
           "arrowhead": 0,
           "arrowwidth": 1
          },
          "autotypenumbers": "strict",
          "coloraxis": {
           "colorbar": {
            "outlinewidth": 0,
            "ticks": ""
           }
          },
          "colorscale": {
           "diverging": [
            [
             0,
             "#8e0152"
            ],
            [
             0.1,
             "#c51b7d"
            ],
            [
             0.2,
             "#de77ae"
            ],
            [
             0.3,
             "#f1b6da"
            ],
            [
             0.4,
             "#fde0ef"
            ],
            [
             0.5,
             "#f7f7f7"
            ],
            [
             0.6,
             "#e6f5d0"
            ],
            [
             0.7,
             "#b8e186"
            ],
            [
             0.8,
             "#7fbc41"
            ],
            [
             0.9,
             "#4d9221"
            ],
            [
             1,
             "#276419"
            ]
           ],
           "sequential": [
            [
             0,
             "#0d0887"
            ],
            [
             0.1111111111111111,
             "#46039f"
            ],
            [
             0.2222222222222222,
             "#7201a8"
            ],
            [
             0.3333333333333333,
             "#9c179e"
            ],
            [
             0.4444444444444444,
             "#bd3786"
            ],
            [
             0.5555555555555556,
             "#d8576b"
            ],
            [
             0.6666666666666666,
             "#ed7953"
            ],
            [
             0.7777777777777778,
             "#fb9f3a"
            ],
            [
             0.8888888888888888,
             "#fdca26"
            ],
            [
             1,
             "#f0f921"
            ]
           ],
           "sequentialminus": [
            [
             0,
             "#0d0887"
            ],
            [
             0.1111111111111111,
             "#46039f"
            ],
            [
             0.2222222222222222,
             "#7201a8"
            ],
            [
             0.3333333333333333,
             "#9c179e"
            ],
            [
             0.4444444444444444,
             "#bd3786"
            ],
            [
             0.5555555555555556,
             "#d8576b"
            ],
            [
             0.6666666666666666,
             "#ed7953"
            ],
            [
             0.7777777777777778,
             "#fb9f3a"
            ],
            [
             0.8888888888888888,
             "#fdca26"
            ],
            [
             1,
             "#f0f921"
            ]
           ]
          },
          "colorway": [
           "#636efa",
           "#EF553B",
           "#00cc96",
           "#ab63fa",
           "#FFA15A",
           "#19d3f3",
           "#FF6692",
           "#B6E880",
           "#FF97FF",
           "#FECB52"
          ],
          "font": {
           "color": "#2a3f5f"
          },
          "geo": {
           "bgcolor": "white",
           "lakecolor": "white",
           "landcolor": "#E5ECF6",
           "showlakes": true,
           "showland": true,
           "subunitcolor": "white"
          },
          "hoverlabel": {
           "align": "left"
          },
          "hovermode": "closest",
          "mapbox": {
           "style": "light"
          },
          "paper_bgcolor": "white",
          "plot_bgcolor": "#E5ECF6",
          "polar": {
           "angularaxis": {
            "gridcolor": "white",
            "linecolor": "white",
            "ticks": ""
           },
           "bgcolor": "#E5ECF6",
           "radialaxis": {
            "gridcolor": "white",
            "linecolor": "white",
            "ticks": ""
           }
          },
          "scene": {
           "xaxis": {
            "backgroundcolor": "#E5ECF6",
            "gridcolor": "white",
            "gridwidth": 2,
            "linecolor": "white",
            "showbackground": true,
            "ticks": "",
            "zerolinecolor": "white"
           },
           "yaxis": {
            "backgroundcolor": "#E5ECF6",
            "gridcolor": "white",
            "gridwidth": 2,
            "linecolor": "white",
            "showbackground": true,
            "ticks": "",
            "zerolinecolor": "white"
           },
           "zaxis": {
            "backgroundcolor": "#E5ECF6",
            "gridcolor": "white",
            "gridwidth": 2,
            "linecolor": "white",
            "showbackground": true,
            "ticks": "",
            "zerolinecolor": "white"
           }
          },
          "shapedefaults": {
           "line": {
            "color": "#2a3f5f"
           }
          },
          "ternary": {
           "aaxis": {
            "gridcolor": "white",
            "linecolor": "white",
            "ticks": ""
           },
           "baxis": {
            "gridcolor": "white",
            "linecolor": "white",
            "ticks": ""
           },
           "bgcolor": "#E5ECF6",
           "caxis": {
            "gridcolor": "white",
            "linecolor": "white",
            "ticks": ""
           }
          },
          "title": {
           "x": 0.05
          },
          "xaxis": {
           "automargin": true,
           "gridcolor": "white",
           "linecolor": "white",
           "ticks": "",
           "title": {
            "standoff": 15
           },
           "zerolinecolor": "white",
           "zerolinewidth": 2
          },
          "yaxis": {
           "automargin": true,
           "gridcolor": "white",
           "linecolor": "white",
           "ticks": "",
           "title": {
            "standoff": 15
           },
           "zerolinecolor": "white",
           "zerolinewidth": 2
          }
         }
        },
        "title": {
         "font": {
          "color": "#4D5663"
         },
         "text": "Top 20 Unigram Words"
        },
        "xaxis": {
         "gridcolor": "#E1E5ED",
         "showgrid": true,
         "tickfont": {
          "color": "#4D5663"
         },
         "title": {
          "font": {
           "color": "#4D5663"
          },
          "text": "Unigram"
         },
         "zerolinecolor": "#E1E5ED"
        },
        "yaxis": {
         "gridcolor": "#E1E5ED",
         "showgrid": true,
         "tickfont": {
          "color": "#4D5663"
         },
         "title": {
          "font": {
           "color": "#4D5663"
          },
          "text": "Frequency"
         },
         "zerolinecolor": "#E1E5ED"
        }
       }
      },
      "text/html": [
       "<div>                            <div id=\"7905f758-1da1-4d39-b422-632fd77e7826\" class=\"plotly-graph-div\" style=\"height:525px; width:100%;\"></div>            <script type=\"text/javascript\">                require([\"plotly\"], function(Plotly) {                    window.PLOTLYENV=window.PLOTLYENV || {};\n",
       "                    window.PLOTLYENV.BASE_URL='https://plot.ly';                                    if (document.getElementById(\"7905f758-1da1-4d39-b422-632fd77e7826\")) {                    Plotly.newPlot(                        \"7905f758-1da1-4d39-b422-632fd77e7826\",                        [{\"marker\":{\"color\":\"rgba(255, 153, 51, 0.6)\",\"line\":{\"color\":\"rgba(255, 153, 51, 1.0)\",\"width\":1}},\"name\":\"Frequency\",\"orientation\":\"v\",\"text\":\"\",\"x\":[\"the\",\"weather\",\"is\",\"mention\",\"in\",\"to\",\"link\",\"and\",\"it\",\"for\",\"this\",\"on\",\"at\",\"of\",\"rt\",\"be\",\"storm\",\"you\",\"out\",\"my\"],\"y\":[372,341,290,268,203,190,163,161,157,122,111,93,92,90,88,78,76,71,70,68],\"type\":\"bar\"}],                        {\"legend\":{\"bgcolor\":\"#F5F6F9\",\"font\":{\"color\":\"#4D5663\"}},\"paper_bgcolor\":\"#F5F6F9\",\"plot_bgcolor\":\"#F5F6F9\",\"template\":{\"data\":{\"barpolar\":[{\"marker\":{\"line\":{\"color\":\"#E5ECF6\",\"width\":0.5},\"pattern\":{\"fillmode\":\"overlay\",\"size\":10,\"solidity\":0.2}},\"type\":\"barpolar\"}],\"bar\":[{\"error_x\":{\"color\":\"#2a3f5f\"},\"error_y\":{\"color\":\"#2a3f5f\"},\"marker\":{\"line\":{\"color\":\"#E5ECF6\",\"width\":0.5},\"pattern\":{\"fillmode\":\"overlay\",\"size\":10,\"solidity\":0.2}},\"type\":\"bar\"}],\"carpet\":[{\"aaxis\":{\"endlinecolor\":\"#2a3f5f\",\"gridcolor\":\"white\",\"linecolor\":\"white\",\"minorgridcolor\":\"white\",\"startlinecolor\":\"#2a3f5f\"},\"baxis\":{\"endlinecolor\":\"#2a3f5f\",\"gridcolor\":\"white\",\"linecolor\":\"white\",\"minorgridcolor\":\"white\",\"startlinecolor\":\"#2a3f5f\"},\"type\":\"carpet\"}],\"choropleth\":[{\"colorbar\":{\"outlinewidth\":0,\"ticks\":\"\"},\"type\":\"choropleth\"}],\"contourcarpet\":[{\"colorbar\":{\"outlinewidth\":0,\"ticks\":\"\"},\"type\":\"contourcarpet\"}],\"contour\":[{\"colorbar\":{\"outlinewidth\":0,\"ticks\":\"\"},\"colorscale\":[[0.0,\"#0d0887\"],[0.1111111111111111,\"#46039f\"],[0.2222222222222222,\"#7201a8\"],[0.3333333333333333,\"#9c179e\"],[0.4444444444444444,\"#bd3786\"],[0.5555555555555556,\"#d8576b\"],[0.6666666666666666,\"#ed7953\"],[0.7777777777777778,\"#fb9f3a\"],[0.8888888888888888,\"#fdca26\"],[1.0,\"#f0f921\"]],\"type\":\"contour\"}],\"heatmapgl\":[{\"colorbar\":{\"outlinewidth\":0,\"ticks\":\"\"},\"colorscale\":[[0.0,\"#0d0887\"],[0.1111111111111111,\"#46039f\"],[0.2222222222222222,\"#7201a8\"],[0.3333333333333333,\"#9c179e\"],[0.4444444444444444,\"#bd3786\"],[0.5555555555555556,\"#d8576b\"],[0.6666666666666666,\"#ed7953\"],[0.7777777777777778,\"#fb9f3a\"],[0.8888888888888888,\"#fdca26\"],[1.0,\"#f0f921\"]],\"type\":\"heatmapgl\"}],\"heatmap\":[{\"colorbar\":{\"outlinewidth\":0,\"ticks\":\"\"},\"colorscale\":[[0.0,\"#0d0887\"],[0.1111111111111111,\"#46039f\"],[0.2222222222222222,\"#7201a8\"],[0.3333333333333333,\"#9c179e\"],[0.4444444444444444,\"#bd3786\"],[0.5555555555555556,\"#d8576b\"],[0.6666666666666666,\"#ed7953\"],[0.7777777777777778,\"#fb9f3a\"],[0.8888888888888888,\"#fdca26\"],[1.0,\"#f0f921\"]],\"type\":\"heatmap\"}],\"histogram2dcontour\":[{\"colorbar\":{\"outlinewidth\":0,\"ticks\":\"\"},\"colorscale\":[[0.0,\"#0d0887\"],[0.1111111111111111,\"#46039f\"],[0.2222222222222222,\"#7201a8\"],[0.3333333333333333,\"#9c179e\"],[0.4444444444444444,\"#bd3786\"],[0.5555555555555556,\"#d8576b\"],[0.6666666666666666,\"#ed7953\"],[0.7777777777777778,\"#fb9f3a\"],[0.8888888888888888,\"#fdca26\"],[1.0,\"#f0f921\"]],\"type\":\"histogram2dcontour\"}],\"histogram2d\":[{\"colorbar\":{\"outlinewidth\":0,\"ticks\":\"\"},\"colorscale\":[[0.0,\"#0d0887\"],[0.1111111111111111,\"#46039f\"],[0.2222222222222222,\"#7201a8\"],[0.3333333333333333,\"#9c179e\"],[0.4444444444444444,\"#bd3786\"],[0.5555555555555556,\"#d8576b\"],[0.6666666666666666,\"#ed7953\"],[0.7777777777777778,\"#fb9f3a\"],[0.8888888888888888,\"#fdca26\"],[1.0,\"#f0f921\"]],\"type\":\"histogram2d\"}],\"histogram\":[{\"marker\":{\"pattern\":{\"fillmode\":\"overlay\",\"size\":10,\"solidity\":0.2}},\"type\":\"histogram\"}],\"mesh3d\":[{\"colorbar\":{\"outlinewidth\":0,\"ticks\":\"\"},\"type\":\"mesh3d\"}],\"parcoords\":[{\"line\":{\"colorbar\":{\"outlinewidth\":0,\"ticks\":\"\"}},\"type\":\"parcoords\"}],\"pie\":[{\"automargin\":true,\"type\":\"pie\"}],\"scatter3d\":[{\"line\":{\"colorbar\":{\"outlinewidth\":0,\"ticks\":\"\"}},\"marker\":{\"colorbar\":{\"outlinewidth\":0,\"ticks\":\"\"}},\"type\":\"scatter3d\"}],\"scattercarpet\":[{\"marker\":{\"colorbar\":{\"outlinewidth\":0,\"ticks\":\"\"}},\"type\":\"scattercarpet\"}],\"scattergeo\":[{\"marker\":{\"colorbar\":{\"outlinewidth\":0,\"ticks\":\"\"}},\"type\":\"scattergeo\"}],\"scattergl\":[{\"marker\":{\"colorbar\":{\"outlinewidth\":0,\"ticks\":\"\"}},\"type\":\"scattergl\"}],\"scattermapbox\":[{\"marker\":{\"colorbar\":{\"outlinewidth\":0,\"ticks\":\"\"}},\"type\":\"scattermapbox\"}],\"scatterpolargl\":[{\"marker\":{\"colorbar\":{\"outlinewidth\":0,\"ticks\":\"\"}},\"type\":\"scatterpolargl\"}],\"scatterpolar\":[{\"marker\":{\"colorbar\":{\"outlinewidth\":0,\"ticks\":\"\"}},\"type\":\"scatterpolar\"}],\"scatter\":[{\"fillpattern\":{\"fillmode\":\"overlay\",\"size\":10,\"solidity\":0.2},\"type\":\"scatter\"}],\"scatterternary\":[{\"marker\":{\"colorbar\":{\"outlinewidth\":0,\"ticks\":\"\"}},\"type\":\"scatterternary\"}],\"surface\":[{\"colorbar\":{\"outlinewidth\":0,\"ticks\":\"\"},\"colorscale\":[[0.0,\"#0d0887\"],[0.1111111111111111,\"#46039f\"],[0.2222222222222222,\"#7201a8\"],[0.3333333333333333,\"#9c179e\"],[0.4444444444444444,\"#bd3786\"],[0.5555555555555556,\"#d8576b\"],[0.6666666666666666,\"#ed7953\"],[0.7777777777777778,\"#fb9f3a\"],[0.8888888888888888,\"#fdca26\"],[1.0,\"#f0f921\"]],\"type\":\"surface\"}],\"table\":[{\"cells\":{\"fill\":{\"color\":\"#EBF0F8\"},\"line\":{\"color\":\"white\"}},\"header\":{\"fill\":{\"color\":\"#C8D4E3\"},\"line\":{\"color\":\"white\"}},\"type\":\"table\"}]},\"layout\":{\"annotationdefaults\":{\"arrowcolor\":\"#2a3f5f\",\"arrowhead\":0,\"arrowwidth\":1},\"autotypenumbers\":\"strict\",\"coloraxis\":{\"colorbar\":{\"outlinewidth\":0,\"ticks\":\"\"}},\"colorscale\":{\"diverging\":[[0,\"#8e0152\"],[0.1,\"#c51b7d\"],[0.2,\"#de77ae\"],[0.3,\"#f1b6da\"],[0.4,\"#fde0ef\"],[0.5,\"#f7f7f7\"],[0.6,\"#e6f5d0\"],[0.7,\"#b8e186\"],[0.8,\"#7fbc41\"],[0.9,\"#4d9221\"],[1,\"#276419\"]],\"sequential\":[[0.0,\"#0d0887\"],[0.1111111111111111,\"#46039f\"],[0.2222222222222222,\"#7201a8\"],[0.3333333333333333,\"#9c179e\"],[0.4444444444444444,\"#bd3786\"],[0.5555555555555556,\"#d8576b\"],[0.6666666666666666,\"#ed7953\"],[0.7777777777777778,\"#fb9f3a\"],[0.8888888888888888,\"#fdca26\"],[1.0,\"#f0f921\"]],\"sequentialminus\":[[0.0,\"#0d0887\"],[0.1111111111111111,\"#46039f\"],[0.2222222222222222,\"#7201a8\"],[0.3333333333333333,\"#9c179e\"],[0.4444444444444444,\"#bd3786\"],[0.5555555555555556,\"#d8576b\"],[0.6666666666666666,\"#ed7953\"],[0.7777777777777778,\"#fb9f3a\"],[0.8888888888888888,\"#fdca26\"],[1.0,\"#f0f921\"]]},\"colorway\":[\"#636efa\",\"#EF553B\",\"#00cc96\",\"#ab63fa\",\"#FFA15A\",\"#19d3f3\",\"#FF6692\",\"#B6E880\",\"#FF97FF\",\"#FECB52\"],\"font\":{\"color\":\"#2a3f5f\"},\"geo\":{\"bgcolor\":\"white\",\"lakecolor\":\"white\",\"landcolor\":\"#E5ECF6\",\"showlakes\":true,\"showland\":true,\"subunitcolor\":\"white\"},\"hoverlabel\":{\"align\":\"left\"},\"hovermode\":\"closest\",\"mapbox\":{\"style\":\"light\"},\"paper_bgcolor\":\"white\",\"plot_bgcolor\":\"#E5ECF6\",\"polar\":{\"angularaxis\":{\"gridcolor\":\"white\",\"linecolor\":\"white\",\"ticks\":\"\"},\"bgcolor\":\"#E5ECF6\",\"radialaxis\":{\"gridcolor\":\"white\",\"linecolor\":\"white\",\"ticks\":\"\"}},\"scene\":{\"xaxis\":{\"backgroundcolor\":\"#E5ECF6\",\"gridcolor\":\"white\",\"gridwidth\":2,\"linecolor\":\"white\",\"showbackground\":true,\"ticks\":\"\",\"zerolinecolor\":\"white\"},\"yaxis\":{\"backgroundcolor\":\"#E5ECF6\",\"gridcolor\":\"white\",\"gridwidth\":2,\"linecolor\":\"white\",\"showbackground\":true,\"ticks\":\"\",\"zerolinecolor\":\"white\"},\"zaxis\":{\"backgroundcolor\":\"#E5ECF6\",\"gridcolor\":\"white\",\"gridwidth\":2,\"linecolor\":\"white\",\"showbackground\":true,\"ticks\":\"\",\"zerolinecolor\":\"white\"}},\"shapedefaults\":{\"line\":{\"color\":\"#2a3f5f\"}},\"ternary\":{\"aaxis\":{\"gridcolor\":\"white\",\"linecolor\":\"white\",\"ticks\":\"\"},\"baxis\":{\"gridcolor\":\"white\",\"linecolor\":\"white\",\"ticks\":\"\"},\"bgcolor\":\"#E5ECF6\",\"caxis\":{\"gridcolor\":\"white\",\"linecolor\":\"white\",\"ticks\":\"\"}},\"title\":{\"x\":0.05},\"xaxis\":{\"automargin\":true,\"gridcolor\":\"white\",\"linecolor\":\"white\",\"ticks\":\"\",\"title\":{\"standoff\":15},\"zerolinecolor\":\"white\",\"zerolinewidth\":2},\"yaxis\":{\"automargin\":true,\"gridcolor\":\"white\",\"linecolor\":\"white\",\"ticks\":\"\",\"title\":{\"standoff\":15},\"zerolinecolor\":\"white\",\"zerolinewidth\":2}}},\"title\":{\"font\":{\"color\":\"#4D5663\"},\"text\":\"Top 20 Unigram Words\"},\"xaxis\":{\"gridcolor\":\"#E1E5ED\",\"showgrid\":true,\"tickfont\":{\"color\":\"#4D5663\"},\"title\":{\"font\":{\"color\":\"#4D5663\"},\"text\":\"Unigram\"},\"zerolinecolor\":\"#E1E5ED\"},\"yaxis\":{\"gridcolor\":\"#E1E5ED\",\"showgrid\":true,\"tickfont\":{\"color\":\"#4D5663\"},\"title\":{\"font\":{\"color\":\"#4D5663\"},\"text\":\"Frequency\"},\"zerolinecolor\":\"#E1E5ED\"}},                        {\"showLink\": true, \"linkText\": \"Export to plot.ly\", \"plotlyServerURL\": \"https://plot.ly\", \"responsive\": true}                    ).then(function(){\n",
       "                            \n",
       "var gd = document.getElementById('7905f758-1da1-4d39-b422-632fd77e7826');\n",
       "var x = new MutationObserver(function (mutations, observer) {{\n",
       "        var display = window.getComputedStyle(gd).display;\n",
       "        if (!display || display === 'none') {{\n",
       "            console.log([gd, 'removed!']);\n",
       "            Plotly.purge(gd);\n",
       "            observer.disconnect();\n",
       "        }}\n",
       "}});\n",
       "\n",
       "// Listen for the removal of the full notebook cells\n",
       "var notebookContainer = gd.closest('#notebook-container');\n",
       "if (notebookContainer) {{\n",
       "    x.observe(notebookContainer, {childList: true});\n",
       "}}\n",
       "\n",
       "// Listen for the clearing of the current output cell\n",
       "var outputEl = gd.closest('.output');\n",
       "if (outputEl) {{\n",
       "    x.observe(outputEl, {childList: true});\n",
       "}}\n",
       "\n",
       "                        })                };                });            </script>        </div>"
      ]
     },
     "metadata": {},
     "output_type": "display_data"
    }
   ],
   "source": [
    "words = get_top_n_words(df['text'], 20)\n",
    "dfUni = pd.DataFrame(words, columns = ['Unigram','Frequency'])\n",
    "dfUni = dfUni.set_index('Unigram')\n",
    "dfUni.iplot(kind = 'bar', xTitle='Unigram', yTitle='Frequency', title = 'Top 20 Unigram Words')"
   ]
  },
  {
   "cell_type": "markdown",
   "metadata": {},
   "source": [
    "##### Bigrams"
   ]
  },
  {
   "cell_type": "code",
   "execution_count": 37,
   "metadata": {},
   "outputs": [],
   "source": [
    "def get_top_n_words(x, n):\n",
    "    vec = CountVectorizer(ngram_range=(2,2)).fit(x)\n",
    "    bow = vec.transform(x)\n",
    "    sum_words = bow.sum(axis = 0)\n",
    "    word_freq = [(word, sum_words[0, idx]) for word, idx in vec.vocabulary_.items()]\n",
    "    word_freq = sorted(word_freq, key = lambda x: x[1], reverse = True)\n",
    "    return word_freq[:n]"
   ]
  },
  {
   "cell_type": "code",
   "execution_count": 38,
   "metadata": {},
   "outputs": [
    {
     "data": {
      "application/vnd.plotly.v1+json": {
       "config": {
        "linkText": "Export to plot.ly",
        "plotlyServerURL": "https://plot.ly",
        "showLink": true
       },
       "data": [
        {
         "marker": {
          "color": "rgba(255, 153, 51, 0.6)",
          "line": {
           "color": "rgba(255, 153, 51, 1.0)",
           "width": 1
          }
         },
         "name": "Frequency",
         "orientation": "v",
         "text": "",
         "type": "bar",
         "x": [
          "rt mention",
          "it is",
          "the weather",
          "in the",
          "weather is",
          "0f feels",
          "on the",
          "to be",
          "severe thunderstorm",
          "feels 29",
          "this weather",
          "the storm",
          "for the",
          "the sunshine",
          "thunderstorm warning",
          "to the",
          "going to",
          "of the",
          "mention mention",
          "weather in"
         ],
         "y": [
          87,
          83,
          64,
          42,
          39,
          38,
          25,
          25,
          23,
          22,
          21,
          21,
          20,
          17,
          17,
          16,
          15,
          15,
          14,
          13
         ]
        }
       ],
       "layout": {
        "legend": {
         "bgcolor": "#F5F6F9",
         "font": {
          "color": "#4D5663"
         }
        },
        "paper_bgcolor": "#F5F6F9",
        "plot_bgcolor": "#F5F6F9",
        "template": {
         "data": {
          "bar": [
           {
            "error_x": {
             "color": "#2a3f5f"
            },
            "error_y": {
             "color": "#2a3f5f"
            },
            "marker": {
             "line": {
              "color": "#E5ECF6",
              "width": 0.5
             },
             "pattern": {
              "fillmode": "overlay",
              "size": 10,
              "solidity": 0.2
             }
            },
            "type": "bar"
           }
          ],
          "barpolar": [
           {
            "marker": {
             "line": {
              "color": "#E5ECF6",
              "width": 0.5
             },
             "pattern": {
              "fillmode": "overlay",
              "size": 10,
              "solidity": 0.2
             }
            },
            "type": "barpolar"
           }
          ],
          "carpet": [
           {
            "aaxis": {
             "endlinecolor": "#2a3f5f",
             "gridcolor": "white",
             "linecolor": "white",
             "minorgridcolor": "white",
             "startlinecolor": "#2a3f5f"
            },
            "baxis": {
             "endlinecolor": "#2a3f5f",
             "gridcolor": "white",
             "linecolor": "white",
             "minorgridcolor": "white",
             "startlinecolor": "#2a3f5f"
            },
            "type": "carpet"
           }
          ],
          "choropleth": [
           {
            "colorbar": {
             "outlinewidth": 0,
             "ticks": ""
            },
            "type": "choropleth"
           }
          ],
          "contour": [
           {
            "colorbar": {
             "outlinewidth": 0,
             "ticks": ""
            },
            "colorscale": [
             [
              0,
              "#0d0887"
             ],
             [
              0.1111111111111111,
              "#46039f"
             ],
             [
              0.2222222222222222,
              "#7201a8"
             ],
             [
              0.3333333333333333,
              "#9c179e"
             ],
             [
              0.4444444444444444,
              "#bd3786"
             ],
             [
              0.5555555555555556,
              "#d8576b"
             ],
             [
              0.6666666666666666,
              "#ed7953"
             ],
             [
              0.7777777777777778,
              "#fb9f3a"
             ],
             [
              0.8888888888888888,
              "#fdca26"
             ],
             [
              1,
              "#f0f921"
             ]
            ],
            "type": "contour"
           }
          ],
          "contourcarpet": [
           {
            "colorbar": {
             "outlinewidth": 0,
             "ticks": ""
            },
            "type": "contourcarpet"
           }
          ],
          "heatmap": [
           {
            "colorbar": {
             "outlinewidth": 0,
             "ticks": ""
            },
            "colorscale": [
             [
              0,
              "#0d0887"
             ],
             [
              0.1111111111111111,
              "#46039f"
             ],
             [
              0.2222222222222222,
              "#7201a8"
             ],
             [
              0.3333333333333333,
              "#9c179e"
             ],
             [
              0.4444444444444444,
              "#bd3786"
             ],
             [
              0.5555555555555556,
              "#d8576b"
             ],
             [
              0.6666666666666666,
              "#ed7953"
             ],
             [
              0.7777777777777778,
              "#fb9f3a"
             ],
             [
              0.8888888888888888,
              "#fdca26"
             ],
             [
              1,
              "#f0f921"
             ]
            ],
            "type": "heatmap"
           }
          ],
          "heatmapgl": [
           {
            "colorbar": {
             "outlinewidth": 0,
             "ticks": ""
            },
            "colorscale": [
             [
              0,
              "#0d0887"
             ],
             [
              0.1111111111111111,
              "#46039f"
             ],
             [
              0.2222222222222222,
              "#7201a8"
             ],
             [
              0.3333333333333333,
              "#9c179e"
             ],
             [
              0.4444444444444444,
              "#bd3786"
             ],
             [
              0.5555555555555556,
              "#d8576b"
             ],
             [
              0.6666666666666666,
              "#ed7953"
             ],
             [
              0.7777777777777778,
              "#fb9f3a"
             ],
             [
              0.8888888888888888,
              "#fdca26"
             ],
             [
              1,
              "#f0f921"
             ]
            ],
            "type": "heatmapgl"
           }
          ],
          "histogram": [
           {
            "marker": {
             "pattern": {
              "fillmode": "overlay",
              "size": 10,
              "solidity": 0.2
             }
            },
            "type": "histogram"
           }
          ],
          "histogram2d": [
           {
            "colorbar": {
             "outlinewidth": 0,
             "ticks": ""
            },
            "colorscale": [
             [
              0,
              "#0d0887"
             ],
             [
              0.1111111111111111,
              "#46039f"
             ],
             [
              0.2222222222222222,
              "#7201a8"
             ],
             [
              0.3333333333333333,
              "#9c179e"
             ],
             [
              0.4444444444444444,
              "#bd3786"
             ],
             [
              0.5555555555555556,
              "#d8576b"
             ],
             [
              0.6666666666666666,
              "#ed7953"
             ],
             [
              0.7777777777777778,
              "#fb9f3a"
             ],
             [
              0.8888888888888888,
              "#fdca26"
             ],
             [
              1,
              "#f0f921"
             ]
            ],
            "type": "histogram2d"
           }
          ],
          "histogram2dcontour": [
           {
            "colorbar": {
             "outlinewidth": 0,
             "ticks": ""
            },
            "colorscale": [
             [
              0,
              "#0d0887"
             ],
             [
              0.1111111111111111,
              "#46039f"
             ],
             [
              0.2222222222222222,
              "#7201a8"
             ],
             [
              0.3333333333333333,
              "#9c179e"
             ],
             [
              0.4444444444444444,
              "#bd3786"
             ],
             [
              0.5555555555555556,
              "#d8576b"
             ],
             [
              0.6666666666666666,
              "#ed7953"
             ],
             [
              0.7777777777777778,
              "#fb9f3a"
             ],
             [
              0.8888888888888888,
              "#fdca26"
             ],
             [
              1,
              "#f0f921"
             ]
            ],
            "type": "histogram2dcontour"
           }
          ],
          "mesh3d": [
           {
            "colorbar": {
             "outlinewidth": 0,
             "ticks": ""
            },
            "type": "mesh3d"
           }
          ],
          "parcoords": [
           {
            "line": {
             "colorbar": {
              "outlinewidth": 0,
              "ticks": ""
             }
            },
            "type": "parcoords"
           }
          ],
          "pie": [
           {
            "automargin": true,
            "type": "pie"
           }
          ],
          "scatter": [
           {
            "fillpattern": {
             "fillmode": "overlay",
             "size": 10,
             "solidity": 0.2
            },
            "type": "scatter"
           }
          ],
          "scatter3d": [
           {
            "line": {
             "colorbar": {
              "outlinewidth": 0,
              "ticks": ""
             }
            },
            "marker": {
             "colorbar": {
              "outlinewidth": 0,
              "ticks": ""
             }
            },
            "type": "scatter3d"
           }
          ],
          "scattercarpet": [
           {
            "marker": {
             "colorbar": {
              "outlinewidth": 0,
              "ticks": ""
             }
            },
            "type": "scattercarpet"
           }
          ],
          "scattergeo": [
           {
            "marker": {
             "colorbar": {
              "outlinewidth": 0,
              "ticks": ""
             }
            },
            "type": "scattergeo"
           }
          ],
          "scattergl": [
           {
            "marker": {
             "colorbar": {
              "outlinewidth": 0,
              "ticks": ""
             }
            },
            "type": "scattergl"
           }
          ],
          "scattermapbox": [
           {
            "marker": {
             "colorbar": {
              "outlinewidth": 0,
              "ticks": ""
             }
            },
            "type": "scattermapbox"
           }
          ],
          "scatterpolar": [
           {
            "marker": {
             "colorbar": {
              "outlinewidth": 0,
              "ticks": ""
             }
            },
            "type": "scatterpolar"
           }
          ],
          "scatterpolargl": [
           {
            "marker": {
             "colorbar": {
              "outlinewidth": 0,
              "ticks": ""
             }
            },
            "type": "scatterpolargl"
           }
          ],
          "scatterternary": [
           {
            "marker": {
             "colorbar": {
              "outlinewidth": 0,
              "ticks": ""
             }
            },
            "type": "scatterternary"
           }
          ],
          "surface": [
           {
            "colorbar": {
             "outlinewidth": 0,
             "ticks": ""
            },
            "colorscale": [
             [
              0,
              "#0d0887"
             ],
             [
              0.1111111111111111,
              "#46039f"
             ],
             [
              0.2222222222222222,
              "#7201a8"
             ],
             [
              0.3333333333333333,
              "#9c179e"
             ],
             [
              0.4444444444444444,
              "#bd3786"
             ],
             [
              0.5555555555555556,
              "#d8576b"
             ],
             [
              0.6666666666666666,
              "#ed7953"
             ],
             [
              0.7777777777777778,
              "#fb9f3a"
             ],
             [
              0.8888888888888888,
              "#fdca26"
             ],
             [
              1,
              "#f0f921"
             ]
            ],
            "type": "surface"
           }
          ],
          "table": [
           {
            "cells": {
             "fill": {
              "color": "#EBF0F8"
             },
             "line": {
              "color": "white"
             }
            },
            "header": {
             "fill": {
              "color": "#C8D4E3"
             },
             "line": {
              "color": "white"
             }
            },
            "type": "table"
           }
          ]
         },
         "layout": {
          "annotationdefaults": {
           "arrowcolor": "#2a3f5f",
           "arrowhead": 0,
           "arrowwidth": 1
          },
          "autotypenumbers": "strict",
          "coloraxis": {
           "colorbar": {
            "outlinewidth": 0,
            "ticks": ""
           }
          },
          "colorscale": {
           "diverging": [
            [
             0,
             "#8e0152"
            ],
            [
             0.1,
             "#c51b7d"
            ],
            [
             0.2,
             "#de77ae"
            ],
            [
             0.3,
             "#f1b6da"
            ],
            [
             0.4,
             "#fde0ef"
            ],
            [
             0.5,
             "#f7f7f7"
            ],
            [
             0.6,
             "#e6f5d0"
            ],
            [
             0.7,
             "#b8e186"
            ],
            [
             0.8,
             "#7fbc41"
            ],
            [
             0.9,
             "#4d9221"
            ],
            [
             1,
             "#276419"
            ]
           ],
           "sequential": [
            [
             0,
             "#0d0887"
            ],
            [
             0.1111111111111111,
             "#46039f"
            ],
            [
             0.2222222222222222,
             "#7201a8"
            ],
            [
             0.3333333333333333,
             "#9c179e"
            ],
            [
             0.4444444444444444,
             "#bd3786"
            ],
            [
             0.5555555555555556,
             "#d8576b"
            ],
            [
             0.6666666666666666,
             "#ed7953"
            ],
            [
             0.7777777777777778,
             "#fb9f3a"
            ],
            [
             0.8888888888888888,
             "#fdca26"
            ],
            [
             1,
             "#f0f921"
            ]
           ],
           "sequentialminus": [
            [
             0,
             "#0d0887"
            ],
            [
             0.1111111111111111,
             "#46039f"
            ],
            [
             0.2222222222222222,
             "#7201a8"
            ],
            [
             0.3333333333333333,
             "#9c179e"
            ],
            [
             0.4444444444444444,
             "#bd3786"
            ],
            [
             0.5555555555555556,
             "#d8576b"
            ],
            [
             0.6666666666666666,
             "#ed7953"
            ],
            [
             0.7777777777777778,
             "#fb9f3a"
            ],
            [
             0.8888888888888888,
             "#fdca26"
            ],
            [
             1,
             "#f0f921"
            ]
           ]
          },
          "colorway": [
           "#636efa",
           "#EF553B",
           "#00cc96",
           "#ab63fa",
           "#FFA15A",
           "#19d3f3",
           "#FF6692",
           "#B6E880",
           "#FF97FF",
           "#FECB52"
          ],
          "font": {
           "color": "#2a3f5f"
          },
          "geo": {
           "bgcolor": "white",
           "lakecolor": "white",
           "landcolor": "#E5ECF6",
           "showlakes": true,
           "showland": true,
           "subunitcolor": "white"
          },
          "hoverlabel": {
           "align": "left"
          },
          "hovermode": "closest",
          "mapbox": {
           "style": "light"
          },
          "paper_bgcolor": "white",
          "plot_bgcolor": "#E5ECF6",
          "polar": {
           "angularaxis": {
            "gridcolor": "white",
            "linecolor": "white",
            "ticks": ""
           },
           "bgcolor": "#E5ECF6",
           "radialaxis": {
            "gridcolor": "white",
            "linecolor": "white",
            "ticks": ""
           }
          },
          "scene": {
           "xaxis": {
            "backgroundcolor": "#E5ECF6",
            "gridcolor": "white",
            "gridwidth": 2,
            "linecolor": "white",
            "showbackground": true,
            "ticks": "",
            "zerolinecolor": "white"
           },
           "yaxis": {
            "backgroundcolor": "#E5ECF6",
            "gridcolor": "white",
            "gridwidth": 2,
            "linecolor": "white",
            "showbackground": true,
            "ticks": "",
            "zerolinecolor": "white"
           },
           "zaxis": {
            "backgroundcolor": "#E5ECF6",
            "gridcolor": "white",
            "gridwidth": 2,
            "linecolor": "white",
            "showbackground": true,
            "ticks": "",
            "zerolinecolor": "white"
           }
          },
          "shapedefaults": {
           "line": {
            "color": "#2a3f5f"
           }
          },
          "ternary": {
           "aaxis": {
            "gridcolor": "white",
            "linecolor": "white",
            "ticks": ""
           },
           "baxis": {
            "gridcolor": "white",
            "linecolor": "white",
            "ticks": ""
           },
           "bgcolor": "#E5ECF6",
           "caxis": {
            "gridcolor": "white",
            "linecolor": "white",
            "ticks": ""
           }
          },
          "title": {
           "x": 0.05
          },
          "xaxis": {
           "automargin": true,
           "gridcolor": "white",
           "linecolor": "white",
           "ticks": "",
           "title": {
            "standoff": 15
           },
           "zerolinecolor": "white",
           "zerolinewidth": 2
          },
          "yaxis": {
           "automargin": true,
           "gridcolor": "white",
           "linecolor": "white",
           "ticks": "",
           "title": {
            "standoff": 15
           },
           "zerolinecolor": "white",
           "zerolinewidth": 2
          }
         }
        },
        "title": {
         "font": {
          "color": "#4D5663"
         },
         "text": "Top 20 Bigram Words"
        },
        "xaxis": {
         "gridcolor": "#E1E5ED",
         "showgrid": true,
         "tickfont": {
          "color": "#4D5663"
         },
         "title": {
          "font": {
           "color": "#4D5663"
          },
          "text": "Bigram"
         },
         "zerolinecolor": "#E1E5ED"
        },
        "yaxis": {
         "gridcolor": "#E1E5ED",
         "showgrid": true,
         "tickfont": {
          "color": "#4D5663"
         },
         "title": {
          "font": {
           "color": "#4D5663"
          },
          "text": "Frequency"
         },
         "zerolinecolor": "#E1E5ED"
        }
       }
      },
      "text/html": [
       "<div>                            <div id=\"50b837ab-e62f-41c1-83e5-045672872e09\" class=\"plotly-graph-div\" style=\"height:525px; width:100%;\"></div>            <script type=\"text/javascript\">                require([\"plotly\"], function(Plotly) {                    window.PLOTLYENV=window.PLOTLYENV || {};\n",
       "                    window.PLOTLYENV.BASE_URL='https://plot.ly';                                    if (document.getElementById(\"50b837ab-e62f-41c1-83e5-045672872e09\")) {                    Plotly.newPlot(                        \"50b837ab-e62f-41c1-83e5-045672872e09\",                        [{\"marker\":{\"color\":\"rgba(255, 153, 51, 0.6)\",\"line\":{\"color\":\"rgba(255, 153, 51, 1.0)\",\"width\":1}},\"name\":\"Frequency\",\"orientation\":\"v\",\"text\":\"\",\"x\":[\"rt mention\",\"it is\",\"the weather\",\"in the\",\"weather is\",\"0f feels\",\"on the\",\"to be\",\"severe thunderstorm\",\"feels 29\",\"this weather\",\"the storm\",\"for the\",\"the sunshine\",\"thunderstorm warning\",\"to the\",\"going to\",\"of the\",\"mention mention\",\"weather in\"],\"y\":[87,83,64,42,39,38,25,25,23,22,21,21,20,17,17,16,15,15,14,13],\"type\":\"bar\"}],                        {\"legend\":{\"bgcolor\":\"#F5F6F9\",\"font\":{\"color\":\"#4D5663\"}},\"paper_bgcolor\":\"#F5F6F9\",\"plot_bgcolor\":\"#F5F6F9\",\"template\":{\"data\":{\"barpolar\":[{\"marker\":{\"line\":{\"color\":\"#E5ECF6\",\"width\":0.5},\"pattern\":{\"fillmode\":\"overlay\",\"size\":10,\"solidity\":0.2}},\"type\":\"barpolar\"}],\"bar\":[{\"error_x\":{\"color\":\"#2a3f5f\"},\"error_y\":{\"color\":\"#2a3f5f\"},\"marker\":{\"line\":{\"color\":\"#E5ECF6\",\"width\":0.5},\"pattern\":{\"fillmode\":\"overlay\",\"size\":10,\"solidity\":0.2}},\"type\":\"bar\"}],\"carpet\":[{\"aaxis\":{\"endlinecolor\":\"#2a3f5f\",\"gridcolor\":\"white\",\"linecolor\":\"white\",\"minorgridcolor\":\"white\",\"startlinecolor\":\"#2a3f5f\"},\"baxis\":{\"endlinecolor\":\"#2a3f5f\",\"gridcolor\":\"white\",\"linecolor\":\"white\",\"minorgridcolor\":\"white\",\"startlinecolor\":\"#2a3f5f\"},\"type\":\"carpet\"}],\"choropleth\":[{\"colorbar\":{\"outlinewidth\":0,\"ticks\":\"\"},\"type\":\"choropleth\"}],\"contourcarpet\":[{\"colorbar\":{\"outlinewidth\":0,\"ticks\":\"\"},\"type\":\"contourcarpet\"}],\"contour\":[{\"colorbar\":{\"outlinewidth\":0,\"ticks\":\"\"},\"colorscale\":[[0.0,\"#0d0887\"],[0.1111111111111111,\"#46039f\"],[0.2222222222222222,\"#7201a8\"],[0.3333333333333333,\"#9c179e\"],[0.4444444444444444,\"#bd3786\"],[0.5555555555555556,\"#d8576b\"],[0.6666666666666666,\"#ed7953\"],[0.7777777777777778,\"#fb9f3a\"],[0.8888888888888888,\"#fdca26\"],[1.0,\"#f0f921\"]],\"type\":\"contour\"}],\"heatmapgl\":[{\"colorbar\":{\"outlinewidth\":0,\"ticks\":\"\"},\"colorscale\":[[0.0,\"#0d0887\"],[0.1111111111111111,\"#46039f\"],[0.2222222222222222,\"#7201a8\"],[0.3333333333333333,\"#9c179e\"],[0.4444444444444444,\"#bd3786\"],[0.5555555555555556,\"#d8576b\"],[0.6666666666666666,\"#ed7953\"],[0.7777777777777778,\"#fb9f3a\"],[0.8888888888888888,\"#fdca26\"],[1.0,\"#f0f921\"]],\"type\":\"heatmapgl\"}],\"heatmap\":[{\"colorbar\":{\"outlinewidth\":0,\"ticks\":\"\"},\"colorscale\":[[0.0,\"#0d0887\"],[0.1111111111111111,\"#46039f\"],[0.2222222222222222,\"#7201a8\"],[0.3333333333333333,\"#9c179e\"],[0.4444444444444444,\"#bd3786\"],[0.5555555555555556,\"#d8576b\"],[0.6666666666666666,\"#ed7953\"],[0.7777777777777778,\"#fb9f3a\"],[0.8888888888888888,\"#fdca26\"],[1.0,\"#f0f921\"]],\"type\":\"heatmap\"}],\"histogram2dcontour\":[{\"colorbar\":{\"outlinewidth\":0,\"ticks\":\"\"},\"colorscale\":[[0.0,\"#0d0887\"],[0.1111111111111111,\"#46039f\"],[0.2222222222222222,\"#7201a8\"],[0.3333333333333333,\"#9c179e\"],[0.4444444444444444,\"#bd3786\"],[0.5555555555555556,\"#d8576b\"],[0.6666666666666666,\"#ed7953\"],[0.7777777777777778,\"#fb9f3a\"],[0.8888888888888888,\"#fdca26\"],[1.0,\"#f0f921\"]],\"type\":\"histogram2dcontour\"}],\"histogram2d\":[{\"colorbar\":{\"outlinewidth\":0,\"ticks\":\"\"},\"colorscale\":[[0.0,\"#0d0887\"],[0.1111111111111111,\"#46039f\"],[0.2222222222222222,\"#7201a8\"],[0.3333333333333333,\"#9c179e\"],[0.4444444444444444,\"#bd3786\"],[0.5555555555555556,\"#d8576b\"],[0.6666666666666666,\"#ed7953\"],[0.7777777777777778,\"#fb9f3a\"],[0.8888888888888888,\"#fdca26\"],[1.0,\"#f0f921\"]],\"type\":\"histogram2d\"}],\"histogram\":[{\"marker\":{\"pattern\":{\"fillmode\":\"overlay\",\"size\":10,\"solidity\":0.2}},\"type\":\"histogram\"}],\"mesh3d\":[{\"colorbar\":{\"outlinewidth\":0,\"ticks\":\"\"},\"type\":\"mesh3d\"}],\"parcoords\":[{\"line\":{\"colorbar\":{\"outlinewidth\":0,\"ticks\":\"\"}},\"type\":\"parcoords\"}],\"pie\":[{\"automargin\":true,\"type\":\"pie\"}],\"scatter3d\":[{\"line\":{\"colorbar\":{\"outlinewidth\":0,\"ticks\":\"\"}},\"marker\":{\"colorbar\":{\"outlinewidth\":0,\"ticks\":\"\"}},\"type\":\"scatter3d\"}],\"scattercarpet\":[{\"marker\":{\"colorbar\":{\"outlinewidth\":0,\"ticks\":\"\"}},\"type\":\"scattercarpet\"}],\"scattergeo\":[{\"marker\":{\"colorbar\":{\"outlinewidth\":0,\"ticks\":\"\"}},\"type\":\"scattergeo\"}],\"scattergl\":[{\"marker\":{\"colorbar\":{\"outlinewidth\":0,\"ticks\":\"\"}},\"type\":\"scattergl\"}],\"scattermapbox\":[{\"marker\":{\"colorbar\":{\"outlinewidth\":0,\"ticks\":\"\"}},\"type\":\"scattermapbox\"}],\"scatterpolargl\":[{\"marker\":{\"colorbar\":{\"outlinewidth\":0,\"ticks\":\"\"}},\"type\":\"scatterpolargl\"}],\"scatterpolar\":[{\"marker\":{\"colorbar\":{\"outlinewidth\":0,\"ticks\":\"\"}},\"type\":\"scatterpolar\"}],\"scatter\":[{\"fillpattern\":{\"fillmode\":\"overlay\",\"size\":10,\"solidity\":0.2},\"type\":\"scatter\"}],\"scatterternary\":[{\"marker\":{\"colorbar\":{\"outlinewidth\":0,\"ticks\":\"\"}},\"type\":\"scatterternary\"}],\"surface\":[{\"colorbar\":{\"outlinewidth\":0,\"ticks\":\"\"},\"colorscale\":[[0.0,\"#0d0887\"],[0.1111111111111111,\"#46039f\"],[0.2222222222222222,\"#7201a8\"],[0.3333333333333333,\"#9c179e\"],[0.4444444444444444,\"#bd3786\"],[0.5555555555555556,\"#d8576b\"],[0.6666666666666666,\"#ed7953\"],[0.7777777777777778,\"#fb9f3a\"],[0.8888888888888888,\"#fdca26\"],[1.0,\"#f0f921\"]],\"type\":\"surface\"}],\"table\":[{\"cells\":{\"fill\":{\"color\":\"#EBF0F8\"},\"line\":{\"color\":\"white\"}},\"header\":{\"fill\":{\"color\":\"#C8D4E3\"},\"line\":{\"color\":\"white\"}},\"type\":\"table\"}]},\"layout\":{\"annotationdefaults\":{\"arrowcolor\":\"#2a3f5f\",\"arrowhead\":0,\"arrowwidth\":1},\"autotypenumbers\":\"strict\",\"coloraxis\":{\"colorbar\":{\"outlinewidth\":0,\"ticks\":\"\"}},\"colorscale\":{\"diverging\":[[0,\"#8e0152\"],[0.1,\"#c51b7d\"],[0.2,\"#de77ae\"],[0.3,\"#f1b6da\"],[0.4,\"#fde0ef\"],[0.5,\"#f7f7f7\"],[0.6,\"#e6f5d0\"],[0.7,\"#b8e186\"],[0.8,\"#7fbc41\"],[0.9,\"#4d9221\"],[1,\"#276419\"]],\"sequential\":[[0.0,\"#0d0887\"],[0.1111111111111111,\"#46039f\"],[0.2222222222222222,\"#7201a8\"],[0.3333333333333333,\"#9c179e\"],[0.4444444444444444,\"#bd3786\"],[0.5555555555555556,\"#d8576b\"],[0.6666666666666666,\"#ed7953\"],[0.7777777777777778,\"#fb9f3a\"],[0.8888888888888888,\"#fdca26\"],[1.0,\"#f0f921\"]],\"sequentialminus\":[[0.0,\"#0d0887\"],[0.1111111111111111,\"#46039f\"],[0.2222222222222222,\"#7201a8\"],[0.3333333333333333,\"#9c179e\"],[0.4444444444444444,\"#bd3786\"],[0.5555555555555556,\"#d8576b\"],[0.6666666666666666,\"#ed7953\"],[0.7777777777777778,\"#fb9f3a\"],[0.8888888888888888,\"#fdca26\"],[1.0,\"#f0f921\"]]},\"colorway\":[\"#636efa\",\"#EF553B\",\"#00cc96\",\"#ab63fa\",\"#FFA15A\",\"#19d3f3\",\"#FF6692\",\"#B6E880\",\"#FF97FF\",\"#FECB52\"],\"font\":{\"color\":\"#2a3f5f\"},\"geo\":{\"bgcolor\":\"white\",\"lakecolor\":\"white\",\"landcolor\":\"#E5ECF6\",\"showlakes\":true,\"showland\":true,\"subunitcolor\":\"white\"},\"hoverlabel\":{\"align\":\"left\"},\"hovermode\":\"closest\",\"mapbox\":{\"style\":\"light\"},\"paper_bgcolor\":\"white\",\"plot_bgcolor\":\"#E5ECF6\",\"polar\":{\"angularaxis\":{\"gridcolor\":\"white\",\"linecolor\":\"white\",\"ticks\":\"\"},\"bgcolor\":\"#E5ECF6\",\"radialaxis\":{\"gridcolor\":\"white\",\"linecolor\":\"white\",\"ticks\":\"\"}},\"scene\":{\"xaxis\":{\"backgroundcolor\":\"#E5ECF6\",\"gridcolor\":\"white\",\"gridwidth\":2,\"linecolor\":\"white\",\"showbackground\":true,\"ticks\":\"\",\"zerolinecolor\":\"white\"},\"yaxis\":{\"backgroundcolor\":\"#E5ECF6\",\"gridcolor\":\"white\",\"gridwidth\":2,\"linecolor\":\"white\",\"showbackground\":true,\"ticks\":\"\",\"zerolinecolor\":\"white\"},\"zaxis\":{\"backgroundcolor\":\"#E5ECF6\",\"gridcolor\":\"white\",\"gridwidth\":2,\"linecolor\":\"white\",\"showbackground\":true,\"ticks\":\"\",\"zerolinecolor\":\"white\"}},\"shapedefaults\":{\"line\":{\"color\":\"#2a3f5f\"}},\"ternary\":{\"aaxis\":{\"gridcolor\":\"white\",\"linecolor\":\"white\",\"ticks\":\"\"},\"baxis\":{\"gridcolor\":\"white\",\"linecolor\":\"white\",\"ticks\":\"\"},\"bgcolor\":\"#E5ECF6\",\"caxis\":{\"gridcolor\":\"white\",\"linecolor\":\"white\",\"ticks\":\"\"}},\"title\":{\"x\":0.05},\"xaxis\":{\"automargin\":true,\"gridcolor\":\"white\",\"linecolor\":\"white\",\"ticks\":\"\",\"title\":{\"standoff\":15},\"zerolinecolor\":\"white\",\"zerolinewidth\":2},\"yaxis\":{\"automargin\":true,\"gridcolor\":\"white\",\"linecolor\":\"white\",\"ticks\":\"\",\"title\":{\"standoff\":15},\"zerolinecolor\":\"white\",\"zerolinewidth\":2}}},\"title\":{\"font\":{\"color\":\"#4D5663\"},\"text\":\"Top 20 Bigram Words\"},\"xaxis\":{\"gridcolor\":\"#E1E5ED\",\"showgrid\":true,\"tickfont\":{\"color\":\"#4D5663\"},\"title\":{\"font\":{\"color\":\"#4D5663\"},\"text\":\"Bigram\"},\"zerolinecolor\":\"#E1E5ED\"},\"yaxis\":{\"gridcolor\":\"#E1E5ED\",\"showgrid\":true,\"tickfont\":{\"color\":\"#4D5663\"},\"title\":{\"font\":{\"color\":\"#4D5663\"},\"text\":\"Frequency\"},\"zerolinecolor\":\"#E1E5ED\"}},                        {\"showLink\": true, \"linkText\": \"Export to plot.ly\", \"plotlyServerURL\": \"https://plot.ly\", \"responsive\": true}                    ).then(function(){\n",
       "                            \n",
       "var gd = document.getElementById('50b837ab-e62f-41c1-83e5-045672872e09');\n",
       "var x = new MutationObserver(function (mutations, observer) {{\n",
       "        var display = window.getComputedStyle(gd).display;\n",
       "        if (!display || display === 'none') {{\n",
       "            console.log([gd, 'removed!']);\n",
       "            Plotly.purge(gd);\n",
       "            observer.disconnect();\n",
       "        }}\n",
       "}});\n",
       "\n",
       "// Listen for the removal of the full notebook cells\n",
       "var notebookContainer = gd.closest('#notebook-container');\n",
       "if (notebookContainer) {{\n",
       "    x.observe(notebookContainer, {childList: true});\n",
       "}}\n",
       "\n",
       "// Listen for the clearing of the current output cell\n",
       "var outputEl = gd.closest('.output');\n",
       "if (outputEl) {{\n",
       "    x.observe(outputEl, {childList: true});\n",
       "}}\n",
       "\n",
       "                        })                };                });            </script>        </div>"
      ]
     },
     "metadata": {},
     "output_type": "display_data"
    }
   ],
   "source": [
    "words = get_top_n_words(df['text'], 20)\n",
    "dfBi = pd.DataFrame(words, columns = ['Bigram','Frequency'])\n",
    "dfBi = dfBi.set_index('Bigram')\n",
    "dfBi.iplot(kind = 'bar', xTitle='Bigram', yTitle='Frequency', title = 'Top 20 Bigram Words')"
   ]
  },
  {
   "cell_type": "markdown",
   "metadata": {},
   "source": [
    "##### Trigrams"
   ]
  },
  {
   "cell_type": "code",
   "execution_count": 39,
   "metadata": {},
   "outputs": [],
   "source": [
    "def get_top_n_words(x, n):\n",
    "    vec = CountVectorizer(ngram_range=(3,3)).fit(x)\n",
    "    bow = vec.transform(x)\n",
    "    sum_words = bow.sum(axis = 0)\n",
    "    word_freq = [(word, sum_words[0, idx]) for word, idx in vec.vocabulary_.items()]\n",
    "    word_freq = sorted(word_freq, key = lambda x: x[1], reverse = True)\n",
    "    return word_freq[:n]"
   ]
  },
  {
   "cell_type": "code",
   "execution_count": 40,
   "metadata": {},
   "outputs": [
    {
     "data": {
      "application/vnd.plotly.v1+json": {
       "config": {
        "linkText": "Export to plot.ly",
        "plotlyServerURL": "https://plot.ly",
        "showLink": true
       },
       "data": [
        {
         "marker": {
          "color": "rgba(255, 153, 51, 0.6)",
          "line": {
           "color": "rgba(255, 153, 51, 1.0)",
           "width": 1
          }
         },
         "name": "Frequency",
         "orientation": "v",
         "text": "",
         "type": "bar",
         "x": [
          "0f feels 29",
          "the weather is",
          "severe thunderstorm warning",
          "thunderstorm warning for",
          "it is sunny",
          "mention it is",
          "weather 53 pm",
          "it is hot",
          "cdt expiring may",
          "cdt by nws",
          "feels 29 96",
          "29 96 humidity",
          "is going to",
          "is the weather",
          "and it is",
          "67 0f feels",
          "it is so",
          "0f feels 30",
          "and the weather",
          "may 19 at"
         ],
         "y": [
          22,
          17,
          17,
          11,
          8,
          8,
          7,
          6,
          5,
          5,
          5,
          5,
          5,
          5,
          5,
          5,
          5,
          5,
          4,
          4
         ]
        }
       ],
       "layout": {
        "legend": {
         "bgcolor": "#F5F6F9",
         "font": {
          "color": "#4D5663"
         }
        },
        "paper_bgcolor": "#F5F6F9",
        "plot_bgcolor": "#F5F6F9",
        "template": {
         "data": {
          "bar": [
           {
            "error_x": {
             "color": "#2a3f5f"
            },
            "error_y": {
             "color": "#2a3f5f"
            },
            "marker": {
             "line": {
              "color": "#E5ECF6",
              "width": 0.5
             },
             "pattern": {
              "fillmode": "overlay",
              "size": 10,
              "solidity": 0.2
             }
            },
            "type": "bar"
           }
          ],
          "barpolar": [
           {
            "marker": {
             "line": {
              "color": "#E5ECF6",
              "width": 0.5
             },
             "pattern": {
              "fillmode": "overlay",
              "size": 10,
              "solidity": 0.2
             }
            },
            "type": "barpolar"
           }
          ],
          "carpet": [
           {
            "aaxis": {
             "endlinecolor": "#2a3f5f",
             "gridcolor": "white",
             "linecolor": "white",
             "minorgridcolor": "white",
             "startlinecolor": "#2a3f5f"
            },
            "baxis": {
             "endlinecolor": "#2a3f5f",
             "gridcolor": "white",
             "linecolor": "white",
             "minorgridcolor": "white",
             "startlinecolor": "#2a3f5f"
            },
            "type": "carpet"
           }
          ],
          "choropleth": [
           {
            "colorbar": {
             "outlinewidth": 0,
             "ticks": ""
            },
            "type": "choropleth"
           }
          ],
          "contour": [
           {
            "colorbar": {
             "outlinewidth": 0,
             "ticks": ""
            },
            "colorscale": [
             [
              0,
              "#0d0887"
             ],
             [
              0.1111111111111111,
              "#46039f"
             ],
             [
              0.2222222222222222,
              "#7201a8"
             ],
             [
              0.3333333333333333,
              "#9c179e"
             ],
             [
              0.4444444444444444,
              "#bd3786"
             ],
             [
              0.5555555555555556,
              "#d8576b"
             ],
             [
              0.6666666666666666,
              "#ed7953"
             ],
             [
              0.7777777777777778,
              "#fb9f3a"
             ],
             [
              0.8888888888888888,
              "#fdca26"
             ],
             [
              1,
              "#f0f921"
             ]
            ],
            "type": "contour"
           }
          ],
          "contourcarpet": [
           {
            "colorbar": {
             "outlinewidth": 0,
             "ticks": ""
            },
            "type": "contourcarpet"
           }
          ],
          "heatmap": [
           {
            "colorbar": {
             "outlinewidth": 0,
             "ticks": ""
            },
            "colorscale": [
             [
              0,
              "#0d0887"
             ],
             [
              0.1111111111111111,
              "#46039f"
             ],
             [
              0.2222222222222222,
              "#7201a8"
             ],
             [
              0.3333333333333333,
              "#9c179e"
             ],
             [
              0.4444444444444444,
              "#bd3786"
             ],
             [
              0.5555555555555556,
              "#d8576b"
             ],
             [
              0.6666666666666666,
              "#ed7953"
             ],
             [
              0.7777777777777778,
              "#fb9f3a"
             ],
             [
              0.8888888888888888,
              "#fdca26"
             ],
             [
              1,
              "#f0f921"
             ]
            ],
            "type": "heatmap"
           }
          ],
          "heatmapgl": [
           {
            "colorbar": {
             "outlinewidth": 0,
             "ticks": ""
            },
            "colorscale": [
             [
              0,
              "#0d0887"
             ],
             [
              0.1111111111111111,
              "#46039f"
             ],
             [
              0.2222222222222222,
              "#7201a8"
             ],
             [
              0.3333333333333333,
              "#9c179e"
             ],
             [
              0.4444444444444444,
              "#bd3786"
             ],
             [
              0.5555555555555556,
              "#d8576b"
             ],
             [
              0.6666666666666666,
              "#ed7953"
             ],
             [
              0.7777777777777778,
              "#fb9f3a"
             ],
             [
              0.8888888888888888,
              "#fdca26"
             ],
             [
              1,
              "#f0f921"
             ]
            ],
            "type": "heatmapgl"
           }
          ],
          "histogram": [
           {
            "marker": {
             "pattern": {
              "fillmode": "overlay",
              "size": 10,
              "solidity": 0.2
             }
            },
            "type": "histogram"
           }
          ],
          "histogram2d": [
           {
            "colorbar": {
             "outlinewidth": 0,
             "ticks": ""
            },
            "colorscale": [
             [
              0,
              "#0d0887"
             ],
             [
              0.1111111111111111,
              "#46039f"
             ],
             [
              0.2222222222222222,
              "#7201a8"
             ],
             [
              0.3333333333333333,
              "#9c179e"
             ],
             [
              0.4444444444444444,
              "#bd3786"
             ],
             [
              0.5555555555555556,
              "#d8576b"
             ],
             [
              0.6666666666666666,
              "#ed7953"
             ],
             [
              0.7777777777777778,
              "#fb9f3a"
             ],
             [
              0.8888888888888888,
              "#fdca26"
             ],
             [
              1,
              "#f0f921"
             ]
            ],
            "type": "histogram2d"
           }
          ],
          "histogram2dcontour": [
           {
            "colorbar": {
             "outlinewidth": 0,
             "ticks": ""
            },
            "colorscale": [
             [
              0,
              "#0d0887"
             ],
             [
              0.1111111111111111,
              "#46039f"
             ],
             [
              0.2222222222222222,
              "#7201a8"
             ],
             [
              0.3333333333333333,
              "#9c179e"
             ],
             [
              0.4444444444444444,
              "#bd3786"
             ],
             [
              0.5555555555555556,
              "#d8576b"
             ],
             [
              0.6666666666666666,
              "#ed7953"
             ],
             [
              0.7777777777777778,
              "#fb9f3a"
             ],
             [
              0.8888888888888888,
              "#fdca26"
             ],
             [
              1,
              "#f0f921"
             ]
            ],
            "type": "histogram2dcontour"
           }
          ],
          "mesh3d": [
           {
            "colorbar": {
             "outlinewidth": 0,
             "ticks": ""
            },
            "type": "mesh3d"
           }
          ],
          "parcoords": [
           {
            "line": {
             "colorbar": {
              "outlinewidth": 0,
              "ticks": ""
             }
            },
            "type": "parcoords"
           }
          ],
          "pie": [
           {
            "automargin": true,
            "type": "pie"
           }
          ],
          "scatter": [
           {
            "fillpattern": {
             "fillmode": "overlay",
             "size": 10,
             "solidity": 0.2
            },
            "type": "scatter"
           }
          ],
          "scatter3d": [
           {
            "line": {
             "colorbar": {
              "outlinewidth": 0,
              "ticks": ""
             }
            },
            "marker": {
             "colorbar": {
              "outlinewidth": 0,
              "ticks": ""
             }
            },
            "type": "scatter3d"
           }
          ],
          "scattercarpet": [
           {
            "marker": {
             "colorbar": {
              "outlinewidth": 0,
              "ticks": ""
             }
            },
            "type": "scattercarpet"
           }
          ],
          "scattergeo": [
           {
            "marker": {
             "colorbar": {
              "outlinewidth": 0,
              "ticks": ""
             }
            },
            "type": "scattergeo"
           }
          ],
          "scattergl": [
           {
            "marker": {
             "colorbar": {
              "outlinewidth": 0,
              "ticks": ""
             }
            },
            "type": "scattergl"
           }
          ],
          "scattermapbox": [
           {
            "marker": {
             "colorbar": {
              "outlinewidth": 0,
              "ticks": ""
             }
            },
            "type": "scattermapbox"
           }
          ],
          "scatterpolar": [
           {
            "marker": {
             "colorbar": {
              "outlinewidth": 0,
              "ticks": ""
             }
            },
            "type": "scatterpolar"
           }
          ],
          "scatterpolargl": [
           {
            "marker": {
             "colorbar": {
              "outlinewidth": 0,
              "ticks": ""
             }
            },
            "type": "scatterpolargl"
           }
          ],
          "scatterternary": [
           {
            "marker": {
             "colorbar": {
              "outlinewidth": 0,
              "ticks": ""
             }
            },
            "type": "scatterternary"
           }
          ],
          "surface": [
           {
            "colorbar": {
             "outlinewidth": 0,
             "ticks": ""
            },
            "colorscale": [
             [
              0,
              "#0d0887"
             ],
             [
              0.1111111111111111,
              "#46039f"
             ],
             [
              0.2222222222222222,
              "#7201a8"
             ],
             [
              0.3333333333333333,
              "#9c179e"
             ],
             [
              0.4444444444444444,
              "#bd3786"
             ],
             [
              0.5555555555555556,
              "#d8576b"
             ],
             [
              0.6666666666666666,
              "#ed7953"
             ],
             [
              0.7777777777777778,
              "#fb9f3a"
             ],
             [
              0.8888888888888888,
              "#fdca26"
             ],
             [
              1,
              "#f0f921"
             ]
            ],
            "type": "surface"
           }
          ],
          "table": [
           {
            "cells": {
             "fill": {
              "color": "#EBF0F8"
             },
             "line": {
              "color": "white"
             }
            },
            "header": {
             "fill": {
              "color": "#C8D4E3"
             },
             "line": {
              "color": "white"
             }
            },
            "type": "table"
           }
          ]
         },
         "layout": {
          "annotationdefaults": {
           "arrowcolor": "#2a3f5f",
           "arrowhead": 0,
           "arrowwidth": 1
          },
          "autotypenumbers": "strict",
          "coloraxis": {
           "colorbar": {
            "outlinewidth": 0,
            "ticks": ""
           }
          },
          "colorscale": {
           "diverging": [
            [
             0,
             "#8e0152"
            ],
            [
             0.1,
             "#c51b7d"
            ],
            [
             0.2,
             "#de77ae"
            ],
            [
             0.3,
             "#f1b6da"
            ],
            [
             0.4,
             "#fde0ef"
            ],
            [
             0.5,
             "#f7f7f7"
            ],
            [
             0.6,
             "#e6f5d0"
            ],
            [
             0.7,
             "#b8e186"
            ],
            [
             0.8,
             "#7fbc41"
            ],
            [
             0.9,
             "#4d9221"
            ],
            [
             1,
             "#276419"
            ]
           ],
           "sequential": [
            [
             0,
             "#0d0887"
            ],
            [
             0.1111111111111111,
             "#46039f"
            ],
            [
             0.2222222222222222,
             "#7201a8"
            ],
            [
             0.3333333333333333,
             "#9c179e"
            ],
            [
             0.4444444444444444,
             "#bd3786"
            ],
            [
             0.5555555555555556,
             "#d8576b"
            ],
            [
             0.6666666666666666,
             "#ed7953"
            ],
            [
             0.7777777777777778,
             "#fb9f3a"
            ],
            [
             0.8888888888888888,
             "#fdca26"
            ],
            [
             1,
             "#f0f921"
            ]
           ],
           "sequentialminus": [
            [
             0,
             "#0d0887"
            ],
            [
             0.1111111111111111,
             "#46039f"
            ],
            [
             0.2222222222222222,
             "#7201a8"
            ],
            [
             0.3333333333333333,
             "#9c179e"
            ],
            [
             0.4444444444444444,
             "#bd3786"
            ],
            [
             0.5555555555555556,
             "#d8576b"
            ],
            [
             0.6666666666666666,
             "#ed7953"
            ],
            [
             0.7777777777777778,
             "#fb9f3a"
            ],
            [
             0.8888888888888888,
             "#fdca26"
            ],
            [
             1,
             "#f0f921"
            ]
           ]
          },
          "colorway": [
           "#636efa",
           "#EF553B",
           "#00cc96",
           "#ab63fa",
           "#FFA15A",
           "#19d3f3",
           "#FF6692",
           "#B6E880",
           "#FF97FF",
           "#FECB52"
          ],
          "font": {
           "color": "#2a3f5f"
          },
          "geo": {
           "bgcolor": "white",
           "lakecolor": "white",
           "landcolor": "#E5ECF6",
           "showlakes": true,
           "showland": true,
           "subunitcolor": "white"
          },
          "hoverlabel": {
           "align": "left"
          },
          "hovermode": "closest",
          "mapbox": {
           "style": "light"
          },
          "paper_bgcolor": "white",
          "plot_bgcolor": "#E5ECF6",
          "polar": {
           "angularaxis": {
            "gridcolor": "white",
            "linecolor": "white",
            "ticks": ""
           },
           "bgcolor": "#E5ECF6",
           "radialaxis": {
            "gridcolor": "white",
            "linecolor": "white",
            "ticks": ""
           }
          },
          "scene": {
           "xaxis": {
            "backgroundcolor": "#E5ECF6",
            "gridcolor": "white",
            "gridwidth": 2,
            "linecolor": "white",
            "showbackground": true,
            "ticks": "",
            "zerolinecolor": "white"
           },
           "yaxis": {
            "backgroundcolor": "#E5ECF6",
            "gridcolor": "white",
            "gridwidth": 2,
            "linecolor": "white",
            "showbackground": true,
            "ticks": "",
            "zerolinecolor": "white"
           },
           "zaxis": {
            "backgroundcolor": "#E5ECF6",
            "gridcolor": "white",
            "gridwidth": 2,
            "linecolor": "white",
            "showbackground": true,
            "ticks": "",
            "zerolinecolor": "white"
           }
          },
          "shapedefaults": {
           "line": {
            "color": "#2a3f5f"
           }
          },
          "ternary": {
           "aaxis": {
            "gridcolor": "white",
            "linecolor": "white",
            "ticks": ""
           },
           "baxis": {
            "gridcolor": "white",
            "linecolor": "white",
            "ticks": ""
           },
           "bgcolor": "#E5ECF6",
           "caxis": {
            "gridcolor": "white",
            "linecolor": "white",
            "ticks": ""
           }
          },
          "title": {
           "x": 0.05
          },
          "xaxis": {
           "automargin": true,
           "gridcolor": "white",
           "linecolor": "white",
           "ticks": "",
           "title": {
            "standoff": 15
           },
           "zerolinecolor": "white",
           "zerolinewidth": 2
          },
          "yaxis": {
           "automargin": true,
           "gridcolor": "white",
           "linecolor": "white",
           "ticks": "",
           "title": {
            "standoff": 15
           },
           "zerolinecolor": "white",
           "zerolinewidth": 2
          }
         }
        },
        "title": {
         "font": {
          "color": "#4D5663"
         },
         "text": "Top 20 Trigram Words"
        },
        "xaxis": {
         "gridcolor": "#E1E5ED",
         "showgrid": true,
         "tickfont": {
          "color": "#4D5663"
         },
         "title": {
          "font": {
           "color": "#4D5663"
          },
          "text": "Trigram"
         },
         "zerolinecolor": "#E1E5ED"
        },
        "yaxis": {
         "gridcolor": "#E1E5ED",
         "showgrid": true,
         "tickfont": {
          "color": "#4D5663"
         },
         "title": {
          "font": {
           "color": "#4D5663"
          },
          "text": "Frequency"
         },
         "zerolinecolor": "#E1E5ED"
        }
       }
      },
      "text/html": [
       "<div>                            <div id=\"1f91f3c0-ed09-4d61-ab11-cc3f954b3548\" class=\"plotly-graph-div\" style=\"height:525px; width:100%;\"></div>            <script type=\"text/javascript\">                require([\"plotly\"], function(Plotly) {                    window.PLOTLYENV=window.PLOTLYENV || {};\n",
       "                    window.PLOTLYENV.BASE_URL='https://plot.ly';                                    if (document.getElementById(\"1f91f3c0-ed09-4d61-ab11-cc3f954b3548\")) {                    Plotly.newPlot(                        \"1f91f3c0-ed09-4d61-ab11-cc3f954b3548\",                        [{\"marker\":{\"color\":\"rgba(255, 153, 51, 0.6)\",\"line\":{\"color\":\"rgba(255, 153, 51, 1.0)\",\"width\":1}},\"name\":\"Frequency\",\"orientation\":\"v\",\"text\":\"\",\"x\":[\"0f feels 29\",\"the weather is\",\"severe thunderstorm warning\",\"thunderstorm warning for\",\"it is sunny\",\"mention it is\",\"weather 53 pm\",\"it is hot\",\"cdt expiring may\",\"cdt by nws\",\"feels 29 96\",\"29 96 humidity\",\"is going to\",\"is the weather\",\"and it is\",\"67 0f feels\",\"it is so\",\"0f feels 30\",\"and the weather\",\"may 19 at\"],\"y\":[22,17,17,11,8,8,7,6,5,5,5,5,5,5,5,5,5,5,4,4],\"type\":\"bar\"}],                        {\"legend\":{\"bgcolor\":\"#F5F6F9\",\"font\":{\"color\":\"#4D5663\"}},\"paper_bgcolor\":\"#F5F6F9\",\"plot_bgcolor\":\"#F5F6F9\",\"template\":{\"data\":{\"barpolar\":[{\"marker\":{\"line\":{\"color\":\"#E5ECF6\",\"width\":0.5},\"pattern\":{\"fillmode\":\"overlay\",\"size\":10,\"solidity\":0.2}},\"type\":\"barpolar\"}],\"bar\":[{\"error_x\":{\"color\":\"#2a3f5f\"},\"error_y\":{\"color\":\"#2a3f5f\"},\"marker\":{\"line\":{\"color\":\"#E5ECF6\",\"width\":0.5},\"pattern\":{\"fillmode\":\"overlay\",\"size\":10,\"solidity\":0.2}},\"type\":\"bar\"}],\"carpet\":[{\"aaxis\":{\"endlinecolor\":\"#2a3f5f\",\"gridcolor\":\"white\",\"linecolor\":\"white\",\"minorgridcolor\":\"white\",\"startlinecolor\":\"#2a3f5f\"},\"baxis\":{\"endlinecolor\":\"#2a3f5f\",\"gridcolor\":\"white\",\"linecolor\":\"white\",\"minorgridcolor\":\"white\",\"startlinecolor\":\"#2a3f5f\"},\"type\":\"carpet\"}],\"choropleth\":[{\"colorbar\":{\"outlinewidth\":0,\"ticks\":\"\"},\"type\":\"choropleth\"}],\"contourcarpet\":[{\"colorbar\":{\"outlinewidth\":0,\"ticks\":\"\"},\"type\":\"contourcarpet\"}],\"contour\":[{\"colorbar\":{\"outlinewidth\":0,\"ticks\":\"\"},\"colorscale\":[[0.0,\"#0d0887\"],[0.1111111111111111,\"#46039f\"],[0.2222222222222222,\"#7201a8\"],[0.3333333333333333,\"#9c179e\"],[0.4444444444444444,\"#bd3786\"],[0.5555555555555556,\"#d8576b\"],[0.6666666666666666,\"#ed7953\"],[0.7777777777777778,\"#fb9f3a\"],[0.8888888888888888,\"#fdca26\"],[1.0,\"#f0f921\"]],\"type\":\"contour\"}],\"heatmapgl\":[{\"colorbar\":{\"outlinewidth\":0,\"ticks\":\"\"},\"colorscale\":[[0.0,\"#0d0887\"],[0.1111111111111111,\"#46039f\"],[0.2222222222222222,\"#7201a8\"],[0.3333333333333333,\"#9c179e\"],[0.4444444444444444,\"#bd3786\"],[0.5555555555555556,\"#d8576b\"],[0.6666666666666666,\"#ed7953\"],[0.7777777777777778,\"#fb9f3a\"],[0.8888888888888888,\"#fdca26\"],[1.0,\"#f0f921\"]],\"type\":\"heatmapgl\"}],\"heatmap\":[{\"colorbar\":{\"outlinewidth\":0,\"ticks\":\"\"},\"colorscale\":[[0.0,\"#0d0887\"],[0.1111111111111111,\"#46039f\"],[0.2222222222222222,\"#7201a8\"],[0.3333333333333333,\"#9c179e\"],[0.4444444444444444,\"#bd3786\"],[0.5555555555555556,\"#d8576b\"],[0.6666666666666666,\"#ed7953\"],[0.7777777777777778,\"#fb9f3a\"],[0.8888888888888888,\"#fdca26\"],[1.0,\"#f0f921\"]],\"type\":\"heatmap\"}],\"histogram2dcontour\":[{\"colorbar\":{\"outlinewidth\":0,\"ticks\":\"\"},\"colorscale\":[[0.0,\"#0d0887\"],[0.1111111111111111,\"#46039f\"],[0.2222222222222222,\"#7201a8\"],[0.3333333333333333,\"#9c179e\"],[0.4444444444444444,\"#bd3786\"],[0.5555555555555556,\"#d8576b\"],[0.6666666666666666,\"#ed7953\"],[0.7777777777777778,\"#fb9f3a\"],[0.8888888888888888,\"#fdca26\"],[1.0,\"#f0f921\"]],\"type\":\"histogram2dcontour\"}],\"histogram2d\":[{\"colorbar\":{\"outlinewidth\":0,\"ticks\":\"\"},\"colorscale\":[[0.0,\"#0d0887\"],[0.1111111111111111,\"#46039f\"],[0.2222222222222222,\"#7201a8\"],[0.3333333333333333,\"#9c179e\"],[0.4444444444444444,\"#bd3786\"],[0.5555555555555556,\"#d8576b\"],[0.6666666666666666,\"#ed7953\"],[0.7777777777777778,\"#fb9f3a\"],[0.8888888888888888,\"#fdca26\"],[1.0,\"#f0f921\"]],\"type\":\"histogram2d\"}],\"histogram\":[{\"marker\":{\"pattern\":{\"fillmode\":\"overlay\",\"size\":10,\"solidity\":0.2}},\"type\":\"histogram\"}],\"mesh3d\":[{\"colorbar\":{\"outlinewidth\":0,\"ticks\":\"\"},\"type\":\"mesh3d\"}],\"parcoords\":[{\"line\":{\"colorbar\":{\"outlinewidth\":0,\"ticks\":\"\"}},\"type\":\"parcoords\"}],\"pie\":[{\"automargin\":true,\"type\":\"pie\"}],\"scatter3d\":[{\"line\":{\"colorbar\":{\"outlinewidth\":0,\"ticks\":\"\"}},\"marker\":{\"colorbar\":{\"outlinewidth\":0,\"ticks\":\"\"}},\"type\":\"scatter3d\"}],\"scattercarpet\":[{\"marker\":{\"colorbar\":{\"outlinewidth\":0,\"ticks\":\"\"}},\"type\":\"scattercarpet\"}],\"scattergeo\":[{\"marker\":{\"colorbar\":{\"outlinewidth\":0,\"ticks\":\"\"}},\"type\":\"scattergeo\"}],\"scattergl\":[{\"marker\":{\"colorbar\":{\"outlinewidth\":0,\"ticks\":\"\"}},\"type\":\"scattergl\"}],\"scattermapbox\":[{\"marker\":{\"colorbar\":{\"outlinewidth\":0,\"ticks\":\"\"}},\"type\":\"scattermapbox\"}],\"scatterpolargl\":[{\"marker\":{\"colorbar\":{\"outlinewidth\":0,\"ticks\":\"\"}},\"type\":\"scatterpolargl\"}],\"scatterpolar\":[{\"marker\":{\"colorbar\":{\"outlinewidth\":0,\"ticks\":\"\"}},\"type\":\"scatterpolar\"}],\"scatter\":[{\"fillpattern\":{\"fillmode\":\"overlay\",\"size\":10,\"solidity\":0.2},\"type\":\"scatter\"}],\"scatterternary\":[{\"marker\":{\"colorbar\":{\"outlinewidth\":0,\"ticks\":\"\"}},\"type\":\"scatterternary\"}],\"surface\":[{\"colorbar\":{\"outlinewidth\":0,\"ticks\":\"\"},\"colorscale\":[[0.0,\"#0d0887\"],[0.1111111111111111,\"#46039f\"],[0.2222222222222222,\"#7201a8\"],[0.3333333333333333,\"#9c179e\"],[0.4444444444444444,\"#bd3786\"],[0.5555555555555556,\"#d8576b\"],[0.6666666666666666,\"#ed7953\"],[0.7777777777777778,\"#fb9f3a\"],[0.8888888888888888,\"#fdca26\"],[1.0,\"#f0f921\"]],\"type\":\"surface\"}],\"table\":[{\"cells\":{\"fill\":{\"color\":\"#EBF0F8\"},\"line\":{\"color\":\"white\"}},\"header\":{\"fill\":{\"color\":\"#C8D4E3\"},\"line\":{\"color\":\"white\"}},\"type\":\"table\"}]},\"layout\":{\"annotationdefaults\":{\"arrowcolor\":\"#2a3f5f\",\"arrowhead\":0,\"arrowwidth\":1},\"autotypenumbers\":\"strict\",\"coloraxis\":{\"colorbar\":{\"outlinewidth\":0,\"ticks\":\"\"}},\"colorscale\":{\"diverging\":[[0,\"#8e0152\"],[0.1,\"#c51b7d\"],[0.2,\"#de77ae\"],[0.3,\"#f1b6da\"],[0.4,\"#fde0ef\"],[0.5,\"#f7f7f7\"],[0.6,\"#e6f5d0\"],[0.7,\"#b8e186\"],[0.8,\"#7fbc41\"],[0.9,\"#4d9221\"],[1,\"#276419\"]],\"sequential\":[[0.0,\"#0d0887\"],[0.1111111111111111,\"#46039f\"],[0.2222222222222222,\"#7201a8\"],[0.3333333333333333,\"#9c179e\"],[0.4444444444444444,\"#bd3786\"],[0.5555555555555556,\"#d8576b\"],[0.6666666666666666,\"#ed7953\"],[0.7777777777777778,\"#fb9f3a\"],[0.8888888888888888,\"#fdca26\"],[1.0,\"#f0f921\"]],\"sequentialminus\":[[0.0,\"#0d0887\"],[0.1111111111111111,\"#46039f\"],[0.2222222222222222,\"#7201a8\"],[0.3333333333333333,\"#9c179e\"],[0.4444444444444444,\"#bd3786\"],[0.5555555555555556,\"#d8576b\"],[0.6666666666666666,\"#ed7953\"],[0.7777777777777778,\"#fb9f3a\"],[0.8888888888888888,\"#fdca26\"],[1.0,\"#f0f921\"]]},\"colorway\":[\"#636efa\",\"#EF553B\",\"#00cc96\",\"#ab63fa\",\"#FFA15A\",\"#19d3f3\",\"#FF6692\",\"#B6E880\",\"#FF97FF\",\"#FECB52\"],\"font\":{\"color\":\"#2a3f5f\"},\"geo\":{\"bgcolor\":\"white\",\"lakecolor\":\"white\",\"landcolor\":\"#E5ECF6\",\"showlakes\":true,\"showland\":true,\"subunitcolor\":\"white\"},\"hoverlabel\":{\"align\":\"left\"},\"hovermode\":\"closest\",\"mapbox\":{\"style\":\"light\"},\"paper_bgcolor\":\"white\",\"plot_bgcolor\":\"#E5ECF6\",\"polar\":{\"angularaxis\":{\"gridcolor\":\"white\",\"linecolor\":\"white\",\"ticks\":\"\"},\"bgcolor\":\"#E5ECF6\",\"radialaxis\":{\"gridcolor\":\"white\",\"linecolor\":\"white\",\"ticks\":\"\"}},\"scene\":{\"xaxis\":{\"backgroundcolor\":\"#E5ECF6\",\"gridcolor\":\"white\",\"gridwidth\":2,\"linecolor\":\"white\",\"showbackground\":true,\"ticks\":\"\",\"zerolinecolor\":\"white\"},\"yaxis\":{\"backgroundcolor\":\"#E5ECF6\",\"gridcolor\":\"white\",\"gridwidth\":2,\"linecolor\":\"white\",\"showbackground\":true,\"ticks\":\"\",\"zerolinecolor\":\"white\"},\"zaxis\":{\"backgroundcolor\":\"#E5ECF6\",\"gridcolor\":\"white\",\"gridwidth\":2,\"linecolor\":\"white\",\"showbackground\":true,\"ticks\":\"\",\"zerolinecolor\":\"white\"}},\"shapedefaults\":{\"line\":{\"color\":\"#2a3f5f\"}},\"ternary\":{\"aaxis\":{\"gridcolor\":\"white\",\"linecolor\":\"white\",\"ticks\":\"\"},\"baxis\":{\"gridcolor\":\"white\",\"linecolor\":\"white\",\"ticks\":\"\"},\"bgcolor\":\"#E5ECF6\",\"caxis\":{\"gridcolor\":\"white\",\"linecolor\":\"white\",\"ticks\":\"\"}},\"title\":{\"x\":0.05},\"xaxis\":{\"automargin\":true,\"gridcolor\":\"white\",\"linecolor\":\"white\",\"ticks\":\"\",\"title\":{\"standoff\":15},\"zerolinecolor\":\"white\",\"zerolinewidth\":2},\"yaxis\":{\"automargin\":true,\"gridcolor\":\"white\",\"linecolor\":\"white\",\"ticks\":\"\",\"title\":{\"standoff\":15},\"zerolinecolor\":\"white\",\"zerolinewidth\":2}}},\"title\":{\"font\":{\"color\":\"#4D5663\"},\"text\":\"Top 20 Trigram Words\"},\"xaxis\":{\"gridcolor\":\"#E1E5ED\",\"showgrid\":true,\"tickfont\":{\"color\":\"#4D5663\"},\"title\":{\"font\":{\"color\":\"#4D5663\"},\"text\":\"Trigram\"},\"zerolinecolor\":\"#E1E5ED\"},\"yaxis\":{\"gridcolor\":\"#E1E5ED\",\"showgrid\":true,\"tickfont\":{\"color\":\"#4D5663\"},\"title\":{\"font\":{\"color\":\"#4D5663\"},\"text\":\"Frequency\"},\"zerolinecolor\":\"#E1E5ED\"}},                        {\"showLink\": true, \"linkText\": \"Export to plot.ly\", \"plotlyServerURL\": \"https://plot.ly\", \"responsive\": true}                    ).then(function(){\n",
       "                            \n",
       "var gd = document.getElementById('1f91f3c0-ed09-4d61-ab11-cc3f954b3548');\n",
       "var x = new MutationObserver(function (mutations, observer) {{\n",
       "        var display = window.getComputedStyle(gd).display;\n",
       "        if (!display || display === 'none') {{\n",
       "            console.log([gd, 'removed!']);\n",
       "            Plotly.purge(gd);\n",
       "            observer.disconnect();\n",
       "        }}\n",
       "}});\n",
       "\n",
       "// Listen for the removal of the full notebook cells\n",
       "var notebookContainer = gd.closest('#notebook-container');\n",
       "if (notebookContainer) {{\n",
       "    x.observe(notebookContainer, {childList: true});\n",
       "}}\n",
       "\n",
       "// Listen for the clearing of the current output cell\n",
       "var outputEl = gd.closest('.output');\n",
       "if (outputEl) {{\n",
       "    x.observe(outputEl, {childList: true});\n",
       "}}\n",
       "\n",
       "                        })                };                });            </script>        </div>"
      ]
     },
     "metadata": {},
     "output_type": "display_data"
    }
   ],
   "source": [
    "words = get_top_n_words(df['text'], 20)\n",
    "dfTri = pd.DataFrame(words, columns = ['Trigram','Frequency'])\n",
    "dfTri = dfTri.set_index('Trigram')\n",
    "dfTri.iplot(kind = 'bar', xTitle='Trigram', yTitle='Frequency', title = 'Top 20 Trigram Words')"
   ]
  },
  {
   "cell_type": "markdown",
   "metadata": {},
   "source": [
    "##### Removing Stop Words for More Useful Distributions"
   ]
  },
  {
   "cell_type": "markdown",
   "metadata": {},
   "source": [
    "##### Unigrams without Stop Words"
   ]
  },
  {
   "cell_type": "code",
   "execution_count": 41,
   "metadata": {},
   "outputs": [],
   "source": [
    "def get_top_n_words(x, n):\n",
    "    vec = CountVectorizer(stop_words='english').fit(x)\n",
    "    bow = vec.transform(x)\n",
    "    sum_words = bow.sum(axis = 0)\n",
    "    word_freq = [(word, sum_words[0, idx]) for word, idx in vec.vocabulary_.items()]\n",
    "    word_freq = sorted(word_freq, key = lambda x: x[1], reverse = True)\n",
    "    return word_freq[:n]"
   ]
  },
  {
   "cell_type": "code",
   "execution_count": 42,
   "metadata": {},
   "outputs": [
    {
     "data": {
      "application/vnd.plotly.v1+json": {
       "config": {
        "linkText": "Export to plot.ly",
        "plotlyServerURL": "https://plot.ly",
        "showLink": true
       },
       "data": [
        {
         "marker": {
          "color": "rgba(255, 153, 51, 0.6)",
          "line": {
           "color": "rgba(255, 153, 51, 1.0)",
           "width": 1
          }
         },
         "name": "Frequency",
         "orientation": "v",
         "text": "",
         "type": "bar",
         "x": [
          "weather",
          "mention",
          "link",
          "rt",
          "storm",
          "sunny",
          "day",
          "humidity",
          "outside",
          "hot",
          "wind",
          "sunshine",
          "rain",
          "feels",
          "like",
          "just",
          "today",
          "degrees",
          "pm",
          "0f"
         ],
         "y": [
          341,
          268,
          163,
          88,
          76,
          67,
          62,
          59,
          54,
          54,
          51,
          49,
          48,
          48,
          46,
          45,
          43,
          40,
          38,
          38
         ]
        }
       ],
       "layout": {
        "legend": {
         "bgcolor": "#F5F6F9",
         "font": {
          "color": "#4D5663"
         }
        },
        "paper_bgcolor": "#F5F6F9",
        "plot_bgcolor": "#F5F6F9",
        "template": {
         "data": {
          "bar": [
           {
            "error_x": {
             "color": "#2a3f5f"
            },
            "error_y": {
             "color": "#2a3f5f"
            },
            "marker": {
             "line": {
              "color": "#E5ECF6",
              "width": 0.5
             },
             "pattern": {
              "fillmode": "overlay",
              "size": 10,
              "solidity": 0.2
             }
            },
            "type": "bar"
           }
          ],
          "barpolar": [
           {
            "marker": {
             "line": {
              "color": "#E5ECF6",
              "width": 0.5
             },
             "pattern": {
              "fillmode": "overlay",
              "size": 10,
              "solidity": 0.2
             }
            },
            "type": "barpolar"
           }
          ],
          "carpet": [
           {
            "aaxis": {
             "endlinecolor": "#2a3f5f",
             "gridcolor": "white",
             "linecolor": "white",
             "minorgridcolor": "white",
             "startlinecolor": "#2a3f5f"
            },
            "baxis": {
             "endlinecolor": "#2a3f5f",
             "gridcolor": "white",
             "linecolor": "white",
             "minorgridcolor": "white",
             "startlinecolor": "#2a3f5f"
            },
            "type": "carpet"
           }
          ],
          "choropleth": [
           {
            "colorbar": {
             "outlinewidth": 0,
             "ticks": ""
            },
            "type": "choropleth"
           }
          ],
          "contour": [
           {
            "colorbar": {
             "outlinewidth": 0,
             "ticks": ""
            },
            "colorscale": [
             [
              0,
              "#0d0887"
             ],
             [
              0.1111111111111111,
              "#46039f"
             ],
             [
              0.2222222222222222,
              "#7201a8"
             ],
             [
              0.3333333333333333,
              "#9c179e"
             ],
             [
              0.4444444444444444,
              "#bd3786"
             ],
             [
              0.5555555555555556,
              "#d8576b"
             ],
             [
              0.6666666666666666,
              "#ed7953"
             ],
             [
              0.7777777777777778,
              "#fb9f3a"
             ],
             [
              0.8888888888888888,
              "#fdca26"
             ],
             [
              1,
              "#f0f921"
             ]
            ],
            "type": "contour"
           }
          ],
          "contourcarpet": [
           {
            "colorbar": {
             "outlinewidth": 0,
             "ticks": ""
            },
            "type": "contourcarpet"
           }
          ],
          "heatmap": [
           {
            "colorbar": {
             "outlinewidth": 0,
             "ticks": ""
            },
            "colorscale": [
             [
              0,
              "#0d0887"
             ],
             [
              0.1111111111111111,
              "#46039f"
             ],
             [
              0.2222222222222222,
              "#7201a8"
             ],
             [
              0.3333333333333333,
              "#9c179e"
             ],
             [
              0.4444444444444444,
              "#bd3786"
             ],
             [
              0.5555555555555556,
              "#d8576b"
             ],
             [
              0.6666666666666666,
              "#ed7953"
             ],
             [
              0.7777777777777778,
              "#fb9f3a"
             ],
             [
              0.8888888888888888,
              "#fdca26"
             ],
             [
              1,
              "#f0f921"
             ]
            ],
            "type": "heatmap"
           }
          ],
          "heatmapgl": [
           {
            "colorbar": {
             "outlinewidth": 0,
             "ticks": ""
            },
            "colorscale": [
             [
              0,
              "#0d0887"
             ],
             [
              0.1111111111111111,
              "#46039f"
             ],
             [
              0.2222222222222222,
              "#7201a8"
             ],
             [
              0.3333333333333333,
              "#9c179e"
             ],
             [
              0.4444444444444444,
              "#bd3786"
             ],
             [
              0.5555555555555556,
              "#d8576b"
             ],
             [
              0.6666666666666666,
              "#ed7953"
             ],
             [
              0.7777777777777778,
              "#fb9f3a"
             ],
             [
              0.8888888888888888,
              "#fdca26"
             ],
             [
              1,
              "#f0f921"
             ]
            ],
            "type": "heatmapgl"
           }
          ],
          "histogram": [
           {
            "marker": {
             "pattern": {
              "fillmode": "overlay",
              "size": 10,
              "solidity": 0.2
             }
            },
            "type": "histogram"
           }
          ],
          "histogram2d": [
           {
            "colorbar": {
             "outlinewidth": 0,
             "ticks": ""
            },
            "colorscale": [
             [
              0,
              "#0d0887"
             ],
             [
              0.1111111111111111,
              "#46039f"
             ],
             [
              0.2222222222222222,
              "#7201a8"
             ],
             [
              0.3333333333333333,
              "#9c179e"
             ],
             [
              0.4444444444444444,
              "#bd3786"
             ],
             [
              0.5555555555555556,
              "#d8576b"
             ],
             [
              0.6666666666666666,
              "#ed7953"
             ],
             [
              0.7777777777777778,
              "#fb9f3a"
             ],
             [
              0.8888888888888888,
              "#fdca26"
             ],
             [
              1,
              "#f0f921"
             ]
            ],
            "type": "histogram2d"
           }
          ],
          "histogram2dcontour": [
           {
            "colorbar": {
             "outlinewidth": 0,
             "ticks": ""
            },
            "colorscale": [
             [
              0,
              "#0d0887"
             ],
             [
              0.1111111111111111,
              "#46039f"
             ],
             [
              0.2222222222222222,
              "#7201a8"
             ],
             [
              0.3333333333333333,
              "#9c179e"
             ],
             [
              0.4444444444444444,
              "#bd3786"
             ],
             [
              0.5555555555555556,
              "#d8576b"
             ],
             [
              0.6666666666666666,
              "#ed7953"
             ],
             [
              0.7777777777777778,
              "#fb9f3a"
             ],
             [
              0.8888888888888888,
              "#fdca26"
             ],
             [
              1,
              "#f0f921"
             ]
            ],
            "type": "histogram2dcontour"
           }
          ],
          "mesh3d": [
           {
            "colorbar": {
             "outlinewidth": 0,
             "ticks": ""
            },
            "type": "mesh3d"
           }
          ],
          "parcoords": [
           {
            "line": {
             "colorbar": {
              "outlinewidth": 0,
              "ticks": ""
             }
            },
            "type": "parcoords"
           }
          ],
          "pie": [
           {
            "automargin": true,
            "type": "pie"
           }
          ],
          "scatter": [
           {
            "fillpattern": {
             "fillmode": "overlay",
             "size": 10,
             "solidity": 0.2
            },
            "type": "scatter"
           }
          ],
          "scatter3d": [
           {
            "line": {
             "colorbar": {
              "outlinewidth": 0,
              "ticks": ""
             }
            },
            "marker": {
             "colorbar": {
              "outlinewidth": 0,
              "ticks": ""
             }
            },
            "type": "scatter3d"
           }
          ],
          "scattercarpet": [
           {
            "marker": {
             "colorbar": {
              "outlinewidth": 0,
              "ticks": ""
             }
            },
            "type": "scattercarpet"
           }
          ],
          "scattergeo": [
           {
            "marker": {
             "colorbar": {
              "outlinewidth": 0,
              "ticks": ""
             }
            },
            "type": "scattergeo"
           }
          ],
          "scattergl": [
           {
            "marker": {
             "colorbar": {
              "outlinewidth": 0,
              "ticks": ""
             }
            },
            "type": "scattergl"
           }
          ],
          "scattermapbox": [
           {
            "marker": {
             "colorbar": {
              "outlinewidth": 0,
              "ticks": ""
             }
            },
            "type": "scattermapbox"
           }
          ],
          "scatterpolar": [
           {
            "marker": {
             "colorbar": {
              "outlinewidth": 0,
              "ticks": ""
             }
            },
            "type": "scatterpolar"
           }
          ],
          "scatterpolargl": [
           {
            "marker": {
             "colorbar": {
              "outlinewidth": 0,
              "ticks": ""
             }
            },
            "type": "scatterpolargl"
           }
          ],
          "scatterternary": [
           {
            "marker": {
             "colorbar": {
              "outlinewidth": 0,
              "ticks": ""
             }
            },
            "type": "scatterternary"
           }
          ],
          "surface": [
           {
            "colorbar": {
             "outlinewidth": 0,
             "ticks": ""
            },
            "colorscale": [
             [
              0,
              "#0d0887"
             ],
             [
              0.1111111111111111,
              "#46039f"
             ],
             [
              0.2222222222222222,
              "#7201a8"
             ],
             [
              0.3333333333333333,
              "#9c179e"
             ],
             [
              0.4444444444444444,
              "#bd3786"
             ],
             [
              0.5555555555555556,
              "#d8576b"
             ],
             [
              0.6666666666666666,
              "#ed7953"
             ],
             [
              0.7777777777777778,
              "#fb9f3a"
             ],
             [
              0.8888888888888888,
              "#fdca26"
             ],
             [
              1,
              "#f0f921"
             ]
            ],
            "type": "surface"
           }
          ],
          "table": [
           {
            "cells": {
             "fill": {
              "color": "#EBF0F8"
             },
             "line": {
              "color": "white"
             }
            },
            "header": {
             "fill": {
              "color": "#C8D4E3"
             },
             "line": {
              "color": "white"
             }
            },
            "type": "table"
           }
          ]
         },
         "layout": {
          "annotationdefaults": {
           "arrowcolor": "#2a3f5f",
           "arrowhead": 0,
           "arrowwidth": 1
          },
          "autotypenumbers": "strict",
          "coloraxis": {
           "colorbar": {
            "outlinewidth": 0,
            "ticks": ""
           }
          },
          "colorscale": {
           "diverging": [
            [
             0,
             "#8e0152"
            ],
            [
             0.1,
             "#c51b7d"
            ],
            [
             0.2,
             "#de77ae"
            ],
            [
             0.3,
             "#f1b6da"
            ],
            [
             0.4,
             "#fde0ef"
            ],
            [
             0.5,
             "#f7f7f7"
            ],
            [
             0.6,
             "#e6f5d0"
            ],
            [
             0.7,
             "#b8e186"
            ],
            [
             0.8,
             "#7fbc41"
            ],
            [
             0.9,
             "#4d9221"
            ],
            [
             1,
             "#276419"
            ]
           ],
           "sequential": [
            [
             0,
             "#0d0887"
            ],
            [
             0.1111111111111111,
             "#46039f"
            ],
            [
             0.2222222222222222,
             "#7201a8"
            ],
            [
             0.3333333333333333,
             "#9c179e"
            ],
            [
             0.4444444444444444,
             "#bd3786"
            ],
            [
             0.5555555555555556,
             "#d8576b"
            ],
            [
             0.6666666666666666,
             "#ed7953"
            ],
            [
             0.7777777777777778,
             "#fb9f3a"
            ],
            [
             0.8888888888888888,
             "#fdca26"
            ],
            [
             1,
             "#f0f921"
            ]
           ],
           "sequentialminus": [
            [
             0,
             "#0d0887"
            ],
            [
             0.1111111111111111,
             "#46039f"
            ],
            [
             0.2222222222222222,
             "#7201a8"
            ],
            [
             0.3333333333333333,
             "#9c179e"
            ],
            [
             0.4444444444444444,
             "#bd3786"
            ],
            [
             0.5555555555555556,
             "#d8576b"
            ],
            [
             0.6666666666666666,
             "#ed7953"
            ],
            [
             0.7777777777777778,
             "#fb9f3a"
            ],
            [
             0.8888888888888888,
             "#fdca26"
            ],
            [
             1,
             "#f0f921"
            ]
           ]
          },
          "colorway": [
           "#636efa",
           "#EF553B",
           "#00cc96",
           "#ab63fa",
           "#FFA15A",
           "#19d3f3",
           "#FF6692",
           "#B6E880",
           "#FF97FF",
           "#FECB52"
          ],
          "font": {
           "color": "#2a3f5f"
          },
          "geo": {
           "bgcolor": "white",
           "lakecolor": "white",
           "landcolor": "#E5ECF6",
           "showlakes": true,
           "showland": true,
           "subunitcolor": "white"
          },
          "hoverlabel": {
           "align": "left"
          },
          "hovermode": "closest",
          "mapbox": {
           "style": "light"
          },
          "paper_bgcolor": "white",
          "plot_bgcolor": "#E5ECF6",
          "polar": {
           "angularaxis": {
            "gridcolor": "white",
            "linecolor": "white",
            "ticks": ""
           },
           "bgcolor": "#E5ECF6",
           "radialaxis": {
            "gridcolor": "white",
            "linecolor": "white",
            "ticks": ""
           }
          },
          "scene": {
           "xaxis": {
            "backgroundcolor": "#E5ECF6",
            "gridcolor": "white",
            "gridwidth": 2,
            "linecolor": "white",
            "showbackground": true,
            "ticks": "",
            "zerolinecolor": "white"
           },
           "yaxis": {
            "backgroundcolor": "#E5ECF6",
            "gridcolor": "white",
            "gridwidth": 2,
            "linecolor": "white",
            "showbackground": true,
            "ticks": "",
            "zerolinecolor": "white"
           },
           "zaxis": {
            "backgroundcolor": "#E5ECF6",
            "gridcolor": "white",
            "gridwidth": 2,
            "linecolor": "white",
            "showbackground": true,
            "ticks": "",
            "zerolinecolor": "white"
           }
          },
          "shapedefaults": {
           "line": {
            "color": "#2a3f5f"
           }
          },
          "ternary": {
           "aaxis": {
            "gridcolor": "white",
            "linecolor": "white",
            "ticks": ""
           },
           "baxis": {
            "gridcolor": "white",
            "linecolor": "white",
            "ticks": ""
           },
           "bgcolor": "#E5ECF6",
           "caxis": {
            "gridcolor": "white",
            "linecolor": "white",
            "ticks": ""
           }
          },
          "title": {
           "x": 0.05
          },
          "xaxis": {
           "automargin": true,
           "gridcolor": "white",
           "linecolor": "white",
           "ticks": "",
           "title": {
            "standoff": 15
           },
           "zerolinecolor": "white",
           "zerolinewidth": 2
          },
          "yaxis": {
           "automargin": true,
           "gridcolor": "white",
           "linecolor": "white",
           "ticks": "",
           "title": {
            "standoff": 15
           },
           "zerolinecolor": "white",
           "zerolinewidth": 2
          }
         }
        },
        "title": {
         "font": {
          "color": "#4D5663"
         },
         "text": "Top 20 Unigram Words"
        },
        "xaxis": {
         "gridcolor": "#E1E5ED",
         "showgrid": true,
         "tickfont": {
          "color": "#4D5663"
         },
         "title": {
          "font": {
           "color": "#4D5663"
          },
          "text": "Unigram"
         },
         "zerolinecolor": "#E1E5ED"
        },
        "yaxis": {
         "gridcolor": "#E1E5ED",
         "showgrid": true,
         "tickfont": {
          "color": "#4D5663"
         },
         "title": {
          "font": {
           "color": "#4D5663"
          },
          "text": "Frequency"
         },
         "zerolinecolor": "#E1E5ED"
        }
       }
      },
      "text/html": [
       "<div>                            <div id=\"f6fdc2d6-1f47-4200-b66f-b8ee26a7b6b8\" class=\"plotly-graph-div\" style=\"height:525px; width:100%;\"></div>            <script type=\"text/javascript\">                require([\"plotly\"], function(Plotly) {                    window.PLOTLYENV=window.PLOTLYENV || {};\n",
       "                    window.PLOTLYENV.BASE_URL='https://plot.ly';                                    if (document.getElementById(\"f6fdc2d6-1f47-4200-b66f-b8ee26a7b6b8\")) {                    Plotly.newPlot(                        \"f6fdc2d6-1f47-4200-b66f-b8ee26a7b6b8\",                        [{\"marker\":{\"color\":\"rgba(255, 153, 51, 0.6)\",\"line\":{\"color\":\"rgba(255, 153, 51, 1.0)\",\"width\":1}},\"name\":\"Frequency\",\"orientation\":\"v\",\"text\":\"\",\"x\":[\"weather\",\"mention\",\"link\",\"rt\",\"storm\",\"sunny\",\"day\",\"humidity\",\"outside\",\"hot\",\"wind\",\"sunshine\",\"rain\",\"feels\",\"like\",\"just\",\"today\",\"degrees\",\"pm\",\"0f\"],\"y\":[341,268,163,88,76,67,62,59,54,54,51,49,48,48,46,45,43,40,38,38],\"type\":\"bar\"}],                        {\"legend\":{\"bgcolor\":\"#F5F6F9\",\"font\":{\"color\":\"#4D5663\"}},\"paper_bgcolor\":\"#F5F6F9\",\"plot_bgcolor\":\"#F5F6F9\",\"template\":{\"data\":{\"barpolar\":[{\"marker\":{\"line\":{\"color\":\"#E5ECF6\",\"width\":0.5},\"pattern\":{\"fillmode\":\"overlay\",\"size\":10,\"solidity\":0.2}},\"type\":\"barpolar\"}],\"bar\":[{\"error_x\":{\"color\":\"#2a3f5f\"},\"error_y\":{\"color\":\"#2a3f5f\"},\"marker\":{\"line\":{\"color\":\"#E5ECF6\",\"width\":0.5},\"pattern\":{\"fillmode\":\"overlay\",\"size\":10,\"solidity\":0.2}},\"type\":\"bar\"}],\"carpet\":[{\"aaxis\":{\"endlinecolor\":\"#2a3f5f\",\"gridcolor\":\"white\",\"linecolor\":\"white\",\"minorgridcolor\":\"white\",\"startlinecolor\":\"#2a3f5f\"},\"baxis\":{\"endlinecolor\":\"#2a3f5f\",\"gridcolor\":\"white\",\"linecolor\":\"white\",\"minorgridcolor\":\"white\",\"startlinecolor\":\"#2a3f5f\"},\"type\":\"carpet\"}],\"choropleth\":[{\"colorbar\":{\"outlinewidth\":0,\"ticks\":\"\"},\"type\":\"choropleth\"}],\"contourcarpet\":[{\"colorbar\":{\"outlinewidth\":0,\"ticks\":\"\"},\"type\":\"contourcarpet\"}],\"contour\":[{\"colorbar\":{\"outlinewidth\":0,\"ticks\":\"\"},\"colorscale\":[[0.0,\"#0d0887\"],[0.1111111111111111,\"#46039f\"],[0.2222222222222222,\"#7201a8\"],[0.3333333333333333,\"#9c179e\"],[0.4444444444444444,\"#bd3786\"],[0.5555555555555556,\"#d8576b\"],[0.6666666666666666,\"#ed7953\"],[0.7777777777777778,\"#fb9f3a\"],[0.8888888888888888,\"#fdca26\"],[1.0,\"#f0f921\"]],\"type\":\"contour\"}],\"heatmapgl\":[{\"colorbar\":{\"outlinewidth\":0,\"ticks\":\"\"},\"colorscale\":[[0.0,\"#0d0887\"],[0.1111111111111111,\"#46039f\"],[0.2222222222222222,\"#7201a8\"],[0.3333333333333333,\"#9c179e\"],[0.4444444444444444,\"#bd3786\"],[0.5555555555555556,\"#d8576b\"],[0.6666666666666666,\"#ed7953\"],[0.7777777777777778,\"#fb9f3a\"],[0.8888888888888888,\"#fdca26\"],[1.0,\"#f0f921\"]],\"type\":\"heatmapgl\"}],\"heatmap\":[{\"colorbar\":{\"outlinewidth\":0,\"ticks\":\"\"},\"colorscale\":[[0.0,\"#0d0887\"],[0.1111111111111111,\"#46039f\"],[0.2222222222222222,\"#7201a8\"],[0.3333333333333333,\"#9c179e\"],[0.4444444444444444,\"#bd3786\"],[0.5555555555555556,\"#d8576b\"],[0.6666666666666666,\"#ed7953\"],[0.7777777777777778,\"#fb9f3a\"],[0.8888888888888888,\"#fdca26\"],[1.0,\"#f0f921\"]],\"type\":\"heatmap\"}],\"histogram2dcontour\":[{\"colorbar\":{\"outlinewidth\":0,\"ticks\":\"\"},\"colorscale\":[[0.0,\"#0d0887\"],[0.1111111111111111,\"#46039f\"],[0.2222222222222222,\"#7201a8\"],[0.3333333333333333,\"#9c179e\"],[0.4444444444444444,\"#bd3786\"],[0.5555555555555556,\"#d8576b\"],[0.6666666666666666,\"#ed7953\"],[0.7777777777777778,\"#fb9f3a\"],[0.8888888888888888,\"#fdca26\"],[1.0,\"#f0f921\"]],\"type\":\"histogram2dcontour\"}],\"histogram2d\":[{\"colorbar\":{\"outlinewidth\":0,\"ticks\":\"\"},\"colorscale\":[[0.0,\"#0d0887\"],[0.1111111111111111,\"#46039f\"],[0.2222222222222222,\"#7201a8\"],[0.3333333333333333,\"#9c179e\"],[0.4444444444444444,\"#bd3786\"],[0.5555555555555556,\"#d8576b\"],[0.6666666666666666,\"#ed7953\"],[0.7777777777777778,\"#fb9f3a\"],[0.8888888888888888,\"#fdca26\"],[1.0,\"#f0f921\"]],\"type\":\"histogram2d\"}],\"histogram\":[{\"marker\":{\"pattern\":{\"fillmode\":\"overlay\",\"size\":10,\"solidity\":0.2}},\"type\":\"histogram\"}],\"mesh3d\":[{\"colorbar\":{\"outlinewidth\":0,\"ticks\":\"\"},\"type\":\"mesh3d\"}],\"parcoords\":[{\"line\":{\"colorbar\":{\"outlinewidth\":0,\"ticks\":\"\"}},\"type\":\"parcoords\"}],\"pie\":[{\"automargin\":true,\"type\":\"pie\"}],\"scatter3d\":[{\"line\":{\"colorbar\":{\"outlinewidth\":0,\"ticks\":\"\"}},\"marker\":{\"colorbar\":{\"outlinewidth\":0,\"ticks\":\"\"}},\"type\":\"scatter3d\"}],\"scattercarpet\":[{\"marker\":{\"colorbar\":{\"outlinewidth\":0,\"ticks\":\"\"}},\"type\":\"scattercarpet\"}],\"scattergeo\":[{\"marker\":{\"colorbar\":{\"outlinewidth\":0,\"ticks\":\"\"}},\"type\":\"scattergeo\"}],\"scattergl\":[{\"marker\":{\"colorbar\":{\"outlinewidth\":0,\"ticks\":\"\"}},\"type\":\"scattergl\"}],\"scattermapbox\":[{\"marker\":{\"colorbar\":{\"outlinewidth\":0,\"ticks\":\"\"}},\"type\":\"scattermapbox\"}],\"scatterpolargl\":[{\"marker\":{\"colorbar\":{\"outlinewidth\":0,\"ticks\":\"\"}},\"type\":\"scatterpolargl\"}],\"scatterpolar\":[{\"marker\":{\"colorbar\":{\"outlinewidth\":0,\"ticks\":\"\"}},\"type\":\"scatterpolar\"}],\"scatter\":[{\"fillpattern\":{\"fillmode\":\"overlay\",\"size\":10,\"solidity\":0.2},\"type\":\"scatter\"}],\"scatterternary\":[{\"marker\":{\"colorbar\":{\"outlinewidth\":0,\"ticks\":\"\"}},\"type\":\"scatterternary\"}],\"surface\":[{\"colorbar\":{\"outlinewidth\":0,\"ticks\":\"\"},\"colorscale\":[[0.0,\"#0d0887\"],[0.1111111111111111,\"#46039f\"],[0.2222222222222222,\"#7201a8\"],[0.3333333333333333,\"#9c179e\"],[0.4444444444444444,\"#bd3786\"],[0.5555555555555556,\"#d8576b\"],[0.6666666666666666,\"#ed7953\"],[0.7777777777777778,\"#fb9f3a\"],[0.8888888888888888,\"#fdca26\"],[1.0,\"#f0f921\"]],\"type\":\"surface\"}],\"table\":[{\"cells\":{\"fill\":{\"color\":\"#EBF0F8\"},\"line\":{\"color\":\"white\"}},\"header\":{\"fill\":{\"color\":\"#C8D4E3\"},\"line\":{\"color\":\"white\"}},\"type\":\"table\"}]},\"layout\":{\"annotationdefaults\":{\"arrowcolor\":\"#2a3f5f\",\"arrowhead\":0,\"arrowwidth\":1},\"autotypenumbers\":\"strict\",\"coloraxis\":{\"colorbar\":{\"outlinewidth\":0,\"ticks\":\"\"}},\"colorscale\":{\"diverging\":[[0,\"#8e0152\"],[0.1,\"#c51b7d\"],[0.2,\"#de77ae\"],[0.3,\"#f1b6da\"],[0.4,\"#fde0ef\"],[0.5,\"#f7f7f7\"],[0.6,\"#e6f5d0\"],[0.7,\"#b8e186\"],[0.8,\"#7fbc41\"],[0.9,\"#4d9221\"],[1,\"#276419\"]],\"sequential\":[[0.0,\"#0d0887\"],[0.1111111111111111,\"#46039f\"],[0.2222222222222222,\"#7201a8\"],[0.3333333333333333,\"#9c179e\"],[0.4444444444444444,\"#bd3786\"],[0.5555555555555556,\"#d8576b\"],[0.6666666666666666,\"#ed7953\"],[0.7777777777777778,\"#fb9f3a\"],[0.8888888888888888,\"#fdca26\"],[1.0,\"#f0f921\"]],\"sequentialminus\":[[0.0,\"#0d0887\"],[0.1111111111111111,\"#46039f\"],[0.2222222222222222,\"#7201a8\"],[0.3333333333333333,\"#9c179e\"],[0.4444444444444444,\"#bd3786\"],[0.5555555555555556,\"#d8576b\"],[0.6666666666666666,\"#ed7953\"],[0.7777777777777778,\"#fb9f3a\"],[0.8888888888888888,\"#fdca26\"],[1.0,\"#f0f921\"]]},\"colorway\":[\"#636efa\",\"#EF553B\",\"#00cc96\",\"#ab63fa\",\"#FFA15A\",\"#19d3f3\",\"#FF6692\",\"#B6E880\",\"#FF97FF\",\"#FECB52\"],\"font\":{\"color\":\"#2a3f5f\"},\"geo\":{\"bgcolor\":\"white\",\"lakecolor\":\"white\",\"landcolor\":\"#E5ECF6\",\"showlakes\":true,\"showland\":true,\"subunitcolor\":\"white\"},\"hoverlabel\":{\"align\":\"left\"},\"hovermode\":\"closest\",\"mapbox\":{\"style\":\"light\"},\"paper_bgcolor\":\"white\",\"plot_bgcolor\":\"#E5ECF6\",\"polar\":{\"angularaxis\":{\"gridcolor\":\"white\",\"linecolor\":\"white\",\"ticks\":\"\"},\"bgcolor\":\"#E5ECF6\",\"radialaxis\":{\"gridcolor\":\"white\",\"linecolor\":\"white\",\"ticks\":\"\"}},\"scene\":{\"xaxis\":{\"backgroundcolor\":\"#E5ECF6\",\"gridcolor\":\"white\",\"gridwidth\":2,\"linecolor\":\"white\",\"showbackground\":true,\"ticks\":\"\",\"zerolinecolor\":\"white\"},\"yaxis\":{\"backgroundcolor\":\"#E5ECF6\",\"gridcolor\":\"white\",\"gridwidth\":2,\"linecolor\":\"white\",\"showbackground\":true,\"ticks\":\"\",\"zerolinecolor\":\"white\"},\"zaxis\":{\"backgroundcolor\":\"#E5ECF6\",\"gridcolor\":\"white\",\"gridwidth\":2,\"linecolor\":\"white\",\"showbackground\":true,\"ticks\":\"\",\"zerolinecolor\":\"white\"}},\"shapedefaults\":{\"line\":{\"color\":\"#2a3f5f\"}},\"ternary\":{\"aaxis\":{\"gridcolor\":\"white\",\"linecolor\":\"white\",\"ticks\":\"\"},\"baxis\":{\"gridcolor\":\"white\",\"linecolor\":\"white\",\"ticks\":\"\"},\"bgcolor\":\"#E5ECF6\",\"caxis\":{\"gridcolor\":\"white\",\"linecolor\":\"white\",\"ticks\":\"\"}},\"title\":{\"x\":0.05},\"xaxis\":{\"automargin\":true,\"gridcolor\":\"white\",\"linecolor\":\"white\",\"ticks\":\"\",\"title\":{\"standoff\":15},\"zerolinecolor\":\"white\",\"zerolinewidth\":2},\"yaxis\":{\"automargin\":true,\"gridcolor\":\"white\",\"linecolor\":\"white\",\"ticks\":\"\",\"title\":{\"standoff\":15},\"zerolinecolor\":\"white\",\"zerolinewidth\":2}}},\"title\":{\"font\":{\"color\":\"#4D5663\"},\"text\":\"Top 20 Unigram Words\"},\"xaxis\":{\"gridcolor\":\"#E1E5ED\",\"showgrid\":true,\"tickfont\":{\"color\":\"#4D5663\"},\"title\":{\"font\":{\"color\":\"#4D5663\"},\"text\":\"Unigram\"},\"zerolinecolor\":\"#E1E5ED\"},\"yaxis\":{\"gridcolor\":\"#E1E5ED\",\"showgrid\":true,\"tickfont\":{\"color\":\"#4D5663\"},\"title\":{\"font\":{\"color\":\"#4D5663\"},\"text\":\"Frequency\"},\"zerolinecolor\":\"#E1E5ED\"}},                        {\"showLink\": true, \"linkText\": \"Export to plot.ly\", \"plotlyServerURL\": \"https://plot.ly\", \"responsive\": true}                    ).then(function(){\n",
       "                            \n",
       "var gd = document.getElementById('f6fdc2d6-1f47-4200-b66f-b8ee26a7b6b8');\n",
       "var x = new MutationObserver(function (mutations, observer) {{\n",
       "        var display = window.getComputedStyle(gd).display;\n",
       "        if (!display || display === 'none') {{\n",
       "            console.log([gd, 'removed!']);\n",
       "            Plotly.purge(gd);\n",
       "            observer.disconnect();\n",
       "        }}\n",
       "}});\n",
       "\n",
       "// Listen for the removal of the full notebook cells\n",
       "var notebookContainer = gd.closest('#notebook-container');\n",
       "if (notebookContainer) {{\n",
       "    x.observe(notebookContainer, {childList: true});\n",
       "}}\n",
       "\n",
       "// Listen for the clearing of the current output cell\n",
       "var outputEl = gd.closest('.output');\n",
       "if (outputEl) {{\n",
       "    x.observe(outputEl, {childList: true});\n",
       "}}\n",
       "\n",
       "                        })                };                });            </script>        </div>"
      ]
     },
     "metadata": {},
     "output_type": "display_data"
    }
   ],
   "source": [
    "words = get_top_n_words(df['text'], 20)\n",
    "dfUni = pd.DataFrame(words, columns = ['Unigram','Frequency'])\n",
    "dfUni = dfUni.set_index('Unigram')\n",
    "dfUni.iplot(kind = 'bar', xTitle='Unigram', yTitle='Frequency', title = 'Top 20 Unigram Words')"
   ]
  },
  {
   "cell_type": "markdown",
   "metadata": {},
   "source": [
    "##### Bigrams without Stop Words"
   ]
  },
  {
   "cell_type": "code",
   "execution_count": 43,
   "metadata": {},
   "outputs": [],
   "source": [
    "def get_top_n_words(x, n):\n",
    "    vec = CountVectorizer(ngram_range=(2,2), stop_words='english').fit(x)\n",
    "    bow = vec.transform(x)\n",
    "    sum_words = bow.sum(axis = 0)\n",
    "    word_freq = [(word, sum_words[0, idx]) for word, idx in vec.vocabulary_.items()]\n",
    "    word_freq = sorted(word_freq, key = lambda x: x[1], reverse = True)\n",
    "    return word_freq[:n]"
   ]
  },
  {
   "cell_type": "code",
   "execution_count": 44,
   "metadata": {},
   "outputs": [
    {
     "data": {
      "application/vnd.plotly.v1+json": {
       "config": {
        "linkText": "Export to plot.ly",
        "plotlyServerURL": "https://plot.ly",
        "showLink": true
       },
       "data": [
        {
         "marker": {
          "color": "rgba(255, 153, 51, 0.6)",
          "line": {
           "color": "rgba(255, 153, 51, 1.0)",
           "width": 1
          }
         },
         "name": "Frequency",
         "orientation": "v",
         "text": "",
         "type": "bar",
         "x": [
          "rt mention",
          "0f feels",
          "severe thunderstorm",
          "feels 29",
          "thunderstorm warning",
          "mention mention",
          "nice weather",
          "weather 53",
          "hot outside",
          "warm weather",
          "53 pm",
          "weather link",
          "80 degrees",
          "south wind",
          "southeast wind",
          "sunny day",
          "00 pm",
          "mention weather",
          "good weather",
          "weather 56"
         ],
         "y": [
          87,
          38,
          23,
          22,
          17,
          15,
          13,
          10,
          10,
          9,
          8,
          8,
          8,
          8,
          8,
          7,
          7,
          7,
          7,
          7
         ]
        }
       ],
       "layout": {
        "legend": {
         "bgcolor": "#F5F6F9",
         "font": {
          "color": "#4D5663"
         }
        },
        "paper_bgcolor": "#F5F6F9",
        "plot_bgcolor": "#F5F6F9",
        "template": {
         "data": {
          "bar": [
           {
            "error_x": {
             "color": "#2a3f5f"
            },
            "error_y": {
             "color": "#2a3f5f"
            },
            "marker": {
             "line": {
              "color": "#E5ECF6",
              "width": 0.5
             },
             "pattern": {
              "fillmode": "overlay",
              "size": 10,
              "solidity": 0.2
             }
            },
            "type": "bar"
           }
          ],
          "barpolar": [
           {
            "marker": {
             "line": {
              "color": "#E5ECF6",
              "width": 0.5
             },
             "pattern": {
              "fillmode": "overlay",
              "size": 10,
              "solidity": 0.2
             }
            },
            "type": "barpolar"
           }
          ],
          "carpet": [
           {
            "aaxis": {
             "endlinecolor": "#2a3f5f",
             "gridcolor": "white",
             "linecolor": "white",
             "minorgridcolor": "white",
             "startlinecolor": "#2a3f5f"
            },
            "baxis": {
             "endlinecolor": "#2a3f5f",
             "gridcolor": "white",
             "linecolor": "white",
             "minorgridcolor": "white",
             "startlinecolor": "#2a3f5f"
            },
            "type": "carpet"
           }
          ],
          "choropleth": [
           {
            "colorbar": {
             "outlinewidth": 0,
             "ticks": ""
            },
            "type": "choropleth"
           }
          ],
          "contour": [
           {
            "colorbar": {
             "outlinewidth": 0,
             "ticks": ""
            },
            "colorscale": [
             [
              0,
              "#0d0887"
             ],
             [
              0.1111111111111111,
              "#46039f"
             ],
             [
              0.2222222222222222,
              "#7201a8"
             ],
             [
              0.3333333333333333,
              "#9c179e"
             ],
             [
              0.4444444444444444,
              "#bd3786"
             ],
             [
              0.5555555555555556,
              "#d8576b"
             ],
             [
              0.6666666666666666,
              "#ed7953"
             ],
             [
              0.7777777777777778,
              "#fb9f3a"
             ],
             [
              0.8888888888888888,
              "#fdca26"
             ],
             [
              1,
              "#f0f921"
             ]
            ],
            "type": "contour"
           }
          ],
          "contourcarpet": [
           {
            "colorbar": {
             "outlinewidth": 0,
             "ticks": ""
            },
            "type": "contourcarpet"
           }
          ],
          "heatmap": [
           {
            "colorbar": {
             "outlinewidth": 0,
             "ticks": ""
            },
            "colorscale": [
             [
              0,
              "#0d0887"
             ],
             [
              0.1111111111111111,
              "#46039f"
             ],
             [
              0.2222222222222222,
              "#7201a8"
             ],
             [
              0.3333333333333333,
              "#9c179e"
             ],
             [
              0.4444444444444444,
              "#bd3786"
             ],
             [
              0.5555555555555556,
              "#d8576b"
             ],
             [
              0.6666666666666666,
              "#ed7953"
             ],
             [
              0.7777777777777778,
              "#fb9f3a"
             ],
             [
              0.8888888888888888,
              "#fdca26"
             ],
             [
              1,
              "#f0f921"
             ]
            ],
            "type": "heatmap"
           }
          ],
          "heatmapgl": [
           {
            "colorbar": {
             "outlinewidth": 0,
             "ticks": ""
            },
            "colorscale": [
             [
              0,
              "#0d0887"
             ],
             [
              0.1111111111111111,
              "#46039f"
             ],
             [
              0.2222222222222222,
              "#7201a8"
             ],
             [
              0.3333333333333333,
              "#9c179e"
             ],
             [
              0.4444444444444444,
              "#bd3786"
             ],
             [
              0.5555555555555556,
              "#d8576b"
             ],
             [
              0.6666666666666666,
              "#ed7953"
             ],
             [
              0.7777777777777778,
              "#fb9f3a"
             ],
             [
              0.8888888888888888,
              "#fdca26"
             ],
             [
              1,
              "#f0f921"
             ]
            ],
            "type": "heatmapgl"
           }
          ],
          "histogram": [
           {
            "marker": {
             "pattern": {
              "fillmode": "overlay",
              "size": 10,
              "solidity": 0.2
             }
            },
            "type": "histogram"
           }
          ],
          "histogram2d": [
           {
            "colorbar": {
             "outlinewidth": 0,
             "ticks": ""
            },
            "colorscale": [
             [
              0,
              "#0d0887"
             ],
             [
              0.1111111111111111,
              "#46039f"
             ],
             [
              0.2222222222222222,
              "#7201a8"
             ],
             [
              0.3333333333333333,
              "#9c179e"
             ],
             [
              0.4444444444444444,
              "#bd3786"
             ],
             [
              0.5555555555555556,
              "#d8576b"
             ],
             [
              0.6666666666666666,
              "#ed7953"
             ],
             [
              0.7777777777777778,
              "#fb9f3a"
             ],
             [
              0.8888888888888888,
              "#fdca26"
             ],
             [
              1,
              "#f0f921"
             ]
            ],
            "type": "histogram2d"
           }
          ],
          "histogram2dcontour": [
           {
            "colorbar": {
             "outlinewidth": 0,
             "ticks": ""
            },
            "colorscale": [
             [
              0,
              "#0d0887"
             ],
             [
              0.1111111111111111,
              "#46039f"
             ],
             [
              0.2222222222222222,
              "#7201a8"
             ],
             [
              0.3333333333333333,
              "#9c179e"
             ],
             [
              0.4444444444444444,
              "#bd3786"
             ],
             [
              0.5555555555555556,
              "#d8576b"
             ],
             [
              0.6666666666666666,
              "#ed7953"
             ],
             [
              0.7777777777777778,
              "#fb9f3a"
             ],
             [
              0.8888888888888888,
              "#fdca26"
             ],
             [
              1,
              "#f0f921"
             ]
            ],
            "type": "histogram2dcontour"
           }
          ],
          "mesh3d": [
           {
            "colorbar": {
             "outlinewidth": 0,
             "ticks": ""
            },
            "type": "mesh3d"
           }
          ],
          "parcoords": [
           {
            "line": {
             "colorbar": {
              "outlinewidth": 0,
              "ticks": ""
             }
            },
            "type": "parcoords"
           }
          ],
          "pie": [
           {
            "automargin": true,
            "type": "pie"
           }
          ],
          "scatter": [
           {
            "fillpattern": {
             "fillmode": "overlay",
             "size": 10,
             "solidity": 0.2
            },
            "type": "scatter"
           }
          ],
          "scatter3d": [
           {
            "line": {
             "colorbar": {
              "outlinewidth": 0,
              "ticks": ""
             }
            },
            "marker": {
             "colorbar": {
              "outlinewidth": 0,
              "ticks": ""
             }
            },
            "type": "scatter3d"
           }
          ],
          "scattercarpet": [
           {
            "marker": {
             "colorbar": {
              "outlinewidth": 0,
              "ticks": ""
             }
            },
            "type": "scattercarpet"
           }
          ],
          "scattergeo": [
           {
            "marker": {
             "colorbar": {
              "outlinewidth": 0,
              "ticks": ""
             }
            },
            "type": "scattergeo"
           }
          ],
          "scattergl": [
           {
            "marker": {
             "colorbar": {
              "outlinewidth": 0,
              "ticks": ""
             }
            },
            "type": "scattergl"
           }
          ],
          "scattermapbox": [
           {
            "marker": {
             "colorbar": {
              "outlinewidth": 0,
              "ticks": ""
             }
            },
            "type": "scattermapbox"
           }
          ],
          "scatterpolar": [
           {
            "marker": {
             "colorbar": {
              "outlinewidth": 0,
              "ticks": ""
             }
            },
            "type": "scatterpolar"
           }
          ],
          "scatterpolargl": [
           {
            "marker": {
             "colorbar": {
              "outlinewidth": 0,
              "ticks": ""
             }
            },
            "type": "scatterpolargl"
           }
          ],
          "scatterternary": [
           {
            "marker": {
             "colorbar": {
              "outlinewidth": 0,
              "ticks": ""
             }
            },
            "type": "scatterternary"
           }
          ],
          "surface": [
           {
            "colorbar": {
             "outlinewidth": 0,
             "ticks": ""
            },
            "colorscale": [
             [
              0,
              "#0d0887"
             ],
             [
              0.1111111111111111,
              "#46039f"
             ],
             [
              0.2222222222222222,
              "#7201a8"
             ],
             [
              0.3333333333333333,
              "#9c179e"
             ],
             [
              0.4444444444444444,
              "#bd3786"
             ],
             [
              0.5555555555555556,
              "#d8576b"
             ],
             [
              0.6666666666666666,
              "#ed7953"
             ],
             [
              0.7777777777777778,
              "#fb9f3a"
             ],
             [
              0.8888888888888888,
              "#fdca26"
             ],
             [
              1,
              "#f0f921"
             ]
            ],
            "type": "surface"
           }
          ],
          "table": [
           {
            "cells": {
             "fill": {
              "color": "#EBF0F8"
             },
             "line": {
              "color": "white"
             }
            },
            "header": {
             "fill": {
              "color": "#C8D4E3"
             },
             "line": {
              "color": "white"
             }
            },
            "type": "table"
           }
          ]
         },
         "layout": {
          "annotationdefaults": {
           "arrowcolor": "#2a3f5f",
           "arrowhead": 0,
           "arrowwidth": 1
          },
          "autotypenumbers": "strict",
          "coloraxis": {
           "colorbar": {
            "outlinewidth": 0,
            "ticks": ""
           }
          },
          "colorscale": {
           "diverging": [
            [
             0,
             "#8e0152"
            ],
            [
             0.1,
             "#c51b7d"
            ],
            [
             0.2,
             "#de77ae"
            ],
            [
             0.3,
             "#f1b6da"
            ],
            [
             0.4,
             "#fde0ef"
            ],
            [
             0.5,
             "#f7f7f7"
            ],
            [
             0.6,
             "#e6f5d0"
            ],
            [
             0.7,
             "#b8e186"
            ],
            [
             0.8,
             "#7fbc41"
            ],
            [
             0.9,
             "#4d9221"
            ],
            [
             1,
             "#276419"
            ]
           ],
           "sequential": [
            [
             0,
             "#0d0887"
            ],
            [
             0.1111111111111111,
             "#46039f"
            ],
            [
             0.2222222222222222,
             "#7201a8"
            ],
            [
             0.3333333333333333,
             "#9c179e"
            ],
            [
             0.4444444444444444,
             "#bd3786"
            ],
            [
             0.5555555555555556,
             "#d8576b"
            ],
            [
             0.6666666666666666,
             "#ed7953"
            ],
            [
             0.7777777777777778,
             "#fb9f3a"
            ],
            [
             0.8888888888888888,
             "#fdca26"
            ],
            [
             1,
             "#f0f921"
            ]
           ],
           "sequentialminus": [
            [
             0,
             "#0d0887"
            ],
            [
             0.1111111111111111,
             "#46039f"
            ],
            [
             0.2222222222222222,
             "#7201a8"
            ],
            [
             0.3333333333333333,
             "#9c179e"
            ],
            [
             0.4444444444444444,
             "#bd3786"
            ],
            [
             0.5555555555555556,
             "#d8576b"
            ],
            [
             0.6666666666666666,
             "#ed7953"
            ],
            [
             0.7777777777777778,
             "#fb9f3a"
            ],
            [
             0.8888888888888888,
             "#fdca26"
            ],
            [
             1,
             "#f0f921"
            ]
           ]
          },
          "colorway": [
           "#636efa",
           "#EF553B",
           "#00cc96",
           "#ab63fa",
           "#FFA15A",
           "#19d3f3",
           "#FF6692",
           "#B6E880",
           "#FF97FF",
           "#FECB52"
          ],
          "font": {
           "color": "#2a3f5f"
          },
          "geo": {
           "bgcolor": "white",
           "lakecolor": "white",
           "landcolor": "#E5ECF6",
           "showlakes": true,
           "showland": true,
           "subunitcolor": "white"
          },
          "hoverlabel": {
           "align": "left"
          },
          "hovermode": "closest",
          "mapbox": {
           "style": "light"
          },
          "paper_bgcolor": "white",
          "plot_bgcolor": "#E5ECF6",
          "polar": {
           "angularaxis": {
            "gridcolor": "white",
            "linecolor": "white",
            "ticks": ""
           },
           "bgcolor": "#E5ECF6",
           "radialaxis": {
            "gridcolor": "white",
            "linecolor": "white",
            "ticks": ""
           }
          },
          "scene": {
           "xaxis": {
            "backgroundcolor": "#E5ECF6",
            "gridcolor": "white",
            "gridwidth": 2,
            "linecolor": "white",
            "showbackground": true,
            "ticks": "",
            "zerolinecolor": "white"
           },
           "yaxis": {
            "backgroundcolor": "#E5ECF6",
            "gridcolor": "white",
            "gridwidth": 2,
            "linecolor": "white",
            "showbackground": true,
            "ticks": "",
            "zerolinecolor": "white"
           },
           "zaxis": {
            "backgroundcolor": "#E5ECF6",
            "gridcolor": "white",
            "gridwidth": 2,
            "linecolor": "white",
            "showbackground": true,
            "ticks": "",
            "zerolinecolor": "white"
           }
          },
          "shapedefaults": {
           "line": {
            "color": "#2a3f5f"
           }
          },
          "ternary": {
           "aaxis": {
            "gridcolor": "white",
            "linecolor": "white",
            "ticks": ""
           },
           "baxis": {
            "gridcolor": "white",
            "linecolor": "white",
            "ticks": ""
           },
           "bgcolor": "#E5ECF6",
           "caxis": {
            "gridcolor": "white",
            "linecolor": "white",
            "ticks": ""
           }
          },
          "title": {
           "x": 0.05
          },
          "xaxis": {
           "automargin": true,
           "gridcolor": "white",
           "linecolor": "white",
           "ticks": "",
           "title": {
            "standoff": 15
           },
           "zerolinecolor": "white",
           "zerolinewidth": 2
          },
          "yaxis": {
           "automargin": true,
           "gridcolor": "white",
           "linecolor": "white",
           "ticks": "",
           "title": {
            "standoff": 15
           },
           "zerolinecolor": "white",
           "zerolinewidth": 2
          }
         }
        },
        "title": {
         "font": {
          "color": "#4D5663"
         },
         "text": "Top 20 Bigram Words"
        },
        "xaxis": {
         "gridcolor": "#E1E5ED",
         "showgrid": true,
         "tickfont": {
          "color": "#4D5663"
         },
         "title": {
          "font": {
           "color": "#4D5663"
          },
          "text": "Bigram"
         },
         "zerolinecolor": "#E1E5ED"
        },
        "yaxis": {
         "gridcolor": "#E1E5ED",
         "showgrid": true,
         "tickfont": {
          "color": "#4D5663"
         },
         "title": {
          "font": {
           "color": "#4D5663"
          },
          "text": "Frequency"
         },
         "zerolinecolor": "#E1E5ED"
        }
       }
      },
      "text/html": [
       "<div>                            <div id=\"862ab6f1-5095-4cd4-ba63-7ffc4d4c39a4\" class=\"plotly-graph-div\" style=\"height:525px; width:100%;\"></div>            <script type=\"text/javascript\">                require([\"plotly\"], function(Plotly) {                    window.PLOTLYENV=window.PLOTLYENV || {};\n",
       "                    window.PLOTLYENV.BASE_URL='https://plot.ly';                                    if (document.getElementById(\"862ab6f1-5095-4cd4-ba63-7ffc4d4c39a4\")) {                    Plotly.newPlot(                        \"862ab6f1-5095-4cd4-ba63-7ffc4d4c39a4\",                        [{\"marker\":{\"color\":\"rgba(255, 153, 51, 0.6)\",\"line\":{\"color\":\"rgba(255, 153, 51, 1.0)\",\"width\":1}},\"name\":\"Frequency\",\"orientation\":\"v\",\"text\":\"\",\"x\":[\"rt mention\",\"0f feels\",\"severe thunderstorm\",\"feels 29\",\"thunderstorm warning\",\"mention mention\",\"nice weather\",\"weather 53\",\"hot outside\",\"warm weather\",\"53 pm\",\"weather link\",\"80 degrees\",\"south wind\",\"southeast wind\",\"sunny day\",\"00 pm\",\"mention weather\",\"good weather\",\"weather 56\"],\"y\":[87,38,23,22,17,15,13,10,10,9,8,8,8,8,8,7,7,7,7,7],\"type\":\"bar\"}],                        {\"legend\":{\"bgcolor\":\"#F5F6F9\",\"font\":{\"color\":\"#4D5663\"}},\"paper_bgcolor\":\"#F5F6F9\",\"plot_bgcolor\":\"#F5F6F9\",\"template\":{\"data\":{\"barpolar\":[{\"marker\":{\"line\":{\"color\":\"#E5ECF6\",\"width\":0.5},\"pattern\":{\"fillmode\":\"overlay\",\"size\":10,\"solidity\":0.2}},\"type\":\"barpolar\"}],\"bar\":[{\"error_x\":{\"color\":\"#2a3f5f\"},\"error_y\":{\"color\":\"#2a3f5f\"},\"marker\":{\"line\":{\"color\":\"#E5ECF6\",\"width\":0.5},\"pattern\":{\"fillmode\":\"overlay\",\"size\":10,\"solidity\":0.2}},\"type\":\"bar\"}],\"carpet\":[{\"aaxis\":{\"endlinecolor\":\"#2a3f5f\",\"gridcolor\":\"white\",\"linecolor\":\"white\",\"minorgridcolor\":\"white\",\"startlinecolor\":\"#2a3f5f\"},\"baxis\":{\"endlinecolor\":\"#2a3f5f\",\"gridcolor\":\"white\",\"linecolor\":\"white\",\"minorgridcolor\":\"white\",\"startlinecolor\":\"#2a3f5f\"},\"type\":\"carpet\"}],\"choropleth\":[{\"colorbar\":{\"outlinewidth\":0,\"ticks\":\"\"},\"type\":\"choropleth\"}],\"contourcarpet\":[{\"colorbar\":{\"outlinewidth\":0,\"ticks\":\"\"},\"type\":\"contourcarpet\"}],\"contour\":[{\"colorbar\":{\"outlinewidth\":0,\"ticks\":\"\"},\"colorscale\":[[0.0,\"#0d0887\"],[0.1111111111111111,\"#46039f\"],[0.2222222222222222,\"#7201a8\"],[0.3333333333333333,\"#9c179e\"],[0.4444444444444444,\"#bd3786\"],[0.5555555555555556,\"#d8576b\"],[0.6666666666666666,\"#ed7953\"],[0.7777777777777778,\"#fb9f3a\"],[0.8888888888888888,\"#fdca26\"],[1.0,\"#f0f921\"]],\"type\":\"contour\"}],\"heatmapgl\":[{\"colorbar\":{\"outlinewidth\":0,\"ticks\":\"\"},\"colorscale\":[[0.0,\"#0d0887\"],[0.1111111111111111,\"#46039f\"],[0.2222222222222222,\"#7201a8\"],[0.3333333333333333,\"#9c179e\"],[0.4444444444444444,\"#bd3786\"],[0.5555555555555556,\"#d8576b\"],[0.6666666666666666,\"#ed7953\"],[0.7777777777777778,\"#fb9f3a\"],[0.8888888888888888,\"#fdca26\"],[1.0,\"#f0f921\"]],\"type\":\"heatmapgl\"}],\"heatmap\":[{\"colorbar\":{\"outlinewidth\":0,\"ticks\":\"\"},\"colorscale\":[[0.0,\"#0d0887\"],[0.1111111111111111,\"#46039f\"],[0.2222222222222222,\"#7201a8\"],[0.3333333333333333,\"#9c179e\"],[0.4444444444444444,\"#bd3786\"],[0.5555555555555556,\"#d8576b\"],[0.6666666666666666,\"#ed7953\"],[0.7777777777777778,\"#fb9f3a\"],[0.8888888888888888,\"#fdca26\"],[1.0,\"#f0f921\"]],\"type\":\"heatmap\"}],\"histogram2dcontour\":[{\"colorbar\":{\"outlinewidth\":0,\"ticks\":\"\"},\"colorscale\":[[0.0,\"#0d0887\"],[0.1111111111111111,\"#46039f\"],[0.2222222222222222,\"#7201a8\"],[0.3333333333333333,\"#9c179e\"],[0.4444444444444444,\"#bd3786\"],[0.5555555555555556,\"#d8576b\"],[0.6666666666666666,\"#ed7953\"],[0.7777777777777778,\"#fb9f3a\"],[0.8888888888888888,\"#fdca26\"],[1.0,\"#f0f921\"]],\"type\":\"histogram2dcontour\"}],\"histogram2d\":[{\"colorbar\":{\"outlinewidth\":0,\"ticks\":\"\"},\"colorscale\":[[0.0,\"#0d0887\"],[0.1111111111111111,\"#46039f\"],[0.2222222222222222,\"#7201a8\"],[0.3333333333333333,\"#9c179e\"],[0.4444444444444444,\"#bd3786\"],[0.5555555555555556,\"#d8576b\"],[0.6666666666666666,\"#ed7953\"],[0.7777777777777778,\"#fb9f3a\"],[0.8888888888888888,\"#fdca26\"],[1.0,\"#f0f921\"]],\"type\":\"histogram2d\"}],\"histogram\":[{\"marker\":{\"pattern\":{\"fillmode\":\"overlay\",\"size\":10,\"solidity\":0.2}},\"type\":\"histogram\"}],\"mesh3d\":[{\"colorbar\":{\"outlinewidth\":0,\"ticks\":\"\"},\"type\":\"mesh3d\"}],\"parcoords\":[{\"line\":{\"colorbar\":{\"outlinewidth\":0,\"ticks\":\"\"}},\"type\":\"parcoords\"}],\"pie\":[{\"automargin\":true,\"type\":\"pie\"}],\"scatter3d\":[{\"line\":{\"colorbar\":{\"outlinewidth\":0,\"ticks\":\"\"}},\"marker\":{\"colorbar\":{\"outlinewidth\":0,\"ticks\":\"\"}},\"type\":\"scatter3d\"}],\"scattercarpet\":[{\"marker\":{\"colorbar\":{\"outlinewidth\":0,\"ticks\":\"\"}},\"type\":\"scattercarpet\"}],\"scattergeo\":[{\"marker\":{\"colorbar\":{\"outlinewidth\":0,\"ticks\":\"\"}},\"type\":\"scattergeo\"}],\"scattergl\":[{\"marker\":{\"colorbar\":{\"outlinewidth\":0,\"ticks\":\"\"}},\"type\":\"scattergl\"}],\"scattermapbox\":[{\"marker\":{\"colorbar\":{\"outlinewidth\":0,\"ticks\":\"\"}},\"type\":\"scattermapbox\"}],\"scatterpolargl\":[{\"marker\":{\"colorbar\":{\"outlinewidth\":0,\"ticks\":\"\"}},\"type\":\"scatterpolargl\"}],\"scatterpolar\":[{\"marker\":{\"colorbar\":{\"outlinewidth\":0,\"ticks\":\"\"}},\"type\":\"scatterpolar\"}],\"scatter\":[{\"fillpattern\":{\"fillmode\":\"overlay\",\"size\":10,\"solidity\":0.2},\"type\":\"scatter\"}],\"scatterternary\":[{\"marker\":{\"colorbar\":{\"outlinewidth\":0,\"ticks\":\"\"}},\"type\":\"scatterternary\"}],\"surface\":[{\"colorbar\":{\"outlinewidth\":0,\"ticks\":\"\"},\"colorscale\":[[0.0,\"#0d0887\"],[0.1111111111111111,\"#46039f\"],[0.2222222222222222,\"#7201a8\"],[0.3333333333333333,\"#9c179e\"],[0.4444444444444444,\"#bd3786\"],[0.5555555555555556,\"#d8576b\"],[0.6666666666666666,\"#ed7953\"],[0.7777777777777778,\"#fb9f3a\"],[0.8888888888888888,\"#fdca26\"],[1.0,\"#f0f921\"]],\"type\":\"surface\"}],\"table\":[{\"cells\":{\"fill\":{\"color\":\"#EBF0F8\"},\"line\":{\"color\":\"white\"}},\"header\":{\"fill\":{\"color\":\"#C8D4E3\"},\"line\":{\"color\":\"white\"}},\"type\":\"table\"}]},\"layout\":{\"annotationdefaults\":{\"arrowcolor\":\"#2a3f5f\",\"arrowhead\":0,\"arrowwidth\":1},\"autotypenumbers\":\"strict\",\"coloraxis\":{\"colorbar\":{\"outlinewidth\":0,\"ticks\":\"\"}},\"colorscale\":{\"diverging\":[[0,\"#8e0152\"],[0.1,\"#c51b7d\"],[0.2,\"#de77ae\"],[0.3,\"#f1b6da\"],[0.4,\"#fde0ef\"],[0.5,\"#f7f7f7\"],[0.6,\"#e6f5d0\"],[0.7,\"#b8e186\"],[0.8,\"#7fbc41\"],[0.9,\"#4d9221\"],[1,\"#276419\"]],\"sequential\":[[0.0,\"#0d0887\"],[0.1111111111111111,\"#46039f\"],[0.2222222222222222,\"#7201a8\"],[0.3333333333333333,\"#9c179e\"],[0.4444444444444444,\"#bd3786\"],[0.5555555555555556,\"#d8576b\"],[0.6666666666666666,\"#ed7953\"],[0.7777777777777778,\"#fb9f3a\"],[0.8888888888888888,\"#fdca26\"],[1.0,\"#f0f921\"]],\"sequentialminus\":[[0.0,\"#0d0887\"],[0.1111111111111111,\"#46039f\"],[0.2222222222222222,\"#7201a8\"],[0.3333333333333333,\"#9c179e\"],[0.4444444444444444,\"#bd3786\"],[0.5555555555555556,\"#d8576b\"],[0.6666666666666666,\"#ed7953\"],[0.7777777777777778,\"#fb9f3a\"],[0.8888888888888888,\"#fdca26\"],[1.0,\"#f0f921\"]]},\"colorway\":[\"#636efa\",\"#EF553B\",\"#00cc96\",\"#ab63fa\",\"#FFA15A\",\"#19d3f3\",\"#FF6692\",\"#B6E880\",\"#FF97FF\",\"#FECB52\"],\"font\":{\"color\":\"#2a3f5f\"},\"geo\":{\"bgcolor\":\"white\",\"lakecolor\":\"white\",\"landcolor\":\"#E5ECF6\",\"showlakes\":true,\"showland\":true,\"subunitcolor\":\"white\"},\"hoverlabel\":{\"align\":\"left\"},\"hovermode\":\"closest\",\"mapbox\":{\"style\":\"light\"},\"paper_bgcolor\":\"white\",\"plot_bgcolor\":\"#E5ECF6\",\"polar\":{\"angularaxis\":{\"gridcolor\":\"white\",\"linecolor\":\"white\",\"ticks\":\"\"},\"bgcolor\":\"#E5ECF6\",\"radialaxis\":{\"gridcolor\":\"white\",\"linecolor\":\"white\",\"ticks\":\"\"}},\"scene\":{\"xaxis\":{\"backgroundcolor\":\"#E5ECF6\",\"gridcolor\":\"white\",\"gridwidth\":2,\"linecolor\":\"white\",\"showbackground\":true,\"ticks\":\"\",\"zerolinecolor\":\"white\"},\"yaxis\":{\"backgroundcolor\":\"#E5ECF6\",\"gridcolor\":\"white\",\"gridwidth\":2,\"linecolor\":\"white\",\"showbackground\":true,\"ticks\":\"\",\"zerolinecolor\":\"white\"},\"zaxis\":{\"backgroundcolor\":\"#E5ECF6\",\"gridcolor\":\"white\",\"gridwidth\":2,\"linecolor\":\"white\",\"showbackground\":true,\"ticks\":\"\",\"zerolinecolor\":\"white\"}},\"shapedefaults\":{\"line\":{\"color\":\"#2a3f5f\"}},\"ternary\":{\"aaxis\":{\"gridcolor\":\"white\",\"linecolor\":\"white\",\"ticks\":\"\"},\"baxis\":{\"gridcolor\":\"white\",\"linecolor\":\"white\",\"ticks\":\"\"},\"bgcolor\":\"#E5ECF6\",\"caxis\":{\"gridcolor\":\"white\",\"linecolor\":\"white\",\"ticks\":\"\"}},\"title\":{\"x\":0.05},\"xaxis\":{\"automargin\":true,\"gridcolor\":\"white\",\"linecolor\":\"white\",\"ticks\":\"\",\"title\":{\"standoff\":15},\"zerolinecolor\":\"white\",\"zerolinewidth\":2},\"yaxis\":{\"automargin\":true,\"gridcolor\":\"white\",\"linecolor\":\"white\",\"ticks\":\"\",\"title\":{\"standoff\":15},\"zerolinecolor\":\"white\",\"zerolinewidth\":2}}},\"title\":{\"font\":{\"color\":\"#4D5663\"},\"text\":\"Top 20 Bigram Words\"},\"xaxis\":{\"gridcolor\":\"#E1E5ED\",\"showgrid\":true,\"tickfont\":{\"color\":\"#4D5663\"},\"title\":{\"font\":{\"color\":\"#4D5663\"},\"text\":\"Bigram\"},\"zerolinecolor\":\"#E1E5ED\"},\"yaxis\":{\"gridcolor\":\"#E1E5ED\",\"showgrid\":true,\"tickfont\":{\"color\":\"#4D5663\"},\"title\":{\"font\":{\"color\":\"#4D5663\"},\"text\":\"Frequency\"},\"zerolinecolor\":\"#E1E5ED\"}},                        {\"showLink\": true, \"linkText\": \"Export to plot.ly\", \"plotlyServerURL\": \"https://plot.ly\", \"responsive\": true}                    ).then(function(){\n",
       "                            \n",
       "var gd = document.getElementById('862ab6f1-5095-4cd4-ba63-7ffc4d4c39a4');\n",
       "var x = new MutationObserver(function (mutations, observer) {{\n",
       "        var display = window.getComputedStyle(gd).display;\n",
       "        if (!display || display === 'none') {{\n",
       "            console.log([gd, 'removed!']);\n",
       "            Plotly.purge(gd);\n",
       "            observer.disconnect();\n",
       "        }}\n",
       "}});\n",
       "\n",
       "// Listen for the removal of the full notebook cells\n",
       "var notebookContainer = gd.closest('#notebook-container');\n",
       "if (notebookContainer) {{\n",
       "    x.observe(notebookContainer, {childList: true});\n",
       "}}\n",
       "\n",
       "// Listen for the clearing of the current output cell\n",
       "var outputEl = gd.closest('.output');\n",
       "if (outputEl) {{\n",
       "    x.observe(outputEl, {childList: true});\n",
       "}}\n",
       "\n",
       "                        })                };                });            </script>        </div>"
      ]
     },
     "metadata": {},
     "output_type": "display_data"
    }
   ],
   "source": [
    "words = get_top_n_words(df['text'], 20)\n",
    "dfBi = pd.DataFrame(words, columns = ['Bigram','Frequency'])\n",
    "dfBi = dfBi.set_index('Bigram')\n",
    "dfBi.iplot(kind = 'bar', xTitle='Bigram', yTitle='Frequency', title = 'Top 20 Bigram Words')"
   ]
  },
  {
   "cell_type": "markdown",
   "metadata": {},
   "source": [
    "##### Trigrams without Stop Words"
   ]
  },
  {
   "cell_type": "code",
   "execution_count": 45,
   "metadata": {},
   "outputs": [],
   "source": [
    "def get_top_n_words(x, n):\n",
    "    vec = CountVectorizer(ngram_range=(3,3), stop_words='english').fit(x)\n",
    "    bow = vec.transform(x)\n",
    "    sum_words = bow.sum(axis = 0)\n",
    "    word_freq = [(word, sum_words[0, idx]) for word, idx in vec.vocabulary_.items()]\n",
    "    word_freq = sorted(word_freq, key = lambda x: x[1], reverse = True)\n",
    "    return word_freq[:n]"
   ]
  },
  {
   "cell_type": "code",
   "execution_count": 46,
   "metadata": {},
   "outputs": [
    {
     "data": {
      "application/vnd.plotly.v1+json": {
       "config": {
        "linkText": "Export to plot.ly",
        "plotlyServerURL": "https://plot.ly",
        "showLink": true
       },
       "data": [
        {
         "marker": {
          "color": "rgba(255, 153, 51, 0.6)",
          "line": {
           "color": "rgba(255, 153, 51, 1.0)",
           "width": 1
          }
         },
         "name": "Frequency",
         "orientation": "v",
         "text": "",
         "type": "bar",
         "x": [
          "0f feels 29",
          "severe thunderstorm warning",
          "weather 53 pm",
          "feels 29 96",
          "29 96 humidity",
          "rt mention weather",
          "67 0f feels",
          "0f feels 30",
          "rt mention mention",
          "humidity 0mph north",
          "0mph north wind",
          "severe thunderstorm watch",
          "mph rain 00",
          "mention rt mention",
          "special weather statement",
          "weather statement issued",
          "weather 56 pm",
          "humidity 11 5mph",
          "weather watch issued",
          "humidity 18 4mph"
         ],
         "y": [
          22,
          17,
          7,
          5,
          5,
          5,
          5,
          5,
          4,
          4,
          4,
          4,
          4,
          4,
          4,
          4,
          4,
          4,
          3,
          3
         ]
        }
       ],
       "layout": {
        "legend": {
         "bgcolor": "#F5F6F9",
         "font": {
          "color": "#4D5663"
         }
        },
        "paper_bgcolor": "#F5F6F9",
        "plot_bgcolor": "#F5F6F9",
        "template": {
         "data": {
          "bar": [
           {
            "error_x": {
             "color": "#2a3f5f"
            },
            "error_y": {
             "color": "#2a3f5f"
            },
            "marker": {
             "line": {
              "color": "#E5ECF6",
              "width": 0.5
             },
             "pattern": {
              "fillmode": "overlay",
              "size": 10,
              "solidity": 0.2
             }
            },
            "type": "bar"
           }
          ],
          "barpolar": [
           {
            "marker": {
             "line": {
              "color": "#E5ECF6",
              "width": 0.5
             },
             "pattern": {
              "fillmode": "overlay",
              "size": 10,
              "solidity": 0.2
             }
            },
            "type": "barpolar"
           }
          ],
          "carpet": [
           {
            "aaxis": {
             "endlinecolor": "#2a3f5f",
             "gridcolor": "white",
             "linecolor": "white",
             "minorgridcolor": "white",
             "startlinecolor": "#2a3f5f"
            },
            "baxis": {
             "endlinecolor": "#2a3f5f",
             "gridcolor": "white",
             "linecolor": "white",
             "minorgridcolor": "white",
             "startlinecolor": "#2a3f5f"
            },
            "type": "carpet"
           }
          ],
          "choropleth": [
           {
            "colorbar": {
             "outlinewidth": 0,
             "ticks": ""
            },
            "type": "choropleth"
           }
          ],
          "contour": [
           {
            "colorbar": {
             "outlinewidth": 0,
             "ticks": ""
            },
            "colorscale": [
             [
              0,
              "#0d0887"
             ],
             [
              0.1111111111111111,
              "#46039f"
             ],
             [
              0.2222222222222222,
              "#7201a8"
             ],
             [
              0.3333333333333333,
              "#9c179e"
             ],
             [
              0.4444444444444444,
              "#bd3786"
             ],
             [
              0.5555555555555556,
              "#d8576b"
             ],
             [
              0.6666666666666666,
              "#ed7953"
             ],
             [
              0.7777777777777778,
              "#fb9f3a"
             ],
             [
              0.8888888888888888,
              "#fdca26"
             ],
             [
              1,
              "#f0f921"
             ]
            ],
            "type": "contour"
           }
          ],
          "contourcarpet": [
           {
            "colorbar": {
             "outlinewidth": 0,
             "ticks": ""
            },
            "type": "contourcarpet"
           }
          ],
          "heatmap": [
           {
            "colorbar": {
             "outlinewidth": 0,
             "ticks": ""
            },
            "colorscale": [
             [
              0,
              "#0d0887"
             ],
             [
              0.1111111111111111,
              "#46039f"
             ],
             [
              0.2222222222222222,
              "#7201a8"
             ],
             [
              0.3333333333333333,
              "#9c179e"
             ],
             [
              0.4444444444444444,
              "#bd3786"
             ],
             [
              0.5555555555555556,
              "#d8576b"
             ],
             [
              0.6666666666666666,
              "#ed7953"
             ],
             [
              0.7777777777777778,
              "#fb9f3a"
             ],
             [
              0.8888888888888888,
              "#fdca26"
             ],
             [
              1,
              "#f0f921"
             ]
            ],
            "type": "heatmap"
           }
          ],
          "heatmapgl": [
           {
            "colorbar": {
             "outlinewidth": 0,
             "ticks": ""
            },
            "colorscale": [
             [
              0,
              "#0d0887"
             ],
             [
              0.1111111111111111,
              "#46039f"
             ],
             [
              0.2222222222222222,
              "#7201a8"
             ],
             [
              0.3333333333333333,
              "#9c179e"
             ],
             [
              0.4444444444444444,
              "#bd3786"
             ],
             [
              0.5555555555555556,
              "#d8576b"
             ],
             [
              0.6666666666666666,
              "#ed7953"
             ],
             [
              0.7777777777777778,
              "#fb9f3a"
             ],
             [
              0.8888888888888888,
              "#fdca26"
             ],
             [
              1,
              "#f0f921"
             ]
            ],
            "type": "heatmapgl"
           }
          ],
          "histogram": [
           {
            "marker": {
             "pattern": {
              "fillmode": "overlay",
              "size": 10,
              "solidity": 0.2
             }
            },
            "type": "histogram"
           }
          ],
          "histogram2d": [
           {
            "colorbar": {
             "outlinewidth": 0,
             "ticks": ""
            },
            "colorscale": [
             [
              0,
              "#0d0887"
             ],
             [
              0.1111111111111111,
              "#46039f"
             ],
             [
              0.2222222222222222,
              "#7201a8"
             ],
             [
              0.3333333333333333,
              "#9c179e"
             ],
             [
              0.4444444444444444,
              "#bd3786"
             ],
             [
              0.5555555555555556,
              "#d8576b"
             ],
             [
              0.6666666666666666,
              "#ed7953"
             ],
             [
              0.7777777777777778,
              "#fb9f3a"
             ],
             [
              0.8888888888888888,
              "#fdca26"
             ],
             [
              1,
              "#f0f921"
             ]
            ],
            "type": "histogram2d"
           }
          ],
          "histogram2dcontour": [
           {
            "colorbar": {
             "outlinewidth": 0,
             "ticks": ""
            },
            "colorscale": [
             [
              0,
              "#0d0887"
             ],
             [
              0.1111111111111111,
              "#46039f"
             ],
             [
              0.2222222222222222,
              "#7201a8"
             ],
             [
              0.3333333333333333,
              "#9c179e"
             ],
             [
              0.4444444444444444,
              "#bd3786"
             ],
             [
              0.5555555555555556,
              "#d8576b"
             ],
             [
              0.6666666666666666,
              "#ed7953"
             ],
             [
              0.7777777777777778,
              "#fb9f3a"
             ],
             [
              0.8888888888888888,
              "#fdca26"
             ],
             [
              1,
              "#f0f921"
             ]
            ],
            "type": "histogram2dcontour"
           }
          ],
          "mesh3d": [
           {
            "colorbar": {
             "outlinewidth": 0,
             "ticks": ""
            },
            "type": "mesh3d"
           }
          ],
          "parcoords": [
           {
            "line": {
             "colorbar": {
              "outlinewidth": 0,
              "ticks": ""
             }
            },
            "type": "parcoords"
           }
          ],
          "pie": [
           {
            "automargin": true,
            "type": "pie"
           }
          ],
          "scatter": [
           {
            "fillpattern": {
             "fillmode": "overlay",
             "size": 10,
             "solidity": 0.2
            },
            "type": "scatter"
           }
          ],
          "scatter3d": [
           {
            "line": {
             "colorbar": {
              "outlinewidth": 0,
              "ticks": ""
             }
            },
            "marker": {
             "colorbar": {
              "outlinewidth": 0,
              "ticks": ""
             }
            },
            "type": "scatter3d"
           }
          ],
          "scattercarpet": [
           {
            "marker": {
             "colorbar": {
              "outlinewidth": 0,
              "ticks": ""
             }
            },
            "type": "scattercarpet"
           }
          ],
          "scattergeo": [
           {
            "marker": {
             "colorbar": {
              "outlinewidth": 0,
              "ticks": ""
             }
            },
            "type": "scattergeo"
           }
          ],
          "scattergl": [
           {
            "marker": {
             "colorbar": {
              "outlinewidth": 0,
              "ticks": ""
             }
            },
            "type": "scattergl"
           }
          ],
          "scattermapbox": [
           {
            "marker": {
             "colorbar": {
              "outlinewidth": 0,
              "ticks": ""
             }
            },
            "type": "scattermapbox"
           }
          ],
          "scatterpolar": [
           {
            "marker": {
             "colorbar": {
              "outlinewidth": 0,
              "ticks": ""
             }
            },
            "type": "scatterpolar"
           }
          ],
          "scatterpolargl": [
           {
            "marker": {
             "colorbar": {
              "outlinewidth": 0,
              "ticks": ""
             }
            },
            "type": "scatterpolargl"
           }
          ],
          "scatterternary": [
           {
            "marker": {
             "colorbar": {
              "outlinewidth": 0,
              "ticks": ""
             }
            },
            "type": "scatterternary"
           }
          ],
          "surface": [
           {
            "colorbar": {
             "outlinewidth": 0,
             "ticks": ""
            },
            "colorscale": [
             [
              0,
              "#0d0887"
             ],
             [
              0.1111111111111111,
              "#46039f"
             ],
             [
              0.2222222222222222,
              "#7201a8"
             ],
             [
              0.3333333333333333,
              "#9c179e"
             ],
             [
              0.4444444444444444,
              "#bd3786"
             ],
             [
              0.5555555555555556,
              "#d8576b"
             ],
             [
              0.6666666666666666,
              "#ed7953"
             ],
             [
              0.7777777777777778,
              "#fb9f3a"
             ],
             [
              0.8888888888888888,
              "#fdca26"
             ],
             [
              1,
              "#f0f921"
             ]
            ],
            "type": "surface"
           }
          ],
          "table": [
           {
            "cells": {
             "fill": {
              "color": "#EBF0F8"
             },
             "line": {
              "color": "white"
             }
            },
            "header": {
             "fill": {
              "color": "#C8D4E3"
             },
             "line": {
              "color": "white"
             }
            },
            "type": "table"
           }
          ]
         },
         "layout": {
          "annotationdefaults": {
           "arrowcolor": "#2a3f5f",
           "arrowhead": 0,
           "arrowwidth": 1
          },
          "autotypenumbers": "strict",
          "coloraxis": {
           "colorbar": {
            "outlinewidth": 0,
            "ticks": ""
           }
          },
          "colorscale": {
           "diverging": [
            [
             0,
             "#8e0152"
            ],
            [
             0.1,
             "#c51b7d"
            ],
            [
             0.2,
             "#de77ae"
            ],
            [
             0.3,
             "#f1b6da"
            ],
            [
             0.4,
             "#fde0ef"
            ],
            [
             0.5,
             "#f7f7f7"
            ],
            [
             0.6,
             "#e6f5d0"
            ],
            [
             0.7,
             "#b8e186"
            ],
            [
             0.8,
             "#7fbc41"
            ],
            [
             0.9,
             "#4d9221"
            ],
            [
             1,
             "#276419"
            ]
           ],
           "sequential": [
            [
             0,
             "#0d0887"
            ],
            [
             0.1111111111111111,
             "#46039f"
            ],
            [
             0.2222222222222222,
             "#7201a8"
            ],
            [
             0.3333333333333333,
             "#9c179e"
            ],
            [
             0.4444444444444444,
             "#bd3786"
            ],
            [
             0.5555555555555556,
             "#d8576b"
            ],
            [
             0.6666666666666666,
             "#ed7953"
            ],
            [
             0.7777777777777778,
             "#fb9f3a"
            ],
            [
             0.8888888888888888,
             "#fdca26"
            ],
            [
             1,
             "#f0f921"
            ]
           ],
           "sequentialminus": [
            [
             0,
             "#0d0887"
            ],
            [
             0.1111111111111111,
             "#46039f"
            ],
            [
             0.2222222222222222,
             "#7201a8"
            ],
            [
             0.3333333333333333,
             "#9c179e"
            ],
            [
             0.4444444444444444,
             "#bd3786"
            ],
            [
             0.5555555555555556,
             "#d8576b"
            ],
            [
             0.6666666666666666,
             "#ed7953"
            ],
            [
             0.7777777777777778,
             "#fb9f3a"
            ],
            [
             0.8888888888888888,
             "#fdca26"
            ],
            [
             1,
             "#f0f921"
            ]
           ]
          },
          "colorway": [
           "#636efa",
           "#EF553B",
           "#00cc96",
           "#ab63fa",
           "#FFA15A",
           "#19d3f3",
           "#FF6692",
           "#B6E880",
           "#FF97FF",
           "#FECB52"
          ],
          "font": {
           "color": "#2a3f5f"
          },
          "geo": {
           "bgcolor": "white",
           "lakecolor": "white",
           "landcolor": "#E5ECF6",
           "showlakes": true,
           "showland": true,
           "subunitcolor": "white"
          },
          "hoverlabel": {
           "align": "left"
          },
          "hovermode": "closest",
          "mapbox": {
           "style": "light"
          },
          "paper_bgcolor": "white",
          "plot_bgcolor": "#E5ECF6",
          "polar": {
           "angularaxis": {
            "gridcolor": "white",
            "linecolor": "white",
            "ticks": ""
           },
           "bgcolor": "#E5ECF6",
           "radialaxis": {
            "gridcolor": "white",
            "linecolor": "white",
            "ticks": ""
           }
          },
          "scene": {
           "xaxis": {
            "backgroundcolor": "#E5ECF6",
            "gridcolor": "white",
            "gridwidth": 2,
            "linecolor": "white",
            "showbackground": true,
            "ticks": "",
            "zerolinecolor": "white"
           },
           "yaxis": {
            "backgroundcolor": "#E5ECF6",
            "gridcolor": "white",
            "gridwidth": 2,
            "linecolor": "white",
            "showbackground": true,
            "ticks": "",
            "zerolinecolor": "white"
           },
           "zaxis": {
            "backgroundcolor": "#E5ECF6",
            "gridcolor": "white",
            "gridwidth": 2,
            "linecolor": "white",
            "showbackground": true,
            "ticks": "",
            "zerolinecolor": "white"
           }
          },
          "shapedefaults": {
           "line": {
            "color": "#2a3f5f"
           }
          },
          "ternary": {
           "aaxis": {
            "gridcolor": "white",
            "linecolor": "white",
            "ticks": ""
           },
           "baxis": {
            "gridcolor": "white",
            "linecolor": "white",
            "ticks": ""
           },
           "bgcolor": "#E5ECF6",
           "caxis": {
            "gridcolor": "white",
            "linecolor": "white",
            "ticks": ""
           }
          },
          "title": {
           "x": 0.05
          },
          "xaxis": {
           "automargin": true,
           "gridcolor": "white",
           "linecolor": "white",
           "ticks": "",
           "title": {
            "standoff": 15
           },
           "zerolinecolor": "white",
           "zerolinewidth": 2
          },
          "yaxis": {
           "automargin": true,
           "gridcolor": "white",
           "linecolor": "white",
           "ticks": "",
           "title": {
            "standoff": 15
           },
           "zerolinecolor": "white",
           "zerolinewidth": 2
          }
         }
        },
        "title": {
         "font": {
          "color": "#4D5663"
         },
         "text": "Top 20 Trigram Words"
        },
        "xaxis": {
         "gridcolor": "#E1E5ED",
         "showgrid": true,
         "tickfont": {
          "color": "#4D5663"
         },
         "title": {
          "font": {
           "color": "#4D5663"
          },
          "text": "Trigram"
         },
         "zerolinecolor": "#E1E5ED"
        },
        "yaxis": {
         "gridcolor": "#E1E5ED",
         "showgrid": true,
         "tickfont": {
          "color": "#4D5663"
         },
         "title": {
          "font": {
           "color": "#4D5663"
          },
          "text": "Frequency"
         },
         "zerolinecolor": "#E1E5ED"
        }
       }
      },
      "text/html": [
       "<div>                            <div id=\"6dc858f6-4fe6-446b-95e8-bf0b84f81de3\" class=\"plotly-graph-div\" style=\"height:525px; width:100%;\"></div>            <script type=\"text/javascript\">                require([\"plotly\"], function(Plotly) {                    window.PLOTLYENV=window.PLOTLYENV || {};\n",
       "                    window.PLOTLYENV.BASE_URL='https://plot.ly';                                    if (document.getElementById(\"6dc858f6-4fe6-446b-95e8-bf0b84f81de3\")) {                    Plotly.newPlot(                        \"6dc858f6-4fe6-446b-95e8-bf0b84f81de3\",                        [{\"marker\":{\"color\":\"rgba(255, 153, 51, 0.6)\",\"line\":{\"color\":\"rgba(255, 153, 51, 1.0)\",\"width\":1}},\"name\":\"Frequency\",\"orientation\":\"v\",\"text\":\"\",\"x\":[\"0f feels 29\",\"severe thunderstorm warning\",\"weather 53 pm\",\"feels 29 96\",\"29 96 humidity\",\"rt mention weather\",\"67 0f feels\",\"0f feels 30\",\"rt mention mention\",\"humidity 0mph north\",\"0mph north wind\",\"severe thunderstorm watch\",\"mph rain 00\",\"mention rt mention\",\"special weather statement\",\"weather statement issued\",\"weather 56 pm\",\"humidity 11 5mph\",\"weather watch issued\",\"humidity 18 4mph\"],\"y\":[22,17,7,5,5,5,5,5,4,4,4,4,4,4,4,4,4,4,3,3],\"type\":\"bar\"}],                        {\"legend\":{\"bgcolor\":\"#F5F6F9\",\"font\":{\"color\":\"#4D5663\"}},\"paper_bgcolor\":\"#F5F6F9\",\"plot_bgcolor\":\"#F5F6F9\",\"template\":{\"data\":{\"barpolar\":[{\"marker\":{\"line\":{\"color\":\"#E5ECF6\",\"width\":0.5},\"pattern\":{\"fillmode\":\"overlay\",\"size\":10,\"solidity\":0.2}},\"type\":\"barpolar\"}],\"bar\":[{\"error_x\":{\"color\":\"#2a3f5f\"},\"error_y\":{\"color\":\"#2a3f5f\"},\"marker\":{\"line\":{\"color\":\"#E5ECF6\",\"width\":0.5},\"pattern\":{\"fillmode\":\"overlay\",\"size\":10,\"solidity\":0.2}},\"type\":\"bar\"}],\"carpet\":[{\"aaxis\":{\"endlinecolor\":\"#2a3f5f\",\"gridcolor\":\"white\",\"linecolor\":\"white\",\"minorgridcolor\":\"white\",\"startlinecolor\":\"#2a3f5f\"},\"baxis\":{\"endlinecolor\":\"#2a3f5f\",\"gridcolor\":\"white\",\"linecolor\":\"white\",\"minorgridcolor\":\"white\",\"startlinecolor\":\"#2a3f5f\"},\"type\":\"carpet\"}],\"choropleth\":[{\"colorbar\":{\"outlinewidth\":0,\"ticks\":\"\"},\"type\":\"choropleth\"}],\"contourcarpet\":[{\"colorbar\":{\"outlinewidth\":0,\"ticks\":\"\"},\"type\":\"contourcarpet\"}],\"contour\":[{\"colorbar\":{\"outlinewidth\":0,\"ticks\":\"\"},\"colorscale\":[[0.0,\"#0d0887\"],[0.1111111111111111,\"#46039f\"],[0.2222222222222222,\"#7201a8\"],[0.3333333333333333,\"#9c179e\"],[0.4444444444444444,\"#bd3786\"],[0.5555555555555556,\"#d8576b\"],[0.6666666666666666,\"#ed7953\"],[0.7777777777777778,\"#fb9f3a\"],[0.8888888888888888,\"#fdca26\"],[1.0,\"#f0f921\"]],\"type\":\"contour\"}],\"heatmapgl\":[{\"colorbar\":{\"outlinewidth\":0,\"ticks\":\"\"},\"colorscale\":[[0.0,\"#0d0887\"],[0.1111111111111111,\"#46039f\"],[0.2222222222222222,\"#7201a8\"],[0.3333333333333333,\"#9c179e\"],[0.4444444444444444,\"#bd3786\"],[0.5555555555555556,\"#d8576b\"],[0.6666666666666666,\"#ed7953\"],[0.7777777777777778,\"#fb9f3a\"],[0.8888888888888888,\"#fdca26\"],[1.0,\"#f0f921\"]],\"type\":\"heatmapgl\"}],\"heatmap\":[{\"colorbar\":{\"outlinewidth\":0,\"ticks\":\"\"},\"colorscale\":[[0.0,\"#0d0887\"],[0.1111111111111111,\"#46039f\"],[0.2222222222222222,\"#7201a8\"],[0.3333333333333333,\"#9c179e\"],[0.4444444444444444,\"#bd3786\"],[0.5555555555555556,\"#d8576b\"],[0.6666666666666666,\"#ed7953\"],[0.7777777777777778,\"#fb9f3a\"],[0.8888888888888888,\"#fdca26\"],[1.0,\"#f0f921\"]],\"type\":\"heatmap\"}],\"histogram2dcontour\":[{\"colorbar\":{\"outlinewidth\":0,\"ticks\":\"\"},\"colorscale\":[[0.0,\"#0d0887\"],[0.1111111111111111,\"#46039f\"],[0.2222222222222222,\"#7201a8\"],[0.3333333333333333,\"#9c179e\"],[0.4444444444444444,\"#bd3786\"],[0.5555555555555556,\"#d8576b\"],[0.6666666666666666,\"#ed7953\"],[0.7777777777777778,\"#fb9f3a\"],[0.8888888888888888,\"#fdca26\"],[1.0,\"#f0f921\"]],\"type\":\"histogram2dcontour\"}],\"histogram2d\":[{\"colorbar\":{\"outlinewidth\":0,\"ticks\":\"\"},\"colorscale\":[[0.0,\"#0d0887\"],[0.1111111111111111,\"#46039f\"],[0.2222222222222222,\"#7201a8\"],[0.3333333333333333,\"#9c179e\"],[0.4444444444444444,\"#bd3786\"],[0.5555555555555556,\"#d8576b\"],[0.6666666666666666,\"#ed7953\"],[0.7777777777777778,\"#fb9f3a\"],[0.8888888888888888,\"#fdca26\"],[1.0,\"#f0f921\"]],\"type\":\"histogram2d\"}],\"histogram\":[{\"marker\":{\"pattern\":{\"fillmode\":\"overlay\",\"size\":10,\"solidity\":0.2}},\"type\":\"histogram\"}],\"mesh3d\":[{\"colorbar\":{\"outlinewidth\":0,\"ticks\":\"\"},\"type\":\"mesh3d\"}],\"parcoords\":[{\"line\":{\"colorbar\":{\"outlinewidth\":0,\"ticks\":\"\"}},\"type\":\"parcoords\"}],\"pie\":[{\"automargin\":true,\"type\":\"pie\"}],\"scatter3d\":[{\"line\":{\"colorbar\":{\"outlinewidth\":0,\"ticks\":\"\"}},\"marker\":{\"colorbar\":{\"outlinewidth\":0,\"ticks\":\"\"}},\"type\":\"scatter3d\"}],\"scattercarpet\":[{\"marker\":{\"colorbar\":{\"outlinewidth\":0,\"ticks\":\"\"}},\"type\":\"scattercarpet\"}],\"scattergeo\":[{\"marker\":{\"colorbar\":{\"outlinewidth\":0,\"ticks\":\"\"}},\"type\":\"scattergeo\"}],\"scattergl\":[{\"marker\":{\"colorbar\":{\"outlinewidth\":0,\"ticks\":\"\"}},\"type\":\"scattergl\"}],\"scattermapbox\":[{\"marker\":{\"colorbar\":{\"outlinewidth\":0,\"ticks\":\"\"}},\"type\":\"scattermapbox\"}],\"scatterpolargl\":[{\"marker\":{\"colorbar\":{\"outlinewidth\":0,\"ticks\":\"\"}},\"type\":\"scatterpolargl\"}],\"scatterpolar\":[{\"marker\":{\"colorbar\":{\"outlinewidth\":0,\"ticks\":\"\"}},\"type\":\"scatterpolar\"}],\"scatter\":[{\"fillpattern\":{\"fillmode\":\"overlay\",\"size\":10,\"solidity\":0.2},\"type\":\"scatter\"}],\"scatterternary\":[{\"marker\":{\"colorbar\":{\"outlinewidth\":0,\"ticks\":\"\"}},\"type\":\"scatterternary\"}],\"surface\":[{\"colorbar\":{\"outlinewidth\":0,\"ticks\":\"\"},\"colorscale\":[[0.0,\"#0d0887\"],[0.1111111111111111,\"#46039f\"],[0.2222222222222222,\"#7201a8\"],[0.3333333333333333,\"#9c179e\"],[0.4444444444444444,\"#bd3786\"],[0.5555555555555556,\"#d8576b\"],[0.6666666666666666,\"#ed7953\"],[0.7777777777777778,\"#fb9f3a\"],[0.8888888888888888,\"#fdca26\"],[1.0,\"#f0f921\"]],\"type\":\"surface\"}],\"table\":[{\"cells\":{\"fill\":{\"color\":\"#EBF0F8\"},\"line\":{\"color\":\"white\"}},\"header\":{\"fill\":{\"color\":\"#C8D4E3\"},\"line\":{\"color\":\"white\"}},\"type\":\"table\"}]},\"layout\":{\"annotationdefaults\":{\"arrowcolor\":\"#2a3f5f\",\"arrowhead\":0,\"arrowwidth\":1},\"autotypenumbers\":\"strict\",\"coloraxis\":{\"colorbar\":{\"outlinewidth\":0,\"ticks\":\"\"}},\"colorscale\":{\"diverging\":[[0,\"#8e0152\"],[0.1,\"#c51b7d\"],[0.2,\"#de77ae\"],[0.3,\"#f1b6da\"],[0.4,\"#fde0ef\"],[0.5,\"#f7f7f7\"],[0.6,\"#e6f5d0\"],[0.7,\"#b8e186\"],[0.8,\"#7fbc41\"],[0.9,\"#4d9221\"],[1,\"#276419\"]],\"sequential\":[[0.0,\"#0d0887\"],[0.1111111111111111,\"#46039f\"],[0.2222222222222222,\"#7201a8\"],[0.3333333333333333,\"#9c179e\"],[0.4444444444444444,\"#bd3786\"],[0.5555555555555556,\"#d8576b\"],[0.6666666666666666,\"#ed7953\"],[0.7777777777777778,\"#fb9f3a\"],[0.8888888888888888,\"#fdca26\"],[1.0,\"#f0f921\"]],\"sequentialminus\":[[0.0,\"#0d0887\"],[0.1111111111111111,\"#46039f\"],[0.2222222222222222,\"#7201a8\"],[0.3333333333333333,\"#9c179e\"],[0.4444444444444444,\"#bd3786\"],[0.5555555555555556,\"#d8576b\"],[0.6666666666666666,\"#ed7953\"],[0.7777777777777778,\"#fb9f3a\"],[0.8888888888888888,\"#fdca26\"],[1.0,\"#f0f921\"]]},\"colorway\":[\"#636efa\",\"#EF553B\",\"#00cc96\",\"#ab63fa\",\"#FFA15A\",\"#19d3f3\",\"#FF6692\",\"#B6E880\",\"#FF97FF\",\"#FECB52\"],\"font\":{\"color\":\"#2a3f5f\"},\"geo\":{\"bgcolor\":\"white\",\"lakecolor\":\"white\",\"landcolor\":\"#E5ECF6\",\"showlakes\":true,\"showland\":true,\"subunitcolor\":\"white\"},\"hoverlabel\":{\"align\":\"left\"},\"hovermode\":\"closest\",\"mapbox\":{\"style\":\"light\"},\"paper_bgcolor\":\"white\",\"plot_bgcolor\":\"#E5ECF6\",\"polar\":{\"angularaxis\":{\"gridcolor\":\"white\",\"linecolor\":\"white\",\"ticks\":\"\"},\"bgcolor\":\"#E5ECF6\",\"radialaxis\":{\"gridcolor\":\"white\",\"linecolor\":\"white\",\"ticks\":\"\"}},\"scene\":{\"xaxis\":{\"backgroundcolor\":\"#E5ECF6\",\"gridcolor\":\"white\",\"gridwidth\":2,\"linecolor\":\"white\",\"showbackground\":true,\"ticks\":\"\",\"zerolinecolor\":\"white\"},\"yaxis\":{\"backgroundcolor\":\"#E5ECF6\",\"gridcolor\":\"white\",\"gridwidth\":2,\"linecolor\":\"white\",\"showbackground\":true,\"ticks\":\"\",\"zerolinecolor\":\"white\"},\"zaxis\":{\"backgroundcolor\":\"#E5ECF6\",\"gridcolor\":\"white\",\"gridwidth\":2,\"linecolor\":\"white\",\"showbackground\":true,\"ticks\":\"\",\"zerolinecolor\":\"white\"}},\"shapedefaults\":{\"line\":{\"color\":\"#2a3f5f\"}},\"ternary\":{\"aaxis\":{\"gridcolor\":\"white\",\"linecolor\":\"white\",\"ticks\":\"\"},\"baxis\":{\"gridcolor\":\"white\",\"linecolor\":\"white\",\"ticks\":\"\"},\"bgcolor\":\"#E5ECF6\",\"caxis\":{\"gridcolor\":\"white\",\"linecolor\":\"white\",\"ticks\":\"\"}},\"title\":{\"x\":0.05},\"xaxis\":{\"automargin\":true,\"gridcolor\":\"white\",\"linecolor\":\"white\",\"ticks\":\"\",\"title\":{\"standoff\":15},\"zerolinecolor\":\"white\",\"zerolinewidth\":2},\"yaxis\":{\"automargin\":true,\"gridcolor\":\"white\",\"linecolor\":\"white\",\"ticks\":\"\",\"title\":{\"standoff\":15},\"zerolinecolor\":\"white\",\"zerolinewidth\":2}}},\"title\":{\"font\":{\"color\":\"#4D5663\"},\"text\":\"Top 20 Trigram Words\"},\"xaxis\":{\"gridcolor\":\"#E1E5ED\",\"showgrid\":true,\"tickfont\":{\"color\":\"#4D5663\"},\"title\":{\"font\":{\"color\":\"#4D5663\"},\"text\":\"Trigram\"},\"zerolinecolor\":\"#E1E5ED\"},\"yaxis\":{\"gridcolor\":\"#E1E5ED\",\"showgrid\":true,\"tickfont\":{\"color\":\"#4D5663\"},\"title\":{\"font\":{\"color\":\"#4D5663\"},\"text\":\"Frequency\"},\"zerolinecolor\":\"#E1E5ED\"}},                        {\"showLink\": true, \"linkText\": \"Export to plot.ly\", \"plotlyServerURL\": \"https://plot.ly\", \"responsive\": true}                    ).then(function(){\n",
       "                            \n",
       "var gd = document.getElementById('6dc858f6-4fe6-446b-95e8-bf0b84f81de3');\n",
       "var x = new MutationObserver(function (mutations, observer) {{\n",
       "        var display = window.getComputedStyle(gd).display;\n",
       "        if (!display || display === 'none') {{\n",
       "            console.log([gd, 'removed!']);\n",
       "            Plotly.purge(gd);\n",
       "            observer.disconnect();\n",
       "        }}\n",
       "}});\n",
       "\n",
       "// Listen for the removal of the full notebook cells\n",
       "var notebookContainer = gd.closest('#notebook-container');\n",
       "if (notebookContainer) {{\n",
       "    x.observe(notebookContainer, {childList: true});\n",
       "}}\n",
       "\n",
       "// Listen for the clearing of the current output cell\n",
       "var outputEl = gd.closest('.output');\n",
       "if (outputEl) {{\n",
       "    x.observe(outputEl, {childList: true});\n",
       "}}\n",
       "\n",
       "                        })                };                });            </script>        </div>"
      ]
     },
     "metadata": {},
     "output_type": "display_data"
    }
   ],
   "source": [
    "words = get_top_n_words(df['text'], 20)\n",
    "dfTri = pd.DataFrame(words, columns = ['Trigram','Frequency'])\n",
    "dfTri = dfTri.set_index('Trigram')\n",
    "dfTri.iplot(kind = 'bar', xTitle='Trigram', yTitle='Frequency', title = 'Top 20 Trigram Words')"
   ]
  },
  {
   "cell_type": "markdown",
   "metadata": {},
   "source": []
  }
 ],
 "metadata": {
  "kernelspec": {
   "display_name": "thesiswork",
   "language": "python",
   "name": "python3"
  },
  "language_info": {
   "codemirror_mode": {
    "name": "ipython",
    "version": 3
   },
   "file_extension": ".py",
   "mimetype": "text/x-python",
   "name": "python",
   "nbconvert_exporter": "python",
   "pygments_lexer": "ipython3",
   "version": "3.10.13"
  },
  "orig_nbformat": 4
 },
 "nbformat": 4,
 "nbformat_minor": 2
}
