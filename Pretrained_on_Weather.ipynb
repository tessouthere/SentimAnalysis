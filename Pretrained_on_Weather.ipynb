{
 "cells": [
  {
   "cell_type": "markdown",
   "metadata": {},
   "source": [
    "### Sentiment Analysis on Weather Dataset <br> Pre-trained Models <br> VADER, TextBlob, and Flair <br> With and Without Stopwords"
   ]
  },
  {
   "cell_type": "markdown",
   "metadata": {},
   "source": [
    "#### Importing Necessary Packages and Loading Data"
   ]
  },
  {
   "cell_type": "code",
   "execution_count": 1,
   "metadata": {},
   "outputs": [],
   "source": [
    "import pandas as pd  \n",
    "import sklearn\n",
    "import matplotlib.pyplot as plt\n",
    "import seaborn as sns\n",
    "import re\n",
    "import string\n",
    "import math\n",
    "\n",
    "df = pd.read_csv('weather-agg-DFE.csv')"
   ]
  },
  {
   "cell_type": "code",
   "execution_count": 2,
   "metadata": {},
   "outputs": [
    {
     "data": {
      "text/html": [
       "<div>\n",
       "<style scoped>\n",
       "    .dataframe tbody tr th:only-of-type {\n",
       "        vertical-align: middle;\n",
       "    }\n",
       "\n",
       "    .dataframe tbody tr th {\n",
       "        vertical-align: top;\n",
       "    }\n",
       "\n",
       "    .dataframe thead th {\n",
       "        text-align: right;\n",
       "    }\n",
       "</style>\n",
       "<table border=\"1\" class=\"dataframe\">\n",
       "  <thead>\n",
       "    <tr style=\"text-align: right;\">\n",
       "      <th></th>\n",
       "      <th>_unit_id</th>\n",
       "      <th>_canary</th>\n",
       "      <th>_unit_state</th>\n",
       "      <th>_trusted_judgments</th>\n",
       "      <th>_last_judgment_at</th>\n",
       "      <th>what_emotion_does_the_author_express_specifically_about_the_weather</th>\n",
       "      <th>what_emotion_does_the_author_express_specifically_about_the_weather:confidence</th>\n",
       "      <th>gold_answer</th>\n",
       "      <th>tweet_id</th>\n",
       "      <th>tweet_text</th>\n",
       "      <th>text</th>\n",
       "    </tr>\n",
       "  </thead>\n",
       "  <tbody>\n",
       "    <tr>\n",
       "      <th>0</th>\n",
       "      <td>314960380</td>\n",
       "      <td>NaN</td>\n",
       "      <td>finalized</td>\n",
       "      <td>20</td>\n",
       "      <td>8/24/13 0:21</td>\n",
       "      <td>Positive</td>\n",
       "      <td>0.8439</td>\n",
       "      <td>NaN</td>\n",
       "      <td>81990560</td>\n",
       "      <td>Grilling kabobs on the grill last night was am...</td>\n",
       "      <td>Grilling kabobs on the grill last night was am...</td>\n",
       "    </tr>\n",
       "    <tr>\n",
       "      <th>1</th>\n",
       "      <td>314960381</td>\n",
       "      <td>NaN</td>\n",
       "      <td>finalized</td>\n",
       "      <td>20</td>\n",
       "      <td>8/24/13 0:49</td>\n",
       "      <td>Negative</td>\n",
       "      <td>0.6963</td>\n",
       "      <td>NaN</td>\n",
       "      <td>84314377</td>\n",
       "      <td>The slowest day ever !! And the weather makes ...</td>\n",
       "      <td>The slowest day ever !! And the weather makes ...</td>\n",
       "    </tr>\n",
       "    <tr>\n",
       "      <th>2</th>\n",
       "      <td>314960382</td>\n",
       "      <td>NaN</td>\n",
       "      <td>finalized</td>\n",
       "      <td>20</td>\n",
       "      <td>8/24/13 0:55</td>\n",
       "      <td>Neutral / author is just sharing information</td>\n",
       "      <td>0.8802</td>\n",
       "      <td>NaN</td>\n",
       "      <td>82846118</td>\n",
       "      <td>Fire Weather Watch issued May 17 at 4:21PM CDT...</td>\n",
       "      <td>Fire Weather Watch issued May 17 at 4:21PM CDT...</td>\n",
       "    </tr>\n",
       "    <tr>\n",
       "      <th>3</th>\n",
       "      <td>314960383</td>\n",
       "      <td>NaN</td>\n",
       "      <td>finalized</td>\n",
       "      <td>20</td>\n",
       "      <td>8/24/13 0:48</td>\n",
       "      <td>Positive</td>\n",
       "      <td>0.6897</td>\n",
       "      <td>NaN</td>\n",
       "      <td>82843785</td>\n",
       "      <td>Im going to lunch early today.   The weather i...</td>\n",
       "      <td>Im going to lunch early today.   The weather i...</td>\n",
       "    </tr>\n",
       "    <tr>\n",
       "      <th>4</th>\n",
       "      <td>314960384</td>\n",
       "      <td>NaN</td>\n",
       "      <td>finalized</td>\n",
       "      <td>20</td>\n",
       "      <td>8/24/13 1:19</td>\n",
       "      <td>Neutral / author is just sharing information</td>\n",
       "      <td>0.6153</td>\n",
       "      <td>NaN</td>\n",
       "      <td>82840144</td>\n",
       "      <td>Weekend Weather Causes Delays In I-270 Bridge ...</td>\n",
       "      <td>Weekend Weather Causes Delays In I-270 Bridge ...</td>\n",
       "    </tr>\n",
       "  </tbody>\n",
       "</table>\n",
       "</div>"
      ],
      "text/plain": [
       "    _unit_id  _canary _unit_state  _trusted_judgments _last_judgment_at  \\\n",
       "0  314960380      NaN   finalized                  20      8/24/13 0:21   \n",
       "1  314960381      NaN   finalized                  20      8/24/13 0:49   \n",
       "2  314960382      NaN   finalized                  20      8/24/13 0:55   \n",
       "3  314960383      NaN   finalized                  20      8/24/13 0:48   \n",
       "4  314960384      NaN   finalized                  20      8/24/13 1:19   \n",
       "\n",
       "  what_emotion_does_the_author_express_specifically_about_the_weather  \\\n",
       "0                                           Positive                    \n",
       "1                                           Negative                    \n",
       "2       Neutral / author is just sharing information                    \n",
       "3                                           Positive                    \n",
       "4       Neutral / author is just sharing information                    \n",
       "\n",
       "   what_emotion_does_the_author_express_specifically_about_the_weather:confidence  \\\n",
       "0                                             0.8439                                \n",
       "1                                             0.6963                                \n",
       "2                                             0.8802                                \n",
       "3                                             0.6897                                \n",
       "4                                             0.6153                                \n",
       "\n",
       "   gold_answer  tweet_id                                         tweet_text  \\\n",
       "0          NaN  81990560  Grilling kabobs on the grill last night was am...   \n",
       "1          NaN  84314377  The slowest day ever !! And the weather makes ...   \n",
       "2          NaN  82846118  Fire Weather Watch issued May 17 at 4:21PM CDT...   \n",
       "3          NaN  82843785  Im going to lunch early today.   The weather i...   \n",
       "4          NaN  82840144  Weekend Weather Causes Delays In I-270 Bridge ...   \n",
       "\n",
       "                                                text  \n",
       "0  Grilling kabobs on the grill last night was am...  \n",
       "1  The slowest day ever !! And the weather makes ...  \n",
       "2  Fire Weather Watch issued May 17 at 4:21PM CDT...  \n",
       "3  Im going to lunch early today.   The weather i...  \n",
       "4  Weekend Weather Causes Delays In I-270 Bridge ...  "
      ]
     },
     "execution_count": 2,
     "metadata": {},
     "output_type": "execute_result"
    }
   ],
   "source": [
    "df.head()\n",
    "df['text'] = df['tweet_text']\n",
    "df.head()"
   ]
  },
  {
   "cell_type": "code",
   "execution_count": 32,
   "metadata": {},
   "outputs": [
    {
     "name": "stdout",
     "output_type": "stream",
     "text": [
      "<class 'pandas.core.frame.DataFrame'>\n",
      "RangeIndex: 1000 entries, 0 to 999\n",
      "Data columns (total 11 columns):\n",
      " #   Column                                                                          Non-Null Count  Dtype  \n",
      "---  ------                                                                          --------------  -----  \n",
      " 0   _unit_id                                                                        1000 non-null   int64  \n",
      " 1   _canary                                                                         0 non-null      float64\n",
      " 2   _unit_state                                                                     1000 non-null   object \n",
      " 3   _trusted_judgments                                                              1000 non-null   int64  \n",
      " 4   _last_judgment_at                                                               1000 non-null   object \n",
      " 5   what_emotion_does_the_author_express_specifically_about_the_weather             1000 non-null   object \n",
      " 6   what_emotion_does_the_author_express_specifically_about_the_weather:confidence  1000 non-null   float64\n",
      " 7   gold_answer                                                                     0 non-null      float64\n",
      " 8   tweet_id                                                                        1000 non-null   int64  \n",
      " 9   tweet_text                                                                      1000 non-null   object \n",
      " 10  text                                                                            1000 non-null   object \n",
      "dtypes: float64(3), int64(3), object(5)\n",
      "memory usage: 86.1+ KB\n"
     ]
    }
   ],
   "source": [
    "df.info()"
   ]
  },
  {
   "cell_type": "code",
   "execution_count": 33,
   "metadata": {},
   "outputs": [
    {
     "name": "stdout",
     "output_type": "stream",
     "text": [
      "<class 'pandas.core.frame.DataFrame'>\n",
      "RangeIndex: 1000 entries, 0 to 999\n",
      "Data columns (total 4 columns):\n",
      " #   Column                                                                          Non-Null Count  Dtype  \n",
      "---  ------                                                                          --------------  -----  \n",
      " 0   what_emotion_does_the_author_express_specifically_about_the_weather             1000 non-null   object \n",
      " 1   what_emotion_does_the_author_express_specifically_about_the_weather:confidence  1000 non-null   float64\n",
      " 2   tweet_id                                                                        1000 non-null   int64  \n",
      " 3   text                                                                            1000 non-null   object \n",
      "dtypes: float64(1), int64(1), object(2)\n",
      "memory usage: 31.4+ KB\n"
     ]
    }
   ],
   "source": [
    "df=df.drop(columns=['_canary', 'gold_answer', 'tweet_text','_unit_id','_unit_state','_trusted_judgments','_last_judgment_at'])\n",
    "df.info()"
   ]
  },
  {
   "cell_type": "code",
   "execution_count": 34,
   "metadata": {},
   "outputs": [
    {
     "name": "stdout",
     "output_type": "stream",
     "text": [
      "<class 'pandas.core.frame.DataFrame'>\n",
      "RangeIndex: 1000 entries, 0 to 999\n",
      "Data columns (total 4 columns):\n",
      " #   Column                                                                          Non-Null Count  Dtype  \n",
      "---  ------                                                                          --------------  -----  \n",
      " 0   what_emotion_does_the_author_express_specifically_about_the_weather             1000 non-null   object \n",
      " 1   what_emotion_does_the_author_express_specifically_about_the_weather:confidence  1000 non-null   float64\n",
      " 2   tweet_id                                                                        1000 non-null   int64  \n",
      " 3   text                                                                            1000 non-null   string \n",
      "dtypes: float64(1), int64(1), object(1), string(1)\n",
      "memory usage: 31.4+ KB\n"
     ]
    }
   ],
   "source": [
    "# convert text column to string for easier processing\n",
    "df['text'] = df['text'].astype(\"string\")\n",
    "df.info()"
   ]
  },
  {
   "cell_type": "code",
   "execution_count": 35,
   "metadata": {},
   "outputs": [
    {
     "data": {
      "text/plain": [
       "what_emotion_does_the_author_express_specifically_about_the_weather\n",
       "Negative                                        271\n",
       "Neutral / author is just sharing information    261\n",
       "Tweet not related to weather condition          235\n",
       "Positive                                        231\n",
       "I can't tell                                      2\n",
       "Name: count, dtype: int64"
      ]
     },
     "execution_count": 35,
     "metadata": {},
     "output_type": "execute_result"
    }
   ],
   "source": [
    "df['what_emotion_does_the_author_express_specifically_about_the_weather'].value_counts()"
   ]
  },
  {
   "cell_type": "code",
   "execution_count": 36,
   "metadata": {},
   "outputs": [
    {
     "name": "stdout",
     "output_type": "stream",
     "text": [
      "<class 'pandas.core.frame.DataFrame'>\n",
      "Index: 763 entries, 0 to 998\n",
      "Data columns (total 4 columns):\n",
      " #   Column                                                                          Non-Null Count  Dtype  \n",
      "---  ------                                                                          --------------  -----  \n",
      " 0   what_emotion_does_the_author_express_specifically_about_the_weather             763 non-null    object \n",
      " 1   what_emotion_does_the_author_express_specifically_about_the_weather:confidence  763 non-null    float64\n",
      " 2   tweet_id                                                                        763 non-null    int64  \n",
      " 3   text                                                                            763 non-null    string \n",
      "dtypes: float64(1), int64(1), object(1), string(1)\n",
      "memory usage: 29.8+ KB\n"
     ]
    }
   ],
   "source": [
    "df = df[df.what_emotion_does_the_author_express_specifically_about_the_weather != 'Tweet not related to weather condition']\n",
    "df = df[df.what_emotion_does_the_author_express_specifically_about_the_weather != \"I can't tell\"]\n",
    "df.info()"
   ]
  },
  {
   "cell_type": "code",
   "execution_count": 37,
   "metadata": {},
   "outputs": [
    {
     "data": {
      "text/plain": [
       "what_emotion_does_the_author_express_specifically_about_the_weather\n",
       "Negative                                        271\n",
       "Neutral / author is just sharing information    261\n",
       "Positive                                        231\n",
       "Name: count, dtype: int64"
      ]
     },
     "execution_count": 37,
     "metadata": {},
     "output_type": "execute_result"
    }
   ],
   "source": [
    "df['what_emotion_does_the_author_express_specifically_about_the_weather'].value_counts()"
   ]
  },
  {
   "cell_type": "code",
   "execution_count": 38,
   "metadata": {},
   "outputs": [],
   "source": [
    "df = df.replace(\"Negative\", -1)\n",
    "df = df.replace(\"Neutral / author is just sharing information\", 0)\n",
    "df = df.replace(\"Positive\", 1)\n",
    "df.rename(columns={'what_emotion_does_the_author_express_specifically_about_the_weather': \"Label\"}, inplace=True)\n",
    "df.rename(columns={'what_emotion_does_the_author_express_specifically_about_the_weather:confidence':\"Label_Confidence\"}, inplace=True)"
   ]
  },
  {
   "cell_type": "code",
   "execution_count": 39,
   "metadata": {},
   "outputs": [
    {
     "data": {
      "text/html": [
       "<div>\n",
       "<style scoped>\n",
       "    .dataframe tbody tr th:only-of-type {\n",
       "        vertical-align: middle;\n",
       "    }\n",
       "\n",
       "    .dataframe tbody tr th {\n",
       "        vertical-align: top;\n",
       "    }\n",
       "\n",
       "    .dataframe thead th {\n",
       "        text-align: right;\n",
       "    }\n",
       "</style>\n",
       "<table border=\"1\" class=\"dataframe\">\n",
       "  <thead>\n",
       "    <tr style=\"text-align: right;\">\n",
       "      <th></th>\n",
       "      <th>Label</th>\n",
       "      <th>Label_Confidence</th>\n",
       "      <th>tweet_id</th>\n",
       "      <th>text</th>\n",
       "    </tr>\n",
       "  </thead>\n",
       "  <tbody>\n",
       "    <tr>\n",
       "      <th>0</th>\n",
       "      <td>1</td>\n",
       "      <td>0.8439</td>\n",
       "      <td>81990560</td>\n",
       "      <td>Grilling kabobs on the grill last night was am...</td>\n",
       "    </tr>\n",
       "    <tr>\n",
       "      <th>1</th>\n",
       "      <td>-1</td>\n",
       "      <td>0.6963</td>\n",
       "      <td>84314377</td>\n",
       "      <td>The slowest day ever !! And the weather makes ...</td>\n",
       "    </tr>\n",
       "    <tr>\n",
       "      <th>2</th>\n",
       "      <td>0</td>\n",
       "      <td>0.8802</td>\n",
       "      <td>82846118</td>\n",
       "      <td>Fire Weather Watch issued May 17 at 4:21PM CDT...</td>\n",
       "    </tr>\n",
       "    <tr>\n",
       "      <th>3</th>\n",
       "      <td>1</td>\n",
       "      <td>0.6897</td>\n",
       "      <td>82843785</td>\n",
       "      <td>Im going to lunch early today.   The weather i...</td>\n",
       "    </tr>\n",
       "    <tr>\n",
       "      <th>4</th>\n",
       "      <td>0</td>\n",
       "      <td>0.6153</td>\n",
       "      <td>82840144</td>\n",
       "      <td>Weekend Weather Causes Delays In I-270 Bridge ...</td>\n",
       "    </tr>\n",
       "  </tbody>\n",
       "</table>\n",
       "</div>"
      ],
      "text/plain": [
       "   Label  Label_Confidence  tweet_id  \\\n",
       "0      1            0.8439  81990560   \n",
       "1     -1            0.6963  84314377   \n",
       "2      0            0.8802  82846118   \n",
       "3      1            0.6897  82843785   \n",
       "4      0            0.6153  82840144   \n",
       "\n",
       "                                                text  \n",
       "0  Grilling kabobs on the grill last night was am...  \n",
       "1  The slowest day ever !! And the weather makes ...  \n",
       "2  Fire Weather Watch issued May 17 at 4:21PM CDT...  \n",
       "3  Im going to lunch early today.   The weather i...  \n",
       "4  Weekend Weather Causes Delays In I-270 Bridge ...  "
      ]
     },
     "execution_count": 39,
     "metadata": {},
     "output_type": "execute_result"
    }
   ],
   "source": [
    "df.head()"
   ]
  },
  {
   "cell_type": "markdown",
   "metadata": {},
   "source": [
    "#### Adding a Column for Text without Stopwords"
   ]
  },
  {
   "cell_type": "code",
   "execution_count": 40,
   "metadata": {},
   "outputs": [
    {
     "data": {
      "text/html": [
       "<div>\n",
       "<style scoped>\n",
       "    .dataframe tbody tr th:only-of-type {\n",
       "        vertical-align: middle;\n",
       "    }\n",
       "\n",
       "    .dataframe tbody tr th {\n",
       "        vertical-align: top;\n",
       "    }\n",
       "\n",
       "    .dataframe thead th {\n",
       "        text-align: right;\n",
       "    }\n",
       "</style>\n",
       "<table border=\"1\" class=\"dataframe\">\n",
       "  <thead>\n",
       "    <tr style=\"text-align: right;\">\n",
       "      <th></th>\n",
       "      <th>Label</th>\n",
       "      <th>Label_Confidence</th>\n",
       "      <th>tweet_id</th>\n",
       "      <th>text</th>\n",
       "      <th>no_stop</th>\n",
       "    </tr>\n",
       "  </thead>\n",
       "  <tbody>\n",
       "    <tr>\n",
       "      <th>0</th>\n",
       "      <td>1</td>\n",
       "      <td>0.8439</td>\n",
       "      <td>81990560</td>\n",
       "      <td>Grilling kabobs on the grill last night was am...</td>\n",
       "      <td>Grilling kabobs grill last night amazing! I'm ...</td>\n",
       "    </tr>\n",
       "    <tr>\n",
       "      <th>1</th>\n",
       "      <td>-1</td>\n",
       "      <td>0.6963</td>\n",
       "      <td>84314377</td>\n",
       "      <td>The slowest day ever !! And the weather makes ...</td>\n",
       "      <td>The slowest day ever !! And weather makes even...</td>\n",
       "    </tr>\n",
       "    <tr>\n",
       "      <th>2</th>\n",
       "      <td>0</td>\n",
       "      <td>0.8802</td>\n",
       "      <td>82846118</td>\n",
       "      <td>Fire Weather Watch issued May 17 at 4:21PM CDT...</td>\n",
       "      <td>Fire Weather Watch issued May 17 4:21PM CDT ex...</td>\n",
       "    </tr>\n",
       "    <tr>\n",
       "      <th>3</th>\n",
       "      <td>1</td>\n",
       "      <td>0.6897</td>\n",
       "      <td>82843785</td>\n",
       "      <td>Im going to lunch early today.   The weather i...</td>\n",
       "      <td>Im going lunch early today. The weather nice o...</td>\n",
       "    </tr>\n",
       "    <tr>\n",
       "      <th>4</th>\n",
       "      <td>0</td>\n",
       "      <td>0.6153</td>\n",
       "      <td>82840144</td>\n",
       "      <td>Weekend Weather Causes Delays In I-270 Bridge ...</td>\n",
       "      <td>Weekend Weather Causes Delays In I-270 Bridge ...</td>\n",
       "    </tr>\n",
       "  </tbody>\n",
       "</table>\n",
       "</div>"
      ],
      "text/plain": [
       "   Label  Label_Confidence  tweet_id  \\\n",
       "0      1            0.8439  81990560   \n",
       "1     -1            0.6963  84314377   \n",
       "2      0            0.8802  82846118   \n",
       "3      1            0.6897  82843785   \n",
       "4      0            0.6153  82840144   \n",
       "\n",
       "                                                text  \\\n",
       "0  Grilling kabobs on the grill last night was am...   \n",
       "1  The slowest day ever !! And the weather makes ...   \n",
       "2  Fire Weather Watch issued May 17 at 4:21PM CDT...   \n",
       "3  Im going to lunch early today.   The weather i...   \n",
       "4  Weekend Weather Causes Delays In I-270 Bridge ...   \n",
       "\n",
       "                                             no_stop  \n",
       "0  Grilling kabobs grill last night amazing! I'm ...  \n",
       "1  The slowest day ever !! And weather makes even...  \n",
       "2  Fire Weather Watch issued May 17 4:21PM CDT ex...  \n",
       "3  Im going lunch early today. The weather nice o...  \n",
       "4  Weekend Weather Causes Delays In I-270 Bridge ...  "
      ]
     },
     "execution_count": 40,
     "metadata": {},
     "output_type": "execute_result"
    }
   ],
   "source": [
    "from nltk.corpus import stopwords\n",
    "stop = stopwords.words('english')\n",
    "df['no_stop'] = df['text'].apply(lambda x: ' '.join([word for word in x.split() if word not in (stop)]))\n",
    "df.head()"
   ]
  },
  {
   "cell_type": "markdown",
   "metadata": {},
   "source": [
    "#### VADER Sentiment Analysis"
   ]
  },
  {
   "cell_type": "code",
   "execution_count": 41,
   "metadata": {},
   "outputs": [
    {
     "name": "stderr",
     "output_type": "stream",
     "text": [
      "[nltk_data] Downloading package vader_lexicon to\n",
      "[nltk_data]     /Users/tessanderson/nltk_data...\n",
      "[nltk_data]   Package vader_lexicon is already up-to-date!\n"
     ]
    }
   ],
   "source": [
    "import nltk\n",
    "\n",
    "# Download the lexicon\n",
    "nltk.download(\"vader_lexicon\")\n",
    "\n",
    "# Import the lexicon \n",
    "from nltk.sentiment.vader import SentimentIntensityAnalyzer\n",
    "\n",
    "# Create an instance of SentimentIntensityAnalyzer\n",
    "sent_analyzer = SentimentIntensityAnalyzer()"
   ]
  },
  {
   "cell_type": "code",
   "execution_count": 42,
   "metadata": {},
   "outputs": [
    {
     "data": {
      "text/html": [
       "<div>\n",
       "<style scoped>\n",
       "    .dataframe tbody tr th:only-of-type {\n",
       "        vertical-align: middle;\n",
       "    }\n",
       "\n",
       "    .dataframe tbody tr th {\n",
       "        vertical-align: top;\n",
       "    }\n",
       "\n",
       "    .dataframe thead th {\n",
       "        text-align: right;\n",
       "    }\n",
       "</style>\n",
       "<table border=\"1\" class=\"dataframe\">\n",
       "  <thead>\n",
       "    <tr style=\"text-align: right;\">\n",
       "      <th></th>\n",
       "      <th>Label</th>\n",
       "      <th>Label_Confidence</th>\n",
       "      <th>tweet_id</th>\n",
       "      <th>text</th>\n",
       "      <th>no_stop</th>\n",
       "      <th>Vader_Prediction</th>\n",
       "      <th>NSVader_Prediction</th>\n",
       "    </tr>\n",
       "  </thead>\n",
       "  <tbody>\n",
       "    <tr>\n",
       "      <th>813</th>\n",
       "      <td>0</td>\n",
       "      <td>0.8191</td>\n",
       "      <td>83258489</td>\n",
       "      <td>Mostly sunny this afternoon, high 84 (29 C).  ...</td>\n",
       "      <td>Mostly sunny afternoon, high 84 (29 C). Low 66...</td>\n",
       "      <td>1</td>\n",
       "      <td>1</td>\n",
       "    </tr>\n",
       "    <tr>\n",
       "      <th>666</th>\n",
       "      <td>1</td>\n",
       "      <td>0.9189</td>\n",
       "      <td>83268491</td>\n",
       "      <td>The sunshine makes me happy.</td>\n",
       "      <td>The sunshine makes happy.</td>\n",
       "      <td>1</td>\n",
       "      <td>1</td>\n",
       "    </tr>\n",
       "    <tr>\n",
       "      <th>331</th>\n",
       "      <td>0</td>\n",
       "      <td>0.8913</td>\n",
       "      <td>81177836</td>\n",
       "      <td>87.4F (Feels: 95.3F) - Humidity: 63% - Wind: 9...</td>\n",
       "      <td>87.4F (Feels: 95.3F) - Humidity: 63% - Wind: 9...</td>\n",
       "      <td>-1</td>\n",
       "      <td>-1</td>\n",
       "    </tr>\n",
       "    <tr>\n",
       "      <th>763</th>\n",
       "      <td>1</td>\n",
       "      <td>0.8246</td>\n",
       "      <td>82676738</td>\n",
       "      <td>Sitting on the front porch drinking coffee, wa...</td>\n",
       "      <td>Sitting front porch drinking coffee, watching ...</td>\n",
       "      <td>1</td>\n",
       "      <td>1</td>\n",
       "    </tr>\n",
       "    <tr>\n",
       "      <th>799</th>\n",
       "      <td>-1</td>\n",
       "      <td>0.8471</td>\n",
       "      <td>82509678</td>\n",
       "      <td>i want to go out..but its cold and yucky out s...</td>\n",
       "      <td>want go out..but cold yucky idk</td>\n",
       "      <td>-1</td>\n",
       "      <td>-1</td>\n",
       "    </tr>\n",
       "  </tbody>\n",
       "</table>\n",
       "</div>"
      ],
      "text/plain": [
       "     Label  Label_Confidence  tweet_id  \\\n",
       "813      0            0.8191  83258489   \n",
       "666      1            0.9189  83268491   \n",
       "331      0            0.8913  81177836   \n",
       "763      1            0.8246  82676738   \n",
       "799     -1            0.8471  82509678   \n",
       "\n",
       "                                                  text  \\\n",
       "813  Mostly sunny this afternoon, high 84 (29 C).  ...   \n",
       "666                       The sunshine makes me happy.   \n",
       "331  87.4F (Feels: 95.3F) - Humidity: 63% - Wind: 9...   \n",
       "763  Sitting on the front porch drinking coffee, wa...   \n",
       "799  i want to go out..but its cold and yucky out s...   \n",
       "\n",
       "                                               no_stop  Vader_Prediction  \\\n",
       "813  Mostly sunny afternoon, high 84 (29 C). Low 66...                 1   \n",
       "666                          The sunshine makes happy.                 1   \n",
       "331  87.4F (Feels: 95.3F) - Humidity: 63% - Wind: 9...                -1   \n",
       "763  Sitting front porch drinking coffee, watching ...                 1   \n",
       "799                    want go out..but cold yucky idk                -1   \n",
       "\n",
       "     NSVader_Prediction  \n",
       "813                   1  \n",
       "666                   1  \n",
       "331                  -1  \n",
       "763                   1  \n",
       "799                  -1  "
      ]
     },
     "execution_count": 42,
     "metadata": {},
     "output_type": "execute_result"
    }
   ],
   "source": [
    "# adding the predictions as a column in dataset\n",
    "def format_output(output_dict):\n",
    "    sentiment=False\n",
    "    if(output_dict['compound']>=0.05):\n",
    "        sentiment=1\n",
    "    elif(output_dict['compound']<=-0.05):\n",
    "        sentiment=-1\n",
    "    else:\n",
    "        sentiment=0\n",
    "    return sentiment\n",
    "def predict_sentiment(text):\n",
    "    output_dict = sent_analyzer.polarity_scores(text)\n",
    "    return format_output(output_dict)\n",
    "\n",
    "# running the predictions\n",
    "df['Vader_Prediction']=df['text'].apply(predict_sentiment)\n",
    "df.sample(5)\n",
    "\n",
    "df['NSVader_Prediction']=df['no_stop'].apply(predict_sentiment)\n",
    "df.sample(5)"
   ]
  },
  {
   "cell_type": "code",
   "execution_count": 43,
   "metadata": {},
   "outputs": [
    {
     "name": "stdout",
     "output_type": "stream",
     "text": [
      "Accuracy: 0.5976408912188729\n",
      "\n",
      "              precision    recall  f1-score   support\n",
      "\n",
      "          -1       0.62      0.46      0.53       271\n",
      "           0       0.66      0.47      0.55       261\n",
      "           1       0.56      0.90      0.69       231\n",
      "\n",
      "    accuracy                           0.60       763\n",
      "   macro avg       0.61      0.61      0.59       763\n",
      "weighted avg       0.61      0.60      0.58       763\n",
      "\n"
     ]
    }
   ],
   "source": [
    "from sklearn.metrics import accuracy_score, classification_report\n",
    "\n",
    "accuracy = accuracy_score(df['Label'],df['Vader_Prediction'])\n",
    "\n",
    "print(\"Accuracy: {}\\n\".format(accuracy))\n",
    "\n",
    "print(classification_report(df['Label'],df['Vader_Prediction']))"
   ]
  },
  {
   "cell_type": "code",
   "execution_count": 44,
   "metadata": {},
   "outputs": [
    {
     "name": "stdout",
     "output_type": "stream",
     "text": [
      "Accuracy: 0.5937090432503277\n",
      "\n",
      "              precision    recall  f1-score   support\n",
      "\n",
      "          -1       0.61      0.45      0.52       271\n",
      "           0       0.65      0.47      0.55       261\n",
      "           1       0.55      0.90      0.69       231\n",
      "\n",
      "    accuracy                           0.59       763\n",
      "   macro avg       0.61      0.61      0.58       763\n",
      "weighted avg       0.61      0.59      0.58       763\n",
      "\n"
     ]
    }
   ],
   "source": [
    "accuracy = accuracy_score(df['Label'],df['NSVader_Prediction'])\n",
    "\n",
    "print(\"Accuracy: {}\\n\".format(accuracy))\n",
    "\n",
    "print(classification_report(df['Label'],df['NSVader_Prediction']))"
   ]
  },
  {
   "cell_type": "code",
   "execution_count": 14,
   "metadata": {},
   "outputs": [
    {
     "data": {
      "text/plain": [
       "<sklearn.metrics._plot.confusion_matrix.ConfusionMatrixDisplay at 0x110b0bc10>"
      ]
     },
     "execution_count": 14,
     "metadata": {},
     "output_type": "execute_result"
    },
    {
     "data": {
      "image/png": "[encoded data removed]",
      "text/plain": [
       "<Figure size 640x480 with 2 Axes>"
      ]
     },
     "metadata": {},
     "output_type": "display_data"
    }
   ],
   "source": [
    "from sklearn.metrics import confusion_matrix, ConfusionMatrixDisplay\n",
    "cm = confusion_matrix(df['Label'], df['Vader_Prediction'])\n",
    "disp = ConfusionMatrixDisplay(confusion_matrix=cm)\n",
    "disp.plot()"
   ]
  },
  {
   "cell_type": "code",
   "execution_count": 45,
   "metadata": {},
   "outputs": [
    {
     "data": {
      "text/plain": [
       "<sklearn.metrics._plot.confusion_matrix.ConfusionMatrixDisplay at 0x172ddeb00>"
      ]
     },
     "execution_count": 45,
     "metadata": {},
     "output_type": "execute_result"
    },
    {
     "data": {
      "image/png": "[encoded data removed]",
      "text/plain": [
       "<Figure size 640x480 with 2 Axes>"
      ]
     },
     "metadata": {},
     "output_type": "display_data"
    }
   ],
   "source": [
    "cm = confusion_matrix(df['Label'], df['NSVader_Prediction'])\n",
    "disp = ConfusionMatrixDisplay(confusion_matrix=cm)\n",
    "disp.plot()"
   ]
  },
  {
   "cell_type": "markdown",
   "metadata": {},
   "source": [
    "#### TextBlob Sentiment Analysis"
   ]
  },
  {
   "cell_type": "code",
   "execution_count": 46,
   "metadata": {},
   "outputs": [],
   "source": [
    "from textblob import TextBlob"
   ]
  },
  {
   "cell_type": "code",
   "execution_count": 48,
   "metadata": {},
   "outputs": [],
   "source": [
    "def sentiment_analysis(text):\n",
    " def getSubjectivity(text):\n",
    "   return TextBlob(text).sentiment.subjectivity\n",
    "  \n",
    " #Create a function to get the polarity\n",
    " def getPolarity(text):\n",
    "   return TextBlob(text).sentiment.polarity\n",
    "  \n",
    " #Create two new columns ‘Subjectivity’ & ‘Polarity’\n",
    " text['TextBlob_Subjectivity'] =    text['text'].apply(getSubjectivity)\n",
    " text ['TextBlob_Polarity'] = text['text'].apply(getPolarity)\n",
    " def getAnalysis(score):\n",
    "  if score < 0:\n",
    "    return -1\n",
    "  elif score == 0:\n",
    "    return 0\n",
    "  else:\n",
    "    return 1\n",
    " text ['TextBlob_Analysis'] = text  ['TextBlob_Polarity'].apply(getAnalysis )\n",
    " return text"
   ]
  },
  {
   "cell_type": "code",
   "execution_count": 47,
   "metadata": {},
   "outputs": [],
   "source": [
    "def NSsentiment_analysis(text):\n",
    " def getSubjectivity(text):\n",
    "   return TextBlob(text).sentiment.subjectivity\n",
    "  \n",
    " #Create a function to get the polarity\n",
    " def getPolarity(text):\n",
    "   return TextBlob(text).sentiment.polarity\n",
    "  \n",
    " #Create two new columns ‘Subjectivity’ & ‘Polarity’\n",
    " text['NSTextBlob_Subjectivity'] =    text['no_stop'].apply(getSubjectivity)\n",
    " text ['NSTextBlob_Polarity'] = text['no_stop'].apply(getPolarity)\n",
    " def getAnalysis(score):\n",
    "  if score < 0:\n",
    "    return -1\n",
    "  elif score == 0:\n",
    "    return 0\n",
    "  else:\n",
    "    return 1\n",
    " text ['NSTextBlob_Analysis'] = text  ['NSTextBlob_Polarity'].apply(getAnalysis )\n",
    " return text"
   ]
  },
  {
   "cell_type": "code",
   "execution_count": 49,
   "metadata": {},
   "outputs": [],
   "source": [
    "df = sentiment_analysis(df)\n",
    "df = NSsentiment_analysis(df)"
   ]
  },
  {
   "cell_type": "code",
   "execution_count": 50,
   "metadata": {},
   "outputs": [
    {
     "data": {
      "text/html": [
       "<div>\n",
       "<style scoped>\n",
       "    .dataframe tbody tr th:only-of-type {\n",
       "        vertical-align: middle;\n",
       "    }\n",
       "\n",
       "    .dataframe tbody tr th {\n",
       "        vertical-align: top;\n",
       "    }\n",
       "\n",
       "    .dataframe thead th {\n",
       "        text-align: right;\n",
       "    }\n",
       "</style>\n",
       "<table border=\"1\" class=\"dataframe\">\n",
       "  <thead>\n",
       "    <tr style=\"text-align: right;\">\n",
       "      <th></th>\n",
       "      <th>Label</th>\n",
       "      <th>Label_Confidence</th>\n",
       "      <th>tweet_id</th>\n",
       "      <th>text</th>\n",
       "      <th>no_stop</th>\n",
       "      <th>Vader_Prediction</th>\n",
       "      <th>NSVader_Prediction</th>\n",
       "      <th>TextBlob_Subjectivity</th>\n",
       "      <th>TextBlob_Polarity</th>\n",
       "      <th>TextBlob_Analysis</th>\n",
       "      <th>NSTextBlob_Subjectivity</th>\n",
       "      <th>NSTextBlob_Polarity</th>\n",
       "      <th>NSTextBlob_Analysis</th>\n",
       "    </tr>\n",
       "  </thead>\n",
       "  <tbody>\n",
       "    <tr>\n",
       "      <th>0</th>\n",
       "      <td>1</td>\n",
       "      <td>0.8439</td>\n",
       "      <td>81990560</td>\n",
       "      <td>Grilling kabobs on the grill last night was am...</td>\n",
       "      <td>Grilling kabobs grill last night amazing! I'm ...</td>\n",
       "      <td>1</td>\n",
       "      <td>1</td>\n",
       "      <td>0.741667</td>\n",
       "      <td>0.312500</td>\n",
       "      <td>1</td>\n",
       "      <td>0.741667</td>\n",
       "      <td>0.312500</td>\n",
       "      <td>1</td>\n",
       "    </tr>\n",
       "    <tr>\n",
       "      <th>1</th>\n",
       "      <td>-1</td>\n",
       "      <td>0.6963</td>\n",
       "      <td>84314377</td>\n",
       "      <td>The slowest day ever !! And the weather makes ...</td>\n",
       "      <td>The slowest day ever !! And weather makes even...</td>\n",
       "      <td>-1</td>\n",
       "      <td>-1</td>\n",
       "      <td>0.600000</td>\n",
       "      <td>-0.500000</td>\n",
       "      <td>-1</td>\n",
       "      <td>0.600000</td>\n",
       "      <td>-0.500000</td>\n",
       "      <td>-1</td>\n",
       "    </tr>\n",
       "    <tr>\n",
       "      <th>2</th>\n",
       "      <td>0</td>\n",
       "      <td>0.8802</td>\n",
       "      <td>82846118</td>\n",
       "      <td>Fire Weather Watch issued May 17 at 4:21PM CDT...</td>\n",
       "      <td>Fire Weather Watch issued May 17 4:21PM CDT ex...</td>\n",
       "      <td>-1</td>\n",
       "      <td>-1</td>\n",
       "      <td>0.000000</td>\n",
       "      <td>0.000000</td>\n",
       "      <td>0</td>\n",
       "      <td>0.000000</td>\n",
       "      <td>0.000000</td>\n",
       "      <td>0</td>\n",
       "    </tr>\n",
       "    <tr>\n",
       "      <th>3</th>\n",
       "      <td>1</td>\n",
       "      <td>0.6897</td>\n",
       "      <td>82843785</td>\n",
       "      <td>Im going to lunch early today.   The weather i...</td>\n",
       "      <td>Im going lunch early today. The weather nice o...</td>\n",
       "      <td>1</td>\n",
       "      <td>1</td>\n",
       "      <td>0.636111</td>\n",
       "      <td>0.388889</td>\n",
       "      <td>1</td>\n",
       "      <td>0.636111</td>\n",
       "      <td>0.388889</td>\n",
       "      <td>1</td>\n",
       "    </tr>\n",
       "    <tr>\n",
       "      <th>4</th>\n",
       "      <td>0</td>\n",
       "      <td>0.6153</td>\n",
       "      <td>82840144</td>\n",
       "      <td>Weekend Weather Causes Delays In I-270 Bridge ...</td>\n",
       "      <td>Weekend Weather Causes Delays In I-270 Bridge ...</td>\n",
       "      <td>0</td>\n",
       "      <td>0</td>\n",
       "      <td>0.000000</td>\n",
       "      <td>0.000000</td>\n",
       "      <td>0</td>\n",
       "      <td>0.000000</td>\n",
       "      <td>0.000000</td>\n",
       "      <td>0</td>\n",
       "    </tr>\n",
       "  </tbody>\n",
       "</table>\n",
       "</div>"
      ],
      "text/plain": [
       "   Label  Label_Confidence  tweet_id  \\\n",
       "0      1            0.8439  81990560   \n",
       "1     -1            0.6963  84314377   \n",
       "2      0            0.8802  82846118   \n",
       "3      1            0.6897  82843785   \n",
       "4      0            0.6153  82840144   \n",
       "\n",
       "                                                text  \\\n",
       "0  Grilling kabobs on the grill last night was am...   \n",
       "1  The slowest day ever !! And the weather makes ...   \n",
       "2  Fire Weather Watch issued May 17 at 4:21PM CDT...   \n",
       "3  Im going to lunch early today.   The weather i...   \n",
       "4  Weekend Weather Causes Delays In I-270 Bridge ...   \n",
       "\n",
       "                                             no_stop  Vader_Prediction  \\\n",
       "0  Grilling kabobs grill last night amazing! I'm ...                 1   \n",
       "1  The slowest day ever !! And weather makes even...                -1   \n",
       "2  Fire Weather Watch issued May 17 4:21PM CDT ex...                -1   \n",
       "3  Im going lunch early today. The weather nice o...                 1   \n",
       "4  Weekend Weather Causes Delays In I-270 Bridge ...                 0   \n",
       "\n",
       "   NSVader_Prediction  TextBlob_Subjectivity  TextBlob_Polarity  \\\n",
       "0                   1               0.741667           0.312500   \n",
       "1                  -1               0.600000          -0.500000   \n",
       "2                  -1               0.000000           0.000000   \n",
       "3                   1               0.636111           0.388889   \n",
       "4                   0               0.000000           0.000000   \n",
       "\n",
       "   TextBlob_Analysis  NSTextBlob_Subjectivity  NSTextBlob_Polarity  \\\n",
       "0                  1                 0.741667             0.312500   \n",
       "1                 -1                 0.600000            -0.500000   \n",
       "2                  0                 0.000000             0.000000   \n",
       "3                  1                 0.636111             0.388889   \n",
       "4                  0                 0.000000             0.000000   \n",
       "\n",
       "   NSTextBlob_Analysis  \n",
       "0                    1  \n",
       "1                   -1  \n",
       "2                    0  \n",
       "3                    1  \n",
       "4                    0  "
      ]
     },
     "execution_count": 50,
     "metadata": {},
     "output_type": "execute_result"
    }
   ],
   "source": [
    "df.head()"
   ]
  },
  {
   "cell_type": "code",
   "execution_count": 51,
   "metadata": {},
   "outputs": [
    {
     "name": "stdout",
     "output_type": "stream",
     "text": [
      "Accuracy: 0.5766710353866317\n",
      "\n",
      "              precision    recall  f1-score   support\n",
      "\n",
      "          -1       0.69      0.39      0.50       271\n",
      "           0       0.58      0.58      0.58       261\n",
      "           1       0.53      0.79      0.63       231\n",
      "\n",
      "    accuracy                           0.58       763\n",
      "   macro avg       0.60      0.59      0.57       763\n",
      "weighted avg       0.60      0.58      0.57       763\n",
      "\n"
     ]
    }
   ],
   "source": [
    "from sklearn.metrics import accuracy_score, classification_report\n",
    "\n",
    "accuracy = accuracy_score(df['Label'],df['TextBlob_Analysis'])\n",
    "\n",
    "print(\"Accuracy: {}\\n\".format(accuracy))\n",
    "\n",
    "print(classification_report(df['Label'],df['TextBlob_Analysis']))"
   ]
  },
  {
   "cell_type": "code",
   "execution_count": 52,
   "metadata": {},
   "outputs": [
    {
     "name": "stdout",
     "output_type": "stream",
     "text": [
      "Accuracy: 0.5727391874180865\n",
      "\n",
      "              precision    recall  f1-score   support\n",
      "\n",
      "          -1       0.69      0.37      0.48       271\n",
      "           0       0.57      0.59      0.58       261\n",
      "           1       0.53      0.79      0.63       231\n",
      "\n",
      "    accuracy                           0.57       763\n",
      "   macro avg       0.59      0.58      0.56       763\n",
      "weighted avg       0.60      0.57      0.56       763\n",
      "\n"
     ]
    }
   ],
   "source": [
    "accuracy = accuracy_score(df['Label'],df['NSTextBlob_Analysis'])\n",
    "\n",
    "print(\"Accuracy: {}\\n\".format(accuracy))\n",
    "\n",
    "print(classification_report(df['Label'],df['NSTextBlob_Analysis']))"
   ]
  },
  {
   "cell_type": "code",
   "execution_count": 53,
   "metadata": {},
   "outputs": [
    {
     "data": {
      "text/plain": [
       "<sklearn.metrics._plot.confusion_matrix.ConfusionMatrixDisplay at 0x291a03df0>"
      ]
     },
     "execution_count": 53,
     "metadata": {},
     "output_type": "execute_result"
    },
    {
     "data": {
      "image/png": "[encoded data removed]",
      "text/plain": [
       "<Figure size 640x480 with 2 Axes>"
      ]
     },
     "metadata": {},
     "output_type": "display_data"
    }
   ],
   "source": [
    "from sklearn.metrics import confusion_matrix, ConfusionMatrixDisplay\n",
    "cm = confusion_matrix(df['Label'], df['TextBlob_Analysis'])\n",
    "disp = ConfusionMatrixDisplay(confusion_matrix=cm)\n",
    "disp.plot()"
   ]
  },
  {
   "cell_type": "code",
   "execution_count": 54,
   "metadata": {},
   "outputs": [
    {
     "data": {
      "text/plain": [
       "<sklearn.metrics._plot.confusion_matrix.ConfusionMatrixDisplay at 0x173217100>"
      ]
     },
     "execution_count": 54,
     "metadata": {},
     "output_type": "execute_result"
    },
    {
     "data": {
      "image/png": "[encoded data removed]",
      "text/plain": [
       "<Figure size 640x480 with 2 Axes>"
      ]
     },
     "metadata": {},
     "output_type": "display_data"
    }
   ],
   "source": [
    "cm = confusion_matrix(df['Label'], df['NSTextBlob_Analysis'])\n",
    "disp = ConfusionMatrixDisplay(confusion_matrix=cm)\n",
    "disp.plot()"
   ]
  },
  {
   "cell_type": "markdown",
   "metadata": {},
   "source": [
    "#### Flair Sentiment Analysis"
   ]
  },
  {
   "cell_type": "code",
   "execution_count": 21,
   "metadata": {},
   "outputs": [],
   "source": [
    "import flair\n",
    "from flair.models import TextClassifier\n",
    "from flair.data import Sentence\n",
    "from segtok.segmenter import split_single\n",
    "import re\n",
    "\n",
    "sia = TextClassifier.load('en-sentiment')"
   ]
  },
  {
   "cell_type": "code",
   "execution_count": 22,
   "metadata": {},
   "outputs": [],
   "source": [
    "def sentiment_Flair(x):\n",
    "    sentence = Sentence(x)\n",
    "    sia.predict(sentence)\n",
    "    score = sentence.labels[0]\n",
    "    if \"POSITIVE\" in str(score):\n",
    "        return 1\n",
    "    elif \"NEGATIVE\" in str(score):\n",
    "        return -1\n",
    "    else:\n",
    "        return 0"
   ]
  },
  {
   "cell_type": "code",
   "execution_count": 55,
   "metadata": {},
   "outputs": [],
   "source": [
    "df['Flair_Sentiment'] = df['text'].apply(lambda x: sentiment_Flair(x))\n",
    "df['NSFlair_Sentiment'] = df['no_stop'].apply(lambda x: sentiment_Flair(x))"
   ]
  },
  {
   "cell_type": "code",
   "execution_count": 56,
   "metadata": {},
   "outputs": [
    {
     "data": {
      "text/html": [
       "<div>\n",
       "<style scoped>\n",
       "    .dataframe tbody tr th:only-of-type {\n",
       "        vertical-align: middle;\n",
       "    }\n",
       "\n",
       "    .dataframe tbody tr th {\n",
       "        vertical-align: top;\n",
       "    }\n",
       "\n",
       "    .dataframe thead th {\n",
       "        text-align: right;\n",
       "    }\n",
       "</style>\n",
       "<table border=\"1\" class=\"dataframe\">\n",
       "  <thead>\n",
       "    <tr style=\"text-align: right;\">\n",
       "      <th></th>\n",
       "      <th>Label</th>\n",
       "      <th>Label_Confidence</th>\n",
       "      <th>tweet_id</th>\n",
       "      <th>text</th>\n",
       "      <th>no_stop</th>\n",
       "      <th>Vader_Prediction</th>\n",
       "      <th>NSVader_Prediction</th>\n",
       "      <th>TextBlob_Subjectivity</th>\n",
       "      <th>TextBlob_Polarity</th>\n",
       "      <th>TextBlob_Analysis</th>\n",
       "      <th>NSTextBlob_Subjectivity</th>\n",
       "      <th>NSTextBlob_Polarity</th>\n",
       "      <th>NSTextBlob_Analysis</th>\n",
       "      <th>Flair_Sentiment</th>\n",
       "      <th>NSFlair_Sentiment</th>\n",
       "    </tr>\n",
       "  </thead>\n",
       "  <tbody>\n",
       "    <tr>\n",
       "      <th>0</th>\n",
       "      <td>1</td>\n",
       "      <td>0.8439</td>\n",
       "      <td>81990560</td>\n",
       "      <td>Grilling kabobs on the grill last night was am...</td>\n",
       "      <td>Grilling kabobs grill last night amazing! I'm ...</td>\n",
       "      <td>1</td>\n",
       "      <td>1</td>\n",
       "      <td>0.741667</td>\n",
       "      <td>0.312500</td>\n",
       "      <td>1</td>\n",
       "      <td>0.741667</td>\n",
       "      <td>0.312500</td>\n",
       "      <td>1</td>\n",
       "      <td>1</td>\n",
       "      <td>1</td>\n",
       "    </tr>\n",
       "    <tr>\n",
       "      <th>1</th>\n",
       "      <td>-1</td>\n",
       "      <td>0.6963</td>\n",
       "      <td>84314377</td>\n",
       "      <td>The slowest day ever !! And the weather makes ...</td>\n",
       "      <td>The slowest day ever !! And weather makes even...</td>\n",
       "      <td>-1</td>\n",
       "      <td>-1</td>\n",
       "      <td>0.600000</td>\n",
       "      <td>-0.500000</td>\n",
       "      <td>-1</td>\n",
       "      <td>0.600000</td>\n",
       "      <td>-0.500000</td>\n",
       "      <td>-1</td>\n",
       "      <td>-1</td>\n",
       "      <td>-1</td>\n",
       "    </tr>\n",
       "    <tr>\n",
       "      <th>2</th>\n",
       "      <td>0</td>\n",
       "      <td>0.8802</td>\n",
       "      <td>82846118</td>\n",
       "      <td>Fire Weather Watch issued May 17 at 4:21PM CDT...</td>\n",
       "      <td>Fire Weather Watch issued May 17 4:21PM CDT ex...</td>\n",
       "      <td>-1</td>\n",
       "      <td>-1</td>\n",
       "      <td>0.000000</td>\n",
       "      <td>0.000000</td>\n",
       "      <td>0</td>\n",
       "      <td>0.000000</td>\n",
       "      <td>0.000000</td>\n",
       "      <td>0</td>\n",
       "      <td>-1</td>\n",
       "      <td>-1</td>\n",
       "    </tr>\n",
       "    <tr>\n",
       "      <th>3</th>\n",
       "      <td>1</td>\n",
       "      <td>0.6897</td>\n",
       "      <td>82843785</td>\n",
       "      <td>Im going to lunch early today.   The weather i...</td>\n",
       "      <td>Im going lunch early today. The weather nice o...</td>\n",
       "      <td>1</td>\n",
       "      <td>1</td>\n",
       "      <td>0.636111</td>\n",
       "      <td>0.388889</td>\n",
       "      <td>1</td>\n",
       "      <td>0.636111</td>\n",
       "      <td>0.388889</td>\n",
       "      <td>1</td>\n",
       "      <td>1</td>\n",
       "      <td>1</td>\n",
       "    </tr>\n",
       "    <tr>\n",
       "      <th>4</th>\n",
       "      <td>0</td>\n",
       "      <td>0.6153</td>\n",
       "      <td>82840144</td>\n",
       "      <td>Weekend Weather Causes Delays In I-270 Bridge ...</td>\n",
       "      <td>Weekend Weather Causes Delays In I-270 Bridge ...</td>\n",
       "      <td>0</td>\n",
       "      <td>0</td>\n",
       "      <td>0.000000</td>\n",
       "      <td>0.000000</td>\n",
       "      <td>0</td>\n",
       "      <td>0.000000</td>\n",
       "      <td>0.000000</td>\n",
       "      <td>0</td>\n",
       "      <td>-1</td>\n",
       "      <td>-1</td>\n",
       "    </tr>\n",
       "  </tbody>\n",
       "</table>\n",
       "</div>"
      ],
      "text/plain": [
       "   Label  Label_Confidence  tweet_id  \\\n",
       "0      1            0.8439  81990560   \n",
       "1     -1            0.6963  84314377   \n",
       "2      0            0.8802  82846118   \n",
       "3      1            0.6897  82843785   \n",
       "4      0            0.6153  82840144   \n",
       "\n",
       "                                                text  \\\n",
       "0  Grilling kabobs on the grill last night was am...   \n",
       "1  The slowest day ever !! And the weather makes ...   \n",
       "2  Fire Weather Watch issued May 17 at 4:21PM CDT...   \n",
       "3  Im going to lunch early today.   The weather i...   \n",
       "4  Weekend Weather Causes Delays In I-270 Bridge ...   \n",
       "\n",
       "                                             no_stop  Vader_Prediction  \\\n",
       "0  Grilling kabobs grill last night amazing! I'm ...                 1   \n",
       "1  The slowest day ever !! And weather makes even...                -1   \n",
       "2  Fire Weather Watch issued May 17 4:21PM CDT ex...                -1   \n",
       "3  Im going lunch early today. The weather nice o...                 1   \n",
       "4  Weekend Weather Causes Delays In I-270 Bridge ...                 0   \n",
       "\n",
       "   NSVader_Prediction  TextBlob_Subjectivity  TextBlob_Polarity  \\\n",
       "0                   1               0.741667           0.312500   \n",
       "1                  -1               0.600000          -0.500000   \n",
       "2                  -1               0.000000           0.000000   \n",
       "3                   1               0.636111           0.388889   \n",
       "4                   0               0.000000           0.000000   \n",
       "\n",
       "   TextBlob_Analysis  NSTextBlob_Subjectivity  NSTextBlob_Polarity  \\\n",
       "0                  1                 0.741667             0.312500   \n",
       "1                 -1                 0.600000            -0.500000   \n",
       "2                  0                 0.000000             0.000000   \n",
       "3                  1                 0.636111             0.388889   \n",
       "4                  0                 0.000000             0.000000   \n",
       "\n",
       "   NSTextBlob_Analysis  Flair_Sentiment  NSFlair_Sentiment  \n",
       "0                    1                1                  1  \n",
       "1                   -1               -1                 -1  \n",
       "2                    0               -1                 -1  \n",
       "3                    1                1                  1  \n",
       "4                    0               -1                 -1  "
      ]
     },
     "execution_count": 56,
     "metadata": {},
     "output_type": "execute_result"
    }
   ],
   "source": [
    "df.head()"
   ]
  },
  {
   "cell_type": "code",
   "execution_count": 57,
   "metadata": {},
   "outputs": [
    {
     "name": "stdout",
     "output_type": "stream",
     "text": [
      "Accuracy: 0.5045871559633027\n",
      "\n",
      "              precision    recall  f1-score   support\n",
      "\n",
      "          -1       0.48      0.69      0.56       271\n",
      "           0       0.00      0.00      0.00       261\n",
      "           1       0.53      0.86      0.66       231\n",
      "\n",
      "    accuracy                           0.50       763\n",
      "   macro avg       0.34      0.52      0.41       763\n",
      "weighted avg       0.33      0.50      0.40       763\n",
      "\n"
     ]
    },
    {
     "name": "stderr",
     "output_type": "stream",
     "text": [
      "/Users/tessanderson/anaconda3/envs/thesiswork/lib/python3.10/site-packages/sklearn/metrics/_classification.py:1469: UndefinedMetricWarning: Precision and F-score are ill-defined and being set to 0.0 in labels with no predicted samples. Use `zero_division` parameter to control this behavior.\n",
      "  _warn_prf(average, modifier, msg_start, len(result))\n",
      "/Users/tessanderson/anaconda3/envs/thesiswork/lib/python3.10/site-packages/sklearn/metrics/_classification.py:1469: UndefinedMetricWarning: Precision and F-score are ill-defined and being set to 0.0 in labels with no predicted samples. Use `zero_division` parameter to control this behavior.\n",
      "  _warn_prf(average, modifier, msg_start, len(result))\n",
      "/Users/tessanderson/anaconda3/envs/thesiswork/lib/python3.10/site-packages/sklearn/metrics/_classification.py:1469: UndefinedMetricWarning: Precision and F-score are ill-defined and being set to 0.0 in labels with no predicted samples. Use `zero_division` parameter to control this behavior.\n",
      "  _warn_prf(average, modifier, msg_start, len(result))\n"
     ]
    }
   ],
   "source": [
    "from sklearn.metrics import accuracy_score, classification_report\n",
    "\n",
    "accuracy = accuracy_score(df['Label'],df['Flair_Sentiment'])\n",
    "\n",
    "print(\"Accuracy: {}\\n\".format(accuracy))\n",
    "\n",
    "print(classification_report(df['Label'],df['Flair_Sentiment']))"
   ]
  },
  {
   "cell_type": "code",
   "execution_count": 58,
   "metadata": {},
   "outputs": [
    {
     "name": "stdout",
     "output_type": "stream",
     "text": [
      "Accuracy: 0.5006553079947575\n",
      "\n",
      "              precision    recall  f1-score   support\n",
      "\n",
      "          -1       0.46      0.65      0.54       271\n",
      "           0       0.00      0.00      0.00       261\n",
      "           1       0.54      0.89      0.67       231\n",
      "\n",
      "    accuracy                           0.50       763\n",
      "   macro avg       0.33      0.51      0.40       763\n",
      "weighted avg       0.33      0.50      0.40       763\n",
      "\n"
     ]
    },
    {
     "name": "stderr",
     "output_type": "stream",
     "text": [
      "/Users/tessanderson/anaconda3/envs/thesiswork/lib/python3.10/site-packages/sklearn/metrics/_classification.py:1469: UndefinedMetricWarning: Precision and F-score are ill-defined and being set to 0.0 in labels with no predicted samples. Use `zero_division` parameter to control this behavior.\n",
      "  _warn_prf(average, modifier, msg_start, len(result))\n",
      "/Users/tessanderson/anaconda3/envs/thesiswork/lib/python3.10/site-packages/sklearn/metrics/_classification.py:1469: UndefinedMetricWarning: Precision and F-score are ill-defined and being set to 0.0 in labels with no predicted samples. Use `zero_division` parameter to control this behavior.\n",
      "  _warn_prf(average, modifier, msg_start, len(result))\n",
      "/Users/tessanderson/anaconda3/envs/thesiswork/lib/python3.10/site-packages/sklearn/metrics/_classification.py:1469: UndefinedMetricWarning: Precision and F-score are ill-defined and being set to 0.0 in labels with no predicted samples. Use `zero_division` parameter to control this behavior.\n",
      "  _warn_prf(average, modifier, msg_start, len(result))\n"
     ]
    }
   ],
   "source": [
    "accuracy = accuracy_score(df['Label'],df['NSFlair_Sentiment'])\n",
    "\n",
    "print(\"Accuracy: {}\\n\".format(accuracy))\n",
    "\n",
    "print(classification_report(df['Label'],df['NSFlair_Sentiment']))"
   ]
  },
  {
   "cell_type": "code",
   "execution_count": 59,
   "metadata": {},
   "outputs": [
    {
     "data": {
      "text/plain": [
       "<sklearn.metrics._plot.confusion_matrix.ConfusionMatrixDisplay at 0x291a4cbb0>"
      ]
     },
     "execution_count": 59,
     "metadata": {},
     "output_type": "execute_result"
    },
    {
     "data": {
      "image/png": "[encoded data removed]",
      "text/plain": [
       "<Figure size 640x480 with 2 Axes>"
      ]
     },
     "metadata": {},
     "output_type": "display_data"
    }
   ],
   "source": [
    "from sklearn.metrics import confusion_matrix, ConfusionMatrixDisplay\n",
    "cm = confusion_matrix(df['Label'], df['Flair_Sentiment'])\n",
    "disp = ConfusionMatrixDisplay(confusion_matrix=cm)\n",
    "disp.plot()"
   ]
  },
  {
   "cell_type": "code",
   "execution_count": 60,
   "metadata": {},
   "outputs": [
    {
     "data": {
      "text/plain": [
       "<sklearn.metrics._plot.confusion_matrix.ConfusionMatrixDisplay at 0x291cd7af0>"
      ]
     },
     "execution_count": 60,
     "metadata": {},
     "output_type": "execute_result"
    },
    {
     "data": {
      "image/png": "[encoded data removed]",
      "text/plain": [
       "<Figure size 640x480 with 2 Axes>"
      ]
     },
     "metadata": {},
     "output_type": "display_data"
    }
   ],
   "source": [
    "cm = confusion_matrix(df['Label'], df['NSFlair_Sentiment'])\n",
    "disp = ConfusionMatrixDisplay(confusion_matrix=cm)\n",
    "disp.plot()"
   ]
  }
 ],
 "metadata": {
  "kernelspec": {
   "display_name": "thesiswork",
   "language": "python",
   "name": "python3"
  },
  "language_info": {
   "codemirror_mode": {
    "name": "ipython",
    "version": 3
   },
   "file_extension": ".py",
   "mimetype": "text/x-python",
   "name": "python",
   "nbconvert_exporter": "python",
   "pygments_lexer": "ipython3",
   "version": "3.10.13"
  },
  "orig_nbformat": 4
 },
 "nbformat": 4,
 "nbformat_minor": 2
}
